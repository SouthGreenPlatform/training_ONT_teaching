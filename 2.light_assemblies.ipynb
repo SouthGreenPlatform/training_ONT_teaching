{
 "cells": [
  {
   "cell_type": "markdown",
   "id": "66d4eeac",
   "metadata": {},
   "source": [
    "# <span style=\"color:#006E7F\">__Introduction to Oxford Nanopore Data Analysis__ <a class=\"anchor\"></span>  \n",
    "\n",
    "\n",
    "Created by J. Orjuela (DIADE-IRD), F. Sabot (DIADE-IRD) and G. Sarah (AGAP-INRAE) - Septembre 2021 Formation SouthGreen\n",
    "\n",
    "Adapted by J. Orjuela (DIADE-IRD), F. Sabot (DIADE-IRD) - Novembre 2022\n",
    "    \n",
    "Adapted by J. Orjuela (DIADE-IRD) - mai 2023\n"
   ]
  },
  {
   "cell_type": "markdown",
   "id": "52dd03b0",
   "metadata": {
    "tags": []
   },
   "source": [
    "# <span style=\"color:#006E7F\">__TP2 - Assembly and correction__ <a class=\"anchor\" id=\"data\"></span>  \n",
    "    \n",
    "## <span style=\"color: #4CACBC;\"> 1. Assemblies </span>  \n",
    "\n",
    "Quite contiguous genome assemblies can be generated using long sequencing read but assembly is not a quiet pace. Eukaryotic genomes assembly is a complex task (large genome size, high rate of repeated sequences, high heterozygosity level and even polyploidy). While prokaryotic genomes may appear less challenging, specific features such as circular DNA molecules, must be taken into consideration to achieve high quality assembly.\n",
    "\n",
    "* For assembly, ONT recommend sequencing a human genome to a minimum depth of 30x of 25–35 kb reads.\n",
    "However, sequencing to a depth of 60x (min 20x) is advisable to obtain the best assembly metrics. We also recommend basecalling in high accuracy/sup/Dorado mode. Greatest contig N50 is usually obtained with Shasta and Flye. Polishing/Correction is also recommended (Medaka). https://nanoporetech.com/sites/default/files/s3/literature/human-genome-assembly-workflow.pdf\n",
    "\n",
    "\n",
    "* Long reads simplify genome assembly, with the ability to span repeat-rich sequences (characteristic of  antimicrobial resistance genes) and structural variants. Nanopore sequencing also shows a lack of bias in GC-rich regions, in contrast to other sequencing platforms. To perform microbial genome assembly, we suggest using the third-party *de novo* assembly tool Flye. We also recommend one round of polishing with Medaka. https://nanoporetech.com/sites/default/files/s3/literature/microbial-genome-assembly-workflow.pdf "
   ]
  },
  {
   "cell_type": "markdown",
   "id": "0a74882e",
   "metadata": {},
   "source": [
    "Flye  https://github.com/fenderglass/Flye \n",
    "\n",
    "Canu  https://canu.readthedocs.io/en/latest/quick-start.html\n",
    "\n",
    "Miniasm  https://github.com/lh3/miniasm + Minipolish version https://github.com/rrwick/Minipolish\n",
    "\n",
    "Shasta  https://github.com/chanzuckerberg/shasta\n",
    "\n",
    "Smartdenovo  https://github.com/ruanjue/smartdenovo\n",
    "\n",
    "Raven  https://github.com/lbcb-sci/raven"
   ]
  },
  {
   "cell_type": "markdown",
   "id": "c83a6eac",
   "metadata": {},
   "source": [
    "### <span style=\"color: #4CACBD;\"> 1.1 Assembly using Flye </span>"
   ]
  },
  {
   "cell_type": "markdown",
   "id": "2415c263",
   "metadata": {},
   "source": [
    "We are going to assembly the three algae samples using Flye https://github.com/fenderglass/Flye\n",
    "\n",
    "Flye generates the concatenation of multiple disjoint genomic segments called disjointigs to build a repeat graph. Reads are mapped to this repeat graph to resolve conflicts (unbridged repeats) and output contigs."
   ]
  },
  {
   "cell_type": "code",
   "execution_count": null,
   "id": "af681d7a",
   "metadata": {},
   "outputs": [],
   "source": [
    "# create a repertory for save flye assembly results\n",
    "mkdir -p ~/work/RESULTS/4222_FLYE\n",
    "cd ~/work/RESULTS/\n",
    "pwd"
   ]
  },
  {
   "cell_type": "code",
   "execution_count": null,
   "id": "b7f1b857",
   "metadata": {
    "tags": []
   },
   "outputs": [],
   "source": [
    "# Run flye with genome size of about 15Mb\n",
    "time flye --nano-hq ~/work/DATA/ONT/4222_RB2.fastq.gz --genome-size 15000000 --out-dir 4222_FLYE --threads 8"
   ]
  },
  {
   "cell_type": "markdown",
   "id": "102de26b",
   "metadata": {
    "tags": []
   },
   "source": [
    "### How many contigs were obtained by Flye ? \n",
    "\n",
    "### What do you think about N50 and lenght contig mean."
   ]
  },
  {
   "cell_type": "markdown",
   "id": "402a7fd9-327e-48ae-b479-07f08953ff73",
   "metadata": {},
   "source": [
    "## <span style=\"color: #4CACBC;\"> 2. Assemblies correction with Medaka </span>  \n",
    "\n",
    "Correction can improve the consensus sequence for a draft genome assembly.\n",
    "\n",
    "Medaka uses fast5 files to correct contigs using trained models. These models are freely available.\n",
    "\n",
    "Medaka allows you to train a model by using fast5 from your favorite species. You can use it directly to obtain a consensus from you favorite organism."
   ]
  },
  {
   "cell_type": "markdown",
   "id": "71ce5016-7668-4ba5-9e88-813ebf9d302f",
   "metadata": {},
   "source": [
    "### <span style=\"color: #4CACBC;\"> 2.3 Correct assemblies with Medaka </span>  \n",
    "\n",
    "We will use medaka to correct assemblies from FLYE\n"
   ]
  },
  {
   "cell_type": "markdown",
   "id": "617d9cdf-3de6-423a-9782-1e815df0fc9f",
   "metadata": {},
   "source": [
    "### <span style=\"color: #4CACBC;\"> 2.3.1 Before to correct assemblies, index them </span>  "
   ]
  },
  {
   "cell_type": "markdown",
   "id": "409234ce-e48c-4b45-87df-9cda4ef6c2c3",
   "metadata": {},
   "source": [
    "### Index and map reads on raw flye assembly"
   ]
  },
  {
   "cell_type": "code",
   "execution_count": null,
   "id": "c053d87b-0a5a-47a3-a055-b4a4b92b1fdc",
   "metadata": {},
   "outputs": [],
   "source": [
    "cd ~/work/RESULTS/4222_FLYE\n",
    "pwd"
   ]
  },
  {
   "cell_type": "code",
   "execution_count": null,
   "id": "df5fa069-922f-434c-a0a2-f46f61becde2",
   "metadata": {},
   "outputs": [],
   "source": [
    "time samtools faidx assembly.fasta \n",
    "time minimap2 -d assembly.fasta.mmi assembly.fasta"
   ]
  },
  {
   "cell_type": "code",
   "execution_count": null,
   "id": "1c995027-0430-45c8-9170-94e07d8ddc32",
   "metadata": {},
   "outputs": [],
   "source": [
    "whereis samtools"
   ]
  },
  {
   "cell_type": "markdown",
   "id": "7ca09c9f-39cf-42e3-a933-3f909d7693a1",
   "metadata": {},
   "source": [
    "### Create a medaka repertory to save medaka results from FLYE analysis\n"
   ]
  },
  {
   "cell_type": "code",
   "execution_count": null,
   "id": "7d33060f-030f-4cba-874c-b9d9b2f01051",
   "metadata": {},
   "outputs": [],
   "source": [
    "mkdir -p ~/work/RESULTS/4222_FLYE_MEDAKA"
   ]
  },
  {
   "cell_type": "markdown",
   "id": "c205aa66-2d44-4c73-9fd2-ddb1f452451a",
   "metadata": {},
   "source": [
    "### <span style=\"color: #4CACBC;\"> 2.3.2 Medaka_consensus </span>  \n"
   ]
  },
  {
   "cell_type": "markdown",
   "id": "2754c0da-dfdd-4fd3-86d4-e76917e44983",
   "metadata": {},
   "source": [
    "Medaka is a tool to create a consensus sequence from nanopore sequencing data. \n",
    "\n",
    "This task is performed by using neural networks applied to a pileup of individual sequencing reads against a draft assembly.\n",
    "\n",
    "It outperforms graph-based methods operating on basecalled data, and can be competitive with state-of-the-art signal-based methods whilst being much faster.\n",
    "\n",
    "As input medaka accepts reads in either a .fasta or a .fastq file. It requires a draft assembly as a .fasta.\n",
    "\n",
    "### Check the usage of medaka_consensus"
   ]
  },
  {
   "cell_type": "code",
   "execution_count": null,
   "id": "33f0824a-d09f-46ab-a0b7-7c7020ddfb1c",
   "metadata": {},
   "outputs": [],
   "source": [
    "medaka_consensus"
   ]
  },
  {
   "cell_type": "markdown",
   "id": "76697fb5-f7cb-4c9d-a4a3-d40faf783dc8",
   "metadata": {},
   "source": [
    "### Check the medaka model to use\n",
    "\n",
    "Medaka models are named to indicate i) the pore type, ii) the sequencing device (MinION or PromethION), iii) the basecaller variant, and  iv) the basecaller version\n",
    "\n",
    "{pore}_{device}_{caller variant}_{caller version}\n",
    "\n",
    "examples: \n",
    "\n",
    "r941_min_fast_g303 : MiniON R9.4.1 flowcells using the fast Guppy basecaller version 3.0.3. \n"
   ]
  },
  {
   "cell_type": "code",
   "execution_count": null,
   "id": "6d21303f-db57-47b9-a8cc-a4d62b1de1e9",
   "metadata": {},
   "outputs": [],
   "source": [
    "medaka tools list_models"
   ]
  },
  {
   "cell_type": "markdown",
   "id": "9701d320-2cb6-46a5-8922-cc4234352aae",
   "metadata": {
    "tags": []
   },
   "source": [
    "### Medaka in FLYE ASSEMBLY\n",
    "\n",
    "We run medaka on the FLYE assembly."
   ]
  },
  {
   "cell_type": "code",
   "execution_count": null,
   "id": "5a81fe37-d66f-4f2e-9851-7a20546443b1",
   "metadata": {},
   "outputs": [],
   "source": [
    "# go to medaka repertory results\n",
    "cd ~/work/RESULTS/4222_FLYE_MEDAKA"
   ]
  },
  {
   "cell_type": "code",
   "execution_count": null,
   "id": "2e2c9a7c-a9ee-49fa-b308-9b61fcb9a814",
   "metadata": {
    "tags": []
   },
   "outputs": [],
   "source": [
    "time medaka_consensus -i ~/work/DATA/ONT/4222_RB2.fastq.gz -d ~/work/RESULTS/4222_FLYE/assembly.fasta -o MEDAKA_CONSENSUS -t 8"
   ]
  },
  {
   "cell_type": "markdown",
   "id": "93917318-11f2-4ebd-a24f-608ccf77d099",
   "metadata": {},
   "source": [
    "### <span style=\"color: #4CACBC;\"> Conclusion </span>  \n"
   ]
  },
  {
   "cell_type": "markdown",
   "id": "a11e5862-2041-43f6-b9d0-3281cca1643e",
   "metadata": {},
   "source": [
    "1. Here, we have build a genome sequence from an algae by using Flye.\n",
    "\n",
    "2. We have corrected the raw flye assembly with medaka models."
   ]
  },
  {
   "cell_type": "markdown",
   "id": "fcfab1b2-0577-459a-8ecc-5e6799a9e090",
   "metadata": {},
   "source": [
    "Genome size of reference and assembly obtained by Flye is really different? why ?\n",
    "\n",
    "* you can try to compare both using Dgenies https://dgenies.toulouse.inra.fr/\n",
    "\n",
    "What do you observe? \n"
   ]
  },
  {
   "cell_type": "markdown",
   "id": "8cbf7520-9e79-495c-9fed-4e02caa326eb",
   "metadata": {},
   "source": [
    "### Now ...\n",
    "\n",
    "You can do similar pipeline using the RAVEN assembler in the 4222 algae sample.\n",
    "\n",
    "You can do similar protocol with the B8 and G11 samples.\n",
    "\n",
    "We will compare the results in next practical \"Quality Assemblies\". "
   ]
  },
  {
   "cell_type": "code",
   "execution_count": null,
   "id": "bba598fe-cda2-46f7-b664-727fb21175f7",
   "metadata": {},
   "outputs": [],
   "source": []
  },
  {
   "cell_type": "code",
   "execution_count": null,
   "id": "09176b28-03f5-4f6c-862c-e7f2c079ef78",
   "metadata": {},
   "outputs": [],
   "source": []
  }
 ],
 "metadata": {
  "kernelspec": {
   "display_name": "Bash",
   "language": "bash",
   "name": "bash"
  },
  "language_info": {
   "codemirror_mode": "shell",
   "file_extension": ".sh",
   "mimetype": "text/x-sh",
   "name": "bash"
  }
 },
 "nbformat": 4,
 "nbformat_minor": 5
}
