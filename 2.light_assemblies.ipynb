{
 "cells": [
  {
   "cell_type": "markdown",
   "id": "66d4eeac",
   "metadata": {},
   "source": [
    "# <span style=\"color:#006E7F\">__Introduction to Oxford Nanopore Data Analysis__ <a class=\"anchor\"></span>  \n",
    "\n",
    "\n",
    "Created by J. Orjuela (DIADE-IRD), F. Sabot (DIADE-IRD) and G. Sarah (AGAP-INRAE) - Septembre 2021 Formation SouthGreen\n",
    "\n",
    "Adapted by J. Orjuela (DIADE-IRD), F. Sabot (DIADE-IRD) - Novembre 2022\n",
    "    \n",
    "Adapted by J. Orjuela (DIADE-IRD) - mai 2023\n"
   ]
  },
  {
   "cell_type": "markdown",
   "id": "52dd03b0",
   "metadata": {
    "tags": []
   },
   "source": [
    "# <span style=\"color:#006E7F\">__TP2 - Assembly and correction__ <a class=\"anchor\" id=\"data\"></span>  \n",
    "    \n",
    "## <span style=\"color: #4CACBC;\"> 1. Assemblies </span>  \n",
    "\n",
    "More contiguous genome assemblies can be generated using long sequencing read but assembly is not a quiet pace. Eukaryotic genomes assembly is a complex task (large genome sizes, high rates of repeated sequences, high heterozygosity levels and even polyploidy). While prokaryotic genomes may appear less challenging, specific features such as circular DNA molecules, must be taken into consideration to achieve high quality assembly.\n",
    "\n",
    "* For assembly, ONT recommend sequencing a human genome to a minimum depth of 30x of 25–35 kb reads.\n",
    "However, sequencing to a depth of 60x is advisable to obtain the best assembly metrics. We also recommend basecalling in high accuracy mode. Greatest contig N50 is usually obtained with Shasta and Flye. Polishing/Correction is also recommended (Racon and Medaka). https://nanoporetech.com/sites/default/files/s3/literature/human-genome-assembly-workflow.pdf\n",
    "\n",
    "\n",
    "* Long reads simplify genome assembly, with the ability to span repeat-rich sequences (characteristic of  antimicrobial resistance genes) and structural variants. Nanopore sequencing also shows a lack of\n",
    "bias in GC-rich regions, in contrast to other sequencing platforms. To perform microbial genome assembly, we suggest using the third-party de novo assembly tool Flye. We also recommend one round of polishing with Medaka. https://nanoporetech.com/sites/default/files/s3/literature/microbial-genome-assembly-workflow.pdf "
   ]
  },
  {
   "cell_type": "markdown",
   "id": "0a74882e",
   "metadata": {},
   "source": [
    "Flye  https://github.com/fenderglass/Flye \n",
    "\n",
    "Canu  https://canu.readthedocs.io/en/latest/quick-start.html\n",
    "\n",
    "Miniasm  https://github.com/lh3/miniasm + Minipolish version https://github.com/rrwick/Minipolish\n",
    "\n",
    "Shasta  https://github.com/chanzuckerberg/shasta\n",
    "\n",
    "Smartdenovo  https://github.com/ruanjue/smartdenovo\n",
    "\n",
    "Raven  https://github.com/lbcb-sci/raven"
   ]
  },
  {
   "cell_type": "markdown",
   "id": "c83a6eac",
   "metadata": {},
   "source": [
    "### <span style=\"color: #4CACBD;\"> 1.1 Assembly using Flye </span>"
   ]
  },
  {
   "cell_type": "markdown",
   "id": "2415c263",
   "metadata": {},
   "source": [
    "We are going to assembly some Clones by using Flye https://github.com/fenderglass/Flye\n",
    "\n",
    "Flye generates the concatenation of multiple disjoint genomic segments called disjointigs to build a repeat graph. Reads are mapped to this repeat graph to resolve conflicts (unbridged repeats) and output contigs."
   ]
  },
  {
   "cell_type": "code",
   "execution_count": 1,
   "id": "af681d7a",
   "metadata": {},
   "outputs": [
    {
     "name": "stdout",
     "output_type": "stream",
     "text": [
      "/home/jovyan/work/RESULTS\n"
     ]
    }
   ],
   "source": [
    "# create a repertory for save flye assembly results\n",
    "mkdir -p ~/work/RESULTS/FLYE\n",
    "cd ~/work/RESULTS/\n",
    "pwd"
   ]
  },
  {
   "cell_type": "code",
   "execution_count": 2,
   "id": "b7f1b857",
   "metadata": {
    "tags": []
   },
   "outputs": [
    {
     "name": "stdout",
     "output_type": "stream",
     "text": [
      "[2023-05-18 14:59:14] INFO: Starting Flye 2.9.1-b1780\n",
      "[2023-05-18 14:59:14] INFO: >>>STAGE: configure\n",
      "[2023-05-18 14:59:14] INFO: Configuring run\n",
      "[2023-05-18 14:59:32] INFO: Total read length: 746791553\n",
      "[2023-05-18 14:59:32] INFO: Input genome size: 15000000\n",
      "[2023-05-18 14:59:32] INFO: Estimated coverage: 49\n",
      "[2023-05-18 14:59:32] INFO: Reads N50/N90: 20829 / 6197\n",
      "[2023-05-18 14:59:32] INFO: Minimum overlap set to 6000\n",
      "[2023-05-18 14:59:32] INFO: >>>STAGE: assembly\n",
      "[2023-05-18 14:59:32] INFO: Assembling disjointigs\n",
      "[2023-05-18 14:59:32] INFO: Reading sequences\n",
      "[2023-05-18 14:59:51] INFO: Counting k-mers:\n",
      "0% 10% 20% 30% 40% 50% 60% 70% 80% 90% 100% \n",
      "[2023-05-18 15:01:31] INFO: Filling index table (1/2)\n",
      "0% 10% 20% 30% 40% 50% 60% 70% 80% 90% 100% \n",
      "[2023-05-18 15:02:58] INFO: Filling index table (2/2)\n",
      "0% 10% 20% 30% 40% 50% 60% 70% 80% 90% 100% \n",
      "[2023-05-18 15:04:42] INFO: Extending reads\n",
      "[2023-05-18 15:06:38] INFO: Overlap-based coverage: 33\n",
      "[2023-05-18 15:06:38] INFO: Median overlap divergence: 0.0682611\n",
      "0% 10% 30% 40% 70% 80% 90% 100% \n",
      "[2023-05-18 15:09:40] INFO: Assembled 29 disjointigs\n",
      "[2023-05-18 15:09:40] INFO: Generating sequence\n",
      "0% 10% 20% 30% 40% 50% 60% 70% 80% 90% 100% \n",
      "[2023-05-18 15:09:54] INFO: Filtering contained disjointigs\n",
      "0% 10% 20% 30% 40% 50% 60% 70% 80% 90% 100% \n",
      "[2023-05-18 15:09:59] INFO: Contained seqs: 0\n",
      "[2023-05-18 15:10:00] INFO: >>>STAGE: consensus\n",
      "[2023-05-18 15:10:00] INFO: Running Minimap2\n",
      "[2023-05-18 15:15:41] INFO: Computing consensus\n",
      "[2023-05-18 15:18:35] INFO: Alignment error rate: 0.103695\n",
      "[2023-05-18 15:18:35] INFO: >>>STAGE: repeat\n",
      "[2023-05-18 15:18:35] INFO: Building and resolving repeat graph\n",
      "[2023-05-18 15:18:35] INFO: Parsing disjointigs\n",
      "[2023-05-18 15:18:35] INFO: Building repeat graph\n",
      "0% 10% 20% 30% 40% 50% 60% 70% 80% 90% 100% \n",
      "[2023-05-18 15:18:50] INFO: Median overlap divergence: 0.0050414\n",
      "[2023-05-18 15:18:51] INFO: Parsing reads\n",
      "[2023-05-18 15:19:08] INFO: Aligning reads to the graph\n",
      "0% 10% 20% 30% 40% 50% 60% 70% 80% 90% 100% \n",
      "[2023-05-18 15:23:48] INFO: Aligned read sequence: 648031234 / 675674609 (0.959088)\n",
      "[2023-05-18 15:23:48] INFO: Median overlap divergence: 0.0250185\n",
      "[2023-05-18 15:23:49] INFO: Mean edge coverage: 28\n",
      "[2023-05-18 15:23:49] INFO: Simplifying the graph\n",
      "[2023-05-18 15:23:49] INFO: >>>STAGE: contigger\n",
      "[2023-05-18 15:23:49] INFO: Generating contigs\n",
      "[2023-05-18 15:23:49] INFO: Reading sequences\n",
      "[2023-05-18 15:23:57] INFO: Generated 33 contigs\n",
      "[2023-05-18 15:23:57] INFO: Added 1 scaffold connections\n",
      "[2023-05-18 15:23:57] INFO: >>>STAGE: polishing\n",
      "[2023-05-18 15:23:57] INFO: Polishing genome (1/1)\n",
      "[2023-05-18 15:23:57] INFO: Running minimap2\n",
      "[2023-05-18 15:25:22] INFO: Separating alignment into bubbles\n",
      "[2023-05-18 15:27:36] INFO: Alignment error rate: 0.062859\n",
      "[2023-05-18 15:27:36] INFO: Correcting bubbles\n",
      "0% 10% 20% 30% 40% 50% 60% 70% 80% 90% 100% \n",
      "[2023-05-18 15:29:42] INFO: >>>STAGE: finalize\n",
      "[2023-05-18 15:29:43] INFO: Assembly statistics:\n",
      "\n",
      "\tTotal length:\t22656985\n",
      "\tFragments:\t33\n",
      "\tFragments N50:\t1016588\n",
      "\tLargest frg:\t4542490\n",
      "\tScaffolds:\t0\n",
      "\tMean coverage:\t31\n",
      "\n",
      "[2023-05-18 15:29:43] INFO: Final assembly: /home/jovyan/work/RESULTS/FLYE/assembly.fasta\n",
      "\n",
      "real\t30m28.878s\n",
      "user\t185m41.183s\n",
      "sys\t0m59.676s\n"
     ]
    }
   ],
   "source": [
    "# Run flye 15Mb\n",
    "time flye --nano-raw ~/work/DATA/4222_RB2.fastq.gz --genome-size 15000000 --out-dir FLYE --threads 8"
   ]
  },
  {
   "cell_type": "markdown",
   "id": "102de26b",
   "metadata": {
    "jp-MarkdownHeadingCollapsed": true,
    "tags": []
   },
   "source": [
    "### How many contigs were obtained by Flye ? \n",
    "\n",
    "### What do you think about N50 and lenght contig mean."
   ]
  },
  {
   "cell_type": "markdown",
   "id": "52d0546b",
   "metadata": {},
   "source": [
    "## <span style=\"color: #4CACBC;\"> 2. Polishing assemblies with Racon </span>  \n",
    "\n",
    "Racon corrects raw contigs generated by rapid assembly methods with original ONT reads.\n",
    "\n",
    "From 2 to 4 racon rounds are usually used by the community. \n",
    "\n",
    "Polish contigs assembled by Flye using two rounds of racon !."
   ]
  },
  {
   "cell_type": "code",
   "execution_count": 4,
   "id": "6c61ba46",
   "metadata": {
    "tags": []
   },
   "outputs": [
    {
     "name": "stdout",
     "output_type": "stream",
     "text": [
      "[racon::] error: missing input file(s)!\n",
      "usage: racon [options ...] <sequences> <overlaps> <target sequences>\n",
      "\n",
      "    #default output is stdout\n",
      "    <sequences>\n",
      "        input file in FASTA/FASTQ format (can be compressed with gzip)\n",
      "        containing sequences used for correction\n",
      "    <overlaps>\n",
      "        input file in MHAP/PAF/SAM format (can be compressed with gzip)\n",
      "        containing overlaps between sequences and target sequences\n",
      "    <target sequences>\n",
      "        input file in FASTA/FASTQ format (can be compressed with gzip)\n",
      "        containing sequences which will be corrected\n",
      "\n",
      "    options:\n",
      "        -u, --include-unpolished\n",
      "            output unpolished target sequences\n",
      "        -f, --fragment-correction\n",
      "            perform fragment correction instead of contig polishing\n",
      "            (overlaps file should contain dual/self overlaps!)\n",
      "        -w, --window-length <int>\n",
      "            default: 500\n",
      "            size of window on which POA is performed\n",
      "        -q, --quality-threshold <float>\n",
      "            default: 10.0\n",
      "            threshold for average base quality of windows used in POA\n",
      "        -e, --error-threshold <float>\n",
      "            default: 0.3\n",
      "            maximum allowed error rate used for filtering overlaps\n",
      "        --no-trimming\n",
      "            disables consensus trimming at window ends\n",
      "        -m, --match <int>\n",
      "            default: 3\n",
      "            score for matching bases\n",
      "        -x, --mismatch <int>\n",
      "            default: -5\n",
      "            score for mismatching bases\n",
      "        -g, --gap <int>\n",
      "            default: -4\n",
      "            gap penalty (must be negative)\n",
      "        -t, --threads <int>\n",
      "            default: 1\n",
      "            number of threads\n",
      "        --version\n",
      "            prints the version number\n",
      "        -h, --help\n",
      "            prints the usage\n"
     ]
    },
    {
     "ename": "",
     "evalue": "1",
     "output_type": "error",
     "traceback": []
    }
   ],
   "source": [
    "racon"
   ]
  },
  {
   "cell_type": "markdown",
   "id": "ae79d00b-57be-4e57-8d4c-137f448a4afb",
   "metadata": {},
   "source": [
    "## Racon first round"
   ]
  },
  {
   "cell_type": "code",
   "execution_count": 5,
   "id": "7697cc22-1790-45e2-8680-ae1aebfb7cf9",
   "metadata": {},
   "outputs": [],
   "source": [
    "mkdir -p ~/work/RESULTS/FLYE_RACON\n",
    "cd ~/work/RESULTS/FLYE_RACON"
   ]
  },
  {
   "cell_type": "code",
   "execution_count": 6,
   "id": "d55abf52-11e0-438a-82f0-440ab56ee5c6",
   "metadata": {
    "tags": []
   },
   "outputs": [
    {
     "name": "stdout",
     "output_type": "stream",
     "text": [
      "[M::mm_idx_gen::0.424*1.01] collected minimizers\n",
      "[M::mm_idx_gen::0.474*1.68] sorted minimizers\n",
      "[M::main::0.474*1.68] loaded/built the index for 33 target sequence(s)\n",
      "[M::mm_mapopt_update::0.577*1.55] mid_occ = 21\n",
      "[M::mm_idx_stat] kmer size: 15; skip: 10; is_hpc: 0; #seq: 33\n",
      "[M::mm_idx_stat::0.616*1.52] distinct minimizers: 3858964 (94.03% are singletons); average occurrences: 1.101; average spacing: 5.331\n",
      "[M::worker_pipeline::9.486*4.02] mapped 42406 sequences\n",
      "[M::worker_pipeline::11.132*4.57] mapped 20357 sequences\n",
      "[M::main] Version: 2.17-r941\n",
      "[M::main] CMD: minimap2 -t 8 ../FLYE/assembly.fasta /home/jovyan/work/DATA/4222_RB2.fastq.gz\n",
      "[M::main] Real time: 11.161 sec; CPU: 50.932 sec; Peak RSS: 0.879 GB\n",
      "\n",
      "real\t0m11.191s\n",
      "user\t0m50.323s\n",
      "sys\t0m0.633s\n",
      "[racon::Polisher::initialize] loaded target sequences 0.163065 s\n",
      "[racon::Polisher::initialize] loaded sequences 8.077494 s\n",
      "[racon::Polisher::initialize] loaded overlaps 0.089194 s\n",
      "[racon::Polisher::initialize] aligning overlaps [====================] 55.476713 s\n",
      "[racon::Polisher::initialize] transformed data into windows 0.724398 s\n",
      "[racon::Polisher::polish] generating consensus [====================] 104.981970 s\n",
      "[racon::Polisher::] total = 169.580024 s\n",
      "\n",
      "real\t2m49.686s\n",
      "user\t21m30.295s\n",
      "sys\t0m1.164s\n"
     ]
    }
   ],
   "source": [
    "time minimap2 -t 8 ../FLYE/assembly.fasta  ~/work/DATA/4222_RB2.fastq.gz 1> assembly.minimap4racon1.paf\n",
    "time racon -t 8 ~/work/DATA/4222_RB2.fastq.gz assembly.minimap4racon1.paf ../FLYE/assembly.fasta > assembly.racon1.fasta"
   ]
  },
  {
   "cell_type": "markdown",
   "id": "4b75b00d-4a7c-41e3-9472-69e3eef402df",
   "metadata": {},
   "source": [
    "## Racon second round"
   ]
  },
  {
   "cell_type": "code",
   "execution_count": 7,
   "id": "3c9fa57c-a4a3-4be5-a3c2-bf99524917a3",
   "metadata": {},
   "outputs": [
    {
     "name": "stdout",
     "output_type": "stream",
     "text": [
      "[M::mm_idx_gen::0.449*1.00] collected minimizers\n",
      "[M::mm_idx_gen::0.494*1.60] sorted minimizers\n",
      "[M::main::0.494*1.60] loaded/built the index for 33 target sequence(s)\n",
      "[M::mm_mapopt_update::0.580*1.51] mid_occ = 21\n",
      "[M::mm_idx_stat] kmer size: 15; skip: 10; is_hpc: 0; #seq: 33\n",
      "[M::mm_idx_stat::0.621*1.48] distinct minimizers: 3855426 (94.01% are singletons); average occurrences: 1.104; average spacing: 5.323\n",
      "[M::worker_pipeline::12.020*5.06] mapped 42406 sequences\n",
      "[M::worker_pipeline::14.756*5.58] mapped 20357 sequences\n",
      "[M::main] Version: 2.17-r941\n",
      "[M::main] CMD: minimap2 -t 8 assembly.racon1.fasta /home/jovyan/work/DATA/4222_RB2.fastq.gz\n",
      "[M::main] Real time: 14.804 sec; CPU: 82.443 sec; Peak RSS: 0.963 GB\n",
      "\n",
      "real\t0m14.836s\n",
      "user\t1m21.783s\n",
      "sys\t0m0.690s\n",
      "[racon::Polisher::initialize] loaded target sequences 0.151780 s\n",
      "[racon::Polisher::initialize] loaded sequences 8.508921 s\n",
      "[racon::Polisher::initialize] loaded overlaps 0.090673 s\n",
      "[racon::Polisher::initialize] aligning overlaps [====================] 62.700071 s\n",
      "[racon::Polisher::initialize] transformed data into windows 0.651758 s\n",
      "[racon::Polisher::polish] generating consensus [====================] 103.880199 s\n",
      "[racon::Polisher::] total = 176.049727 s\n",
      "\n",
      "real\t2m56.120s\n",
      "user\t22m18.722s\n",
      "sys\t0m1.188s\n"
     ]
    }
   ],
   "source": [
    "# second round\n",
    "cd ~/work/RESULTS/FLYE_RACON\n",
    "time minimap2 -t 8 assembly.racon1.fasta ~/work/DATA/4222_RB2.fastq.gz 1> assembly.minimap4racon2.paf\n",
    "time racon -t 8 ~/work/DATA/4222_RB2.fastq.gz assembly.minimap4racon2.paf assembly.racon1.fasta > assembly.racon2.fasta"
   ]
  },
  {
   "cell_type": "markdown",
   "id": "402a7fd9-327e-48ae-b479-07f08953ff73",
   "metadata": {},
   "source": [
    "## <span style=\"color: #4CACBC;\"> 3. Assemblies correction with Medaka </span>  \n",
    "\n",
    "Correction can improve the consensus sequence for a draft genome assembly.\n",
    "\n",
    "Medaka uses fast5 files to correct contigs using trained models. These models are freely available.\n",
    "\n",
    "Medaka allows you to train a model by using fast5 from your favorite species. You can use it directly to obtain a consensus from you favorite organism."
   ]
  },
  {
   "cell_type": "markdown",
   "id": "71ce5016-7668-4ba5-9e88-813ebf9d302f",
   "metadata": {},
   "source": [
    "### <span style=\"color: #4CACBC;\"> 1.3 Correct assemblies with Medaka </span>  \n",
    "\n",
    "We will use medaka to correct assemblies from FLYE and FLYE+RACON analysis.\n"
   ]
  },
  {
   "cell_type": "markdown",
   "id": "617d9cdf-3de6-423a-9782-1e815df0fc9f",
   "metadata": {},
   "source": [
    "### <span style=\"color: #4CACBC;\"> 1.3.1 Before to correct assemblies, index them </span>  "
   ]
  },
  {
   "cell_type": "markdown",
   "id": "409234ce-e48c-4b45-87df-9cda4ef6c2c3",
   "metadata": {},
   "source": [
    "index raw flye assembly"
   ]
  },
  {
   "cell_type": "code",
   "execution_count": 8,
   "id": "c053d87b-0a5a-47a3-a055-b4a4b92b1fdc",
   "metadata": {},
   "outputs": [
    {
     "name": "stdout",
     "output_type": "stream",
     "text": [
      "/home/jovyan/work/RESULTS/FLYE\n"
     ]
    }
   ],
   "source": [
    "cd ~/work/RESULTS/FLYE\n",
    "pwd"
   ]
  },
  {
   "cell_type": "code",
   "execution_count": 9,
   "id": "df5fa069-922f-434c-a0a2-f46f61becde2",
   "metadata": {},
   "outputs": [
    {
     "name": "stdout",
     "output_type": "stream",
     "text": [
      "\n",
      "real\t0m0.144s\n",
      "user\t0m0.115s\n",
      "sys\t0m0.009s\n",
      "[M::mm_idx_gen::0.423*1.00] collected minimizers\n",
      "[M::mm_idx_gen::0.595*1.58] sorted minimizers\n",
      "[M::main::0.721*1.48] loaded/built the index for 33 target sequence(s)\n",
      "[M::mm_idx_stat] kmer size: 15; skip: 10; is_hpc: 0; #seq: 33\n",
      "[M::mm_idx_stat::0.753*1.46] distinct minimizers: 3858964 (94.03% are singletons); average occurrences: 1.101; average spacing: 5.331\n",
      "[M::main] Version: 2.17-r941\n",
      "[M::main] CMD: minimap2 -d assembly.fasta.mmi assembly.fasta\n",
      "[M::main] Real time: 0.759 sec; CPU: 1.103 sec; Peak RSS: 0.217 GB\n",
      "\n",
      "real\t0m0.769s\n",
      "user\t0m0.927s\n",
      "sys\t0m0.185s\n"
     ]
    }
   ],
   "source": [
    "time samtools faidx assembly.fasta \n",
    "time minimap2 -d assembly.fasta.mmi assembly.fasta"
   ]
  },
  {
   "cell_type": "markdown",
   "id": "3cb56a64-2f47-4269-9e19-1611b128c441",
   "metadata": {},
   "source": [
    "index polished assembly"
   ]
  },
  {
   "cell_type": "code",
   "execution_count": 10,
   "id": "cdf5342e-eed2-4db4-a9da-1149e131dd66",
   "metadata": {},
   "outputs": [
    {
     "name": "stdout",
     "output_type": "stream",
     "text": [
      "/home/jovyan/work/RESULTS/FLYE_RACON\n"
     ]
    }
   ],
   "source": [
    "cd ~/work/RESULTS/FLYE_RACON\n",
    "pwd"
   ]
  },
  {
   "cell_type": "code",
   "execution_count": 11,
   "id": "678b7d22-7a81-4103-9625-fd886c49a02d",
   "metadata": {},
   "outputs": [
    {
     "name": "stdout",
     "output_type": "stream",
     "text": [
      "\n",
      "real\t0m0.114s\n",
      "user\t0m0.090s\n",
      "sys\t0m0.017s\n",
      "[M::mm_idx_gen::0.433*1.00] collected minimizers\n",
      "[M::mm_idx_gen::0.611*1.58] sorted minimizers\n",
      "[M::main::0.790*1.45] loaded/built the index for 33 target sequence(s)\n",
      "[M::mm_idx_stat] kmer size: 15; skip: 10; is_hpc: 0; #seq: 33\n",
      "[M::mm_idx_stat::0.828*1.43] distinct minimizers: 3855804 (94.02% are singletons); average occurrences: 1.103; average spacing: 5.325\n",
      "[M::main] Version: 2.17-r941\n",
      "[M::main] CMD: minimap2 -d assembly.racon2.fasta.mmi assembly.racon2.fasta\n",
      "[M::main] Real time: 0.836 sec; CPU: 1.191 sec; Peak RSS: 0.216 GB\n",
      "\n",
      "real\t0m0.845s\n",
      "user\t0m1.019s\n",
      "sys\t0m0.180s\n"
     ]
    }
   ],
   "source": [
    "time samtools faidx assembly.racon2.fasta \n",
    "time minimap2 -d assembly.racon2.fasta.mmi assembly.racon2.fasta"
   ]
  },
  {
   "cell_type": "code",
   "execution_count": 12,
   "id": "7d33060f-030f-4cba-874c-b9d9b2f01051",
   "metadata": {},
   "outputs": [],
   "source": [
    "#create a medaka repertory to stock medaka results from FLYE and FLYE-RACON2 analysis\n",
    "mkdir -p ~/work/RESULTS/FLYE_MEDAKA\n",
    "mkdir -p ~/work/RESULTS/FLYE_RACON_MEDAKA"
   ]
  },
  {
   "cell_type": "markdown",
   "id": "c205aa66-2d44-4c73-9fd2-ddb1f452451a",
   "metadata": {},
   "source": [
    "### <span style=\"color: #4CACBC;\"> 1.3.2 Medaka_consensus </span>  \n"
   ]
  },
  {
   "cell_type": "markdown",
   "id": "2754c0da-dfdd-4fd3-86d4-e76917e44983",
   "metadata": {},
   "source": [
    "Medaka is a tool to create a consensus sequence from nanopore sequencing data. \n",
    "\n",
    "This task is performed by using neural networks applied to a pileup of individual sequencing reads against a draft assembly.\n",
    "\n",
    "It outperforms graph-based methods operating on basecalled data, and can be competitive with state-of-the-art signal-based methods whilst being much faster.\n",
    "\n",
    "As input medaka accepts reads in either a .fasta or a .fastq file. It requires a draft assembly as a .fasta.\n",
    "\n",
    "### Check the usage of medaka_consensus"
   ]
  },
  {
   "cell_type": "code",
   "execution_count": 13,
   "id": "33f0824a-d09f-46ab-a0b7-7c7020ddfb1c",
   "metadata": {},
   "outputs": [
    {
     "name": "stdout",
     "output_type": "stream",
     "text": [
      "\n",
      "medaka 1.7.2\n",
      "------------\n",
      "\n",
      "Assembly polishing via neural networks. Medaka is optimized\n",
      "to work with the Flye assembler.\n",
      "\n",
      "medaka_consensus [-h] -i <fastx> -d <fasta>\n",
      "\n",
      "    -h  show this help text.\n",
      "    -i  fastx input basecalls (required).\n",
      "    -d  fasta input assembly (required).\n",
      "    -o  output folder (default: medaka).\n",
      "    -g  don't fill gaps in consensus with draft sequence.\n",
      "    -r  use gap-filling character instead of draft sequence (default: None)\n",
      "    -m  medaka model, (default: r941_min_hac_g507).\n",
      "        Choices: r103_fast_g507 r103_hac_g507 r103_min_high_g345 r103_min_high_g360 r103_prom_high_g360 r103_sup_g507 r1041_e82_260bps_fast_g632 r1041_e82_260bps_hac_g632 r1041_e82_260bps_sup_g632 r1041_e82_400bps_fast_g615 r1041_e82_400bps_fast_g632 r1041_e82_400bps_hac_g615 r1041_e82_400bps_hac_g632 r1041_e82_400bps_sup_g615 r104_e81_fast_g5015 r104_e81_hac_g5015 r104_e81_sup_g5015 r104_e81_sup_g610 r10_min_high_g303 r10_min_high_g340 r941_e81_fast_g514 r941_e81_hac_g514 r941_e81_sup_g514 r941_min_fast_g303 r941_min_fast_g507 r941_min_hac_g507 r941_min_high_g303 r941_min_high_g330 r941_min_high_g340_rle r941_min_high_g344 r941_min_high_g351 r941_min_high_g360 r941_min_sup_g507 r941_prom_fast_g303 r941_prom_fast_g507 r941_prom_hac_g507 r941_prom_high_g303 r941_prom_high_g330 r941_prom_high_g344 r941_prom_high_g360 r941_prom_high_g4011 r941_prom_sup_g507 r941_sup_plant_g610\n",
      "        Alternatively a .tar.gz/.hdf file from 'medaka train'.\n",
      "    -f  Force overwrite of outputs (default will reuse existing outputs).\n",
      "    -x  Force recreation of alignment index.\n",
      "    -t  number of threads with which to create features (default: 1).\n",
      "    -b  batchsize, controls memory use (default: 100).\n",
      "\n",
      "-i must be specified.\n"
     ]
    },
    {
     "ename": "",
     "evalue": "1",
     "output_type": "error",
     "traceback": []
    }
   ],
   "source": [
    "medaka_consensus"
   ]
  },
  {
   "cell_type": "markdown",
   "id": "76697fb5-f7cb-4c9d-a4a3-d40faf783dc8",
   "metadata": {},
   "source": [
    "### Check the medaka model to use\n",
    "\n",
    "Medaka models are named to indicate i) the pore type, ii) the sequencing device (MinION or PromethION), iii) the basecaller variant, and  iv) the basecaller version\n",
    "\n",
    "{pore}_{device}_{caller variant}_{caller version}\n",
    "\n",
    "examples: \n",
    "\n",
    "r941_min_fast_g303 : MiniON R9.4.1 flowcells using the fast Guppy basecaller version 3.0.3. \n"
   ]
  },
  {
   "cell_type": "code",
   "execution_count": 14,
   "id": "6d21303f-db57-47b9-a8cc-a4d62b1de1e9",
   "metadata": {},
   "outputs": [
    {
     "name": "stdout",
     "output_type": "stream",
     "text": [
      "Available: r103_fast_g507, r103_fast_snp_g507, r103_fast_variant_g507, r103_hac_g507, r103_hac_snp_g507, r103_hac_variant_g507, r103_min_high_g345, r103_min_high_g360, r103_prom_high_g360, r103_prom_snp_g3210, r103_prom_variant_g3210, r103_sup_g507, r103_sup_snp_g507, r103_sup_variant_g507, r1041_e82_260bps_fast_g632, r1041_e82_260bps_fast_variant_g632, r1041_e82_260bps_hac_g632, r1041_e82_260bps_hac_variant_g632, r1041_e82_260bps_sup_g632, r1041_e82_260bps_sup_variant_g632, r1041_e82_400bps_fast_g615, r1041_e82_400bps_fast_g632, r1041_e82_400bps_fast_variant_g615, r1041_e82_400bps_fast_variant_g632, r1041_e82_400bps_hac_g615, r1041_e82_400bps_hac_g632, r1041_e82_400bps_hac_variant_g615, r1041_e82_400bps_hac_variant_g632, r1041_e82_400bps_sup_g615, r1041_e82_400bps_sup_variant_g615, r104_e81_fast_g5015, r104_e81_fast_variant_g5015, r104_e81_hac_g5015, r104_e81_hac_variant_g5015, r104_e81_sup_g5015, r104_e81_sup_g610, r104_e81_sup_variant_g610, r10_min_high_g303, r10_min_high_g340, r941_e81_fast_g514, r941_e81_fast_variant_g514, r941_e81_hac_g514, r941_e81_hac_variant_g514, r941_e81_sup_g514, r941_e81_sup_variant_g514, r941_min_fast_g303, r941_min_fast_g507, r941_min_fast_snp_g507, r941_min_fast_variant_g507, r941_min_hac_g507, r941_min_hac_snp_g507, r941_min_hac_variant_g507, r941_min_high_g303, r941_min_high_g330, r941_min_high_g340_rle, r941_min_high_g344, r941_min_high_g351, r941_min_high_g360, r941_min_sup_g507, r941_min_sup_snp_g507, r941_min_sup_variant_g507, r941_prom_fast_g303, r941_prom_fast_g507, r941_prom_fast_snp_g507, r941_prom_fast_variant_g507, r941_prom_hac_g507, r941_prom_hac_snp_g507, r941_prom_hac_variant_g507, r941_prom_high_g303, r941_prom_high_g330, r941_prom_high_g344, r941_prom_high_g360, r941_prom_high_g4011, r941_prom_snp_g303, r941_prom_snp_g322, r941_prom_snp_g360, r941_prom_sup_g507, r941_prom_sup_snp_g507, r941_prom_sup_variant_g507, r941_prom_variant_g303, r941_prom_variant_g322, r941_prom_variant_g360, r941_sup_plant_g610, r941_sup_plant_variant_g610\n",
      "Default consensus:  r941_min_hac_g507\n",
      "Default variant:  r941_min_hac_variant_g507\n"
     ]
    }
   ],
   "source": [
    "medaka tools list_models"
   ]
  },
  {
   "cell_type": "markdown",
   "id": "9701d320-2cb6-46a5-8922-cc4234352aae",
   "metadata": {
    "tags": []
   },
   "source": [
    "### Medaka in FLYE + RACON\n",
    "\n",
    "We run medaka on the FLYE + polished with racon assembly."
   ]
  },
  {
   "cell_type": "code",
   "execution_count": 15,
   "id": "2741ef5d-708a-4548-a360-cf1eb4949af7",
   "metadata": {
    "tags": []
   },
   "outputs": [
    {
     "name": "stdout",
     "output_type": "stream",
     "text": [
      "(medaka) "
     ]
    },
    {
     "ename": "",
     "evalue": "1",
     "output_type": "error",
     "traceback": []
    }
   ],
   "source": [
    "# activate medaka conda environement\n",
    "conda activate medaka"
   ]
  },
  {
   "cell_type": "code",
   "execution_count": 16,
   "id": "5a81fe37-d66f-4f2e-9851-7a20546443b1",
   "metadata": {},
   "outputs": [
    {
     "name": "stdout",
     "output_type": "stream",
     "text": [
      "(medaka) (medaka) "
     ]
    },
    {
     "ename": "",
     "evalue": "1",
     "output_type": "error",
     "traceback": []
    }
   ],
   "source": [
    "# go to medaka repertory results\n",
    "cd ~/work/RESULTS/FLYE_MEDAKA"
   ]
  },
  {
   "cell_type": "code",
   "execution_count": 17,
   "id": "2e2c9a7c-a9ee-49fa-b308-9b61fcb9a814",
   "metadata": {
    "tags": []
   },
   "outputs": [
    {
     "name": "stdout",
     "output_type": "stream",
     "text": [
      "Checking program versions\n",
      "This is medaka 1.7.2\n",
      "Program    Version    Required   Pass     \n",
      "bcftools   1.16       1.11       True     \n",
      "bgzip      1.16       1.11       True     \n",
      "minimap2   2.24       2.11       True     \n",
      "samtools   1.16.1     1.11       True     \n",
      "tabix      1.16       1.11       True     \n",
      "Aligning basecalls to draft\n",
      "Using the existing fai index file /home/jovyan/work/RESULTS/FLYE/assembly.fasta.fai\n",
      "Creating mmi index file /home/jovyan/work/RESULTS/FLYE/assembly.fasta.map-ont.mmi\n",
      "[M::mm_idx_gen::0.462*1.00] collected minimizers\n",
      "[M::mm_idx_gen::0.632*1.53] sorted minimizers\n",
      "[M::main::0.783*1.43] loaded/built the index for 33 target sequence(s)\n",
      "[M::mm_idx_stat] kmer size: 15; skip: 10; is_hpc: 0; #seq: 33\n",
      "[M::mm_idx_stat::0.818*1.41] distinct minimizers: 3858964 (94.03% are singletons); average occurrences: 1.101; average spacing: 5.331; total length: 22656985\n",
      "[M::main] Version: 2.24-r1122\n",
      "[M::main] CMD: minimap2 -I 16G -x map-ont -d /home/jovyan/work/RESULTS/FLYE/assembly.fasta.map-ont.mmi /home/jovyan/work/RESULTS/FLYE/assembly.fasta\n",
      "[M::main] Real time: 0.825 sec; CPU: 1.159 sec; Peak RSS: 0.218 GB\n",
      "[M::main::0.244*1.00] loaded/built the index for 33 target sequence(s)\n",
      "[M::mm_mapopt_update::0.291*1.00] mid_occ = 21\n",
      "[M::mm_idx_stat] kmer size: 15; skip: 10; is_hpc: 0; #seq: 33\n",
      "[M::mm_idx_stat::0.325*1.00] distinct minimizers: 3858964 (94.03% are singletons); average occurrences: 1.101; average spacing: 5.331; total length: 22656985\n",
      "[M::worker_pipeline::46.936*3.86] mapped 42406 sequences\n",
      "[M::worker_pipeline::64.930*3.77] mapped 20357 sequences\n",
      "[M::main] Version: 2.24-r1122\n",
      "[M::main] CMD: minimap2 -x map-ont --secondary=no -L --MD -A 2 -B 4 -O 4,24 -E 2,1 -t 4 -a /home/jovyan/work/RESULTS/FLYE/assembly.fasta.map-ont.mmi /home/jovyan/work/DATA/4222_RB2.fastq.gz\n",
      "[M::main] Real time: 64.967 sec; CPU: 244.764 sec; Peak RSS: 2.622 GB\n",
      "[bam_sort_core] merging from 0 files and 4 in-memory blocks...\n",
      "Running medaka consensus\n",
      "[15:41:14 - Predict] Reducing threads to 2, anymore is a waste.\n",
      "[15:41:14 - Predict] It looks like you are running medaka without a GPU and attempted to set a high number of threads. We have scaled this down to an optimal number. If you wish to improve performance please see https://nanoporetech.github.io/medaka/installation.html#improving-parallelism.\n",
      "[15:41:14 - Predict] Setting tensorflow inter/intra-op threads to 2/1.\n",
      "[15:41:14 - Predict] Processing region(s): contig_1:0-963674 contig_10:0-78139 contig_11:0-12814 contig_12:0-397801 contig_13:0-6155 contig_14:0-1016588 contig_15:0-697392 contig_16:0-71241 contig_18:0-995012 contig_19:0-1122198 contig_2:0-1076139 contig_20:0-523817 contig_21:0-469907 contig_22:0-150852 contig_23:0-12324 contig_24:0-11812 contig_25:0-150205 contig_26:0-1358911 contig_27:0-715938 contig_28:0-796791 contig_29:0-669157 contig_3:0-896048 contig_30:0-937019 contig_31:0-2795566 contig_33:0-616405 contig_34:0-9715 contig_35:0-4542490 contig_36:0-71627 contig_4:0-306877 contig_5:0-120294 contig_6:0-539886 contig_8:0-488290 contig_9:0-35901\n",
      "[15:41:14 - Predict] Using model: /home/jovyan/.medaka/data/r941_min_high_g360_model.hdf5.\n",
      "[15:41:14 - Predict] Processing 43 long region(s) with batching.\n",
      "[15:41:14 - MdlStore] filepath /home/jovyan/.medaka/data/r941_min_high_g360_model.hdf5\n",
      "[15:41:15 - BAMFile] Creating pool of 16 BAM file sets.\n",
      "[15:41:15 - Sampler] Initializing sampler for consensus of region contig_1:0-963674.\n",
      "[15:41:15 - Sampler] Initializing sampler for consensus of region contig_10:0-78139.\n",
      "[15:41:15 - PWorker] Running inference for 22.7M draft bases.\n",
      "[15:41:15 - Feature] Processed contig_10:0.0-78138.0 (median depth 19.0)\n",
      "[15:41:15 - Sampler] Took 0.29s to make features.\n",
      "[15:41:15 - Sampler] Initializing sampler for consensus of region contig_11:0-12814.\n",
      "[15:41:15 - Feature] Pileup counts do not span requested region, requested contig_11:0-12814, received 45-12813.\n",
      "[15:41:15 - Feature] Processed contig_11:45.0-12813.0 (median depth 7.0)\n",
      "[15:41:15 - Sampler] Took 0.18s to make features.\n",
      "[15:41:15 - Sampler] Initializing sampler for consensus of region contig_12:0-397801.\n",
      "[15:41:16 - Feature] Processed contig_1:0.0-963673.0 (median depth 17.0)\n",
      "[15:41:16 - Sampler] Took 0.94s to make features.\n",
      "[15:41:16 - Sampler] Initializing sampler for consensus of region contig_13:0-6155.\n",
      "[15:41:16 - Feature] Processed contig_13:0.0-6154.0 (median depth 6.0)\n",
      "[15:41:16 - Sampler] Took 0.15s to make features.\n",
      "[15:41:16 - Sampler] Region contig_13:0.0-6154.0 (6878 positions) is smaller than inference chunk length 10000, quarantining.\n",
      "[15:41:16 - Sampler] Initializing sampler for consensus of region contig_14:0-1000000.\n",
      "[15:41:16 - Feature] Processed contig_12:0.0-397800.0 (median depth 19.0)\n",
      "[15:41:16 - Sampler] Took 0.67s to make features.\n",
      "[15:41:16 - Sampler] Initializing sampler for consensus of region contig_14:999000-1016588.\n",
      "[15:41:16 - Feature] Pileup counts do not span requested region, requested contig_14:999000-1016588, received 999000-1016539.\n",
      "[15:41:16 - Feature] Processed contig_14:999000.0-1016539.0 (median depth 10.0)\n",
      "[15:41:16 - Sampler] Took 0.10s to make features.\n",
      "[15:41:16 - Sampler] Initializing sampler for consensus of region contig_15:0-697392.\n",
      "[15:41:16 - Feature] Processed contig_14:0.0-999999.0 (median depth 19.0)\n",
      "[15:41:16 - Sampler] Took 0.74s to make features.\n",
      "[15:41:16 - Sampler] Initializing sampler for consensus of region contig_16:0-71241.\n",
      "[15:41:16 - Feature] Processed contig_15:0.0-697391.0 (median depth 17.0)\n",
      "[15:41:16 - Sampler] Took 0.61s to make features.\n",
      "[15:41:16 - Sampler] Initializing sampler for consensus of region contig_18:0-995012.\n",
      "[15:41:17 - Feature] Processed contig_16:0.0-71240.0 (median depth 17.0)\n",
      "[15:41:17 - Sampler] Took 0.11s to make features.\n",
      "[15:41:17 - Sampler] Initializing sampler for consensus of region contig_19:0-1000000.\n",
      "[15:41:17 - Feature] Processed contig_19:0.0-999999.0 (median depth 18.0)\n",
      "[15:41:17 - Sampler] Took 0.82s to make features.\n",
      "[15:41:17 - Sampler] Initializing sampler for consensus of region contig_19:999000-1122198.\n",
      "[15:41:17 - Feature] Processed contig_18:0.0-995011.0 (median depth 18.0)\n",
      "[15:41:17 - Sampler] Took 0.92s to make features.\n",
      "[15:41:17 - Sampler] Initializing sampler for consensus of region contig_2:0-1000000.\n",
      "[15:41:17 - Feature] Processed contig_19:999000.0-1122197.0 (median depth 16.0)\n",
      "[15:41:17 - Sampler] Took 0.11s to make features.\n",
      "[15:41:17 - Sampler] Initializing sampler for consensus of region contig_2:999000-1076139.\n",
      "[15:41:18 - Feature] Processed contig_2:999000.0-1076138.0 (median depth 12.0)\n",
      "[15:41:18 - Sampler] Took 0.20s to make features.\n",
      "[15:41:18 - Sampler] Initializing sampler for consensus of region contig_20:0-523817.\n",
      "[15:41:18 - Feature] Processed contig_2:0.0-999999.0 (median depth 18.0)\n",
      "[15:41:18 - Sampler] Took 0.74s to make features.\n",
      "[15:41:18 - Sampler] Initializing sampler for consensus of region contig_21:0-469907.\n",
      "[15:41:18 - Feature] Processed contig_20:0.0-523816.0 (median depth 17.0)\n",
      "[15:41:18 - Sampler] Took 0.58s to make features.\n",
      "[15:41:18 - Sampler] Initializing sampler for consensus of region contig_22:0-150852.\n",
      "[15:41:19 - Feature] Processed contig_22:0.0-150851.0 (median depth 22.0)\n",
      "[15:41:19 - Sampler] Took 0.31s to make features.\n",
      "[15:41:19 - Sampler] Initializing sampler for consensus of region contig_23:0-12324.\n",
      "[15:41:19 - Feature] Processed contig_21:0.0-469906.0 (median depth 19.0)\n",
      "[15:41:19 - Sampler] Took 0.50s to make features.\n",
      "[15:41:19 - Sampler] Initializing sampler for consensus of region contig_24:0-11812.\n",
      "[15:41:19 - Feature] Processed contig_23:0.0-12323.0 (median depth 120.0)\n",
      "[15:41:19 - Sampler] Took 0.08s to make features.\n",
      "[15:41:19 - Sampler] Initializing sampler for consensus of region contig_25:0-150205.\n",
      "[15:41:19 - Feature] Processed contig_24:0.0-11811.0 (median depth 85.0)\n",
      "[15:41:19 - Sampler] Took 0.07s to make features.\n",
      "[15:41:19 - Sampler] Initializing sampler for consensus of region contig_26:0-1000000.\n",
      "[15:41:19 - Feature] Processed contig_25:0.0-150204.0 (median depth 17.0)\n",
      "[15:41:19 - Sampler] Took 0.12s to make features.\n",
      "[15:41:19 - Sampler] Initializing sampler for consensus of region contig_26:999000-1358911.\n",
      "[15:41:19 - Feature] Processed contig_26:999000.0-1358910.0 (median depth 18.0)\n",
      "[15:41:19 - Sampler] Took 0.11s to make features.\n",
      "[15:41:19 - Sampler] Initializing sampler for consensus of region contig_27:0-715938.\n",
      "[15:41:19 - Feature] Processed contig_26:0.0-999999.0 (median depth 19.0)\n",
      "[15:41:19 - Sampler] Took 0.26s to make features.\n",
      "[15:41:19 - Sampler] Initializing sampler for consensus of region contig_28:0-796791.\n",
      "[15:41:19 - Feature] Processed contig_27:0.0-715937.0 (median depth 17.0)\n",
      "[15:41:19 - Sampler] Took 0.18s to make features.\n",
      "[15:41:19 - Sampler] Initializing sampler for consensus of region contig_29:0-669157.\n",
      "[15:41:19 - Feature] Processed contig_28:0.0-796790.0 (median depth 17.0)\n",
      "[15:41:19 - Sampler] Took 0.20s to make features.\n",
      "[15:41:19 - Sampler] Initializing sampler for consensus of region contig_3:0-896048.\n",
      "[15:41:19 - Feature] Processed contig_29:0.0-669156.0 (median depth 21.0)\n",
      "[15:41:19 - Sampler] Took 0.19s to make features.\n",
      "[15:41:19 - Sampler] Initializing sampler for consensus of region contig_30:0-937019.\n",
      "[15:41:19 - Feature] Processed contig_3:0.0-896047.0 (median depth 18.0)\n",
      "[15:41:19 - Sampler] Took 0.21s to make features.\n",
      "[15:41:19 - Sampler] Initializing sampler for consensus of region contig_31:0-1000000.\n",
      "[15:41:19 - Feature] Processed contig_30:0.0-937018.0 (median depth 17.0)\n",
      "[15:41:19 - Sampler] Took 0.20s to make features.\n",
      "[15:41:20 - Feature] Processed contig_31:0.0-999999.0 (median depth 100.0)\n",
      "[15:41:20 - Sampler] Took 0.67s to make features.\n",
      "[15:41:28 - PWorker] Batches in cache: 8.\n",
      "[15:41:28 - PWorker] 3.1% Done (0.7/22.7 Mbases) in 13.8s\n",
      "[15:41:37 - PWorker] Batches in cache: 8.\n",
      "[15:41:37 - Sampler] Initializing sampler for consensus of region contig_31:999000-1999000.\n",
      "[15:41:38 - Feature] Processed contig_31:999000.0-1998999.0 (median depth 89.0)\n",
      "[15:41:38 - Sampler] Took 0.89s to make features.\n",
      "[15:41:46 - PWorker] Batches in cache: 8.\n",
      "[15:41:46 - PWorker] 9.3% Done (2.1/22.7 Mbases) in 31.4s\n",
      "[15:41:46 - Sampler] Initializing sampler for consensus of region contig_31:1998000-2795566.\n",
      "[15:41:47 - Feature] Processed contig_31:1998000.0-2795565.0 (median depth 93.0)\n",
      "[15:41:47 - Sampler] Took 0.61s to make features.\n",
      "[15:41:55 - PWorker] Batches in cache: 8.\n",
      "[15:42:03 - PWorker] Batches in cache: 8.\n",
      "[15:42:03 - PWorker] 15.5% Done (3.5/22.7 Mbases) in 48.5s\n",
      "[15:42:11 - PWorker] Batches in cache: 8.\n",
      "[15:42:20 - PWorker] Batches in cache: 8.\n",
      "[15:42:20 - PWorker] 21.6% Done (4.9/22.7 Mbases) in 65.3s\n",
      "[15:42:20 - Sampler] Initializing sampler for consensus of region contig_33:0-616405.\n",
      "[15:42:20 - Sampler] Initializing sampler for consensus of region contig_34:0-9715.\n",
      "[15:42:20 - Feature] Processed contig_34:0.0-9714.0 (median depth 99.0)\n",
      "[15:42:20 - Sampler] Took 0.02s to make features.\n",
      "[15:42:20 - Sampler] Initializing sampler for consensus of region contig_35:0-1000000.\n",
      "[15:42:20 - Feature] Processed contig_33:0.0-616404.0 (median depth 17.0)\n",
      "[15:42:20 - Sampler] Took 0.19s to make features.\n",
      "[15:42:20 - Feature] Processed contig_35:0.0-999999.0 (median depth 38.0)\n",
      "[15:42:20 - Sampler] Took 0.45s to make features.\n",
      "[15:42:29 - PWorker] Batches in cache: 8.\n",
      "[15:42:37 - PWorker] Batches in cache: 8.\n",
      "[15:42:37 - PWorker] 27.9% Done (6.3/22.7 Mbases) in 82.5s\n",
      "[15:42:37 - Sampler] Initializing sampler for consensus of region contig_35:999000-1999000.\n",
      "[15:42:38 - Feature] Processed contig_35:999000.0-1998999.0 (median depth 37.0)\n",
      "[15:42:38 - Sampler] Took 0.40s to make features.\n",
      "[15:42:46 - PWorker] Batches in cache: 8.\n",
      "[15:42:46 - Sampler] Initializing sampler for consensus of region contig_35:1998000-2998000.\n",
      "[15:42:46 - Feature] Processed contig_35:1998000.0-2997999.1 (median depth 39.0)\n",
      "[15:42:46 - Sampler] Took 0.40s to make features.\n",
      "[15:42:54 - PWorker] Batches in cache: 8.\n",
      "[15:42:54 - PWorker] 34.0% Done (7.7/22.7 Mbases) in 99.6s\n",
      "[15:43:03 - PWorker] Batches in cache: 8.\n",
      "[15:43:03 - Sampler] Initializing sampler for consensus of region contig_35:2997000-3997000.\n",
      "[15:43:03 - Feature] Processed contig_35:2997000.0-3996999.0 (median depth 37.0)\n",
      "[15:43:03 - Sampler] Took 0.40s to make features.\n",
      "[15:43:12 - PWorker] Batches in cache: 8.\n",
      "[15:43:12 - PWorker] 40.2% Done (9.1/22.7 Mbases) in 117.3s\n",
      "[15:43:20 - PWorker] Batches in cache: 8.\n",
      "[15:43:21 - Sampler] Initializing sampler for consensus of region contig_35:3996000-4542490.\n",
      "[15:43:21 - Sampler] Initializing sampler for consensus of region contig_36:0-71627.\n",
      "[15:43:21 - Feature] Processed contig_36:0.0-71626.0 (median depth 116.0)\n",
      "[15:43:21 - Sampler] Took 0.20s to make features.\n",
      "[15:43:21 - Feature] Processed contig_35:3996000.0-4542489.0 (median depth 38.0)\n",
      "[15:43:21 - Sampler] Took 0.23s to make features.\n",
      "[15:43:29 - PWorker] Batches in cache: 8.\n",
      "[15:43:29 - PWorker] 46.5% Done (10.5/22.7 Mbases) in 134.3s\n",
      "[15:43:29 - Sampler] Initializing sampler for consensus of region contig_4:0-306877.\n",
      "[15:43:29 - Sampler] Initializing sampler for consensus of region contig_5:0-120294.\n",
      "[15:43:29 - Feature] Processed contig_5:0.0-120293.0 (median depth 14.0)\n",
      "[15:43:29 - Sampler] Took 0.12s to make features.\n",
      "[15:43:29 - Feature] Processed contig_4:0.0-306876.0 (median depth 20.0)\n",
      "[15:43:29 - Sampler] Took 0.18s to make features.\n",
      "[15:43:38 - PWorker] Batches in cache: 8.\n",
      "[15:43:38 - Sampler] Initializing sampler for consensus of region contig_6:0-539886.\n",
      "[15:43:38 - Sampler] Initializing sampler for consensus of region contig_8:0-488290.\n",
      "[15:43:38 - Feature] Processed contig_6:0.0-539885.0 (median depth 17.0)\n",
      "[15:43:38 - Sampler] Took 0.18s to make features.\n",
      "[15:43:38 - Feature] Processed contig_8:0.0-488289.0 (median depth 17.0)\n",
      "[15:43:38 - Sampler] Took 0.22s to make features.\n",
      "[15:43:46 - PWorker] Batches in cache: 8.\n",
      "[15:43:46 - PWorker] 52.6% Done (11.9/22.7 Mbases) in 151.7s\n",
      "[15:43:46 - Sampler] Initializing sampler for consensus of region contig_9:0-35901.\n",
      "[15:43:46 - Feature] Processed contig_9:0.0-35900.0 (median depth 15.0)\n",
      "[15:43:46 - Sampler] Took 0.07s to make features.\n",
      "[15:43:55 - PWorker] Batches in cache: 8.\n",
      "[15:44:03 - PWorker] Batches in cache: 8.\n",
      "[15:44:03 - PWorker] 57.8% Done (13.1/22.7 Mbases) in 168.3s\n",
      "[15:44:11 - PWorker] Batches in cache: 8.\n",
      "[15:44:20 - PWorker] Batches in cache: 8.\n",
      "[15:44:20 - PWorker] 62.8% Done (14.2/22.7 Mbases) in 185.0s\n",
      "[15:44:28 - PWorker] Batches in cache: 8.\n",
      "[15:44:37 - PWorker] Batches in cache: 8.\n",
      "[15:44:37 - PWorker] 67.1% Done (15.2/22.7 Mbases) in 202.1s\n",
      "[15:44:45 - PWorker] Batches in cache: 8.\n",
      "[15:44:53 - PWorker] Batches in cache: 8.\n",
      "[15:44:53 - PWorker] 71.6% Done (16.2/22.7 Mbases) in 218.8s\n",
      "[15:45:02 - PWorker] Batches in cache: 8.\n",
      "[15:45:11 - PWorker] Batches in cache: 8.\n",
      "[15:45:11 - PWorker] 77.4% Done (17.5/22.7 Mbases) in 236.3s\n",
      "[15:45:19 - PWorker] Batches in cache: 8.\n",
      "[15:45:28 - PWorker] Batches in cache: 8.\n",
      "[15:45:28 - PWorker] 82.9% Done (18.8/22.7 Mbases) in 253.3s\n",
      "[15:45:37 - PWorker] Batches in cache: 7.\n",
      "[15:45:46 - PWorker] Batches in cache: 6.\n",
      "[15:45:46 - PWorker] 88.5% Done (20.1/22.7 Mbases) in 271.5s\n",
      "[15:45:54 - PWorker] Batches in cache: 5.\n",
      "[15:46:03 - PWorker] Batches in cache: 4.\n",
      "[15:46:03 - PWorker] 94.0% Done (21.3/22.7 Mbases) in 288.6s\n",
      "[15:46:12 - PWorker] Batches in cache: 3.\n",
      "[15:46:21 - PWorker] Batches in cache: 2.\n",
      "[15:46:21 - PWorker] 100.0% Done (22.7/22.7 Mbases) in 306.5s\n",
      "[15:46:23 - PWorker] Processed 36 batches\n",
      "[15:46:23 - PWorker] All done, 1 remainder regions.\n",
      "[15:46:23 - Predict] Processing 1 short region(s).\n",
      "[15:46:23 - MdlStore] filepath /home/jovyan/.medaka/data/r941_min_high_g360_model.hdf5\n",
      "[15:46:23 - Sampler] Initializing sampler for consensus of region contig_13:0-6155.\n",
      "[15:46:23 - PWorker] Running inference for 0.0M draft bases.\n",
      "[15:46:23 - Feature] Processed contig_13:0.0-6154.0 (median depth 6.0)\n",
      "[15:46:23 - Sampler] Took 0.12s to make features.\n",
      "[15:46:29 - PWorker] Batches in cache: 1.\n",
      "[15:46:29 - PWorker] Processed 1 batches\n",
      "[15:46:29 - PWorker] All done, 0 remainder regions.\n",
      "[15:46:29 - Predict] Finished processing all regions.\n",
      "[15:46:30 - DataIndx] Loaded 1/1 (100.00%) sample files.\n",
      "[15:46:30 - DataIndx] Loaded 1/1 (100.00%) sample files.\n",
      "[15:46:30 - DataIndx] Loaded 1/1 (100.00%) sample files.\n",
      "[15:46:30 - DataIndx] Loaded 1/1 (100.00%) sample files.\n",
      "[15:46:30 - DataIndx] Loaded 1/1 (100.00%) sample files.\n",
      "/opt/conda/envs/medaka/lib/python3.8/site-packages/medaka/labels.py:387: RuntimeWarning: divide by zero encountered in log10\n",
      "  q = -10 * np.log10(err)\n",
      "/opt/conda/envs/medaka/lib/python3.8/site-packages/medaka/labels.py:387: RuntimeWarning: divide by zero encountered in log10\n",
      "  q = -10 * np.log10(err)\n",
      "/opt/conda/envs/medaka/lib/python3.8/site-packages/medaka/labels.py:387: RuntimeWarning: divide by zero encountered in log10\n",
      "  q = -10 * np.log10(err)\n",
      "/opt/conda/envs/medaka/lib/python3.8/site-packages/medaka/labels.py:387: RuntimeWarning: divide by zero encountered in log10\n",
      "  q = -10 * np.log10(err)\n",
      "[15:46:30 - DataIndx] Loaded 1/1 (100.00%) sample files.\n",
      "[15:46:31 - DataIndx] Loaded 1/1 (100.00%) sample files.\n",
      "[15:46:31 - DataIndx] Loaded 1/1 (100.00%) sample files.\n",
      "[15:46:31 - DataIndx] Loaded 1/1 (100.00%) sample files.\n",
      "[15:46:31 - DataIndx] Loaded 1/1 (100.00%) sample files.\n",
      "[15:46:31 - DataIndx] Loaded 1/1 (100.00%) sample files.\n",
      "[15:46:31 - DataIndx] Loaded 1/1 (100.00%) sample files.\n",
      "[15:46:31 - DataIndx] Loaded 1/1 (100.00%) sample files.\n",
      "[15:46:31 - DataIndx] Loaded 1/1 (100.00%) sample files.\n",
      "[15:46:31 - DataIndx] Loaded 1/1 (100.00%) sample files.\n",
      "[15:46:31 - DataIndx] Loaded 1/1 (100.00%) sample files.\n",
      "[15:46:31 - DataIndx] Loaded 1/1 (100.00%) sample files.\n",
      "[15:46:31 - DataIndx] Loaded 1/1 (100.00%) sample files.\n",
      "[15:46:31 - DataIndx] Loaded 1/1 (100.00%) sample files.\n",
      "[15:46:32 - DataIndx] Loaded 1/1 (100.00%) sample files.\n",
      "[15:46:32 - DataIndx] Loaded 1/1 (100.00%) sample files.\n",
      "[15:46:32 - DataIndx] Loaded 1/1 (100.00%) sample files.\n",
      "[15:46:32 - DataIndx] Loaded 1/1 (100.00%) sample files.\n",
      "[15:46:32 - DataIndx] Loaded 1/1 (100.00%) sample files.\n",
      "[15:46:32 - DataIndx] Loaded 1/1 (100.00%) sample files.\n",
      "[15:46:32 - DataIndx] Loaded 1/1 (100.00%) sample files.\n",
      "[15:46:32 - DataIndx] Loaded 1/1 (100.00%) sample files.\n",
      "[15:46:32 - DataIndx] Loaded 1/1 (100.00%) sample files.\n",
      "[15:46:32 - DataIndx] Loaded 1/1 (100.00%) sample files.\n",
      "[15:46:33 - DataIndx] Loaded 1/1 (100.00%) sample files.\n",
      "[15:46:33 - DataIndx] Loaded 1/1 (100.00%) sample files.\n",
      "[15:46:33 - DataIndx] Loaded 1/1 (100.00%) sample files.\n",
      "[15:46:33 - DataIndx] Loaded 1/1 (100.00%) sample files.\n",
      "[15:46:33 - DataIndx] Loaded 1/1 (100.00%) sample files.\n",
      "[15:46:33 - DataIndx] Loaded 1/1 (100.00%) sample files.\n",
      "[15:46:33 - DataIndx] Loaded 1/1 (100.00%) sample files.\n",
      "[15:46:33 - DataIndx] Loaded 1/1 (100.00%) sample files.\n",
      "[15:46:33 - DataIndx] Loaded 1/1 (100.00%) sample files.\n",
      "[15:46:33 - DataIndx] Loaded 1/1 (100.00%) sample files.\n",
      "[15:46:33 - DataIndx] Loaded 1/1 (100.00%) sample files.\n",
      "[15:46:33 - DataIndx] Loaded 1/1 (100.00%) sample files.\n",
      "[15:46:34 - DataIndx] Loaded 1/1 (100.00%) sample files.\n",
      "[15:46:34 - DataIndx] Loaded 1/1 (100.00%) sample files.\n",
      "[15:46:34 - DataIndx] Loaded 1/1 (100.00%) sample files.\n",
      "Polished assembly written to MEDAKA_CONSENSUS/consensus.fasta, have a nice day.\n",
      "\n",
      "real\t6m46.573s\n",
      "user\t15m14.362s\n",
      "sys\t1m44.465s\n",
      "(medaka) "
     ]
    },
    {
     "ename": "",
     "evalue": "1",
     "output_type": "error",
     "traceback": []
    }
   ],
   "source": [
    "time medaka_consensus -i ~/work/DATA/4222_RB2.fastq.gz -d ~/work/RESULTS/FLYE/assembly.fasta -o MEDAKA_CONSENSUS -t 4 -m r941_min_high_g360"
   ]
  },
  {
   "cell_type": "code",
   "execution_count": 18,
   "id": "be6e7853-ef8e-4730-b022-0cdf223e479d",
   "metadata": {},
   "outputs": [
    {
     "name": "stdout",
     "output_type": "stream",
     "text": [
      "(medaka) (medaka) "
     ]
    },
    {
     "ename": "",
     "evalue": "1",
     "output_type": "error",
     "traceback": []
    }
   ],
   "source": [
    "# go to medaka repertory results\n",
    "cd ~/work/RESULTS/FLYE_RACON_MEDAKA"
   ]
  },
  {
   "cell_type": "code",
   "execution_count": null,
   "id": "2873f25b-3a3e-4673-b275-67bc61efa199",
   "metadata": {},
   "outputs": [],
   "source": [
    "# medaka_consensus -i ${BASECALLS} -d ${DRAFT} -o ${OUTDIR} -t ${NPROC} -m r941_min_high_g360\n",
    "time medaka_consensus -i ~/work/DATA/4222_RB2.fastq.gz -d ~/work/RESULTS/FLYE_RACON/assembly.racon2.fasta -o MEDAKA_CONSENSUS -t 4 -m r941_min_high_g360"
   ]
  },
  {
   "cell_type": "code",
   "execution_count": null,
   "id": "1e329e42-9837-4f1d-b14e-480be8d06cee",
   "metadata": {},
   "outputs": [],
   "source": [
    "conda deactivate"
   ]
  },
  {
   "cell_type": "markdown",
   "id": "93917318-11f2-4ebd-a24f-608ccf77d099",
   "metadata": {},
   "source": [
    "### <span style=\"color: #4CACBC;\"> Conclusion </span>  \n"
   ]
  },
  {
   "cell_type": "markdown",
   "id": "a11e5862-2041-43f6-b9d0-3281cca1643e",
   "metadata": {},
   "source": [
    "1. Here, we have obtained a pseudomolecule of a clone by using Flye.\n",
    "\n",
    "2. We have polished it twice with racon.\n",
    "\n",
    "3. We have corrected raw fly assembly and polished with medaka models.\n",
    "\n",
    "You can do similar pipeline using the RAVEN assembler with your favorite sample.\n",
    "\n",
    "We will compare the results in next practical \"Quality Assemblies\". "
   ]
  },
  {
   "cell_type": "code",
   "execution_count": null,
   "id": "b970e766-321a-4b01-814d-ba1c6253969a",
   "metadata": {},
   "outputs": [],
   "source": []
  }
 ],
 "metadata": {
  "kernelspec": {
   "display_name": "Bash",
   "language": "bash",
   "name": "bash"
  },
  "language_info": {
   "codemirror_mode": "shell",
   "file_extension": ".sh",
   "mimetype": "text/x-sh",
   "name": "bash"
  }
 },
 "nbformat": 4,
 "nbformat_minor": 5
}
