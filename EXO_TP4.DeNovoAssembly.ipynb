{
 "cells": [
  {
   "attachments": {},
   "cell_type": "markdown",
   "id": "26ffb346-6c03-410a-b92f-e9885454db2f",
   "metadata": {},
   "source": [
    "# <span style=\"color:green\">Formation à Abidjan 2023</span> - Initiation à l’analyse de données Minion pour l'analyse de métagénome viraux\n",
    "\n",
    "Created by J. Orjuela (DIADE-IRD), D. Filloux (PHIM-CIRAD) and A. Comte (PHIM-IRD) \n",
    "\n",
    "Septembre 2023\n",
    "\n",
    "***\n",
    "\n",
    "# <span style=\"color: #006E7F\">Table of contents</span>\n",
    "<a class=\"anchor\" id=\"home\"></a>\n",
    "   \n",
    "\n",
    "[TP4 : De novo assembly of the Metavirome](#tp4) \n",
    "\n",
    "[1. Assembly with Flye](#flye)\n",
    "\n",
    "   * [1.1 Launch Flye](#runflye)\n",
    "   * [1.2. Estimate the quality of the assembly](#quality)\n",
    "       * [1.2.1. QUAST](quast)\n",
    "       * [1.2.2. CheckV](checkv)\n",
    "   * [1.3. Polishing of the meta-assembly](#polish)\n",
    "   * [1.4. Estimate the quality of the polished assembly](#qualpolish)\n",
    "       * [1.4.1. CheckV](checkpolish)\n",
    "   * [1.5. Taxonomic assignation of contigs](#contigs)\n",
    "   * [1.6. Visualise the coverage of the reads in an interesting contig](#coverage)\n",
    "      * [1.6.1. Remapping of the reads in an interesting contig](contigcool)\n",
    "      * [1.6.2. Visualise the coverage / depht of the reads on the contig on `TABLET`](tablet)\n",
    "</span>\n",
    "\n",
    "***"
   ]
  },
  {
   "attachments": {},
   "cell_type": "markdown",
   "id": "adce1cf9-b0f4-44de-8ab1-041c153f7aed",
   "metadata": {},
   "source": [
    "# <span style=\"color:#006E7F\">__TP4 : De novo assembly of the Metavirome__ <a class=\"anchor\" id=\"tp3\"></span>  \n"
   ]
  },
  {
   "attachments": {},
   "cell_type": "markdown",
   "id": "b491ee52-cce5-4406-9830-8da83f91b28d",
   "metadata": {},
   "source": [
    "Metagenome assembly is the process of transforming a set of short, overlapping, and potentially erroneous DNA segments from environmental samples into the accurate representation of the underlying microbiomes's genomes. Metagenome assembly is an efficient approach to deciphering the “microbial dark matter” in the microbiota based on metagenomic sequencing.\n",
    "\n",
    "The objective is to reconstruct viruses in presence in the dataset.\n",
    "\n",
    "A lot of assembler tools exists for long reads. Here we will focus on FLYE which is fast and often really accurate:\n",
    "\n",
    "- Flye : https://github.com/fenderglass/Flye\n",
    "\n",
    "But you can also have a look at SPAdes, an other assembler working with metagenome.\n",
    "\n",
    "- SPAdes : https://github.com/ablab/spades"
   ]
  },
  {
   "attachments": {},
   "cell_type": "markdown",
   "id": "96beb02a-7fd8-4892-93c8-594493c1f895",
   "metadata": {},
   "source": [
    "## <span style=\"color: #4CACBC;\"> 1. Assembly with Flye<a class=\"anchor\" id=\"flye\"> </span>"
   ]
  },
  {
   "attachments": {},
   "cell_type": "markdown",
   "id": "8e390b9f-e8b0-40ee-848f-1fd11834be57",
   "metadata": {},
   "source": [
    "Flye is a de novo assembler for single-molecule sequencing reads, such as those produced by PacBio and Oxford Nanopore Technologies. It is designed for a wide range of datasets, from small bacterial projects to large mammalian-scale assemblies. The package represents a complete pipeline: it takes raw PacBio / ONT reads as input and outputs polished contigs. Flye also has a special mode for metagenome assembly."
   ]
  },
  {
   "cell_type": "code",
   "execution_count": null,
   "id": "6760312c-9c86-4f11-a241-e6020898b9e0",
   "metadata": {},
   "outputs": [],
   "source": [
    "# create working repository\n",
    "mkdir -p ~/work/SG-ONT-2023/ASSEMBLY/FLYE\n",
    "cd ~/work/SG-ONT-2023/ASSEMBLY/FLYE"
   ]
  },
  {
   "attachments": {},
   "cell_type": "markdown",
   "id": "25167070-0afc-48c2-91d7-877bf409b70b",
   "metadata": {},
   "source": [
    "### <span style=\"color: #4CACBC;\"> 1.1 Launch Flye<a class=\"anchor\" id=\"runflye\"> </span>"
   ]
  },
  {
   "cell_type": "code",
   "execution_count": null,
   "id": "8e06368d-d32e-4ba8-9597-a26fb26edc34",
   "metadata": {
    "tags": []
   },
   "outputs": [],
   "source": [
    "flye --help"
   ]
  },
  {
   "cell_type": "code",
   "execution_count": null,
   "id": "d3e38824-e73f-4b85-b6cf-3b7345948d8c",
   "metadata": {
    "tags": []
   },
   "outputs": [],
   "source": [
    "# this can take time to run\n",
    "time flye --meta --nano-hq READS -o out_flye"
   ]
  },
  {
   "attachments": {},
   "cell_type": "markdown",
   "id": "abd4aa2d-c60d-4222-864b-f67cbcdb24e8",
   "metadata": {},
   "source": [
    "**How many contig do we have after the assembly?**"
   ]
  },
  {
   "attachments": {},
   "cell_type": "markdown",
   "id": "ffac7fb5-28fb-4327-97bf-ed12fcded48b",
   "metadata": {},
   "source": [
    "### <span style=\"color: #4CACBC;\"> 1.2. Estimate the quality of the assembly<a class=\"anchor\" id=\"quality\"> </span>"
   ]
  },
  {
   "attachments": {},
   "cell_type": "markdown",
   "id": "5ecdc61a-2550-4b64-9934-9c26cf625d87",
   "metadata": {},
   "source": [
    "#### <span style=\"color: #4CACBC;\"> 1.2.1. QUAST<a class=\"anchor\" id=\"quast\"> </span>"
   ]
  },
  {
   "attachments": {},
   "cell_type": "markdown",
   "id": "0f73537b-c0d4-4c26-a837-bf5ccd1a6cba",
   "metadata": {
    "tags": []
   },
   "source": [
    "QUAST evaluates genome assemblies.\n",
    "\n",
    "QUAST works both with and without a reference genome.\n",
    "The tool accepts multiple assemblies, thus is suitable for comparison. \n",
    "\n",
    "http://quast.sourceforge.net/quast"
   ]
  },
  {
   "cell_type": "code",
   "execution_count": null,
   "id": "332dce20-729a-4801-8ea4-8a93160b00c1",
   "metadata": {
    "tags": []
   },
   "outputs": [],
   "source": [
    "metaquast.py -h"
   ]
  },
  {
   "cell_type": "code",
   "execution_count": null,
   "id": "f320af8f-4b2e-422a-aef6-0185a8df6b63",
   "metadata": {
    "tags": []
   },
   "outputs": [],
   "source": [
    "time metaquast.py ../../ASSEMBLY/FLYE/out_flye/assembly.fasta --silent"
   ]
  },
  {
   "attachments": {},
   "cell_type": "markdown",
   "id": "87c82cc7-0adf-4a7a-be46-fedb8fbfd051",
   "metadata": {},
   "source": [
    "**Observe QUAST output**"
   ]
  },
  {
   "cell_type": "code",
   "execution_count": null,
   "id": "28bf107d-6c5e-4773-8d76-f5c8c18a637a",
   "metadata": {
    "tags": []
   },
   "outputs": [],
   "source": [
    "head -25 quast_results/latest/report.txt"
   ]
  },
  {
   "attachments": {},
   "cell_type": "markdown",
   "id": "a204b04b-2ece-4065-912a-7bb8191a6571",
   "metadata": {},
   "source": [
    "#### <span style=\"color: #4CACBC;\"> 1.2.2. CheckV<a class=\"anchor\" id=\"checkv\"> </span>"
   ]
  },
  {
   "attachments": {},
   "cell_type": "markdown",
   "id": "1306beba-0124-4eee-9e8c-3b592170adaf",
   "metadata": {},
   "source": [
    "CheckV assesses the quality and completeness of metagenome-assembled viral genomes"
   ]
  },
  {
   "cell_type": "code",
   "execution_count": null,
   "id": "24607e88-ce63-428f-b733-37ec3000f362",
   "metadata": {
    "tags": []
   },
   "outputs": [],
   "source": [
    "checkv --help"
   ]
  },
  {
   "cell_type": "code",
   "execution_count": null,
   "id": "0627c26e-ab3b-4739-ab33-a18119aa5bae",
   "metadata": {
    "tags": []
   },
   "outputs": [],
   "source": [
    "# download database\n",
    "time checkv download_database ./"
   ]
  },
  {
   "cell_type": "code",
   "execution_count": null,
   "id": "6e906f5c-1203-46f4-9065-29b6a5e1c6a7",
   "metadata": {},
   "outputs": [],
   "source": [
    "export CHECKVDB=~/work/SG-ONT-2023/ASSEMBLY/FLYE/checkv-db-v1.4"
   ]
  },
  {
   "cell_type": "code",
   "execution_count": null,
   "id": "c68ba133-c390-4179-8e4c-56b835e863f1",
   "metadata": {
    "tags": []
   },
   "outputs": [],
   "source": [
    "time checkv end_to_end out_flye/assembly.fasta output_checkv"
   ]
  },
  {
   "attachments": {},
   "cell_type": "markdown",
   "id": "4586b9e6-6123-45d4-acbc-3496b74b494d",
   "metadata": {},
   "source": [
    "**observe the different output files**\n",
    "\n",
    "Is there any interresting high-quality viral contig?"
   ]
  },
  {
   "attachments": {},
   "cell_type": "markdown",
   "id": "4af993a3-081c-430c-ae15-5f6216b74d36",
   "metadata": {},
   "source": [
    "Contig_31 seems to be of high quality, viral and has a size of 6877 nucleotides."
   ]
  },
  {
   "attachments": {},
   "cell_type": "markdown",
   "id": "0dcccf6f-5e34-48ad-8256-974751a3ac0a",
   "metadata": {},
   "source": [
    "### <span style=\"color: #4CACBC;\"> 1.3. Polishing of the meta-assembly <a class=\"anchor\" id=\"polish\"> </span>"
   ]
  },
  {
   "attachments": {},
   "cell_type": "markdown",
   "id": "0bd19fb9-9a48-4eae-8036-81c978522771",
   "metadata": {},
   "source": [
    "Medaka is a tool to create a consensus sequence of nanopore sequencing data. This task is performed using neural networks applied a pileup of individual sequencing reads against a draft assembly. It outperforms graph-based methods operating on basecalled data, and can be competitive with state-of-the-art signal-based methods whilst being much faster.\n",
    "\n",
    "https://denbi-nanopore-training-course.readthedocs.io/en/latest/polishing/medaka/medaka.html"
   ]
  },
  {
   "cell_type": "code",
   "execution_count": null,
   "id": "65dcfda4-7089-42e4-8487-46a7d75da008",
   "metadata": {},
   "outputs": [],
   "source": [
    "# create working repository\n",
    "mkdir -p ~/work/SG-ONT-2023/ASSEMBLY/MEDAKA\n",
    "cd ~/work/SG-ONT-2023/ASSEMBLY/MEDAKA"
   ]
  },
  {
   "cell_type": "code",
   "execution_count": null,
   "id": "27390f5b-b437-454c-8b0f-6e14b633c644",
   "metadata": {
    "tags": []
   },
   "outputs": [],
   "source": [
    "medaka_consensus -h"
   ]
  },
  {
   "cell_type": "code",
   "execution_count": null,
   "id": "441a5c42-b15f-43fc-b90f-f8eb0e329b93",
   "metadata": {
    "tags": []
   },
   "outputs": [],
   "source": [
    "# can be a little long to run\n",
    "conda activate medaka\n",
    "time medaka_consensus -i ../../CLEANING/reads_vs_ananas_unmapped.fastq -d ../FLYE/out_flye/assembly.fasta -m r941_prom_sup_g507 -o medaka_polishing\n",
    "conda deactivate"
   ]
  },
  {
   "attachments": {},
   "cell_type": "markdown",
   "id": "76579a1b-2a6d-4035-b926-617c0b3e39af",
   "metadata": {},
   "source": [
    "### <span style=\"color: #4CACBC;\"> 1.4. Estimate the quality of the polished assembly<a class=\"anchor\" id=\"qualpolish\"> </span>"
   ]
  },
  {
   "attachments": {},
   "cell_type": "markdown",
   "id": "5c72fe80-6e1c-4cff-88ca-64bd36c522f8",
   "metadata": {},
   "source": [
    "#### <span style=\"color: #4CACBC;\"> 1.4.1. CheckV<a class=\"anchor\" id=\"checkpolish\"> </span>"
   ]
  },
  {
   "cell_type": "code",
   "execution_count": null,
   "id": "ef5a6746-5186-4a46-8924-1cfb0067065c",
   "metadata": {},
   "outputs": [],
   "source": [
    "# create working repository\n",
    "mkdir -p ~/work/SG-ONT-2023/ASSEMBLY/MEDAKA/checkv\n",
    "cd ~/work/SG-ONT-2023/ASSEMBLY/MEDAKA/checkv"
   ]
  },
  {
   "cell_type": "code",
   "execution_count": null,
   "id": "03899267-bcf3-4ac4-a5ff-07ce699d58c8",
   "metadata": {},
   "outputs": [],
   "source": [
    "export CHECKVDB=~/work/SG-ONT-2023/ASSEMBLY/FLYE/checkv-db-v1.5"
   ]
  },
  {
   "cell_type": "code",
   "execution_count": null,
   "id": "0e640156-343d-408a-8c36-906e7946c811",
   "metadata": {
    "tags": []
   },
   "outputs": [],
   "source": [
    "checkv end_to_end ../medaka_polishing/consensus.fasta output_checkv_polished"
   ]
  },
  {
   "attachments": {},
   "cell_type": "markdown",
   "id": "c020b3dd-fc0d-4513-bce9-92de136920a5",
   "metadata": {},
   "source": [
    "Compare the output of checkv between polished assembly and non polished assembly ? Is there any differences ?"
   ]
  },
  {
   "attachments": {},
   "cell_type": "markdown",
   "id": "e2c5b106-f79e-4d94-ade5-6cf433d8fc91",
   "metadata": {},
   "source": [
    "**What specie / genus of virus is contig_31?**"
   ]
  },
  {
   "attachments": {},
   "cell_type": "markdown",
   "id": "2d1b1f00-03ea-4f15-a956-36f220800d39",
   "metadata": {},
   "source": [
    "### <span style=\"color: #4CACBC;\"> 1.5. Taxonomic assignation of contigs<a class=\"anchor\" id=\"contigs\"> </span>"
   ]
  },
  {
   "cell_type": "code",
   "execution_count": null,
   "id": "e233411d-3992-46ef-9f15-3770ef54eea4",
   "metadata": {},
   "outputs": [],
   "source": [
    "# create working repository\n",
    "mkdir -p ~/work/SG-ONT-2023/ASSEMBLY/DIAMOND\n",
    "cd ~/work/SG-ONT-2023/ASSEMBLY/DIAMOND"
   ]
  },
  {
   "attachments": {},
   "cell_type": "markdown",
   "id": "b92ba1bf-341c-4848-a295-01c560dc4413",
   "metadata": {},
   "source": [
    "We are going to reuse the viral diamond database used in TP3"
   ]
  },
  {
   "cell_type": "code",
   "execution_count": null,
   "id": "efc5ecf5-b579-492e-b067-1d07852bd0e8",
   "metadata": {},
   "outputs": [],
   "source": [
    "#create a symbolic link of the diamond database\n",
    "ln -s ~/work/SG-ONT-2023/ASSIGNATION/DIAMOND/viral.dmnd viral.dmnd"
   ]
  },
  {
   "cell_type": "code",
   "execution_count": null,
   "id": "3d52be67-2db2-41b7-a771-aa17bce06b4c",
   "metadata": {},
   "outputs": [],
   "source": [
    "diamond blastx --quiet -d viral.dmnd --outfmt 6 stitle qtitle pident length mismatch gapopen qstart qend sstart send evalue bitscore -q ../MEDAKA/medaka_polishing/consensus.fasta -o diamond-matches.csv"
   ]
  },
  {
   "cell_type": "code",
   "execution_count": null,
   "id": "4d0ebbbd-b681-44a0-a5cd-0fa8806fd2b1",
   "metadata": {
    "tags": []
   },
   "outputs": [],
   "source": [
    "head diamond-matches.csv"
   ]
  },
  {
   "cell_type": "code",
   "execution_count": null,
   "id": "435c22ac-41e9-4270-a4ad-14b13c2ddd8f",
   "metadata": {
    "tags": []
   },
   "outputs": [],
   "source": [
    "grep \"contig_31\" diamond-matches.csv"
   ]
  },
  {
   "attachments": {},
   "cell_type": "markdown",
   "id": "ffce6ccc-35a6-47f3-bdab-fbc3b41d5469",
   "metadata": {},
   "source": [
    "Looks like contig_31 is a Vitivirus."
   ]
  },
  {
   "attachments": {},
   "cell_type": "markdown",
   "id": "950c64d5-eb3d-48b4-b88f-9aec4e07125f",
   "metadata": {},
   "source": [
    "### <span style=\"color: #4CACBC;\"> 1.6. Visualise the coverage of the reads in an interesting contig<a class=\"anchor\" id=\"coverage\"> </span>"
   ]
  },
  {
   "attachments": {},
   "cell_type": "markdown",
   "id": "d5190302-0342-44df-be7d-71e5cbc139c3",
   "metadata": {},
   "source": [
    "#### <span style=\"color: #4CACBC;\"> 1.6.1. Remapping of the reads in an interesting contig<a class=\"anchor\" id=\"contigcool\"> </span>"
   ]
  },
  {
   "cell_type": "code",
   "execution_count": null,
   "id": "1083b13a-1c97-487b-957a-8c6df5a1cec7",
   "metadata": {},
   "outputs": [],
   "source": [
    "mkdir -p ~/work/SG-ONT-2023/ASSEMBLY/CONTIG31\n",
    "cd  ~/work/SG-ONT-2023/ASSEMBLY/CONTIG31"
   ]
  },
  {
   "cell_type": "code",
   "execution_count": null,
   "id": "c719fb9d-2baa-4422-a77f-35204011b48d",
   "metadata": {},
   "outputs": [],
   "source": [
    "##extract contig31 from the multifasta file\n",
    "samtools faidx ../MEDAKA/medaka_polishing/consensus.fasta contig_31 > contig_31.fasta"
   ]
  },
  {
   "cell_type": "code",
   "execution_count": null,
   "id": "3ce67316-8872-4d1f-8821-632312fe4d42",
   "metadata": {},
   "outputs": [],
   "source": [
    "minimap2 -ax map-ont contig_31.fasta ../../CLEANING/reads_vs_ananas_unmapped.fastq > contig31_vs_reads.sam"
   ]
  },
  {
   "cell_type": "code",
   "execution_count": null,
   "id": "e921bb5c-e8f0-471d-b4b1-1c1cd34ec34d",
   "metadata": {},
   "outputs": [],
   "source": [
    "samtools flagstats contig31_vs_reads.sam"
   ]
  },
  {
   "cell_type": "code",
   "execution_count": null,
   "id": "c16d5b62-8a48-49af-99f2-1a927b0a8d46",
   "metadata": {},
   "outputs": [],
   "source": [
    "samtools view -b -S contig31_vs_reads.sam > contig31_vs_reads.bam"
   ]
  },
  {
   "cell_type": "code",
   "execution_count": null,
   "id": "1d4771db-8235-4c5c-8b15-9c6833a48fc1",
   "metadata": {},
   "outputs": [],
   "source": [
    "samtools sort contig31_vs_reads.bam -o contig31_vs_reads_sorted.bam"
   ]
  },
  {
   "cell_type": "code",
   "execution_count": null,
   "id": "57469cc8-ee4f-4b11-8d7e-ec1e1b8c4434",
   "metadata": {},
   "outputs": [],
   "source": [
    "samtools index contig31_vs_reads_sorted.bam"
   ]
  },
  {
   "cell_type": "code",
   "execution_count": null,
   "id": "777f8293-43d7-43c6-88fc-b32117c5e8da",
   "metadata": {},
   "outputs": [],
   "source": [
    "samtools coverage contig31_vs_reads_sorted.bam"
   ]
  },
  {
   "attachments": {},
   "cell_type": "markdown",
   "id": "78fbde3b-c5fc-4725-9b45-2119d5bedbae",
   "metadata": {},
   "source": [
    "#### <span style=\"color: #4CACBC;\"> 1.6.2. Visualise the coverage / depht of the reads on the contig on TABLET<a class=\"anchor\" id=\"tablet\"> </span>\n",
    "* 1. Open tablet\n",
    "* 2. click on Open Assembly\n",
    "* 3. import the sorted bam as primary assembly and the contig_31.fasta as reference."
   ]
  },
  {
   "attachments": {},
   "cell_type": "markdown",
   "id": "3a28cda8-f34c-48f4-af98-af8d0ba1511b",
   "metadata": {},
   "source": [
    "Explore the data"
   ]
  }
 ],
 "metadata": {
  "kernelspec": {
   "display_name": "Bash",
   "language": "bash",
   "name": "bash"
  },
  "language_info": {
   "codemirror_mode": "shell",
   "file_extension": ".sh",
   "mimetype": "text/x-sh",
   "name": "bash"
  }
 },
 "nbformat": 4,
 "nbformat_minor": 5
}
