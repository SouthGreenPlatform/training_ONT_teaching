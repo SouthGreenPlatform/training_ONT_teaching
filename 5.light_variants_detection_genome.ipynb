{
 "cells": [
  {
   "cell_type": "markdown",
   "id": "d015209b-0d23-4c85-994c-79b3535c75a3",
   "metadata": {},
   "source": [
    "\n",
    "# <span style=\"color:#006E7F\">__Introduction to Oxford Nanopore Data Analysis__ <a class=\"anchor\"></span>  \n",
    "\n",
    "Created by C. Tranchant-Dubreuil (DIADE-IRD), J. Orjuela (DIADE-IRD), F. Sabot (DIADE-IRD) and A. Dereeper (PHIM-IRD) - May 2022  SouthGreen training \n",
    "\n",
    "Adapted by J. Orjuela (DIADE-IRD), F. Sabot (DIADE-IRD) - Novembre 2022\n",
    "\n",
    "Readapted using TransmittingScience teaching by C. Tranchant-Dubreuil (DIADE-IRD) and F. Sabot (DIADE-IRD) - October 2023\n",
    "    \n",
    "# <span style=\"color:#006E7F\"> TP5. STRUCTURAL VARIANTS DETECTION USING LONG READS  </center> </span>\n",
    "\n",
    "## __How to identify large variants using whole-genome assemblies ?__ \n",
    "\n",
    "</span>\n"
   ]
  },
  {
   "cell_type": "markdown",
   "id": "a61499d9-a943-4628-a3c2-d622c86db2af",
   "metadata": {},
   "source": [
    "### <span style=\"color:#006E7F\">__0 - Preparing working environment__ <a class=\"anchor\" id=\"work\"></a></span>  \n",
    "### <span style=\"color: #4CACBC;\"> Create the working directory"
   ]
  },
  {
   "cell_type": "code",
   "execution_count": null,
   "id": "aaf97983-70d6-4774-a4fa-cc76f7b5dd92",
   "metadata": {},
   "outputs": [],
   "source": [
    "mkdir -p /home/jovyan/work/RESULTS/SV\n",
    "cd /home/jovyan/work/RESULTS/SV\n",
    "ls -l"
   ]
  },
  {
   "cell_type": "markdown",
   "id": "e448f0aa-b72b-4376-8309-72ab7c58e907",
   "metadata": {},
   "source": [
    "### <span style=\"color: #4CACBC;\"> Use assemblies from AGGREGATED directory</span>  "
   ]
  },
  {
   "cell_type": "code",
   "execution_count": null,
   "id": "10b987f9-7cf7-42d5-b061-827ba6842548",
   "metadata": {},
   "outputs": [],
   "source": [
    "ls ~/work/RESULTS/AGGREGATED/"
   ]
  },
  {
   "cell_type": "markdown",
   "id": "6cabd049-c68d-4467-86d6-b9fd4470940d",
   "metadata": {},
   "source": [
    "#### Count the number of sequences of the fasta files in the directory `AGGREGATED` "
   ]
  },
  {
   "cell_type": "code",
   "execution_count": null,
   "id": "ae38d7a0-02e4-41e0-b6cc-ccd568cb5ca3",
   "metadata": {},
   "outputs": [],
   "source": [
    "grep \">\"  ~/work/RESULTS/AGGREGATED/*FLY*MEDAKA*fasta -c"
   ]
  },
  {
   "cell_type": "markdown",
   "id": "c65b4b47-c99c-4673-971d-c198e15b5a5d",
   "metadata": {},
   "source": [
    "## <span style=\"color:#006E7F\">I. SV calling using nucmer, syri <a class=\"anchor\" id=\"SVsyri\"></a></span>  \n",
    "\n",
    "Siry can __ONLY__ be used if two reference genomes are same name and number of contigs. For this example we will use two assemblies with similar caracteristics\n",
    "\n",
    "We will use :\n",
    "* nucmer to align these two genomes. [nucmer manual](http://mummer.sourceforge.net/manual/)\n",
    "* syri to detect SVs from nucmer alignment. [syri manual](https://schneebergerlab.github.io/syri/)\n",
    " \n",
    "\n",
    "### <span style=\"color: #4CACBC;\"> Initialization of two variables \"genome\"</span>  \n"
   ]
  },
  {
   "cell_type": "markdown",
   "id": "4716fed2-2c14-4758-9530-8805df58bd8f",
   "metadata": {},
   "source": [
    "#### Download assemblies"
   ]
  },
  {
   "cell_type": "code",
   "execution_count": null,
   "id": "2ec50f9c-5f25-4ddc-800b-a4b212884dec",
   "metadata": {},
   "outputs": [],
   "source": [
    "cd /home/jovyan/work/RESULTS/\n",
    "wget https://itrop.ird.fr/sv-training/Assemblies.tar.gz\n",
    "tar xvf Assemblies.tar.gz && rm Assemblies.tar.gz"
   ]
  },
  {
   "cell_type": "code",
   "execution_count": null,
   "id": "cf54c27f-14d8-4e04-b015-6304a8e70b9a",
   "metadata": {},
   "outputs": [],
   "source": [
    "more /home/jovyan/work/RESULTS/Assemblies/assembly-stats.txt"
   ]
  },
  {
   "cell_type": "markdown",
   "id": "a388f73e-0db4-49df-9a1b-ab2e8095b4b8",
   "metadata": {},
   "source": [
    "#### Calculate the size of the genomes in the directory `Assemblies`  - seqtk comp \n",
    "\n",
    "Setk comp provides information on each sequence in the fasta file:\n",
    "* column 1 contains the sequence name \n",
    "* column 2 corresponds to the sequence length in bp"
   ]
  },
  {
   "cell_type": "code",
   "execution_count": null,
   "id": "f85371db-f283-4439-b2e8-c85a95ef728a",
   "metadata": {},
   "outputs": [],
   "source": [
    "seqtk comp ~/work/RESULTS/Assemblies/A8_assembly.fasta"
   ]
  },
  {
   "cell_type": "code",
   "execution_count": null,
   "id": "889e0abb-cfe8-48e4-9dae-3b90ee640fe5",
   "metadata": {},
   "outputs": [],
   "source": [
    "seqtk comp ~/work/RESULTS/Assemblies/5417_assembly.fasta"
   ]
  },
  {
   "cell_type": "markdown",
   "id": "d079f8f9-7e81-4c45-b559-53e29212b449",
   "metadata": {},
   "source": [
    "##### Compute the size of the genome 5417 using `seqtk comp | awk`"
   ]
  },
  {
   "cell_type": "code",
   "execution_count": null,
   "id": "0da24618-c17d-4de6-8b36-11d9b2571cc8",
   "metadata": {},
   "outputs": [],
   "source": [
    "seqtk comp ~/work/RESULTS/Assemblies/A8_assembly.fasta | awk '{pb=pb+$2} END {print \"Total pb :\",pb}'"
   ]
  },
  {
   "cell_type": "code",
   "execution_count": null,
   "id": "b3ac6faf-c3e9-4c63-918f-a047bb9a0db4",
   "metadata": {},
   "outputs": [],
   "source": [
    "seqtk comp  ~/work/RESULTS/Assemblies/5417_assembly.fasta | awk '{pb=pb+$2} END {print \"Total pb :\",pb}'"
   ]
  },
  {
   "cell_type": "code",
   "execution_count": null,
   "id": "ac73f4e0-50c7-443d-a093-beb2cfb8751a",
   "metadata": {},
   "outputs": [],
   "source": [
    "reference_assembly=\"/home/jovyan/work/RESULTS/Assemblies/A8_assembly.fasta\"\n",
    "query_assembly=\"/home/jovyan/work/RESULTS/Assemblies/5417_assembly.fasta\""
   ]
  },
  {
   "cell_type": "markdown",
   "id": "f8ff0702-daa3-4f01-9cf6-3ee6f3bbf241",
   "metadata": {},
   "source": [
    "### <span style=\"color: #4CACBC;\"> Create the working directory for SYRI analysis</span>  "
   ]
  },
  {
   "cell_type": "code",
   "execution_count": null,
   "id": "4c68f032-e621-4b91-b3f8-1ec2882e01ec",
   "metadata": {},
   "outputs": [],
   "source": [
    "mkdir -p ~/work/RESULTS/SV/SV_CALLING_SYRI/\n",
    "cd ~/work/RESULTS/SV/SV_CALLING_SYRI/"
   ]
  },
  {
   "cell_type": "code",
   "execution_count": null,
   "id": "8223f558-a1f3-480e-89de-171d52d9f944",
   "metadata": {},
   "outputs": [],
   "source": [
    "pwd"
   ]
  },
  {
   "cell_type": "markdown",
   "id": "76322897-1433-4230-8d2b-499823a37b01",
   "metadata": {},
   "source": [
    "### <span style=\"color: #4CACBC;\"> Aligning genomes using `Nucmer` <a class=\"anchor\" id=\"nucmer\"></a></span>  \n",
    "\n",
    "[Nucmer manual](http://mummer.sourceforge.net/manual/)\n",
    "\n",
    "Some interesting parameters :\n",
    "<code>\n",
    "-maxmatch       Compute all maximal matches regardless of their uniqueness\n",
    "-b|breaklen     Set the distance an alignment extension will attempt to extend poor scoring regions before giving up (default 200)\n",
    "-c|mincluster   Sets the minimum length of a cluster of matches (default 65)\n",
    "-l|minmatch     Set the minimum length of a single match (default 20)\n",
    "</code>\n"
   ]
  },
  {
   "cell_type": "code",
   "execution_count": null,
   "id": "bac7fd8e-c4f9-4c6c-a156-d3e94934e485",
   "metadata": {},
   "outputs": [],
   "source": [
    "nucmer --maxmatch $reference_assembly $query_assembly"
   ]
  },
  {
   "cell_type": "code",
   "execution_count": null,
   "id": "ee2ba7af-8b94-4df3-8412-928d6b421234",
   "metadata": {},
   "outputs": [],
   "source": [
    "ls -lrt"
   ]
  },
  {
   "cell_type": "code",
   "execution_count": null,
   "id": "94222bdf-1fab-46b4-abf6-13239269b7b3",
   "metadata": {},
   "outputs": [],
   "source": [
    "pwd"
   ]
  },
  {
   "cell_type": "markdown",
   "id": "d225698f-5dc4-43b0-b76f-8fbaacfdbbdb",
   "metadata": {},
   "source": [
    "#### Check if new files have been generated by nucmer and display the first lines of the file `.delta`"
   ]
  },
  {
   "cell_type": "code",
   "execution_count": null,
   "id": "844db5e9-3c2b-403a-a531-32a56fb0538d",
   "metadata": {},
   "outputs": [],
   "source": [
    "head out.delta"
   ]
  },
  {
   "cell_type": "markdown",
   "id": "7e004fdf-f6a8-4512-b86c-cc74ed85705b",
   "metadata": {},
   "source": [
    "#### Filtering nucmer results\n",
    "\n",
    "We are going to remove small and lower quality alignments. Some interesting parameters :\n",
    "<code>\n",
    "-i float\tSet the minimum alignment identity [0, 100], (default 0)\n",
    "-l int\t\tSet the minimum alignment length (default 0)\n",
    "-m            Many-to-many alignment allowing for rearrangements (union of -r and -q alignments)\n",
    "-q            Maps each position of each query to its best hit in the reference, allowing for reference overlaps\n",
    "-r            Maps each position of each reference to its best hit in the query, allowing for query overlaps\n",
    "</code>\n",
    "\n",
    "Remove small and lower quality alignments\n"
   ]
  },
  {
   "cell_type": "code",
   "execution_count": null,
   "id": "11b64fb3-6ead-4c47-85e6-6a5fa4049924",
   "metadata": {},
   "outputs": [],
   "source": [
    "delta-filter -m -i 90 -l 100 out.delta > out.filtered.delta"
   ]
  },
  {
   "cell_type": "markdown",
   "id": "9aa4ba90-31d4-4f21-b08d-e3d43637d724",
   "metadata": {},
   "source": [
    "#### Check that the new `delta`files has been filtered"
   ]
  },
  {
   "cell_type": "code",
   "execution_count": null,
   "id": "467c1f2e-62d3-477b-b549-6de9c0f46619",
   "metadata": {},
   "outputs": [],
   "source": [
    "ls -lrt"
   ]
  },
  {
   "cell_type": "code",
   "execution_count": null,
   "id": "1761fca9-bae0-4f06-a72c-2725a33363ac",
   "metadata": {},
   "outputs": [],
   "source": [
    "wc -l *.delta"
   ]
  },
  {
   "cell_type": "markdown",
   "id": "945cbf0e-544e-4f16-801b-9cc4292b9860",
   "metadata": {},
   "source": [
    "#### Converting the file `delta` into a tabular file using `show-coords`\n",
    "\n",
    "[show-coords manual](http://mummer.sourceforge.net/manual/#coords)\n",
    "Some interesting parameters :\n",
    "<code>\n",
    "-c\tInclude percent coverage columns in the output\n",
    "-d\tInclude the alignment direction/reading frame in the output (default for promer)\n",
    "-H\tOmit the output header\n",
    "-I float\tSet minimum percent identity to display\n",
    "-l\tInclude sequence length columns in the output\n",
    "-L int\tSet minimum alignment length to display\n",
    "-q\tSort output lines by query\n",
    "-r\tSort output lines by reference\n",
    "-T\tSwitch output to tab-delimited format\n",
    "</code>\n",
    "\n"
   ]
  },
  {
   "cell_type": "code",
   "execution_count": null,
   "id": "eb5f517e-8f32-4e67-91cd-8d7aa40dfd59",
   "metadata": {},
   "outputs": [],
   "source": [
    "show-coords -Trd out.filtered.delta > out.filtered.withHeader.coords"
   ]
  },
  {
   "cell_type": "code",
   "execution_count": null,
   "id": "f9eb2b0f-f716-413e-ae14-76e70541e011",
   "metadata": {},
   "outputs": [],
   "source": [
    "show-coords -THrd out.filtered.delta > out.filtered.coords"
   ]
  },
  {
   "cell_type": "code",
   "execution_count": null,
   "id": "f34fceb2-a76e-41be-8a69-cf59e97564aa",
   "metadata": {},
   "outputs": [],
   "source": [
    "ls -lrt"
   ]
  },
  {
   "cell_type": "code",
   "execution_count": null,
   "id": "8de61c9e-17d4-4583-a36d-381d0a9f0435",
   "metadata": {},
   "outputs": [],
   "source": [
    "head *.coords"
   ]
  },
  {
   "cell_type": "markdown",
   "id": "0c84c259-cdc7-422e-9c7f-cc09838418c9",
   "metadata": {},
   "source": [
    "### <span style=\"color: #4CACBC;\"> SV calling using `SYRI` <a class=\"anchor\" id=\"siri\"></a></span>  \n"
   ]
  },
  {
   "cell_type": "code",
   "execution_count": null,
   "id": "fda3a8b2-7768-4775-bbff-ba67b551d5ea",
   "metadata": {
    "tags": []
   },
   "outputs": [],
   "source": [
    "syri -c out.filtered.coords -d out.filtered.delta -r $reference_assembly -q $query_assembly "
   ]
  },
  {
   "cell_type": "code",
   "execution_count": null,
   "id": "a3f88d52-7edc-4d2c-a652-9ce1ac5531b9",
   "metadata": {},
   "outputs": [],
   "source": [
    "ls -lt"
   ]
  },
  {
   "cell_type": "code",
   "execution_count": null,
   "id": "0fdcb7c6-d698-482c-b2a1-6d8f5f2b60e2",
   "metadata": {},
   "outputs": [],
   "source": [
    "cat syri.summary"
   ]
  },
  {
   "cell_type": "code",
   "execution_count": null,
   "id": "6de3d0f9-2198-4c0f-b813-6b4d3e41ab3c",
   "metadata": {},
   "outputs": [],
   "source": [
    "head syri.vcf"
   ]
  },
  {
   "cell_type": "code",
   "execution_count": null,
   "id": "5c75dc53-aff8-404a-8806-012626b51d16",
   "metadata": {},
   "outputs": [],
   "source": [
    "tail syri.out"
   ]
  },
  {
   "cell_type": "markdown",
   "id": "b6825e0b-9260-4fe7-be3e-c410f7fd92ba",
   "metadata": {},
   "source": [
    "### <span style=\"color: #4CACBC;\"> Extracting all SNP from syri  <a class=\"anchor\" id=\"siri\"></a></span>  "
   ]
  },
  {
   "cell_type": "code",
   "execution_count": null,
   "id": "e3ecf3d7-a4b2-4d7b-85fa-a32b0ee60ede",
   "metadata": {},
   "outputs": [],
   "source": [
    "cat syri.out | grep SNP | cut -f 1,2 > a\n",
    "cat syri.out | grep SNP | cut -f 4,5 > b\n",
    "cat syri.out | grep SNP | cut -f 3 > c\n",
    "awk '{ print $1+1 }' c > d\n",
    "paste a d c > SNPs.bed\n",
    "rm a b c d\n"
   ]
  },
  {
   "cell_type": "code",
   "execution_count": null,
   "id": "9ae51f46-f320-43ba-a20b-81f93d569c2d",
   "metadata": {},
   "outputs": [],
   "source": [
    "echo -e $reference_assembly'\\t ref' > plotsr_pos.txt\n",
    "echo -e $query_assembly'\\t query' >> plotsr_pos.txt"
   ]
  },
  {
   "cell_type": "code",
   "execution_count": null,
   "id": "95244232-4453-4f76-989e-a49421166d87",
   "metadata": {},
   "outputs": [],
   "source": [
    "head plotsr_pos.txt"
   ]
  },
  {
   "cell_type": "code",
   "execution_count": null,
   "id": "96ffd3a6-6bf7-41da-a78c-84219fe96878",
   "metadata": {},
   "outputs": [],
   "source": [
    "plotsr --sr syri.out --genomes plotsr_pos.txt -s 500 -o plotsr.pdf -H 8 -W 5"
   ]
  },
  {
   "cell_type": "code",
   "execution_count": null,
   "id": "f4100dfd-1635-4203-92c7-f61ee3b8e90f",
   "metadata": {},
   "outputs": [],
   "source": []
  },
  {
   "cell_type": "markdown",
   "id": "6bad84f7-69fd-4ba5-8153-97a7369bc01b",
   "metadata": {},
   "source": [
    "\n",
    "## <span style=\"color:#006E7F\">II - Using assemblytics <a class=\"anchor\" id=\"SVsyri\"></a></span>  \n",
    "\n",
    "* Download the file .delta generated by nucmer. \n",
    "* Load this file on the assemblytics website : [http://assemblytics.com/](http://assemblytics.com/)\n",
    "\n",
    "---------------------"
   ]
  },
  {
   "cell_type": "markdown",
   "id": "0378192d-77c3-43d8-92f6-576ba13bf27b",
   "metadata": {},
   "source": [
    "## <span style=\"color:#006E7F\">II - III - using d-genies <a class=\"anchor\" id=\"SVsyri\"></a></span>  \n",
    "\n",
    "* Download the two genomes (fasta files)\n",
    "* Load these files on the d-genies website : [http://dgenies.toulouse.inra.fr/](http://dgenies.toulouse.inra.fr/)\n"
   ]
  },
  {
   "cell_type": "code",
   "execution_count": null,
   "id": "a45fbfec-3010-426d-9a43-d4ce290b58d7",
   "metadata": {},
   "outputs": [],
   "source": []
  },
  {
   "cell_type": "code",
   "execution_count": null,
   "id": "3adc7dc9-8795-4f8f-a160-c1327e216cf8",
   "metadata": {},
   "outputs": [],
   "source": []
  }
 ],
 "metadata": {
  "kernelspec": {
   "display_name": "Bash",
   "language": "bash",
   "name": "bash"
  },
  "language_info": {
   "codemirror_mode": "shell",
   "file_extension": ".sh",
   "mimetype": "text/x-sh",
   "name": "bash"
  }
 },
 "nbformat": 4,
 "nbformat_minor": 5
}
