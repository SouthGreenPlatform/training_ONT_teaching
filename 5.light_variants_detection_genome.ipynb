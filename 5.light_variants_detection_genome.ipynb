{
 "cells": [
  {
   "cell_type": "markdown",
   "id": "d015209b-0d23-4c85-994c-79b3535c75a3",
   "metadata": {},
   "source": [
    "\n",
    "# <span style=\"color:#006E7F\">__Introduction to Oxford Nanopore Data Analysis__ <a class=\"anchor\"></span>  \n",
    "\n",
    "Created by C. Tranchant-Dubreuil (DIADE-IRD), J. Orjuela (DIADE-IRD), F. Sabot (DIADE-IRD) and A. Dereeper (PHIM-IRD) - May 2022  SouthGreen training \n",
    "\n",
    "Adapted by J. Orjuela (DIADE-IRD), F. Sabot (DIADE-IRD) - Novembre 2022\n",
    "\n",
    "Readapted using TransmittingScience teaching by C. Tranchant-Dubreuil (DIADE-IRD) and F. Sabot (DIADE-IRD) - October 2023\n",
    "    \n",
    "# <span style=\"color:#006E7F\"> TP5. STRUCTURAL VARIANTS DETECTION USING LONG READS  </center> </span>\n",
    "\n",
    "## __How to identify large variants using whole-genome assemblies ?__ \n",
    "\n",
    "</span>\n"
   ]
  },
  {
   "cell_type": "markdown",
   "id": "a61499d9-a943-4628-a3c2-d622c86db2af",
   "metadata": {},
   "source": [
    "### <span style=\"color:#006E7F\">__0 - Preparing working environment__ <a class=\"anchor\" id=\"work\"></a></span>  \n",
    "### <span style=\"color: #4CACBC;\"> Create the working directory"
   ]
  },
  {
   "cell_type": "code",
   "execution_count": 115,
   "id": "aaf97983-70d6-4774-a4fa-cc76f7b5dd92",
   "metadata": {},
   "outputs": [
    {
     "name": "stdout",
     "output_type": "stream",
     "text": [
      "total 4\n",
      "drwxr-xr-x 3 jovyan users 4096 Nov  2 17:35 \u001b[0m\u001b[01;34mSV_CALLING_SYRI\u001b[0m\n"
     ]
    }
   ],
   "source": [
    "mkdir -p /home/jovyan/work/RESULTS/SV\n",
    "cd /home/jovyan/work/RESULTS/SV\n",
    "ls -l"
   ]
  },
  {
   "cell_type": "markdown",
   "id": "e448f0aa-b72b-4376-8309-72ab7c58e907",
   "metadata": {},
   "source": [
    "### <span style=\"color: #4CACBC;\"> Use assemblies from AGGREGATED directory</span>  "
   ]
  },
  {
   "cell_type": "code",
   "execution_count": 116,
   "id": "10b987f9-7cf7-42d5-b061-827ba6842548",
   "metadata": {},
   "outputs": [
    {
     "name": "stdout",
     "output_type": "stream",
     "text": [
      "4222_FLYE.fasta          B8_FLYE_MEDAKA.fasta   G11_FLYE_MEDAKA.fasta\n",
      "4222_FLYE_MEDAKA.fasta   B8_RAVEN.fasta         G11_RAVEN.fasta\n",
      "4222_RAVEN.fasta         B8_RAVEN_MEDAKA.fasta  G11_RAVEN_MEDAKA.fasta\n",
      "4222_RAVEN_MEDAKA.fasta  \u001b[0m\u001b[01;34mBUSCO\u001b[0m                  \u001b[01;34mQUAST\u001b[0m\n",
      "B8_FLYE.fasta            G11_FLYE.fasta\n"
     ]
    }
   ],
   "source": [
    "ls ~/work/RESULTS/AGGREGATED/"
   ]
  },
  {
   "cell_type": "markdown",
   "id": "6cabd049-c68d-4467-86d6-b9fd4470940d",
   "metadata": {},
   "source": [
    "#### Count the number of sequences of the fasta files in the directory `AGGREGATED` "
   ]
  },
  {
   "cell_type": "code",
   "execution_count": 130,
   "id": "ae38d7a0-02e4-41e0-b6cc-ccd568cb5ca3",
   "metadata": {},
   "outputs": [
    {
     "name": "stdout",
     "output_type": "stream",
     "text": [
      "\u001b[35m\u001b[K/home/jovyan/work/RESULTS/AGGREGATED/4222_FLYE_MEDAKA.fasta\u001b[m\u001b[K\u001b[36m\u001b[K:\u001b[m\u001b[K31\n",
      "\u001b[35m\u001b[K/home/jovyan/work/RESULTS/AGGREGATED/B8_FLYE_MEDAKA.fasta\u001b[m\u001b[K\u001b[36m\u001b[K:\u001b[m\u001b[K24\n",
      "\u001b[35m\u001b[K/home/jovyan/work/RESULTS/AGGREGATED/G11_FLYE_MEDAKA.fasta\u001b[m\u001b[K\u001b[36m\u001b[K:\u001b[m\u001b[K29\n"
     ]
    }
   ],
   "source": [
    "grep \">\"  ~/work/RESULTS/AGGREGATED/*FLY*MEDAKA*fasta -c"
   ]
  },
  {
   "cell_type": "markdown",
   "id": "c65b4b47-c99c-4673-971d-c198e15b5a5d",
   "metadata": {},
   "source": [
    "## <span style=\"color:#006E7F\">I. SV calling using nucmer, syri <a class=\"anchor\" id=\"SVsyri\"></a></span>  \n",
    "\n",
    "Siry can __ONLY__ be used if two reference genomes are same name and number of contigs. For this example we will use two assemblies with similar caracteristics\n",
    "\n",
    "We will use :\n",
    "* nucmer to align these two genomes. [nucmer manual](http://mummer.sourceforge.net/manual/)\n",
    "* syri to detect SVs from nucmer alignment. [syri manual](https://schneebergerlab.github.io/syri/)\n",
    " \n",
    "\n",
    "### <span style=\"color: #4CACBC;\"> Initialization of two variables \"genome\"</span>  \n"
   ]
  },
  {
   "cell_type": "markdown",
   "id": "4716fed2-2c14-4758-9530-8805df58bd8f",
   "metadata": {},
   "source": [
    "#### Download assemblies"
   ]
  },
  {
   "cell_type": "code",
   "execution_count": 132,
   "id": "2ec50f9c-5f25-4ddc-800b-a4b212884dec",
   "metadata": {},
   "outputs": [
    {
     "name": "stdout",
     "output_type": "stream",
     "text": [
      "--2023-11-02 18:09:24--  https://itrop.ird.fr/sv-training/Assemblies.tar.gz\n",
      "Resolving itrop.ird.fr (itrop.ird.fr)... 91.203.35.184\n",
      "Connecting to itrop.ird.fr (itrop.ird.fr)|91.203.35.184|:443... connected.\n",
      "HTTP request sent, awaiting response... 200 OK\n",
      "Length: 9150274 (8.7M) [application/x-gzip]\n",
      "Saving to: ‘Assemblies.tar.gz’\n",
      "\n",
      "Assemblies.tar.gz   100%[===================>]   8.73M  28.8MB/s    in 0.3s    \n",
      "\n",
      "2023-11-02 18:09:25 (28.8 MB/s) - ‘Assemblies.tar.gz’ saved [9150274/9150274]\n",
      "\n",
      "Assemblies/\n",
      "Assemblies/assembly-stats.txt\n",
      "Assemblies/A8_assembly.fasta\n",
      "Assemblies/5417_assembly.fasta\n"
     ]
    }
   ],
   "source": [
    "cd /home/jovyan/work/RESULTS/\n",
    "wget https://itrop.ird.fr/sv-training/Assemblies.tar.gz\n",
    "tar xvf Assemblies.tar.gz && rm Assemblies.tar.gz"
   ]
  },
  {
   "cell_type": "code",
   "execution_count": 133,
   "id": "cf54c27f-14d8-4e04-b015-6304a8e70b9a",
   "metadata": {},
   "outputs": [
    {
     "name": "stdout",
     "output_type": "stream",
     "text": [
      "stats for 5417_assembly.fasta\n",
      "sum = 15276926, n = 19, ave = 804048.74, largest = 1387673\n",
      "N50 = 986735, n = 7\n",
      "N60 = 911957, n = 9\n",
      "N70 = 748028, n = 11\n",
      "N80 = 734935, n = 13\n",
      "N90 = 518210, n = 16\n",
      "N100 = 233066, n = 19\n",
      "N_count = 21334\n",
      "Gaps = 4\n",
      "-------------------------------------------------------------------------------\n",
      "stats for A8_assembly.fasta\n",
      "sum = 15306181, n = 19, ave = 805588.47, largest = 1359092\n",
      "N50 = 945596, n = 8\n",
      "N60 = 894004, n = 9\n",
      "N70 = 781878, n = 11\n",
      "N80 = 764371, n = 13\n",
      "N90 = 523849, n = 15\n",
      "N100 = 225373, n = 19\n",
      "N_count = 0\n",
      "Gaps = 0\n"
     ]
    }
   ],
   "source": [
    "more /home/jovyan/work/RESULTS/Assemblies/assembly-stats.txt"
   ]
  },
  {
   "cell_type": "markdown",
   "id": "a388f73e-0db4-49df-9a1b-ab2e8095b4b8",
   "metadata": {},
   "source": [
    "#### Calculate the size of the genomes in the directory `Assemblies`  - seqtk comp \n",
    "\n",
    "Setk comp provides information on each sequence in the fasta file:\n",
    "* column 1 contains the sequence name \n",
    "* column 2 corresponds to the sequence length in bp"
   ]
  },
  {
   "cell_type": "code",
   "execution_count": 135,
   "id": "f85371db-f283-4439-b2e8-c85a95ef728a",
   "metadata": {},
   "outputs": [
    {
     "name": "stdout",
     "output_type": "stream",
     "text": [
      "Chr_19\t225373\t64696\t47347\t47449\t65881\t0\t0\t0\t22630\t0\t0\t0\n",
      "Chr_18\t308071\t82805\t71611\t73071\t80584\t0\t0\t0\t54144\t0\t0\t0\n",
      "Chr_17\t474879\t123835\t113639\t111999\t125406\t0\t0\t0\t84218\t0\t0\t0\n",
      "Chr_16\t512960\t133382\t122842\t123591\t133145\t0\t0\t0\t94466\t0\t0\t0\n",
      "Chr_15\t523849\t134394\t126822\t125045\t137588\t0\t0\t0\t95424\t0\t0\t0\n",
      "Chr_14\t781878\t227795\t164005\t162339\t227739\t0\t0\t0\t80494\t0\t0\t0\n",
      "Chr_13\t770859\t197275\t190692\t184663\t198229\t0\t0\t0\t135176\t0\t0\t0\n",
      "Chr_12\t720863\t187269\t174726\t172799\t186069\t0\t0\t0\t131280\t0\t0\t0\n",
      "Chr_11\t764371\t199672\t183615\t187446\t193638\t0\t0\t0\t138776\t0\t0\t0\n",
      "Chr_10\t791990\t202169\t192080\t190618\t207123\t0\t0\t0\t145556\t0\t0\t0\n",
      "Chr_9\t894004\t230073\t217131\t216824\t229976\t0\t0\t0\t164058\t0\t0\t0\n",
      "Chr_8\t945596\t243332\t229608\t228567\t244089\t0\t0\t0\t174160\t0\t0\t0\n",
      "Chr_7\t1008950\t260979\t242999\t244517\t260455\t0\t0\t0\t181218\t0\t0\t0\n",
      "Chr_6\t989488\t255753\t239132\t239013\t255590\t0\t0\t0\t180688\t0\t0\t0\n",
      "Chr_5\t1016987\t260225\t248175\t244438\t264149\t0\t0\t0\t185334\t0\t0\t0\n",
      "Chr_4\t1006439\t261114\t242606\t244332\t258387\t0\t0\t0\t183722\t0\t0\t0\n",
      "Chr_3\t1079247\t278475\t261730\t263373\t275669\t0\t0\t0\t199540\t0\t0\t0\n",
      "Chr_2\t1131285\t290211\t274206\t275617\t291251\t0\t0\t0\t209158\t0\t0\t0\n",
      "Chr_1\t1359092\t344452\t333568\t330282\t350790\t0\t0\t0\t252972\t0\t0\t0\n"
     ]
    }
   ],
   "source": [
    "seqtk comp ~/work/RESULTS/Assemblies/A8_assembly.fasta"
   ]
  },
  {
   "cell_type": "code",
   "execution_count": 137,
   "id": "889e0abb-cfe8-48e4-9dae-3b90ee640fe5",
   "metadata": {},
   "outputs": [
    {
     "name": "stdout",
     "output_type": "stream",
     "text": [
      "Chr_19\t233066\t66647\t50144\t48763\t67512\t0\t0\t0\t24058\t0\t0\t0\n",
      "Chr_18\t318881\t85345\t74297\t75075\t84164\t0\t0\t0\t55346\t0\t0\t0\n",
      "Chr_17\t482895\t126641\t114374\t113570\t128310\t0\t0\t0\t83524\t0\t0\t0\n",
      "Chr_16\t518210\t136535\t122232\t123594\t135749\t0\t0\t100\t91800\t0\t0\t0\n",
      "Chr_15\t521692\t134305\t126076\t124267\t137044\t0\t0\t0\t94334\t0\t0\t0\n",
      "Chr_14\t641580\t186873\t135344\t135053\t184310\t0\t0\t0\t71686\t0\t0\t0\n",
      "Chr_13\t737724\t188413\t182726\t176331\t190154\t0\t0\t100\t129222\t0\t0\t0\n",
      "Chr_12\t734935\t191741\t177466\t175220\t190508\t0\t0\t0\t132112\t0\t0\t0\n",
      "Chr_11\t748028\t195445\t178757\t183097\t190587\t0\t0\t142\t134678\t0\t0\t0\n",
      "Chr_10\t803017\t206784\t193589\t192228\t210416\t0\t0\t0\t144998\t0\t0\t0\n",
      "Chr_9\t911957\t235846\t220425\t219548\t236138\t0\t0\t0\t164128\t0\t0\t0\n",
      "Chr_8\t985652\t255488\t237567\t237151\t255446\t0\t0\t0\t178310\t0\t0\t0\n",
      "Chr_7\t992004\t250831\t234160\t234318\t251703\t0\t0\t20992\t173692\t0\t0\t0\n",
      "Chr_6\t986735\t255731\t237563\t237449\t255992\t0\t0\t0\t177994\t0\t0\t0\n",
      "Chr_5\t1013628\t260089\t246867\t243032\t263640\t0\t0\t0\t183632\t0\t0\t0\n",
      "Chr_4\t1016660\t264661\t243987\t246425\t261587\t0\t0\t0\t183968\t0\t0\t0\n",
      "Chr_3\t1096451\t283426\t265347\t266334\t281344\t0\t0\t0\t200088\t0\t0\t0\n",
      "Chr_2\t1146138\t295896\t276008\t278603\t295631\t0\t0\t0\t209180\t0\t0\t0\n",
      "Chr_1\t1387673\t352232\t339085\t335668\t360688\t0\t0\t0\t254350\t0\t0\t0\n"
     ]
    }
   ],
   "source": [
    "seqtk comp ~/work/RESULTS/Assemblies/5417_assembly.fasta"
   ]
  },
  {
   "cell_type": "markdown",
   "id": "d079f8f9-7e81-4c45-b559-53e29212b449",
   "metadata": {},
   "source": [
    "##### Compute the size of the genome 5417 using `seqtk comp | awk`"
   ]
  },
  {
   "cell_type": "code",
   "execution_count": 141,
   "id": "0da24618-c17d-4de6-8b36-11d9b2571cc8",
   "metadata": {},
   "outputs": [
    {
     "name": "stdout",
     "output_type": "stream",
     "text": [
      "Total pb : 15306181\n"
     ]
    }
   ],
   "source": [
    "seqtk comp ~/work/RESULTS/Assemblies/A8_assembly.fasta | awk '{pb=pb+$2} END {print \"Total pb :\",pb}'"
   ]
  },
  {
   "cell_type": "code",
   "execution_count": 142,
   "id": "b3ac6faf-c3e9-4c63-918f-a047bb9a0db4",
   "metadata": {},
   "outputs": [
    {
     "name": "stdout",
     "output_type": "stream",
     "text": [
      "Total pb : 15276926\n"
     ]
    }
   ],
   "source": [
    "seqtk comp  ~/work/RESULTS/Assemblies/5417_assembly.fasta | awk '{pb=pb+$2} END {print \"Total pb :\",pb}'"
   ]
  },
  {
   "cell_type": "code",
   "execution_count": 143,
   "id": "ac73f4e0-50c7-443d-a093-beb2cfb8751a",
   "metadata": {},
   "outputs": [],
   "source": [
    "reference_assembly=\"/home/jovyan/work/RESULTS/Assemblies/A8_assembly.fasta\"\n",
    "query_assembly=\"/home/jovyan/work/RESULTS/Assemblies/5417_assembly.fasta\""
   ]
  },
  {
   "cell_type": "markdown",
   "id": "f8ff0702-daa3-4f01-9cf6-3ee6f3bbf241",
   "metadata": {},
   "source": [
    "### <span style=\"color: #4CACBC;\"> Create the working directory for SYRI analysis</span>  "
   ]
  },
  {
   "cell_type": "code",
   "execution_count": 144,
   "id": "4c68f032-e621-4b91-b3f8-1ec2882e01ec",
   "metadata": {},
   "outputs": [],
   "source": [
    "mkdir -p ~/work/RESULTS/SV/SV_CALLING_SYRI/\n",
    "cd ~/work/RESULTS/SV/SV_CALLING_SYRI/"
   ]
  },
  {
   "cell_type": "code",
   "execution_count": 145,
   "id": "8223f558-a1f3-480e-89de-171d52d9f944",
   "metadata": {},
   "outputs": [
    {
     "name": "stdout",
     "output_type": "stream",
     "text": [
      "/home/jovyan/work/RESULTS/SV/SV_CALLING_SYRI\n"
     ]
    }
   ],
   "source": [
    "pwd"
   ]
  },
  {
   "cell_type": "markdown",
   "id": "76322897-1433-4230-8d2b-499823a37b01",
   "metadata": {},
   "source": [
    "### <span style=\"color: #4CACBC;\"> Aligning genomes using `Nucmer` <a class=\"anchor\" id=\"nucmer\"></a></span>  \n",
    "\n",
    "[Nucmer manual](http://mummer.sourceforge.net/manual/)\n",
    "\n",
    "Some interesting parameters :\n",
    "<code>\n",
    "-maxmatch       Compute all maximal matches regardless of their uniqueness\n",
    "-b|breaklen     Set the distance an alignment extension will attempt to extend poor scoring regions before giving up (default 200)\n",
    "-c|mincluster   Sets the minimum length of a cluster of matches (default 65)\n",
    "-l|minmatch     Set the minimum length of a single match (default 20)\n",
    "</code>\n"
   ]
  },
  {
   "cell_type": "code",
   "execution_count": 146,
   "id": "bac7fd8e-c4f9-4c6c-a156-d3e94934e485",
   "metadata": {},
   "outputs": [
    {
     "name": "stdout",
     "output_type": "stream",
     "text": [
      "1: PREPARING DATA\n",
      "2,3: RUNNING mummer AND CREATING CLUSTERS\n",
      "# reading input file \"out.ntref\" of length 15306200\n",
      "# construct suffix tree for sequence of length 15306200\n",
      "# (maximum reference length is 536870908)\n",
      "# (maximum query length is 4294967295)\n",
      "# process 153062 characters per dot\n",
      "#...................................................................................................\n",
      "# CONSTRUCTIONTIME /usr/bin/mummer out.ntref 4.88\n",
      "# reading input file \"/home/jovyan/work/RESULTS/Assemblies/5417_assembly.fasta\" of length 15276944\n",
      "# matching query-file \"/home/jovyan/work/RESULTS/Assemblies/5417_assembly.fasta\"\n",
      "# against subject-file \"out.ntref\"\n",
      "# COMPLETETIME /usr/bin/mummer out.ntref 18.31\n",
      "# SPACE /usr/bin/mummer out.ntref 29.56\n",
      "4: FINISHING DATA\n"
     ]
    }
   ],
   "source": [
    "nucmer --maxmatch $reference_assembly $query_assembly"
   ]
  },
  {
   "cell_type": "code",
   "execution_count": 147,
   "id": "ee2ba7af-8b94-4df3-8412-928d6b421234",
   "metadata": {},
   "outputs": [
    {
     "name": "stdout",
     "output_type": "stream",
     "text": [
      "total 1788\n",
      "-rw-r--r-- 1 jovyan users 1829444 Nov  2 18:17 out.delta\n"
     ]
    }
   ],
   "source": [
    "ls -lrt"
   ]
  },
  {
   "cell_type": "code",
   "execution_count": 148,
   "id": "94222bdf-1fab-46b4-abf6-13239269b7b3",
   "metadata": {},
   "outputs": [
    {
     "name": "stdout",
     "output_type": "stream",
     "text": [
      "/home/jovyan/work/RESULTS/SV/SV_CALLING_SYRI\n"
     ]
    }
   ],
   "source": [
    "pwd"
   ]
  },
  {
   "cell_type": "markdown",
   "id": "d225698f-5dc4-43b0-b76f-8fbaacfdbbdb",
   "metadata": {},
   "source": [
    "#### Check if new files have been generated by nucmer and display the first lines of the file `.delta`"
   ]
  },
  {
   "cell_type": "code",
   "execution_count": 149,
   "id": "844db5e9-3c2b-403a-a531-32a56fb0538d",
   "metadata": {},
   "outputs": [
    {
     "name": "stdout",
     "output_type": "stream",
     "text": [
      "/home/jovyan/work/RESULTS/Assemblies/A8_assembly.fasta /home/jovyan/work/RESULTS/Assemblies/5417_assembly.fasta\n",
      "NUCMER\n",
      ">Chr_18 Chr_19 308071 233066\n",
      "1 110 2 111 0 0 0\n",
      "0\n",
      "1 110 23 132 0 0 0\n",
      "0\n",
      "1 110 233060 232951 0 0 0\n",
      "0\n",
      "1 110 233053 232944 0 0 0\n"
     ]
    }
   ],
   "source": [
    "head out.delta"
   ]
  },
  {
   "cell_type": "markdown",
   "id": "7e004fdf-f6a8-4512-b86c-cc74ed85705b",
   "metadata": {},
   "source": [
    "#### Filtering nucmer results\n",
    "\n",
    "We are going to remove small and lower quality alignments. Some interesting parameters :\n",
    "<code>\n",
    "-i float\tSet the minimum alignment identity [0, 100], (default 0)\n",
    "-l int\t\tSet the minimum alignment length (default 0)\n",
    "-m            Many-to-many alignment allowing for rearrangements (union of -r and -q alignments)\n",
    "-q            Maps each position of each query to its best hit in the reference, allowing for reference overlaps\n",
    "-r            Maps each position of each reference to its best hit in the query, allowing for query overlaps\n",
    "</code>\n",
    "\n",
    "Remove small and lower quality alignments\n"
   ]
  },
  {
   "cell_type": "code",
   "execution_count": 150,
   "id": "11b64fb3-6ead-4c47-85e6-6a5fa4049924",
   "metadata": {},
   "outputs": [],
   "source": [
    "delta-filter -m -i 90 -l 100 out.delta > out.filtered.delta"
   ]
  },
  {
   "cell_type": "markdown",
   "id": "9aa4ba90-31d4-4f21-b08d-e3d43637d724",
   "metadata": {},
   "source": [
    "#### Check that the new `delta`files has been filtered"
   ]
  },
  {
   "cell_type": "code",
   "execution_count": 151,
   "id": "467c1f2e-62d3-477b-b549-6de9c0f46619",
   "metadata": {},
   "outputs": [
    {
     "name": "stdout",
     "output_type": "stream",
     "text": [
      "total 2440\n",
      "-rw-r--r-- 1 jovyan users 1829444 Nov  2 18:17 out.delta\n",
      "-rw-r--r-- 1 jovyan users  667053 Nov  2 18:19 out.filtered.delta\n"
     ]
    }
   ],
   "source": [
    "ls -lrt"
   ]
  },
  {
   "cell_type": "code",
   "execution_count": 153,
   "id": "1761fca9-bae0-4f06-a72c-2725a33363ac",
   "metadata": {},
   "outputs": [
    {
     "name": "stdout",
     "output_type": "stream",
     "text": [
      " 443088 out.delta\n",
      " 218555 out.filtered.delta\n",
      " 661643 total\n"
     ]
    }
   ],
   "source": [
    "wc -l *.delta"
   ]
  },
  {
   "cell_type": "markdown",
   "id": "945cbf0e-544e-4f16-801b-9cc4292b9860",
   "metadata": {},
   "source": [
    "#### Converting the file `delta` into a tabular file using `show-coords`\n",
    "\n",
    "[show-coords manual](http://mummer.sourceforge.net/manual/#coords)\n",
    "Some interesting parameters :\n",
    "<code>\n",
    "-c\tInclude percent coverage columns in the output\n",
    "-d\tInclude the alignment direction/reading frame in the output (default for promer)\n",
    "-H\tOmit the output header\n",
    "-I float\tSet minimum percent identity to display\n",
    "-l\tInclude sequence length columns in the output\n",
    "-L int\tSet minimum alignment length to display\n",
    "-q\tSort output lines by query\n",
    "-r\tSort output lines by reference\n",
    "-T\tSwitch output to tab-delimited format\n",
    "</code>\n",
    "\n"
   ]
  },
  {
   "cell_type": "code",
   "execution_count": 154,
   "id": "eb5f517e-8f32-4e67-91cd-8d7aa40dfd59",
   "metadata": {},
   "outputs": [],
   "source": [
    "show-coords -Trd out.filtered.delta > out.filtered.withHeader.coords"
   ]
  },
  {
   "cell_type": "code",
   "execution_count": 155,
   "id": "f9eb2b0f-f716-413e-ae14-76e70541e011",
   "metadata": {},
   "outputs": [],
   "source": [
    "show-coords -THrd out.filtered.delta > out.filtered.coords"
   ]
  },
  {
   "cell_type": "code",
   "execution_count": 156,
   "id": "f34fceb2-a76e-41be-8a69-cf59e97564aa",
   "metadata": {},
   "outputs": [
    {
     "name": "stdout",
     "output_type": "stream",
     "text": [
      "total 2640\n",
      "-rw-r--r-- 1 jovyan users 1829444 Nov  2 18:17 out.delta\n",
      "-rw-r--r-- 1 jovyan users  667053 Nov  2 18:19 out.filtered.delta\n",
      "-rw-r--r-- 1 jovyan users  101108 Nov  2 18:20 out.filtered.withHeader.coords\n",
      "-rw-r--r-- 1 jovyan users  100931 Nov  2 18:20 out.filtered.coords\n"
     ]
    }
   ],
   "source": [
    "ls -lrt"
   ]
  },
  {
   "cell_type": "code",
   "execution_count": 157,
   "id": "8de61c9e-17d4-4583-a36d-381d0a9f0435",
   "metadata": {},
   "outputs": [
    {
     "name": "stdout",
     "output_type": "stream",
     "text": [
      "==> out.filtered.coords <==\n",
      "1\t122\t482889\t482768\t122\t122\t100.00\t1\t-1\tChr_1\tChr_17\n",
      "394\t689\t228410\t228116\t296\t295\t92.23\t1\t-1\tChr_1\tChr_19\n",
      "484\t608\t220395\t220272\t125\t124\t91.20\t1\t-1\tChr_1\tChr_19\n",
      "495\t689\t226164\t225970\t195\t195\t92.82\t1\t-1\tChr_1\tChr_19\n",
      "799\t23710\t1041\t23963\t22912\t22923\t99.41\t1\t1\tChr_1\tChr_1\n",
      "6978\t7128\t1039\t886\t151\t154\t97.40\t1\t-1\tChr_1\tChr_1\n",
      "23711\t45447\t24062\t45783\t21737\t21722\t98.05\t1\t1\tChr_1\tChr_1\n",
      "26393\t26528\t451998\t451864\t136\t135\t97.06\t1\t-1\tChr_1\tChr_3\n",
      "36290\t36897\t973523\t974129\t608\t607\t99.51\t1\t1\tChr_1\tChr_8\n",
      "45590\t49328\t45931\t49682\t3739\t3752\t96.80\t1\t1\tChr_1\tChr_1\n",
      "\n",
      "==> out.filtered.withHeader.coords <==\n",
      "/home/jovyan/work/RESULTS/Assemblies/A8_assembly.fasta /home/jovyan/work/RESULTS/Assemblies/5417_assembly.fasta\n",
      "NUCMER\n",
      "\n",
      "[S1]\t[E1]\t[S2]\t[E2]\t[LEN 1]\t[LEN 2]\t[% IDY]\t[FRM]\t[TAGS]\n",
      "1\t122\t482889\t482768\t122\t122\t100.00\t1\t-1\tChr_1\tChr_17\n",
      "394\t689\t228410\t228116\t296\t295\t92.23\t1\t-1\tChr_1\tChr_19\n",
      "484\t608\t220395\t220272\t125\t124\t91.20\t1\t-1\tChr_1\tChr_19\n",
      "495\t689\t226164\t225970\t195\t195\t92.82\t1\t-1\tChr_1\tChr_19\n",
      "799\t23710\t1041\t23963\t22912\t22923\t99.41\t1\t1\tChr_1\tChr_1\n",
      "6978\t7128\t1039\t886\t151\t154\t97.40\t1\t-1\tChr_1\tChr_1\n"
     ]
    }
   ],
   "source": [
    "head *.coords"
   ]
  },
  {
   "cell_type": "markdown",
   "id": "0c84c259-cdc7-422e-9c7f-cc09838418c9",
   "metadata": {},
   "source": [
    "### <span style=\"color: #4CACBC;\"> SV calling using `SYRI` <a class=\"anchor\" id=\"siri\"></a></span>  \n"
   ]
  },
  {
   "cell_type": "code",
   "execution_count": 160,
   "id": "fda3a8b2-7768-4775-bbff-ba67b551d5ea",
   "metadata": {
    "tags": []
   },
   "outputs": [
    {
     "name": "stdout",
     "output_type": "stream",
     "text": [
      "/opt/conda/envs/syri_env/lib/python3.9/multiprocessing/pool.py:48: FutureWarning: Series.__getitem__ treating keys as positions is deprecated. In a future version, integer keys will always be treated as labels (consistent with DataFrame behavior). To access a value by position, use `ser.iloc[pos]`\n",
      "  return list(map(*args))\n",
      "/opt/conda/envs/syri_env/lib/python3.9/multiprocessing/pool.py:48: FutureWarning: Series.__getitem__ treating keys as positions is deprecated. In a future version, integer keys will always be treated as labels (consistent with DataFrame behavior). To access a value by position, use `ser.iloc[pos]`\n",
      "  return list(map(*args))\n",
      "/opt/conda/envs/syri_env/lib/python3.9/multiprocessing/pool.py:48: FutureWarning: Series.__getitem__ treating keys as positions is deprecated. In a future version, integer keys will always be treated as labels (consistent with DataFrame behavior). To access a value by position, use `ser.iloc[pos]`\n",
      "  return list(map(*args))\n",
      "/opt/conda/envs/syri_env/lib/python3.9/multiprocessing/pool.py:48: FutureWarning: Series.__getitem__ treating keys as positions is deprecated. In a future version, integer keys will always be treated as labels (consistent with DataFrame behavior). To access a value by position, use `ser.iloc[pos]`\n",
      "  return list(map(*args))\n",
      "/opt/conda/envs/syri_env/lib/python3.9/multiprocessing/pool.py:48: FutureWarning: Series.__getitem__ treating keys as positions is deprecated. In a future version, integer keys will always be treated as labels (consistent with DataFrame behavior). To access a value by position, use `ser.iloc[pos]`\n",
      "  return list(map(*args))\n",
      "/opt/conda/envs/syri_env/lib/python3.9/multiprocessing/pool.py:48: FutureWarning: Series.__getitem__ treating keys as positions is deprecated. In a future version, integer keys will always be treated as labels (consistent with DataFrame behavior). To access a value by position, use `ser.iloc[pos]`\n",
      "  return list(map(*args))\n",
      "/opt/conda/envs/syri_env/lib/python3.9/multiprocessing/pool.py:48: FutureWarning: Series.__getitem__ treating keys as positions is deprecated. In a future version, integer keys will always be treated as labels (consistent with DataFrame behavior). To access a value by position, use `ser.iloc[pos]`\n",
      "  return list(map(*args))\n",
      "/opt/conda/envs/syri_env/lib/python3.9/multiprocessing/pool.py:48: FutureWarning: Series.__getitem__ treating keys as positions is deprecated. In a future version, integer keys will always be treated as labels (consistent with DataFrame behavior). To access a value by position, use `ser.iloc[pos]`\n",
      "  return list(map(*args))\n",
      "/opt/conda/envs/syri_env/lib/python3.9/multiprocessing/pool.py:48: FutureWarning: Series.__getitem__ treating keys as positions is deprecated. In a future version, integer keys will always be treated as labels (consistent with DataFrame behavior). To access a value by position, use `ser.iloc[pos]`\n",
      "  return list(map(*args))\n",
      "/opt/conda/envs/syri_env/lib/python3.9/multiprocessing/pool.py:48: FutureWarning: Series.__getitem__ treating keys as positions is deprecated. In a future version, integer keys will always be treated as labels (consistent with DataFrame behavior). To access a value by position, use `ser.iloc[pos]`\n",
      "  return list(map(*args))\n",
      "/opt/conda/envs/syri_env/lib/python3.9/multiprocessing/pool.py:48: FutureWarning: Series.__getitem__ treating keys as positions is deprecated. In a future version, integer keys will always be treated as labels (consistent with DataFrame behavior). To access a value by position, use `ser.iloc[pos]`\n",
      "  return list(map(*args))\n",
      "local_variation - WARNING - Finished syri\n"
     ]
    }
   ],
   "source": [
    "syri -c out.filtered.coords -d out.filtered.delta -r $reference_assembly -q $query_assembly "
   ]
  },
  {
   "cell_type": "code",
   "execution_count": 162,
   "id": "a3f88d52-7edc-4d2c-a652-9ce1ac5531b9",
   "metadata": {},
   "outputs": [
    {
     "name": "stdout",
     "output_type": "stream",
     "text": [
      "total 59204\n",
      "-rw-r--r-- 1 jovyan users     8996 Nov  2 18:22 syri.log\n",
      "-rw-r--r-- 1 jovyan users      556 Nov  2 18:22 syri.summary\n",
      "-rw-r--r-- 1 jovyan users 36898454 Nov  2 18:22 syri.vcf\n",
      "-rw-r--r-- 1 jovyan users 21000671 Nov  2 18:22 syri.out\n",
      "-rw-r--r-- 1 jovyan users   100931 Nov  2 18:20 out.filtered.coords\n",
      "-rw-r--r-- 1 jovyan users   101108 Nov  2 18:20 out.filtered.withHeader.coords\n",
      "-rw-r--r-- 1 jovyan users   667053 Nov  2 18:19 out.filtered.delta\n",
      "-rw-r--r-- 1 jovyan users  1829444 Nov  2 18:17 out.delta\n"
     ]
    }
   ],
   "source": [
    "ls -lt"
   ]
  },
  {
   "cell_type": "code",
   "execution_count": 163,
   "id": "0fdcb7c6-d698-482c-b2a1-6d8f5f2b60e2",
   "metadata": {},
   "outputs": [
    {
     "name": "stdout",
     "output_type": "stream",
     "text": [
      "#Structural annotations\n",
      "#Variation_type\tCount\tLength_ref\tLength_qry\n",
      "Syntenic regions\t197\t14079055\t14107736\n",
      "Inversions\t32\t397553\t259052\n",
      "Translocations\t93\t91312\t90081\n",
      "Duplications (reference)\t152\t79812\t-\n",
      "Duplications (query)\t161\t-\t83493\n",
      "Not aligned (reference)\t372\t667759\t-\n",
      "Not aligned (query)\t413\t-\t738403\n",
      "\n",
      "\n",
      "#Sequence annotations\n",
      "#Variation_type\tCount\tLength_ref\tLength_qry\n",
      "SNPs\t239492\t239492\t239492\n",
      "Insertions\t31092\t-\t114051\n",
      "Deletions\t38036\t119912\t-\n",
      "Copygains\t32\t-\t13466\n",
      "Copylosses\t28\t17778\t-\n",
      "Highly diverged\t707\t488054\t383996\n",
      "Tandem repeats\t23\t8965\t10360\n"
     ]
    }
   ],
   "source": [
    "cat syri.summary"
   ]
  },
  {
   "cell_type": "code",
   "execution_count": 164,
   "id": "6de3d0f9-2198-4c0f-b813-6b4d3e41ab3c",
   "metadata": {},
   "outputs": [
    {
     "name": "stdout",
     "output_type": "stream",
     "text": [
      "##fileformat=VCFv4.3\n",
      "##fileDate=20231102\n",
      "##source=syri\n",
      "##ALT=<ID=SYN,Description=\"Syntenic region\">\n",
      "##ALT=<ID=INV,Description=\"Inversion\">\n",
      "##ALT=<ID=TRANS,Description=\"Translocation\">\n",
      "##ALT=<ID=INVTR,Description=\"Inverted Translocation\">\n",
      "##ALT=<ID=DUP,Description=\"Duplication\">\n",
      "##ALT=<ID=INVDP,Description=\"Inverted Duplication\">\n",
      "##ALT=<ID=SYNAL,Description=\"Syntenic alignment\">\n"
     ]
    }
   ],
   "source": [
    "head syri.vcf"
   ]
  },
  {
   "cell_type": "code",
   "execution_count": 169,
   "id": "5c75dc53-aff8-404a-8806-012626b51d16",
   "metadata": {},
   "outputs": [
    {
     "name": "stdout",
     "output_type": "stream",
     "text": [
      "-\t-\t-\t-\t-\tChr_9\t701140\t701276\tNOTAL776\t-\tNOTAL\t-\n",
      "-\t-\t-\t-\t-\tChr_9\t735428\t738835\tNOTAL777\t-\tNOTAL\t-\n",
      "-\t-\t-\t-\t-\tChr_9\t738993\t739177\tNOTAL778\t-\tNOTAL\t-\n",
      "-\t-\t-\t-\t-\tChr_9\t739322\t739749\tNOTAL779\t-\tNOTAL\t-\n",
      "-\t-\t-\t-\t-\tChr_9\t739861\t757123\tNOTAL780\t-\tNOTAL\t-\n",
      "-\t-\t-\t-\t-\tChr_9\t757443\t757592\tNOTAL781\t-\tNOTAL\t-\n",
      "-\t-\t-\t-\t-\tChr_9\t761215\t761682\tNOTAL782\t-\tNOTAL\t-\n",
      "-\t-\t-\t-\t-\tChr_9\t821104\t821384\tNOTAL783\t-\tNOTAL\t-\n",
      "-\t-\t-\t-\t-\tChr_9\t821595\t822304\tNOTAL784\t-\tNOTAL\t-\n",
      "-\t-\t-\t-\t-\tChr_9\t911784\t911854\tNOTAL785\t-\tNOTAL\t-\n"
     ]
    }
   ],
   "source": [
    "tail syri.out"
   ]
  },
  {
   "cell_type": "markdown",
   "id": "b6825e0b-9260-4fe7-be3e-c410f7fd92ba",
   "metadata": {},
   "source": [
    "### <span style=\"color: #4CACBC;\"> Extracting all SNP from syri  <a class=\"anchor\" id=\"siri\"></a></span>  "
   ]
  },
  {
   "cell_type": "code",
   "execution_count": 170,
   "id": "e3ecf3d7-a4b2-4d7b-85fa-a32b0ee60ede",
   "metadata": {},
   "outputs": [],
   "source": [
    "cat syri.out | grep SNP | cut -f 1,2 > a\n",
    "cat syri.out | grep SNP | cut -f 4,5 > b\n",
    "cat syri.out | grep SNP | cut -f 3 > c\n",
    "awk '{ print $1+1 }' c > d\n",
    "paste a d c > SNPs.bed\n",
    "rm a b c d\n"
   ]
  },
  {
   "cell_type": "code",
   "execution_count": 171,
   "id": "9ae51f46-f320-43ba-a20b-81f93d569c2d",
   "metadata": {},
   "outputs": [],
   "source": [
    "echo -e $reference_assembly'\\t ref' > plotsr_pos.txt\n",
    "echo -e $query_assembly'\\t query' >> plotsr_pos.txt"
   ]
  },
  {
   "cell_type": "code",
   "execution_count": 172,
   "id": "95244232-4453-4f76-989e-a49421166d87",
   "metadata": {},
   "outputs": [
    {
     "name": "stdout",
     "output_type": "stream",
     "text": [
      "/home/jovyan/work/RESULTS/Assemblies/A8_assembly.fasta\t ref\n",
      "/home/jovyan/work/RESULTS/Assemblies/5417_assembly.fasta\t query\n"
     ]
    }
   ],
   "source": [
    "head plotsr_pos.txt"
   ]
  },
  {
   "cell_type": "code",
   "execution_count": 173,
   "id": "96ffd3a6-6bf7-41da-a78c-84219fe96878",
   "metadata": {},
   "outputs": [
    {
     "name": "stdout",
     "output_type": "stream",
     "text": [
      "\u001b[0;49;32m2023-11-02 18:28:20,299 - Plotsr - INFO - Starting\u001b[0m\n",
      "\u001b[0;49;32m2023-11-02 18:28:21,405 - Plotsr - INFO - Plot plotsr.pdf generated.\u001b[0m\n",
      "\u001b[0;49;32m2023-11-02 18:28:21,405 - Plotsr - INFO - Finished\u001b[0m\n"
     ]
    }
   ],
   "source": [
    "plotsr --sr syri.out --genomes plotsr_pos.txt -s 500 -o plotsr.pdf -H 8 -W 5"
   ]
  },
  {
   "cell_type": "code",
   "execution_count": null,
   "id": "f4100dfd-1635-4203-92c7-f61ee3b8e90f",
   "metadata": {},
   "outputs": [],
   "source": []
  },
  {
   "cell_type": "markdown",
   "id": "6bad84f7-69fd-4ba5-8153-97a7369bc01b",
   "metadata": {},
   "source": [
    "\n",
    "## <span style=\"color:#006E7F\">II - Using assemblytics <a class=\"anchor\" id=\"SVsyri\"></a></span>  \n",
    "\n",
    "* Download the file .delta generated by nucmer. \n",
    "* Load this file on the assemblytics website : [http://assemblytics.com/](http://assemblytics.com/)\n",
    "\n",
    "---------------------"
   ]
  },
  {
   "cell_type": "markdown",
   "id": "0378192d-77c3-43d8-92f6-576ba13bf27b",
   "metadata": {},
   "source": [
    "## <span style=\"color:#006E7F\">II - III - using d-genies <a class=\"anchor\" id=\"SVsyri\"></a></span>  \n",
    "\n",
    "* Download the two genomes (fasta files)\n",
    "* Load these files on the d-genies website : [http://dgenies.toulouse.inra.fr/](http://dgenies.toulouse.inra.fr/)\n"
   ]
  },
  {
   "cell_type": "code",
   "execution_count": null,
   "id": "a45fbfec-3010-426d-9a43-d4ce290b58d7",
   "metadata": {},
   "outputs": [],
   "source": []
  },
  {
   "cell_type": "code",
   "execution_count": null,
   "id": "3adc7dc9-8795-4f8f-a160-c1327e216cf8",
   "metadata": {},
   "outputs": [],
   "source": []
  }
 ],
 "metadata": {
  "kernelspec": {
   "display_name": "Bash",
   "language": "bash",
   "name": "bash"
  },
  "language_info": {
   "codemirror_mode": "shell",
   "file_extension": ".sh",
   "mimetype": "text/x-sh",
   "name": "bash"
  }
 },
 "nbformat": 4,
 "nbformat_minor": 5
}
