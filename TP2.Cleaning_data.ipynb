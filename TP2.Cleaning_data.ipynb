{
 "cells": [
  {
   "cell_type": "markdown",
   "id": "4b71e5e2-431b-45c0-8e64-f9093c8c16d4",
   "metadata": {},
   "source": [
    "# <span style=\"color:green\">Formation au Burkina Faso 2022</span> - Initiation à l’analyse de données Minion pour l'analyse de métagénome viraux\n",
    "\n",
    "Created by J. Orjuela (DIADE-IRD), D. Filloux (PHIM-CIRAD) and A. Comte (PHIM-IRD) \n",
    "\n",
    "Septembre 2022\n",
    "\n",
    "***\n",
    "\n",
    "# <span style=\"color: #006E7F\">Table of contents</span>\n",
    "<a class=\"anchor\" id=\"home\"></a>\n",
    "   \n",
    "\n",
    "[TP2 - DATA CLEANING](#tp2) \n",
    "\n",
    "[1. Remove the host reads](#host)\n",
    "\n",
    "   * [1.1 downloading pineaple reference genome ](#pineapple)\n",
    "   * [1.2 Mapping the reads on the reference genome](#mappingpineapple)\n",
    "   * [1.3 Separate reads from pineapple and reads not from pineapple](#filterpineapple) \n",
    "\n",
    "[2. Remove other organisms reads](#clearother)\n",
    "   * [2.1 Remove fungi ](#fungi)\n",
    "   * [2.2 Remove bacteria](#bacteria)\n",
    "\n",
    "</span>\n",
    "\n",
    "***"
   ]
  },
  {
   "cell_type": "markdown",
   "id": "c605ea09-d7e1-4d71-918d-c06fa965aa56",
   "metadata": {},
   "source": [
    "# <span style=\"color:#006E7F\">__TP2 - DATA CLEANING__ <a class=\"anchor\" id=\"tp2\"></span>  \n"
   ]
  },
  {
   "cell_type": "markdown",
   "id": "f69805bc-25e3-4f9a-8532-52c6071f9a02",
   "metadata": {},
   "source": [
    "To save time and ressources, it's better to clean your data before launching heavy analysis.\n",
    "\n",
    "In our case, we are interrested in the viruses reads in the dataset only. Then, to alleviate the dataset, we can:\n",
    "- remove the host reads (pineapple reads)\n",
    "- remove the fungi reads\n",
    "- remove the bacteria reads\n",
    "- remove the human reads\n",
    "- ...\n",
    "\n",
    "To do so, we are going to map the reads on a reference genome or a given bank of genomes and remove the reads mapped on these genomes of the dataset."
   ]
  },
  {
   "cell_type": "markdown",
   "id": "cbcfa377-1822-4d9d-b9c9-5af1fcd209e7",
   "metadata": {},
   "source": [
    "## <span style=\"color: #4CACBC;\"> 1. Remove the host reads<a class=\"anchor\" id=\"host\"> </span>"
   ]
  },
  {
   "cell_type": "markdown",
   "id": "0e42bf28-6cdc-4bb0-b452-7b0556c7eac4",
   "metadata": {},
   "source": [
    "### <span style=\"color: #4CACBD;\"> 1.1 downloading pineaple reference genome  <a class=\"anchor\" id=\"pineapple\"></span>\n",
    "\n",
    "For cleaning the dataset, you need to download the reference genome of the host (pineapple).\n",
    "\n",
    "These data comme from [NCBI.](https://www.ncbi.nlm.nih.gov/data-hub/genome/GCF_001540865.1/)"
   ]
  },
  {
   "cell_type": "code",
   "execution_count": 1,
   "id": "a9514112-a336-4c84-a8ef-b9c4bf8a8828",
   "metadata": {},
   "outputs": [
    {
     "name": "stdout",
     "output_type": "stream",
     "text": [
      "--2022-09-05 21:11:05--  https://itrop.ird.fr/ont-training-2022/GCA_001540865.1_Ananas_comosus_cultivar_F153.fasta\n",
      "Resolving itrop.ird.fr (itrop.ird.fr)... 91.203.35.184\n",
      "Connecting to itrop.ird.fr (itrop.ird.fr)|91.203.35.184|:443... connected.\n",
      "HTTP request sent, awaiting response... 200 OK\n",
      "Length: 316005678 (301M)\n",
      "Saving to: ‘GCA_001540865.1_Ananas_comosus_cultivar_F153.fasta’\n",
      "\n",
      "GCA_001540865.1_Ana 100%[===================>] 301.37M  56.3MB/s    in 5.4s    \n",
      "\n",
      "2022-09-05 21:11:10 (56.3 MB/s) - ‘GCA_001540865.1_Ananas_comosus_cultivar_F153.fasta’ saved [316005678/316005678]\n",
      "\n",
      "FINISHED --2022-09-05 21:11:10--\n",
      "Total wall clock time: 5.6s\n",
      "Downloaded: 1 files, 301M in 5.4s (56.3 MB/s)\n"
     ]
    }
   ],
   "source": [
    "cd ~/work/SG-ONT-2022/DATA\n",
    "\n",
    "# download reference genome of the pineapple\n",
    "wget --no-check-certificat -rm -nH --cut-dirs=1 --reject=\"index.html*\" https://itrop.ird.fr/ont-training-2022/GCA_001540865.1_Ananas_comosus_cultivar_F153.fasta"
   ]
  },
  {
   "cell_type": "markdown",
   "id": "88218c90-c6e2-478f-b319-280629bd7e70",
   "metadata": {},
   "source": [
    "### <span style=\"color: #4CACBD;\"> 1.2 Mapping the reads on the reference genome <a class=\"anchor\" id=\"mappingpineapple\"></span>"
   ]
  },
  {
   "cell_type": "markdown",
   "id": "ae4d4b4c-2c67-488b-ba7f-973218d44fcc",
   "metadata": {},
   "source": [
    "Minimap2 is a fast sequence mapping and alignment program that can find overlaps between long noisy reads, or map long reads or their assemblies to a reference genome optionally with detailed alignment"
   ]
  },
  {
   "cell_type": "code",
   "execution_count": 2,
   "id": "61aff092-c674-4ce5-911e-c5bd2fb6e8a8",
   "metadata": {},
   "outputs": [
    {
     "name": "stdout",
     "output_type": "stream",
     "text": [
      "Usage: minimap2 [options] <target.fa>|<target.idx> [query.fa] [...]\n",
      "Options:\n",
      "  Indexing:\n",
      "    -H           use homopolymer-compressed k-mer (preferrable for PacBio)\n",
      "    -k INT       k-mer size (no larger than 28) [15]\n",
      "    -w INT       minimizer window size [10]\n",
      "    -I NUM       split index for every ~NUM input bases [4G]\n",
      "    -d FILE      dump index to FILE []\n",
      "  Mapping:\n",
      "    -f FLOAT     filter out top FLOAT fraction of repetitive minimizers [0.0002]\n",
      "    -g NUM       stop chain enlongation if there are no minimizers in INT-bp [5000]\n",
      "    -G NUM       max intron length (effective with -xsplice; changing -r) [200k]\n",
      "    -F NUM       max fragment length (effective with -xsr or in the fragment mode) [800]\n",
      "    -r NUM       bandwidth used in chaining and DP-based alignment [500]\n",
      "    -n INT       minimal number of minimizers on a chain [3]\n",
      "    -m INT       minimal chaining score (matching bases minus log gap penalty) [40]\n",
      "    -X           skip self and dual mappings (for the all-vs-all mode)\n",
      "    -p FLOAT     min secondary-to-primary score ratio [0.8]\n",
      "    -N INT       retain at most INT secondary alignments [5]\n",
      "  Alignment:\n",
      "    -A INT       matching score [2]\n",
      "    -B INT       mismatch penalty [4]\n",
      "    -O INT[,INT] gap open penalty [4,24]\n",
      "    -E INT[,INT] gap extension penalty; a k-long gap costs min{O1+k*E1,O2+k*E2} [2,1]\n",
      "    -z INT[,INT] Z-drop score and inversion Z-drop score [400,200]\n",
      "    -s INT       minimal peak DP alignment score [80]\n",
      "    -u CHAR      how to find GT-AG. f:transcript strand, b:both strands, n:don't match GT-AG [n]\n",
      "  Input/Output:\n",
      "    -a           output in the SAM format (PAF by default)\n",
      "    -o FILE      output alignments to FILE [stdout]\n",
      "    -L           write CIGAR with >65535 ops at the CG tag\n",
      "    -R STR       SAM read group line in a format like '@RG\\tID:foo\\tSM:bar' []\n",
      "    -c           output CIGAR in PAF\n",
      "    --cs[=STR]   output the cs tag; STR is 'short' (if absent) or 'long' [none]\n",
      "    --MD         output the MD tag\n",
      "    --eqx        write =/X CIGAR operators\n",
      "    -Y           use soft clipping for supplementary alignments\n",
      "    -t INT       number of threads [3]\n",
      "    -K NUM       minibatch size for mapping [500M]\n",
      "    --version    show version number\n",
      "  Preset:\n",
      "    -x STR       preset (always applied before other options; see minimap2.1 for details) []\n",
      "                 - map-pb/map-ont: PacBio/Nanopore vs reference mapping\n",
      "                 - ava-pb/ava-ont: PacBio/Nanopore read overlap\n",
      "                 - asm5/asm10/asm20: asm-to-ref mapping, for ~0.1/1/5% sequence divergence\n",
      "                 - splice: long-read spliced alignment\n",
      "                 - sr: genomic short-read mapping\n",
      "\n",
      "See `man ./minimap2.1' for detailed description of these and other advanced command-line options.\n"
     ]
    }
   ],
   "source": [
    "minimap2 --help"
   ]
  },
  {
   "cell_type": "code",
   "execution_count": 5,
   "id": "cfbb5b19-1641-4c85-a307-166bdcb99a65",
   "metadata": {},
   "outputs": [
    {
     "name": "stdout",
     "output_type": "stream",
     "text": [
      "[M::mm_idx_gen::9.156*1.79] collected minimizers\n",
      "[M::mm_idx_gen::11.975*2.07] sorted minimizers\n",
      "[M::main::11.975*2.07] loaded/built the index for 26 target sequence(s)\n",
      "[M::mm_mapopt_update::12.811*2.00] mid_occ = 222\n",
      "[M::mm_idx_stat] kmer size: 15; skip: 10; is_hpc: 0; #seq: 26\n",
      "[M::mm_idx_stat::13.361*1.96] distinct minimizers: 28562326 (70.71% are singletons); average occurrences: 2.064; average spacing: 5.360\n",
      "[M::worker_pipeline::251.579*2.95] mapped 793608 sequences\n",
      "[M::worker_pipeline::309.293*2.95] mapped 112482 sequences\n",
      "[M::main] Version: 2.17-r941\n",
      "[M::main] CMD: minimap2 -ax map-ont ../DATA/GCA_001540865.1_Ananas_comosus_cultivar_F153.fasta ../DATA/data.fastq\n",
      "[M::main] Real time: 309.364 sec; CPU: 913.049 sec; Peak RSS: 3.231 GB\n"
     ]
    }
   ],
   "source": [
    "# create output directory\n",
    "mkdir -p ~/work/SG-ONT-2022/CLEANING\n",
    "cd ~/work/SG-ONT-2022/CLEANING\n",
    "\n",
    "# Mapping\n",
    "minimap2 -ax map-ont  ../DATA/GCA_001540865.1_Ananas_comosus_cultivar_F153.fasta ../DATA/data.fastq > reads_vs_ananas.sam"
   ]
  },
  {
   "cell_type": "markdown",
   "id": "0771e53e-87cd-4a51-97b5-6f1279a5e49d",
   "metadata": {},
   "source": [
    "Observe the quantity of mapped reads with samtools:"
   ]
  },
  {
   "cell_type": "code",
   "execution_count": 6,
   "id": "eced75b7-2e65-4c07-9f04-77f6a574486e",
   "metadata": {},
   "outputs": [
    {
     "name": "stdout",
     "output_type": "stream",
     "text": [
      "1286838 + 0 in total (QC-passed reads + QC-failed reads)\n",
      "86917 + 0 secondary\n",
      "293831 + 0 supplementary\n",
      "0 + 0 duplicates\n",
      "880748 + 0 mapped (68.44% : N/A)\n",
      "0 + 0 paired in sequencing\n",
      "0 + 0 read1\n",
      "0 + 0 read2\n",
      "0 + 0 properly paired (N/A : N/A)\n",
      "0 + 0 with itself and mate mapped\n",
      "0 + 0 singletons (N/A : N/A)\n",
      "0 + 0 with mate mapped to a different chr\n",
      "0 + 0 with mate mapped to a different chr (mapQ>=5)\n"
     ]
    }
   ],
   "source": [
    "samtools flagstats reads_vs_ananas.sam"
   ]
  },
  {
   "cell_type": "markdown",
   "id": "40db77ed-c5bc-411c-adaf-a0986d55b22e",
   "metadata": {},
   "source": [
    "What is the percentage of reads mapping on the pineapple genome in this dataset?"
   ]
  },
  {
   "cell_type": "markdown",
   "id": "2e3cdf14-4775-40b8-9e29-2f0f2fec65d5",
   "metadata": {},
   "source": [
    "### <span style=\"color: #4CACBD;\"> Sam format </span>\n",
    "\n",
    "SAM stands for Sequence Alignment/Map format. It is a TAB-delimited text format consisting of a header section, which is optional, and an alignment section. If present, the header must be prior to the alignments.\n",
    "Header lines start with ‘@’, while alignment lines do not. Each alignment line has 11 mandatory fields for essential alignment information. The eleven fields are always present and in the order shown below:"
   ]
  },
  {
   "cell_type": "markdown",
   "id": "158b7a0d-1420-4697-bb3a-ebb1e41173ba",
   "metadata": {},
   "source": [
    "| Col | Field | Type | Regexp/Range | Brief description |\n",
    "| --- | --- | --- | --- | --- |\n",
    "| 1 | QNAME | String | [!-?A-~]{1,254} | Query template NAME |\n",
    "| 2 | FLAG | Int | [0, 216 − 1] | bitwise FLAG |\n",
    "| 3 | RNAME | String | \\*|[:rname:∧*=][:rname:]* | Reference sequence NAME11 |\n",
    "| 4 | POS | Int | [0, 231 − 1] | 1-based leftmost mapping POSition |\n",
    "| 5 | MAPQ | Int | [0, 28 − 1] | MAPping Quality |\n",
    "| 6 | CIGAR | String | \\*|([0-9]+[MIDNSHPX=])+ | CIGAR string |\n",
    "| 7 | RNEXT | String | \\*|=|[:rname:∧*=][:rname:]* | Reference name of the mate/next read |\n",
    "| 8 | PNEXT | Int | [0, 231 − 1] | Position of the mate/next read |\n",
    "| 9 | TLEN | Int | [−231 + 1, 231 − 1] | observed Template LENgth |\n",
    "| 10 | SEQ | String | \\*|[A-Za-z=.]+ | segment SEQuence |\n",
    "| 11 | QUAL | String | [!-~]+ | ASCII of Phred-scaled base QUALity+33 |"
   ]
  },
  {
   "cell_type": "markdown",
   "id": "eeac1933-6313-4183-80ac-9849764e2648",
   "metadata": {},
   "source": [
    "more information in : https://samtools.github.io/hts-specs/SAMv1.pdf"
   ]
  },
  {
   "cell_type": "markdown",
   "id": "cb7fe6e2-5533-450a-b17e-789b14a572a1",
   "metadata": {},
   "source": [
    "### Best practices are to convert sam to bam using `samtools` to save disk espace.\n",
    "\n",
    "`samtools view -b aln.sam > aln.bam`"
   ]
  },
  {
   "cell_type": "markdown",
   "id": "f44b3d65-7a6c-43bc-9080-2457a74a3afe",
   "metadata": {},
   "source": [
    "### <span style=\"color: #4CACBD;\"> 1.3 Separate reads from pineapple and reads not from pineapple <a class=\"anchor\" id=\"filterpineapple\"></span>"
   ]
  },
  {
   "cell_type": "markdown",
   "id": "eb133cb4-866e-4f1f-905d-8c0ff760ca66",
   "metadata": {},
   "source": [
    "Sam file can be filtered with samtools with the combination of **bitwise FLAGs**\n",
    "\n",
    "| Bit | Description |\n",
    "| --- | --- |\n",
    "| 1 0x1 | template having multiple segments in sequencing |\n",
    "| 2 0x2 | each segment properly aligned according to the aligner |\n",
    "| 4 0x4 | segment unmapped |\n",
    "| 8 0x8 | next segment in the template unmapped |\n",
    "| 16 0x10 | SEQ being reverse complemented |\n",
    "| 32 0x20 | SEQ of the next segment in the template being reverse complemented |\n",
    "| 64 0x40 | the first segment in the template |\n",
    "| 128 0x80 | the last segment in the template |\n",
    "| 256 0x100 | secondary alignment |\n",
    "| 512 0x200 | not passing filters, such as platform/vendor quality controls |\n",
    "| 1024 0x400 | PCR or optical duplicate |\n",
    "| 2048 0x800 | supplementary alignment |"
   ]
  },
  {
   "cell_type": "markdown",
   "id": "1842989c-7f80-443b-8c8b-f9fe4310f4d6",
   "metadata": {},
   "source": [
    "To separate mapped reads and umapped reads, we use samtools and the flag 4:"
   ]
  },
  {
   "cell_type": "code",
   "execution_count": 7,
   "id": "8228a757-2da5-4732-be0b-9af922f03ad9",
   "metadata": {},
   "outputs": [],
   "source": [
    "# go to the cleaning repository\n",
    "\n",
    "cd ~/work/SG-ONT-2022/CLEANING"
   ]
  },
  {
   "cell_type": "code",
   "execution_count": 8,
   "id": "bce0bc7d-22f4-411b-96e7-d36006a322e4",
   "metadata": {},
   "outputs": [],
   "source": [
    "# extract mapped reads (pineapple reads):\n",
    "\n",
    "samtools view -@ 4 -bh -F 4 reads_vs_ananas.sam > reads_vs_ananas_mapped.sam\n",
    "\n",
    "# unmapped reads (all reads exept pineapple):\n",
    "\n",
    "samtools view -@ 4 -bh -f 4 reads_vs_ananas.sam > reads_vs_ananas_unmapped.sam"
   ]
  },
  {
   "cell_type": "code",
   "execution_count": 9,
   "id": "4ea3ae58-014e-4436-83e3-3822bba86b10",
   "metadata": {},
   "outputs": [
    {
     "name": "stdout",
     "output_type": "stream",
     "text": [
      "[M::bam2fq_mainloop] discarded 0 singletons\n",
      "[M::bam2fq_mainloop] processed 406090 reads\n",
      "[M::bam2fq_mainloop] discarded 0 singletons\n",
      "[M::bam2fq_mainloop] processed 500000 reads\n"
     ]
    }
   ],
   "source": [
    "# sam to fastq\n",
    "\n",
    "samtools fastq reads_vs_ananas_unmapped.sam > reads_vs_ananas_unmapped.fastq\n",
    "samtools fastq reads_vs_ananas_mapped.sam > reads_vs_ananas_mapped.fastq"
   ]
  },
  {
   "cell_type": "markdown",
   "id": "beda4a6e-666f-421a-8608-dfd16c0675dd",
   "metadata": {},
   "source": [
    "#### How many reads are on the dataset now filtered of the pineapple reads?"
   ]
  },
  {
   "cell_type": "code",
   "execution_count": 10,
   "id": "434783da-aed1-452c-a62d-f2ef5f6e2403",
   "metadata": {},
   "outputs": [
    {
     "name": "stdout",
     "output_type": "stream",
     "text": [
      "406090\n"
     ]
    }
   ],
   "source": [
    "awk '{s++}END{print s/4}' reads_vs_ananas_unmapped.fastq"
   ]
  },
  {
   "cell_type": "markdown",
   "id": "d761ae93-d893-4a89-a164-2eae8addab8d",
   "metadata": {},
   "source": [
    "#### How many reads were filtered (How many pineapple reads)?"
   ]
  },
  {
   "cell_type": "code",
   "execution_count": 11,
   "id": "d68c8c93-7f52-4111-b27b-a349664ea4e6",
   "metadata": {},
   "outputs": [
    {
     "name": "stdout",
     "output_type": "stream",
     "text": [
      "500000\n"
     ]
    }
   ],
   "source": [
    "awk '{s++}END{print s/4}' reads_vs_ananas_mapped.fastq"
   ]
  },
  {
   "cell_type": "markdown",
   "id": "114e6438-9cd4-44b5-97df-c2ba1a798b7b",
   "metadata": {},
   "source": [
    "#### How many nucleic bases were mapped ?"
   ]
  },
  {
   "cell_type": "code",
   "execution_count": 12,
   "id": "6bdaf0e5-b3e4-4a3d-aec5-a1886880e28c",
   "metadata": {},
   "outputs": [
    {
     "name": "stdout",
     "output_type": "stream",
     "text": [
      "420673470\n"
     ]
    }
   ],
   "source": [
    "seqtk seq -A reads_vs_ananas_mapped.fastq | grep -v \">\" | wc -m"
   ]
  },
  {
   "cell_type": "markdown",
   "id": "9092b2b0-cffe-442d-b355-e950d1639b0c",
   "metadata": {},
   "source": [
    "#### What is the proportion of pineapple reads in oposition to the unmapped reads ?"
   ]
  },
  {
   "cell_type": "raw",
   "id": "305882db-d748-40a9-a584-50d283981d4b",
   "metadata": {},
   "source": [
    "#nb bases seqtk mapped / nb reads pineapple = taille moyenne des reads d'ananas\n",
    "\n",
    "=>>> TODO\n",
    "\n",
    "#nb bases seqtk unmapped / nb reads pineapple = taille moyenne des reads autres que l'ananas\n",
    "\n",
    "=>>> TODO\n",
    "\n",
    "#nb reads mappés *100 / reads totaux\n",
    "\n",
    "=>>> TODO"
   ]
  },
  {
   "cell_type": "markdown",
   "id": "d42a8759-8e09-439f-8a5d-aa657e0ec96e",
   "metadata": {},
   "source": [
    "## <span style=\"color: #4CACBC;\"> 2. Remove other organisms reads <a class=\"anchor\" id=\"clearother\"></span>"
   ]
  },
  {
   "cell_type": "markdown",
   "id": "e6c9fcbc-ef2b-48dc-9c9e-51b291d4ee8f",
   "metadata": {},
   "source": [
    "Here some example of other organisms reads you can remove and how to remove them.\n",
    "This step demand a lot a ressources because of the size of the genomic banks.\n",
    "\n",
    "<span style=\"color:red\">**WARNING : Please do not run any of the steps below.**</span> \n"
   ]
  },
  {
   "cell_type": "markdown",
   "id": "1506fba6-102e-4c68-a750-a64657e8f2a2",
   "metadata": {},
   "source": [
    "### <span style=\"color: #4CACBC;\"> 2.1 Remove fungi <a class=\"anchor\" id=\"fungi\"></span>"
   ]
  },
  {
   "cell_type": "markdown",
   "id": "6833ae31-32ed-4490-9c4b-2f68b353fd6a",
   "metadata": {},
   "source": [
    "#### Download fungi genomic bank <span style=\"color:red\"> (Don't run it! ) </span>"
   ]
  },
  {
   "cell_type": "raw",
   "id": "728c9dfc-7956-4346-a2a6-993a6e618b7a",
   "metadata": {},
   "source": [
    "# take few hours to download\n",
    "wget -r --no-parent -A fungi.*.genomic.fna.gz ftp://ftp.ncbi.nlm.nih.gov/refseq/release/fungi/\n",
    "cat fungi.*.genomic.fna.gz > fungi.genomic.fna.gz"
   ]
  },
  {
   "cell_type": "markdown",
   "id": "249431fb-7b5f-4fc6-ba62-55cad20afe21",
   "metadata": {},
   "source": [
    "#### Mapping of reads on the fungi genomic bank + remove fungi reads"
   ]
  },
  {
   "cell_type": "raw",
   "id": "645390b8-71c8-4c70-88f1-906ab702c247",
   "metadata": {},
   "source": [
    "minimap2 -ax map-ont --split-prefix=tmp fungi.genomic.fna.gz reads_vs_ananas_unmapped.fastq  > reads_vs_fungi.sam"
   ]
  },
  {
   "cell_type": "raw",
   "id": "80283525-8d29-406d-9804-6e0bd23d2c9a",
   "metadata": {},
   "source": [
    "# extract mapped reads (fungi reads):\n",
    "\n",
    "samtools view -@ 4 -bh -F 4 reads_vs_fungi.sam > reads_vs_fungi_mapped.sam\n",
    "\n",
    "# unmapped reads (all reads exept fungi):\n",
    "\n",
    "samtools view -@ 4 -bh -f 4 reads_vs_fungi.sam > reads_vs_fungi_unmapped.sam"
   ]
  },
  {
   "cell_type": "raw",
   "id": "1b5edb04-24ed-498e-aba0-699aef02560a",
   "metadata": {},
   "source": [
    "# sam to fastq\n",
    "\n",
    "samtools fastq reads_vs_fungi_unmapped.sam > reads_vs_fungi_unmapped.fastq"
   ]
  },
  {
   "cell_type": "markdown",
   "id": "b8813223-73e0-41ed-b01f-d6a88f3eee91",
   "metadata": {},
   "source": [
    "### <span style=\"color: #4CACBC;\"> 2.2 Remove bacteria <a class=\"anchor\" id=\"bactoche\"></span>"
   ]
  },
  {
   "cell_type": "markdown",
   "id": "66a13ba0-7252-45ae-b9e9-9e5c0c1ac8b6",
   "metadata": {},
   "source": [
    "#### Download bacteriae genomic bank <span style=\"color:red\"> (Don't run it! ) </span>"
   ]
  },
  {
   "cell_type": "raw",
   "id": "a9c0630c-6fbf-4c5b-b06c-c2fd32bd03a8",
   "metadata": {},
   "source": [
    "# take few hours to download\n",
    "wget -r --no-parent -A bacteria.*.genomic.fna.gz ftp://ftp.ncbi.nlm.nih.gov/refseq/release/bacteria/\n",
    "cat bacteria.*.genomic.fna.gz > bacteria.genomic.fna.gz"
   ]
  },
  {
   "cell_type": "markdown",
   "id": "23b95314-e2a5-42a5-a8c6-dbaa7a3984c0",
   "metadata": {},
   "source": [
    "#### Mapping of reads on the bacteriae genomic bank + remove bacteriae reads"
   ]
  },
  {
   "cell_type": "raw",
   "id": "be143033-2f2b-4882-bcc8-b404532be6c6",
   "metadata": {},
   "source": [
    "minimap2 -ax map-ont --split-prefix=tmp bacteria.genomic.fna.gz reads_vs_fungi_unmapped.fastq  > reads_vs_bacteria.sam"
   ]
  },
  {
   "cell_type": "raw",
   "id": "32e55491-ae0f-4a45-b3c9-20328fcc4c25",
   "metadata": {},
   "source": [
    "# extract mapped reads (bacteria reads):\n",
    "\n",
    "samtools view -@ 4 -bh -F 4 reads_vs_bacteria.sam > reads_vs_bacteria_mapped.sam\n",
    "\n",
    "# unmapped reads (all reads exept bacteria):\n",
    "\n",
    "samtools view -@ 4 -bh -f 4 reads_vs_bacteria.sam > reads_vs_bacteria_unmapped.sam"
   ]
  },
  {
   "cell_type": "raw",
   "id": "bbe9a577-dee1-424d-a557-135463526e1e",
   "metadata": {},
   "source": [
    "# sam to fastq\n",
    "\n",
    "samtools fastq reads_vs_bacteria_unmapped.sam > reads_vs_bacteria_unmapped.fastq"
   ]
  }
 ],
 "metadata": {
  "kernelspec": {
   "display_name": "Bash",
   "language": "bash",
   "name": "bash"
  },
  "language_info": {
   "codemirror_mode": "shell",
   "file_extension": ".sh",
   "mimetype": "text/x-sh",
   "name": "bash"
  }
 },
 "nbformat": 4,
 "nbformat_minor": 5
}
