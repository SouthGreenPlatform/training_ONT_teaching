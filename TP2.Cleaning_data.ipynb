{
 "cells": [
  {
   "cell_type": "markdown",
   "id": "4b71e5e2-431b-45c0-8e64-f9093c8c16d4",
   "metadata": {},
   "source": [
    "# Formation 2022  \n",
    "\n",
    "##  Initiation à l’analyse de données Minion pour l'analyse de métagénome viraux\n",
    "\n",
    "Created by J. Orjuela (DIADE-IRD), D. Filloux (PHIM-CIRAD) and A. Comte (PHIM-IRD) and from a formation by J. Orjuela (DIADE-IRD), F. Sabot (DIADE-IRD) and G. Sarah (AGAP-INRAE) given in Septembre 2021\n",
    "\n",
    "Septembre 2022\n",
    "\n",
    "\n",
    "# TP2 : DATA CLEANING"
   ]
  },
  {
   "cell_type": "markdown",
   "id": "f69805bc-25e3-4f9a-8532-52c6071f9a02",
   "metadata": {},
   "source": [
    "To save time and ressources, it's better to clean your data before launching heavy analysis.\n",
    "\n",
    "In our case, we are interrested in the viruses reads in the dataset only. Then, to alleviate the dataset, we can:\n",
    "- remove the host reads (pineapple reads)\n",
    "- remove the fungi reads\n",
    "- remove the bacteria reads\n",
    "- remove the human reads\n",
    "- ...\n",
    "\n",
    "To do so, we are going to map the reads on a reference genome or a given bank of genomes and remove the reads mapped on these genomes of the dataset."
   ]
  },
  {
   "cell_type": "markdown",
   "id": "cbcfa377-1822-4d9d-b9c9-5af1fcd209e7",
   "metadata": {},
   "source": [
    "## 1. Remove the host reads"
   ]
  },
  {
   "cell_type": "markdown",
   "id": "0e42bf28-6cdc-4bb0-b452-7b0556c7eac4",
   "metadata": {},
   "source": [
    "### 1.1 downloading pineaple reference genome\n",
    "\n",
    "For cleaning the dataset, you need to download the reference genome of the host (pineapple).\n",
    "\n",
    "These data comme from [NCBI.](https://www.ncbi.nlm.nih.gov/data-hub/genome/GCF_001540865.1/)"
   ]
  },
  {
   "cell_type": "code",
   "execution_count": null,
   "id": "5cd9418e-2e8c-42c2-96d8-697cf5a4aa88",
   "metadata": {},
   "outputs": [],
   "source": [
    "cd ~/SG-ONT-2022/DATA\n",
    "\n",
    "# download reference genome of the pineapple\n",
    "wget --no-check-certificat -rm -nH --cut-dirs=1 --reject=\"index.html*\" https://itrop.ird.fr/ont-training-2022/GCA_001540865.1_Ananas_comosus_cultivar_F153.fasta"
   ]
  },
  {
   "cell_type": "markdown",
   "id": "88218c90-c6e2-478f-b319-280629bd7e70",
   "metadata": {},
   "source": [
    "### 1.2 Mapping the reads on the reference genome"
   ]
  },
  {
   "cell_type": "markdown",
   "id": "ae4d4b4c-2c67-488b-ba7f-973218d44fcc",
   "metadata": {},
   "source": [
    "Minimap2 is a fast sequence mapping and alignment program that can find overlaps between long noisy reads, or map long reads or their assemblies to a reference genome optionally with detailed alignment"
   ]
  },
  {
   "cell_type": "code",
   "execution_count": null,
   "id": "61aff092-c674-4ce5-911e-c5bd2fb6e8a8",
   "metadata": {},
   "outputs": [],
   "source": [
    "minimap2 --help"
   ]
  },
  {
   "cell_type": "code",
   "execution_count": null,
   "id": "cfbb5b19-1641-4c85-a307-166bdcb99a65",
   "metadata": {},
   "outputs": [],
   "source": [
    "# create output directory\n",
    "mkdir cd ~/SG-ONT-2022/CLEANING\n",
    "cd ~/SG-ONT-2022/CLEANING\n",
    "\n",
    "# Mapping\n",
    "minimap2 -ax map-ont ../DATA/GCA_001540865.1_Ananas_comosus_cultivar_F153.fasta ../data/data.fastq > reads_vs_ananas.sam"
   ]
  },
  {
   "cell_type": "markdown",
   "id": "0771e53e-87cd-4a51-97b5-6f1279a5e49d",
   "metadata": {},
   "source": [
    "Observe the quantity of mapped reads with samtools:"
   ]
  },
  {
   "cell_type": "code",
   "execution_count": null,
   "id": "eced75b7-2e65-4c07-9f04-77f6a574486e",
   "metadata": {},
   "outputs": [],
   "source": [
    "samtools flagstats reads_vs_ananas.sam"
   ]
  },
  {
   "cell_type": "markdown",
   "id": "40db77ed-c5bc-411c-adaf-a0986d55b22e",
   "metadata": {},
   "source": [
    "What is the percentage of reads mapping on the pineapple genome in this dataset?"
   ]
  },
  {
   "cell_type": "markdown",
   "id": "f44b3d65-7a6c-43bc-9080-2457a74a3afe",
   "metadata": {},
   "source": [
    "### 1.3 Separate reads from pineapple and reads not from pineapple"
   ]
  },
  {
   "cell_type": "code",
   "execution_count": null,
   "id": "6c782038-9211-465c-a81d-facb3f059e34",
   "metadata": {},
   "outputs": [],
   "source": [
    "- explication sam et flag"
   ]
  },
  {
   "cell_type": "code",
   "execution_count": null,
   "id": "a4be75e0-78ae-4dcd-820b-1afe6ad10a3c",
   "metadata": {},
   "outputs": [],
   "source": []
  }
 ],
 "metadata": {
  "kernelspec": {
   "display_name": "Bash",
   "language": "bash",
   "name": "bash"
  },
  "language_info": {
   "name": ""
  }
 },
 "nbformat": 4,
 "nbformat_minor": 5
}
