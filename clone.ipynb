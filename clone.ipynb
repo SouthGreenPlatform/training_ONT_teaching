{
 "cells": [
  {
   "cell_type": "code",
   "execution_count": 1,
   "id": "2c70103f-f098-4469-92c0-ae3ee61b9814",
   "metadata": {},
   "outputs": [
    {
     "name": "stdout",
     "output_type": "stream",
     "text": [
      "Cloning into 'training_ONT_teaching'...\n",
      "remote: Enumerating objects: 33, done.\u001b[K\n",
      "remote: Counting objects: 100% (33/33), done.\u001b[K\n",
      "remote: Compressing objects: 100% (26/26), done.\u001b[K\n",
      "remote: Total 33 (delta 16), reused 12 (delta 6), pack-reused 0\u001b[K\n",
      "Unpacking objects: 100% (33/33), 37.75 KiB | 966.00 KiB/s, done.\n",
      "Branch '2021' set up to track remote branch '2021' from 'origin'.\n",
      "Switched to a new branch '2021'\n",
      "0.running_an_appliance_biosphere.ipynb  3.contigs_quality.ipynb  README.md\n",
      "1.raw_quality_control.ipynb             Assembly-ONT.ipynb\n",
      "2.assemblies.ipynb                      LICENSE\n"
     ]
    }
   ],
   "source": [
    "git clone --branch 2022 https://github.com/SouthGreenPlatform/training_ONT_teaching.git\n",
    "cd training_ONT_teaching"
   ]
  },
  {
   "cell_type": "code",
   "execution_count": null,
   "id": "0ba7053c-4f13-491b-afdc-5fbf4e6c10c1",
   "metadata": {},
   "outputs": [],
   "source": []
  }
 ],
 "metadata": {
  "kernelspec": {
   "display_name": "Bash",
   "language": "bash",
   "name": "bash"
  },
  "language_info": {
   "codemirror_mode": "shell",
   "file_extension": ".sh",
   "mimetype": "text/x-sh",
   "name": "bash"
  }
 },
 "nbformat": 4,
 "nbformat_minor": 5
}
