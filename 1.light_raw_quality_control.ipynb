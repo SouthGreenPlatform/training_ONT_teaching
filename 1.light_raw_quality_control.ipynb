{
 "cells": [
  {
   "cell_type": "markdown",
   "id": "aff6dddb",
   "metadata": {},
   "source": [
    "\n",
    "# <span style=\"color:#006E7F\">__Introduction to Oxford Nanopore Data Analysis__ <a class=\"anchor\"></span>  \n",
    "\n",
    "\n",
    "Created by J. Orjuela (DIADE-IRD), F. Sabot (DIADE-IRD) and G. Sarah (AGAP-INRAE) - Septembre 2021 Formation SouthGreen\n",
    "\n",
    "Adapted by J. Orjuela (DIADE-IRD), F. Sabot (DIADE-IRD) - Novembre 2022\n"
   ]
  },
  {
   "cell_type": "markdown",
   "id": "6d36a152",
   "metadata": {},
   "source": [
    "# <span style=\"color:#006E7F\">__TP1 - BASECALLING and QC__ <a class=\"anchor\" id=\"data\"></span>  \n",
    "    \n",
    "## <span style=\"color: #4CACBC;\"> 1. Creating the folder, downloading data and so on</span>  \n"
   ]
  },
  {
   "cell_type": "markdown",
   "id": "2d1b105f",
   "metadata": {},
   "source": [
    "### <span style=\"color: #4CACBD;\"> 1.1 Real data </span>\n",
    "\n",
    "Some steps in this practical training can not work in Clones dataset. A second dataset will be download.\n",
    "\n",
    "These data were generated in this [paper.](https://www.biorxiv.org/content/10.1101/2021.07.04.451066v1.full)\n",
    "\n",
    "Please decompress Hh dataset.\n"
   ]
  },
  {
   "cell_type": "code",
   "execution_count": null,
   "id": "f3148e05",
   "metadata": {},
   "outputs": [],
   "source": [
    "mkdir -p  ~/work/DATA\n",
    "cd ~/work/DATA\n",
    "wget --no-check-certificat -rm -nH --cut-dirs=1 --reject=\"index.html*\" https://itrop.ird.fr/ont-training/real_Hh.tar.gz"
   ]
  },
  {
   "cell_type": "code",
   "execution_count": null,
   "id": "595e9fa0-b6a5-4c9a-97ba-69ca47bbb4c9",
   "metadata": {
    "tags": []
   },
   "outputs": [],
   "source": [
    "#decompress file\n",
    "tar zxvf real_Hh.tar.gz"
   ]
  },
  {
   "cell_type": "markdown",
   "id": "1be14d7d",
   "metadata": {
    "tags": []
   },
   "source": [
    "## <span style=\"color: #4CACBC;\"> 2. Basecalling </span>  \n",
    "\n",
    "When DNA molecules are sequenced, electrical signals are stocked on fast5 format files.\n",
    "\n",
    "These signals need to be converted on standard fastq files to post-analysis.\n",
    "\n",
    "Several training dataset models are usually used to convert fast5 to fastq. \n",
    "\n",
    "### <span style=\"color: #4CACBD;\"> 2.1 Basecalling with Guppy  <span style=\"color:red\"> (Don't run it! ) </span> </span>"
   ]
  },
  {
   "cell_type": "markdown",
   "id": "22e07fab",
   "metadata": {},
   "source": [
    "Guppy is a data processing toolkit that contains the 'Oxford Nanopore Technologies' basecalling algorithms, and several bioinformatic post-processing features.\n",
    "\n",
    "Basecalling with guppy can be launch using guppy tool. \n",
    "\n",
    "Guppy takes fast5 raw read files and transform electrical signal in fastq files.\n",
    "\n",
    "We recommend to basecaller yours dataset using a GPU graphic card to obtain results quickly.\n",
    "\n",
    "Documentation about how to run Guppy on I-trop GPU can be found on https://bioinfo.ird.fr/index.php/tutorials-fr/gpu/\n"
   ]
  },
  {
   "cell_type": "code",
   "execution_count": null,
   "id": "e94c0a79",
   "metadata": {},
   "outputs": [],
   "source": [
    "MODEL=\"dna_r9.4.1_450bps_hac.cfg\"\n",
    "INPUT=\"path/to/FAST5\"\n",
    "OUTPUT=\"/path/to/FASTQ\"\n",
    "echo \"guppy_basecaller -c ${MODEL} -i ${INPUT} --recursive -s ${OUTPUT} --num_callers 8 --gpu_runners_per_device 8 --device auto --min_qscore 7 --compress_fastq\""
   ]
  },
  {
   "cell_type": "markdown",
   "id": "456ef94a",
   "metadata": {},
   "source": [
    "## <span style=\"color: #4CACBC;\"> 3. Quality Control on Long Reads </span>  \n"
   ]
  },
  {
   "cell_type": "markdown",
   "id": "afce201e",
   "metadata": {},
   "source": [
    "Calculating data quantity"
   ]
  },
  {
   "cell_type": "code",
   "execution_count": null,
   "id": "926d9dc8-b5c8-4b8b-b8ca-002fc751276d",
   "metadata": {},
   "outputs": [],
   "source": [
    "cd ~/work/DATA\n",
    "pwd"
   ]
  },
  {
   "cell_type": "markdown",
   "id": "f311055b-f17b-40d9-8d94-ad80458a3282",
   "metadata": {},
   "source": [
    "Calculating how many bases were sequenced"
   ]
  },
  {
   "cell_type": "code",
   "execution_count": null,
   "id": "9c25a9ee",
   "metadata": {},
   "outputs": [],
   "source": [
    "seqtk seq -A /home/jovyan/work/DATA/real_Hh/H_M1C132_1.fastq.gz | grep -v \">\" |wc -m"
   ]
  },
  {
   "cell_type": "code",
   "execution_count": null,
   "id": "e4d33204-e607-4aac-9671-fcf87c555297",
   "metadata": {},
   "outputs": [],
   "source": [
    "seqtk seq -A /home/jovyan/work/DATA/real_Hh/REFH_M1C132.fasta | grep -v \">\" |wc -m"
   ]
  },
  {
   "cell_type": "markdown",
   "id": "4e584d66-50b5-4a32-a611-e6f1419b35e5",
   "metadata": {},
   "source": [
    "What is the sequencing depth if Hh lenght is about 2.1Mb (2111572pb) ?"
   ]
  },
  {
   "cell_type": "code",
   "execution_count": null,
   "id": "689135bf-9f23-4007-829e-441f817304a4",
   "metadata": {},
   "outputs": [],
   "source": []
  },
  {
   "cell_type": "markdown",
   "id": "1258e568-39ff-4f63-b2ec-f7baf1f76eba",
   "metadata": {},
   "source": [
    "### <span style=\"color: #4CACBD;\"> 3.1 Quality Control of FASTQ with Nanoplot (Hh real data --fastq ) </span>\n"
   ]
  },
  {
   "cell_type": "markdown",
   "id": "ebf512dd",
   "metadata": {},
   "source": [
    "Control reads quality using Nanoplot. You can parameter this tool using --help."
   ]
  },
  {
   "cell_type": "code",
   "execution_count": null,
   "id": "126b58ef",
   "metadata": {
    "tags": []
   },
   "outputs": [],
   "source": [
    "NanoPlot --help"
   ]
  },
  {
   "cell_type": "markdown",
   "id": "d9e0fbc5-847b-4f90-99da-79fff9e9e05c",
   "metadata": {},
   "source": [
    "Check quality using NanoPlot over Hh real data fastq"
   ]
  },
  {
   "cell_type": "code",
   "execution_count": null,
   "id": "70c5bd7e-aad2-4115-abdc-198a8180b2ac",
   "metadata": {},
   "outputs": [],
   "source": [
    "# create a folder to save results\n",
    "mkdir -p ~/work/RESULTS\n",
    "cd ~/work/RESULTS"
   ]
  },
  {
   "cell_type": "code",
   "execution_count": null,
   "id": "4c303953-6ec2-44ad-9139-9b769304eb6a",
   "metadata": {},
   "outputs": [],
   "source": [
    "time NanoPlot -t 8 --fastq ../DATA/real_Hh/H_M1C132_1.fastq.gz --outdir NANOPLOT_Hh"
   ]
  },
  {
   "cell_type": "markdown",
   "id": "781a184f-c6c0-4d02-80f6-c30ba9d82279",
   "metadata": {},
   "source": [
    "Observe NanoStats.txt file"
   ]
  },
  {
   "cell_type": "code",
   "execution_count": null,
   "id": "02cb46b3-e223-402f-93c6-37f6cc4b149a",
   "metadata": {},
   "outputs": [],
   "source": [
    "cat NANOPLOT_Hh/NanoStats.txt"
   ]
  },
  {
   "cell_type": "markdown",
   "id": "8a9507e3",
   "metadata": {
    "tags": []
   },
   "source": [
    "## Observe `report.html` file\n",
    "\n",
    "* What do you think about data? \n",
    "\n",
    "* What about reads quality qscore?"
   ]
  },
  {
   "cell_type": "markdown",
   "id": "192ec507",
   "metadata": {},
   "source": [
    "### <span style=\"color: #4CACBD;\"> Others complemental tools </span>\n",
    " \n",
    "\n",
    "https://github.com/wdecoster/NanoPlot#companion-scripts\n",
    "\n",
    "* NanoComp: comparing multiple runs\n",
    "\n",
    "* NanoStat: statistic summary report of reads or alignments\n",
    "\n",
    "* NanoFilt: filtering and trimming of reads\n",
    "\n",
    "* NanoLyse: removing contaminant reads (e.g. lambda control DNA) from fastq\n",
    "\n",
    "* FiltLong : filtering long reads by quality https://github.com/rrwick/Filtlong\n"
   ]
  }
 ],
 "metadata": {
  "kernelspec": {
   "display_name": "Bash",
   "language": "bash",
   "name": "bash"
  },
  "language_info": {
   "codemirror_mode": "shell",
   "file_extension": ".sh",
   "mimetype": "text/x-sh",
   "name": "bash"
  }
 },
 "nbformat": 4,
 "nbformat_minor": 5
}
