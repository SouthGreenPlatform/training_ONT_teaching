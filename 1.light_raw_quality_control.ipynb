{
 "cells": [
  {
   "cell_type": "markdown",
   "id": "aff6dddb",
   "metadata": {},
   "source": [
    "\n",
    "# <span style=\"color:#006E7F\">__Introduction to Oxford Nanopore Data Analysis__ <a class=\"anchor\"></span>  \n",
    "\n",
    "\n",
    "Created by J. Orjuela (DIADE-IRD), F. Sabot (DIADE-IRD) and G. Sarah (AGAP-INRAE) - Septembre 2021 Formation SouthGreen\n",
    "\n",
    "Adapted by J. Orjuela (DIADE-IRD), F. Sabot (DIADE-IRD) - Novembre 2022\n",
    "    \n",
    "Adapted by J. Orjuela (DIADE-IRD) - Mai 2023"
   ]
  },
  {
   "cell_type": "markdown",
   "id": "6d36a152",
   "metadata": {},
   "source": [
    "# <span style=\"color:#006E7F\">__TP1 - BASECALLING and QC__ <a class=\"anchor\" id=\"data\"></span>  \n",
    "    \n",
    "## <span style=\"color: #4CACBC;\"> 1. Creating the folder, downloading data and so on</span>  \n"
   ]
  },
  {
   "cell_type": "markdown",
   "id": "2d1b105f",
   "metadata": {},
   "source": [
    "### <span style=\"color: #4CACBD;\"> 1.1 Real data </span>\n",
    "\n",
    "Before starting, please download special data created for this practical training. Data are available on the  from I-Trop server.\n",
    "\n",
    "Each participant will analyse a alguea samples from this PAPER??? [paper.](https://www.biorxiv.org/content/10.1101/2021.07.04.451066v1.full)\n"
   ]
  },
  {
   "cell_type": "code",
   "execution_count": 11,
   "id": "f3148e05",
   "metadata": {},
   "outputs": [],
   "source": [
    "cd ~/work\n",
    "mkdir -p DATA\n",
    "cd DATA\n",
    "# download your compressed algae 4222  \n",
    "#wget --no-check-certificat -rm -nH --cut-dirs=1 --reject=\"index.html*\" https://itrop.ird.fr/algae_data/4222_RB2.fastq.gz"
   ]
  },
  {
   "cell_type": "markdown",
   "id": "50cb200b-f006-491c-a761-b6a0f4439667",
   "metadata": {},
   "source": [
    "Downloading available reference genome fasta file from XX. We will use this reference genome to compare with our results."
   ]
  },
  {
   "cell_type": "code",
   "execution_count": 6,
   "id": "fc63914e-e054-4f61-bf00-e524db22f2c2",
   "metadata": {},
   "outputs": [
    {
     "name": "stdout",
     "output_type": "stream",
     "text": [
      "--2023-05-18 14:38:51--  https://itrop.ird.fr/algae_data/G11_RB6_FLYE_MEDAKA_PILON_RAGTAG_GC.fasta\n",
      "Resolving itrop.ird.fr (itrop.ird.fr)... 91.203.35.184\n",
      "Connecting to itrop.ird.fr (itrop.ird.fr)|91.203.35.184|:443... connected.\n",
      "HTTP request sent, awaiting response... 200 OK\n",
      "Length: 15487955 (15M)\n",
      "Saving to: ‘G11_RB6_FLYE_MEDAKA_PILON_RAGTAG_GC.fasta’\n",
      "\n",
      "G11_RB6_FLYE_MEDAKA 100%[===================>]  14.77M  1.12MB/s    in 11s     \n",
      "\n",
      "2023-05-18 14:39:03 (1.37 MB/s) - ‘G11_RB6_FLYE_MEDAKA_PILON_RAGTAG_GC.fasta’ saved [15487955/15487955]\n",
      "\n",
      "FINISHED --2023-05-18 14:39:03--\n",
      "Total wall clock time: 12s\n",
      "Downloaded: 1 files, 15M in 11s (1.37 MB/s)\n"
     ]
    }
   ],
   "source": [
    "wget --no-check-certificat -rm -nH --cut-dirs=1 --reject=\"index.html*\" https://itrop.ird.fr/algae_data/G11_RB6_FLYE_MEDAKA_PILON_RAGTAG_GC.fasta"
   ]
  },
  {
   "cell_type": "code",
   "execution_count": 12,
   "id": "48aa3237-e957-4e4c-b9d6-fda03282bd02",
   "metadata": {},
   "outputs": [],
   "source": [
    "mkdir -p REF\n",
    "cd REF"
   ]
  },
  {
   "cell_type": "code",
   "execution_count": 13,
   "id": "e3baf2d0-f892-4453-9053-12b09faa9af4",
   "metadata": {},
   "outputs": [],
   "source": [
    "mv ../G11_RB6_FLYE_MEDAKA_PILON_RAGTAG_GC.fasta REF.fasta"
   ]
  },
  {
   "cell_type": "markdown",
   "id": "1be14d7d",
   "metadata": {
    "tags": []
   },
   "source": [
    "## <span style=\"color: #4CACBC;\"> 2. Basecalling </span>  \n",
    "\n",
    "When DNA molecules are sequenced, electrical signals are stocked on fast5 format files.\n",
    "\n",
    "These signals need to be converted on standard fastq files to post-analysis.\n",
    "\n",
    "Several training dataset models are usually used to convert fast5 to fastq. \n",
    "\n",
    "### <span style=\"color: #4CACBD;\"> 2.1 Basecalling with Guppy  <span style=\"color:red\"> (Don't run it! ) </span> </span>"
   ]
  },
  {
   "cell_type": "markdown",
   "id": "22e07fab",
   "metadata": {},
   "source": [
    "Guppy is a data processing toolkit that contains the 'Oxford Nanopore Technologies' basecalling algorithms, and several bioinformatic post-processing features.\n",
    "\n",
    "Basecalling with guppy can be launch using guppy tool. \n",
    "\n",
    "Guppy takes fast5 raw read files and transform electrical signal in fastq files.\n",
    "\n",
    "We recommend to basecaller yours dataset using a GPU graphic card to obtain results quickly.\n",
    "\n",
    "Documentation about how to run Guppy on I-trop GPU can be found on https://bioinfo.ird.fr/index.php/tutorials-fr/gpu/\n"
   ]
  },
  {
   "cell_type": "code",
   "execution_count": 1,
   "id": "e94c0a79",
   "metadata": {},
   "outputs": [
    {
     "name": "stdout",
     "output_type": "stream",
     "text": [
      "guppy_basecaller -c dna_r9.4.1_450bps_hac.cfg -i path/to/FAST5 --recursive -s /path/to/FASTQ --num_callers 8 --gpu_runners_per_device 8 --device auto --min_qscore 7 --compress_fastq\n"
     ]
    }
   ],
   "source": [
    "MODEL=\"dna_r9.4.1_450bps_hac.cfg\"\n",
    "INPUT=\"path/to/FAST5\"\n",
    "OUTPUT=\"/path/to/FASTQ\"\n",
    "echo \"guppy_basecaller -c ${MODEL} -i ${INPUT} --recursive -s ${OUTPUT} --num_callers 8 --gpu_runners_per_device 8 --device auto --min_qscore 7 --compress_fastq\""
   ]
  },
  {
   "cell_type": "markdown",
   "id": "456ef94a",
   "metadata": {},
   "source": [
    "## <span style=\"color: #4CACBC;\"> 3. Quality Control on Long Reads </span>  \n"
   ]
  },
  {
   "cell_type": "markdown",
   "id": "afce201e",
   "metadata": {},
   "source": [
    "Calculating data quantity"
   ]
  },
  {
   "cell_type": "code",
   "execution_count": 14,
   "id": "926d9dc8-b5c8-4b8b-b8ca-002fc751276d",
   "metadata": {},
   "outputs": [
    {
     "name": "stdout",
     "output_type": "stream",
     "text": [
      "/home/jovyan/work/DATA\n"
     ]
    }
   ],
   "source": [
    "cd ~/work/DATA\n",
    "pwd"
   ]
  },
  {
   "cell_type": "markdown",
   "id": "f311055b-f17b-40d9-8d94-ad80458a3282",
   "metadata": {},
   "source": [
    "Calculating how many bases were sequenced"
   ]
  },
  {
   "cell_type": "code",
   "execution_count": 18,
   "id": "9c25a9ee",
   "metadata": {},
   "outputs": [
    {
     "name": "stdout",
     "output_type": "stream",
     "text": [
      "746854316\n"
     ]
    }
   ],
   "source": [
    "seqtk seq -A /home/jovyan/work/DATA/4222_RB2.fastq.gz | grep -v \">\" | wc -m"
   ]
  },
  {
   "cell_type": "code",
   "execution_count": 19,
   "id": "e4d33204-e607-4aac-9671-fcf87c555297",
   "metadata": {},
   "outputs": [
    {
     "name": "stdout",
     "output_type": "stream",
     "text": [
      "15333808\n"
     ]
    }
   ],
   "source": [
    "seqtk seq -A /home/jovyan/work/DATA/REF/REF.fasta | grep -v \">\" |wc -m"
   ]
  },
  {
   "cell_type": "markdown",
   "id": "4e584d66-50b5-4a32-a611-e6f1419b35e5",
   "metadata": {},
   "source": [
    "### What is the sequencing depth if REF.fasta lenght is about 15.3Mb (15333808pb) ?"
   ]
  },
  {
   "cell_type": "code",
   "execution_count": null,
   "id": "689135bf-9f23-4007-829e-441f817304a4",
   "metadata": {},
   "outputs": [],
   "source": []
  },
  {
   "cell_type": "markdown",
   "id": "1258e568-39ff-4f63-b2ec-f7baf1f76eba",
   "metadata": {},
   "source": [
    "### <span style=\"color: #4CACBD;\"> 3.1 Quality Control of FASTQ with Nanoplot (Hh real data --fastq ) </span>\n"
   ]
  },
  {
   "cell_type": "markdown",
   "id": "ebf512dd",
   "metadata": {},
   "source": [
    "Control reads quality using Nanoplot. You can parameter this tool using --help."
   ]
  },
  {
   "cell_type": "code",
   "execution_count": null,
   "id": "126b58ef",
   "metadata": {
    "tags": []
   },
   "outputs": [],
   "source": [
    "NanoPlot --help"
   ]
  },
  {
   "cell_type": "markdown",
   "id": "d9e0fbc5-847b-4f90-99da-79fff9e9e05c",
   "metadata": {},
   "source": [
    "Check quality using NanoPlot over Hh real data fastq"
   ]
  },
  {
   "cell_type": "code",
   "execution_count": 20,
   "id": "70c5bd7e-aad2-4115-abdc-198a8180b2ac",
   "metadata": {},
   "outputs": [],
   "source": [
    "# create a folder to save results\n",
    "mkdir -p ~/work/RESULTS\n",
    "cd ~/work/RESULTS"
   ]
  },
  {
   "cell_type": "code",
   "execution_count": 23,
   "id": "4c303953-6ec2-44ad-9139-9b769304eb6a",
   "metadata": {},
   "outputs": [
    {
     "name": "stdout",
     "output_type": "stream",
     "text": [
      "\n",
      "real\t1m25.246s\n",
      "user\t1m10.348s\n",
      "sys\t0m1.987s\n"
     ]
    }
   ],
   "source": [
    "time NanoPlot -t 8 --fastq ~/work/DATA/4222_RB2.fastq.gz --outdir NANOPLOT_4222"
   ]
  },
  {
   "cell_type": "markdown",
   "id": "781a184f-c6c0-4d02-80f6-c30ba9d82279",
   "metadata": {},
   "source": [
    "Observe NanoStats.txt file"
   ]
  },
  {
   "cell_type": "code",
   "execution_count": 24,
   "id": "02cb46b3-e223-402f-93c6-37f6cc4b149a",
   "metadata": {},
   "outputs": [
    {
     "name": "stdout",
     "output_type": "stream",
     "text": [
      "General summary:         \n",
      "Mean read length:               11,898.6\n",
      "Mean read quality:                  12.7\n",
      "Median read length:              7,828.0\n",
      "Median read quality:                12.9\n",
      "Number of reads:                62,763.0\n",
      "Read length N50:                20,829.0\n",
      "STDEV read length:              12,487.7\n",
      "Total bases:               746,791,553.0\n",
      "Number, percentage and megabases of reads above quality cutoffs\n",
      ">Q5:\t62763 (100.0%) 746.8Mb\n",
      ">Q7:\t62762 (100.0%) 746.8Mb\n",
      ">Q10:\t55006 (87.6%) 672.3Mb\n",
      ">Q12:\t40974 (65.3%) 521.9Mb\n",
      ">Q15:\t9351 (14.9%) 129.7Mb\n",
      "Top 5 highest mean basecall quality scores and their read lengths\n",
      "1:\t20.1 (1894)\n",
      "2:\t19.9 (3008)\n",
      "3:\t19.5 (4601)\n",
      "4:\t19.4 (4374)\n",
      "5:\t19.4 (13533)\n",
      "Top 5 longest reads and their mean basecall quality score\n",
      "1:\t142831 (16.3)\n",
      "2:\t125499 (13.6)\n",
      "3:\t121149 (16.1)\n",
      "4:\t118209 (8.8)\n",
      "5:\t116238 (14.6)\n"
     ]
    }
   ],
   "source": [
    "cat NANOPLOT_4222/NanoStats.txt"
   ]
  },
  {
   "cell_type": "markdown",
   "id": "8a9507e3",
   "metadata": {
    "tags": []
   },
   "source": [
    "## Observe `report.html` file\n",
    "\n",
    "* What do you think about data? \n",
    "\n",
    "* What about reads quality qscore?"
   ]
  },
  {
   "cell_type": "markdown",
   "id": "192ec507",
   "metadata": {},
   "source": [
    "### <span style=\"color: #4CACBD;\"> Others complemental tools </span>\n",
    " \n",
    "\n",
    "https://github.com/wdecoster/NanoPlot#companion-scripts\n",
    "\n",
    "* NanoComp: comparing multiple runs\n",
    "\n",
    "* NanoStat: statistic summary report of reads or alignments\n",
    "\n",
    "* NanoFilt: filtering and trimming of reads\n",
    "\n",
    "* NanoLyse: removing contaminant reads (e.g. lambda control DNA) from fastq\n",
    "\n",
    "* FiltLong : filtering long reads by quality https://github.com/rrwick/Filtlong\n"
   ]
  }
 ],
 "metadata": {
  "kernelspec": {
   "display_name": "Bash",
   "language": "bash",
   "name": "bash"
  },
  "language_info": {
   "codemirror_mode": "shell",
   "file_extension": ".sh",
   "mimetype": "text/x-sh",
   "name": "bash"
  }
 },
 "nbformat": 4,
 "nbformat_minor": 5
}
