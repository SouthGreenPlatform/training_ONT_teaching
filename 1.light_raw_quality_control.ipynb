{
 "cells": [
  {
   "cell_type": "markdown",
   "id": "aff6dddb",
   "metadata": {},
   "source": [
    "\n",
    "# <span style=\"color:#006E7F\">__Introduction to Oxford Nanopore Data Analysis__ <a class=\"anchor\"></span>  \n",
    "\n",
    "\n",
    "Created by J. Orjuela (DIADE-IRD), F. Sabot (DIADE-IRD) and G. Sarah (AGAP-INRAE) - Septembre 2021 Formation SouthGreen\n",
    "\n",
    "Adapted by J. Orjuela (DIADE-IRD), F. Sabot (DIADE-IRD) - Novembre 2022\n",
    "    \n",
    "Adapted by J. Orjuela (DIADE-IRD) - Mai 2023"
   ]
  },
  {
   "cell_type": "markdown",
   "id": "6d36a152",
   "metadata": {},
   "source": [
    "# <span style=\"color:#006E7F\">__TP1 - BASECALLING and QC__ <a class=\"anchor\" id=\"data\"></span>  \n",
    "    \n",
    "## <span style=\"color: #4CACBC;\"> 1. Creating the folder, downloading data and so on</span>  \n"
   ]
  },
  {
   "cell_type": "markdown",
   "id": "2d1b105f",
   "metadata": {},
   "source": [
    "### <span style=\"color: #4CACBD;\"> 1.1 Real data </span>\n",
    "\n",
    "Before starting, please download special data created for this practical training. Data are available on the  from I-Trop server.\n",
    "\n",
    "Each participant will analyse a alguea samples from Louis Dennui. \n"
   ]
  },
  {
   "cell_type": "code",
   "execution_count": 1,
   "id": "f3148e05",
   "metadata": {
    "scrolled": true
   },
   "outputs": [
    {
     "name": "stdout",
     "output_type": "stream",
     "text": [
      "--2023-10-28 08:18:41--  https://itrop.ird.fr/algae_data/4222_RB2.fastq.gz\n",
      "Resolving itrop.ird.fr (itrop.ird.fr)... 91.203.35.184\n",
      "Connecting to itrop.ird.fr (itrop.ird.fr)|91.203.35.184|:443... connected.\n",
      "HTTP request sent, awaiting response... 200 OK\n",
      "Length: 732289673 (698M) [application/x-gzip]\n",
      "Saving to: ‘4222_RB2.fastq.gz’\n",
      "\n",
      "4222_RB2.fastq.gz   100%[===================>] 698.37M  57.4MB/s    in 12s     \n",
      "\n",
      "2023-10-28 08:18:54 (56.4 MB/s) - ‘4222_RB2.fastq.gz’ saved [732289673/732289673]\n",
      "\n",
      "FINISHED --2023-10-28 08:18:54--\n",
      "Total wall clock time: 13s\n",
      "Downloaded: 1 files, 698M in 12s (56.4 MB/s)\n",
      "--2023-10-28 08:18:54--  https://itrop.ird.fr/algae_data/B8_RB11.fastq.gz\n",
      "Resolving itrop.ird.fr (itrop.ird.fr)... 91.203.35.184\n",
      "Connecting to itrop.ird.fr (itrop.ird.fr)|91.203.35.184|:443... connected.\n",
      "HTTP request sent, awaiting response... 200 OK\n",
      "Length: 651185188 (621M) [application/x-gzip]\n",
      "Saving to: ‘B8_RB11.fastq.gz’\n",
      "\n",
      "B8_RB11.fastq.gz    100%[===================>] 621.02M  51.5MB/s    in 12s     \n",
      "\n",
      "2023-10-28 08:19:07 (50.1 MB/s) - ‘B8_RB11.fastq.gz’ saved [651185188/651185188]\n",
      "\n",
      "FINISHED --2023-10-28 08:19:07--\n",
      "Total wall clock time: 13s\n",
      "Downloaded: 1 files, 621M in 12s (50.1 MB/s)\n",
      "--2023-10-28 08:19:07--  https://itrop.ird.fr/algae_data/G11_RB6_2022.fastq.gz\n",
      "Resolving itrop.ird.fr (itrop.ird.fr)... 91.203.35.184\n",
      "Connecting to itrop.ird.fr (itrop.ird.fr)|91.203.35.184|:443... connected.\n",
      "HTTP request sent, awaiting response... 200 OK\n",
      "Length: 1225450876 (1.1G) [application/x-gzip]\n",
      "Saving to: ‘G11_RB6_2022.fastq.gz’\n",
      "\n",
      "G11_RB6_2022.fastq. 100%[===================>]   1.14G  33.3MB/s    in 23s     \n",
      "\n",
      "2023-10-28 08:19:34 (50.7 MB/s) - ‘G11_RB6_2022.fastq.gz’ saved [1225450876/1225450876]\n",
      "\n",
      "FINISHED --2023-10-28 08:19:34--\n",
      "Total wall clock time: 27s\n",
      "Downloaded: 1 files, 1.1G in 23s (50.7 MB/s)\n"
     ]
    }
   ],
   "source": [
    "cd ~/work\n",
    "mkdir -p DATA\n",
    "cd DATA\n",
    "# download your compressed algae 4222, B8 and G11 genotypes\n",
    "wget --no-check-certificat -rm -nH --cut-dirs=1 --reject=\"index.html*\" https://itrop.ird.fr/algae_data/4222_RB2.fastq.gz\n",
    "wget --no-check-certificat -rm -nH --cut-dirs=1 --reject=\"index.html*\" https://itrop.ird.fr/algae_data/B8_RB11.fastq.gz\n",
    "wget --no-check-certificat -rm -nH --cut-dirs=1 --reject=\"index.html*\" https://itrop.ird.fr/algae_data/G11_RB6_2022.fastq.gz"
   ]
  },
  {
   "cell_type": "markdown",
   "id": "50cb200b-f006-491c-a761-b6a0f4439667",
   "metadata": {},
   "source": [
    "Downloading available reference genome fasta file GCF_002220235.1. We will use this reference genome to compare with our results.\n",
    "Previously downloaded from https://www.ncbi.nlm.nih.gov/assembly/GCF_002220235.1"
   ]
  },
  {
   "cell_type": "code",
   "execution_count": 2,
   "id": "fc63914e-e054-4f61-bf00-e524db22f2c2",
   "metadata": {},
   "outputs": [
    {
     "name": "stdout",
     "output_type": "stream",
     "text": [
      "--2023-10-28 08:19:34--  https://itrop.ird.fr/algae_data/GCA_002220235.1_ASM222023v1_genomic.fna\n",
      "Resolving itrop.ird.fr (itrop.ird.fr)... 91.203.35.184\n",
      "Connecting to itrop.ird.fr (itrop.ird.fr)|91.203.35.184|:443... connected.\n",
      "HTTP request sent, awaiting response... 200 OK\n",
      "Length: 15263945 (15M)\n",
      "Saving to: ‘GCA_002220235.1_ASM222023v1_genomic.fna’\n",
      "\n",
      "GCA_002220235.1_ASM 100%[===================>]  14.56M  40.7MB/s    in 0.4s    \n",
      "\n",
      "2023-10-28 08:19:39 (40.7 MB/s) - ‘GCA_002220235.1_ASM222023v1_genomic.fna’ saved [15263945/15263945]\n",
      "\n",
      "FINISHED --2023-10-28 08:19:39--\n",
      "Total wall clock time: 4.5s\n",
      "Downloaded: 1 files, 15M in 0.4s (40.7 MB/s)\n"
     ]
    }
   ],
   "source": [
    "cd ~/work\n",
    "mkdir -p DATA/REF\n",
    "cd DATA/REF\n",
    "wget --no-check-certificat -rm -nH --cut-dirs=1 --reject=\"index.html*\" https://itrop.ird.fr/algae_data/GCA_002220235.1_ASM222023v1_genomic.fna\n",
    "wget --no-check-certificat -rm -nH --cut-dirs=1 --reject=\"index.html*\" https://itrop.ird.fr/algae_data/GCA_002220235.1_ASM222023v1_genomic.gtf\n",
    "wget --no-check-certificat -rm -nH --cut-dirs=1 --reject=\"index.html*\" https://itrop.ird.fr/algae_data/GCA_002220235.1_ASM222023v1_genomic.gff"
   ]
  },
  {
   "cell_type": "code",
   "execution_count": 15,
   "id": "4e2fa9f8-8601-41e1-888d-9469d6d0d846",
   "metadata": {},
   "outputs": [
    {
     "name": "stdout",
     "output_type": "stream",
     "text": [
      "/home/jovyan/work/RESULTS/NANOCOMP\n"
     ]
    }
   ],
   "source": [
    "pwd\n"
   ]
  },
  {
   "cell_type": "markdown",
   "id": "1be14d7d",
   "metadata": {
    "tags": []
   },
   "source": [
    "## <span style=\"color: #4CACBC;\"> 2. Basecalling </span>  \n",
    "\n",
    "When DNA molecules are sequenced, electrical signals are stocked on fast5 format files.\n",
    "\n",
    "These signals need to be converted on standard fastq files to post-analysis.\n",
    "\n",
    "Several training dataset models are usually used to convert fast5 to fastq. \n",
    "\n",
    "### <span style=\"color: #4CACBD;\"> 2.1 Basecalling with Guppy  <span style=\"color:red\"> (Don't run it! ) </span> </span>"
   ]
  },
  {
   "cell_type": "markdown",
   "id": "22e07fab",
   "metadata": {},
   "source": [
    "Guppy is a data processing toolkit that contains the 'Oxford Nanopore Technologies' basecalling algorithms, and several bioinformatic post-processing features.\n",
    "\n",
    "Basecalling with guppy can be launch using guppy tool. \n",
    "\n",
    "Guppy takes fast5 raw read files and transform electrical signal in fastq files.\n",
    "\n",
    "We recommend to basecaller yours dataset using a GPU graphic card to obtain results quickly.\n",
    "\n",
    "for <R10 kit, documentation about how to run Guppy on I-trop GPU can be found on https://bioinfo.ird.fr/index.php/tutorials-fr/gpu/"
   ]
  },
  {
   "cell_type": "code",
   "execution_count": 3,
   "id": "e94c0a79",
   "metadata": {},
   "outputs": [
    {
     "name": "stdout",
     "output_type": "stream",
     "text": [
      "guppy_basecaller -c dna_r9.4.1_450bps_hac.cfg -i path/to/FAST5 --recursive -s /path/to/FASTQ --num_callers 8 --gpu_runners_per_device 8 --device auto --min_qscore 7 --compress_fastq\n"
     ]
    }
   ],
   "source": [
    "MODEL=\"dna_r9.4.1_450bps_hac.cfg\"\n",
    "INPUT=\"path/to/FAST5\"\n",
    "OUTPUT=\"/path/to/FASTQ\"\n",
    "echo \"guppy_basecaller -c ${MODEL} -i ${INPUT} --recursive -s ${OUTPUT} --num_callers 8 --gpu_runners_per_device 8 --device auto --min_qscore 7 --compress_fastq\""
   ]
  },
  {
   "cell_type": "markdown",
   "id": "456ef94a",
   "metadata": {},
   "source": [
    "## <span style=\"color: #4CACBC;\"> 3. Quality Control on Long Reads </span>  \n"
   ]
  },
  {
   "cell_type": "markdown",
   "id": "afce201e",
   "metadata": {},
   "source": [
    "Calculating data quantity"
   ]
  },
  {
   "cell_type": "code",
   "execution_count": 4,
   "id": "926d9dc8-b5c8-4b8b-b8ca-002fc751276d",
   "metadata": {},
   "outputs": [
    {
     "name": "stdout",
     "output_type": "stream",
     "text": [
      "/home/jovyan/work/DATA\n"
     ]
    }
   ],
   "source": [
    "cd ~/work/DATA\n",
    "pwd"
   ]
  },
  {
   "cell_type": "markdown",
   "id": "f311055b-f17b-40d9-8d94-ad80458a3282",
   "metadata": {},
   "source": [
    "Calculating how many bases were sequenced"
   ]
  },
  {
   "cell_type": "code",
   "execution_count": 5,
   "id": "9c25a9ee",
   "metadata": {},
   "outputs": [
    {
     "name": "stdout",
     "output_type": "stream",
     "text": [
      "746854316\n"
     ]
    }
   ],
   "source": [
    "seqtk seq -A /home/jovyan/work/DATA/4222_RB2.fastq.gz | grep -v \">\" | wc -m"
   ]
  },
  {
   "cell_type": "code",
   "execution_count": 6,
   "id": "e4d33204-e607-4aac-9671-fcf87c555297",
   "metadata": {},
   "outputs": [
    {
     "name": "stdout",
     "output_type": "stream",
     "text": [
      "15074341\n"
     ]
    }
   ],
   "source": [
    "seqtk seq -A /home/jovyan/work/DATA/REF/GCA_002220235.1_ASM222023v1_genomic.fna | grep -v \">\" |wc -m"
   ]
  },
  {
   "cell_type": "markdown",
   "id": "4e584d66-50b5-4a32-a611-e6f1419b35e5",
   "metadata": {},
   "source": [
    "### What is the sequencing depth of sample ?"
   ]
  },
  {
   "cell_type": "code",
   "execution_count": null,
   "id": "689135bf-9f23-4007-829e-441f817304a4",
   "metadata": {},
   "outputs": [],
   "source": []
  },
  {
   "cell_type": "markdown",
   "id": "1258e568-39ff-4f63-b2ec-f7baf1f76eba",
   "metadata": {},
   "source": [
    "### <span style=\"color: #4CACBD;\"> 3.1 Quality Control of FASTQ with Nanoplot </span>\n"
   ]
  },
  {
   "cell_type": "markdown",
   "id": "ebf512dd",
   "metadata": {},
   "source": [
    "Control reads quality using Nanoplot. You can parameter this tool using --help."
   ]
  },
  {
   "cell_type": "code",
   "execution_count": 7,
   "id": "126b58ef",
   "metadata": {
    "tags": []
   },
   "outputs": [
    {
     "name": "stdout",
     "output_type": "stream",
     "text": [
      "usage: NanoPlot [-h] [-v] [-t THREADS] [--verbose] [--store] [--raw] [--huge]\n",
      "                [-o OUTDIR] [--no_static] [-p PREFIX] [--tsv_stats]\n",
      "                [--info_in_report] [--maxlength N] [--minlength N]\n",
      "                [--drop_outliers] [--downsample N] [--loglength]\n",
      "                [--percentqual] [--alength] [--minqual N] [--runtime_until N]\n",
      "                [--readtype {1D,2D,1D2}] [--barcoded] [--no_supplementary]\n",
      "                [-c COLOR] [-cm COLORMAP]\n",
      "                [-f [{png,jpg,jpeg,webp,svg,pdf,eps,json} ...]]\n",
      "                [--plots [{kde,hex,dot} ...]] [--legacy [{kde,dot,hex} ...]]\n",
      "                [--listcolors] [--listcolormaps] [--no-N50] [--N50]\n",
      "                [--title TITLE] [--font_scale FONT_SCALE] [--dpi DPI]\n",
      "                [--hide_stats]\n",
      "                (--fastq file [file ...] | --fasta file [file ...] | --fastq_rich file [file ...] | --fastq_minimal file [file ...] | --summary file [file ...] | --bam file [file ...] | --ubam file [file ...] | --cram file [file ...] | --pickle pickle | --feather file [file ...])\n",
      "\n",
      "CREATES VARIOUS PLOTS FOR LONG READ SEQUENCING DATA.\n",
      "\n",
      "General options:\n",
      "  -h, --help            show the help and exit\n",
      "  -v, --version         Print version and exit.\n",
      "  -t, --threads THREADS\n",
      "                        Set the allowed number of threads to be used by the script\n",
      "  --verbose             Write log messages also to terminal.\n",
      "  --store               Store the extracted data in a pickle file for future plotting.\n",
      "  --raw                 Store the extracted data in tab separated file.\n",
      "  --huge                Input data is one very large file.\n",
      "  -o, --outdir OUTDIR   Specify directory in which output has to be created.\n",
      "  --no_static           Do not make static (png) plots.\n",
      "  -p, --prefix PREFIX   Specify an optional prefix to be used for the output files.\n",
      "  --tsv_stats           Output the stats file as a properly formatted TSV.\n",
      "  --info_in_report      Add NanoPlot run info in the report.\n",
      "\n",
      "Options for filtering or transforming input prior to plotting:\n",
      "  --maxlength N         Hide reads longer than length specified.\n",
      "  --minlength N         Hide reads shorter than length specified.\n",
      "  --drop_outliers       Drop outlier reads with extreme long length.\n",
      "  --downsample N        Reduce dataset to N reads by random sampling.\n",
      "  --loglength           Additionally show logarithmic scaling of lengths in plots.\n",
      "  --percentqual         Use qualities as theoretical percent identities.\n",
      "  --alength             Use aligned read lengths rather than sequenced length (bam mode)\n",
      "  --minqual N           Drop reads with an average quality lower than specified.\n",
      "  --runtime_until N     Only take the N first hours of a run\n",
      "  --readtype {1D,2D,1D2}\n",
      "                        Which read type to extract information about from summary. Options are 1D, 2D,\n",
      "                        1D2\n",
      "  --barcoded            Use if you want to split the summary file by barcode\n",
      "  --no_supplementary    Use if you want to remove supplementary alignments\n",
      "\n",
      "Options for customizing the plots created:\n",
      "  -c, --color COLOR     Specify a valid matplotlib color for the plots\n",
      "  -cm, --colormap COLORMAP\n",
      "                        Specify a valid matplotlib colormap for the heatmap\n",
      "  -f, --format [{png,jpg,jpeg,webp,svg,pdf,eps,json} ...]\n",
      "                        Specify the output format of the plots, which are in addition to the html files\n",
      "  --plots [{kde,hex,dot} ...]\n",
      "                        Specify which bivariate plots have to be made.\n",
      "  --legacy [{kde,dot,hex} ...]\n",
      "                        Specify which bivariate plots have to be made (legacy mode).\n",
      "  --listcolors          List the colors which are available for plotting and exit.\n",
      "  --listcolormaps       List the colors which are available for plotting and exit.\n",
      "  --no-N50              Hide the N50 mark in the read length histogram\n",
      "  --N50                 Show the N50 mark in the read length histogram\n",
      "  --title TITLE         Add a title to all plots, requires quoting if using spaces\n",
      "  --font_scale FONT_SCALE\n",
      "                        Scale the font of the plots by a factor\n",
      "  --dpi DPI             Set the dpi for saving images\n",
      "  --hide_stats          Not adding Pearson R stats in some bivariate plots\n",
      "\n",
      "Input data sources, one of these is required.:\n",
      "  --fastq file [file ...]\n",
      "                        Data is in one or more default fastq file(s).\n",
      "  --fasta file [file ...]\n",
      "                        Data is in one or more fasta file(s).\n",
      "  --fastq_rich file [file ...]\n",
      "                        Data is in one or more fastq file(s) generated by albacore, MinKNOW or guppy\n",
      "                        with additional information concerning channel and time.\n",
      "  --fastq_minimal file [file ...]\n",
      "                        Data is in one or more fastq file(s) generated by albacore, MinKNOW or guppy\n",
      "                        with additional information concerning channel and time. Is extracted swiftly\n",
      "                        without elaborate checks.\n",
      "  --summary file [file ...]\n",
      "                        Data is in one or more summary file(s) generated by albacore or guppy.\n",
      "  --bam file [file ...]\n",
      "                        Data is in one or more sorted bam file(s).\n",
      "  --ubam file [file ...]\n",
      "                        Data is in one or more unmapped bam file(s).\n",
      "  --cram file [file ...]\n",
      "                        Data is in one or more sorted cram file(s).\n",
      "  --pickle pickle       Data is a pickle file stored earlier.\n",
      "  --feather, --arrow file [file ...]\n",
      "                        Data is in one or more feather file(s).\n",
      "\n",
      "EXAMPLES:\n",
      "    NanoPlot --summary sequencing_summary.txt --loglength -o summary-plots-log-transformed\n",
      "    NanoPlot -t 2 --fastq reads1.fastq.gz reads2.fastq.gz --maxlength 40000 --plots hex dot\n",
      "    NanoPlot --color yellow --bam alignment1.bam alignment2.bam alignment3.bam --downsample 10000\n",
      "    \n"
     ]
    }
   ],
   "source": [
    "NanoPlot --help"
   ]
  },
  {
   "cell_type": "markdown",
   "id": "d9e0fbc5-847b-4f90-99da-79fff9e9e05c",
   "metadata": {},
   "source": [
    "Check quality using NanoPlot over Hh real data fastq"
   ]
  },
  {
   "cell_type": "code",
   "execution_count": 8,
   "id": "70c5bd7e-aad2-4115-abdc-198a8180b2ac",
   "metadata": {},
   "outputs": [],
   "source": [
    "# create a folder to save results\n",
    "mkdir -p ~/work/RESULTS\n",
    "cd ~/work/RESULTS"
   ]
  },
  {
   "cell_type": "code",
   "execution_count": 9,
   "id": "4c303953-6ec2-44ad-9139-9b769304eb6a",
   "metadata": {},
   "outputs": [
    {
     "name": "stdout",
     "output_type": "stream",
     "text": [
      "\n",
      "real\t2m19.510s\n",
      "user\t1m57.344s\n",
      "sys\t0m1.686s\n"
     ]
    }
   ],
   "source": [
    "time NanoPlot -t 8 --fastq ~/work/DATA/4222_RB2.fastq.gz --outdir NANOPLOT_4222"
   ]
  },
  {
   "cell_type": "markdown",
   "id": "781a184f-c6c0-4d02-80f6-c30ba9d82279",
   "metadata": {},
   "source": [
    "Observe NanoStats.txt file"
   ]
  },
  {
   "cell_type": "code",
   "execution_count": 10,
   "id": "02cb46b3-e223-402f-93c6-37f6cc4b149a",
   "metadata": {},
   "outputs": [
    {
     "name": "stdout",
     "output_type": "stream",
     "text": [
      "General summary:         \n",
      "Mean read length:               11,898.6\n",
      "Mean read quality:                  11.6\n",
      "Median read length:              7,828.0\n",
      "Median read quality:                12.9\n",
      "Number of reads:                62,763.0\n",
      "Read length N50:                20,829.0\n",
      "STDEV read length:              12,487.7\n",
      "Total bases:               746,791,553.0\n",
      "Number, percentage and megabases of reads above quality cutoffs\n",
      ">Q5:\t62763 (100.0%) 746.8Mb\n",
      ">Q7:\t62762 (100.0%) 746.8Mb\n",
      ">Q10:\t55006 (87.6%) 672.3Mb\n",
      ">Q12:\t40974 (65.3%) 521.9Mb\n",
      ">Q15:\t9351 (14.9%) 129.7Mb\n",
      "Top 5 highest mean basecall quality scores and their read lengths\n",
      "1:\t20.1 (1894)\n",
      "2:\t19.9 (3008)\n",
      "3:\t19.5 (4601)\n",
      "4:\t19.4 (4374)\n",
      "5:\t19.4 (13533)\n",
      "Top 5 longest reads and their mean basecall quality score\n",
      "1:\t142831 (16.3)\n",
      "2:\t125499 (13.6)\n",
      "3:\t121149 (16.1)\n",
      "4:\t118209 (8.8)\n",
      "5:\t116238 (14.6)\n"
     ]
    }
   ],
   "source": [
    "cat NANOPLOT_4222/NanoStats.txt"
   ]
  },
  {
   "cell_type": "markdown",
   "id": "8a9507e3",
   "metadata": {
    "tags": []
   },
   "source": [
    "## Observe `report.html` file\n",
    "\n",
    "* What do you think about data? \n",
    "\n",
    "* What about reads quality qscore?"
   ]
  },
  {
   "cell_type": "markdown",
   "id": "d438012e-0263-462d-a9ef-584ace5e67c8",
   "metadata": {},
   "source": [
    "## Run NanoComp using the three algae fastq files and compare it.\n",
    "\n",
    "In this notebook, we use fastq directly, but use __summary_files__ is recommanded."
   ]
  },
  {
   "cell_type": "code",
   "execution_count": 11,
   "id": "723ad546-d765-48fd-87e9-8ce441652006",
   "metadata": {},
   "outputs": [
    {
     "name": "stdout",
     "output_type": "stream",
     "text": [
      "usage: NanoComp [-h] [-v] [-t THREADS] [-o OUTDIR] [-p PREFIX] [--verbose]\n",
      "                [--raw] [--store] [--tsv_stats] [--make_no_static]\n",
      "                [--readtype {1D,2D,1D2}] [--maxlength N] [--minlength N]\n",
      "                [--barcoded] [--split_runs TSV_FILE]\n",
      "                [-f [{png,jpg,jpeg,webp,svg,pdf,eps,json} ...]]\n",
      "                [-n names [names ...]] [-c colors [colors ...]]\n",
      "                [--plot {violin,box,ridge,false}] [--title TITLE] [--dpi DPI]\n",
      "                (--fasta file [file ...] | --fastq files [files ...] | --fastq_rich file [file ...] | --summary files [files ...] | --bam files [files ...] | --ubam file [file ...] | --cram file [file ...] | --pickle file [file ...] | --feather file [file ...])\n",
      "NanoComp: error: one of the arguments --fasta --fastq --fastq_rich --summary --bam --ubam --cram --pickle --feather/--arrow is required\n"
     ]
    },
    {
     "ename": "",
     "evalue": "2",
     "output_type": "error",
     "traceback": []
    }
   ],
   "source": [
    "NanoComp"
   ]
  },
  {
   "cell_type": "code",
   "execution_count": 12,
   "id": "eb6ffaa3-48f6-49c2-b417-190954818707",
   "metadata": {},
   "outputs": [],
   "source": [
    "mkdir -p ~/work/RESULTS/NANOCOMP\n",
    "cd ~/work/RESULTS/NANOCOMP"
   ]
  },
  {
   "cell_type": "code",
   "execution_count": 13,
   "id": "45a54e02-d0cc-4e9a-8138-2d4cc083967c",
   "metadata": {},
   "outputs": [
    {
     "name": "stdout",
     "output_type": "stream",
     "text": [
      "\n",
      "real\t3m23.790s\n",
      "user\t6m18.687s\n",
      "sys\t0m3.427s\n"
     ]
    }
   ],
   "source": [
    "time NanoComp --fastq /home/jovyan/work/DATA/4222_RB2.fastq.gz  /home/jovyan/work/DATA/B8_RB11.fastq.gz  /home/jovyan/work/DATA/G11_RB6_2022.fastq.gz "
   ]
  },
  {
   "cell_type": "markdown",
   "id": "957db2ef-46cb-4552-a44b-3e120ee66970",
   "metadata": {},
   "source": [
    "### ... discuss about results"
   ]
  },
  {
   "cell_type": "markdown",
   "id": "192ec507",
   "metadata": {},
   "source": [
    "### <span style=\"color: #4CACBD;\"> Others complemental tools </span>\n",
    " \n",
    "\n",
    "https://github.com/wdecoster/NanoPlot#companion-scripts\n",
    "\n",
    "* NanoComp: comparing multiple runs\n",
    "\n",
    "* NanoStat: statistic summary report of reads or alignments\n",
    "\n",
    "* NanoFilt: filtering and trimming of reads\n",
    "\n",
    "* NanoLyse: removing contaminant reads (e.g. lambda control DNA) from fastq\n",
    "\n",
    "* FiltLong : filtering long reads by quality https://github.com/rrwick/Filtlong\n"
   ]
  }
 ],
 "metadata": {
  "kernelspec": {
   "display_name": "Bash",
   "language": "bash",
   "name": "bash"
  },
  "language_info": {
   "codemirror_mode": "shell",
   "file_extension": ".sh",
   "mimetype": "text/x-sh",
   "name": "bash"
  }
 },
 "nbformat": 4,
 "nbformat_minor": 5
}
