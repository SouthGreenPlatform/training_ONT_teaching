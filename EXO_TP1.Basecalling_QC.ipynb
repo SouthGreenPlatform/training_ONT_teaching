{
 "cells": [
  {
   "cell_type": "markdown",
   "id": "aff6dddb",
   "metadata": {},
   "source": [
    "# <span style=\"color:green\">Formation au Burkina Faso 2022</span> - Initiation à l’analyse de données Minion pour l'analyse de métagénome viraux\n",
    "\n",
    "Created by J. Orjuela (DIADE-IRD), D. Filloux (PHIM-CIRAD) and A. Comte (PHIM-IRD) \n",
    "\n",
    "Septembre 2022\n",
    "\n",
    "***\n",
    "\n",
    "# <span style=\"color: #006E7F\">Table of contents</span>\n",
    "<a class=\"anchor\" id=\"home\"></a>\n",
    "   \n",
    "\n",
    "[TP1 - BASECALLING and QC](#data) \n",
    "\n",
    "[2. Basecalling](#guppy)\n",
    "\n",
    "   * [2.1 Basecalling with `guppy`](#guppy)\n",
    "    \n",
    "\n",
    "[3. Quality Control on Long Reads](#qc)\n",
    "   * [3.1 Quality Control of FASTQ with`Nanoplot`](#nanoplot)\n",
    "\n",
    "</span>\n",
    "\n",
    "***"
   ]
  },
  {
   "cell_type": "markdown",
   "id": "723395cb-5fa0-4201-9da9-c737a2046aee",
   "metadata": {},
   "source": [
    "### Our objectives in the following TP are : \n",
    "- explore the diversity of the metavirome of pineapple.\n",
    "- reconstruct the complete genome sequencing of a novel member of the genus Vitivirus in the family Betaflexiviridae (subfamily Trivirinae) infecting pineapple."
   ]
  },
  {
   "cell_type": "markdown",
   "id": "45ec529f",
   "metadata": {},
   "source": [
    "# <span style=\"color:#006E7F\">__TP1 - BASECALLING and QC__ <a class=\"anchor\" id=\"data\"></span>  \n",
    "    \n",
    "## <span style=\"color: #4CACBC;\"> 1. Creating the folder, downloading data and so on</span>  \n",
    "\n",
    "### <span style=\"color: #4CACBD;\">  Data</span>\n",
    "    "
   ]
  },
  {
   "cell_type": "markdown",
   "id": "62a3ac56",
   "metadata": {},
   "source": [
    "Before starting, please download special data created for this practical training. Data are available on the from I-Trop server."
   ]
  },
  {
   "cell_type": "markdown",
   "id": "9fb571d7",
   "metadata": {},
   "source": [
    "This data is the total RNAs extracted from pineapple leaf samples collected in Reunion Island. Nanopore sequencing was performed using a MinION portable device and the cDNA-PCR Barcoding kit.\n",
    "\n",
    "This original dataset contained more than 4M reads. We choose to sample it for this formation. \n",
    "\n",
    "`fast5` directory contains some electrical signals for basecalling step\n",
    "\n",
    "`data.fastq` is a fastq file already basecalled "
   ]
  },
  {
   "cell_type": "code",
   "execution_count": 8,
   "id": "181d5040-5642-4ecf-9b14-e210cdaaac69",
   "metadata": {
    "tags": []
   },
   "outputs": [
    {
     "name": "stdout",
     "output_type": "stream",
     "text": [
      "--2022-09-05 15:39:22--  https://itrop.ird.fr/ont-training-2022/fast5/\n",
      "Résolution de itrop.ird.fr (itrop.ird.fr)… 91.203.35.184\n",
      "Connexion à itrop.ird.fr (itrop.ird.fr)|91.203.35.184|:443… connecté.\n",
      "requête HTTP transmise, en attente de la réponse… 200 OK\n",
      "Taille : 2586 (2,5K) [text/html]\n",
      "Enregistre : «fast5/index.html.tmp»\n",
      "\n",
      "fast5/index.html.tm 100%[===================>]   2,53K  --.-KB/s    ds 0s      \n",
      "\n",
      "En-tête de dernière modification manquant — horodatage arrêté.\n",
      "2022-09-05 15:39:23 (38,3 MB/s) - «fast5/index.html.tmp» enregistré [2586/2586]\n",
      "\n",
      "Chargement de robots.txt ; veuillez ignorer les erreurs.\n",
      "--2022-09-05 15:39:23--  https://itrop.ird.fr/robots.txt\n",
      "Réutilisation de la connexion existante à itrop.ird.fr:443.\n",
      "requête HTTP transmise, en attente de la réponse… 404 Not Found\n",
      "2022-09-05 15:39:23 erreur 404 : Not Found.\n",
      "\n",
      "Suppression de fast5/index.html.tmp puisqu’il devrait être rejeté.\n",
      "\n",
      "--2022-09-05 15:39:23--  https://itrop.ird.fr/ont-training-2022/fast5/?C=N;O=D\n",
      "Réutilisation de la connexion existante à itrop.ird.fr:443.\n",
      "requête HTTP transmise, en attente de la réponse… 200 OK\n",
      "Taille : 2586 (2,5K) [text/html]\n",
      "Enregistre : «fast5/index.html?C=N;O=D.tmp»\n",
      "\n",
      "fast5/index.html?C= 100%[===================>]   2,53K  --.-KB/s    ds 0s      \n",
      "\n",
      "En-tête de dernière modification manquant — horodatage arrêté.\n",
      "2022-09-05 15:39:23 (70,1 MB/s) - «fast5/index.html?C=N;O=D.tmp» enregistré [2586/2586]\n",
      "\n",
      "Suppression de fast5/index.html?C=N;O=D.tmp puisqu’il devrait être rejeté.\n",
      "\n",
      "--2022-09-05 15:39:23--  https://itrop.ird.fr/ont-training-2022/fast5/?C=M;O=A\n",
      "Réutilisation de la connexion existante à itrop.ird.fr:443.\n",
      "requête HTTP transmise, en attente de la réponse… 200 OK\n",
      "Taille : 2586 (2,5K) [text/html]\n",
      "Enregistre : «fast5/index.html?C=M;O=A.tmp»\n",
      "\n",
      "fast5/index.html?C= 100%[===================>]   2,53K  --.-KB/s    ds 0s      \n",
      "\n",
      "En-tête de dernière modification manquant — horodatage arrêté.\n",
      "2022-09-05 15:39:23 (33,1 MB/s) - «fast5/index.html?C=M;O=A.tmp» enregistré [2586/2586]\n",
      "\n",
      "Suppression de fast5/index.html?C=M;O=A.tmp puisqu’il devrait être rejeté.\n",
      "\n",
      "--2022-09-05 15:39:23--  https://itrop.ird.fr/ont-training-2022/fast5/?C=S;O=A\n",
      "Réutilisation de la connexion existante à itrop.ird.fr:443.\n",
      "requête HTTP transmise, en attente de la réponse… 200 OK\n",
      "Taille : 2586 (2,5K) [text/html]\n",
      "Enregistre : «fast5/index.html?C=S;O=A.tmp»\n",
      "\n",
      "fast5/index.html?C= 100%[===================>]   2,53K  --.-KB/s    ds 0s      \n",
      "\n",
      "En-tête de dernière modification manquant — horodatage arrêté.\n",
      "2022-09-05 15:39:23 (130 MB/s) - «fast5/index.html?C=S;O=A.tmp» enregistré [2586/2586]\n",
      "\n",
      "Suppression de fast5/index.html?C=S;O=A.tmp puisqu’il devrait être rejeté.\n",
      "\n",
      "--2022-09-05 15:39:23--  https://itrop.ird.fr/ont-training-2022/fast5/?C=D;O=A\n",
      "Réutilisation de la connexion existante à itrop.ird.fr:443.\n",
      "requête HTTP transmise, en attente de la réponse… 200 OK\n",
      "Taille : 2586 (2,5K) [text/html]\n",
      "Enregistre : «fast5/index.html?C=D;O=A.tmp»\n",
      "\n",
      "fast5/index.html?C= 100%[===================>]   2,53K  --.-KB/s    ds 0,001s  \n",
      "\n",
      "En-tête de dernière modification manquant — horodatage arrêté.\n",
      "2022-09-05 15:39:23 (2,06 MB/s) - «fast5/index.html?C=D;O=A.tmp» enregistré [2586/2586]\n",
      "\n",
      "Suppression de fast5/index.html?C=D;O=A.tmp puisqu’il devrait être rejeté.\n",
      "\n",
      "--2022-09-05 15:39:23--  https://itrop.ird.fr/ont-training-2022/fast5/FAK46743_ff38e8c1c50611a96d2b841ef18e6786714aa31c_14.fast5\n",
      "Réutilisation de la connexion existante à itrop.ird.fr:443.\n",
      "requête HTTP transmise, en attente de la réponse… 200 OK\n",
      "Taille : 57355804 (55M)\n",
      "Enregistre : «fast5/FAK46743_ff38e8c1c50611a96d2b841ef18e6786714aa31c_14.fast5»\n",
      "\n",
      "fast5/FAK46743_ff38 100%[===================>]  54,70M  1,07MB/s    ds 33s     \n",
      "\n",
      "2022-09-05 15:39:56 (1,65 MB/s) - «fast5/FAK46743_ff38e8c1c50611a96d2b841ef18e6786714aa31c_14.fast5» enregistré [57355804/57355804]\n",
      "\n",
      "--2022-09-05 15:39:56--  https://itrop.ird.fr/ont-training-2022/fast5/FAK46743_ff38e8c1c50611a96d2b841ef18e6786714aa31c_15.fast5\n",
      "Connexion à itrop.ird.fr (itrop.ird.fr)|91.203.35.184|:443… connecté.\n",
      "requête HTTP transmise, en attente de la réponse… 200 OK\n",
      "Taille : 57674572 (55M)\n",
      "Enregistre : «fast5/FAK46743_ff38e8c1c50611a96d2b841ef18e6786714aa31c_15.fast5»\n",
      "\n",
      "fast5/FAK46743_ff38 100%[===================>]  55,00M  1,74MB/s    ds 47s     \n",
      "\n",
      "2022-09-05 15:40:44 (1,17 MB/s) - «fast5/FAK46743_ff38e8c1c50611a96d2b841ef18e6786714aa31c_15.fast5» enregistré [57674572/57674572]\n",
      "\n",
      "--2022-09-05 15:40:44--  https://itrop.ird.fr/ont-training-2022/fast5/FAK46743_ff38e8c1c50611a96d2b841ef18e6786714aa31c_141.fast5\n",
      "Connexion à itrop.ird.fr (itrop.ird.fr)|91.203.35.184|:443… connecté.\n",
      "requête HTTP transmise, en attente de la réponse… 200 OK\n",
      "Taille : 61649407 (59M)\n",
      "Enregistre : «fast5/FAK46743_ff38e8c1c50611a96d2b841ef18e6786714aa31c_141.fast5»\n",
      "\n",
      "fast5/FAK46743_ff38 100%[===================>]  58,79M  1,91MB/s    ds 27s     \n",
      "\n",
      "2022-09-05 15:41:11 (2,20 MB/s) - «fast5/FAK46743_ff38e8c1c50611a96d2b841ef18e6786714aa31c_141.fast5» enregistré [61649407/61649407]\n",
      "\n",
      "--2022-09-05 15:41:11--  https://itrop.ird.fr/ont-training-2022/fast5/FAK46743_ff38e8c1c50611a96d2b841ef18e6786714aa31c_173.fast5\n",
      "Connexion à itrop.ird.fr (itrop.ird.fr)|91.203.35.184|:443… connecté.\n",
      "requête HTTP transmise, en attente de la réponse… 200 OK\n",
      "Taille : 62477819 (60M)\n",
      "Enregistre : «fast5/FAK46743_ff38e8c1c50611a96d2b841ef18e6786714aa31c_173.fast5»\n",
      "\n",
      "fast5/FAK46743_ff38 100%[===================>]  59,58M  1,61MB/s    ds 47s     \n",
      "\n",
      "2022-09-05 15:41:58 (1,26 MB/s) - «fast5/FAK46743_ff38e8c1c50611a96d2b841ef18e6786714aa31c_173.fast5» enregistré [62477819/62477819]\n",
      "\n",
      "--2022-09-05 15:41:58--  https://itrop.ird.fr/ont-training-2022/fast5/FAK46743_ff38e8c1c50611a96d2b841ef18e6786714aa31c_908.fast5\n",
      "Connexion à itrop.ird.fr (itrop.ird.fr)|91.203.35.184|:443… connecté.\n",
      "requête HTTP transmise, en attente de la réponse… 200 OK\n",
      "Taille : 67558703 (64M)\n",
      "Enregistre : «fast5/FAK46743_ff38e8c1c50611a96d2b841ef18e6786714aa31c_908.fast5»\n",
      "\n",
      "fast5/FAK46743_ff38 100%[===================>]  64,43M  1,51MB/s    ds 46s     \n",
      "\n",
      "2022-09-05 15:42:45 (1,40 MB/s) - «fast5/FAK46743_ff38e8c1c50611a96d2b841ef18e6786714aa31c_908.fast5» enregistré [67558703/67558703]\n",
      "\n",
      "--2022-09-05 15:42:45--  https://itrop.ird.fr/ont-training-2022/fast5/FAK46743_ff38e8c1c50611a96d2b841ef18e6786714aa31c_1281.fast5\n",
      "Connexion à itrop.ird.fr (itrop.ird.fr)|91.203.35.184|:443… connecté.\n",
      "requête HTTP transmise, en attente de la réponse… 200 OK\n",
      "Taille : 67854300 (65M)\n",
      "Enregistre : «fast5/FAK46743_ff38e8c1c50611a96d2b841ef18e6786714aa31c_1281.fast5»\n",
      "\n",
      "fast5/FAK46743_ff38 100%[===================>]  64,71M  1,96MB/s    ds 29s     \n",
      "\n",
      "2022-09-05 15:43:13 (2,27 MB/s) - «fast5/FAK46743_ff38e8c1c50611a96d2b841ef18e6786714aa31c_1281.fast5» enregistré [67854300/67854300]\n",
      "\n",
      "--2022-09-05 15:43:13--  https://itrop.ird.fr/ont-training-2022/fast5/?C=N;O=A\n",
      "Connexion à itrop.ird.fr (itrop.ird.fr)|91.203.35.184|:443… connecté.\n",
      "requête HTTP transmise, en attente de la réponse… 200 OK\n",
      "Taille : 2586 (2,5K) [text/html]\n",
      "Enregistre : «fast5/index.html?C=N;O=A.tmp»\n",
      "\n",
      "fast5/index.html?C= 100%[===================>]   2,53K  --.-KB/s    ds 0,002s  \n",
      "\n",
      "En-tête de dernière modification manquant — horodatage arrêté.\n",
      "2022-09-05 15:43:14 (1,19 MB/s) - «fast5/index.html?C=N;O=A.tmp» enregistré [2586/2586]\n",
      "\n",
      "Suppression de fast5/index.html?C=N;O=A.tmp puisqu’il devrait être rejeté.\n",
      "\n",
      "--2022-09-05 15:43:14--  https://itrop.ird.fr/ont-training-2022/fast5/?C=M;O=D\n",
      "Réutilisation de la connexion existante à itrop.ird.fr:443.\n",
      "requête HTTP transmise, en attente de la réponse… 200 OK\n",
      "Taille : 2586 (2,5K) [text/html]\n",
      "Enregistre : «fast5/index.html?C=M;O=D.tmp»\n",
      "\n",
      "fast5/index.html?C= 100%[===================>]   2,53K  --.-KB/s    ds 0,01s   \n",
      "\n",
      "En-tête de dernière modification manquant — horodatage arrêté.\n",
      "2022-09-05 15:43:14 (251 KB/s) - «fast5/index.html?C=M;O=D.tmp» enregistré [2586/2586]\n",
      "\n",
      "Suppression de fast5/index.html?C=M;O=D.tmp puisqu’il devrait être rejeté.\n",
      "\n",
      "--2022-09-05 15:43:14--  https://itrop.ird.fr/ont-training-2022/fast5/?C=S;O=D\n",
      "Réutilisation de la connexion existante à itrop.ird.fr:443.\n",
      "requête HTTP transmise, en attente de la réponse… 200 OK\n",
      "Taille : 2586 (2,5K) [text/html]\n",
      "Enregistre : «fast5/index.html?C=S;O=D.tmp»\n",
      "\n",
      "fast5/index.html?C= 100%[===================>]   2,53K  --.-KB/s    ds 0,002s  \n",
      "\n",
      "En-tête de dernière modification manquant — horodatage arrêté.\n",
      "2022-09-05 15:43:14 (1,62 MB/s) - «fast5/index.html?C=S;O=D.tmp» enregistré [2586/2586]\n",
      "\n",
      "Suppression de fast5/index.html?C=S;O=D.tmp puisqu’il devrait être rejeté.\n",
      "\n",
      "--2022-09-05 15:43:14--  https://itrop.ird.fr/ont-training-2022/fast5/?C=D;O=D\n",
      "Réutilisation de la connexion existante à itrop.ird.fr:443.\n",
      "requête HTTP transmise, en attente de la réponse… 200 OK\n",
      "Taille : 2586 (2,5K) [text/html]\n",
      "Enregistre : «fast5/index.html?C=D;O=D.tmp»\n",
      "\n",
      "fast5/index.html?C= 100%[===================>]   2,53K  --.-KB/s    ds 0,009s  \n",
      "\n",
      "En-tête de dernière modification manquant — horodatage arrêté.\n",
      "2022-09-05 15:43:14 (291 KB/s) - «fast5/index.html?C=D;O=D.tmp» enregistré [2586/2586]\n",
      "\n",
      "Suppression de fast5/index.html?C=D;O=D.tmp puisqu’il devrait être rejeté.\n",
      "\n",
      "Terminé — 2022-09-05 15:43:14 —\n",
      "Temps total effectif : 3m 52s\n",
      "Téléchargés : 15 fichiers, 357M en 3m 49s (1,56 MB/s)\n"
     ]
    }
   ],
   "source": [
    "mkdir -p ~/work/SG-ONT-2022/DATA\n",
    "cd ~/work/SG-ONT-2022/DATA\n",
    "\n",
    "# download fast5 sample data using for basecalling step\n",
    "wget --no-check-certificat -rm -nH --cut-dirs=1 -r --no-parent --reject=\"index.html*\" https://itrop.ird.fr/ont-training-2022/fast5/"
   ]
  },
  {
   "cell_type": "code",
   "execution_count": null,
   "id": "0f8ab752-05ba-4b27-8a12-31e5963285d0",
   "metadata": {},
   "outputs": [],
   "source": []
  },
  {
   "cell_type": "code",
   "execution_count": 9,
   "id": "1e51e9c3-d69e-4142-b9f8-8b1c548ed7c8",
   "metadata": {},
   "outputs": [
    {
     "name": "stdout",
     "output_type": "stream",
     "text": [
      "\u001b[0m\u001b[01;35mback.gif\u001b[0m  \u001b[01;35mblank.gif\u001b[0m  \u001b[01;34mfast5\u001b[0m  \u001b[01;35munknown.gif\u001b[0m\n"
     ]
    }
   ],
   "source": [
    "ls ~/work/SG-ONT-2022/DATA"
   ]
  },
  {
   "cell_type": "code",
   "execution_count": null,
   "id": "b6c8a00d-d8ae-4c72-aca9-7c8ef7dbb9fe",
   "metadata": {},
   "outputs": [
    {
     "name": "stdout",
     "output_type": "stream",
     "text": [
      "--2022-09-05 15:44:03--  https://itrop.ird.fr/ont-training-2022/data.fastq\n",
      "Résolution de itrop.ird.fr (itrop.ird.fr)… 91.203.35.184\n",
      "Connexion à itrop.ird.fr (itrop.ird.fr)|91.203.35.184|:443… connecté.\n",
      "requête HTTP transmise, en attente de la réponse… 200 OK\n",
      "Taille : 1226812840 (1,1G)\n",
      "Enregistre : «data.fastq»\n",
      "\n"
     ]
    }
   ],
   "source": [
    "mkdir -p ~/work/SG-ONT-2022/DATA\n",
    "cd ~/work/SG-ONT-2022/DATA\n",
    "\n",
    "# download fastq sample data already basecalled\n",
    "wget --no-check-certificat -rm -nH --cut-dirs=1 --reject=\"index.html*\" https://itrop.ird.fr/ont-training-2022/data.fastq"
   ]
  },
  {
   "cell_type": "markdown",
   "id": "1be14d7d",
   "metadata": {
    "tags": []
   },
   "source": [
    "## <span style=\"color: #4CACBC;\"> 2. Basecalling <a class=\"anchor\" id=\"guppy\"></span> \n",
    "\n",
    "When DNA molecules are sequenced, electrical signals are stocked on fast5 format files.\n",
    "\n",
    "These signals need to be converted on standard fastq files to post-analysis.\n",
    "\n",
    "Several training dataset models are usually used to convert fast5 to fastq. \n",
    "\n",
    "### <span style=\"color: #4CACBC;\"> 2.1 Basecalling with Guppy</span>\n"
   ]
  },
  {
   "cell_type": "markdown",
   "id": "22e07fab",
   "metadata": {},
   "source": [
    "Guppy is a data processing toolkit that contains the 'Oxford Nanopore Technologies' basecalling algorithms, and several bioinformatic post-processing features.\n",
    "\n",
    "Basecalling with guppy can be launch using guppy tool. \n",
    "\n",
    "Guppy takes fast5 raw read files and transform electrical signal in fastq files."
   ]
  },
  {
   "cell_type": "markdown",
   "id": "56705e17-2332-4fb1-9beb-7dc2310081a7",
   "metadata": {},
   "source": [
    "## Basecalling some available fast5 files "
   ]
  },
  {
   "cell_type": "code",
   "execution_count": null,
   "id": "313f0e1d-f714-464d-af9b-b33f32b1ef35",
   "metadata": {},
   "outputs": [],
   "source": [
    "#To see all the documentation of guppy:\n",
    "  guppy_basecaller --help"
   ]
  },
  {
   "cell_type": "markdown",
   "id": "158a23ca-33ba-4bc2-91cf-4e6f4036daf5",
   "metadata": {},
   "source": [
    "To run guppy you need to choose your configuration file accordingly to the flowcell and the kit you used for sequencing."
   ]
  },
  {
   "cell_type": "code",
   "execution_count": null,
   "id": "14d7d56a-478b-41ab-9e09-0f3eac72f6d8",
   "metadata": {
    "tags": []
   },
   "outputs": [],
   "source": [
    "#List supported flowcells and kits:\n",
    "  guppy_basecaller --print_workflows"
   ]
  },
  {
   "cell_type": "markdown",
   "id": "eb099b9e-7fc4-48e6-b749-df0b97b7dc17",
   "metadata": {},
   "source": [
    "3 types of config files:\n",
    "- sup : high accuracy, very slow\n",
    "- hac : medium accuracy, medium recources needes\n",
    "- fast : poor accuracy, very fast"
   ]
  },
  {
   "cell_type": "markdown",
   "id": "a1e8d4f8-3fc9-4a6b-8144-db7e485f403f",
   "metadata": {},
   "source": [
    "We recommend to basecaller yours dataset using a GPU graphic card to obtain results quickly.\n",
    "\n",
    "Guppy can also demultiplex and trim adaptaters or barcodes."
   ]
  },
  {
   "cell_type": "markdown",
   "id": "080b0405-2638-4fbd-ac44-283eb5b60c4a",
   "metadata": {},
   "source": [
    "#### Basecall fast5 files with `guppy`"
   ]
  },
  {
   "cell_type": "code",
   "execution_count": null,
   "id": "e94c0a79",
   "metadata": {},
   "outputs": [],
   "source": [
    "# a vous de jouer !\n",
    "guppy_basecaller -c dna_r9.4.1_XXXbps_XXX.cfg -i fast5/ "
   ]
  },
  {
   "cell_type": "markdown",
   "id": "456ef94a",
   "metadata": {},
   "source": [
    "## <span style=\"color: #4CACBC;\"> 3. Quality Control on Long Reads <a class=\"anchor\" id=\"qc\"></span> \n"
   ]
  },
  {
   "cell_type": "markdown",
   "id": "afce201e",
   "metadata": {},
   "source": [
    "Calculating data quantity"
   ]
  },
  {
   "cell_type": "code",
   "execution_count": null,
   "id": "926d9dc8-b5c8-4b8b-b8ca-002fc751276d",
   "metadata": {},
   "outputs": [],
   "source": [
    "cd ~/work/SG-ONT-2022/DATA\n",
    "pwd"
   ]
  },
  {
   "cell_type": "markdown",
   "id": "0bbb198f-796d-43e3-a74d-3ad66a336d8a",
   "metadata": {},
   "source": [
    "Remember how fastq file is formatted. Each read is writen in fastq file using four lines :\n",
    "\n",
    "* First line is the header. It has information about sequencer\n",
    "\n",
    "* Second line is the sequence\n",
    "\n",
    "* Third line start with + caracter and\n",
    "\n",
    "* Four line contains quality score of each base"
   ]
  },
  {
   "cell_type": "code",
   "execution_count": null,
   "id": "1bec43bf-d2f3-4e8e-834c-f089894fc4bb",
   "metadata": {},
   "outputs": [],
   "source": [
    "head -n 4 data.fastq"
   ]
  },
  {
   "cell_type": "markdown",
   "id": "c38c37e8-f37a-4b33-86d9-2ab37fe1c4d3",
   "metadata": {},
   "source": [
    "Calculating how many reads are in the fastq file"
   ]
  },
  {
   "cell_type": "code",
   "execution_count": null,
   "id": "5b0b5acd-048a-477f-9323-015f7189bdda",
   "metadata": {},
   "outputs": [],
   "source": [
    "awk '{s++}END{print s/4}' data.fastq"
   ]
  },
  {
   "cell_type": "markdown",
   "id": "f311055b-f17b-40d9-8d94-ad80458a3282",
   "metadata": {},
   "source": [
    "Calculating how many bases were sequenced using `seqtk`"
   ]
  },
  {
   "cell_type": "code",
   "execution_count": null,
   "id": "9c25a9ee",
   "metadata": {},
   "outputs": [],
   "source": [
    "seqtk seq -A data.fastq | grep -v \">\" | wc -m"
   ]
  },
  {
   "cell_type": "markdown",
   "id": "4e584d66-50b5-4a32-a611-e6f1419b35e5",
   "metadata": {},
   "source": [
    "What is the sequencing depth?"
   ]
  },
  {
   "cell_type": "markdown",
   "id": "ebf512dd",
   "metadata": {},
   "source": [
    "\n",
    "### <span style=\"color: #4CACBD;\"> 3.1 Quality Control of FASTQ with Nanoplot  <a class=\"anchor\" id=\"nanoplot\"></span> \n",
    "\n",
    "Control reads quality using Nanoplot. You can parameter this tool using --help."
   ]
  },
  {
   "cell_type": "code",
   "execution_count": null,
   "id": "126b58ef",
   "metadata": {
    "tags": []
   },
   "outputs": [],
   "source": [
    "NanoPlot --help"
   ]
  },
  {
   "cell_type": "markdown",
   "id": "df8bfdd5",
   "metadata": {},
   "source": [
    "Launch NanoPlot. You can launch NanoPlot using summaries or fastq files."
   ]
  },
  {
   "cell_type": "code",
   "execution_count": null,
   "id": "70c5bd7e-aad2-4115-abdc-198a8180b2ac",
   "metadata": {},
   "outputs": [],
   "source": [
    "# create a folder to save results\n",
    "mkdir -p ~/work/SG-ONT-2022/QC\n",
    "cd ~/work/SG-ONT-2022/QC"
   ]
  },
  {
   "cell_type": "code",
   "execution_count": null,
   "id": "5ac0782d-883b-4704-a71b-228b0664a74b",
   "metadata": {
    "tags": []
   },
   "outputs": [],
   "source": [
    "###### run nanoplot with the available fastq file data.fastq\n",
    "NanoPlot "
   ]
  },
  {
   "cell_type": "markdown",
   "id": "52d4b4c2-3993-4f77-b8b6-079786348502",
   "metadata": {},
   "source": [
    "Check stats on created NanoStats file."
   ]
  },
  {
   "cell_type": "code",
   "execution_count": null,
   "id": "2f34702f",
   "metadata": {},
   "outputs": [],
   "source": [
    "cat NANOPLOT/NanoStats.txt"
   ]
  },
  {
   "cell_type": "markdown",
   "id": "8a9507e3",
   "metadata": {},
   "source": [
    "* What do you think about data? \n",
    "\n",
    "* What about reads quality qscore?"
   ]
  },
  {
   "cell_type": "markdown",
   "id": "781a184f-c6c0-4d02-80f6-c30ba9d82279",
   "metadata": {},
   "source": [
    "Observe NanoPlot-report.html.\n",
    "\n",
    "To open it on jupyter you need to click on \"trust HTML\".\n",
    "\n",
    "* what about this dataset?"
   ]
  },
  {
   "cell_type": "markdown",
   "id": "192ec507",
   "metadata": {},
   "source": [
    "###  Others complemental tools: \n",
    "\n",
    "https://github.com/wdecoster/NanoPlot#companion-scripts\n",
    "\n",
    "* NanoComp: comparing multiple runs\n",
    "\n",
    "* NanoStat: statistic summary report of reads or alignments\n",
    "\n",
    "* NanoFilt: filtering and trimming of reads\n",
    "\n",
    "* NanoLyse: removing contaminant reads (e.g. lambda control DNA) from fastq\n",
    "\n",
    "* FiltLong : filtering long reads by quality https://github.com/rrwick/Filtlong\n"
   ]
  }
 ],
 "metadata": {
  "kernelspec": {
   "display_name": "Bash",
   "language": "bash",
   "name": "bash"
  },
  "language_info": {
   "codemirror_mode": "shell",
   "file_extension": ".sh",
   "mimetype": "text/x-sh",
   "name": "bash"
  }
 },
 "nbformat": 4,
 "nbformat_minor": 5
}
