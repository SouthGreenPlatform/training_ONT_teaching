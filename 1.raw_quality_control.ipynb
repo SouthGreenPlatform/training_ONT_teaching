{
 "cells": [
  {
   "cell_type": "markdown",
   "id": "aff6dddb",
   "metadata": {},
   "source": [
    "\n",
    "# <span style=\"color:#006E7F\">__Introduction to Oxford Nanopore Data Analysis__ <a class=\"anchor\"></span>  \n",
    "\n",
    "\n",
    "Created by J. Orjuela (DIADE-IRD), F. Sabot (DIADE-IRD) and G. Sarah (AGAP-INRAE) - Septembre 2021 Formation SouthGreen\n",
    "\n",
    "Adapted by J. Orjuela (DIADE-IRD), F. Sabot (DIADE-IRD) - Novembre 2022\n"
   ]
  },
  {
   "cell_type": "markdown",
   "id": "6d36a152",
   "metadata": {},
   "source": [
    "# <span style=\"color:#006E7F\">__TP1 - BASECALLING and QC__ <a class=\"anchor\" id=\"data\"></span>  \n",
    "    \n",
    "## <span style=\"color: #4CACBC;\"> 1. Creating the folder, downloading data and so on</span>  \n",
    "\n",
    "### <span style=\"color: #4CACBD;\"> 1.1 Simulated clones </span>"
   ]
  },
  {
   "cell_type": "markdown",
   "id": "62a3ac56",
   "metadata": {},
   "source": [
    "Before starting, please download special data created for this practical training. Data are available on the  from I-Trop server.\n",
    "\n",
    "Each participant will analyse a alguea"
   ]
  },
  {
   "cell_type": "markdown",
   "id": "9fb571d7",
   "metadata": {},
   "source": [
    "To generate Clone data, a **1Mb** contig was extracted from chromosome 1 of rice.\n",
    "\n",
    "20 levels of variation were generated and long reads were simulated for each.\n",
    "\n",
    "We have introduced different variations (SNP, indel, indel+translocations) and also some contaminations. "
   ]
  },
  {
   "cell_type": "code",
   "execution_count": null,
   "id": "426eedba-4b8e-429f-986d-4e5d0e190a84",
   "metadata": {},
   "outputs": [],
   "source": [
    "CLONE=Clone10"
   ]
  },
  {
   "cell_type": "code",
   "execution_count": null,
   "id": "181d5040-5642-4ecf-9b14-e210cdaaac69",
   "metadata": {},
   "outputs": [],
   "source": [
    "cd ~/work\n",
    "mkdir -p DATA\n",
    "cd DATA\n",
    "# download your compressed CloneX \n",
    "wget --no-check-certificat -rm -nH --cut-dirs=1 --reject=\"index.html*\" https://itrop.ird.fr/ont-training/${CLONE}.tar.gz"
   ]
  },
  {
   "cell_type": "code",
   "execution_count": null,
   "id": "f5044050-d4d0-4f49-9b4f-e7d4ec72efd2",
   "metadata": {},
   "outputs": [],
   "source": [
    "#decompress file\n",
    "tar zxvf ${CLONE}.tar.gz"
   ]
  },
  {
   "cell_type": "code",
   "execution_count": null,
   "id": "6af55e84",
   "metadata": {},
   "outputs": [],
   "source": [
    "# check data \n",
    "cd ~/work/DATA\n",
    "ls -l ${CLONE}"
   ]
  },
  {
   "cell_type": "markdown",
   "id": "2d1b105f",
   "metadata": {},
   "source": [
    "### <span style=\"color: #4CACBD;\"> 1.2 Real data </span>\n",
    "\n",
    "Some steps in this practical training can not work in Clones dataset. A second dataset will be download.\n",
    "\n",
    "These data were generated in this [paper.](https://www.biorxiv.org/content/10.1101/2021.07.04.451066v1.full)\n",
    "\n",
    "Please decompress Hh dataset.\n"
   ]
  },
  {
   "cell_type": "code",
   "execution_count": null,
   "id": "f3148e05",
   "metadata": {},
   "outputs": [],
   "source": [
    "cd ~/work/DATA\n",
    "wget --no-check-certificat -rm -nH --cut-dirs=1 --reject=\"index.html*\" https://itrop.ird.fr/ont-training/real_Hh.tar.gz"
   ]
  },
  {
   "cell_type": "code",
   "execution_count": null,
   "id": "595e9fa0-b6a5-4c9a-97ba-69ca47bbb4c9",
   "metadata": {
    "tags": []
   },
   "outputs": [],
   "source": [
    "#decompress file\n",
    "tar zxvf real_Hh.tar.gz"
   ]
  },
  {
   "cell_type": "markdown",
   "id": "1be14d7d",
   "metadata": {
    "tags": []
   },
   "source": [
    "## <span style=\"color: #4CACBC;\"> 2. Basecalling </span>  \n",
    "\n",
    "When DNA molecules are sequenced, electrical signals are stocked on fast5 format files.\n",
    "\n",
    "These signals need to be converted on standard fastq files to post-analysis.\n",
    "\n",
    "Several training dataset models are usually used to convert fast5 to fastq. \n",
    "\n",
    "### <span style=\"color: #4CACBD;\"> 2.1 Basecalling with Guppy  <span style=\"color:red\"> (Don't run it! ) </span> </span>"
   ]
  },
  {
   "cell_type": "markdown",
   "id": "22e07fab",
   "metadata": {},
   "source": [
    "Guppy is a data processing toolkit that contains the 'Oxford Nanopore Technologies' basecalling algorithms, and several bioinformatic post-processing features.\n",
    "\n",
    "Basecalling with guppy can be launch using guppy tool. \n",
    "\n",
    "Guppy takes fast5 raw read files and transform electrical signal in fastq files.\n",
    "\n",
    "We recommend to basecaller yours dataset using a GPU graphic card to obtain results quickly.\n",
    "\n",
    "Documentation about how to run Guppy on I-trop GPU can be found on https://bioinfo.ird.fr/index.php/tutorials-fr/gpu/\n"
   ]
  },
  {
   "cell_type": "code",
   "execution_count": null,
   "id": "e94c0a79",
   "metadata": {},
   "outputs": [],
   "source": [
    "MODEL=\"dna_r9.4.1_450bps_hac.cfg\"\n",
    "INPUT=\"path/to/FAST5\"\n",
    "OUTPUT=\"/path/to/FASTQ\"\n",
    "echo \"guppy_basecaller -c ${MODEL} -i ${INPUT} --recursive -s ${OUTPUT} --num_callers 8 --gpu_runners_per_device 8 --device auto --min_qscore 7 --compress_fastq\""
   ]
  },
  {
   "cell_type": "markdown",
   "id": "456ef94a",
   "metadata": {},
   "source": [
    "## <span style=\"color: #4CACBC;\"> 3. Quality Control on Long Reads </span>  \n"
   ]
  },
  {
   "cell_type": "markdown",
   "id": "afce201e",
   "metadata": {},
   "source": [
    "Calculating data quantity"
   ]
  },
  {
   "cell_type": "code",
   "execution_count": null,
   "id": "926d9dc8-b5c8-4b8b-b8ca-002fc751276d",
   "metadata": {},
   "outputs": [],
   "source": [
    "cd ~/work/DATA\n",
    "pwd"
   ]
  },
  {
   "cell_type": "markdown",
   "id": "f311055b-f17b-40d9-8d94-ad80458a3282",
   "metadata": {},
   "source": [
    "Calculating how many bases were sequenced"
   ]
  },
  {
   "cell_type": "code",
   "execution_count": null,
   "id": "9c25a9ee",
   "metadata": {},
   "outputs": [],
   "source": [
    "seqtk seq -A ${CLONE}/ONT/${CLONE}.fastq.gz | grep -v \">\" |wc -m"
   ]
  },
  {
   "cell_type": "markdown",
   "id": "4e584d66-50b5-4a32-a611-e6f1419b35e5",
   "metadata": {},
   "source": [
    "What is the sequencing depth if clone lenght is about 1Mb ?"
   ]
  },
  {
   "cell_type": "markdown",
   "id": "ebf512dd",
   "metadata": {},
   "source": [
    "### <span style=\"color: #4CACBD;\"> 3.1 Quality Control of FASTQ with Nanoplot (one clone --summary) </span>\n",
    "\n",
    "Control reads quality using Nanoplot. You can parameter this tool using --help."
   ]
  },
  {
   "cell_type": "code",
   "execution_count": null,
   "id": "126b58ef",
   "metadata": {
    "tags": []
   },
   "outputs": [],
   "source": [
    "NanoPlot --help"
   ]
  },
  {
   "cell_type": "markdown",
   "id": "df8bfdd5",
   "metadata": {},
   "source": [
    "Launch NanoPlot by your Clone. You can launch NanoPlot using summaries or fastq files."
   ]
  },
  {
   "cell_type": "code",
   "execution_count": null,
   "id": "70c5bd7e-aad2-4115-abdc-198a8180b2ac",
   "metadata": {},
   "outputs": [],
   "source": [
    "# create a folder to save results\n",
    "mkdir -p ~/work/RESULTS\n",
    "cd ~/work/RESULTS"
   ]
  },
  {
   "cell_type": "code",
   "execution_count": null,
   "id": "f3fae9d8",
   "metadata": {
    "tags": []
   },
   "outputs": [],
   "source": [
    "# run nanoplot \n",
    "time NanoPlot -t 1 --summary ../DATA/${CLONE}/ONT/${CLONE}_DeepSimu_sequencing_summary.txt --outdir NANOPLOT_${CLONE}"
   ]
  },
  {
   "cell_type": "markdown",
   "id": "52d4b4c2-3993-4f77-b8b6-079786348502",
   "metadata": {},
   "source": [
    "* NOTE: Clones are simulated data. Check stats on created NanoStats file. <span style=\"color:red\"> it's normal ! it doesn't work! ) </span>\n",
    "\n",
    "Check stats on created NanoStats file."
   ]
  },
  {
   "cell_type": "code",
   "execution_count": null,
   "id": "2f34702f",
   "metadata": {},
   "outputs": [],
   "source": [
    "cat NANOPLOT_${CLONE}/NanoStats.txt"
   ]
  },
  {
   "cell_type": "markdown",
   "id": "8a9507e3",
   "metadata": {},
   "source": [
    "* What do you think about data? \n",
    "\n",
    "* Estimate coverage.\n",
    "\n",
    "* What about reads quality qscore?"
   ]
  },
  {
   "cell_type": "markdown",
   "id": "1258e568-39ff-4f63-b2ec-f7baf1f76eba",
   "metadata": {},
   "source": [
    "### <span style=\"color: #4CACBD;\"> 3.2 Quality Control of FASTQ with Nanoplot (Hh real data --fastq ) </span>\n"
   ]
  },
  {
   "cell_type": "markdown",
   "id": "d9e0fbc5-847b-4f90-99da-79fff9e9e05c",
   "metadata": {},
   "source": [
    "Check quality using NanoPlot over Hh real data fastq. This can take a while."
   ]
  },
  {
   "cell_type": "code",
   "execution_count": null,
   "id": "60aa698d-3a7b-48b3-a6c7-14ea65523f0d",
   "metadata": {},
   "outputs": [],
   "source": [
    "cd ~/work/RESULTS/\n",
    "pwd"
   ]
  },
  {
   "cell_type": "markdown",
   "id": "6d294d92-26f5-49c4-8bb3-d7c768f5d9bd",
   "metadata": {},
   "source": [
    "**The following Nanoplot will run for a few minutes**"
   ]
  },
  {
   "cell_type": "code",
   "execution_count": null,
   "id": "4c303953-6ec2-44ad-9139-9b769304eb6a",
   "metadata": {},
   "outputs": [],
   "source": [
    "time NanoPlot -t 8 --fastq ../DATA/real_Hh/H_M1C132_1.fastq.gz --outdir NANOPLOT_Hh"
   ]
  },
  {
   "cell_type": "markdown",
   "id": "781a184f-c6c0-4d02-80f6-c30ba9d82279",
   "metadata": {},
   "source": [
    "Observe report.html.\n",
    "\n",
    "* what about this dataset?"
   ]
  },
  {
   "cell_type": "markdown",
   "id": "19638aba",
   "metadata": {},
   "source": [
    "### <span style=\"color: #4CACBD;\"> 3.3 Compare reads QC statistics with NanoComp (Summaries dataset) </span>"
   ]
  },
  {
   "cell_type": "markdown",
   "id": "cf63dea7",
   "metadata": {},
   "source": [
    "Compare long reads sequencing datasets using **NanoComp**.\n",
    "\n",
    "NanoComp compiles quality information in a useful html report.\n",
    "\n",
    "You can launch NanoComp using summaries or fastq files."
   ]
  },
  {
   "cell_type": "code",
   "execution_count": null,
   "id": "c23cdac6",
   "metadata": {
    "tags": []
   },
   "outputs": [],
   "source": [
    "NanoComp --help"
   ]
  },
  {
   "cell_type": "markdown",
   "id": "741db910",
   "metadata": {},
   "source": [
    "\n",
    "For the moment, we used only a Clone and simulated data. \n",
    "\n",
    "Please download a \"summaries\" obtained in paspalum real data. \n",
    "\n",
    "Download available 'Real_PSummaries' to compare them. \n"
   ]
  },
  {
   "cell_type": "code",
   "execution_count": null,
   "id": "96c6fa06-d6fc-4635-abfb-c00e945a0629",
   "metadata": {},
   "outputs": [],
   "source": [
    "cd ~/work/DATA\n",
    "wget --no-check-certificat -rm -nH --cut-dirs=1 --reject=\"index.html*\" https://itrop.ird.fr/ont-training/real_summaries.tar.gz"
   ]
  },
  {
   "cell_type": "code",
   "execution_count": null,
   "id": "0883c0d7-8edd-43cc-95cb-ad793e7513b1",
   "metadata": {},
   "outputs": [],
   "source": [
    "#decompress \n",
    "tar -zxvf real_summaries.tar.gz"
   ]
  },
  {
   "cell_type": "code",
   "execution_count": null,
   "id": "397a5f12-ff2a-4cd2-a738-b9e4d8a0eb56",
   "metadata": {},
   "outputs": [],
   "source": [
    "cd ~/work/DATA/real_summaries/\n",
    "ls -lh  *txt"
   ]
  },
  {
   "cell_type": "markdown",
   "id": "d34d1a48-2444-411c-bf64-7e88befa034b",
   "metadata": {},
   "source": [
    "Compare this 3 summaries files with NanoComp"
   ]
  },
  {
   "cell_type": "code",
   "execution_count": null,
   "id": "44f735e0",
   "metadata": {},
   "outputs": [],
   "source": [
    "time NanoComp --summary OLD_summary.txt FF_summary.txt BON_summary.txt --outdir ~/work/RESULTS/NANOCOMP-realsummaries"
   ]
  },
  {
   "cell_type": "markdown",
   "id": "192ec507",
   "metadata": {},
   "source": [
    "### <span style=\"color: #4CACBD;\"> Others complemental tools </span>\n",
    " \n",
    "\n",
    "https://github.com/wdecoster/NanoPlot#companion-scripts\n",
    "\n",
    "* NanoComp: comparing multiple runs\n",
    "\n",
    "* NanoStat: statistic summary report of reads or alignments\n",
    "\n",
    "* NanoFilt: filtering and trimming of reads\n",
    "\n",
    "* NanoLyse: removing contaminant reads (e.g. lambda control DNA) from fastq\n",
    "\n",
    "* FiltLong : filtering long reads by quality https://github.com/rrwick/Filtlong\n"
   ]
  }
 ],
 "metadata": {
  "kernelspec": {
   "display_name": "Bash",
   "language": "bash",
   "name": "bash"
  },
  "language_info": {
   "codemirror_mode": "shell",
   "file_extension": ".sh",
   "mimetype": "text/x-sh",
   "name": "bash"
  }
 },
 "nbformat": 4,
 "nbformat_minor": 5
}
