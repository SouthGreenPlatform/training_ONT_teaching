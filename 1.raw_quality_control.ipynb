{
 "cells": [
  {
   "cell_type": "markdown",
   "id": "37edc3ba",
   "metadata": {},
   "source": [
    "# Formation South Green 2021  \n",
    "\n",
    "##  Initiation à l’analyse de données Minion\n",
    "\n",
    "### PART 1\n",
    "\n",
    "Created by J.Orjuela (DIADE-IRD), F. Sabot (DIADE-IRD) and G. Sarah (AGAP-CIRAD)\n",
    "\n",
    "Septembre 2021\n"
   ]
  },
  {
   "cell_type": "code",
   "execution_count": 27,
   "id": "90fb062d",
   "metadata": {},
   "outputs": [
    {
     "name": "stdout",
     "output_type": "stream",
     "text": [
      "/home/jovyan\n"
     ]
    }
   ],
   "source": [
    "pwd"
   ]
  },
  {
   "cell_type": "markdown",
   "id": "f9387aea",
   "metadata": {},
   "source": [
    "## 1. Data"
   ]
  },
  {
   "cell_type": "markdown",
   "id": "6ed80776",
   "metadata": {},
   "source": [
    "Before start, please download special data created for this practical training.\n",
    "\n",
    "Data are available on the  from I-Trop server."
   ]
  },
  {
   "cell_type": "code",
   "execution_count": 2,
   "id": "d3772959",
   "metadata": {},
   "outputs": [],
   "source": [
    "USER=\"jovyan\"\n",
    "mkdir -p /home/${USER}/SG-ONT-2021/\n",
    "cd /home/${USER}/SG-ONT-2021/"
   ]
  },
  {
   "cell_type": "code",
   "execution_count": 28,
   "id": "52b8a4c1",
   "metadata": {},
   "outputs": [],
   "source": [
    "# download data\n",
    "wget --no-check-certificat -rm -nH --cut-dirs=1 --reject=\"index.html*\" --no-parent https://itrop.ird.fr/ont-training/DATA/"
   ]
  },
  {
   "cell_type": "markdown",
   "id": "42cce941",
   "metadata": {},
   "source": [
    "To generate this data, a 10Kb contig was extracted from chromosome 1 rice genome. \n",
    "\n",
    "20 levels of variation (Clone_1 to Clone_20) were generated and long reads were simulated foreach.\n",
    "\n",
    "Clone_1 is identical to the reference genome and Clone_20 is the most divergent one.\n",
    "\n",
    "We have introduced different variations (SNP, indel, indel+translocations) and also some contaminations. "
   ]
  },
  {
   "cell_type": "markdown",
   "id": "6c86b595",
   "metadata": {},
   "source": [
    "## 2. Basecalling \n",
    "\n",
    "When DNA molecules are sequenced, electrical signals are stocked on fast5 format files.\n",
    "\n",
    "These signals need to be converted on standard fastq files to post-analysis.\n",
    "\n",
    "Several training dataset models are usually used to convert fast5 to fastq. \n",
    "\n",
    "\n",
    "### 2.1 Basecalling with Guppy (DEMO) "
   ]
  },
  {
   "cell_type": "markdown",
   "id": "85162424",
   "metadata": {},
   "source": [
    "Guppy is a data processing toolkit that contains the 'Oxford Nanopore Technologies' basecalling algorithms, and several bioinformatic post-processing features.\n",
    "\n",
    "Basecalling with guppy can be launch using guppy tool. \n",
    "\n",
    "Guppy takes fast5 raw read files and transform electrical signal in fastq files.\n",
    "\n",
    "We recommend to basecaller yours dataset using a GPU graphic card to obtain results quickly."
   ]
  },
  {
   "cell_type": "markdown",
   "id": "0491487f",
   "metadata": {},
   "source": [
    "## 3. Quality Control on Long Reads\n"
   ]
  },
  {
   "cell_type": "markdown",
   "id": "d87b3aea",
   "metadata": {},
   "source": [
    "Calculating data quantity"
   ]
  },
  {
   "cell_type": "code",
   "execution_count": 21,
   "id": "2c29c933",
   "metadata": {},
   "outputs": [
    {
     "name": "stdout",
     "output_type": "stream",
     "text": [
      "194708\n"
     ]
    }
   ],
   "source": [
    "seqtk seq -A DATA/fastq_pass/Clone1.fastq | grep ^'>' - |  tr -dc “ACGTNacgtn” | wc -m"
   ]
  },
  {
   "cell_type": "code",
   "execution_count": 24,
   "id": "e5a0afd0",
   "metadata": {},
   "outputs": [
    {
     "name": "stdout",
     "output_type": "stream",
     "text": [
      "DATA/fastq_pass/Clone10.fastq\n",
      "213752\n",
      "DATA/fastq_pass/Clone11.fastq\n",
      "211687\n",
      "DATA/fastq_pass/Clone12.fastq\n",
      "191704\n",
      "DATA/fastq_pass/Clone13.fastq\n",
      "211557\n",
      "DATA/fastq_pass/Clone14.fastq\n",
      "213620\n",
      "DATA/fastq_pass/Clone15.fastq\n",
      "226137\n",
      "DATA/fastq_pass/Clone16.fastq\n",
      "241195\n",
      "DATA/fastq_pass/Clone17.fastq\n",
      "217039\n",
      "DATA/fastq_pass/Clone18.fastq\n",
      "214762\n",
      "DATA/fastq_pass/Clone19.fastq\n",
      "223154\n",
      "DATA/fastq_pass/Clone1.fastq\n",
      "194708\n",
      "DATA/fastq_pass/Clone20.fastq\n",
      "205258\n",
      "DATA/fastq_pass/Clone2.fastq\n",
      "194758\n",
      "DATA/fastq_pass/Clone3.fastq\n",
      "194465\n",
      "DATA/fastq_pass/Clone4.fastq\n",
      "194492\n",
      "DATA/fastq_pass/Clone5.fastq\n",
      "215837\n",
      "DATA/fastq_pass/Clone6.fastq\n",
      "223312\n",
      "DATA/fastq_pass/Clone7.fastq\n",
      "286135\n",
      "DATA/fastq_pass/Clone8.fastq\n",
      "373305\n",
      "DATA/fastq_pass/Clone9.fastq\n",
      "225575\n"
     ]
    }
   ],
   "source": [
    "for i in DATA/fastq_pass/*fastq;\n",
    "do\n",
    "    echo ${i};\n",
    "    seqtk seq -A ${i} | grep ^'>' - |  tr -dc “ACGTNacgtn” | wc -m\n",
    "done;"
   ]
  },
  {
   "cell_type": "markdown",
   "id": "43172acc",
   "metadata": {},
   "source": [
    "### 3.1 Quality Control of FASTQ with Nanoplot\n",
    "\n",
    "Control reads quality using Nanoplot. You can parametter this tool using --help."
   ]
  },
  {
   "cell_type": "code",
   "execution_count": null,
   "id": "c71f565e",
   "metadata": {},
   "outputs": [],
   "source": [
    "NanoPlot --help"
   ]
  },
  {
   "cell_type": "markdown",
   "id": "f0cebf27",
   "metadata": {},
   "source": [
    "Launch NanoPlot by using a Clone of the 20. \n",
    "\n",
    "You can launch NanoPlot using summaries or fastq files."
   ]
  },
  {
   "cell_type": "code",
   "execution_count": 29,
   "id": "7f9027fc",
   "metadata": {},
   "outputs": [
    {
     "name": "stdout",
     "output_type": "stream",
     "text": [
      "\n",
      "\n",
      "\n",
      "If you read this then NanoPlot 1.38.0 has crashed :-(\n",
      "Please try updating NanoPlot and see if that helps...\n",
      "\n",
      "If not, please report this issue at https://github.com/wdecoster/NanoPlot/issues\n",
      "If you could include the log file that would be really helpful.\n",
      "Thanks!\n",
      "\n",
      "\n",
      "\n",
      "Traceback (most recent call last):\n",
      "  File \"/opt/conda/bin/NanoPlot\", line 8, in <module>\n",
      "    sys.exit(main())\n",
      "  File \"/opt/conda/lib/python3.9/site-packages/nanoplot/NanoPlot.py\", line 104, in main\n",
      "    plots = make_plots(datadf, settings)\n",
      "  File \"/opt/conda/lib/python3.9/site-packages/nanoplot/NanoPlot.py\", line 213, in make_plots\n",
      "    nanoplotter.time_plots(\n",
      "  File \"/opt/conda/lib/python3.9/site-packages/nanoplotter/timeplots.py\", line 53, in time_plots\n",
      "    violins = violin_plots_over_time(dfs=check_valid_time_and_sort(subsampled_df),\n",
      "  File \"/opt/conda/lib/python3.9/site-packages/nanoplotter/timeplots.py\", line 64, in violin_plots_over_time\n",
      "    dfs['timebin'] = add_time_bins(dfs)\n",
      "  File \"/opt/conda/lib/python3.9/site-packages/nanoplotter/timeplots.py\", line 195, in add_time_bins\n",
      "    return pd.cut(x=dfs[\"start_time\"],\n",
      "  File \"/opt/conda/lib/python3.9/site-packages/pandas/core/reshape/tile.py\", line 241, in cut\n",
      "    raise ValueError(\"`bins` should be a positive integer.\")\n",
      "ValueError: `bins` should be a positive integer.\n"
     ]
    },
    {
     "ename": "",
     "evalue": "1",
     "output_type": "error",
     "traceback": []
    }
   ],
   "source": [
    "NanoPlot -t 1 --summary DATA/summaries/Clone20_DeepSimu_sequencing_summary.txt --outdir NANOPLOT_Clone20"
   ]
  },
  {
   "cell_type": "code",
   "execution_count": 30,
   "id": "9c7a42be",
   "metadata": {},
   "outputs": [
    {
     "name": "stdout",
     "output_type": "stream",
     "text": [
      "/home/jovyan/SG-ONT-2021\n"
     ]
    }
   ],
   "source": [
    "pwd"
   ]
  },
  {
   "cell_type": "markdown",
   "id": "6c333bed",
   "metadata": {},
   "source": [
    "Observe html files and check stats on NanoStats file."
   ]
  },
  {
   "cell_type": "code",
   "execution_count": 32,
   "id": "ba792cbb",
   "metadata": {},
   "outputs": [
    {
     "name": "stdout",
     "output_type": "stream",
     "text": [
      "General summary:         \n",
      "Active channels:                     1.0\n",
      "Mean read length:               14,833.7\n",
      "Mean read quality:                   8.3\n",
      "Median read length:             12,878.5\n",
      "Median read quality:                 8.4\n",
      "Number of reads:                10,808.0\n",
      "Read length N50:                22,312.0\n",
      "STDEV read length:              10,800.9\n",
      "Total bases:               160,322,677.0\n",
      "Number, percentage and megabases of reads above quality cutoffs\n",
      ">Q5:\t10808 (100.0%) 160.3Mb\n",
      ">Q7:\t10804 (100.0%) 160.3Mb\n",
      ">Q10:\t1 (0.0%) 0.0Mb\n",
      ">Q12:\t0 (0.0%) 0.0Mb\n",
      ">Q15:\t0 (0.0%) 0.0Mb\n",
      "Top 5 highest mean basecall quality scores and their read lengths\n",
      "1:\t10.0 (2124)\n",
      "2:\t9.8 (3858)\n",
      "3:\t9.6 (1632)\n",
      "4:\t9.6 (2838)\n",
      "5:\t9.6 (3723)\n",
      "Top 5 longest reads and their mean basecall quality score\n",
      "1:\t73363 (8.5)\n",
      "2:\t64296 (8.4)\n",
      "3:\t64219 (8.4)\n",
      "4:\t62651 (8.4)\n",
      "5:\t60899 (8.1)\n"
     ]
    }
   ],
   "source": [
    "cat NANOPLOT_Clone20/NanoStats.txt"
   ]
  },
  {
   "cell_type": "markdown",
   "id": "2cc47ce4",
   "metadata": {},
   "source": [
    "* What do you think about data? \n",
    "\n",
    "* Calculate estimate coverage.\n",
    "\n",
    "* What about reads quality qscore?"
   ]
  },
  {
   "cell_type": "markdown",
   "id": "9f688a41",
   "metadata": {},
   "source": [
    "## 3.3 Compare reads QC statistics"
   ]
  },
  {
   "cell_type": "markdown",
   "id": "9f94c178",
   "metadata": {},
   "source": [
    "Compare long reads sequencing datasets using NanoComp.\n",
    "\n",
    "NanoComp compiles quality information in usefull a html report.\n",
    "\n",
    "You can launch NanoComp using summaries or fastq files."
   ]
  },
  {
   "cell_type": "code",
   "execution_count": 33,
   "id": "aef233a7",
   "metadata": {},
   "outputs": [
    {
     "name": "stdout",
     "output_type": "stream",
     "text": [
      "usage: NanoComp [-h] [-v] [-t THREADS] [-o OUTDIR] [-p PREFIX] [--verbose]\n",
      "                [--raw] [--store] [--tsv_stats] [--readtype {1D,2D,1D2}]\n",
      "                [--maxlength N] [--minlength N] [--barcoded]\n",
      "                [--split_runs TSV_FILE]\n",
      "                [-f {png,jpg,jpeg,webp,svg,pdf,eps,json}]\n",
      "                [-n names [names ...]] [-c colors [colors ...]]\n",
      "                [--plot {violin,box,ridge,false}] [--title TITLE] [--dpi DPI]\n",
      "                (--fasta file [file ...] | --fastq files [files ...] | --summary files [files ...] | --bam files [files ...] | --ubam file [file ...] | --cram file [file ...] | --pickle file [file ...] | --feather file [file ...])\n",
      "\n",
      "Compares long read sequencing datasets.\n",
      "\n",
      "General options:\n",
      "  -h, --help            show the help and exit\n",
      "  -v, --version         Print version and exit.\n",
      "  -t, --threads THREADS\n",
      "                        Set the allowed number of threads to be used by the script\n",
      "  -o, --outdir OUTDIR   Specify directory in which output has to be created.\n",
      "  -p, --prefix PREFIX   Specify an optional prefix to be used for the output files.\n",
      "  --verbose             Write log messages also to terminal.\n",
      "  --raw                 Store the extracted data in tab separated file.\n",
      "  --store               Store the extracted data in a pickle file for future plotting.\n",
      "  --tsv_stats           Output the stats file as a properly formatted TSV.\n",
      "\n",
      "Options for filtering or transforming input prior to plotting:\n",
      "  --readtype {1D,2D,1D2}\n",
      "                        Which read type to extract information about from summary. Options are 1D, 2D,\n",
      "                        1D2\n",
      "  --maxlength N         Drop reads longer than length specified.\n",
      "  --minlength N         Drop reads shorter than length specified.\n",
      "  --barcoded            Barcoded experiment in summary format, splitting per barcode.\n",
      "  --split_runs TSV_FILE\n",
      "                        File: Split the summary on run IDs and use names in tsv file. Mandatory header\n",
      "                        fields are 'NAME' and 'RUN_ID'.\n",
      "\n",
      "Options for customizing the plots created:\n",
      "  -f, --format {png,jpg,jpeg,webp,svg,pdf,eps,json}\n",
      "                        Specify the output format of the plots, which are in addition to the html files\n",
      "  -n, --names names [names ...]\n",
      "                        Specify the names to be used for the datasets\n",
      "  -c, --colors colors [colors ...]\n",
      "                        Specify the colors to be used for the datasets\n",
      "  --plot {violin,box,ridge,false}\n",
      "                        Which plot type to use: 'box', 'violin' (default), 'ridge' (joyplot) or 'false'\n",
      "                        (no plots)\n",
      "  --title TITLE         Add a title to all plots, requires quoting if using spaces\n",
      "  --dpi DPI             Set the dpi for saving images (deprecated)\n",
      "\n",
      "Input data sources, one of these is required.:\n",
      "  --fasta file [file ...]\n",
      "                        Data is in (compressed) fasta format.\n",
      "  --fastq files [files ...]\n",
      "                        Data is in (compressed) fastq format.\n",
      "  --summary files [files ...]\n",
      "                        Data is in (compressed) summary files generated by albacore or guppy.\n",
      "  --bam files [files ...]\n",
      "                        Data is in sorted bam files.\n",
      "  --ubam file [file ...]\n",
      "                        Data is in one or more unmapped bam file(s).\n",
      "  --cram file [file ...]\n",
      "                        Data is in one or more sorted cram file(s).\n",
      "  --pickle file [file ...]\n",
      "                        Data is in one or more pickle file(s) from using NanoComp/NanoPlot.\n",
      "  --feather file [file ...]\n",
      "                        Data is in one or more feather file(s).\n",
      "\n",
      "EXAMPLES:\n",
      "    NanoComp --bam alignment1.bam alignment2.bam --outdir compare-runs\n",
      "    NanoComp --fastq reads1.fastq.gz reads2.fastq.gz reads3.fastq.gz  --names run1 run2 run3\n",
      "    \n"
     ]
    }
   ],
   "source": [
    "NanoComp --help"
   ]
  },
  {
   "cell_type": "markdown",
   "id": "af7ed6c2",
   "metadata": {},
   "source": [
    "Lauch NanoPlot using the whole of Clones. \n",
    "\n",
    "You have several posibilities, we propose a for loop to list summaries."
   ]
  },
  {
   "cell_type": "code",
   "execution_count": 40,
   "id": "d78bb9c8",
   "metadata": {},
   "outputs": [
    {
     "name": "stdout",
     "output_type": "stream",
     "text": [
      "DATA/summaries/Clone10_DeepSimu_sequencing_summary.txt DATA/summaries/Clone11_DeepSimu_sequencing_summary.txt DATA/summaries/Clone12_DeepSimu_sequencing_summary.txt DATA/summaries/Clone13_DeepSimu_sequencing_summary.txt DATA/summaries/Clone14_DeepSimu_sequencing_summary.txt DATA/summaries/Clone15_DeepSimu_sequencing_summary.txt DATA/summaries/Clone16_DeepSimu_sequencing_summary.txt DATA/summaries/Clone17_DeepSimu_sequencing_summary.txt DATA/summaries/Clone18_DeepSimu_sequencing_summary.txt DATA/summaries/Clone19_DeepSimu_sequencing_summary.txt DATA/summaries/Clone1_DeepSimu_sequencing_summary.txt DATA/summaries/Clone20_DeepSimu_sequencing_summary.txt DATA/summaries/Clone2_DeepSimu_sequencing_summary.txt DATA/summaries/Clone3_DeepSimu_sequencing_summary.txt DATA/summaries/Clone4_DeepSimu_sequencing_summary.txt DATA/summaries/Clone5_DeepSimu_sequencing_summary.txt DATA/summaries/Clone6_DeepSimu_sequencing_summary.txt DATA/summaries/Clone7_DeepSimu_sequencing_summary.txt DATA/summaries/Clone8_DeepSimu_sequencing_summary.txt DATA/summaries/Clone9_DeepSimu_sequencing_summary.txt\n"
     ]
    }
   ],
   "source": [
    "TXT=\"\"\n",
    "for i in DATA/summaries/*txt;\n",
    "do\n",
    "    TXT=${TXT}${i}\" \"\n",
    "done;\n",
    "echo $TXT"
   ]
  },
  {
   "cell_type": "code",
   "execution_count": 41,
   "id": "d20943a9",
   "metadata": {},
   "outputs": [],
   "source": [
    "NanoComp --summary ${TXT} --outdir NANOCOMP"
   ]
  },
  {
   "cell_type": "markdown",
   "id": "7c9d846d",
   "metadata": {},
   "source": [
    "* What is the mean lenght reads obtained?"
   ]
  },
  {
   "cell_type": "markdown",
   "id": "ad3bbc50",
   "metadata": {},
   "source": [
    "###  Others complemental tools: \n",
    "\n",
    "https://github.com/wdecoster/NanoPlot#companion-scripts\n",
    "\n",
    "* NanoComp: comparing multiple runs\n",
    "\n",
    "* NanoStat: statistic summary report of reads or alignments\n",
    "\n",
    "* NanoFilt: filtering and trimming of reads\n",
    "\n",
    "* NanoLyse: removing contaminant reads (e.g. lambda control DNA) from fastq\n",
    "\n",
    "FiltLong : filtering long reads by quality https://github.com/rrwick/Filtlong\n"
   ]
  }
 ],
 "metadata": {
  "kernelspec": {
   "display_name": "Bash",
   "language": "bash",
   "name": "bash"
  },
  "language_info": {
   "codemirror_mode": "shell",
   "file_extension": ".sh",
   "mimetype": "text/x-sh",
   "name": "bash"
  }
 },
 "nbformat": 4,
 "nbformat_minor": 5
}
