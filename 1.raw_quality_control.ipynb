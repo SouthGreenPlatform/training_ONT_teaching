{
 "cells": [
  {
   "cell_type": "markdown",
   "id": "aff6dddb",
   "metadata": {},
   "source": [
    "\n",
    "# <span style=\"color:#006E7F\">__Introduction to Oxford Nanopore Data Analysis__ <a class=\"anchor\"></span>  \n",
    "\n",
    "\n",
    "Created by J. Orjuela (DIADE-IRD), F. Sabot (DIADE-IRD) and G. Sarah (AGAP-INRAE) - Septembre 2021 Formation SouthGreen\n",
    "\n",
    "Adapted by J. Orjuela (DIADE-IRD), F. Sabot (DIADE-IRD) - Novembre 2022\n"
   ]
  },
  {
   "cell_type": "markdown",
   "id": "6d36a152",
   "metadata": {},
   "source": [
    "# <span style=\"color:#006E7F\">__TP1 - BASECALLING and QC__ <a class=\"anchor\" id=\"data\"></span>  \n",
    "    \n",
    "## <span style=\"color: #4CACBC;\"> 1. Creating the folder, downloading data and so on</span>  \n",
    "\n",
    "### <span style=\"color: #4CACBD;\"> 1.1 Simulated clones </span>"
   ]
  },
  {
   "cell_type": "markdown",
   "id": "62a3ac56",
   "metadata": {},
   "source": [
    "Before starting, please download special data created for this practical training. Data are available on the  from I-Trop server.\n",
    "\n",
    "Each participant will analyse a alguea"
   ]
  },
  {
   "cell_type": "markdown",
   "id": "9fb571d7",
   "metadata": {},
   "source": [
    "To generate Clone data, a **1Mb** contig was extracted from chromosome 1 of rice.\n",
    "\n",
    "20 levels of variation were generated and long reads were simulated for each.\n",
    "\n",
    "We have introduced different variations (SNP, indel, indel+translocations) and also some contaminations. "
   ]
  },
  {
   "cell_type": "code",
   "execution_count": 1,
   "id": "426eedba-4b8e-429f-986d-4e5d0e190a84",
   "metadata": {},
   "outputs": [],
   "source": [
    "CLONE=Clone10"
   ]
  },
  {
   "cell_type": "code",
   "execution_count": 5,
   "id": "181d5040-5642-4ecf-9b14-e210cdaaac69",
   "metadata": {},
   "outputs": [
    {
     "name": "stdout",
     "output_type": "stream",
     "text": [
      "--2022-11-08 13:38:40--  https://itrop.ird.fr/ont-training/Clone10.tar.gz\n",
      "Resolving itrop.ird.fr (itrop.ird.fr)... 91.203.35.184\n",
      "Connecting to itrop.ird.fr (itrop.ird.fr)|91.203.35.184|:443... connected.\n",
      "HTTP request sent, awaiting response... 200 OK\n",
      "Length: 197949883 (189M) [application/x-gzip]\n",
      "Saving to: ‘Clone10.tar.gz’\n",
      "\n",
      "Clone10.tar.gz      100%[===================>] 188.78M  8.09MB/s    in 21s     \n",
      "\n",
      "2022-11-08 13:39:02 (8.82 MB/s) - ‘Clone10.tar.gz’ saved [197949883/197949883]\n",
      "\n",
      "FINISHED --2022-11-08 13:39:02--\n",
      "Total wall clock time: 22s\n",
      "Downloaded: 1 files, 189M in 21s (8.82 MB/s)\n"
     ]
    }
   ],
   "source": [
    "cd ~/work\n",
    "mkdir -p DATA\n",
    "cd DATA\n",
    "# download your compressed CloneX \n",
    "wget --no-check-certificat -rm -nH --cut-dirs=1 --reject=\"index.html*\" https://itrop.ird.fr/ont-training/${CLONE}.tar.gz"
   ]
  },
  {
   "cell_type": "code",
   "execution_count": 6,
   "id": "f5044050-d4d0-4f49-9b4f-e7d4ec72efd2",
   "metadata": {},
   "outputs": [
    {
     "name": "stdout",
     "output_type": "stream",
     "text": [
      "Clone10/\n",
      "Clone10/ILL/\n",
      "Clone10/ILL/Clone10_R1.fastq.gz\n",
      "Clone10/ILL/Clone10_R2.fastq.gz\n",
      "Clone10/reference.fasta\n",
      "Clone10/ONT/\n",
      "Clone10/ONT/Clone10.fastq.gz\n",
      "Clone10/ONT/Clone10_DeepSimu_sequencing_summary.txt\n"
     ]
    }
   ],
   "source": [
    "#decompress file\n",
    "tar zxvf ${CLONE}.tar.gz"
   ]
  },
  {
   "cell_type": "code",
   "execution_count": 5,
   "id": "6af55e84",
   "metadata": {},
   "outputs": [
    {
     "name": "stdout",
     "output_type": "stream",
     "text": [
      "total 1024\n",
      "drwxr-x--- 2 jovyan users    4096 Sep 13  2021 \u001b[0m\u001b[01;34mILL\u001b[0m\n",
      "drwxr-x--- 2 jovyan users    4096 Sep 13  2021 \u001b[01;34mONT\u001b[0m\n",
      "-rw-r----- 1 jovyan users 1037013 Sep 13  2021 reference.fasta\n"
     ]
    }
   ],
   "source": [
    "# check data \n",
    "cd ~/work/DATA\n",
    "ls -l ${CLONE}"
   ]
  },
  {
   "cell_type": "markdown",
   "id": "2d1b105f",
   "metadata": {},
   "source": [
    "### <span style=\"color: #4CACBD;\"> 1.2 Real data </span>\n",
    "\n",
    "Some steps in this practical training can not work in Clones dataset. A second dataset will be download.\n",
    "\n",
    "These data were generated in this [paper.](https://www.biorxiv.org/content/10.1101/2021.07.04.451066v1.full)\n",
    "\n",
    "Please decompress Hh dataset.\n"
   ]
  },
  {
   "cell_type": "code",
   "execution_count": 8,
   "id": "f3148e05",
   "metadata": {},
   "outputs": [
    {
     "name": "stdout",
     "output_type": "stream",
     "text": [
      "--2022-11-08 13:40:20--  https://itrop.ird.fr/ont-training/real_Hh.tar.gz\n",
      "Resolving itrop.ird.fr (itrop.ird.fr)... 91.203.35.184\n",
      "Connecting to itrop.ird.fr (itrop.ird.fr)|91.203.35.184|:443... connected.\n",
      "HTTP request sent, awaiting response... 200 OK\n",
      "Length: 2039732473 (1.9G) [application/x-gzip]\n",
      "Saving to: ‘real_Hh.tar.gz’\n",
      "\n",
      "real_Hh.tar.gz      100%[===================>]   1.90G  28.8MB/s    in 2m 11s  \n",
      "\n",
      "2022-11-08 13:42:31 (14.9 MB/s) - ‘real_Hh.tar.gz’ saved [2039732473/2039732473]\n",
      "\n",
      "FINISHED --2022-11-08 13:42:31--\n",
      "Total wall clock time: 2m 11s\n",
      "Downloaded: 1 files, 1.9G in 2m 11s (14.9 MB/s)\n"
     ]
    }
   ],
   "source": [
    "cd ~/work/DATA\n",
    "wget --no-check-certificat -rm -nH --cut-dirs=1 --reject=\"index.html*\" https://itrop.ird.fr/ont-training/real_Hh.tar.gz"
   ]
  },
  {
   "cell_type": "code",
   "execution_count": 9,
   "id": "595e9fa0-b6a5-4c9a-97ba-69ca47bbb4c9",
   "metadata": {
    "collapsed": true,
    "jupyter": {
     "outputs_hidden": true
    },
    "tags": []
   },
   "outputs": [
    {
     "name": "stdout",
     "output_type": "stream",
     "text": [
      "real_Hh/\n",
      "real_Hh/H_M1C132_1.fastq.gz\n",
      "real_Hh/REFH_M1C132.fasta\n",
      "real_Hh/Hh-ASSEMBLIES/\n",
      "real_Hh/Hh-ASSEMBLIES/FLYE-STEP_ASSEMBLY-CIRCULARISED.fasta\n",
      "real_Hh/Hh-ASSEMBLIES/FLYE-STEP_ASSEMBLY-CIRCULARISED.fasta.fai\n",
      "real_Hh/Hh-ASSEMBLIES/FLYE-STEP_ASSEMBLY-CIRCULARISED.fasta.mmi\n",
      "real_Hh/Hh-ASSEMBLIES/FLYE-STEP_POLISHING_RACON-CIRCULARISED.fasta\n",
      "real_Hh/Hh-ASSEMBLIES/FLYE-STEP_POLISHING_RACON-CIRCULARISED.fasta.fai\n",
      "real_Hh/Hh-ASSEMBLIES/FLYE-STEP_POLISHING_RACON-CIRCULARISED.fasta.mmi\n",
      "real_Hh/Hh-ASSEMBLIES/FLYE-STEP_CORRECTION_MEDAKA_STARTFIXED-CIRCULARISED.fasta\n",
      "real_Hh/Hh-ASSEMBLIES/FLYE-STEP_CORRECTION_MEDAKA_STARTFIXED-CIRCULARISED.fasta.fai\n",
      "real_Hh/Hh-ASSEMBLIES/FLYE-STEP_CORRECTION_MEDAKA_STARTFIXED-CIRCULARISED.fasta.mmi\n",
      "real_Hh/Hh-ASSEMBLIES/SHASTA-STEP_ASSEMBLY-CIRCULARISED.fasta\n",
      "real_Hh/Hh-ASSEMBLIES/SHASTA-STEP_ASSEMBLY-CIRCULARISED.fasta.fai\n",
      "real_Hh/Hh-ASSEMBLIES/SHASTA-STEP_ASSEMBLY-CIRCULARISED.fasta.mmi\n",
      "real_Hh/Hh-ASSEMBLIES/RAVEN-STEP_ASSEMBLY-CIRCULARISED.fasta\n",
      "real_Hh/Hh-ASSEMBLIES/RAVEN-STEP_ASSEMBLY-CIRCULARISED.fasta.fai\n",
      "real_Hh/Hh-ASSEMBLIES/RAVEN-STEP_ASSEMBLY-CIRCULARISED.fasta.mmi\n",
      "real_Hh/Hh-ASSEMBLIES/SHASTA-STEP_POLISHING_RACON-CIRCULARISED.fasta\n",
      "real_Hh/Hh-ASSEMBLIES/SHASTA-STEP_POLISHING_RACON-CIRCULARISED.fasta.fai\n",
      "real_Hh/Hh-ASSEMBLIES/SHASTA-STEP_POLISHING_RACON-CIRCULARISED.fasta.mmi\n",
      "real_Hh/Hh-ASSEMBLIES/RAVEN-STEP_POLISHING_RACON-CIRCULARISED.fasta\n",
      "real_Hh/Hh-ASSEMBLIES/RAVEN-STEP_POLISHING_RACON-CIRCULARISED.fasta.fai\n",
      "real_Hh/Hh-ASSEMBLIES/RAVEN-STEP_POLISHING_RACON-CIRCULARISED.fasta.mmi\n",
      "real_Hh/Hh-ASSEMBLIES/MINIASM-STEP_ASSEMBLY-CIRCULARISED.fasta\n",
      "real_Hh/Hh-ASSEMBLIES/MINIASM-STEP_ASSEMBLY-CIRCULARISED.fasta.fai\n",
      "real_Hh/Hh-ASSEMBLIES/MINIASM-STEP_ASSEMBLY-CIRCULARISED.fasta.mmi\n",
      "real_Hh/Hh-ASSEMBLIES/MINIASM-STEP_POLISHING_RACON-CIRCULARISED.fasta\n",
      "real_Hh/Hh-ASSEMBLIES/MINIASM-STEP_POLISHING_RACON-CIRCULARISED.fasta.fai\n",
      "real_Hh/Hh-ASSEMBLIES/MINIASM-STEP_POLISHING_RACON-CIRCULARISED.fasta.mmi\n",
      "real_Hh/Hh-ASSEMBLIES/SHASTA-STEP_CORRECTION_MEDAKA_STARTFIXED-CIRCULARISED.fasta\n",
      "real_Hh/Hh-ASSEMBLIES/SHASTA-STEP_CORRECTION_MEDAKA_STARTFIXED-CIRCULARISED.fasta.fai\n",
      "real_Hh/Hh-ASSEMBLIES/SHASTA-STEP_CORRECTION_MEDAKA_STARTFIXED-CIRCULARISED.fasta.mmi\n",
      "real_Hh/Hh-ASSEMBLIES/RAVEN-STEP_CORRECTION_MEDAKA_STARTFIXED-CIRCULARISED.fasta\n",
      "real_Hh/Hh-ASSEMBLIES/RAVEN-STEP_CORRECTION_MEDAKA_STARTFIXED-CIRCULARISED.fasta.fai\n",
      "real_Hh/Hh-ASSEMBLIES/RAVEN-STEP_CORRECTION_MEDAKA_STARTFIXED-CIRCULARISED.fasta.mmi\n",
      "real_Hh/Hh-ASSEMBLIES/MINIASM-STEP_CORRECTION_MEDAKA_STARTFIXED-CIRCULARISED.fasta\n",
      "real_Hh/Hh-ASSEMBLIES/MINIASM-STEP_CORRECTION_MEDAKA_STARTFIXED-CIRCULARISED.fasta.fai\n",
      "real_Hh/Hh-ASSEMBLIES/MINIASM-STEP_CORRECTION_MEDAKA_STARTFIXED-CIRCULARISED.fasta.mmi\n",
      "real_Hh/Hh-ASSEMBLIES/SMARTDENOVO-STEP_ASSEMBLY-CIRCULARISED.fasta\n",
      "real_Hh/Hh-ASSEMBLIES/SMARTDENOVO-STEP_ASSEMBLY-CIRCULARISED.fasta.fai\n",
      "real_Hh/Hh-ASSEMBLIES/SMARTDENOVO-STEP_ASSEMBLY-CIRCULARISED.fasta.mmi\n",
      "real_Hh/Hh-ASSEMBLIES/SMARTDENOVO-STEP_POLISHING_RACON-CIRCULARISED.fasta\n",
      "real_Hh/Hh-ASSEMBLIES/SMARTDENOVO-STEP_POLISHING_RACON-CIRCULARISED.fasta.fai\n",
      "real_Hh/Hh-ASSEMBLIES/SMARTDENOVO-STEP_POLISHING_RACON-CIRCULARISED.fasta.mmi\n",
      "real_Hh/Hh-ASSEMBLIES/SMARTDENOVO-STEP_CORRECTION_MEDAKA_STARTFIXED-CIRCULARISED.fasta\n",
      "real_Hh/Hh-ASSEMBLIES/SMARTDENOVO-STEP_CORRECTION_MEDAKA_STARTFIXED-CIRCULARISED.fasta.fai\n",
      "real_Hh/Hh-ASSEMBLIES/SMARTDENOVO-STEP_CORRECTION_MEDAKA_STARTFIXED-CIRCULARISED.fasta.mmi\n",
      "real_Hh/Hh-ASSEMBLIES/CANU-STEP_ASSEMBLY-CIRCULARISED.fasta\n",
      "real_Hh/Hh-ASSEMBLIES/CANU-STEP_ASSEMBLY-CIRCULARISED.fasta.fai\n",
      "real_Hh/Hh-ASSEMBLIES/CANU-STEP_ASSEMBLY-CIRCULARISED.fasta.mmi\n",
      "real_Hh/Hh-ASSEMBLIES/CANU-STEP_POLISHING_RACON-CIRCULARISED.fasta\n",
      "real_Hh/Hh-ASSEMBLIES/CANU-STEP_POLISHING_RACON-CIRCULARISED.fasta.fai\n",
      "real_Hh/Hh-ASSEMBLIES/CANU-STEP_POLISHING_RACON-CIRCULARISED.fasta.mmi\n",
      "real_Hh/Hh-ASSEMBLIES/CANU-STEP_CORRECTION_MEDAKA_STARTFIXED-CIRCULARISED.fasta\n",
      "real_Hh/Hh-ASSEMBLIES/CANU-STEP_CORRECTION_MEDAKA_STARTFIXED-CIRCULARISED.fasta.fai\n",
      "real_Hh/Hh-ASSEMBLIES/CANU-STEP_CORRECTION_MEDAKA_STARTFIXED-CIRCULARISED.fasta.mmi\n"
     ]
    }
   ],
   "source": [
    "#decompress file\n",
    "tar zxvf real_Hh.tar.gz"
   ]
  },
  {
   "cell_type": "markdown",
   "id": "1be14d7d",
   "metadata": {
    "tags": []
   },
   "source": [
    "## <span style=\"color: #4CACBC;\"> 2. Basecalling </span>  \n",
    "\n",
    "When DNA molecules are sequenced, electrical signals are stocked on fast5 format files.\n",
    "\n",
    "These signals need to be converted on standard fastq files to post-analysis.\n",
    "\n",
    "Several training dataset models are usually used to convert fast5 to fastq. \n",
    "\n",
    "### <span style=\"color: #4CACBD;\"> 2.1 Basecalling with Guppy  <span style=\"color:red\"> (Don't run it! ) </span> </span>"
   ]
  },
  {
   "cell_type": "markdown",
   "id": "22e07fab",
   "metadata": {},
   "source": [
    "Guppy is a data processing toolkit that contains the 'Oxford Nanopore Technologies' basecalling algorithms, and several bioinformatic post-processing features.\n",
    "\n",
    "Basecalling with guppy can be launch using guppy tool. \n",
    "\n",
    "Guppy takes fast5 raw read files and transform electrical signal in fastq files.\n",
    "\n",
    "We recommend to basecaller yours dataset using a GPU graphic card to obtain results quickly.\n",
    "\n",
    "Documentation about how to run Guppy on I-trop GPU can be found on https://bioinfo.ird.fr/index.php/tutorials-fr/gpu/\n"
   ]
  },
  {
   "cell_type": "code",
   "execution_count": 6,
   "id": "e94c0a79",
   "metadata": {},
   "outputs": [
    {
     "name": "stdout",
     "output_type": "stream",
     "text": [
      "guppy_basecaller -c dna_r9.4.1_450bps_hac.cfg -i path/to/FAST5 --recursive -s /path/to/FASTQ --num_callers 8 --gpu_runners_per_device 8 --device auto --min_qscore 7 --compress_fastq\n"
     ]
    }
   ],
   "source": [
    "MODEL=\"dna_r9.4.1_450bps_hac.cfg\"\n",
    "INPUT=\"path/to/FAST5\"\n",
    "OUTPUT=\"/path/to/FASTQ\"\n",
    "echo \"guppy_basecaller -c ${MODEL} -i ${INPUT} --recursive -s ${OUTPUT} --num_callers 8 --gpu_runners_per_device 8 --device auto --min_qscore 7 --compress_fastq\""
   ]
  },
  {
   "cell_type": "markdown",
   "id": "456ef94a",
   "metadata": {},
   "source": [
    "## <span style=\"color: #4CACBC;\"> 3. Quality Control on Long Reads </span>  \n"
   ]
  },
  {
   "cell_type": "markdown",
   "id": "afce201e",
   "metadata": {},
   "source": [
    "Calculating data quantity"
   ]
  },
  {
   "cell_type": "code",
   "execution_count": 7,
   "id": "926d9dc8-b5c8-4b8b-b8ca-002fc751276d",
   "metadata": {},
   "outputs": [
    {
     "name": "stdout",
     "output_type": "stream",
     "text": [
      "/home/jovyan/work/DATA\n"
     ]
    }
   ],
   "source": [
    "cd ~/work/DATA\n",
    "pwd"
   ]
  },
  {
   "cell_type": "markdown",
   "id": "f311055b-f17b-40d9-8d94-ad80458a3282",
   "metadata": {},
   "source": [
    "Calculating how many bases were sequenced"
   ]
  },
  {
   "cell_type": "code",
   "execution_count": 8,
   "id": "9c25a9ee",
   "metadata": {},
   "outputs": [
    {
     "name": "stdout",
     "output_type": "stream",
     "text": [
      "166447283\n"
     ]
    }
   ],
   "source": [
    "seqtk seq -A ${CLONE}/ONT/${CLONE}.fastq.gz | grep -v \">\" |wc -m"
   ]
  },
  {
   "cell_type": "markdown",
   "id": "4e584d66-50b5-4a32-a611-e6f1419b35e5",
   "metadata": {},
   "source": [
    "What is the sequencing depth if clone lenght is about 1Mb ?"
   ]
  },
  {
   "cell_type": "markdown",
   "id": "ebf512dd",
   "metadata": {},
   "source": [
    "### <span style=\"color: #4CACBD;\"> 3.1 Quality Control of FASTQ with Nanoplot (one clone --summary) </span>\n",
    "\n",
    "Control reads quality using Nanoplot. You can parameter this tool using --help."
   ]
  },
  {
   "cell_type": "code",
   "execution_count": 9,
   "id": "126b58ef",
   "metadata": {
    "collapsed": true,
    "jupyter": {
     "outputs_hidden": true
    },
    "tags": []
   },
   "outputs": [
    {
     "name": "stdout",
     "output_type": "stream",
     "text": [
      "usage: NanoPlot [-h] [-v] [-t THREADS] [--verbose] [--store] [--raw] [--huge]\n",
      "                [-o OUTDIR] [--no_static] [-p PREFIX] [--tsv_stats]\n",
      "                [--info_in_report] [--maxlength N] [--minlength N]\n",
      "                [--drop_outliers] [--downsample N] [--loglength]\n",
      "                [--percentqual] [--alength] [--minqual N] [--runtime_until N]\n",
      "                [--readtype {1D,2D,1D2}] [--barcoded] [--no_supplementary]\n",
      "                [-c COLOR] [-cm COLORMAP]\n",
      "                [-f [{png,jpg,jpeg,webp,svg,pdf,eps,json} [{png,jpg,jpeg,webp,svg,pdf,eps,json} ...]]]\n",
      "                [--plots [{kde,hex,dot} [{kde,hex,dot} ...]]]\n",
      "                [--legacy [{kde,dot,hex} [{kde,dot,hex} ...]]] [--listcolors]\n",
      "                [--listcolormaps] [--no-N50] [--N50] [--title TITLE]\n",
      "                [--font_scale FONT_SCALE] [--dpi DPI] [--hide_stats]\n",
      "                (--fastq file [file ...] | --fasta file [file ...] | --fastq_rich file [file ...] | --fastq_minimal file [file ...] | --summary file [file ...] | --bam file [file ...] | --ubam file [file ...] | --cram file [file ...] | --pickle pickle | --feather file [file ...])\n",
      "\n",
      "CREATES VARIOUS PLOTS FOR LONG READ SEQUENCING DATA.\n",
      "\n",
      "General options:\n",
      "  -h, --help            show the help and exit\n",
      "  -v, --version         Print version and exit.\n",
      "  -t, --threads THREADS\n",
      "                        Set the allowed number of threads to be used by the script\n",
      "  --verbose             Write log messages also to terminal.\n",
      "  --store               Store the extracted data in a pickle file for future plotting.\n",
      "  --raw                 Store the extracted data in tab separated file.\n",
      "  --huge                Input data is one very large file.\n",
      "  -o, --outdir OUTDIR   Specify directory in which output has to be created.\n",
      "  --no_static           Do not make static (png) plots.\n",
      "  -p, --prefix PREFIX   Specify an optional prefix to be used for the output files.\n",
      "  --tsv_stats           Output the stats file as a properly formatted TSV.\n",
      "  --info_in_report      Add NanoPlot run info in the report.\n",
      "\n",
      "Options for filtering or transforming input prior to plotting:\n",
      "  --maxlength N         Hide reads longer than length specified.\n",
      "  --minlength N         Hide reads shorter than length specified.\n",
      "  --drop_outliers       Drop outlier reads with extreme long length.\n",
      "  --downsample N        Reduce dataset to N reads by random sampling.\n",
      "  --loglength           Additionally show logarithmic scaling of lengths in plots.\n",
      "  --percentqual         Use qualities as theoretical percent identities.\n",
      "  --alength             Use aligned read lengths rather than sequenced length (bam mode)\n",
      "  --minqual N           Drop reads with an average quality lower than specified.\n",
      "  --runtime_until N     Only take the N first hours of a run\n",
      "  --readtype {1D,2D,1D2}\n",
      "                        Which read type to extract information about from summary. Options are 1D, 2D,\n",
      "                        1D2\n",
      "  --barcoded            Use if you want to split the summary file by barcode\n",
      "  --no_supplementary    Use if you want to remove supplementary alignments\n",
      "\n",
      "Options for customizing the plots created:\n",
      "  -c, --color COLOR     Specify a valid matplotlib color for the plots\n",
      "  -cm, --colormap COLORMAP\n",
      "                        Specify a valid matplotlib colormap for the heatmap\n",
      "  -f, --format [{png,jpg,jpeg,webp,svg,pdf,eps,json} [{png,jpg,jpeg,webp,svg,pdf,eps,json} ...]]\n",
      "                        Specify the output format of the plots, which are in addition to the html files\n",
      "  --plots [{kde,hex,dot} [{kde,hex,dot} ...]]\n",
      "                        Specify which bivariate plots have to be made.\n",
      "  --legacy [{kde,dot,hex} [{kde,dot,hex} ...]]\n",
      "                        Specify which bivariate plots have to be made (legacy mode).\n",
      "  --listcolors          List the colors which are available for plotting and exit.\n",
      "  --listcolormaps       List the colors which are available for plotting and exit.\n",
      "  --no-N50              Hide the N50 mark in the read length histogram\n",
      "  --N50                 Show the N50 mark in the read length histogram\n",
      "  --title TITLE         Add a title to all plots, requires quoting if using spaces\n",
      "  --font_scale FONT_SCALE\n",
      "                        Scale the font of the plots by a factor\n",
      "  --dpi DPI             Set the dpi for saving images\n",
      "  --hide_stats          Not adding Pearson R stats in some bivariate plots\n",
      "\n",
      "Input data sources, one of these is required.:\n",
      "  --fastq file [file ...]\n",
      "                        Data is in one or more default fastq file(s).\n",
      "  --fasta file [file ...]\n",
      "                        Data is in one or more fasta file(s).\n",
      "  --fastq_rich file [file ...]\n",
      "                        Data is in one or more fastq file(s) generated by albacore, MinKNOW or guppy\n",
      "                        with additional information concerning channel and time.\n",
      "  --fastq_minimal file [file ...]\n",
      "                        Data is in one or more fastq file(s) generated by albacore, MinKNOW or guppy\n",
      "                        with additional information concerning channel and time. Is extracted swiftly\n",
      "                        without elaborate checks.\n",
      "  --summary file [file ...]\n",
      "                        Data is in one or more summary file(s) generated by albacore or guppy.\n",
      "  --bam file [file ...]\n",
      "                        Data is in one or more sorted bam file(s).\n",
      "  --ubam file [file ...]\n",
      "                        Data is in one or more unmapped bam file(s).\n",
      "  --cram file [file ...]\n",
      "                        Data is in one or more sorted cram file(s).\n",
      "  --pickle pickle       Data is a pickle file stored earlier.\n",
      "  --feather file [file ...]\n",
      "                        Data is in one or more feather file(s).\n",
      "\n",
      "EXAMPLES:\n",
      "    NanoPlot --summary sequencing_summary.txt --loglength -o summary-plots-log-transformed\n",
      "    NanoPlot -t 2 --fastq reads1.fastq.gz reads2.fastq.gz --maxlength 40000 --plots hex dot\n",
      "    NanoPlot --color yellow --bam alignment1.bam alignment2.bam alignment3.bam --downsample 10000\n",
      "    \n"
     ]
    }
   ],
   "source": [
    "NanoPlot --help"
   ]
  },
  {
   "cell_type": "markdown",
   "id": "df8bfdd5",
   "metadata": {},
   "source": [
    "Launch NanoPlot by your Clone. You can launch NanoPlot using summaries or fastq files."
   ]
  },
  {
   "cell_type": "code",
   "execution_count": 10,
   "id": "70c5bd7e-aad2-4115-abdc-198a8180b2ac",
   "metadata": {},
   "outputs": [],
   "source": [
    "# create a folder to save results\n",
    "mkdir -p ~/work/RESULTS\n",
    "cd ~/work/RESULTS"
   ]
  },
  {
   "cell_type": "code",
   "execution_count": 11,
   "id": "f3fae9d8",
   "metadata": {
    "tags": []
   },
   "outputs": [
    {
     "name": "stdout",
     "output_type": "stream",
     "text": [
      "\n",
      "\n",
      "\n",
      "If you read this then NanoPlot 1.40.2 has crashed :-(\n",
      "Please try updating NanoPlot and see if that helps...\n",
      "\n",
      "If not, please report this issue at https://github.com/wdecoster/NanoPlot/issues\n",
      "If you could include the log file that would be really helpful.\n",
      "Thanks!\n",
      "\n",
      "\n",
      "\n",
      "Traceback (most recent call last):\n",
      "  File \"/opt/conda/envs/nanoplot/bin/NanoPlot\", line 10, in <module>\n",
      "    sys.exit(main())\n",
      "  File \"/opt/conda/envs/nanoplot/lib/python3.7/site-packages/nanoplot/NanoPlot.py\", line 109, in main\n",
      "    plots = make_plots(datadf, settings)\n",
      "  File \"/opt/conda/envs/nanoplot/lib/python3.7/site-packages/nanoplot/NanoPlot.py\", line 229, in make_plots\n",
      "    settings=settings)\n",
      "  File \"/opt/conda/envs/nanoplot/lib/python3.7/site-packages/nanoplotter/timeplots.py\", line 59, in time_plots\n",
      "    settings=settings)\n",
      "  File \"/opt/conda/envs/nanoplot/lib/python3.7/site-packages/nanoplotter/timeplots.py\", line 65, in violin_plots_over_time\n",
      "    dfs['timebin'] = add_time_bins(dfs)\n",
      "  File \"/opt/conda/envs/nanoplot/lib/python3.7/site-packages/nanoplotter/timeplots.py\", line 202, in add_time_bins\n",
      "    labels=labels)\n",
      "  File \"/opt/conda/envs/nanoplot/lib/python3.7/site-packages/pandas/core/reshape/tile.py\", line 227, in cut\n",
      "    raise ValueError(\"`bins` should be a positive integer.\")\n",
      "ValueError: `bins` should be a positive integer.\n",
      "\n",
      "real\t0m14.621s\n",
      "user\t0m1.846s\n",
      "sys\t0m0.760s\n"
     ]
    },
    {
     "ename": "",
     "evalue": "1",
     "output_type": "error",
     "traceback": []
    }
   ],
   "source": [
    "# run nanoplot \n",
    "time NanoPlot -t 1 --summary ../DATA/${CLONE}/ONT/${CLONE}_DeepSimu_sequencing_summary.txt --outdir NANOPLOT_${CLONE}"
   ]
  },
  {
   "cell_type": "markdown",
   "id": "52d4b4c2-3993-4f77-b8b6-079786348502",
   "metadata": {},
   "source": [
    "* NOTE: Clones are simulated data. Check stats on created NanoStats file. <span style=\"color:red\"> it's normal ! it doesn't work! ) </span>\n",
    "\n",
    "Check stats on created NanoStats file."
   ]
  },
  {
   "cell_type": "code",
   "execution_count": 12,
   "id": "2f34702f",
   "metadata": {},
   "outputs": [
    {
     "name": "stdout",
     "output_type": "stream",
     "text": [
      "General summary:         \n",
      "Active channels:                     1.0\n",
      "Mean read length:               14,809.4\n",
      "Mean read quality:                   8.3\n",
      "Median read length:             12,867.0\n",
      "Median read quality:                 8.3\n",
      "Number of reads:                11,239.0\n",
      "Read length N50:                22,325.0\n",
      "STDEV read length:              10,772.2\n",
      "Total bases:               166,442,438.0\n",
      "Number, percentage and megabases of reads above quality cutoffs\n",
      ">Q5:\t11239 (100.0%) 166.4Mb\n",
      ">Q7:\t11235 (100.0%) 166.4Mb\n",
      ">Q10:\t1 (0.0%) 0.0Mb\n",
      ">Q12:\t0 (0.0%) 0.0Mb\n",
      ">Q15:\t0 (0.0%) 0.0Mb\n",
      "Top 5 highest mean basecall quality scores and their read lengths\n",
      "1:\t10.0 (2124)\n",
      "2:\t9.8 (3858)\n",
      "3:\t9.7 (976)\n",
      "4:\t9.6 (2838)\n",
      "5:\t9.6 (3723)\n",
      "Top 5 longest reads and their mean basecall quality score\n",
      "1:\t73691 (8.2)\n",
      "2:\t64567 (8.2)\n",
      "3:\t63953 (8.4)\n",
      "4:\t62885 (8.2)\n",
      "5:\t60746 (8.2)\n"
     ]
    }
   ],
   "source": [
    "cat NANOPLOT_${CLONE}/NanoStats.txt"
   ]
  },
  {
   "cell_type": "markdown",
   "id": "8a9507e3",
   "metadata": {},
   "source": [
    "* What do you think about data? \n",
    "\n",
    "* Estimate coverage.\n",
    "\n",
    "* What about reads quality qscore?"
   ]
  },
  {
   "cell_type": "markdown",
   "id": "1258e568-39ff-4f63-b2ec-f7baf1f76eba",
   "metadata": {},
   "source": [
    "### <span style=\"color: #4CACBD;\"> 3.2 Quality Control of FASTQ with Nanoplot (Hh real data --fastq ) </span>\n"
   ]
  },
  {
   "cell_type": "markdown",
   "id": "d9e0fbc5-847b-4f90-99da-79fff9e9e05c",
   "metadata": {},
   "source": [
    "Check quality using NanoPlot over Hh real data fastq. This can take a while."
   ]
  },
  {
   "cell_type": "code",
   "execution_count": 13,
   "id": "60aa698d-3a7b-48b3-a6c7-14ea65523f0d",
   "metadata": {},
   "outputs": [
    {
     "name": "stdout",
     "output_type": "stream",
     "text": [
      "/home/jovyan/work/RESULTS\n"
     ]
    }
   ],
   "source": [
    "cd ~/work/RESULTS/\n",
    "pwd"
   ]
  },
  {
   "cell_type": "markdown",
   "id": "6d294d92-26f5-49c4-8bb3-d7c768f5d9bd",
   "metadata": {},
   "source": [
    "**The following Nanoplot will run for a few minutes**"
   ]
  },
  {
   "cell_type": "code",
   "execution_count": 14,
   "id": "4c303953-6ec2-44ad-9139-9b769304eb6a",
   "metadata": {},
   "outputs": [
    {
     "name": "stdout",
     "output_type": "stream",
     "text": [
      "\n",
      "real\t2m17.584s\n",
      "user\t2m6.949s\n",
      "sys\t0m1.493s\n"
     ]
    }
   ],
   "source": [
    "time NanoPlot -t 8 --fastq ../DATA/real_Hh/H_M1C132_1.fastq.gz --outdir NANOPLOT_Hh"
   ]
  },
  {
   "cell_type": "markdown",
   "id": "781a184f-c6c0-4d02-80f6-c30ba9d82279",
   "metadata": {},
   "source": [
    "Observe report.html.\n",
    "\n",
    "* what about this dataset?"
   ]
  },
  {
   "cell_type": "markdown",
   "id": "19638aba",
   "metadata": {},
   "source": [
    "### <span style=\"color: #4CACBD;\"> 3.3 Compare reads QC statistics with NanoComp (Summaries dataset) </span>"
   ]
  },
  {
   "cell_type": "markdown",
   "id": "cf63dea7",
   "metadata": {},
   "source": [
    "Compare long reads sequencing datasets using **NanoComp**.\n",
    "\n",
    "NanoComp compiles quality information in a useful html report.\n",
    "\n",
    "You can launch NanoComp using summaries or fastq files."
   ]
  },
  {
   "cell_type": "code",
   "execution_count": 15,
   "id": "c23cdac6",
   "metadata": {
    "collapsed": true,
    "jupyter": {
     "outputs_hidden": true
    },
    "tags": []
   },
   "outputs": [
    {
     "name": "stdout",
     "output_type": "stream",
     "text": [
      "usage: NanoComp [-h] [-v] [-t THREADS] [-o OUTDIR] [-p PREFIX] [--verbose]\n",
      "                [--raw] [--store] [--tsv_stats] [--make_no_static]\n",
      "                [--readtype {1D,2D,1D2}] [--maxlength N] [--minlength N]\n",
      "                [--barcoded] [--split_runs TSV_FILE]\n",
      "                [-f [{png,jpg,jpeg,webp,svg,pdf,eps,json} [{png,jpg,jpeg,webp,svg,pdf,eps,json} ...]]]\n",
      "                [-n names [names ...]] [-c colors [colors ...]]\n",
      "                [--plot {violin,box,ridge,false}] [--title TITLE] [--dpi DPI]\n",
      "                (--fasta file [file ...] | --fastq files [files ...] | --fastq_rich file [file ...] | --summary files [files ...] | --bam files [files ...] | --ubam file [file ...] | --cram file [file ...] | --pickle file [file ...] | --feather file [file ...])\n",
      "\n",
      "Compares long read sequencing datasets.\n",
      "\n",
      "General options:\n",
      "  -h, --help            show the help and exit\n",
      "  -v, --version         Print version and exit.\n",
      "  -t, --threads THREADS\n",
      "                        Set the allowed number of threads to be used by the script\n",
      "  -o, --outdir OUTDIR   Specify directory in which output has to be created.\n",
      "  -p, --prefix PREFIX   Specify an optional prefix to be used for the output files.\n",
      "  --verbose             Write log messages also to terminal.\n",
      "  --raw                 Store the extracted data in tab separated file.\n",
      "  --store               Store the extracted data in a pickle file for future plotting.\n",
      "  --tsv_stats           Output the stats file as a properly formatted TSV.\n",
      "  --make_no_static      Do not make static (png) plots.\n",
      "\n",
      "Options for filtering or transforming input prior to plotting:\n",
      "  --readtype {1D,2D,1D2}\n",
      "                        Which read type to extract information about from summary. Options are 1D, 2D,\n",
      "                        1D2\n",
      "  --maxlength N         Drop reads longer than length specified.\n",
      "  --minlength N         Drop reads shorter than length specified.\n",
      "  --barcoded            Barcoded experiment in summary format, splitting per barcode.\n",
      "  --split_runs TSV_FILE\n",
      "                        File: Split the summary on run IDs and use names in tsv file. Mandatory header\n",
      "                        fields are 'NAME' and 'RUN_ID'.\n",
      "\n",
      "Options for customizing the plots created:\n",
      "  -f, --format [{png,jpg,jpeg,webp,svg,pdf,eps,json} [{png,jpg,jpeg,webp,svg,pdf,eps,json} ...]]\n",
      "                        Specify the output format of the plots, which are in addition to the html files\n",
      "  -n, --names names [names ...]\n",
      "                        Specify the names to be used for the datasets\n",
      "  -c, --colors colors [colors ...]\n",
      "                        Specify the colors to be used for the datasets\n",
      "  --plot {violin,box,ridge,false}\n",
      "                        Which plot type to use: 'box', 'violin' (default), 'ridge' (joyplot) or 'false'\n",
      "                        (no plots)\n",
      "  --title TITLE         Add a title to all plots, requires quoting if using spaces\n",
      "  --dpi DPI             Set the dpi for saving images (deprecated)\n",
      "\n",
      "Input data sources, one of these is required.:\n",
      "  --fasta file [file ...]\n",
      "                        Data is in (compressed) fasta format.\n",
      "  --fastq files [files ...]\n",
      "                        Data is in (compressed) fastq format.\n",
      "  --fastq_rich file [file ...]\n",
      "                        Data is in one or more fastq file(s) generated by MinKNOW or guppy with\n",
      "                        additional information concerning channel and time.\n",
      "  --summary files [files ...]\n",
      "                        Data is in (compressed) summary files generated by guppy.\n",
      "  --bam files [files ...]\n",
      "                        Data is in sorted bam files.\n",
      "  --ubam file [file ...]\n",
      "                        Data is in one or more unmapped bam file(s).\n",
      "  --cram file [file ...]\n",
      "                        Data is in one or more sorted cram file(s).\n",
      "  --pickle file [file ...]\n",
      "                        Data is in one or more pickle file(s) from using NanoComp/NanoPlot.\n",
      "  --feather file [file ...]\n",
      "                        Data is in one or more feather file(s).\n",
      "\n",
      "EXAMPLES:\n",
      "    NanoComp --bam alignment1.bam alignment2.bam --outdir compare-runs\n",
      "    NanoComp --fastq reads1.fastq.gz reads2.fastq.gz reads3.fastq.gz  --names run1 run2 run3\n",
      "    \n"
     ]
    }
   ],
   "source": [
    "NanoComp --help"
   ]
  },
  {
   "cell_type": "markdown",
   "id": "741db910",
   "metadata": {},
   "source": [
    "\n",
    "For the moment, we used only a Clone and simulated data. \n",
    "\n",
    "Please download a \"summaries\" obtained in paspalum real data. \n",
    "\n",
    "Download available 'Real_PSummaries' to compare them. \n"
   ]
  },
  {
   "cell_type": "code",
   "execution_count": 16,
   "id": "96c6fa06-d6fc-4635-abfb-c00e945a0629",
   "metadata": {},
   "outputs": [
    {
     "name": "stdout",
     "output_type": "stream",
     "text": [
      "--2022-11-09 13:34:43--  https://itrop.ird.fr/ont-training/real_summaries.tar.gz\n",
      "Resolving itrop.ird.fr (itrop.ird.fr)... 91.203.35.184\n",
      "Connecting to itrop.ird.fr (itrop.ird.fr)|91.203.35.184|:443... connected.\n",
      "HTTP request sent, awaiting response... 200 OK\n",
      "Length: 223723277 (213M) [application/x-gzip]\n",
      "Saving to: ‘real_summaries.tar.gz’\n",
      "\n",
      "real_summaries.tar. 100%[===================>] 213.36M  7.56MB/s    in 30s     \n",
      "\n",
      "2022-11-09 13:35:13 (7.16 MB/s) - ‘real_summaries.tar.gz’ saved [223723277/223723277]\n",
      "\n",
      "FINISHED --2022-11-09 13:35:13--\n",
      "Total wall clock time: 30s\n",
      "Downloaded: 1 files, 213M in 30s (7.16 MB/s)\n"
     ]
    }
   ],
   "source": [
    "cd ~/work/DATA\n",
    "wget --no-check-certificat -rm -nH --cut-dirs=1 --reject=\"index.html*\" https://itrop.ird.fr/ont-training/real_summaries.tar.gz"
   ]
  },
  {
   "cell_type": "code",
   "execution_count": 17,
   "id": "0883c0d7-8edd-43cc-95cb-ad793e7513b1",
   "metadata": {},
   "outputs": [
    {
     "name": "stdout",
     "output_type": "stream",
     "text": [
      "real_summaries/\n",
      "real_summaries/OLD_summary.txt\n",
      "real_summaries/FF_summary.txt\n",
      "real_summaries/BON_summary.txt\n"
     ]
    }
   ],
   "source": [
    "#decompress \n",
    "tar -zxvf real_summaries.tar.gz"
   ]
  },
  {
   "cell_type": "code",
   "execution_count": 18,
   "id": "397a5f12-ff2a-4cd2-a738-b9e4d8a0eb56",
   "metadata": {},
   "outputs": [
    {
     "name": "stdout",
     "output_type": "stream",
     "text": [
      "-rw-r----- 1 jovyan users 271M Sep 13  2021 BON_summary.txt\n",
      "-rw-r----- 1 jovyan users 247M Sep 13  2021 FF_summary.txt\n",
      "-rw-r----- 1 jovyan users 246M Sep 13  2021 OLD_summary.txt\n"
     ]
    }
   ],
   "source": [
    "cd ~/work/DATA/real_summaries/\n",
    "ls -lh  *txt"
   ]
  },
  {
   "cell_type": "markdown",
   "id": "d34d1a48-2444-411c-bf64-7e88befa034b",
   "metadata": {},
   "source": [
    "Compare this 3 summaries files with NanoComp"
   ]
  },
  {
   "cell_type": "code",
   "execution_count": 19,
   "id": "44f735e0",
   "metadata": {},
   "outputs": [
    {
     "name": "stdout",
     "output_type": "stream",
     "text": [
      "\n",
      "real\t0m22.570s\n",
      "user\t0m14.254s\n",
      "sys\t0m1.404s\n"
     ]
    }
   ],
   "source": [
    "time NanoComp --summary OLD_summary.txt FF_summary.txt BON_summary.txt --outdir ~/work/RESULTS/NANOCOMP-realsummaries"
   ]
  },
  {
   "cell_type": "markdown",
   "id": "192ec507",
   "metadata": {},
   "source": [
    "### <span style=\"color: #4CACBD;\"> Others complemental tools </span>\n",
    " \n",
    "\n",
    "https://github.com/wdecoster/NanoPlot#companion-scripts\n",
    "\n",
    "* NanoComp: comparing multiple runs\n",
    "\n",
    "* NanoStat: statistic summary report of reads or alignments\n",
    "\n",
    "* NanoFilt: filtering and trimming of reads\n",
    "\n",
    "* NanoLyse: removing contaminant reads (e.g. lambda control DNA) from fastq\n",
    "\n",
    "* FiltLong : filtering long reads by quality https://github.com/rrwick/Filtlong\n"
   ]
  }
 ],
 "metadata": {
  "kernelspec": {
   "display_name": "Bash",
   "language": "bash",
   "name": "bash"
  },
  "language_info": {
   "codemirror_mode": "shell",
   "file_extension": ".sh",
   "mimetype": "text/x-sh",
   "name": "bash"
  }
 },
 "nbformat": 4,
 "nbformat_minor": 5
}
