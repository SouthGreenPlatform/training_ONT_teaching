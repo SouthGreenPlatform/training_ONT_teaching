{
 "cells": [
  {
   "cell_type": "markdown",
   "id": "b2d5f7c0-b781-4e48-b166-78c5a6c34878",
   "metadata": {},
   "source": [
    "# <span style=\"color:green\">Formation au Burkina Faso 2022</span> - Initiation à l’analyse de données Minion pour l'analyse de métagénome viraux\n",
    "\n",
    "Created by J. Orjuela (DIADE-IRD), D. Filloux (PHIM-CIRAD) and A. Comte (PHIM-IRD) \n",
    "\n",
    "Septembre 2022\n",
    "\n",
    "***\n",
    "\n",
    "# <span style=\"color: #006E7F\">Table of contents</span>\n",
    "<a class=\"anchor\" id=\"home\"></a>\n",
    "   \n",
    "\n",
    "[TP3 : TAXONOMIC ASSIGNATION OF READS](#tp3) \n",
    "\n",
    "[1. Use Diamond for taxonomic assignation](#diamond)\n",
    "\n",
    "   * [1.1. Download Genomic viral bank](#viraldbdiamond)\n",
    "   * [1.2. Create Diamond Database](#diamondmakedb)\n",
    "   * [1.3. Lauch Diamond](#rundiamond) \n",
    "   \n",
    "[2. Use KAIJU for taxonomic assignation](#kraken2)\n",
    "   * [3.1 Create Kaiju viruses database](#kaijudb)\n",
    "   * [3.2 Launch Kaiju](#kaiju)  \n",
    "   * [3.3. Adding taxa names to output file<)](#kaijunames) \n",
    "   * [3.4 Creating input file for Krona)](#kronainput) \n",
    "\n",
    "[3. (BONUS) Use KRAKEN2 for taxonomic assignation](#kraken2)\n",
    "   * [3.1. Download a viral database](#viraldb)\n",
    "   * [3.2. Run Kraken](#kraken)\n",
    "   * [3.3. Vizualise Kraken output with Krona](#krakenkrona)\n",
    "   \n",
    "</span>\n",
    "\n",
    "***\n"
   ]
  },
  {
   "cell_type": "markdown",
   "id": "af2c755d-5a72-467d-8ffb-681a5bdc1b38",
   "metadata": {},
   "source": [
    "# <span style=\"color:#006E7F\">__TP3 : TAXONOMIC ASSIGNATION OF READS__ <a class=\"anchor\" id=\"tp3\"></span>  \n"
   ]
  },
  {
   "cell_type": "markdown",
   "id": "b32e58f2-ace6-4fbb-a3c6-c2a27f0eb302",
   "metadata": {},
   "source": [
    "Taxonomic assignment is the process of assigning an Operational Taxonomic Unit (OTUs, that is, groups of related individuals) to sequences, that can be reads or contigs. To assign an OTU to a sequence it is compared against a database, but this comparison can be done in different ways. The comparison database in this assignment process must be constructed using complete genomes. There are many programs for doing taxonomic mapping, almost all of them follows one of the next strategies:\n",
    "\n",
    "\n",
    "- BLAST: Using BLAST or DIAMOND, these mappers search for the most likely hit for each sequence within a database of genomes (i.e. mapping). This strategy is slow.\n",
    "\n",
    "- K-mers: A genome database is broken into pieces of length k, so as to be able to search for unique pieces by taxonomic group, from lowest common ancestor (LCA), passing through phylum to species. Then, the algorithm breaks the query sequence (reads, contigs) into pieces of length k, look for where these are placed within the tree and make the classification with the most probable position.\n",
    "\n",
    "- Markers: They look for markers of a database made a priori in the sequences to be classified and assign the taxonomy depending on the hits obtained.\n",
    "\n",
    "https://carpentries-incubator.github.io/metagenomics/06-taxonomic/index.html"
   ]
  },
  {
   "cell_type": "markdown",
   "id": "e5c863ba-d5eb-4cce-8377-d03e08e00264",
   "metadata": {},
   "source": [
    "## <span style=\"color: #4CACBC;\"> 1. Use Diamond for taxonomic assignation<a class=\"anchor\" id=\"diamond\"> </span>"
   ]
  },
  {
   "cell_type": "markdown",
   "id": "3a776a02-ba37-4298-b14b-17e727832fc0",
   "metadata": {},
   "source": [
    "### <span style=\"color: #4CACBC;\"> 1.1. Download Genomic viral bank<a class=\"anchor\" id=\"viraldbdiamond\"> </span>"
   ]
  },
  {
   "cell_type": "code",
   "execution_count": 1,
   "id": "199756fc-cd02-440d-aa64-31b964644fb1",
   "metadata": {},
   "outputs": [],
   "source": [
    "# create working repository\n",
    "mkdir -p ~/work/SG-ONT-2022/ASSIGNATION/DIAMOND"
   ]
  },
  {
   "cell_type": "code",
   "execution_count": 2,
   "id": "10096d00-8a64-4a1e-a57d-03501d00bd4c",
   "metadata": {},
   "outputs": [
    {
     "name": "stdout",
     "output_type": "stream",
     "text": [
      "/home/jovyan/work/SG-ONT-2022/ASSIGNATION/DIAMOND\n"
     ]
    }
   ],
   "source": [
    "# go inside repository\n",
    "cd ~/work/SG-ONT-2022/ASSIGNATION/DIAMOND\n",
    "pwd"
   ]
  },
  {
   "cell_type": "code",
   "execution_count": 3,
   "id": "ef8795bc-c28c-4d74-9782-ade9ec8e41a8",
   "metadata": {
    "tags": []
   },
   "outputs": [
    {
     "name": "stdout",
     "output_type": "stream",
     "text": [
      "--2022-09-07 12:52:59--  https://itrop.ird.fr/ont-training-2022/viral.protein.faa\n",
      "Resolving itrop.ird.fr (itrop.ird.fr)... 91.203.35.184\n",
      "Connecting to itrop.ird.fr (itrop.ird.fr)|91.203.35.184|:443... connected.\n",
      "HTTP request sent, awaiting response... 200 OK\n",
      "Length: 186359083 (178M)\n",
      "Saving to: ‘viral.protein.faa’\n",
      "\n",
      "viral.protein.faa   100%[===================>] 177.73M  54.3MB/s    in 3.3s    \n",
      "\n",
      "2022-09-07 12:53:03 (53.4 MB/s) - ‘viral.protein.faa’ saved [186359083/186359083]\n",
      "\n",
      "FINISHED --2022-09-07 12:53:03--\n",
      "Total wall clock time: 3.5s\n",
      "Downloaded: 1 files, 178M in 3.3s (53.4 MB/s)\n"
     ]
    }
   ],
   "source": [
    "# refseq viral database pre-dowloaded from ncbi (https://ftp.ncbi.nlm.nih.gov/refseq/release/viral/)\n",
    "wget --no-check-certificat -rm -nH --cut-dirs=1 --reject=\"index.html*\" https://itrop.ird.fr/ont-training-2022/viral.protein.faa"
   ]
  },
  {
   "cell_type": "markdown",
   "id": "dca9c541-2e2b-48fb-ac7d-90ae00aa3ad3",
   "metadata": {},
   "source": [
    "The database you use will determine the result you get for your data.\n",
    "\n",
    "You can customise it by adding organism to the fasta file used.\n",
    "\n",
    "Imagine you are searching for a lineage that was recently discovered and it is not part of the available databases. Would you find it?"
   ]
  },
  {
   "cell_type": "markdown",
   "id": "e274fde8-b59f-4c4c-9593-fe844b7a90fe",
   "metadata": {},
   "source": [
    "### <span style=\"color: #4CACBC;\"> 1.2. Create Diamond Database<a class=\"anchor\" id=\"diamondmakedb\"> </span>"
   ]
  },
  {
   "cell_type": "code",
   "execution_count": 4,
   "id": "6f40df53-dfd9-4cce-899d-1cf36a0adf80",
   "metadata": {
    "tags": []
   },
   "outputs": [
    {
     "name": "stdout",
     "output_type": "stream",
     "text": [
      "diamond v2.0.15.153 (C) Max Planck Society for the Advancement of Science\n",
      "Documentation, support and updates available at http://www.diamondsearch.org\n",
      "Please cite: http://dx.doi.org/10.1038/s41592-021-01101-x Nature Methods (2021)\n",
      "\n",
      "#CPU threads: 8\n",
      "Scoring parameters: (Matrix=BLOSUM62 Lambda=0.267 K=0.041 Penalties=11/1)\n",
      "Database input file: viral.protein.faa\n",
      "Opening the database file...  [0s]\n",
      "Loading sequences...  [1.459s]\n",
      "Masking sequences...  [1.271s]\n",
      "Writing sequences...  [0.221s]\n",
      "Hashing sequences...  [0.078s]\n",
      "Loading sequences...  [0s]\n",
      "Writing trailer...  [0.012s]\n",
      "Closing the input file...  [0s]\n",
      "Closing the database file...  [0.001s]\n",
      "\n",
      "Database sequences  591092\n",
      "  Database letters  141537030\n",
      "     Database hash  53675924d8042f04d5477877c942426d\n",
      "        Total time  3.045000s\n"
     ]
    }
   ],
   "source": [
    "diamond makedb --in viral.protein.faa -d viral"
   ]
  },
  {
   "cell_type": "markdown",
   "id": "98783713-e50b-4e87-9ce0-ca0bc8d1ea3e",
   "metadata": {},
   "source": [
    "### <span style=\"color: #4CACBC;\"> 1.3. Lauch Diamond<a class=\"anchor\" id=\"rundiamond\"> </span>"
   ]
  },
  {
   "cell_type": "code",
   "execution_count": 5,
   "id": "117f7fc8-3868-42ca-8f05-58e95bc9da1f",
   "metadata": {},
   "outputs": [],
   "source": [
    "# Complete the command line below\n",
    "diamond blastx --outfmt 6 stitle qtitle pident length mismatch gapopen qstart qend sstart send evalue bitscore ...."
   ]
  },
  {
   "cell_type": "code",
   "execution_count": 6,
   "id": "fd0b1c4a-2f34-4f84-b40e-c5a4025b66c4",
   "metadata": {
    "tags": []
   },
   "outputs": [
    {
     "name": "stdout",
     "output_type": "stream",
     "text": [
      "   1435 YP_009352885.1 coat protein [Arracacha virus V]\n",
      "   1516 YP_009664759.1 coat protein [Actinidia virus A]\n",
      "   1530 YP_009389466.1 coat protein [Grapevine virus K]\n",
      "   1546 YP_009505636.1 capsid protein [Grapevine virus D]\n",
      "   1553 YP_009551970.1 Coat protein [Grapevine virus J]\n",
      "   2168 NP_619662.1 putative replicase [Grapevine virus A]\n",
      "   2235 YP_009465945.1 replicase [Grapevine virus I]\n",
      "   2282 YP_009551946.1 replicase [Grapevine virus G]\n",
      "   2284 YP_009552539.1 replicase [Grapevine virus G]\n",
      "   2290 YP_009352883.1 replicase [Arracacha virus V]\n",
      "   2314 YP_009552718.1 replicase [Blackberry virus A]\n",
      "   2330 YP_009551905.1 putative replicase [Grapevine virus H]\n",
      "   2334 YP_006590065.1 replicase [Grapevine virus F]\n",
      "   2455 YP_009664756.1 putative replicase, partial [Actinidia virus A]\n",
      "   2537 YP_002117775.1 replicase [Grapevine virus E]\n",
      "   2582 YP_009551967.1 Replicase [Grapevine virus J]\n",
      "   2702 YP_004935358.1 ORF1 gene product [Actinidia virus B]\n",
      "   2719 NP_619654.1 putative replicase [Grapevine virus B]\n",
      "   2737 YP_009389463.1 RNA-dependent RNA polymerase [Grapevine virus K]\n",
      "   2879 YP_009373228.1 RNA-dependent RNA polymerase [Agave tequilana leaf virus]\n"
     ]
    }
   ],
   "source": [
    "# observer les hits dans la database qui ont eu le plus de correspondance dans les données:\n",
    "awk -F '\\t' '{print $1}' diamond-matches.csv | sort | uniq -c | sort -n | tail -20"
   ]
  },
  {
   "cell_type": "markdown",
   "id": "a2b397e8-e212-4368-8669-e27fb7b7c773",
   "metadata": {},
   "source": [
    "**Observe the csv file results and comment it.**\n",
    "\n",
    "Be careful of the separator --> choose tab"
   ]
  },
  {
   "cell_type": "markdown",
   "id": "59519266-b269-4bb4-ab56-c8f867d2fcca",
   "metadata": {},
   "source": [
    "## <span style=\"color: #4CACBC;\"> 2. Use KAIJU for taxonomic assignation <a class=\"anchor\" id=\"kaiju\"> </span>"
   ]
  },
  {
   "cell_type": "markdown",
   "id": "ab45d8ed-1055-45ae-ba31-ee9efa8b244a",
   "metadata": {},
   "source": [
    "Kaiju is a program for the taxonomic classification of high-throughput sequencing reads, e.g., Illumina or Roche/454, from whole-genome sequencing of metagenomic DNA. Reads are directly assigned to taxa using the NCBI taxonomy and a reference database of protein sequences from microbial and viral genomes.\n",
    "\n",
    "Kaiju can be also used via a web server. https://kaiju.binf.ku.dk/server"
   ]
  },
  {
   "cell_type": "code",
   "execution_count": 7,
   "id": "e12b3317-ed2e-47d5-882b-4e80be813031",
   "metadata": {},
   "outputs": [],
   "source": [
    "# create working repository\n",
    "mkdir ~/work/SG-ONT-2022/ASSIGNATION/KAIJU"
   ]
  },
  {
   "cell_type": "code",
   "execution_count": 8,
   "id": "975a9c0c-3c50-4ab2-ae8b-272ccb347bb8",
   "metadata": {},
   "outputs": [],
   "source": [
    "cd ~/work/SG-ONT-2022/ASSIGNATION/KAIJU"
   ]
  },
  {
   "cell_type": "markdown",
   "id": "f8a9b36e-456f-4de9-ac50-4d1ce064d801",
   "metadata": {},
   "source": [
    "### <span style=\"color: #4CACBC;\"> 2.1 Create Kaiju viruses database<a class=\"anchor\" id=\"kaijudb\"> </span>"
   ]
  },
  {
   "cell_type": "code",
   "execution_count": 9,
   "id": "6287e573-892f-4af1-b039-10851714c8ff",
   "metadata": {},
   "outputs": [
    {
     "name": "stdout",
     "output_type": "stream",
     "text": [
      "\u001b[0;32mDownloading taxdump.tar.gz\u001b[0m\n",
      ".listing                [ <=>                ]   1.76K  --.-KB/s    in 0.009s  \n",
      "2022-09-07 12:53:42 URL: ftp://ftp.ncbi.nlm.nih.gov/pub/taxonomy/taxdump.tar.gz [1800] -> \".listing\" [1]\n",
      "taxdump.tar.gz      100%[===================>]  56.14M  22.3MB/s    in 2.5s    \n",
      "2022-09-07 12:53:45 URL: ftp://ftp.ncbi.nlm.nih.gov/pub/taxonomy/taxdump.tar.gz [58862929] -> \"taxdump.tar.gz\" [1]\n",
      "\u001b[0;32mExtracting taxdump.tar.gz\u001b[0m\n",
      "Downloading virus genomes from RefSeq\n",
      "Extracting protein sequences from downloaded files\n",
      "Creating Borrows-Wheeler transform\n",
      "# infilename= viruses/kaiju_db_viruses.faa\n",
      "# outfilename= viruses/kaiju_db_viruses\n",
      "# Alphabet= ACDEFGHIKLMNPQRSTVWY\n",
      "# nThreads= 5\n",
      "# length= 0.000000\n",
      "# checkpoint= 3\n",
      "# caseSens=OFF\n",
      "# revComp=OFF\n",
      "# term= *\n",
      "# revsort=OFF\n",
      "# help=OFF\n",
      "Sequences read time = 1.057038s\n",
      "SLEN 145872300\n",
      "NSEQ 586242\n",
      "ALPH *ACDEFGHIKLMNPQRSTVWY\n",
      "SA NCHECK=1\n",
      "Sorting done,  time = 91.445010s\n",
      "Creating FM-Index\n",
      "# filenm= viruses/kaiju_db_viruses\n",
      "# removecmd= NULL (null)\n",
      "# help=OFF\n",
      "Reading BWT from file viruses/kaiju_db_viruses.bwt ... DONE\n",
      "BWT of length 140596112 has been read with 586242 sequencs, alphabet=*ACDEFGHIKLMNPQRSTVWY\n",
      "Reading suffix array from file viruses/kaiju_db_viruses.sa ... DONE\n",
      "Writing BWT header and SA to file  viruses/kaiju_db_viruses.fmi ... DONE\n",
      "Constructing FM index\n",
      "10% ... 20% ... 30% ... 40% ... 50% ... 60% ... 70% ... 80% ... 90% ... 100% ... index2 done ... \n",
      "DONE\n",
      "Writing FM index to file ... DONE\n",
      "\n",
      "  !!  You can now delete files viruses/kaiju_db_viruses.bwt and viruses/kaiju_db_viruses.sa  !!\n",
      "\n",
      "Done!\n",
      "Kaiju only needs the files viruses/kaiju_db_viruses.fmi, nodes.dmp, and names.dmp.\n",
      "The remaining files can be deleted.\n"
     ]
    }
   ],
   "source": [
    "kaiju-makedb -s viruses"
   ]
  },
  {
   "cell_type": "markdown",
   "id": "269e6369-5d81-4419-b988-595e34f13ef0",
   "metadata": {},
   "source": [
    "### <span style=\"color: #4CACBC;\"> 2.2 Launch Kaiju (a little bit long to run)<a class=\"anchor\" id=\"kaiju\"> </span>"
   ]
  },
  {
   "cell_type": "code",
   "execution_count": 10,
   "id": "83fc918d-64e6-4942-8a6b-d9ac44505a3d",
   "metadata": {},
   "outputs": [
    {
     "name": "stdout",
     "output_type": "stream",
     "text": [
      "kaiju: invalid option -- '-'\n",
      "Kaiju 1.9.0\n",
      "Copyright 2015-2022 Peter Menzel, Anders Krogh\n",
      "License GPLv3+: GNU GPL version 3 or later <http://gnu.org/licenses/gpl.html>\n",
      "\n",
      "Usage:\n",
      "   kaiju -t nodes.dmp -f kaiju_db.fmi -i reads.fastq [-j reads2.fastq]\n",
      "\n",
      "Mandatory arguments:\n",
      "   -t FILENAME   Name of nodes.dmp file\n",
      "   -f FILENAME   Name of database (.fmi) file\n",
      "   -i FILENAME   Name of input file containing reads in FASTA or FASTQ format\n",
      "\n",
      "Optional arguments:\n",
      "   -j FILENAME   Name of second input file for paired-end reads\n",
      "   -o FILENAME   Name of output file. If not specified, output will be printed to STDOUT\n",
      "   -z INT        Number of parallel threads for classification (default: 1)\n",
      "   -a STRING     Run mode, either \"mem\"  or \"greedy\" (default: greedy)\n",
      "   -e INT        Number of mismatches allowed in Greedy mode (default: 3)\n",
      "   -m INT        Minimum match length (default: 11)\n",
      "   -s INT        Minimum match score in Greedy mode (default: 65)\n",
      "   -E FLOAT      Minimum E-value in Greedy mode (default: 0.01)\n",
      "   -x            Enable SEG low complexity filter (enabled by default)\n",
      "   -X            Disable SEG low complexity filter\n",
      "   -p            Input sequences are protein sequences\n",
      "   -v            Enable verbose output\n"
     ]
    },
    {
     "ename": "",
     "evalue": "1",
     "output_type": "error",
     "traceback": []
    }
   ],
   "source": [
    "kaiju --help"
   ]
  },
  {
   "cell_type": "code",
   "execution_count": 11,
   "id": "5733f4ef-ef71-4783-a5fd-55c71eef7d83",
   "metadata": {},
   "outputs": [
    {
     "name": "stdout",
     "output_type": "stream",
     "text": [
      "Parameters: \n",
      "  run mode: Greedy\n",
      "  minimum match length: 11\n",
      "  seed length: 7\n",
      "  minimum blosum62 score for matches: 65\n",
      "  minimum E-value: 0.01\n",
      "  max number of mismatches within a match: 3\n",
      "  input file 1: /home/jovyan/work/SG-ONT-2022/CLEANING/reads_vs_ananas_unmapped.fastq\n",
      "  output file: kaiju.out\n",
      "12:56:56 Reading database\n",
      " Reading taxonomic tree from file nodes.dmp\n",
      " Reading index from file viruses/kaiju_db_viruses.fmi\n",
      "12:56:58 Start classification using 4 threads.\n",
      "12:58:53 Finished.\n"
     ]
    }
   ],
   "source": [
    "kaiju -t nodes.dmp -z 4 -f viruses/kaiju_db_viruses.fmi -i ~/work/SG-ONT-2022/CLEANING/reads_vs_ananas_unmapped.fastq -v -o kaiju.out"
   ]
  },
  {
   "cell_type": "markdown",
   "id": "a44cbbfd-29e6-448b-8fe9-82760372e58d",
   "metadata": {},
   "source": [
    "**output format**\n",
    "\n",
    "Kaiju will print one line for each read or read pair. The default output format contains three columns separated by tabs. Using the option -v enables the verbose output, which will print additional columns:\n",
    "\n",
    "- either C or U, indicating whether the read is classified or unclassified.\n",
    "- name of the read\n",
    "- NCBI taxon identifier of the assigned taxon\n",
    "- the length or score of the best match used for classification\n",
    "- the taxon identifiers of all database sequences with the best match\n",
    "- the accession numbers of all database sequences with the best match\n",
    "- matching fragment sequence(s)"
   ]
  },
  {
   "cell_type": "code",
   "execution_count": 12,
   "id": "738684d5-4360-4e4a-a63f-623f4b950a76",
   "metadata": {},
   "outputs": [
    {
     "name": "stdout",
     "output_type": "stream",
     "text": [
      "U\t799ec77c-6555-4b9f-99a3-e58c9fbc1265\t0\n",
      "U\tb2388cec-c33d-4a6b-948f-4cb151194e5f\t0\n",
      "U\tfca1007f-2916-4f17-a306-3580d6af5c94\t0\n",
      "U\t618b90fd-5af8-4669-971d-c2bde8126b46\t0\n",
      "U\t4eefd82d-9626-4d3b-96cc-d35f4af7bbd3\t0\n",
      "U\t07e2519f-6790-4fcd-b09e-d97d06caa3a8\t0\n",
      "U\t8fe885e1-f363-4c55-974d-90759029f97e\t0\n",
      "U\t176fd514-f66f-419d-84ea-7214fe64b627\t0\n",
      "U\t74615828-dca5-476c-9398-35eebb6a2a4f\t0\n",
      "U\tdaa4394e-8ebb-4416-9abf-6a3af3f62774\t0\n"
     ]
    }
   ],
   "source": [
    "head kaiju.out"
   ]
  },
  {
   "cell_type": "markdown",
   "id": "1494d2c6-946a-4a39-aa59-4b4f7d14870e",
   "metadata": {},
   "source": [
    "### <span style=\"color: #4CACBC;\"> 2.3. Adding taxa names to output file<a class=\"anchor\" id=\"kaijunames\"> </span>"
   ]
  },
  {
   "cell_type": "code",
   "execution_count": 13,
   "id": "113c0a62-633f-44a9-bdc8-ec6f75ec5bf8",
   "metadata": {},
   "outputs": [],
   "source": [
    "kaiju-addTaxonNames -t nodes.dmp -n names.dmp -i kaiju.out -o kaiju.names.out"
   ]
  },
  {
   "cell_type": "code",
   "execution_count": 14,
   "id": "eaef369b-4131-4dea-8266-6cc41688980f",
   "metadata": {},
   "outputs": [
    {
     "name": "stdout",
     "output_type": "stream",
     "text": [
      "U\t799ec77c-6555-4b9f-99a3-e58c9fbc1265\t0\n",
      "U\tb2388cec-c33d-4a6b-948f-4cb151194e5f\t0\n",
      "U\tfca1007f-2916-4f17-a306-3580d6af5c94\t0\n",
      "U\t618b90fd-5af8-4669-971d-c2bde8126b46\t0\n",
      "U\t4eefd82d-9626-4d3b-96cc-d35f4af7bbd3\t0\n",
      "U\t07e2519f-6790-4fcd-b09e-d97d06caa3a8\t0\n",
      "U\t8fe885e1-f363-4c55-974d-90759029f97e\t0\n",
      "U\t176fd514-f66f-419d-84ea-7214fe64b627\t0\n",
      "U\t74615828-dca5-476c-9398-35eebb6a2a4f\t0\n",
      "U\tdaa4394e-8ebb-4416-9abf-6a3af3f62774\t0\n"
     ]
    }
   ],
   "source": [
    "head kaiju.names.out"
   ]
  },
  {
   "cell_type": "markdown",
   "id": "987dd91e-894f-4322-84b5-d8c6ed0fe0a9",
   "metadata": {},
   "source": [
    "### <span style=\"color: #4CACBC;\"> 3.4 Creating input file for Krona<a class=\"anchor\" id=\"kronainput\"> </span>"
   ]
  },
  {
   "cell_type": "code",
   "execution_count": 15,
   "id": "9d85da3d-7b89-4620-b829-87d0e5714890",
   "metadata": {},
   "outputs": [],
   "source": [
    "kaiju2krona -t nodes.dmp -n names.dmp -i kaiju.out -o kaiju.out.krona"
   ]
  },
  {
   "cell_type": "code",
   "execution_count": 16,
   "id": "4cdd474d-aec7-4c0a-a68d-17597b12b6f4",
   "metadata": {},
   "outputs": [
    {
     "name": "stdout",
     "output_type": "stream",
     "text": [
      "tput: unknown terminal \"unknown\"\n",
      "Writing kaiju.out.html...\n"
     ]
    }
   ],
   "source": [
    "ktImportText -o kaiju.out.html kaiju.out.krona"
   ]
  },
  {
   "cell_type": "markdown",
   "id": "bf6b689f-d3cf-485a-a445-d515488a0bfc",
   "metadata": {},
   "source": [
    "**Observe the results**\n",
    "\n",
    "Now open the HTML file by clicking on it on the left menu.\n",
    "\n",
    "If you have an error : \"Javascript must be enabled to view this page\", please click on \"trust HTML\".\n",
    "\n",
    "What can you see on this Krona?\n",
    "\n",
    "We are interested in **vitiviruses**. Try to zoom in on this genus."
   ]
  },
  {
   "cell_type": "markdown",
   "id": "6fa76383-60c9-4be9-b7cd-b9bcffc03180",
   "metadata": {},
   "source": [
    "## <span style=\"color: #4CACBC;\"> 3. (BONUS) Use KRAKEN2 for taxonomic assignation<a class=\"anchor\" id=\"kraken2\"> </span>"
   ]
  },
  {
   "cell_type": "markdown",
   "id": "cf761b67-a536-4c02-a99f-0f942e954780",
   "metadata": {},
   "source": [
    "Kraken is a taxonomic sequence classifier that assigns taxonomic labels to DNA sequences. Kraken examines the k-mers within a query sequence and uses the information within those k-mers to query a database. That database maps k-mers to the lowest common ancestor (LCA) of all genomes known to contain a given k-mer."
   ]
  },
  {
   "cell_type": "code",
   "execution_count": 17,
   "id": "ea1a0f3a-875f-4404-b33f-ff895dd8063b",
   "metadata": {
    "tags": []
   },
   "outputs": [
    {
     "name": "stdout",
     "output_type": "stream",
     "text": [
      "Usage: kraken2 [options] <filename(s)>\n",
      "\n",
      "Options:\n",
      "  --db NAME               Name for Kraken 2 DB\n",
      "                          (default: none)\n",
      "  --threads NUM           Number of threads (default: 1)\n",
      "  --quick                 Quick operation (use first hit or hits)\n",
      "  --unclassified-out FILENAME\n",
      "                          Print unclassified sequences to filename\n",
      "  --classified-out FILENAME\n",
      "                          Print classified sequences to filename\n",
      "  --output FILENAME       Print output to filename (default: stdout); \"-\" will\n",
      "                          suppress normal output\n",
      "  --confidence FLOAT      Confidence score threshold (default: 0.0); must be\n",
      "                          in [0, 1].\n",
      "  --minimum-base-quality NUM\n",
      "                          Minimum base quality used in classification (def: 0,\n",
      "                          only effective with FASTQ input).\n",
      "  --report FILENAME       Print a report with aggregrate counts/clade to file\n",
      "  --use-mpa-style         With --report, format report output like Kraken 1's\n",
      "                          kraken-mpa-report\n",
      "  --report-zero-counts    With --report, report counts for ALL taxa, even if\n",
      "                          counts are zero\n",
      "  --report-minimizer-data With --report, report minimizer and distinct minimizer\n",
      "                          count information in addition to normal Kraken report\n",
      "  --memory-mapping        Avoids loading database into RAM\n",
      "  --paired                The filenames provided have paired-end reads\n",
      "  --use-names             Print scientific names instead of just taxids\n",
      "  --gzip-compressed       Input files are compressed with gzip\n",
      "  --bzip2-compressed      Input files are compressed with bzip2\n",
      "  --minimum-hit-groups NUM\n",
      "                          Minimum number of hit groups (overlapping k-mers\n",
      "                          sharing the same minimizer) needed to make a call\n",
      "                          (default: 2)\n",
      "  --help                  Print this message\n",
      "  --version               Print version information\n",
      "\n",
      "If none of the *-compressed flags are specified, and the filename provided\n",
      "is a regular file, automatic format detection is attempted.\n"
     ]
    }
   ],
   "source": [
    "kraken2 --help"
   ]
  },
  {
   "cell_type": "markdown",
   "id": "48defb1a-861e-4bc7-9f13-07c04760f951",
   "metadata": {},
   "source": [
    "### <span style=\"color: #4CACBC;\"> 3.1. Download a viral database<a class=\"anchor\" id=\"viraldb\"> </span>"
   ]
  },
  {
   "cell_type": "markdown",
   "id": "bf3f16f9-67df-4a19-8ef7-995e73b25b13",
   "metadata": {
    "tags": []
   },
   "source": [
    "For this TP we will download a pre-made simplified kraken database.\n",
    "\n",
    "MiniKraken DB_8GB (6.0 GB): A pre-built 8 GB database constructed from complete bacterial, archaeal, and viral genomes in RefSeq (as of Oct. 18, 2017). This can be used by users without the computational resources needed to build a Kraken database. This contains around 5% of kmers from the original standard database. \n",
    "It can be found here: https://ccb.jhu.edu/software/kraken/\n",
    "\n",
    "You can build your own custom Database (see https://github.com/DerrickWood/kraken2/wiki/Manual). However, it take a lot of ressources and time.\n"
   ]
  },
  {
   "cell_type": "code",
   "execution_count": 18,
   "id": "b1ca7def-c00f-4951-9a45-3abffe0df946",
   "metadata": {},
   "outputs": [],
   "source": [
    "# create working repository\n",
    "mkdir -p ~/work/SG-ONT-2022/ASSIGNATION/KRAKEN"
   ]
  },
  {
   "cell_type": "code",
   "execution_count": 19,
   "id": "baf42323-d42c-419c-820a-b74dbde17e55",
   "metadata": {},
   "outputs": [],
   "source": [
    "# run Kraken\n",
    "cd ~/work/SG-ONT-2022/ASSIGNATION/KRAKEN"
   ]
  },
  {
   "cell_type": "code",
   "execution_count": 20,
   "id": "93826b7c-abd5-4322-b0c9-f807325b14dd",
   "metadata": {
    "tags": []
   },
   "outputs": [
    {
     "name": "stdout",
     "output_type": "stream",
     "text": [
      "--2022-09-07 13:06:22--  https://itrop.ird.fr/ont-training-2022/minikraken2_v2_8GB_201904.tgz\n",
      "Resolving itrop.ird.fr (itrop.ird.fr)... 91.203.35.184\n",
      "Connecting to itrop.ird.fr (itrop.ird.fr)|91.203.35.184|:443... connected.\n",
      "HTTP request sent, awaiting response... 200 OK\n",
      "Length: 5935990636 (5.5G) [application/x-gzip]\n",
      "Saving to: ‘minikraken2_v2_8GB_201904.tgz’\n",
      "\n",
      "minikraken2_v2_8GB_ 100%[===================>]   5.53G  59.8MB/s    in 1m 40s  \n",
      "\n",
      "2022-09-07 13:08:02 (56.6 MB/s) - ‘minikraken2_v2_8GB_201904.tgz’ saved [5935990636/5935990636]\n",
      "\n",
      "FINISHED --2022-09-07 13:08:02--\n",
      "Total wall clock time: 1m 40s\n",
      "Downloaded: 1 files, 5.5G in 1m 40s (56.6 MB/s)\n"
     ]
    }
   ],
   "source": [
    "wget --no-check-certificat -rm -nH --cut-dirs=1 --reject=\"index.html*\" https://itrop.ird.fr/ont-training-2022/minikraken2_v2_8GB_201904.tgz"
   ]
  },
  {
   "cell_type": "code",
   "execution_count": 21,
   "id": "3c184061-3e07-472d-af3a-8983b5abe765",
   "metadata": {
    "tags": []
   },
   "outputs": [
    {
     "name": "stdout",
     "output_type": "stream",
     "text": [
      "minikraken2_v2_8GB_201904_UPDATE/\n",
      "minikraken2_v2_8GB_201904_UPDATE/taxo.k2d\n",
      "minikraken2_v2_8GB_201904_UPDATE/opts.k2d\n",
      "minikraken2_v2_8GB_201904_UPDATE/database100mers.kmer_distrib\n",
      "minikraken2_v2_8GB_201904_UPDATE/database150mers.kmer_distrib\n",
      "minikraken2_v2_8GB_201904_UPDATE/database200mers.kmer_distrib\n",
      "minikraken2_v2_8GB_201904_UPDATE/hash.k2d\n"
     ]
    }
   ],
   "source": [
    "#uncompress the database\n",
    "tar zxvf minikraken2_v2_8GB_201904.tgz"
   ]
  },
  {
   "cell_type": "code",
   "execution_count": 22,
   "id": "5060dc10-bea8-41f8-8692-9667f9b4a82c",
   "metadata": {
    "tags": []
   },
   "outputs": [
    {
     "name": "stdout",
     "output_type": "stream",
     "text": [
      "# Database options: nucleotide db, k = 35, l = 31\n",
      "# Spaced mask = 11111111111111111111111111111111111111001100110011001100110011\n",
      "# Toggle mask = 1110001101111110001010001100010000100111000110110101101000101101\n",
      "# Total taxonomy nodes: 21114\n",
      "# Table size: 1399930605\n",
      "# Table capacity: 2000000000\n",
      "# Min clear hash value = 14207118309059100672\n",
      "100.00\t1399930605\t619083\tR\t1\troot\n",
      " 98.96\t1385354760\t72724\tR1\t131567\t  cellular organisms\n",
      " 83.11\t1163416379\t1025603\tD\t2\t    Bacteria\n",
      " 42.38\t593288710\t1473535\tP\t1224\t      Proteobacteria\n",
      " 20.38\t285373440\t759477\tC\t1236\t        Gammaproteobacteria\n",
      "  5.69\t79638023\t3551\tO\t72274\t          Pseudomonadales\n",
      "  4.72\t66079245\t52184\tF\t135621\t            Pseudomonadaceae\n",
      "  4.64\t64952993\t11121851\tG\t286\t              Pseudomonas\n"
     ]
    }
   ],
   "source": [
    "# Inspect the database content\n",
    "kraken2-inspect --db minikraken2_v2_8GB_201904_UPDATE/ | head -15"
   ]
  },
  {
   "cell_type": "markdown",
   "id": "105e0cc1-62d2-426d-9359-9cfa8e7d7b7f",
   "metadata": {},
   "source": [
    "### <span style=\"color: #4CACBC;\"> 3.2. run Kraken<a class=\"anchor\" id=\"kraken\"> </span>"
   ]
  },
  {
   "cell_type": "code",
   "execution_count": 23,
   "id": "6b7291e1-7477-484e-9583-4e220212b0ca",
   "metadata": {
    "tags": []
   },
   "outputs": [
    {
     "name": "stdout",
     "output_type": "stream",
     "text": [
      "Loading database information... done.\n",
      "406090 sequences (174.21 Mbp) processed in 13.736s (1773.8 Kseq/m, 760.92 Mbp/m).\n",
      "  203844 sequences classified (50.20%)\n",
      "  202246 sequences unclassified (49.80%)\n"
     ]
    }
   ],
   "source": [
    "kraken2 --db minikraken2_v2_8GB_201904_UPDATE/ ../../CLEANING/reads_vs_ananas_unmapped.fastq --report report.txt --report-minimizer-data --> output_kraken"
   ]
  },
  {
   "cell_type": "markdown",
   "id": "7df786ec-d0f6-4cfc-bffc-f2d47bd47c1b",
   "metadata": {
    "tags": []
   },
   "source": [
    "**Standard Kraken Output Format**\n",
    "\n",
    "Each sequence (or sequence pair, in the case of paired reads) classified by Kraken 2 results in a single line of output. Kraken 2's output lines contain five tab-delimited fields; from left to right, they are:\n",
    "\n",
    "- \"C\"/\"U\": a one letter code indicating that the sequence was either classified or unclassified.\n",
    "\n",
    "- The sequence ID, obtained from the FASTA/FASTQ header.\n",
    "\n",
    "- The taxonomy ID Kraken 2 used to label the sequence; this is 0 if the sequence is unclassified.\n",
    "\n",
    "- The length of the sequence in bp. In the case of paired read data, this will be a string containing the lengths of the two sequences in bp, separated by a pipe character, e.g. \"98|94\".\n",
    "\n",
    "- A space-delimited list indicating the LCA mapping of each k-mer in the sequence(s). For example, \"562:13 561:4 A:31 0:1 562:3\" would indicate that:\n",
    "\n",
    "        - the first 13 k-mers mapped to taxonomy ID #562\n",
    "        - the next 4 k-mers mapped to taxonomy ID #561\n",
    "        - the next 31 k-mers contained an ambiguous nucleotide\n",
    "        - the next k-mer was not in the database\n",
    "        - the last 3 k-mers mapped to taxonomy ID #562\n"
   ]
  },
  {
   "cell_type": "code",
   "execution_count": 24,
   "id": "8b2768d9-81fe-4227-acf6-b90480d34913",
   "metadata": {
    "tags": []
   },
   "outputs": [
    {
     "name": "stdout",
     "output_type": "stream",
     "text": [
      "C\t799ec77c-6555-4b9f-99a3-e58c9fbc1265\t1491\t335\t0:217 1491:4 0:21 1491:2 0:6 1491:5 0:16 1491:4 2:5 0:20 9606:1\n",
      "U\t37c0c305-d935-4b3b-b336-24b4c4c8021d\t0\t332\t0:56 9606:2 0:240\n",
      "U\t02df7f95-9bbe-4b55-9c8b-78955e3d9210\t0\t208\t0:174\n",
      "U\tb86266e6-4b84-4ed6-abde-302e336f6c24\t0\t429\t0:53 9606:5 0:337\n",
      "U\tb7f946d2-7f1d-492c-b187-3ebc0770a15c\t0\t292\t0:222 131567:2 0:34\n",
      "U\tc2615778-aa7c-4906-8c53-75cd9fa196f9\t0\t605\t0:571\n",
      "C\tb2388cec-c33d-4a6b-948f-4cb151194e5f\t1491\t417\t0:42 9606:1 0:230 1491:1 0:7 1491:2 0:14 1491:5 0:39 1491:1 1239:3 0:38\n",
      "U\t26f48c03-b0cd-485e-8e6e-6cd4d9be7b74\t0\t245\t0:211\n",
      "U\t515b1cfe-bfc5-4595-966f-ecf1c09a0b12\t0\t595\t0:561\n",
      "U\t97e06d49-a952-4adf-b223-8a721c1b48b7\t0\t253\t0:33 9606:2 0:184\n"
     ]
    }
   ],
   "source": [
    "head output_kraken"
   ]
  },
  {
   "cell_type": "markdown",
   "id": "56ef5567-2ffb-45aa-8526-9ceadc5987ad",
   "metadata": {
    "tags": []
   },
   "source": [
    "**Report format output**\n",
    "\n",
    "The format with the --report-minimizer-data flag, then, is similar to that described in [Sample Report Output Format], but slightly different. The fields in this new format, from left-to-right, are:\n",
    "\n",
    "- 1. Percentage of fragments covered by the clade rooted at this taxon\n",
    "- 2. Number of fragments covered by the clade rooted at this taxon\n",
    "- 3. Number of fragments assigned directly to this taxon\n",
    "- 4. Number of minimizers in read data associated with this taxon (new)\n",
    "- 5. An estimate of the number of distinct minimizers in read data associated with this taxon (new)\n",
    "- 6. A rank code, indicating (U)nclassified, (R)oot, (D)omain, (K)ingdom, (P)hylum, (C)lass, (O)rder, (F)amily, (G)enus, or (S)pecies. Taxa that are not at any of these 10 ranks have a rank code that is formed by using the rank code of the closest ancestor rank with a number indicating the distance from that rank. E.g., \"G2\" is a rank code indicating a taxon is between genus and species and the grandparent taxon is at the genus rank.\n",
    "- 7. NCBI taxonomic ID number\n",
    "- 8. Indented scientific name\n"
   ]
  },
  {
   "cell_type": "code",
   "execution_count": 25,
   "id": "0cad11e4-ceaf-4d97-82a0-dbd2258bc292",
   "metadata": {},
   "outputs": [
    {
     "name": "stdout",
     "output_type": "stream",
     "text": [
      " 49.80\t202246\t202246\t0\t0\tU\t0\tunclassified\n",
      " 50.20\t203844\t29\t948365\t67656\tR\t1\troot\n",
      " 49.89\t202611\t2948\t940454\t67451\tR1\t131567\t  cellular organisms\n",
      " 25.37\t103027\t1620\t377336\t12115\tD\t2\t    Bacteria\n",
      " 24.06\t97702\t36\t285250\t3968\tD1\t1783272\t      Terrabacteria group\n",
      " 23.75\t96453\t58\t274840\t1157\tP\t1239\t        Firmicutes\n",
      " 23.70\t96235\t2\t270308\t427\tC\t186801\t          Clostridia\n",
      " 23.70\t96231\t15\t270265\t401\tO\t186802\t            Clostridiales\n",
      " 23.69\t96189\t1\t270084\t279\tF\t31979\t              Clostridiaceae\n",
      " 23.69\t96188\t20\t270062\t262\tG\t1485\t                Clostridium\n"
     ]
    }
   ],
   "source": [
    "head -10 report.txt"
   ]
  },
  {
   "cell_type": "markdown",
   "id": "b2e6dcfb-3cdd-410d-b819-8d7f4411d17d",
   "metadata": {},
   "source": [
    "### <span style=\"color: #4CACBC;\"> 3.3. Vizualise kraken output with krona<a class=\"anchor\" id=\"krakenkrona\"> </span>"
   ]
  },
  {
   "cell_type": "code",
   "execution_count": 28,
   "id": "fcf5f191-195d-4357-b5e9-933a61c1b9db",
   "metadata": {},
   "outputs": [
    {
     "name": "stdout",
     "output_type": "stream",
     "text": [
      "Loading taxonomy...\n",
      "Importing report.txt...\n",
      "Writing kraken.html...\n"
     ]
    }
   ],
   "source": [
    "ktImportTaxonomy -m 3 -t 5 report.txt -o kraken.html 2> krakenkrona.err"
   ]
  }
 ],
 "metadata": {
  "kernelspec": {
   "display_name": "Bash",
   "language": "bash",
   "name": "bash"
  },
  "language_info": {
   "codemirror_mode": "shell",
   "file_extension": ".sh",
   "mimetype": "text/x-sh",
   "name": "bash"
  }
 },
 "nbformat": 4,
 "nbformat_minor": 5
}
