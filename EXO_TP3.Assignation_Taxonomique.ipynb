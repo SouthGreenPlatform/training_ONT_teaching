{
 "cells": [
  {
   "cell_type": "markdown",
   "id": "b2d5f7c0-b781-4e48-b166-78c5a6c34878",
   "metadata": {},
   "source": [
    "# <span style=\"color:green\">Formation au Burkina Faso 2022</span> - Initiation à l’analyse de données Minion pour l'analyse de métagénome viraux\n",
    "\n",
    "Created by J. Orjuela (DIADE-IRD), D. Filloux (PHIM-CIRAD) and A. Comte (PHIM-IRD) \n",
    "\n",
    "Septembre 2022\n",
    "\n",
    "***\n",
    "\n",
    "# <span style=\"color: #006E7F\">Table of contents</span>\n",
    "<a class=\"anchor\" id=\"home\"></a>\n",
    "   \n",
    "\n",
    "[TP3 : TAXONOMIC ASSIGNATION OF READS](#tp3) \n",
    "\n",
    "[1. Use Diamond for taxonomic assignation](#diamond)\n",
    "\n",
    "   * [1.1. Download Genomic viral bank](#viraldbdiamond)\n",
    "   * [1.2. Create Diamond Database](#diamondmakedb)\n",
    "   * [1.3. Lauch Diamond](#rundiamond) \n",
    "   \n",
    "[2. Use KAIJU for taxonomic assignation](#kraken2)\n",
    "   * [3.1 Create Kaiju viruses database](#kaijudb)\n",
    "   * [3.2 Launch Kaiju](#kaiju)  \n",
    "   * [3.3. Adding taxa names to output file<)](#kaijunames) \n",
    "   * [3.4 Creating input file for Krona)](#kronainput) \n",
    "\n",
    "[3. (BONUS) Use KRAKEN2 for taxonomic assignation](#kraken2)\n",
    "   * [3.1. Download a viral database](#viraldb)\n",
    "   * [3.2. Run Kraken](#kraken)\n",
    "   * [3.3. Vizualise Kraken output with Krona](#krakenkrona)\n",
    "   \n",
    "</span>\n",
    "\n",
    "***\n"
   ]
  },
  {
   "cell_type": "markdown",
   "id": "af2c755d-5a72-467d-8ffb-681a5bdc1b38",
   "metadata": {},
   "source": [
    "# <span style=\"color:#006E7F\">__TP3 : TAXONOMIC ASSIGNATION OF READS__ <a class=\"anchor\" id=\"tp3\"></span>  \n"
   ]
  },
  {
   "cell_type": "markdown",
   "id": "b32e58f2-ace6-4fbb-a3c6-c2a27f0eb302",
   "metadata": {},
   "source": [
    "Taxonomic assignment is the process of assigning an Operational Taxonomic Unit (OTUs, that is, groups of related individuals) to sequences, that can be reads or contigs. To assign an OTU to a sequence it is compared against a database, but this comparison can be done in different ways. The comparison database in this assignment process must be constructed using complete genomes. There are many programs for doing taxonomic mapping, almost all of them follows one of the next strategies:\n",
    "\n",
    "\n",
    "- BLAST: Using BLAST or DIAMOND, these mappers search for the most likely hit for each sequence within a database of genomes (i.e. mapping). This strategy is slow.\n",
    "\n",
    "- K-mers: A genome database is broken into pieces of length k, so as to be able to search for unique pieces by taxonomic group, from lowest common ancestor (LCA), passing through phylum to species. Then, the algorithm breaks the query sequence (reads, contigs) into pieces of length k, look for where these are placed within the tree and make the classification with the most probable position.\n",
    "\n",
    "- Markers: They look for markers of a database made a priori in the sequences to be classified and assign the taxonomy depending on the hits obtained.\n",
    "\n",
    "https://carpentries-incubator.github.io/metagenomics/06-taxonomic/index.html"
   ]
  },
  {
   "cell_type": "markdown",
   "id": "e5c863ba-d5eb-4cce-8377-d03e08e00264",
   "metadata": {},
   "source": [
    "## <span style=\"color: #4CACBC;\"> 1. Use Diamond for taxonomic assignation<a class=\"anchor\" id=\"diamond\"> </span>"
   ]
  },
  {
   "cell_type": "markdown",
   "id": "3a776a02-ba37-4298-b14b-17e727832fc0",
   "metadata": {},
   "source": [
    "### <span style=\"color: #4CACBC;\"> 1.1. Download Genomic viral bank<a class=\"anchor\" id=\"viraldbdiamond\"> </span>"
   ]
  },
  {
   "cell_type": "code",
   "execution_count": null,
   "id": "199756fc-cd02-440d-aa64-31b964644fb1",
   "metadata": {},
   "outputs": [],
   "source": [
    "# create working repository\n",
    "mkdir -p ~/work/SG-ONT-2022/ASSIGNATION/DIAMOND"
   ]
  },
  {
   "cell_type": "code",
   "execution_count": null,
   "id": "10096d00-8a64-4a1e-a57d-03501d00bd4c",
   "metadata": {},
   "outputs": [],
   "source": [
    "# go inside repository\n",
    "cd ~/work/SG-ONT-2022/ASSIGNATION/DIAMOND\n",
    "pwd"
   ]
  },
  {
   "cell_type": "code",
   "execution_count": null,
   "id": "ef8795bc-c28c-4d74-9782-ade9ec8e41a8",
   "metadata": {
    "tags": []
   },
   "outputs": [],
   "source": [
    "# refseq viral database pre-dowloaded from ncbi (https://ftp.ncbi.nlm.nih.gov/refseq/release/viral/)\n",
    "wget --no-check-certificat -rm -nH --cut-dirs=1 --reject=\"index.html*\" https://itrop.ird.fr/ont-training-2022/viral.protein.faa"
   ]
  },
  {
   "cell_type": "markdown",
   "id": "dca9c541-2e2b-48fb-ac7d-90ae00aa3ad3",
   "metadata": {},
   "source": [
    "The database you use will determine the result you get for your data.\n",
    "\n",
    "You can customise it by adding organism to the fasta file used.\n",
    "\n",
    "Imagine you are searching for a lineage that was recently discovered and it is not part of the available databases. Would you find it?"
   ]
  },
  {
   "cell_type": "markdown",
   "id": "e274fde8-b59f-4c4c-9593-fe844b7a90fe",
   "metadata": {},
   "source": [
    "### <span style=\"color: #4CACBC;\"> 1.2. Create Diamond Database<a class=\"anchor\" id=\"diamondmakedb\"> </span>"
   ]
  },
  {
   "cell_type": "code",
   "execution_count": null,
   "id": "6f40df53-dfd9-4cce-899d-1cf36a0adf80",
   "metadata": {
    "tags": []
   },
   "outputs": [],
   "source": [
    "diamond makedb --in viral.protein.faa -d viral"
   ]
  },
  {
   "cell_type": "markdown",
   "id": "98783713-e50b-4e87-9ce0-ca0bc8d1ea3e",
   "metadata": {},
   "source": [
    "### <span style=\"color: #4CACBC;\"> 1.3. Lauch Diamond<a class=\"anchor\" id=\"rundiamond\"> </span>"
   ]
  },
  {
   "cell_type": "code",
   "execution_count": null,
   "id": "117f7fc8-3868-42ca-8f05-58e95bc9da1f",
   "metadata": {},
   "outputs": [],
   "source": [
    "# Complete the command line below\n",
    "diamond blastx --outfmt 6 stitle qtitle pident length mismatch gapopen qstart qend sstart send evalue bitscore ...."
   ]
  },
  {
   "cell_type": "code",
   "execution_count": null,
   "id": "fd0b1c4a-2f34-4f84-b40e-c5a4025b66c4",
   "metadata": {
    "tags": []
   },
   "outputs": [],
   "source": [
    "# observer les hits dans la database qui ont eu le plus de correspondance dans les données:\n",
    "awk -F '\\t' '{print $1}' diamond-matches.csv | sort | uniq -c | sort -n | tail -20"
   ]
  },
  {
   "cell_type": "markdown",
   "id": "a2b397e8-e212-4368-8669-e27fb7b7c773",
   "metadata": {},
   "source": [
    "**Observe the csv file results and comment it.**\n",
    "\n",
    "Be careful of the separator --> choose tab"
   ]
  },
  {
   "cell_type": "markdown",
   "id": "59519266-b269-4bb4-ab56-c8f867d2fcca",
   "metadata": {},
   "source": [
    "## <span style=\"color: #4CACBC;\"> 2. Use KAIJU for taxonomic assignation <a class=\"anchor\" id=\"kaiju\"> </span>"
   ]
  },
  {
   "cell_type": "markdown",
   "id": "ab45d8ed-1055-45ae-ba31-ee9efa8b244a",
   "metadata": {},
   "source": [
    "Kaiju is a program for the taxonomic classification of high-throughput sequencing reads, e.g., Illumina or Roche/454, from whole-genome sequencing of metagenomic DNA. Reads are directly assigned to taxa using the NCBI taxonomy and a reference database of protein sequences from microbial and viral genomes.\n",
    "\n",
    "Kaiju can be also used via a web server. https://kaiju.binf.ku.dk/server"
   ]
  },
  {
   "cell_type": "code",
   "execution_count": null,
   "id": "e12b3317-ed2e-47d5-882b-4e80be813031",
   "metadata": {},
   "outputs": [],
   "source": [
    "# create working repository\n",
    "mkdir ~/work/SG-ONT-2022/ASSIGNATION/KAIJU"
   ]
  },
  {
   "cell_type": "code",
   "execution_count": null,
   "id": "975a9c0c-3c50-4ab2-ae8b-272ccb347bb8",
   "metadata": {},
   "outputs": [],
   "source": [
    "cd ~/work/SG-ONT-2022/ASSIGNATION/KAIJU"
   ]
  },
  {
   "cell_type": "markdown",
   "id": "f8a9b36e-456f-4de9-ac50-4d1ce064d801",
   "metadata": {},
   "source": [
    "### <span style=\"color: #4CACBC;\"> 2.1 Create Kaiju viruses database<a class=\"anchor\" id=\"kaijudb\"> </span>"
   ]
  },
  {
   "cell_type": "code",
   "execution_count": null,
   "id": "6287e573-892f-4af1-b039-10851714c8ff",
   "metadata": {},
   "outputs": [],
   "source": [
    "kaiju-makedb -s viruses"
   ]
  },
  {
   "cell_type": "markdown",
   "id": "269e6369-5d81-4419-b988-595e34f13ef0",
   "metadata": {},
   "source": [
    "### <span style=\"color: #4CACBC;\"> 2.2 Launch Kaiju (a little bit long to run)<a class=\"anchor\" id=\"kaiju\"> </span>"
   ]
  },
  {
   "cell_type": "code",
   "execution_count": null,
   "id": "83fc918d-64e6-4942-8a6b-d9ac44505a3d",
   "metadata": {},
   "outputs": [],
   "source": [
    "kaiju --help"
   ]
  },
  {
   "cell_type": "code",
   "execution_count": null,
   "id": "5733f4ef-ef71-4783-a5fd-55c71eef7d83",
   "metadata": {},
   "outputs": [],
   "source": [
    "kaiju -t nodes.dmp -z 4 -f viruses/kaiju_db_viruses.fmi -i ~/work/SG-ONT-2022/CLEANING/reads_vs_ananas_unmapped.fastq -v -o kaiju.out"
   ]
  },
  {
   "cell_type": "markdown",
   "id": "a44cbbfd-29e6-448b-8fe9-82760372e58d",
   "metadata": {},
   "source": [
    "**output format**\n",
    "\n",
    "Kaiju will print one line for each read or read pair. The default output format contains three columns separated by tabs. Using the option -v enables the verbose output, which will print additional columns:\n",
    "\n",
    "- either C or U, indicating whether the read is classified or unclassified.\n",
    "- name of the read\n",
    "- NCBI taxon identifier of the assigned taxon\n",
    "- the length or score of the best match used for classification\n",
    "- the taxon identifiers of all database sequences with the best match\n",
    "- the accession numbers of all database sequences with the best match\n",
    "- matching fragment sequence(s)"
   ]
  },
  {
   "cell_type": "code",
   "execution_count": null,
   "id": "738684d5-4360-4e4a-a63f-623f4b950a76",
   "metadata": {},
   "outputs": [],
   "source": [
    "head kaiju.out"
   ]
  },
  {
   "cell_type": "markdown",
   "id": "1494d2c6-946a-4a39-aa59-4b4f7d14870e",
   "metadata": {},
   "source": [
    "### <span style=\"color: #4CACBC;\"> 2.3. Adding taxa names to output file<a class=\"anchor\" id=\"kaijunames\"> </span>"
   ]
  },
  {
   "cell_type": "code",
   "execution_count": null,
   "id": "113c0a62-633f-44a9-bdc8-ec6f75ec5bf8",
   "metadata": {},
   "outputs": [],
   "source": [
    "kaiju-addTaxonNames -t nodes.dmp -n names.dmp -i kaiju.out -o kaiju.names.out"
   ]
  },
  {
   "cell_type": "code",
   "execution_count": null,
   "id": "eaef369b-4131-4dea-8266-6cc41688980f",
   "metadata": {},
   "outputs": [],
   "source": [
    "head kaiju.names.out"
   ]
  },
  {
   "cell_type": "markdown",
   "id": "987dd91e-894f-4322-84b5-d8c6ed0fe0a9",
   "metadata": {},
   "source": [
    "### <span style=\"color: #4CACBC;\"> 3.4 Creating input file for Krona<a class=\"anchor\" id=\"kronainput\"> </span>"
   ]
  },
  {
   "cell_type": "code",
   "execution_count": null,
   "id": "9d85da3d-7b89-4620-b829-87d0e5714890",
   "metadata": {},
   "outputs": [],
   "source": [
    "kaiju2krona -t nodes.dmp -n names.dmp -i kaiju.out -o kaiju.out.krona"
   ]
  },
  {
   "cell_type": "code",
   "execution_count": null,
   "id": "4cdd474d-aec7-4c0a-a68d-17597b12b6f4",
   "metadata": {},
   "outputs": [],
   "source": [
    "ktImportText -o kaiju.out.html kaiju.out.krona"
   ]
  },
  {
   "cell_type": "markdown",
   "id": "bf6b689f-d3cf-485a-a445-d515488a0bfc",
   "metadata": {},
   "source": [
    "**Observe the results**\n",
    "\n",
    "Now open the HTML file by clicking on it on the left menu.\n",
    "\n",
    "If you have an error : \"Javascript must be enabled to view this page\", please click on \"trust HTML\".\n",
    "\n",
    "What can you see on this Krona?\n",
    "\n",
    "We are interested in **vitiviruses**. Try to zoom in on this genus."
   ]
  },
  {
   "cell_type": "markdown",
   "id": "6fa76383-60c9-4be9-b7cd-b9bcffc03180",
   "metadata": {},
   "source": [
    "## <span style=\"color: #4CACBC;\"> 3. (BONUS) Use KRAKEN2 for taxonomic assignation<a class=\"anchor\" id=\"kraken2\"> </span>"
   ]
  },
  {
   "cell_type": "markdown",
   "id": "cf761b67-a536-4c02-a99f-0f942e954780",
   "metadata": {},
   "source": [
    "Kraken is a taxonomic sequence classifier that assigns taxonomic labels to DNA sequences. Kraken examines the k-mers within a query sequence and uses the information within those k-mers to query a database. That database maps k-mers to the lowest common ancestor (LCA) of all genomes known to contain a given k-mer."
   ]
  },
  {
   "cell_type": "code",
   "execution_count": null,
   "id": "ea1a0f3a-875f-4404-b33f-ff895dd8063b",
   "metadata": {
    "tags": []
   },
   "outputs": [],
   "source": [
    "kraken2 --help"
   ]
  },
  {
   "cell_type": "markdown",
   "id": "48defb1a-861e-4bc7-9f13-07c04760f951",
   "metadata": {},
   "source": [
    "### <span style=\"color: #4CACBC;\"> 3.1. Download a viral database<a class=\"anchor\" id=\"viraldb\"> </span>"
   ]
  },
  {
   "cell_type": "markdown",
   "id": "bf3f16f9-67df-4a19-8ef7-995e73b25b13",
   "metadata": {
    "tags": []
   },
   "source": [
    "For this TP we will download a pre-made simplified kraken database.\n",
    "\n",
    "MiniKraken DB_8GB (6.0 GB): A pre-built 8 GB database constructed from complete bacterial, archaeal, and viral genomes in RefSeq (as of Oct. 18, 2017). This can be used by users without the computational resources needed to build a Kraken database. This contains around 5% of kmers from the original standard database. \n",
    "It can be found here: https://ccb.jhu.edu/software/kraken/\n",
    "\n",
    "You can build your own custom Database (see https://github.com/DerrickWood/kraken2/wiki/Manual). However, it take a lot of ressources and time.\n"
   ]
  },
  {
   "cell_type": "code",
   "execution_count": null,
   "id": "b1ca7def-c00f-4951-9a45-3abffe0df946",
   "metadata": {},
   "outputs": [],
   "source": [
    "# create working repository\n",
    "mkdir -p ~/work/SG-ONT-2022/ASSIGNATION/KRAKEN"
   ]
  },
  {
   "cell_type": "code",
   "execution_count": null,
   "id": "baf42323-d42c-419c-820a-b74dbde17e55",
   "metadata": {},
   "outputs": [],
   "source": [
    "# run Kraken\n",
    "cd ~/work/SG-ONT-2022/ASSIGNATION/KRAKEN"
   ]
  },
  {
   "cell_type": "code",
   "execution_count": null,
   "id": "93826b7c-abd5-4322-b0c9-f807325b14dd",
   "metadata": {
    "tags": []
   },
   "outputs": [],
   "source": [
    "wget --no-check-certificat -rm -nH --cut-dirs=1 --reject=\"index.html*\" https://itrop.ird.fr/ont-training-2022/minikraken2_v2_8GB_201904.tgz"
   ]
  },
  {
   "cell_type": "code",
   "execution_count": null,
   "id": "3c184061-3e07-472d-af3a-8983b5abe765",
   "metadata": {
    "tags": []
   },
   "outputs": [],
   "source": [
    "#uncompress the database\n",
    "tar zxvf minikraken2_v2_8GB_201904.tgz"
   ]
  },
  {
   "cell_type": "code",
   "execution_count": null,
   "id": "5060dc10-bea8-41f8-8692-9667f9b4a82c",
   "metadata": {
    "tags": []
   },
   "outputs": [],
   "source": [
    "# Inspect the database content\n",
    "kraken2-inspect --db minikraken2_v2_8GB_201904_UPDATE/ | head -15"
   ]
  },
  {
   "cell_type": "markdown",
   "id": "105e0cc1-62d2-426d-9359-9cfa8e7d7b7f",
   "metadata": {},
   "source": [
    "### <span style=\"color: #4CACBC;\"> 3.2. run Kraken<a class=\"anchor\" id=\"kraken\"> </span>"
   ]
  },
  {
   "cell_type": "code",
   "execution_count": null,
   "id": "6b7291e1-7477-484e-9583-4e220212b0ca",
   "metadata": {
    "tags": []
   },
   "outputs": [],
   "source": [
    "kraken2 --db minikraken2_v2_8GB_201904_UPDATE/ ../../CLEANING/reads_vs_ananas_unmapped.fastq --report report.txt --report-minimizer-data --> output_kraken"
   ]
  },
  {
   "cell_type": "markdown",
   "id": "7df786ec-d0f6-4cfc-bffc-f2d47bd47c1b",
   "metadata": {
    "tags": []
   },
   "source": [
    "**Standard Kraken Output Format**\n",
    "\n",
    "Each sequence (or sequence pair, in the case of paired reads) classified by Kraken 2 results in a single line of output. Kraken 2's output lines contain five tab-delimited fields; from left to right, they are:\n",
    "\n",
    "- \"C\"/\"U\": a one letter code indicating that the sequence was either classified or unclassified.\n",
    "\n",
    "- The sequence ID, obtained from the FASTA/FASTQ header.\n",
    "\n",
    "- The taxonomy ID Kraken 2 used to label the sequence; this is 0 if the sequence is unclassified.\n",
    "\n",
    "- The length of the sequence in bp. In the case of paired read data, this will be a string containing the lengths of the two sequences in bp, separated by a pipe character, e.g. \"98|94\".\n",
    "\n",
    "- A space-delimited list indicating the LCA mapping of each k-mer in the sequence(s). For example, \"562:13 561:4 A:31 0:1 562:3\" would indicate that:\n",
    "\n",
    "        - the first 13 k-mers mapped to taxonomy ID #562\n",
    "        - the next 4 k-mers mapped to taxonomy ID #561\n",
    "        - the next 31 k-mers contained an ambiguous nucleotide\n",
    "        - the next k-mer was not in the database\n",
    "        - the last 3 k-mers mapped to taxonomy ID #562\n"
   ]
  },
  {
   "cell_type": "code",
   "execution_count": null,
   "id": "8b2768d9-81fe-4227-acf6-b90480d34913",
   "metadata": {
    "tags": []
   },
   "outputs": [],
   "source": [
    "head output_kraken"
   ]
  },
  {
   "cell_type": "markdown",
   "id": "56ef5567-2ffb-45aa-8526-9ceadc5987ad",
   "metadata": {
    "tags": []
   },
   "source": [
    "**Report format output**\n",
    "\n",
    "The format with the --report-minimizer-data flag, then, is similar to that described in [Sample Report Output Format], but slightly different. The fields in this new format, from left-to-right, are:\n",
    "\n",
    "- 1. Percentage of fragments covered by the clade rooted at this taxon\n",
    "- 2. Number of fragments covered by the clade rooted at this taxon\n",
    "- 3. Number of fragments assigned directly to this taxon\n",
    "- 4. Number of minimizers in read data associated with this taxon (new)\n",
    "- 5. An estimate of the number of distinct minimizers in read data associated with this taxon (new)\n",
    "- 6. A rank code, indicating (U)nclassified, (R)oot, (D)omain, (K)ingdom, (P)hylum, (C)lass, (O)rder, (F)amily, (G)enus, or (S)pecies. Taxa that are not at any of these 10 ranks have a rank code that is formed by using the rank code of the closest ancestor rank with a number indicating the distance from that rank. E.g., \"G2\" is a rank code indicating a taxon is between genus and species and the grandparent taxon is at the genus rank.\n",
    "- 7. NCBI taxonomic ID number\n",
    "- 8. Indented scientific name\n"
   ]
  },
  {
   "cell_type": "code",
   "execution_count": null,
   "id": "0cad11e4-ceaf-4d97-82a0-dbd2258bc292",
   "metadata": {},
   "outputs": [],
   "source": [
    "head -10 report.txt"
   ]
  },
  {
   "cell_type": "markdown",
   "id": "b2e6dcfb-3cdd-410d-b819-8d7f4411d17d",
   "metadata": {},
   "source": [
    "### <span style=\"color: #4CACBC;\"> 3.3. Vizualise kraken output with krona<a class=\"anchor\" id=\"krakenkrona\"> </span>"
   ]
  },
  {
   "cell_type": "code",
   "execution_count": null,
   "id": "fcf5f191-195d-4357-b5e9-933a61c1b9db",
   "metadata": {},
   "outputs": [],
   "source": [
    "ktImportTaxonomy -m 3 -t 5 report.txt -o kraken.html 2> krakenkrona.err"
   ]
  }
 ],
 "metadata": {
  "kernelspec": {
   "display_name": "Bash",
   "language": "bash",
   "name": "bash"
  },
  "language_info": {
   "codemirror_mode": "shell",
   "file_extension": ".sh",
   "mimetype": "text/x-sh",
   "name": "bash"
  }
 },
 "nbformat": 4,
 "nbformat_minor": 5
}
