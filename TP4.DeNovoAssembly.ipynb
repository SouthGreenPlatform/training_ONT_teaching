{
 "cells": [
  {
   "cell_type": "markdown",
   "id": "26ffb346-6c03-410a-b92f-e9885454db2f",
   "metadata": {},
   "source": [
    "# <span style=\"color:green\">Formation au Burkina Faso 2022</span> - Initiation à l’analyse de données Minion pour l'analyse de métagénome viraux\n",
    "\n",
    "Created by J. Orjuela (DIADE-IRD), D. Filloux (PHIM-CIRAD) and A. Comte (PHIM-IRD) \n",
    "\n",
    "Septembre 2022\n",
    "\n",
    "***\n",
    "\n",
    "# <span style=\"color: #006E7F\">Table of contents</span>\n",
    "<a class=\"anchor\" id=\"home\"></a>\n",
    "   \n",
    "\n",
    "[TP4 : De novo assembly of the Metavirome](#tp4) \n",
    "\n",
    "[1. Assembly with Flye](#flye)\n",
    "\n",
    "   * [1.1 Launch Flye](#runflye)\n",
    "   * [1.2. Estimate the quality of the assembly](#quality)\n",
    "       * [1.2.1. QUAST](quast)\n",
    "       * [1.2.2. CheckV](checkv)\n",
    "   * [1.3. Polishing of the meta-assembly](#polish)\n",
    "   * [1.4. Estimate the quality of the polished assembly](#qualpolish)\n",
    "       * [1.4.1. CheckV](checkpolish)\n",
    "   * [1.5. Taxonomic assignation of contigs](#contigs)\n",
    "   * [1.6. Visualise the coverage of the reads in an interesting contig](#coverage)\n",
    "      * [1.6.1. Remapping of the reads in an interesting contig](contigcool)\n",
    "      * [1.6.2. Visualise the coverage / depht of the reads on the contig on `TABLET`](tablet)\n",
    "</span>\n",
    "\n",
    "***"
   ]
  },
  {
   "cell_type": "markdown",
   "id": "adce1cf9-b0f4-44de-8ab1-041c153f7aed",
   "metadata": {},
   "source": [
    "# <span style=\"color:#006E7F\">__TP4 : De novo assembly of the Metavirome__ <a class=\"anchor\" id=\"tp3\"></span>  \n"
   ]
  },
  {
   "cell_type": "markdown",
   "id": "b491ee52-cce5-4406-9830-8da83f91b28d",
   "metadata": {},
   "source": [
    "Metagenome assembly is the process of transforming a set of short, overlapping, and potentially erroneous DNA segments from environmental samples into the accurate representation of the underlying microbiomes's genomes. Metagenome assembly is an efficient approach to deciphering the “microbial dark matter” in the microbiota based on metagenomic sequencing.\n",
    "\n",
    "The objective is to reconstruct viruses in presence in the dataset.\n",
    "\n",
    "A lot of assembler tools exists for long reads. Here we will focus on FLYE which is fast and often really accurate:\n",
    "\n",
    "- Flye : https://github.com/fenderglass/Flye\n",
    "\n",
    "But you can also have a look at SPAdes, an other assembler working with metagenome.\n",
    "\n",
    "- SPAdes : https://github.com/ablab/spades"
   ]
  },
  {
   "cell_type": "markdown",
   "id": "96beb02a-7fd8-4892-93c8-594493c1f895",
   "metadata": {},
   "source": [
    "## <span style=\"color: #4CACBC;\"> 1. Assembly with Flye<a class=\"anchor\" id=\"flye\"> </span>"
   ]
  },
  {
   "cell_type": "markdown",
   "id": "8e390b9f-e8b0-40ee-848f-1fd11834be57",
   "metadata": {},
   "source": [
    "Flye is a de novo assembler for single-molecule sequencing reads, such as those produced by PacBio and Oxford Nanopore Technologies. It is designed for a wide range of datasets, from small bacterial projects to large mammalian-scale assemblies. The package represents a complete pipeline: it takes raw PacBio / ONT reads as input and outputs polished contigs. Flye also has a special mode for metagenome assembly."
   ]
  },
  {
   "cell_type": "code",
   "execution_count": 1,
   "id": "6760312c-9c86-4f11-a241-e6020898b9e0",
   "metadata": {},
   "outputs": [],
   "source": [
    "# create working repository\n",
    "mkdir -p ~/work/SG-ONT-2022/ASSEMBLY/FLYE\n",
    "cd ~/work/SG-ONT-2022/ASSEMBLY/FLYE"
   ]
  },
  {
   "cell_type": "markdown",
   "id": "25167070-0afc-48c2-91d7-877bf409b70b",
   "metadata": {},
   "source": [
    "### <span style=\"color: #4CACBC;\"> 1.1 Launch Flye<a class=\"anchor\" id=\"runflye\"> </span>"
   ]
  },
  {
   "cell_type": "code",
   "execution_count": 2,
   "id": "8e06368d-d32e-4ba8-9597-a26fb26edc34",
   "metadata": {},
   "outputs": [
    {
     "name": "stdout",
     "output_type": "stream",
     "text": [
      "usage: flye (--pacbio-raw | --pacbio-corr | --pacbio-hifi | --nano-raw |\n",
      "\t     --nano-corr | --nano-hq ) file1 [file_2 ...]\n",
      "\t     --out-dir PATH\n",
      "\n",
      "\t     [--genome-size SIZE] [--threads int] [--iterations int]\n",
      "\t     [--meta] [--polish-target] [--min-overlap SIZE]\n",
      "\t     [--keep-haplotypes] [--debug] [--version] [--help] \n",
      "\t     [--scaffold] [--resume] [--resume-from] [--stop-after] \n",
      "\t     [--read-error float] [--extra-params]\n",
      "\n",
      "Assembly of long reads with repeat graphs\n",
      "\n",
      "optional arguments:\n",
      "  -h, --help            show this help message and exit\n",
      "  --pacbio-raw path [path ...]\n",
      "                        PacBio regular CLR reads (<20% error)\n",
      "  --pacbio-corr path [path ...]\n",
      "                        PacBio reads that were corrected with other methods\n",
      "                        (<3% error)\n",
      "  --pacbio-hifi path [path ...]\n",
      "                        PacBio HiFi reads (<1% error)\n",
      "  --nano-raw path [path ...]\n",
      "                        ONT regular reads, pre-Guppy5 (<20% error)\n",
      "  --nano-corr path [path ...]\n",
      "                        ONT reads that were corrected with other methods (<3%\n",
      "                        error)\n",
      "  --nano-hq path [path ...]\n",
      "                        ONT high-quality reads: Guppy5+ or Q20 (<5% error)\n",
      "  --subassemblies path [path ...]\n",
      "                        [deprecated] high-quality contigs input\n",
      "  -g size, --genome-size size\n",
      "                        estimated genome size (for example, 5m or 2.6g)\n",
      "  -o path, --out-dir path\n",
      "                        Output directory\n",
      "  -t int, --threads int\n",
      "                        number of parallel threads [1]\n",
      "  -i int, --iterations int\n",
      "                        number of polishing iterations [1]\n",
      "  -m int, --min-overlap int\n",
      "                        minimum overlap between reads [auto]\n",
      "  --asm-coverage int    reduced coverage for initial disjointig assembly [not\n",
      "                        set]\n",
      "  --hifi-error float    [deprecated] same as --read-error\n",
      "  --read-error float    adjust parameters for given read error rate (as\n",
      "                        fraction e.g. 0.03)\n",
      "  --extra-params extra_params\n",
      "                        extra configuration parameters list (comma-separated)\n",
      "  --plasmids            unused (retained for backward compatibility)\n",
      "  --meta                metagenome / uneven coverage mode\n",
      "  --keep-haplotypes     do not collapse alternative haplotypes\n",
      "  --scaffold            enable scaffolding using graph [disabled by default]\n",
      "  --trestle             [deprecated] enable Trestle [disabled by default]\n",
      "  --polish-target path  run polisher on the target sequence\n",
      "  --resume              resume from the last completed stage\n",
      "  --resume-from stage_name\n",
      "                        resume from a custom stage\n",
      "  --stop-after stage_name\n",
      "                        stop after the specified stage completed\n",
      "  --debug               enable debug output\n",
      "  -v, --version         show program's version number and exit\n",
      "\n",
      "Input reads can be in FASTA or FASTQ format, uncompressed\n",
      "or compressed with gz. Currently, PacBio (CLR, HiFi, corrected)\n",
      "and ONT reads (regular, HQ, corrected) are supported. Expected error rates are\n",
      "<15% for PB CLR/regular ONT; <5% for ONT HQ, <3% for corrected, and <1% for HiFi. Note that Flye\n",
      "was primarily developed to run on uncorrected reads. You may specify multiple\n",
      "files with reads (separated by spaces). Mixing different read\n",
      "types is not yet supported. The --meta option enables the mode\n",
      "for metagenome/uneven coverage assembly.\n",
      "\n",
      "To reduce memory consumption for large genome assemblies,\n",
      "you can use a subset of the longest reads for initial disjointig\n",
      "assembly by specifying --asm-coverage and --genome-size options. Typically,\n",
      "40x coverage is enough to produce good disjointigs.\n",
      "\n",
      "You can run Flye polisher as a standalone tool using\n",
      "--polish-target option.\n"
     ]
    }
   ],
   "source": [
    "flye --help"
   ]
  },
  {
   "cell_type": "code",
   "execution_count": 3,
   "id": "d3e38824-e73f-4b85-b6cf-3b7345948d8c",
   "metadata": {
    "tags": []
   },
   "outputs": [
    {
     "name": "stdout",
     "output_type": "stream",
     "text": [
      "[2022-09-05 21:44:01] INFO: Starting Flye 2.9-b1768\n",
      "[2022-09-05 21:44:01] INFO: >>>STAGE: configure\n",
      "[2022-09-05 21:44:01] INFO: Configuring run\n",
      "[2022-09-05 21:44:04] INFO: Total read length: 174205060\n",
      "[2022-09-05 21:44:04] INFO: Reads N50/N90: 435 / 276\n",
      "[2022-09-05 21:44:04] INFO: Minimum overlap set to 1000\n",
      "[2022-09-05 21:44:04] INFO: >>>STAGE: assembly\n",
      "[2022-09-05 21:44:04] INFO: Assembling disjointigs\n",
      "[2022-09-05 21:44:04] INFO: Reading sequences\n",
      "[2022-09-05 21:44:05] INFO: Building minimizer index\n",
      "[2022-09-05 21:44:05] INFO: Pre-calculating index storage\n",
      "0% 10% 20% 30% 40% 50% 60% 70% 80% 90% 100% \n",
      "[2022-09-05 21:44:09] INFO: Filling index\n",
      "0% 10% 20% 30% 40% 50% 60% 70% 80% 90% 100% \n",
      "[2022-09-05 21:44:18] INFO: Extending reads\n",
      "[2022-09-05 21:44:24] INFO: Overlap-based coverage: 22\n",
      "[2022-09-05 21:44:24] INFO: Median overlap divergence: 0.0776014\n",
      "0% 10% 20% 30% 40% 50% 60% 70% 80% 90% 100% \n",
      "[2022-09-05 21:45:00] INFO: Assembled 54 disjointigs\n",
      "[2022-09-05 21:45:00] INFO: Generating sequence\n",
      "0% 10% 20% 30% 50% 60% 70% 80% 100% \n",
      "[2022-09-05 21:45:00] INFO: Filtering contained disjointigs\n",
      "0% 10% 20% 30% 40% 50% 60% 70% 80% 90% 100% \n",
      "[2022-09-05 21:45:01] INFO: Contained seqs: 2\n",
      "[2022-09-05 21:45:01] INFO: >>>STAGE: consensus\n",
      "[2022-09-05 21:45:01] INFO: Running Minimap2\n",
      "[2022-09-05 21:46:27] INFO: Computing consensus\n",
      "[2022-09-05 21:46:51] INFO: Alignment error rate: 0.109280\n",
      "[2022-09-05 21:46:51] INFO: >>>STAGE: repeat\n",
      "[2022-09-05 21:46:51] INFO: Building and resolving repeat graph\n",
      "[2022-09-05 21:46:51] INFO: Parsing disjointigs\n",
      "[2022-09-05 21:46:51] INFO: Building repeat graph\n",
      "0% 10% 20% 30% 40% 50% 60% 70% 80% 90% 100% \n",
      "[2022-09-05 21:46:52] INFO: Median overlap divergence: 0.107946\n",
      "[2022-09-05 21:46:52] INFO: Parsing reads\n",
      "[2022-09-05 21:46:54] INFO: Aligning reads to the graph\n",
      "0% 10% 20% 30% 40% 50% 60% 70% 80% 90% 100% \n",
      "[2022-09-05 21:47:03] INFO: Aligned read sequence: 5806848 / 22321553 (0.260145)\n",
      "[2022-09-05 21:47:03] INFO: Median overlap divergence: 0.0481651\n",
      "[2022-09-05 21:47:03] INFO: Mean edge coverage: 41\n",
      "[2022-09-05 21:47:03] INFO: Simplifying the graph\n",
      "[2022-09-05 21:47:04] INFO: >>>STAGE: contigger\n",
      "[2022-09-05 21:47:04] INFO: Generating contigs\n",
      "[2022-09-05 21:47:04] INFO: Reading sequences\n",
      "[2022-09-05 21:47:07] INFO: Generated 32 contigs\n",
      "[2022-09-05 21:47:07] INFO: Added 0 scaffold connections\n",
      "[2022-09-05 21:47:07] INFO: >>>STAGE: polishing\n",
      "[2022-09-05 21:47:07] INFO: Polishing genome (1/1)\n",
      "[2022-09-05 21:47:07] INFO: Running minimap2\n",
      "[2022-09-05 21:56:53] INFO: Separating alignment into bubbles\n",
      "[2022-09-05 21:57:25] INFO: Alignment error rate: 0.070793\n",
      "[2022-09-05 21:57:25] INFO: Correcting bubbles\n",
      "0% 10% 20% 30% 40% 50% 60% 70% 80% 90% 100% \n",
      "[2022-09-05 21:57:41] INFO: >>>STAGE: finalize\n",
      "[2022-09-05 21:57:41] INFO: Assembly statistics:\n",
      "\n",
      "\tTotal length:\t89929\n",
      "\tFragments:\t32\n",
      "\tFragments N50:\t2455\n",
      "\tLargest frg:\t7608\n",
      "\tScaffolds:\t0\n",
      "\tMean coverage:\t110\n",
      "\n",
      "[2022-09-05 21:57:41] INFO: Final assembly: /home/jovyan/work/SG-ONT-2022/ASSEMBLY/FLYE/out_flye/assembly.fasta\n",
      "\n",
      "real\t13m40.740s\n",
      "user\t13m42.196s\n",
      "sys\t0m7.334s\n"
     ]
    }
   ],
   "source": [
    "# this can take time to run\n",
    "time flye --meta --nano-hq ../../CLEANING/reads_vs_ananas_unmapped.fastq -o out_flye"
   ]
  },
  {
   "cell_type": "markdown",
   "id": "abd4aa2d-c60d-4222-864b-f67cbcdb24e8",
   "metadata": {},
   "source": [
    "**How many contig do we have after the assembly?**"
   ]
  },
  {
   "cell_type": "markdown",
   "id": "ffac7fb5-28fb-4327-97bf-ed12fcded48b",
   "metadata": {},
   "source": [
    "### <span style=\"color: #4CACBC;\"> 1.2. Estimate the quality of the assembly<a class=\"anchor\" id=\"quality\"> </span>"
   ]
  },
  {
   "cell_type": "markdown",
   "id": "5ecdc61a-2550-4b64-9934-9c26cf625d87",
   "metadata": {},
   "source": [
    "#### <span style=\"color: #4CACBC;\"> 1.2.1. QUAST<a class=\"anchor\" id=\"quast\"> </span>"
   ]
  },
  {
   "cell_type": "markdown",
   "id": "0f73537b-c0d4-4c26-a837-bf5ccd1a6cba",
   "metadata": {
    "tags": []
   },
   "source": [
    "QUAST evaluates genome assemblies.\n",
    "\n",
    "QUAST works both with and without a reference genome.\n",
    "The tool accepts multiple assemblies, thus is suitable for comparison. \n",
    "\n",
    "http://quast.sourceforge.net/quast"
   ]
  },
  {
   "cell_type": "code",
   "execution_count": 4,
   "id": "332dce20-729a-4801-8ea4-8a93160b00c1",
   "metadata": {},
   "outputs": [
    {
     "name": "stdout",
     "output_type": "stream",
     "text": [
      "MetaQUAST: Quality Assessment Tool for Metagenome Assemblies\n",
      "Version: 5.2.0\n",
      "\n",
      "Usage: python /opt/conda/envs/quast/bin/metaquast.py [options] <files_with_contigs>\n",
      "\n",
      "Options:\n",
      "-o  --output-dir  <dirname>       Directory to store all result files [default: quast_results/results_<datetime>]\n",
      "-r   <filename,filename,...>      Comma-separated list of reference genomes or directory with reference genomes\n",
      "--references-list <filename>      Text file with list of reference genome names for downloading from NCBI\n",
      "-g  --features [type:]<filename>  File with genomic feature coordinates in the references (GFF, BED, NCBI or TXT)\n",
      "                                  Optional 'type' can be specified for extracting only a specific feature type from GFF\n",
      "-m  --min-contig  <int>           Lower threshold for contig length [default: 500]\n",
      "-t  --threads     <int>           Maximum number of threads [default: 25% of CPUs]\n",
      "\n",
      "Advanced options:\n",
      "-s  --split-scaffolds                 Split assemblies by continuous fragments of N's and add such \"contigs\" to the comparison\n",
      "-l  --labels \"label, label, ...\"      Names of assemblies to use in reports, comma-separated. If contain spaces, use quotes\n",
      "-L                                    Take assembly names from their parent directory names\n",
      "-e  --eukaryote                       Genome is eukaryotic (primarily affects gene prediction)\n",
      "    --fungus                          Genome is fungal (primarily affects gene prediction)\n",
      "    --large                           Use optimal parameters for evaluation of large genomes\n",
      "                                      In particular, imposes '-e -m 3000 -i 500 -x 7000' (can be overridden manually)\n",
      "-k  --k-mer-stats                     Compute k-mer-based quality metrics (recommended for large genomes)\n",
      "                                      This may significantly increase memory and time consumption on large genomes\n",
      "    --k-mer-size                      Size of k used in --k-mer-stats [default: 101]\n",
      "    --circos                          Draw Circos plot\n",
      "-f  --gene-finding                    Predict genes using MetaGeneMark\n",
      "    --glimmer                         Use GlimmerHMM for gene prediction (instead of the default finder, see above)\n",
      "    --gene-thresholds <int,int,...>   Comma-separated list of threshold lengths of genes to search with Gene Finding module\n",
      "                                      [default: 0,300,1500,3000]\n",
      "    --rna-finding                     Predict ribosomal RNA genes using Barrnap\n",
      "-b  --conserved-genes-finding         Count conserved orthologs using BUSCO (only on Linux)\n",
      "    --operons  <filename>             File with operon coordinates in the reference (GFF, BED, NCBI or TXT)\n",
      "    --max-ref-number <int>            Maximum number of references (per each assembly) to download after looking in SILVA database.\n",
      "                                      Set 0 for not looking in SILVA at all [default: 50]\n",
      "    --blast-db <filename>             Custom BLAST database (.nsq file). By default, MetaQUAST searches references in SILVA database\n",
      "    --use-input-ref-order             Use provided order of references in MetaQUAST summary plots (default order: by the best average value)\n",
      "    --contig-thresholds <int,int,...> Comma-separated list of contig length thresholds [default: 0,1000,5000,10000,25000,50000]\n",
      "    --x-for-Nx <int>                  Value of 'x' for Nx, Lx, etc metrics reported in addition to N50, L50, etc (0, 100) [default: 90]\n",
      "    --reuse-combined-alignments       Reuse the alignments from the combined_reference stage on runs_per_reference stages.\n",
      "-u  --use-all-alignments              Compute genome fraction, # genes, # operons in QUAST v1.* style.\n",
      "                                      By default, QUAST filters Minimap's alignments to keep only best ones\n",
      "-i  --min-alignment <int>             The minimum alignment length [default: 65]\n",
      "    --min-identity <float>            The minimum alignment identity (80.0, 100.0) [default: 90.0]\n",
      "-a  --ambiguity-usage <none|one|all>  Use none, one, or all alignments of a contig when all of them\n",
      "                                      are almost equally good (see --ambiguity-score) [default: one]\n",
      "    --ambiguity-score <float>         Score S for defining equally good alignments of a single contig. All alignments are sorted \n",
      "                                      by decreasing LEN * IDY% value. All alignments with LEN * IDY% < S * best(LEN * IDY%) are \n",
      "                                      discarded. S should be between 0.8 and 1.0 [default: 0.99]\n",
      "    --unique-mapping                  Disable --ambiguity-usage=all for the combined reference run,\n",
      "                                      i.e. use user-specified or default ('one') value of --ambiguity-usage\n",
      "    --strict-NA                       Break contigs in any misassembly event when compute NAx and NGAx.\n",
      "                                      By default, QUAST breaks contigs only by extensive misassemblies (not local ones)\n",
      "-x  --extensive-mis-size  <int>       Lower threshold for extensive misassembly size. All relocations with inconsistency\n",
      "                                      less than extensive-mis-size are counted as local misassemblies [default: 1000]\n",
      "    --local-mis-size  <int>           Lower threshold on local misassembly size. Local misassemblies with inconsistency\n",
      "                                      less than local-mis-size are counted as (long) indels [default: 200]\n",
      "    --scaffold-gap-max-size  <int>    Max allowed scaffold gap length difference. All relocations with inconsistency\n",
      "                                      less than scaffold-gap-size are counted as scaffold gap misassemblies [default: 10000]\n",
      "    --unaligned-part-size  <int>      Lower threshold for detecting partially unaligned contigs. Such contig should have\n",
      "                                      at least one unaligned fragment >= the threshold [default: 500]\n",
      "    --skip-unaligned-mis-contigs      Do not distinguish contigs with >= 50% unaligned bases as a separate group\n",
      "                                      By default, QUAST does not count misassemblies in them\n",
      "    --fragmented                      Reference genome may be fragmented into small pieces (e.g. scaffolded reference) \n",
      "    --fragmented-max-indent  <int>    Mark translocation as fake if both alignments are located no further than N bases \n",
      "                                      from the ends of the reference fragments [default: 200]\n",
      "                                      Requires --fragmented option\n",
      "    --upper-bound-assembly            Simulate upper bound assembly based on the reference genome and reads\n",
      "    --upper-bound-min-con  <int>      Minimal number of 'connecting reads' needed for joining upper bound contigs into a scaffold\n",
      "                                      [default: 2 for mate-pairs and 1 for long reads]\n",
      "    --est-insert-size  <int>          Use provided insert size in upper bound assembly simulation [default: auto detect from reads or 255]\n",
      "    --report-all-metrics              Keep all quality metrics in the main report even if their values are '-' for all assemblies or \n",
      "                                      if they are not applicable (e.g., reference-based metrics in the no-reference mode)\n",
      "    --plots-format  <str>             Save plots in specified format [default: pdf].\n",
      "                                      Supported formats: emf, eps, pdf, png, ps, raw, rgba, svg, svgz\n",
      "    --memory-efficient                Run everything using one thread, separately per each assembly.\n",
      "                                      This may significantly reduce memory consumption on large genomes\n",
      "    --space-efficient                 Create only reports and plots files. Aux files including .stdout, .stderr, .coords will not be created.\n",
      "                                      This may significantly reduce space consumption on large genomes. Icarus viewers also will not be built\n",
      "-1  --pe1     <filename>              File with forward paired-end reads (in FASTQ format, may be gzipped)\n",
      "-2  --pe2     <filename>              File with reverse paired-end reads (in FASTQ format, may be gzipped)\n",
      "    --pe12    <filename>              File with interlaced forward and reverse paired-end reads. (in FASTQ format, may be gzipped)\n",
      "    --mp1     <filename>              File with forward mate-pair reads (in FASTQ format, may be gzipped)\n",
      "    --mp2     <filename>              File with reverse mate-pair reads (in FASTQ format, may be gzipped)\n",
      "    --mp12    <filename>              File with interlaced forward and reverse mate-pair reads (in FASTQ format, may be gzipped)\n",
      "    --single  <filename>              File with unpaired short reads (in FASTQ format, may be gzipped)\n",
      "    --pacbio     <filename>           File with PacBio reads (in FASTQ format, may be gzipped)\n",
      "    --nanopore   <filename>           File with Oxford Nanopore reads (in FASTQ format, may be gzipped)\n",
      "    --ref-sam <filename>              SAM alignment file obtained by aligning reads to reference genome file\n",
      "    --ref-bam <filename>              BAM alignment file obtained by aligning reads to reference genome file\n",
      "    --sam     <filename,filename,...> Comma-separated list of SAM alignment files obtained by aligning reads to assemblies\n",
      "                                      (use the same order as for files with contigs)\n",
      "    --bam     <filename,filename,...> Comma-separated list of BAM alignment files obtained by aligning reads to assemblies\n",
      "                                      (use the same order as for files with contigs)\n",
      "                                      Reads (or SAM/BAM file) are used for structural variation detection and\n",
      "                                      coverage histogram building in Icarus\n",
      "    --sv-bedpe  <filename>            File with structural variations (in BEDPE format)\n",
      "\n",
      "Speedup options:\n",
      "    --no-check                        Do not check and correct input fasta files. Use at your own risk (see manual)\n",
      "    --no-plots                        Do not draw plots\n",
      "    --no-html                         Do not build html reports and Icarus viewers\n",
      "    --no-icarus                       Do not build Icarus viewers\n",
      "    --no-snps                         Do not report SNPs (may significantly reduce memory consumption on large genomes)\n",
      "    --no-gc                           Do not compute GC% and GC-distribution\n",
      "    --no-sv                           Do not run structural variation detection (make sense only if reads are specified)\n",
      "    --no-read-stats                   Do not align reads to assemblies\n",
      "                                      Reads will be aligned to reference and used for coverage analysis,\n",
      "                                      upper bound assembly simulation, and structural variation detection.\n",
      "                                      Use this option if you do not need read statistics for assemblies.\n",
      "    --fast                            A combination of all speedup options except --no-check\n",
      "\n",
      "Other:\n",
      "    --silent                          Do not print detailed information about each step to stdout (log file is not affected)\n",
      "    --test                            Run MetaQUAST on the data from the test_data folder, output to quast_test_output\n",
      "    --test-no-ref                     Run MetaQUAST without references on the data from the test_data folder, output to quast_test_output.\n",
      "                                      MetaQUAST will download SILVA 16S rRNA database (~170 Mb) for searching reference genomes\n",
      "                                      Internet connection is required\n",
      "-h  --help                            Print full usage message\n",
      "-v  --version                         Print version\n",
      "\n",
      "Online QUAST manual is available at http://quast.sf.net/manual\n"
     ]
    }
   ],
   "source": [
    "metaquast.py -h"
   ]
  },
  {
   "cell_type": "code",
   "execution_count": 5,
   "id": "f320af8f-4b2e-422a-aef6-0185a8df6b63",
   "metadata": {
    "tags": []
   },
   "outputs": [
    {
     "name": "stdout",
     "output_type": "stream",
     "text": [
      "/opt/conda/envs/quast/bin/metaquast.py ../../ASSEMBLY/FLYE/out_flye/assembly.fasta --silent\n",
      "\n",
      "\n",
      "System information:\n",
      "  OS: Linux-5.10.0-11-cloud-amd64-x86_64-with-debian-bullseye-sid (linux_64)\n",
      "  Python version: 3.7.12\n",
      "  CPUs number: 8\n",
      "\n",
      "Started: 2022-09-05 21:57:44\n",
      "\n",
      "Logging to /home/jovyan/work/SG-ONT-2022/ASSEMBLY/FLYE/quast_results/results_2022_09_05_21_57_44/metaquast.log\n",
      "NOTICE: Maximum number of threads is set to 2 (use --threads option to set it manually)\n",
      "\n",
      "Contigs:\n",
      "  Pre-processing...\n",
      "  ../../ASSEMBLY/FLYE/out_flye/assembly.fasta ==> assembly\n",
      "\n",
      "No references are provided, starting to search for reference genomes in SILVA 16S rRNA database and to download them from NCBI...\n",
      "\n",
      "2022-09-05 21:57:47\n",
      "NOTICE: Permission denied accessing /opt/conda/envs/quast/lib/python3.7/site-packages/quast_libs/silva. Silva will be downloaded to home directory /home/jovyan/.quast\n",
      " 0.0% of 197133995 bytes\n",
      " 1.0% of 197133995 bytes\n",
      " 2.0% of 197133995 bytes\n",
      " 3.0% of 197133995 bytes\n",
      " 4.0% of 197133995 bytes\n",
      " 5.0% of 197133995 bytes\n",
      " 6.0% of 197133995 bytes\n",
      " 7.0% of 197133995 bytes\n",
      " 8.0% of 197133995 bytes\n",
      " 9.0% of 197133995 bytes\n",
      " 10.0% of 197133995 bytes\n",
      " 11.0% of 197133995 bytes\n",
      " 12.0% of 197133995 bytes\n",
      " 13.0% of 197133995 bytes\n",
      " 14.0% of 197133995 bytes\n",
      " 15.0% of 197133995 bytes\n",
      " 16.0% of 197133995 bytes\n",
      " 17.0% of 197133995 bytes\n",
      " 18.0% of 197133995 bytes\n",
      " 19.0% of 197133995 bytes\n",
      " 20.0% of 197133995 bytes\n",
      " 21.0% of 197133995 bytes\n",
      " 22.0% of 197133995 bytes\n",
      " 23.0% of 197133995 bytes\n",
      " 24.0% of 197133995 bytes\n",
      " 25.0% of 197133995 bytes\n",
      " 26.0% of 197133995 bytes\n",
      " 27.0% of 197133995 bytes\n",
      " 28.0% of 197133995 bytes\n",
      " 29.0% of 197133995 bytes\n",
      " 30.0% of 197133995 bytes\n",
      " 31.0% of 197133995 bytes\n",
      " 32.0% of 197133995 bytes\n",
      " 33.0% of 197133995 bytes\n",
      " 34.0% of 197133995 bytes\n",
      " 35.0% of 197133995 bytes\n",
      " 36.0% of 197133995 bytes\n",
      " 37.0% of 197133995 bytes\n",
      " 38.0% of 197133995 bytes\n",
      " 39.0% of 197133995 bytes\n",
      " 40.0% of 197133995 bytes\n",
      " 41.0% of 197133995 bytes\n",
      " 42.0% of 197133995 bytes\n",
      " 43.0% of 197133995 bytes\n",
      " 44.0% of 197133995 bytes\n",
      " 45.0% of 197133995 bytes\n",
      " 46.0% of 197133995 bytes\n",
      " 47.0% of 197133995 bytes\n",
      " 48.0% of 197133995 bytes\n",
      " 49.0% of 197133995 bytes\n",
      " 50.0% of 197133995 bytes\n",
      " 51.0% of 197133995 bytes\n",
      " 52.0% of 197133995 bytes\n",
      " 53.0% of 197133995 bytes\n",
      " 54.0% of 197133995 bytes\n",
      " 55.0% of 197133995 bytes\n",
      " 56.0% of 197133995 bytes\n",
      " 57.0% of 197133995 bytes\n",
      " 58.0% of 197133995 bytes\n",
      " 59.0% of 197133995 bytes\n",
      " 60.0% of 197133995 bytes\n",
      " 61.0% of 197133995 bytes\n",
      " 62.0% of 197133995 bytes\n",
      " 63.0% of 197133995 bytes\n",
      " 64.0% of 197133995 bytes\n",
      " 65.0% of 197133995 bytes\n",
      " 66.0% of 197133995 bytes\n",
      " 67.0% of 197133995 bytes\n",
      " 68.0% of 197133995 bytes\n",
      " 69.0% of 197133995 bytes\n",
      " 70.0% of 197133995 bytes\n",
      " 71.0% of 197133995 bytes\n",
      " 72.0% of 197133995 bytes\n",
      " 73.0% of 197133995 bytes\n",
      " 74.0% of 197133995 bytes\n",
      " 75.0% of 197133995 bytes\n",
      " 76.0% of 197133995 bytes\n",
      " 77.0% of 197133995 bytes\n",
      " 78.0% of 197133995 bytes\n",
      " 79.0% of 197133995 bytes\n",
      " 80.0% of 197133995 bytes\n",
      " 81.0% of 197133995 bytes\n",
      " 82.0% of 197133995 bytes\n",
      " 83.0% of 197133995 bytes\n",
      " 84.0% of 197133995 bytes\n",
      " 85.0% of 197133995 bytes\n",
      " 86.0% of 197133995 bytes\n",
      " 87.0% of 197133995 bytes\n",
      " 88.0% of 197133995 bytes\n",
      " 89.0% of 197133995 bytes\n",
      " 90.0% of 197133995 bytes\n",
      " 91.0% of 197133995 bytes\n",
      " 92.0% of 197133995 bytes\n",
      " 93.0% of 197133995 bytes\n",
      " 94.0% of 197133995 bytes\n",
      " 95.0% of 197133995 bytes\n",
      " 96.0% of 197133995 bytes\n",
      " 97.0% of 197133995 bytes\n",
      " 98.0% of 197133995 bytes\n",
      " 99.0% of 197133995 bytes\n",
      "Running BlastN..\n",
      "\n",
      "Reference genomes are not found.\n",
      "\n",
      "NOTICE: No references are provided, starting regular QUAST with MetaGeneMark gene finder\n",
      "/opt/conda/envs/quast/bin/quast.py --silent --min-identity 90.0 ../../ASSEMBLY/FLYE/out_flye/assembly.fasta -o /home/jovyan/work/SG-ONT-2022/ASSEMBLY/FLYE/quast_results/results_2022_09_05_21_57_44 --labels assembly\n",
      "\n",
      "\n",
      "System information:\n",
      "  OS: Linux-5.10.0-11-cloud-amd64-x86_64-with-debian-bullseye-sid (linux_64)\n",
      "  Python version: 3.7.12\n",
      "  CPUs number: 8\n",
      "\n",
      "Started: 2022-09-05 21:58:36\n",
      "\n",
      "Logging to /home/jovyan/work/SG-ONT-2022/ASSEMBLY/FLYE/quast_results/results_2022_09_05_21_57_44/quast.log\n",
      "NOTICE: Output directory already exists and looks like a QUAST output dir. Existing results can be reused (e.g. previously generated alignments)!\n",
      "NOTICE: Maximum number of threads is set to 2 (use --threads option to set it manually)\n",
      "\n",
      "CWD: /home/jovyan/work/SG-ONT-2022/ASSEMBLY/FLYE\n",
      "Main parameters: \n",
      "  MODE: meta, threads: 2, min contig length: 500, min alignment length: 65, min alignment IDY: 90.0, \\\n",
      "  ambiguity: one, min local misassembly length: 200, min extensive misassembly length: 1000\n",
      "\n",
      "Contigs:\n",
      "  Pre-processing...\n",
      "  ../../ASSEMBLY/FLYE/out_flye/assembly.fasta ==> assembly\n",
      "\n",
      "2022-09-05 21:58:36\n",
      "Running Basic statistics processor...\n",
      "Done.\n",
      "\n",
      "NOTICE: Genes are not predicted by default. Use --gene-finding or --glimmer option to enable it.\n",
      "\n",
      "2022-09-05 21:58:38\n",
      "Creating large visual summaries...\n",
      "This may take a while: press Ctrl-C to skip this step..\n",
      "  1 of 2: Creating PDF with all tables and plots...\n",
      "  2 of 2: Creating Icarus viewers...\n",
      "Done\n",
      "\n",
      "2022-09-05 21:58:38\n",
      "RESULTS:\n",
      "  Text versions of total report are saved to /home/jovyan/work/SG-ONT-2022/ASSEMBLY/FLYE/quast_results/results_2022_09_05_21_57_44/report.txt, report.tsv, and report.tex\n",
      "  Text versions of transposed total report are saved to /home/jovyan/work/SG-ONT-2022/ASSEMBLY/FLYE/quast_results/results_2022_09_05_21_57_44/transposed_report.txt, transposed_report.tsv, and transposed_report.tex\n",
      "  PDF version (tables and plots) is saved to /home/jovyan/work/SG-ONT-2022/ASSEMBLY/FLYE/quast_results/results_2022_09_05_21_57_44/report.pdf\n",
      "  Icarus (contig browser) is saved to /home/jovyan/work/SG-ONT-2022/ASSEMBLY/FLYE/quast_results/results_2022_09_05_21_57_44/icarus.html\n",
      "  Log is saved to /home/jovyan/work/SG-ONT-2022/ASSEMBLY/FLYE/quast_results/results_2022_09_05_21_57_44/quast.log\n",
      "\n",
      "Finished: 2022-09-05 21:58:38\n",
      "Elapsed time: 0:00:02.861602\n",
      "NOTICEs: 3; WARNINGs: 0; non-fatal ERRORs: 0\n",
      "\n",
      "Thank you for using QUAST!\n",
      "\n",
      "real\t0m54.791s\n",
      "user\t0m43.555s\n",
      "sys\t0m8.038s\n"
     ]
    }
   ],
   "source": [
    "time metaquast.py ../../ASSEMBLY/FLYE/out_flye/assembly.fasta --silent"
   ]
  },
  {
   "cell_type": "markdown",
   "id": "87c82cc7-0adf-4a7a-be46-fedb8fbfd051",
   "metadata": {},
   "source": [
    "**Observe QUAST output**"
   ]
  },
  {
   "cell_type": "code",
   "execution_count": 6,
   "id": "28bf107d-6c5e-4773-8d76-f5c8c18a637a",
   "metadata": {
    "tags": []
   },
   "outputs": [
    {
     "name": "stdout",
     "output_type": "stream",
     "text": [
      "All statistics are based on contigs of size >= 500 bp, unless otherwise noted (e.g., \"# contigs (>= 0 bp)\" and \"Total length (>= 0 bp)\" include all contigs).\n",
      "\n",
      "Assembly                    assembly\n",
      "# contigs (>= 0 bp)         32      \n",
      "# contigs (>= 1000 bp)      32      \n",
      "# contigs (>= 5000 bp)      3       \n",
      "# contigs (>= 10000 bp)     0       \n",
      "# contigs (>= 25000 bp)     0       \n",
      "# contigs (>= 50000 bp)     0       \n",
      "Total length (>= 0 bp)      89929   \n",
      "Total length (>= 1000 bp)   89929   \n",
      "Total length (>= 5000 bp)   20138   \n",
      "Total length (>= 10000 bp)  0       \n",
      "Total length (>= 25000 bp)  0       \n",
      "Total length (>= 50000 bp)  0       \n",
      "# contigs                   32      \n",
      "Largest contig              7608    \n",
      "Total length                89929   \n",
      "GC (%)                      45.28   \n",
      "N50                         2455    \n",
      "N90                         2144    \n",
      "auN                         3444.4  \n",
      "L50                         12      \n",
      "L90                         28      \n",
      "# N's per 100 kbp           0.00    \n"
     ]
    }
   ],
   "source": [
    "head -25 quast_results/latest/report.txt"
   ]
  },
  {
   "cell_type": "markdown",
   "id": "a204b04b-2ece-4065-912a-7bb8191a6571",
   "metadata": {},
   "source": [
    "#### <span style=\"color: #4CACBC;\"> 1.2.2. CheckV<a class=\"anchor\" id=\"checkv\"> </span>"
   ]
  },
  {
   "cell_type": "markdown",
   "id": "1306beba-0124-4eee-9e8c-3b592170adaf",
   "metadata": {},
   "source": [
    "CheckV assesses the quality and completeness of metagenome-assembled viral genomes"
   ]
  },
  {
   "cell_type": "code",
   "execution_count": 7,
   "id": "24607e88-ce63-428f-b733-37ec3000f362",
   "metadata": {
    "tags": []
   },
   "outputs": [
    {
     "name": "stdout",
     "output_type": "stream",
     "text": [
      "CheckV v0.9.0: assessing the quality of metagenome-assembled viral genomes\n",
      "https://bitbucket.org/berkeleylab/checkv\n",
      "\n",
      "usage: checkv <program> [options]\n",
      "\n",
      "programs:\n",
      "    end_to_end          run full pipeline to estimate completeness, contamination, and identify closed genomes\n",
      "    contamination       identify and remove host contamination on integrated proviruses\n",
      "    completeness        estimate completeness for genome fragments\n",
      "    complete_genomes    identify complete genomes based on terminal repeats and flanking host regions\n",
      "    quality_summary     summarize results across modules\n",
      "    download_database   download the latest version of CheckV's database\n",
      "    update_database     update CheckV's database with your own complete genomes\n",
      "\n",
      "optional arguments:\n",
      "  -h, --help  show this help message and exit\n"
     ]
    }
   ],
   "source": [
    "checkv --help"
   ]
  },
  {
   "cell_type": "code",
   "execution_count": 8,
   "id": "0627c26e-ab3b-4739-ab33-a18119aa5bae",
   "metadata": {
    "tags": []
   },
   "outputs": [
    {
     "name": "stdout",
     "output_type": "stream",
     "text": [
      "\n",
      "CheckV v0.9.0: download_database\n",
      "[1/4] Checking latest version of CheckV's database...\n",
      "[2/4] Downloading 'checkv-db-v1.4'...\n",
      "[3/4] Extracting 'checkv-db-v1.4'...\n",
      "[4/4] Building DIAMOND database...\n",
      "Run time: 223.36 seconds\n",
      "Peak mem: 1.28 GB\n",
      "\n",
      "real\t3m43.798s\n",
      "user\t1m55.478s\n",
      "sys\t0m27.053s\n"
     ]
    }
   ],
   "source": [
    "# download database\n",
    "time checkv download_database ./"
   ]
  },
  {
   "cell_type": "code",
   "execution_count": 11,
   "id": "6e906f5c-1203-46f4-9065-29b6a5e1c6a7",
   "metadata": {},
   "outputs": [],
   "source": [
    "export CHECKVDB=~/work/SG-ONT-2022/ASSEMBLY/FLYE/checkv-db-v1.4"
   ]
  },
  {
   "cell_type": "code",
   "execution_count": 12,
   "id": "c68ba133-c390-4179-8e4c-56b835e863f1",
   "metadata": {
    "tags": []
   },
   "outputs": [
    {
     "name": "stdout",
     "output_type": "stream",
     "text": [
      "\n",
      "CheckV v0.9.0: contamination\n",
      "[1/8] Reading database info...\n",
      "[2/8] Reading genome info...\n",
      "[3/8] Calling genes with Prodigal...\n",
      "[4/8] Reading gene info...\n",
      "[5/8] Running hmmsearch...\n",
      "[6/8] Annotating genes...\n",
      "[7/8] Identifying host regions...\n",
      "[8/8] Writing results...\n",
      "Run time: 88.41 seconds\n",
      "Peak mem: 0.22 GB\n",
      "\n",
      "CheckV v0.9.0: completeness\n",
      "[1/8] Skipping gene calling...\n",
      "[2/8] Initializing queries and database...\n",
      "[3/8] Running DIAMOND blastp search...\n",
      "[4/8] Computing AAI...\n",
      "[5/8] Running AAI based completeness estimation...\n",
      "[6/8] Running HMM based completeness estimation...\n",
      "[7/8] Determining genome copy number...\n",
      "[8/8] Writing results...\n",
      "Run time: 34.59 seconds\n",
      "Peak mem: 1.47 GB\n",
      "\n",
      "CheckV v0.9.0: complete_genomes\n",
      "[1/7] Reading input sequences...\n",
      "[2/7] Finding complete proviruses...\n",
      "[3/7] Finding direct/inverted terminal repeats...\n",
      "[4/7] Filtering terminal repeats...\n",
      "[5/7] Checking genome for completeness...\n",
      "[6/7] Checking genome for large duplications...\n",
      "[7/7] Writing results...\n",
      "Run time: 0.01 seconds\n",
      "Peak mem: 1.47 GB\n",
      "\n",
      "CheckV v0.9.0: quality_summary\n",
      "[1/6] Reading input sequences...\n",
      "[2/6] Reading results from contamination module...\n",
      "[3/6] Reading results from completeness module...\n",
      "[4/6] Reading results from complete genomes module...\n",
      "[5/6] Classifying contigs into quality tiers...\n",
      "[6/6] Writing results...\n",
      "Run time: 0.0 seconds\n",
      "Peak mem: 1.47 GB\n",
      "\n",
      "real\t2m3.618s\n",
      "user\t1m52.466s\n",
      "sys\t0m10.987s\n"
     ]
    }
   ],
   "source": [
    "time checkv end_to_end out_flye/assembly.fasta output_checkv"
   ]
  },
  {
   "cell_type": "markdown",
   "id": "4586b9e6-6123-45d4-acbc-3496b74b494d",
   "metadata": {},
   "source": [
    "**observe the different output files**\n",
    "\n",
    "Is there any interresting high-quality viral contig?"
   ]
  },
  {
   "cell_type": "markdown",
   "id": "4af993a3-081c-430c-ae15-5f6216b74d36",
   "metadata": {},
   "source": [
    "Contig_31 seems to be of high quality, viral and has a size of 6877 nucleotides."
   ]
  },
  {
   "cell_type": "markdown",
   "id": "0dcccf6f-5e34-48ad-8256-974751a3ac0a",
   "metadata": {},
   "source": [
    "### <span style=\"color: #4CACBC;\"> 1.3. Polishing of the meta-assembly <a class=\"anchor\" id=\"polish\"> </span>"
   ]
  },
  {
   "cell_type": "markdown",
   "id": "0bd19fb9-9a48-4eae-8036-81c978522771",
   "metadata": {},
   "source": [
    "Medaka is a tool to create a consensus sequence of nanopore sequencing data. This task is performed using neural networks applied a pileup of individual sequencing reads against a draft assembly. It outperforms graph-based methods operating on basecalled data, and can be competitive with state-of-the-art signal-based methods whilst being much faster.\n",
    "\n",
    "https://denbi-nanopore-training-course.readthedocs.io/en/latest/polishing/medaka/medaka.html"
   ]
  },
  {
   "cell_type": "code",
   "execution_count": 13,
   "id": "65dcfda4-7089-42e4-8487-46a7d75da008",
   "metadata": {},
   "outputs": [],
   "source": [
    "# create working repository\n",
    "mkdir -p ~/work/SG-ONT-2022/ASSEMBLY/MEDAKA\n",
    "cd ~/work/SG-ONT-2022/ASSEMBLY/MEDAKA"
   ]
  },
  {
   "cell_type": "code",
   "execution_count": 14,
   "id": "27390f5b-b437-454c-8b0f-6e14b633c644",
   "metadata": {},
   "outputs": [
    {
     "name": "stdout",
     "output_type": "stream",
     "text": [
      "\n",
      "medaka 1.6.1\n",
      "------------\n",
      "\n",
      "Assembly polishing via neural networks. Medaka is optimized\n",
      "to work with the Flye assembler.\n",
      "\n",
      "medaka_consensus [-h] -i <fastx> -d <fasta>\n",
      "\n",
      "    -h  show this help text.\n",
      "    -i  fastx input basecalls (required).\n",
      "    -d  fasta input assembly (required).\n",
      "    -o  output folder (default: medaka).\n",
      "    -g  don't fill gaps in consensus with draft sequence.\n",
      "    -m  medaka model, (default: r941_min_hac_g507).\n",
      "        Choices: r103_fast_g507 r103_hac_g507 r103_min_high_g345 r103_min_high_g360 r103_prom_high_g360 r103_sup_g507 r1041_e82_400bps_fast_g615 r1041_e82_400bps_hac_g615 r1041_e82_400bps_sup_g615 r104_e81_fast_g5015 r104_e81_hac_g5015 r104_e81_sup_g5015 r104_e81_sup_g610 r10_min_high_g303 r10_min_high_g340 r941_e81_fast_g514 r941_e81_hac_g514 r941_e81_sup_g514 r941_min_fast_g303 r941_min_fast_g507 r941_min_hac_g507 r941_min_high_g303 r941_min_high_g330 r941_min_high_g340_rle r941_min_high_g344 r941_min_high_g351 r941_min_high_g360 r941_min_sup_g507 r941_prom_fast_g303 r941_prom_fast_g507 r941_prom_hac_g507 r941_prom_high_g303 r941_prom_high_g330 r941_prom_high_g344 r941_prom_high_g360 r941_prom_high_g4011 r941_prom_sup_g507 r941_sup_plant_g610\n",
      "        Alternatively a .tar.gz/.hdf file from 'medaka train'.\n",
      "    -f  Force overwrite of outputs (default will reuse existing outputs).\n",
      "    -x  Force recreation of alignment index.\n",
      "    -t  number of threads with which to create features (default: 1).\n",
      "    -b  batchsize, controls memory use (default: 100).\n"
     ]
    }
   ],
   "source": [
    "medaka_consensus -h"
   ]
  },
  {
   "cell_type": "code",
   "execution_count": 15,
   "id": "441a5c42-b15f-43fc-b90f-f8eb0e329b93",
   "metadata": {
    "tags": []
   },
   "outputs": [
    {
     "name": "stdout",
     "output_type": "stream",
     "text": [
      "(medaka) Checking program versions\n",
      "This is medaka 1.6.1\n",
      "Program    Version    Required   Pass     \n",
      "bcftools   1.15.1     1.11       True     \n",
      "bgzip      1.15.1     1.11       True     \n",
      "minimap2   2.24       2.11       True     \n",
      "samtools   1.15.1     1.11       True     \n",
      "tabix      1.15.1     1.11       True     \n",
      "Aligning basecalls to draft\n",
      "Creating fai index file /home/jovyan/work/SG-ONT-2022/ASSEMBLY/FLYE/out_flye/assembly.fasta.fai\n",
      "Creating mmi index file /home/jovyan/work/SG-ONT-2022/ASSEMBLY/FLYE/out_flye/assembly.fasta.map-ont.mmi\n",
      "[M::mm_idx_gen::0.011*1.25] collected minimizers\n",
      "[M::mm_idx_gen::0.016*1.76] sorted minimizers\n",
      "[M::main::0.021*1.58] loaded/built the index for 32 target sequence(s)\n",
      "[M::mm_idx_stat] kmer size: 15; skip: 10; is_hpc: 0; #seq: 32\n",
      "[M::mm_idx_stat::0.022*1.55] distinct minimizers: 15028 (92.42% are singletons); average occurrences: 1.174; average spacing: 5.097; total length: 89929\n",
      "[M::main] Version: 2.24-r1122\n",
      "[M::main] CMD: minimap2 -I 16G -x map-ont -d /home/jovyan/work/SG-ONT-2022/ASSEMBLY/FLYE/out_flye/assembly.fasta.map-ont.mmi /home/jovyan/work/SG-ONT-2022/ASSEMBLY/FLYE/out_flye/assembly.fasta\n",
      "[M::main] Real time: 0.026 sec; CPU: 0.038 sec; Peak RSS: 0.005 GB\n",
      "[M::main::0.009*1.27] loaded/built the index for 32 target sequence(s)\n",
      "[M::mm_mapopt_update::0.010*1.24] mid_occ = 101\n",
      "[M::mm_idx_stat] kmer size: 15; skip: 10; is_hpc: 0; #seq: 32\n",
      "[M::mm_idx_stat::0.011*1.22] distinct minimizers: 15028 (92.42% are singletons); average occurrences: 1.174; average spacing: 5.097; total length: 89929\n",
      "[M::worker_pipeline::156.693*0.97] mapped 406090 sequences\n",
      "[M::main] Version: 2.24-r1122\n",
      "[M::main] CMD: minimap2 -x map-ont --secondary=no -L --MD -A 2 -B 4 -O 4,24 -E 2,1 -t 1 -a /home/jovyan/work/SG-ONT-2022/ASSEMBLY/FLYE/out_flye/assembly.fasta.map-ont.mmi /home/jovyan/work/SG-ONT-2022/CLEANING/reads_vs_ananas_unmapped.fastq\n",
      "[M::main] Real time: 156.703 sec; CPU: 152.462 sec; Peak RSS: 0.474 GB\n",
      "Running medaka consensus\n",
      "[07:47:56 - Predict] Setting tensorflow inter/intra-op threads to 1/1.\n",
      "[07:47:56 - Predict] Processing region(s): contig_1:0-6937 contig_10:0-2449 contig_11:0-2144 contig_12:0-2214 contig_13:0-2727 contig_14:0-7608 contig_15:0-2293 contig_16:0-1966 contig_17:0-2436 contig_18:0-2388 contig_19:0-2408 contig_2:0-3899 contig_20:0-2817 contig_21:0-2196 contig_22:0-1914 contig_23:0-2452 contig_24:0-2164 contig_25:0-2246 contig_26:0-2358 contig_27:0-2230 contig_28:0-2282 contig_29:0-2992 contig_3:0-2534 contig_30:0-1884 contig_31:0-2859 contig_32:0-5593 contig_4:0-2359 contig_5:0-2326 contig_6:0-1777 contig_7:0-2455 contig_8:0-2497 contig_9:0-2525\n",
      "[07:47:56 - Predict] Using model: /opt/conda/envs/medaka/lib/python3.8/site-packages/medaka/data/r941_prom_sup_g507_model.tar.gz.\n",
      "[07:47:56 - Predict] Processing 32 long region(s) with batching.\n",
      "[07:47:58 - MdlStrTF] Model <tensorflow.python.keras.engine.sequential.Sequential object at 0x7fa8ee3d8790>\n",
      "[07:47:58 - MdlStrTF] loading weights from /tmp/tmp91d0dieg/model/variables/variables\n",
      "[07:47:58 - BAMFile] Creating pool of 16 BAM file sets.\n",
      "[07:47:58 - Sampler] Initializing sampler for consensus of region contig_1:0-6937.\n",
      "[07:47:58 - Sampler] Initializing sampler for consensus of region contig_10:0-2449.\n",
      "[07:47:58 - PWorker] Running inference for 0.1M draft bases.\n",
      "[07:47:58 - Feature] Processed contig_10:0.0-2448.0 (median depth 27.0)\n",
      "[07:47:58 - Sampler] Took 0.33s to make features.\n",
      "[07:47:58 - Sampler] Region contig_10:0.0-2448.0 (3506 positions) is smaller than inference chunk length 10000, quarantining.\n",
      "[07:47:58 - Sampler] Initializing sampler for consensus of region contig_11:0-2144.\n",
      "[07:47:58 - Feature] Processed contig_11:0.0-2143.0 (median depth 13.0)\n",
      "[07:47:58 - Sampler] Took 0.34s to make features.\n",
      "[07:47:58 - Sampler] Region contig_11:0.0-2143.0 (2551 positions) is smaller than inference chunk length 10000, quarantining.\n",
      "[07:47:58 - Sampler] Initializing sampler for consensus of region contig_12:0-2214.\n",
      "[07:47:59 - Feature] Processed contig_12:0.0-2213.0 (median depth 23.0)\n",
      "[07:47:59 - Sampler] Took 0.27s to make features.\n",
      "[07:47:59 - Sampler] Region contig_12:0.0-2213.0 (2946 positions) is smaller than inference chunk length 10000, quarantining.\n",
      "[07:47:59 - Sampler] Initializing sampler for consensus of region contig_13:0-2727.\n",
      "[07:47:59 - Feature] Processed contig_13:0.0-2726.0 (median depth 4.0)\n",
      "[07:47:59 - Sampler] Took 0.25s to make features.\n",
      "[07:47:59 - Sampler] Region contig_13:0.0-2726.0 (3128 positions) is smaller than inference chunk length 10000, quarantining.\n",
      "[07:47:59 - Sampler] Initializing sampler for consensus of region contig_14:0-7608.\n",
      "[07:47:59 - Feature] Processed contig_1:0.0-6936.0 (median depth 921.0)\n",
      "[07:47:59 - Sampler] Took 1.39s to make features.\n",
      "[07:47:59 - Sampler] Initializing sampler for consensus of region contig_15:0-2293.\n",
      "[07:47:59 - Feature] Processed contig_15:0.0-2292.0 (median depth 4.0)\n",
      "[07:47:59 - Sampler] Took 0.33s to make features.\n",
      "[07:47:59 - Sampler] Region contig_15:0.0-2292.0 (2399 positions) is smaller than inference chunk length 10000, quarantining.\n",
      "[07:47:59 - Sampler] Initializing sampler for consensus of region contig_16:0-1966.\n",
      "[07:48:00 - Feature] Processed contig_14:0.0-7607.0 (median depth 137.0)\n",
      "[07:48:00 - Sampler] Took 0.72s to make features.\n",
      "[07:48:00 - Sampler] Initializing sampler for consensus of region contig_17:0-2436.\n",
      "[07:48:00 - Feature] Processed contig_17:0.0-2435.0 (median depth 22.0)\n",
      "[07:48:00 - Sampler] Took 0.53s to make features.\n",
      "[07:48:00 - Sampler] Region contig_17:0.0-2435.0 (3181 positions) is smaller than inference chunk length 10000, quarantining.\n",
      "[07:48:00 - Sampler] Initializing sampler for consensus of region contig_18:0-2388.\n",
      "[07:48:01 - Feature] Processed contig_18:0.0-2387.0 (median depth 3.0)\n",
      "[07:48:01 - Sampler] Took 0.46s to make features.\n",
      "[07:48:01 - Sampler] Region contig_18:0.0-2387.0 (2518 positions) is smaller than inference chunk length 10000, quarantining.\n",
      "[07:48:01 - Sampler] Initializing sampler for consensus of region contig_19:0-2408.\n",
      "[07:48:01 - Feature] Processed contig_16:0.0-1965.0 (median depth 583.0)\n",
      "[07:48:01 - Sampler] Took 1.35s to make features.\n",
      "[07:48:01 - Sampler] Initializing sampler for consensus of region contig_2:0-3899.\n",
      "[07:48:01 - Feature] Processed contig_19:0.0-2407.0 (median depth 7.0)\n",
      "[07:48:01 - Sampler] Took 0.16s to make features.\n",
      "[07:48:01 - Sampler] Region contig_19:0.0-2407.0 (2653 positions) is smaller than inference chunk length 10000, quarantining.\n",
      "[07:48:01 - Sampler] Initializing sampler for consensus of region contig_20:0-2817.\n",
      "[07:48:01 - Feature] Processed contig_2:0.0-3898.0 (median depth 13.0)\n",
      "[07:48:01 - Sampler] Took 0.17s to make features.\n",
      "[07:48:01 - Sampler] Region contig_2:0.0-3898.0 (4308 positions) is smaller than inference chunk length 10000, quarantining.\n",
      "[07:48:01 - Sampler] Initializing sampler for consensus of region contig_21:0-2196.\n",
      "[07:48:01 - Feature] Processed contig_21:0.0-2195.0 (median depth 9.0)\n",
      "[07:48:01 - Sampler] Took 0.14s to make features.\n",
      "[07:48:01 - Sampler] Region contig_21:0.0-2195.0 (2469 positions) is smaller than inference chunk length 10000, quarantining.\n",
      "[07:48:01 - Sampler] Initializing sampler for consensus of region contig_22:0-1914.\n",
      "[07:48:01 - Feature] Processed contig_20:0.0-2816.0 (median depth 10.0)\n",
      "[07:48:01 - Sampler] Took 0.20s to make features.\n",
      "[07:48:01 - Sampler] Region contig_20:0.0-2816.0 (3312 positions) is smaller than inference chunk length 10000, quarantining.\n",
      "[07:48:01 - Sampler] Initializing sampler for consensus of region contig_23:0-2452.\n",
      "[07:48:01 - Feature] Processed contig_23:0.0-2451.0 (median depth 136.0)\n",
      "[07:48:01 - Sampler] Took 0.15s to make features.\n",
      "[07:48:01 - Sampler] Region contig_23:0.0-2451.0 (4634 positions) is smaller than inference chunk length 10000, quarantining.\n",
      "[07:48:01 - Sampler] Initializing sampler for consensus of region contig_24:0-2164.\n",
      "[07:48:01 - Feature] Processed contig_22:0.0-1913.0 (median depth 280.0)\n",
      "[07:48:01 - Sampler] Took 0.21s to make features.\n",
      "[07:48:01 - Sampler] Region contig_22:0.0-1913.0 (8842 positions) is smaller than inference chunk length 10000, quarantining.\n",
      "[07:48:01 - Sampler] Initializing sampler for consensus of region contig_25:0-2246.\n",
      "[07:48:01 - Feature] Processed contig_25:0.0-2245.0 (median depth 9.0)\n",
      "[07:48:01 - Sampler] Took 0.08s to make features.\n",
      "[07:48:01 - Sampler] Region contig_25:0.0-2245.0 (2613 positions) is smaller than inference chunk length 10000, quarantining.\n",
      "[07:48:01 - Sampler] Initializing sampler for consensus of region contig_26:0-2358.\n",
      "[07:48:01 - Feature] Processed contig_26:0.0-2357.0 (median depth 90.0)\n",
      "[07:48:01 - Sampler] Took 0.11s to make features.\n",
      "[07:48:01 - Sampler] Region contig_26:0.0-2357.0 (3693 positions) is smaller than inference chunk length 10000, quarantining.\n",
      "[07:48:01 - Sampler] Initializing sampler for consensus of region contig_27:0-2230.\n",
      "[07:48:02 - Feature] Processed contig_24:0.0-2163.0 (median depth 158.0)\n",
      "[07:48:02 - Sampler] Took 0.30s to make features.\n",
      "[07:48:02 - Sampler] Region contig_24:0.0-2163.0 (6224 positions) is smaller than inference chunk length 10000, quarantining.\n",
      "[07:48:02 - Sampler] Initializing sampler for consensus of region contig_28:0-2282.\n",
      "[07:48:02 - Feature] Processed contig_27:0.0-2229.0 (median depth 63.0)\n",
      "[07:48:02 - Sampler] Took 0.21s to make features.\n",
      "[07:48:02 - Sampler] Region contig_27:0.0-2229.0 (3489 positions) is smaller than inference chunk length 10000, quarantining.\n",
      "[07:48:02 - Sampler] Initializing sampler for consensus of region contig_29:0-2992.\n",
      "[07:48:02 - Feature] Processed contig_28:0.0-2281.0 (median depth 7.0)\n",
      "[07:48:02 - Sampler] Took 0.24s to make features.\n",
      "[07:48:02 - Sampler] Region contig_28:0.0-2281.0 (2687 positions) is smaller than inference chunk length 10000, quarantining.\n",
      "[07:48:02 - Sampler] Initializing sampler for consensus of region contig_3:0-2534.\n",
      "[07:48:02 - Feature] Processed contig_29:0.0-2991.0 (median depth 177.0)\n",
      "[07:48:02 - Sampler] Took 0.28s to make features.\n",
      "[07:48:02 - Sampler] Region contig_29:0.0-2991.0 (5886 positions) is smaller than inference chunk length 10000, quarantining.\n",
      "[07:48:02 - Sampler] Initializing sampler for consensus of region contig_30:0-1884.\n",
      "[07:48:02 - Feature] Processed contig_3:0.0-2533.0 (median depth 71.0)\n",
      "[07:48:02 - Sampler] Took 0.29s to make features.\n",
      "[07:48:02 - Sampler] Region contig_3:0.0-2533.0 (4133 positions) is smaller than inference chunk length 10000, quarantining.\n",
      "[07:48:02 - Sampler] Initializing sampler for consensus of region contig_31:0-2859.\n",
      "[07:48:02 - Feature] Processed contig_30:0.0-1883.0 (median depth 10.0)\n",
      "[07:48:02 - Sampler] Took 0.21s to make features.\n",
      "[07:48:02 - Sampler] Region contig_30:0.0-1883.0 (2237 positions) is smaller than inference chunk length 10000, quarantining.\n",
      "[07:48:02 - Sampler] Initializing sampler for consensus of region contig_32:0-5593.\n",
      "[07:48:02 - Feature] Processed contig_31:0.0-2858.0 (median depth 55.0)\n",
      "[07:48:02 - Sampler] Took 0.22s to make features.\n",
      "[07:48:02 - Sampler] Region contig_31:0.0-2858.0 (4179 positions) is smaller than inference chunk length 10000, quarantining.\n",
      "[07:48:02 - Sampler] Initializing sampler for consensus of region contig_4:0-2359.\n",
      "[07:48:02 - Feature] Processed contig_32:0.0-5592.0 (median depth 102.0)\n",
      "[07:48:02 - Sampler] Took 0.23s to make features.\n",
      "[07:48:02 - Sampler] Initializing sampler for consensus of region contig_5:0-2326.\n",
      "[07:48:02 - Feature] Processed contig_4:0.0-2358.0 (median depth 18.0)\n",
      "[07:48:02 - Sampler] Took 0.17s to make features.\n",
      "[07:48:02 - Sampler] Region contig_4:0.0-2358.0 (2957 positions) is smaller than inference chunk length 10000, quarantining.\n",
      "[07:48:02 - Sampler] Initializing sampler for consensus of region contig_6:0-1777.\n",
      "[07:48:03 - Feature] Processed contig_5:0.0-2325.0 (median depth 550.0)\n",
      "[07:48:03 - Sampler] Took 0.33s to make features.\n",
      "[07:48:03 - Sampler] Region contig_5:0.0-2325.0 (5514 positions) is smaller than inference chunk length 10000, quarantining.\n",
      "[07:48:03 - Sampler] Initializing sampler for consensus of region contig_7:0-2455.\n",
      "[07:48:03 - Feature] Processed contig_6:0.0-1776.0 (median depth 101.0)\n",
      "[07:48:03 - Sampler] Took 0.29s to make features.\n",
      "[07:48:03 - Sampler] Region contig_6:0.0-1776.0 (3081 positions) is smaller than inference chunk length 10000, quarantining.\n",
      "[07:48:03 - Sampler] Initializing sampler for consensus of region contig_8:0-2497.\n",
      "[07:48:03 - Feature] Processed contig_8:0.0-2496.0 (median depth 21.0)\n",
      "[07:48:03 - Sampler] Took 0.11s to make features.\n",
      "[07:48:03 - Sampler] Region contig_8:0.0-2496.0 (3212 positions) is smaller than inference chunk length 10000, quarantining.\n",
      "[07:48:03 - Sampler] Initializing sampler for consensus of region contig_9:0-2525.\n",
      "[07:48:03 - Feature] Processed contig_7:0.0-2454.0 (median depth 1251.0)\n",
      "[07:48:03 - Sampler] Took 0.45s to make features.\n",
      "[07:48:03 - Feature] Processed contig_9:0.0-2524.0 (median depth 9.0)\n",
      "[07:48:03 - Sampler] Took 0.46s to make features.\n",
      "[07:48:03 - Sampler] Region contig_9:0.0-2524.0 (5136 positions) is smaller than inference chunk length 10000, quarantining.\n",
      "[07:48:15 - PWorker] Batches in cache: 1.\n",
      "[07:48:15 - PWorker] 36.3% Done (0.0/0.1 Mbases) in 17.2s\n",
      "[07:48:15 - PWorker] Processed 1 batches\n",
      "[07:48:15 - PWorker] All done, 27 remainder regions.\n",
      "[07:48:15 - Predict] Processing 27 short region(s).\n",
      "[07:48:16 - MdlStrTF] Model <tensorflow.python.keras.engine.sequential.Sequential object at 0x7fa8980f2760>\n",
      "[07:48:16 - MdlStrTF] loading weights from /tmp/tmp91d0dieg/model/variables/variables\n",
      "[07:48:16 - Sampler] Initializing sampler for consensus of region contig_10:0-2449.\n",
      "[07:48:16 - Sampler] Initializing sampler for consensus of region contig_11:0-2144.\n",
      "[07:48:16 - PWorker] Running inference for 0.1M draft bases.\n",
      "[07:48:17 - Feature] Processed contig_11:0.0-2143.0 (median depth 13.0)\n",
      "[07:48:17 - Sampler] Took 0.55s to make features.\n",
      "[07:48:17 - Sampler] Initializing sampler for consensus of region contig_12:0-2214.\n",
      "[07:48:17 - Feature] Processed contig_10:0.0-2448.0 (median depth 27.0)\n",
      "[07:48:17 - Sampler] Took 0.56s to make features.\n",
      "[07:48:17 - Sampler] Initializing sampler for consensus of region contig_13:0-2727.\n",
      "[07:48:17 - Feature] Processed contig_13:0.0-2726.0 (median depth 4.0)\n",
      "[07:48:17 - Sampler] Took 0.07s to make features.\n",
      "[07:48:17 - Sampler] Initializing sampler for consensus of region contig_15:0-2293.\n",
      "[07:48:17 - Feature] Processed contig_12:0.0-2213.0 (median depth 23.0)\n",
      "[07:48:17 - Sampler] Took 0.10s to make features.\n",
      "[07:48:17 - Sampler] Initializing sampler for consensus of region contig_17:0-2436.\n",
      "[07:48:17 - Feature] Processed contig_15:0.0-2292.0 (median depth 4.0)\n",
      "[07:48:17 - Sampler] Took 0.06s to make features.\n",
      "[07:48:17 - Sampler] Initializing sampler for consensus of region contig_18:0-2388.\n",
      "[07:48:17 - Feature] Processed contig_17:0.0-2435.0 (median depth 22.0)\n",
      "[07:48:17 - Sampler] Took 0.10s to make features.\n",
      "[07:48:17 - Sampler] Initializing sampler for consensus of region contig_19:0-2408.\n",
      "[07:48:17 - Feature] Processed contig_18:0.0-2387.0 (median depth 3.0)\n",
      "[07:48:17 - Sampler] Took 0.09s to make features.\n",
      "[07:48:17 - Sampler] Initializing sampler for consensus of region contig_2:0-3899.\n",
      "[07:48:17 - Feature] Processed contig_19:0.0-2407.0 (median depth 7.0)\n",
      "[07:48:17 - Sampler] Took 0.08s to make features.\n",
      "[07:48:17 - Sampler] Initializing sampler for consensus of region contig_21:0-2196.\n",
      "[07:48:17 - Feature] Processed contig_2:0.0-3898.0 (median depth 13.0)\n",
      "[07:48:17 - Sampler] Took 0.12s to make features.\n",
      "[07:48:17 - Sampler] Initializing sampler for consensus of region contig_20:0-2817.\n",
      "[07:48:17 - Feature] Processed contig_21:0.0-2195.0 (median depth 9.0)\n",
      "[07:48:17 - Sampler] Took 0.07s to make features.\n",
      "[07:48:17 - Sampler] Initializing sampler for consensus of region contig_23:0-2452.\n",
      "[07:48:17 - Feature] Processed contig_23:0.0-2451.0 (median depth 136.0)\n",
      "[07:48:17 - Sampler] Took 0.04s to make features.\n",
      "[07:48:17 - Sampler] Initializing sampler for consensus of region contig_22:0-1914.\n",
      "[07:48:17 - Feature] Processed contig_20:0.0-2816.0 (median depth 10.0)\n",
      "[07:48:17 - Sampler] Took 0.07s to make features.\n",
      "[07:48:17 - Sampler] Initializing sampler for consensus of region contig_25:0-2246.\n",
      "[07:48:17 - Feature] Processed contig_25:0.0-2245.0 (median depth 9.0)\n",
      "[07:48:17 - Sampler] Took 0.01s to make features.\n",
      "[07:48:17 - Sampler] Initializing sampler for consensus of region contig_26:0-2358.\n",
      "[07:48:17 - Feature] Processed contig_22:0.0-1913.0 (median depth 280.0)\n",
      "[07:48:17 - Sampler] Took 0.02s to make features.\n",
      "[07:48:17 - Sampler] Initializing sampler for consensus of region contig_24:0-2164.\n",
      "[07:48:17 - Feature] Processed contig_26:0.0-2357.0 (median depth 90.0)\n",
      "[07:48:17 - Sampler] Took 0.03s to make features.\n",
      "[07:48:17 - Sampler] Initializing sampler for consensus of region contig_27:0-2230.\n",
      "[07:48:17 - Feature] Processed contig_27:0.0-2229.0 (median depth 63.0)\n",
      "[07:48:17 - Sampler] Took 0.02s to make features.\n",
      "[07:48:17 - Sampler] Initializing sampler for consensus of region contig_28:0-2282.\n",
      "[07:48:17 - Feature] Processed contig_28:0.0-2281.0 (median depth 7.0)\n",
      "[07:48:17 - Sampler] Took 0.01s to make features.\n",
      "[07:48:17 - Sampler] Initializing sampler for consensus of region contig_29:0-2992.\n",
      "[07:48:18 - Feature] Processed contig_29:0.0-2991.0 (median depth 177.0)\n",
      "[07:48:18 - Sampler] Took 0.05s to make features.\n",
      "[07:48:18 - Sampler] Initializing sampler for consensus of region contig_3:0-2534.\n",
      "[07:48:18 - Feature] Processed contig_24:0.0-2163.0 (median depth 158.0)\n",
      "[07:48:18 - Sampler] Took 0.10s to make features.\n",
      "[07:48:18 - Feature] Processed contig_3:0.0-2533.0 (median depth 71.0)\n",
      "[07:48:18 - Sampler] Took 0.02s to make features.\n",
      "[07:48:28 - PWorker] Batches in cache: 8.\n",
      "[07:48:28 - PWorker] 2.0% Done (0.0/0.1 Mbases) in 11.3s\n",
      "[07:48:28 - Sampler] Initializing sampler for consensus of region contig_30:0-1884.\n",
      "[07:48:28 - Feature] Processed contig_30:0.0-1883.0 (median depth 10.0)\n",
      "[07:48:28 - Sampler] Took 0.01s to make features.\n",
      "[07:48:43 - PWorker] Batches in cache: 8.\n",
      "[07:48:43 - PWorker] 4.6% Done (0.0/0.1 Mbases) in 27.0s\n",
      "[07:48:43 - Sampler] Initializing sampler for consensus of region contig_31:0-2859.\n",
      "[07:48:43 - Feature] Processed contig_31:0.0-2858.0 (median depth 55.0)\n",
      "[07:48:43 - Sampler] Took 0.03s to make features.\n",
      "[07:48:57 - PWorker] Batches in cache: 8.\n",
      "[07:48:57 - PWorker] 7.3% Done (0.0/0.1 Mbases) in 40.3s\n",
      "[07:48:57 - Sampler] Initializing sampler for consensus of region contig_4:0-2359.\n",
      "[07:48:57 - Feature] Processed contig_4:0.0-2358.0 (median depth 18.0)\n",
      "[07:48:57 - Sampler] Took 0.02s to make features.\n",
      "[07:49:09 - PWorker] Batches in cache: 8.\n",
      "[07:49:09 - PWorker] 9.6% Done (0.0/0.1 Mbases) in 52.7s\n",
      "[07:49:09 - Sampler] Initializing sampler for consensus of region contig_5:0-2326.\n",
      "[07:49:09 - Feature] Processed contig_5:0.0-2325.0 (median depth 550.0)\n",
      "[07:49:09 - Sampler] Took 0.09s to make features.\n",
      "[07:49:20 - PWorker] Batches in cache: 8.\n",
      "[07:49:20 - PWorker] 11.7% Done (0.0/0.1 Mbases) in 63.1s\n",
      "[07:49:20 - Sampler] Initializing sampler for consensus of region contig_6:0-1777.\n",
      "[07:49:20 - Feature] Processed contig_6:0.0-1776.0 (median depth 101.0)\n",
      "[07:49:20 - Sampler] Took 0.02s to make features.\n",
      "[07:49:34 - PWorker] Batches in cache: 8.\n",
      "[07:49:34 - PWorker] 14.1% Done (0.0/0.1 Mbases) in 77.1s\n",
      "[07:49:34 - Sampler] Initializing sampler for consensus of region contig_8:0-2497.\n",
      "[07:49:34 - Feature] Processed contig_8:0.0-2496.0 (median depth 21.0)\n",
      "[07:49:34 - Sampler] Took 0.01s to make features.\n",
      "[07:49:45 - PWorker] Batches in cache: 8.\n",
      "[07:49:45 - PWorker] 16.2% Done (0.0/0.1 Mbases) in 88.6s\n",
      "[07:49:45 - Sampler] Initializing sampler for consensus of region contig_9:0-2525.\n",
      "[07:49:45 - Feature] Processed contig_9:0.0-2524.0 (median depth 9.0)\n",
      "[07:49:45 - Sampler] Took 0.14s to make features.\n",
      "[07:49:56 - PWorker] Batches in cache: 8.\n",
      "[07:49:56 - PWorker] 18.6% Done (0.0/0.1 Mbases) in 99.8s\n",
      "[07:50:14 - PWorker] Batches in cache: 8.\n",
      "[07:50:14 - PWorker] 23.1% Done (0.0/0.1 Mbases) in 118.0s\n",
      "[07:50:25 - PWorker] Batches in cache: 8.\n",
      "[07:50:25 - PWorker] 25.0% Done (0.0/0.1 Mbases) in 128.5s\n",
      "[07:50:45 - PWorker] Batches in cache: 8.\n",
      "[07:50:45 - PWorker] 27.5% Done (0.0/0.1 Mbases) in 148.8s\n",
      "[07:50:59 - PWorker] Batches in cache: 8.\n",
      "[07:50:59 - PWorker] 30.4% Done (0.0/0.1 Mbases) in 162.5s\n",
      "[07:51:09 - PWorker] Batches in cache: 8.\n",
      "[07:51:09 - PWorker] 32.6% Done (0.0/0.1 Mbases) in 172.9s\n",
      "[07:51:46 - PWorker] Batches in cache: 8.\n",
      "[07:51:46 - PWorker] 35.4% Done (0.0/0.1 Mbases) in 209.1s\n",
      "[07:52:00 - PWorker] Batches in cache: 8.\n",
      "[07:52:00 - PWorker] 38.5% Done (0.0/0.1 Mbases) in 223.5s\n",
      "[07:52:15 - PWorker] Batches in cache: 8.\n",
      "[07:52:15 - PWorker] 41.3% Done (0.0/0.1 Mbases) in 238.6s\n",
      "[07:52:26 - PWorker] Batches in cache: 8.\n",
      "[07:52:26 - PWorker] 43.6% Done (0.0/0.1 Mbases) in 249.3s\n",
      "[07:52:51 - PWorker] Batches in cache: 8.\n",
      "[07:52:51 - PWorker] 47.0% Done (0.0/0.1 Mbases) in 274.3s\n",
      "[07:53:17 - PWorker] Batches in cache: 8.\n",
      "[07:53:17 - PWorker] 50.3% Done (0.0/0.1 Mbases) in 301.0s\n",
      "[07:53:35 - PWorker] Batches in cache: 8.\n",
      "[07:53:35 - PWorker] 53.1% Done (0.0/0.1 Mbases) in 318.9s\n",
      "[07:53:45 - PWorker] Batches in cache: 7.\n",
      "[07:54:02 - PWorker] Batches in cache: 6.\n",
      "[07:54:02 - PWorker] 58.3% Done (0.0/0.1 Mbases) in 346.0s\n",
      "[07:54:14 - PWorker] Batches in cache: 5.\n",
      "[07:54:14 - PWorker] 60.6% Done (0.0/0.1 Mbases) in 357.5s\n",
      "[07:54:35 - PWorker] Batches in cache: 4.\n",
      "[07:54:35 - PWorker] 63.3% Done (0.0/0.1 Mbases) in 378.5s\n",
      "[07:54:48 - PWorker] Batches in cache: 3.\n",
      "[07:54:48 - PWorker] 65.2% Done (0.0/0.1 Mbases) in 391.8s\n",
      "[07:55:02 - PWorker] Batches in cache: 2.\n",
      "[07:55:02 - PWorker] 67.6% Done (0.0/0.1 Mbases) in 406.0s\n",
      "[07:55:25 - PWorker] Batches in cache: 1.\n",
      "[07:55:25 - PWorker] 70.0% Done (0.0/0.1 Mbases) in 428.2s\n",
      "[07:55:25 - PWorker] Processed 27 batches\n",
      "[07:55:25 - PWorker] All done, 0 remainder regions.\n",
      "[07:55:25 - Predict] Finished processing all regions.\n",
      "[07:55:28 - DataIndx] Loaded 1/1 (100.00%) sample files.\n",
      "[07:55:28 - DataIndx] Loaded 1/1 (100.00%) sample files.\n",
      "[07:55:28 - DataIndx] Loaded 1/1 (100.00%) sample files.\n",
      "[07:55:28 - DataIndx] Loaded 1/1 (100.00%) sample files.\n",
      "[07:55:28 - DataIndx] Loaded 1/1 (100.00%) sample files.\n",
      "[07:55:28 - DataIndx] Loaded 1/1 (100.00%) sample files.\n",
      "[07:55:28 - DataIndx] Loaded 1/1 (100.00%) sample files.\n",
      "[07:55:28 - DataIndx] Loaded 1/1 (100.00%) sample files.\n",
      "[07:55:28 - DataIndx] Loaded 1/1 (100.00%) sample files.\n",
      "[07:55:28 - DataIndx] Loaded 1/1 (100.00%) sample files.\n",
      "[07:55:28 - DataIndx] Loaded 1/1 (100.00%) sample files.\n",
      "[07:55:28 - DataIndx] Loaded 1/1 (100.00%) sample files.\n",
      "[07:55:28 - DataIndx] Loaded 1/1 (100.00%) sample files.\n",
      "[07:55:28 - DataIndx] Loaded 1/1 (100.00%) sample files.\n",
      "[07:55:28 - DataIndx] Loaded 1/1 (100.00%) sample files.\n",
      "[07:55:29 - DataIndx] Loaded 1/1 (100.00%) sample files.\n",
      "[07:55:29 - DataIndx] Loaded 1/1 (100.00%) sample files.\n",
      "[07:55:29 - DataIndx] Loaded 1/1 (100.00%) sample files.\n",
      "[07:55:29 - DataIndx] Loaded 1/1 (100.00%) sample files.\n",
      "[07:55:29 - DataIndx] Loaded 1/1 (100.00%) sample files.\n",
      "[07:55:29 - DataIndx] Loaded 1/1 (100.00%) sample files.\n",
      "[07:55:29 - DataIndx] Loaded 1/1 (100.00%) sample files.\n",
      "[07:55:29 - DataIndx] Loaded 1/1 (100.00%) sample files.\n",
      "[07:55:29 - DataIndx] Loaded 1/1 (100.00%) sample files.\n",
      "[07:55:29 - DataIndx] Loaded 1/1 (100.00%) sample files.\n",
      "[07:55:29 - DataIndx] Loaded 1/1 (100.00%) sample files.\n",
      "[07:55:29 - DataIndx] Loaded 1/1 (100.00%) sample files.\n",
      "[07:55:29 - DataIndx] Loaded 1/1 (100.00%) sample files.\n",
      "[07:55:29 - DataIndx] Loaded 1/1 (100.00%) sample files.\n",
      "[07:55:29 - DataIndx] Loaded 1/1 (100.00%) sample files.\n",
      "[07:55:29 - DataIndx] Loaded 1/1 (100.00%) sample files.\n",
      "[07:55:30 - DataIndx] Loaded 1/1 (100.00%) sample files.\n",
      "[07:55:30 - DataIndx] Loaded 1/1 (100.00%) sample files.\n",
      "Polished assembly written to medaka_polishing/consensus.fasta, have a nice day.\n",
      "\n",
      "real\t10m31.225s\n",
      "user\t10m34.238s\n",
      "sys\t0m12.294s\n",
      "(medaka) (base) "
     ]
    },
    {
     "ename": "",
     "evalue": "1",
     "output_type": "error",
     "traceback": []
    }
   ],
   "source": [
    "# can be a little long to run\n",
    "conda activate medaka\n",
    "time medaka_consensus -i ../../CLEANING/reads_vs_ananas_unmapped.fastq -d ../FLYE/out_flye/assembly.fasta -m r941_prom_sup_g507 -o medaka_polishing\n",
    "conda deactivate"
   ]
  },
  {
   "cell_type": "markdown",
   "id": "76579a1b-2a6d-4035-b926-617c0b3e39af",
   "metadata": {},
   "source": [
    "### <span style=\"color: #4CACBC;\"> 1.4. Estimate the quality of the polished assembly<a class=\"anchor\" id=\"qualpolish\"> </span>"
   ]
  },
  {
   "cell_type": "markdown",
   "id": "5c72fe80-6e1c-4cff-88ca-64bd36c522f8",
   "metadata": {},
   "source": [
    "#### <span style=\"color: #4CACBC;\"> 1.4.1. CheckV<a class=\"anchor\" id=\"checkpolish\"> </span>"
   ]
  },
  {
   "cell_type": "code",
   "execution_count": null,
   "id": "ef5a6746-5186-4a46-8924-1cfb0067065c",
   "metadata": {},
   "outputs": [],
   "source": [
    "# create working repository\n",
    "mkdir -p ~/work/SG-ONT-2022/ASSEMBLY/MEDAKA/checkv\n",
    "cd ~/work/SG-ONT-2022/ASSEMBLY/MEDAKA/checkv"
   ]
  },
  {
   "cell_type": "code",
   "execution_count": null,
   "id": "03899267-bcf3-4ac4-a5ff-07ce699d58c8",
   "metadata": {},
   "outputs": [],
   "source": [
    "export CHECKVDB=~/work/SG-ONT-2022/ASSEMBLY/FLYE/checkv-db-v1.2"
   ]
  },
  {
   "cell_type": "code",
   "execution_count": null,
   "id": "0e640156-343d-408a-8c36-906e7946c811",
   "metadata": {
    "tags": []
   },
   "outputs": [],
   "source": [
    "checkv end_to_end ../medaka_polishing/consensus.fasta output_checkv_polished"
   ]
  },
  {
   "cell_type": "markdown",
   "id": "c020b3dd-fc0d-4513-bce9-92de136920a5",
   "metadata": {},
   "source": [
    "Compare the output of checkv between polished assembly and non polished assembly ? Is there any differences ?"
   ]
  },
  {
   "cell_type": "markdown",
   "id": "e2c5b106-f79e-4d94-ade5-6cf433d8fc91",
   "metadata": {},
   "source": [
    "**What specie / genus of virus is contig_31?**"
   ]
  },
  {
   "cell_type": "markdown",
   "id": "2d1b1f00-03ea-4f15-a956-36f220800d39",
   "metadata": {},
   "source": [
    "### <span style=\"color: #4CACBC;\"> 1.5. Taxonomic assignation of contigs<a class=\"anchor\" id=\"contigs\"> </span>"
   ]
  },
  {
   "cell_type": "code",
   "execution_count": null,
   "id": "e233411d-3992-46ef-9f15-3770ef54eea4",
   "metadata": {},
   "outputs": [],
   "source": [
    "# create working repository\n",
    "mkdir -p ~/work/SG-ONT-2022/ASSEMBLY/DIAMOND\n",
    "cd ~/work/SG-ONT-2022/ASSEMBLY/DIAMOND"
   ]
  },
  {
   "cell_type": "markdown",
   "id": "b92ba1bf-341c-4848-a295-01c560dc4413",
   "metadata": {},
   "source": [
    "We are going to reuse the viral diamond database used in TP3"
   ]
  },
  {
   "cell_type": "code",
   "execution_count": null,
   "id": "efc5ecf5-b579-492e-b067-1d07852bd0e8",
   "metadata": {},
   "outputs": [],
   "source": [
    "#create a symbolic link of the diamond database\n",
    "ln -s ~/work/SG-ONT-2022/ASSIGNATION/DIAMOND/viral.dmnd viral.dmnd"
   ]
  },
  {
   "cell_type": "code",
   "execution_count": null,
   "id": "3d52be67-2db2-41b7-a771-aa17bce06b4c",
   "metadata": {},
   "outputs": [],
   "source": [
    "diamond blastx --quiet -d viral.dmnd --outfmt 6 stitle qtitle pident length mismatch gapopen qstart qend sstart send evalue bitscore -q ../MEDAKA/medaka_polishing/consensus.fasta -o diamond-matches.csv"
   ]
  },
  {
   "cell_type": "code",
   "execution_count": null,
   "id": "4d0ebbbd-b681-44a0-a5cd-0fa8806fd2b1",
   "metadata": {
    "tags": []
   },
   "outputs": [],
   "source": [
    "head diamond-matches.csv"
   ]
  },
  {
   "cell_type": "code",
   "execution_count": null,
   "id": "435c22ac-41e9-4270-a4ad-14b13c2ddd8f",
   "metadata": {
    "tags": []
   },
   "outputs": [],
   "source": [
    "grep \"contig_31\" diamond-matches.csv"
   ]
  },
  {
   "cell_type": "markdown",
   "id": "ffce6ccc-35a6-47f3-bdab-fbc3b41d5469",
   "metadata": {},
   "source": [
    "Looks like contig_31 is a Vitivirus."
   ]
  },
  {
   "cell_type": "markdown",
   "id": "950c64d5-eb3d-48b4-b88f-9aec4e07125f",
   "metadata": {},
   "source": [
    "### <span style=\"color: #4CACBC;\"> 1.6. Visualise the coverage of the reads in an interesting contig<a class=\"anchor\" id=\"coverage\"> </span>"
   ]
  },
  {
   "cell_type": "markdown",
   "id": "d5190302-0342-44df-be7d-71e5cbc139c3",
   "metadata": {},
   "source": [
    "#### <span style=\"color: #4CACBC;\"> 1.6.1. Remapping of the reads in an interesting contig<a class=\"anchor\" id=\"contigcool\"> </span>"
   ]
  },
  {
   "cell_type": "code",
   "execution_count": null,
   "id": "1083b13a-1c97-487b-957a-8c6df5a1cec7",
   "metadata": {},
   "outputs": [],
   "source": [
    "mkdir -p ~/work/SG-ONT-2022/ASSEMBLY/CONTIG31\n",
    "cd  ~/work/SG-ONT-2022/ASSEMBLY/CONTIG31"
   ]
  },
  {
   "cell_type": "code",
   "execution_count": null,
   "id": "c719fb9d-2baa-4422-a77f-35204011b48d",
   "metadata": {},
   "outputs": [],
   "source": [
    "##extract contig31 from the multifasta file\n",
    "samtools faidx ../MEDAKA/medaka_polishing/consensus.fasta contig_31 > contig_31.fasta"
   ]
  },
  {
   "cell_type": "code",
   "execution_count": null,
   "id": "3ce67316-8872-4d1f-8821-632312fe4d42",
   "metadata": {},
   "outputs": [],
   "source": [
    "minimap2 -ax map-ont contig_31.fasta ../../CLEANING/reads_vs_ananas_unmapped.fastq > contig31_vs_reads.sam"
   ]
  },
  {
   "cell_type": "code",
   "execution_count": null,
   "id": "e921bb5c-e8f0-471d-b4b1-1c1cd34ec34d",
   "metadata": {},
   "outputs": [],
   "source": [
    "samtools flagstats contig31_vs_reads.sam"
   ]
  },
  {
   "cell_type": "code",
   "execution_count": null,
   "id": "c16d5b62-8a48-49af-99f2-1a927b0a8d46",
   "metadata": {},
   "outputs": [],
   "source": [
    "samtools view -b -S contig31_vs_reads.sam > contig31_vs_reads.bam"
   ]
  },
  {
   "cell_type": "code",
   "execution_count": null,
   "id": "1d4771db-8235-4c5c-8b15-9c6833a48fc1",
   "metadata": {},
   "outputs": [],
   "source": [
    "samtools sort contig31_vs_reads.bam -o contig31_vs_reads_sorted.bam"
   ]
  },
  {
   "cell_type": "code",
   "execution_count": null,
   "id": "57469cc8-ee4f-4b11-8d7e-ec1e1b8c4434",
   "metadata": {},
   "outputs": [],
   "source": [
    "samtools index contig31_vs_reads_sorted.bam"
   ]
  },
  {
   "cell_type": "code",
   "execution_count": null,
   "id": "777f8293-43d7-43c6-88fc-b32117c5e8da",
   "metadata": {},
   "outputs": [],
   "source": [
    "samtools coverage contig31_vs_reads_sorted.bam"
   ]
  },
  {
   "cell_type": "markdown",
   "id": "78fbde3b-c5fc-4725-9b45-2119d5bedbae",
   "metadata": {},
   "source": [
    "#### <span style=\"color: #4CACBC;\"> 1.6.2. Visualise the coverage / depht of the reads on the contig on TABLET<a class=\"anchor\" id=\"tablet\"> </span>\n",
    "* 1. Open tablet\n",
    "* 2. click on Open Assembly\n",
    "* 3. import the sorted bam as primary assembly and the contig_31.fasta as reference."
   ]
  },
  {
   "cell_type": "markdown",
   "id": "3a28cda8-f34c-48f4-af98-af8d0ba1511b",
   "metadata": {},
   "source": [
    "Explore the data"
   ]
  }
 ],
 "metadata": {
  "kernelspec": {
   "display_name": "Bash",
   "language": "bash",
   "name": "bash"
  },
  "language_info": {
   "codemirror_mode": "shell",
   "file_extension": ".sh",
   "mimetype": "text/x-sh",
   "name": "bash"
  }
 },
 "nbformat": 4,
 "nbformat_minor": 5
}
