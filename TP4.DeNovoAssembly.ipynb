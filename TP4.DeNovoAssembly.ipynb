{
 "cells": [
  {
   "cell_type": "markdown",
   "id": "26ffb346-6c03-410a-b92f-e9885454db2f",
   "metadata": {},
   "source": [
    "# Formation 2022  \n",
    "\n",
    "##  Initiation à l’analyse de données Minion pour l'analyse de métagénome viraux\n",
    "\n",
    "Created by J. Orjuela (DIADE-IRD), D. Filloux (PHIM-CIRAD) and A. Comte (PHIM-IRD) and from a formation by J. Orjuela (DIADE-IRD), F. Sabot (DIADE-IRD) and G. Sarah (AGAP-INRAE) given in Septembre 2021\n",
    "\n",
    "Septembre 2022\n",
    "\n",
    "# TP4 : De novo assembly of the Metavirome"
   ]
  },
  {
   "cell_type": "markdown",
   "id": "b491ee52-cce5-4406-9830-8da83f91b28d",
   "metadata": {},
   "source": [
    "Metagenome assembly is the process of transforming a set of short, overlapping, and potentially erroneous DNA segments from environmental samples into the accurate representation of the underlying microbiomes's genomes. Metagenome assembly is an efficient approach to deciphering the “microbial dark matter” in the microbiota based on metagenomic sequencing.\n",
    "\n",
    "The objective is to reconstruct viruses in presence in the dataset.\n",
    "\n",
    "A lot of assembler tools exists for long reads. Here we will focus on FLYE which is fast and often really accurate:\n",
    "\n",
    "- Flye : https://github.com/fenderglass/Flye\n",
    "\n",
    "But you can also have a look at SPAdes, an other assembler working with metagenome.\n",
    "\n",
    "- SPAdes : https://github.com/ablab/spades"
   ]
  },
  {
   "cell_type": "markdown",
   "id": "96beb02a-7fd8-4892-93c8-594493c1f895",
   "metadata": {},
   "source": [
    "## 1. Assemble with Flye:"
   ]
  },
  {
   "cell_type": "markdown",
   "id": "8e390b9f-e8b0-40ee-848f-1fd11834be57",
   "metadata": {},
   "source": [
    "Flye is a de novo assembler for single-molecule sequencing reads, such as those produced by PacBio and Oxford Nanopore Technologies. It is designed for a wide range of datasets, from small bacterial projects to large mammalian-scale assemblies. The package represents a complete pipeline: it takes raw PacBio / ONT reads as input and outputs polished contigs. Flye also has a special mode for metagenome assembly."
   ]
  },
  {
   "cell_type": "code",
   "execution_count": 5,
   "id": "6760312c-9c86-4f11-a241-e6020898b9e0",
   "metadata": {},
   "outputs": [],
   "source": [
    "# create working repository\n",
    "mkdir -p ~/work/SG-ONT-2022/ASSEMBLY/FLYE\n",
    "cd ~/work/SG-ONT-2022/ASSEMBLY/FLYE"
   ]
  },
  {
   "cell_type": "markdown",
   "id": "25167070-0afc-48c2-91d7-877bf409b70b",
   "metadata": {},
   "source": [
    "### 1.1. Launch Flye:"
   ]
  },
  {
   "cell_type": "code",
   "execution_count": 3,
   "id": "8e06368d-d32e-4ba8-9597-a26fb26edc34",
   "metadata": {},
   "outputs": [
    {
     "name": "stdout",
     "output_type": "stream",
     "text": [
      "usage: flye (--pacbio-raw | --pacbio-corr | --pacbio-hifi | --nano-raw |\n",
      "\t     --nano-corr | --nano-hq ) file1 [file_2 ...]\n",
      "\t     --out-dir PATH\n",
      "\n",
      "\t     [--genome-size SIZE] [--threads int] [--iterations int]\n",
      "\t     [--meta] [--polish-target] [--min-overlap SIZE]\n",
      "\t     [--keep-haplotypes] [--debug] [--version] [--help] \n",
      "\t     [--scaffold] [--resume] [--resume-from] [--stop-after] \n",
      "\t     [--read-error float] [--extra-params]\n",
      "\n",
      "Assembly of long reads with repeat graphs\n",
      "\n",
      "optional arguments:\n",
      "  -h, --help            show this help message and exit\n",
      "  --pacbio-raw path [path ...]\n",
      "                        PacBio regular CLR reads (<20% error)\n",
      "  --pacbio-corr path [path ...]\n",
      "                        PacBio reads that were corrected with other methods\n",
      "                        (<3% error)\n",
      "  --pacbio-hifi path [path ...]\n",
      "                        PacBio HiFi reads (<1% error)\n",
      "  --nano-raw path [path ...]\n",
      "                        ONT regular reads, pre-Guppy5 (<20% error)\n",
      "  --nano-corr path [path ...]\n",
      "                        ONT reads that were corrected with other methods (<3%\n",
      "                        error)\n",
      "  --nano-hq path [path ...]\n",
      "                        ONT high-quality reads: Guppy5+ or Q20 (<5% error)\n",
      "  --subassemblies path [path ...]\n",
      "                        [deprecated] high-quality contigs input\n",
      "  -g size, --genome-size size\n",
      "                        estimated genome size (for example, 5m or 2.6g)\n",
      "  -o path, --out-dir path\n",
      "                        Output directory\n",
      "  -t int, --threads int\n",
      "                        number of parallel threads [1]\n",
      "  -i int, --iterations int\n",
      "                        number of polishing iterations [1]\n",
      "  -m int, --min-overlap int\n",
      "                        minimum overlap between reads [auto]\n",
      "  --asm-coverage int    reduced coverage for initial disjointig assembly [not\n",
      "                        set]\n",
      "  --hifi-error float    [deprecated] same as --read-error\n",
      "  --read-error float    adjust parameters for given read error rate (as\n",
      "                        fraction e.g. 0.03)\n",
      "  --extra-params extra_params\n",
      "                        extra configuration parameters list (comma-separated)\n",
      "  --plasmids            unused (retained for backward compatibility)\n",
      "  --meta                metagenome / uneven coverage mode\n",
      "  --keep-haplotypes     do not collapse alternative haplotypes\n",
      "  --scaffold            enable scaffolding using graph [disabled by default]\n",
      "  --trestle             [deprecated] enable Trestle [disabled by default]\n",
      "  --polish-target path  run polisher on the target sequence\n",
      "  --resume              resume from the last completed stage\n",
      "  --resume-from stage_name\n",
      "                        resume from a custom stage\n",
      "  --stop-after stage_name\n",
      "                        stop after the specified stage completed\n",
      "  --debug               enable debug output\n",
      "  -v, --version         show program's version number and exit\n",
      "\n",
      "Input reads can be in FASTA or FASTQ format, uncompressed\n",
      "or compressed with gz. Currently, PacBio (CLR, HiFi, corrected)\n",
      "and ONT reads (regular, HQ, corrected) are supported. Expected error rates are\n",
      "<15% for PB CLR/regular ONT; <5% for ONT HQ, <3% for corrected, and <1% for HiFi. Note that Flye\n",
      "was primarily developed to run on uncorrected reads. You may specify multiple\n",
      "files with reads (separated by spaces). Mixing different read\n",
      "types is not yet supported. The --meta option enables the mode\n",
      "for metagenome/uneven coverage assembly.\n",
      "\n",
      "To reduce memory consumption for large genome assemblies,\n",
      "you can use a subset of the longest reads for initial disjointig\n",
      "assembly by specifying --asm-coverage and --genome-size options. Typically,\n",
      "40x coverage is enough to produce good disjointigs.\n",
      "\n",
      "You can run Flye polisher as a standalone tool using\n",
      "--polish-target option.\n"
     ]
    }
   ],
   "source": [
    "flye --help"
   ]
  },
  {
   "cell_type": "code",
   "execution_count": 5,
   "id": "d3e38824-e73f-4b85-b6cf-3b7345948d8c",
   "metadata": {},
   "outputs": [
    {
     "name": "stdout",
     "output_type": "stream",
     "text": [
      "[2022-07-29 08:07:41] INFO: Starting Flye 2.9-b1768\n",
      "[2022-07-29 08:07:41] INFO: >>>STAGE: configure\n",
      "[2022-07-29 08:07:41] INFO: Configuring run\n",
      "[2022-07-29 08:07:43] INFO: Total read length: 173940017\n",
      "[2022-07-29 08:07:43] INFO: Reads N50/N90: 435 / 276\n",
      "[2022-07-29 08:07:43] INFO: Minimum overlap set to 1000\n",
      "[2022-07-29 08:07:43] INFO: >>>STAGE: assembly\n",
      "[2022-07-29 08:07:43] INFO: Assembling disjointigs\n",
      "[2022-07-29 08:07:43] INFO: Reading sequences\n",
      "[2022-07-29 08:07:45] INFO: Building minimizer index\n",
      "[2022-07-29 08:07:45] INFO: Pre-calculating index storage\n",
      "0% 10% 20% 30% 40% 50% 60% 70% 80% 90% 100% \n",
      "[2022-07-29 08:07:49] INFO: Filling index\n",
      "0% 10% 20% 30% 40% 50% 60% 70% 80% 90% 100% \n",
      "[2022-07-29 08:07:58] INFO: Extending reads\n",
      "[2022-07-29 08:08:03] INFO: Overlap-based coverage: 22\n",
      "[2022-07-29 08:08:03] INFO: Median overlap divergence: 0.0844806\n",
      "0% 10% 20% 30% 40% 50% 60% 70% 80% 90% 100% \n",
      "[2022-07-29 08:08:39] INFO: Assembled 54 disjointigs\n",
      "[2022-07-29 08:08:39] INFO: Generating sequence\n",
      "0% 10% 20% 30% 50% 60% 70% 80% 100% \n",
      "[2022-07-29 08:08:39] INFO: Filtering contained disjointigs\n",
      "0% 10% 20% 30% 40% 50% 60% 70% 80% 90% 100% \n",
      "[2022-07-29 08:08:39] INFO: Contained seqs: 3\n",
      "[2022-07-29 08:08:39] INFO: >>>STAGE: consensus\n",
      "[2022-07-29 08:08:39] INFO: Running Minimap2\n",
      "[2022-07-29 08:10:06] INFO: Computing consensus\n",
      "[2022-07-29 08:10:23] INFO: Alignment error rate: 0.105060\n",
      "[2022-07-29 08:10:23] INFO: >>>STAGE: repeat\n",
      "[2022-07-29 08:10:23] INFO: Building and resolving repeat graph\n",
      "[2022-07-29 08:10:23] INFO: Parsing disjointigs\n",
      "[2022-07-29 08:10:23] INFO: Building repeat graph\n",
      "0% 10% 20% 30% 40% 50% 60% 70% 80% 90% 100% \n",
      "[2022-07-29 08:10:23] INFO: Median overlap divergence: 0.113705\n",
      "[2022-07-29 08:10:23] INFO: Parsing reads\n",
      "[2022-07-29 08:10:26] INFO: Aligning reads to the graph\n",
      "0% 10% 20% 30% 40% 50% 60% 70% 80% 90% 100% \n",
      "[2022-07-29 08:10:52] INFO: Aligned read sequence: 5880752 / 22228189 (0.264563)\n",
      "[2022-07-29 08:10:52] INFO: Median overlap divergence: 0.0479705\n",
      "[2022-07-29 08:10:52] INFO: Mean edge coverage: 42\n",
      "[2022-07-29 08:10:52] INFO: Simplifying the graph\n",
      "[2022-07-29 08:10:53] INFO: >>>STAGE: contigger\n",
      "[2022-07-29 08:10:53] INFO: Generating contigs\n",
      "[2022-07-29 08:10:53] INFO: Reading sequences\n",
      "[2022-07-29 08:10:55] INFO: Generated 32 contigs\n",
      "[2022-07-29 08:10:55] INFO: Added 0 scaffold connections\n",
      "[2022-07-29 08:10:56] INFO: >>>STAGE: polishing\n",
      "[2022-07-29 08:10:56] INFO: Polishing genome (1/1)\n",
      "[2022-07-29 08:10:56] INFO: Running minimap2\n",
      "[2022-07-29 08:15:06] INFO: Separating alignment into bubbles\n",
      "[2022-07-29 08:15:32] INFO: Alignment error rate: 0.068174\n",
      "[2022-07-29 08:15:32] INFO: Correcting bubbles\n",
      "0% 10% 20% 30% 40% 50% 60% 70% 80% 90% 100% \n",
      "[2022-07-29 08:15:42] INFO: >>>STAGE: finalize\n",
      "[2022-07-29 08:15:42] INFO: Assembly statistics:\n",
      "\n",
      "\tTotal length:\t88391\n",
      "\tFragments:\t32\n",
      "\tFragments N50:\t2612\n",
      "\tLargest frg:\t6877\n",
      "\tScaffolds:\t0\n",
      "\tMean coverage:\t113\n",
      "\n",
      "[2022-07-29 08:15:42] INFO: Final assembly: /home/jovyan/work/SG-ONT-2022/ASSEMBLY/FLYE/out_flye/assembly.fasta\n"
     ]
    }
   ],
   "source": [
    "# this can take time to run\n",
    "flye --meta --nano-hq ../../CLEANING/reads_vs_ananas_unmapped.fastq -o out_flye"
   ]
  },
  {
   "cell_type": "markdown",
   "id": "abd4aa2d-c60d-4222-864b-f67cbcdb24e8",
   "metadata": {},
   "source": [
    "**How many contig do we have after the assembly?**"
   ]
  },
  {
   "cell_type": "markdown",
   "id": "ffac7fb5-28fb-4327-97bf-ed12fcded48b",
   "metadata": {},
   "source": [
    "### 1.2. Estimate the quality of the assembly:"
   ]
  },
  {
   "cell_type": "markdown",
   "id": "5ecdc61a-2550-4b64-9934-9c26cf625d87",
   "metadata": {},
   "source": [
    "#### 1.2.1. QUAST"
   ]
  },
  {
   "cell_type": "markdown",
   "id": "0f73537b-c0d4-4c26-a837-bf5ccd1a6cba",
   "metadata": {},
   "source": [
    "QUAST evaluates genome assemblies.\n",
    "\n",
    "QUAST works both with and without a reference genome.\n",
    "The tool accepts multiple assemblies, thus is suitable for comparison. \n",
    "\n",
    "http://quast.sourceforge.net/quast"
   ]
  },
  {
   "cell_type": "code",
   "execution_count": 15,
   "id": "332dce20-729a-4801-8ea4-8a93160b00c1",
   "metadata": {},
   "outputs": [
    {
     "name": "stdout",
     "output_type": "stream",
     "text": [
      "MetaQUAST: Quality Assessment Tool for Metagenome Assemblies\n",
      "Version: 5.2.0\n",
      "\n",
      "Usage: python /opt/conda/envs/quast/bin/metaquast.py [options] <files_with_contigs>\n",
      "\n",
      "Options:\n",
      "-o  --output-dir  <dirname>       Directory to store all result files [default: quast_results/results_<datetime>]\n",
      "-r   <filename,filename,...>      Comma-separated list of reference genomes or directory with reference genomes\n",
      "--references-list <filename>      Text file with list of reference genome names for downloading from NCBI\n",
      "-g  --features [type:]<filename>  File with genomic feature coordinates in the references (GFF, BED, NCBI or TXT)\n",
      "                                  Optional 'type' can be specified for extracting only a specific feature type from GFF\n",
      "-m  --min-contig  <int>           Lower threshold for contig length [default: 500]\n",
      "-t  --threads     <int>           Maximum number of threads [default: 25% of CPUs]\n",
      "\n",
      "Advanced options:\n",
      "-s  --split-scaffolds                 Split assemblies by continuous fragments of N's and add such \"contigs\" to the comparison\n",
      "-l  --labels \"label, label, ...\"      Names of assemblies to use in reports, comma-separated. If contain spaces, use quotes\n",
      "-L                                    Take assembly names from their parent directory names\n",
      "-e  --eukaryote                       Genome is eukaryotic (primarily affects gene prediction)\n",
      "    --fungus                          Genome is fungal (primarily affects gene prediction)\n",
      "    --large                           Use optimal parameters for evaluation of large genomes\n",
      "                                      In particular, imposes '-e -m 3000 -i 500 -x 7000' (can be overridden manually)\n",
      "-k  --k-mer-stats                     Compute k-mer-based quality metrics (recommended for large genomes)\n",
      "                                      This may significantly increase memory and time consumption on large genomes\n",
      "    --k-mer-size                      Size of k used in --k-mer-stats [default: 101]\n",
      "    --circos                          Draw Circos plot\n",
      "-f  --gene-finding                    Predict genes using MetaGeneMark\n",
      "    --glimmer                         Use GlimmerHMM for gene prediction (instead of the default finder, see above)\n",
      "    --gene-thresholds <int,int,...>   Comma-separated list of threshold lengths of genes to search with Gene Finding module\n",
      "                                      [default: 0,300,1500,3000]\n",
      "    --rna-finding                     Predict ribosomal RNA genes using Barrnap\n",
      "-b  --conserved-genes-finding         Count conserved orthologs using BUSCO (only on Linux)\n",
      "    --operons  <filename>             File with operon coordinates in the reference (GFF, BED, NCBI or TXT)\n",
      "    --max-ref-number <int>            Maximum number of references (per each assembly) to download after looking in SILVA database.\n",
      "                                      Set 0 for not looking in SILVA at all [default: 50]\n",
      "    --blast-db <filename>             Custom BLAST database (.nsq file). By default, MetaQUAST searches references in SILVA database\n",
      "    --use-input-ref-order             Use provided order of references in MetaQUAST summary plots (default order: by the best average value)\n",
      "    --contig-thresholds <int,int,...> Comma-separated list of contig length thresholds [default: 0,1000,5000,10000,25000,50000]\n",
      "    --x-for-Nx <int>                  Value of 'x' for Nx, Lx, etc metrics reported in addition to N50, L50, etc (0, 100) [default: 90]\n",
      "    --reuse-combined-alignments       Reuse the alignments from the combined_reference stage on runs_per_reference stages.\n",
      "-u  --use-all-alignments              Compute genome fraction, # genes, # operons in QUAST v1.* style.\n",
      "                                      By default, QUAST filters Minimap's alignments to keep only best ones\n",
      "-i  --min-alignment <int>             The minimum alignment length [default: 65]\n",
      "    --min-identity <float>            The minimum alignment identity (80.0, 100.0) [default: 90.0]\n",
      "-a  --ambiguity-usage <none|one|all>  Use none, one, or all alignments of a contig when all of them\n",
      "                                      are almost equally good (see --ambiguity-score) [default: one]\n",
      "    --ambiguity-score <float>         Score S for defining equally good alignments of a single contig. All alignments are sorted \n",
      "                                      by decreasing LEN * IDY% value. All alignments with LEN * IDY% < S * best(LEN * IDY%) are \n",
      "                                      discarded. S should be between 0.8 and 1.0 [default: 0.99]\n",
      "    --unique-mapping                  Disable --ambiguity-usage=all for the combined reference run,\n",
      "                                      i.e. use user-specified or default ('one') value of --ambiguity-usage\n",
      "    --strict-NA                       Break contigs in any misassembly event when compute NAx and NGAx.\n",
      "                                      By default, QUAST breaks contigs only by extensive misassemblies (not local ones)\n",
      "-x  --extensive-mis-size  <int>       Lower threshold for extensive misassembly size. All relocations with inconsistency\n",
      "                                      less than extensive-mis-size are counted as local misassemblies [default: 1000]\n",
      "    --local-mis-size  <int>           Lower threshold on local misassembly size. Local misassemblies with inconsistency\n",
      "                                      less than local-mis-size are counted as (long) indels [default: 200]\n",
      "    --scaffold-gap-max-size  <int>    Max allowed scaffold gap length difference. All relocations with inconsistency\n",
      "                                      less than scaffold-gap-size are counted as scaffold gap misassemblies [default: 10000]\n",
      "    --unaligned-part-size  <int>      Lower threshold for detecting partially unaligned contigs. Such contig should have\n",
      "                                      at least one unaligned fragment >= the threshold [default: 500]\n",
      "    --skip-unaligned-mis-contigs      Do not distinguish contigs with >= 50% unaligned bases as a separate group\n",
      "                                      By default, QUAST does not count misassemblies in them\n",
      "    --fragmented                      Reference genome may be fragmented into small pieces (e.g. scaffolded reference) \n",
      "    --fragmented-max-indent  <int>    Mark translocation as fake if both alignments are located no further than N bases \n",
      "                                      from the ends of the reference fragments [default: 200]\n",
      "                                      Requires --fragmented option\n",
      "    --upper-bound-assembly            Simulate upper bound assembly based on the reference genome and reads\n",
      "    --upper-bound-min-con  <int>      Minimal number of 'connecting reads' needed for joining upper bound contigs into a scaffold\n",
      "                                      [default: 2 for mate-pairs and 1 for long reads]\n",
      "    --est-insert-size  <int>          Use provided insert size in upper bound assembly simulation [default: auto detect from reads or 255]\n",
      "    --report-all-metrics              Keep all quality metrics in the main report even if their values are '-' for all assemblies or \n",
      "                                      if they are not applicable (e.g., reference-based metrics in the no-reference mode)\n",
      "    --plots-format  <str>             Save plots in specified format [default: pdf].\n",
      "                                      Supported formats: emf, eps, pdf, png, ps, raw, rgba, svg, svgz\n",
      "    --memory-efficient                Run everything using one thread, separately per each assembly.\n",
      "                                      This may significantly reduce memory consumption on large genomes\n",
      "    --space-efficient                 Create only reports and plots files. Aux files including .stdout, .stderr, .coords will not be created.\n",
      "                                      This may significantly reduce space consumption on large genomes. Icarus viewers also will not be built\n",
      "-1  --pe1     <filename>              File with forward paired-end reads (in FASTQ format, may be gzipped)\n",
      "-2  --pe2     <filename>              File with reverse paired-end reads (in FASTQ format, may be gzipped)\n",
      "    --pe12    <filename>              File with interlaced forward and reverse paired-end reads. (in FASTQ format, may be gzipped)\n",
      "    --mp1     <filename>              File with forward mate-pair reads (in FASTQ format, may be gzipped)\n",
      "    --mp2     <filename>              File with reverse mate-pair reads (in FASTQ format, may be gzipped)\n",
      "    --mp12    <filename>              File with interlaced forward and reverse mate-pair reads (in FASTQ format, may be gzipped)\n",
      "    --single  <filename>              File with unpaired short reads (in FASTQ format, may be gzipped)\n",
      "    --pacbio     <filename>           File with PacBio reads (in FASTQ format, may be gzipped)\n",
      "    --nanopore   <filename>           File with Oxford Nanopore reads (in FASTQ format, may be gzipped)\n",
      "    --ref-sam <filename>              SAM alignment file obtained by aligning reads to reference genome file\n",
      "    --ref-bam <filename>              BAM alignment file obtained by aligning reads to reference genome file\n",
      "    --sam     <filename,filename,...> Comma-separated list of SAM alignment files obtained by aligning reads to assemblies\n",
      "                                      (use the same order as for files with contigs)\n",
      "    --bam     <filename,filename,...> Comma-separated list of BAM alignment files obtained by aligning reads to assemblies\n",
      "                                      (use the same order as for files with contigs)\n",
      "                                      Reads (or SAM/BAM file) are used for structural variation detection and\n",
      "                                      coverage histogram building in Icarus\n",
      "    --sv-bedpe  <filename>            File with structural variations (in BEDPE format)\n",
      "\n",
      "Speedup options:\n",
      "    --no-check                        Do not check and correct input fasta files. Use at your own risk (see manual)\n",
      "    --no-plots                        Do not draw plots\n",
      "    --no-html                         Do not build html reports and Icarus viewers\n",
      "    --no-icarus                       Do not build Icarus viewers\n",
      "    --no-snps                         Do not report SNPs (may significantly reduce memory consumption on large genomes)\n",
      "    --no-gc                           Do not compute GC% and GC-distribution\n",
      "    --no-sv                           Do not run structural variation detection (make sense only if reads are specified)\n",
      "    --no-read-stats                   Do not align reads to assemblies\n",
      "                                      Reads will be aligned to reference and used for coverage analysis,\n",
      "                                      upper bound assembly simulation, and structural variation detection.\n",
      "                                      Use this option if you do not need read statistics for assemblies.\n",
      "    --fast                            A combination of all speedup options except --no-check\n",
      "\n",
      "Other:\n",
      "    --silent                          Do not print detailed information about each step to stdout (log file is not affected)\n",
      "    --test                            Run MetaQUAST on the data from the test_data folder, output to quast_test_output\n",
      "    --test-no-ref                     Run MetaQUAST without references on the data from the test_data folder, output to quast_test_output.\n",
      "                                      MetaQUAST will download SILVA 16S rRNA database (~170 Mb) for searching reference genomes\n",
      "                                      Internet connection is required\n",
      "-h  --help                            Print full usage message\n",
      "-v  --version                         Print version\n",
      "\n",
      "Online QUAST manual is available at http://quast.sf.net/manual\n"
     ]
    }
   ],
   "source": [
    "metaquast.py -h"
   ]
  },
  {
   "cell_type": "code",
   "execution_count": 19,
   "id": "f320af8f-4b2e-422a-aef6-0185a8df6b63",
   "metadata": {},
   "outputs": [
    {
     "name": "stdout",
     "output_type": "stream",
     "text": [
      "/opt/conda/envs/quast/bin/metaquast.py ../../ASSEMBLY/FLYE/out_flye/assembly.fasta --silent\n",
      "\n",
      "\n",
      "System information:\n",
      "  OS: Linux-5.15.0-41-generic-x86_64-with-debian-bullseye-sid (linux_64)\n",
      "  Python version: 3.7.12\n",
      "  CPUs number: 8\n",
      "\n",
      "Started: 2022-07-29 09:03:39\n",
      "\n",
      "Logging to /home/jovyan/work/SG-ONT-2022/ASSEMBLY/FLYE/quast_results/results_2022_07_29_09_03_39/metaquast.log\n",
      "NOTICE: Maximum number of threads is set to 2 (use --threads option to set it manually)\n",
      "\n",
      "Contigs:\n",
      "  Pre-processing...\n",
      "  ../../ASSEMBLY/FLYE/out_flye/assembly.fasta ==> assembly\n",
      "\n",
      "No references are provided, starting to search for reference genomes in SILVA 16S rRNA database and to download them from NCBI...\n",
      "\n",
      "2022-07-29 09:03:40\n",
      "NOTICE: Permission denied accessing /opt/conda/envs/quast/lib/python3.7/site-packages/quast_libs/silva. Silva will be downloaded to home directory /home/jovyan/.quast\n",
      "\n",
      "ERROR! Failed downloading SILVA 16S rRNA gene database (http://www.arb-silva.de/fileadmin/silva_databases/release_138.1/Exports/SILVA_138.1_SSURef_NR99_tax_silva.fasta.gz)! The search for reference genomes cannot be performed. Try to download it manually, put under /home/jovyan/.quast/silva/ and restart your command.\n",
      "Reference genomes are not found.\n",
      "\n",
      "NOTICE: No references are provided, starting regular QUAST with MetaGeneMark gene finder\n",
      "/opt/conda/envs/quast/bin/quast.py --silent --min-identity 90.0 ../../ASSEMBLY/FLYE/out_flye/assembly.fasta -o /home/jovyan/work/SG-ONT-2022/ASSEMBLY/FLYE/quast_results/results_2022_07_29_09_03_39 --labels assembly\n",
      "\n",
      "\n",
      "System information:\n",
      "  OS: Linux-5.15.0-41-generic-x86_64-with-debian-bullseye-sid (linux_64)\n",
      "  Python version: 3.7.12\n",
      "  CPUs number: 8\n",
      "\n",
      "Started: 2022-07-29 09:03:41\n",
      "\n",
      "Logging to /home/jovyan/work/SG-ONT-2022/ASSEMBLY/FLYE/quast_results/results_2022_07_29_09_03_39/quast.log\n",
      "NOTICE: Output directory already exists and looks like a QUAST output dir. Existing results can be reused (e.g. previously generated alignments)!\n",
      "NOTICE: Maximum number of threads is set to 2 (use --threads option to set it manually)\n",
      "\n",
      "CWD: /home/jovyan/work/SG-ONT-2022/ASSEMBLY/FLYE\n",
      "Main parameters: \n",
      "  MODE: meta, threads: 2, min contig length: 500, min alignment length: 65, min alignment IDY: 90.0, \\\n",
      "  ambiguity: one, min local misassembly length: 200, min extensive misassembly length: 1000\n",
      "\n",
      "Contigs:\n",
      "  Pre-processing...\n",
      "  ../../ASSEMBLY/FLYE/out_flye/assembly.fasta ==> assembly\n",
      "\n",
      "2022-07-29 09:03:41\n",
      "Running Basic statistics processor...\n",
      "Done.\n",
      "\n",
      "NOTICE: Genes are not predicted by default. Use --gene-finding or --glimmer option to enable it.\n",
      "\n",
      "2022-07-29 09:03:42\n",
      "Creating large visual summaries...\n",
      "This may take a while: press Ctrl-C to skip this step..\n",
      "  1 of 2: Creating PDF with all tables and plots...\n",
      "  2 of 2: Creating Icarus viewers...\n",
      "Done\n",
      "\n",
      "2022-07-29 09:03:42\n",
      "RESULTS:\n",
      "  Text versions of total report are saved to /home/jovyan/work/SG-ONT-2022/ASSEMBLY/FLYE/quast_results/results_2022_07_29_09_03_39/report.txt, report.tsv, and report.tex\n",
      "  Text versions of transposed total report are saved to /home/jovyan/work/SG-ONT-2022/ASSEMBLY/FLYE/quast_results/results_2022_07_29_09_03_39/transposed_report.txt, transposed_report.tsv, and transposed_report.tex\n",
      "  PDF version (tables and plots) is saved to /home/jovyan/work/SG-ONT-2022/ASSEMBLY/FLYE/quast_results/results_2022_07_29_09_03_39/report.pdf\n",
      "  Icarus (contig browser) is saved to /home/jovyan/work/SG-ONT-2022/ASSEMBLY/FLYE/quast_results/results_2022_07_29_09_03_39/icarus.html\n",
      "  Log is saved to /home/jovyan/work/SG-ONT-2022/ASSEMBLY/FLYE/quast_results/results_2022_07_29_09_03_39/quast.log\n",
      "\n",
      "Finished: 2022-07-29 09:03:42\n",
      "Elapsed time: 0:00:01.507496\n",
      "NOTICEs: 3; WARNINGs: 0; non-fatal ERRORs: 0\n",
      "\n",
      "Thank you for using QUAST!\n"
     ]
    }
   ],
   "source": [
    "metaquast.py ../../ASSEMBLY/FLYE/out_flye/assembly.fasta --silent"
   ]
  },
  {
   "cell_type": "markdown",
   "id": "87c82cc7-0adf-4a7a-be46-fedb8fbfd051",
   "metadata": {},
   "source": [
    "**Observe QUAST output**"
   ]
  },
  {
   "cell_type": "code",
   "execution_count": 20,
   "id": "28bf107d-6c5e-4773-8d76-f5c8c18a637a",
   "metadata": {},
   "outputs": [
    {
     "name": "stdout",
     "output_type": "stream",
     "text": [
      "All statistics are based on contigs of size >= 500 bp, unless otherwise noted (e.g., \"# contigs (>= 0 bp)\" and \"Total length (>= 0 bp)\" include all contigs).\n",
      "\n",
      "Assembly                    assembly\n",
      "# contigs (>= 0 bp)         32      \n",
      "# contigs (>= 1000 bp)      32      \n",
      "# contigs (>= 5000 bp)      2       \n",
      "# contigs (>= 10000 bp)     0       \n",
      "# contigs (>= 25000 bp)     0       \n",
      "# contigs (>= 50000 bp)     0       \n",
      "Total length (>= 0 bp)      88391   \n",
      "Total length (>= 1000 bp)   88391   \n",
      "Total length (>= 5000 bp)   12760   \n",
      "Total length (>= 10000 bp)  0       \n",
      "Total length (>= 25000 bp)  0       \n",
      "Total length (>= 50000 bp)  0       \n",
      "# contigs                   32      \n",
      "Largest contig              6877    \n",
      "Total length                88391   \n",
      "GC (%)                      44.93   \n",
      "N50                         2612    \n",
      "N90                         1952    \n",
      "auN                         3266.0  \n",
      "L50                         12      \n",
      "L90                         27      \n",
      "# N's per 100 kbp           0.00    \n"
     ]
    }
   ],
   "source": [
    "head -25 quast_results/latest/report.txt"
   ]
  },
  {
   "cell_type": "markdown",
   "id": "a204b04b-2ece-4065-912a-7bb8191a6571",
   "metadata": {},
   "source": [
    "#### 1.2.2. CheckV"
   ]
  },
  {
   "cell_type": "markdown",
   "id": "1306beba-0124-4eee-9e8c-3b592170adaf",
   "metadata": {},
   "source": [
    "CheckV assesses the quality and completeness of metagenome-assembled viral genomes"
   ]
  },
  {
   "cell_type": "code",
   "execution_count": 15,
   "id": "24607e88-ce63-428f-b733-37ec3000f362",
   "metadata": {},
   "outputs": [
    {
     "name": "stdout",
     "output_type": "stream",
     "text": [
      "CheckV v0.9.0: assessing the quality of metagenome-assembled viral genomes\n",
      "https://bitbucket.org/berkeleylab/checkv\n",
      "\n",
      "usage: checkv <program> [options]\n",
      "\n",
      "programs:\n",
      "    end_to_end          run full pipeline to estimate completeness, contamination, and identify closed genomes\n",
      "    contamination       identify and remove host contamination on integrated proviruses\n",
      "    completeness        estimate completeness for genome fragments\n",
      "    complete_genomes    identify complete genomes based on terminal repeats and flanking host regions\n",
      "    quality_summary     summarize results across modules\n",
      "    download_database   download the latest version of CheckV's database\n",
      "    update_database     update CheckV's database with your own complete genomes\n",
      "\n",
      "optional arguments:\n",
      "  -h, --help  show this help message and exit\n"
     ]
    }
   ],
   "source": [
    "checkv --help"
   ]
  },
  {
   "cell_type": "code",
   "execution_count": 16,
   "id": "0627c26e-ab3b-4739-ab33-a18119aa5bae",
   "metadata": {},
   "outputs": [
    {
     "name": "stdout",
     "output_type": "stream",
     "text": [
      "\n",
      "CheckV v0.9.0: download_database\n",
      "[1/4] Checking latest version of CheckV's database...\n",
      "[2/4] Downloading 'checkv-db-v1.2'...\n",
      "[3/4] Extracting 'checkv-db-v1.2'...\n",
      "[4/4] Building DIAMOND database...\n",
      "Run time: 531.07 seconds\n",
      "Peak mem: 1.32 GB\n"
     ]
    }
   ],
   "source": [
    "# download database\n",
    "checkv download_database ./"
   ]
  },
  {
   "cell_type": "code",
   "execution_count": 22,
   "id": "6e906f5c-1203-46f4-9065-29b6a5e1c6a7",
   "metadata": {},
   "outputs": [],
   "source": [
    "export CHECKVDB=~/work/SG-ONT-2022/ASSEMBLY/FLYE/checkv-db-v1.2"
   ]
  },
  {
   "cell_type": "code",
   "execution_count": 23,
   "id": "c68ba133-c390-4179-8e4c-56b835e863f1",
   "metadata": {},
   "outputs": [
    {
     "name": "stdout",
     "output_type": "stream",
     "text": [
      "\n",
      "CheckV v0.9.0: contamination\n",
      "[1/8] Reading database info...\n",
      "[2/8] Reading genome info...\n",
      "[3/8] Calling genes with Prodigal...\n",
      "[4/8] Reading gene info...\n",
      "[5/8] Running hmmsearch...\n",
      "[6/8] Annotating genes...\n",
      "[7/8] Identifying host regions...\n",
      "[8/8] Writing results...\n",
      "Run time: 65.22 seconds\n",
      "Peak mem: 0.22 GB\n",
      "\n",
      "CheckV v0.9.0: completeness\n",
      "[1/8] Skipping gene calling...\n",
      "[2/8] Initializing queries and database...\n",
      "[3/8] Running DIAMOND blastp search...\n",
      "[4/8] Computing AAI...\n",
      "[5/8] Running AAI based completeness estimation...\n",
      "[6/8] Running HMM based completeness estimation...\n",
      "[7/8] Determining genome copy number...\n",
      "[8/8] Writing results...\n",
      "Run time: 25.22 seconds\n",
      "Peak mem: 1.36 GB\n",
      "\n",
      "CheckV v0.9.0: complete_genomes\n",
      "[1/7] Reading input sequences...\n",
      "[2/7] Finding complete proviruses...\n",
      "[3/7] Finding direct/inverted terminal repeats...\n",
      "[4/7] Filtering terminal repeats...\n",
      "[5/7] Checking genome for completeness...\n",
      "[6/7] Checking genome for large duplications...\n",
      "[7/7] Writing results...\n",
      "Run time: 0.0 seconds\n",
      "Peak mem: 1.36 GB\n",
      "\n",
      "CheckV v0.9.0: quality_summary\n",
      "[1/6] Reading input sequences...\n",
      "[2/6] Reading results from contamination module...\n",
      "[3/6] Reading results from completeness module...\n",
      "[4/6] Reading results from complete genomes module...\n",
      "[5/6] Classifying contigs into quality tiers...\n",
      "[6/6] Writing results...\n",
      "Run time: 0.0 seconds\n",
      "Peak mem: 1.36 GB\n"
     ]
    }
   ],
   "source": [
    "checkv end_to_end out_flye/assembly.fasta output_checkv"
   ]
  },
  {
   "cell_type": "markdown",
   "id": "4586b9e6-6123-45d4-acbc-3496b74b494d",
   "metadata": {},
   "source": [
    "**observe the different output files**\n",
    "\n",
    "Is there any interresting high-quality viral contig?"
   ]
  },
  {
   "cell_type": "markdown",
   "id": "4af993a3-081c-430c-ae15-5f6216b74d36",
   "metadata": {},
   "source": [
    "Contig_31 seems to be of high quality, viral and has a size of 6877 nucleotides."
   ]
  },
  {
   "cell_type": "markdown",
   "id": "0dcccf6f-5e34-48ad-8256-974751a3ac0a",
   "metadata": {},
   "source": [
    "### 1.3. Polishing of the meta-assembly:"
   ]
  },
  {
   "cell_type": "markdown",
   "id": "0bd19fb9-9a48-4eae-8036-81c978522771",
   "metadata": {},
   "source": [
    "Medaka is a tool to create a consensus sequence of nanopore sequencing data. This task is performed using neural networks applied a pileup of individual sequencing reads against a draft assembly. It outperforms graph-based methods operating on basecalled data, and can be competitive with state-of-the-art signal-based methods whilst being much faster.\n",
    "\n",
    "https://denbi-nanopore-training-course.readthedocs.io/en/latest/polishing/medaka/medaka.html"
   ]
  },
  {
   "cell_type": "code",
   "execution_count": 1,
   "id": "65dcfda4-7089-42e4-8487-46a7d75da008",
   "metadata": {},
   "outputs": [],
   "source": [
    "# create working repository\n",
    "mkdir -p ~/work/SG-ONT-2022/ASSEMBLY/MEDAKA\n",
    "cd ~/work/SG-ONT-2022/ASSEMBLY/MEDAKA"
   ]
  },
  {
   "cell_type": "code",
   "execution_count": 2,
   "id": "27390f5b-b437-454c-8b0f-6e14b633c644",
   "metadata": {},
   "outputs": [
    {
     "name": "stdout",
     "output_type": "stream",
     "text": [
      "\n",
      "medaka 1.6.1\n",
      "------------\n",
      "\n",
      "Assembly polishing via neural networks. Medaka is optimized\n",
      "to work with the Flye assembler.\n",
      "\n",
      "medaka_consensus [-h] -i <fastx> -d <fasta>\n",
      "\n",
      "    -h  show this help text.\n",
      "    -i  fastx input basecalls (required).\n",
      "    -d  fasta input assembly (required).\n",
      "    -o  output folder (default: medaka).\n",
      "    -g  don't fill gaps in consensus with draft sequence.\n",
      "    -m  medaka model, (default: r941_min_hac_g507).\n",
      "        Choices: r103_fast_g507 r103_hac_g507 r103_min_high_g345 r103_min_high_g360 r103_prom_high_g360 r103_sup_g507 r1041_e82_400bps_fast_g615 r1041_e82_400bps_hac_g615 r1041_e82_400bps_sup_g615 r104_e81_fast_g5015 r104_e81_hac_g5015 r104_e81_sup_g5015 r104_e81_sup_g610 r10_min_high_g303 r10_min_high_g340 r941_e81_fast_g514 r941_e81_hac_g514 r941_e81_sup_g514 r941_min_fast_g303 r941_min_fast_g507 r941_min_hac_g507 r941_min_high_g303 r941_min_high_g330 r941_min_high_g340_rle r941_min_high_g344 r941_min_high_g351 r941_min_high_g360 r941_min_sup_g507 r941_prom_fast_g303 r941_prom_fast_g507 r941_prom_hac_g507 r941_prom_high_g303 r941_prom_high_g330 r941_prom_high_g344 r941_prom_high_g360 r941_prom_high_g4011 r941_prom_sup_g507 r941_sup_plant_g610\n",
      "        Alternatively a .tar.gz/.hdf file from 'medaka train'.\n",
      "    -f  Force overwrite of outputs (default will reuse existing outputs).\n",
      "    -x  Force recreation of alignment index.\n",
      "    -t  number of threads with which to create features (default: 1).\n",
      "    -b  batchsize, controls memory use (default: 100).\n"
     ]
    }
   ],
   "source": [
    "medaka_consensus -h"
   ]
  },
  {
   "cell_type": "code",
   "execution_count": 3,
   "id": "441a5c42-b15f-43fc-b90f-f8eb0e329b93",
   "metadata": {},
   "outputs": [
    {
     "name": "stdout",
     "output_type": "stream",
     "text": [
      "(medaka) Checking program versions\n",
      "This is medaka 1.6.1\n",
      "Program    Version    Required   Pass     \n",
      "bcftools   1.15.1     1.11       True     \n",
      "bgzip      1.15.1     1.11       True     \n",
      "minimap2   2.24       2.11       True     \n",
      "samtools   1.15.1     1.11       True     \n",
      "tabix      1.15.1     1.11       True     \n",
      "Warning: Output medaka_polishing already exists, may use old results.\n",
      "Not aligning basecalls to draft, calls_to_draft.bam exists.\n",
      "Not running medaka consensus, consensus_probs.hdf exists.\n",
      "Consensus medaka_polishing/consensus.fasta exists, remove medaka_polishing and try again.\n",
      "(medaka) (base) "
     ]
    },
    {
     "ename": "",
     "evalue": "1",
     "output_type": "error",
     "traceback": []
    }
   ],
   "source": [
    "# can be a little long to run\n",
    "conda activate medaka\n",
    "medaka_consensus -i ../../CLEANING/reads_vs_ananas_unmapped.fastq -d ../FLYE/out_flye/assembly.fasta -m r941_prom_sup_g507 -o medaka_polishing\n",
    "conda deactivate"
   ]
  },
  {
   "cell_type": "markdown",
   "id": "76579a1b-2a6d-4035-b926-617c0b3e39af",
   "metadata": {},
   "source": [
    "### 1.4. Estimate the quality of the polished assembly:"
   ]
  },
  {
   "cell_type": "markdown",
   "id": "5c72fe80-6e1c-4cff-88ca-64bd36c522f8",
   "metadata": {},
   "source": [
    "#### 1.4.1. CheckV"
   ]
  },
  {
   "cell_type": "code",
   "execution_count": 4,
   "id": "ef5a6746-5186-4a46-8924-1cfb0067065c",
   "metadata": {},
   "outputs": [
    {
     "name": "stdout",
     "output_type": "stream",
     "text": [
      "(base) (base) (base) "
     ]
    },
    {
     "ename": "",
     "evalue": "1",
     "output_type": "error",
     "traceback": []
    }
   ],
   "source": [
    "# create working repository\n",
    "mkdir -p ~/work/SG-ONT-2022/ASSEMBLY/MEDAKA/checkv\n",
    "cd ~/work/SG-ONT-2022/ASSEMBLY/MEDAKA/checkv"
   ]
  },
  {
   "cell_type": "code",
   "execution_count": 5,
   "id": "03899267-bcf3-4ac4-a5ff-07ce699d58c8",
   "metadata": {},
   "outputs": [
    {
     "name": "stdout",
     "output_type": "stream",
     "text": [
      "(base) "
     ]
    },
    {
     "ename": "",
     "evalue": "1",
     "output_type": "error",
     "traceback": []
    }
   ],
   "source": [
    "export CHECKVDB=~/work/SG-ONT-2022/ASSEMBLY/FLYE/checkv-db-v1.2"
   ]
  },
  {
   "cell_type": "code",
   "execution_count": 6,
   "id": "0e640156-343d-408a-8c36-906e7946c811",
   "metadata": {},
   "outputs": [
    {
     "name": "stdout",
     "output_type": "stream",
     "text": [
      "\n",
      "CheckV v0.9.0: contamination\n",
      "[1/8] Reading database info...\n",
      "[2/8] Reading genome info...\n",
      "[3/8] Calling genes with Prodigal...\n",
      "[4/8] Reading gene info...\n",
      "[5/8] Running hmmsearch...\n",
      "[6/8] Annotating genes...\n",
      "[7/8] Identifying host regions...\n",
      "[8/8] Writing results...\n",
      "Run time: 79.28 seconds\n",
      "Peak mem: 0.22 GB\n",
      "\n",
      "CheckV v0.9.0: completeness\n",
      "[1/8] Skipping gene calling...\n",
      "[2/8] Initializing queries and database...\n",
      "[3/8] Running DIAMOND blastp search...\n",
      "[4/8] Computing AAI...\n",
      "[5/8] Running AAI based completeness estimation...\n",
      "[6/8] Running HMM based completeness estimation...\n",
      "[7/8] Determining genome copy number...\n",
      "[8/8] Writing results...\n",
      "Run time: 31.55 seconds\n",
      "Peak mem: 1.37 GB\n",
      "\n",
      "CheckV v0.9.0: complete_genomes\n",
      "[1/7] Reading input sequences...\n",
      "[2/7] Finding complete proviruses...\n",
      "[3/7] Finding direct/inverted terminal repeats...\n",
      "[4/7] Filtering terminal repeats...\n",
      "[5/7] Checking genome for completeness...\n",
      "[6/7] Checking genome for large duplications...\n",
      "[7/7] Writing results...\n",
      "Run time: 0.0 seconds\n",
      "Peak mem: 1.37 GB\n",
      "\n",
      "CheckV v0.9.0: quality_summary\n",
      "[1/6] Reading input sequences...\n",
      "[2/6] Reading results from contamination module...\n",
      "[3/6] Reading results from completeness module...\n",
      "[4/6] Reading results from complete genomes module...\n",
      "[5/6] Classifying contigs into quality tiers...\n",
      "[6/6] Writing results...\n",
      "Run time: 0.0 seconds\n",
      "Peak mem: 1.37 GB\n",
      "(base) "
     ]
    },
    {
     "ename": "",
     "evalue": "1",
     "output_type": "error",
     "traceback": []
    }
   ],
   "source": [
    "checkv end_to_end ../medaka_polishing/consensus.fasta output_checkv_polished"
   ]
  },
  {
   "cell_type": "markdown",
   "id": "c020b3dd-fc0d-4513-bce9-92de136920a5",
   "metadata": {},
   "source": [
    "Compare the output of checkv between polished assembly and non polished assembly ? Is there any differences ?"
   ]
  },
  {
   "cell_type": "markdown",
   "id": "e2c5b106-f79e-4d94-ade5-6cf433d8fc91",
   "metadata": {},
   "source": [
    "**What specie / genus of virus is contig_31?**"
   ]
  },
  {
   "cell_type": "markdown",
   "id": "2d1b1f00-03ea-4f15-a956-36f220800d39",
   "metadata": {},
   "source": [
    "### 1.3. Taxonomic assignation of contigs"
   ]
  },
  {
   "cell_type": "code",
   "execution_count": null,
   "id": "e233411d-3992-46ef-9f15-3770ef54eea4",
   "metadata": {},
   "outputs": [],
   "source": [
    "# create working repository\n",
    "mkdir -p ~/work/SG-ONT-2022/ASSEMBLY/DIAMOND\n",
    "cd ~/work/SG-ONT-2022/ASSEMBLY/DIAMOND"
   ]
  },
  {
   "cell_type": "markdown",
   "id": "b92ba1bf-341c-4848-a295-01c560dc4413",
   "metadata": {},
   "source": [
    "We are going to reuse the viral diamond database used in TP3"
   ]
  },
  {
   "cell_type": "code",
   "execution_count": null,
   "id": "efc5ecf5-b579-492e-b067-1d07852bd0e8",
   "metadata": {},
   "outputs": [],
   "source": [
    "#create a symbolic link of the diamond database\n",
    "ln -s ~/work/SG-ONT-2022/ASSIGNATION/DIAMOND/viral.dmnd viral.dmnd"
   ]
  },
  {
   "cell_type": "code",
   "execution_count": null,
   "id": "3d52be67-2db2-41b7-a771-aa17bce06b4c",
   "metadata": {},
   "outputs": [],
   "source": [
    "diamond blastx --quiet -d viral.dmnd --outfmt 6 stitle qtitle pident length mismatch gapopen qstart qend sstart send evalue bitscore -q ../MEDAKA/medaka_polishing/consensus.fasta -o diamond-matches.csv"
   ]
  },
  {
   "cell_type": "code",
   "execution_count": null,
   "id": "435c22ac-41e9-4270-a4ad-14b13c2ddd8f",
   "metadata": {},
   "outputs": [],
   "source": [
    "grep \"contig_31\" diamond-matches.csv"
   ]
  },
  {
   "cell_type": "markdown",
   "id": "ffce6ccc-35a6-47f3-bdab-fbc3b41d5469",
   "metadata": {},
   "source": [
    "Looks like contig_31 is a Vitivirus."
   ]
  },
  {
   "cell_type": "markdown",
   "id": "950c64d5-eb3d-48b4-b88f-9aec4e07125f",
   "metadata": {},
   "source": [
    "### 1.4. Visualise the coverage of the reads on contig 31"
   ]
  },
  {
   "cell_type": "markdown",
   "id": "d5190302-0342-44df-be7d-71e5cbc139c3",
   "metadata": {},
   "source": [
    "#### 1.4.1. Remapping of the reads on contig31"
   ]
  },
  {
   "cell_type": "code",
   "execution_count": null,
   "id": "1083b13a-1c97-487b-957a-8c6df5a1cec7",
   "metadata": {},
   "outputs": [],
   "source": [
    "mkdir -p ~/work/SG-ONT-2022/ASSEMBLY/CONTIG31\n",
    "cd  ~/work/SG-ONT-2022/ASSEMBLY/CONTIG31"
   ]
  },
  {
   "cell_type": "code",
   "execution_count": null,
   "id": "c719fb9d-2baa-4422-a77f-35204011b48d",
   "metadata": {},
   "outputs": [],
   "source": [
    "##extract contig31 from the multifasta file\n",
    "samtools faidx ../MEDAKA/medaka_polishing/consensus.fasta contig_31 > contig_31.fasta"
   ]
  },
  {
   "cell_type": "code",
   "execution_count": null,
   "id": "3ce67316-8872-4d1f-8821-632312fe4d42",
   "metadata": {},
   "outputs": [],
   "source": [
    "minimap2 -ax map-ont contig_31.fasta ../../CLEANING/reads_vs_ananas_unmapped.fastq > contig31_vs_reads.sam"
   ]
  },
  {
   "cell_type": "code",
   "execution_count": null,
   "id": "e921bb5c-e8f0-471d-b4b1-1c1cd34ec34d",
   "metadata": {},
   "outputs": [],
   "source": [
    "samtools flagstats contig31_vs_reads.sam"
   ]
  },
  {
   "cell_type": "code",
   "execution_count": null,
   "id": "c16d5b62-8a48-49af-99f2-1a927b0a8d46",
   "metadata": {},
   "outputs": [],
   "source": [
    "samtools view -b -S contig31_vs_reads.sam > contig31_vs_reads.bam"
   ]
  },
  {
   "cell_type": "code",
   "execution_count": null,
   "id": "1d4771db-8235-4c5c-8b15-9c6833a48fc1",
   "metadata": {},
   "outputs": [],
   "source": [
    "samtools sort contig31_vs_reads.bam -o contig31_vs_reads_sorted.bam"
   ]
  },
  {
   "cell_type": "code",
   "execution_count": null,
   "id": "57469cc8-ee4f-4b11-8d7e-ec1e1b8c4434",
   "metadata": {},
   "outputs": [],
   "source": [
    "samtools index contig31_vs_reads_sorted.bam"
   ]
  },
  {
   "cell_type": "code",
   "execution_count": null,
   "id": "777f8293-43d7-43c6-88fc-b32117c5e8da",
   "metadata": {},
   "outputs": [],
   "source": [
    "samtools coverage contig31_vs_reads_sorted.bam"
   ]
  },
  {
   "cell_type": "markdown",
   "id": "78fbde3b-c5fc-4725-9b45-2119d5bedbae",
   "metadata": {},
   "source": [
    "#### 1.4.2. Visualise the coverage / depht of the reads on the contig on TABLET"
   ]
  },
  {
   "cell_type": "markdown",
   "id": "9a180f3d-7285-45d7-92af-29c9069cbebe",
   "metadata": {},
   "source": [
    "- 1. Open tablet\n",
    "- 2. click on Open Assembly\n",
    "- 3. import the sorted bam as primary assembly and the contig_31.fasta as reference."
   ]
  },
  {
   "cell_type": "markdown",
   "id": "3a28cda8-f34c-48f4-af98-af8d0ba1511b",
   "metadata": {},
   "source": [
    "Explore the data"
   ]
  }
 ],
 "metadata": {
  "kernelspec": {
   "display_name": "Bash",
   "language": "bash",
   "name": "bash"
  },
  "language_info": {
   "codemirror_mode": "shell",
   "file_extension": ".sh",
   "mimetype": "text/x-sh",
   "name": "bash"
  }
 },
 "nbformat": 4,
 "nbformat_minor": 5
}
