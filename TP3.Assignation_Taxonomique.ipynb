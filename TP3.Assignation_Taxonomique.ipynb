{
 "cells": [
  {
   "cell_type": "markdown",
   "id": "b2d5f7c0-b781-4e48-b166-78c5a6c34878",
   "metadata": {},
   "source": [
    "# Formation 2022  \n",
    "\n",
    "##  Initiation à l’analyse de données Minion pour l'analyse de métagénome viraux\n",
    "\n",
    "Created by J. Orjuela (DIADE-IRD), D. Filloux (PHIM-CIRAD) and A. Comte (PHIM-IRD) and from a formation by J. Orjuela (DIADE-IRD), F. Sabot (DIADE-IRD) and G. Sarah (AGAP-INRAE) given in Septembre 2021\n",
    "\n",
    "Septembre 2022\n",
    "\n",
    "# TP3 : ASSIGNATION TAXONOMIQUE DES READS"
   ]
  },
  {
   "cell_type": "markdown",
   "id": "b32e58f2-ace6-4fbb-a3c6-c2a27f0eb302",
   "metadata": {},
   "source": [
    "Taxonomic assignment is the process of assigning an Operational Taxonomic Unit (OTUs, that is, groups of related individuals) to sequences, that can be reads or contigs. To assign an OTU to a sequence it is compared against a database, but this comparison can be done in different ways. The comparison database in this assignment process must be constructed using complete genomes. There are many programs for doing taxonomic mapping, almost all of them follows one of the next strategies:\n",
    "\n",
    "\n",
    "- BLAST: Using BLAST or DIAMOND, these mappers search for the most likely hit for each sequence within a database of genomes (i.e. mapping). This strategy is slow.\n",
    "\n",
    "- K-mers: A genome database is broken into pieces of length k, so as to be able to search for unique pieces by taxonomic group, from lowest common ancestor (LCA), passing through phylum to species. Then, the algorithm breaks the query sequence (reads, contigs) into pieces of length k, look for where these are placed within the tree and make the classification with the most probable position.\n",
    "\n",
    "- Markers: They look for markers of a database made a priori in the sequences to be classified and assign the taxonomy depending on the hits obtained.\n",
    "\n",
    "https://carpentries-incubator.github.io/metagenomics/06-taxonomic/index.html"
   ]
  },
  {
   "cell_type": "markdown",
   "id": "e5c863ba-d5eb-4cce-8377-d03e08e00264",
   "metadata": {},
   "source": [
    "## 1. Use Diamond for taxonomic assignation:"
   ]
  },
  {
   "cell_type": "markdown",
   "id": "3a776a02-ba37-4298-b14b-17e727832fc0",
   "metadata": {},
   "source": [
    "### 1.1. Download Genomic viral bank"
   ]
  },
  {
   "cell_type": "code",
   "execution_count": 1,
   "id": "199756fc-cd02-440d-aa64-31b964644fb1",
   "metadata": {},
   "outputs": [
    {
     "name": "stdout",
     "output_type": "stream",
     "text": [
      "mkdir: cannot create directory ‘/home/jovyan/work/SG-ONT-2022/ASSIGNATION/DIAMOND’: File exists\n"
     ]
    },
    {
     "ename": "",
     "evalue": "1",
     "output_type": "error",
     "traceback": []
    }
   ],
   "source": [
    "# create working repository\n",
    "mkdir ~/work/SG-ONT-2022/ASSIGNATION/DIAMOND"
   ]
  },
  {
   "cell_type": "code",
   "execution_count": 2,
   "id": "10096d00-8a64-4a1e-a57d-03501d00bd4c",
   "metadata": {},
   "outputs": [
    {
     "name": "stdout",
     "output_type": "stream",
     "text": [
      "/home/jovyan/work/SG-ONT-2022/ASSIGNATION/DIAMOND\n"
     ]
    }
   ],
   "source": [
    "# go inside repository\n",
    "cd ~/work/SG-ONT-2022/ASSIGNATION/DIAMOND\n",
    "pwd"
   ]
  },
  {
   "cell_type": "code",
   "execution_count": 3,
   "id": "ef8795bc-c28c-4d74-9782-ade9ec8e41a8",
   "metadata": {},
   "outputs": [
    {
     "name": "stdout",
     "output_type": "stream",
     "text": [
      "--2022-07-28 13:37:37--  https://itrop.ird.fr/ont-training-2022/viral.protein.faa\n",
      "Resolving itrop.ird.fr (itrop.ird.fr)... 91.203.35.184\n",
      "Connecting to itrop.ird.fr (itrop.ird.fr)|91.203.35.184|:443... connected.\n",
      "HTTP request sent, awaiting response... 304 Not Modified\n",
      "File ‘viral.protein.faa’ not modified on server. Omitting download.\n",
      "\n"
     ]
    }
   ],
   "source": [
    "# refseq viral database pre-dowloaded from ncbi (https://ftp.ncbi.nlm.nih.gov/refseq/release/viral/)\n",
    "wget --no-check-certificat -rm -nH --cut-dirs=1 --reject=\"index.html*\" https://itrop.ird.fr/ont-training-2022/viral.protein.faa"
   ]
  },
  {
   "cell_type": "markdown",
   "id": "dca9c541-2e2b-48fb-ac7d-90ae00aa3ad3",
   "metadata": {},
   "source": [
    "The database you use will determine the result you get for your data.\n",
    "\n",
    "You can customise it by adding organism to the fasta file used.\n",
    "\n",
    "Imagine you are searching for a lineage that was recently discovered and it is not part of the available databases. Would you find it?"
   ]
  },
  {
   "cell_type": "markdown",
   "id": "e274fde8-b59f-4c4c-9593-fe844b7a90fe",
   "metadata": {},
   "source": [
    "### 1.2. Create Diamond Database"
   ]
  },
  {
   "cell_type": "code",
   "execution_count": 4,
   "id": "6f40df53-dfd9-4cce-899d-1cf36a0adf80",
   "metadata": {},
   "outputs": [
    {
     "name": "stdout",
     "output_type": "stream",
     "text": [
      "diamond v2.0.15.153 (C) Max Planck Society for the Advancement of Science\n",
      "Documentation, support and updates available at http://www.diamondsearch.org\n",
      "Please cite: http://dx.doi.org/10.1038/s41592-021-01101-x Nature Methods (2021)\n",
      "\n",
      "#CPU threads: 8\n",
      "Scoring parameters: (Matrix=BLOSUM62 Lambda=0.267 K=0.041 Penalties=11/1)\n",
      "Database input file: viral.protein.faa\n",
      "Opening the database file...  [0s]\n",
      "Loading sequences...  [0.635s]\n",
      "Masking sequences...  [1.624s]\n",
      "Writing sequences...  [0.127s]\n",
      "Hashing sequences...  [0.055s]\n",
      "Loading sequences...  [0s]\n",
      "Writing trailer...  [0.007s]\n",
      "Closing the input file...  [0s]\n",
      "Closing the database file...  [0s]\n",
      "\n",
      "Database sequences  591092\n",
      "  Database letters  141537030\n",
      "     Database hash  53675924d8042f04d5477877c942426d\n",
      "        Total time  2.452000s\n"
     ]
    }
   ],
   "source": [
    "diamond makedb --in viral.protein.faa -d viral"
   ]
  },
  {
   "cell_type": "markdown",
   "id": "98783713-e50b-4e87-9ce0-ca0bc8d1ea3e",
   "metadata": {},
   "source": [
    "### 1.3. Lauch Diamond"
   ]
  },
  {
   "cell_type": "code",
   "execution_count": 7,
   "id": "117f7fc8-3868-42ca-8f05-58e95bc9da1f",
   "metadata": {},
   "outputs": [],
   "source": [
    "diamond blastx --quiet -d viral.dmnd --outfmt 6 stitle qtitle pident length mismatch gapopen qstart qend sstart send evalue bitscore -q ../../CLEANING/reads_vs_ananas_unmapped.fastq -o diamond-matches.csv"
   ]
  },
  {
   "cell_type": "code",
   "execution_count": 9,
   "id": "fd0b1c4a-2f34-4f84-b40e-c5a4025b66c4",
   "metadata": {},
   "outputs": [
    {
     "name": "stdout",
     "output_type": "stream",
     "text": [
      "   1434 YP_009352885.1 coat protein [Arracacha virus V]\n",
      "   1515 YP_009664759.1 coat protein [Actinidia virus A]\n",
      "   1529 YP_009389466.1 coat protein [Grapevine virus K]\n",
      "   1545 YP_009505636.1 capsid protein [Grapevine virus D]\n",
      "   1553 YP_009551970.1 Coat protein [Grapevine virus J]\n",
      "   2168 NP_619662.1 putative replicase [Grapevine virus A]\n",
      "   2235 YP_009465945.1 replicase [Grapevine virus I]\n",
      "   2282 YP_009551946.1 replicase [Grapevine virus G]\n",
      "   2284 YP_009552539.1 replicase [Grapevine virus G]\n",
      "   2290 YP_009352883.1 replicase [Arracacha virus V]\n",
      "   2314 YP_009552718.1 replicase [Blackberry virus A]\n",
      "   2330 YP_009551905.1 putative replicase [Grapevine virus H]\n",
      "   2334 YP_006590065.1 replicase [Grapevine virus F]\n",
      "   2455 YP_009664756.1 putative replicase, partial [Actinidia virus A]\n",
      "   2537 YP_002117775.1 replicase [Grapevine virus E]\n",
      "   2582 YP_009551967.1 Replicase [Grapevine virus J]\n",
      "   2702 YP_004935358.1 ORF1 gene product [Actinidia virus B]\n",
      "   2719 NP_619654.1 putative replicase [Grapevine virus B]\n",
      "   2737 YP_009389463.1 RNA-dependent RNA polymerase [Grapevine virus K]\n",
      "   2879 YP_009373228.1 RNA-dependent RNA polymerase [Agave tequilana leaf virus]\n"
     ]
    }
   ],
   "source": [
    "# observer les hits dans la database qui ont eu le plus de correspondance dans les données:\n",
    "awk -F '\\t' '{print $1}' diamond-matches.csv | sort | uniq -c | sort -n | tail -20"
   ]
  },
  {
   "cell_type": "markdown",
   "id": "a2b397e8-e212-4368-8669-e27fb7b7c773",
   "metadata": {},
   "source": [
    "Observe the csv file results and comment it."
   ]
  },
  {
   "cell_type": "markdown",
   "id": "6fa76383-60c9-4be9-b7cd-b9bcffc03180",
   "metadata": {},
   "source": [
    "## 2. Use KRAKEN2 for taxonomic assignation:"
   ]
  },
  {
   "cell_type": "markdown",
   "id": "cf761b67-a536-4c02-a99f-0f942e954780",
   "metadata": {},
   "source": [
    "Kraken is a taxonomic sequence classifier that assigns taxonomic labels to DNA sequences. Kraken examines the k-mers within a query sequence and uses the information within those k-mers to query a database. That database maps k-mers to the lowest common ancestor (LCA) of all genomes known to contain a given k-mer."
   ]
  },
  {
   "cell_type": "code",
   "execution_count": 19,
   "id": "ea1a0f3a-875f-4404-b33f-ff895dd8063b",
   "metadata": {},
   "outputs": [
    {
     "name": "stdout",
     "output_type": "stream",
     "text": [
      "Usage: kraken2 [options] <filename(s)>\n",
      "\n",
      "Options:\n",
      "  --db NAME               Name for Kraken 2 DB\n",
      "                          (default: none)\n",
      "  --threads NUM           Number of threads (default: 1)\n",
      "  --quick                 Quick operation (use first hit or hits)\n",
      "  --unclassified-out FILENAME\n",
      "                          Print unclassified sequences to filename\n",
      "  --classified-out FILENAME\n",
      "                          Print classified sequences to filename\n",
      "  --output FILENAME       Print output to filename (default: stdout); \"-\" will\n",
      "                          suppress normal output\n",
      "  --confidence FLOAT      Confidence score threshold (default: 0.0); must be\n",
      "                          in [0, 1].\n",
      "  --minimum-base-quality NUM\n",
      "                          Minimum base quality used in classification (def: 0,\n",
      "                          only effective with FASTQ input).\n",
      "  --report FILENAME       Print a report with aggregrate counts/clade to file\n",
      "  --use-mpa-style         With --report, format report output like Kraken 1's\n",
      "                          kraken-mpa-report\n",
      "  --report-zero-counts    With --report, report counts for ALL taxa, even if\n",
      "                          counts are zero\n",
      "  --report-minimizer-data With --report, report minimizer and distinct minimizer\n",
      "                          count information in addition to normal Kraken report\n",
      "  --memory-mapping        Avoids loading database into RAM\n",
      "  --paired                The filenames provided have paired-end reads\n",
      "  --use-names             Print scientific names instead of just taxids\n",
      "  --gzip-compressed       Input files are compressed with gzip\n",
      "  --bzip2-compressed      Input files are compressed with bzip2\n",
      "  --minimum-hit-groups NUM\n",
      "                          Minimum number of hit groups (overlapping k-mers\n",
      "                          sharing the same minimizer) needed to make a call\n",
      "                          (default: 2)\n",
      "  --help                  Print this message\n",
      "  --version               Print version information\n",
      "\n",
      "If none of the *-compressed flags are specified, and the filename provided\n",
      "is a regular file, automatic format detection is attempted.\n"
     ]
    }
   ],
   "source": [
    "kraken2 --help"
   ]
  },
  {
   "cell_type": "markdown",
   "id": "48defb1a-861e-4bc7-9f13-07c04760f951",
   "metadata": {},
   "source": [
    "### 2.1. Download a viral database"
   ]
  },
  {
   "cell_type": "markdown",
   "id": "bf3f16f9-67df-4a19-8ef7-995e73b25b13",
   "metadata": {},
   "source": [
    "For this TP we will download a pre-made simplified kraken database.\n",
    "\n",
    "MiniKraken DB_8GB (6.0 GB): A pre-built 8 GB database constructed from complete bacterial, archaeal, and viral genomes in RefSeq (as of Oct. 18, 2017). This can be used by users without the computational resources needed to build a Kraken database. This contains around 5% of kmers from the original standard database. \n",
    "It can be found here: https://ccb.jhu.edu/software/kraken/\n",
    "\n",
    "You can build your own custom Database (see https://github.com/DerrickWood/kraken2/wiki/Manual). However, it take a lot of ressources and time.\n"
   ]
  },
  {
   "cell_type": "code",
   "execution_count": 20,
   "id": "b1ca7def-c00f-4951-9a45-3abffe0df946",
   "metadata": {},
   "outputs": [
    {
     "name": "stdout",
     "output_type": "stream",
     "text": [
      "mkdir: cannot create directory ‘/home/jovyan/work/SG-ONT-2022/ASSIGNATION/KRAKEN’: File exists\n"
     ]
    },
    {
     "ename": "",
     "evalue": "1",
     "output_type": "error",
     "traceback": []
    }
   ],
   "source": [
    "# create working repository\n",
    "mkdir ~/work/SG-ONT-2022/ASSIGNATION/KRAKEN"
   ]
  },
  {
   "cell_type": "code",
   "execution_count": 21,
   "id": "baf42323-d42c-419c-820a-b74dbde17e55",
   "metadata": {},
   "outputs": [],
   "source": [
    "cd ~/work/SG-ONT-2022/ASSIGNATION/KRAKEN"
   ]
  },
  {
   "cell_type": "code",
   "execution_count": 22,
   "id": "93826b7c-abd5-4322-b0c9-f807325b14dd",
   "metadata": {},
   "outputs": [
    {
     "name": "stdout",
     "output_type": "stream",
     "text": [
      "--2022-07-28 15:07:43--  https://itrop.ird.fr/ont-training-2022/minikraken2_v2_8GB_201904.tgz\n",
      "Resolving itrop.ird.fr (itrop.ird.fr)... 91.203.35.184\n",
      "Connecting to itrop.ird.fr (itrop.ird.fr)|91.203.35.184|:443... connected.\n",
      "HTTP request sent, awaiting response... 200 OK\n",
      "Length: 5935990636 (5.5G) [application/x-gzip]\n",
      "Saving to: ‘minikraken2_v2_8GB_201904.tgz’\n",
      "\n",
      "minikraken2_v2_8GB_ 100%[===================>]   5.53G  55.6MB/s    in 1m 45s  \n",
      "\n",
      "2022-07-28 15:09:32 (53.9 MB/s) - ‘minikraken2_v2_8GB_201904.tgz’ saved [5935990636/5935990636]\n",
      "\n",
      "FINISHED --2022-07-28 15:09:32--\n",
      "Total wall clock time: 1m 49s\n",
      "Downloaded: 1 files, 5.5G in 1m 45s (53.9 MB/s)\n"
     ]
    }
   ],
   "source": [
    "wget --no-check-certificat -rm -nH --cut-dirs=1 --reject=\"index.html*\" https://itrop.ird.fr/ont-training-2022/minikraken2_v2_8GB_201904.tgz"
   ]
  },
  {
   "cell_type": "code",
   "execution_count": 23,
   "id": "3c184061-3e07-472d-af3a-8983b5abe765",
   "metadata": {},
   "outputs": [
    {
     "name": "stdout",
     "output_type": "stream",
     "text": [
      "minikraken2_v2_8GB_201904_UPDATE/\n",
      "minikraken2_v2_8GB_201904_UPDATE/taxo.k2d\n",
      "minikraken2_v2_8GB_201904_UPDATE/opts.k2d\n",
      "minikraken2_v2_8GB_201904_UPDATE/database100mers.kmer_distrib\n",
      "minikraken2_v2_8GB_201904_UPDATE/database150mers.kmer_distrib\n",
      "minikraken2_v2_8GB_201904_UPDATE/database200mers.kmer_distrib\n",
      "minikraken2_v2_8GB_201904_UPDATE/hash.k2d\n"
     ]
    }
   ],
   "source": [
    "#uncompress the database\n",
    "tar zxvf minikraken2_v2_8GB_201904.tgz"
   ]
  },
  {
   "cell_type": "code",
   "execution_count": 27,
   "id": "5060dc10-bea8-41f8-8692-9667f9b4a82c",
   "metadata": {},
   "outputs": [
    {
     "name": "stdout",
     "output_type": "stream",
     "text": [
      "# Database options: nucleotide db, k = 35, l = 31\n",
      "# Spaced mask = 11111111111111111111111111111111111111001100110011001100110011\n",
      "# Toggle mask = 1110001101111110001010001100010000100111000110110101101000101101\n",
      "# Total taxonomy nodes: 21114\n",
      "# Table size: 1399930605\n",
      "# Table capacity: 2000000000\n",
      "# Min clear hash value = 14207118309059100672\n",
      "100.00\t1399930605\t619083\tR\t1\troot\n",
      " 98.96\t1385354760\t72724\tR1\t131567\t  cellular organisms\n",
      " 83.11\t1163416379\t1025603\tD\t2\t    Bacteria\n",
      " 42.38\t593288710\t1473535\tP\t1224\t      Proteobacteria\n",
      " 20.38\t285373440\t759477\tC\t1236\t        Gammaproteobacteria\n",
      "  5.69\t79638023\t3551\tO\t72274\t          Pseudomonadales\n",
      "  4.72\t66079245\t52184\tF\t135621\t            Pseudomonadaceae\n",
      "  4.64\t64952993\t11121851\tG\t286\t              Pseudomonas\n"
     ]
    }
   ],
   "source": [
    "# Inspect the database content\n",
    "kraken2-inspect --db minikraken2_v2_8GB_201904_UPDATE/ | head -15"
   ]
  },
  {
   "cell_type": "markdown",
   "id": "105e0cc1-62d2-426d-9359-9cfa8e7d7b7f",
   "metadata": {},
   "source": [
    "### 2.2. run Kraken"
   ]
  },
  {
   "cell_type": "code",
   "execution_count": 33,
   "id": "6b7291e1-7477-484e-9583-4e220212b0ca",
   "metadata": {},
   "outputs": [
    {
     "name": "stdout",
     "output_type": "stream",
     "text": [
      "Loading database information... done.\n",
      "405689 sequences (173.94 Mbp) processed in 8.686s (2802.5 Kseq/m, 1201.58 Mbp/m).\n",
      "  203682 sequences classified (50.21%)\n",
      "  202007 sequences unclassified (49.79%)\n"
     ]
    }
   ],
   "source": [
    "kraken2 --db minikraken2_v2_8GB_201904_UPDATE/ ../../CLEANING/reads_vs_ananas_unmapped.fastq --report report.txt --report-minimizer-data --> output_kraken"
   ]
  },
  {
   "cell_type": "markdown",
   "id": "7df786ec-d0f6-4cfc-bffc-f2d47bd47c1b",
   "metadata": {},
   "source": [
    "**Standard Kraken Output Format**\n",
    "\n",
    "Each sequence (or sequence pair, in the case of paired reads) classified by Kraken 2 results in a single line of output. Kraken 2's output lines contain five tab-delimited fields; from left to right, they are:\n",
    "\n",
    "- \"C\"/\"U\": a one letter code indicating that the sequence was either classified or unclassified.\n",
    "\n",
    "- The sequence ID, obtained from the FASTA/FASTQ header.\n",
    "\n",
    "- The taxonomy ID Kraken 2 used to label the sequence; this is 0 if the sequence is unclassified.\n",
    "\n",
    "- The length of the sequence in bp. In the case of paired read data, this will be a string containing the lengths of the two sequences in bp, separated by a pipe character, e.g. \"98|94\".\n",
    "\n",
    "- A space-delimited list indicating the LCA mapping of each k-mer in the sequence(s). For example, \"562:13 561:4 A:31 0:1 562:3\" would indicate that:\n",
    "\n",
    "        - the first 13 k-mers mapped to taxonomy ID #562\n",
    "        - the next 4 k-mers mapped to taxonomy ID #561\n",
    "        - the next 31 k-mers contained an ambiguous nucleotide\n",
    "        - the next k-mer was not in the database\n",
    "        - the last 3 k-mers mapped to taxonomy ID #562\n"
   ]
  },
  {
   "cell_type": "code",
   "execution_count": 34,
   "id": "8b2768d9-81fe-4227-acf6-b90480d34913",
   "metadata": {},
   "outputs": [
    {
     "name": "stdout",
     "output_type": "stream",
     "text": [
      "C\t799ec77c-6555-4b9f-99a3-e58c9fbc1265\t1491\t335\t0:217 1491:4 0:21 1491:2 0:6 1491:5 0:16 1491:4 2:5 0:20 9606:1\n",
      "U\t37c0c305-d935-4b3b-b336-24b4c4c8021d\t0\t332\t0:56 9606:2 0:240\n",
      "U\t02df7f95-9bbe-4b55-9c8b-78955e3d9210\t0\t208\t0:174\n",
      "U\tb86266e6-4b84-4ed6-abde-302e336f6c24\t0\t429\t0:53 9606:5 0:337\n",
      "U\tb7f946d2-7f1d-492c-b187-3ebc0770a15c\t0\t292\t0:222 131567:2 0:34\n",
      "U\tc2615778-aa7c-4906-8c53-75cd9fa196f9\t0\t605\t0:571\n",
      "C\tb2388cec-c33d-4a6b-948f-4cb151194e5f\t1491\t417\t0:42 9606:1 0:230 1491:1 0:7 1491:2 0:14 1491:5 0:39 1491:1 1239:3 0:38\n",
      "U\t26f48c03-b0cd-485e-8e6e-6cd4d9be7b74\t0\t245\t0:211\n",
      "U\t515b1cfe-bfc5-4595-966f-ecf1c09a0b12\t0\t595\t0:561\n",
      "U\t97e06d49-a952-4adf-b223-8a721c1b48b7\t0\t253\t0:33 9606:2 0:184\n"
     ]
    }
   ],
   "source": [
    "head output_kraken"
   ]
  },
  {
   "cell_type": "markdown",
   "id": "56ef5567-2ffb-45aa-8526-9ceadc5987ad",
   "metadata": {},
   "source": [
    "**Report format output**\n",
    "\n",
    "The format with the --report-minimizer-data flag, then, is similar to that described in [Sample Report Output Format], but slightly different. The fields in this new format, from left-to-right, are:\n",
    "\n",
    "- 1. Percentage of fragments covered by the clade rooted at this taxon\n",
    "- 2. Number of fragments covered by the clade rooted at this taxon\n",
    "- 3. Number of fragments assigned directly to this taxon\n",
    "- 4. Number of minimizers in read data associated with this taxon (new)\n",
    "- 5. An estimate of the number of distinct minimizers in read data associated with this taxon (new)\n",
    "- 6. A rank code, indicating (U)nclassified, (R)oot, (D)omain, (K)ingdom, (P)hylum, (C)lass, (O)rder, (F)amily, (G)enus, or (S)pecies. Taxa that are not at any of these 10 ranks have a rank code that is formed by using the rank code of the closest ancestor rank with a number indicating the distance from that rank. E.g., \"G2\" is a rank code indicating a taxon is between genus and species and the grandparent taxon is at the genus rank.\n",
    "- 7. NCBI taxonomic ID number\n",
    "- 8. Indented scientific name\n"
   ]
  },
  {
   "cell_type": "code",
   "execution_count": 35,
   "id": "0cad11e4-ceaf-4d97-82a0-dbd2258bc292",
   "metadata": {},
   "outputs": [
    {
     "name": "stdout",
     "output_type": "stream",
     "text": [
      " 49.79\t202007\t202007\t0\t0\tU\t0\tunclassified\n",
      " 50.21\t203682\t28\t947662\t67684\tR\t1\troot\n",
      " 49.90\t202450\t2948\t939753\t67479\tR1\t131567\t  cellular organisms\n",
      " 25.40\t103035\t1620\t377485\t12155\tD\t2\t    Bacteria\n",
      " 24.08\t97708\t36\t285275\t3974\tD1\t1783272\t      Terrabacteria group\n",
      " 23.78\t96459\t58\t274867\t1165\tP\t1239\t        Firmicutes\n",
      " 23.72\t96240\t2\t270330\t429\tC\t186801\t          Clostridia\n",
      " 23.72\t96236\t15\t270287\t403\tO\t186802\t            Clostridiales\n",
      " 23.71\t96193\t1\t270102\t278\tF\t31979\t              Clostridiaceae\n",
      " 23.71\t96192\t20\t270080\t261\tG\t1485\t                Clostridium\n"
     ]
    }
   ],
   "source": [
    "head -10 report.txt"
   ]
  },
  {
   "cell_type": "markdown",
   "id": "59519266-b269-4bb4-ab56-c8f867d2fcca",
   "metadata": {},
   "source": [
    "## 3. Use KAIJU for taxonomic assignation:"
   ]
  },
  {
   "cell_type": "markdown",
   "id": "ab45d8ed-1055-45ae-ba31-ee9efa8b244a",
   "metadata": {},
   "source": [
    "Kaiju is a program for the taxonomic classification of high-throughput sequencing reads, e.g., Illumina or Roche/454, from whole-genome sequencing of metagenomic DNA. Reads are directly assigned to taxa using the NCBI taxonomy and a reference database of protein sequences from microbial and viral genomes.\n",
    "\n",
    "Kaiju can be also used via a web server. https://kaiju.binf.ku.dk/server"
   ]
  },
  {
   "cell_type": "code",
   "execution_count": 37,
   "id": "e12b3317-ed2e-47d5-882b-4e80be813031",
   "metadata": {},
   "outputs": [],
   "source": [
    "# create working repository\n",
    "mkdir ~/work/SG-ONT-2022/ASSIGNATION/KAIJU"
   ]
  },
  {
   "cell_type": "code",
   "execution_count": 39,
   "id": "975a9c0c-3c50-4ab2-ae8b-272ccb347bb8",
   "metadata": {},
   "outputs": [],
   "source": [
    "cd ~/work/SG-ONT-2022/ASSIGNATION/KAIJU"
   ]
  },
  {
   "cell_type": "markdown",
   "id": "f8a9b36e-456f-4de9-ac50-4d1ce064d801",
   "metadata": {},
   "source": [
    "### 3.1 Create Kaiju viruses database"
   ]
  },
  {
   "cell_type": "code",
   "execution_count": 40,
   "id": "6287e573-892f-4af1-b039-10851714c8ff",
   "metadata": {},
   "outputs": [
    {
     "name": "stdout",
     "output_type": "stream",
     "text": [
      "\u001b[0;32mDownloading taxdump.tar.gz\u001b[0m\n",
      ".listing                [ <=>                ]   1.76K  --.-KB/s    in 0s      \n",
      "2022-07-28 15:23:14 URL: ftp://ftp.ncbi.nlm.nih.gov/pub/taxonomy/taxdump.tar.gz [1800] -> \".listing\" [1]\n",
      "taxdump.tar.gz      100%[===================>]  55.90M  21.2MB/s    in 2.6s    \n",
      "2022-07-28 15:23:17 URL: ftp://ftp.ncbi.nlm.nih.gov/pub/taxonomy/taxdump.tar.gz [58613025] -> \"taxdump.tar.gz\" [1]\n",
      "\u001b[0;32mExtracting taxdump.tar.gz\u001b[0m\n",
      "Downloading virus genomes from RefSeq\n",
      "Extracting protein sequences from downloaded files\n",
      "Creating Borrows-Wheeler transform\n",
      "# infilename= viruses/kaiju_db_viruses.faa\n",
      "# outfilename= viruses/kaiju_db_viruses\n",
      "# Alphabet= ACDEFGHIKLMNPQRSTVWY\n",
      "# nThreads= 5\n",
      "# length= 0.000000\n",
      "# checkpoint= 3\n",
      "# caseSens=OFF\n",
      "# revComp=OFF\n",
      "# term= *\n",
      "# revsort=OFF\n",
      "# help=OFF\n",
      "Sequences read time = 0.628739s\n",
      "SLEN 145872300\n",
      "NSEQ 586242\n",
      "ALPH *ACDEFGHIKLMNPQRSTVWY\n",
      "SA NCHECK=1\n",
      "Sorting done,  time = 77.812180s\n",
      "Creating FM-Index\n",
      "# filenm= viruses/kaiju_db_viruses\n",
      "# removecmd= NULL (null)\n",
      "# help=OFF\n",
      "Reading BWT from file viruses/kaiju_db_viruses.bwt ... DONE\n",
      "BWT of length 140596112 has been read with 586242 sequencs, alphabet=*ACDEFGHIKLMNPQRSTVWY\n",
      "Reading suffix array from file viruses/kaiju_db_viruses.sa ... DONE\n",
      "Writing BWT header and SA to file  viruses/kaiju_db_viruses.fmi ... DONE\n",
      "Constructing FM index\n",
      "10% ... 20% ... 30% ... 40% ... 50% ... 60% ... 70% ... 80% ... 90% ... 100% ... index2 done ... \n",
      "DONE\n",
      "Writing FM index to file ... DONE\n",
      "\n",
      "  !!  You can now delete files viruses/kaiju_db_viruses.bwt and viruses/kaiju_db_viruses.sa  !!\n",
      "\n",
      "Done!\n",
      "Kaiju only needs the files viruses/kaiju_db_viruses.fmi, nodes.dmp, and names.dmp.\n",
      "The remaining files can be deleted.\n"
     ]
    }
   ],
   "source": [
    "kaiju-makedb -s viruses"
   ]
  },
  {
   "cell_type": "markdown",
   "id": "269e6369-5d81-4419-b988-595e34f13ef0",
   "metadata": {},
   "source": [
    "### 3.2 Launch Kaiju (a little bit long to run)"
   ]
  },
  {
   "cell_type": "code",
   "execution_count": 45,
   "id": "83fc918d-64e6-4942-8a6b-d9ac44505a3d",
   "metadata": {},
   "outputs": [
    {
     "name": "stdout",
     "output_type": "stream",
     "text": [
      "kaiju: invalid option -- '-'\n",
      "Kaiju 1.9.0\n",
      "Copyright 2015-2022 Peter Menzel, Anders Krogh\n",
      "License GPLv3+: GNU GPL version 3 or later <http://gnu.org/licenses/gpl.html>\n",
      "\n",
      "Usage:\n",
      "   kaiju -t nodes.dmp -f kaiju_db.fmi -i reads.fastq [-j reads2.fastq]\n",
      "\n",
      "Mandatory arguments:\n",
      "   -t FILENAME   Name of nodes.dmp file\n",
      "   -f FILENAME   Name of database (.fmi) file\n",
      "   -i FILENAME   Name of input file containing reads in FASTA or FASTQ format\n",
      "\n",
      "Optional arguments:\n",
      "   -j FILENAME   Name of second input file for paired-end reads\n",
      "   -o FILENAME   Name of output file. If not specified, output will be printed to STDOUT\n",
      "   -z INT        Number of parallel threads for classification (default: 1)\n",
      "   -a STRING     Run mode, either \"mem\"  or \"greedy\" (default: greedy)\n",
      "   -e INT        Number of mismatches allowed in Greedy mode (default: 3)\n",
      "   -m INT        Minimum match length (default: 11)\n",
      "   -s INT        Minimum match score in Greedy mode (default: 65)\n",
      "   -E FLOAT      Minimum E-value in Greedy mode (default: 0.01)\n",
      "   -x            Enable SEG low complexity filter (enabled by default)\n",
      "   -X            Disable SEG low complexity filter\n",
      "   -p            Input sequences are protein sequences\n",
      "   -v            Enable verbose output\n"
     ]
    },
    {
     "ename": "",
     "evalue": "1",
     "output_type": "error",
     "traceback": []
    }
   ],
   "source": [
    "kaiju --help"
   ]
  },
  {
   "cell_type": "code",
   "execution_count": 49,
   "id": "5733f4ef-ef71-4783-a5fd-55c71eef7d83",
   "metadata": {},
   "outputs": [
    {
     "name": "stdout",
     "output_type": "stream",
     "text": [
      "Parameters: \n",
      "  run mode: Greedy\n",
      "  minimum match length: 11\n",
      "  seed length: 7\n",
      "  minimum blosum62 score for matches: 65\n",
      "  minimum E-value: 0.01\n",
      "  max number of mismatches within a match: 3\n",
      "  input file 1: /home/jovyan/work/SG-ONT-2022/CLEANING/reads_vs_ananas_unmapped.fastq\n",
      "  output file: kaiju.out\n",
      "15:34:20 Reading database\n",
      " Reading taxonomic tree from file nodes.dmp\n",
      " Reading index from file viruses/kaiju_db_viruses.fmi\n",
      "15:34:21 Start classification using 1 threads.\n",
      "15:40:34 Finished.\n"
     ]
    }
   ],
   "source": [
    "kaiju -t nodes.dmp -f viruses/kaiju_db_viruses.fmi -i ~/work/SG-ONT-2022/CLEANING/reads_vs_ananas_unmapped.fastq -v -o kaiju.out"
   ]
  },
  {
   "cell_type": "markdown",
   "id": "a44cbbfd-29e6-448b-8fe9-82760372e58d",
   "metadata": {},
   "source": [
    "**output format**\n",
    "\n",
    "Kaiju will print one line for each read or read pair. The default output format contains three columns separated by tabs. Using the option -v enables the verbose output, which will print additional columns:\n",
    "\n",
    "- either C or U, indicating whether the read is classified or unclassified.\n",
    "- name of the read\n",
    "- NCBI taxon identifier of the assigned taxon\n",
    "- the length or score of the best match used for classification\n",
    "- the taxon identifiers of all database sequences with the best match\n",
    "- the accession numbers of all database sequences with the best match\n",
    "- matching fragment sequence(s)"
   ]
  },
  {
   "cell_type": "code",
   "execution_count": 50,
   "id": "738684d5-4360-4e4a-a63f-623f4b950a76",
   "metadata": {},
   "outputs": [
    {
     "name": "stdout",
     "output_type": "stream",
     "text": [
      "U\t799ec77c-6555-4b9f-99a3-e58c9fbc1265\t0\n",
      "U\t37c0c305-d935-4b3b-b336-24b4c4c8021d\t0\n",
      "U\t02df7f95-9bbe-4b55-9c8b-78955e3d9210\t0\n",
      "U\tb86266e6-4b84-4ed6-abde-302e336f6c24\t0\n",
      "U\tb7f946d2-7f1d-492c-b187-3ebc0770a15c\t0\n",
      "C\tc2615778-aa7c-4906-8c53-75cd9fa196f9\t136234\t440\t136234,\tYP_009664796.1,\tRTITFNTGGRKTMYGVYEGEEVRSYLNALTFRGEYISNVEGNRTDSATFSVSSDGILSVSVNGTLLKNDLVPSPPTVFSKNLEYLSNIEK,\n",
      "U\tb2388cec-c33d-4a6b-948f-4cb151194e5f\t0\n",
      "U\t26f48c03-b0cd-485e-8e6e-6cd4d9be7b74\t0\n",
      "U\t515b1cfe-bfc5-4595-966f-ecf1c09a0b12\t0\n",
      "U\t97e06d49-a952-4adf-b223-8a721c1b48b7\t0\n"
     ]
    }
   ],
   "source": [
    "head kaiju.out"
   ]
  },
  {
   "cell_type": "markdown",
   "id": "1494d2c6-946a-4a39-aa59-4b4f7d14870e",
   "metadata": {},
   "source": [
    "### 3.3. Adding taxa names to output file"
   ]
  },
  {
   "cell_type": "code",
   "execution_count": 53,
   "id": "113c0a62-633f-44a9-bdc8-ec6f75ec5bf8",
   "metadata": {},
   "outputs": [],
   "source": [
    "kaiju-addTaxonNames -t nodes.dmp -n names.dmp -i kaiju.out -o kaiju.names.out"
   ]
  },
  {
   "cell_type": "code",
   "execution_count": 54,
   "id": "eaef369b-4131-4dea-8266-6cc41688980f",
   "metadata": {},
   "outputs": [
    {
     "name": "stdout",
     "output_type": "stream",
     "text": [
      "U\t799ec77c-6555-4b9f-99a3-e58c9fbc1265\t0\n",
      "U\t37c0c305-d935-4b3b-b336-24b4c4c8021d\t0\n",
      "U\t02df7f95-9bbe-4b55-9c8b-78955e3d9210\t0\n",
      "U\tb86266e6-4b84-4ed6-abde-302e336f6c24\t0\n",
      "U\tb7f946d2-7f1d-492c-b187-3ebc0770a15c\t0\n",
      "C\tc2615778-aa7c-4906-8c53-75cd9fa196f9\t136234\t440\t136234,\tYP_009664796.1,\tRTITFNTGGRKTMYGVYEGEEVRSYLNALTFRGEYISNVEGNRTDSATFSVSSDGILSVSVNGTLLKNDLVPSPPTVFSKNLEYLSNIEK,\tPineapple mealybug wilt-associated virus 2\n",
      "U\tb2388cec-c33d-4a6b-948f-4cb151194e5f\t0\n",
      "U\t26f48c03-b0cd-485e-8e6e-6cd4d9be7b74\t0\n",
      "U\t515b1cfe-bfc5-4595-966f-ecf1c09a0b12\t0\n",
      "U\t97e06d49-a952-4adf-b223-8a721c1b48b7\t0\n"
     ]
    }
   ],
   "source": [
    "head kaiju.names.out"
   ]
  },
  {
   "cell_type": "markdown",
   "id": "987dd91e-894f-4322-84b5-d8c6ed0fe0a9",
   "metadata": {},
   "source": [
    "### 3.3 Creating input file for Krona"
   ]
  },
  {
   "cell_type": "code",
   "execution_count": 47,
   "id": "9d85da3d-7b89-4620-b829-87d0e5714890",
   "metadata": {},
   "outputs": [],
   "source": [
    "kaiju2krona -t nodes.dmp -n names.dmp -i kaiju.out -o kaiju.out.krona"
   ]
  },
  {
   "cell_type": "code",
   "execution_count": 48,
   "id": "4cdd474d-aec7-4c0a-a68d-17597b12b6f4",
   "metadata": {},
   "outputs": [
    {
     "name": "stdout",
     "output_type": "stream",
     "text": [
      "Writing kaiju.out.html...\n"
     ]
    }
   ],
   "source": [
    "ktImportText -o kaiju.out.html kaiju.out.krona"
   ]
  },
  {
   "cell_type": "markdown",
   "id": "bf6b689f-d3cf-485a-a445-d515488a0bfc",
   "metadata": {},
   "source": [
    "**Obeserve the results**\n",
    "\n",
    "Now open the HTML file by clicking on it on the left menu.\n",
    "\n",
    "If you have an error : \"Javascript must be enabled to view this page\", please click on \"trust HTML\".\n",
    "\n",
    "What can you see on this Krona?"
   ]
  }
 ],
 "metadata": {
  "kernelspec": {
   "display_name": "Bash",
   "language": "bash",
   "name": "bash"
  },
  "language_info": {
   "codemirror_mode": "shell",
   "file_extension": ".sh",
   "mimetype": "text/x-sh",
   "name": "bash"
  }
 },
 "nbformat": 4,
 "nbformat_minor": 5
}
