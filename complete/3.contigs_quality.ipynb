{
 "cells": [
  {
   "cell_type": "markdown",
   "id": "67552fbb",
   "metadata": {},
   "source": [
    "\n",
    "# <span style=\"color:#006E7F\">__Introduction to Oxford Nanopore Data Analysis__ <a class=\"anchor\"></span>  \n",
    "\n",
    "\n",
    "Created by J. Orjuela (DIADE-IRD), F. Sabot (DIADE-IRD) and G. Sarah (AGAP-INRAE) - Septembre 2021 Formation SouthGreen\n",
    "\n",
    "Adapted by J. Orjuela (DIADE-IRD), F. Sabot (DIADE-IRD) - Novembre 2022\n",
    "    \n",
    "Adapted by J. Orjuela (DIADE-IRD) - mai 2023\n"
   ]
  },
  {
   "cell_type": "markdown",
   "id": "689c1b2d",
   "metadata": {
    "tags": []
   },
   "source": [
    "# <span style=\"color:#006E7F\">__TP3 - CONTIGS QUALITY__ <a class=\"anchor\" id=\"data\"></span>  \n",
    "    \n",
    "# <span style=\"color: #4CACBC;\"> 1. Perform a comparison of assemblies using QUAST</span>  \n"
   ]
  },
  {
   "cell_type": "markdown",
   "id": "a778bfc9",
   "metadata": {},
   "source": [
    "The metrics of assemblies can be evaluated using a quality assessment tool such as [QUAST](http://quast.bioinf.spbau.ru/manual.html).\n",
    "\n",
    "In part 2, we have assembled raw data using various assemblers and also polished/corrected it. \n",
    "\n",
    "Aggregate all assemblies you have produced for your sample in a new folder named \"AGGREGATED\".\n",
    "\n",
    "We're going to compare it with QUAST."
   ]
  },
  {
   "cell_type": "markdown",
   "id": "42a53e55-fdb2-4cc4-a6b1-cf5cd8f34df3",
   "metadata": {},
   "source": [
    "### ⚠️ If you had some troubles with precedent assemblies ... "
   ]
  },
  {
   "cell_type": "markdown",
   "id": "56123148-66b6-473f-be4a-523395fada6b",
   "metadata": {},
   "source": [
    "if you had a problem, you can also download directly AGGREGATED directory from the distant server "
   ]
  },
  {
   "cell_type": "code",
   "execution_count": 4,
   "id": "3105ffe1-5b1a-442e-99a0-6b5d18a96d30",
   "metadata": {},
   "outputs": [
    {
     "name": "stdout",
     "output_type": "stream",
     "text": [
      "AGGREGATED/\n",
      "AGGREGATED/B8_RAVEN.fasta\n",
      "AGGREGATED/G11_FLYE.fasta\n",
      "AGGREGATED/G11_FLYE_MEDAKA.fasta\n",
      "AGGREGATED/G11_RAVEN.fasta\n",
      "AGGREGATED/4222_FLYE.fasta\n",
      "AGGREGATED/4222_RAVEN.fasta\n",
      "AGGREGATED/B8_FLYE_MEDAKA.fasta\n",
      "AGGREGATED/4222_FLYE_MEDAKA.fasta\n",
      "AGGREGATED/4222_RAVEN_MEDAKA.fasta\n",
      "AGGREGATED/B8_RAVEN_MEDAKA.fasta\n",
      "AGGREGATED/B8_FLYE.fasta\n",
      "AGGREGATED/G11_RAVEN_MEDAKA.fasta\n"
     ]
    }
   ],
   "source": [
    "cd ~/work/RESULTS/\n",
    "wget https://itrop.ird.fr/algae_data/AGGREGATED.tar.gz \n",
    "tar -xvf AGGREGATED.tar.gz"
   ]
  },
  {
   "cell_type": "markdown",
   "id": "ee1e9fc3-652e-4774-bf73-7597c43251b2",
   "metadata": {},
   "source": [
    "### ⚠️ if you want continue with your assemblies please ..."
   ]
  },
  {
   "cell_type": "code",
   "execution_count": null,
   "id": "e448eb4f-2e13-4ada-969a-08772c33dcdc",
   "metadata": {},
   "outputs": [],
   "source": [
    "mkdir -p ~/work/RESULTS/AGGREGATED\n",
    "cd ~/work/RESULTS/AGGREGATED"
   ]
  },
  {
   "cell_type": "markdown",
   "id": "fe6ac271-8998-45f7-b9b5-9ad9d6316a9b",
   "metadata": {},
   "source": [
    "### Order assemblies obtained in the samples "
   ]
  },
  {
   "cell_type": "markdown",
   "id": "eb3f3d31-7cb4-4968-bb13-46d685040d34",
   "metadata": {},
   "source": [
    "#### sample 4222"
   ]
  },
  {
   "cell_type": "code",
   "execution_count": null,
   "id": "2ab80ab6-6f8d-4d8e-849c-22952c64521c",
   "metadata": {},
   "outputs": [],
   "source": [
    "ln -s ~/work/RESULTS/4222_FLYE/assembly.fasta 4222_FLYE.fasta\n",
    "ln -s ~/work/RESULTS/4222_FLYE_MEDAKA/MEDAKA_CONSENSUS/consensus.fasta 4222_FLYE_MEDAKA.fasta\n",
    "ln -s ~/work/RESULTS/4222_RAVEN/assembly.fasta 4222_RAVEN.fasta\n",
    "ln -s ~/work/RESULTS/4222_RAVEN_MEDAKA/MEDAKA_CONSENSUS/consensus.fasta 4222_RAVEN_MEDAKA.fasta"
   ]
  },
  {
   "cell_type": "markdown",
   "id": "3c3a0ae8-4607-4d47-997a-110964d21109",
   "metadata": {},
   "source": [
    "#### sample B8"
   ]
  },
  {
   "cell_type": "code",
   "execution_count": null,
   "id": "76d945f6-7aac-4523-93f6-0587f409c7f5",
   "metadata": {},
   "outputs": [],
   "source": [
    "ln -s ~/work/RESULTS/B8_FLYE/assembly.fasta B8_FLYE.fasta\n",
    "ln -s ~/work/RESULTS/B8_FLYE_MEDAKA/MEDAKA_CONSENSUS/consensus.fasta B8_FLYE_MEDAKA.fasta\n",
    "ln -s ~/work/RESULTS/B8_RAVEN/assembly.fasta B8_RAVEN.fasta\n",
    "ln -s ~/work/RESULTS/B8_RAVEN_MEDAKA/MEDAKA_CONSENSUS/consensus.fasta B8_RAVEN_MEDAKA.fasta"
   ]
  },
  {
   "cell_type": "markdown",
   "id": "68d9b023-7941-4196-a4ca-598685cf3702",
   "metadata": {},
   "source": [
    "#### sample G11"
   ]
  },
  {
   "cell_type": "code",
   "execution_count": null,
   "id": "f253b4f7-6d62-49e5-afaf-b23329bb5592",
   "metadata": {},
   "outputs": [],
   "source": [
    "ln -s ~/work/RESULTS/G11_FLYE/assembly.fasta G11_FLYE.fasta\n",
    "ln -s ~/work/RESULTS/G11_FLYE_MEDAKA/MEDAKA_CONSENSUS/consensus.fasta G11_FLYE_MEDAKA.fasta\n",
    "ln -s ~/work/RESULTS/G11_RAVEN/assembly.fasta G11_RAVEN.fasta\n",
    "ln -s ~/work/RESULTS/G11_RAVEN_MEDAKA/MEDAKA_CONSENSUS/consensus.fasta G11_RAVEN_MEDAKA.fasta"
   ]
  },
  {
   "cell_type": "markdown",
   "id": "23b3e1ad-5a00-4ef4-a1ec-af4b64e5cb6f",
   "metadata": {},
   "source": [
    "#### check directory with symbolic links"
   ]
  },
  {
   "cell_type": "code",
   "execution_count": 5,
   "id": "14784ede-a468-49c9-9d07-4c56104401fd",
   "metadata": {},
   "outputs": [
    {
     "name": "stdout",
     "output_type": "stream",
     "text": [
      "total 212496\n",
      "-rw-r--r-- 1 jovyan users 23001099 May 25 22:41 4222_FLYE.fasta\n",
      "-rw-r--r-- 1 jovyan users 22633144 May 25 22:42 4222_FLYE_MEDAKA.fasta\n",
      "-rw-r--r-- 1 jovyan users 22289959 May 25 22:42 4222_RAVEN.fasta\n",
      "-rw-r--r-- 1 jovyan users 22382505 May 25 22:42 4222_RAVEN_MEDAKA.fasta\n",
      "-rw-r--r-- 1 jovyan users 15458726 May 25 22:42 B8_FLYE.fasta\n",
      "-rw-r--r-- 1 jovyan users 15204936 May 25 22:43 B8_FLYE_MEDAKA.fasta\n",
      "-rw-r--r-- 1 jovyan users 15005713 May 25 22:44 B8_RAVEN.fasta\n",
      "-rw-r--r-- 1 jovyan users 15095894 May 25 22:44 B8_RAVEN_MEDAKA.fasta\n",
      "-rw-r--r-- 1 jovyan users 15627449 May 25 22:44 G11_FLYE.fasta\n",
      "-rw-r--r-- 1 jovyan users 15370900 May 25 22:44 G11_FLYE_MEDAKA.fasta\n",
      "-rw-r--r-- 1 jovyan users 17694868 May 25 22:45 G11_RAVEN.fasta\n",
      "-rw-r--r-- 1 jovyan users 17802623 May 25 22:45 G11_RAVEN_MEDAKA.fasta\n"
     ]
    }
   ],
   "source": [
    "ls -l ~/work/RESULTS/AGGREGATED"
   ]
  },
  {
   "cell_type": "code",
   "execution_count": null,
   "id": "3bd749c0-17b4-494b-b5f3-ff1c0e6ec9f1",
   "metadata": {},
   "outputs": [],
   "source": []
  },
  {
   "cell_type": "code",
   "execution_count": null,
   "id": "02c6694f-39ab-4c15-a917-cba737e27a9c",
   "metadata": {},
   "outputs": [],
   "source": []
  },
  {
   "cell_type": "markdown",
   "id": "1a5ccbc0",
   "metadata": {},
   "source": [
    "### <span style=\"color: #4CACBD;\"> 1.1  Run QUAST on assemblies and compare them </span>"
   ]
  },
  {
   "cell_type": "code",
   "execution_count": 6,
   "id": "210bf799",
   "metadata": {
    "collapsed": true,
    "jupyter": {
     "outputs_hidden": true
    },
    "tags": []
   },
   "outputs": [
    {
     "name": "stdout",
     "output_type": "stream",
     "text": [
      "/opt/conda/envs/quast/bin/quast.py 4222_FLYE.fasta 4222_FLYE_MEDAKA.fasta 4222_RAVEN.fasta 4222_RAVEN_MEDAKA.fasta B8_FLYE.fasta B8_FLYE_MEDAKA.fasta B8_RAVEN.fasta B8_RAVEN_MEDAKA.fasta G11_FLYE.fasta G11_FLYE_MEDAKA.fasta G11_RAVEN.fasta G11_RAVEN_MEDAKA.fasta -o QUAST\n",
      "\n",
      "Version: 5.2.0\n",
      "\n",
      "System information:\n",
      "  OS: Linux-6.2.0-36-generic-x86_64-with-debian-bookworm-sid (linux_64)\n",
      "  Python version: 3.7.12\n",
      "  CPUs number: 20\n",
      "\n",
      "Started: 2023-11-01 22:28:34\n",
      "\n",
      "Logging to /home/jovyan/work/RESULTS/AGGREGATED/QUAST/quast.log\n",
      "NOTICE: Maximum number of threads is set to 5 (use --threads option to set it manually)\n",
      "\n",
      "CWD: /home/jovyan/work/RESULTS/AGGREGATED\n",
      "Main parameters: \n",
      "  MODE: default, threads: 5, min contig length: 500, min alignment length: 65, min alignment IDY: 95.0, \\\n",
      "  ambiguity: one, min local misassembly length: 200, min extensive misassembly length: 1000\n",
      "\n",
      "Contigs:\n",
      "  Pre-processing...\n",
      "  1  4222_FLYE.fasta ==> 4222_FLYE\n",
      "  2  4222_FLYE_MEDAKA.fasta ==> 4222_FLYE_MEDAKA\n",
      "  3  4222_RAVEN.fasta ==> 4222_RAVEN\n",
      "  4  4222_RAVEN_MEDAKA.fasta ==> 4222_RAVEN_MEDAKA\n",
      "  5  B8_FLYE.fasta ==> B8_FLYE\n",
      "  6  B8_FLYE_MEDAKA.fasta ==> B8_FLYE_MEDAKA\n",
      "  7  B8_RAVEN.fasta ==> B8_RAVEN\n",
      "  8  B8_RAVEN_MEDAKA.fasta ==> B8_RAVEN_MEDAKA\n",
      "  9  G11_FLYE.fasta ==> G11_FLYE\n",
      "  10 G11_FLYE_MEDAKA.fasta ==> G11_FLYE_MEDAKA\n",
      "  11 G11_RAVEN.fasta ==> G11_RAVEN\n",
      "  12 G11_RAVEN_MEDAKA.fasta ==> G11_RAVEN_MEDAKA\n",
      "\n",
      "2023-11-01 22:28:36\n",
      "Running Basic statistics processor...\n",
      "  Contig files: \n",
      "    1  4222_FLYE\n",
      "    2  4222_FLYE_MEDAKA\n",
      "    3  4222_RAVEN\n",
      "    4  4222_RAVEN_MEDAKA\n",
      "    5  B8_FLYE\n",
      "    6  B8_FLYE_MEDAKA\n",
      "    7  B8_RAVEN\n",
      "    8  B8_RAVEN_MEDAKA\n",
      "    9  G11_FLYE\n",
      "    10 G11_FLYE_MEDAKA\n",
      "    11 G11_RAVEN\n",
      "    12 G11_RAVEN_MEDAKA\n",
      "  Calculating N50 and L50...\n",
      "    1  4222_FLYE, N50 = 1016584, L50 = 6, auN = 1874961.0, Total length = 22623689, GC % = 45.79, # N's per 100 kbp =  0.00\n",
      "    2  4222_FLYE_MEDAKA, N50 = 1017143, L50 = 6, auN = 1874640.0, Total length = 22632780, GC % = 45.78, # N's per 100 kbp =  0.00\n",
      "    3  4222_RAVEN, N50 = 1005874, L50 = 6, auN = 1838527.9, Total length = 22289062, GC % = 45.73, # N's per 100 kbp =  0.00\n",
      "    4  4222_RAVEN_MEDAKA, N50 = 1010060, L50 = 6, auN = 1849280.8, Total length = 22382265, GC % = 45.75, # N's per 100 kbp =  0.00\n",
      "    5  B8_FLYE, N50 = 925038, L50 = 8, auN = 889005.3, Total length = 15205039, GC % = 48.04, # N's per 100 kbp =  0.00\n",
      "    6  B8_FLYE_MEDAKA, N50 = 924956, L50 = 8, auN = 888970.0, Total length = 15204656, GC % = 48.03, # N's per 100 kbp =  0.00\n",
      "    7  B8_RAVEN, N50 = 911393, L50 = 8, auN = 879287.5, Total length = 15004934, GC % = 47.84, # N's per 100 kbp =  0.00\n",
      "    8  B8_RAVEN_MEDAKA, N50 = 917313, L50 = 8, auN = 884613.3, Total length = 15095684, GC % = 47.89, # N's per 100 kbp =  0.00\n",
      "    9  G11_FLYE, N50 = 922911, L50 = 8, auN = 870768.7, Total length = 15370940, GC % = 47.97, # N's per 100 kbp =  0.00\n",
      "    10 G11_FLYE_MEDAKA, N50 = 922906, L50 = 8, auN = 870729.1, Total length = 15370559, GC % = 47.96, # N's per 100 kbp =  0.00\n",
      "    11 G11_RAVEN, N50 = 889797, L50 = 9, auN = 780157.2, Total length = 17692843, GC % = 47.42, # N's per 100 kbp =  0.00\n",
      "    12 G11_RAVEN_MEDAKA, N50 = 893165, L50 = 9, auN = 784180.7, Total length = 17802063, GC % = 47.41, # N's per 100 kbp =  0.00\n",
      "  Drawing Nx plot...\n",
      "    saved to /home/jovyan/work/RESULTS/AGGREGATED/QUAST/basic_stats/Nx_plot.pdf\n",
      "  Drawing cumulative plot...\n",
      "    saved to /home/jovyan/work/RESULTS/AGGREGATED/QUAST/basic_stats/cumulative_plot.pdf\n",
      "  Drawing GC content plot...\n",
      "    saved to /home/jovyan/work/RESULTS/AGGREGATED/QUAST/basic_stats/GC_content_plot.pdf\n",
      "  Drawing 4222_FLYE GC content plot...\n",
      "    saved to /home/jovyan/work/RESULTS/AGGREGATED/QUAST/basic_stats/4222_FLYE_GC_content_plot.pdf\n",
      "  Drawing 4222_FLYE_MEDAKA GC content plot...\n",
      "    saved to /home/jovyan/work/RESULTS/AGGREGATED/QUAST/basic_stats/4222_FLYE_MEDAKA_GC_content_plot.pdf\n",
      "  Drawing 4222_RAVEN GC content plot...\n",
      "    saved to /home/jovyan/work/RESULTS/AGGREGATED/QUAST/basic_stats/4222_RAVEN_GC_content_plot.pdf\n",
      "  Drawing 4222_RAVEN_MEDAKA GC content plot...\n",
      "    saved to /home/jovyan/work/RESULTS/AGGREGATED/QUAST/basic_stats/4222_RAVEN_MEDAKA_GC_content_plot.pdf\n",
      "  Drawing B8_FLYE GC content plot...\n",
      "    saved to /home/jovyan/work/RESULTS/AGGREGATED/QUAST/basic_stats/B8_FLYE_GC_content_plot.pdf\n",
      "  Drawing B8_FLYE_MEDAKA GC content plot...\n",
      "    saved to /home/jovyan/work/RESULTS/AGGREGATED/QUAST/basic_stats/B8_FLYE_MEDAKA_GC_content_plot.pdf\n",
      "  Drawing B8_RAVEN GC content plot...\n",
      "    saved to /home/jovyan/work/RESULTS/AGGREGATED/QUAST/basic_stats/B8_RAVEN_GC_content_plot.pdf\n",
      "  Drawing B8_RAVEN_MEDAKA GC content plot...\n",
      "    saved to /home/jovyan/work/RESULTS/AGGREGATED/QUAST/basic_stats/B8_RAVEN_MEDAKA_GC_content_plot.pdf\n",
      "  Drawing G11_FLYE GC content plot...\n",
      "    saved to /home/jovyan/work/RESULTS/AGGREGATED/QUAST/basic_stats/G11_FLYE_GC_content_plot.pdf\n",
      "  Drawing G11_FLYE_MEDAKA GC content plot...\n",
      "    saved to /home/jovyan/work/RESULTS/AGGREGATED/QUAST/basic_stats/G11_FLYE_MEDAKA_GC_content_plot.pdf\n",
      "  Drawing G11_RAVEN GC content plot...\n",
      "    saved to /home/jovyan/work/RESULTS/AGGREGATED/QUAST/basic_stats/G11_RAVEN_GC_content_plot.pdf\n",
      "  Drawing G11_RAVEN_MEDAKA GC content plot...\n",
      "    saved to /home/jovyan/work/RESULTS/AGGREGATED/QUAST/basic_stats/G11_RAVEN_MEDAKA_GC_content_plot.pdf\n",
      "Done.\n",
      "\n",
      "NOTICE: Genes are not predicted by default. Use --gene-finding or --glimmer option to enable it.\n",
      "\n",
      "2023-11-01 22:28:41\n",
      "Creating large visual summaries...\n",
      "This may take a while: press Ctrl-C to skip this step..\n",
      "  1 of 2: Creating PDF with all tables and plots...\n",
      "  2 of 2: Creating Icarus viewers...\n",
      "Done\n",
      "\n",
      "2023-11-01 22:28:43\n",
      "RESULTS:\n",
      "  Text versions of total report are saved to /home/jovyan/work/RESULTS/AGGREGATED/QUAST/report.txt, report.tsv, and report.tex\n",
      "  Text versions of transposed total report are saved to /home/jovyan/work/RESULTS/AGGREGATED/QUAST/transposed_report.txt, transposed_report.tsv, and transposed_report.tex\n",
      "  HTML version (interactive tables and plots) is saved to /home/jovyan/work/RESULTS/AGGREGATED/QUAST/report.html\n",
      "  PDF version (tables and plots) is saved to /home/jovyan/work/RESULTS/AGGREGATED/QUAST/report.pdf\n",
      "  Icarus (contig browser) is saved to /home/jovyan/work/RESULTS/AGGREGATED/QUAST/icarus.html\n",
      "  Log is saved to /home/jovyan/work/RESULTS/AGGREGATED/QUAST/quast.log\n",
      "\n",
      "Finished: 2023-11-01 22:28:43\n",
      "Elapsed time: 0:00:08.453283\n",
      "NOTICEs: 2; WARNINGs: 0; non-fatal ERRORs: 0\n",
      "\n",
      "Thank you for using QUAST!\n",
      "\n",
      "real\t0m8.755s\n",
      "user\t0m10.272s\n",
      "sys\t0m3.466s\n"
     ]
    }
   ],
   "source": [
    "cd ~/work/RESULTS/AGGREGATED/\n",
    "time quast.py *.fasta -o QUAST"
   ]
  },
  {
   "cell_type": "markdown",
   "id": "f251f7c9",
   "metadata": {},
   "source": [
    "#### Go to the QUAST directory and check the file content.\n",
    "\n",
    "#### Looking at the output statistics, what are the main differences between the assemblies?\n",
    "\n",
    "#### Look total sizes, number of contigs, N50 statistics.\n",
    "\n",
    "#### For each sample what is the best one ?"
   ]
  },
  {
   "cell_type": "markdown",
   "id": "e54cf5cb",
   "metadata": {},
   "source": [
    "### <span style=\"color: #4CACBD;\"> 1.2  Comparison of the assemblies against the reference genome of a closely organism </span>"
   ]
  },
  {
   "cell_type": "markdown",
   "id": "7f0309a7",
   "metadata": {},
   "source": [
    "It is possible to compare assemblies against a given reference genome of a closely related organism. \n",
    "\n",
    "Use corrected assemblies and compare it with the reference genome"
   ]
  },
  {
   "cell_type": "markdown",
   "id": "d86ff5c7",
   "metadata": {},
   "source": [
    "### Compare best algae assemblies against the reference sequence using QUAST\n",
    "\n",
    "create for that a QUAST_REF directory into the AGGREGATED one"
   ]
  },
  {
   "cell_type": "code",
   "execution_count": null,
   "id": "b1ca734f-d663-4f2f-856a-ca6ea02af627",
   "metadata": {},
   "outputs": [],
   "source": []
  },
  {
   "cell_type": "markdown",
   "id": "c482f4ba",
   "metadata": {
    "tags": []
   },
   "source": [
    "#### Which are the assemblies closest in size relative to the reference ?\n",
    "\n",
    "#### Does this have the largest N50 and fewest number of contigs?"
   ]
  },
  {
   "cell_type": "markdown",
   "id": "07ff361a",
   "metadata": {
    "tags": []
   },
   "source": [
    "#### Which assembly does obtain the best contiguity metrics?\n"
   ]
  },
  {
   "cell_type": "markdown",
   "id": "30db29bd",
   "metadata": {
    "tags": []
   },
   "source": [
    "## <span style=\"color: #4CACBD;\"> 2. Assessing gene space using BUSCO </span>\n"
   ]
  },
  {
   "cell_type": "markdown",
   "id": "ae690225",
   "metadata": {},
   "source": [
    "Benchmarking Universal Single-Copy Orthologs ([BUSCO](https://busco.ezlab.org/busco_userguide.html)) helps to check if you have a good assembly at the genic level, by searching the expected single-copy lineage-conserved orthologs in any newly-sequenced genome from an appropriate phylogenetic clade."
   ]
  },
  {
   "cell_type": "markdown",
   "id": "84bbbda5",
   "metadata": {},
   "source": [
    "Calculate the gene space completion for each assembly"
   ]
  },
  {
   "cell_type": "code",
   "execution_count": 7,
   "id": "ed5fd510",
   "metadata": {
    "tags": []
   },
   "outputs": [],
   "source": [
    "mkdir -p ~/work/RESULTS/AGGREGATED/BUSCO\n",
    "cd ~/work/RESULTS/AGGREGATED/BUSCO"
   ]
  },
  {
   "cell_type": "markdown",
   "id": "40200c0c",
   "metadata": {},
   "source": [
    "Lineage can be choose in busco database using --list-datasets parameter"
   ]
  },
  {
   "cell_type": "code",
   "execution_count": 8,
   "id": "4851997d",
   "metadata": {
    "tags": []
   },
   "outputs": [],
   "source": [
    "# busco env\n",
    "conda activate busco"
   ]
  },
  {
   "cell_type": "code",
   "execution_count": 9,
   "id": "7d69a0fd-5301-4237-95d1-bc670dbdbfc3",
   "metadata": {
    "collapsed": true,
    "jupyter": {
     "outputs_hidden": true
    }
   },
   "outputs": [
    {
     "name": "stdout",
     "output_type": "stream",
     "text": [
      "2023-11-01 22:29:17 INFO:\tDownloading information on latest versions of BUSCO data...\n",
      "2023-11-01 22:29:19 INFO:\tDownloading file 'https://busco-data.ezlab.org/v5/data/information/lineages_list.2021-12-14.txt.tar.gz'\n",
      "2023-11-01 22:29:20 INFO:\tDecompressing file '/home/jovyan/work/RESULTS/AGGREGATED/BUSCO/busco_downloads/information/lineages_list.2021-12-14.txt.tar.gz'\n",
      "\n",
      "################################################\n",
      "\n",
      "Datasets available to be used with BUSCO v4 and v5:\n",
      "\n",
      " bacteria_odb10\n",
      "     - acidobacteria_odb10\n",
      "     - actinobacteria_phylum_odb10\n",
      "         - actinobacteria_class_odb10\n",
      "             - corynebacteriales_odb10\n",
      "             - micrococcales_odb10\n",
      "             - propionibacteriales_odb10\n",
      "             - streptomycetales_odb10\n",
      "             - streptosporangiales_odb10\n",
      "         - coriobacteriia_odb10\n",
      "             - coriobacteriales_odb10\n",
      "     - aquificae_odb10\n",
      "     - bacteroidetes-chlorobi_group_odb10\n",
      "         - bacteroidetes_odb10\n",
      "             - bacteroidia_odb10\n",
      "                 - bacteroidales_odb10\n",
      "             - cytophagia_odb10\n",
      "                 - cytophagales_odb10\n",
      "             - flavobacteriia_odb10\n",
      "                 - flavobacteriales_odb10\n",
      "             - sphingobacteriia_odb10\n",
      "         - chlorobi_odb10\n",
      "     - chlamydiae_odb10\n",
      "     - chloroflexi_odb10\n",
      "     - cyanobacteria_odb10\n",
      "         - chroococcales_odb10\n",
      "         - nostocales_odb10\n",
      "         - oscillatoriales_odb10\n",
      "         - synechococcales_odb10\n",
      "     - firmicutes_odb10\n",
      "         - bacilli_odb10\n",
      "             - bacillales_odb10\n",
      "             - lactobacillales_odb10\n",
      "         - clostridia_odb10\n",
      "             - clostridiales_odb10\n",
      "             - thermoanaerobacterales_odb10\n",
      "         - selenomonadales_odb10\n",
      "         - tissierellia_odb10\n",
      "             - tissierellales_odb10\n",
      "     - fusobacteria_odb10\n",
      "         - fusobacteriales_odb10\n",
      "     - planctomycetes_odb10\n",
      "     - proteobacteria_odb10\n",
      "         - alphaproteobacteria_odb10\n",
      "             - rhizobiales_odb10\n",
      "                 - rhizobium-agrobacterium_group_odb10\n",
      "             - rhodobacterales_odb10\n",
      "             - rhodospirillales_odb10\n",
      "             - rickettsiales_odb10\n",
      "             - sphingomonadales_odb10\n",
      "         - betaproteobacteria_odb10\n",
      "             - burkholderiales_odb10\n",
      "             - neisseriales_odb10\n",
      "             - nitrosomonadales_odb10\n",
      "         - delta-epsilon-subdivisions_odb10\n",
      "             - deltaproteobacteria_odb10\n",
      "                 - desulfobacterales_odb10\n",
      "                 - desulfovibrionales_odb10\n",
      "                 - desulfuromonadales_odb10\n",
      "             - epsilonproteobacteria_odb10\n",
      "                 - campylobacterales_odb10\n",
      "         - gammaproteobacteria_odb10\n",
      "             - alteromonadales_odb10\n",
      "             - cellvibrionales_odb10\n",
      "             - chromatiales_odb10\n",
      "             - enterobacterales_odb10\n",
      "             - legionellales_odb10\n",
      "             - oceanospirillales_odb10\n",
      "             - pasteurellales_odb10\n",
      "             - pseudomonadales_odb10\n",
      "             - thiotrichales_odb10\n",
      "             - vibrionales_odb10\n",
      "             - xanthomonadales_odb10\n",
      "     - spirochaetes_odb10\n",
      "         - spirochaetia_odb10\n",
      "             - spirochaetales_odb10\n",
      "     - synergistetes_odb10\n",
      "     - tenericutes_odb10\n",
      "         - mollicutes_odb10\n",
      "             - entomoplasmatales_odb10\n",
      "             - mycoplasmatales_odb10\n",
      "     - thermotogae_odb10\n",
      "     - verrucomicrobia_odb10\n",
      " archaea_odb10\n",
      "     - thaumarchaeota_odb10\n",
      "     - thermoprotei_odb10\n",
      "         - thermoproteales_odb10\n",
      "         - sulfolobales_odb10\n",
      "         - desulfurococcales_odb10\n",
      "     - euryarchaeota_odb10\n",
      "         - thermoplasmata_odb10\n",
      "         - methanococcales_odb10\n",
      "         - methanobacteria_odb10\n",
      "         - methanomicrobia_odb10\n",
      "             - methanomicrobiales_odb10\n",
      "         - halobacteria_odb10\n",
      "             - halobacteriales_odb10\n",
      "             - natrialbales_odb10\n",
      "             - haloferacales_odb10\n",
      " eukaryota_odb10\n",
      "     - alveolata_odb10\n",
      "         - apicomplexa_odb10\n",
      "             - aconoidasida_odb10\n",
      "                 - plasmodium_odb10\n",
      "             - coccidia_odb10\n",
      "     - euglenozoa_odb10\n",
      "     - fungi_odb10\n",
      "         - ascomycota_odb10\n",
      "             - dothideomycetes_odb10\n",
      "                 - capnodiales_odb10\n",
      "                 - pleosporales_odb10\n",
      "             - eurotiomycetes_odb10\n",
      "                 - chaetothyriales_odb10\n",
      "                 - eurotiales_odb10\n",
      "                 - onygenales_odb10\n",
      "             - leotiomycetes_odb10\n",
      "                 - helotiales_odb10\n",
      "             - saccharomycetes_odb10\n",
      "             - sordariomycetes_odb10\n",
      "                 - glomerellales_odb10\n",
      "                 - hypocreales_odb10\n",
      "         - basidiomycota_odb10\n",
      "             - agaricomycetes_odb10\n",
      "                 - agaricales_odb10\n",
      "                 - boletales_odb10\n",
      "                 - polyporales_odb10\n",
      "             - tremellomycetes_odb10\n",
      "         - microsporidia_odb10\n",
      "         - mucoromycota_odb10\n",
      "             - mucorales_odb10\n",
      "     - metazoa_odb10\n",
      "         - arthropoda_odb10\n",
      "             - arachnida_odb10\n",
      "             - insecta_odb10\n",
      "                 - endopterygota_odb10\n",
      "                     - diptera_odb10\n",
      "                     - hymenoptera_odb10\n",
      "                     - lepidoptera_odb10\n",
      "                 - hemiptera_odb10\n",
      "         - mollusca_odb10\n",
      "         - nematoda_odb10\n",
      "         - vertebrata_odb10\n",
      "             - actinopterygii_odb10\n",
      "                 - cyprinodontiformes_odb10\n",
      "             - tetrapoda_odb10\n",
      "                 - mammalia_odb10\n",
      "                     - eutheria_odb10\n",
      "                         - euarchontoglires_odb10\n",
      "                             - glires_odb10\n",
      "                             - primates_odb10\n",
      "                         - laurasiatheria_odb10\n",
      "                             - carnivora_odb10\n",
      "                             - cetartiodactyla_odb10\n",
      "                 - sauropsida_odb10\n",
      "                     - aves_odb10\n",
      "                         - passeriformes_odb10\n",
      "     - stramenopiles_odb10\n",
      "     - viridiplantae_odb10\n",
      "         - chlorophyta_odb10\n",
      "         - embryophyta_odb10\n",
      "             - liliopsida_odb10\n",
      "                 - poales_odb10\n",
      "             - eudicots_odb10\n",
      "                 - brassicales_odb10\n",
      "                 - fabales_odb10\n",
      "                 - solanales_odb10\n",
      " viruses (no root dataset)\n",
      "     - alphaherpesvirinae_odb10\n",
      "     - baculoviridae_odb10\n",
      "     - rudiviridae_odb10\n",
      "     - betaherpesvirinae_odb10\n",
      "     - herpesviridae_odb10\n",
      "     - poxviridae_odb10\n",
      "     - tevenvirinae_odb10\n",
      "     - aviadenovirus_odb10\n",
      "     - enquatrovirus_odb10\n",
      "     - teseptimavirus_odb10\n",
      "     - bclasvirinae_odb10\n",
      "     - fromanvirus_odb10\n",
      "     - skunavirus_odb10\n",
      "     - betabaculovirus_odb10\n",
      "     - pahexavirus_odb10\n",
      "     - alphabaculovirus_odb10\n",
      "     - tunavirinae_odb10\n",
      "     - simplexvirus_odb10\n",
      "     - gammaherpesvirinae_odb10\n",
      "     - varicellovirus_odb10\n",
      "     - cheoctovirus_odb10\n",
      "     - guernseyvirinae_odb10\n",
      "     - tequatrovirus_odb10\n",
      "     - chordopoxvirinae_odb10\n",
      "     - peduovirus_odb10\n",
      "     - iridoviridae_odb10\n",
      "     - spounavirinae_odb10\n",
      "\n"
     ]
    }
   ],
   "source": [
    "busco --list-datasets"
   ]
  },
  {
   "cell_type": "code",
   "execution_count": 10,
   "id": "f870bc44",
   "metadata": {
    "tags": []
   },
   "outputs": [
    {
     "name": "stdout",
     "output_type": "stream",
     "text": [
      "2023-11-01 22:29:20 INFO:\t***** Start a BUSCO v5.5.0 analysis, current time: 11/01/2023 22:29:20 *****\n",
      "2023-11-01 22:29:20 INFO:\tConfiguring BUSCO with local environment\n",
      "2023-11-01 22:29:20 INFO:\tMode is genome\n",
      "2023-11-01 22:29:20 INFO:\tDownloading information on latest versions of BUSCO data...\n",
      "2023-11-01 22:29:23 INFO:\tInput file is /home/jovyan/work/RESULTS/AGGREGATED/4222_FLYE_MEDAKA.fasta\n",
      "2023-11-01 22:29:23 INFO:\tDownloading file 'https://busco-data.ezlab.org/v5/data/lineages/chlorophyta_odb10.2020-08-05.tar.gz'\n",
      "2023-11-01 22:29:27 INFO:\tDecompressing file '/home/jovyan/work/RESULTS/AGGREGATED/BUSCO/busco_downloads/lineages/chlorophyta_odb10.tar.gz'\n",
      "2023-11-01 22:29:28 INFO:\tRunning BUSCO using lineage dataset chlorophyta_odb10 (eukaryota, 2020-08-05)\n",
      "2023-11-01 22:29:28 INFO:\tRunning 1 job(s) on bbtools, starting at 11/01/2023 22:29:28\n",
      "2023-11-01 22:29:29 INFO:\t[bbtools]\t1 of 1 task(s) completed\n",
      "2023-11-01 22:29:29 INFO:\tRunning 1 job(s) on metaeuk, starting at 11/01/2023 22:29:29\n",
      "2023-11-01 22:29:46 INFO:\t[metaeuk]\t1 of 1 task(s) completed\n",
      "2023-11-01 22:29:47 INFO:\t***** Run HMMER on gene sequences *****\n",
      "2023-11-01 22:29:47 INFO:\tRunning 1519 job(s) on hmmsearch, starting at 11/01/2023 22:29:47\n",
      "2023-11-01 22:29:48 INFO:\t[hmmsearch]\t152 of 1519 task(s) completed\n",
      "2023-11-01 22:29:49 INFO:\t[hmmsearch]\t304 of 1519 task(s) completed\n",
      "2023-11-01 22:29:51 INFO:\t[hmmsearch]\t456 of 1519 task(s) completed\n",
      "2023-11-01 22:29:52 INFO:\t[hmmsearch]\t608 of 1519 task(s) completed\n",
      "2023-11-01 22:29:53 INFO:\t[hmmsearch]\t760 of 1519 task(s) completed\n",
      "2023-11-01 22:29:53 INFO:\t[hmmsearch]\t912 of 1519 task(s) completed\n",
      "2023-11-01 22:29:54 INFO:\t[hmmsearch]\t1064 of 1519 task(s) completed\n",
      "2023-11-01 22:29:55 INFO:\t[hmmsearch]\t1216 of 1519 task(s) completed\n",
      "2023-11-01 22:29:55 INFO:\t[hmmsearch]\t1368 of 1519 task(s) completed\n",
      "2023-11-01 22:29:57 INFO:\t[hmmsearch]\t1519 of 1519 task(s) completed\n",
      "2023-11-01 22:30:02 INFO:\tValidating exons and removing overlapping matches\n",
      "2023-11-01 22:30:04 INFO:\t0 candidate overlapping regions found\n",
      "2023-11-01 22:30:04 INFO:\t2705 exons in total\n",
      "2023-11-01 22:30:04 INFO:\tExtracting missing and fragmented buscos from the file refseq_db.faa...\n",
      "2023-11-01 22:30:04 INFO:\tRunning 1 job(s) on metaeuk, starting at 11/01/2023 22:30:04\n",
      "2023-11-01 22:30:41 INFO:\t[metaeuk]\t1 of 1 task(s) completed\n",
      "2023-11-01 22:30:43 INFO:\t***** Run HMMER on gene sequences *****\n",
      "2023-11-01 22:30:43 INFO:\tRunning 257 job(s) on hmmsearch, starting at 11/01/2023 22:30:43\n",
      "2023-11-01 22:30:43 INFO:\t[hmmsearch]\t26 of 257 task(s) completed\n",
      "2023-11-01 22:30:43 INFO:\t[hmmsearch]\t52 of 257 task(s) completed\n",
      "2023-11-01 22:30:44 INFO:\t[hmmsearch]\t78 of 257 task(s) completed\n",
      "2023-11-01 22:30:44 INFO:\t[hmmsearch]\t103 of 257 task(s) completed\n",
      "2023-11-01 22:30:44 INFO:\t[hmmsearch]\t129 of 257 task(s) completed\n",
      "2023-11-01 22:30:44 INFO:\t[hmmsearch]\t155 of 257 task(s) completed\n",
      "2023-11-01 22:30:44 INFO:\t[hmmsearch]\t180 of 257 task(s) completed\n",
      "2023-11-01 22:30:44 INFO:\t[hmmsearch]\t206 of 257 task(s) completed\n",
      "2023-11-01 22:30:44 INFO:\t[hmmsearch]\t232 of 257 task(s) completed\n",
      "2023-11-01 22:30:45 INFO:\t[hmmsearch]\t257 of 257 task(s) completed\n",
      "2023-11-01 22:30:50 INFO:\tValidating exons and removing overlapping matches\n",
      "2023-11-01 22:30:51 INFO:\t0 candidate overlapping regions found\n",
      "2023-11-01 22:30:51 INFO:\t2409 exons in total\n",
      "2023-11-01 22:30:51 INFO:\tResults:\tC:87.5%[S:84.5%,D:3.0%],F:6.5%,M:6.0%,n:1519\t   \n",
      "\n",
      "2023-11-01 22:30:51 INFO:\t\n",
      "\n",
      "\t---------------------------------------------------\n",
      "\t|Results from dataset chlorophyta_odb10            |\n",
      "\t---------------------------------------------------\n",
      "\t|C:87.5%[S:84.5%,D:3.0%],F:6.5%,M:6.0%,n:1519      |\n",
      "\t|1329\tComplete BUSCOs (C)                        |\n",
      "\t|1284\tComplete and single-copy BUSCOs (S)        |\n",
      "\t|45\tComplete and duplicated BUSCOs (D)         |\n",
      "\t|98\tFragmented BUSCOs (F)                      |\n",
      "\t|92\tMissing BUSCOs (M)                         |\n",
      "\t|1519\tTotal BUSCO groups searched                |\n",
      "\t---------------------------------------------------\n",
      "2023-11-01 22:30:51 INFO:\tBUSCO analysis done. Total running time: 88 seconds\n",
      "2023-11-01 22:30:51 INFO:\tResults written in /home/jovyan/work/RESULTS/AGGREGATED/BUSCO/4222_FLYE_MEDAKA_BUSCO\n",
      "2023-11-01 22:30:51 INFO:\tFor assistance with interpreting the results, please consult the userguide: https://busco.ezlab.org/busco_userguide.html\n",
      "\n",
      "2023-11-01 22:30:51 INFO:\tVisit this page https://gitlab.com/ezlab/busco#how-to-cite-busco to see how to cite BUSCO\n"
     ]
    }
   ],
   "source": [
    "ASSEMBLY=\"/home/jovyan/work/RESULTS/AGGREGATED/4222_FLYE_MEDAKA.fasta\"\n",
    "LINEAGE=chlorophyta_odb10\n",
    "busco -i \"$ASSEMBLY\" -l \"$LINEAGE\" -c \"${CPUS:-8}\" -m genome -o 4222_FLYE_MEDAKA_BUSCO \n",
    "# deactivate busco env\n",
    "conda deactivate"
   ]
  },
  {
   "cell_type": "code",
   "execution_count": null,
   "id": "9b8d4bcb-0430-4730-90dd-454159abfa49",
   "metadata": {},
   "outputs": [],
   "source": []
  },
  {
   "cell_type": "markdown",
   "id": "0b7b858a",
   "metadata": {
    "tags": []
   },
   "source": [
    "### What does the gene space look like for this assembly?"
   ]
  },
  {
   "cell_type": "markdown",
   "id": "0c9cbb00-d2d4-4d53-8523-20b9770e9c95",
   "metadata": {},
   "source": [
    "### Run BUSCO for the best assemblies ..."
   ]
  },
  {
   "cell_type": "code",
   "execution_count": null,
   "id": "38866ce2-d5de-415d-9b0c-c41c51082750",
   "metadata": {},
   "outputs": [],
   "source": []
  },
  {
   "cell_type": "markdown",
   "id": "57067289-72d8-4d8a-8a1e-98b7ad023012",
   "metadata": {
    "tags": []
   },
   "source": [
    "## <span style=\"color: #4CACBD;\"> 3. Read alignment statistics - remapping</span>"
   ]
  },
  {
   "cell_type": "markdown",
   "id": "0e937007-8a83-473e-b589-56ac7cb303b1",
   "metadata": {},
   "source": [
    "Read congruency is an important measure in determining assembly accuracy. Clusters of read pairs that align incorrectly are strong indicators of mis-assembly.\n",
    "\n",
    "How well do the reads align back to the draft assemblies? Use minimap2 and samtools to assess the basic alignment statistics.\n",
    "\n",
    "Make a folder for your results.\n",
    "\n",
    "We will use 4222_FLYE_MEDAKA.fasta assembly and ONT READS as well ILLUMINA READS."
   ]
  },
  {
   "cell_type": "code",
   "execution_count": 14,
   "id": "918a39b0-17cb-459b-8e32-375f46bf9187",
   "metadata": {},
   "outputs": [],
   "source": [
    "mkdir -p ~/work/RESULTS/REMAPPING/ONT\n",
    "cd ~/work/RESULTS/REMAPPING/ONT"
   ]
  },
  {
   "cell_type": "code",
   "execution_count": 15,
   "id": "31f2f97f-8fa7-4fbe-8e37-2f195210c506",
   "metadata": {},
   "outputs": [],
   "source": [
    "ASSEMBLY=\"/home/jovyan/work/RESULTS/AGGREGATED/4222_FLYE_MEDAKA.fasta\"\n",
    "ONT=\"/home/jovyan/work/DATA/ONT/4222_RB2.fastq.gz\""
   ]
  },
  {
   "cell_type": "code",
   "execution_count": 16,
   "id": "a987f87d-f1ad-4caf-8188-7f99e13e732a",
   "metadata": {},
   "outputs": [
    {
     "name": "stdout",
     "output_type": "stream",
     "text": [
      "ln: failed to create symbolic link '4222_FLYE_MEDAKA.fasta': File exists\n"
     ]
    }
   ],
   "source": [
    "#symbolic link from last assembly in the current repertory REMAPPING\n",
    "ln -s ${ASSEMBLY} 4222_FLYE_MEDAKA.fasta\n",
    "# overwrite ASSEMBLY variable\n",
    "ASSEMBLY=4222_FLYE_MEDAKA.fasta"
   ]
  },
  {
   "cell_type": "markdown",
   "id": "d3e56be3-f4ac-43a8-ada9-49d806ce3833",
   "metadata": {},
   "source": [
    "## I. Mapping on assemblies with ONT reads"
   ]
  },
  {
   "cell_type": "code",
   "execution_count": 17,
   "id": "eda47b7a-cf84-4e4a-83bc-9af06d621721",
   "metadata": {},
   "outputs": [
    {
     "name": "stdout",
     "output_type": "stream",
     "text": [
      "[M::mm_idx_gen::0.349*1.00] collected minimizers\n",
      "[M::mm_idx_gen::0.424*1.51] sorted minimizers\n",
      "[M::main::0.424*1.51] loaded/built the index for 31 target sequence(s)\n",
      "[M::mm_mapopt_update::0.468*1.46] mid_occ = 21\n",
      "[M::mm_idx_stat] kmer size: 15; skip: 10; is_hpc: 0; #seq: 31\n",
      "[M::mm_idx_stat::0.500*1.43] distinct minimizers: 3864622 (94.31% are singletons); average occurrences: 1.099; average spacing: 5.330; total length: 22632780\n",
      "[M::worker_pipeline::49.538*3.72] mapped 42406 sequences\n",
      "[M::worker_pipeline::52.963*3.71] mapped 20357 sequences\n",
      "[M::main] Version: 2.24-r1122\n",
      "[M::main] CMD: minimap2 -ax map-ont -t 4 4222_FLYE_MEDAKA.fasta /home/jovyan/work/DATA/4222_RB2.fastq.gz\n",
      "[M::main] Real time: 52.982 sec; CPU: 196.722 sec; Peak RSS: 2.662 GB\n",
      "[bam_sort_core] merging from 1 files and 1 in-memory blocks...\n",
      "62394\n"
     ]
    }
   ],
   "source": [
    "minimap2 -ax map-ont -t 4 ${ASSEMBLY} ${ONT} | samtools sort -@ 1 -T \"${ASSEMBLY/.fasta/}\" -O BAM -o \"${ASSEMBLY/.fasta/_ONT_minimap2.bam}\" -\n",
    "samtools index \"${ASSEMBLY/.fasta/_ONT_minimap2.bam}\"\n",
    "samtools view -F 0x904 -c \"${ASSEMBLY/.fasta/_ONT_minimap2.bam}\""
   ]
  },
  {
   "cell_type": "markdown",
   "id": "ff9bb810-a6af-4915-9dc9-233b090ab837",
   "metadata": {},
   "source": [
    "### What is the percentage of aligned ONT reads in your assembly?"
   ]
  },
  {
   "cell_type": "markdown",
   "id": "e96dca93-c6f9-451b-9d7c-52fd2d9a1e19",
   "metadata": {},
   "source": [
    "## II. Mapping on assemblies with ILLUMINA reads now !"
   ]
  },
  {
   "cell_type": "code",
   "execution_count": 19,
   "id": "eb571efa-02d1-4702-b81e-e309198114b8",
   "metadata": {},
   "outputs": [],
   "source": [
    "mkdir -p ~/work/RESULTS/REMAPPING/ILLUMINA\n",
    "cd ~/work/RESULTS/REMAPPING/ILLUMINA"
   ]
  },
  {
   "cell_type": "markdown",
   "id": "04db9fa3-78dc-4efc-b2ab-7370aa671911",
   "metadata": {},
   "source": [
    "illumina data is available for only two samples in the distant server : https://itrop.ird.fr/algae_data/ILLUMINA.tar.gz\n",
    "\n",
    "Don't forget to download it by using `wget` and decompres the directory with `tar` command ! \n",
    "\n",
    "You can use minimap2 to align short reads to assemblies!\n",
    "\n",
    "`minimap2 -ax sr ref.fa read1.fa read2.fa > aln.sam      # short genomic paired-end reads`"
   ]
  },
  {
   "cell_type": "code",
   "execution_count": 20,
   "id": "da4a3220-3195-4746-9591-6ceb94c18544",
   "metadata": {},
   "outputs": [
    {
     "name": "stdout",
     "output_type": "stream",
     "text": [
      "--2023-11-01 22:41:11--  https://itrop.ird.fr/algae_data/ILLUMINA.tar.gz\n",
      "Resolving itrop.ird.fr (itrop.ird.fr)... 91.203.35.184\n",
      "Connecting to itrop.ird.fr (itrop.ird.fr)|91.203.35.184|:443... connected.\n",
      "HTTP request sent, awaiting response... 200 OK\n",
      "Length: 548678690 (523M) [application/x-gzip]\n",
      "Saving to: ‘ILLUMINA.tar.gz’\n",
      "\n",
      "ILLUMINA.tar.gz     100%[===================>] 523.26M  34.1MB/s    in 16s     \n",
      "\n",
      "2023-11-01 22:41:27 (33.2 MB/s) - ‘ILLUMINA.tar.gz’ saved [548678690/548678690]\n",
      "\n",
      "ILLUMINA/\n",
      "ILLUMINA/A8_R1.fastq.gz\n",
      "ILLUMINA/A8_R2.fastq.gz\n",
      "ILLUMINA/G11_R1.fastq.gz\n",
      "ILLUMINA/G11_R2.fastq.gz\n"
     ]
    }
   ],
   "source": [
    "cd ~/work/DATA\n",
    "wget  https://itrop.ird.fr/algae_data/ILLUMINA.tar.gz\n",
    "tar -xvf ILLUMINA.tar.gz"
   ]
  },
  {
   "cell_type": "code",
   "execution_count": 23,
   "id": "838ffe3b-3591-4893-bbd8-d81c43c5c5d4",
   "metadata": {},
   "outputs": [],
   "source": [
    "ASSEMBLY=\"/home/jovyan/work/RESULTS/AGGREGATED/G11_FLYE_MEDAKA.fasta\"\n",
    "ILLUMINA_R1=\"/home/jovyan/work/DATA/ILLUMINA/G11_R1.fastq.gz\"\n",
    "ILLUMINA_R2=\"/home/jovyan/work/DATA/ILLUMINA/G11_R2.fastq.gz\""
   ]
  },
  {
   "cell_type": "code",
   "execution_count": null,
   "id": "b2f41af6-ba94-41d2-b320-15aade1db255",
   "metadata": {},
   "outputs": [],
   "source": [
    "cd ~/work/RESULTS/REMAPPING/ILLUMINA"
   ]
  },
  {
   "cell_type": "code",
   "execution_count": 24,
   "id": "e93a5df0-dc41-4d7e-950d-4915a74d2361",
   "metadata": {},
   "outputs": [
    {
     "name": "stdout",
     "output_type": "stream",
     "text": [
      "[M::mm_idx_gen::0.226*1.01] collected minimizers\n",
      "[M::mm_idx_gen::0.260*1.38] sorted minimizers\n",
      "[M::main::0.260*1.38] loaded/built the index for 29 target sequence(s)\n",
      "[M::mm_mapopt_update::0.260*1.38] mid_occ = 1000\n",
      "[M::mm_idx_stat] kmer size: 21; skip: 11; is_hpc: 0; #seq: 29\n",
      "[M::mm_idx_stat::0.276*1.36] distinct minimizers: 2494067 (98.81% are singletons); average occurrences: 1.031; average spacing: 5.976; total length: 15370559\n",
      "[M::worker_pipeline::3.593*3.73] mapped 200300 sequences\n",
      "[M::worker_pipeline::6.389*3.95] mapped 200304 sequences\n",
      "[M::worker_pipeline::9.493*4.03] mapped 200302 sequences\n",
      "[M::worker_pipeline::12.252*4.08] mapped 200300 sequences\n",
      "[M::worker_pipeline::14.944*4.11] mapped 200300 sequences\n",
      "[M::worker_pipeline::17.661*4.12] mapped 200300 sequences\n",
      "[M::worker_pipeline::20.686*4.11] mapped 200300 sequences\n",
      "[M::worker_pipeline::29.175*3.22] mapped 155146 sequences\n",
      "[M::main] Version: 2.24-r1122\n",
      "[M::main] CMD: minimap2 -ax sr -t 4 /home/jovyan/work/RESULTS/AGGREGATED/G11_FLYE_MEDAKA.fasta /home/jovyan/work/DATA/ILLUMINA/G11_R1.fastq.gz /home/jovyan/work/DATA/ILLUMINA/G11_R2.fastq.gz\n",
      "[M::main] Real time: 29.182 sec; CPU: 93.997 sec; Peak RSS: 0.579 GB\n",
      "[bam_sort_core] merging from 1 files and 1 in-memory blocks...\n",
      "1403845\n"
     ]
    }
   ],
   "source": [
    "minimap2 -ax sr -t 4 ${ASSEMBLY} ${ILLUMINA_R1} ${ILLUMINA_R2} | samtools sort -@ 1 -T \"${ASSEMBLY/.fasta/}\" -O BAM -o \"${ASSEMBLY/.fasta/_ILL_minimap2.bam}\" -\n",
    "samtools index \"${ASSEMBLY/.fasta/_ILL_minimap2.bam}\"\n",
    "samtools view -F 0x904 -c \"${ASSEMBLY/.fasta/_ILL_minimap2.bam}\""
   ]
  },
  {
   "cell_type": "markdown",
   "id": "3b4ba496-e55e-4ea6-853c-0e63da521a3e",
   "metadata": {},
   "source": [
    "### What is the percentage of aligned ILLUMINA reads in your assembly?"
   ]
  },
  {
   "cell_type": "markdown",
   "id": "2b1ca487-8991-440b-8c71-daea695edff9",
   "metadata": {},
   "source": [
    "## <span style=\"color: #4CACBD;\"> [OPTIONAL] Blobtools </span>\n",
    "\n",
    "During the sequence quality assessment stage we tried to discern whether contamination was present. Sometimes this is not feasible at the read level. By plotting Contig GC content vs Contig Read Coverage we can look for clusters of contigs that share similar coverage. The appearance of multiple clusters can indicate multiple organisms. Occasionally, contigs can also be taxonomically classified, providing further evidence for contaminants.\n",
    "\n",
    "First we need to download some files"
   ]
  },
  {
   "cell_type": "code",
   "execution_count": 18,
   "id": "05ee6194-ff4b-4ab6-8461-501155974f51",
   "metadata": {
    "scrolled": true
   },
   "outputs": [
    {
     "name": "stdout",
     "output_type": "stream",
     "text": [
      "--2023-11-01 22:38:24--  https://itrop.ird.fr/ont-training/blobtools.tar.gz\n",
      "Resolving itrop.ird.fr (itrop.ird.fr)... 91.203.35.184\n",
      "Connecting to itrop.ird.fr (itrop.ird.fr)|91.203.35.184|:443... connected.\n",
      "HTTP request sent, awaiting response... 200 OK\n",
      "Length: 100114880 (95M) [application/x-gzip]\n",
      "Saving to: ‘blobtools.tar.gz’\n",
      "\n",
      "blobtools.tar.gz    100%[===================>]  95.48M  49.4MB/s    in 1.9s    \n",
      "\n",
      "2023-11-01 22:38:26 (49.4 MB/s) - ‘blobtools.tar.gz’ saved [100114880/100114880]\n",
      "\n",
      "FINISHED --2023-11-01 22:38:26--\n",
      "Total wall clock time: 2.1s\n",
      "Downloaded: 1 files, 95M in 1.9s (49.4 MB/s)\n",
      "blobtools/\n",
      "blobtools/taxdump.tar.gz\n",
      "blobtools/names.dmp\n",
      "blobtools/nodes.dmp\n",
      "--2023-11-01 22:38:27--  https://itrop.ird.fr/ont-training/testBacteria.dmnd\n",
      "Resolving itrop.ird.fr (itrop.ird.fr)... 91.203.35.184\n",
      "Connecting to itrop.ird.fr (itrop.ird.fr)|91.203.35.184|:443... connected.\n",
      "HTTP request sent, awaiting response... 200 OK\n",
      "Length: 214010272 (204M)\n",
      "Saving to: ‘testBacteria.dmnd’\n",
      "\n",
      "testBacteria.dmnd   100%[===================>] 204.10M  52.6MB/s    in 4.0s    \n",
      "\n",
      "2023-11-01 22:38:31 (50.6 MB/s) - ‘testBacteria.dmnd’ saved [214010272/214010272]\n",
      "\n",
      "FINISHED --2023-11-01 22:38:31--\n",
      "Total wall clock time: 4.2s\n",
      "Downloaded: 1 files, 204M in 4.0s (50.6 MB/s)\n"
     ]
    }
   ],
   "source": [
    "cd ~/work/DATA\n",
    "wget --no-check-certificat -rm -nH --cut-dirs=1 --reject=\"index.html*\" https://itrop.ird.fr/ont-training/blobtools.tar.gz\n",
    "tar zxvf blobtools.tar.gz\n",
    "wget --no-check-certificat -rm -nH --cut-dirs=1 --reject=\"index.html*\" https://itrop.ird.fr/ont-training/testBacteria.dmnd"
   ]
  },
  {
   "cell_type": "markdown",
   "id": "23b91930-8a7f-41b7-9c52-0c300ee87be7",
   "metadata": {},
   "source": [
    "Run Blobtools on each assembly. Blobtools requires both a BAM file as input and blast output for the classification step.2."
   ]
  },
  {
   "cell_type": "code",
   "execution_count": 25,
   "id": "afe2d3cd-f298-4add-b62d-9e32fbd52a52",
   "metadata": {},
   "outputs": [],
   "source": [
    "mkdir -p ~/work/RESULTS/BLOBTOOLS\n",
    "cd ~/work/RESULTS/BLOBTOOLS"
   ]
  },
  {
   "cell_type": "markdown",
   "id": "f723a846-7ea6-4793-9f53-1d7370d92500",
   "metadata": {},
   "source": [
    "### Blastx using diamond "
   ]
  },
  {
   "cell_type": "markdown",
   "id": "5ed88289-4d5c-4e66-a334-6626718ff803",
   "metadata": {},
   "source": [
    "Run diamond in blastx mode using assembled contigs vs a pre-formatted diamond bacteria database (protein)"
   ]
  },
  {
   "cell_type": "code",
   "execution_count": 26,
   "id": "84a9cde6-448f-4c2e-a8a4-fd82ff8f952a",
   "metadata": {},
   "outputs": [],
   "source": [
    "#symbolic link from last assembly in the current repertory BLOBTOOLs\n",
    "ln -s ~/work/RESULTS/4222_FLYE_MEDAKA/MEDAKA_CONSENSUS/consensus.fasta 4222_FLYE_MEDAKA.fasta"
   ]
  },
  {
   "cell_type": "code",
   "execution_count": 27,
   "id": "798fd16e-2d48-4fb7-ae16-a1650b1850cd",
   "metadata": {
    "tags": []
   },
   "outputs": [
    {
     "name": "stdout",
     "output_type": "stream",
     "text": [
      "diamond v2.1.8.162 (C) Max Planck Society for the Advancement of Science, Benjamin Buchfink, University of Tuebingen\n",
      "Documentation, support and updates available at http://www.diamondsearch.org\n",
      "Please cite: http://dx.doi.org/10.1038/s41592-021-01101-x Nature Methods (2021)\n",
      "\n",
      "#CPU threads: 4\n",
      "Scoring parameters: (Matrix=BLOSUM62 Lambda=0.267 K=0.041 Penalties=11/1)\n",
      "Temporary directory: \n",
      "#Target sequences to report alignments for: 1\n",
      "Opening the database...  [0.049s]\n",
      "Database: /home/jovyan/work/DATA/testBacteria.dmnd (type: Diamond database, sequences: 271272, letters: 174523808)\n",
      "Block size = 2000000000\n",
      "Opening the input file...  [0.007s]\n",
      "Opening the output file...  [0s]\n",
      "Loading query sequences...  [0.126s]\n",
      "Masking queries...  [0.495s]\n",
      "Algorithm: Double-indexed\n",
      "Building query histograms...  [0.659s]\n",
      "Seeking in database...  [0s]\n",
      "Loading reference sequences...  [0.225s]\n",
      "Masking reference...  [1.3s]\n",
      "Initializing temporary storage...  [0s]\n",
      "Building reference histograms...  [2.142s]\n",
      "Allocating buffers...  [0.005s]\n",
      "Processing query block 1, reference block 1/1, shape 1/16, index chunk 1/4.\n",
      "Building reference seed array...  [0.168s]\n",
      "Building query seed array...  [0.067s]\n",
      "Computing hash join...  [0.043s]\n",
      "Masking low complexity seeds...  [0.016s]\n",
      "Searching alignments...  [0.097s]\n",
      "Deallocating memory...  [0s]\n",
      "Processing query block 1, reference block 1/1, shape 1/16, index chunk 2/4.\n",
      "Building reference seed array...  [0.199s]\n",
      "Building query seed array...  [0.085s]\n",
      "Computing hash join...  [0.043s]\n",
      "Masking low complexity seeds...  [0.015s]\n",
      "Searching alignments...  [0.103s]\n",
      "Deallocating memory...  [0s]\n",
      "Processing query block 1, reference block 1/1, shape 1/16, index chunk 3/4.\n",
      "Building reference seed array...  [0.214s]\n",
      "Building query seed array...  [0.09s]\n",
      "Computing hash join...  [0.044s]\n",
      "Masking low complexity seeds...  [0.016s]\n",
      "Searching alignments...  [0.09s]\n",
      "Deallocating memory...  [0s]\n",
      "Processing query block 1, reference block 1/1, shape 1/16, index chunk 4/4.\n",
      "Building reference seed array...  [0.157s]\n",
      "Building query seed array...  [0.06s]\n",
      "Computing hash join...  [0.043s]\n",
      "Masking low complexity seeds...  [0.015s]\n",
      "Searching alignments...  [0.089s]\n",
      "Deallocating memory...  [0s]\n",
      "Processing query block 1, reference block 1/1, shape 2/16, index chunk 1/4.\n",
      "Building reference seed array...  [0.158s]\n",
      "Building query seed array...  [0.061s]\n",
      "Computing hash join...  [0.042s]\n",
      "Masking low complexity seeds...  [0.015s]\n",
      "Searching alignments...  [0.083s]\n",
      "Deallocating memory...  [0s]\n",
      "Processing query block 1, reference block 1/1, shape 2/16, index chunk 2/4.\n",
      "Building reference seed array...  [0.195s]\n",
      "Building query seed array...  [0.08s]\n",
      "Computing hash join...  [0.042s]\n",
      "Masking low complexity seeds...  [0.015s]\n",
      "Searching alignments...  [0.083s]\n",
      "Deallocating memory...  [0s]\n",
      "Processing query block 1, reference block 1/1, shape 2/16, index chunk 3/4.\n",
      "Building reference seed array...  [0.203s]\n",
      "Building query seed array...  [0.088s]\n",
      "Computing hash join...  [0.041s]\n",
      "Masking low complexity seeds...  [0.015s]\n",
      "Searching alignments...  [0.088s]\n",
      "Deallocating memory...  [0s]\n",
      "Processing query block 1, reference block 1/1, shape 2/16, index chunk 4/4.\n",
      "Building reference seed array...  [0.16s]\n",
      "Building query seed array...  [0.059s]\n",
      "Computing hash join...  [0.041s]\n",
      "Masking low complexity seeds...  [0.015s]\n",
      "Searching alignments...  [0.082s]\n",
      "Deallocating memory...  [0s]\n",
      "Processing query block 1, reference block 1/1, shape 3/16, index chunk 1/4.\n",
      "Building reference seed array...  [0.167s]\n",
      "Building query seed array...  [0.066s]\n",
      "Computing hash join...  [0.045s]\n",
      "Masking low complexity seeds...  [0.017s]\n",
      "Searching alignments...  [0.092s]\n",
      "Deallocating memory...  [0s]\n",
      "Processing query block 1, reference block 1/1, shape 3/16, index chunk 2/4.\n",
      "Building reference seed array...  [0.223s]\n",
      "Building query seed array...  [0.087s]\n",
      "Computing hash join...  [0.045s]\n",
      "Masking low complexity seeds...  [0.015s]\n",
      "Searching alignments...  [0.088s]\n",
      "Deallocating memory...  [0s]\n",
      "Processing query block 1, reference block 1/1, shape 3/16, index chunk 3/4.\n",
      "Building reference seed array...  [0.211s]\n",
      "Building query seed array...  [0.099s]\n",
      "Computing hash join...  [0.044s]\n",
      "Masking low complexity seeds...  [0.015s]\n",
      "Searching alignments...  [0.092s]\n",
      "Deallocating memory...  [0s]\n",
      "Processing query block 1, reference block 1/1, shape 3/16, index chunk 4/4.\n",
      "Building reference seed array...  [0.16s]\n",
      "Building query seed array...  [0.06s]\n",
      "Computing hash join...  [0.044s]\n",
      "Masking low complexity seeds...  [0.016s]\n",
      "Searching alignments...  [0.09s]\n",
      "Deallocating memory...  [0s]\n",
      "Processing query block 1, reference block 1/1, shape 4/16, index chunk 1/4.\n",
      "Building reference seed array...  [0.159s]\n",
      "Building query seed array...  [0.063s]\n",
      "Computing hash join...  [0.043s]\n",
      "Masking low complexity seeds...  [0.014s]\n",
      "Searching alignments...  [0.085s]\n",
      "Deallocating memory...  [0s]\n",
      "Processing query block 1, reference block 1/1, shape 4/16, index chunk 2/4.\n",
      "Building reference seed array...  [0.196s]\n",
      "Building query seed array...  [0.088s]\n",
      "Computing hash join...  [0.045s]\n",
      "Masking low complexity seeds...  [0.015s]\n",
      "Searching alignments...  [0.091s]\n",
      "Deallocating memory...  [0s]\n",
      "Processing query block 1, reference block 1/1, shape 4/16, index chunk 3/4.\n",
      "Building reference seed array...  [0.259s]\n",
      "Building query seed array...  [0.096s]\n",
      "Computing hash join...  [0.045s]\n",
      "Masking low complexity seeds...  [0.015s]\n",
      "Searching alignments...  [0.087s]\n",
      "Deallocating memory...  [0s]\n",
      "Processing query block 1, reference block 1/1, shape 4/16, index chunk 4/4.\n",
      "Building reference seed array...  [0.163s]\n",
      "Building query seed array...  [0.066s]\n",
      "Computing hash join...  [0.049s]\n",
      "Masking low complexity seeds...  [0.016s]\n",
      "Searching alignments...  [0.096s]\n",
      "Deallocating memory...  [0s]\n",
      "Processing query block 1, reference block 1/1, shape 5/16, index chunk 1/4.\n",
      "Building reference seed array...  [0.17s]\n",
      "Building query seed array...  [0.069s]\n",
      "Computing hash join...  [0.041s]\n",
      "Masking low complexity seeds...  [0.015s]\n",
      "Searching alignments...  [0.087s]\n",
      "Deallocating memory...  [0s]\n",
      "Processing query block 1, reference block 1/1, shape 5/16, index chunk 2/4.\n",
      "Building reference seed array...  [0.202s]\n",
      "Building query seed array...  [0.082s]\n",
      "Computing hash join...  [0.041s]\n",
      "Masking low complexity seeds...  [0.015s]\n",
      "Searching alignments...  [0.086s]\n",
      "Deallocating memory...  [0s]\n",
      "Processing query block 1, reference block 1/1, shape 5/16, index chunk 3/4.\n",
      "Building reference seed array...  [0.215s]\n",
      "Building query seed array...  [0.091s]\n",
      "Computing hash join...  [0.042s]\n",
      "Masking low complexity seeds...  [0.015s]\n",
      "Searching alignments...  [0.091s]\n",
      "Deallocating memory...  [0s]\n",
      "Processing query block 1, reference block 1/1, shape 5/16, index chunk 4/4.\n",
      "Building reference seed array...  [0.165s]\n",
      "Building query seed array...  [0.072s]\n",
      "Computing hash join...  [0.045s]\n",
      "Masking low complexity seeds...  [0.018s]\n",
      "Searching alignments...  [0.103s]\n",
      "Deallocating memory...  [0s]\n",
      "Processing query block 1, reference block 1/1, shape 6/16, index chunk 1/4.\n",
      "Building reference seed array...  [0.18s]\n",
      "Building query seed array...  [0.062s]\n",
      "Computing hash join...  [0.04s]\n",
      "Masking low complexity seeds...  [0.014s]\n",
      "Searching alignments...  [0.084s]\n",
      "Deallocating memory...  [0s]\n",
      "Processing query block 1, reference block 1/1, shape 6/16, index chunk 2/4.\n",
      "Building reference seed array...  [0.195s]\n",
      "Building query seed array...  [0.081s]\n",
      "Computing hash join...  [0.041s]\n",
      "Masking low complexity seeds...  [0.015s]\n",
      "Searching alignments...  [0.085s]\n",
      "Deallocating memory...  [0s]\n",
      "Processing query block 1, reference block 1/1, shape 6/16, index chunk 3/4.\n",
      "Building reference seed array...  [0.208s]\n",
      "Building query seed array...  [0.09s]\n",
      "Computing hash join...  [0.04s]\n",
      "Masking low complexity seeds...  [0.014s]\n",
      "Searching alignments...  [0.084s]\n",
      "Deallocating memory...  [0s]\n",
      "Processing query block 1, reference block 1/1, shape 6/16, index chunk 4/4.\n",
      "Building reference seed array...  [0.155s]\n",
      "Building query seed array...  [0.06s]\n",
      "Computing hash join...  [0.041s]\n",
      "Masking low complexity seeds...  [0.014s]\n",
      "Searching alignments...  [0.083s]\n",
      "Deallocating memory...  [0s]\n",
      "Processing query block 1, reference block 1/1, shape 7/16, index chunk 1/4.\n",
      "Building reference seed array...  [0.159s]\n",
      "Building query seed array...  [0.061s]\n",
      "Computing hash join...  [0.04s]\n",
      "Masking low complexity seeds...  [0.014s]\n",
      "Searching alignments...  [0.084s]\n",
      "Deallocating memory...  [0s]\n",
      "Processing query block 1, reference block 1/1, shape 7/16, index chunk 2/4.\n",
      "Building reference seed array...  [0.198s]\n",
      "Building query seed array...  [0.084s]\n",
      "Computing hash join...  [0.041s]\n",
      "Masking low complexity seeds...  [0.015s]\n",
      "Searching alignments...  [0.083s]\n",
      "Deallocating memory...  [0s]\n",
      "Processing query block 1, reference block 1/1, shape 7/16, index chunk 3/4.\n",
      "Building reference seed array...  [0.203s]\n",
      "Building query seed array...  [0.088s]\n",
      "Computing hash join...  [0.041s]\n",
      "Masking low complexity seeds...  [0.015s]\n",
      "Searching alignments...  [0.101s]\n",
      "Deallocating memory...  [0s]\n",
      "Processing query block 1, reference block 1/1, shape 7/16, index chunk 4/4.\n",
      "Building reference seed array...  [0.161s]\n",
      "Building query seed array...  [0.058s]\n",
      "Computing hash join...  [0.04s]\n",
      "Masking low complexity seeds...  [0.015s]\n",
      "Searching alignments...  [0.082s]\n",
      "Deallocating memory...  [0s]\n",
      "Processing query block 1, reference block 1/1, shape 8/16, index chunk 1/4.\n",
      "Building reference seed array...  [0.16s]\n",
      "Building query seed array...  [0.061s]\n",
      "Computing hash join...  [0.043s]\n",
      "Masking low complexity seeds...  [0.015s]\n",
      "Searching alignments...  [0.086s]\n",
      "Deallocating memory...  [0s]\n",
      "Processing query block 1, reference block 1/1, shape 8/16, index chunk 2/4.\n",
      "Building reference seed array...  [0.213s]\n",
      "Building query seed array...  [0.082s]\n",
      "Computing hash join...  [0.043s]\n",
      "Masking low complexity seeds...  [0.015s]\n",
      "Searching alignments...  [0.084s]\n",
      "Deallocating memory...  [0s]\n",
      "Processing query block 1, reference block 1/1, shape 8/16, index chunk 3/4.\n",
      "Building reference seed array...  [0.224s]\n",
      "Building query seed array...  [0.089s]\n",
      "Computing hash join...  [0.044s]\n",
      "Masking low complexity seeds...  [0.015s]\n",
      "Searching alignments...  [0.088s]\n",
      "Deallocating memory...  [0s]\n",
      "Processing query block 1, reference block 1/1, shape 8/16, index chunk 4/4.\n",
      "Building reference seed array...  [0.154s]\n",
      "Building query seed array...  [0.058s]\n",
      "Computing hash join...  [0.04s]\n",
      "Masking low complexity seeds...  [0.014s]\n",
      "Searching alignments...  [0.082s]\n",
      "Deallocating memory...  [0s]\n",
      "Processing query block 1, reference block 1/1, shape 9/16, index chunk 1/4.\n",
      "Building reference seed array...  [0.163s]\n",
      "Building query seed array...  [0.063s]\n",
      "Computing hash join...  [0.042s]\n",
      "Masking low complexity seeds...  [0.014s]\n",
      "Searching alignments...  [0.084s]\n",
      "Deallocating memory...  [0s]\n",
      "Processing query block 1, reference block 1/1, shape 9/16, index chunk 2/4.\n",
      "Building reference seed array...  [0.195s]\n",
      "Building query seed array...  [0.083s]\n",
      "Computing hash join...  [0.044s]\n",
      "Masking low complexity seeds...  [0.016s]\n",
      "Searching alignments...  [0.09s]\n",
      "Deallocating memory...  [0s]\n",
      "Processing query block 1, reference block 1/1, shape 9/16, index chunk 3/4.\n",
      "Building reference seed array...  [0.222s]\n",
      "Building query seed array...  [0.092s]\n",
      "Computing hash join...  [0.044s]\n",
      "Masking low complexity seeds...  [0.015s]\n",
      "Searching alignments...  [0.09s]\n",
      "Deallocating memory...  [0s]\n",
      "Processing query block 1, reference block 1/1, shape 9/16, index chunk 4/4.\n",
      "Building reference seed array...  [0.176s]\n",
      "Building query seed array...  [0.064s]\n",
      "Computing hash join...  [0.045s]\n",
      "Masking low complexity seeds...  [0.015s]\n",
      "Searching alignments...  [0.086s]\n",
      "Deallocating memory...  [0s]\n",
      "Processing query block 1, reference block 1/1, shape 10/16, index chunk 1/4.\n",
      "Building reference seed array...  [0.163s]\n",
      "Building query seed array...  [0.061s]\n",
      "Computing hash join...  [0.038s]\n",
      "Masking low complexity seeds...  [0.014s]\n",
      "Searching alignments...  [0.08s]\n",
      "Deallocating memory...  [0s]\n",
      "Processing query block 1, reference block 1/1, shape 10/16, index chunk 2/4.\n",
      "Building reference seed array...  [0.196s]\n",
      "Building query seed array...  [0.081s]\n",
      "Computing hash join...  [0.041s]\n",
      "Masking low complexity seeds...  [0.014s]\n",
      "Searching alignments...  [0.081s]\n",
      "Deallocating memory...  [0s]\n",
      "Processing query block 1, reference block 1/1, shape 10/16, index chunk 3/4.\n",
      "Building reference seed array...  [0.202s]\n",
      "Building query seed array...  [0.087s]\n",
      "Computing hash join...  [0.04s]\n",
      "Masking low complexity seeds...  [0.015s]\n",
      "Searching alignments...  [0.083s]\n",
      "Deallocating memory...  [0s]\n",
      "Processing query block 1, reference block 1/1, shape 10/16, index chunk 4/4.\n",
      "Building reference seed array...  [0.162s]\n",
      "Building query seed array...  [0.06s]\n",
      "Computing hash join...  [0.041s]\n",
      "Masking low complexity seeds...  [0.014s]\n",
      "Searching alignments...  [0.083s]\n",
      "Deallocating memory...  [0s]\n",
      "Processing query block 1, reference block 1/1, shape 11/16, index chunk 1/4.\n",
      "Building reference seed array...  [0.16s]\n",
      "Building query seed array...  [0.063s]\n",
      "Computing hash join...  [0.041s]\n",
      "Masking low complexity seeds...  [0.014s]\n",
      "Searching alignments...  [0.084s]\n",
      "Deallocating memory...  [0s]\n",
      "Processing query block 1, reference block 1/1, shape 11/16, index chunk 2/4.\n",
      "Building reference seed array...  [0.199s]\n",
      "Building query seed array...  [0.086s]\n",
      "Computing hash join...  [0.04s]\n",
      "Masking low complexity seeds...  [0.014s]\n",
      "Searching alignments...  [0.084s]\n",
      "Deallocating memory...  [0s]\n",
      "Processing query block 1, reference block 1/1, shape 11/16, index chunk 3/4.\n",
      "Building reference seed array...  [0.204s]\n",
      "Building query seed array...  [0.087s]\n",
      "Computing hash join...  [0.042s]\n",
      "Masking low complexity seeds...  [0.014s]\n",
      "Searching alignments...  [0.083s]\n",
      "Deallocating memory...  [0s]\n",
      "Processing query block 1, reference block 1/1, shape 11/16, index chunk 4/4.\n",
      "Building reference seed array...  [0.154s]\n",
      "Building query seed array...  [0.058s]\n",
      "Computing hash join...  [0.041s]\n",
      "Masking low complexity seeds...  [0.014s]\n",
      "Searching alignments...  [0.083s]\n",
      "Deallocating memory...  [0s]\n",
      "Processing query block 1, reference block 1/1, shape 12/16, index chunk 1/4.\n",
      "Building reference seed array...  [0.16s]\n",
      "Building query seed array...  [0.063s]\n",
      "Computing hash join...  [0.04s]\n",
      "Masking low complexity seeds...  [0.014s]\n",
      "Searching alignments...  [0.081s]\n",
      "Deallocating memory...  [0s]\n",
      "Processing query block 1, reference block 1/1, shape 12/16, index chunk 2/4.\n",
      "Building reference seed array...  [0.195s]\n",
      "Building query seed array...  [0.082s]\n",
      "Computing hash join...  [0.04s]\n",
      "Masking low complexity seeds...  [0.014s]\n",
      "Searching alignments...  [0.08s]\n",
      "Deallocating memory...  [0s]\n",
      "Processing query block 1, reference block 1/1, shape 12/16, index chunk 3/4.\n",
      "Building reference seed array...  [0.204s]\n",
      "Building query seed array...  [0.086s]\n",
      "Computing hash join...  [0.041s]\n",
      "Masking low complexity seeds...  [0.014s]\n",
      "Searching alignments...  [0.082s]\n",
      "Deallocating memory...  [0s]\n",
      "Processing query block 1, reference block 1/1, shape 12/16, index chunk 4/4.\n",
      "Building reference seed array...  [0.154s]\n",
      "Building query seed array...  [0.059s]\n",
      "Computing hash join...  [0.041s]\n",
      "Masking low complexity seeds...  [0.014s]\n",
      "Searching alignments...  [0.08s]\n",
      "Deallocating memory...  [0s]\n",
      "Processing query block 1, reference block 1/1, shape 13/16, index chunk 1/4.\n",
      "Building reference seed array...  [0.16s]\n",
      "Building query seed array...  [0.061s]\n",
      "Computing hash join...  [0.039s]\n",
      "Masking low complexity seeds...  [0.014s]\n",
      "Searching alignments...  [0.085s]\n",
      "Deallocating memory...  [0s]\n",
      "Processing query block 1, reference block 1/1, shape 13/16, index chunk 2/4.\n",
      "Building reference seed array...  [0.199s]\n",
      "Building query seed array...  [0.082s]\n",
      "Computing hash join...  [0.04s]\n",
      "Masking low complexity seeds...  [0.014s]\n",
      "Searching alignments...  [0.081s]\n",
      "Deallocating memory...  [0s]\n",
      "Processing query block 1, reference block 1/1, shape 13/16, index chunk 3/4.\n",
      "Building reference seed array...  [0.207s]\n",
      "Building query seed array...  [0.086s]\n",
      "Computing hash join...  [0.041s]\n",
      "Masking low complexity seeds...  [0.014s]\n",
      "Searching alignments...  [0.081s]\n",
      "Deallocating memory...  [0s]\n",
      "Processing query block 1, reference block 1/1, shape 13/16, index chunk 4/4.\n",
      "Building reference seed array...  [0.153s]\n",
      "Building query seed array...  [0.057s]\n",
      "Computing hash join...  [0.041s]\n",
      "Masking low complexity seeds...  [0.014s]\n",
      "Searching alignments...  [0.08s]\n",
      "Deallocating memory...  [0s]\n",
      "Processing query block 1, reference block 1/1, shape 14/16, index chunk 1/4.\n",
      "Building reference seed array...  [0.166s]\n",
      "Building query seed array...  [0.061s]\n",
      "Computing hash join...  [0.041s]\n",
      "Masking low complexity seeds...  [0.014s]\n",
      "Searching alignments...  [0.082s]\n",
      "Deallocating memory...  [0s]\n",
      "Processing query block 1, reference block 1/1, shape 14/16, index chunk 2/4.\n",
      "Building reference seed array...  [0.199s]\n",
      "Building query seed array...  [0.083s]\n",
      "Computing hash join...  [0.041s]\n",
      "Masking low complexity seeds...  [0.014s]\n",
      "Searching alignments...  [0.082s]\n",
      "Deallocating memory...  [0s]\n",
      "Processing query block 1, reference block 1/1, shape 14/16, index chunk 3/4.\n",
      "Building reference seed array...  [0.201s]\n",
      "Building query seed array...  [0.086s]\n",
      "Computing hash join...  [0.041s]\n",
      "Masking low complexity seeds...  [0.014s]\n",
      "Searching alignments...  [0.082s]\n",
      "Deallocating memory...  [0s]\n",
      "Processing query block 1, reference block 1/1, shape 14/16, index chunk 4/4.\n",
      "Building reference seed array...  [0.153s]\n",
      "Building query seed array...  [0.058s]\n",
      "Computing hash join...  [0.041s]\n",
      "Masking low complexity seeds...  [0.014s]\n",
      "Searching alignments...  [0.081s]\n",
      "Deallocating memory...  [0s]\n",
      "Processing query block 1, reference block 1/1, shape 15/16, index chunk 1/4.\n",
      "Building reference seed array...  [0.161s]\n",
      "Building query seed array...  [0.062s]\n",
      "Computing hash join...  [0.041s]\n",
      "Masking low complexity seeds...  [0.015s]\n",
      "Searching alignments...  [0.083s]\n",
      "Deallocating memory...  [0s]\n",
      "Processing query block 1, reference block 1/1, shape 15/16, index chunk 2/4.\n",
      "Building reference seed array...  [0.196s]\n",
      "Building query seed array...  [0.083s]\n",
      "Computing hash join...  [0.042s]\n",
      "Masking low complexity seeds...  [0.016s]\n",
      "Searching alignments...  [0.086s]\n",
      "Deallocating memory...  [0s]\n",
      "Processing query block 1, reference block 1/1, shape 15/16, index chunk 3/4.\n",
      "Building reference seed array...  [0.223s]\n",
      "Building query seed array...  [0.088s]\n",
      "Computing hash join...  [0.042s]\n",
      "Masking low complexity seeds...  [0.016s]\n",
      "Searching alignments...  [0.089s]\n",
      "Deallocating memory...  [0s]\n",
      "Processing query block 1, reference block 1/1, shape 15/16, index chunk 4/4.\n",
      "Building reference seed array...  [0.176s]\n",
      "Building query seed array...  [0.06s]\n",
      "Computing hash join...  [0.041s]\n",
      "Masking low complexity seeds...  [0.016s]\n",
      "Searching alignments...  [0.087s]\n",
      "Deallocating memory...  [0s]\n",
      "Processing query block 1, reference block 1/1, shape 16/16, index chunk 1/4.\n",
      "Building reference seed array...  [0.179s]\n",
      "Building query seed array...  [0.064s]\n",
      "Computing hash join...  [0.042s]\n",
      "Masking low complexity seeds...  [0.015s]\n",
      "Searching alignments...  [0.085s]\n",
      "Deallocating memory...  [0s]\n",
      "Processing query block 1, reference block 1/1, shape 16/16, index chunk 2/4.\n",
      "Building reference seed array...  [0.216s]\n",
      "Building query seed array...  [0.085s]\n",
      "Computing hash join...  [0.041s]\n",
      "Masking low complexity seeds...  [0.015s]\n",
      "Searching alignments...  [0.085s]\n",
      "Deallocating memory...  [0s]\n",
      "Processing query block 1, reference block 1/1, shape 16/16, index chunk 3/4.\n",
      "Building reference seed array...  [0.228s]\n",
      "Building query seed array...  [0.096s]\n",
      "Computing hash join...  [0.042s]\n",
      "Masking low complexity seeds...  [0.015s]\n",
      "Searching alignments...  [0.084s]\n",
      "Deallocating memory...  [0s]\n",
      "Processing query block 1, reference block 1/1, shape 16/16, index chunk 4/4.\n",
      "Building reference seed array...  [0.168s]\n",
      "Building query seed array...  [0.063s]\n",
      "Computing hash join...  [0.043s]\n",
      "Masking low complexity seeds...  [0.015s]\n",
      "Searching alignments...  [0.084s]\n",
      "Deallocating memory...  [0s]\n",
      "Deallocating buffers...  [0.005s]\n",
      "Clearing query masking...  [0.002s]\n",
      "Computing alignments... Loading trace points...  [0.024s]\n",
      "Sorting trace points...  [0.002s]\n",
      "Computing alignments...  [1037.32s]\n",
      "Deallocating buffers...  [0.004s]\n",
      "Loading trace points...  [0s]\n",
      " [1037.36s]\n",
      "Deallocating reference...  [0.005s]\n",
      "Loading reference sequences...  [0s]\n",
      "Deallocating buffers...  [0s]\n",
      "Deallocating queries...  [0.001s]\n",
      "Loading query sequences...  [0s]\n",
      "Closing the input file...  [0s]\n",
      "Closing the output file...  [0s]\n",
      "Closing the database...  [0.001s]\n",
      "Cleaning up...  [0s]\n",
      "Total time = 1068.34s\n",
      "Reported 30 pairwise alignments, 30 HSPs.\n",
      "30 queries aligned.\n",
      "\n",
      "real\t17m48.370s\n",
      "user\t25m40.153s\n",
      "sys\t0m39.506s\n"
     ]
    }
   ],
   "source": [
    "time diamond blastx --query 4222_FLYE_MEDAKA.fasta --db ~/work/DATA/testBacteria.dmnd --outfmt 6 qseqid staxids bitscore qseqid sseqid pident length mismatch gapopen qstart qend sstart send evalue bitscore --sensitive  --max-target-seqs 1  --evalue 1e-25  --threads 4  --out diamond.csv"
   ]
  },
  {
   "cell_type": "code",
   "execution_count": null,
   "id": "99478f50-b7c9-408d-94e6-7cb3d96e203e",
   "metadata": {
    "scrolled": true
   },
   "outputs": [],
   "source": [
    "head diamond.csv"
   ]
  },
  {
   "cell_type": "code",
   "execution_count": null,
   "id": "bd6bf8cd-96b0-4376-b229-d4e3a6648db2",
   "metadata": {},
   "outputs": [],
   "source": [
    "pwd"
   ]
  },
  {
   "cell_type": "markdown",
   "id": "84e9d3ba-9d8b-4785-b888-a46b15895a4e",
   "metadata": {},
   "source": [
    "### Run blobtools "
   ]
  },
  {
   "cell_type": "markdown",
   "id": "6ec54503-62b8-4d38-be45-01a98d6065d7",
   "metadata": {},
   "source": [
    "Specifically to Blobtools: * nodes and names from ncbi taxdump database can be download from [here](https://github.com/DRL/blobtools#download-ncbi-taxdump-and-create-nodesdb).\n",
    "\n",
    "In this training nodes and names are available on the DATA directory"
   ]
  },
  {
   "cell_type": "code",
   "execution_count": 30,
   "id": "c8200d28-5b8d-4839-b5cb-97d9cf9a6fb3",
   "metadata": {},
   "outputs": [],
   "source": [
    "ASSEMBLY=\"4222_FLYE_MEDAKA.fasta\"\n",
    "BAM=~/work/RESULTS/REMAPPING/ONT/${ASSEMBLY/.fasta/_ONT_minimap2.bam}\n",
    "DIAMONDX=~/work/RESULTS/BLOBTOOLS/diamond.csv\n",
    "BLOB_NODES=~/work/DATA/blobtools/nodes.dmp\n",
    "BLOB_NAMES=~/work/DATA/blobtools/names.dmp"
   ]
  },
  {
   "cell_type": "code",
   "execution_count": 33,
   "id": "e7c7b83b-5ece-4234-9444-cd281a6543c9",
   "metadata": {},
   "outputs": [
    {
     "name": "stdout",
     "output_type": "stream",
     "text": [
      "[+] Parsing FASTA - 4222_FLYE_MEDAKA.fasta\n",
      "[+] Store nodesDB in nodesDB.txt\n",
      "[%] : 100%|███████████████████████████████████████████████████████████████████████████████████████████████████████████████████████████████████████████████████████| 2.33M/2.33M [00:01<00:00, 1.72Mit/s]\n",
      "[+] Parsing tax0 - /home/jovyan/work/RESULTS/BLOBTOOLS/diamond.csv\n",
      "[+] Computing taxonomy using taxrule(s) bestsum\n",
      "[%] : 100%|██████████████████████████████████████████████████████████████████████████████████████████████████████████████████████████████████████████████████████████| 31.0/31.0 [00:00<00:00, 134kit/s]\n",
      "[+] Parsing bam0 - /home/jovyan/work/RESULTS/REMAPPING/ONT/4222_FLYE_MEDAKA_ONT_minimap2.bam\n",
      "[+] -> 100.00 (31/31) of sequences have reads aligned to them.\n",
      "[+] -> 99.77 (163193/163562) of reads are mapped.\n",
      "[%] : 100%|██████████████████████████████████████████████████████████████████████████████████████████████████████████████████████████████████████████████████████████| 31.0/31.0 [00:02<00:00, 10.9it/s]\n",
      "[+] Generating data for view\n",
      "[%] : 100%|██████████████████████████████████████████████████████████████████████████████████████████████████████████████████████████████████████████████████████████| 31.0/31.0 [00:00<00:00, 670kit/s]\n",
      "[+] \tWriting quality.4222_FLYE_MEDAKA_ONT_minimap2.bam.cov\n",
      "[+] Generating BlobDB and writing to file quality.blobDB.json\n"
     ]
    }
   ],
   "source": [
    "rm nodesDB.txt\n",
    "blobtools create -i ${ASSEMBLY} -b ${BAM} -t ${DIAMONDX} -o quality --names ${BLOB_NAMES} --nodes ${BLOB_NODES} --db nodesDB.txt"
   ]
  },
  {
   "cell_type": "code",
   "execution_count": 34,
   "id": "89243aaf-04c6-475c-8a7a-620e9213b914",
   "metadata": {
    "tags": []
   },
   "outputs": [
    {
     "name": "stdout",
     "output_type": "stream",
     "text": [
      "[+] Reading BlobDB quality.blobDB.json\n",
      "[+] \tLoading BlobDB into memory ...\n",
      "[+] \tDeserialising BlobDB (using 'json' module) (this may take a while, consider installing the 'ujson' module) ...\n",
      "[+] \tFinished in 0.0004334449768066406s\n",
      "[+] Preparing view(s) ...\n",
      "[+] Generating data for view\n",
      "[%] : 100%|██████████████████████████████████████████████████████████████████████████████████████████████████████████████████████████████████████████████████████████| 31.0/31.0 [00:00<00:00, 364kit/s]\n",
      "[+] \tWriting output.4222_FLYE_MEDAKA_ONT_minimap2.bam.cov\n",
      "[+] Generating data for view\n",
      "[%] : 100%|██████████████████████████████████████████████████████████████████████████████████████████████████████████████████████████████████████████████████████████| 31.0/31.0 [00:00<00:00, 288kit/s]\n",
      "[+] \tWriting output.quality.blobDB.table.txt\n",
      "[+] Writing output ...\n",
      "[+] Reading BlobDB quality.blobDB.json\n",
      "[+] \tLoading BlobDB into memory ...\n",
      "[+] \tDeserialising BlobDB (using 'json' module) (this may take a while, consider installing the 'ujson' module) ...\n",
      "[+] \tFinished in 0.000335693359375s\n",
      "[+] Extracting data for plots ...\n",
      "[I]\tProteobacteria : sequences = 18, span = 12.49 MB, N50 = 1,013,997 nt\n",
      "[I]\tBacteroidetes : sequences = 3, span = 4.95 MB, N50 = 2,871,070 nt\n",
      "[I]\tFirmicutes : sequences = 5, span = 3.36 MB, N50 = 1,016,358 nt\n",
      "[I]\tActinobacteria : sequences = 4, span = 1.82 MB, N50 = 936,665 nt\n",
      "[I]\tno-hit : sequences = 1, span = 0.01 MB, N50 = 6,151 nt\n",
      "[+] Plotting quality.blobDB.json.bestsum.phylum.p8.span.100.blobplot.bam0.png\n",
      "[+] Plotting quality.blobDB.json.bestsum.phylum.p8.span.100.blobplot.read_cov.bam0.png\n",
      "[+] Writing quality.blobDB.json.bestsum.phylum.p8.span.100.blobplot.stats.txt\n"
     ]
    }
   ],
   "source": [
    "blobtools view -i quality.blobDB.json --cov -o output;\n",
    "blobtools plot -i quality.blobDB.json;"
   ]
  },
  {
   "cell_type": "markdown",
   "id": "de79c4e2-50dd-4055-aaa7-8265ac6d5db5",
   "metadata": {},
   "source": [
    "#### Is there contamination in the assembly?\n",
    "\n",
    "#### Do any assemblies show strange clustering?\n",
    "\n",
    "#### Why might coverage vary across contigs within an assembly?"
   ]
  },
  {
   "cell_type": "markdown",
   "id": "4254dab5-6412-4a6d-a02a-0849097463f7",
   "metadata": {},
   "source": [
    "The Blobplots all indicate a single cluster. Some contigs show fairly high coverage in comparison to the rest of the genome which could be repetitive elements in the genome."
   ]
  },
  {
   "cell_type": "code",
   "execution_count": null,
   "id": "6cee151e-64a5-4e95-8bab-457d5cd7f573",
   "metadata": {},
   "outputs": [],
   "source": []
  },
  {
   "cell_type": "code",
   "execution_count": null,
   "id": "f12a4805-1f16-4d43-82e7-2d6e17bae2af",
   "metadata": {},
   "outputs": [],
   "source": []
  }
 ],
 "metadata": {
  "kernelspec": {
   "display_name": "Bash",
   "language": "bash",
   "name": "bash"
  },
  "language_info": {
   "codemirror_mode": "shell",
   "file_extension": ".sh",
   "mimetype": "text/x-sh",
   "name": "bash"
  }
 },
 "nbformat": 4,
 "nbformat_minor": 5
}
