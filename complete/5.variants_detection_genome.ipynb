{
 "cells": [
  {
   "cell_type": "markdown",
   "id": "d015209b-0d23-4c85-994c-79b3535c75a3",
   "metadata": {},
   "source": [
    "\n",
    "# <span style=\"color:#006E7F\">__Introduction to Oxford Nanopore Data Analysis__ <a class=\"anchor\"></span>  \n",
    "\n",
    "Created by C. Tranchant (DIADE-IRD), J. Orjuela (DIADE-IRD), F. Sabot (DIADE-IRD) and A. Dereeper (PHIM-IRD) - May 2022  SouthGreen training \n",
    "\n",
    "Adapted by J. Orjuela (DIADE-IRD), F. Sabot (DIADE-IRD) - Novembre 2022\n",
    "    \n",
    "# <span style=\"color:#006E7F\"> TP5. Structural Variants Detection using long reads  </center> </span>\n",
    "\n",
    "</span>\n"
   ]
  },
  {
   "cell_type": "markdown",
   "id": "a61499d9-a943-4628-a3c2-d622c86db2af",
   "metadata": {},
   "source": [
    "### <span style=\"color:#006E7F\">__0 - Preparing working environment__ <a class=\"anchor\" id=\"work\"></a></span>  \n",
    "### <span style=\"color: #4CACBC;\"> Create the working directory"
   ]
  },
  {
   "cell_type": "code",
   "execution_count": null,
   "id": "aaf97983-70d6-4774-a4fa-cc76f7b5dd92",
   "metadata": {},
   "outputs": [],
   "source": [
    "mkdir -p /home/jovyan/work/RESULTS/SV\n",
    "cd /home/jovyan/work//RESULTS/\n",
    "ls -l"
   ]
  },
  {
   "cell_type": "markdown",
   "id": "e448f0aa-b72b-4376-8309-72ab7c58e907",
   "metadata": {},
   "source": [
    "### <span style=\"color: #4CACBC;\"> Download two genomes</span>  "
   ]
  },
  {
   "cell_type": "code",
   "execution_count": null,
   "id": "fe0fdf17-568f-4073-b34b-19c98abb8458",
   "metadata": {},
   "outputs": [],
   "source": [
    "wget https://itrop.ird.fr/sv-training/Assemblies.tar.gz\n",
    "tar xvf Assemblies.tar.gz && rm Assemblies.tar.gz"
   ]
  },
  {
   "cell_type": "code",
   "execution_count": null,
   "id": "30ab0113-1538-469a-963c-420ed1714979",
   "metadata": {},
   "outputs": [],
   "source": [
    "ls -R"
   ]
  },
  {
   "cell_type": "markdown",
   "id": "c65b4b47-c99c-4673-971d-c198e15b5a5d",
   "metadata": {},
   "source": [
    "## <span style=\"color:#006E7F\">1. nucmer and syri <a class=\"anchor\" id=\"SVsyri\"></a></span>  \n",
    "\n",
    "### <span style=\"color: #4CACBC;\"> Initialization of two variables \"genome\"</span>  \n"
   ]
  },
  {
   "cell_type": "code",
   "execution_count": null,
   "id": "ac73f4e0-50c7-443d-a093-beb2cfb8751a",
   "metadata": {},
   "outputs": [],
   "source": [
    "dir_genome=\"/home/jovyan/work/SV/\"\n",
    "reference_assembly=$dir_genome\"Assemblies/A8_assembly.fasta\"\n",
    "query_assembly=$dir_genome\"Assemblies/5417_assembly.fasta\""
   ]
  },
  {
   "cell_type": "markdown",
   "id": "f8ff0702-daa3-4f01-9cf6-3ee6f3bbf241",
   "metadata": {},
   "source": [
    "### <span style=\"color: #4CACBC;\"> Create the working directory for SYRI analysis</span>  "
   ]
  },
  {
   "cell_type": "code",
   "execution_count": null,
   "id": "4c68f032-e621-4b91-b3f8-1ec2882e01ec",
   "metadata": {},
   "outputs": [],
   "source": [
    "dir_SV=$dir_genome\"SYRI/\"\n",
    "mkdir -p $dir_SV\n",
    "cd $dir_SV"
   ]
  },
  {
   "cell_type": "markdown",
   "id": "76322897-1433-4230-8d2b-499823a37b01",
   "metadata": {},
   "source": [
    "### <span style=\"color: #4CACBC;\"> Aligning genomes using `Nucmer` <a class=\"anchor\" id=\"nucmer\"></a></span>  \n",
    "\n",
    "#### Alignement of the two genomes"
   ]
  },
  {
   "cell_type": "code",
   "execution_count": null,
   "id": "bac7fd8e-c4f9-4c6c-a156-d3e94934e485",
   "metadata": {},
   "outputs": [],
   "source": [
    "nucmer --maxmatch $reference_assembly $query_assembly"
   ]
  },
  {
   "cell_type": "code",
   "execution_count": null,
   "id": "ee2ba7af-8b94-4df3-8412-928d6b421234",
   "metadata": {},
   "outputs": [],
   "source": [
    "ls -lrt"
   ]
  },
  {
   "cell_type": "markdown",
   "id": "7e004fdf-f6a8-4512-b86c-cc74ed85705b",
   "metadata": {},
   "source": [
    "#### Filtering nucmer results\n",
    "\n",
    "Remove small and lower quality alignments\n"
   ]
  },
  {
   "cell_type": "code",
   "execution_count": null,
   "id": "11b64fb3-6ead-4c47-85e6-6a5fa4049924",
   "metadata": {},
   "outputs": [],
   "source": [
    "delta-filter -m -i 90 -l 100 out.delta > out.filtered.delta"
   ]
  },
  {
   "cell_type": "code",
   "execution_count": null,
   "id": "467c1f2e-62d3-477b-b549-6de9c0f46619",
   "metadata": {},
   "outputs": [],
   "source": [
    "ls -lrt"
   ]
  },
  {
   "cell_type": "code",
   "execution_count": null,
   "id": "f9eb2b0f-f716-413e-ae14-76e70541e011",
   "metadata": {},
   "outputs": [],
   "source": [
    "show-coords -THrd out.filtered.delta > out.filtered.coords"
   ]
  },
  {
   "cell_type": "code",
   "execution_count": null,
   "id": "f34fceb2-a76e-41be-8a69-cf59e97564aa",
   "metadata": {},
   "outputs": [],
   "source": [
    "ls -lrt"
   ]
  },
  {
   "cell_type": "markdown",
   "id": "0c84c259-cdc7-422e-9c7f-cc09838418c9",
   "metadata": {},
   "source": [
    "### <span style=\"color: #4CACBC;\"> SV calling using syri <a class=\"anchor\" id=\"siri\"></a></span>  "
   ]
  },
  {
   "cell_type": "code",
   "execution_count": null,
   "id": "fda3a8b2-7768-4775-bbff-ba67b551d5ea",
   "metadata": {
    "tags": []
   },
   "outputs": [],
   "source": [
    "syri -c out.filtered.coords -d out.filtered.delta -r $reference_assembly -q $query_assembly"
   ]
  },
  {
   "cell_type": "code",
   "execution_count": null,
   "id": "a3f88d52-7edc-4d2c-a652-9ce1ac5531b9",
   "metadata": {},
   "outputs": [],
   "source": [
    "ls"
   ]
  },
  {
   "cell_type": "code",
   "execution_count": null,
   "id": "0fdcb7c6-d698-482c-b2a1-6d8f5f2b60e2",
   "metadata": {},
   "outputs": [],
   "source": [
    "cat syri.summary"
   ]
  },
  {
   "cell_type": "code",
   "execution_count": null,
   "id": "6de3d0f9-2198-4c0f-b813-6b4d3e41ab3c",
   "metadata": {},
   "outputs": [],
   "source": [
    "head syri.vcf"
   ]
  },
  {
   "cell_type": "markdown",
   "id": "b6825e0b-9260-4fe7-be3e-c410f7fd92ba",
   "metadata": {},
   "source": [
    "### <span style=\"color: #4CACBC;\"> Extracting all SNP from syri  <a class=\"anchor\" id=\"siri\"></a></span>  "
   ]
  },
  {
   "cell_type": "code",
   "execution_count": null,
   "id": "e3ecf3d7-a4b2-4d7b-85fa-a32b0ee60ede",
   "metadata": {},
   "outputs": [],
   "source": [
    "cat syri.out | grep SNP | cut -f 1,2 > a\n",
    "cat syri.out | grep SNP | cut -f 4,5 > b\n",
    "cat syri.out | grep SNP | cut -f 3 > c\n",
    "awk '{ print $1+1 }' c > d\n",
    "paste a d c > SNPs.bed\n",
    "rm a b c d\n"
   ]
  },
  {
   "cell_type": "code",
   "execution_count": null,
   "id": "9ae51f46-f320-43ba-a20b-81f93d569c2d",
   "metadata": {},
   "outputs": [],
   "source": [
    "echo -e $reference_assembly'\\t ref' > plotsr_pos.txt\n",
    "echo -e $query_assembly'\\t query' >> plotsr_pos.txt"
   ]
  },
  {
   "cell_type": "code",
   "execution_count": null,
   "id": "96ffd3a6-6bf7-41da-a78c-84219fe96878",
   "metadata": {},
   "outputs": [],
   "source": [
    "plotsr --sr syri.out --genomes plotsr_pos.txt -s 500 -o plotsr.pdf -H 8 -W 5"
   ]
  }
 ],
 "metadata": {
  "kernelspec": {
   "display_name": "Bash",
   "language": "bash",
   "name": "bash"
  },
  "language_info": {
   "codemirror_mode": "shell",
   "file_extension": ".sh",
   "mimetype": "text/x-sh",
   "name": "bash"
  }
 },
 "nbformat": 4,
 "nbformat_minor": 5
}
