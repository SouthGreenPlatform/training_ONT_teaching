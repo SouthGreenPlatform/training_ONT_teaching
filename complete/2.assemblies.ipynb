{
 "cells": [
  {
   "cell_type": "markdown",
   "id": "66d4eeac",
   "metadata": {},
   "source": [
    "# <span style=\"color:#006E7F\">__Introduction to Oxford Nanopore Data Analysis__ <a class=\"anchor\"></span>  \n",
    "\n",
    "\n",
    "Created by J. Orjuela (DIADE-IRD), F. Sabot (DIADE-IRD) and G. Sarah (AGAP-INRAE) - Septembre 2021 Formation SouthGreen\n",
    "\n",
    "Adapted by J. Orjuela (DIADE-IRD), F. Sabot (DIADE-IRD) - Novembre 2022\n",
    "    \n",
    "Adapted by J. Orjuela (DIADE-IRD) - mai 2023\n"
   ]
  },
  {
   "cell_type": "markdown",
   "id": "52dd03b0",
   "metadata": {
    "tags": []
   },
   "source": [
    "# <span style=\"color:#006E7F\">__TP2 - Assembly and correction__ <a class=\"anchor\" id=\"data\"></span>  \n",
    "    \n",
    "## <span style=\"color: #4CACBC;\"> 1. Assemblies </span>  \n",
    "\n",
    "Quite contiguous genome assemblies can be generated using long sequencing read but assembly is not a quiet pace. Eukaryotic genomes assembly is a complex task (large genome size, high rate of repeated sequences, high heterozygosity level and even polyploidy). While prokaryotic genomes may appear less challenging, specific features such as circular DNA molecules, must be taken into consideration to achieve high quality assembly.\n",
    "\n",
    "* For assembly, ONT recommend sequencing a human genome to a minimum depth of 30x of 25–35 kb reads.\n",
    "However, sequencing to a depth of 60x (min 20x) is advisable to obtain the best assembly metrics. We also recommend basecalling in high accuracy/sup/Dorado mode. Greatest contig N50 is usually obtained with Shasta and Flye. Polishing/Correction is also recommended (Medaka). https://nanoporetech.com/sites/default/files/s3/literature/human-genome-assembly-workflow.pdf\n",
    "\n",
    "\n",
    "* Long reads simplify genome assembly, with the ability to span repeat-rich sequences (characteristic of  antimicrobial resistance genes) and structural variants. Nanopore sequencing also shows a lack of bias in GC-rich regions, in contrast to other sequencing platforms. To perform microbial genome assembly, we suggest using the third-party *de novo* assembly tool Flye. We also recommend one round of polishing with Medaka. https://nanoporetech.com/sites/default/files/s3/literature/microbial-genome-assembly-workflow.pdf "
   ]
  },
  {
   "cell_type": "markdown",
   "id": "0a74882e",
   "metadata": {},
   "source": [
    "Flye  https://github.com/fenderglass/Flye \n",
    "\n",
    "Canu  https://canu.readthedocs.io/en/latest/quick-start.html\n",
    "\n",
    "Miniasm  https://github.com/lh3/miniasm + Minipolish version https://github.com/rrwick/Minipolish\n",
    "\n",
    "Shasta  https://github.com/chanzuckerberg/shasta\n",
    "\n",
    "Smartdenovo  https://github.com/ruanjue/smartdenovo\n",
    "\n",
    "Raven  https://github.com/lbcb-sci/raven"
   ]
  },
  {
   "cell_type": "markdown",
   "id": "c83a6eac",
   "metadata": {},
   "source": [
    "### <span style=\"color: #4CACBD;\"> 1.1 Assembly using Flye </span>"
   ]
  },
  {
   "cell_type": "markdown",
   "id": "2415c263",
   "metadata": {},
   "source": [
    "We are going to assembly the three algae samples using Flye https://github.com/fenderglass/Flye\n",
    "\n",
    "Flye generates the concatenation of multiple disjoint genomic segments called disjointigs to build a repeat graph. Reads are mapped to this repeat graph to resolve conflicts (unbridged repeats) and output contigs."
   ]
  },
  {
   "cell_type": "code",
   "execution_count": 1,
   "id": "af681d7a",
   "metadata": {},
   "outputs": [
    {
     "name": "stdout",
     "output_type": "stream",
     "text": [
      "/home/jovyan/work/RESULTS\n"
     ]
    }
   ],
   "source": [
    "# create a repertory for save flye assembly results\n",
    "mkdir -p ~/work/RESULTS/4222_FLYE\n",
    "cd ~/work/RESULTS/\n",
    "pwd"
   ]
  },
  {
   "cell_type": "code",
   "execution_count": 2,
   "id": "b7f1b857",
   "metadata": {
    "tags": []
   },
   "outputs": [
    {
     "name": "stdout",
     "output_type": "stream",
     "text": [
      "[2023-11-01 22:01:54] INFO: Starting Flye 2.9.2-b1786\n",
      "[2023-11-01 22:01:54] INFO: >>>STAGE: configure\n",
      "[2023-11-01 22:01:54] INFO: Configuring run\n",
      "[2023-11-01 22:02:02] INFO: Total read length: 746791553\n",
      "[2023-11-01 22:02:02] INFO: Input genome size: 15000000\n",
      "[2023-11-01 22:02:02] INFO: Estimated coverage: 49\n",
      "[2023-11-01 22:02:02] INFO: Reads N50/N90: 20829 / 6197\n",
      "[2023-11-01 22:02:02] INFO: Minimum overlap set to 6000\n",
      "[2023-11-01 22:02:02] INFO: >>>STAGE: assembly\n",
      "[2023-11-01 22:02:02] INFO: Assembling disjointigs\n",
      "[2023-11-01 22:02:02] INFO: Reading sequences\n",
      "[2023-11-01 22:02:10] INFO: Building minimizer index\n",
      "[2023-11-01 22:02:10] INFO: Pre-calculating index storage\n",
      "0% 10% 20% 30% 40% 50% 60% 70% 80% 90% 100% \n",
      "[2023-11-01 22:02:21] INFO: Filling index\n",
      "0% 10% 20% 30% 40% 50% 60% 70% 80% 90% 100% \n",
      "[2023-11-01 22:02:47] INFO: Extending reads\n",
      "[2023-11-01 22:04:04] INFO: Overlap-based coverage: 30\n",
      "[2023-11-01 22:04:04] INFO: Median overlap divergence: 0.0796524\n",
      "0% 10% 30% 60% 70% 80% 90% 100% \n",
      "[2023-11-01 22:06:06] INFO: Assembled 30 disjointigs\n",
      "[2023-11-01 22:06:07] INFO: Generating sequence\n",
      "0% 10% 20% 30% 40% 50% 60% 70% 80% 90% 100% \n",
      "[2023-11-01 22:06:10] INFO: Filtering contained disjointigs\n",
      "0% 10% 20% 30% 40% 50% 60% 70% 80% 90% 100% \n",
      "[2023-11-01 22:06:11] INFO: Contained seqs: 0\n",
      "[2023-11-01 22:06:11] INFO: >>>STAGE: consensus\n",
      "[2023-11-01 22:06:11] INFO: Running Minimap2\n",
      "[2023-11-01 22:08:14] INFO: Computing consensus\n",
      "[2023-11-01 22:09:33] INFO: Alignment error rate: 0.093682\n",
      "[2023-11-01 22:09:33] INFO: >>>STAGE: repeat\n",
      "[2023-11-01 22:09:33] INFO: Building and resolving repeat graph\n",
      "[2023-11-01 22:09:33] INFO: Parsing disjointigs\n",
      "[2023-11-01 22:09:33] INFO: Building repeat graph\n",
      "0% 10% 20% 30% 40% 50% 60% 70% 80% 90% 100% \n",
      "[2023-11-01 22:09:38] INFO: Median overlap divergence: 0.0171298\n",
      "[2023-11-01 22:09:38] INFO: Parsing reads\n",
      "[2023-11-01 22:09:45] INFO: Aligning reads to the graph\n",
      "0% 10% 20% 30% 40% 50% 60% 70% 80% 90% 100% \n",
      "[2023-11-01 22:10:24] INFO: Aligned read sequence: 597671310 / 675674609 (0.884555)\n",
      "[2023-11-01 22:10:24] INFO: Median overlap divergence: 0.0446236\n",
      "[2023-11-01 22:10:24] INFO: Mean edge coverage: 25\n",
      "[2023-11-01 22:10:24] INFO: Simplifying the graph\n",
      "[2023-11-01 22:10:25] INFO: >>>STAGE: contigger\n",
      "[2023-11-01 22:10:25] INFO: Generating contigs\n",
      "[2023-11-01 22:10:25] INFO: Reading sequences\n",
      "[2023-11-01 22:10:32] INFO: Generated 31 contigs\n",
      "[2023-11-01 22:10:32] INFO: Added 0 scaffold connections\n",
      "[2023-11-01 22:10:33] INFO: >>>STAGE: polishing\n",
      "[2023-11-01 22:10:33] INFO: Polishing genome (1/1)\n",
      "[2023-11-01 22:10:33] INFO: Running minimap2\n",
      "[2023-11-01 22:11:36] INFO: Separating alignment into bubbles\n",
      "[2023-11-01 22:13:21] INFO: Alignment error rate: 0.063675\n",
      "[2023-11-01 22:13:21] INFO: Correcting bubbles\n",
      "0% 10% 20% 30% 40% 50% 60% 70% 80% 90% 100% \n",
      "[2023-11-01 22:14:52] INFO: >>>STAGE: finalize\n",
      "[2023-11-01 22:14:53] INFO: Assembly statistics:\n",
      "\n",
      "\tTotal length:\t22623668\n",
      "\tFragments:\t31\n",
      "\tFragments N50:\t1016583\n",
      "\tLargest frg:\t4576556\n",
      "\tScaffolds:\t0\n",
      "\tMean coverage:\t32\n",
      "\n",
      "[2023-11-01 22:14:53] INFO: Final assembly: /home/jovyan/work/RESULTS/4222_FLYE/assembly.fasta\n",
      "\n",
      "real\t12m58.656s\n",
      "user\t74m43.846s\n",
      "sys\t0m30.918s\n"
     ]
    }
   ],
   "source": [
    "# Run flye with genome size of about 15Mb\n",
    "time flye --nano-hq ~/work/DATA/4222_RB2.fastq.gz --genome-size 15000000 --out-dir 4222_FLYE --threads 8"
   ]
  },
  {
   "cell_type": "markdown",
   "id": "102de26b",
   "metadata": {
    "tags": []
   },
   "source": [
    "### How many contigs were obtained by Flye ? \n",
    "\n",
    "### What do you think about N50 and lenght contig mean."
   ]
  },
  {
   "cell_type": "markdown",
   "id": "402a7fd9-327e-48ae-b479-07f08953ff73",
   "metadata": {},
   "source": [
    "## <span style=\"color: #4CACBC;\"> 2. Assemblies correction with Medaka </span>  \n",
    "\n",
    "Correction can improve the consensus sequence for a draft genome assembly.\n",
    "\n",
    "Medaka uses fast5 files to correct contigs using trained models. These models are freely available.\n",
    "\n",
    "Medaka allows you to train a model by using fast5 from your favorite species. You can use it directly to obtain a consensus from you favorite organism."
   ]
  },
  {
   "cell_type": "markdown",
   "id": "71ce5016-7668-4ba5-9e88-813ebf9d302f",
   "metadata": {},
   "source": [
    "### <span style=\"color: #4CACBC;\"> 2.3 Correct assemblies with Medaka </span>  \n",
    "\n",
    "We will use medaka to correct assemblies from FLYE\n"
   ]
  },
  {
   "cell_type": "markdown",
   "id": "617d9cdf-3de6-423a-9782-1e815df0fc9f",
   "metadata": {},
   "source": [
    "### <span style=\"color: #4CACBC;\"> 2.3.1 Before to correct assemblies, index them </span>  "
   ]
  },
  {
   "cell_type": "markdown",
   "id": "409234ce-e48c-4b45-87df-9cda4ef6c2c3",
   "metadata": {},
   "source": [
    "### Index and map reads on raw flye assembly"
   ]
  },
  {
   "cell_type": "code",
   "execution_count": 3,
   "id": "c053d87b-0a5a-47a3-a055-b4a4b92b1fdc",
   "metadata": {},
   "outputs": [
    {
     "name": "stdout",
     "output_type": "stream",
     "text": [
      "/home/jovyan/work/RESULTS/4222_FLYE\n"
     ]
    }
   ],
   "source": [
    "cd ~/work/RESULTS/4222_FLYE\n",
    "pwd"
   ]
  },
  {
   "cell_type": "code",
   "execution_count": 4,
   "id": "df5fa069-922f-434c-a0a2-f46f61becde2",
   "metadata": {},
   "outputs": [
    {
     "name": "stdout",
     "output_type": "stream",
     "text": [
      "\n",
      "real\t0m0.089s\n",
      "user\t0m0.054s\n",
      "sys\t0m0.000s\n",
      "[M::mm_idx_gen::0.355*1.00] collected minimizers\n",
      "[M::mm_idx_gen::0.441*1.39] sorted minimizers\n",
      "[M::main::0.540*1.32] loaded/built the index for 31 target sequence(s)\n",
      "[M::mm_idx_stat] kmer size: 15; skip: 10; is_hpc: 0; #seq: 31\n",
      "[M::mm_idx_stat::0.573*1.30] distinct minimizers: 3863893 (94.32% are singletons); average occurrences: 1.098; average spacing: 5.331; total length: 22623668\n",
      "[M::main] Version: 2.24-r1122\n",
      "[M::main] CMD: minimap2 -d assembly.fasta.mmi assembly.fasta\n",
      "[M::main] Real time: 0.580 sec; CPU: 0.751 sec; Peak RSS: 0.213 GB\n",
      "\n",
      "real\t0m0.589s\n",
      "user\t0m0.647s\n",
      "sys\t0m0.110s\n"
     ]
    }
   ],
   "source": [
    "time samtools faidx assembly.fasta \n",
    "time minimap2 -d assembly.fasta.mmi assembly.fasta"
   ]
  },
  {
   "cell_type": "code",
   "execution_count": 5,
   "id": "1c995027-0430-45c8-9170-94e07d8ddc32",
   "metadata": {},
   "outputs": [
    {
     "name": "stdout",
     "output_type": "stream",
     "text": [
      "samtools: /usr/local/bin/samtools /opt/conda/envs/busco/bin/samtools\n"
     ]
    }
   ],
   "source": [
    "whereis samtools"
   ]
  },
  {
   "cell_type": "markdown",
   "id": "7ca09c9f-39cf-42e3-a933-3f909d7693a1",
   "metadata": {},
   "source": [
    "### Create a medaka repertory to save medaka results from FLYE analysis\n"
   ]
  },
  {
   "cell_type": "code",
   "execution_count": 6,
   "id": "7d33060f-030f-4cba-874c-b9d9b2f01051",
   "metadata": {},
   "outputs": [],
   "source": [
    "mkdir -p ~/work/RESULTS/4222_FLYE_MEDAKA"
   ]
  },
  {
   "cell_type": "markdown",
   "id": "c205aa66-2d44-4c73-9fd2-ddb1f452451a",
   "metadata": {},
   "source": [
    "### <span style=\"color: #4CACBC;\"> 2.3.2 Medaka_consensus </span>  \n"
   ]
  },
  {
   "cell_type": "markdown",
   "id": "2754c0da-dfdd-4fd3-86d4-e76917e44983",
   "metadata": {},
   "source": [
    "Medaka is a tool to create a consensus sequence from nanopore sequencing data. \n",
    "\n",
    "This task is performed by using neural networks applied to a pileup of individual sequencing reads against a draft assembly.\n",
    "\n",
    "It outperforms graph-based methods operating on basecalled data, and can be competitive with state-of-the-art signal-based methods whilst being much faster.\n",
    "\n",
    "As input medaka accepts reads in either a .fasta or a .fastq file. It requires a draft assembly as a .fasta.\n",
    "\n",
    "### Check the usage of medaka_consensus"
   ]
  },
  {
   "cell_type": "code",
   "execution_count": 7,
   "id": "33f0824a-d09f-46ab-a0b7-7c7020ddfb1c",
   "metadata": {},
   "outputs": [
    {
     "name": "stdout",
     "output_type": "stream",
     "text": [
      "TF_CPP_MIN_LOG_LEVEL is set to '3'\n",
      "Cannot import pyabpoa, some features may not be available.\n",
      "Cannot import pyabpoa, some features may not be available.\n",
      "\n",
      "medaka 1.11.0\n",
      "------------\n",
      "\n",
      "Assembly polishing via neural networks. Medaka is optimized\n",
      "to work with the Flye assembler.\n",
      "\n",
      "medaka_consensus [-h] -i <fastx> -d <fasta>\n",
      "\n",
      "    -h  show this help text.\n",
      "    -i  fastx input basecalls (required).\n",
      "    -d  fasta input assembly (required).\n",
      "    -o  output folder (default: medaka).\n",
      "    -g  don't fill gaps in consensus with draft sequence.\n",
      "    -r  use gap-filling character instead of draft sequence (default: None)\n",
      "    -m  medaka model, (default: r1041_e82_400bps_sup_v4.2.0).\n",
      "        Choices: r103_fast_g507 r103_hac_g507 r103_min_high_g345 r103_min_high_g360 r103_prom_high_g360 r103_sup_g507 r1041_e82_260bps_fast_g632 r1041_e82_260bps_hac_g632 r1041_e82_260bps_hac_v4.0.0 r1041_e82_260bps_hac_v4.1.0 r1041_e82_260bps_sup_g632 r1041_e82_260bps_sup_v4.0.0 r1041_e82_260bps_sup_v4.1.0 r1041_e82_400bps_fast_g615 r1041_e82_400bps_fast_g632 r1041_e82_400bps_hac_g615 r1041_e82_400bps_hac_g632 r1041_e82_400bps_hac_v4.0.0 r1041_e82_400bps_hac_v4.1.0 r1041_e82_400bps_hac_v4.2.0 r1041_e82_400bps_sup_g615 r1041_e82_400bps_sup_v4.0.0 r1041_e82_400bps_sup_v4.1.0 r1041_e82_400bps_sup_v4.2.0 r104_e81_fast_g5015 r104_e81_hac_g5015 r104_e81_sup_g5015 r104_e81_sup_g610 r10_min_high_g303 r10_min_high_g340 r941_e81_fast_g514 r941_e81_hac_g514 r941_e81_sup_g514 r941_min_fast_g303 r941_min_fast_g507 r941_min_hac_g507 r941_min_high_g303 r941_min_high_g330 r941_min_high_g340_rle r941_min_high_g344 r941_min_high_g351 r941_min_high_g360 r941_min_sup_g507 r941_prom_fast_g303 r941_prom_fast_g507 r941_prom_hac_g507 r941_prom_high_g303 r941_prom_high_g330 r941_prom_high_g344 r941_prom_high_g360 r941_prom_high_g4011 r941_prom_sup_g507 r941_sup_plant_g610\n",
      "        Alternatively a .tar.gz/.hdf file from 'medaka train'.\n",
      "        If not provided, and automatic choice will be attempted based on\n",
      "        the contents of the input file.\n",
      "    -f  Force overwrite of outputs (default will reuse existing outputs).\n",
      "    -x  Force recreation of alignment index.\n",
      "    -t  number of threads with which to create features (default: 1).\n",
      "    -b  batchsize, controls memory use (default: 100).\n",
      "    -q  Output consensus with per-base quality scores (fastq).\n",
      "\n",
      "-i must be specified.\n"
     ]
    },
    {
     "ename": "",
     "evalue": "1",
     "output_type": "error",
     "traceback": []
    }
   ],
   "source": [
    "medaka_consensus"
   ]
  },
  {
   "cell_type": "markdown",
   "id": "76697fb5-f7cb-4c9d-a4a3-d40faf783dc8",
   "metadata": {},
   "source": [
    "### Check the medaka model to use\n",
    "\n",
    "Medaka models are named to indicate i) the pore type, ii) the sequencing device (MinION or PromethION), iii) the basecaller variant, and  iv) the basecaller version\n",
    "\n",
    "{pore}_{device}_{caller variant}_{caller version}\n",
    "\n",
    "examples: \n",
    "\n",
    "r941_min_fast_g303 : MiniON R9.4.1 flowcells using the fast Guppy basecaller version 3.0.3. \n"
   ]
  },
  {
   "cell_type": "code",
   "execution_count": null,
   "id": "6d21303f-db57-47b9-a8cc-a4d62b1de1e9",
   "metadata": {},
   "outputs": [],
   "source": [
    "medaka tools list_models"
   ]
  },
  {
   "cell_type": "markdown",
   "id": "9701d320-2cb6-46a5-8922-cc4234352aae",
   "metadata": {
    "tags": []
   },
   "source": [
    "### Medaka in FLYE ASSEMBLY\n",
    "\n",
    "We run medaka on the FLYE assembly."
   ]
  },
  {
   "cell_type": "code",
   "execution_count": 8,
   "id": "5a81fe37-d66f-4f2e-9851-7a20546443b1",
   "metadata": {},
   "outputs": [],
   "source": [
    "# go to medaka repertory results\n",
    "cd ~/work/RESULTS/4222_FLYE_MEDAKA"
   ]
  },
  {
   "cell_type": "code",
   "execution_count": 9,
   "id": "2e2c9a7c-a9ee-49fa-b308-9b61fcb9a814",
   "metadata": {
    "tags": []
   },
   "outputs": [
    {
     "name": "stdout",
     "output_type": "stream",
     "text": [
      "TF_CPP_MIN_LOG_LEVEL is set to '3'\n",
      "Cannot import pyabpoa, some features may not be available.\n",
      "Cannot import pyabpoa, some features may not be available.\n",
      "Attempting to automatically select model version.\n",
      "WARNING: Failed to detect a model version, will use default: 'r1041_e82_400bps_sup_v4.2.0'\n",
      "Checking program versions\n",
      "This is medaka 1.11.0\n",
      "Cannot import pyabpoa, some features may not be available.\n",
      "Program    Version    Required   Pass     \n",
      "bcftools   1.13       1.11       True     \n",
      "bgzip      1.13+ds    1.11       True     \n",
      "minimap2   2.24       2.11       True     \n",
      "samtools   1.11       1.11       True     \n",
      "tabix      1.13+ds    1.11       True     \n",
      "Cannot import pyabpoa, some features may not be available.\n",
      "[22:18:22 - MdlStrTF] Successfully removed temporary files from /tmp/tmpqciwnq27.\n",
      "Cannot import pyabpoa, some features may not be available.\n",
      "[22:18:22 - MdlStrTF] Successfully removed temporary files from /tmp/tmppkjoy3zu.\n",
      "Aligning basecalls to draft\n",
      "Using the existing fai index file /home/jovyan/work/RESULTS/4222_FLYE/assembly.fasta.fai\n",
      "Creating mmi index file /home/jovyan/work/RESULTS/4222_FLYE/assembly.fasta.map-ont.mmi\n",
      "[M::mm_idx_gen::0.351*1.00] collected minimizers\n",
      "[M::mm_idx_gen::0.438*1.39] sorted minimizers\n",
      "[M::main::0.537*1.32] loaded/built the index for 31 target sequence(s)\n",
      "[M::mm_idx_stat] kmer size: 15; skip: 10; is_hpc: 0; #seq: 31\n",
      "[M::mm_idx_stat::0.569*1.30] distinct minimizers: 3863893 (94.32% are singletons); average occurrences: 1.098; average spacing: 5.331; total length: 22623668\n",
      "[M::main] Version: 2.24-r1122\n",
      "[M::main] CMD: minimap2 -I 16G -x map-ont -d /home/jovyan/work/RESULTS/4222_FLYE/assembly.fasta.map-ont.mmi /home/jovyan/work/RESULTS/4222_FLYE/assembly.fasta\n",
      "[M::main] Real time: 0.576 sec; CPU: 0.749 sec; Peak RSS: 0.213 GB\n",
      "[M::main::0.144*1.00] loaded/built the index for 31 target sequence(s)\n",
      "[M::mm_mapopt_update::0.186*1.00] mid_occ = 21\n",
      "[M::mm_idx_stat] kmer size: 15; skip: 10; is_hpc: 0; #seq: 31\n",
      "[M::mm_idx_stat::0.217*1.00] distinct minimizers: 3863893 (94.32% are singletons); average occurrences: 1.098; average spacing: 5.331; total length: 22623668\n",
      "[M::worker_pipeline::31.679*6.99] mapped 42406 sequences\n",
      "[M::worker_pipeline::38.069*6.64] mapped 20357 sequences\n",
      "[M::main] Version: 2.24-r1122\n",
      "[M::main] CMD: minimap2 -x map-ont --secondary=no -L --MD -A 2 -B 4 -O 4,24 -E 2,1 -t 8 -a /home/jovyan/work/RESULTS/4222_FLYE/assembly.fasta.map-ont.mmi /home/jovyan/work/DATA/4222_RB2.fastq.gz\n",
      "[M::main] Real time: 38.119 sec; CPU: 252.999 sec; Peak RSS: 3.348 GB\n",
      "[bam_sort_core] merging from 0 files and 8 in-memory blocks...\n",
      "Running medaka consensus\n",
      "Cannot import pyabpoa, some features may not be available.\n",
      "[22:19:12 - numexpr.utils] Note: NumExpr detected 20 cores but \"NUMEXPR_MAX_THREADS\" not set, so enforcing safe limit of 8.\n",
      "[22:19:12 - numexpr.utils] NumExpr defaulting to 8 threads.\n",
      "[22:19:13 - Predict] Reducing threads to 2, anymore is a waste.\n",
      "[22:19:13 - Predict] It looks like you are running medaka without a GPU and attempted to set a high number of threads. We have scaled this down to an optimal number. If you wish to improve performance please see https://nanoporetech.github.io/medaka/installation.html#improving-parallelism.\n",
      "[22:19:13 - Predict] Setting tensorflow inter/intra-op threads to 2/1.\n",
      "[22:19:13 - Predict] Processing region(s): contig_1:0-715939 contig_10:0-1014221 contig_11:0-6154 contig_12:0-1016583 contig_13:0-35904 contig_14:0-581982 contig_15:0-78141 contig_17:0-78153 contig_18:0-150876 contig_19:0-995003 contig_2:0-963689 contig_20:0-489198 contig_21:0-469907 contig_22:0-523813 contig_23:0-11815 contig_24:0-1358902 contig_25:0-796812 contig_26:0-1122253 contig_27:0-2871024 contig_28:0-896048 contig_29:0-937021 contig_3:0-1076147 contig_30:0-9691 contig_31:0-12359 contig_32:0-4576556 contig_33:0-71630 contig_4:0-306875 contig_5:0-669176 contig_6:0-71242 contig_8:0-703741 contig_9:0-12813\n",
      "[22:19:13 - Predict] Using model: /opt/conda/lib/python3.10/site-packages/medaka/data/r1041_e82_400bps_sup_v4.2.0_model.tar.gz.\n",
      "[22:19:13 - BAMFile] Creating pool of 16 BAM file sets.\n",
      "[22:19:13 - Predict] Processing 40 long region(s) with batching.\n",
      "[22:19:13 - MdlStrTF] Model <keras.engine.sequential.Sequential object at 0x7f52b050b010>\n",
      "[22:19:13 - MdlStrTF] loading weights from /tmp/tmp0tz4b3ot/model/variables/variables (using expect partial)\n",
      "[22:19:13 - Sampler] Initializing sampler for consensus of region contig_1:0-715939.\n",
      "[22:19:13 - Sampler] Initializing sampler for consensus of region contig_10:0-1000000.\n",
      "[22:19:13 - PWorker] Running inference for 22.6M draft bases.\n",
      "[22:19:14 - Feature] Processed contig_1:0.0-715938.0 (median depth 17.0)\n",
      "[22:19:14 - Sampler] Took 1.04s to make features.\n",
      "[22:19:14 - Sampler] Initializing sampler for consensus of region contig_10:999000-1014221.\n",
      "[22:19:14 - Feature] Processed contig_10:999000.0-1014220.0 (median depth 33.0)\n",
      "[22:19:14 - Sampler] Took 0.15s to make features.\n",
      "[22:19:14 - Sampler] Initializing sampler for consensus of region contig_12:0-1000000.\n",
      "[22:19:14 - Feature] Processed contig_10:0.0-999999.1 (median depth 18.0)\n",
      "[22:19:14 - Sampler] Took 1.32s to make features.\n",
      "[22:19:14 - Sampler] Initializing sampler for consensus of region contig_12:999000-1016583.\n",
      "[22:19:15 - Feature] Processed contig_12:999000.0-1016582.0 (median depth 10.0)\n",
      "[22:19:15 - Sampler] Took 0.15s to make features.\n",
      "[22:19:15 - Sampler] Initializing sampler for consensus of region contig_13:0-35904.\n",
      "[22:19:15 - Feature] Processed contig_13:0.0-35903.0 (median depth 15.0)\n",
      "[22:19:15 - Sampler] Took 0.13s to make features.\n",
      "[22:19:15 - Sampler] Initializing sampler for consensus of region contig_14:0-581982.\n",
      "[22:19:15 - Feature] Processed contig_12:0.0-999999.0 (median depth 19.0)\n",
      "[22:19:15 - Sampler] Took 0.64s to make features.\n",
      "[22:19:15 - Sampler] Initializing sampler for consensus of region contig_15:0-78141.\n",
      "[22:19:15 - Feature] Processed contig_14:0.0-581981.0 (median depth 17.0)\n",
      "[22:19:15 - Sampler] Took 0.38s to make features.\n",
      "[22:19:15 - Sampler] Initializing sampler for consensus of region contig_17:0-78153.\n",
      "[22:19:15 - Feature] Processed contig_15:0.0-78140.0 (median depth 19.0)\n",
      "[22:19:15 - Sampler] Took 0.13s to make features.\n",
      "[22:19:15 - Sampler] Initializing sampler for consensus of region contig_18:0-150876.\n",
      "[22:19:15 - Feature] Processed contig_17:0.0-78152.0 (median depth 16.0)\n",
      "[22:19:15 - Sampler] Took 0.13s to make features.\n",
      "[22:19:15 - Sampler] Initializing sampler for consensus of region contig_19:0-995003.\n",
      "[22:19:15 - Feature] Processed contig_18:0.0-150875.0 (median depth 22.0)\n",
      "[22:19:15 - Sampler] Took 0.18s to make features.\n",
      "[22:19:15 - Sampler] Initializing sampler for consensus of region contig_2:0-963689.\n",
      "[22:19:16 - Feature] Processed contig_19:0.0-995002.0 (median depth 18.0)\n",
      "[22:19:16 - Sampler] Took 0.70s to make features.\n",
      "[22:19:16 - Sampler] Initializing sampler for consensus of region contig_20:0-489198.\n",
      "[22:19:16 - Feature] Processed contig_2:0.0-963688.0 (median depth 17.0)\n",
      "[22:19:16 - Sampler] Took 0.65s to make features.\n",
      "[22:19:16 - Sampler] Initializing sampler for consensus of region contig_21:0-469907.\n",
      "[22:19:17 - Feature] Processed contig_20:0.0-489197.0 (median depth 17.0)\n",
      "[22:19:17 - Sampler] Took 0.52s to make features.\n",
      "[22:19:17 - Sampler] Initializing sampler for consensus of region contig_22:0-523813.\n",
      "[22:19:17 - Feature] Processed contig_21:0.0-469906.0 (median depth 19.0)\n",
      "[22:19:17 - Sampler] Took 0.54s to make features.\n",
      "[22:19:17 - Sampler] Initializing sampler for consensus of region contig_23:0-11815.\n",
      "[22:19:17 - Feature] Processed contig_23:0.0-11814.0 (median depth 85.0)\n",
      "[22:19:17 - Sampler] Took 0.19s to make features.\n",
      "[22:19:17 - Sampler] Initializing sampler for consensus of region contig_24:0-1000000.\n",
      "[22:19:17 - Feature] Processed contig_22:0.0-523812.0 (median depth 17.0)\n",
      "[22:19:17 - Sampler] Took 0.46s to make features.\n",
      "[22:19:17 - Sampler] Initializing sampler for consensus of region contig_24:999000-1358902.\n",
      "[22:19:17 - Feature] Processed contig_24:999000.0-1358901.0 (median depth 18.0)\n",
      "[22:19:17 - Sampler] Took 0.08s to make features.\n",
      "[22:19:17 - Sampler] Initializing sampler for consensus of region contig_25:0-796812.\n",
      "[22:19:17 - Feature] Processed contig_24:0.0-999999.0 (median depth 19.0)\n",
      "[22:19:17 - Sampler] Took 0.33s to make features.\n",
      "[22:19:17 - Sampler] Initializing sampler for consensus of region contig_26:0-1000000.\n",
      "[22:19:17 - Feature] Processed contig_25:0.0-796811.0 (median depth 17.0)\n",
      "[22:19:17 - Sampler] Took 0.16s to make features.\n",
      "[22:19:17 - Sampler] Initializing sampler for consensus of region contig_26:999000-1122253.\n",
      "[22:19:17 - Feature] Processed contig_26:0.0-999999.0 (median depth 17.0)\n",
      "[22:19:17 - Feature] Processed contig_26:999000.0-1122252.0 (median depth 22.0)\n",
      "[22:19:17 - Sampler] Took 0.18s to make features.\n",
      "[22:19:17 - Sampler] Took 0.07s to make features.\n",
      "[22:19:17 - Sampler] Initializing sampler for consensus of region contig_27:0-1000000.\n",
      "[22:19:17 - Sampler] Initializing sampler for consensus of region contig_27:999000-1999000.\n",
      "[22:19:18 - Feature] Processed contig_27:0.0-999999.0 (median depth 88.0)\n",
      "[22:19:18 - Sampler] Took 0.73s to make features.\n",
      "[22:19:18 - Sampler] Initializing sampler for consensus of region contig_27:1998000-2871024.\n",
      "[22:19:18 - Feature] Processed contig_27:999000.0-1998999.2 (median depth 97.0)\n",
      "[22:19:18 - Sampler] Took 0.84s to make features.\n",
      "[22:19:19 - Feature] Processed contig_27:1998000.0-2871023.0 (median depth 98.0)\n",
      "[22:19:19 - Sampler] Took 0.55s to make features.\n",
      "[22:19:25 - PWorker] Batches in cache: 8.\n",
      "[22:19:25 - PWorker] 3.2% Done (0.7/22.6 Mbases) in 11.4s\n",
      "[22:19:30 - PWorker] Batches in cache: 8.\n",
      "[22:19:30 - Sampler] Initializing sampler for consensus of region contig_28:0-896048.\n",
      "[22:19:31 - Feature] Processed contig_28:0.0-896047.0 (median depth 18.0)\n",
      "[22:19:31 - Sampler] Took 0.16s to make features.\n",
      "[22:19:36 - PWorker] Batches in cache: 8.\n",
      "[22:19:36 - PWorker] 9.4% Done (2.1/22.6 Mbases) in 23.1s\n",
      "[22:19:42 - PWorker] Batches in cache: 8.\n",
      "[22:19:42 - Sampler] Initializing sampler for consensus of region contig_29:0-937021.\n",
      "[22:19:42 - Feature] Processed contig_29:0.0-937020.0 (median depth 17.0)\n",
      "[22:19:42 - Sampler] Took 0.17s to make features.\n",
      "[22:19:48 - PWorker] Batches in cache: 8.\n",
      "[22:19:48 - PWorker] 15.6% Done (3.5/22.6 Mbases) in 34.9s\n",
      "[22:19:48 - Sampler] Initializing sampler for consensus of region contig_3:0-1000000.\n",
      "[22:19:48 - Feature] Processed contig_3:0.0-999999.0 (median depth 18.0)\n",
      "[22:19:48 - Sampler] Took 0.19s to make features.\n",
      "[22:19:54 - PWorker] Batches in cache: 8.\n",
      "[22:19:54 - Sampler] Initializing sampler for consensus of region contig_3:999000-1076147.\n",
      "[22:19:54 - Feature] Processed contig_3:999000.0-1076146.0 (median depth 12.0)\n",
      "[22:19:54 - Sampler] Took 0.03s to make features.\n",
      "[22:20:00 - PWorker] Batches in cache: 8.\n",
      "[22:20:00 - PWorker] 21.8% Done (4.9/22.6 Mbases) in 46.9s\n",
      "[22:20:00 - Sampler] Initializing sampler for consensus of region contig_31:0-12359.\n",
      "[22:20:00 - Sampler] Initializing sampler for consensus of region contig_32:0-1000000.\n",
      "[22:20:00 - Feature] Processed contig_31:0.0-12358.0 (median depth 120.0)\n",
      "[22:20:00 - Sampler] Took 0.04s to make features.\n",
      "[22:20:00 - Feature] Processed contig_32:0.0-999999.0 (median depth 38.0)\n",
      "[22:20:00 - Sampler] Took 0.28s to make features.\n",
      "[22:20:06 - PWorker] Batches in cache: 8.\n",
      "[22:20:06 - Sampler] Initializing sampler for consensus of region contig_32:999000-1999000.\n",
      "[22:20:07 - Feature] Processed contig_32:999000.0-1998999.0 (median depth 39.0)\n",
      "[22:20:07 - Sampler] Took 0.31s to make features.\n",
      "[22:20:12 - PWorker] Batches in cache: 8.\n",
      "[22:20:12 - PWorker] 27.9% Done (6.3/22.6 Mbases) in 59.2s\n",
      "[22:20:18 - PWorker] Batches in cache: 8.\n",
      "[22:20:18 - Sampler] Initializing sampler for consensus of region contig_32:1998000-2998000.\n",
      "[22:20:19 - Feature] Processed contig_32:1998000.0-2997999.2 (median depth 36.0)\n",
      "[22:20:19 - Sampler] Took 0.28s to make features.\n",
      "[22:20:24 - PWorker] Batches in cache: 8.\n",
      "[22:20:24 - PWorker] 34.2% Done (7.7/22.6 Mbases) in 71.1s\n",
      "[22:20:30 - PWorker] Batches in cache: 8.\n",
      "[22:20:30 - Sampler] Initializing sampler for consensus of region contig_32:2997000-3997000.\n",
      "[22:20:30 - Sampler] Initializing sampler for consensus of region contig_32:3996000-4576556.\n",
      "[22:20:31 - Feature] Processed contig_32:3996000.0-4576555.0 (median depth 36.0)\n",
      "[22:20:31 - Sampler] Took 0.24s to make features.\n",
      "[22:20:31 - Feature] Processed contig_32:2997000.0-3996999.0 (median depth 38.0)\n",
      "[22:20:31 - Sampler] Took 0.36s to make features.\n",
      "[22:20:36 - PWorker] Batches in cache: 8.\n",
      "[22:20:36 - PWorker] 40.4% Done (9.1/22.6 Mbases) in 83.2s\n",
      "[22:20:36 - Sampler] Initializing sampler for consensus of region contig_33:0-71630.\n",
      "[22:20:37 - Feature] Processed contig_33:0.0-71629.0 (median depth 116.0)\n",
      "[22:20:37 - Sampler] Took 0.13s to make features.\n",
      "[22:20:42 - PWorker] Batches in cache: 8.\n",
      "[22:20:42 - Sampler] Initializing sampler for consensus of region contig_4:0-306875.\n",
      "[22:20:42 - Feature] Processed contig_4:0.0-306874.0 (median depth 20.0)\n",
      "[22:20:42 - Sampler] Took 0.08s to make features.\n",
      "[22:20:48 - PWorker] Batches in cache: 8.\n",
      "[22:20:48 - PWorker] 46.5% Done (10.5/22.6 Mbases) in 95.2s\n",
      "[22:20:48 - Sampler] Initializing sampler for consensus of region contig_5:0-669176.\n",
      "[22:20:48 - Sampler] Initializing sampler for consensus of region contig_6:0-71242.\n",
      "[22:20:48 - Feature] Processed contig_6:0.0-71241.0 (median depth 17.0)\n",
      "[22:20:48 - Sampler] Took 0.03s to make features.\n",
      "[22:20:48 - Feature] Pileup counts do not span requested region, requested contig_5:0-669176, received 0-669173.\n",
      "[22:20:48 - Feature] Processed contig_5:0.0-669173.0 (median depth 21.0)\n",
      "[22:20:48 - Sampler] Took 0.13s to make features.\n",
      "[22:20:54 - PWorker] Batches in cache: 8.\n",
      "[22:20:54 - Sampler] Initializing sampler for consensus of region contig_8:0-703741.\n",
      "[22:20:54 - Feature] Processed contig_8:0.0-703740.0 (median depth 17.0)\n",
      "[22:20:54 - Sampler] Took 0.12s to make features.\n",
      "[22:21:00 - PWorker] Batches in cache: 8.\n",
      "[22:21:00 - PWorker] 50.9% Done (11.5/22.6 Mbases) in 107.0s\n",
      "[22:21:00 - Sampler] Initializing sampler for consensus of region contig_9:0-12813.\n",
      "[22:21:00 - Feature] Pileup counts do not span requested region, requested contig_9:0-12813, received 45-12812.\n",
      "[22:21:00 - Feature] Processed contig_9:45.0-12812.0 (median depth 7.0)\n",
      "[22:21:00 - Sampler] Took 0.00s to make features.\n",
      "[22:21:06 - PWorker] Batches in cache: 8.\n",
      "[22:21:12 - PWorker] Batches in cache: 8.\n",
      "[22:21:12 - PWorker] 55.1% Done (12.5/22.6 Mbases) in 119.2s\n",
      "[22:21:18 - PWorker] Batches in cache: 8.\n",
      "[22:21:24 - PWorker] Batches in cache: 8.\n",
      "[22:21:24 - PWorker] 60.4% Done (13.7/22.6 Mbases) in 131.2s\n",
      "[22:21:30 - PWorker] Batches in cache: 8.\n",
      "[22:21:36 - PWorker] Batches in cache: 8.\n",
      "[22:21:36 - PWorker] 65.7% Done (14.9/22.6 Mbases) in 143.2s\n",
      "[22:21:42 - PWorker] Batches in cache: 8.\n",
      "[22:21:48 - PWorker] Batches in cache: 8.\n",
      "[22:21:48 - PWorker] 72.0% Done (16.3/22.6 Mbases) in 155.3s\n",
      "[22:21:54 - PWorker] Batches in cache: 8.\n",
      "[22:22:00 - PWorker] Batches in cache: 8.\n",
      "[22:22:00 - PWorker] 77.5% Done (17.5/22.6 Mbases) in 167.0s\n",
      "[22:22:06 - PWorker] Batches in cache: 8.\n",
      "[22:22:12 - PWorker] Batches in cache: 8.\n",
      "[22:22:12 - PWorker] 83.1% Done (18.8/22.6 Mbases) in 179.0s\n",
      "[22:22:18 - PWorker] Batches in cache: 7.\n",
      "[22:22:24 - PWorker] Batches in cache: 6.\n",
      "[22:22:24 - PWorker] 88.7% Done (20.1/22.6 Mbases) in 190.9s\n",
      "[22:22:30 - PWorker] Batches in cache: 5.\n",
      "[22:22:36 - PWorker] Batches in cache: 4.\n",
      "[22:22:36 - PWorker] 94.3% Done (21.3/22.6 Mbases) in 202.7s\n",
      "[22:22:42 - PWorker] Batches in cache: 3.\n",
      "[22:22:48 - PWorker] Batches in cache: 2.\n",
      "[22:22:48 - PWorker] 100.0% Done (22.6/22.6 Mbases) in 214.7s\n",
      "[22:22:49 - PWorker] Processed 36 batches\n",
      "[22:22:49 - PWorker] All done, 0 remainder regions.\n",
      "[22:22:49 - Predict] Processing 2 short region(s).\n",
      "[22:22:49 - MdlStrTF] Model <keras.engine.sequential.Sequential object at 0x7f53ab65f5b0>\n",
      "[22:22:49 - MdlStrTF] loading weights from /tmp/tmp0tz4b3ot/model/variables/variables (using expect partial)\n",
      "[22:22:49 - Sampler] Initializing sampler for consensus of region contig_11:0-6154.\n",
      "[22:22:49 - Sampler] Initializing sampler for consensus of region contig_30:0-9691.\n",
      "[22:22:49 - PWorker] Running inference for 0.0M draft bases.\n",
      "[22:22:50 - Feature] Processed contig_30:0.0-9690.0 (median depth 99.0)\n",
      "[22:22:50 - Sampler] Took 0.21s to make features.\n",
      "[22:22:50 - Feature] Processed contig_11:0.0-6153.0 (median depth 6.0)\n",
      "[22:22:50 - Sampler] Took 0.23s to make features.\n",
      "[22:23:16 - PWorker] Batches in cache: 2.\n",
      "[22:23:16 - PWorker] 57.6% Done (0.0/0.0 Mbases) in 26.4s\n",
      "[22:23:25 - PWorker] Batches in cache: 1.\n",
      "[22:23:25 - PWorker] Processed 2 batches\n",
      "[22:23:25 - PWorker] All done, 0 remainder regions.\n",
      "[22:23:25 - Predict] Finished processing all regions.\n",
      "[22:23:25 - MdlStrTF] Successfully removed temporary files from /tmp/tmp0tz4b3ot.\n",
      "Cannot import pyabpoa, some features may not be available.\n",
      "[22:23:26 - DataIndx] Loaded 1/1 (100.00%) sample files.\n",
      "[22:23:26 - DataIndx] Loaded 1/1 (100.00%) sample files.\n",
      "[22:23:26 - DataIndx] Loaded 1/1 (100.00%) sample files.\n",
      "[22:23:26 - DataIndx] Loaded 1/1 (100.00%) sample files.\n",
      "[22:23:26 - DataIndx] Loaded 1/1 (100.00%) sample files.\n",
      "[22:23:26 - DataIndx] Loaded 1/1 (100.00%) sample files.\n",
      "[22:23:26 - DataIndx] Loaded 1/1 (100.00%) sample files.\n",
      "[22:23:26 - DataIndx] Loaded 1/1 (100.00%) sample files.\n",
      "[22:23:26 - DataIndx] Loaded 1/1 (100.00%) sample files.\n",
      "[22:23:26 - DataIndx] Loaded 1/1 (100.00%) sample files.\n",
      "[22:23:26 - DataIndx] Loaded 1/1 (100.00%) sample files.\n",
      "[22:23:26 - DataIndx] Loaded 1/1 (100.00%) sample files.\n",
      "[22:23:26 - DataIndx] Loaded 1/1 (100.00%) sample files.\n",
      "[22:23:26 - DataIndx] Loaded 1/1 (100.00%) sample files.\n",
      "[22:23:26 - DataIndx] Loaded 1/1 (100.00%) sample files.\n",
      "[22:23:26 - DataIndx] Loaded 1/1 (100.00%) sample files.\n",
      "[22:23:26 - DataIndx] Loaded 1/1 (100.00%) sample files.\n",
      "[22:23:27 - DataIndx] Loaded 1/1 (100.00%) sample files.\n",
      "[22:23:27 - DataIndx] Loaded 1/1 (100.00%) sample files.\n",
      "[22:23:27 - DataIndx] Loaded 1/1 (100.00%) sample files.\n",
      "[22:23:27 - DataIndx] Loaded 1/1 (100.00%) sample files.\n",
      "[22:23:27 - DataIndx] Loaded 1/1 (100.00%) sample files.\n",
      "[22:23:27 - DataIndx] Loaded 1/1 (100.00%) sample files.\n",
      "[22:23:27 - DataIndx] Loaded 1/1 (100.00%) sample files.\n",
      "[22:23:27 - DataIndx] Loaded 1/1 (100.00%) sample files.\n",
      "[22:23:27 - DataIndx] Loaded 1/1 (100.00%) sample files.\n",
      "[22:23:27 - DataIndx] Loaded 1/1 (100.00%) sample files.\n",
      "[22:23:27 - DataIndx] Loaded 1/1 (100.00%) sample files.\n",
      "[22:23:27 - DataIndx] Loaded 1/1 (100.00%) sample files.\n",
      "[22:23:27 - DataIndx] Loaded 1/1 (100.00%) sample files.\n",
      "[22:23:27 - DataIndx] Loaded 1/1 (100.00%) sample files.\n",
      "[22:23:27 - DataIndx] Loaded 1/1 (100.00%) sample files.\n",
      "[22:23:27 - DataIndx] Loaded 1/1 (100.00%) sample files.\n",
      "[22:23:27 - DataIndx] Loaded 1/1 (100.00%) sample files.\n",
      "[22:23:27 - DataIndx] Loaded 1/1 (100.00%) sample files.\n",
      "[22:23:27 - DataIndx] Loaded 1/1 (100.00%) sample files.\n",
      "[22:23:27 - DataIndx] Loaded 1/1 (100.00%) sample files.\n",
      "[22:23:27 - DataIndx] Loaded 1/1 (100.00%) sample files.\n",
      "[22:23:27 - DataIndx] Loaded 1/1 (100.00%) sample files.\n",
      "[22:23:27 - DataIndx] Loaded 1/1 (100.00%) sample files.\n",
      "[22:23:27 - DataIndx] Loaded 1/1 (100.00%) sample files.\n",
      "[22:23:27 - DataIndx] Loaded 1/1 (100.00%) sample files.\n",
      "[22:23:27 - DataIndx] Loaded 1/1 (100.00%) sample files.\n",
      "Polished assembly written to MEDAKA_CONSENSUS/consensus.fasta, have a nice day.\n",
      "\n",
      "real\t5m7.562s\n",
      "user\t15m14.169s\n",
      "sys\t0m22.420s\n"
     ]
    }
   ],
   "source": [
    "time medaka_consensus -i ~/work/DATA/4222_RB2.fastq.gz -d ~/work/RESULTS/4222_FLYE/assembly.fasta -o MEDAKA_CONSENSUS -t 8"
   ]
  },
  {
   "cell_type": "markdown",
   "id": "93917318-11f2-4ebd-a24f-608ccf77d099",
   "metadata": {},
   "source": [
    "### <span style=\"color: #4CACBC;\"> Conclusion </span>  \n"
   ]
  },
  {
   "cell_type": "markdown",
   "id": "a11e5862-2041-43f6-b9d0-3281cca1643e",
   "metadata": {},
   "source": [
    "1. Here, we have build a genome sequence from an algae by using Flye.\n",
    "\n",
    "2. We have corrected the raw flye assembly with medaka models."
   ]
  },
  {
   "cell_type": "markdown",
   "id": "fcfab1b2-0577-459a-8ecc-5e6799a9e090",
   "metadata": {},
   "source": [
    "Genome size of reference and assembly obtained by Flye is really different? why ?\n",
    "\n",
    "* you can try to compare both using Dgenies https://dgenies.toulouse.inra.fr/\n",
    "\n",
    "What do you observe? \n"
   ]
  },
  {
   "cell_type": "markdown",
   "id": "8cbf7520-9e79-495c-9fed-4e02caa326eb",
   "metadata": {},
   "source": [
    "### Now ...\n",
    "\n",
    "You can do similar pipeline using the RAVEN assembler in the 4222 algae sample.\n",
    "\n",
    "You can do similar protocol with the B8 and G11 samples.\n",
    "\n",
    "We will compare the results in next practical \"Quality Assemblies\". "
   ]
  },
  {
   "cell_type": "code",
   "execution_count": null,
   "id": "bba598fe-cda2-46f7-b664-727fb21175f7",
   "metadata": {},
   "outputs": [],
   "source": []
  },
  {
   "cell_type": "code",
   "execution_count": null,
   "id": "09176b28-03f5-4f6c-862c-e7f2c079ef78",
   "metadata": {},
   "outputs": [],
   "source": []
  }
 ],
 "metadata": {
  "kernelspec": {
   "display_name": "Bash",
   "language": "bash",
   "name": "bash"
  },
  "language_info": {
   "codemirror_mode": "shell",
   "file_extension": ".sh",
   "mimetype": "text/x-sh",
   "name": "bash"
  }
 },
 "nbformat": 4,
 "nbformat_minor": 5
}
