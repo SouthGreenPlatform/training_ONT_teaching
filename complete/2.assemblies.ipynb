{
 "cells": [
  {
   "cell_type": "markdown",
   "id": "66d4eeac",
   "metadata": {},
   "source": [
    "# <span style=\"color:#006E7F\">__Introduction to Oxford Nanopore Data Analysis__ <a class=\"anchor\"></span>  \n",
    "\n",
    "\n",
    "Created by J. Orjuela (DIADE-IRD), F. Sabot (DIADE-IRD) and G. Sarah (AGAP-INRAE) - Septembre 2021 Formation SouthGreen\n",
    "\n",
    "Adapted by J. Orjuela (DIADE-IRD), F. Sabot (DIADE-IRD) - Novembre 2022\n",
    "    \n",
    "Adapted by J. Orjuela (DIADE-IRD) - mai 2023\n"
   ]
  },
  {
   "cell_type": "markdown",
   "id": "52dd03b0",
   "metadata": {
    "tags": []
   },
   "source": [
    "# <span style=\"color:#006E7F\">__TP2 - Assembly and correction__ <a class=\"anchor\" id=\"data\"></span>  \n",
    "    \n",
    "## <span style=\"color: #4CACBC;\"> 1. Assemblies </span>  \n",
    "\n",
    "More contiguous genome assemblies can be generated using long sequencing read but assembly is not a quiet pace. Eukaryotic genomes assembly is a complex task (large genome sizes, high rates of repeated sequences, high heterozygosity levels and even polyploidy). While prokaryotic genomes may appear less challenging, specific features such as circular DNA molecules, must be taken into consideration to achieve high quality assembly.\n",
    "\n",
    "* For assembly, ONT recommend sequencing a human genome to a minimum depth of 30x of 25–35 kb reads.\n",
    "However, sequencing to a depth of 60x is advisable to obtain the best assembly metrics. We also recommend basecalling in high accuracy mode. Greatest contig N50 is usually obtained with Shasta and Flye. Polishing/Correction is also recommended (Racon and Medaka). https://nanoporetech.com/sites/default/files/s3/literature/human-genome-assembly-workflow.pdf\n",
    "\n",
    "\n",
    "* Long reads simplify genome assembly, with the ability to span repeat-rich sequences (characteristic of  antimicrobial resistance genes) and structural variants. Nanopore sequencing also shows a lack of\n",
    "bias in GC-rich regions, in contrast to other sequencing platforms. To perform microbial genome assembly, we suggest using the third-party de novo assembly tool Flye. We also recommend one round of polishing with Medaka. https://nanoporetech.com/sites/default/files/s3/literature/microbial-genome-assembly-workflow.pdf "
   ]
  },
  {
   "cell_type": "markdown",
   "id": "0a74882e",
   "metadata": {},
   "source": [
    "Flye  https://github.com/fenderglass/Flye \n",
    "\n",
    "Canu  https://canu.readthedocs.io/en/latest/quick-start.html\n",
    "\n",
    "Miniasm  https://github.com/lh3/miniasm + Minipolish version https://github.com/rrwick/Minipolish\n",
    "\n",
    "Shasta  https://github.com/chanzuckerberg/shasta\n",
    "\n",
    "Smartdenovo  https://github.com/ruanjue/smartdenovo\n",
    "\n",
    "Raven  https://github.com/lbcb-sci/raven"
   ]
  },
  {
   "cell_type": "markdown",
   "id": "c83a6eac",
   "metadata": {},
   "source": [
    "### <span style=\"color: #4CACBD;\"> 1.1 Assembly using Flye </span>"
   ]
  },
  {
   "cell_type": "markdown",
   "id": "2415c263",
   "metadata": {},
   "source": [
    "We are going to assembly some Clones by using Flye https://github.com/fenderglass/Flye\n",
    "\n",
    "Flye generates the concatenation of multiple disjoint genomic segments called disjointigs to build a repeat graph. Reads are mapped to this repeat graph to resolve conflicts (unbridged repeats) and output contigs."
   ]
  },
  {
   "cell_type": "code",
   "execution_count": 1,
   "id": "af681d7a",
   "metadata": {},
   "outputs": [
    {
     "name": "stdout",
     "output_type": "stream",
     "text": [
      "/home/jovyan/work/RESULTS\n"
     ]
    }
   ],
   "source": [
    "# create a repertory for save flye assembly results\n",
    "mkdir -p ~/work/RESULTS/4222_FLYE\n",
    "cd ~/work/RESULTS/\n",
    "pwd"
   ]
  },
  {
   "cell_type": "code",
   "execution_count": 2,
   "id": "b7f1b857",
   "metadata": {
    "tags": []
   },
   "outputs": [
    {
     "name": "stdout",
     "output_type": "stream",
     "text": [
      "[2023-10-28 08:29:15] INFO: Starting Flye 2.9.2-b1786\n",
      "[2023-10-28 08:29:15] INFO: >>>STAGE: configure\n",
      "[2023-10-28 08:29:15] INFO: Configuring run\n",
      "[2023-10-28 08:29:31] INFO: Total read length: 746791553\n",
      "[2023-10-28 08:29:31] INFO: Input genome size: 15000000\n",
      "[2023-10-28 08:29:31] INFO: Estimated coverage: 49\n",
      "[2023-10-28 08:29:31] INFO: Reads N50/N90: 20829 / 6197\n",
      "[2023-10-28 08:29:31] INFO: Minimum overlap set to 6000\n",
      "[2023-10-28 08:29:31] INFO: >>>STAGE: assembly\n",
      "[2023-10-28 08:29:31] INFO: Assembling disjointigs\n",
      "[2023-10-28 08:29:31] INFO: Reading sequences\n",
      "[2023-10-28 08:29:43] INFO: Building minimizer index\n",
      "[2023-10-28 08:29:43] INFO: Pre-calculating index storage\n",
      "0% 10% 20% 30% 40% 50% 60% 70% 80% 90% 100% \n",
      "[2023-10-28 08:30:10] INFO: Filling index\n",
      "0% 10% 20% 30% 40% 50% 60% 70% 80% 90% 100% \n",
      "[2023-10-28 08:30:53] INFO: Extending reads\n",
      "[2023-10-28 08:33:43] INFO: Overlap-based coverage: 30\n",
      "[2023-10-28 08:33:43] INFO: Median overlap divergence: 0.0796524\n",
      "0% 10% 30% 60% 70% 80% 90% 100% \n",
      "[2023-10-28 08:36:35] INFO: Assembled 30 disjointigs\n",
      "[2023-10-28 08:36:37] INFO: Generating sequence\n",
      "0% 10% 20% 30% 40% 50% 60% 70% 80% 90% 100% \n",
      "[2023-10-28 08:36:43] INFO: Filtering contained disjointigs\n",
      "0% 10% 20% 30% 40% 50% 60% 70% 80% 90% 100% \n",
      "[2023-10-28 08:36:46] INFO: Contained seqs: 0\n",
      "[2023-10-28 08:36:47] INFO: >>>STAGE: consensus\n",
      "[2023-10-28 08:36:47] INFO: Running Minimap2\n",
      "[2023-10-28 08:40:12] INFO: Computing consensus\n",
      "[2023-10-28 08:43:32] INFO: Alignment error rate: 0.093673\n",
      "[2023-10-28 08:43:33] INFO: >>>STAGE: repeat\n",
      "[2023-10-28 08:43:33] INFO: Building and resolving repeat graph\n",
      "[2023-10-28 08:43:33] INFO: Parsing disjointigs\n",
      "[2023-10-28 08:43:34] INFO: Building repeat graph\n",
      "0% 10% 20% 30% 40% 50% 60% 70% 80% 90% 100% \n",
      "[2023-10-28 08:43:46] INFO: Median overlap divergence: 0.0171298\n",
      "[2023-10-28 08:43:46] INFO: Parsing reads\n",
      "[2023-10-28 08:43:59] INFO: Aligning reads to the graph\n",
      "0% 10% 20% 30% 40% 50% 60% 70% 80% 90% 100% \n",
      "[2023-10-28 08:45:01] INFO: Aligned read sequence: 597685223 / 675674609 (0.884576)\n",
      "[2023-10-28 08:45:01] INFO: Median overlap divergence: 0.0446236\n",
      "[2023-10-28 08:45:01] INFO: Mean edge coverage: 25\n",
      "[2023-10-28 08:45:01] INFO: Simplifying the graph\n",
      "[2023-10-28 08:45:02] INFO: >>>STAGE: contigger\n",
      "[2023-10-28 08:45:02] INFO: Generating contigs\n",
      "[2023-10-28 08:45:02] INFO: Reading sequences\n",
      "[2023-10-28 08:45:15] INFO: Generated 31 contigs\n",
      "[2023-10-28 08:45:15] INFO: Added 0 scaffold connections\n",
      "[2023-10-28 08:45:16] INFO: >>>STAGE: polishing\n",
      "[2023-10-28 08:45:16] INFO: Polishing genome (1/1)\n",
      "[2023-10-28 08:45:16] INFO: Running minimap2\n",
      "[2023-10-28 08:47:07] INFO: Separating alignment into bubbles\n",
      "[2023-10-28 08:51:54] INFO: Alignment error rate: 0.063663\n",
      "[2023-10-28 08:51:54] INFO: Correcting bubbles\n",
      "0% 10% 20% 30% 40% 50% 60% 70% 80% 90% 100% \n",
      "[2023-10-28 08:55:18] INFO: >>>STAGE: finalize\n",
      "[2023-10-28 08:55:19] INFO: Assembly statistics:\n",
      "\n",
      "\tTotal length:\t22623684\n",
      "\tFragments:\t31\n",
      "\tFragments N50:\t1016583\n",
      "\tLargest frg:\t4576556\n",
      "\tScaffolds:\t0\n",
      "\tMean coverage:\t32\n",
      "\n",
      "[2023-10-28 08:55:19] INFO: Final assembly: /home/jovyan/work/RESULTS/4222_FLYE/assembly.fasta\n",
      "\n",
      "real\t26m3.886s\n",
      "user\t133m42.449s\n",
      "sys\t1m17.293s\n"
     ]
    }
   ],
   "source": [
    "# Run flye with genome size of about 15Mb\n",
    "time flye --nano-hq ~/work/DATA/4222_RB2.fastq.gz --genome-size 15000000 --out-dir 4222_FLYE --threads 8"
   ]
  },
  {
   "cell_type": "markdown",
   "id": "102de26b",
   "metadata": {
    "tags": []
   },
   "source": [
    "### How many contigs were obtained by Flye ? \n",
    "\n",
    "### What do you think about N50 and lenght contig mean."
   ]
  },
  {
   "cell_type": "markdown",
   "id": "402a7fd9-327e-48ae-b479-07f08953ff73",
   "metadata": {},
   "source": [
    "## <span style=\"color: #4CACBC;\"> 2. Assemblies correction with Medaka </span>  \n",
    "\n",
    "Correction can improve the consensus sequence for a draft genome assembly.\n",
    "\n",
    "Medaka uses fast5 files to correct contigs using trained models. These models are freely available.\n",
    "\n",
    "Medaka allows you to train a model by using fast5 from your favorite species. You can use it directly to obtain a consensus from you favorite organism."
   ]
  },
  {
   "cell_type": "markdown",
   "id": "71ce5016-7668-4ba5-9e88-813ebf9d302f",
   "metadata": {},
   "source": [
    "### <span style=\"color: #4CACBC;\"> 2.3 Correct assemblies with Medaka </span>  \n",
    "\n",
    "We will use medaka to correct assemblies from FLYE and FLYE+RACON analysis.\n"
   ]
  },
  {
   "cell_type": "markdown",
   "id": "617d9cdf-3de6-423a-9782-1e815df0fc9f",
   "metadata": {},
   "source": [
    "### <span style=\"color: #4CACBC;\"> 2.3.1 Before to correct assemblies, index them </span>  "
   ]
  },
  {
   "cell_type": "markdown",
   "id": "409234ce-e48c-4b45-87df-9cda4ef6c2c3",
   "metadata": {},
   "source": [
    "### Index raw flye assembly"
   ]
  },
  {
   "cell_type": "code",
   "execution_count": 3,
   "id": "c053d87b-0a5a-47a3-a055-b4a4b92b1fdc",
   "metadata": {},
   "outputs": [
    {
     "name": "stdout",
     "output_type": "stream",
     "text": [
      "/home/jovyan/work/RESULTS/4222_FLYE\n"
     ]
    }
   ],
   "source": [
    "cd ~/work/RESULTS/4222_FLYE\n",
    "pwd"
   ]
  },
  {
   "cell_type": "code",
   "execution_count": 4,
   "id": "df5fa069-922f-434c-a0a2-f46f61becde2",
   "metadata": {},
   "outputs": [
    {
     "name": "stdout",
     "output_type": "stream",
     "text": [
      "\n",
      "real\t0m0.155s\n",
      "user\t0m0.107s\n",
      "sys\t0m0.005s\n",
      "[M::mm_idx_gen::1.561*1.00] collected minimizers\n",
      "[M::mm_idx_gen::2.030*1.45] sorted minimizers\n",
      "[M::main::2.492*1.37] loaded/built the index for 31 target sequence(s)\n",
      "[M::mm_idx_stat] kmer size: 15; skip: 10; is_hpc: 0; #seq: 31\n",
      "[M::mm_idx_stat::2.586*1.35] distinct minimizers: 3863882 (94.32% are singletons); average occurrences: 1.098; average spacing: 5.331; total length: 22623684\n",
      "[M::main] Version: 2.24-r1122\n",
      "[M::main] CMD: minimap2 -d assembly.fasta.mmi assembly.fasta\n",
      "[M::main] Real time: 2.615 sec; CPU: 3.528 sec; Peak RSS: 0.215 GB\n",
      "\n",
      "real\t0m2.784s\n",
      "user\t0m3.059s\n",
      "sys\t0m0.484s\n"
     ]
    }
   ],
   "source": [
    "time samtools faidx assembly.fasta \n",
    "time minimap2 -d assembly.fasta.mmi assembly.fasta"
   ]
  },
  {
   "cell_type": "code",
   "execution_count": 5,
   "id": "1c995027-0430-45c8-9170-94e07d8ddc32",
   "metadata": {},
   "outputs": [
    {
     "name": "stdout",
     "output_type": "stream",
     "text": [
      "samtools: /usr/local/bin/samtools /opt/conda/envs/busco/bin/samtools\n"
     ]
    }
   ],
   "source": [
    "whereis samtools"
   ]
  },
  {
   "cell_type": "markdown",
   "id": "7ca09c9f-39cf-42e3-a933-3f909d7693a1",
   "metadata": {},
   "source": [
    "### Create a medaka repertory to save medaka results from FLYE analysis\n"
   ]
  },
  {
   "cell_type": "code",
   "execution_count": 6,
   "id": "7d33060f-030f-4cba-874c-b9d9b2f01051",
   "metadata": {},
   "outputs": [],
   "source": [
    "mkdir -p ~/work/RESULTS/4222_FLYE_MEDAKA"
   ]
  },
  {
   "cell_type": "markdown",
   "id": "c205aa66-2d44-4c73-9fd2-ddb1f452451a",
   "metadata": {},
   "source": [
    "### <span style=\"color: #4CACBC;\"> 2.3.2 Medaka_consensus </span>  \n"
   ]
  },
  {
   "cell_type": "markdown",
   "id": "2754c0da-dfdd-4fd3-86d4-e76917e44983",
   "metadata": {},
   "source": [
    "Medaka is a tool to create a consensus sequence from nanopore sequencing data. \n",
    "\n",
    "This task is performed by using neural networks applied to a pileup of individual sequencing reads against a draft assembly.\n",
    "\n",
    "It outperforms graph-based methods operating on basecalled data, and can be competitive with state-of-the-art signal-based methods whilst being much faster.\n",
    "\n",
    "As input medaka accepts reads in either a .fasta or a .fastq file. It requires a draft assembly as a .fasta.\n",
    "\n",
    "### Check the usage of medaka_consensus"
   ]
  },
  {
   "cell_type": "code",
   "execution_count": 7,
   "id": "33f0824a-d09f-46ab-a0b7-7c7020ddfb1c",
   "metadata": {},
   "outputs": [
    {
     "name": "stdout",
     "output_type": "stream",
     "text": [
      "TF_CPP_MIN_LOG_LEVEL is set to '3'\n",
      "Cannot import pyabpoa, some features may not be available.\n",
      "Cannot import pyabpoa, some features may not be available.\n",
      "\n",
      "medaka 1.11.0\n",
      "------------\n",
      "\n",
      "Assembly polishing via neural networks. Medaka is optimized\n",
      "to work with the Flye assembler.\n",
      "\n",
      "medaka_consensus [-h] -i <fastx> -d <fasta>\n",
      "\n",
      "    -h  show this help text.\n",
      "    -i  fastx input basecalls (required).\n",
      "    -d  fasta input assembly (required).\n",
      "    -o  output folder (default: medaka).\n",
      "    -g  don't fill gaps in consensus with draft sequence.\n",
      "    -r  use gap-filling character instead of draft sequence (default: None)\n",
      "    -m  medaka model, (default: r1041_e82_400bps_sup_v4.2.0).\n",
      "        Choices: r103_fast_g507 r103_hac_g507 r103_min_high_g345 r103_min_high_g360 r103_prom_high_g360 r103_sup_g507 r1041_e82_260bps_fast_g632 r1041_e82_260bps_hac_g632 r1041_e82_260bps_hac_v4.0.0 r1041_e82_260bps_hac_v4.1.0 r1041_e82_260bps_sup_g632 r1041_e82_260bps_sup_v4.0.0 r1041_e82_260bps_sup_v4.1.0 r1041_e82_400bps_fast_g615 r1041_e82_400bps_fast_g632 r1041_e82_400bps_hac_g615 r1041_e82_400bps_hac_g632 r1041_e82_400bps_hac_v4.0.0 r1041_e82_400bps_hac_v4.1.0 r1041_e82_400bps_hac_v4.2.0 r1041_e82_400bps_sup_g615 r1041_e82_400bps_sup_v4.0.0 r1041_e82_400bps_sup_v4.1.0 r1041_e82_400bps_sup_v4.2.0 r104_e81_fast_g5015 r104_e81_hac_g5015 r104_e81_sup_g5015 r104_e81_sup_g610 r10_min_high_g303 r10_min_high_g340 r941_e81_fast_g514 r941_e81_hac_g514 r941_e81_sup_g514 r941_min_fast_g303 r941_min_fast_g507 r941_min_hac_g507 r941_min_high_g303 r941_min_high_g330 r941_min_high_g340_rle r941_min_high_g344 r941_min_high_g351 r941_min_high_g360 r941_min_sup_g507 r941_prom_fast_g303 r941_prom_fast_g507 r941_prom_hac_g507 r941_prom_high_g303 r941_prom_high_g330 r941_prom_high_g344 r941_prom_high_g360 r941_prom_high_g4011 r941_prom_sup_g507 r941_sup_plant_g610\n",
      "        Alternatively a .tar.gz/.hdf file from 'medaka train'.\n",
      "        If not provided, and automatic choice will be attempted based on\n",
      "        the contents of the input file.\n",
      "    -f  Force overwrite of outputs (default will reuse existing outputs).\n",
      "    -x  Force recreation of alignment index.\n",
      "    -t  number of threads with which to create features (default: 1).\n",
      "    -b  batchsize, controls memory use (default: 100).\n",
      "    -q  Output consensus with per-base quality scores (fastq).\n",
      "\n",
      "-i must be specified.\n"
     ]
    },
    {
     "ename": "",
     "evalue": "1",
     "output_type": "error",
     "traceback": []
    }
   ],
   "source": [
    "medaka_consensus"
   ]
  },
  {
   "cell_type": "markdown",
   "id": "76697fb5-f7cb-4c9d-a4a3-d40faf783dc8",
   "metadata": {},
   "source": [
    "### Check the medaka model to use\n",
    "\n",
    "Medaka models are named to indicate i) the pore type, ii) the sequencing device (MinION or PromethION), iii) the basecaller variant, and  iv) the basecaller version\n",
    "\n",
    "{pore}_{device}_{caller variant}_{caller version}\n",
    "\n",
    "examples: \n",
    "\n",
    "r941_min_fast_g303 : MiniON R9.4.1 flowcells using the fast Guppy basecaller version 3.0.3. \n"
   ]
  },
  {
   "cell_type": "code",
   "execution_count": 8,
   "id": "6d21303f-db57-47b9-a8cc-a4d62b1de1e9",
   "metadata": {},
   "outputs": [
    {
     "name": "stdout",
     "output_type": "stream",
     "text": [
      "Cannot import pyabpoa, some features may not be available.\n",
      "Available: r103_fast_g507, r103_fast_snp_g507, r103_fast_variant_g507, r103_hac_g507, r103_hac_snp_g507, r103_hac_variant_g507, r103_min_high_g345, r103_min_high_g360, r103_prom_high_g360, r103_prom_snp_g3210, r103_prom_variant_g3210, r103_sup_g507, r103_sup_snp_g507, r103_sup_variant_g507, r1041_e82_260bps_fast_g632, r1041_e82_260bps_fast_variant_g632, r1041_e82_260bps_hac_g632, r1041_e82_260bps_hac_v4.0.0, r1041_e82_260bps_hac_v4.1.0, r1041_e82_260bps_hac_variant_g632, r1041_e82_260bps_hac_variant_v4.1.0, r1041_e82_260bps_sup_g632, r1041_e82_260bps_sup_v4.0.0, r1041_e82_260bps_sup_v4.1.0, r1041_e82_260bps_sup_variant_g632, r1041_e82_260bps_sup_variant_v4.1.0, r1041_e82_400bps_fast_g615, r1041_e82_400bps_fast_g632, r1041_e82_400bps_fast_variant_g615, r1041_e82_400bps_fast_variant_g632, r1041_e82_400bps_hac_g615, r1041_e82_400bps_hac_g632, r1041_e82_400bps_hac_v4.0.0, r1041_e82_400bps_hac_v4.1.0, r1041_e82_400bps_hac_v4.2.0, r1041_e82_400bps_hac_variant_g615, r1041_e82_400bps_hac_variant_g632, r1041_e82_400bps_hac_variant_v4.1.0, r1041_e82_400bps_hac_variant_v4.2.0, r1041_e82_400bps_sup_g615, r1041_e82_400bps_sup_v4.0.0, r1041_e82_400bps_sup_v4.1.0, r1041_e82_400bps_sup_v4.2.0, r1041_e82_400bps_sup_variant_g615, r1041_e82_400bps_sup_variant_v4.1.0, r1041_e82_400bps_sup_variant_v4.2.0, r104_e81_fast_g5015, r104_e81_fast_variant_g5015, r104_e81_hac_g5015, r104_e81_hac_variant_g5015, r104_e81_sup_g5015, r104_e81_sup_g610, r104_e81_sup_variant_g610, r10_min_high_g303, r10_min_high_g340, r941_e81_fast_g514, r941_e81_fast_variant_g514, r941_e81_hac_g514, r941_e81_hac_variant_g514, r941_e81_sup_g514, r941_e81_sup_variant_g514, r941_min_fast_g303, r941_min_fast_g507, r941_min_fast_snp_g507, r941_min_fast_variant_g507, r941_min_hac_g507, r941_min_hac_snp_g507, r941_min_hac_variant_g507, r941_min_high_g303, r941_min_high_g330, r941_min_high_g340_rle, r941_min_high_g344, r941_min_high_g351, r941_min_high_g360, r941_min_sup_g507, r941_min_sup_snp_g507, r941_min_sup_variant_g507, r941_prom_fast_g303, r941_prom_fast_g507, r941_prom_fast_snp_g507, r941_prom_fast_variant_g507, r941_prom_hac_g507, r941_prom_hac_snp_g507, r941_prom_hac_variant_g507, r941_prom_high_g303, r941_prom_high_g330, r941_prom_high_g344, r941_prom_high_g360, r941_prom_high_g4011, r941_prom_snp_g303, r941_prom_snp_g322, r941_prom_snp_g360, r941_prom_sup_g507, r941_prom_sup_snp_g507, r941_prom_sup_variant_g507, r941_prom_variant_g303, r941_prom_variant_g322, r941_prom_variant_g360, r941_sup_plant_g610, r941_sup_plant_variant_g610\n",
      "Default consensus:  r1041_e82_400bps_sup_v4.2.0\n",
      "Default variant:  r1041_e82_400bps_sup_variant_v4.2.0\n"
     ]
    }
   ],
   "source": [
    "medaka tools list_models"
   ]
  },
  {
   "cell_type": "markdown",
   "id": "9701d320-2cb6-46a5-8922-cc4234352aae",
   "metadata": {
    "tags": []
   },
   "source": [
    "### Medaka in FLYE ASSEMBLY\n",
    "\n",
    "We run medaka on the FLYE assembly."
   ]
  },
  {
   "cell_type": "code",
   "execution_count": 9,
   "id": "5a81fe37-d66f-4f2e-9851-7a20546443b1",
   "metadata": {},
   "outputs": [],
   "source": [
    "# go to medaka repertory results\n",
    "cd ~/work/RESULTS/4222_FLYE_MEDAKA"
   ]
  },
  {
   "cell_type": "code",
   "execution_count": 10,
   "id": "2e2c9a7c-a9ee-49fa-b308-9b61fcb9a814",
   "metadata": {
    "tags": []
   },
   "outputs": [
    {
     "name": "stdout",
     "output_type": "stream",
     "text": [
      "TF_CPP_MIN_LOG_LEVEL is set to '3'\n",
      "Cannot import pyabpoa, some features may not be available.\n",
      "Cannot import pyabpoa, some features may not be available.\n",
      "Attempting to automatically select model version.\n",
      "WARNING: Failed to detect a model version, will use default: 'r1041_e82_400bps_sup_v4.2.0'\n",
      "Checking program versions\n",
      "This is medaka 1.11.0\n",
      "Cannot import pyabpoa, some features may not be available.\n",
      "Program    Version    Required   Pass     \n",
      "bcftools   1.13       1.11       True     \n",
      "bgzip      1.13+ds    1.11       True     \n",
      "minimap2   2.24       2.11       True     \n",
      "samtools   1.11       1.11       True     \n",
      "tabix      1.13+ds    1.11       True     \n",
      "Cannot import pyabpoa, some features may not be available.\n",
      "[18:50:50 - MdlStrTF] Successfully removed temporary files from /tmp/tmpmarvpwcx.\n",
      "Cannot import pyabpoa, some features may not be available.\n",
      "[18:50:51 - MdlStrTF] Successfully removed temporary files from /tmp/tmpvu7vtvvl.\n",
      "Aligning basecalls to draft\n",
      "Using the existing fai index file /home/jovyan/work/RESULTS/4222_FLYE/assembly.fasta.fai\n",
      "Creating mmi index file /home/jovyan/work/RESULTS/4222_FLYE/assembly.fasta.map-ont.mmi\n",
      "[M::mm_idx_gen::1.535*1.00] collected minimizers\n",
      "[M::mm_idx_gen::1.885*1.34] sorted minimizers\n",
      "[M::main::2.428*1.27] loaded/built the index for 31 target sequence(s)\n",
      "[M::mm_idx_stat] kmer size: 15; skip: 10; is_hpc: 0; #seq: 31\n",
      "[M::mm_idx_stat::2.523*1.26] distinct minimizers: 3863882 (94.32% are singletons); average occurrences: 1.098; average spacing: 5.331; total length: 22623684\n",
      "[M::main] Version: 2.24-r1122\n",
      "[M::main] CMD: minimap2 -I 16G -x map-ont -d /home/jovyan/work/RESULTS/4222_FLYE/assembly.fasta.map-ont.mmi /home/jovyan/work/RESULTS/4222_FLYE/assembly.fasta\n",
      "[M::main] Real time: 2.543 sec; CPU: 3.188 sec; Peak RSS: 0.195 GB\n",
      "[M::main::0.715*1.00] loaded/built the index for 31 target sequence(s)\n",
      "[M::mm_mapopt_update::0.851*1.00] mid_occ = 21\n",
      "[M::mm_idx_stat] kmer size: 15; skip: 10; is_hpc: 0; #seq: 31\n",
      "[M::mm_idx_stat::0.935*1.00] distinct minimizers: 3863882 (94.32% are singletons); average occurrences: 1.098; average spacing: 5.331; total length: 22623684\n",
      "[M::worker_pipeline::84.921*6.02] mapped 42406 sequences\n",
      "[M::worker_pipeline::95.684*5.79] mapped 20357 sequences\n",
      "[M::main] Version: 2.24-r1122\n",
      "[M::main] CMD: minimap2 -x map-ont --secondary=no -L --MD -A 2 -B 4 -O 4,24 -E 2,1 -t 8 -a /home/jovyan/work/RESULTS/4222_FLYE/assembly.fasta.map-ont.mmi /home/jovyan/work/DATA/4222_RB2.fastq.gz\n",
      "[M::main] Real time: 95.785 sec; CPU: 553.737 sec; Peak RSS: 3.515 GB\n",
      "[bam_sort_core] merging from 0 files and 8 in-memory blocks...\n",
      "Running medaka consensus\n",
      "Cannot import pyabpoa, some features may not be available.\n",
      "[18:52:52 - numexpr.utils] NumExpr defaulting to 8 threads.\n",
      "[18:52:53 - Predict] Reducing threads to 2, anymore is a waste.\n",
      "[18:52:53 - Predict] It looks like you are running medaka without a GPU and attempted to set a high number of threads. We have scaled this down to an optimal number. If you wish to improve performance please see https://nanoporetech.github.io/medaka/installation.html#improving-parallelism.\n",
      "[18:52:53 - Predict] Setting tensorflow inter/intra-op threads to 2/1.\n",
      "[18:52:53 - Predict] Processing region(s): contig_1:0-963689 contig_10:0-6154 contig_11:0-1016583 contig_12:0-35904 contig_13:0-581982 contig_14:0-78141 contig_16:0-78153 contig_17:0-150875 contig_18:0-995018 contig_19:0-715939 contig_2:0-1076147 contig_20:0-469907 contig_21:0-489198 contig_22:0-523813 contig_23:0-11815 contig_24:0-1358902 contig_25:0-796812 contig_26:0-1122253 contig_27:0-896048 contig_28:0-2871024 contig_29:0-937021 contig_3:0-306875 contig_30:0-9691 contig_31:0-12359 contig_32:0-4576556 contig_33:0-71630 contig_4:0-669184 contig_5:0-71242 contig_7:0-703740 contig_8:0-12813 contig_9:0-1014216\n",
      "[18:52:53 - Predict] Using model: /opt/conda/lib/python3.10/site-packages/medaka/data/r1041_e82_400bps_sup_v4.2.0_model.tar.gz.\n",
      "[18:52:53 - BAMFile] Creating pool of 16 BAM file sets.\n",
      "[18:52:53 - Predict] Processing 40 long region(s) with batching.\n",
      "[18:52:54 - MdlStrTF] Model <keras.engine.sequential.Sequential object at 0x7f067b9930a0>\n",
      "[18:52:54 - MdlStrTF] loading weights from /tmp/tmpk_9cohek/model/variables/variables (using expect partial)\n",
      "[18:52:54 - Sampler] Initializing sampler for consensus of region contig_1:0-963689.\n",
      "[18:52:54 - Sampler] Initializing sampler for consensus of region contig_11:0-1000000.\n",
      "[18:52:54 - PWorker] Running inference for 22.6M draft bases.\n",
      "[18:52:58 - Feature] Processed contig_1:0.0-963688.0 (median depth 17.0)\n",
      "[18:52:58 - Sampler] Took 3.59s to make features.\n",
      "[18:52:58 - Sampler] Initializing sampler for consensus of region contig_11:999000-1016583.\n",
      "[18:52:58 - Feature] Processed contig_11:999000.0-1016582.0 (median depth 10.0)\n",
      "[18:52:58 - Sampler] Took 0.18s to make features.\n",
      "[18:52:58 - Sampler] Initializing sampler for consensus of region contig_12:0-35904.\n",
      "[18:52:58 - Feature] Processed contig_12:0.0-35903.0 (median depth 15.0)\n",
      "[18:52:58 - Sampler] Took 0.21s to make features.\n",
      "[18:52:58 - Sampler] Initializing sampler for consensus of region contig_13:0-581982.\n",
      "[18:52:58 - Feature] Processed contig_11:0.0-999999.0 (median depth 19.0)\n",
      "[18:52:58 - Sampler] Took 4.05s to make features.\n",
      "[18:52:58 - Sampler] Initializing sampler for consensus of region contig_14:0-78141.\n",
      "[18:52:59 - Feature] Processed contig_14:0.0-78140.0 (median depth 19.0)\n",
      "[18:52:59 - Sampler] Took 0.44s to make features.\n",
      "[18:52:59 - Sampler] Initializing sampler for consensus of region contig_16:0-78153.\n",
      "[18:52:59 - Feature] Processed contig_16:0.0-78152.0 (median depth 16.0)\n",
      "[18:52:59 - Sampler] Took 0.28s to make features.\n",
      "[18:52:59 - Sampler] Initializing sampler for consensus of region contig_17:0-150875.\n",
      "[18:52:59 - Feature] Processed contig_13:0.0-581981.0 (median depth 17.0)\n",
      "[18:52:59 - Sampler] Took 0.89s to make features.\n",
      "[18:52:59 - Sampler] Initializing sampler for consensus of region contig_18:0-995018.\n",
      "[18:52:59 - Feature] Processed contig_17:0.0-150874.0 (median depth 22.0)\n",
      "[18:52:59 - Sampler] Took 0.45s to make features.\n",
      "[18:52:59 - Sampler] Initializing sampler for consensus of region contig_19:0-715939.\n",
      "[18:53:00 - Feature] Processed contig_19:0.0-715938.0 (median depth 17.0)\n",
      "[18:53:00 - Sampler] Took 0.95s to make features.\n",
      "[18:53:00 - Feature] Processed contig_18:0.0-995017.0 (median depth 18.0)\n",
      "[18:53:00 - Sampler] Took 1.33s to make features.\n",
      "[18:53:00 - Sampler] Initializing sampler for consensus of region contig_2:0-1000000.\n",
      "[18:53:00 - Sampler] Initializing sampler for consensus of region contig_2:999000-1076147.\n",
      "[18:53:01 - Feature] Processed contig_2:999000.0-1076146.0 (median depth 12.0)\n",
      "[18:53:01 - Sampler] Took 0.28s to make features.\n",
      "[18:53:01 - Sampler] Initializing sampler for consensus of region contig_20:0-469907.\n",
      "[18:53:02 - Feature] Processed contig_2:0.0-999999.0 (median depth 18.0)\n",
      "[18:53:02 - Sampler] Took 1.14s to make features.\n",
      "[18:53:02 - Sampler] Initializing sampler for consensus of region contig_21:0-489198.\n",
      "[18:53:02 - Feature] Processed contig_20:0.0-469906.0 (median depth 19.0)\n",
      "[18:53:02 - Sampler] Took 0.84s to make features.\n",
      "[18:53:02 - Sampler] Initializing sampler for consensus of region contig_22:0-523813.\n",
      "[18:53:02 - Feature] Processed contig_21:0.0-489197.0 (median depth 17.0)\n",
      "[18:53:02 - Sampler] Took 0.96s to make features.\n",
      "[18:53:02 - Sampler] Initializing sampler for consensus of region contig_23:0-11815.\n",
      "[18:53:02 - Feature] Processed contig_22:0.0-523812.0 (median depth 17.0)\n",
      "[18:53:02 - Sampler] Took 0.95s to make features.\n",
      "[18:53:02 - Sampler] Initializing sampler for consensus of region contig_24:0-1000000.\n",
      "[18:53:03 - Feature] Processed contig_23:0.0-11814.0 (median depth 85.0)\n",
      "[18:53:03 - Sampler] Took 0.14s to make features.\n",
      "[18:53:03 - Sampler] Initializing sampler for consensus of region contig_24:999000-1358902.\n",
      "[18:53:03 - Feature] Processed contig_24:999000.0-1358901.0 (median depth 18.0)\n",
      "[18:53:03 - Sampler] Took 0.53s to make features.\n",
      "[18:53:03 - Sampler] Initializing sampler for consensus of region contig_25:0-796812.\n",
      "[18:53:03 - Feature] Processed contig_24:0.0-999999.0 (median depth 19.0)\n",
      "[18:53:03 - Sampler] Took 0.94s to make features.\n",
      "[18:53:03 - Sampler] Initializing sampler for consensus of region contig_26:0-1000000.\n",
      "[18:53:04 - Feature] Processed contig_25:0.0-796811.0 (median depth 17.0)\n",
      "[18:53:04 - Sampler] Took 0.65s to make features.\n",
      "[18:53:04 - Sampler] Initializing sampler for consensus of region contig_26:999000-1122253.\n",
      "[18:53:04 - Feature] Processed contig_26:999000.0-1122252.0 (median depth 22.0)\n",
      "[18:53:04 - Sampler] Took 0.21s to make features.\n",
      "[18:53:04 - Sampler] Initializing sampler for consensus of region contig_27:0-896048.\n",
      "[18:53:04 - Feature] Processed contig_26:0.0-999999.0 (median depth 17.0)\n",
      "[18:53:04 - Sampler] Took 0.75s to make features.\n",
      "[18:53:04 - Sampler] Initializing sampler for consensus of region contig_28:0-1000000.\n",
      "[18:53:05 - Feature] Processed contig_27:0.0-896047.0 (median depth 18.0)\n",
      "[18:53:05 - Sampler] Took 0.61s to make features.\n",
      "[18:53:05 - Sampler] Initializing sampler for consensus of region contig_28:999000-1999000.\n",
      "[18:53:06 - Feature] Processed contig_28:0.0-999999.1 (median depth 88.0)\n",
      "[18:53:06 - Sampler] Took 2.14s to make features.\n",
      "[18:53:07 - Feature] Processed contig_28:999000.0-1998999.2 (median depth 97.0)\n",
      "[18:53:07 - Sampler] Took 2.19s to make features.\n",
      "[18:53:27 - PWorker] Batches in cache: 8.\n",
      "[18:53:27 - PWorker] 3.1% Done (0.7/22.6 Mbases) in 33.0s\n",
      "[18:53:45 - PWorker] Batches in cache: 8.\n",
      "[18:53:45 - PWorker] 6.2% Done (1.4/22.6 Mbases) in 50.4s\n",
      "[18:53:45 - Sampler] Initializing sampler for consensus of region contig_28:1998000-2871024.\n",
      "[18:53:46 - Feature] Processed contig_28:1998000.0-2871023.0 (median depth 98.0)\n",
      "[18:53:46 - Sampler] Took 1.88s to make features.\n",
      "[18:54:02 - PWorker] Batches in cache: 8.\n",
      "[18:54:02 - PWorker] 9.3% Done (2.1/22.6 Mbases) in 67.4s\n",
      "[18:54:02 - Sampler] Initializing sampler for consensus of region contig_29:0-937021.\n",
      "[18:54:02 - Feature] Processed contig_29:0.0-937020.0 (median depth 17.0)\n",
      "[18:54:02 - Sampler] Took 0.72s to make features.\n",
      "[18:54:22 - PWorker] Batches in cache: 8.\n",
      "[18:54:22 - PWorker] 12.5% Done (2.8/22.6 Mbases) in 88.0s\n",
      "[18:54:39 - PWorker] Batches in cache: 8.\n",
      "[18:54:39 - PWorker] 15.6% Done (3.5/22.6 Mbases) in 104.7s\n",
      "[18:54:56 - PWorker] Batches in cache: 8.\n",
      "[18:54:56 - PWorker] 18.7% Done (4.2/22.6 Mbases) in 122.1s\n",
      "[18:54:56 - Sampler] Initializing sampler for consensus of region contig_3:0-306875.\n",
      "[18:54:56 - Sampler] Initializing sampler for consensus of region contig_31:0-12359.\n",
      "[18:54:57 - Feature] Processed contig_31:0.0-12358.0 (median depth 120.0)\n",
      "[18:54:57 - Sampler] Took 0.25s to make features.\n",
      "[18:54:57 - Sampler] Initializing sampler for consensus of region contig_32:0-1000000.\n",
      "[18:54:57 - Feature] Processed contig_3:0.0-306874.0 (median depth 20.0)\n",
      "[18:54:57 - Sampler] Took 0.65s to make features.\n",
      "[18:54:58 - Feature] Processed contig_32:0.0-999999.0 (median depth 38.0)\n",
      "[18:54:58 - Sampler] Took 1.00s to make features.\n",
      "[18:55:14 - PWorker] Batches in cache: 8.\n",
      "[18:55:14 - PWorker] 21.8% Done (4.9/22.6 Mbases) in 139.6s\n",
      "[18:55:31 - PWorker] Batches in cache: 8.\n",
      "[18:55:31 - PWorker] 24.9% Done (5.6/22.6 Mbases) in 156.8s\n",
      "[18:55:31 - Sampler] Initializing sampler for consensus of region contig_32:999000-1999000.\n",
      "[18:55:31 - Sampler] Initializing sampler for consensus of region contig_32:1998000-2998000.\n",
      "[18:55:33 - Feature] Processed contig_32:999000.0-1998999.0 (median depth 39.0)\n",
      "[18:55:33 - Sampler] Took 1.51s to make features.\n",
      "[18:55:33 - Feature] Processed contig_32:1998000.0-2997999.2 (median depth 36.0)\n",
      "[18:55:33 - Sampler] Took 1.61s to make features.\n",
      "[18:55:52 - PWorker] Batches in cache: 8.\n",
      "[18:55:52 - PWorker] 28.0% Done (6.3/22.6 Mbases) in 177.5s\n",
      "[18:56:09 - PWorker] Batches in cache: 8.\n",
      "[18:56:09 - PWorker] 31.1% Done (7.0/22.6 Mbases) in 195.0s\n",
      "[18:56:09 - Sampler] Initializing sampler for consensus of region contig_32:2997000-3997000.\n",
      "[18:56:10 - Feature] Processed contig_32:2997000.0-3996999.0 (median depth 38.0)\n",
      "[18:56:10 - Sampler] Took 1.12s to make features.\n",
      "[18:56:27 - PWorker] Batches in cache: 8.\n",
      "[18:56:27 - PWorker] 34.2% Done (7.7/22.6 Mbases) in 212.7s\n",
      "[18:56:44 - PWorker] Batches in cache: 8.\n",
      "[18:56:44 - PWorker] 37.3% Done (8.4/22.6 Mbases) in 229.9s\n",
      "[18:56:44 - Sampler] Initializing sampler for consensus of region contig_32:3996000-4576556.\n",
      "[18:56:45 - Feature] Processed contig_32:3996000.0-4576555.0 (median depth 36.0)\n",
      "[18:56:45 - Sampler] Took 0.87s to make features.\n",
      "[18:57:02 - PWorker] Batches in cache: 8.\n",
      "[18:57:02 - PWorker] 40.5% Done (9.2/22.6 Mbases) in 248.1s\n",
      "[18:57:02 - Sampler] Initializing sampler for consensus of region contig_33:0-71630.\n",
      "[18:57:03 - Feature] Processed contig_33:0.0-71629.0 (median depth 116.0)\n",
      "[18:57:03 - Sampler] Took 0.90s to make features.\n",
      "[18:57:19 - PWorker] Batches in cache: 8.\n",
      "[18:57:19 - PWorker] 43.5% Done (9.9/22.6 Mbases) in 264.6s\n",
      "[18:57:19 - Sampler] Initializing sampler for consensus of region contig_4:0-669184.\n",
      "[18:57:19 - Sampler] Initializing sampler for consensus of region contig_5:0-71242.\n",
      "[18:57:19 - Feature] Processed contig_5:0.0-71241.0 (median depth 17.0)\n",
      "[18:57:19 - Sampler] Took 0.17s to make features.\n",
      "[18:57:19 - Sampler] Initializing sampler for consensus of region contig_7:0-703740.\n",
      "[18:57:20 - Feature] Processed contig_7:0.0-703739.0 (median depth 17.0)\n",
      "[18:57:20 - Sampler] Took 0.63s to make features.\n",
      "[18:57:20 - Feature] Processed contig_4:0.0-669183.0 (median depth 21.0)\n",
      "[18:57:20 - Sampler] Took 0.83s to make features.\n",
      "[18:57:35 - PWorker] Batches in cache: 8.\n",
      "[18:57:35 - PWorker] 46.7% Done (10.6/22.6 Mbases) in 280.5s\n",
      "[18:57:35 - Sampler] Initializing sampler for consensus of region contig_8:0-12813.\n",
      "[18:57:35 - Feature] Pileup counts do not span requested region, requested contig_8:0-12813, received 45-12812.\n",
      "[18:57:35 - Feature] Processed contig_8:45.0-12812.0 (median depth 7.0)\n",
      "[18:57:35 - Sampler] Took 0.02s to make features.\n",
      "[18:57:51 - PWorker] Batches in cache: 8.\n",
      "[18:57:51 - PWorker] 49.8% Done (11.3/22.6 Mbases) in 297.3s\n",
      "[18:57:51 - Sampler] Initializing sampler for consensus of region contig_9:0-1000000.\n",
      "[18:57:51 - Sampler] Initializing sampler for consensus of region contig_9:999000-1014216.\n",
      "[18:57:52 - Feature] Processed contig_9:999000.0-1014215.0 (median depth 33.0)\n",
      "[18:57:52 - Sampler] Took 0.28s to make features.\n",
      "[18:57:52 - Feature] Processed contig_9:0.0-999999.0 (median depth 18.0)\n",
      "[18:57:52 - Sampler] Took 0.97s to make features.\n",
      "[18:58:08 - PWorker] Batches in cache: 8.\n",
      "[18:58:08 - PWorker] 52.2% Done (11.8/22.6 Mbases) in 313.9s\n",
      "[18:58:24 - PWorker] Batches in cache: 8.\n",
      "[18:58:24 - PWorker] 54.3% Done (12.3/22.6 Mbases) in 330.0s\n",
      "[18:58:41 - PWorker] Batches in cache: 8.\n",
      "[18:58:41 - PWorker] 56.5% Done (12.8/22.6 Mbases) in 346.7s\n",
      "[18:58:58 - PWorker] Batches in cache: 8.\n",
      "[18:58:58 - PWorker] 58.6% Done (13.3/22.6 Mbases) in 363.9s\n",
      "[18:59:15 - PWorker] Batches in cache: 8.\n",
      "[18:59:15 - PWorker] 60.6% Done (13.7/22.6 Mbases) in 380.8s\n",
      "[18:59:32 - PWorker] Batches in cache: 8.\n",
      "[18:59:32 - PWorker] 63.8% Done (14.4/22.6 Mbases) in 397.5s\n",
      "[18:59:49 - PWorker] Batches in cache: 8.\n",
      "[18:59:49 - PWorker] 65.9% Done (14.9/22.6 Mbases) in 414.4s\n",
      "[19:00:05 - PWorker] Batches in cache: 8.\n",
      "[19:00:05 - PWorker] 68.8% Done (15.6/22.6 Mbases) in 431.1s\n",
      "[19:00:22 - PWorker] Batches in cache: 8.\n",
      "[19:00:22 - PWorker] 71.7% Done (16.2/22.6 Mbases) in 447.5s\n",
      "[19:00:38 - PWorker] Batches in cache: 8.\n",
      "[19:00:38 - PWorker] 74.4% Done (16.8/22.6 Mbases) in 464.3s\n",
      "[19:00:55 - PWorker] Batches in cache: 8.\n",
      "[19:00:55 - PWorker] 77.2% Done (17.5/22.6 Mbases) in 480.7s\n",
      "[19:01:12 - PWorker] Batches in cache: 8.\n",
      "[19:01:12 - PWorker] 80.0% Done (18.1/22.6 Mbases) in 498.1s\n",
      "[19:01:29 - PWorker] Batches in cache: 8.\n",
      "[19:01:29 - PWorker] 82.8% Done (18.7/22.6 Mbases) in 514.5s\n",
      "[19:01:44 - PWorker] Batches in cache: 7.\n",
      "[19:01:44 - PWorker] 85.6% Done (19.4/22.6 Mbases) in 529.9s\n",
      "[19:02:01 - PWorker] Batches in cache: 6.\n",
      "[19:02:01 - PWorker] 88.4% Done (20.0/22.6 Mbases) in 547.0s\n",
      "[19:02:18 - PWorker] Batches in cache: 5.\n",
      "[19:02:18 - PWorker] 91.2% Done (20.6/22.6 Mbases) in 563.8s\n",
      "[19:02:35 - PWorker] Batches in cache: 4.\n",
      "[19:02:35 - PWorker] 94.2% Done (21.3/22.6 Mbases) in 580.4s\n",
      "[19:02:51 - PWorker] Batches in cache: 3.\n",
      "[19:02:51 - PWorker] 97.3% Done (22.0/22.6 Mbases) in 597.3s\n",
      "[19:03:09 - PWorker] Batches in cache: 2.\n",
      "[19:03:09 - PWorker] 100.0% Done (22.6/22.6 Mbases) in 614.4s\n",
      "[19:03:14 - PWorker] Batches in cache: 1.\n",
      "[19:03:14 - PWorker] Processed 36 batches\n",
      "[19:03:14 - PWorker] All done, 0 remainder regions.\n",
      "[19:03:14 - Predict] Processing 2 short region(s).\n",
      "[19:03:16 - MdlStrTF] Model <keras.engine.sequential.Sequential object at 0x7f0710adfd00>\n",
      "[19:03:16 - MdlStrTF] loading weights from /tmp/tmpk_9cohek/model/variables/variables (using expect partial)\n",
      "[19:03:16 - Sampler] Initializing sampler for consensus of region contig_10:0-6154.\n",
      "[19:03:16 - Sampler] Initializing sampler for consensus of region contig_30:0-9691.\n",
      "[19:03:16 - PWorker] Running inference for 0.0M draft bases.\n",
      "[19:03:16 - Feature] Processed contig_10:0.0-6153.0 (median depth 6.0)\n",
      "[19:03:16 - Sampler] Took 0.22s to make features.\n",
      "[19:03:16 - Feature] Processed contig_30:0.0-9690.0 (median depth 99.0)\n",
      "[19:03:16 - Sampler] Took 0.36s to make features.\n",
      "[19:04:38 - PWorker] Batches in cache: 2.\n",
      "[19:04:38 - PWorker] 32.9% Done (0.0/0.0 Mbases) in 82.2s\n",
      "[19:07:35 - PWorker] Batches in cache: 1.\n",
      "[19:07:35 - PWorker] 90.5% Done (0.0/0.0 Mbases) in 259.6s\n",
      "[19:07:35 - PWorker] Processed 2 batches\n",
      "[19:07:35 - PWorker] All done, 0 remainder regions.\n",
      "[19:07:35 - Predict] Finished processing all regions.\n",
      "[19:07:35 - MdlStrTF] Successfully removed temporary files from /tmp/tmpk_9cohek.\n",
      "Cannot import pyabpoa, some features may not be available.\n",
      "[19:07:40 - DataIndx] Loaded 1/1 (100.00%) sample files.\n",
      "[19:07:41 - DataIndx] Loaded 1/1 (100.00%) sample files.\n",
      "[19:07:41 - DataIndx] Loaded 1/1 (100.00%) sample files.\n",
      "[19:07:41 - DataIndx] Loaded 1/1 (100.00%) sample files.\n",
      "[19:07:41 - DataIndx] Loaded 1/1 (100.00%) sample files.\n",
      "[19:07:41 - DataIndx] Loaded 1/1 (100.00%) sample files.\n",
      "[19:07:41 - DataIndx] Loaded 1/1 (100.00%) sample files.\n",
      "[19:07:41 - DataIndx] Loaded 1/1 (100.00%) sample files.\n",
      "[19:07:41 - DataIndx] Loaded 1/1 (100.00%) sample files.\n",
      "[19:07:41 - DataIndx] Loaded 1/1 (100.00%) sample files.\n",
      "[19:07:41 - DataIndx] Loaded 1/1 (100.00%) sample files.\n",
      "[19:07:41 - DataIndx] Loaded 1/1 (100.00%) sample files.\n",
      "[19:07:41 - DataIndx] Loaded 1/1 (100.00%) sample files.\n",
      "[19:07:41 - DataIndx] Loaded 1/1 (100.00%) sample files.\n",
      "[19:07:41 - DataIndx] Loaded 1/1 (100.00%) sample files.\n",
      "[19:07:41 - DataIndx] Loaded 1/1 (100.00%) sample files.\n",
      "[19:07:41 - DataIndx] Loaded 1/1 (100.00%) sample files.\n",
      "[19:07:41 - DataIndx] Loaded 1/1 (100.00%) sample files.\n",
      "[19:07:41 - DataIndx] Loaded 1/1 (100.00%) sample files.\n",
      "[19:07:41 - DataIndx] Loaded 1/1 (100.00%) sample files.\n",
      "[19:07:41 - DataIndx] Loaded 1/1 (100.00%) sample files.\n",
      "[19:07:42 - DataIndx] Loaded 1/1 (100.00%) sample files.\n",
      "[19:07:42 - DataIndx] Loaded 1/1 (100.00%) sample files.\n",
      "[19:07:42 - DataIndx] Loaded 1/1 (100.00%) sample files.\n",
      "[19:07:42 - DataIndx] Loaded 1/1 (100.00%) sample files.\n",
      "[19:07:42 - DataIndx] Loaded 1/1 (100.00%) sample files.\n",
      "[19:07:42 - DataIndx] Loaded 1/1 (100.00%) sample files.\n",
      "[19:07:42 - DataIndx] Loaded 1/1 (100.00%) sample files.\n",
      "[19:07:43 - DataIndx] Loaded 1/1 (100.00%) sample files.\n",
      "[19:07:43 - DataIndx] Loaded 1/1 (100.00%) sample files.\n",
      "[19:07:43 - DataIndx] Loaded 1/1 (100.00%) sample files.\n",
      "[19:07:43 - DataIndx] Loaded 1/1 (100.00%) sample files.\n",
      "[19:07:43 - DataIndx] Loaded 1/1 (100.00%) sample files.\n",
      "[19:07:43 - DataIndx] Loaded 1/1 (100.00%) sample files.\n",
      "[19:07:43 - DataIndx] Loaded 1/1 (100.00%) sample files.\n",
      "[19:07:43 - DataIndx] Loaded 1/1 (100.00%) sample files.\n",
      "[19:07:43 - DataIndx] Loaded 1/1 (100.00%) sample files.\n",
      "[19:07:43 - DataIndx] Loaded 1/1 (100.00%) sample files.\n",
      "[19:07:43 - DataIndx] Loaded 1/1 (100.00%) sample files.\n",
      "[19:07:44 - DataIndx] Loaded 1/1 (100.00%) sample files.\n",
      "[19:07:44 - DataIndx] Loaded 1/1 (100.00%) sample files.\n",
      "[19:07:44 - DataIndx] Loaded 1/1 (100.00%) sample files.\n",
      "[19:07:44 - DataIndx] Loaded 1/1 (100.00%) sample files.\n",
      "Polished assembly written to MEDAKA_CONSENSUS/consensus.fasta, have a nice day.\n",
      "\n",
      "real\t17m1.702s\n",
      "user\t36m24.846s\n",
      "sys\t2m39.470s\n"
     ]
    }
   ],
   "source": [
    "time medaka_consensus -i ~/work/DATA/4222_RB2.fastq.gz -d ~/work/RESULTS/4222_FLYE/assembly.fasta -o MEDAKA_CONSENSUS -t 8"
   ]
  },
  {
   "cell_type": "markdown",
   "id": "93917318-11f2-4ebd-a24f-608ccf77d099",
   "metadata": {},
   "source": [
    "### <span style=\"color: #4CACBC;\"> Conclusion </span>  \n"
   ]
  },
  {
   "cell_type": "markdown",
   "id": "a11e5862-2041-43f6-b9d0-3281cca1643e",
   "metadata": {},
   "source": [
    "1. Here, we have obtained a genome from an algae by using Flye.\n",
    "\n",
    "2. We have corrected raw flye assembly and polished with medaka models."
   ]
  },
  {
   "cell_type": "markdown",
   "id": "fcfab1b2-0577-459a-8ecc-5e6799a9e090",
   "metadata": {},
   "source": [
    "Genome size of reference and assembly obtained by Flye is really different? why ?\n",
    "\n",
    "* you can try to compare both using Dgenies https://dgenies.toulouse.inra.fr/\n",
    "\n",
    "What do you observe? \n"
   ]
  },
  {
   "cell_type": "markdown",
   "id": "8cbf7520-9e79-495c-9fed-4e02caa326eb",
   "metadata": {},
   "source": [
    "### Now ...\n",
    "\n",
    "You can do similar pipeline using the RAVEN assembler in the 4222 algae sample.\n",
    "\n",
    "You can do similar protocol with the B8 and G11 samples.\n",
    "\n",
    "We will compare the results in next practical \"Quality Assemblies\". "
   ]
  },
  {
   "cell_type": "code",
   "execution_count": null,
   "id": "bba598fe-cda2-46f7-b664-727fb21175f7",
   "metadata": {},
   "outputs": [],
   "source": []
  },
  {
   "cell_type": "code",
   "execution_count": null,
   "id": "09176b28-03f5-4f6c-862c-e7f2c079ef78",
   "metadata": {},
   "outputs": [],
   "source": []
  }
 ],
 "metadata": {
  "kernelspec": {
   "display_name": "Bash",
   "language": "bash",
   "name": "bash"
  },
  "language_info": {
   "codemirror_mode": "shell",
   "file_extension": ".sh",
   "mimetype": "text/x-sh",
   "name": "bash"
  }
 },
 "nbformat": 4,
 "nbformat_minor": 5
}
