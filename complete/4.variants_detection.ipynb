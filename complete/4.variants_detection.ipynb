{
 "cells": [
  {
   "cell_type": "markdown",
   "id": "2f09a11c",
   "metadata": {},
   "source": [
    "\n",
    "# <span style=\"color:#006E7F\">__Introduction to Oxford Nanopore Data Analysis__ <a class=\"anchor\"></span>  \n",
    "\n",
    "\n",
    "Created by J. Orjuela (DIADE-IRD), F. Sabot (DIADE-IRD) and G. Sarah (AGAP-INRAE) - Septembre 2021 Formation SouthGreen\n",
    "\n",
    "Adapted by J. Orjuela (DIADE-IRD), F. Sabot (DIADE-IRD) - Novembre 2022"
   ]
  },
  {
   "cell_type": "markdown",
   "id": "3d07c5cc",
   "metadata": {
    "tags": []
   },
   "source": [
    "# <span style=\"color:#006E7F\">__TP4 - VARIANTS DETECTION__ <a class=\"anchor\" id=\"data\"></span>  \n",
    "    \n",
    "# <span style=\"color: #4CACBC;\"> Structural variation with Sniffles</span>  \n",
    "\n",
    "Sniffles is a structural variation caller using third generation sequencing (PacBio or Oxford Nanopore). It detects all types of SVs (10bp+) using evidence from split-read alignments, high-mismatch regions, and coverage analysis.\n",
    "\n",
    "https://github.com/fritzsedlazeck/Sniffles\n",
    "\n",
    "In the following exercices, we will :\n",
    "* map the long reads of the `4222`, `B8` and `G11` samples against the reference genome `GCA_002220235.1_ASM222023v1_genomic`\n",
    "* call SV and create a ?snf file for each sample\n",
    "* merge calling using the snf files into a single .vcf \n",
    "\n",
    "------"
   ]
  },
  {
   "cell_type": "markdown",
   "id": "9e172e4a-4c5b-4c84-bdfe-1c13c2d586bd",
   "metadata": {
    "tags": []
   },
   "source": [
    "# <span style=\"color: #4CACBC;\">1. Mapping and SV detection for all algae samples</span>  \n"
   ]
  },
  {
   "cell_type": "markdown",
   "id": "8261032c-dcc2-4fdb-bc6c-380c228f3abb",
   "metadata": {},
   "source": [
    "#### __Mapping Long Reads against the reference genome__\n",
    "\n",
    "* Go into the`RESULTS` directory and create the directory `SNIFFLES`\n",
    "* Perform the mapping with `minimaps2` https://github.com/lh3/minimap2\n",
    "* Sort the bam file with `samtools sort` and index the bam file created\n",
    "\n",
    "```\n",
    "minimap2 -ax map-ont -t 8 --MD -R '@RG\\tID:SAMPLE_ID\\tSM:SAMPLE_ID'  REF_FILE FASTQ_FILE > SAM_FILE\n",
    "```"
   ]
  },
  {
   "cell_type": "markdown",
   "id": "fe05097b-ca12-479a-8daa-1ca0c01507ed",
   "metadata": {
    "tags": []
   },
   "source": [
    "#### __Preparing data before mapping__\n",
    "\n",
    "List the `DATA` directory and check long reads from A8, 5417 and G11 samples."
   ]
  },
  {
   "cell_type": "code",
   "execution_count": 9,
   "id": "9f81243a-b1d1-4f68-9fe3-ceec47a9c13f",
   "metadata": {
    "tags": []
   },
   "outputs": [
    {
     "name": "stdout",
     "output_type": "stream",
     "text": [
      "total 3390404\n",
      "-rw-r--r-- 1 jovyan users  732289673 Sep 26  2022 \u001b[0m\u001b[01;31m4222_RB2.fastq.gz\u001b[0m\n",
      "-rw-r--r-- 1 jovyan users  651185188 Oct  3  2022 \u001b[01;31mB8_RB11.fastq.gz\u001b[0m\n",
      "drwxr-xr-x 2 jovyan users       4096 Sep 27  2021 \u001b[01;34mblobtools\u001b[0m\n",
      "-rw-r--r-- 1 jovyan users  100114880 Sep 27  2021 \u001b[01;31mblobtools.tar.gz\u001b[0m\n",
      "-rw-r--r-- 1 jovyan users 1225450876 Oct  3  2022 \u001b[01;31mG11_RB6_2022.fastq.gz\u001b[0m\n",
      "drwxr-xr-x 2 jovyan users       4096 Oct 31 12:29 \u001b[01;34mILLUMINA\u001b[0m\n",
      "-rw-r--r-- 1 jovyan users  548678690 Oct 31 12:33 \u001b[01;31mILLUMINA.tar.gz\u001b[0m\n",
      "drwxr-xr-x 2 jovyan users       4096 Nov  1 21:59 \u001b[01;34mREF\u001b[0m\n",
      "-rw-r--r-- 1 jovyan users  214010272 Sep 27  2021 testBacteria.dmnd\n"
     ]
    }
   ],
   "source": [
    "ls -l ~/work/DATA/ONT"
   ]
  },
  {
   "cell_type": "markdown",
   "id": "5bfb5d49-611b-4c00-9e3b-8d52c024182a",
   "metadata": {},
   "source": [
    "Don'f forget, we have already download genomic reference GCA_002220235.1_ASM222023v1 in notebook 2, check annotation file (gtf or gff) in `REF` directory"
   ]
  },
  {
   "cell_type": "code",
   "execution_count": 10,
   "id": "13474807-c0f2-4d71-ac85-aae834302073",
   "metadata": {},
   "outputs": [
    {
     "name": "stdout",
     "output_type": "stream",
     "text": [
      "ln: failed to create symbolic link './GCA_002220235.1_ASM222023v1_genomic.fna': File exists\n"
     ]
    },
    {
     "ename": "",
     "evalue": "1",
     "output_type": "error",
     "traceback": []
    }
   ],
   "source": [
    "# create SNIFFLES folder\n",
    "mkdir -p ~/work/RESULTS/SNIFFLES/\n",
    "cd  ~/work/RESULTS/SNIFFLES/\n",
    "\n",
    "# symbolic links of reference \n",
    "ln -s /home/jovyan/work/DATA/REF/GCA_002220235.1_ASM222023v1_genomic.fna .\n"
   ]
  },
  {
   "cell_type": "code",
   "execution_count": 11,
   "id": "e8800be2-1812-43b9-9e43-77aaadbbed3a",
   "metadata": {},
   "outputs": [
    {
     "name": "stdout",
     "output_type": "stream",
     "text": [
      "4222_RB2.bam             B8_RB11_SV.log\n",
      "4222_RB2.snf             G11_RB6_2022.bam\n",
      "4222_RB2_SORTED.bam      G11_RB6_2022.snf\n",
      "4222_RB2_SORTED.bam.bai  G11_RB6_2022_SORTED.bam\n",
      "4222_RB2_SV.log          G11_RB6_2022_SORTED.bam.bai\n",
      "B8_RB11.bam              G11_RB6_2022_SV.log\n",
      "B8_RB11.snf              \u001b[0m\u001b[01;36mGCA_002220235.1_ASM222023v1_genomic.fna\u001b[0m\n",
      "B8_RB11_SORTED.bam       multisample.vcf\n",
      "B8_RB11_SORTED.bam.bai\n"
     ]
    }
   ],
   "source": [
    "ls ~/work/RESULTS/SNIFFLES/"
   ]
  },
  {
   "cell_type": "code",
   "execution_count": null,
   "id": "7767a876-7e73-4f3b-adcb-3d90226cce8d",
   "metadata": {},
   "outputs": [],
   "source": []
  },
  {
   "cell_type": "markdown",
   "id": "25b04776-4eba-45ad-8e19-a75827465cf0",
   "metadata": {},
   "source": [
    "\n",
    "### Obtain calls for each samples\n",
    "\n",
    "Call SV candidates and create an associated .snf file for each sample:\n",
    "\n",
    "`sniffles --input sample1.bam --snf sample1.snf`\n"
   ]
  },
  {
   "cell_type": "code",
   "execution_count": 4,
   "id": "ea080741-d309-483d-824b-7ccd75b6ac64",
   "metadata": {
    "tags": []
   },
   "outputs": [
    {
     "name": "stdout",
     "output_type": "stream",
     "text": [
      "============ sample : 4222_RB2==============\n",
      "[M::mm_idx_gen::0.272*1.00] collected minimizers\n",
      "[M::mm_idx_gen::0.314*1.75] sorted minimizers\n",
      "[M::main::0.314*1.75] loaded/built the index for 21 target sequence(s)\n",
      "[M::mm_mapopt_update::0.345*1.68] mid_occ = 26\n",
      "[M::mm_idx_stat] kmer size: 15; skip: 10; is_hpc: 0; #seq: 21\n",
      "[M::mm_idx_stat::0.365*1.64] distinct minimizers: 2545925 (93.94% are singletons); average occurrences: 1.110; average spacing: 5.336; total length: 15074320\n",
      "[M::worker_pipeline::19.618*5.90] mapped 42406 sequences\n",
      "[M::worker_pipeline::24.165*6.10] mapped 20357 sequences\n",
      "[M::main] Version: 2.24-r1122\n",
      "[M::main] CMD: minimap2 -t 8 -ax map-ont --MD -R @RG\\tID:${CLONE}\\tSM:${CLONE} GCA_002220235.1_ASM222023v1_genomic.fna /home/jovyan/work/DATA/4222_RB2.fastq.gz\n",
      "[M::main] Real time: 24.216 sec; CPU: 147.435 sec; Peak RSS: 3.393 GB\n",
      "[bam_sort_core] merging from 0 files and 8 in-memory blocks...\n",
      "============ sample : B8_RB11==============\n",
      "[M::mm_idx_gen::0.273*0.99] collected minimizers\n",
      "[M::mm_idx_gen::0.322*1.70] sorted minimizers\n",
      "[M::main::0.322*1.70] loaded/built the index for 21 target sequence(s)\n",
      "[M::mm_mapopt_update::0.351*1.64] mid_occ = 26\n",
      "[M::mm_idx_stat] kmer size: 15; skip: 10; is_hpc: 0; #seq: 21\n",
      "[M::mm_idx_stat::0.370*1.61] distinct minimizers: 2545925 (93.94% are singletons); average occurrences: 1.110; average spacing: 5.336; total length: 15074320\n",
      "[M::worker_pipeline::34.920*6.91] mapped 61976 sequences\n",
      "[M::worker_pipeline::40.491*6.88] mapped 22885 sequences\n",
      "[M::main] Version: 2.24-r1122\n",
      "[M::main] CMD: minimap2 -t 8 -ax map-ont --MD -R @RG\\tID:${CLONE}\\tSM:${CLONE} GCA_002220235.1_ASM222023v1_genomic.fna /home/jovyan/work/DATA/B8_RB11.fastq.gz\n",
      "[M::main] Real time: 40.535 sec; CPU: 278.794 sec; Peak RSS: 4.207 GB\n",
      "[bam_sort_core] merging from 0 files and 8 in-memory blocks...\n",
      "============ sample : G11_RB6_2022==============\n",
      "[M::mm_idx_gen::0.266*1.00] collected minimizers\n",
      "[M::mm_idx_gen::0.305*1.76] sorted minimizers\n",
      "[M::main::0.305*1.76] loaded/built the index for 21 target sequence(s)\n",
      "[M::mm_mapopt_update::0.333*1.70] mid_occ = 26\n",
      "[M::mm_idx_stat] kmer size: 15; skip: 10; is_hpc: 0; #seq: 21\n",
      "[M::mm_idx_stat::0.352*1.66] distinct minimizers: 2545925 (93.94% are singletons); average occurrences: 1.110; average spacing: 5.336; total length: 15074320\n",
      "[M::worker_pipeline::35.529*7.12] mapped 124808 sequences\n",
      "[M::worker_pipeline::60.363*7.64] mapped 97074 sequences\n",
      "[M::worker_pipeline::67.210*7.55] mapped 57143 sequences\n",
      "[M::main] Version: 2.24-r1122\n",
      "[M::main] CMD: minimap2 -t 8 -ax map-ont --MD -R @RG\\tID:${CLONE}\\tSM:${CLONE} GCA_002220235.1_ASM222023v1_genomic.fna /home/jovyan/work/DATA/G11_RB6_2022.fastq.gz\n",
      "[M::main] Real time: 67.265 sec; CPU: 507.419 sec; Peak RSS: 5.132 GB\n",
      "[bam_sort_core] merging from 0 files and 8 in-memory blocks...\n"
     ]
    }
   ],
   "source": [
    "for i in {\"4222_RB2\",\"B8_RB11\",\"G11_RB6_2022\"}\n",
    "    do\n",
    "      cd  ~/work/RESULTS/SNIFFLES/\n",
    "      echo \"============ sample : $i==============\";\n",
    "      NAMESAMPLE=\"${i}\"\n",
    "      REF=\"GCA_002220235.1_ASM222023v1_genomic.fna\"\n",
    "      ONT=\"/home/jovyan/work/DATA/ONT/${NAMESAMPLE}.fastq.gz\" \n",
    "      ## Mapping using minimap2 : Mapping ONT reads (clone) vs a reference using minimap2 \n",
    "      minimap2 -t 8 -ax map-ont --MD  -R '@RG\\tID:${CLONE}\\tSM:${CLONE}' ${REF} ${ONT} > ${NAMESAMPLE}.bam\n",
    "      ## Sort BAM\n",
    "      samtools sort -@8 -o ${NAMESAMPLE}_SORTED.bam ${NAMESAMPLE}.bam\n",
    "      #index bam\n",
    "      samtools index -@8 ${NAMESAMPLE}_SORTED.bam\n",
    "      # Obtain calls for a samples\n",
    "      sniffles -t 8 -i ${NAMESAMPLE}_SORTED.bam --snf ${NAMESAMPLE}.snf --allow-overwrite   > ${NAMESAMPLE}_SV.log\n",
    "    done\n",
    "\n",
    "# -s/--min_support\tMinimum number of reads that support a SV to be reported. Default: 10\n",
    "# -l/--min_length\tMinimum length of SV to be reported. Default: 30bp\n",
    "# -q/--minmapping_qual\tMinimum mapping quality of alignment to be taken into account. Default: 20\n",
    "# -r/--min_seq_size\tDiscard read if non of its segment is larger then this. Default: 2kb"
   ]
  },
  {
   "cell_type": "markdown",
   "id": "8fb4bc4d-1841-4aa7-906b-b6ad3548e03d",
   "metadata": {},
   "source": [
    "### Count the number of variations, \n",
    "\n",
    "How much SV were found for each sample ? \n",
    "\n",
    "check log files !"
   ]
  },
  {
   "cell_type": "markdown",
   "id": "2eb9c407-7623-4f4d-a301-bdf34359ae58",
   "metadata": {
    "tags": []
   },
   "source": [
    "# <span style=\"color: #4CACBC;\"> 2. Merge all the vcf files across all samples</span>  "
   ]
  },
  {
   "cell_type": "markdown",
   "id": "17708c16-00af-4257-a61e-313bacef1e3c",
   "metadata": {},
   "source": [
    "Combined calling using multiple .snf files into a single .vcf: \n",
    "\n",
    "`sniffles --input sample1.snf sample2.snf ... sampleN.snf --vcf multisample.vcf`"
   ]
  },
  {
   "cell_type": "code",
   "execution_count": 5,
   "id": "6d8cade3-886d-4da4-a01b-4e4aee608b32",
   "metadata": {},
   "outputs": [
    {
     "name": "stdout",
     "output_type": "stream",
     "text": [
      "Running Sniffles2, build 2.2\n",
      "  Run Mode: combine\n",
      "  Start on: 2023/11/01 23:00:05\n",
      "  Working dir: /home/jovyan/work/RESULTS/SNIFFLES\n",
      "  Used command: /opt/conda/bin/sniffles --input 4222_RB2.snf B8_RB11.snf G11_RB6_2022.snf --vcf multisample.vcf --allow-overwrite\n",
      "==============================\n",
      "Opening for writing: multisample.vcf (multi-sample, sorted)\n",
      "Verified headers for 3 .snf files.\n",
      "The following samples will be processed in multi-calling:\n",
      "    4222_RB2.snf (sample ID in output VCF='4222_RB2')\n",
      "    B8_RB11.snf (sample ID in output VCF='B8_RB11')\n",
      "    G11_RB6_2022.snf (sample ID in output VCF='G11_RB6_2022')\n",
      "\n",
      "Calling SVs across 3 samples (22066 candidates total)...\n",
      "\n",
      " 1567/22066 candidates processed (7%, 93510/s); 4/21 tasks done; parallel 4/4; 40 SVs. \n",
      " 2907/22066 candidates processed (13%, 106001/s); 6/21 tasks done; parallel 4/4; 71 SVs. \n",
      " 4638/22066 candidates processed (21%, 121586/s); 8/21 tasks done; parallel 4/4; 124 SVs. \n",
      " 6773/22066 candidates processed (30%, 130819/s); 10/21 tasks done; parallel 4/4; 160 SVs. \n",
      " 9303/22066 candidates processed (42%, 139670/s); 12/21 tasks done; parallel 4/4; 229 SVs. \n",
      "11745/22066 candidates processed (53%, 142239/s); 14/21 tasks done; parallel 4/4; 275 SVs. \n",
      "14498/22066 candidates processed (65%, 144119/s); 16/21 tasks done; parallel 4/4; 332 SVs. \n",
      "17417/22066 candidates processed (78%, 147723/s); 18/21 tasks done; parallel 3/4; 385 SVs. \n",
      "22066/22066 candidates processed (100%, 160082/s); 21/21 tasks done; parallel 0/4; 452 SVs. \n",
      "Took 0.14s.\n",
      "\n",
      "Done.\n",
      "Wrote 452 called SVs to multisample.vcf (multi-sample, sorted)\n"
     ]
    }
   ],
   "source": [
    "sniffles --input 4222_RB2.snf B8_RB11.snf G11_RB6_2022.snf --vcf multisample.vcf --allow-overwrite"
   ]
  },
  {
   "cell_type": "markdown",
   "id": "2c885731-9eea-4e20-8e41-643f766637b0",
   "metadata": {
    "tags": []
   },
   "source": [
    "# Have a look on the VCF file"
   ]
  },
  {
   "cell_type": "code",
   "execution_count": 6,
   "id": "b1deb0bb-3b0d-44b3-9428-d9a78632b30d",
   "metadata": {},
   "outputs": [
    {
     "name": "stdout",
     "output_type": "stream",
     "text": [
      "FO082277.1\t178809\tSniffles2.INS.4M1\tN\tTTGCGACATGGGTCTTTTCGCCGAAAAATTTTCAACTTCGCCGAAAAAATGGTGCTGGGATAAAATACGAGAACAAGAGAAGAAAACAACTCGACACACAATGTACTCCGCTATGTCTAGTATTCCCTCCGGGGGCCTCCCGGGGACACACACACAGGAGCTCTGGTATTCCTGCGGGGCATAGATGTGGGATTGCAGTCTGTTTAGCGCGAATGCATAAGTGTCCGTGTGGTGCATGTTGCGTGCGAGTCTCAAAGGTACTATTTTGCGCAGAATACTCGACAAAAACAACCCCTAATTTTTCGGCGAAGTTGAAAATTTTCGGCGAAAAGACCCATGCATGTCGCTTTC\t60\tPASS\tPRECISE;SVTYPE=INS;SVLEN=286;END=178809;SUPPORT=17;COVERAGE=30,31,30,30,31;STRAND=+-;AC=4;STDEV_LEN=135.998;STDEV_POS=384.500;SUPP_VEC=011\tGT:GQ:DR:DV:ID\t0/0:0:19:0:NULL\t1/1:60:0:39:Sniffles2.INS.21S1\t1/1:60:0:27:Sniffles2.INS.73S1,Sniffles2.INS.74S1,Sniffles2.INS.75S1\n",
      "FO082277.1\t196635\tSniffles2.INS.5M1\tN\tGTGTTCAAAAGTGCTGATGAGTGAACACGACGCGAAAGCAAAAAAAAACGAAAAAG\t60\tPASS\tPRECISE;SVTYPE=INS;SVLEN=56;END=196635;SUPPORT=29;COVERAGE=42,41,41,40,44;STRAND=+-;AC=4;STDEV_LEN=12.423;STDEV_POS=280.592;SUPP_VEC=011\tGT:GQ:DR:DV:ID\t0/0:0:15:0:NULL\t1/1:60:0:37:Sniffles2.INS.25S1,Sniffles2.INS.24S1\t1/1:60:0:47:Sniffles2.INS.81S1\n",
      "FO082277.1\t209465\tSniffles2.DEL.6M1\tN\t<DEL>\t60\tPASS\tPRECISE;SVTYPE=DEL;SVLEN=-74;END=209539;SUPPORT=45;COVERAGE=49,50,49,49,49;STRAND=+-;AC=4;STDEV_LEN=9.238;STDEV_POS=171.473;SUPP_VEC=111\tGT:GQ:DR:DV:ID\t0/0:42:19:1:Sniffles2.DEL.A2S1\t1/1:60:0:42:Sniffles2.DEL.EFS1\t1/1:60:0:91:Sniffles2.DEL.308S1\n",
      "FO082277.1\t333073\tSniffles2.DEL.9M1\tN\t<DEL>\t60\tPASS\tIMPRECISE;SVTYPE=DEL;SVLEN=-202;END=333275;SUPPORT=31;COVERAGE=44,38,38,38,38;STRAND=+-;AC=3;STDEV_LEN=73.901;STDEV_POS=290.377;SUPP_VEC=111\tGT:GQ:DR:DV:ID\t0/0:34:16:1:Sniffles2.DEL.A6S1\t0/1:17:7:19:Sniffles2.DEL.FAS1\t1/1:60:0:72:Sniffles2.DEL.330S1\n",
      "FO082277.1\t333869\tSniffles2.DEL.8M1\tN\t<DEL>\t60\tPASS\tIMPRECISE;SVTYPE=DEL;SVLEN=-621;END=334490;SUPPORT=52;COVERAGE=49,49,49,49,55;STRAND=+-;AC=4;STDEV_LEN=331.633;STDEV_POS=331.633;SUPP_VEC=011\tGT:GQ:DR:DV:ID\t0/0:0:16:0:NULL\t1/1:60:0:29:Sniffles2.DEL.FBS1\t1/1:60:0:74:Sniffles2.DEL.331S1\n"
     ]
    }
   ],
   "source": [
    "head -n 100 multisample.vcf | tail -n 5"
   ]
  },
  {
   "cell_type": "markdown",
   "id": "d5bc5de2-94a3-4c10-9b27-a51b27a34c02",
   "metadata": {},
   "source": [
    "# Count the number of SVs `bftools stats`\n"
   ]
  },
  {
   "cell_type": "code",
   "execution_count": 7,
   "id": "d5248b43-6a9d-4d92-8baa-4134026a07b5",
   "metadata": {},
   "outputs": [
    {
     "name": "stdout",
     "output_type": "stream",
     "text": [
      "# This file was produced by bcftools stats (1.13+htslib-1.13+ds) and can be plotted using plot-vcfstats.\n",
      "# The command line was:\tbcftools stats  multisample.vcf\n",
      "#\n",
      "# Definition of sets:\n",
      "# ID\t[2]id\t[3]tab-separated file names\n",
      "ID\t0\tmultisample.vcf\n",
      "# SN, Summary numbers:\n",
      "#   number of records   .. number of data rows in the VCF\n",
      "#   number of no-ALTs   .. reference-only sites, ALT is either \".\" or identical to REF\n",
      "#   number of SNPs      .. number of rows with a SNP\n",
      "#   number of MNPs      .. number of rows with a MNP, such as CC>TT\n",
      "#   number of indels    .. number of rows with an indel\n",
      "#   number of others    .. number of rows with other type, for example a symbolic allele or\n",
      "#                          a complex substitution, such as ACT>TCGA\n",
      "#   number of multiallelic sites     .. number of rows with multiple alternate alleles\n",
      "#   number of multiallelic SNP sites .. number of rows with multiple alternate alleles, all SNPs\n",
      "# \n",
      "#   Note that rows containing multiple types will be counted multiple times, in each\n",
      "#   counter. For example, a row with a SNP and an indel increments both the SNP and\n",
      "#   the indel counter.\n",
      "# \n",
      "# SN\t[2]id\t[3]key\t[4]value\n",
      "SN\t0\tnumber of samples:\t3\n",
      "SN\t0\tnumber of records:\t452\n",
      "SN\t0\tnumber of no-ALTs:\t0\n",
      "SN\t0\tnumber of SNPs:\t0\n",
      "SN\t0\tnumber of MNPs:\t0\n",
      "SN\t0\tnumber of indels:\t5\n",
      "SN\t0\tnumber of others:\t441\n",
      "SN\t0\tnumber of multiallelic sites:\t0\n"
     ]
    }
   ],
   "source": [
    "bcftools stats multisample.vcf | head -n30"
   ]
  },
  {
   "cell_type": "markdown",
   "id": "18c01557-5b86-4718-8c45-534d5de5ce77",
   "metadata": {},
   "source": [
    "# Crossing informations between SV and the reference annotation - `bedtools intersect` or `intersectBed`\n",
    "    \n",
    "    https://bedtools.readthedocs.io/en/latest/content/tools/intersect.html"
   ]
  },
  {
   "cell_type": "markdown",
   "id": "a7927532-76f9-4a7e-9401-e13734be5210",
   "metadata": {},
   "source": [
    "* Count how many SVs detected by SNIFFLES are inside genes from the annotation?\n",
    "* Extract all SV inside genes  "
   ]
  },
  {
   "cell_type": "code",
   "execution_count": 12,
   "id": "1c1afc16-837f-482c-b8dd-6db9833a4052",
   "metadata": {},
   "outputs": [],
   "source": [
    "mkdir -p ~/work/RESULTS/SNIFFLES/\n",
    "cd  ~/work/RESULTS/SNIFFLES/"
   ]
  },
  {
   "cell_type": "markdown",
   "id": "8f6ef441-9f90-4df8-b46c-9bcbf5bf4750",
   "metadata": {},
   "source": [
    "## SV inside genes"
   ]
  },
  {
   "cell_type": "code",
   "execution_count": 13,
   "id": "af5d66a9-f68b-40d5-b09a-da30663e306d",
   "metadata": {},
   "outputs": [],
   "source": [
    "grep '\\sgene\\s' /home/jovyan/work/DATA/REF/GCA_002220235.1_ASM222023v1_genomic.gff > /home/jovyan/work/DATA/REF/GCA_002220235.1_ASM222023v1_onlygenes.gff"
   ]
  },
  {
   "cell_type": "code",
   "execution_count": 14,
   "id": "6aee9f83-aa11-4b04-84b8-6348a0f5fb4c",
   "metadata": {},
   "outputs": [],
   "source": [
    "bedtools intersect  -a /home/jovyan/work/DATA/REF/GCA_002220235.1_ASM222023v1_onlygenes.gff -b multisample.vcf  -c > intersect_ref_vs_multisample.bed"
   ]
  },
  {
   "cell_type": "code",
   "execution_count": 15,
   "id": "b0515ee8-4762-4990-9a09-f53147dfb5d9",
   "metadata": {},
   "outputs": [
    {
     "name": "stdout",
     "output_type": "stream",
     "text": [
      "FO082278.1\tEMBL\tgene\t944\t1510\t.\t+\t.\tID=gene-Bathy01g00010;Name=Bathy01g00010;gbkey=Gene;gene_biotype=protein_coding;locus_tag=Bathy01g00010\t0\n",
      "FO082278.1\tEMBL\tgene\t1567\t2967\t.\t-\t.\tID=gene-Bathy01g00020;Name=Bathy01g00020;gbkey=Gene;gene_biotype=protein_coding;locus_tag=Bathy01g00020\t0\n",
      "FO082278.1\tEMBL\tgene\t3323\t4720\t.\t+\t.\tID=gene-Bathy01g00030;Name=Bathy01g00030;gbkey=Gene;gene_biotype=protein_coding;locus_tag=Bathy01g00030\t0\n",
      "FO082278.1\tEMBL\tgene\t4879\t6012\t.\t-\t.\tID=gene-Bathy01g00040;Name=Bathy01g00040;gbkey=Gene;gene_biotype=protein_coding;locus_tag=Bathy01g00040\t0\n",
      "FO082278.1\tEMBL\tgene\t6267\t10415\t.\t+\t.\tID=gene-Bathy01g00050;Name=Bathy01g00050;gbkey=Gene;gene_biotype=protein_coding;locus_tag=Bathy01g00050\t0\n",
      "FO082278.1\tEMBL\tgene\t10642\t11703\t.\t+\t.\tID=gene-Bathy01g00060;Name=Bathy01g00060;gbkey=Gene;gene_biotype=protein_coding;locus_tag=Bathy01g00060\t0\n",
      "FO082278.1\tEMBL\tgene\t11810\t12916\t.\t-\t.\tID=gene-Bathy01g00070;Name=Bathy01g00070;gbkey=Gene;gene_biotype=protein_coding;locus_tag=Bathy01g00070\t0\n",
      "FO082278.1\tEMBL\tgene\t13185\t15374\t.\t+\t.\tID=gene-Bathy01g00080;Name=Bathy01g00080;gbkey=Gene;gene_biotype=protein_coding;locus_tag=Bathy01g00080\t0\n",
      "FO082278.1\tEMBL\tgene\t15470\t16171\t.\t-\t.\tID=gene-Bathy01g00090;Name=Bathy01g00090;gbkey=Gene;gene_biotype=protein_coding;locus_tag=Bathy01g00090\t0\n",
      "FO082278.1\tEMBL\tgene\t16258\t18285\t.\t+\t.\tID=gene-Bathy01g00100;Name=Bathy01g00100;gbkey=Gene;gene_biotype=protein_coding;locus_tag=Bathy01g00100\t0\n"
     ]
    }
   ],
   "source": [
    "head intersect_ref_vs_multisample.bed"
   ]
  },
  {
   "cell_type": "markdown",
   "id": "b3a8f4c6-e0fa-4ab6-8f20-3fbc0636e218",
   "metadata": {},
   "source": [
    "### count SV number within \"genes\""
   ]
  },
  {
   "cell_type": "code",
   "execution_count": 16,
   "id": "89a9d2db-0495-4c53-a308-d74558921fbd",
   "metadata": {},
   "outputs": [
    {
     "name": "stdout",
     "output_type": "stream",
     "text": [
      "7979 intersect_ref_vs_multisample.bed\n"
     ]
    }
   ],
   "source": [
    "wc -l intersect_ref_vs_multisample.bed"
   ]
  },
  {
   "cell_type": "markdown",
   "id": "2029f70e-dcda-44d8-b0ac-51f313afba0e",
   "metadata": {},
   "source": [
    "### count SV number within each \"contig\""
   ]
  },
  {
   "cell_type": "code",
   "execution_count": 17,
   "id": "693a3a05-15d3-4c14-aeb5-d065bbec76b2",
   "metadata": {},
   "outputs": [
    {
     "name": "stdout",
     "output_type": "stream",
     "text": [
      "     71 FO082258.2\n",
      "     68 FO082259.2\n",
      "     72 FO082260.1\n",
      "    156 FO082261.1\n",
      "    231 FO082262.1\n",
      "    257 FO082263.1\n",
      "    277 FO082264.1\n",
      "    358 FO082265.1\n",
      "    300 FO082266.1\n",
      "    390 FO082267.1\n",
      "    388 FO082268.1\n",
      "    434 FO082269.1\n",
      "    473 FO082270.1\n",
      "    511 FO082271.1\n",
      "    490 FO082272.1\n",
      "    524 FO082273.1\n",
      "    525 FO082274.1\n",
      "    513 FO082275.1\n",
      "    576 FO082276.1\n",
      "    623 FO082277.1\n",
      "    742 FO082278.1\n"
     ]
    }
   ],
   "source": [
    "cut -f1 intersect_ref_vs_multisample.bed | sort |  uniq -c"
   ]
  },
  {
   "cell_type": "markdown",
   "id": "15bff316-3770-4d10-8a7c-a4ee2982f43f",
   "metadata": {},
   "source": [
    "## extract all information about SV and gene intersection"
   ]
  },
  {
   "cell_type": "code",
   "execution_count": 18,
   "id": "bca8f15a-9cb8-4783-a33f-e6143c241ed6",
   "metadata": {},
   "outputs": [],
   "source": [
    "bedtools intersect -a /home/jovyan/work/DATA/REF/GCA_002220235.1_ASM222023v1_onlygenes.gff -b multisample.vcf -wo >  intersect_ref_vs_multisample.full.bed"
   ]
  },
  {
   "cell_type": "code",
   "execution_count": 19,
   "id": "3062bc43-6b3a-4f38-89da-87836b1887da",
   "metadata": {},
   "outputs": [
    {
     "name": "stdout",
     "output_type": "stream",
     "text": [
      "FO082258.2\tEMBL\tgene\t39838\t42211\t.\t+\t.\tID=gene-BathyMg00246;Name=rRNA_MitLSU;gbkey=Gene;gene=rRNA_MitLSU;gene_biotype=rRNA;locus_tag=BathyMg00246\tFO082258.2\t1\tSniffles2.DUP.0M13\tN\t<DUP>\t60\tGT\tPRECISE;SVTYPE=DUP;SVLEN=43614;END=43615;SUPPORT=66;COVERAGE=None,None,278,None,None;STRAND=+-;AC=0;STDEV_LEN=0.000;STDEV_POS=0.000;SUPP_VEC=000\tGT:GQ:DR:DV:ID\t./.:0:0:42:Sniffles2.DUP.37S13\t./.:0:0:134:Sniffles2.DUP.80S13\t./.:0:0:21:Sniffles2.DUP.91S13\t2374\n",
      "FO082258.2\tEMBL\tgene\t42399\t43559\t.\t+\t.\tID=gene-BathyMg00250;Name=cob;gbkey=Gene;gene=cob;gene_biotype=protein_coding;locus_tag=BathyMg00250\tFO082258.2\t1\tSniffles2.DUP.0M13\tN\t<DUP>\t60\tGT\tPRECISE;SVTYPE=DUP;SVLEN=43614;END=43615;SUPPORT=66;COVERAGE=None,None,278,None,None;STRAND=+-;AC=0;STDEV_LEN=0.000;STDEV_POS=0.000;SUPP_VEC=000\tGT:GQ:DR:DV:ID\t./.:0:0:42:Sniffles2.DUP.37S13\t./.:0:0:134:Sniffles2.DUP.80S13\t./.:0:0:21:Sniffles2.DUP.91S13\t1161\n",
      "FO082259.2\tEMBL\tgene\t25873\t31059\t.\t+\t.\tID=gene-BathyCg00110;Name=AtpB;gbkey=Gene;gene=AtpB;gene_biotype=protein_coding;locus_tag=BathyCg00110\tFO082259.2\t26394\tSniffles2.DEL.2M14\tN\t<DEL>\t60\tPASS\tPRECISE;SVTYPE=DEL;SVLEN=-3852;END=30246;SUPPORT=112;COVERAGE=226,215,214,220,228;STRAND=+-;AC=2;STDEV_LEN=144.250;STDEV_POS=0.707;SUPP_VEC=010\tGT:GQ:DR:DV:ID\t0/0:0:103:0:NULL\t1/1:60:0:222:Sniffles2.DEL.3FS14,Sniffles2.DEL.41S14\t0/0:0:125:0:NULL\t3852\n",
      "FO082259.2\tEMBL\tgene\t52413\t52646\t.\t-\t.\tID=gene-BathyCg00315;Name=BathyCg00315;gbkey=Gene;gene_biotype=protein_coding;locus_tag=BathyCg00315\tFO082259.2\t52537\tSniffles2.INS.0M14\tN\tAAGGTAAGCCTGCTTTAAGTCACGATACTTTTGCGAGCACCAGGACTAGGCTCAAAACTGCTCC\t60\tPASS\tPRECISE;SVTYPE=INS;SVLEN=87;END=52537;SUPPORT=104;COVERAGE=165,168,170,170,172;STRAND=+-;AC=2;STDEV_LEN=32.527;STDEV_POS=59.397;SUPP_VEC=110\tGT:GQ:DR:DV:ID\t0/0:60:129:1:Sniffles2.INS.11S14\t1/1:60:4:206:Sniffles2.INS.1DS14\t0/0:0:110:0:NULL\t1\n",
      "FO082259.2\tEMBL\tgene\t54684\t57422\t.\t-\t.\tID=gene-BathyCg00222;Name=rRNA_PlaLSU;gbkey=Gene;gene=rRNA_PlaLSU;gene_biotype=rRNA;locus_tag=BathyCg00222\tFO082259.2\t57411\tSniffles2.INS.1M14\tN\tAAAAAAAAAAAAAAAAAAAAAAAAAAAAAAAAAAAAAAAAAAAAAAAAAAAAAAAAAAAAAAAAAAAAAAAAAAAAAAAAAAAAAAAAAAAAAAAAAAAAAAAAAAAAAAAAAAAAAAAAAAAAAAAAAAAAAAAA\t55\tPASS\tIMPRECISE;SVTYPE=INS;SVLEN=136;END=57411;SUPPORT=26;COVERAGE=201,196,197,198,216;STRAND=+-;AC=1;STDEV_LEN=75.954;STDEV_POS=415.993;SUPP_VEC=111\tGT:GQ:DR:DV:ID\t0/1:60:128:167:Sniffles2.INS.16S14,Sniffles2.INS.15S14\t0/0:60:201:1:Sniffles2.INS.26S14,Sniffles2.INS.27S14\t0/0:60:134:1:Sniffles2.INS.2ES14,Sniffles2.INS.2DS14,Sniffles2.INS.2FS14\t1\n"
     ]
    }
   ],
   "source": [
    "tail -n5 intersect_ref_vs_multisample.full.bed"
   ]
  },
  {
   "cell_type": "code",
   "execution_count": null,
   "id": "42831351-422f-41cd-9dfb-73cc50b6f4aa",
   "metadata": {},
   "outputs": [],
   "source": []
  }
 ],
 "metadata": {
  "kernelspec": {
   "display_name": "Bash",
   "language": "bash",
   "name": "bash"
  },
  "language_info": {
   "codemirror_mode": "shell",
   "file_extension": ".sh",
   "mimetype": "text/x-sh",
   "name": "bash"
  }
 },
 "nbformat": 4,
 "nbformat_minor": 5
}
