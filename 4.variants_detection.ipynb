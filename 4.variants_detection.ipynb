{
 "cells": [
  {
   "cell_type": "markdown",
   "id": "2f09a11c",
   "metadata": {},
   "source": [
    "# Formation South Green 2021  \n",
    "\n",
    "##  Initiation à l’analyse de données Minion\n",
    "\n",
    "### PART 4\n",
    "\n",
    "Created by J.Orjuela (DIADE-IRD), F. Sabot (DIADE-IRD) and G. Sarah (AGAP-CIRAD)\n",
    "\n",
    "Adapted from C. Tranchant et F. Sabot (Training trasmiting science 2021)\n",
    "\n",
    "Septembre 2021"
   ]
  },
  {
   "cell_type": "markdown",
   "id": "3d07c5cc",
   "metadata": {
    "tags": []
   },
   "source": [
    "# 1. Structural variation with Sniffles\n",
    "\n",
    "Sniffles is a structural variation caller using third generation sequencing (PacBio or Oxford Nanopore).\n",
    "\n",
    "It detects all types of SVs (10bp+) using evidence from split-read alignments, high-mismatch regions, and coverage analysis."
   ]
  },
  {
   "cell_type": "markdown",
   "id": "f8c89ab9-5da9-4c48-9a20-083bbc3f4760",
   "metadata": {},
   "source": [
    "## Prepare data"
   ]
  },
  {
   "cell_type": "code",
   "execution_count": 12,
   "id": "13474807-c0f2-4d71-ac85-aae834302073",
   "metadata": {},
   "outputs": [],
   "source": [
    "# create SNIFFLES folder\n",
    "mkdir -p ~/SG-ONT-2021/RESULTS/SNIFFLES/\n",
    "cd  ~/SG-ONT-2021/RESULTS/SNIFFLES/\n",
    "\n",
    "# declare your Clone\n",
    "CLONE=\"Clone20\"\n",
    "ONT=\"/home/jovyan/SG-ONT-2021/DATA/Clone20/ONT/Clone20.fastq.gz\"\n",
    "\n",
    "# symbolic links of reference \n",
    "ln -s /home/jovyan/SG-ONT-2021/DATA/${CLONE}/reference.fasta .\n",
    "REF=\"reference.fasta\""
   ]
  },
  {
   "cell_type": "markdown",
   "id": "c5f56c88-a3d6-4580-83e3-57c88cdc0d08",
   "metadata": {},
   "source": [
    "## Mapping ONT reads (clone) vs a reference using minimap2"
   ]
  },
  {
   "cell_type": "code",
   "execution_count": 13,
   "id": "2b1f0828-547c-4c92-8d01-cd8db54d5cdc",
   "metadata": {},
   "outputs": [
    {
     "name": "stdout",
     "output_type": "stream",
     "text": [
      "[M::mm_idx_gen::0.081*1.05] collected minimizers\n",
      "[M::mm_idx_gen::0.126*1.98] sorted minimizers\n",
      "[M::main::0.126*1.97] loaded/built the index for 1 target sequence(s)\n",
      "[M::mm_mapopt_update::0.134*1.91] mid_occ = 10\n",
      "[M::mm_idx_stat] kmer size: 15; skip: 10; is_hpc: 0; #seq: 1\n",
      "[M::mm_idx_stat::0.140*1.88] distinct minimizers: 165344 (91.75% are singletons); average occurrences: 1.156; average spacing: 5.336\n",
      "[M::worker_pipeline::23.254*3.40] mapped 10804 sequences\n",
      "[M::main] Version: 2.17-r941\n",
      "[M::main] CMD: minimap2 -t 4 -ax map-ont --MD reference.fasta /home/jovyan/SG-ONT-2021/DATA/Clone20/ONT/Clone20.fastq.gz\n",
      "[M::main] Real time: 23.269 sec; CPU: 79.118 sec; Peak RSS: 0.554 GB\n",
      "[bam_sort_core] merging from 0 files and 4 in-memory blocks...\n"
     ]
    }
   ],
   "source": [
    "# activate env\n",
    "## Mapping using minimap2\n",
    "minimap2 -t 4 -ax map-ont --MD ${REF} ${ONT} > ${REF/.fasta/_vs_ONT.bam}\n",
    "## Sort and Convert in BAM\n",
    "samtools sort -@4 -o ${REF/.fasta/_vs_ONT_SORTED.bam} ${REF/.fasta/_vs_ONT.bam}"
   ]
  },
  {
   "cell_type": "markdown",
   "id": "47a53bb2-043d-4dbb-8fe1-76e073fa0c43",
   "metadata": {},
   "source": [
    "## Launch Sniffles to detect SV"
   ]
  },
  {
   "cell_type": "code",
   "execution_count": 16,
   "id": "789d4bad-6383-45ed-8c91-cbd6bd87e84e",
   "metadata": {},
   "outputs": [
    {
     "name": "stdout",
     "output_type": "stream",
     "text": [
      "Estimating parameter...\n",
      "\tMax dist between aln events: 4\n",
      "\tMax diff in window: 50\n",
      "\tMin score ratio: 2\n",
      "\tAvg DEL ratio: 0.0483461\n",
      "\tAvg INS ratio: 0.0608967\n",
      "Start parsing... Reference\n",
      "\t\t# Processed reads: 10000\n",
      "Finalizing  ..\n",
      "\n",
      "real\t0m22.931s\n",
      "user\t1m0.146s\n",
      "sys\t0m0.521s\n"
     ]
    }
   ],
   "source": [
    "time sniffles -t 4 -s 2 -q 10 -l 10 -r 500 -m ${REF/.fasta/_vs_ONT_SORTED.bam} -v ${CLONE}_SV.vcf"
   ]
  },
  {
   "cell_type": "markdown",
   "id": "85f2cee1-48df-4b74-94b8-095ae133a1e0",
   "metadata": {},
   "source": [
    "## Have a look to the VCF"
   ]
  },
  {
   "cell_type": "code",
   "execution_count": 17,
   "id": "d18362bb-3a5a-4f42-a9a2-6418fe1e1bcf",
   "metadata": {},
   "outputs": [
    {
     "name": "stdout",
     "output_type": "stream",
     "text": [
      "Reference\t32483\t11\tN\t<DEL>\t.\tPASS\tPRECISE;SVMETHOD=Snifflesv1.0.11;CHR2=Reference;END=94816;STD_quant_start=0.000000;STD_quant_stop=0.000000;Kurtosis_quant_start=7.000000;Kurtosis_quant_stop=6.889869;SVTYPE=DEL;SUPTYPE=SR;SVLEN=-62333;STRANDS=+-;RE=20\tGT:DR:DV\t./.:.:20\n",
      "Reference\t34096\t12\tTGGAACACGATT\tN\t.\tPASS\tPRECISE;SVMETHOD=Snifflesv1.0.11;CHR2=Reference;END=34108;STD_quant_start=0.000000;STD_quant_stop=0.000000;Kurtosis_quant_start=10.014243;Kurtosis_quant_stop=11.935312;SVTYPE=DEL;SUPTYPE=AL;SVLEN=-12;STRANDS=+-;RE=85\tGT:DR:DV\t./.:.:85\n",
      "Reference\t34097\t13\tN\t<DUP>\t.\tPASS\tPRECISE;SVMETHOD=Snifflesv1.0.11;CHR2=Reference;END=294169;STD_quant_start=0.000000;STD_quant_stop=2.664583;Kurtosis_quant_start=2.000000;Kurtosis_quant_stop=0.042681;SVTYPE=DUP;SUPTYPE=SR;SVLEN=260072;STRANDS=-+;RE=15\tGT:DR:DV\t./.:.:15\n",
      "Reference\t34941\t14\tN\t<DEL>\t.\tPASS\tPRECISE;SVMETHOD=Snifflesv1.0.11;CHR2=Reference;END=294178;STD_quant_start=0.000000;STD_quant_stop=0.000000;Kurtosis_quant_start=-0.304000;Kurtosis_quant_stop=4.668176;SVTYPE=DEL;SUPTYPE=SR;SVLEN=-259237;STRANDS=+-;RE=21\tGT:DR:DV\t./.:.:21\n",
      "Reference\t41134\t15\tN\tAATGGAATAAAAACTACAGGCTTTACATCATTTTCATGATCGCTCAGCACCGTCAGCAATTATTTTCTAGATAATGGAATAAAAATCACGGCCTCTGCATCACATAATGCGCAGAATCGGGCACCAGTAGCGTGCATCTCATGCTCCCTATCTGTTTGGCCTAAAGATAGCGCTGTTTGTGAGTCACATCCCCATGATTTCGCCATGCCCTCTTTGCATGATTTCAGTTTTTACTAATGGTACTATTTTACAGGGTTATAAAGAACAAGTTGGGCTAATAACATGTTATTTAAACAATTTTGAAGGATGTGTGACCTTTTCAGTGAGGCTTTGACATGCTGCCTTTTCTGCTGAAAAACAAGAAAAGATTTTATAGTTAATAGTTCATTAGTTAGTATGTTAGAGGGTGCTCTCTTCCTGAATAACATAGGTTAATTTTGGAGATAATATCAAGATTGTATTTTCCTGTTATTTAGATCACAATAGAGTTGCTGCTGATAAATATTATAAGGTTATCACATTAT\t.\tPASS\tPRECISE;SVMETHOD=Snifflesv1.0.11;CHR2=Reference;END=41656;STD_quant_start=0.000000;STD_quant_stop=1.748626;Kurtosis_quant_start=14.077449;Kurtosis_quant_stop=-0.909730;SVTYPE=INS;SUPTYPE=AL;SVLEN=520;STRANDS=+-;RE=104\tGT:DR:DV\t./.:.:104\n"
     ]
    }
   ],
   "source": [
    "head -n 50 ${CLONE}_SV.vcf | tail -n 5"
   ]
  },
  {
   "cell_type": "markdown",
   "id": "67fedd25-ac82-454d-ac11-8243335ae273",
   "metadata": {
    "tags": []
   },
   "source": [
    "## Count the number of variations"
   ]
  },
  {
   "cell_type": "code",
   "execution_count": 18,
   "id": "90e00f49-7035-4881-9696-ad19ebdc1104",
   "metadata": {},
   "outputs": [
    {
     "name": "stdout",
     "output_type": "stream",
     "text": [
      "214\n"
     ]
    }
   ],
   "source": [
    "grep -v \"#\" ${CLONE}_SV.vcf | wc -l"
   ]
  },
  {
   "cell_type": "markdown",
   "id": "9e172e4a-4c5b-4c84-bdfe-1c13c2d586bd",
   "metadata": {
    "tags": []
   },
   "source": [
    "# Mapping and SV detection for all CLONES"
   ]
  },
  {
   "cell_type": "code",
   "execution_count": null,
   "id": "0673aa0c-b660-4653-a963-df28df788c6c",
   "metadata": {},
   "outputs": [],
   "source": [
    "run_sniffles () {\n",
    "  CLONE=$1\n",
    "  REF=\"reference.fasta\"\n",
    "  ONT=\"/home/jovyan/SG-ONT-2021/DATA/Clone20/ONT/${CLONE}.fastq.gz\"\n",
    "  ## Go to output repertory\n",
    "  \n",
    "  ## Mapping using minimap2\n",
    "  minimap2 -t 4 -ax map-ont --MD  -R '@RG\\tID:${CLONE}\\tSM:${CLONE}' ${REF} ${ONT} > ${REF/.fasta/_vs_ONT.bam}\n",
    "  ## Sort and Convert in BAM\n",
    "  samtools sort -@4 -o ${REF/.fasta/_vs_ONT_SORTED.bam} ${REF/.fasta/_vs_ONT.bam}\n",
    "  sniffles -t 4 -s 2 -q 10 -l 10 -r 500 -m ${REF/.fasta/_vs_ONT_SORTED.bam} -v ${CLONE}_SV.vcf\n",
    "}\n"
   ]
  },
  {
   "cell_type": "code",
   "execution_count": null,
   "id": "ea080741-d309-483d-824b-7ccd75b6ac64",
   "metadata": {},
   "outputs": [],
   "source": [
    "for i in {1..20}\n",
    "    do\n",
    "        cd  ~/SG-ONT-2021/RESULTS/SNIFFLES/\n",
    "        echo Clone$i;\n",
    "        run_sniffles Clone$i\n",
    "    done"
   ]
  },
  {
   "cell_type": "markdown",
   "id": "9751a983-aac1-4078-89f6-40d56ca09328",
   "metadata": {
    "tags": []
   },
   "source": [
    "# Plotting SV vs SNP, one sample for SV, all sample for VCFc"
   ]
  },
  {
   "cell_type": "code",
   "execution_count": null,
   "id": "d5769d8a-9dfc-4868-b122-87d5cb1e2067",
   "metadata": {},
   "outputs": [],
   "source": [
    "# TIP use the rawVCF file"
   ]
  },
  {
   "cell_type": "markdown",
   "id": "2eb9c407-7623-4f4d-a301-bdf34359ae58",
   "metadata": {
    "tags": []
   },
   "source": [
    "# Merging and genotyping all SV accross all samples"
   ]
  },
  {
   "cell_type": "code",
   "execution_count": 1,
   "id": "20b379af-3057-48a2-bcf0-11eead7c2cb7",
   "metadata": {},
   "outputs": [
    {
     "name": "stdout",
     "output_type": "stream",
     "text": [
      "ls: cannot access '*SV.vcf': No such file or directory\n"
     ]
    },
    {
     "ename": "",
     "evalue": "2",
     "output_type": "error",
     "traceback": []
    }
   ],
   "source": [
    "# TIP check the sniffles website https://github.com/fritzsedlazeck/Sniffles/ an its wiki\n",
    "ls *SV.vcf > vcf_raw_calls.txt\n",
    "survivor merge vcf_raw_calls.txt 1000 1 1 -1 -1 -1 merged_SURVIVOR_1kDist.vcf\n",
    "for i in {1..20}\n",
    "    do\n",
    "        echo Clone$i;\n",
    "        mkdir dirClone$i; \n",
    "        cd dirClone$i; \n",
    "        echo -e \"\\nREMapping Clone$i\\n\";\n",
    "        sniffles -t 4 -s 2 -q 10 -l 10 -r 500 -m Clone$i.SORTED.bam -v Clone${i}SV.gt.vcf --Ivcf merged_SURVIVOR_1kDist.vcf\n",
    "    done\n",
    "\n",
    "ls *SV.gt.vcf > vcf_gt_calls.txt\n",
    "survivor merge vcf_gt_calls.txt 1000 1 1 -1 -1 -1 merged_gt_SURVIVOR_1kDist.vcf\n"
   ]
  },
  {
   "cell_type": "markdown",
   "id": "2c885731-9eea-4e20-8e41-643f766637b0",
   "metadata": {
    "tags": []
   },
   "source": [
    "# Have a look on the VCF file"
   ]
  },
  {
   "cell_type": "code",
   "execution_count": null,
   "id": "b1deb0bb-3b0d-44b3-9428-d9a78632b30d",
   "metadata": {},
   "outputs": [],
   "source": [
    "head -n 100 merged_gt_SURVIVOR_1kDist.vcf | tail -n 5"
   ]
  },
  {
   "cell_type": "markdown",
   "id": "5ca6c4e9-a0ec-4fc6-ba87-81f74af1f3a4",
   "metadata": {
    "tags": []
   },
   "source": [
    "# Plot SV vs SNP across all samples"
   ]
  },
  {
   "cell_type": "code",
   "execution_count": null,
   "id": "1ec6add7-bd73-4673-b5c9-441e32aaddca",
   "metadata": {},
   "outputs": [],
   "source": [
    "# TIP use again the rawVCF file\n",
    "# You can also use the final filtered one to see overlaps"
   ]
  },
  {
   "cell_type": "code",
   "execution_count": null,
   "id": "292be3ad-2e12-47a1-906c-fa43dd424d0d",
   "metadata": {},
   "outputs": [],
   "source": []
  },
  {
   "cell_type": "code",
   "execution_count": null,
   "id": "628b943f-7b59-432e-b1c8-6c286e0585e2",
   "metadata": {},
   "outputs": [],
   "source": []
  }
 ],
 "metadata": {
  "kernelspec": {
   "display_name": "Bash",
   "language": "bash",
   "name": "bash"
  },
  "language_info": {
   "codemirror_mode": "shell",
   "file_extension": ".sh",
   "mimetype": "text/x-sh",
   "name": "bash"
  }
 },
 "nbformat": 4,
 "nbformat_minor": 5
}
