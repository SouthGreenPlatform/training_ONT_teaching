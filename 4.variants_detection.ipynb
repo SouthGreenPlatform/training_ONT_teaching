{
 "cells": [
  {
   "cell_type": "markdown",
   "id": "2f09a11c",
   "metadata": {},
   "source": [
    "# Formation South Green 2021  \n",
    "\n",
    "##  Initiation à l’analyse de données Minion\n",
    "\n",
    "### PART 4\n",
    "\n",
    "Created by J.Orjuela (DIADE-IRD), F. Sabot (DIADE-IRD) and G. Sarah (AGAP-CIRAD)\n",
    "\n",
    "Adapted from C. Tranchant et F. Sabot (Training trasmiting science 2021)\n",
    "\n",
    "Septembre 2021"
   ]
  },
  {
   "cell_type": "markdown",
   "id": "3d07c5cc",
   "metadata": {
    "tags": []
   },
   "source": [
    "# 1. Structural variation with Sniffles\n",
    "\n",
    "Sniffles is a structural variation caller using third generation sequencing (PacBio or Oxford Nanopore).\n",
    "\n",
    "It detects all types of SVs (10bp+) using evidence from split-read alignments, high-mismatch regions, and coverage analysis."
   ]
  },
  {
   "cell_type": "markdown",
   "id": "f8c89ab9-5da9-4c48-9a20-083bbc3f4760",
   "metadata": {},
   "source": [
    "## Prepare data"
   ]
  },
  {
   "cell_type": "code",
   "execution_count": null,
   "id": "b761ec9b-645c-4687-8bb7-c6c35bab808a",
   "metadata": {
    "tags": []
   },
   "outputs": [],
   "source": [
    "# download  all clones fastq.gz\n",
    "cd ~/SG-ONT-2021/DATA\n",
    "# download your compressed CloneX \n",
    "wget --no-check-certificat -rm -nH --cut-dirs=1 --reject=\"index.html*\" https://itrop.ird.fr/ont-training/all_clones_short.tar.gz"
   ]
  },
  {
   "cell_type": "code",
   "execution_count": null,
   "id": "9f81243a-b1d1-4f68-9fe3-ceec47a9c13f",
   "metadata": {
    "tags": []
   },
   "outputs": [],
   "source": [
    "#decompress it\n",
    "cd ~/SG-ONT-2021/DATA\n",
    "tar zxvf all_clones_short.tar.gz"
   ]
  },
  {
   "cell_type": "code",
   "execution_count": null,
   "id": "13474807-c0f2-4d71-ac85-aae834302073",
   "metadata": {},
   "outputs": [],
   "source": [
    "# create SNIFFLES folder\n",
    "mkdir -p ~/SG-ONT-2021/RESULTS/SNIFFLES/\n",
    "cd  ~/SG-ONT-2021/RESULTS/SNIFFLES/\n",
    "\n",
    "# declare your Clone\n",
    "CLONE=\"Clone20\"\n",
    "\n",
    "# symbolic links of reference \n",
    "ln -s /home/jovyan/SG-ONT-2021/DATA/${CLONE}/reference.fasta .\n",
    "REF=\"reference.fasta\""
   ]
  },
  {
   "cell_type": "code",
   "execution_count": null,
   "id": "e8800be2-1812-43b9-9e43-77aaadbbed3a",
   "metadata": {},
   "outputs": [],
   "source": [
    "ls ~/SG-ONT-2021/DATA/all_clones_short/"
   ]
  },
  {
   "cell_type": "markdown",
   "id": "9e172e4a-4c5b-4c84-bdfe-1c13c2d586bd",
   "metadata": {
    "tags": []
   },
   "source": [
    "# 1. Mapping and SV detection for all CLONES"
   ]
  },
  {
   "cell_type": "code",
   "execution_count": null,
   "id": "0673aa0c-b660-4653-a963-df28df788c6c",
   "metadata": {
    "tags": []
   },
   "outputs": [],
   "source": [
    "# fonction bash \n",
    "run_sniffles () {\n",
    "  CLONE=$1 # this is the first parametter of this fonction\n",
    "  REF=\"reference.fasta\"\n",
    "  ONT=\"/home/jovyan/SG-ONT-2021/DATA/all_clones_short/${CLONE}.fastq.gz\"\n",
    "  ## Mapping using minimap2 : Mapping ONT reads (clone) vs a reference using minimap2 \n",
    "  time minimap2 -t 4 -ax map-ont --MD  -R '@RG\\tID:${CLONE}\\tSM:${CLONE}' ${REF} ${ONT} > ${CLONE}.bam\n",
    "  ## Sort BAM\n",
    "  time samtools sort -@4 -o ${CLONE}_SORTED.bam ${CLONE}.bam\n",
    "  # Obtain calls for a samples\n",
    "  time sniffles -t 4 -s 2 -q 10 -l 10 -r 500 -m ${CLONE}_SORTED.bam -v ${CLONE}_SV.vcf\n",
    "}\n",
    "\n",
    "# -s/--min_support\tMinimum number of reads that support a SV to be reported. Default: 10\n",
    "# -l/--min_length\tMinimum length of SV to be reported. Default: 30bp\n",
    "# -q/--minmapping_qual\tMinimum mapping quality of alignment to be taken into account. Default: 20\n",
    "# -r/--min_seq_size\tDiscard read if non of its segment is larger then this. Default: 2kb"
   ]
  },
  {
   "cell_type": "markdown",
   "id": "25b04776-4eba-45ad-8e19-a75827465cf0",
   "metadata": {},
   "source": [
    "### Obtain calls for a samples"
   ]
  },
  {
   "cell_type": "code",
   "execution_count": null,
   "id": "ea080741-d309-483d-824b-7ccd75b6ac64",
   "metadata": {
    "tags": []
   },
   "outputs": [],
   "source": [
    "for i in {2,6,10,15,18}\n",
    "    do\n",
    "        cd  ~/SG-ONT-2021/RESULTS/SNIFFLES/\n",
    "        echo \"\\n\\n============ Clone${i}==============\\n\";\n",
    "        run_sniffles Clone$i\n",
    "    done\n",
    "time"
   ]
  },
  {
   "cell_type": "markdown",
   "id": "8fb4bc4d-1841-4aa7-906b-b6ad3548e03d",
   "metadata": {},
   "source": [
    "### Count the number of variations"
   ]
  },
  {
   "cell_type": "code",
   "execution_count": null,
   "id": "367a047d-cef9-487e-b496-be2a76554131",
   "metadata": {},
   "outputs": [],
   "source": [
    "for i in {2,6,10,15,18}\n",
    "    do\n",
    "        cd  ~/SG-ONT-2021/RESULTS/SNIFFLES\n",
    "        echo \"Clone${i}\";\n",
    "        grep -v \"#\" Clone${i}_SV.vcf | wc -l\n",
    "    done"
   ]
  },
  {
   "cell_type": "markdown",
   "id": "2eb9c407-7623-4f4d-a301-bdf34359ae58",
   "metadata": {
    "tags": []
   },
   "source": [
    "# 2. Merge all the vcf files across all samples \n"
   ]
  },
  {
   "cell_type": "markdown",
   "id": "6479a06d-7cdc-434f-9397-7df84c57efe3",
   "metadata": {},
   "source": [
    "Check the sniffles website https://github.com/fritzsedlazeck/Sniffles/ an its wiki for more details"
   ]
  },
  {
   "cell_type": "code",
   "execution_count": null,
   "id": "20b379af-3057-48a2-bcf0-11eead7c2cb7",
   "metadata": {},
   "outputs": [],
   "source": [
    "# Put all file paths over all vcf files together\n",
    "ls *SV.vcf > vcf_raw_calls.txt\n",
    "\n",
    "# We call SURVIVOR to merge these into one vcf file\n",
    "conda activate survivor\n",
    "cd ~/SG-ONT-2021/RESULTS/SNIFFLES\n",
    "time SURVIVOR merge vcf_raw_calls.txt 1000 1 1 -1 -1 -1 merged_SURVIVOR_1kDist.vcf\n",
    "conda deactivate"
   ]
  },
  {
   "cell_type": "markdown",
   "id": "e73a58a9-2f58-4574-94a7-9a11fc8b2bca",
   "metadata": {},
   "source": [
    "This will generate one VCF file for all the samples, but we lack the information \n",
    "\n",
    "If a SV identified in one sample but not in the other is really absent."
   ]
  },
  {
   "cell_type": "markdown",
   "id": "54a53b91-1d29-46ae-aa67-3bd13bb490fa",
   "metadata": {},
   "source": [
    "# 3. Force call all the SVs across all the samples\n",
    "\n",
    "Next we ran Sniffles again across all the samples similar to this :"
   ]
  },
  {
   "cell_type": "code",
   "execution_count": null,
   "id": "3ed8841c-ecf1-4fc6-9343-aca1aedb1fca",
   "metadata": {
    "tags": []
   },
   "outputs": [],
   "source": [
    "cd  ~/SG-ONT-2021/RESULTS/SNIFFLES/\n",
    "for i in {2,6,10,15,18}\n",
    "    do\n",
    "        echo -e \"\\n========== REMapping Clone$i======== \\n\";\n",
    "        sniffles -t 8 -s 2 -q 10 -l 10 -r 500 -m Clone${i}_SORTED.bam -v Clone${i}_SV.gt.vcf --Ivcf merged_SURVIVOR_1kDist.vcf\n",
    "    done\n"
   ]
  },
  {
   "cell_type": "code",
   "execution_count": null,
   "id": "83daea67-7430-47df-ba3b-50fa770fc4f4",
   "metadata": {},
   "outputs": [],
   "source": [
    "#Put all file paths over all new vcf files together\n",
    "cd  ~/SG-ONT-2021/RESULTS/SNIFFLES/\n",
    "ls *SV.gt.vcf > vcf_gt_calls.txt\n",
    "\n",
    "# relauch survivor to merge vcf again and finally obtain now a fully genotyped multisample vcf\n",
    "conda activate survivor\n",
    "SURVIVOR merge vcf_gt_calls.txt 1000 1 1 -1 -1 -1 merged_gt_SURVIVOR_1kDist.vcf\n",
    "conda deactivate\n",
    "\n",
    "# The -1 for the minimum SV caller is necessary to obtain all calls even if they might be 0/0 in all samples."
   ]
  },
  {
   "cell_type": "markdown",
   "id": "2c885731-9eea-4e20-8e41-643f766637b0",
   "metadata": {
    "tags": []
   },
   "source": [
    "# Have a look on the VCF file"
   ]
  },
  {
   "cell_type": "code",
   "execution_count": null,
   "id": "b1deb0bb-3b0d-44b3-9428-d9a78632b30d",
   "metadata": {},
   "outputs": [],
   "source": [
    "head -n 100 merged_gt_SURVIVOR_1kDist.vcf | tail -n 5"
   ]
  },
  {
   "cell_type": "markdown",
   "id": "795c7bdb-dfd3-4fb0-9f4e-452a8f3c6bca",
   "metadata": {},
   "source": [
    "Now, you can plotting proportion of SV in all sample for VCF for example"
   ]
  }
 ],
 "metadata": {
  "kernelspec": {
   "display_name": "Bash",
   "language": "bash",
   "name": "bash"
  },
  "language_info": {
   "codemirror_mode": "shell",
   "file_extension": ".sh",
   "mimetype": "text/x-sh",
   "name": "bash"
  }
 },
 "nbformat": 4,
 "nbformat_minor": 5
}
