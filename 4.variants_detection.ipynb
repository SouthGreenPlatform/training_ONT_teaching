{
 "cells": [
  {
   "cell_type": "markdown",
   "id": "2f09a11c",
   "metadata": {},
   "source": [
    "# Formation South Green 2021  \n",
    "\n",
    "##  Initiation à l’analyse de données Minion\n",
    "\n",
    "### PART 4\n",
    "\n",
    "Created by J.Orjuela (DIADE-IRD), F. Sabot (DIADE-IRD) and G. Sarah (AGAP-CIRAD)\n",
    "\n",
    "Adapted from C. Tranchant et F. Sabot (Training trasmiting science 2021)\n",
    "\n",
    "Septembre 2021"
   ]
  },
  {
   "cell_type": "markdown",
   "id": "3d07c5cc",
   "metadata": {
    "tags": []
   },
   "source": [
    "# 1. Structural variation with Sniffles\n",
    "\n",
    "Sniffles is a structural variation caller using third generation sequencing (PacBio or Oxford Nanopore).\n",
    "\n",
    "It detects all types of SVs (10bp+) using evidence from split-read alignments, high-mismatch regions, and coverage analysis."
   ]
  },
  {
   "cell_type": "markdown",
   "id": "f8c89ab9-5da9-4c48-9a20-083bbc3f4760",
   "metadata": {},
   "source": [
    "## Prepare data"
   ]
  },
  {
   "cell_type": "code",
   "execution_count": 22,
   "id": "b761ec9b-645c-4687-8bb7-c6c35bab808a",
   "metadata": {
    "tags": []
   },
   "outputs": [
    {
     "name": "stdout",
     "output_type": "stream",
     "text": [
      "--2021-09-23 15:27:15--  https://itrop.ird.fr/ont-training/all_clones_short.tar.gz\n",
      "Resolving itrop.ird.fr (itrop.ird.fr)... 91.203.35.184\n",
      "Connecting to itrop.ird.fr (itrop.ird.fr)|91.203.35.184|:443... connected.\n",
      "HTTP request sent, awaiting response... 304 Not Modified\n",
      "File ‘all_clones_short.tar.gz’ not modified on server. Omitting download.\n",
      "\n"
     ]
    }
   ],
   "source": [
    "# download  all clones fastq.gz\n",
    "cd ~/SG-ONT-2021/DATA\n",
    "# download your compressed CloneX \n",
    "wget --no-check-certificat -rm -nH --cut-dirs=1 --reject=\"index.html*\" https://itrop.ird.fr/ont-training/all_clones_short.tar.gz"
   ]
  },
  {
   "cell_type": "code",
   "execution_count": null,
   "id": "9f81243a-b1d1-4f68-9fe3-ceec47a9c13f",
   "metadata": {
    "tags": []
   },
   "outputs": [],
   "source": [
    "#decompress it\n",
    "cd ~/SG-ONT-2021/DATA\n",
    "tar zxvf all_clones_short.tar.gz"
   ]
  },
  {
   "cell_type": "code",
   "execution_count": 23,
   "id": "13474807-c0f2-4d71-ac85-aae834302073",
   "metadata": {},
   "outputs": [],
   "source": [
    "# create SNIFFLES folder\n",
    "mkdir -p ~/SG-ONT-2021/RESULTS/SNIFFLES/\n",
    "cd  ~/SG-ONT-2021/RESULTS/SNIFFLES/\n",
    "\n",
    "# declare your Clone\n",
    "CLONE=\"Clone20\"\n",
    "\n",
    "# symbolic links of reference \n",
    "ln -s /home/jovyan/SG-ONT-2021/DATA/${CLONE}/reference.fasta .\n",
    "REF=\"reference.fasta\""
   ]
  },
  {
   "cell_type": "code",
   "execution_count": 25,
   "id": "e8800be2-1812-43b9-9e43-77aaadbbed3a",
   "metadata": {},
   "outputs": [
    {
     "name": "stdout",
     "output_type": "stream",
     "text": [
      "Clone10.fastq.gz  Clone18.fastq.gz  Clone6.fastq.gz\n",
      "Clone15.fastq.gz  Clone2.fastq.gz\n"
     ]
    }
   ],
   "source": [
    "ls ~/SG-ONT-2021/DATA/all_clones_short/"
   ]
  },
  {
   "cell_type": "markdown",
   "id": "9e172e4a-4c5b-4c84-bdfe-1c13c2d586bd",
   "metadata": {
    "tags": []
   },
   "source": [
    "# 1. Mapping and SV detection for all CLONES"
   ]
  },
  {
   "cell_type": "code",
   "execution_count": 20,
   "id": "0673aa0c-b660-4653-a963-df28df788c6c",
   "metadata": {
    "tags": []
   },
   "outputs": [],
   "source": [
    "# fonction bash \n",
    "run_sniffles () {\n",
    "  CLONE=$1 # this is the first parametter of this fonction\n",
    "  REF=\"reference.fasta\"\n",
    "  ONT=\"/home/jovyan/SG-ONT-2021/DATA/all_clones_short/${CLONE}.fastq.gz\"\n",
    "  ## Mapping using minimap2 : Mapping ONT reads (clone) vs a reference using minimap2 \n",
    "  time minimap2 -t 4 -ax map-ont --MD  -R '@RG\\tID:${CLONE}\\tSM:${CLONE}' ${REF} ${ONT} > ${CLONE}.bam\n",
    "  ## Sort BAM\n",
    "  time samtools sort -@4 -o ${CLONE}_SORTED.bam ${CLONE}.bam\n",
    "  # Obtain calls for a samples\n",
    "  time sniffles -t 4 -s 2 -q 10 -l 10 -r 500 -m ${CLONE}_SORTED.bam -v ${CLONE}_SV.vcf\n",
    "}\n",
    "\n",
    "# -s/--min_support\tMinimum number of reads that support a SV to be reported. Default: 10\n",
    "# -l/--min_length\tMinimum length of SV to be reported. Default: 30bp\n",
    "# -q/--minmapping_qual\tMinimum mapping quality of alignment to be taken into account. Default: 20\n",
    "# -r/--min_seq_size\tDiscard read if non of its segment is larger then this. Default: 2kb"
   ]
  },
  {
   "cell_type": "markdown",
   "id": "25b04776-4eba-45ad-8e19-a75827465cf0",
   "metadata": {},
   "source": [
    "### Obtain calls for a samples"
   ]
  },
  {
   "cell_type": "code",
   "execution_count": 26,
   "id": "ea080741-d309-483d-824b-7ccd75b6ac64",
   "metadata": {
    "tags": []
   },
   "outputs": [
    {
     "name": "stdout",
     "output_type": "stream",
     "text": [
      " ============ Clone2============== \n",
      "[M::mm_idx_gen::0.089*1.05] collected minimizers\n",
      "[M::mm_idx_gen::0.125*1.82] sorted minimizers\n",
      "[M::main::0.125*1.82] loaded/built the index for 1 target sequence(s)\n",
      "[M::mm_mapopt_update::0.140*1.67] mid_occ = 10\n",
      "[M::mm_idx_stat] kmer size: 15; skip: 10; is_hpc: 0; #seq: 1\n",
      "[M::mm_idx_stat::0.146*1.65] distinct minimizers: 165344 (91.75% are singletons); average occurrences: 1.156; average spacing: 5.336\n",
      "[M::worker_pipeline::18.083*3.07] mapped 10241 sequences\n",
      "[M::main] Version: 2.17-r941\n",
      "[M::main] CMD: minimap2 -t 4 -ax map-ont --MD -R @RG\\tID:${CLONE}\\tSM:${CLONE} reference.fasta /home/jovyan/SG-ONT-2021/DATA/all_clones_short/Clone2.fastq.gz\n",
      "[M::main] Real time: 18.099 sec; CPU: 55.527 sec; Peak RSS: 0.414 GB\n",
      "\n",
      "real\t0m18.141s\n",
      "user\t0m54.392s\n",
      "sys\t0m1.162s\n",
      "[bam_sort_core] merging from 0 files and 4 in-memory blocks...\n",
      "\n",
      "real\t0m3.259s\n",
      "user\t0m9.124s\n",
      "sys\t0m0.725s\n",
      "Estimating parameter...\n",
      "\tMax dist between aln events: 5\n",
      "\tMax diff in window: 50\n",
      "\tMin score ratio: 2\n",
      "\tAvg DEL ratio: 0.0299483\n",
      "\tAvg INS ratio: 0.0254998\n",
      "Start parsing... Reference\n",
      "Finalizing  ..\n",
      "\n",
      "real\t0m9.397s\n",
      "user\t0m27.260s\n",
      "sys\t0m0.180s\n",
      " ============ Clone6============== \n",
      "[M::mm_idx_gen::0.045*1.07] collected minimizers\n",
      "[M::mm_idx_gen::0.079*2.22] sorted minimizers\n",
      "[M::main::0.079*2.22] loaded/built the index for 1 target sequence(s)\n",
      "[M::mm_mapopt_update::0.088*2.10] mid_occ = 10\n",
      "[M::mm_idx_stat] kmer size: 15; skip: 10; is_hpc: 0; #seq: 1\n",
      "[M::mm_idx_stat::0.093*2.04] distinct minimizers: 165344 (91.75% are singletons); average occurrences: 1.156; average spacing: 5.336\n",
      "[M::worker_pipeline::20.800*3.14] mapped 11746 sequences\n",
      "[M::main] Version: 2.17-r941\n",
      "[M::main] CMD: minimap2 -t 4 -ax map-ont --MD -R @RG\\tID:${CLONE}\\tSM:${CLONE} reference.fasta /home/jovyan/SG-ONT-2021/DATA/all_clones_short/Clone6.fastq.gz\n",
      "[M::main] Real time: 20.813 sec; CPU: 65.411 sec; Peak RSS: 0.470 GB\n",
      "\n",
      "real\t0m20.840s\n",
      "user\t1m4.360s\n",
      "sys\t0m1.076s\n",
      "[bam_sort_core] merging from 0 files and 4 in-memory blocks...\n",
      "\n",
      "real\t0m4.350s\n",
      "user\t0m11.875s\n",
      "sys\t0m0.899s\n",
      "Estimating parameter...\n",
      "\tMax dist between aln events: 4\n",
      "\tMax diff in window: 50\n",
      "\tMin score ratio: 2\n",
      "\tAvg DEL ratio: 0.0301874\n",
      "\tAvg INS ratio: 0.0481301\n",
      "Start parsing... Reference\n",
      "Finalizing  ..\n",
      "\n",
      "real\t0m13.646s\n",
      "user\t0m39.814s\n",
      "sys\t0m0.304s\n",
      " ============ Clone10============== \n",
      "[M::mm_idx_gen::0.079*1.05] collected minimizers\n",
      "[M::mm_idx_gen::0.106*1.76] sorted minimizers\n",
      "[M::main::0.106*1.76] loaded/built the index for 1 target sequence(s)\n",
      "[M::mm_mapopt_update::0.115*1.70] mid_occ = 10\n",
      "[M::mm_idx_stat] kmer size: 15; skip: 10; is_hpc: 0; #seq: 1\n",
      "[M::mm_idx_stat::0.120*1.67] distinct minimizers: 165344 (91.75% are singletons); average occurrences: 1.156; average spacing: 5.336\n",
      "[M::worker_pipeline::20.225*3.19] mapped 11235 sequences\n",
      "[M::main] Version: 2.17-r941\n",
      "[M::main] CMD: minimap2 -t 4 -ax map-ont --MD -R @RG\\tID:${CLONE}\\tSM:${CLONE} reference.fasta /home/jovyan/SG-ONT-2021/DATA/all_clones_short/Clone10.fastq.gz\n",
      "[M::main] Real time: 20.237 sec; CPU: 64.593 sec; Peak RSS: 0.457 GB\n",
      "\n",
      "real\t0m20.281s\n",
      "user\t1m3.625s\n",
      "sys\t0m1.009s\n",
      "[bam_sort_core] merging from 0 files and 4 in-memory blocks...\n",
      "\n",
      "real\t0m4.002s\n",
      "user\t0m11.462s\n",
      "sys\t0m0.930s\n",
      "Estimating parameter...\n",
      "\tMax dist between aln events: 4\n",
      "\tMax diff in window: 50\n",
      "\tMin score ratio: 2\n",
      "\tAvg DEL ratio: 0.0531733\n",
      "\tAvg INS ratio: 0.0472265\n",
      "Start parsing... Reference\n",
      "\t\t# Processed reads: 10000\n",
      "Finalizing  ..\n",
      "\n",
      "real\t0m14.699s\n",
      "user\t0m40.989s\n",
      "sys\t0m0.248s\n",
      " ============ Clone15============== \n",
      "[M::mm_idx_gen::0.051*1.05] collected minimizers\n",
      "[M::mm_idx_gen::0.089*2.20] sorted minimizers\n",
      "[M::main::0.089*2.20] loaded/built the index for 1 target sequence(s)\n",
      "[M::mm_mapopt_update::0.097*2.09] mid_occ = 10\n",
      "[M::mm_idx_stat] kmer size: 15; skip: 10; is_hpc: 0; #seq: 1\n",
      "[M::mm_idx_stat::0.102*2.04] distinct minimizers: 165344 (91.75% are singletons); average occurrences: 1.156; average spacing: 5.336\n",
      "[M::worker_pipeline::27.608*3.40] mapped 11904 sequences\n",
      "[M::main] Version: 2.17-r941\n",
      "[M::main] CMD: minimap2 -t 4 -ax map-ont --MD -R @RG\\tID:${CLONE}\\tSM:${CLONE} reference.fasta /home/jovyan/SG-ONT-2021/DATA/all_clones_short/Clone15.fastq.gz\n",
      "[M::main] Real time: 27.621 sec; CPU: 93.834 sec; Peak RSS: 0.870 GB\n",
      "\n",
      "real\t0m27.656s\n",
      "user\t1m32.691s\n",
      "sys\t0m1.176s\n",
      "[bam_sort_core] merging from 0 files and 4 in-memory blocks...\n",
      "\n",
      "real\t0m4.275s\n",
      "user\t0m11.354s\n",
      "sys\t0m0.873s\n",
      "Estimating parameter...\n",
      "\tMax dist between aln events: 4\n",
      "\tMax diff in window: 50\n",
      "\tMin score ratio: 2\n",
      "\tAvg DEL ratio: 0.0348636\n",
      "\tAvg INS ratio: 0.0707594\n",
      "Start parsing... Reference\n",
      "\t\t# Processed reads: 10000\n",
      "Finalizing  ..\n",
      "\n",
      "real\t0m36.595s\n",
      "user\t1m22.089s\n",
      "sys\t0m0.676s\n",
      " ============ Clone18============== \n",
      "[M::mm_idx_gen::0.071*1.05] collected minimizers\n",
      "[M::mm_idx_gen::0.110*2.04] sorted minimizers\n",
      "[M::main::0.110*2.04] loaded/built the index for 1 target sequence(s)\n",
      "[M::mm_mapopt_update::0.118*1.97] mid_occ = 10\n",
      "[M::mm_idx_stat] kmer size: 15; skip: 10; is_hpc: 0; #seq: 1\n",
      "[M::mm_idx_stat::0.123*1.93] distinct minimizers: 165344 (91.75% are singletons); average occurrences: 1.156; average spacing: 5.336\n",
      "[M::worker_pipeline::22.400*3.33] mapped 11288 sequences\n",
      "[M::main] Version: 2.17-r941\n",
      "[M::main] CMD: minimap2 -t 4 -ax map-ont --MD -R @RG\\tID:${CLONE}\\tSM:${CLONE} reference.fasta /home/jovyan/SG-ONT-2021/DATA/all_clones_short/Clone18.fastq.gz\n",
      "[M::main] Real time: 22.435 sec; CPU: 74.583 sec; Peak RSS: 0.665 GB\n",
      "\n",
      "real\t0m22.445s\n",
      "user\t1m13.795s\n",
      "sys\t0m0.795s\n",
      "[bam_sort_core] merging from 0 files and 4 in-memory blocks...\n",
      "\n",
      "real\t0m3.919s\n",
      "user\t0m11.381s\n",
      "sys\t0m0.742s\n",
      "Estimating parameter...\n",
      "\tMax dist between aln events: 4\n",
      "\tMax diff in window: 50\n",
      "\tMin score ratio: 2\n",
      "\tAvg DEL ratio: 0.0525036\n",
      "\tAvg INS ratio: 0.0647361\n",
      "Start parsing... Reference\n",
      "\t\t# Processed reads: 10000\n",
      "Finalizing  ..\n",
      "\n",
      "real\t0m28.931s\n",
      "user\t1m8.420s\n",
      "sys\t0m0.543s\n",
      "\n",
      "real\t0m0.000s\n",
      "user\t0m0.000s\n",
      "sys\t0m0.000s\n"
     ]
    }
   ],
   "source": [
    "for i in {2,6,10,15,18}\n",
    "    do\n",
    "        cd  ~/SG-ONT-2021/RESULTS/SNIFFLES/\n",
    "        echo \"\\n\\n============ Clone${i}==============\\n\";\n",
    "        run_sniffles Clone$i\n",
    "    done\n",
    "time"
   ]
  },
  {
   "cell_type": "markdown",
   "id": "8fb4bc4d-1841-4aa7-906b-b6ad3548e03d",
   "metadata": {},
   "source": [
    "### Count the number of variations"
   ]
  },
  {
   "cell_type": "code",
   "execution_count": 27,
   "id": "367a047d-cef9-487e-b496-be2a76554131",
   "metadata": {},
   "outputs": [
    {
     "name": "stdout",
     "output_type": "stream",
     "text": [
      "Clone2\n",
      "39\n",
      "Clone6\n",
      "43\n",
      "Clone10\n",
      "67\n",
      "Clone15\n",
      "296\n",
      "Clone18\n",
      "217\n"
     ]
    }
   ],
   "source": [
    "for i in {2,6,10,15,18}\n",
    "    do\n",
    "        cd  ~/SG-ONT-2021/RESULTS/SNIFFLES\n",
    "        echo \"Clone${i}\";\n",
    "        grep -v \"#\" Clone${i}_SV.vcf | wc -l\n",
    "    done"
   ]
  },
  {
   "cell_type": "markdown",
   "id": "2eb9c407-7623-4f4d-a301-bdf34359ae58",
   "metadata": {
    "tags": []
   },
   "source": [
    "# 2. Merge all the vcf files across all samples \n"
   ]
  },
  {
   "cell_type": "markdown",
   "id": "6479a06d-7cdc-434f-9397-7df84c57efe3",
   "metadata": {},
   "source": [
    "Check the sniffles website https://github.com/fritzsedlazeck/Sniffles/ an its wiki for more details"
   ]
  },
  {
   "cell_type": "code",
   "execution_count": 28,
   "id": "20b379af-3057-48a2-bcf0-11eead7c2cb7",
   "metadata": {},
   "outputs": [
    {
     "name": "stdout",
     "output_type": "stream",
     "text": [
      "(survivor) (survivor) merging entries: 67\n",
      "merging entries: 296\n",
      "merging entries: 217\n",
      "merging entries: 39\n",
      "merging entries: 43\n",
      "\n",
      "real\t0m0.185s\n",
      "user\t0m0.113s\n",
      "sys\t0m0.009s\n",
      "(survivor) (base) "
     ]
    },
    {
     "ename": "",
     "evalue": "1",
     "output_type": "error",
     "traceback": []
    }
   ],
   "source": [
    "# Put all file paths over all vcf files together\n",
    "ls *SV.vcf > vcf_raw_calls.txt\n",
    "\n",
    "# We call SURVIVOR to merge these into one vcf file\n",
    "conda activate survivor\n",
    "cd ~/SG-ONT-2021/RESULTS/SNIFFLES\n",
    "time SURVIVOR merge vcf_raw_calls.txt 1000 1 1 -1 -1 -1 merged_SURVIVOR_1kDist.vcf\n",
    "conda deactivate"
   ]
  },
  {
   "cell_type": "markdown",
   "id": "e73a58a9-2f58-4574-94a7-9a11fc8b2bca",
   "metadata": {},
   "source": [
    "This will generate one VCF file for all the samples, but we lack the information \n",
    "\n",
    "If a SV identified in one sample but not in the other is really absent."
   ]
  },
  {
   "cell_type": "markdown",
   "id": "54a53b91-1d29-46ae-aa67-3bd13bb490fa",
   "metadata": {},
   "source": [
    "# 3. Force call all the SVs across all the samples\n",
    "\n",
    "Next we ran Sniffles again across all the samples similar to this :"
   ]
  },
  {
   "cell_type": "code",
   "execution_count": 29,
   "id": "3ed8841c-ecf1-4fc6-9343-aca1aedb1fca",
   "metadata": {
    "tags": []
   },
   "outputs": [
    {
     "name": "stdout",
     "output_type": "stream",
     "text": [
      "(base) \n",
      "========== REMapping Clone2======== \n",
      "\n",
      "Automatically enabling genotype mode\n",
      "Force calling SVs\n",
      "Estimating parameter...\n",
      "\tMax dist between aln events: 5\n",
      "\tMax diff in window: 50\n",
      "\tMin score ratio: 2\n",
      "\tAvg DEL ratio: 0.0299483\n",
      "\tAvg INS ratio: 0.0254998\n",
      "Construct Tree...\n",
      "\t\t583 SVs found in input.\n",
      "\tInvalid types found skipping 0 entries.\n",
      "Start parsing: Chr Reference\n",
      "Segmentation fault\n",
      "\n",
      "========== REMapping Clone6======== \n",
      "\n",
      "Automatically enabling genotype mode\n",
      "Force calling SVs\n",
      "Estimating parameter...\n",
      "\tMax dist between aln events: 4\n",
      "\tMax diff in window: 50\n",
      "\tMin score ratio: 2\n",
      "\tAvg DEL ratio: 0.0301874\n",
      "\tAvg INS ratio: 0.0481301\n",
      "Construct Tree...\n",
      "\t\t583 SVs found in input.\n",
      "\tInvalid types found skipping 0 entries.\n",
      "Start parsing: Chr Reference\n",
      "Segmentation fault\n",
      "\n",
      "========== REMapping Clone10======== \n",
      "\n",
      "Automatically enabling genotype mode\n",
      "Force calling SVs\n",
      "Estimating parameter...\n",
      "\tMax dist between aln events: 4\n",
      "\tMax diff in window: 50\n",
      "\tMin score ratio: 2\n",
      "\tAvg DEL ratio: 0.0531733\n",
      "\tAvg INS ratio: 0.0472265\n",
      "Construct Tree...\n",
      "\t\t583 SVs found in input.\n",
      "\tInvalid types found skipping 0 entries.\n",
      "Start parsing: Chr Reference\n",
      "Segmentation fault\n",
      "\n",
      "========== REMapping Clone15======== \n",
      "\n",
      "Automatically enabling genotype mode\n",
      "Force calling SVs\n",
      "Estimating parameter...\n",
      "\tMax dist between aln events: 4\n",
      "\tMax diff in window: 50\n",
      "\tMin score ratio: 2\n",
      "\tAvg DEL ratio: 0.0348636\n",
      "\tAvg INS ratio: 0.0707594\n",
      "Construct Tree...\n",
      "\t\t583 SVs found in input.\n",
      "\tInvalid types found skipping 0 entries.\n",
      "Start parsing: Chr Reference\n",
      "Segmentation fault\n",
      "\n",
      "========== REMapping Clone18======== \n",
      "\n",
      "Automatically enabling genotype mode\n",
      "Force calling SVs\n",
      "Estimating parameter...\n",
      "\tMax dist between aln events: 4\n",
      "\tMax diff in window: 50\n",
      "\tMin score ratio: 2\n",
      "\tAvg DEL ratio: 0.0525036\n",
      "\tAvg INS ratio: 0.0647361\n",
      "Construct Tree...\n",
      "\t\t583 SVs found in input.\n",
      "\tInvalid types found skipping 0 entries.\n",
      "Start parsing: Chr Reference\n",
      "Segmentation fault\n",
      "(base) "
     ]
    },
    {
     "ename": "",
     "evalue": "1",
     "output_type": "error",
     "traceback": []
    }
   ],
   "source": [
    "cd  ~/SG-ONT-2021/RESULTS/SNIFFLES/\n",
    "for i in {2,6,10,15,18}\n",
    "    do\n",
    "        echo -e \"\\n========== REMapping Clone$i======== \\n\";\n",
    "        sniffles -t 8 -s 2 -q 10 -l 10 -r 500 -m Clone${i}_SORTED.bam -v Clone${i}_SV.gt.vcf --Ivcf merged_SURVIVOR_1kDist.vcf\n",
    "    done\n"
   ]
  },
  {
   "cell_type": "code",
   "execution_count": null,
   "id": "83daea67-7430-47df-ba3b-50fa770fc4f4",
   "metadata": {},
   "outputs": [],
   "source": [
    "#Put all file paths over all new vcf files together\n",
    "cd  ~/SG-ONT-2021/RESULTS/SNIFFLES/\n",
    "ls *SV.gt.vcf > vcf_gt_calls.txt\n",
    "\n",
    "# relauch survivor to merge vcf again and finally obtain now a fully genotyped multisample vcf\n",
    "conda activate survivor\n",
    "SURVIVOR merge vcf_gt_calls.txt 1000 1 1 -1 -1 -1 merged_gt_SURVIVOR_1kDist.vcf\n",
    "conda deactivate\n",
    "\n",
    "# The -1 for the minimum SV caller is necessary to obtain all calls even if they might be 0/0 in all samples."
   ]
  },
  {
   "cell_type": "markdown",
   "id": "2c885731-9eea-4e20-8e41-643f766637b0",
   "metadata": {
    "tags": []
   },
   "source": [
    "# Have a look on the VCF file"
   ]
  },
  {
   "cell_type": "code",
   "execution_count": null,
   "id": "b1deb0bb-3b0d-44b3-9428-d9a78632b30d",
   "metadata": {},
   "outputs": [],
   "source": [
    "head -n 100 merged_gt_SURVIVOR_1kDist.vcf | tail -n 5"
   ]
  },
  {
   "cell_type": "markdown",
   "id": "795c7bdb-dfd3-4fb0-9f4e-452a8f3c6bca",
   "metadata": {},
   "source": [
    "Now, you can plotting proportion of SV in all sample for VCF for example"
   ]
  }
 ],
 "metadata": {
  "kernelspec": {
   "display_name": "Bash",
   "language": "bash",
   "name": "bash"
  },
  "language_info": {
   "codemirror_mode": "shell",
   "file_extension": ".sh",
   "mimetype": "text/x-sh",
   "name": "bash"
  }
 },
 "nbformat": 4,
 "nbformat_minor": 5
}
