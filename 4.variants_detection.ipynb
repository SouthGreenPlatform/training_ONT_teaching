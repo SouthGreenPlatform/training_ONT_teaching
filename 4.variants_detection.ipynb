{
 "cells": [
  {
   "cell_type": "markdown",
   "id": "2f09a11c",
   "metadata": {},
   "source": [
    "\n",
    "# <span style=\"color:#006E7F\">__Introduction to Oxford Nanopore Data Analysis__ <a class=\"anchor\"></span>  \n",
    "\n",
    "\n",
    "Created by J. Orjuela (DIADE-IRD), F. Sabot (DIADE-IRD) and G. Sarah (AGAP-INRAE) - Septembre 2021 Formation SouthGreen\n",
    "\n",
    "Adapted by J. Orjuela (DIADE-IRD), F. Sabot (DIADE-IRD) - Novembre 2022"
   ]
  },
  {
   "cell_type": "markdown",
   "id": "3d07c5cc",
   "metadata": {
    "tags": []
   },
   "source": [
    "# <span style=\"color:#006E7F\">__TP4 - VARIANTS DETECTION__ <a class=\"anchor\" id=\"data\"></span>  \n",
    "    \n",
    "# <span style=\"color: #4CACBC;\"> Structural variation with Sniffles</span>  \n",
    "\n",
    "Sniffles is a structural variation caller using third generation sequencing (PacBio or Oxford Nanopore).\n",
    "\n",
    "It detects all types of SVs (10bp+) using evidence from split-read alignments, high-mismatch regions, and coverage analysis.\n",
    "    \n",
    "Check the sniffles website https://github.com/fritzsedlazeck/Sniffles/ an its wiki for more details."
   ]
  },
  {
   "cell_type": "markdown",
   "id": "f8c89ab9-5da9-4c48-9a20-083bbc3f4760",
   "metadata": {},
   "source": [
    "## Prepare data"
   ]
  },
  {
   "cell_type": "code",
   "execution_count": 3,
   "id": "b761ec9b-645c-4687-8bb7-c6c35bab808a",
   "metadata": {
    "tags": []
   },
   "outputs": [
    {
     "name": "stdout",
     "output_type": "stream",
     "text": [
      "--2022-11-10 21:38:45--  https://itrop.ird.fr/ont-training/all_clones_short.tar.gz\n",
      "Resolving itrop.ird.fr (itrop.ird.fr)... 91.203.35.184\n",
      "Connecting to itrop.ird.fr (itrop.ird.fr)|91.203.35.184|:443... connected.\n",
      "HTTP request sent, awaiting response... 200 OK\n",
      "Length: 842363643 (803M) [application/x-gzip]\n",
      "Saving to: ‘all_clones_short.tar.gz’\n",
      "\n",
      "all_clones_short.ta 100%[===================>] 803.34M  45.6MB/s    in 18s     \n",
      "\n",
      "2022-11-10 21:39:02 (45.3 MB/s) - ‘all_clones_short.tar.gz’ saved [842363643/842363643]\n",
      "\n",
      "FINISHED --2022-11-10 21:39:02--\n",
      "Total wall clock time: 18s\n",
      "Downloaded: 1 files, 803M in 18s (45.3 MB/s)\n"
     ]
    }
   ],
   "source": [
    "# download  all clones fastq.gz\n",
    "cd ~/work/DATA\n",
    "# download your compressed CloneX \n",
    "wget --no-check-certificat -rm -nH --cut-dirs=1 --reject=\"index.html*\" https://itrop.ird.fr/ont-training/all_clones_short.tar.gz"
   ]
  },
  {
   "cell_type": "code",
   "execution_count": 4,
   "id": "9f81243a-b1d1-4f68-9fe3-ceec47a9c13f",
   "metadata": {
    "tags": []
   },
   "outputs": [
    {
     "name": "stdout",
     "output_type": "stream",
     "text": [
      "all_clones_short/\n",
      "all_clones_short/Clone2.fastq.gz\n",
      "all_clones_short/Clone6.fastq.gz\n",
      "all_clones_short/Clone10.fastq.gz\n",
      "all_clones_short/Clone15.fastq.gz\n",
      "all_clones_short/Clone18.fastq.gz\n"
     ]
    }
   ],
   "source": [
    "#decompress it\n",
    "cd ~/work/DATA\n",
    "tar zxvf all_clones_short.tar.gz"
   ]
  },
  {
   "cell_type": "code",
   "execution_count": 11,
   "id": "13474807-c0f2-4d71-ac85-aae834302073",
   "metadata": {},
   "outputs": [
    {
     "name": "stdout",
     "output_type": "stream",
     "text": [
      "ln: failed to create symbolic link './reference.fasta': File exists\n"
     ]
    }
   ],
   "source": [
    "# create SNIFFLES folder\n",
    "mkdir -p ~/work/RESULTS/SNIFFLES/\n",
    "cd  ~/work/RESULTS/SNIFFLES/\n",
    "\n",
    "# declare your Clone\n",
    "CLONE=\"Clone10\"\n",
    "\n",
    "# symbolic links of reference \n",
    "ln -s /home/jovyan/work/DATA/${CLONE}/reference.fasta .\n",
    "REF=\"reference.fasta\""
   ]
  },
  {
   "cell_type": "code",
   "execution_count": 12,
   "id": "e8800be2-1812-43b9-9e43-77aaadbbed3a",
   "metadata": {},
   "outputs": [
    {
     "name": "stdout",
     "output_type": "stream",
     "text": [
      "\u001b[0m\u001b[01;32mClone10.fastq.gz\u001b[0m  \u001b[01;32mClone18.fastq.gz\u001b[0m  \u001b[01;32mClone6.fastq.gz\u001b[0m\n",
      "\u001b[01;32mClone15.fastq.gz\u001b[0m  \u001b[01;32mClone2.fastq.gz\u001b[0m\n"
     ]
    }
   ],
   "source": [
    "ls ~/work/DATA/all_clones_short/"
   ]
  },
  {
   "cell_type": "markdown",
   "id": "9e172e4a-4c5b-4c84-bdfe-1c13c2d586bd",
   "metadata": {
    "tags": []
   },
   "source": [
    "# <span style=\"color: #4CACBC;\">1. Mapping and SV detection for all CLONES</span>  \n"
   ]
  },
  {
   "cell_type": "markdown",
   "id": "25b04776-4eba-45ad-8e19-a75827465cf0",
   "metadata": {},
   "source": [
    "\n",
    "### Obtain calls for each samples\n",
    "\n",
    "Call SV candidates and create an associated .snf file for each sample:\n",
    "\n",
    "`sniffles --input sample1.bam --snf sample1.snf`\n"
   ]
  },
  {
   "cell_type": "code",
   "execution_count": 46,
   "id": "ea080741-d309-483d-824b-7ccd75b6ac64",
   "metadata": {
    "tags": []
   },
   "outputs": [
    {
     "name": "stdout",
     "output_type": "stream",
     "text": [
      "\\n\\n============ Clone2==============\\n\n",
      "[M::mm_idx_gen::0.036*2.27] collected minimizers\n",
      "[M::mm_idx_gen::0.045*2.59] sorted minimizers\n",
      "[M::main::0.045*2.59] loaded/built the index for 1 target sequence(s)\n",
      "[M::mm_mapopt_update::0.049*2.46] mid_occ = 10\n",
      "[M::mm_idx_stat] kmer size: 15; skip: 10; is_hpc: 0; #seq: 1\n",
      "[M::mm_idx_stat::0.054*2.34] distinct minimizers: 165344 (91.75% are singletons); average occurrences: 1.156; average spacing: 5.336\n",
      "[M::worker_pipeline::15.786*3.40] mapped 10241 sequences\n",
      "[M::main] Version: 2.17-r941\n",
      "[M::main] CMD: minimap2 -t 4 -ax map-ont --MD -R @RG\\tID:${CLONE}\\tSM:${CLONE} reference.fasta /home/jovyan/work/DATA/all_clones_short/Clone2.fastq.gz\n",
      "[M::main] Real time: 15.793 sec; CPU: 53.678 sec; Peak RSS: 0.410 GB\n",
      "[bam_sort_core] merging from 0 files and 4 in-memory blocks...\n",
      "\\n\\n============ Clone6==============\\n\n",
      "[M::mm_idx_gen::0.028*2.35] collected minimizers\n",
      "[M::mm_idx_gen::0.046*2.93] sorted minimizers\n",
      "[M::main::0.046*2.93] loaded/built the index for 1 target sequence(s)\n",
      "[M::mm_mapopt_update::0.049*2.80] mid_occ = 10\n",
      "[M::mm_idx_stat] kmer size: 15; skip: 10; is_hpc: 0; #seq: 1\n",
      "[M::mm_idx_stat::0.052*2.70] distinct minimizers: 165344 (91.75% are singletons); average occurrences: 1.156; average spacing: 5.336\n",
      "[M::worker_pipeline::27.372*3.60] mapped 11746 sequences\n",
      "[M::main] Version: 2.17-r941\n",
      "[M::main] CMD: minimap2 -t 4 -ax map-ont --MD -R @RG\\tID:${CLONE}\\tSM:${CLONE} reference.fasta /home/jovyan/work/DATA/all_clones_short/Clone6.fastq.gz\n",
      "[M::main] Real time: 27.378 sec; CPU: 98.527 sec; Peak RSS: 0.470 GB\n",
      "[bam_sort_core] merging from 0 files and 4 in-memory blocks...\n",
      "\\n\\n============ Clone10==============\\n\n",
      "[M::mm_idx_gen::0.030*1.04] collected minimizers\n",
      "[M::mm_idx_gen::0.049*2.10] sorted minimizers\n",
      "[M::main::0.049*2.10] loaded/built the index for 1 target sequence(s)\n",
      "[M::mm_mapopt_update::0.053*2.01] mid_occ = 10\n",
      "[M::mm_idx_stat] kmer size: 15; skip: 10; is_hpc: 0; #seq: 1\n",
      "[M::mm_idx_stat::0.057*1.94] distinct minimizers: 165344 (91.75% are singletons); average occurrences: 1.156; average spacing: 5.336\n",
      "[M::worker_pipeline::26.136*3.61] mapped 11235 sequences\n",
      "[M::main] Version: 2.17-r941\n",
      "[M::main] CMD: minimap2 -t 4 -ax map-ont --MD -R @RG\\tID:${CLONE}\\tSM:${CLONE} reference.fasta /home/jovyan/work/DATA/all_clones_short/Clone10.fastq.gz\n",
      "[M::main] Real time: 26.140 sec; CPU: 94.410 sec; Peak RSS: 0.456 GB\n",
      "[bam_sort_core] merging from 0 files and 4 in-memory blocks...\n",
      "\\n\\n============ Clone15==============\\n\n",
      "[M::mm_idx_gen::0.033*1.04] collected minimizers\n",
      "[M::mm_idx_gen::0.042*1.61] sorted minimizers\n",
      "[M::main::0.042*1.61] loaded/built the index for 1 target sequence(s)\n",
      "[M::mm_mapopt_update::0.045*1.57] mid_occ = 10\n",
      "[M::mm_idx_stat] kmer size: 15; skip: 10; is_hpc: 0; #seq: 1\n",
      "[M::mm_idx_stat::0.048*1.54] distinct minimizers: 165344 (91.75% are singletons); average occurrences: 1.156; average spacing: 5.336\n",
      "[M::worker_pipeline::28.246*3.62] mapped 11904 sequences\n",
      "[M::main] Version: 2.17-r941\n",
      "[M::main] CMD: minimap2 -t 4 -ax map-ont --MD -R @RG\\tID:${CLONE}\\tSM:${CLONE} reference.fasta /home/jovyan/work/DATA/all_clones_short/Clone15.fastq.gz\n",
      "[M::main] Real time: 28.257 sec; CPU: 102.304 sec; Peak RSS: 0.854 GB\n",
      "[bam_sort_core] merging from 0 files and 4 in-memory blocks...\n",
      "\\n\\n============ Clone18==============\\n\n",
      "[M::mm_idx_gen::0.035*1.04] collected minimizers\n",
      "[M::mm_idx_gen::0.045*1.66] sorted minimizers\n",
      "[M::main::0.045*1.66] loaded/built the index for 1 target sequence(s)\n",
      "[M::mm_mapopt_update::0.049*1.61] mid_occ = 10\n",
      "[M::mm_idx_stat] kmer size: 15; skip: 10; is_hpc: 0; #seq: 1\n",
      "[M::mm_idx_stat::0.052*1.57] distinct minimizers: 165344 (91.75% are singletons); average occurrences: 1.156; average spacing: 5.336\n",
      "[M::worker_pipeline::24.655*3.58] mapped 11288 sequences\n",
      "[M::main] Version: 2.17-r941\n",
      "[M::main] CMD: minimap2 -t 4 -ax map-ont --MD -R @RG\\tID:${CLONE}\\tSM:${CLONE} reference.fasta /home/jovyan/work/DATA/all_clones_short/Clone18.fastq.gz\n",
      "[M::main] Real time: 24.659 sec; CPU: 88.330 sec; Peak RSS: 0.653 GB\n",
      "[bam_sort_core] merging from 0 files and 4 in-memory blocks...\n"
     ]
    }
   ],
   "source": [
    "for i in {2,6,10,15,18}\n",
    "    do\n",
    "      cd  ~/work/RESULTS/SNIFFLES/\n",
    "      echo \"\\n\\n============ Clone$i==============\\n\";\n",
    "      CLONE=\"Clone${i}\" # this is the first parametter of this fonction\n",
    "      REF=\"reference.fasta\"\n",
    "      ONT=\"/home/jovyan/work/DATA/all_clones_short/${CLONE}.fastq.gz\"\n",
    "      ## Mapping using minimap2 : Mapping ONT reads (clone) vs a reference using minimap2 \n",
    "      minimap2 -t 4 -ax map-ont --MD  -R '@RG\\tID:${CLONE}\\tSM:${CLONE}' ${REF} ${ONT} > ${CLONE}.bam\n",
    "      ## Sort BAM\n",
    "      samtools sort -@4 -o ${CLONE}_SORTED.bam ${CLONE}.bam\n",
    "      #index bam\n",
    "      samtools index -@4 ${CLONE}_SORTED.bam\n",
    "      # Obtain calls for a samples\n",
    "      sniffles -t 4 -i ${CLONE}_SORTED.bam --snf ${CLONE}.snf --allow-overwrite   > ${CLONE}_SV.log\n",
    "    done\n",
    "\n",
    "# -s/--min_support\tMinimum number of reads that support a SV to be reported. Default: 10\n",
    "# -l/--min_length\tMinimum length of SV to be reported. Default: 30bp\n",
    "# -q/--minmapping_qual\tMinimum mapping quality of alignment to be taken into account. Default: 20\n",
    "# -r/--min_seq_size\tDiscard read if non of its segment is larger then this. Default: 2kb"
   ]
  },
  {
   "cell_type": "markdown",
   "id": "8fb4bc4d-1841-4aa7-906b-b6ad3548e03d",
   "metadata": {},
   "source": [
    "### Count the number of variations, \n",
    "\n",
    "How much SV were found for each Clone ? \n",
    "\n",
    "check log files !"
   ]
  },
  {
   "cell_type": "markdown",
   "id": "5e9304af-5cba-47b6-a5e8-3d52ed09499c",
   "metadata": {},
   "source": [
    "### Create a variable containing the snf files names"
   ]
  },
  {
   "cell_type": "code",
   "execution_count": 48,
   "id": "367a047d-cef9-487e-b496-be2a76554131",
   "metadata": {},
   "outputs": [
    {
     "name": "stdout",
     "output_type": "stream",
     "text": [
      "Clone2.snf Clone6.snf Clone10.snf Clone15.snf Clone18.snf\n"
     ]
    }
   ],
   "source": [
    "SNFS=\"\"\n",
    "for i in {2,6,10,15,18}; do SNFS=\"$SNFS Clone${i}.snf\"; done\n",
    "echo $SNFS"
   ]
  },
  {
   "cell_type": "markdown",
   "id": "2eb9c407-7623-4f4d-a301-bdf34359ae58",
   "metadata": {
    "tags": []
   },
   "source": [
    "# <span style=\"color: #4CACBC;\"> 2. Merge all the vcf files across all samples</span>  "
   ]
  },
  {
   "cell_type": "markdown",
   "id": "17708c16-00af-4257-a61e-313bacef1e3c",
   "metadata": {},
   "source": [
    "Combined calling using multiple .snf files into a single .vcf: \n",
    "\n",
    "`sniffles --input sample1.snf sample2.snf ... sampleN.snf --vcf multisample.vcf`"
   ]
  },
  {
   "cell_type": "code",
   "execution_count": 50,
   "id": "6d8cade3-886d-4da4-a01b-4e4aee608b32",
   "metadata": {},
   "outputs": [
    {
     "name": "stdout",
     "output_type": "stream",
     "text": [
      "Running Sniffles2, build 2.0.7\n",
      "  Run Mode: combine\n",
      "  Start on: 2022/11/10 22:37:09\n",
      "  Working dir: /home/jovyan/work/RESULTS/SNIFFLES\n",
      "  Used command: /opt/conda/bin/sniffles --input Clone2.snf Clone6.snf Clone10.snf Clone15.snf Clone18.snf --vcf multisample.vcf --allow-overwrite\n",
      "==============================\n",
      "Opening for writing: multisample.vcf (multi-sample, sorted)\n",
      "Verified headers for 5 .snf files.\n",
      "The following samples will be processed in multi-calling:\n",
      "    Clone2.snf (sample ID in output VCF='Clone2')\n",
      "    Clone6.snf (sample ID in output VCF='Clone6')\n",
      "    Clone10.snf (sample ID in output VCF='Clone10')\n",
      "    Clone15.snf (sample ID in output VCF='Clone15')\n",
      "    Clone18.snf (sample ID in output VCF='Clone18')\n",
      "\n",
      "Calling SVs across 5 samples (695 candidates total)...\n",
      "\n",
      "(Estimating progress); 1/1 tasks done; parallel 0/4; 237 SVs. \n",
      "Took 0.08s.\n",
      "\n",
      "Done.\n",
      "Wrote 237 called SVs to multisample.vcf (multi-sample, sorted)\n"
     ]
    }
   ],
   "source": [
    "sniffles --input $SNFS --vcf multisample.vcf --allow-overwrite"
   ]
  },
  {
   "cell_type": "markdown",
   "id": "2c885731-9eea-4e20-8e41-643f766637b0",
   "metadata": {
    "tags": []
   },
   "source": [
    "# Have a look on the VCF file"
   ]
  },
  {
   "cell_type": "code",
   "execution_count": 51,
   "id": "b1deb0bb-3b0d-44b3-9428-d9a78632b30d",
   "metadata": {},
   "outputs": [
    {
     "name": "stdout",
     "output_type": "stream",
     "text": [
      "Reference\t189602\tSniffles2.INS.2EM0\tN\tAAGAAAATGAGAAAGGGCAGGATAGGGCACTGCTTGTAATCTTTACAGATGTTTTGTTAAACAAACATTATTGGTTCAGTAATGATGGTTCATTGTTGTATGATCATTGTACAAATTGCCTCTGATGCCTGGGCAAATTGACTTGATGGGATTTTGTGCTGTCAGTTTGTCAACTCTGCTGTTTATGGTCCTCCTAGTTTTGGTGCCATACCCGTTTATGATTGAGTACTTACTACTACTAAGTGACTGTATCAATGCAGGTAATAACATTGTTTCGATCAGATGTTTATCTTGACAAATAACTTTAATTAACAGATGATGTTGCCTGCCAAGTTTCTCGATATCTCTAATTCAACAGTAAGTAATTCGTTCCTGGCAAATATTCACTCAAATATCTTTTAACTAATTGGCTTATTGAACATAGTCAATTTTAAATTTTAAATTTCATTTTAGAGTTGATTTTATGATTTATTTTATCCTTTTTCTATCTTATCTTTAAAAACTACTAATAATACAAACTATAAATTTTAATCATATACTACTTCCTTTTAATAGATGACAGTGTTCACCTTTTGTCACACAGTTTGATAGTTTGCTTAATAAGTTTACGTAATTATAATTTATTTTTTATGAGTTGTTTTTATCACTCAAAAGTATTTTATGTATGACTTATTAATCTTATACATTTATATAAAATTTTAAATAAAACGCATTATTAAAAATGTGTTCAAAATTAACGGCTTCATCCGCTTAAAACGAGGGAGTATTACTTTAGTCGCTTGATTTATTCCTCTACGACTCATCAGATC\t60\tPASS\tPRECISE;SVTYPE=INS;SVLEN=809;END=189602;SUPPORT=121;COVERAGE=140,121,121,121,137;STRAND=+;AC=2;STDEV_LEN=0;STDEV_POS=0;SUPP_VEC=00001\tGT:GQ:DR:DV:ID\t0/0:0:137:0:NULL\t0/0:0:147:0:NULL\t0/0:0:135:0:NULL\t0/0:0:121:0:NULL\t1/1:60:0:121:Sniffles2.INS.ES0\n",
      "Reference\t192374\tSniffles2.INS.2DM0\tN\tCCGCTGACAGCCAGCTGCTCACCGCCTTCACGTCGTCGCTCTACGTCTCCGGCCTCGCCACCACGTTCCTCGCCTCGCACGTCACCGCCAGGCGCAGCCCGGCGCGCGTCCATGCTCGTGGCAGGGGCGGCCATCGCCGCCGGCGCCACGAGGCCGGGCGCCTCCGCAGCGGGCCTCGCCACGGTGATCCTCGGGCGCGATCTGC\t60\tPASS\tPRECISE;SVTYPE=INS;SVLEN=205;END=192374;SUPPORT=123;COVERAGE=120,118,119,122,125;STRAND=+;AC=2;STDEV_LEN=0;STDEV_POS=0;SUPP_VEC=00010\tGT:GQ:DR:DV:ID\t0/0:0:136:0:NULL\t0/0:0:148:0:NULL\t0/0:0:146:0:NULL\t1/1:60:0:123:Sniffles2.INS.1ES0\t0/0:0:120:0:NULL\n",
      "Reference\t194166\tSniffles2.INS.30M0\tN\tTTTTATAAGTATACAAGACAAAACGAACACTGCCCACGTCTACATCTGTTACGTACGTAGTCCGTCTATAGATTGAATGCAGACATTATTAGGCATCTTTTATATAACCACGCAAACTTTATTGATAAGCTCGCAGTTTATTTGAAAAACCATTGTCTTCTGCTCATAGAACATTAGCCATTATTCTGCTCATGAATTACCAAGAAAGGTTATCAATTTAATTAACAAGAATAATTTTGGATTGCACTTTTTCAATCTGCCTTTCAATAAATATTTTTCTATGGAACCCATTTATATGTTGTTAATTCCTTCTTGTGCATACGTATTTATGCTGTTAGCATGACATTACACCAAGAATATTTATTCTCTTCTTAGAACAAGAATATATTTTTTCGTGGAGGTTAATTAGAGATAAGCTAGGCTGGTT\t60\tPASS\tPRECISE;SVTYPE=INS;SVLEN=427;END=194166;SUPPORT=105;COVERAGE=110,105,105,105,118;STRAND=+;AC=2;STDEV_LEN=0;STDEV_POS=0;SUPP_VEC=00001\tGT:GQ:DR:DV:ID\t0/0:0:128:0:NULL\t0/0:0:143:0:NULL\t0/0:0:137:0:NULL\t0/0:0:127:0:NULL\t1/1:60:0:105:Sniffles2.INS.FS0\n",
      "Reference\t194653\tSniffles2.INS.2FM0\tN\tTATTGGGGCAGCATCTGGTAACCAGCGGCTTTAAACGTACCTTCAAAAGTATCACCCGCTGACGTTGACTAAACATCCTCGCAAGTACATTGGTTGCTCACTTCATATCTTGCCGAGGCCGCCCATCATGCTCAGCACTGATCAGGCGAGAGCGATATCGGAGCTACGACCTGGATCAAGTTCCGTGGGTGAAATATTTATGATTAAAGTTCTTTATTATAAGCGTCCTAAGTAGCGGCAATCTCACTGACTCTAACGCCTCACTGGCAGTTGTGGGGTCCTATCGAATTCCACAATCCGAGTACGTATAATAACGTAATCTCCCCGCTATGACACTTCGGGCCAGATCTAAGTAGGCTGCAGCGTTATAGGCCGGGTCTATGAACGAGGGCGTCCGCCACCGTACTCTCCTAAAAGTCACAAGCCATACAGATGGGGACAACACTCGGGTCTTTCGTTGAAAGGATTCCATCAAACTACTCGATCTTCATACACCAGGCTAGCTGATAACTAGCATTTCAAGCCTCGCAAACGTCTTCTTCAGGAAAAATCAGGATGGCTACTGATTAAGGTAACATCTTTCATCTATTTCATAGGGATCGGTGGACCAATGTGTAGTAGATAGGCGTCATATAGCTTTGAGCAGTACTGGTTCGTTGCAAATTTGCCCCACAGAAACTACTCAACGTTCAGGACTGGCAGCACATCTTGAAAGCGCGGCCTCACCAGACGGTTGTGTGCGCAGGAATAAAAGTAGTTGATTATTACGTGTTAATTCGGGTGAAACTAAATATGATTCTAAACTCTGTCGCCAACGTGAAAGCCTAAGCCTCGGTACCTAATTAGAGCAGTCATGAGCATATAAATCAGTAATCAGTCGTACCGTGCGGGCCCATGATGGGACTCTGGCAATTCGCTCTCGACAAAGGCCCGGAATCGTTCAGGTTTCTAGCCTTCGTTACTCGTGGGACATCGCCACAGCCGTCGGTACAGCGTAACTCCATAGATGATGAGTCAAGATTGGTATCGGTTCCCTTTGATAAGACTAGACACGCTCCTCTTACTATTTTGTAATAAGCATCCTGCGAGCACAATTGTGCGGTGAAAATTGGTCTTGGGATGACGGACAACATTAATGCTAAACGCTTGGGCAAATGTAAGGCGCTGGAAATACTGACTTGGGCTTCGCACAACACGGGACCGTCTGACTCAGGGCAAAAAGCATCAATTGGTACGCGATGTCCATGCTCCACGAGAGGTACCAGCTGGCAGTCCCAGCTCAAATCAGCAGCCACTGGTTCTTTTATAACATCACATGATAACGAGGTCGCACACACCATTGTAATACTCTAAAGTCTCCTATTGGCCAGCCGCCAGTCCTCGGTGGCATGGAAGAATGGACACGTGATGGTCATGTTTGCCGACCGGCCTCGGAGTATATGCTTTTGTGTTCCCCAGTTGGGCCAAACTTCCAACGGGGACAGTCTTGAAAGGTTTACCGAACTCGTCGTTCAACAGAACATAACTCTCACCAAAGGAAGCAGAATAACGAATAGATCGTAAGTGAGAATATAGGTTCTTGAACGACCCAAGGCCCGTGCATATAGCTCGCAGAGGCTGCGCGAAAAACGTCCCCTTTCCAGAATACGAGCTATTCAGTACTACGGGAAACGAGATCCAGATCATACTATCCCGGCATTACGGTACCTCATATATGCTTAGTCCAGTTGATATTGCCAATTGGCTACGAGCTCCCTTCTATGGTACTGCACTCAGCTACGTATTTCAAAGATGCTGCCCCGGATCCCAAGTAGCATGGGTGCAAGGACCAGGGTCTGTTCGATTTCTTCTGCTTATCAACTGCCCGTTCTTCATTTCCTCGCTATTTCGTTTTTATTAACCGAACGCTTTGACAAGCTTGGGGAACTACGCTGTTCTTGATTCAAGTAGTTAGCGGAGATTTAAGACAACACTTAGGGTGGCGGACCTCCCAGGTTACAACGCAGAAAAGCGCTCCATCATCTTCCTGGTTACAACTGAGCGGACTTTTCCCCTACCTAATTCGCTATTCTGTGGAAGCCTTCATATTCGGCTCCTTAACTCCATGAGCGGATTCATCAATGTACAAATAGACATAACTGATGTTACGCAATATTGATTCACTGTGCCATTTTATAGGTGATCGATTGCCCCTCCCCGCGAGGTGCATCCCCGGGGAACTGGGTATTGCAGGGTTGATCAAGAGCGGTTCGACACCCGTGAAATCTGATATCTACATTTATAATCTAAAACCACAAAGTGCAAACTATGGTTCCTCGAACTGCTTCTCCCAAGTCTTATGACGACCCCGTGCCCGTAAGAACTACATAAGTATTGAGACCCGTAAGACCAGGTTGCTTTATCCGTAAGGGTTTGCTGGTTGCCTCACGAGGACTAAATGAGAATGCGATCA\t59\tPASS\tPRECISE;SVTYPE=INS;SVLEN=2445;END=194653;SUPPORT=115;COVERAGE=139,92,92,92,119;STRAND=+;AC=2;STDEV_LEN=0;STDEV_POS=0;SUPP_VEC=01000\tGT:GQ:DR:DV:ID\t0/0:0:129:0:NULL\t1/1:60:0:115:Sniffles2.INS.5S0\t0/0:0:139:0:NULL\t0/0:0:125:0:NULL\t0/0:0:110:0:NULL\n",
      "Reference\t195333\tSniffles2.DEL.47M0\tN\t<DEL>\t59\tPASS\tPRECISE;SVTYPE=DEL;SVLEN=-720332;END=915665;SUPPORT=74;COVERAGE=121,49,0,110,132;STRAND=+;AC=2;STDEV_LEN=0;STDEV_POS=0;SUPP_VEC=00010\tGT:GQ:DR:DV:ID\t0/0:0:132:0:NULL\t0/0:0:103:0:NULL\t0/0:0:142:0:NULL\t1/1:60:6:74:Sniffles2.DEL.ECS0\t0/0:0:119:0:NULL\n"
     ]
    }
   ],
   "source": [
    "head -n 100 multisample.vcf | tail -n 5"
   ]
  },
  {
   "cell_type": "code",
   "execution_count": null,
   "id": "ffc62089-9c60-4161-8a1e-f26e7ecaea00",
   "metadata": {},
   "outputs": [],
   "source": []
  }
 ],
 "metadata": {
  "kernelspec": {
   "display_name": "Bash",
   "language": "bash",
   "name": "bash"
  },
  "language_info": {
   "codemirror_mode": "shell",
   "file_extension": ".sh",
   "mimetype": "text/x-sh",
   "name": "bash"
  }
 },
 "nbformat": 4,
 "nbformat_minor": 5
}
