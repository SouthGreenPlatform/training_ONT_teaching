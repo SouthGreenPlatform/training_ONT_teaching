{
 "cells": [
  {
   "cell_type": "markdown",
   "id": "2f09a11c",
   "metadata": {},
   "source": [
    "# Formation South Green 2021  \n",
    "\n",
    "##  Initiation à l’analyse de données Minion\n",
    "\n",
    "### PART 4\n",
    "\n",
    "Created by J. Orjuela (DIADE-IRD), F. Sabot (DIADE-IRD) and G. Sarah (AGAP-INRAE)\n",
    "\n",
    "Adapted from C. Tranchant et F. Sabot (Training transmiting science 2021)\n",
    "\n",
    "Septembre 2021"
   ]
  },
  {
   "cell_type": "markdown",
   "id": "3d07c5cc",
   "metadata": {
    "tags": []
   },
   "source": [
    "# 1. Structural variation with Sniffles\n",
    "\n",
    "Sniffles is a structural variation caller using third generation sequencing (PacBio or Oxford Nanopore).\n",
    "\n",
    "It detects all types of SVs (10bp+) using evidence from split-read alignments, high-mismatch regions, and coverage analysis."
   ]
  },
  {
   "cell_type": "markdown",
   "id": "f8c89ab9-5da9-4c48-9a20-083bbc3f4760",
   "metadata": {},
   "source": [
    "## Prepare data"
   ]
  },
  {
   "cell_type": "code",
   "execution_count": 1,
   "id": "b761ec9b-645c-4687-8bb7-c6c35bab808a",
   "metadata": {
    "tags": []
   },
   "outputs": [
    {
     "name": "stdout",
     "output_type": "stream",
     "text": [
      "--2021-09-27 16:10:54--  https://itrop.ird.fr/ont-training/all_clones_short.tar.gz\n",
      "Resolving itrop.ird.fr (itrop.ird.fr)... 91.203.35.184\n",
      "Connecting to itrop.ird.fr (itrop.ird.fr)|91.203.35.184|:443... connected.\n",
      "HTTP request sent, awaiting response... 200 OK\n",
      "Length: 842363643 (803M) [application/x-gzip]\n",
      "Saving to: ‘all_clones_short.tar.gz’\n",
      "\n",
      "all_clones_short.ta 100%[===================>] 803.34M  44.3MB/s    in 17s     \n",
      "\n",
      "2021-09-27 16:11:11 (46.9 MB/s) - ‘all_clones_short.tar.gz’ saved [842363643/842363643]\n",
      "\n",
      "FINISHED --2021-09-27 16:11:11--\n",
      "Total wall clock time: 17s\n",
      "Downloaded: 1 files, 803M in 17s (46.9 MB/s)\n"
     ]
    }
   ],
   "source": [
    "# download  all clones fastq.gz\n",
    "cd ~/SG-ONT-2021/DATA\n",
    "# download your compressed CloneX \n",
    "wget --no-check-certificat -rm -nH --cut-dirs=1 --reject=\"index.html*\" https://itrop.ird.fr/ont-training/all_clones_short.tar.gz"
   ]
  },
  {
   "cell_type": "code",
   "execution_count": 2,
   "id": "9f81243a-b1d1-4f68-9fe3-ceec47a9c13f",
   "metadata": {
    "tags": []
   },
   "outputs": [
    {
     "name": "stdout",
     "output_type": "stream",
     "text": [
      "all_clones_short/\n",
      "all_clones_short/Clone2.fastq.gz\n",
      "all_clones_short/Clone6.fastq.gz\n",
      "all_clones_short/Clone10.fastq.gz\n",
      "all_clones_short/Clone15.fastq.gz\n",
      "all_clones_short/Clone18.fastq.gz\n"
     ]
    }
   ],
   "source": [
    "#decompress it\n",
    "cd ~/SG-ONT-2021/DATA\n",
    "tar zxvf all_clones_short.tar.gz"
   ]
  },
  {
   "cell_type": "code",
   "execution_count": 21,
   "id": "13474807-c0f2-4d71-ac85-aae834302073",
   "metadata": {},
   "outputs": [],
   "source": [
    "# create SNIFFLES folder\n",
    "mkdir -p ~/SG-ONT-2021/RESULTS/SNIFFLES/\n",
    "cd  ~/SG-ONT-2021/RESULTS/SNIFFLES/\n",
    "\n",
    "# declare your Clone\n",
    "CLONE=\"Clone10\"\n",
    "\n",
    "# symbolic links of reference \n",
    "ln -s /home/jovyan/SG-ONT-2021/DATA/${CLONE}/reference.fasta .\n",
    "REF=\"reference.fasta\""
   ]
  },
  {
   "cell_type": "code",
   "execution_count": 22,
   "id": "e8800be2-1812-43b9-9e43-77aaadbbed3a",
   "metadata": {},
   "outputs": [
    {
     "name": "stdout",
     "output_type": "stream",
     "text": [
      "Clone10.fastq.gz  Clone18.fastq.gz  Clone6.fastq.gz\n",
      "Clone15.fastq.gz  Clone2.fastq.gz\n"
     ]
    }
   ],
   "source": [
    "ls ~/SG-ONT-2021/DATA/all_clones_short/"
   ]
  },
  {
   "cell_type": "markdown",
   "id": "9e172e4a-4c5b-4c84-bdfe-1c13c2d586bd",
   "metadata": {
    "tags": []
   },
   "source": [
    "# 1. Mapping and SV detection for all CLONES"
   ]
  },
  {
   "cell_type": "code",
   "execution_count": 23,
   "id": "0673aa0c-b660-4653-a963-df28df788c6c",
   "metadata": {
    "tags": []
   },
   "outputs": [],
   "source": [
    "# fonction bash \n",
    "run_sniffles () {\n",
    "  CLONE=$1 # this is the first parametter of this fonction\n",
    "  REF=\"reference.fasta\"\n",
    "  ONT=\"/home/jovyan/SG-ONT-2021/DATA/all_clones_short/${CLONE}.fastq.gz\"\n",
    "  ## Mapping using minimap2 : Mapping ONT reads (clone) vs a reference using minimap2 \n",
    "  time minimap2 -t 4 -ax map-ont --MD  -R '@RG\\tID:${CLONE}\\tSM:${CLONE}' ${REF} ${ONT} > ${CLONE}.bam\n",
    "  ## Sort BAM\n",
    "  time samtools sort -@4 -o ${CLONE}_SORTED.bam ${CLONE}.bam\n",
    "  # Obtain calls for a samples\n",
    "  time sniffles -t 4 -s 2 -q 10 -l 10 -r 500 -m ${CLONE}_SORTED.bam -v ${CLONE}_SV.vcf\n",
    "}\n",
    "\n",
    "# -s/--min_support\tMinimum number of reads that support a SV to be reported. Default: 10\n",
    "# -l/--min_length\tMinimum length of SV to be reported. Default: 30bp\n",
    "# -q/--minmapping_qual\tMinimum mapping quality of alignment to be taken into account. Default: 20\n",
    "# -r/--min_seq_size\tDiscard read if non of its segment is larger then this. Default: 2kb"
   ]
  },
  {
   "cell_type": "markdown",
   "id": "25b04776-4eba-45ad-8e19-a75827465cf0",
   "metadata": {},
   "source": [
    "### Obtain calls for each samples"
   ]
  },
  {
   "cell_type": "code",
   "execution_count": 24,
   "id": "ea080741-d309-483d-824b-7ccd75b6ac64",
   "metadata": {
    "tags": []
   },
   "outputs": [
    {
     "name": "stdout",
     "output_type": "stream",
     "text": [
      "\\n\\n============ Clone2==============\\n\n",
      "[M::mm_idx_gen::0.106*0.79] collected minimizers\n",
      "[M::mm_idx_gen::0.138*1.47] sorted minimizers\n",
      "[M::main::0.138*1.46] loaded/built the index for 1 target sequence(s)\n",
      "[M::mm_mapopt_update::0.147*1.44] mid_occ = 10\n",
      "[M::mm_idx_stat] kmer size: 15; skip: 10; is_hpc: 0; #seq: 1\n",
      "[M::mm_idx_stat::0.153*1.42] distinct minimizers: 165344 (91.75% are singletons); average occurrences: 1.156; average spacing: 5.336\n",
      "[M::worker_pipeline::17.883*3.11] mapped 10241 sequences\n",
      "[M::main] Version: 2.17-r941\n",
      "[M::main] CMD: minimap2 -t 4 -ax map-ont --MD -R @RG\\tID:${CLONE}\\tSM:${CLONE} reference.fasta /home/jovyan/SG-ONT-2021/DATA/all_clones_short/Clone2.fastq.gz\n",
      "[M::main] Real time: 17.895 sec; CPU: 55.705 sec; Peak RSS: 0.418 GB\n",
      "\n",
      "real\t0m17.924s\n",
      "user\t0m54.977s\n",
      "sys\t0m0.752s\n",
      "[bam_sort_core] merging from 0 files and 4 in-memory blocks...\n",
      "\n",
      "real\t0m2.975s\n",
      "user\t0m9.459s\n",
      "sys\t0m0.839s\n",
      "Estimating parameter...\n",
      "\tMax dist between aln events: 5\n",
      "\tMax diff in window: 50\n",
      "\tMin score ratio: 2\n",
      "\tAvg DEL ratio: 0.0299483\n",
      "\tAvg INS ratio: 0.0254998\n",
      "Start parsing... Reference\n",
      "Finalizing  ..\n",
      "\n",
      "real\t0m10.464s\n",
      "user\t0m29.573s\n",
      "sys\t0m0.260s\n",
      "\\n\\n============ Clone6==============\\n\n",
      "[M::mm_idx_gen::0.072*1.04] collected minimizers\n",
      "[M::mm_idx_gen::0.101*1.82] sorted minimizers\n",
      "[M::main::0.101*1.82] loaded/built the index for 1 target sequence(s)\n",
      "[M::mm_mapopt_update::0.106*1.78] mid_occ = 10\n",
      "[M::mm_idx_stat] kmer size: 15; skip: 10; is_hpc: 0; #seq: 1\n",
      "[M::mm_idx_stat::0.109*1.75] distinct minimizers: 165344 (91.75% are singletons); average occurrences: 1.156; average spacing: 5.336\n",
      "[M::worker_pipeline::20.131*3.16] mapped 11746 sequences\n",
      "[M::main] Version: 2.17-r941\n",
      "[M::main] CMD: minimap2 -t 4 -ax map-ont --MD -R @RG\\tID:${CLONE}\\tSM:${CLONE} reference.fasta /home/jovyan/SG-ONT-2021/DATA/all_clones_short/Clone6.fastq.gz\n",
      "[M::main] Real time: 20.144 sec; CPU: 63.625 sec; Peak RSS: 0.470 GB\n",
      "\n",
      "real\t0m20.169s\n",
      "user\t1m2.889s\n",
      "sys\t0m0.759s\n",
      "[bam_sort_core] merging from 0 files and 4 in-memory blocks...\n",
      "\n",
      "real\t0m3.307s\n",
      "user\t0m10.425s\n",
      "sys\t0m0.838s\n",
      "Estimating parameter...\n",
      "\tMax dist between aln events: 4\n",
      "\tMax diff in window: 50\n",
      "\tMin score ratio: 2\n",
      "\tAvg DEL ratio: 0.0301874\n",
      "\tAvg INS ratio: 0.0481301\n",
      "Start parsing... Reference\n",
      "Finalizing  ..\n",
      "\n",
      "real\t0m12.560s\n",
      "user\t0m37.935s\n",
      "sys\t0m0.269s\n",
      "\\n\\n============ Clone10==============\\n\n",
      "[M::mm_idx_gen::0.051*1.05] collected minimizers\n",
      "[M::mm_idx_gen::0.086*2.17] sorted minimizers\n",
      "[M::main::0.086*2.17] loaded/built the index for 1 target sequence(s)\n",
      "[M::mm_mapopt_update::0.094*2.06] mid_occ = 10\n",
      "[M::mm_idx_stat] kmer size: 15; skip: 10; is_hpc: 0; #seq: 1\n",
      "[M::mm_idx_stat::0.099*2.01] distinct minimizers: 165344 (91.75% are singletons); average occurrences: 1.156; average spacing: 5.336\n",
      "[M::worker_pipeline::20.913*3.22] mapped 11235 sequences\n",
      "[M::main] Version: 2.17-r941\n",
      "[M::main] CMD: minimap2 -t 4 -ax map-ont --MD -R @RG\\tID:${CLONE}\\tSM:${CLONE} reference.fasta /home/jovyan/SG-ONT-2021/DATA/all_clones_short/Clone10.fastq.gz\n",
      "[M::main] Real time: 20.940 sec; CPU: 67.388 sec; Peak RSS: 0.457 GB\n",
      "\n",
      "real\t0m20.947s\n",
      "user\t1m6.536s\n",
      "sys\t0m0.857s\n",
      "[bam_sort_core] merging from 0 files and 4 in-memory blocks...\n",
      "\n",
      "real\t0m3.438s\n",
      "user\t0m10.718s\n",
      "sys\t0m0.881s\n",
      "Estimating parameter...\n",
      "\tMax dist between aln events: 4\n",
      "\tMax diff in window: 50\n",
      "\tMin score ratio: 2\n",
      "\tAvg DEL ratio: 0.0531733\n",
      "\tAvg INS ratio: 0.0472265\n",
      "Start parsing... Reference\n",
      "\t\t# Processed reads: 10000\n",
      "Finalizing  ..\n",
      "\n",
      "real\t0m13.723s\n",
      "user\t0m39.791s\n",
      "sys\t0m0.306s\n",
      "\\n\\n============ Clone15==============\\n\n",
      "[M::mm_idx_gen::0.072*1.03] collected minimizers\n",
      "[M::mm_idx_gen::0.104*1.89] sorted minimizers\n",
      "[M::main::0.104*1.89] loaded/built the index for 1 target sequence(s)\n",
      "[M::mm_mapopt_update::0.112*1.83] mid_occ = 10\n",
      "[M::mm_idx_stat] kmer size: 15; skip: 10; is_hpc: 0; #seq: 1\n",
      "[M::mm_idx_stat::0.116*1.79] distinct minimizers: 165344 (91.75% are singletons); average occurrences: 1.156; average spacing: 5.336\n",
      "[M::worker_pipeline::28.422*3.40] mapped 11904 sequences\n",
      "[M::main] Version: 2.17-r941\n",
      "[M::main] CMD: minimap2 -t 4 -ax map-ont --MD -R @RG\\tID:${CLONE}\\tSM:${CLONE} reference.fasta /home/jovyan/SG-ONT-2021/DATA/all_clones_short/Clone15.fastq.gz\n",
      "[M::main] Real time: 28.445 sec; CPU: 96.579 sec; Peak RSS: 0.872 GB\n",
      "\n",
      "real\t0m28.452s\n",
      "user\t1m35.673s\n",
      "sys\t0m0.912s\n",
      "[bam_sort_core] merging from 0 files and 4 in-memory blocks...\n",
      "\n",
      "real\t0m3.609s\n",
      "user\t0m11.206s\n",
      "sys\t0m1.070s\n",
      "Estimating parameter...\n",
      "\tMax dist between aln events: 4\n",
      "\tMax diff in window: 50\n",
      "\tMin score ratio: 2\n",
      "\tAvg DEL ratio: 0.0348636\n",
      "\tAvg INS ratio: 0.0707594\n",
      "Start parsing... Reference\n",
      "\t\t# Processed reads: 10000\n",
      "Finalizing  ..\n",
      "\n",
      "real\t0m34.301s\n",
      "user\t1m19.949s\n",
      "sys\t0m0.663s\n",
      "\\n\\n============ Clone18==============\\n\n",
      "[M::mm_idx_gen::0.077*1.04] collected minimizers\n",
      "[M::mm_idx_gen::0.108*1.82] sorted minimizers\n",
      "[M::main::0.109*1.82] loaded/built the index for 1 target sequence(s)\n",
      "[M::mm_mapopt_update::0.116*1.77] mid_occ = 10\n",
      "[M::mm_idx_stat] kmer size: 15; skip: 10; is_hpc: 0; #seq: 1\n",
      "[M::mm_idx_stat::0.121*1.73] distinct minimizers: 165344 (91.75% are singletons); average occurrences: 1.156; average spacing: 5.336\n",
      "[M::worker_pipeline::24.101*3.35] mapped 11288 sequences\n",
      "[M::main] Version: 2.17-r941\n",
      "[M::main] CMD: minimap2 -t 4 -ax map-ont --MD -R @RG\\tID:${CLONE}\\tSM:${CLONE} reference.fasta /home/jovyan/SG-ONT-2021/DATA/all_clones_short/Clone18.fastq.gz\n",
      "[M::main] Real time: 24.119 sec; CPU: 80.796 sec; Peak RSS: 0.667 GB\n",
      "\n",
      "real\t0m24.125s\n",
      "user\t1m20.088s\n",
      "sys\t0m0.712s\n",
      "[bam_sort_core] merging from 0 files and 4 in-memory blocks...\n",
      "\n",
      "real\t0m3.436s\n",
      "user\t0m10.780s\n",
      "sys\t0m0.846s\n",
      "Estimating parameter...\n",
      "\tMax dist between aln events: 4\n",
      "\tMax diff in window: 50\n",
      "\tMin score ratio: 2\n",
      "\tAvg DEL ratio: 0.0525036\n",
      "\tAvg INS ratio: 0.0647361\n",
      "Start parsing... Reference\n",
      "\t\t# Processed reads: 10000\n",
      "Finalizing  ..\n",
      "\n",
      "real\t0m27.445s\n",
      "user\t1m6.837s\n",
      "sys\t0m0.549s\n",
      "\n",
      "real\t0m0.000s\n",
      "user\t0m0.000s\n",
      "sys\t0m0.000s\n"
     ]
    }
   ],
   "source": [
    "for i in {2,6,10,15,18}\n",
    "    do\n",
    "        cd  ~/SG-ONT-2021/RESULTS/SNIFFLES/\n",
    "        echo \"\\n\\n============ Clone${i}==============\\n\";\n",
    "        run_sniffles Clone$i\n",
    "    done\n",
    "time"
   ]
  },
  {
   "cell_type": "markdown",
   "id": "8fb4bc4d-1841-4aa7-906b-b6ad3548e03d",
   "metadata": {},
   "source": [
    "### Count the number of variations"
   ]
  },
  {
   "cell_type": "code",
   "execution_count": 25,
   "id": "367a047d-cef9-487e-b496-be2a76554131",
   "metadata": {},
   "outputs": [
    {
     "name": "stdout",
     "output_type": "stream",
     "text": [
      "Clone2\n",
      "39\n",
      "Clone6\n",
      "43\n",
      "Clone10\n",
      "65\n",
      "Clone15\n",
      "301\n",
      "Clone18\n",
      "225\n"
     ]
    }
   ],
   "source": [
    "for i in {2,6,10,15,18}\n",
    "    do\n",
    "        cd  ~/SG-ONT-2021/RESULTS/SNIFFLES\n",
    "        echo \"Clone${i}\";\n",
    "        grep -v \"#\" Clone${i}_SV.vcf | wc -l\n",
    "    done"
   ]
  },
  {
   "cell_type": "markdown",
   "id": "2eb9c407-7623-4f4d-a301-bdf34359ae58",
   "metadata": {
    "tags": []
   },
   "source": [
    "# 2. Merge all the vcf files across all samples \n"
   ]
  },
  {
   "cell_type": "markdown",
   "id": "6479a06d-7cdc-434f-9397-7df84c57efe3",
   "metadata": {},
   "source": [
    "Check the sniffles website https://github.com/fritzsedlazeck/Sniffles/ an its wiki for more details"
   ]
  },
  {
   "cell_type": "code",
   "execution_count": 26,
   "id": "20b379af-3057-48a2-bcf0-11eead7c2cb7",
   "metadata": {},
   "outputs": [
    {
     "name": "stdout",
     "output_type": "stream",
     "text": [
      "(survivor) (survivor) merging entries: 65\n",
      "merging entries: 301\n",
      "merging entries: 225\n",
      "merging entries: 39\n",
      "merging entries: 43\n",
      "\n",
      "real\t0m0.117s\n",
      "user\t0m0.116s\n",
      "sys\t0m0.001s\n",
      "(survivor) (base) "
     ]
    },
    {
     "ename": "",
     "evalue": "1",
     "output_type": "error",
     "traceback": []
    }
   ],
   "source": [
    "# Put all file paths over all vcf files together\n",
    "ls *SV.vcf > vcf_raw_calls.txt\n",
    "\n",
    "# We call SURVIVOR to merge these into one vcf file\n",
    "conda activate survivor\n",
    "cd ~/SG-ONT-2021/RESULTS/SNIFFLES\n",
    "time SURVIVOR merge vcf_raw_calls.txt 1000 1 1 -1 -1 -1 merged_SURVIVOR_1kDist.vcf\n",
    "conda deactivate"
   ]
  },
  {
   "cell_type": "markdown",
   "id": "e73a58a9-2f58-4574-94a7-9a11fc8b2bca",
   "metadata": {},
   "source": [
    "This will generate one VCF file for all the samples, but we lack the information \n",
    "\n",
    "If a SV identified in one sample but not in the other is really absent."
   ]
  },
  {
   "cell_type": "markdown",
   "id": "54a53b91-1d29-46ae-aa67-3bd13bb490fa",
   "metadata": {},
   "source": [
    "# 3. Force call all the SVs across all the samples\n",
    "\n",
    "Next we run Sniffles again across all the samples similar to this :"
   ]
  },
  {
   "cell_type": "code",
   "execution_count": 27,
   "id": "3ed8841c-ecf1-4fc6-9343-aca1aedb1fca",
   "metadata": {
    "tags": []
   },
   "outputs": [
    {
     "name": "stdout",
     "output_type": "stream",
     "text": [
      "(base) \n",
      "========== REMapping Clone2======== \n",
      "\n",
      "Automatically enabling genotype mode\n",
      "Force calling SVs\n",
      "Estimating parameter...\n",
      "\tMax dist between aln events: 5\n",
      "\tMax diff in window: 50\n",
      "\tMin score ratio: 2\n",
      "\tAvg DEL ratio: 0.0299483\n",
      "\tAvg INS ratio: 0.0254998\n",
      "Construct Tree...\n",
      "\t\t594 SVs found in input.\n",
      "\tInvalid types found skipping 0 entries.\n",
      "Start parsing: Chr Reference\n",
      "Segmentation fault\n",
      "\n",
      "========== REMapping Clone6======== \n",
      "\n",
      "Automatically enabling genotype mode\n",
      "Force calling SVs\n",
      "Estimating parameter...\n",
      "\tMax dist between aln events: 4\n",
      "\tMax diff in window: 50\n",
      "\tMin score ratio: 2\n",
      "\tAvg DEL ratio: 0.0301874\n",
      "\tAvg INS ratio: 0.0481301\n",
      "Construct Tree...\n",
      "\t\t594 SVs found in input.\n",
      "\tInvalid types found skipping 0 entries.\n",
      "Start parsing: Chr Reference\n",
      "Segmentation fault\n",
      "\n",
      "========== REMapping Clone10======== \n",
      "\n",
      "Automatically enabling genotype mode\n",
      "Force calling SVs\n",
      "Estimating parameter...\n",
      "\tMax dist between aln events: 4\n",
      "\tMax diff in window: 50\n",
      "\tMin score ratio: 2\n",
      "\tAvg DEL ratio: 0.0531733\n",
      "\tAvg INS ratio: 0.0472265\n",
      "Construct Tree...\n",
      "\t\t594 SVs found in input.\n",
      "\tInvalid types found skipping 0 entries.\n",
      "Start parsing: Chr Reference\n",
      "Segmentation fault\n",
      "\n",
      "========== REMapping Clone15======== \n",
      "\n",
      "Automatically enabling genotype mode\n",
      "Force calling SVs\n",
      "Estimating parameter...\n",
      "\tMax dist between aln events: 4\n",
      "\tMax diff in window: 50\n",
      "\tMin score ratio: 2\n",
      "\tAvg DEL ratio: 0.0348636\n",
      "\tAvg INS ratio: 0.0707594\n",
      "Construct Tree...\n",
      "\t\t594 SVs found in input.\n",
      "\tInvalid types found skipping 0 entries.\n",
      "Start parsing: Chr Reference\n",
      "Segmentation fault\n",
      "\n",
      "========== REMapping Clone18======== \n",
      "\n",
      "Automatically enabling genotype mode\n",
      "Force calling SVs\n",
      "Estimating parameter...\n",
      "\tMax dist between aln events: 4\n",
      "\tMax diff in window: 50\n",
      "\tMin score ratio: 2\n",
      "\tAvg DEL ratio: 0.0525036\n",
      "\tAvg INS ratio: 0.0647361\n",
      "Construct Tree...\n",
      "\t\t594 SVs found in input.\n",
      "\tInvalid types found skipping 0 entries.\n",
      "Start parsing: Chr Reference\n",
      "Segmentation fault\n",
      "(base) "
     ]
    },
    {
     "ename": "",
     "evalue": "1",
     "output_type": "error",
     "traceback": []
    }
   ],
   "source": [
    "cd  ~/SG-ONT-2021/RESULTS/SNIFFLES/\n",
    "for i in {2,6,10,15,18}\n",
    "    do\n",
    "        echo -e \"\\n========== REMapping Clone$i======== \\n\";\n",
    "        sniffles -t 8 -s 2 -q 10 -l 10 -r 500 -m Clone${i}_SORTED.bam -v Clone${i}_SV.gt.vcf --Ivcf merged_SURVIVOR_1kDist.vcf\n",
    "    done\n"
   ]
  },
  {
   "cell_type": "markdown",
   "id": "4d5da771-38eb-4ab7-a7df-68e92fcff80b",
   "metadata": {},
   "source": [
    "The previous command might have triggered a segmentation fault\n",
    "You can download the results with the following command:"
   ]
  },
  {
   "cell_type": "code",
   "execution_count": 28,
   "id": "b0458adb-14aa-4b5a-a3ad-e0bc250261ab",
   "metadata": {},
   "outputs": [
    {
     "name": "stdout",
     "output_type": "stream",
     "text": [
      "--2021-09-28 09:43:07--  https://itrop.ird.fr/ont-training/SNIFFLES.tar.gz\n",
      "Resolving itrop.ird.fr (itrop.ird.fr)... 91.203.35.184\n",
      "Connecting to itrop.ird.fr (itrop.ird.fr)|91.203.35.184|:443... connected.\n",
      "HTTP request sent, awaiting response... 200 OK\n",
      "Length: 2014301697 (1.9G) [application/x-gzip]\n",
      "Saving to: ‘SNIFFLES.tar.gz’\n",
      "\n",
      "SNIFFLES.tar.gz     100%[===================>]   1.88G  58.8MB/s    in 36s     \n",
      "\n",
      "2021-09-28 09:43:43 (52.7 MB/s) - ‘SNIFFLES.tar.gz’ saved [2014301697/2014301697]\n",
      "\n",
      "FINISHED --2021-09-28 09:43:43--\n",
      "Total wall clock time: 37s\n",
      "Downloaded: 1 files, 1.9G in 36s (52.7 MB/s)\n",
      "(base) (base) "
     ]
    },
    {
     "ename": "",
     "evalue": "1",
     "output_type": "error",
     "traceback": []
    }
   ],
   "source": [
    "wget --no-check-certificat -rm -nH --cut-dirs=1 --reject=\"index.html*\" https://itrop.ird.fr/ont-training/SNIFFLES.tar.gz\n",
    "tar -xzf SNIFFLES.tar.gz"
   ]
  },
  {
   "cell_type": "code",
   "execution_count": null,
   "id": "83daea67-7430-47df-ba3b-50fa770fc4f4",
   "metadata": {},
   "outputs": [],
   "source": [
    "#Put all file paths over all new vcf files together\n",
    "cd  ~/SG-ONT-2021/RESULTS/SNIFFLES/SNIFFLES\n",
    "ls *SV.gt.vcf > vcf_gt_calls.txt\n",
    "\n",
    "# relauch survivor to merge vcf again and finally obtain now a fully genotyped multisample vcf\n",
    "conda activate survivor\n",
    "SURVIVOR merge vcf_gt_calls.txt 1000 1 1 -1 -1 -1 merged_gt_SURVIVOR_1kDist.vcf\n",
    "conda deactivate\n",
    "\n",
    "# The -1 for the minimum SV caller is necessary to obtain all calls even if they might be 0/0 in all samples."
   ]
  },
  {
   "cell_type": "markdown",
   "id": "2c885731-9eea-4e20-8e41-643f766637b0",
   "metadata": {
    "tags": []
   },
   "source": [
    "# Have a look on the VCF file"
   ]
  },
  {
   "cell_type": "code",
   "execution_count": null,
   "id": "b1deb0bb-3b0d-44b3-9428-d9a78632b30d",
   "metadata": {},
   "outputs": [],
   "source": [
    "head -n 100 merged_gt_SURVIVOR_1kDist.vcf | tail -n 5"
   ]
  },
  {
   "cell_type": "markdown",
   "id": "795c7bdb-dfd3-4fb0-9f4e-452a8f3c6bca",
   "metadata": {},
   "source": [
    "Now, you can plotting proportion of SV in all sample for VCF for example"
   ]
  }
 ],
 "metadata": {
  "kernelspec": {
   "display_name": "Bash",
   "language": "bash",
   "name": "bash"
  },
  "language_info": {
   "codemirror_mode": "shell",
   "file_extension": ".sh",
   "mimetype": "text/x-sh",
   "name": "bash"
  }
 },
 "nbformat": 4,
 "nbformat_minor": 5
}
