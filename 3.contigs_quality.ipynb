{
 "cells": [
  {
   "cell_type": "markdown",
   "id": "2f09a11c",
   "metadata": {},
   "source": [
    "# Formation South Green 2021  \n",
    "\n",
    "##  Initiation à l’analyse de données Minion\n",
    "\n",
    "### PART 3\n",
    "\n",
    "Created by J. Orjuela (DIADE-IRD), F. Sabot (DIADE-IRD) and G. Sarah (AGAP-INRAE)\n",
    "\n",
    "Septembre 2021"
   ]
  },
  {
   "cell_type": "markdown",
   "id": "3d07c5cc",
   "metadata": {
    "tags": []
   },
   "source": [
    "# 1. Perform a comparison of assemblies using QUAST"
   ]
  },
  {
   "cell_type": "markdown",
   "id": "93831a0f",
   "metadata": {},
   "source": [
    "The metrics of assemblies can be evaluated using a quality assessment tool such as [QUAST](http://quast.bioinf.spbau.ru/manual.html).\n",
    "\n",
    "In part 2, we have assembled raw data using various assemblers and also polished and corrected it. \n",
    "\n",
    "Aggregate all assemblies you have produced for your favorite clone in a new folder named \"AGGREGATED\".\n",
    "\n",
    "We're going to compare it with QUAST."
   ]
  },
  {
   "cell_type": "code",
   "execution_count": 1,
   "id": "7c1d8478-a12c-46f9-bf0b-f5af405e21ee",
   "metadata": {},
   "outputs": [
    {
     "name": "stdout",
     "output_type": "stream",
     "text": [
      "(quast) "
     ]
    },
    {
     "ename": "",
     "evalue": "1",
     "output_type": "error",
     "traceback": []
    }
   ],
   "source": [
    "# active quast env\n",
    "conda activate quast"
   ]
  },
  {
   "cell_type": "code",
   "execution_count": 2,
   "id": "04d7cfe2",
   "metadata": {},
   "outputs": [
    {
     "name": "stdout",
     "output_type": "stream",
     "text": [
      "(quast) (quast) (quast) (quast) (quast) (quast) (quast) total 0\n",
      "lrwxrwxrwx 1 jovyan users 52 Sep 27 14:09 Clone20_FLYE.fasta -> /home/jovyan/SG-ONT-2021/RESULTS/FLYE/assembly.fasta\n",
      "lrwxrwxrwx 1 jovyan users 65 Sep 27 14:09 Clone20_FLYE_RACONx2.fasta -> /home/jovyan/SG-ONT-2021/RESULTS/FLYE_RACON/assembly.racon2.fasta\n",
      "lrwxrwxrwx 1 jovyan users 83 Sep 27 14:09 Clone20_FLYE_RACONx2_MEDAKA.fasta -> /home/jovyan/SG-ONT-2021/RESULTS/FLYE_RACON_MEDAKA/MEDAKA_CONSENSUS/consensus.fasta\n",
      "(quast) "
     ]
    },
    {
     "ename": "",
     "evalue": "1",
     "output_type": "error",
     "traceback": []
    }
   ],
   "source": [
    "CLONE=Clone20\n",
    "cd ~/SG-ONT-2021/RESULTS\n",
    "mkdir -p ~/SG-ONT-2021/RESULTS/AGGREGATED\n",
    "cd ~/SG-ONT-2021/RESULTS/AGGREGATED\n",
    "ln -s ~/SG-ONT-2021/RESULTS/FLYE/assembly.fasta ${CLONE}_FLYE.fasta\n",
    "ln -s ~/SG-ONT-2021/RESULTS/FLYE_RACON/assembly.racon2.fasta ${CLONE}_FLYE_RACONx2.fasta\n",
    "ln -s ~/SG-ONT-2021/RESULTS/FLYE_RACON_MEDAKA/MEDAKA_CONSENSUS/consensus.fasta ${CLONE}_FLYE_RACONx2_MEDAKA.fasta\n",
    "ls -l ~/SG-ONT-2021/RESULTS/AGGREGATED"
   ]
  },
  {
   "cell_type": "markdown",
   "id": "06f4ab95-999b-4de2-b628-43427ccf4452",
   "metadata": {},
   "source": [
    "#### Do similar symbolic links to RAVEN results and check your folder"
   ]
  },
  {
   "cell_type": "markdown",
   "id": "a0ff6d3b",
   "metadata": {},
   "source": [
    "## 1.1  Run QUAST on CLONE assemblies and compare them"
   ]
  },
  {
   "cell_type": "code",
   "execution_count": 3,
   "id": "36fcf4f3",
   "metadata": {
    "tags": []
   },
   "outputs": [
    {
     "name": "stdout",
     "output_type": "stream",
     "text": [
      "(quast) /opt/conda/envs/quast/bin/quast.py Clone20_FLYE.fasta Clone20_FLYE_RACONx2.fasta Clone20_FLYE_RACONx2_MEDAKA.fasta -o QUAST\n",
      "\n",
      "Version: 5.0.2\n",
      "\n",
      "System information:\n",
      "  OS: Linux-4.19.0-16-cloud-amd64-x86_64-with-debian-bullseye-sid (linux_64)\n",
      "  Python version: 3.7.10\n",
      "  CPUs number: 8\n",
      "\n",
      "Started: 2021-09-27 14:10:03\n",
      "\n",
      "Logging to /home/jovyan/SG-ONT-2021/RESULTS/AGGREGATED/QUAST/quast.log\n",
      "NOTICE: Maximum number of threads is set to 2 (use --threads option to set it manually)\n",
      "\n",
      "CWD: /home/jovyan/SG-ONT-2021/RESULTS/AGGREGATED\n",
      "Main parameters: \n",
      "  MODE: default, threads: 2, minimum contig length: 500, minimum alignment length: 65, \\\n",
      "  ambiguity: one, threshold for extensive misassembly size: 1000\n",
      "\n",
      "Contigs:\n",
      "  Pre-processing...\n",
      "  1  Clone20_FLYE.fasta ==> Clone20_FLYE\n",
      "  2  Clone20_FLYE_RACONx2.fasta ==> Clone20_FLYE_RACONx2\n",
      "  3  Clone20_FLYE_RACONx2_MEDAKA.fasta ==> Clone20_FLYE_RACONx2_MEDAKA\n",
      "\n",
      "2021-09-27 14:10:04\n",
      "Running Basic statistics processor...\n",
      "  Contig files: \n",
      "    1  Clone20_FLYE\n",
      "    2  Clone20_FLYE_RACONx2\n",
      "    3  Clone20_FLYE_RACONx2_MEDAKA\n",
      "  Calculating N50 and L50...\n",
      "    1  Clone20_FLYE, N50 = 1105458, L50 = 1, Total length = 1232689, GC % = 45.99, # N's per 100 kbp =  0.00\n",
      "    2  Clone20_FLYE_RACONx2, N50 = 1099516, L50 = 1, Total length = 1225245, GC % = 46.09, # N's per 100 kbp =  0.00\n",
      "    3  Clone20_FLYE_RACONx2_MEDAKA, N50 = 1105236, L50 = 1, Total length = 1232089, GC % = 46.16, # N's per 100 kbp =  0.00\n",
      "  Drawing Nx plot...\n",
      "    saved to /home/jovyan/SG-ONT-2021/RESULTS/AGGREGATED/QUAST/basic_stats/Nx_plot.pdf\n",
      "  Drawing cumulative plot...\n",
      "    saved to /home/jovyan/SG-ONT-2021/RESULTS/AGGREGATED/QUAST/basic_stats/cumulative_plot.pdf\n",
      "  Drawing GC content plot...\n",
      "    saved to /home/jovyan/SG-ONT-2021/RESULTS/AGGREGATED/QUAST/basic_stats/GC_content_plot.pdf\n",
      "  Drawing Clone20_FLYE GC content plot...\n",
      "    saved to /home/jovyan/SG-ONT-2021/RESULTS/AGGREGATED/QUAST/basic_stats/Clone20_FLYE_GC_content_plot.pdf\n",
      "  Drawing Clone20_FLYE_RACONx2 GC content plot...\n",
      "    saved to /home/jovyan/SG-ONT-2021/RESULTS/AGGREGATED/QUAST/basic_stats/Clone20_FLYE_RACONx2_GC_content_plot.pdf\n",
      "  Drawing Clone20_FLYE_RACONx2_MEDAKA GC content plot...\n",
      "    saved to /home/jovyan/SG-ONT-2021/RESULTS/AGGREGATED/QUAST/basic_stats/Clone20_FLYE_RACONx2_MEDAKA_GC_content_plot.pdf\n",
      "Done.\n",
      "\n",
      "NOTICE: Genes are not predicted by default. Use --gene-finding or --glimmer option to enable it.\n",
      "\n",
      "2021-09-27 14:10:06\n",
      "Creating large visual summaries...\n",
      "This may take a while: press Ctrl-C to skip this step..\n",
      "  1 of 2: Creating Icarus viewers...\n",
      "  2 of 2: Creating PDF with all tables and plots...\n",
      "Done\n",
      "\n",
      "2021-09-27 14:10:07\n",
      "RESULTS:\n",
      "  Text versions of total report are saved to /home/jovyan/SG-ONT-2021/RESULTS/AGGREGATED/QUAST/report.txt, report.tsv, and report.tex\n",
      "  Text versions of transposed total report are saved to /home/jovyan/SG-ONT-2021/RESULTS/AGGREGATED/QUAST/transposed_report.txt, transposed_report.tsv, and transposed_report.tex\n",
      "  HTML version (interactive tables and plots) is saved to /home/jovyan/SG-ONT-2021/RESULTS/AGGREGATED/QUAST/report.html\n",
      "  PDF version (tables and plots) is saved to /home/jovyan/SG-ONT-2021/RESULTS/AGGREGATED/QUAST/report.pdf\n",
      "  Icarus (contig browser) is saved to /home/jovyan/SG-ONT-2021/RESULTS/AGGREGATED/QUAST/icarus.html\n",
      "  Log is saved to /home/jovyan/SG-ONT-2021/RESULTS/AGGREGATED/QUAST/quast.log\n",
      "\n",
      "Finished: 2021-09-27 14:10:07\n",
      "Elapsed time: 0:00:03.875159\n",
      "NOTICEs: 2; WARNINGs: 0; non-fatal ERRORs: 0\n",
      "\n",
      "Thank you for using QUAST!\n",
      "(quast) "
     ]
    },
    {
     "ename": "",
     "evalue": "1",
     "output_type": "error",
     "traceback": []
    }
   ],
   "source": [
    "cd ~/SG-ONT-2021/RESULTS/AGGREGATED/\n",
    "quast.py *.fasta -o QUAST"
   ]
  },
  {
   "cell_type": "markdown",
   "id": "7bacaea0",
   "metadata": {},
   "source": [
    "#### Go to the QUAST directory and check the file content.\n",
    "\n",
    "#### Looking at the output statistics, what are the main differences between the assemblies?\n",
    "\n",
    "#### Look total sizes, number of contigs, N50 statistics.\n",
    "\n",
    "#### For your favorite clone what is the best one ?"
   ]
  },
  {
   "cell_type": "markdown",
   "id": "17cd9fc8",
   "metadata": {},
   "source": [
    "## 1.2  Comparison of the assemblies against the reference genome of closely organism (REAL DATA !)"
   ]
  },
  {
   "cell_type": "markdown",
   "id": "3eb7ccc0",
   "metadata": {},
   "source": [
    "It's possible to compare assemblies against the reference genome of closely related organism. \n",
    "\n",
    "In our case we will use the real dataset Hh. \n",
    "\n",
    "Previously calculated assemblies for Hh can be found in DATA/real_Hh/Hh-ASSEMBLIES (used CulebrONT)"
   ]
  },
  {
   "cell_type": "code",
   "execution_count": 4,
   "id": "e0bed810-54cb-470d-8258-e9b73b129003",
   "metadata": {
    "tags": []
   },
   "outputs": [
    {
     "name": "stdout",
     "output_type": "stream",
     "text": [
      "total 763M\n",
      "-rw-r----- 1 jovyan users 2.6M Sep 13 09:14 CANU-STEP_ASSEMBLY-CIRCULARISED.fasta\n",
      "-rw-r----- 1 jovyan users 1.1K Sep 13 09:14 CANU-STEP_ASSEMBLY-CIRCULARISED.fasta.fai\n",
      "-rw-r----- 1 jovyan users 8.7M Sep 13 09:14 CANU-STEP_ASSEMBLY-CIRCULARISED.fasta.mmi\n",
      "-rw-r----- 1 jovyan users 2.6M Sep 13 09:14 CANU-STEP_CORRECTION_MEDAKA_STARTFIXED-CIRCULARISED.fasta\n",
      "-rw-r----- 1 jovyan users 1.1K Sep 13 09:14 CANU-STEP_CORRECTION_MEDAKA_STARTFIXED-CIRCULARISED.fasta.fai\n",
      "-rw-r----- 1 jovyan users 8.7M Sep 13 09:14 CANU-STEP_CORRECTION_MEDAKA_STARTFIXED-CIRCULARISED.fasta.mmi\n",
      "-rw-r----- 1 jovyan users 2.6M Sep 13 09:14 CANU-STEP_POLISHING_RACON-CIRCULARISED.fasta\n",
      "-rw-r----- 1 jovyan users 1.3K Sep 13 09:14 CANU-STEP_POLISHING_RACON-CIRCULARISED.fasta.fai\n",
      "-rw-r----- 1 jovyan users 8.7M Sep 13 09:14 CANU-STEP_POLISHING_RACON-CIRCULARISED.fasta.mmi\n",
      "-rw-r----- 1 jovyan users 2.2M Sep 13 09:14 FLYE-STEP_ASSEMBLY-CIRCULARISED.fasta\n",
      "-rw-r----- 1 jovyan users  200 Sep 13 09:14 FLYE-STEP_ASSEMBLY-CIRCULARISED.fasta.fai\n",
      "-rw-r----- 1 jovyan users 7.4M Sep 13 09:14 FLYE-STEP_ASSEMBLY-CIRCULARISED.fasta.mmi\n",
      "-rw-r----- 1 jovyan users 2.2M Sep 13 09:14 FLYE-STEP_CORRECTION_MEDAKA_STARTFIXED-CIRCULARISED.fasta\n",
      "-rw-r----- 1 jovyan users  313 Sep 13 09:14 FLYE-STEP_CORRECTION_MEDAKA_STARTFIXED-CIRCULARISED.fasta.fai\n",
      "-rw-r----- 1 jovyan users 7.4M Sep 13 09:14 FLYE-STEP_CORRECTION_MEDAKA_STARTFIXED-CIRCULARISED.fasta.mmi\n",
      "-rw-r----- 1 jovyan users 2.1M Sep 13 09:14 FLYE-STEP_POLISHING_RACON-CIRCULARISED.fasta\n",
      "-rw-r----- 1 jovyan users  358 Sep 13 09:14 FLYE-STEP_POLISHING_RACON-CIRCULARISED.fasta.fai\n",
      "-rw-r----- 1 jovyan users 7.4M Sep 13 09:14 FLYE-STEP_POLISHING_RACON-CIRCULARISED.fasta.mmi\n",
      "-rw-r----- 1 jovyan users  12M Sep 13 09:14 MINIASM-STEP_ASSEMBLY-CIRCULARISED.fasta\n",
      "-rw-r----- 1 jovyan users 3.0K Sep 13 09:14 MINIASM-STEP_ASSEMBLY-CIRCULARISED.fasta.fai\n",
      "-rw-r----- 1 jovyan users  41M Sep 13 09:14 MINIASM-STEP_ASSEMBLY-CIRCULARISED.fasta.mmi\n",
      "-rw-r----- 1 jovyan users  12M Sep 13 09:14 MINIASM-STEP_CORRECTION_MEDAKA_STARTFIXED-CIRCULARISED.fasta\n",
      "-rw-r----- 1 jovyan users 3.0K Sep 13 09:14 MINIASM-STEP_CORRECTION_MEDAKA_STARTFIXED-CIRCULARISED.fasta.fai\n",
      "-rw-r----- 1 jovyan users  41M Sep 13 09:14 MINIASM-STEP_CORRECTION_MEDAKA_STARTFIXED-CIRCULARISED.fasta.mmi\n",
      "-rw-r----- 1 jovyan users  12M Sep 13 09:14 MINIASM-STEP_POLISHING_RACON-CIRCULARISED.fasta\n",
      "-rw-r----- 1 jovyan users 3.0K Sep 13 09:14 MINIASM-STEP_POLISHING_RACON-CIRCULARISED.fasta.fai\n",
      "-rw-r----- 1 jovyan users  41M Sep 13 09:14 MINIASM-STEP_POLISHING_RACON-CIRCULARISED.fasta.mmi\n",
      "-rw-r----- 1 jovyan users  11M Sep 13 09:14 RAVEN-STEP_ASSEMBLY-CIRCULARISED.fasta\n",
      "-rw-r----- 1 jovyan users 2.4K Sep 13 09:14 RAVEN-STEP_ASSEMBLY-CIRCULARISED.fasta.fai\n",
      "-rw-r----- 1 jovyan users  38M Sep 13 09:14 RAVEN-STEP_ASSEMBLY-CIRCULARISED.fasta.mmi\n",
      "-rw-r----- 1 jovyan users  12M Sep 13 09:14 RAVEN-STEP_CORRECTION_MEDAKA_STARTFIXED-CIRCULARISED.fasta\n",
      "-rw-r----- 1 jovyan users 1.9K Sep 13 09:14 RAVEN-STEP_CORRECTION_MEDAKA_STARTFIXED-CIRCULARISED.fasta.fai\n",
      "-rw-r----- 1 jovyan users  38M Sep 13 09:14 RAVEN-STEP_CORRECTION_MEDAKA_STARTFIXED-CIRCULARISED.fasta.mmi\n",
      "-rw-r----- 1 jovyan users  11M Sep 13 09:14 RAVEN-STEP_POLISHING_RACON-CIRCULARISED.fasta\n",
      "-rw-r----- 1 jovyan users 2.4K Sep 13 09:14 RAVEN-STEP_POLISHING_RACON-CIRCULARISED.fasta.fai\n",
      "-rw-r----- 1 jovyan users  38M Sep 13 09:14 RAVEN-STEP_POLISHING_RACON-CIRCULARISED.fasta.mmi\n",
      "-rw-r----- 1 jovyan users  20M Sep 13 09:14 SHASTA-STEP_ASSEMBLY-CIRCULARISED.fasta\n",
      "-rw-r----- 1 jovyan users 171K Sep 13 09:14 SHASTA-STEP_ASSEMBLY-CIRCULARISED.fasta.fai\n",
      "-rw-r----- 1 jovyan users  63M Sep 13 09:14 SHASTA-STEP_ASSEMBLY-CIRCULARISED.fasta.mmi\n",
      "-rw-r----- 1 jovyan users  15M Sep 13 09:14 SHASTA-STEP_CORRECTION_MEDAKA_STARTFIXED-CIRCULARISED.fasta\n",
      "-rw-r----- 1 jovyan users  32K Sep 13 09:14 SHASTA-STEP_CORRECTION_MEDAKA_STARTFIXED-CIRCULARISED.fasta.fai\n",
      "-rw-r----- 1 jovyan users  49M Sep 13 09:14 SHASTA-STEP_CORRECTION_MEDAKA_STARTFIXED-CIRCULARISED.fasta.mmi\n",
      "-rw-r----- 1 jovyan users  15M Sep 13 09:14 SHASTA-STEP_POLISHING_RACON-CIRCULARISED.fasta\n",
      "-rw-r----- 1 jovyan users  38K Sep 13 09:14 SHASTA-STEP_POLISHING_RACON-CIRCULARISED.fasta.fai\n",
      "-rw-r----- 1 jovyan users  49M Sep 13 09:14 SHASTA-STEP_POLISHING_RACON-CIRCULARISED.fasta.mmi\n",
      "-rw-r----- 1 jovyan users  15M Sep 13 09:14 SMARTDENOVO-STEP_ASSEMBLY-CIRCULARISED.fasta\n",
      "-rw-r----- 1 jovyan users 2.9K Sep 13 09:14 SMARTDENOVO-STEP_ASSEMBLY-CIRCULARISED.fasta.fai\n",
      "-rw-r----- 1 jovyan users  50M Sep 13 09:14 SMARTDENOVO-STEP_ASSEMBLY-CIRCULARISED.fasta.mmi\n",
      "-rw-r----- 1 jovyan users  15M Sep 13 09:14 SMARTDENOVO-STEP_CORRECTION_MEDAKA_STARTFIXED-CIRCULARISED.fasta\n",
      "-rw-r----- 1 jovyan users 3.0K Sep 13 09:14 SMARTDENOVO-STEP_CORRECTION_MEDAKA_STARTFIXED-CIRCULARISED.fasta.fai\n",
      "-rw-r----- 1 jovyan users  50M Sep 13 09:14 SMARTDENOVO-STEP_CORRECTION_MEDAKA_STARTFIXED-CIRCULARISED.fasta.mmi\n",
      "-rw-r----- 1 jovyan users  15M Sep 13 09:14 SMARTDENOVO-STEP_POLISHING_RACON-CIRCULARISED.fasta\n",
      "-rw-r----- 1 jovyan users 3.7K Sep 13 09:14 SMARTDENOVO-STEP_POLISHING_RACON-CIRCULARISED.fasta.fai\n",
      "-rw-r----- 1 jovyan users  49M Sep 13 09:14 SMARTDENOVO-STEP_POLISHING_RACON-CIRCULARISED.fasta.mmi\n",
      "(quast) "
     ]
    },
    {
     "ename": "",
     "evalue": "1",
     "output_type": "error",
     "traceback": []
    }
   ],
   "source": [
    "ls -lh ~/SG-ONT-2021/DATA/real_Hh/Hh-ASSEMBLIES"
   ]
  },
  {
   "cell_type": "markdown",
   "id": "0a2e093c-5265-402a-aa11-f8a6265820fe",
   "metadata": {},
   "source": [
    "### Compare Hh assemblies against the reference sequence using QUAST\n",
    "\n",
    "#### WARNING : This can take a while!! "
   ]
  },
  {
   "cell_type": "code",
   "execution_count": 5,
   "id": "eb7636a7",
   "metadata": {
    "tags": []
   },
   "outputs": [
    {
     "name": "stdout",
     "output_type": "stream",
     "text": [
      "(quast) (quast) /opt/conda/envs/quast/bin/quast.py /home/jovyan/SG-ONT-2021/DATA/real_Hh/Hh-ASSEMBLIES/CANU-STEP_CORRECTION_MEDAKA_STARTFIXED-CIRCULARISED.fasta /home/jovyan/SG-ONT-2021/DATA/real_Hh/Hh-ASSEMBLIES/FLYE-STEP_CORRECTION_MEDAKA_STARTFIXED-CIRCULARISED.fasta /home/jovyan/SG-ONT-2021/DATA/real_Hh/Hh-ASSEMBLIES/MINIASM-STEP_CORRECTION_MEDAKA_STARTFIXED-CIRCULARISED.fasta /home/jovyan/SG-ONT-2021/DATA/real_Hh/Hh-ASSEMBLIES/RAVEN-STEP_CORRECTION_MEDAKA_STARTFIXED-CIRCULARISED.fasta /home/jovyan/SG-ONT-2021/DATA/real_Hh/Hh-ASSEMBLIES/SHASTA-STEP_CORRECTION_MEDAKA_STARTFIXED-CIRCULARISED.fasta /home/jovyan/SG-ONT-2021/DATA/real_Hh/Hh-ASSEMBLIES/SMARTDENOVO-STEP_CORRECTION_MEDAKA_STARTFIXED-CIRCULARISED.fasta -R /home/jovyan/SG-ONT-2021/DATA/real_Hh/REFH_M1C132.fasta -o QUAST_REF\n",
      "\n",
      "Version: 5.0.2\n",
      "\n",
      "System information:\n",
      "  OS: Linux-4.19.0-16-cloud-amd64-x86_64-with-debian-bullseye-sid (linux_64)\n",
      "  Python version: 3.7.10\n",
      "  CPUs number: 8\n",
      "\n",
      "Started: 2021-09-27 14:54:36\n",
      "\n",
      "Logging to /home/jovyan/SG-ONT-2021/RESULTS/AGGREGATED_Hh/QUAST_REF/quast.log\n",
      "NOTICE: Maximum number of threads is set to 2 (use --threads option to set it manually)\n",
      "\n",
      "CWD: /home/jovyan/SG-ONT-2021/RESULTS/AGGREGATED_Hh\n",
      "Main parameters: \n",
      "  MODE: default, threads: 2, minimum contig length: 500, minimum alignment length: 65, \\\n",
      "  ambiguity: one, threshold for extensive misassembly size: 1000\n",
      "\n",
      "Reference:\n",
      "  /home/jovyan/SG-ONT-2021/DATA/real_Hh/REFH_M1C132.fasta ==> REFH_M1C132\n",
      "\n",
      "Contigs:\n",
      "  Pre-processing...\n",
      "  1  /home/jovyan/SG-ONT-2021/DATA/real_Hh/Hh-ASSEMBLIES/CANU-STEP_CORRECTION_MEDAKA_STARTFIXED-CIRCULARISED.fasta ==> CANU_STEP_CORRECTION_MEDAKA_STARTFIXED_CIRCULARISED\n",
      "  2  /home/jovyan/SG-ONT-2021/DATA/real_Hh/Hh-ASSEMBLIES/FLYE-STEP_CORRECTION_MEDAKA_STARTFIXED-CIRCULARISED.fasta ==> FLYE_STEP_CORRECTION_MEDAKA_STARTFIXED_CIRCULARISED\n",
      "  3  /home/jovyan/SG-ONT-2021/DATA/real_Hh/Hh-ASSEMBLIES/MINIASM-STEP_CORRECTION_MEDAKA_STARTFIXED-CIRCULARISED.fasta ==> MINIASM_STEP_CORRECTION_MEDAKA_STARTFIXED_CIRCULARISED\n",
      "  4  /home/jovyan/SG-ONT-2021/DATA/real_Hh/Hh-ASSEMBLIES/RAVEN-STEP_CORRECTION_MEDAKA_STARTFIXED-CIRCULARISED.fasta ==> RAVEN_STEP_CORRECTION_MEDAKA_STARTFIXED_CIRCULARISED\n",
      "  5  /home/jovyan/SG-ONT-2021/DATA/real_Hh/Hh-ASSEMBLIES/SHASTA-STEP_CORRECTION_MEDAKA_STARTFIXED-CIRCULARISED.fasta ==> SHASTA_STEP_CORRECTION_MEDAKA_STARTFIXED_CIRCULARISED\n",
      "  6  /home/jovyan/SG-ONT-2021/DATA/real_Hh/Hh-ASSEMBLIES/SMARTDENOVO-STEP_CORRECTION_MEDAKA_STARTFIXED-CIRCULARISED.fasta ==> SMARTDENOVO_STEP_CORRECTION_MEDAKA_STARTFIXED_CIRCULARISED\n",
      "\n",
      "2021-09-27 14:54:38\n",
      "Running Basic statistics processor...\n",
      "  Reference genome:\n",
      "    REFH_M1C132.fasta, length = 2111568, num fragments = 4, GC % = 38.43\n",
      "  Contig files: \n",
      "    1  CANU_STEP_CORRECTION_MEDAKA_STARTFIXED_CIRCULARISED\n",
      "    2  FLYE_STEP_CORRECTION_MEDAKA_STARTFIXED_CIRCULARISED\n",
      "    3  MINIASM_STEP_CORRECTION_MEDAKA_STARTFIXED_CIRCULARISED\n",
      "    4  RAVEN_STEP_CORRECTION_MEDAKA_STARTFIXED_CIRCULARISED\n",
      "    5  SHASTA_STEP_CORRECTION_MEDAKA_STARTFIXED_CIRCULARISED\n",
      "    6  SMARTDENOVO_STEP_CORRECTION_MEDAKA_STARTFIXED_CIRCULARISED\n",
      "  Calculating N50 and L50...\n",
      "    1  CANU_STEP_CORRECTION_MEDAKA_STARTFIXED_CIRCULARISED, N50 = 2108530, L50 = 1, Total length = 2630776, GC % = 40.48, # N's per 100 kbp =  0.00\n",
      "    2  FLYE_STEP_CORRECTION_MEDAKA_STARTFIXED_CIRCULARISED, N50 = 2052025, L50 = 1, Total length = 2175295, GC % = 38.49, # N's per 100 kbp =  0.00\n",
      "    3  MINIASM_STEP_CORRECTION_MEDAKA_STARTFIXED_CIRCULARISED, N50 = 178910, L50 = 16, Total length = 12266310, GC % = 52.55, # N's per 100 kbp =  0.00\n",
      "    4  RAVEN_STEP_CORRECTION_MEDAKA_STARTFIXED_CIRCULARISED, N50 = 363022, L50 = 7, Total length = 11462095, GC % = 52.81, # N's per 100 kbp =  0.00\n",
      "    5  SHASTA_STEP_CORRECTION_MEDAKA_STARTFIXED_CIRCULARISED, N50 = 118179, L50 = 21, Total length = 15224433, GC % = 50.43, # N's per 100 kbp =  0.00\n",
      "    6  SMARTDENOVO_STEP_CORRECTION_MEDAKA_STARTFIXED_CIRCULARISED, N50 = 433073, L50 = 11, Total length = 14891483, GC % = 52.09, # N's per 100 kbp =  0.00\n",
      "  Drawing Nx plot...\n",
      "    saved to /home/jovyan/SG-ONT-2021/RESULTS/AGGREGATED_Hh/QUAST_REF/basic_stats/Nx_plot.pdf\n",
      "  Drawing NGx plot...\n",
      "    saved to /home/jovyan/SG-ONT-2021/RESULTS/AGGREGATED_Hh/QUAST_REF/basic_stats/NGx_plot.pdf\n",
      "  Drawing cumulative plot...\n",
      "    saved to /home/jovyan/SG-ONT-2021/RESULTS/AGGREGATED_Hh/QUAST_REF/basic_stats/cumulative_plot.pdf\n",
      "  Drawing GC content plot...\n",
      "    saved to /home/jovyan/SG-ONT-2021/RESULTS/AGGREGATED_Hh/QUAST_REF/basic_stats/GC_content_plot.pdf\n",
      "  Drawing CANU_STEP_CORRECTION_MEDAKA_STARTFIXED_CIRCULARISED GC content plot...\n",
      "    saved to /home/jovyan/SG-ONT-2021/RESULTS/AGGREGATED_Hh/QUAST_REF/basic_stats/CANU_STEP_CORRECTION_MEDAKA_STARTFIXED_CIRCULARISED_GC_content_plot.pdf\n",
      "  Drawing FLYE_STEP_CORRECTION_MEDAKA_STARTFIXED_CIRCULARISED GC content plot...\n",
      "    saved to /home/jovyan/SG-ONT-2021/RESULTS/AGGREGATED_Hh/QUAST_REF/basic_stats/FLYE_STEP_CORRECTION_MEDAKA_STARTFIXED_CIRCULARISED_GC_content_plot.pdf\n",
      "  Drawing MINIASM_STEP_CORRECTION_MEDAKA_STARTFIXED_CIRCULARISED GC content plot...\n",
      "    saved to /home/jovyan/SG-ONT-2021/RESULTS/AGGREGATED_Hh/QUAST_REF/basic_stats/MINIASM_STEP_CORRECTION_MEDAKA_STARTFIXED_CIRCULARISED_GC_content_plot.pdf\n",
      "  Drawing RAVEN_STEP_CORRECTION_MEDAKA_STARTFIXED_CIRCULARISED GC content plot...\n",
      "    saved to /home/jovyan/SG-ONT-2021/RESULTS/AGGREGATED_Hh/QUAST_REF/basic_stats/RAVEN_STEP_CORRECTION_MEDAKA_STARTFIXED_CIRCULARISED_GC_content_plot.pdf\n",
      "  Drawing SHASTA_STEP_CORRECTION_MEDAKA_STARTFIXED_CIRCULARISED GC content plot...\n",
      "    saved to /home/jovyan/SG-ONT-2021/RESULTS/AGGREGATED_Hh/QUAST_REF/basic_stats/SHASTA_STEP_CORRECTION_MEDAKA_STARTFIXED_CIRCULARISED_GC_content_plot.pdf\n",
      "  Drawing SMARTDENOVO_STEP_CORRECTION_MEDAKA_STARTFIXED_CIRCULARISED GC content plot...\n",
      "    saved to /home/jovyan/SG-ONT-2021/RESULTS/AGGREGATED_Hh/QUAST_REF/basic_stats/SMARTDENOVO_STEP_CORRECTION_MEDAKA_STARTFIXED_CIRCULARISED_GC_content_plot.pdf\n",
      "Done.\n",
      "\n",
      "2021-09-27 14:54:45\n",
      "Running Contig analyzer...\n",
      "  1  CANU_STEP_CORRECTION_MEDAKA_STARTFIXED_CIRCULARISED\n",
      "  1  Logging to files /home/jovyan/SG-ONT-2021/RESULTS/AGGREGATED_Hh/QUAST_REF/contigs_reports/contigs_report_CANU_STEP_CORRECTION_MEDAKA_STARTFIXED_CIRCULARISED.stdout and contigs_report_CANU_STEP_CORRECTION_MEDAKA_STARTFIXED_CIRCULARISED.stderr...\n",
      "  2  FLYE_STEP_CORRECTION_MEDAKA_STARTFIXED_CIRCULARISED\n",
      "  1  Aligning contigs to the reference\n",
      "  2  Logging to files /home/jovyan/SG-ONT-2021/RESULTS/AGGREGATED_Hh/QUAST_REF/contigs_reports/contigs_report_FLYE_STEP_CORRECTION_MEDAKA_STARTFIXED_CIRCULARISED.stdout and contigs_report_FLYE_STEP_CORRECTION_MEDAKA_STARTFIXED_CIRCULARISED.stderr...\n",
      "  2  Aligning contigs to the reference\n",
      "  2  Analysis is finished.\n",
      "  3  MINIASM_STEP_CORRECTION_MEDAKA_STARTFIXED_CIRCULARISED\n",
      "  3  Logging to files /home/jovyan/SG-ONT-2021/RESULTS/AGGREGATED_Hh/QUAST_REF/contigs_reports/contigs_report_MINIASM_STEP_CORRECTION_MEDAKA_STARTFIXED_CIRCULARISED.stdout and contigs_report_MINIASM_STEP_CORRECTION_MEDAKA_STARTFIXED_CIRCULARISED.stderr...\n",
      "  3  Aligning contigs to the reference\n",
      "  1  Analysis is finished.\n",
      "  4  RAVEN_STEP_CORRECTION_MEDAKA_STARTFIXED_CIRCULARISED\n",
      "  4  Logging to files /home/jovyan/SG-ONT-2021/RESULTS/AGGREGATED_Hh/QUAST_REF/contigs_reports/contigs_report_RAVEN_STEP_CORRECTION_MEDAKA_STARTFIXED_CIRCULARISED.stdout and contigs_report_RAVEN_STEP_CORRECTION_MEDAKA_STARTFIXED_CIRCULARISED.stderr...\n",
      "  4  Aligning contigs to the reference\n",
      "  4  Analysis is finished.\n",
      "  5  SHASTA_STEP_CORRECTION_MEDAKA_STARTFIXED_CIRCULARISED\n",
      "  5  Logging to files /home/jovyan/SG-ONT-2021/RESULTS/AGGREGATED_Hh/QUAST_REF/contigs_reports/contigs_report_SHASTA_STEP_CORRECTION_MEDAKA_STARTFIXED_CIRCULARISED.stdout and contigs_report_SHASTA_STEP_CORRECTION_MEDAKA_STARTFIXED_CIRCULARISED.stderr...\n",
      "  5  Aligning contigs to the reference\n",
      "  3  Analysis is finished.\n",
      "  6  SMARTDENOVO_STEP_CORRECTION_MEDAKA_STARTFIXED_CIRCULARISED\n",
      "  6  Logging to files /home/jovyan/SG-ONT-2021/RESULTS/AGGREGATED_Hh/QUAST_REF/contigs_reports/contigs_report_SMARTDENOVO_STEP_CORRECTION_MEDAKA_STARTFIXED_CIRCULARISED.stdout and contigs_report_SMARTDENOVO_STEP_CORRECTION_MEDAKA_STARTFIXED_CIRCULARISED.stderr...\n",
      "  6  Aligning contigs to the reference\n",
      "  6  Analysis is finished.\n",
      "  5  Analysis is finished.\n",
      "  Creating total report...\n",
      "    saved to /home/jovyan/SG-ONT-2021/RESULTS/AGGREGATED_Hh/QUAST_REF/contigs_reports/misassemblies_report.txt, misassemblies_report.tsv, and misassemblies_report.tex\n",
      "  Transposed version of total report...\n",
      "    saved to /home/jovyan/SG-ONT-2021/RESULTS/AGGREGATED_Hh/QUAST_REF/contigs_reports/transposed_report_misassemblies.txt, transposed_report_misassemblies.tsv, and transposed_report_misassemblies.tex\n",
      "  Creating total report...\n",
      "    saved to /home/jovyan/SG-ONT-2021/RESULTS/AGGREGATED_Hh/QUAST_REF/contigs_reports/unaligned_report.txt, unaligned_report.tsv, and unaligned_report.tex\n",
      "  Drawing misassemblies by types plot...\n",
      "    saved to /home/jovyan/SG-ONT-2021/RESULTS/AGGREGATED_Hh/QUAST_REF/contigs_reports/misassemblies_plot.pdf\n",
      "  Drawing misassemblies FRCurve plot...\n",
      "    saved to /home/jovyan/SG-ONT-2021/RESULTS/AGGREGATED_Hh/QUAST_REF/contigs_reports/misassemblies_frcurve_plot.pdf\n",
      "Done.\n",
      "\n",
      "2021-09-27 14:54:55\n",
      "Running NA-NGA calculation...\n",
      "  1  CANU_STEP_CORRECTION_MEDAKA_STARTFIXED_CIRCULARISED, Largest alignment = 1493562, NA50 = 1493562, NGA50 = 1493562, LA50 = 1, LGA50 = 1\n",
      "  2  FLYE_STEP_CORRECTION_MEDAKA_STARTFIXED_CIRCULARISED, Largest alignment = 2052025, NA50 = 2052025, NGA50 = 2052025, LA50 = 1, LGA50 = 1\n",
      "  3  MINIASM_STEP_CORRECTION_MEDAKA_STARTFIXED_CIRCULARISED, Largest alignment = 2052021, NA50 = None, NGA50 = 2052021, LA50 = None, LGA50 = 1\n",
      "  4  RAVEN_STEP_CORRECTION_MEDAKA_STARTFIXED_CIRCULARISED, Largest alignment = 1064630, NA50 = None, NGA50 = 1064630, LA50 = None, LGA50 = 1\n",
      "  5  SHASTA_STEP_CORRECTION_MEDAKA_STARTFIXED_CIRCULARISED, Largest alignment = 22350, NA50 = None, NGA50 = 7937, LA50 = None, LGA50 = 100\n",
      "  6  SMARTDENOVO_STEP_CORRECTION_MEDAKA_STARTFIXED_CIRCULARISED, Largest alignment = 580466, NA50 = None, NGA50 = 284058, LA50 = None, LGA50 = 3\n",
      "  Drawing cumulative plot...\n",
      "    saved to /home/jovyan/SG-ONT-2021/RESULTS/AGGREGATED_Hh/QUAST_REF/aligned_stats/cumulative_plot.pdf\n",
      "  Drawing NAx plot...\n",
      "    saved to /home/jovyan/SG-ONT-2021/RESULTS/AGGREGATED_Hh/QUAST_REF/aligned_stats/NAx_plot.pdf\n",
      "  Drawing NGAx plot...\n",
      "    saved to /home/jovyan/SG-ONT-2021/RESULTS/AGGREGATED_Hh/QUAST_REF/aligned_stats/NGAx_plot.pdf\n",
      "Done.\n",
      "\n",
      "2021-09-27 14:54:57\n",
      "Running Genome analyzer...\n",
      "  NOTICE: No file with genomic features were provided. Use the --features option if you want to specify it.\n",
      "\n",
      "  NOTICE: No file with operons were provided. Use the -O option if you want to specify it.\n",
      "  1  CANU_STEP_CORRECTION_MEDAKA_STARTFIXED_CIRCULARISED\n",
      "  2  FLYE_STEP_CORRECTION_MEDAKA_STARTFIXED_CIRCULARISED\n",
      "  2  Analysis is finished.\n",
      "  3  MINIASM_STEP_CORRECTION_MEDAKA_STARTFIXED_CIRCULARISED\n",
      "  1  Analysis is finished.\n",
      "  4  RAVEN_STEP_CORRECTION_MEDAKA_STARTFIXED_CIRCULARISED\n",
      "  3  Analysis is finished.\n",
      "  5  SHASTA_STEP_CORRECTION_MEDAKA_STARTFIXED_CIRCULARISED\n",
      "  4  Analysis is finished.\n",
      "  6  SMARTDENOVO_STEP_CORRECTION_MEDAKA_STARTFIXED_CIRCULARISED\n",
      "  6  Analysis is finished.\n",
      "  5  Analysis is finished.\n",
      "  Drawing Genome fraction, % histogram...\n",
      "    saved to /home/jovyan/SG-ONT-2021/RESULTS/AGGREGATED_Hh/QUAST_REF/genome_stats/genome_fraction_histogram.pdf\n",
      "Done.\n",
      "\n",
      "NOTICE: Genes are not predicted by default. Use --gene-finding or --glimmer option to enable it.\n",
      "\n",
      "2021-09-27 14:54:59\n",
      "Creating large visual summaries...\n",
      "This may take a while: press Ctrl-C to skip this step..\n",
      "  1 of 2: Creating Icarus viewers...\n",
      "  2 of 2: Creating PDF with all tables and plots...\n",
      "Done\n",
      "\n",
      "2021-09-27 14:55:06\n",
      "RESULTS:\n",
      "  Text versions of total report are saved to /home/jovyan/SG-ONT-2021/RESULTS/AGGREGATED_Hh/QUAST_REF/report.txt, report.tsv, and report.tex\n",
      "  Text versions of transposed total report are saved to /home/jovyan/SG-ONT-2021/RESULTS/AGGREGATED_Hh/QUAST_REF/transposed_report.txt, transposed_report.tsv, and transposed_report.tex\n",
      "  HTML version (interactive tables and plots) is saved to /home/jovyan/SG-ONT-2021/RESULTS/AGGREGATED_Hh/QUAST_REF/report.html\n",
      "  PDF version (tables and plots) is saved to /home/jovyan/SG-ONT-2021/RESULTS/AGGREGATED_Hh/QUAST_REF/report.pdf\n",
      "  Icarus (contig browser) is saved to /home/jovyan/SG-ONT-2021/RESULTS/AGGREGATED_Hh/QUAST_REF/icarus.html\n",
      "  Log is saved to /home/jovyan/SG-ONT-2021/RESULTS/AGGREGATED_Hh/QUAST_REF/quast.log\n",
      "\n",
      "Finished: 2021-09-27 14:55:06\n",
      "Elapsed time: 0:00:30.023972\n",
      "NOTICEs: 4; WARNINGs: 0; non-fatal ERRORs: 0\n",
      "\n",
      "Thank you for using QUAST!\n",
      "\n",
      "real\t0m30.360s\n",
      "user\t0m39.622s\n",
      "sys\t0m4.301s\n",
      "(quast) "
     ]
    },
    {
     "ename": "",
     "evalue": "1",
     "output_type": "error",
     "traceback": []
    }
   ],
   "source": [
    "mkdir ~/SG-ONT-2021/RESULTS/AGGREGATED_Hh/\n",
    "cd ~/SG-ONT-2021/RESULTS/AGGREGATED_Hh/\n",
    "time quast.py /home/jovyan/SG-ONT-2021/DATA/real_Hh/Hh-ASSEMBLIES/*MEDAKA_STARTFIXED-CIRCULARISED.fasta -R /home/jovyan/SG-ONT-2021/DATA/real_Hh/REFH_M1C132.fasta -o QUAST_REF"
   ]
  },
  {
   "cell_type": "markdown",
   "id": "82746530",
   "metadata": {
    "tags": []
   },
   "source": [
    "#### Which of the assemblies are closest in size relative to the reference ?\n",
    "\n",
    "#### Does this have the largest N50 and fewest number of contigs?"
   ]
  },
  {
   "cell_type": "markdown",
   "id": "94ea6817",
   "metadata": {
    "tags": []
   },
   "source": [
    "#### What assembly does obtain the best contiguity metrics?\n"
   ]
  },
  {
   "cell_type": "markdown",
   "id": "39bebfd5-9fc9-449c-8cec-3742bb7e7b78",
   "metadata": {
    "tags": []
   },
   "source": [
    "# 2. Assessing gene space using BUSCO (REAL DATA)"
   ]
  },
  {
   "cell_type": "markdown",
   "id": "642c8821-2c75-4c6b-80fa-fd82d14daf7d",
   "metadata": {},
   "source": [
    "Benchmarking Universal Single-Copy Orthologs ([BUSCO](https://busco.ezlab.org/busco_userguide.html)) helps to check if you have a good assembly, by searching the expected single-copy lineage-conserved orthologs in any newly-sequenced genome from an appropriate phylogenetic clade."
   ]
  },
  {
   "cell_type": "markdown",
   "id": "f65f1f0c-e26b-45f4-8744-faa281f4fd88",
   "metadata": {},
   "source": [
    "Calculate the gene space for each assembly"
   ]
  },
  {
   "cell_type": "code",
   "execution_count": 6,
   "id": "86411a20-47fe-49a8-9365-b9a7e6556946",
   "metadata": {
    "tags": []
   },
   "outputs": [
    {
     "name": "stdout",
     "output_type": "stream",
     "text": [
      "(quast) (quast) "
     ]
    },
    {
     "ename": "",
     "evalue": "1",
     "output_type": "error",
     "traceback": []
    }
   ],
   "source": [
    "mkdir -p ~/SG-ONT-2021/RESULTS/AGGREGATED_Hh/BUSCO\n",
    "cd ~/SG-ONT-2021/RESULTS/AGGREGATED_Hh/BUSCO"
   ]
  },
  {
   "cell_type": "markdown",
   "id": "3a92a1a3-95d5-4787-9564-a9b23eee0c0d",
   "metadata": {},
   "source": [
    "Lineage can be choose in busco database using --list-datasets parameter"
   ]
  },
  {
   "cell_type": "code",
   "execution_count": 7,
   "id": "2f1a7b9b-359a-4681-91f3-7822442d09b3",
   "metadata": {
    "tags": []
   },
   "outputs": [
    {
     "name": "stdout",
     "output_type": "stream",
     "text": [
      "(quast) (busco) INFO:\tDownloading information on latest versions of BUSCO data...\n",
      "INFO:\tDownloading file 'https://busco-data.ezlab.org/v5/data/information/lineages_list.2019-11-27.txt.tar.gz'\n",
      "INFO:\tDecompressing file '/home/jovyan/SG-ONT-2021/RESULTS/AGGREGATED_Hh/BUSCO/busco_downloads/information/lineages_list.2019-11-27.txt.tar.gz'\n",
      "\n",
      "################################################\n",
      "\n",
      "Datasets available to be used with BUSCOv4 as of 2019/11/27:\n",
      "\n",
      " bacteria_odb10\n",
      "     - acidobacteria_odb10\n",
      "     - actinobacteria_phylum_odb10\n",
      "         - actinobacteria_class_odb10\n",
      "             - corynebacteriales_odb10\n",
      "             - micrococcales_odb10\n",
      "             - propionibacteriales_odb10\n",
      "             - streptomycetales_odb10\n",
      "             - streptosporangiales_odb10\n",
      "         - coriobacteriia_odb10\n",
      "             - coriobacteriales_odb10\n",
      "     - aquificae_odb10\n",
      "     - bacteroidetes-chlorobi_group_odb10\n",
      "         - bacteroidetes_odb10\n",
      "             - bacteroidia_odb10\n",
      "                 - bacteroidales_odb10\n",
      "             - cytophagia_odb10\n",
      "                 - cytophagales_odb10\n",
      "             - flavobacteriia_odb10\n",
      "                 - flavobacteriales_odb10\n",
      "             - sphingobacteriia_odb10\n",
      "         - chlorobi_odb10\n",
      "     - chlamydiae_odb10\n",
      "     - chloroflexi_odb10\n",
      "     - cyanobacteria_odb10\n",
      "         - chroococcales_odb10\n",
      "         - nostocales_odb10\n",
      "         - oscillatoriales_odb10\n",
      "         - synechococcales_odb10\n",
      "     - firmicutes_odb10\n",
      "         - bacilli_odb10\n",
      "             - bacillales_odb10\n",
      "             - lactobacillales_odb10\n",
      "         - clostridia_odb10\n",
      "             - clostridiales_odb10\n",
      "             - thermoanaerobacterales_odb10\n",
      "         - selenomonadales_odb10\n",
      "         - tissierellia_odb10\n",
      "             - tissierellales_odb10\n",
      "     - fusobacteria_odb10\n",
      "         - fusobacteriales_odb10\n",
      "     - planctomycetes_odb10\n",
      "     - proteobacteria_odb10\n",
      "         - alphaproteobacteria_odb10\n",
      "             - rhizobiales_odb10\n",
      "                 - rhizobium-agrobacterium_group_odb10\n",
      "             - rhodobacterales_odb10\n",
      "             - rhodospirillales_odb10\n",
      "             - rickettsiales_odb10\n",
      "             - sphingomonadales_odb10\n",
      "         - betaproteobacteria_odb10\n",
      "             - burkholderiales_odb10\n",
      "             - neisseriales_odb10\n",
      "             - nitrosomonadales_odb10\n",
      "         - delta-epsilon-subdivisions_odb10\n",
      "             - deltaproteobacteria_odb10\n",
      "                 - desulfobacterales_odb10\n",
      "                 - desulfovibrionales_odb10\n",
      "                 - desulfuromonadales_odb10\n",
      "             - epsilonproteobacteria_odb10\n",
      "                 - campylobacterales_odb10\n",
      "         - gammaproteobacteria_odb10\n",
      "             - alteromonadales_odb10\n",
      "             - cellvibrionales_odb10\n",
      "             - chromatiales_odb10\n",
      "             - enterobacterales_odb10\n",
      "             - legionellales_odb10\n",
      "             - oceanospirillales_odb10\n",
      "             - pasteurellales_odb10\n",
      "             - pseudomonadales_odb10\n",
      "             - thiotrichales_odb10\n",
      "             - vibrionales_odb10\n",
      "             - xanthomonadales_odb10\n",
      "     - spirochaetes_odb10\n",
      "         - spirochaetia_odb10\n",
      "             - spirochaetales_odb10\n",
      "     - synergistetes_odb10\n",
      "     - tenericutes_odb10\n",
      "         - mollicutes_odb10\n",
      "             - entomoplasmatales_odb10\n",
      "             - mycoplasmatales_odb10\n",
      "     - thermotogae_odb10\n",
      "     - verrucomicrobia_odb10\n",
      " archaea_odb10\n",
      "     - thaumarchaeota_odb10\n",
      "     - thermoprotei_odb10\n",
      "         - thermoproteales_odb10\n",
      "         - sulfolobales_odb10\n",
      "         - desulfurococcales_odb10\n",
      "     - euryarchaeota_odb10\n",
      "         - thermoplasmata_odb10\n",
      "         - methanococcales_odb10\n",
      "         - methanobacteria_odb10\n",
      "         - methanomicrobia_odb10\n",
      "             - methanomicrobiales_odb10\n",
      "         - halobacteria_odb10\n",
      "             - halobacteriales_odb10\n",
      "             - natrialbales_odb10\n",
      "             - haloferacales_odb10\n",
      " eukaryota_odb10\n",
      "     - alveolata_odb10\n",
      "         - apicomplexa_odb10\n",
      "             - aconoidasida_odb10\n",
      "                 - plasmodium_odb10\n",
      "             - coccidia_odb10\n",
      "     - euglenozoa_odb10\n",
      "     - fungi_odb10\n",
      "         - ascomycota_odb10\n",
      "             - dothideomycetes_odb10\n",
      "                 - capnodiales_odb10\n",
      "                 - pleosporales_odb10\n",
      "             - eurotiomycetes_odb10\n",
      "                 - chaetothyriales_odb10\n",
      "                 - eurotiales_odb10\n",
      "                 - onygenales_odb10\n",
      "             - leotiomycetes_odb10\n",
      "                 - helotiales_odb10\n",
      "             - saccharomycetes_odb10\n",
      "             - sordariomycetes_odb10\n",
      "                 - glomerellales_odb10\n",
      "                 - hypocreales_odb10\n",
      "         - basidiomycota_odb10\n",
      "             - agaricomycetes_odb10\n",
      "                 - agaricales_odb10\n",
      "                 - boletales_odb10\n",
      "                 - polyporales_odb10\n",
      "             - tremellomycetes_odb10\n",
      "         - microsporidia_odb10\n",
      "         - mucoromycota_odb10\n",
      "             - mucorales_odb10\n",
      "     - metazoa_odb10\n",
      "         - arthropoda_odb10\n",
      "             - arachnida_odb10\n",
      "             - insecta_odb10\n",
      "                 - endopterygota_odb10\n",
      "                     - diptera_odb10\n",
      "                     - hymenoptera_odb10\n",
      "                     - lepidoptera_odb10\n",
      "                 - hemiptera_odb10\n",
      "         - mollusca_odb10\n",
      "         - nematoda_odb10\n",
      "         - vertebrata_odb10\n",
      "             - actinopterygii_odb10\n",
      "                 - cyprinodontiformes_odb10\n",
      "             - tetrapoda_odb10\n",
      "                 - mammalia_odb10\n",
      "                     - eutheria_odb10\n",
      "                         - euarchontoglires_odb10\n",
      "                             - glires_odb10\n",
      "                             - primates_odb10\n",
      "                         - laurasiatheria_odb10\n",
      "                             - carnivora_odb10\n",
      "                             - cetartiodactyla_odb10\n",
      "                 - sauropsida_odb10\n",
      "                     - aves_odb10\n",
      "                         - passeriformes_odb10\n",
      "     - stramenopiles_odb10\n",
      "     - viridiplantae_odb10\n",
      "         - chlorophyta_odb10\n",
      "         - embryophyta_odb10\n",
      "             - liliopsida_odb10\n",
      "                 - poales_odb10\n",
      "             - eudicots_odb10\n",
      "                 - brassicales_odb10\n",
      "                 - fabales_odb10\n",
      "                 - solanales_odb10\n",
      "\n",
      "(busco) "
     ]
    },
    {
     "ename": "",
     "evalue": "1",
     "output_type": "error",
     "traceback": []
    }
   ],
   "source": [
    "# busco env\n",
    "conda activate busco\n",
    "busco --list-datasets"
   ]
  },
  {
   "cell_type": "code",
   "execution_count": 8,
   "id": "235937d9-ddea-4414-8ff5-3600be099879",
   "metadata": {
    "tags": []
   },
   "outputs": [
    {
     "name": "stdout",
     "output_type": "stream",
     "text": [
      "(busco) (busco) INFO:\t***** Start a BUSCO v5.1.3 analysis, current time: 09/27/2021 15:02:47 *****\n",
      "INFO:\tConfiguring BUSCO with local environment\n",
      "INFO:\tMode is genome\n",
      "INFO:\tDownloading information on latest versions of BUSCO data...\n",
      "INFO:\tInput file is /home/jovyan/SG-ONT-2021/DATA/real_Hh/Hh-ASSEMBLIES/FLYE-STEP_CORRECTION_MEDAKA_STARTFIXED-CIRCULARISED.fasta\n",
      "INFO:\tDownloading file 'https://busco-data.ezlab.org/v5/data/lineages/bacteria_odb10.2020-03-06.tar.gz'\n",
      "INFO:\tDecompressing file '/home/jovyan/SG-ONT-2021/RESULTS/AGGREGATED_Hh/BUSCO/busco_downloads/lineages/bacteria_odb10.tar.gz'\n",
      "INFO:\tRunning BUSCO using lineage dataset bacteria_odb10 (prokaryota, 2020-03-06)\n",
      "INFO:\t***** Run Prodigal on input to predict and extract genes *****\n",
      "INFO:\tRunning Prodigal with genetic code 11 in single mode\n",
      "INFO:\tRunning 1 job(s) on prodigal, starting at 09/27/2021 15:02:48\n",
      "INFO:\t[prodigal]\t1 of 1 task(s) completed\n",
      "INFO:\tGenetic code 11 selected as optimal\n",
      "INFO:\t***** Run HMMER on gene sequences *****\n",
      "INFO:\tRunning 124 job(s) on hmmsearch, starting at 09/27/2021 15:02:53\n",
      "INFO:\t[hmmsearch]\t13 of 124 task(s) completed\n",
      "INFO:\t[hmmsearch]\t25 of 124 task(s) completed\n",
      "INFO:\t[hmmsearch]\t38 of 124 task(s) completed\n",
      "INFO:\t[hmmsearch]\t50 of 124 task(s) completed\n",
      "INFO:\t[hmmsearch]\t63 of 124 task(s) completed\n",
      "INFO:\t[hmmsearch]\t75 of 124 task(s) completed\n",
      "INFO:\t[hmmsearch]\t87 of 124 task(s) completed\n",
      "INFO:\t[hmmsearch]\t100 of 124 task(s) completed\n",
      "INFO:\t[hmmsearch]\t112 of 124 task(s) completed\n",
      "INFO:\t[hmmsearch]\t124 of 124 task(s) completed\n",
      "INFO:\tResults:\tC:95.2%[S:95.2%,D:0.0%],F:2.4%,M:2.4%,n:124\t   \n",
      "\n",
      "INFO:\t\n",
      "\n",
      "\t--------------------------------------------------\n",
      "\t|Results from dataset bacteria_odb10              |\n",
      "\t--------------------------------------------------\n",
      "\t|C:95.2%[S:95.2%,D:0.0%],F:2.4%,M:2.4%,n:124      |\n",
      "\t|118\tComplete BUSCOs (C)                       |\n",
      "\t|118\tComplete and single-copy BUSCOs (S)       |\n",
      "\t|0\tComplete and duplicated BUSCOs (D)        |\n",
      "\t|3\tFragmented BUSCOs (F)                     |\n",
      "\t|3\tMissing BUSCOs (M)                        |\n",
      "\t|124\tTotal BUSCO groups searched               |\n",
      "\t--------------------------------------------------\n",
      "INFO:\tBUSCO analysis done. Total running time: 9 seconds\n",
      "INFO:\tResults written in /home/jovyan/SG-ONT-2021/RESULTS/AGGREGATED_Hh/BUSCO/BUSCO_RESULTS\n",
      "INFO:\tFor assistance with interpreting the results, please consult the userguide: https://busco.ezlab.org/busco_userguide.html\n",
      "\n",
      "(busco) "
     ]
    },
    {
     "ename": "",
     "evalue": "1",
     "output_type": "error",
     "traceback": []
    }
   ],
   "source": [
    "ASSEMBLY=\"~/SG-ONT-2021/DATA/real_Hh/Hh-ASSEMBLIES/FLYE-STEP_CORRECTION_MEDAKA_STARTFIXED-CIRCULARISED.fasta\"\n",
    "LINEAGE=bacteria_odb10\n",
    "busco -i \"$ASSEMBLY\" -l \"$LINEAGE\" -c \"${CPUS:-4}\" -m genome -o BUSCO_RESULTS "
   ]
  },
  {
   "cell_type": "code",
   "execution_count": 9,
   "id": "bfd74d73-3109-4076-8c99-0b5cd0f557e4",
   "metadata": {},
   "outputs": [
    {
     "name": "stdout",
     "output_type": "stream",
     "text": [
      "(quast) "
     ]
    },
    {
     "ename": "",
     "evalue": "1",
     "output_type": "error",
     "traceback": []
    }
   ],
   "source": [
    "conda deactivate"
   ]
  },
  {
   "cell_type": "markdown",
   "id": "d54c21a5-046c-43e8-b537-b71788090ee3",
   "metadata": {
    "tags": []
   },
   "source": [
    "### What does the gene space look like for this assembly?\n",
    "\n",
    "#### Run BUSCO in all assemblies generated if you want... "
   ]
  },
  {
   "cell_type": "markdown",
   "id": "0040a2cd",
   "metadata": {},
   "source": [
    "# 3. Read alignment statistics - remapping (CLONE)"
   ]
  },
  {
   "cell_type": "markdown",
   "id": "18838eed",
   "metadata": {},
   "source": [
    "Read congruency is an important measure in determining assembly accuracy. Clusters of read pairs that align incorrectly are strong indicators of mis-assembly.\n",
    "\n",
    "How well do the reads align back to the draft assemblies? Use minimap2 and samtools to assess the basic alignment statistics.\n",
    "\n",
    "Make a folder for your results.\n",
    "\n",
    "We will use CloneX_FLYE_RACONx2_MEDAKA.fasta assembly and ONT READS as well ILLUMINA READS."
   ]
  },
  {
   "cell_type": "code",
   "execution_count": 10,
   "id": "bb27a4e3",
   "metadata": {},
   "outputs": [
    {
     "name": "stdout",
     "output_type": "stream",
     "text": [
      "(quast) (quast) "
     ]
    },
    {
     "ename": "",
     "evalue": "1",
     "output_type": "error",
     "traceback": []
    }
   ],
   "source": [
    "mkdir -p ~/SG-ONT-2021/RESULTS/REMAPPING\n",
    "cd ~/SG-ONT-2021/RESULTS/REMAPPING/"
   ]
  },
  {
   "cell_type": "code",
   "execution_count": 14,
   "id": "f69c52e2-08fa-4cc0-a41c-3c17a6f83dd0",
   "metadata": {},
   "outputs": [
    {
     "name": "stdout",
     "output_type": "stream",
     "text": [
      "(quast) (quast) (quast) (quast) (quast) "
     ]
    },
    {
     "ename": "",
     "evalue": "1",
     "output_type": "error",
     "traceback": []
    }
   ],
   "source": [
    "CLONE=\"Clone10\"\n",
    "ASSEMBLY=\"/home/jovyan/SG-ONT-2021/RESULTS/FLYE_RACON_MEDAKA/MEDAKA_CONSENSUS/consensus.fasta\"\n",
    "ONT=\"/home/jovyan/SG-ONT-2021/DATA/${CLONE}/ONT/${CLONE}.fastq.gz\"\n",
    "ILLUMINA_R1=\"/home/jovyan/SG-ONT-2021/DATA/${CLONE}/ILL/${CLONE}_R1.fastq.gz\"\n",
    "ILLUMINA_R2=\"/home/jovyan/SG-ONT-2021/DATA/${CLONE}/ILL/${CLONE}_R2.fastq.gz\""
   ]
  },
  {
   "cell_type": "code",
   "execution_count": 15,
   "id": "2e876e9a-6f17-416f-9d91-5d2b720ddbcc",
   "metadata": {},
   "outputs": [
    {
     "name": "stdout",
     "output_type": "stream",
     "text": [
      "(quast) ln: failed to create symbolic link 'Clone10_FLYE_RACONx2_MEDAKA.fasta': File exists\n",
      "(quast) (quast) (quast) "
     ]
    },
    {
     "ename": "",
     "evalue": "1",
     "output_type": "error",
     "traceback": []
    }
   ],
   "source": [
    "#symbolic link from last assembly in the current repertory ReMAPPING\n",
    "ln -s ${ASSEMBLY} ${CLONE}_FLYE_RACONx2_MEDAKA.fasta\n",
    "# overwrite ASSEMBLY variable\n",
    "ASSEMBLY=${CLONE}_FLYE_RACONx2_MEDAKA.fasta"
   ]
  },
  {
   "cell_type": "markdown",
   "id": "d28cf813-ba11-4024-a8fb-253f98f83341",
   "metadata": {},
   "source": [
    "## Mapping assemblies vs ONT reads"
   ]
  },
  {
   "cell_type": "code",
   "execution_count": 16,
   "id": "d22b81ef-7840-4805-b5e7-bf6e8c990d47",
   "metadata": {},
   "outputs": [
    {
     "name": "stdout",
     "output_type": "stream",
     "text": [
      "[M::mm_idx_gen::0.089*1.05] collected minimizers\n",
      "[M::mm_idx_gen::0.121*1.75] sorted minimizers\n",
      "[M::main::0.121*1.75] loaded/built the index for 4 target sequence(s)\n",
      "[M::mm_mapopt_update::0.129*1.70] mid_occ = 10\n",
      "[M::mm_idx_stat] kmer size: 15; skip: 10; is_hpc: 0; #seq: 4\n",
      "[M::mm_idx_stat::0.134*1.68] distinct minimizers: 226868 (98.71% are singletons); average occurrences: 1.017; average spacing: 5.340; total length: 1232089\n",
      "[M::worker_pipeline::20.208*3.25] mapped 11235 sequences\n",
      "[M::main] Version: 2.22-r1101\n",
      "[M::main] CMD: minimap2 -ax map-ont -t 4 Clone10_FLYE_RACONx2_MEDAKA.fasta /home/jovyan/SG-ONT-2021/DATA/Clone10/ONT/Clone10.fastq.gz\n",
      "[M::main] Real time: 20.219 sec; CPU: 65.639 sec; Peak RSS: 0.408 GB\n",
      "(quast) (quast) 11235\n",
      "(quast) "
     ]
    },
    {
     "ename": "",
     "evalue": "1",
     "output_type": "error",
     "traceback": []
    }
   ],
   "source": [
    "minimap2 -ax map-ont -t 4 ${ASSEMBLY} ${ONT} | samtools sort -@ 1 -T \"${ASSEMBLY/.fasta/}\" -O BAM -o \"${ASSEMBLY/.fasta/_ONT_minimap2.bam}\" -\n",
    "samtools index \"${ASSEMBLY/.fasta/_ONT_minimap2.bam}\"\n",
    "samtools view -F 0x904 -c \"${ASSEMBLY/.fasta/_ONT_minimap2.bam}\""
   ]
  },
  {
   "cell_type": "markdown",
   "id": "38a8be97-41ee-4b60-b977-493650fee193",
   "metadata": {},
   "source": [
    "## Mapping assemblies vs ILLUMINA reads"
   ]
  },
  {
   "cell_type": "code",
   "execution_count": 17,
   "id": "46631d22-896f-4cf9-8cb7-c2c03366ffe0",
   "metadata": {},
   "outputs": [
    {
     "name": "stdout",
     "output_type": "stream",
     "text": [
      "(quast) [M::mm_idx_gen::0.084*1.05] collected minimizers\n",
      "[M::mm_idx_gen::0.112*1.71] sorted minimizers\n",
      "[M::main::0.112*1.71] loaded/built the index for 4 target sequence(s)\n",
      "[M::mm_mapopt_update::0.112*1.71] mid_occ = 1000\n",
      "[M::mm_idx_stat] kmer size: 21; skip: 11; is_hpc: 0; #seq: 4\n",
      "[M::mm_idx_stat::0.118*1.68] distinct minimizers: 204746 (99.53% are singletons); average occurrences: 1.006; average spacing: 5.980; total length: 1232089\n",
      "[M::worker_pipeline::5.169*2.52] mapped 295760 sequences\n",
      "[M::main] Version: 2.22-r1101\n",
      "[M::main] CMD: minimap2 -ax sr -t 4 Clone10_FLYE_RACONx2_MEDAKA.fasta /home/jovyan/SG-ONT-2021/DATA/Clone10/ILL/Clone10_R1.fastq.gz /home/jovyan/SG-ONT-2021/DATA/Clone10/ILL/Clone10_R2.fastq.gz\n",
      "[M::main] Real time: 5.178 sec; CPU: 13.036 sec; Peak RSS: 0.183 GB\n",
      "(quast) (quast) 295744\n",
      "(quast) "
     ]
    },
    {
     "ename": "",
     "evalue": "1",
     "output_type": "error",
     "traceback": []
    }
   ],
   "source": [
    "#minimap2 -ax sr ref.fa read1.fq read2.fq > aln.sam\n",
    "minimap2 -ax sr -t 4 ${ASSEMBLY} ${ILLUMINA_R1} ${ILLUMINA_R2} | samtools sort -@ 1 -T \"${ASSEMBLY/.fasta/}\" -O BAM -o \"${ASSEMBLY/.fasta/_ILL_minimap2.bam}\" -\n",
    "samtools index \"${ASSEMBLY/.fasta/_ILL_minimap2.bam}\"\n",
    "samtools view -F 0x904 -c \"${ASSEMBLY/.fasta/_ILL_minimap2.bam}\""
   ]
  },
  {
   "cell_type": "markdown",
   "id": "7bd436e3-6d1e-4912-a275-5b5da34e61e1",
   "metadata": {},
   "source": [
    "### What is the percentage of aligned ONT and ILLUMINa reads in your clone assembly?"
   ]
  },
  {
   "cell_type": "markdown",
   "id": "edbb579f",
   "metadata": {},
   "source": [
    "# 4. Blobtools\n",
    "\n",
    "During the sequence quality assessment stage we tried to discern whether contamination was present. Sometimes this is not feasible at the read level. By plotting Contig GC content vs Contig Read Coverage we can look for clusters of contigs that share similar coverage. The appearance of multiple clusters can indicate multiple organisms. Occasionally, contigs can also be taxonomically classified, providing further evidence for contaminants.\n",
    "\n",
    "First we need to download some files"
   ]
  },
  {
   "cell_type": "code",
   "execution_count": 24,
   "id": "762022cc-f5bb-40a4-98dd-5f33556f77c1",
   "metadata": {},
   "outputs": [
    {
     "name": "stdout",
     "output_type": "stream",
     "text": [
      "(quast) --2021-09-27 15:44:16--  https://itrop.ird.fr/ont-training/blobtools.tar.gz\n",
      "Resolving itrop.ird.fr (itrop.ird.fr)... 91.203.35.184\n",
      "Connecting to itrop.ird.fr (itrop.ird.fr)|91.203.35.184|:443... connected.\n",
      "HTTP request sent, awaiting response... 200 OK\n",
      "Length: 100114880 (95M) [application/x-gzip]\n",
      "Saving to: ‘blobtools.tar.gz’\n",
      "\n",
      "blobtools.tar.gz    100%[===================>]  95.48M  39.0MB/s    in 2.4s    \n",
      "\n",
      "2021-09-27 15:44:19 (39.0 MB/s) - ‘blobtools.tar.gz’ saved [100114880/100114880]\n",
      "\n",
      "FINISHED --2021-09-27 15:44:19--\n",
      "Total wall clock time: 2.5s\n",
      "Downloaded: 1 files, 95M in 2.4s (39.0 MB/s)\n",
      "(quast) blobtools/\n",
      "blobtools/taxdump.tar.gz\n",
      "tar: blobtools/taxdump.tar.gz: time stamp 2021-09-27 17:32:36 is 6495.853351669 s in the future\n",
      "blobtools/names.dmp\n",
      "tar: blobtools/names.dmp: time stamp 2021-09-27 17:32:34 is 6492.418184393 s in the future\n",
      "blobtools/nodes.dmp\n",
      "tar: blobtools/nodes.dmp: time stamp 2021-09-27 17:32:35 is 6492.676746056 s in the future\n",
      "tar: blobtools: time stamp 2021-09-27 17:32:35 is 6492.676592109 s in the future\n",
      "(quast) --2021-09-27 15:44:22--  https://itrop.ird.fr/ont-training/testBacteria.dmnd\n",
      "Resolving itrop.ird.fr (itrop.ird.fr)... 91.203.35.184\n",
      "Connecting to itrop.ird.fr (itrop.ird.fr)|91.203.35.184|:443... connected.\n",
      "HTTP request sent, awaiting response... 200 OK\n",
      "Length: 214010272 (204M)\n",
      "Saving to: ‘testBacteria.dmnd’\n",
      "\n",
      "testBacteria.dmnd   100%[===================>] 204.10M  38.5MB/s    in 6.1s    \n",
      "\n",
      "2021-09-27 15:44:28 (33.5 MB/s) - ‘testBacteria.dmnd’ saved [214010272/214010272]\n",
      "\n",
      "FINISHED --2021-09-27 15:44:28--\n",
      "Total wall clock time: 6.2s\n",
      "Downloaded: 1 files, 204M in 6.1s (33.5 MB/s)\n",
      "(quast) "
     ]
    },
    {
     "ename": "",
     "evalue": "1",
     "output_type": "error",
     "traceback": []
    }
   ],
   "source": [
    "cd ~/SG-ONT-2021/DATA\n",
    "wget --no-check-certificat -rm -nH --cut-dirs=1 --reject=\"index.html*\" https://itrop.ird.fr/ont-training/blobtools.tar.gz\n",
    "tar zxvf blobtools.tar.gz\n",
    "wget --no-check-certificat -rm -nH --cut-dirs=1 --reject=\"index.html*\" https://itrop.ird.fr/ont-training/testBacteria.dmnd"
   ]
  },
  {
   "cell_type": "markdown",
   "id": "19a086d6-97ab-4c54-8548-f3ef2d23c45b",
   "metadata": {},
   "source": [
    "Run Blobtools on each assembly. Blobtools requires both a BAM file as input and blast output for the classification step.2."
   ]
  },
  {
   "cell_type": "code",
   "execution_count": 25,
   "id": "29ddf6a4",
   "metadata": {},
   "outputs": [
    {
     "name": "stdout",
     "output_type": "stream",
     "text": [
      "(quast) (quast) "
     ]
    },
    {
     "ename": "",
     "evalue": "1",
     "output_type": "error",
     "traceback": []
    }
   ],
   "source": [
    "mkdir -p ~/SG-ONT-2021/RESULTS/BLOBTOOLS\n",
    "cd ~/SG-ONT-2021/RESULTS/BLOBTOOLS"
   ]
  },
  {
   "cell_type": "markdown",
   "id": "f2f0853e-5e75-48da-919b-fb0f40952087",
   "metadata": {},
   "source": [
    "### Blastx using diamond "
   ]
  },
  {
   "cell_type": "markdown",
   "id": "37fb5794-c58f-4146-97e0-cd3254ea260a",
   "metadata": {},
   "source": [
    "Run diamond in blastx mode using assembled contigs vs a pre-formatted diamond bacteria database (protein)"
   ]
  },
  {
   "cell_type": "code",
   "execution_count": 26,
   "id": "c74d8d08-f4fa-4d23-9dd4-1d897a013acb",
   "metadata": {},
   "outputs": [
    {
     "name": "stdout",
     "output_type": "stream",
     "text": [
      "(quast) (quast) (quast) ln: failed to create symbolic link 'Clone10_FLYE_RACONx2_MEDAKA.fasta': File exists\n",
      "(quast) (quast) (quast) "
     ]
    },
    {
     "ename": "",
     "evalue": "1",
     "output_type": "error",
     "traceback": []
    }
   ],
   "source": [
    "#prepare assembly file\n",
    "ASSEMBLY=\"/home/jovyan/SG-ONT-2021/RESULTS/FLYE_RACON_MEDAKA/MEDAKA_CONSENSUS/consensus.fasta\"\n",
    "#symbolic link from last assembly in the current repertory BLOBTOOLs\n",
    "ln -s ${ASSEMBLY} ${CLONE}_FLYE_RACONx2_MEDAKA.fasta\n",
    "# overwrite ASSEMBLY variable\n",
    "ASSEMBLY=${CLONE}_FLYE_RACONx2_MEDAKA.fasta"
   ]
  },
  {
   "cell_type": "code",
   "execution_count": 27,
   "id": "1a0ff04d-c4e1-4645-a3d9-0c37f9103981",
   "metadata": {
    "tags": []
   },
   "outputs": [
    {
     "name": "stdout",
     "output_type": "stream",
     "text": [
      "(diamond) diamond v2.0.11.149 (C) Max Planck Society for the Advancement of Science\n",
      "Documentation, support and updates available at http://www.diamondsearch.org\n",
      "Please cite: http://dx.doi.org/10.1038/s41592-021-01101-x Nature Methods (2021)\n",
      "\n",
      "#CPU threads: 4\n",
      "Scoring parameters: (Matrix=BLOSUM62 Lambda=0.267 K=0.041 Penalties=11/1)\n",
      "Temporary directory: \n",
      "#Target sequences to report alignments for: 1\n",
      "Opening the database...  [0.09s]\n",
      "Database: /home/jovyan/SG-ONT-2021/DATA/testBacteria.dmnd (type: Diamond database, sequences: 271272, letters: 174523808)\n",
      "Block size = 2000000000\n",
      "Opening the input file...  [0.001s]\n",
      "Opening the output file...  [0s]\n",
      "Loading query sequences...  [0.026s]\n",
      "Masking queries...  [0.117s]\n",
      "Algorithm: Double-indexed\n",
      "Building query histograms...  [0.171s]\n",
      "Allocating buffers...  [0s]\n",
      "Loading reference sequences...  [0.657s]\n",
      "Masking reference...  [3.093s]\n",
      "Initializing temporary storage...  [0s]\n",
      "Building reference histograms...  [5.313s]\n",
      "Allocating buffers...  [0s]\n",
      "Processing query block 1, reference block 1/1, shape 1/16, index chunk 1/4.\n",
      "Building reference seed array...  [0.436s]\n",
      "Building query seed array...  [0.022s]\n",
      "Computing hash join...  [0.065s]\n",
      "Building seed filter...  [0.004s]\n",
      "Searching alignments...  [0.024s]\n",
      "Processing query block 1, reference block 1/1, shape 1/16, index chunk 2/4.\n",
      "Building reference seed array...  [0.482s]\n",
      "Building query seed array...  [0.018s]\n",
      "Computing hash join...  [0.063s]\n",
      "Building seed filter...  [0.003s]\n",
      "Searching alignments...  [0.027s]\n",
      "Processing query block 1, reference block 1/1, shape 1/16, index chunk 3/4.\n",
      "Building reference seed array...  [0.505s]\n",
      "Building query seed array...  [0.022s]\n",
      "Computing hash join...  [0.063s]\n",
      "Building seed filter...  [0.004s]\n",
      "Searching alignments...  [0.026s]\n",
      "Processing query block 1, reference block 1/1, shape 1/16, index chunk 4/4.\n",
      "Building reference seed array...  [0.4s]\n",
      "Building query seed array...  [0.022s]\n",
      "Computing hash join...  [0.068s]\n",
      "Building seed filter...  [0.003s]\n",
      "Searching alignments...  [0.027s]\n",
      "Processing query block 1, reference block 1/1, shape 2/16, index chunk 1/4.\n",
      "Building reference seed array...  [0.42s]\n",
      "Building query seed array...  [0.022s]\n",
      "Computing hash join...  [0.057s]\n",
      "Building seed filter...  [0.003s]\n",
      "Searching alignments...  [0.022s]\n",
      "Processing query block 1, reference block 1/1, shape 2/16, index chunk 2/4.\n",
      "Building reference seed array...  [0.451s]\n",
      "Building query seed array...  [0.021s]\n",
      "Computing hash join...  [0.053s]\n",
      "Building seed filter...  [0.003s]\n",
      "Searching alignments...  [0.025s]\n",
      "Processing query block 1, reference block 1/1, shape 2/16, index chunk 3/4.\n",
      "Building reference seed array...  [0.473s]\n",
      "Building query seed array...  [0.027s]\n",
      "Computing hash join...  [0.053s]\n",
      "Building seed filter...  [0.007s]\n",
      "Searching alignments...  [0.026s]\n",
      "Processing query block 1, reference block 1/1, shape 2/16, index chunk 4/4.\n",
      "Building reference seed array...  [0.404s]\n",
      "Building query seed array...  [0.021s]\n",
      "Computing hash join...  [0.048s]\n",
      "Building seed filter...  [0.004s]\n",
      "Searching alignments...  [0.025s]\n",
      "Processing query block 1, reference block 1/1, shape 3/16, index chunk 1/4.\n",
      "Building reference seed array...  [0.431s]\n",
      "Building query seed array...  [0.013s]\n",
      "Computing hash join...  [0.063s]\n",
      "Building seed filter...  [0.003s]\n",
      "Searching alignments...  [0.026s]\n",
      "Processing query block 1, reference block 1/1, shape 3/16, index chunk 2/4.\n",
      "Building reference seed array...  [0.482s]\n",
      "Building query seed array...  [0.026s]\n",
      "Computing hash join...  [0.055s]\n",
      "Building seed filter...  [0.003s]\n",
      "Searching alignments...  [0.027s]\n",
      "Processing query block 1, reference block 1/1, shape 3/16, index chunk 3/4.\n",
      "Building reference seed array...  [0.532s]\n",
      "Building query seed array...  [0.028s]\n",
      "Computing hash join...  [0.05s]\n",
      "Building seed filter...  [0.003s]\n",
      "Searching alignments...  [0.026s]\n",
      "Processing query block 1, reference block 1/1, shape 3/16, index chunk 4/4.\n",
      "Building reference seed array...  [0.412s]\n",
      "Building query seed array...  [0.021s]\n",
      "Computing hash join...  [0.051s]\n",
      "Building seed filter...  [0.004s]\n",
      "Searching alignments...  [0.027s]\n",
      "Processing query block 1, reference block 1/1, shape 4/16, index chunk 1/4.\n",
      "Building reference seed array...  [0.414s]\n",
      "Building query seed array...  [0.016s]\n",
      "Computing hash join...  [0.058s]\n",
      "Building seed filter...  [0.003s]\n",
      "Searching alignments...  [0.027s]\n",
      "Processing query block 1, reference block 1/1, shape 4/16, index chunk 2/4.\n",
      "Building reference seed array...  [0.486s]\n",
      "Building query seed array...  [0.027s]\n",
      "Computing hash join...  [0.055s]\n",
      "Building seed filter...  [0.003s]\n",
      "Searching alignments...  [0.03s]\n",
      "Processing query block 1, reference block 1/1, shape 4/16, index chunk 3/4.\n",
      "Building reference seed array...  [0.481s]\n",
      "Building query seed array...  [0.025s]\n",
      "Computing hash join...  [0.059s]\n",
      "Building seed filter...  [0.003s]\n",
      "Searching alignments...  [0.028s]\n",
      "Processing query block 1, reference block 1/1, shape 4/16, index chunk 4/4.\n",
      "Building reference seed array...  [0.42s]\n",
      "Building query seed array...  [0.021s]\n",
      "Computing hash join...  [0.054s]\n",
      "Building seed filter...  [0.003s]\n",
      "Searching alignments...  [0.027s]\n",
      "Processing query block 1, reference block 1/1, shape 5/16, index chunk 1/4.\n",
      "Building reference seed array...  [0.419s]\n",
      "Building query seed array...  [0.021s]\n",
      "Computing hash join...  [0.06s]\n",
      "Building seed filter...  [0.003s]\n",
      "Searching alignments...  [0.03s]\n",
      "Processing query block 1, reference block 1/1, shape 5/16, index chunk 2/4.\n",
      "Building reference seed array...  [0.463s]\n",
      "Building query seed array...  [0.028s]\n",
      "Computing hash join...  [0.054s]\n",
      "Building seed filter...  [0.003s]\n",
      "Searching alignments...  [0.032s]\n",
      "Processing query block 1, reference block 1/1, shape 5/16, index chunk 3/4.\n",
      "Building reference seed array...  [0.478s]\n",
      "Building query seed array...  [0.026s]\n",
      "Computing hash join...  [0.061s]\n",
      "Building seed filter...  [0.004s]\n",
      "Searching alignments...  [0.03s]\n",
      "Processing query block 1, reference block 1/1, shape 5/16, index chunk 4/4.\n",
      "Building reference seed array...  [0.407s]\n",
      "Building query seed array...  [0.021s]\n",
      "Computing hash join...  [0.054s]\n",
      "Building seed filter...  [0.004s]\n",
      "Searching alignments...  [0.028s]\n",
      "Processing query block 1, reference block 1/1, shape 6/16, index chunk 1/4.\n",
      "Building reference seed array...  [0.44s]\n",
      "Building query seed array...  [0.022s]\n",
      "Computing hash join...  [0.063s]\n",
      "Building seed filter...  [0.004s]\n",
      "Searching alignments...  [0.027s]\n",
      "Processing query block 1, reference block 1/1, shape 6/16, index chunk 2/4.\n",
      "Building reference seed array...  [0.486s]\n",
      "Building query seed array...  [0.027s]\n",
      "Computing hash join...  [0.053s]\n",
      "Building seed filter...  [0.004s]\n",
      "Searching alignments...  [0.026s]\n",
      "Processing query block 1, reference block 1/1, shape 6/16, index chunk 3/4.\n",
      "Building reference seed array...  [0.465s]\n",
      "Building query seed array...  [0.027s]\n",
      "Computing hash join...  [0.05s]\n",
      "Building seed filter...  [0.004s]\n",
      "Searching alignments...  [0.025s]\n",
      "Processing query block 1, reference block 1/1, shape 6/16, index chunk 4/4.\n",
      "Building reference seed array...  [0.434s]\n",
      "Building query seed array...  [0.021s]\n",
      "Computing hash join...  [0.055s]\n",
      "Building seed filter...  [0.003s]\n",
      "Searching alignments...  [0.024s]\n",
      "Processing query block 1, reference block 1/1, shape 7/16, index chunk 1/4.\n",
      "Building reference seed array...  [0.42s]\n",
      "Building query seed array...  [0.023s]\n",
      "Computing hash join...  [0.061s]\n",
      "Building seed filter...  [0.004s]\n",
      "Searching alignments...  [0.029s]\n",
      "Processing query block 1, reference block 1/1, shape 7/16, index chunk 2/4.\n",
      "Building reference seed array...  [0.462s]\n",
      "Building query seed array...  [0.026s]\n",
      "Computing hash join...  [0.058s]\n",
      "Building seed filter...  [0.004s]\n",
      "Searching alignments...  [0.024s]\n",
      "Processing query block 1, reference block 1/1, shape 7/16, index chunk 3/4.\n",
      "Building reference seed array...  [0.473s]\n",
      "Building query seed array...  [0.029s]\n",
      "Computing hash join...  [0.05s]\n",
      "Building seed filter...  [0.003s]\n",
      "Searching alignments...  [0.025s]\n",
      "Processing query block 1, reference block 1/1, shape 7/16, index chunk 4/4.\n",
      "Building reference seed array...  [0.41s]\n",
      "Building query seed array...  [0.021s]\n",
      "Computing hash join...  [0.055s]\n",
      "Building seed filter...  [0.004s]\n",
      "Searching alignments...  [0.026s]\n",
      "Processing query block 1, reference block 1/1, shape 8/16, index chunk 1/4.\n",
      "Building reference seed array...  [0.395s]\n",
      "Building query seed array...  [0.021s]\n",
      "Computing hash join...  [0.055s]\n",
      "Building seed filter...  [0.007s]\n",
      "Searching alignments...  [0.026s]\n",
      "Processing query block 1, reference block 1/1, shape 8/16, index chunk 2/4.\n",
      "Building reference seed array...  [0.442s]\n",
      "Building query seed array...  [0.023s]\n",
      "Computing hash join...  [0.062s]\n",
      "Building seed filter...  [0.004s]\n",
      "Searching alignments...  [0.025s]\n",
      "Processing query block 1, reference block 1/1, shape 8/16, index chunk 3/4.\n",
      "Building reference seed array...  [0.491s]\n",
      "Building query seed array...  [0.028s]\n",
      "Computing hash join...  [0.059s]\n",
      "Building seed filter...  [0.005s]\n",
      "Searching alignments...  [0.024s]\n",
      "Processing query block 1, reference block 1/1, shape 8/16, index chunk 4/4.\n",
      "Building reference seed array...  [0.419s]\n",
      "Building query seed array...  [0.022s]\n",
      "Computing hash join...  [0.062s]\n",
      "Building seed filter...  [0.005s]\n",
      "Searching alignments...  [0.027s]\n",
      "Processing query block 1, reference block 1/1, shape 9/16, index chunk 1/4.\n",
      "Building reference seed array...  [0.454s]\n",
      "Building query seed array...  [0.02s]\n",
      "Computing hash join...  [0.06s]\n",
      "Building seed filter...  [0.004s]\n",
      "Searching alignments...  [0.029s]\n",
      "Processing query block 1, reference block 1/1, shape 9/16, index chunk 2/4.\n",
      "Building reference seed array...  [0.495s]\n",
      "Building query seed array...  [0.027s]\n",
      "Computing hash join...  [0.052s]\n",
      "Building seed filter...  [0.005s]\n",
      "Searching alignments...  [0.029s]\n",
      "Processing query block 1, reference block 1/1, shape 9/16, index chunk 3/4.\n",
      "Building reference seed array...  [0.498s]\n",
      "Building query seed array...  [0.027s]\n",
      "Computing hash join...  [0.061s]\n",
      "Building seed filter...  [0.004s]\n",
      "Searching alignments...  [0.026s]\n",
      "Processing query block 1, reference block 1/1, shape 9/16, index chunk 4/4.\n",
      "Building reference seed array...  [0.418s]\n",
      "Building query seed array...  [0.02s]\n",
      "Computing hash join...  [0.052s]\n",
      "Building seed filter...  [0.005s]\n",
      "Searching alignments...  [0.027s]\n",
      "Processing query block 1, reference block 1/1, shape 10/16, index chunk 1/4.\n",
      "Building reference seed array...  [0.432s]\n",
      "Building query seed array...  [0.021s]\n",
      "Computing hash join...  [0.049s]\n",
      "Building seed filter...  [0.005s]\n",
      "Searching alignments...  [0.03s]\n",
      "Processing query block 1, reference block 1/1, shape 10/16, index chunk 2/4.\n",
      "Building reference seed array...  [0.461s]\n",
      "Building query seed array...  [0.015s]\n",
      "Computing hash join...  [0.059s]\n",
      "Building seed filter...  [0.005s]\n",
      "Searching alignments...  [0.023s]\n",
      "Processing query block 1, reference block 1/1, shape 10/16, index chunk 3/4.\n",
      "Building reference seed array...  [0.481s]\n",
      "Building query seed array...  [0.016s]\n",
      "Computing hash join...  [0.066s]\n",
      "Building seed filter...  [0.004s]\n",
      "Searching alignments...  [0.026s]\n",
      "Processing query block 1, reference block 1/1, shape 10/16, index chunk 4/4.\n",
      "Building reference seed array...  [0.437s]\n",
      "Building query seed array...  [0.022s]\n",
      "Computing hash join...  [0.053s]\n",
      "Building seed filter...  [0.004s]\n",
      "Searching alignments...  [0.025s]\n",
      "Processing query block 1, reference block 1/1, shape 11/16, index chunk 1/4.\n",
      "Building reference seed array...  [0.415s]\n",
      "Building query seed array...  [0.017s]\n",
      "Computing hash join...  [0.05s]\n",
      "Building seed filter...  [0.008s]\n",
      "Searching alignments...  [0.03s]\n",
      "Processing query block 1, reference block 1/1, shape 11/16, index chunk 2/4.\n",
      "Building reference seed array...  [0.469s]\n",
      "Building query seed array...  [0.016s]\n",
      "Computing hash join...  [0.069s]\n",
      "Building seed filter...  [0.005s]\n",
      "Searching alignments...  [0.022s]\n",
      "Processing query block 1, reference block 1/1, shape 11/16, index chunk 3/4.\n",
      "Building reference seed array...  [0.469s]\n",
      "Building query seed array...  [0.026s]\n",
      "Computing hash join...  [0.053s]\n",
      "Building seed filter...  [0.004s]\n",
      "Searching alignments...  [0.023s]\n",
      "Processing query block 1, reference block 1/1, shape 11/16, index chunk 4/4.\n",
      "Building reference seed array...  [0.408s]\n",
      "Building query seed array...  [0.022s]\n",
      "Computing hash join...  [0.066s]\n",
      "Building seed filter...  [0.006s]\n",
      "Searching alignments...  [0.021s]\n",
      "Processing query block 1, reference block 1/1, shape 12/16, index chunk 1/4.\n",
      "Building reference seed array...  [0.415s]\n",
      "Building query seed array...  [0.022s]\n",
      "Computing hash join...  [0.056s]\n",
      "Building seed filter...  [0.004s]\n",
      "Searching alignments...  [0.021s]\n",
      "Processing query block 1, reference block 1/1, shape 12/16, index chunk 2/4.\n",
      "Building reference seed array...  [0.454s]\n",
      "Building query seed array...  [0.026s]\n",
      "Computing hash join...  [0.051s]\n",
      "Building seed filter...  [0.005s]\n",
      "Searching alignments...  [0.023s]\n",
      "Processing query block 1, reference block 1/1, shape 12/16, index chunk 3/4.\n",
      "Building reference seed array...  [0.495s]\n",
      "Building query seed array...  [0.03s]\n",
      "Computing hash join...  [0.051s]\n",
      "Building seed filter...  [0.005s]\n",
      "Searching alignments...  [0.023s]\n",
      "Processing query block 1, reference block 1/1, shape 12/16, index chunk 4/4.\n",
      "Building reference seed array...  [0.41s]\n",
      "Building query seed array...  [0.015s]\n",
      "Computing hash join...  [0.053s]\n",
      "Building seed filter...  [0.007s]\n",
      "Searching alignments...  [0.024s]\n",
      "Processing query block 1, reference block 1/1, shape 13/16, index chunk 1/4.\n",
      "Building reference seed array...  [0.404s]\n",
      "Building query seed array...  [0.013s]\n",
      "Computing hash join...  [0.053s]\n",
      "Building seed filter...  [0.005s]\n",
      "Searching alignments...  [0.024s]\n",
      "Processing query block 1, reference block 1/1, shape 13/16, index chunk 2/4.\n",
      "Building reference seed array...  [0.478s]\n",
      "Building query seed array...  [0.026s]\n",
      "Computing hash join...  [0.057s]\n",
      "Building seed filter...  [0.01s]\n",
      "Searching alignments...  [0.029s]\n",
      "Processing query block 1, reference block 1/1, shape 13/16, index chunk 3/4.\n",
      "Building reference seed array...  [0.491s]\n",
      "Building query seed array...  [0.029s]\n",
      "Computing hash join...  [0.066s]\n",
      "Building seed filter...  [0.007s]\n",
      "Searching alignments...  [0.031s]\n",
      "Processing query block 1, reference block 1/1, shape 13/16, index chunk 4/4.\n",
      "Building reference seed array...  [0.415s]\n",
      "Building query seed array...  [0.021s]\n",
      "Computing hash join...  [0.049s]\n",
      "Building seed filter...  [0.006s]\n",
      "Searching alignments...  [0.024s]\n",
      "Processing query block 1, reference block 1/1, shape 14/16, index chunk 1/4.\n",
      "Building reference seed array...  [0.416s]\n",
      "Building query seed array...  [0.022s]\n",
      "Computing hash join...  [0.056s]\n",
      "Building seed filter...  [0.007s]\n",
      "Searching alignments...  [0.024s]\n",
      "Processing query block 1, reference block 1/1, shape 14/16, index chunk 2/4.\n",
      "Building reference seed array...  [0.505s]\n",
      "Building query seed array...  [0.028s]\n",
      "Computing hash join...  [0.055s]\n",
      "Building seed filter...  [0.007s]\n",
      "Searching alignments...  [0.023s]\n",
      "Processing query block 1, reference block 1/1, shape 14/16, index chunk 3/4.\n",
      "Building reference seed array...  [0.496s]\n",
      "Building query seed array...  [0.028s]\n",
      "Computing hash join...  [0.064s]\n",
      "Building seed filter...  [0.007s]\n",
      "Searching alignments...  [0.029s]\n",
      "Processing query block 1, reference block 1/1, shape 14/16, index chunk 4/4.\n",
      "Building reference seed array...  [0.415s]\n",
      "Building query seed array...  [0.021s]\n",
      "Computing hash join...  [0.067s]\n",
      "Building seed filter...  [0.005s]\n",
      "Searching alignments...  [0.025s]\n",
      "Processing query block 1, reference block 1/1, shape 15/16, index chunk 1/4.\n",
      "Building reference seed array...  [0.436s]\n",
      "Building query seed array...  [0.021s]\n",
      "Computing hash join...  [0.06s]\n",
      "Building seed filter...  [0.005s]\n",
      "Searching alignments...  [0.024s]\n",
      "Processing query block 1, reference block 1/1, shape 15/16, index chunk 2/4.\n",
      "Building reference seed array...  [0.482s]\n",
      "Building query seed array...  [0.022s]\n",
      "Computing hash join...  [0.057s]\n",
      "Building seed filter...  [0.007s]\n",
      "Searching alignments...  [0.026s]\n",
      "Processing query block 1, reference block 1/1, shape 15/16, index chunk 3/4.\n",
      "Building reference seed array...  [0.492s]\n",
      "Building query seed array...  [0.025s]\n",
      "Computing hash join...  [0.066s]\n",
      "Building seed filter...  [0.008s]\n",
      "Searching alignments...  [0.025s]\n",
      "Processing query block 1, reference block 1/1, shape 15/16, index chunk 4/4.\n",
      "Building reference seed array...  [0.423s]\n",
      "Building query seed array...  [0.022s]\n",
      "Computing hash join...  [0.058s]\n",
      "Building seed filter...  [0.007s]\n",
      "Searching alignments...  [0.03s]\n",
      "Processing query block 1, reference block 1/1, shape 16/16, index chunk 1/4.\n",
      "Building reference seed array...  [0.391s]\n",
      "Building query seed array...  [0.021s]\n",
      "Computing hash join...  [0.05s]\n",
      "Building seed filter...  [0.007s]\n",
      "Searching alignments...  [0.024s]\n",
      "Processing query block 1, reference block 1/1, shape 16/16, index chunk 2/4.\n",
      "Building reference seed array...  [0.467s]\n",
      "Building query seed array...  [0.025s]\n",
      "Computing hash join...  [0.054s]\n",
      "Building seed filter...  [0.008s]\n",
      "Searching alignments...  [0.023s]\n",
      "Processing query block 1, reference block 1/1, shape 16/16, index chunk 3/4.\n",
      "Building reference seed array...  [0.508s]\n",
      "Building query seed array...  [0.025s]\n",
      "Computing hash join...  [0.052s]\n",
      "Building seed filter...  [0.008s]\n",
      "Searching alignments...  [0.022s]\n",
      "Processing query block 1, reference block 1/1, shape 16/16, index chunk 4/4.\n",
      "Building reference seed array...  [0.387s]\n",
      "Building query seed array...  [0.023s]\n",
      "Computing hash join...  [0.059s]\n",
      "Building seed filter...  [0.008s]\n",
      "Searching alignments...  [0.025s]\n",
      "Deallocating buffers...  [0.001s]\n",
      "Clearing query masking...  [0s]\n",
      "Computing alignments...  [0.698s]\n",
      "Deallocating reference...  [0.001s]\n",
      "Loading reference sequences...  [0s]\n",
      "Deallocating buffers...  [0s]\n",
      "Deallocating queries...  [0s]\n",
      "Loading query sequences...  [0s]\n",
      "Closing the input file...  [0s]\n",
      "Closing the output file...  [0s]\n",
      "Cleaning up...  [0s]\n",
      "Total time = 46.234s\n",
      "Reported 2 pairwise alignments, 2 HSPs.\n",
      "2 queries aligned.\n",
      "\n",
      "real\t0m46.248s\n",
      "user\t2m47.561s\n",
      "sys\t0m0.812s\n",
      "(diamond) (quast) "
     ]
    },
    {
     "ename": "",
     "evalue": "1",
     "output_type": "error",
     "traceback": []
    }
   ],
   "source": [
    "conda activate diamond\n",
    "time diamond blastx --query ${ASSEMBLY}  --db ~/SG-ONT-2021/DATA/testBacteria.dmnd  --outfmt 6 qseqid staxids bitscore qseqid sseqid pident length mismatch gapopen qstart qend sstart send evalue bitscore --sensitive  --max-target-seqs 1  --evalue 1e-25  --threads 4  --out diamond.csv\n",
    "conda deactivate"
   ]
  },
  {
   "cell_type": "code",
   "execution_count": 28,
   "id": "e7732d07-27de-4988-80fd-372b25ce7efe",
   "metadata": {},
   "outputs": [
    {
     "name": "stdout",
     "output_type": "stream",
     "text": [
      "contig_2\t376489\t211\tcontig_2\ttr|A0A172YAK3|A0A172YAK3_9GAMM\t36.7\t330\t201\t4\t37343\t38323\t196\t520\t2.83e-55\t211\n",
      "contig_4\t445710\t659\tcontig_4\ttr|A0A161JJ15|A0A161JJ15_9GAMM\t55.4\t632\t261\t7\t4420\t2570\t2\t627\t1.46e-209\t659\n",
      "(quast) "
     ]
    },
    {
     "ename": "",
     "evalue": "1",
     "output_type": "error",
     "traceback": []
    }
   ],
   "source": [
    "head diamond.csv"
   ]
  },
  {
   "cell_type": "markdown",
   "id": "8679816f-a9be-4b6d-b2d9-1d80cce34601",
   "metadata": {},
   "source": [
    "### Run blobtools "
   ]
  },
  {
   "cell_type": "markdown",
   "id": "d816e730-a8d8-4eb9-afef-45eaaaa2e710",
   "metadata": {},
   "source": [
    "Specifically to Blobtools: * nodes and names from ncbi taxdump database can be download from [here](https://github.com/DRL/blobtools#download-ncbi-taxdump-and-create-nodesdb).\n",
    "\n",
    "In this training nodes and names are available on the DATA directory"
   ]
  },
  {
   "cell_type": "code",
   "execution_count": 29,
   "id": "85d1b40a",
   "metadata": {},
   "outputs": [
    {
     "name": "stdout",
     "output_type": "stream",
     "text": [
      "(quast) (quast) (quast) (quast) "
     ]
    },
    {
     "ename": "",
     "evalue": "1",
     "output_type": "error",
     "traceback": []
    }
   ],
   "source": [
    "BAM=~/SG-ONT-2021/RESULTS/REMAPPING/${ASSEMBLY/.fasta/_ONT_minimap2.bam}\n",
    "DIAMONDX=~/SG-ONT-2021/RESULTS/BLOBTOOLS/diamond.csv\n",
    "BLOB_NODES=~/SG-ONT-2021/DATA/blobtools/nodes.dmp\n",
    "BLOB_NAMES=~/SG-ONT-2021/DATA/blobtools/names.dmp"
   ]
  },
  {
   "cell_type": "code",
   "execution_count": 30,
   "id": "65eecaf2-eaa8-4bb8-a141-f2c348df2017",
   "metadata": {},
   "outputs": [
    {
     "name": "stdout",
     "output_type": "stream",
     "text": [
      "(blobtools) [+] Parsing FASTA - Clone10_FLYE_RACONx2_MEDAKA.fasta\n",
      "[+] Store nodesDB in nodesDB.txt\n",
      "[%] : 100%|████████████████████████████████████████████████████████████████████████████████████████████████████████████████████████████████████████████████████████| 2.33M/2.33M [00:04<00:00, 569kit/s]\n",
      "[+] Parsing tax0 - /home/jovyan/SG-ONT-2021/RESULTS/BLOBTOOLS/diamond.csv\n",
      "[+] Computing taxonomy using taxrule(s) bestsum\n",
      "[%] : 100%|█████████████████████████████████████████████████████████████████████████████████████████████████████████████████████████████████████████████████████████| 4.00/4.00 [00:00<00:00, 33.9kit/s]\n",
      "[+] Parsing bam0 - /home/jovyan/SG-ONT-2021/RESULTS/REMAPPING/Clone10_FLYE_RACONx2_MEDAKA_ONT_minimap2.bam\n",
      "[+] -> 100.00 (4/4) of sequences have reads aligned to them.\n",
      "[+] -> 100.00 (11235/11235) of reads are mapped.\n",
      "[%] : 100%|██████████████████████████████████████████████████████████████████████████████████████████████████████████████████████████████████████████████████████████| 4.00/4.00 [00:01<00:00, 2.36it/s]\n",
      "[+] Generating data for view\n",
      "[%] : 100%|█████████████████████████████████████████████████████████████████████████████████████████████████████████████████████████████████████████████████████████| 4.00/4.00 [00:00<00:00, 62.8kit/s]\n",
      "[+] \tWriting quality.Clone10_FLYE_RACONx2_MEDAKA_ONT_minimap2.bam.cov\n",
      "[+] Generating BlobDB and writing to file quality.blobDB.json\n",
      "(blobtools) "
     ]
    },
    {
     "ename": "",
     "evalue": "1",
     "output_type": "error",
     "traceback": []
    }
   ],
   "source": [
    "conda activate blobtools\n",
    "blobtools create -i ${ASSEMBLY} -b ${BAM} -t ${DIAMONDX} -o quality --names ${BLOB_NAMES} --nodes ${BLOB_NODES} --db nodesDB.txt"
   ]
  },
  {
   "cell_type": "code",
   "execution_count": 31,
   "id": "b87ca3fd-830d-4729-b14c-431725c12bd2",
   "metadata": {
    "tags": []
   },
   "outputs": [
    {
     "name": "stdout",
     "output_type": "stream",
     "text": [
      "[+] Reading BlobDB quality.blobDB.json\n",
      "[+] \tLoading BlobDB into memory ...\n",
      "[+] \tDeserialising BlobDB (using 'json' module) (this may take a while, consider installing the 'ujson' module) ...\n",
      "[+] \tFinished in 0.0018737316131591797s\n",
      "[+] Preparing view(s) ...\n",
      "[+] Generating data for view\n",
      "[%] : 100%|█████████████████████████████████████████████████████████████████████████████████████████████████████████████████████████████████████████████████████████| 4.00/4.00 [00:00<00:00, 58.9kit/s]\n",
      "[+] \tWriting output.Clone10_FLYE_RACONx2_MEDAKA_ONT_minimap2.bam.cov\n",
      "[+] Generating data for view\n",
      "[%] : 100%|█████████████████████████████████████████████████████████████████████████████████████████████████████████████████████████████████████████████████████████| 4.00/4.00 [00:00<00:00, 40.7kit/s]\n",
      "[+] \tWriting output.quality.blobDB.table.txt\n",
      "[+] Writing output ...\n",
      "(blobtools) [+] Reading BlobDB quality.blobDB.json\n",
      "[+] \tLoading BlobDB into memory ...\n",
      "[+] \tDeserialising BlobDB (using 'json' module) (this may take a while, consider installing the 'ujson' module) ...\n",
      "[+] \tFinished in 0.0005040168762207031s\n",
      "[+] Extracting data for plots ...\n",
      "[I]\tno-hit : sequences = 2, span = 1.13 MB, N50 = 1,105,236 nt\n",
      "[I]\tProteobacteria : sequences = 2, span = 0.1 MB, N50 = 49,654 nt\n",
      "[+] Plotting quality.blobDB.json.bestsum.phylum.p8.span.100.blobplot.bam0.png\n",
      "/opt/conda/envs/blobtools/lib/python3.7/site-packages/blobtools/BtPlot.py:525: UserWarning: FixedFormatter should only be used together with FixedLocator\n",
      "  ax_main.set_yticklabels(['{:.0f}%'.format(x*100) for x in ax_main.get_yticks()])\n",
      "/opt/conda/envs/blobtools/lib/python3.7/site-packages/blobtools/BtPlot.py:534: UserWarning: FixedFormatter should only be used together with FixedLocator\n",
      "  ax_group.set_yticklabels(['{:.0f}%'.format(x*100) for x in ax_group.get_yticks()])\n",
      "[+] Plotting quality.blobDB.json.bestsum.phylum.p8.span.100.blobplot.read_cov.bam0.png\n",
      "[+] Writing quality.blobDB.json.bestsum.phylum.p8.span.100.blobplot.stats.txt\n",
      "(blobtools) "
     ]
    },
    {
     "ename": "",
     "evalue": "1",
     "output_type": "error",
     "traceback": []
    }
   ],
   "source": [
    "blobtools view -i quality.blobDB.json --cov -o output;\n",
    "blobtools plot -i quality.blobDB.json;"
   ]
  },
  {
   "cell_type": "code",
   "execution_count": 32,
   "id": "6ad6d0a2-8540-4765-9635-7deaa51c468e",
   "metadata": {},
   "outputs": [
    {
     "name": "stdout",
     "output_type": "stream",
     "text": [
      "(quast) "
     ]
    },
    {
     "ename": "",
     "evalue": "1",
     "output_type": "error",
     "traceback": []
    }
   ],
   "source": [
    "conda deactivate"
   ]
  },
  {
   "cell_type": "markdown",
   "id": "b11eacd4",
   "metadata": {},
   "source": [
    "#### Is there contamination in the assembly?\n",
    "\n",
    "#### Do any assemblies show strange clustering?\n",
    "\n",
    "#### Why might coverage vary across contigs within an assembly?"
   ]
  },
  {
   "cell_type": "markdown",
   "id": "b1a83cb0",
   "metadata": {},
   "source": [
    "The Blobplots all indicate a single cluster. Some contigs show fairly high coverage in comparison to the rest of the genome which could be repetitive elements in the genome."
   ]
  },
  {
   "cell_type": "markdown",
   "id": "4aa79df6",
   "metadata": {},
   "source": [
    "# 5. Comparative Alignment\n",
    "\n",
    "Comparative alignment is a useful tool to see how assemblies compare to each other. This can be useful to compare assemblies to a reference, or to see if assemblies have large structural differences.\n",
    "\n"
   ]
  },
  {
   "cell_type": "markdown",
   "id": "ea0a9801",
   "metadata": {},
   "source": [
    "Check assembled genome with dgenies : http://dgenies.toulouse.inra.fr/"
   ]
  },
  {
   "cell_type": "markdown",
   "id": "c90d3b9f",
   "metadata": {},
   "source": [
    "Since you have a reference genome available, an alternative option to de novo assembly is to assemble using a reference genome - by mapping of the sequence reads\n",
    "\n",
    "Prepare data to download into dgenies : \n",
    "\n",
    " * Reference.fasta ` ~/SG-ONT-2021/DATA/CloneX/reference.fasta `\n",
    " \n",
    " * ONT assembly in Clone20 (Flye+Raconx2+Medaka) ` ~/SG-ONT-2021/DATA/DGENIES/FRx2M_CloneX.fasta\" ` \n",
    " \n",
    " * ABYSS assembly generated with illumina reads  ` ~/SG-ONT-2021/DATA/DGENIES/Clone20-abyss.fasta ` \n",
    " "
   ]
  },
  {
   "cell_type": "markdown",
   "id": "68095a3b-0b91-4026-8fa2-69320f30e55d",
   "metadata": {},
   "source": [
    "#### What is the mean difference between illumina and ONT assembly for Clone20?"
   ]
  },
  {
   "cell_type": "code",
   "execution_count": null,
   "id": "f5507779-8a07-4697-910f-3da083a6d0e6",
   "metadata": {},
   "outputs": [],
   "source": []
  }
 ],
 "metadata": {
  "kernelspec": {
   "display_name": "Bash",
   "language": "bash",
   "name": "bash"
  },
  "language_info": {
   "codemirror_mode": "shell",
   "file_extension": ".sh",
   "mimetype": "text/x-sh",
   "name": "bash"
  }
 },
 "nbformat": 4,
 "nbformat_minor": 5
}
