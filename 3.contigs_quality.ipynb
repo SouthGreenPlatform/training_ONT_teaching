{
 "cells": [
  {
   "cell_type": "markdown",
   "id": "67552fbb",
   "metadata": {},
   "source": [
    "\n",
    "# <span style=\"color:#006E7F\">__Introduction to Oxford Nanopore Data Analysis__ <a class=\"anchor\"></span>  \n",
    "\n",
    "\n",
    "Created by J. Orjuela (DIADE-IRD), F. Sabot (DIADE-IRD) and G. Sarah (AGAP-INRAE) - Septembre 2021 Formation SouthGreen\n",
    "\n",
    "Adapted by J. Orjuela (DIADE-IRD), F. Sabot (DIADE-IRD) - Novembre 2022\n"
   ]
  },
  {
   "cell_type": "markdown",
   "id": "689c1b2d",
   "metadata": {
    "tags": []
   },
   "source": [
    "# <span style=\"color:#006E7F\">__TP3 - CONTIGS QUALITY__ <a class=\"anchor\" id=\"data\"></span>  \n",
    "    \n",
    "## <span style=\"color: #4CACBC;\"> 1. Perform a comparison of assemblies using QUAST</span>  \n"
   ]
  },
  {
   "cell_type": "markdown",
   "id": "a778bfc9",
   "metadata": {},
   "source": [
    "The metrics of assemblies can be evaluated using a quality assessment tool such as [QUAST](http://quast.bioinf.spbau.ru/manual.html).\n",
    "\n",
    "In part 2, we have assembled raw data using various assemblers and also polished and corrected it. \n",
    "\n",
    "Aggregate all assemblies you have produced for your favorite clone in a new folder named \"AGGREGATED\".\n",
    "\n",
    "We're going to compare it with QUAST."
   ]
  },
  {
   "cell_type": "code",
   "execution_count": null,
   "id": "bfa9b4cd",
   "metadata": {},
   "outputs": [],
   "source": [
    "CLONE=Clone20\n",
    "cd ~/work/RESULTS\n",
    "mkdir -p ~/work/RESULTS/AGGREGATED\n",
    "cd ~/work/RESULTS/AGGREGATED\n",
    "ln -s ~/work/RESULTS/FLYE/assembly.fasta ${CLONE}_FLYE.fasta\n",
    "ln -s ~/work/RESULTS/FLYE_RACON/assembly.racon2.fasta ${CLONE}_FLYE_RACONx2.fasta\n",
    "ln -s ~/work/RESULTS/FLYE_RACON_MEDAKA/MEDAKA_CONSENSUS/consensus.fasta ${CLONE}_FLYE_RACONx2_MEDAKA.fasta\n",
    "ls -l ~/work/RESULTS/AGGREGATED"
   ]
  },
  {
   "cell_type": "markdown",
   "id": "4aaf45ff",
   "metadata": {},
   "source": [
    "#### Do similar symbolic links to RAVEN results and check your folder"
   ]
  },
  {
   "cell_type": "code",
   "execution_count": null,
   "id": "446782b0-66b8-4b1d-813f-54d2e22afdb1",
   "metadata": {},
   "outputs": [],
   "source": []
  },
  {
   "cell_type": "markdown",
   "id": "1a5ccbc0",
   "metadata": {},
   "source": [
    "### <span style=\"color: #4CACBD;\"> 1.1  Run QUAST on CLONE assemblies and compare them </span>"
   ]
  },
  {
   "cell_type": "code",
   "execution_count": null,
   "id": "210bf799",
   "metadata": {
    "tags": []
   },
   "outputs": [],
   "source": [
    "cd ~/work/RESULTS/AGGREGATED/\n",
    "quast.py *.fasta -o QUAST"
   ]
  },
  {
   "cell_type": "markdown",
   "id": "f251f7c9",
   "metadata": {},
   "source": [
    "#### Go to the QUAST directory and check the file content.\n",
    "\n",
    "#### Looking at the output statistics, what are the main differences between the assemblies?\n",
    "\n",
    "#### Look total sizes, number of contigs, N50 statistics.\n",
    "\n",
    "#### For your favorite clone what is the best one ?"
   ]
  },
  {
   "cell_type": "markdown",
   "id": "e54cf5cb",
   "metadata": {},
   "source": [
    "### <span style=\"color: #4CACBD;\"> 1.2  Comparison of the assemblies against the reference genome of closely organism (REAL DATA !) </span>"
   ]
  },
  {
   "cell_type": "markdown",
   "id": "7f0309a7",
   "metadata": {},
   "source": [
    "It's possible to compare assemblies against the reference genome of closely related organism. \n",
    "\n",
    "In our case we will use the real dataset Hh. \n",
    "\n",
    "Previously calculated assemblies for Hh can be found in DATA/real_Hh/Hh-ASSEMBLIES (used CulebrONT)"
   ]
  },
  {
   "cell_type": "code",
   "execution_count": null,
   "id": "c8e2a20d",
   "metadata": {
    "tags": []
   },
   "outputs": [],
   "source": [
    "ls -lh ~/work/DATA/real_Hh/Hh-ASSEMBLIES"
   ]
  },
  {
   "cell_type": "markdown",
   "id": "d86ff5c7",
   "metadata": {},
   "source": [
    "### Compare Hh assemblies against the reference sequence using QUAST\n",
    "\n",
    "#### WARNING : This can take a while!! "
   ]
  },
  {
   "cell_type": "code",
   "execution_count": null,
   "id": "7b1578df",
   "metadata": {
    "tags": []
   },
   "outputs": [],
   "source": [
    "mkdir ~/work/RESULTS/AGGREGATED_Hh/\n",
    "cd ~/work/RESULTS/AGGREGATED_Hh/\n",
    "time quast.py /home/jovyan/work/DATA/real_Hh/Hh-ASSEMBLIES/*MEDAKA_STARTFIXED-CIRCULARISED.fasta -R /home/jovyan/work/DATA/real_Hh/REFH_M1C132.fasta -o QUAST_REF"
   ]
  },
  {
   "cell_type": "markdown",
   "id": "c482f4ba",
   "metadata": {
    "tags": []
   },
   "source": [
    "#### Which of the assemblies are closest in size relative to the reference ?\n",
    "\n",
    "#### Does this have the largest N50 and fewest number of contigs?"
   ]
  },
  {
   "cell_type": "markdown",
   "id": "07ff361a",
   "metadata": {
    "tags": []
   },
   "source": [
    "#### What assembly does obtain the best contiguity metrics?\n"
   ]
  },
  {
   "cell_type": "markdown",
   "id": "30db29bd",
   "metadata": {
    "tags": []
   },
   "source": [
    "## <span style=\"color: #4CACBD;\"> 2. Assessing gene space using BUSCO (REAL DATA) </span>\n"
   ]
  },
  {
   "cell_type": "markdown",
   "id": "ae690225",
   "metadata": {},
   "source": [
    "Benchmarking Universal Single-Copy Orthologs ([BUSCO](https://busco.ezlab.org/busco_userguide.html)) helps to check if you have a good assembly, by searching the expected single-copy lineage-conserved orthologs in any newly-sequenced genome from an appropriate phylogenetic clade."
   ]
  },
  {
   "cell_type": "markdown",
   "id": "84bbbda5",
   "metadata": {},
   "source": [
    "Calculate the gene space for each assembly"
   ]
  },
  {
   "cell_type": "code",
   "execution_count": null,
   "id": "ed5fd510",
   "metadata": {
    "tags": []
   },
   "outputs": [],
   "source": [
    "mkdir -p ~/work/RESULTS/AGGREGATED_Hh/BUSCO\n",
    "cd ~/work/RESULTS/AGGREGATED_Hh/BUSCO"
   ]
  },
  {
   "cell_type": "markdown",
   "id": "40200c0c",
   "metadata": {},
   "source": [
    "Lineage can be choose in busco database using --list-datasets parameter"
   ]
  },
  {
   "cell_type": "code",
   "execution_count": null,
   "id": "4851997d",
   "metadata": {
    "tags": []
   },
   "outputs": [],
   "source": [
    "# busco env\n",
    "conda activate busco"
   ]
  },
  {
   "cell_type": "code",
   "execution_count": null,
   "id": "7d69a0fd-5301-4237-95d1-bc670dbdbfc3",
   "metadata": {},
   "outputs": [],
   "source": [
    "busco --list-datasets"
   ]
  },
  {
   "cell_type": "code",
   "execution_count": null,
   "id": "f870bc44",
   "metadata": {
    "tags": []
   },
   "outputs": [],
   "source": [
    "ASSEMBLY=\"~/work/DATA/real_Hh/Hh-ASSEMBLIES/FLYE-STEP_CORRECTION_MEDAKA_STARTFIXED-CIRCULARISED.fasta\"\n",
    "LINEAGE=bacteria_odb10\n",
    "busco -i \"$ASSEMBLY\" -l \"$LINEAGE\" -c \"${CPUS:-4}\" -m genome -o BUSCO_RESULTS "
   ]
  },
  {
   "cell_type": "markdown",
   "id": "0b7b858a",
   "metadata": {
    "tags": []
   },
   "source": [
    "### What does the gene space look like for this assembly?\n",
    "\n",
    "#### Run BUSCO in all assemblies generated if you want... "
   ]
  },
  {
   "cell_type": "code",
   "execution_count": null,
   "id": "589b0770-9160-4c1d-bb7d-6a9523110b36",
   "metadata": {},
   "outputs": [],
   "source": [
    "# deactivate busco env\n",
    "conda deactivate"
   ]
  },
  {
   "cell_type": "markdown",
   "id": "742dd48c",
   "metadata": {},
   "source": [
    "## <span style=\"color: #4CACBD;\"> 3. Read alignment statistics - remapping (CLONE) </span>"
   ]
  },
  {
   "cell_type": "markdown",
   "id": "5461cea9",
   "metadata": {},
   "source": [
    "Read congruency is an important measure in determining assembly accuracy. Clusters of read pairs that align incorrectly are strong indicators of mis-assembly.\n",
    "\n",
    "How well do the reads align back to the draft assemblies? Use minimap2 and samtools to assess the basic alignment statistics.\n",
    "\n",
    "Make a folder for your results.\n",
    "\n",
    "We will use CloneX_FLYE_RACONx2_MEDAKA.fasta assembly and ONT READS as well ILLUMINA READS."
   ]
  },
  {
   "cell_type": "code",
   "execution_count": null,
   "id": "94d90ca1",
   "metadata": {},
   "outputs": [],
   "source": [
    "mkdir -p ~/work/RESULTS/REMAPPING\n",
    "cd ~/work/RESULTS/REMAPPING/"
   ]
  },
  {
   "cell_type": "code",
   "execution_count": null,
   "id": "e4ff7f9c",
   "metadata": {},
   "outputs": [],
   "source": [
    "CLONE=\"Clone10\"\n",
    "ASSEMBLY=\"/home/jovyan/work/RESULTS/FLYE_RACON_MEDAKA/MEDAKA_CONSENSUS/consensus.fasta\"\n",
    "ONT=\"/home/jovyan/work/DATA/${CLONE}/ONT/${CLONE}.fastq.gz\"\n",
    "ILLUMINA_R1=\"/home/jovyan/work/DATA/${CLONE}/ILL/${CLONE}_R1.fastq.gz\"\n",
    "ILLUMINA_R2=\"/home/jovyan/work/DATA/${CLONE}/ILL/${CLONE}_R2.fastq.gz\""
   ]
  },
  {
   "cell_type": "code",
   "execution_count": null,
   "id": "2152e288-d138-4845-b901-2ecc3d529fb2",
   "metadata": {},
   "outputs": [],
   "source": [
    "echo $CLONE\n",
    "echo $ASSEMBLY\n",
    "echo $ONT\n",
    "echo $ILLUMINA_R1\n",
    "echo $ILLUMINA_R2"
   ]
  },
  {
   "cell_type": "code",
   "execution_count": null,
   "id": "54bd54dd",
   "metadata": {},
   "outputs": [],
   "source": [
    "#symbolic link from last assembly in the current repertory ReMAPPING\n",
    "ln -s ${ASSEMBLY} ${CLONE}_FLYE_RACONx2_MEDAKA.fasta\n",
    "# overwrite ASSEMBLY variable\n",
    "ASSEMBLY=${CLONE}_FLYE_RACONx2_MEDAKA.fasta"
   ]
  },
  {
   "cell_type": "markdown",
   "id": "6a651496",
   "metadata": {},
   "source": [
    "## Mapping assemblies vs ONT reads"
   ]
  },
  {
   "cell_type": "code",
   "execution_count": null,
   "id": "dac7f01b",
   "metadata": {},
   "outputs": [],
   "source": [
    "minimap2 -ax map-ont -t 4 ${ASSEMBLY} ${ONT} | samtools sort -@ 1 -T \"${ASSEMBLY/.fasta/}\" -O BAM -o \"${ASSEMBLY/.fasta/_ONT_minimap2.bam}\" -\n",
    "samtools index \"${ASSEMBLY/.fasta/_ONT_minimap2.bam}\"\n",
    "samtools view -F 0x904 -c \"${ASSEMBLY/.fasta/_ONT_minimap2.bam}\""
   ]
  },
  {
   "cell_type": "markdown",
   "id": "5cae8f23",
   "metadata": {},
   "source": [
    "## Mapping assemblies vs ILLUMINA reads"
   ]
  },
  {
   "cell_type": "code",
   "execution_count": null,
   "id": "ed5b06a8",
   "metadata": {},
   "outputs": [],
   "source": [
    "#minimap2 -ax sr ref.fa read1.fq read2.fq > aln.sam\n",
    "minimap2 -ax sr -t 4 ${ASSEMBLY} ${ILLUMINA_R1} ${ILLUMINA_R2} | samtools sort -@ 1 -T \"${ASSEMBLY/.fasta/}\" -O BAM -o \"${ASSEMBLY/.fasta/_ILL_minimap2.bam}\" -\n",
    "samtools index \"${ASSEMBLY/.fasta/_ILL_minimap2.bam}\"\n",
    "samtools view -F 0x904 -c \"${ASSEMBLY/.fasta/_ILL_minimap2.bam}\""
   ]
  },
  {
   "cell_type": "markdown",
   "id": "06280206",
   "metadata": {},
   "source": [
    "### What is the percentage of aligned ONT and ILLUMINa reads in your clone assembly?"
   ]
  },
  {
   "cell_type": "markdown",
   "id": "5311c01b",
   "metadata": {},
   "source": [
    "## <span style=\"color: #4CACBD;\"> 4. Blobtools </span>\n",
    "\n",
    "During the sequence quality assessment stage we tried to discern whether contamination was present. Sometimes this is not feasible at the read level. By plotting Contig GC content vs Contig Read Coverage we can look for clusters of contigs that share similar coverage. The appearance of multiple clusters can indicate multiple organisms. Occasionally, contigs can also be taxonomically classified, providing further evidence for contaminants.\n",
    "\n",
    "First we need to download some files"
   ]
  },
  {
   "cell_type": "code",
   "execution_count": null,
   "id": "4d011647",
   "metadata": {},
   "outputs": [],
   "source": [
    "cd ~/work/DATA\n",
    "wget --no-check-certificat -rm -nH --cut-dirs=1 --reject=\"index.html*\" https://itrop.ird.fr/ont-training/blobtools.tar.gz\n",
    "tar zxvf blobtools.tar.gz\n",
    "wget --no-check-certificat -rm -nH --cut-dirs=1 --reject=\"index.html*\" https://itrop.ird.fr/ont-training/testBacteria.dmnd"
   ]
  },
  {
   "cell_type": "markdown",
   "id": "e93a8cf9",
   "metadata": {},
   "source": [
    "Run Blobtools on each assembly. Blobtools requires both a BAM file as input and blast output for the classification step.2."
   ]
  },
  {
   "cell_type": "code",
   "execution_count": null,
   "id": "4aa3cd18",
   "metadata": {},
   "outputs": [],
   "source": [
    "mkdir -p ~/work/RESULTS/BLOBTOOLS\n",
    "cd ~/work/RESULTS/BLOBTOOLS"
   ]
  },
  {
   "cell_type": "markdown",
   "id": "24abae55",
   "metadata": {},
   "source": [
    "### Blastx using diamond "
   ]
  },
  {
   "cell_type": "markdown",
   "id": "b1514305",
   "metadata": {},
   "source": [
    "Run diamond in blastx mode using assembled contigs vs a pre-formatted diamond bacteria database (protein)"
   ]
  },
  {
   "cell_type": "code",
   "execution_count": null,
   "id": "a01cc1b7",
   "metadata": {},
   "outputs": [],
   "source": [
    "#prepare assembly file\n",
    "ASSEMBLY=\"/home/jovyan/work/RESULTS/FLYE_RACON_MEDAKA/MEDAKA_CONSENSUS/consensus.fasta\"\n",
    "#symbolic link from last assembly in the current repertory BLOBTOOLs\n",
    "ln -s ${ASSEMBLY} ${CLONE}_FLYE_RACONx2_MEDAKA.fasta\n",
    "# overwrite ASSEMBLY variable\n",
    "ASSEMBLY=${CLONE}_FLYE_RACONx2_MEDAKA.fasta"
   ]
  },
  {
   "cell_type": "code",
   "execution_count": null,
   "id": "1a850f9f",
   "metadata": {
    "tags": []
   },
   "outputs": [],
   "source": [
    "time diamond blastx --query ${ASSEMBLY}  --db ~/work/DATA/testBacteria.dmnd  --outfmt 6 qseqid staxids bitscore qseqid sseqid pident length mismatch gapopen qstart qend sstart send evalue bitscore --sensitive  --max-target-seqs 1  --evalue 1e-25  --threads 4  --out diamond.csv"
   ]
  },
  {
   "cell_type": "code",
   "execution_count": null,
   "id": "949b3b65",
   "metadata": {},
   "outputs": [],
   "source": [
    "head diamond.csv"
   ]
  },
  {
   "cell_type": "code",
   "execution_count": null,
   "id": "2cd972ba-2d3c-4575-a756-40a9aeeb9c1f",
   "metadata": {},
   "outputs": [],
   "source": [
    "pwd"
   ]
  },
  {
   "cell_type": "markdown",
   "id": "bc24364e",
   "metadata": {},
   "source": [
    "### Run blobtools "
   ]
  },
  {
   "cell_type": "markdown",
   "id": "0b521dd5",
   "metadata": {},
   "source": [
    "Specifically to Blobtools: * nodes and names from ncbi taxdump database can be download from [here](https://github.com/DRL/blobtools#download-ncbi-taxdump-and-create-nodesdb).\n",
    "\n",
    "In this training nodes and names are available on the DATA directory"
   ]
  },
  {
   "cell_type": "code",
   "execution_count": null,
   "id": "f541ff14",
   "metadata": {},
   "outputs": [],
   "source": [
    "BAM=~/work/RESULTS/REMAPPING/${ASSEMBLY/.fasta/_ONT_minimap2.bam}\n",
    "DIAMONDX=~/work/RESULTS/BLOBTOOLS/diamond.csv\n",
    "BLOB_NODES=~/work/DATA/blobtools/nodes.dmp\n",
    "BLOB_NAMES=~/work/DATA/blobtools/names.dmp"
   ]
  },
  {
   "cell_type": "code",
   "execution_count": null,
   "id": "7edc3247",
   "metadata": {},
   "outputs": [],
   "source": [
    "blobtools create -i ${ASSEMBLY} -b ${BAM} -t ${DIAMONDX} -o quality --names ${BLOB_NAMES} --nodes ${BLOB_NODES} --db nodesDB.txt"
   ]
  },
  {
   "cell_type": "code",
   "execution_count": null,
   "id": "3571693e",
   "metadata": {
    "tags": []
   },
   "outputs": [],
   "source": [
    "blobtools view -i quality.blobDB.json --cov -o output;\n",
    "blobtools plot -i quality.blobDB.json;"
   ]
  },
  {
   "cell_type": "markdown",
   "id": "7b625824",
   "metadata": {},
   "source": [
    "#### Is there contamination in the assembly?\n",
    "\n",
    "#### Do any assemblies show strange clustering?\n",
    "\n",
    "#### Why might coverage vary across contigs within an assembly?"
   ]
  },
  {
   "cell_type": "markdown",
   "id": "1b4bb928",
   "metadata": {},
   "source": [
    "The Blobplots all indicate a single cluster. Some contigs show fairly high coverage in comparison to the rest of the genome which could be repetitive elements in the genome."
   ]
  },
  {
   "cell_type": "markdown",
   "id": "26be95ee",
   "metadata": {},
   "source": [
    "## <span style=\"color: #4CACBD;\"> 5. Comparative Alignment </span>\n",
    "\n",
    "Comparative alignment is a useful tool to see how assemblies compare to each other. This can be useful to compare assemblies to a reference, or to see if assemblies have large structural differences.\n",
    "\n"
   ]
  },
  {
   "cell_type": "markdown",
   "id": "83f1169a",
   "metadata": {},
   "source": [
    "Check assembled genome with dgenies : http://dgenies.toulouse.inra.fr/"
   ]
  },
  {
   "cell_type": "markdown",
   "id": "fd54b12c",
   "metadata": {},
   "source": [
    "Since you have a reference genome available, an alternative option to de novo assembly is to assemble using a reference genome - by mapping of the sequence reads\n",
    "\n",
    "Prepare data to download into dgenies : \n",
    "\n",
    " * Reference.fasta ` ~/work/DATA/CloneX/reference.fasta `\n",
    " \n",
    " * ONT assembly in CloneX (Flye+Raconx2+Medaka) ` ~/work/RESULTS/FLYE_RACON_MEDAKA/MEDAKA_CONSENSUS/consensus.fasta\" ` \n",
    " \n",
    " * ABYSS assembly generated with illumina reads  ` ~/work/DATA/DGENIES/Clone20-abyss.fasta ` \n",
    " "
   ]
  },
  {
   "cell_type": "markdown",
   "id": "cd5b63e8",
   "metadata": {},
   "source": [
    "ABYSS illumina assemblies are stocked on itrop server. Use wget to download it "
   ]
  },
  {
   "cell_type": "code",
   "execution_count": null,
   "id": "1ee793db",
   "metadata": {},
   "outputs": [],
   "source": [
    "cd ~/work/DATA/\n",
    "wget --no-check-certificat -rm -nH --cut-dirs=1 --reject=\"index.html*\" https://itrop.ird.fr/ont-training/DGENIES.tar.gz\n",
    "tar zxvf DGENIES.tar.gz"
   ]
  },
  {
   "cell_type": "markdown",
   "id": "31b60d8c",
   "metadata": {},
   "source": [
    "#### What is the mean difference between illumina and ONT assembly for Clone20?"
   ]
  }
 ],
 "metadata": {
  "kernelspec": {
   "display_name": "Bash",
   "language": "bash",
   "name": "bash"
  },
  "language_info": {
   "codemirror_mode": "shell",
   "file_extension": ".sh",
   "mimetype": "text/x-sh",
   "name": "bash"
  }
 },
 "nbformat": 4,
 "nbformat_minor": 5
}
