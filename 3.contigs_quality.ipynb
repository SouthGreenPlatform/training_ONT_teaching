{
 "cells": [
  {
   "cell_type": "markdown",
   "id": "2f09a11c",
   "metadata": {},
   "source": [
    "# Formation South Green 2021  \n",
    "\n",
    "##  Initiation à l’analyse de données Minion\n",
    "\n",
    "### PART 3\n",
    "\n",
    "Created by J.Orjuela (DIADE-IRD), F. Sabot (DIADE-IRD) and G. Sarah (AGAP-CIRAD)\n",
    "\n",
    "Septembre 2021"
   ]
  },
  {
   "cell_type": "markdown",
   "id": "1b501034-0730-4e13-a3b7-a250211b0908",
   "metadata": {},
   "source": [
    "You can found assemblies results files for the whole of Clones in the DATA/AGGREGATED repertory."
   ]
  },
  {
   "cell_type": "markdown",
   "id": "3d07c5cc",
   "metadata": {
    "tags": []
   },
   "source": [
    "# 1. Perform a comparison of assemblies using QUAST"
   ]
  },
  {
   "cell_type": "markdown",
   "id": "93831a0f",
   "metadata": {},
   "source": [
    "The metrics of assemblies can be evaluated using a quality assessment tools such as [QUAST](http://quast.bioinf.spbau.ru/manual.html).\n",
    "\n",
    "In part 2, we have assembled raw data using various assemblers and also polished and corrected it. \n",
    "\n",
    "Aggregate all assemblies you have produced for your favorite clone in a new folder named \"AGGREGATED\".\n",
    "\n",
    "We're going to compare it with QUAST."
   ]
  },
  {
   "cell_type": "code",
   "execution_count": 3,
   "id": "7c1d8478-a12c-46f9-bf0b-f5af405e21ee",
   "metadata": {},
   "outputs": [
    {
     "name": "stdout",
     "output_type": "stream",
     "text": [
      "(quast) "
     ]
    },
    {
     "ename": "",
     "evalue": "1",
     "output_type": "error",
     "traceback": []
    }
   ],
   "source": [
    "# active quast env\n",
    "conda activate quast"
   ]
  },
  {
   "cell_type": "code",
   "execution_count": 18,
   "id": "04d7cfe2",
   "metadata": {},
   "outputs": [
    {
     "name": "stdout",
     "output_type": "stream",
     "text": [
      "(quast) (quast) (quast) (quast) (quast) (quast) (quast) total 0\n",
      "lrwxrwxrwx 1 jovyan users 52 Sep 15 09:48 Clone20_FLYE.fasta -> /home/jovyan/SG-ONT-2021/RESULTS/FLYE/assembly.fasta\n",
      "lrwxrwxrwx 1 jovyan users 65 Sep 15 09:48 Clone20_FLYE_RACONx2.fasta -> /home/jovyan/SG-ONT-2021/RESULTS/FLYE_RACON/assembly.racon2.fasta\n",
      "lrwxrwxrwx 1 jovyan users 83 Sep 15 09:48 Clone20_FLYE_RACONx2_MEDAKA.fasta -> /home/jovyan/SG-ONT-2021/RESULTS/FLYE_RACON_MEDAKA/MEDAKA_CONSENSUS/consensus.fasta\n",
      "(quast) "
     ]
    },
    {
     "ename": "",
     "evalue": "1",
     "output_type": "error",
     "traceback": []
    }
   ],
   "source": [
    "CLONE=Clone20\n",
    "cd ~/SG-ONT-2021/RESULTS\n",
    "mkdir -p ~/SG-ONT-2021/RESULTS/AGGREGATED\n",
    "cd ~/SG-ONT-2021/RESULTS/AGGREGATED\n",
    "ln -s ~/SG-ONT-2021/RESULTS/FLYE/assembly.fasta ${CLONE}_FLYE.fasta\n",
    "ln -s ~/SG-ONT-2021/RESULTS/FLYE_RACON/assembly.racon2.fasta ${CLONE}_FLYE_RACONx2.fasta\n",
    "ln -s ~/SG-ONT-2021/RESULTS/FLYE_RACON_MEDAKA/MEDAKA_CONSENSUS/consensus.fasta ${CLONE}_FLYE_RACONx2_MEDAKA.fasta\n",
    "ls -l ~/SG-ONT-2021/RESULTS/AGGREGATED"
   ]
  },
  {
   "cell_type": "markdown",
   "id": "06f4ab95-999b-4de2-b628-43427ccf4452",
   "metadata": {},
   "source": [
    "#### Do similar symbolic links to RAVEN results and check your forder"
   ]
  },
  {
   "cell_type": "markdown",
   "id": "a0ff6d3b",
   "metadata": {},
   "source": [
    "## 1.1  Run QUAST on CLONE assemblies and compare them"
   ]
  },
  {
   "cell_type": "code",
   "execution_count": 19,
   "id": "36fcf4f3",
   "metadata": {
    "tags": []
   },
   "outputs": [
    {
     "name": "stdout",
     "output_type": "stream",
     "text": [
      "(quast) /opt/conda/envs/quast/bin/quast.py Clone20_FLYE.fasta Clone20_FLYE_RACONx2.fasta Clone20_FLYE_RACONx2_MEDAKA.fasta -o QUAST\n",
      "\n",
      "Version: 5.0.2\n",
      "\n",
      "System information:\n",
      "  OS: Linux-4.19.0-16-cloud-amd64-x86_64-with-debian-bullseye-sid (linux_64)\n",
      "  Python version: 3.7.10\n",
      "  CPUs number: 4\n",
      "\n",
      "Started: 2021-09-15 09:48:48\n",
      "\n",
      "Logging to /home/jovyan/SG-ONT-2021/RESULTS/AGGREGATED/QUAST/quast.log\n",
      "NOTICE: Maximum number of threads is set to 1 (use --threads option to set it manually)\n",
      "\n",
      "CWD: /home/jovyan/SG-ONT-2021/RESULTS/AGGREGATED\n",
      "Main parameters: \n",
      "  MODE: default, threads: 1, minimum contig length: 500, minimum alignment length: 65, \\\n",
      "  ambiguity: one, threshold for extensive misassembly size: 1000\n",
      "\n",
      "Contigs:\n",
      "  Pre-processing...\n",
      "  1  Clone20_FLYE.fasta ==> Clone20_FLYE\n",
      "  2  Clone20_FLYE_RACONx2.fasta ==> Clone20_FLYE_RACONx2\n",
      "  3  Clone20_FLYE_RACONx2_MEDAKA.fasta ==> Clone20_FLYE_RACONx2_MEDAKA\n",
      "\n",
      "2021-09-15 09:48:48\n",
      "Running Basic statistics processor...\n",
      "  Contig files: \n",
      "    1  Clone20_FLYE\n",
      "    2  Clone20_FLYE_RACONx2\n",
      "    3  Clone20_FLYE_RACONx2_MEDAKA\n",
      "  Calculating N50 and L50...\n",
      "    1  Clone20_FLYE, N50 = 1085435, L50 = 1, Total length = 1185033, GC % = 45.73, # N's per 100 kbp =  0.00\n",
      "    2  Clone20_FLYE_RACONx2, N50 = 1079833, L50 = 1, Total length = 1178330, GC % = 45.83, # N's per 100 kbp =  0.00\n",
      "    3  Clone20_FLYE_RACONx2_MEDAKA, N50 = 1085227, L50 = 1, Total length = 1184454, GC % = 45.90, # N's per 100 kbp =  0.00\n",
      "  Drawing Nx plot...\n",
      "    saved to /home/jovyan/SG-ONT-2021/RESULTS/AGGREGATED/QUAST/basic_stats/Nx_plot.pdf\n",
      "  Drawing cumulative plot...\n",
      "    saved to /home/jovyan/SG-ONT-2021/RESULTS/AGGREGATED/QUAST/basic_stats/cumulative_plot.pdf\n",
      "  Drawing GC content plot...\n",
      "    saved to /home/jovyan/SG-ONT-2021/RESULTS/AGGREGATED/QUAST/basic_stats/GC_content_plot.pdf\n",
      "  Drawing Clone20_FLYE GC content plot...\n",
      "    saved to /home/jovyan/SG-ONT-2021/RESULTS/AGGREGATED/QUAST/basic_stats/Clone20_FLYE_GC_content_plot.pdf\n",
      "  Drawing Clone20_FLYE_RACONx2 GC content plot...\n",
      "    saved to /home/jovyan/SG-ONT-2021/RESULTS/AGGREGATED/QUAST/basic_stats/Clone20_FLYE_RACONx2_GC_content_plot.pdf\n",
      "  Drawing Clone20_FLYE_RACONx2_MEDAKA GC content plot...\n",
      "    saved to /home/jovyan/SG-ONT-2021/RESULTS/AGGREGATED/QUAST/basic_stats/Clone20_FLYE_RACONx2_MEDAKA_GC_content_plot.pdf\n",
      "Done.\n",
      "\n",
      "NOTICE: Genes are not predicted by default. Use --gene-finding or --glimmer option to enable it.\n",
      "\n",
      "2021-09-15 09:48:50\n",
      "Creating large visual summaries...\n",
      "This may take a while: press Ctrl-C to skip this step..\n",
      "  1 of 2: Creating Icarus viewers...\n",
      "  2 of 2: Creating PDF with all tables and plots...\n",
      "Done\n",
      "\n",
      "2021-09-15 09:48:52\n",
      "RESULTS:\n",
      "  Text versions of total report are saved to /home/jovyan/SG-ONT-2021/RESULTS/AGGREGATED/QUAST/report.txt, report.tsv, and report.tex\n",
      "  Text versions of transposed total report are saved to /home/jovyan/SG-ONT-2021/RESULTS/AGGREGATED/QUAST/transposed_report.txt, transposed_report.tsv, and transposed_report.tex\n",
      "  HTML version (interactive tables and plots) is saved to /home/jovyan/SG-ONT-2021/RESULTS/AGGREGATED/QUAST/report.html\n",
      "  PDF version (tables and plots) is saved to /home/jovyan/SG-ONT-2021/RESULTS/AGGREGATED/QUAST/report.pdf\n",
      "  Icarus (contig browser) is saved to /home/jovyan/SG-ONT-2021/RESULTS/AGGREGATED/QUAST/icarus.html\n",
      "  Log is saved to /home/jovyan/SG-ONT-2021/RESULTS/AGGREGATED/QUAST/quast.log\n",
      "\n",
      "Finished: 2021-09-15 09:48:52\n",
      "Elapsed time: 0:00:03.941241\n",
      "NOTICEs: 2; WARNINGs: 0; non-fatal ERRORs: 0\n",
      "\n",
      "Thank you for using QUAST!\n",
      "(quast) "
     ]
    },
    {
     "ename": "",
     "evalue": "1",
     "output_type": "error",
     "traceback": []
    }
   ],
   "source": [
    "cd ~/SG-ONT-2021/RESULTS/AGGREGATED/\n",
    "quast.py *.fasta -o QUAST"
   ]
  },
  {
   "cell_type": "markdown",
   "id": "7bacaea0",
   "metadata": {},
   "source": [
    "#### Go to the QUAST directory and check the file content.\n",
    "\n",
    "#### Looking at the output statistics, what are the main difference between the assemblies?\n",
    "\n",
    "#### Look total sizes, number of contigs, N50 statistics.\n",
    "\n",
    "#### For your favorite clone what is the best one ?"
   ]
  },
  {
   "cell_type": "markdown",
   "id": "17cd9fc8",
   "metadata": {},
   "source": [
    "## 1.2  Comparison of the assemblies against the reference genome of closely organism (REAL DATA !)"
   ]
  },
  {
   "cell_type": "markdown",
   "id": "3eb7ccc0",
   "metadata": {},
   "source": [
    "It's possible to compare assemblies against the reference genome of closely related organism. \n",
    "\n",
    "In our case we will use the real dataset Hh. \n",
    "\n",
    "Previously calculated assemblies for Hh can be found in DATA/real_Hh/Hh-ASSEMBLIES"
   ]
  },
  {
   "cell_type": "code",
   "execution_count": 20,
   "id": "e0bed810-54cb-470d-8258-e9b73b129003",
   "metadata": {
    "collapsed": true,
    "jupyter": {
     "outputs_hidden": true
    },
    "tags": []
   },
   "outputs": [
    {
     "name": "stdout",
     "output_type": "stream",
     "text": [
      "total 763M\n",
      "-rw-r----- 1 jovyan users 2.6M Sep 13 09:14 CANU-STEP_ASSEMBLY-CIRCULARISED.fasta\n",
      "-rw-r----- 1 jovyan users 1.1K Sep 13 09:14 CANU-STEP_ASSEMBLY-CIRCULARISED.fasta.fai\n",
      "-rw-r----- 1 jovyan users 8.7M Sep 13 09:14 CANU-STEP_ASSEMBLY-CIRCULARISED.fasta.mmi\n",
      "-rw-r----- 1 jovyan users 2.6M Sep 13 09:14 CANU-STEP_CORRECTION_MEDAKA_STARTFIXED-CIRCULARISED.fasta\n",
      "-rw-r----- 1 jovyan users 1.1K Sep 13 09:14 CANU-STEP_CORRECTION_MEDAKA_STARTFIXED-CIRCULARISED.fasta.fai\n",
      "-rw-r----- 1 jovyan users 8.7M Sep 13 09:14 CANU-STEP_CORRECTION_MEDAKA_STARTFIXED-CIRCULARISED.fasta.mmi\n",
      "-rw-r----- 1 jovyan users 2.6M Sep 13 09:14 CANU-STEP_POLISHING_RACON-CIRCULARISED.fasta\n",
      "-rw-r----- 1 jovyan users 1.3K Sep 13 09:14 CANU-STEP_POLISHING_RACON-CIRCULARISED.fasta.fai\n",
      "-rw-r----- 1 jovyan users 8.7M Sep 13 09:14 CANU-STEP_POLISHING_RACON-CIRCULARISED.fasta.mmi\n",
      "-rw-r----- 1 jovyan users 2.2M Sep 13 09:14 FLYE-STEP_ASSEMBLY-CIRCULARISED.fasta\n",
      "-rw-r----- 1 jovyan users  200 Sep 13 09:14 FLYE-STEP_ASSEMBLY-CIRCULARISED.fasta.fai\n",
      "-rw-r----- 1 jovyan users 7.4M Sep 13 09:14 FLYE-STEP_ASSEMBLY-CIRCULARISED.fasta.mmi\n",
      "-rw-r----- 1 jovyan users 2.2M Sep 13 09:14 FLYE-STEP_CORRECTION_MEDAKA_STARTFIXED-CIRCULARISED.fasta\n",
      "-rw-r----- 1 jovyan users  313 Sep 13 09:14 FLYE-STEP_CORRECTION_MEDAKA_STARTFIXED-CIRCULARISED.fasta.fai\n",
      "-rw-r----- 1 jovyan users 7.4M Sep 13 09:14 FLYE-STEP_CORRECTION_MEDAKA_STARTFIXED-CIRCULARISED.fasta.mmi\n",
      "-rw-r----- 1 jovyan users 2.1M Sep 13 09:14 FLYE-STEP_POLISHING_RACON-CIRCULARISED.fasta\n",
      "-rw-r----- 1 jovyan users  358 Sep 13 09:14 FLYE-STEP_POLISHING_RACON-CIRCULARISED.fasta.fai\n",
      "-rw-r----- 1 jovyan users 7.4M Sep 13 09:14 FLYE-STEP_POLISHING_RACON-CIRCULARISED.fasta.mmi\n",
      "-rw-r----- 1 jovyan users  12M Sep 13 09:14 MINIASM-STEP_ASSEMBLY-CIRCULARISED.fasta\n",
      "-rw-r----- 1 jovyan users 3.0K Sep 13 09:14 MINIASM-STEP_ASSEMBLY-CIRCULARISED.fasta.fai\n",
      "-rw-r----- 1 jovyan users  41M Sep 13 09:14 MINIASM-STEP_ASSEMBLY-CIRCULARISED.fasta.mmi\n",
      "-rw-r----- 1 jovyan users  12M Sep 13 09:14 MINIASM-STEP_CORRECTION_MEDAKA_STARTFIXED-CIRCULARISED.fasta\n",
      "-rw-r----- 1 jovyan users 3.0K Sep 13 09:14 MINIASM-STEP_CORRECTION_MEDAKA_STARTFIXED-CIRCULARISED.fasta.fai\n",
      "-rw-r----- 1 jovyan users  41M Sep 13 09:14 MINIASM-STEP_CORRECTION_MEDAKA_STARTFIXED-CIRCULARISED.fasta.mmi\n",
      "-rw-r----- 1 jovyan users  12M Sep 13 09:14 MINIASM-STEP_POLISHING_RACON-CIRCULARISED.fasta\n",
      "-rw-r----- 1 jovyan users 3.0K Sep 13 09:14 MINIASM-STEP_POLISHING_RACON-CIRCULARISED.fasta.fai\n",
      "-rw-r----- 1 jovyan users  41M Sep 13 09:14 MINIASM-STEP_POLISHING_RACON-CIRCULARISED.fasta.mmi\n",
      "-rw-r----- 1 jovyan users  11M Sep 13 09:14 RAVEN-STEP_ASSEMBLY-CIRCULARISED.fasta\n",
      "-rw-r----- 1 jovyan users 2.4K Sep 13 09:14 RAVEN-STEP_ASSEMBLY-CIRCULARISED.fasta.fai\n",
      "-rw-r----- 1 jovyan users  38M Sep 13 09:14 RAVEN-STEP_ASSEMBLY-CIRCULARISED.fasta.mmi\n",
      "-rw-r----- 1 jovyan users  12M Sep 13 09:14 RAVEN-STEP_CORRECTION_MEDAKA_STARTFIXED-CIRCULARISED.fasta\n",
      "-rw-r----- 1 jovyan users 1.9K Sep 13 09:14 RAVEN-STEP_CORRECTION_MEDAKA_STARTFIXED-CIRCULARISED.fasta.fai\n",
      "-rw-r----- 1 jovyan users  38M Sep 13 09:14 RAVEN-STEP_CORRECTION_MEDAKA_STARTFIXED-CIRCULARISED.fasta.mmi\n",
      "-rw-r----- 1 jovyan users  11M Sep 13 09:14 RAVEN-STEP_POLISHING_RACON-CIRCULARISED.fasta\n",
      "-rw-r----- 1 jovyan users 2.4K Sep 13 09:14 RAVEN-STEP_POLISHING_RACON-CIRCULARISED.fasta.fai\n",
      "-rw-r----- 1 jovyan users  38M Sep 13 09:14 RAVEN-STEP_POLISHING_RACON-CIRCULARISED.fasta.mmi\n",
      "-rw-r----- 1 jovyan users  20M Sep 13 09:14 SHASTA-STEP_ASSEMBLY-CIRCULARISED.fasta\n",
      "-rw-r----- 1 jovyan users 171K Sep 13 09:14 SHASTA-STEP_ASSEMBLY-CIRCULARISED.fasta.fai\n",
      "-rw-r----- 1 jovyan users  63M Sep 13 09:14 SHASTA-STEP_ASSEMBLY-CIRCULARISED.fasta.mmi\n",
      "-rw-r----- 1 jovyan users  15M Sep 13 09:14 SHASTA-STEP_CORRECTION_MEDAKA_STARTFIXED-CIRCULARISED.fasta\n",
      "-rw-r----- 1 jovyan users  32K Sep 13 09:14 SHASTA-STEP_CORRECTION_MEDAKA_STARTFIXED-CIRCULARISED.fasta.fai\n",
      "-rw-r----- 1 jovyan users  49M Sep 13 09:14 SHASTA-STEP_CORRECTION_MEDAKA_STARTFIXED-CIRCULARISED.fasta.mmi\n",
      "-rw-r----- 1 jovyan users  15M Sep 13 09:14 SHASTA-STEP_POLISHING_RACON-CIRCULARISED.fasta\n",
      "-rw-r----- 1 jovyan users  38K Sep 13 09:14 SHASTA-STEP_POLISHING_RACON-CIRCULARISED.fasta.fai\n",
      "-rw-r----- 1 jovyan users  49M Sep 13 09:14 SHASTA-STEP_POLISHING_RACON-CIRCULARISED.fasta.mmi\n",
      "-rw-r----- 1 jovyan users  15M Sep 13 09:14 SMARTDENOVO-STEP_ASSEMBLY-CIRCULARISED.fasta\n",
      "-rw-r----- 1 jovyan users 2.9K Sep 13 09:14 SMARTDENOVO-STEP_ASSEMBLY-CIRCULARISED.fasta.fai\n",
      "-rw-r----- 1 jovyan users  50M Sep 13 09:14 SMARTDENOVO-STEP_ASSEMBLY-CIRCULARISED.fasta.mmi\n",
      "-rw-r----- 1 jovyan users  15M Sep 13 09:14 SMARTDENOVO-STEP_CORRECTION_MEDAKA_STARTFIXED-CIRCULARISED.fasta\n",
      "-rw-r----- 1 jovyan users 3.0K Sep 13 09:14 SMARTDENOVO-STEP_CORRECTION_MEDAKA_STARTFIXED-CIRCULARISED.fasta.fai\n",
      "-rw-r----- 1 jovyan users  50M Sep 13 09:14 SMARTDENOVO-STEP_CORRECTION_MEDAKA_STARTFIXED-CIRCULARISED.fasta.mmi\n",
      "-rw-r----- 1 jovyan users  15M Sep 13 09:14 SMARTDENOVO-STEP_POLISHING_RACON-CIRCULARISED.fasta\n",
      "-rw-r----- 1 jovyan users 3.7K Sep 13 09:14 SMARTDENOVO-STEP_POLISHING_RACON-CIRCULARISED.fasta.fai\n",
      "-rw-r----- 1 jovyan users  49M Sep 13 09:14 SMARTDENOVO-STEP_POLISHING_RACON-CIRCULARISED.fasta.mmi\n",
      "(quast) "
     ]
    },
    {
     "ename": "",
     "evalue": "1",
     "output_type": "error",
     "traceback": []
    }
   ],
   "source": [
    "ls -lh ~/SG-ONT-2021/DATA/real_Hh/Hh-ASSEMBLIES"
   ]
  },
  {
   "cell_type": "markdown",
   "id": "0a2e093c-5265-402a-aa11-f8a6265820fe",
   "metadata": {},
   "source": [
    "### Compare Hh assemblies against the reference sequence using QUAST\n",
    "\n",
    "This can take a while!! "
   ]
  },
  {
   "cell_type": "code",
   "execution_count": 22,
   "id": "eb7636a7",
   "metadata": {
    "collapsed": true,
    "jupyter": {
     "outputs_hidden": true
    },
    "tags": []
   },
   "outputs": [
    {
     "name": "stdout",
     "output_type": "stream",
     "text": [
      "mkdir: cannot create directory ‘/home/jovyan/SG-ONT-2021/RESULTS/AGGREGATED_Hh/’: File exists\n",
      "(quast) (quast) (quast) /opt/conda/envs/quast/bin/quast.py /home/jovyan/SG-ONT-2021/DATA/real_Hh/Hh-ASSEMBLIES/CANU-STEP_ASSEMBLY-CIRCULARISED.fasta /home/jovyan/SG-ONT-2021/DATA/real_Hh/Hh-ASSEMBLIES/CANU-STEP_CORRECTION_MEDAKA_STARTFIXED-CIRCULARISED.fasta /home/jovyan/SG-ONT-2021/DATA/real_Hh/Hh-ASSEMBLIES/CANU-STEP_POLISHING_RACON-CIRCULARISED.fasta /home/jovyan/SG-ONT-2021/DATA/real_Hh/Hh-ASSEMBLIES/FLYE-STEP_ASSEMBLY-CIRCULARISED.fasta /home/jovyan/SG-ONT-2021/DATA/real_Hh/Hh-ASSEMBLIES/FLYE-STEP_CORRECTION_MEDAKA_STARTFIXED-CIRCULARISED.fasta /home/jovyan/SG-ONT-2021/DATA/real_Hh/Hh-ASSEMBLIES/FLYE-STEP_POLISHING_RACON-CIRCULARISED.fasta /home/jovyan/SG-ONT-2021/DATA/real_Hh/Hh-ASSEMBLIES/MINIASM-STEP_ASSEMBLY-CIRCULARISED.fasta /home/jovyan/SG-ONT-2021/DATA/real_Hh/Hh-ASSEMBLIES/MINIASM-STEP_CORRECTION_MEDAKA_STARTFIXED-CIRCULARISED.fasta /home/jovyan/SG-ONT-2021/DATA/real_Hh/Hh-ASSEMBLIES/MINIASM-STEP_POLISHING_RACON-CIRCULARISED.fasta /home/jovyan/SG-ONT-2021/DATA/real_Hh/Hh-ASSEMBLIES/RAVEN-STEP_ASSEMBLY-CIRCULARISED.fasta /home/jovyan/SG-ONT-2021/DATA/real_Hh/Hh-ASSEMBLIES/RAVEN-STEP_CORRECTION_MEDAKA_STARTFIXED-CIRCULARISED.fasta /home/jovyan/SG-ONT-2021/DATA/real_Hh/Hh-ASSEMBLIES/RAVEN-STEP_POLISHING_RACON-CIRCULARISED.fasta /home/jovyan/SG-ONT-2021/DATA/real_Hh/Hh-ASSEMBLIES/SHASTA-STEP_ASSEMBLY-CIRCULARISED.fasta /home/jovyan/SG-ONT-2021/DATA/real_Hh/Hh-ASSEMBLIES/SHASTA-STEP_CORRECTION_MEDAKA_STARTFIXED-CIRCULARISED.fasta /home/jovyan/SG-ONT-2021/DATA/real_Hh/Hh-ASSEMBLIES/SHASTA-STEP_POLISHING_RACON-CIRCULARISED.fasta /home/jovyan/SG-ONT-2021/DATA/real_Hh/Hh-ASSEMBLIES/SMARTDENOVO-STEP_ASSEMBLY-CIRCULARISED.fasta /home/jovyan/SG-ONT-2021/DATA/real_Hh/Hh-ASSEMBLIES/SMARTDENOVO-STEP_CORRECTION_MEDAKA_STARTFIXED-CIRCULARISED.fasta /home/jovyan/SG-ONT-2021/DATA/real_Hh/Hh-ASSEMBLIES/SMARTDENOVO-STEP_POLISHING_RACON-CIRCULARISED.fasta -R /home/jovyan/SG-ONT-2021/DATA/real_Hh/REFH_M1C132.fasta -o QUAST_REF\n",
      "\n",
      "Version: 5.0.2\n",
      "\n",
      "System information:\n",
      "  OS: Linux-4.19.0-16-cloud-amd64-x86_64-with-debian-bullseye-sid (linux_64)\n",
      "  Python version: 3.7.10\n",
      "  CPUs number: 4\n",
      "\n",
      "Started: 2021-09-15 11:54:03\n",
      "\n",
      "Logging to /home/jovyan/SG-ONT-2021/RESULTS/AGGREGATED_Hh/QUAST_REF/quast.log\n",
      "NOTICE: Maximum number of threads is set to 1 (use --threads option to set it manually)\n",
      "\n",
      "CWD: /home/jovyan/SG-ONT-2021/RESULTS/AGGREGATED_Hh\n",
      "Main parameters: \n",
      "  MODE: default, threads: 1, minimum contig length: 500, minimum alignment length: 65, \\\n",
      "  ambiguity: one, threshold for extensive misassembly size: 1000\n",
      "\n",
      "Reference:\n",
      "  /home/jovyan/SG-ONT-2021/DATA/real_Hh/REFH_M1C132.fasta ==> REFH_M1C132\n",
      "\n",
      "Contigs:\n",
      "  Pre-processing...\n",
      "  1  /home/jovyan/SG-ONT-2021/DATA/real_Hh/Hh-ASSEMBLIES/CANU-STEP_ASSEMBLY-CIRCULARISED.fasta ==> CANU_STEP_ASSEMBLY_CIRCULARISED\n",
      "  2  /home/jovyan/SG-ONT-2021/DATA/real_Hh/Hh-ASSEMBLIES/CANU-STEP_CORRECTION_MEDAKA_STARTFIXED-CIRCULARISED.fasta ==> CANU_STEP_CORRECTION_MEDAKA_STARTFIXED_CIRCULARISED\n",
      "  3  /home/jovyan/SG-ONT-2021/DATA/real_Hh/Hh-ASSEMBLIES/CANU-STEP_POLISHING_RACON-CIRCULARISED.fasta ==> CANU_STEP_POLISHING_RACON_CIRCULARISED\n",
      "  4  /home/jovyan/SG-ONT-2021/DATA/real_Hh/Hh-ASSEMBLIES/FLYE-STEP_ASSEMBLY-CIRCULARISED.fasta ==> FLYE_STEP_ASSEMBLY_CIRCULARISED\n",
      "  5  /home/jovyan/SG-ONT-2021/DATA/real_Hh/Hh-ASSEMBLIES/FLYE-STEP_CORRECTION_MEDAKA_STARTFIXED-CIRCULARISED.fasta ==> FLYE_STEP_CORRECTION_MEDAKA_STARTFIXED_CIRCULARISED\n",
      "  6  /home/jovyan/SG-ONT-2021/DATA/real_Hh/Hh-ASSEMBLIES/FLYE-STEP_POLISHING_RACON-CIRCULARISED.fasta ==> FLYE_STEP_POLISHING_RACON_CIRCULARISED\n",
      "  7  /home/jovyan/SG-ONT-2021/DATA/real_Hh/Hh-ASSEMBLIES/MINIASM-STEP_ASSEMBLY-CIRCULARISED.fasta ==> MINIASM_STEP_ASSEMBLY_CIRCULARISED\n",
      "  8  /home/jovyan/SG-ONT-2021/DATA/real_Hh/Hh-ASSEMBLIES/MINIASM-STEP_CORRECTION_MEDAKA_STARTFIXED-CIRCULARISED.fasta ==> MINIASM_STEP_CORRECTION_MEDAKA_STARTFIXED_CIRCULARISED\n",
      "  9  /home/jovyan/SG-ONT-2021/DATA/real_Hh/Hh-ASSEMBLIES/MINIASM-STEP_POLISHING_RACON-CIRCULARISED.fasta ==> MINIASM_STEP_POLISHING_RACON_CIRCULARISED\n",
      "  10 /home/jovyan/SG-ONT-2021/DATA/real_Hh/Hh-ASSEMBLIES/RAVEN-STEP_ASSEMBLY-CIRCULARISED.fasta ==> RAVEN_STEP_ASSEMBLY_CIRCULARISED\n",
      "  11 /home/jovyan/SG-ONT-2021/DATA/real_Hh/Hh-ASSEMBLIES/RAVEN-STEP_CORRECTION_MEDAKA_STARTFIXED-CIRCULARISED.fasta ==> RAVEN_STEP_CORRECTION_MEDAKA_STARTFIXED_CIRCULARISED\n",
      "  12 /home/jovyan/SG-ONT-2021/DATA/real_Hh/Hh-ASSEMBLIES/RAVEN-STEP_POLISHING_RACON-CIRCULARISED.fasta ==> RAVEN_STEP_POLISHING_RACON_CIRCULARISED\n",
      "  13 /home/jovyan/SG-ONT-2021/DATA/real_Hh/Hh-ASSEMBLIES/SHASTA-STEP_ASSEMBLY-CIRCULARISED.fasta ==> SHASTA_STEP_ASSEMBLY_CIRCULARISED\n",
      "  14 /home/jovyan/SG-ONT-2021/DATA/real_Hh/Hh-ASSEMBLIES/SHASTA-STEP_CORRECTION_MEDAKA_STARTFIXED-CIRCULARISED.fasta ==> SHASTA_STEP_CORRECTION_MEDAKA_STARTFIXED_CIRCULARISED\n",
      "  15 /home/jovyan/SG-ONT-2021/DATA/real_Hh/Hh-ASSEMBLIES/SHASTA-STEP_POLISHING_RACON-CIRCULARISED.fasta ==> SHASTA_STEP_POLISHING_RACON_CIRCULARISED\n",
      "  16 /home/jovyan/SG-ONT-2021/DATA/real_Hh/Hh-ASSEMBLIES/SMARTDENOVO-STEP_ASSEMBLY-CIRCULARISED.fasta ==> SMARTDENOVO_STEP_ASSEMBLY_CIRCULARISED\n",
      "  17 /home/jovyan/SG-ONT-2021/DATA/real_Hh/Hh-ASSEMBLIES/SMARTDENOVO-STEP_CORRECTION_MEDAKA_STARTFIXED-CIRCULARISED.fasta ==> SMARTDENOVO_STEP_CORRECTION_MEDAKA_STARTFIXED_CIRCULARISED\n",
      "  18 /home/jovyan/SG-ONT-2021/DATA/real_Hh/Hh-ASSEMBLIES/SMARTDENOVO-STEP_POLISHING_RACON-CIRCULARISED.fasta ==> SMARTDENOVO_STEP_POLISHING_RACON_CIRCULARISED\n",
      "\n",
      "2021-09-15 11:54:10\n",
      "Running Basic statistics processor...\n",
      "  Reference genome:\n",
      "    REFH_M1C132.fasta, length = 2111568, num fragments = 4, GC % = 38.43\n",
      "  Contig files: \n",
      "    1  CANU_STEP_ASSEMBLY_CIRCULARISED\n",
      "    2  CANU_STEP_CORRECTION_MEDAKA_STARTFIXED_CIRCULARISED\n",
      "    3  CANU_STEP_POLISHING_RACON_CIRCULARISED\n",
      "    4  FLYE_STEP_ASSEMBLY_CIRCULARISED\n",
      "    5  FLYE_STEP_CORRECTION_MEDAKA_STARTFIXED_CIRCULARISED\n",
      "    6  FLYE_STEP_POLISHING_RACON_CIRCULARISED\n",
      "    7  MINIASM_STEP_ASSEMBLY_CIRCULARISED\n",
      "    8  MINIASM_STEP_CORRECTION_MEDAKA_STARTFIXED_CIRCULARISED\n",
      "    9  MINIASM_STEP_POLISHING_RACON_CIRCULARISED\n",
      "    10 RAVEN_STEP_ASSEMBLY_CIRCULARISED\n",
      "    11 RAVEN_STEP_CORRECTION_MEDAKA_STARTFIXED_CIRCULARISED\n",
      "    12 RAVEN_STEP_POLISHING_RACON_CIRCULARISED\n",
      "    13 SHASTA_STEP_ASSEMBLY_CIRCULARISED\n",
      "    14 SHASTA_STEP_CORRECTION_MEDAKA_STARTFIXED_CIRCULARISED\n",
      "    15 SHASTA_STEP_POLISHING_RACON_CIRCULARISED\n",
      "    16 SMARTDENOVO_STEP_ASSEMBLY_CIRCULARISED\n",
      "    17 SMARTDENOVO_STEP_CORRECTION_MEDAKA_STARTFIXED_CIRCULARISED\n",
      "    18 SMARTDENOVO_STEP_POLISHING_RACON_CIRCULARISED\n",
      "  Calculating N50 and L50...\n",
      "    1  CANU_STEP_ASSEMBLY_CIRCULARISED, N50 = 2107702, L50 = 1, Total length = 2632487, GC % = 40.46, # N's per 100 kbp =  0.00\n",
      "    2  CANU_STEP_CORRECTION_MEDAKA_STARTFIXED_CIRCULARISED, N50 = 2108530, L50 = 1, Total length = 2630776, GC % = 40.48, # N's per 100 kbp =  0.00\n",
      "    3  CANU_STEP_POLISHING_RACON_CIRCULARISED, N50 = 2107795, L50 = 1, Total length = 2626750, GC % = 40.44, # N's per 100 kbp =  0.00\n",
      "    4  FLYE_STEP_ASSEMBLY_CIRCULARISED, N50 = 2051342, L50 = 1, Total length = 2175733, GC % = 38.50, # N's per 100 kbp =  0.00\n",
      "    5  FLYE_STEP_CORRECTION_MEDAKA_STARTFIXED_CIRCULARISED, N50 = 2052025, L50 = 1, Total length = 2175295, GC % = 38.49, # N's per 100 kbp =  0.00\n",
      "    6  FLYE_STEP_POLISHING_RACON_CIRCULARISED, N50 = 2051279, L50 = 1, Total length = 2174617, GC % = 38.49, # N's per 100 kbp =  0.00\n",
      "    7  MINIASM_STEP_ASSEMBLY_CIRCULARISED, N50 = 178258, L50 = 16, Total length = 12226519, GC % = 52.45, # N's per 100 kbp =  0.00\n",
      "    8  MINIASM_STEP_CORRECTION_MEDAKA_STARTFIXED_CIRCULARISED, N50 = 178910, L50 = 16, Total length = 12266310, GC % = 52.55, # N's per 100 kbp =  0.00\n",
      "    9  MINIASM_STEP_POLISHING_RACON_CIRCULARISED, N50 = 178258, L50 = 16, Total length = 12226519, GC % = 52.45, # N's per 100 kbp =  0.00\n",
      "    10 RAVEN_STEP_ASSEMBLY_CIRCULARISED, N50 = 356961, L50 = 7, Total length = 11310154, GC % = 52.37, # N's per 100 kbp =  0.00\n",
      "    11 RAVEN_STEP_CORRECTION_MEDAKA_STARTFIXED_CIRCULARISED, N50 = 363022, L50 = 7, Total length = 11462095, GC % = 52.81, # N's per 100 kbp =  0.00\n",
      "    12 RAVEN_STEP_POLISHING_RACON_CIRCULARISED, N50 = 361456, L50 = 7, Total length = 11419823, GC % = 52.67, # N's per 100 kbp =  0.00\n",
      "    13 SHASTA_STEP_ASSEMBLY_CIRCULARISED, N50 = 21235, L50 = 67, Total length = 19597693, GC % = 47.84, # N's per 100 kbp =  0.00\n",
      "    14 SHASTA_STEP_CORRECTION_MEDAKA_STARTFIXED_CIRCULARISED, N50 = 118179, L50 = 21, Total length = 15224433, GC % = 50.43, # N's per 100 kbp =  0.00\n",
      "    15 SHASTA_STEP_POLISHING_RACON_CIRCULARISED, N50 = 117580, L50 = 21, Total length = 15200014, GC % = 50.39, # N's per 100 kbp =  0.00\n",
      "    16 SMARTDENOVO_STEP_ASSEMBLY_CIRCULARISED, N50 = 433066, L50 = 11, Total length = 14855266, GC % = 51.99, # N's per 100 kbp =  0.00\n",
      "    17 SMARTDENOVO_STEP_CORRECTION_MEDAKA_STARTFIXED_CIRCULARISED, N50 = 433073, L50 = 11, Total length = 14891483, GC % = 52.09, # N's per 100 kbp =  0.00\n",
      "    18 SMARTDENOVO_STEP_POLISHING_RACON_CIRCULARISED, N50 = 433318, L50 = 11, Total length = 14852828, GC % = 52.02, # N's per 100 kbp =  0.00\n",
      "  Drawing Nx plot...\n",
      "    saved to /home/jovyan/SG-ONT-2021/RESULTS/AGGREGATED_Hh/QUAST_REF/basic_stats/Nx_plot.pdf\n",
      "  Drawing NGx plot...\n",
      "    saved to /home/jovyan/SG-ONT-2021/RESULTS/AGGREGATED_Hh/QUAST_REF/basic_stats/NGx_plot.pdf\n",
      "  Drawing cumulative plot...\n",
      "    saved to /home/jovyan/SG-ONT-2021/RESULTS/AGGREGATED_Hh/QUAST_REF/basic_stats/cumulative_plot.pdf\n",
      "  Drawing GC content plot...\n",
      "    saved to /home/jovyan/SG-ONT-2021/RESULTS/AGGREGATED_Hh/QUAST_REF/basic_stats/GC_content_plot.pdf\n",
      "  Drawing CANU_STEP_ASSEMBLY_CIRCULARISED GC content plot...\n",
      "    saved to /home/jovyan/SG-ONT-2021/RESULTS/AGGREGATED_Hh/QUAST_REF/basic_stats/CANU_STEP_ASSEMBLY_CIRCULARISED_GC_content_plot.pdf\n",
      "  Drawing CANU_STEP_CORRECTION_MEDAKA_STARTFIXED_CIRCULARISED GC content plot...\n",
      "    saved to /home/jovyan/SG-ONT-2021/RESULTS/AGGREGATED_Hh/QUAST_REF/basic_stats/CANU_STEP_CORRECTION_MEDAKA_STARTFIXED_CIRCULARISED_GC_content_plot.pdf\n",
      "  Drawing CANU_STEP_POLISHING_RACON_CIRCULARISED GC content plot...\n",
      "    saved to /home/jovyan/SG-ONT-2021/RESULTS/AGGREGATED_Hh/QUAST_REF/basic_stats/CANU_STEP_POLISHING_RACON_CIRCULARISED_GC_content_plot.pdf\n",
      "  Drawing FLYE_STEP_ASSEMBLY_CIRCULARISED GC content plot...\n",
      "    saved to /home/jovyan/SG-ONT-2021/RESULTS/AGGREGATED_Hh/QUAST_REF/basic_stats/FLYE_STEP_ASSEMBLY_CIRCULARISED_GC_content_plot.pdf\n",
      "  Drawing FLYE_STEP_CORRECTION_MEDAKA_STARTFIXED_CIRCULARISED GC content plot...\n",
      "    saved to /home/jovyan/SG-ONT-2021/RESULTS/AGGREGATED_Hh/QUAST_REF/basic_stats/FLYE_STEP_CORRECTION_MEDAKA_STARTFIXED_CIRCULARISED_GC_content_plot.pdf\n",
      "  Drawing FLYE_STEP_POLISHING_RACON_CIRCULARISED GC content plot...\n",
      "    saved to /home/jovyan/SG-ONT-2021/RESULTS/AGGREGATED_Hh/QUAST_REF/basic_stats/FLYE_STEP_POLISHING_RACON_CIRCULARISED_GC_content_plot.pdf\n",
      "  Drawing MINIASM_STEP_ASSEMBLY_CIRCULARISED GC content plot...\n",
      "    saved to /home/jovyan/SG-ONT-2021/RESULTS/AGGREGATED_Hh/QUAST_REF/basic_stats/MINIASM_STEP_ASSEMBLY_CIRCULARISED_GC_content_plot.pdf\n",
      "  Drawing MINIASM_STEP_CORRECTION_MEDAKA_STARTFIXED_CIRCULARISED GC content plot...\n",
      "    saved to /home/jovyan/SG-ONT-2021/RESULTS/AGGREGATED_Hh/QUAST_REF/basic_stats/MINIASM_STEP_CORRECTION_MEDAKA_STARTFIXED_CIRCULARISED_GC_content_plot.pdf\n",
      "  Drawing MINIASM_STEP_POLISHING_RACON_CIRCULARISED GC content plot...\n",
      "    saved to /home/jovyan/SG-ONT-2021/RESULTS/AGGREGATED_Hh/QUAST_REF/basic_stats/MINIASM_STEP_POLISHING_RACON_CIRCULARISED_GC_content_plot.pdf\n",
      "  Drawing RAVEN_STEP_ASSEMBLY_CIRCULARISED GC content plot...\n",
      "    saved to /home/jovyan/SG-ONT-2021/RESULTS/AGGREGATED_Hh/QUAST_REF/basic_stats/RAVEN_STEP_ASSEMBLY_CIRCULARISED_GC_content_plot.pdf\n",
      "  Drawing RAVEN_STEP_CORRECTION_MEDAKA_STARTFIXED_CIRCULARISED GC content plot...\n",
      "    saved to /home/jovyan/SG-ONT-2021/RESULTS/AGGREGATED_Hh/QUAST_REF/basic_stats/RAVEN_STEP_CORRECTION_MEDAKA_STARTFIXED_CIRCULARISED_GC_content_plot.pdf\n",
      "  Drawing RAVEN_STEP_POLISHING_RACON_CIRCULARISED GC content plot...\n",
      "    saved to /home/jovyan/SG-ONT-2021/RESULTS/AGGREGATED_Hh/QUAST_REF/basic_stats/RAVEN_STEP_POLISHING_RACON_CIRCULARISED_GC_content_plot.pdf\n",
      "  Drawing SHASTA_STEP_ASSEMBLY_CIRCULARISED GC content plot...\n",
      "    saved to /home/jovyan/SG-ONT-2021/RESULTS/AGGREGATED_Hh/QUAST_REF/basic_stats/SHASTA_STEP_ASSEMBLY_CIRCULARISED_GC_content_plot.pdf\n",
      "  Drawing SHASTA_STEP_CORRECTION_MEDAKA_STARTFIXED_CIRCULARISED GC content plot...\n",
      "    saved to /home/jovyan/SG-ONT-2021/RESULTS/AGGREGATED_Hh/QUAST_REF/basic_stats/SHASTA_STEP_CORRECTION_MEDAKA_STARTFIXED_CIRCULARISED_GC_content_plot.pdf\n",
      "  Drawing SHASTA_STEP_POLISHING_RACON_CIRCULARISED GC content plot...\n",
      "    saved to /home/jovyan/SG-ONT-2021/RESULTS/AGGREGATED_Hh/QUAST_REF/basic_stats/SHASTA_STEP_POLISHING_RACON_CIRCULARISED_GC_content_plot.pdf\n",
      "  Drawing SMARTDENOVO_STEP_ASSEMBLY_CIRCULARISED GC content plot...\n",
      "    saved to /home/jovyan/SG-ONT-2021/RESULTS/AGGREGATED_Hh/QUAST_REF/basic_stats/SMARTDENOVO_STEP_ASSEMBLY_CIRCULARISED_GC_content_plot.pdf\n",
      "  Drawing SMARTDENOVO_STEP_CORRECTION_MEDAKA_STARTFIXED_CIRCULARISED GC content plot...\n",
      "    saved to /home/jovyan/SG-ONT-2021/RESULTS/AGGREGATED_Hh/QUAST_REF/basic_stats/SMARTDENOVO_STEP_CORRECTION_MEDAKA_STARTFIXED_CIRCULARISED_GC_content_plot.pdf\n",
      "  Drawing SMARTDENOVO_STEP_POLISHING_RACON_CIRCULARISED GC content plot...\n",
      "    saved to /home/jovyan/SG-ONT-2021/RESULTS/AGGREGATED_Hh/QUAST_REF/basic_stats/SMARTDENOVO_STEP_POLISHING_RACON_CIRCULARISED_GC_content_plot.pdf\n",
      "Done.\n",
      "\n",
      "2021-09-15 11:54:29\n",
      "Running Contig analyzer...\n",
      "  1  CANU_STEP_ASSEMBLY_CIRCULARISED\n",
      "  1  Logging to files /home/jovyan/SG-ONT-2021/RESULTS/AGGREGATED_Hh/QUAST_REF/contigs_reports/contigs_report_CANU_STEP_ASSEMBLY_CIRCULARISED.stdout and contigs_report_CANU_STEP_ASSEMBLY_CIRCULARISED.stderr...\n",
      "  1  Aligning contigs to the reference\n",
      "  1  Analysis is finished.\n",
      "  2  CANU_STEP_CORRECTION_MEDAKA_STARTFIXED_CIRCULARISED\n",
      "  2  Logging to files /home/jovyan/SG-ONT-2021/RESULTS/AGGREGATED_Hh/QUAST_REF/contigs_reports/contigs_report_CANU_STEP_CORRECTION_MEDAKA_STARTFIXED_CIRCULARISED.stdout and contigs_report_CANU_STEP_CORRECTION_MEDAKA_STARTFIXED_CIRCULARISED.stderr...\n",
      "  2  Aligning contigs to the reference\n",
      "  2  Analysis is finished.\n",
      "  3  CANU_STEP_POLISHING_RACON_CIRCULARISED\n",
      "  3  Logging to files /home/jovyan/SG-ONT-2021/RESULTS/AGGREGATED_Hh/QUAST_REF/contigs_reports/contigs_report_CANU_STEP_POLISHING_RACON_CIRCULARISED.stdout and contigs_report_CANU_STEP_POLISHING_RACON_CIRCULARISED.stderr...\n",
      "  3  Aligning contigs to the reference\n",
      "  3  Analysis is finished.\n",
      "  4  FLYE_STEP_ASSEMBLY_CIRCULARISED\n",
      "  4  Logging to files /home/jovyan/SG-ONT-2021/RESULTS/AGGREGATED_Hh/QUAST_REF/contigs_reports/contigs_report_FLYE_STEP_ASSEMBLY_CIRCULARISED.stdout and contigs_report_FLYE_STEP_ASSEMBLY_CIRCULARISED.stderr...\n",
      "  4  Aligning contigs to the reference\n",
      "  4  Analysis is finished.\n",
      "  5  FLYE_STEP_CORRECTION_MEDAKA_STARTFIXED_CIRCULARISED\n",
      "  5  Logging to files /home/jovyan/SG-ONT-2021/RESULTS/AGGREGATED_Hh/QUAST_REF/contigs_reports/contigs_report_FLYE_STEP_CORRECTION_MEDAKA_STARTFIXED_CIRCULARISED.stdout and contigs_report_FLYE_STEP_CORRECTION_MEDAKA_STARTFIXED_CIRCULARISED.stderr...\n",
      "  5  Aligning contigs to the reference\n",
      "  5  Analysis is finished.\n",
      "  6  FLYE_STEP_POLISHING_RACON_CIRCULARISED\n",
      "  6  Logging to files /home/jovyan/SG-ONT-2021/RESULTS/AGGREGATED_Hh/QUAST_REF/contigs_reports/contigs_report_FLYE_STEP_POLISHING_RACON_CIRCULARISED.stdout and contigs_report_FLYE_STEP_POLISHING_RACON_CIRCULARISED.stderr...\n",
      "  6  Aligning contigs to the reference\n",
      "  6  Analysis is finished.\n",
      "  7  MINIASM_STEP_ASSEMBLY_CIRCULARISED\n",
      "  7  Logging to files /home/jovyan/SG-ONT-2021/RESULTS/AGGREGATED_Hh/QUAST_REF/contigs_reports/contigs_report_MINIASM_STEP_ASSEMBLY_CIRCULARISED.stdout and contigs_report_MINIASM_STEP_ASSEMBLY_CIRCULARISED.stderr...\n",
      "  7  Aligning contigs to the reference\n",
      "  7  Analysis is finished.\n",
      "  8  MINIASM_STEP_CORRECTION_MEDAKA_STARTFIXED_CIRCULARISED\n",
      "  8  Logging to files /home/jovyan/SG-ONT-2021/RESULTS/AGGREGATED_Hh/QUAST_REF/contigs_reports/contigs_report_MINIASM_STEP_CORRECTION_MEDAKA_STARTFIXED_CIRCULARISED.stdout and contigs_report_MINIASM_STEP_CORRECTION_MEDAKA_STARTFIXED_CIRCULARISED.stderr...\n",
      "  8  Aligning contigs to the reference\n",
      "  8  Analysis is finished.\n",
      "  9  MINIASM_STEP_POLISHING_RACON_CIRCULARISED\n",
      "  9  Logging to files /home/jovyan/SG-ONT-2021/RESULTS/AGGREGATED_Hh/QUAST_REF/contigs_reports/contigs_report_MINIASM_STEP_POLISHING_RACON_CIRCULARISED.stdout and contigs_report_MINIASM_STEP_POLISHING_RACON_CIRCULARISED.stderr...\n",
      "  9  Aligning contigs to the reference\n",
      "  9  Analysis is finished.\n",
      "  10 RAVEN_STEP_ASSEMBLY_CIRCULARISED\n",
      "  10 Logging to files /home/jovyan/SG-ONT-2021/RESULTS/AGGREGATED_Hh/QUAST_REF/contigs_reports/contigs_report_RAVEN_STEP_ASSEMBLY_CIRCULARISED.stdout and contigs_report_RAVEN_STEP_ASSEMBLY_CIRCULARISED.stderr...\n",
      "  10 Aligning contigs to the reference\n",
      "Traceback (most recent call last):\n",
      "  File \"/opt/conda/envs/quast/bin/quast.py\", line 307, in <module>\n",
      "    return_code = main(sys.argv[1:])\n",
      "  File \"/opt/conda/envs/quast/bin/quast.py\", line 166, in main\n",
      "    old_contigs_fpaths, qconfig.bed)\n",
      "  File \"/opt/conda/envs/quast/lib/python3.7/site-packages/quast_libs/contigs_analyzer.py\", line 270, in do\n",
      "    statuses, results, aligned_lengths, misassemblies_in_contigs, aligned_lengths_by_contigs = run_parallel(align_and_analyze, args, n_jobs)\n",
      "  File \"/opt/conda/envs/quast/lib/python3.7/site-packages/quast_libs/qutils.py\", line 1065, in run_parallel\n",
      "    results_tuples = Parallel(**parallel_args)(delayed(_fn)(*args) for args in fn_args)\n",
      "  File \"/opt/conda/envs/quast/lib/python3.7/site-packages/joblib/parallel.py\", line 1044, in __call__\n",
      "    while self.dispatch_one_batch(iterator):\n",
      "  File \"/opt/conda/envs/quast/lib/python3.7/site-packages/joblib/parallel.py\", line 859, in dispatch_one_batch\n",
      "    self._dispatch(tasks)\n",
      "  File \"/opt/conda/envs/quast/lib/python3.7/site-packages/joblib/parallel.py\", line 777, in _dispatch\n",
      "    job = self._backend.apply_async(batch, callback=cb)\n",
      "  File \"/opt/conda/envs/quast/lib/python3.7/site-packages/joblib/_parallel_backends.py\", line 208, in apply_async\n",
      "    result = ImmediateResult(func)\n",
      "  File \"/opt/conda/envs/quast/lib/python3.7/site-packages/joblib/_parallel_backends.py\", line 572, in __init__\n",
      "    self.results = batch()\n",
      "  File \"/opt/conda/envs/quast/lib/python3.7/site-packages/joblib/parallel.py\", line 263, in __call__\n",
      "    for func, args, kwargs in self.items]\n",
      "  File \"/opt/conda/envs/quast/lib/python3.7/site-packages/joblib/parallel.py\", line 263, in <listcomp>\n",
      "    for func, args, kwargs in self.items]\n",
      "  File \"/opt/conda/envs/quast/lib/python3.7/site-packages/quast_libs/contigs_analyzer.py\", line 193, in align_and_analyze\n",
      "    analyze_contigs(ca_output, contigs_fpath, unaligned_fpath, unaligned_info_fpath, aligns, ref_features, reference_chromosomes, is_cyclic)\n",
      "  File \"/opt/conda/envs/quast/lib/python3.7/site-packages/quast_libs/ca_utils/analyze_contigs.py\", line 227, in analyze_contigs\n",
      "    sorted_aligns, ctg_len, ca_output.stdout_f, seq, ref_lens, is_cyclic, region_struct_variations)\n",
      "  File \"/opt/conda/envs/quast/lib/python3.7/site-packages/quast_libs/ca_utils/best_set_selection.py\", line 192, in get_best_aligns_sets\n",
      "    cur_set_aligns = [sorted_aligns[i].clone() for i in scored_set.indexes] + [align.clone()]\n",
      "  File \"/opt/conda/envs/quast/lib/python3.7/site-packages/quast_libs/ca_utils/best_set_selection.py\", line 192, in <listcomp>\n",
      "    cur_set_aligns = [sorted_aligns[i].clone() for i in scored_set.indexes] + [align.clone()]\n",
      "  File \"/opt/conda/envs/quast/lib/python3.7/site-packages/quast_libs/ca_utils/analyze_misassemblies.py\", line 84, in clone\n",
      "    return Mapping(self.s1, self.e1, self.s2, self.e2, self.len1, self.len2, self.idy, self.ref, self.contig, self.cigar)\n",
      "  File \"/opt/conda/envs/quast/lib/python3.7/site-packages/quast_libs/ca_utils/analyze_misassemblies.py\", line 51, in __init__\n",
      "    self.s1, self.e1, self.s2, self.e2, self.len1, self.len2, self.idy, self.ref, self.contig = s1, e1, s2, e2, len1, len2, idy, ref, contig\n",
      "KeyboardInterrupt\n",
      "\n",
      "real\t186m6.505s\n",
      "user\t186m0.648s\n",
      "sys\t0m3.640s\n",
      "(quast) "
     ]
    }
   ],
   "source": [
    "mkdir ~/SG-ONT-2021/RESULTS/AGGREGATED_Hh/\n",
    "cd ~/SG-ONT-2021/RESULTS/AGGREGATED_Hh/\n",
    "time quast.py /home/jovyan/SG-ONT-2021/DATA/real_Hh/Hh-ASSEMBLIES/*.fasta -R /home/jovyan/SG-ONT-2021/DATA/real_Hh/REFH_M1C132.fasta -o QUAST_REF"
   ]
  },
  {
   "cell_type": "markdown",
   "id": "82746530",
   "metadata": {
    "tags": []
   },
   "source": [
    "#### Which of the assemblies are closest in size relative to the reference ?\n",
    "\n",
    "#### Does this have the largest N50 and fewest number of contigs?"
   ]
  },
  {
   "cell_type": "markdown",
   "id": "94ea6817",
   "metadata": {},
   "source": [
    "The ideal shape of the Nx graph would be vertical line if the bacteria is a single contig. \n",
    "\n",
    "As more contigs are present, the cumulative length graph shifts to the right slightly as contigs get shorter.\n",
    "\n",
    "#### Does the GC content graph indicate contamination ?\n",
    "\n",
    "#### What assembly does obtain the best contiguity metrics?\n"
   ]
  },
  {
   "cell_type": "markdown",
   "id": "39bebfd5-9fc9-449c-8cec-3742bb7e7b78",
   "metadata": {},
   "source": [
    "# 2. Assessing gene space using BUSCO (REAL DATA)"
   ]
  },
  {
   "cell_type": "markdown",
   "id": "642c8821-2c75-4c6b-80fa-fd82d14daf7d",
   "metadata": {},
   "source": [
    "Benchmarking Universal Single-Copy Orthologs ([BUSCO](https://busco.ezlab.org/busco_userguide.html)) helps to check if you have a good assembly, by searching the expected single-copy lineage-conserved orthologs in any newly-sequenced genome from an appropriate phylogenetic clade."
   ]
  },
  {
   "cell_type": "markdown",
   "id": "f65f1f0c-e26b-45f4-8744-faa281f4fd88",
   "metadata": {},
   "source": [
    "Calculate the gene space look like for each assembly?"
   ]
  },
  {
   "cell_type": "code",
   "execution_count": null,
   "id": "86411a20-47fe-49a8-9365-b9a7e6556946",
   "metadata": {
    "tags": []
   },
   "outputs": [],
   "source": [
    "mkdir -p ~/SG-ONT-2021/RESULTS/AGGREGATED_Hh/BUSCO\n",
    "cd ~/SG-ONT-2021/RESULTS/AGGREGATED_Hh/BUSCO"
   ]
  },
  {
   "cell_type": "code",
   "execution_count": null,
   "id": "235937d9-ddea-4414-8ff5-3600be099879",
   "metadata": {
    "tags": []
   },
   "outputs": [],
   "source": [
    "# busco env\n",
    "conda activate busco\n",
    "ASSEMBLY=\"~/SG-ONT-2021/RESULTS/FLYE/${CLONE}_FLYE_RACONx2_MEDAKA.fasta\"\n",
    "LINEAGE=bacteria_odb10\n",
    "busco -i \"$ASSEMBLY\" -l \"$LINEAGE\" -c \"${CPUS:-4}\" -m genome -o \"${ASSEMBLY/.fasta/_busco}\"\n",
    "conda deactivate"
   ]
  },
  {
   "cell_type": "markdown",
   "id": "d54c21a5-046c-43e8-b537-b71788090ee3",
   "metadata": {
    "tags": []
   },
   "source": [
    "### What does the gene space look like for this assembly?"
   ]
  },
  {
   "cell_type": "markdown",
   "id": "0040a2cd",
   "metadata": {},
   "source": [
    "# 3. Read alignment statistics - remapping"
   ]
  },
  {
   "cell_type": "markdown",
   "id": "18838eed",
   "metadata": {},
   "source": [
    "Read congruency is an important measure in determining assembly accuracy. Clusters of read pairs that align incorrectly are strong indicators of mis-assembly.\n",
    "\n",
    "How well do the reads align back to the draft assemblies? Use minimap2 and samtools to assess the basic alignment statistics.\n",
    "\n",
    "Make a folder for your results.\n",
    "\n",
    "We will use CloneX_FLYE_RACONx2_MEDAKA.fasta assembly and ONT READS as well ILLUMINA READS."
   ]
  },
  {
   "cell_type": "code",
   "execution_count": null,
   "id": "bb27a4e3",
   "metadata": {},
   "outputs": [],
   "source": [
    "mkdir -p ~/SG-ONT-2021/RESULTS/REMAPPING\n",
    "cd ~/SG-ONT-2021/RESULTS/REMAPPING/"
   ]
  },
  {
   "cell_type": "code",
   "execution_count": 29,
   "id": "f69c52e2-08fa-4cc0-a41c-3c17a6f83dd0",
   "metadata": {},
   "outputs": [
    {
     "name": "stdout",
     "output_type": "stream",
     "text": [
      "~/SG-ONT-2021/DATA/Clone20/ILL/Clone20_R2.fastq.gz\n",
      "0\n"
     ]
    },
    {
     "ename": "",
     "evalue": "1",
     "output_type": "error",
     "traceback": []
    }
   ],
   "source": [
    "CLONE=\"Clone20\"\n",
    "ASSEMBLY=\"~/SG-ONT-2021/RESULTS/FLYE/${CLONE}_FLYE_RACONx2_MEDAKA.fasta\"\n",
    "ONT=\"~/SG-ONT-2021/DATA/${CLONE}/ONT/${CLONE}.fastq.gz\"\n",
    "ILLUMINA_R1=\"~/SG-ONT-2021/DATA/${CLONE}/ILL/${CLONE}_R1.fastq.gz\"\n",
    "ILLUMINA_R2=\"~/SG-ONT-2021/DATA/${CLONE}/ILL/${CLONE}_R2.fastq.gz\""
   ]
  },
  {
   "cell_type": "code",
   "execution_count": 28,
   "id": "d22b81ef-7840-4805-b5e7-bf6e8c990d47",
   "metadata": {},
   "outputs": [
    {
     "name": "stdout",
     "output_type": "stream",
     "text": [
      "~/SG-ONT-2021/DATA/Clone20/ILL/Clone20_R1.fastq.gz\n",
      "~/SG-ONT-2021/DATA/Clone20/ILL/Clone20_R2.fastq.gz\n",
      "0\n",
      "~/SG-ONT-2021/RESULTS/FLYE/Clone20_FLYE_RACONx2_MEDAKA.fasta\n",
      "~/SG-ONT-2021/DATA/Clone20/ONT/Clone20.fastq.gz\n"
     ]
    },
    {
     "ename": "",
     "evalue": "1",
     "output_type": "error",
     "traceback": []
    }
   ],
   "source": [
    "minimap2 index \"$ASSEMBLY\" # Index the assembly prior to alignment\n",
    "\n",
    "minimap2 -ax map-ont -t 4 ${ASSEMBLY} ${ONT-READS} | samtools sort -@ 1 -T \"${ASSEMBLY/.fasta/}\" -O BAM -o \"${ASSEMBLY/.fasta/_ONT_bwa_alignment.bam}\" -\n",
    "samtools index \"${ASSEMBLY/.fasta/_ONT_bwa_alignment.bam}\"\n",
    "samtools view -F 0x904 -c \"${ASSEMBLY/.fasta/_ONT_bwa_alignment.bam}\"\n",
    "\n",
    "minimap2 -ax map-ont -t 4 ${ASSEMBLY} ${ILLUMINA_R1} ${ILLUMINA_R2} | samtools sort -@ 1 -T \"${ASSEMBLY/.fasta/}\" -O BAM -o \"${ASSEMBLY/.fasta/_ILL_bwa_alignment.bam}\" -\n",
    "samtools index \"${ASSEMBLY/.fasta/_ILL_bwa_alignment.bam}\"\n",
    "samtools view -F 0x904 -c \"${ASSEMBLY/.fasta/_ILL_bwa_alignment.bam}\""
   ]
  },
  {
   "cell_type": "code",
   "execution_count": 25,
   "id": "2f4a550f-4104-4d20-9ebd-099a9494c655",
   "metadata": {},
   "outputs": [
    {
     "name": "stdout",
     "output_type": "stream",
     "text": [
      "~/SG-ONT-2021/DATA/Clone20/ILL/Clone20_R1.fastq.gz\n"
     ]
    },
    {
     "ename": "",
     "evalue": "1",
     "output_type": "error",
     "traceback": []
    }
   ],
   "source": [
    "ls"
   ]
  },
  {
   "cell_type": "markdown",
   "id": "edbb579f",
   "metadata": {},
   "source": [
    "# 4. Blobtools\n",
    "\n",
    "During the sequence quality assessment stage we tried to discern whether contamination was present. Sometimes this is not feasible at the read level. By plotting Contig GC content vs Contig Read Coverage we can look for clusters of contigs that share similar coverage. The appearance of multiple clusters can indicate multiple organisms. Occasionally, contigs can also be taxonomically classified, providing further evidence for contaminants.\n",
    "\n",
    "Run Blobtools on each assembly. Blobtools requires both a BAM file as input and blast output for the classification step.2."
   ]
  },
  {
   "cell_type": "code",
   "execution_count": null,
   "id": "29ddf6a4",
   "metadata": {},
   "outputs": [],
   "source": [
    "mkdir -p ~/SG-ONT-2021/RESULTS/BLOBTOOLS\n",
    "cd ~/SG-ONT-2021/RESULTS/BLOBTOOLS"
   ]
  },
  {
   "cell_type": "markdown",
   "id": "f2f0853e-5e75-48da-919b-fb0f40952087",
   "metadata": {},
   "source": [
    "### Blast contigs "
   ]
  },
  {
   "cell_type": "markdown",
   "id": "37fb5794-c58f-4146-97e0-cd3254ea260a",
   "metadata": {},
   "source": [
    "Every knows how to blastn! We give you results by clone in tsv format to perform blobtools."
   ]
  },
  {
   "cell_type": "code",
   "execution_count": null,
   "id": "1a0ff04d-c4e1-4645-a3d9-0c37f9103981",
   "metadata": {},
   "outputs": [],
   "source": [
    "## TODO wget "
   ]
  },
  {
   "cell_type": "markdown",
   "id": "8679816f-a9be-4b6d-b2d9-1d80cce34601",
   "metadata": {},
   "source": [
    "### Run blobtools "
   ]
  },
  {
   "cell_type": "code",
   "execution_count": 18,
   "id": "85d1b40a",
   "metadata": {},
   "outputs": [],
   "source": [
    "ASSEMBLY=\"~/SG-ONT-2021/RESULTS/FLYE/${CLONE}_FLYE_RACONx2_MEDAKA.fasta\"\n",
    "BAM=\"~/SG-ONT-2021/RESULTS/REMAPPING/${ASSEMBLY/.fasta/_ILL_bwa_alignment.bam}\"\n",
    "BLAST=\"$3\" #TODO\n",
    "BLOB_DB=/opt/blobtools/data/nodesDB.txt\n",
    "blobtools create -i \"$ASSEMBLY\" -b \"$BAM\" -t \"$BLAST\" -o \"${ASSEMBLY/.fasta/_blobtools}\" --db \"$BLOB_DB\"\n",
    "blobtools blobplot -i \"${ASSEMBLY/.fasta/_blobtools}.blobDB.json\" -o \"${ASSEMBLY/.fasta/_blobtools}\""
   ]
  },
  {
   "cell_type": "markdown",
   "id": "b11eacd4",
   "metadata": {},
   "source": [
    "### Is there contamination in the assembly?\n",
    "\n",
    "### Do any assemblies show strange clustering?\n",
    "\n",
    "### Why might coverage vary across contigs within an assembly?"
   ]
  },
  {
   "cell_type": "markdown",
   "id": "b1a83cb0",
   "metadata": {},
   "source": [
    "The Blobplots all indicate a single cluster. Some contigs show fairly high coverage in comparison to the rest of the genome which could be repetitive elements in the genome."
   ]
  },
  {
   "cell_type": "markdown",
   "id": "4aa79df6",
   "metadata": {},
   "source": [
    "# 5. Comparative Alignment\n",
    "\n",
    "Comparative alignment is a useful tool to see how assemblies compare to each other. This can be useful to compare assemblies to a reference, or to see if assemblies have large structural differences.\n",
    "\n"
   ]
  },
  {
   "cell_type": "markdown",
   "id": "ea0a9801",
   "metadata": {},
   "source": [
    "Verify assembled genome by dgenies : http://dgenies.toulouse.inra.fr/"
   ]
  },
  {
   "cell_type": "markdown",
   "id": "c90d3b9f",
   "metadata": {},
   "source": [
    "Since you have a reference genome available, an alternative option to de novo assembly is to assemble using a reference genome - by mapping of the sequence reads"
   ]
  }
 ],
 "metadata": {
  "kernelspec": {
   "display_name": "Bash",
   "language": "bash",
   "name": "bash"
  },
  "language_info": {
   "codemirror_mode": "shell",
   "file_extension": ".sh",
   "mimetype": "text/x-sh",
   "name": "bash"
  }
 },
 "nbformat": 4,
 "nbformat_minor": 5
}
