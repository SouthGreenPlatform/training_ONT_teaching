{
 "cells": [
  {
   "cell_type": "markdown",
   "id": "67552fbb",
   "metadata": {},
   "source": [
    "\n",
    "# <span style=\"color:#006E7F\">__Introduction to Oxford Nanopore Data Analysis__ <a class=\"anchor\"></span>  \n",
    "\n",
    "\n",
    "Created by J. Orjuela (DIADE-IRD), F. Sabot (DIADE-IRD) and G. Sarah (AGAP-INRAE) - Septembre 2021 Formation SouthGreen\n",
    "\n",
    "Adapted by J. Orjuela (DIADE-IRD), F. Sabot (DIADE-IRD) - Novembre 2022\n"
   ]
  },
  {
   "cell_type": "markdown",
   "id": "689c1b2d",
   "metadata": {
    "tags": []
   },
   "source": [
    "# <span style=\"color:#006E7F\">__TP3 - CONTIGS QUALITY__ <a class=\"anchor\" id=\"data\"></span>  \n",
    "    \n",
    "## <span style=\"color: #4CACBC;\"> 1. Perform a comparison of assemblies using QUAST</span>  \n"
   ]
  },
  {
   "cell_type": "markdown",
   "id": "a778bfc9",
   "metadata": {},
   "source": [
    "The metrics of assemblies can be evaluated using a quality assessment tool such as [QUAST](http://quast.bioinf.spbau.ru/manual.html).\n",
    "\n",
    "In part 2, we have assembled raw data using various assemblers and also polished and corrected it. \n",
    "\n",
    "Aggregate all assemblies you have produced for your favorite clone in a new folder named \"AGGREGATED\".\n",
    "\n",
    "We're going to compare it with QUAST."
   ]
  },
  {
   "cell_type": "code",
   "execution_count": 1,
   "id": "bfa9b4cd",
   "metadata": {},
   "outputs": [
    {
     "name": "stdout",
     "output_type": "stream",
     "text": [
      "total 4\n",
      "lrwxrwxrwx 1 jovyan users 45 Nov  9 15:08 \u001b[0m\u001b[01;36mClone20_FLYE.fasta\u001b[0m -> /home/jovyan/work/RESULTS/FLYE/assembly.fasta\n",
      "lrwxrwxrwx 1 jovyan users 58 Nov  9 15:08 \u001b[01;36mClone20_FLYE_RACONx2.fasta\u001b[0m -> /home/jovyan/work/RESULTS/FLYE_RACON/assembly.racon2.fasta\n",
      "lrwxrwxrwx 1 jovyan users 76 Nov  9 15:08 \u001b[40;31;01mClone20_FLYE_RACONx2_MEDAKA.fasta\u001b[0m -> \u001b[40;31;01m/home/jovyan/work/RESULTS/FLYE_RACON_MEDAKA/MEDAKA_CONSENSUS/consensus.fasta\u001b[0m\u001b[K\n"
     ]
    }
   ],
   "source": [
    "CLONE=Clone20\n",
    "cd ~/work/RESULTS\n",
    "mkdir -p ~/work/RESULTS/AGGREGATED\n",
    "cd ~/work/RESULTS/AGGREGATED\n",
    "ln -s ~/work/RESULTS/FLYE/assembly.fasta ${CLONE}_FLYE.fasta\n",
    "ln -s ~/work/RESULTS/FLYE_RACON/assembly.racon2.fasta ${CLONE}_FLYE_RACONx2.fasta\n",
    "ln -s ~/work/RESULTS/FLYE_RACON_MEDAKA/MEDAKA_CONSENSUS/consensus.fasta ${CLONE}_FLYE_RACONx2_MEDAKA.fasta\n",
    "ls -l ~/work/RESULTS/AGGREGATED"
   ]
  },
  {
   "cell_type": "markdown",
   "id": "4aaf45ff",
   "metadata": {},
   "source": [
    "#### Do similar symbolic links to RAVEN results and check your folder"
   ]
  },
  {
   "cell_type": "code",
   "execution_count": null,
   "id": "446782b0-66b8-4b1d-813f-54d2e22afdb1",
   "metadata": {},
   "outputs": [],
   "source": []
  },
  {
   "cell_type": "markdown",
   "id": "1a5ccbc0",
   "metadata": {},
   "source": [
    "### <span style=\"color: #4CACBD;\"> 1.1  Run QUAST on CLONE assemblies and compare them </span>"
   ]
  },
  {
   "cell_type": "code",
   "execution_count": 2,
   "id": "210bf799",
   "metadata": {
    "tags": []
   },
   "outputs": [
    {
     "name": "stdout",
     "output_type": "stream",
     "text": [
      "ERROR! File not found (contigs): Clone20_FLYE_RACONx2_MEDAKA.fasta\n",
      "\n",
      "In case you have troubles running QUAST, you can write to quast.support@cab.spbu.ru\n",
      "or report an issue on our GitHub repository https://github.com/ablab/quast/issues\n",
      "Please provide us with quast.log file from the output directory.\n"
     ]
    },
    {
     "ename": "",
     "evalue": "2",
     "output_type": "error",
     "traceback": []
    }
   ],
   "source": [
    "cd ~/work/RESULTS/AGGREGATED/\n",
    "quast.py *.fasta -o QUAST"
   ]
  },
  {
   "cell_type": "markdown",
   "id": "f251f7c9",
   "metadata": {},
   "source": [
    "#### Go to the QUAST directory and check the file content.\n",
    "\n",
    "#### Looking at the output statistics, what are the main differences between the assemblies?\n",
    "\n",
    "#### Look total sizes, number of contigs, N50 statistics.\n",
    "\n",
    "#### For your favorite clone what is the best one ?"
   ]
  },
  {
   "cell_type": "markdown",
   "id": "e54cf5cb",
   "metadata": {},
   "source": [
    "### <span style=\"color: #4CACBD;\"> 1.2  Comparison of the assemblies against the reference genome of closely organism (REAL DATA !) </span>"
   ]
  },
  {
   "cell_type": "markdown",
   "id": "7f0309a7",
   "metadata": {},
   "source": [
    "It's possible to compare assemblies against the reference genome of closely related organism. \n",
    "\n",
    "In our case we will use the real dataset Hh. \n",
    "\n",
    "Previously calculated assemblies for Hh can be found in DATA/real_Hh/Hh-ASSEMBLIES (used CulebrONT)"
   ]
  },
  {
   "cell_type": "code",
   "execution_count": 3,
   "id": "c8e2a20d",
   "metadata": {
    "tags": []
   },
   "outputs": [
    {
     "name": "stdout",
     "output_type": "stream",
     "text": [
      "total 763M\n",
      "-rw-r----- 1 jovyan users 2.6M Sep 13  2021 CANU-STEP_ASSEMBLY-CIRCULARISED.fasta\n",
      "-rw-r----- 1 jovyan users 1.1K Sep 13  2021 CANU-STEP_ASSEMBLY-CIRCULARISED.fasta.fai\n",
      "-rw-r----- 1 jovyan users 8.7M Sep 13  2021 CANU-STEP_ASSEMBLY-CIRCULARISED.fasta.mmi\n",
      "-rw-r----- 1 jovyan users 2.6M Sep 13  2021 CANU-STEP_CORRECTION_MEDAKA_STARTFIXED-CIRCULARISED.fasta\n",
      "-rw-r----- 1 jovyan users 1.1K Sep 13  2021 CANU-STEP_CORRECTION_MEDAKA_STARTFIXED-CIRCULARISED.fasta.fai\n",
      "-rw-r----- 1 jovyan users 8.7M Sep 13  2021 CANU-STEP_CORRECTION_MEDAKA_STARTFIXED-CIRCULARISED.fasta.mmi\n",
      "-rw-r----- 1 jovyan users 2.6M Sep 13  2021 CANU-STEP_POLISHING_RACON-CIRCULARISED.fasta\n",
      "-rw-r----- 1 jovyan users 1.3K Sep 13  2021 CANU-STEP_POLISHING_RACON-CIRCULARISED.fasta.fai\n",
      "-rw-r----- 1 jovyan users 8.7M Sep 13  2021 CANU-STEP_POLISHING_RACON-CIRCULARISED.fasta.mmi\n",
      "-rw-r----- 1 jovyan users 2.2M Sep 13  2021 FLYE-STEP_ASSEMBLY-CIRCULARISED.fasta\n",
      "-rw-r----- 1 jovyan users  200 Sep 13  2021 FLYE-STEP_ASSEMBLY-CIRCULARISED.fasta.fai\n",
      "-rw-r----- 1 jovyan users 7.4M Sep 13  2021 FLYE-STEP_ASSEMBLY-CIRCULARISED.fasta.mmi\n",
      "-rw-r----- 1 jovyan users 2.2M Sep 13  2021 FLYE-STEP_CORRECTION_MEDAKA_STARTFIXED-CIRCULARISED.fasta\n",
      "-rw-r----- 1 jovyan users  313 Sep 13  2021 FLYE-STEP_CORRECTION_MEDAKA_STARTFIXED-CIRCULARISED.fasta.fai\n",
      "-rw-r----- 1 jovyan users 7.4M Sep 13  2021 FLYE-STEP_CORRECTION_MEDAKA_STARTFIXED-CIRCULARISED.fasta.mmi\n",
      "-rw-r----- 1 jovyan users 2.1M Sep 13  2021 FLYE-STEP_POLISHING_RACON-CIRCULARISED.fasta\n",
      "-rw-r----- 1 jovyan users  358 Sep 13  2021 FLYE-STEP_POLISHING_RACON-CIRCULARISED.fasta.fai\n",
      "-rw-r----- 1 jovyan users 7.4M Sep 13  2021 FLYE-STEP_POLISHING_RACON-CIRCULARISED.fasta.mmi\n",
      "-rw-r----- 1 jovyan users  12M Sep 13  2021 MINIASM-STEP_ASSEMBLY-CIRCULARISED.fasta\n",
      "-rw-r----- 1 jovyan users 3.0K Sep 13  2021 MINIASM-STEP_ASSEMBLY-CIRCULARISED.fasta.fai\n",
      "-rw-r----- 1 jovyan users  41M Sep 13  2021 MINIASM-STEP_ASSEMBLY-CIRCULARISED.fasta.mmi\n",
      "-rw-r----- 1 jovyan users  12M Sep 13  2021 MINIASM-STEP_CORRECTION_MEDAKA_STARTFIXED-CIRCULARISED.fasta\n",
      "-rw-r----- 1 jovyan users 3.0K Sep 13  2021 MINIASM-STEP_CORRECTION_MEDAKA_STARTFIXED-CIRCULARISED.fasta.fai\n",
      "-rw-r----- 1 jovyan users  41M Sep 13  2021 MINIASM-STEP_CORRECTION_MEDAKA_STARTFIXED-CIRCULARISED.fasta.mmi\n",
      "-rw-r----- 1 jovyan users  12M Sep 13  2021 MINIASM-STEP_POLISHING_RACON-CIRCULARISED.fasta\n",
      "-rw-r----- 1 jovyan users 3.0K Sep 13  2021 MINIASM-STEP_POLISHING_RACON-CIRCULARISED.fasta.fai\n",
      "-rw-r----- 1 jovyan users  41M Sep 13  2021 MINIASM-STEP_POLISHING_RACON-CIRCULARISED.fasta.mmi\n",
      "-rw-r----- 1 jovyan users  11M Sep 13  2021 RAVEN-STEP_ASSEMBLY-CIRCULARISED.fasta\n",
      "-rw-r----- 1 jovyan users 2.4K Sep 13  2021 RAVEN-STEP_ASSEMBLY-CIRCULARISED.fasta.fai\n",
      "-rw-r----- 1 jovyan users  38M Sep 13  2021 RAVEN-STEP_ASSEMBLY-CIRCULARISED.fasta.mmi\n",
      "-rw-r----- 1 jovyan users  12M Sep 13  2021 RAVEN-STEP_CORRECTION_MEDAKA_STARTFIXED-CIRCULARISED.fasta\n",
      "-rw-r----- 1 jovyan users 1.9K Sep 13  2021 RAVEN-STEP_CORRECTION_MEDAKA_STARTFIXED-CIRCULARISED.fasta.fai\n",
      "-rw-r----- 1 jovyan users  38M Sep 13  2021 RAVEN-STEP_CORRECTION_MEDAKA_STARTFIXED-CIRCULARISED.fasta.mmi\n",
      "-rw-r----- 1 jovyan users  11M Sep 13  2021 RAVEN-STEP_POLISHING_RACON-CIRCULARISED.fasta\n",
      "-rw-r----- 1 jovyan users 2.4K Sep 13  2021 RAVEN-STEP_POLISHING_RACON-CIRCULARISED.fasta.fai\n",
      "-rw-r----- 1 jovyan users  38M Sep 13  2021 RAVEN-STEP_POLISHING_RACON-CIRCULARISED.fasta.mmi\n",
      "-rw-r----- 1 jovyan users  20M Sep 13  2021 SHASTA-STEP_ASSEMBLY-CIRCULARISED.fasta\n",
      "-rw-r----- 1 jovyan users 171K Sep 13  2021 SHASTA-STEP_ASSEMBLY-CIRCULARISED.fasta.fai\n",
      "-rw-r----- 1 jovyan users  63M Sep 13  2021 SHASTA-STEP_ASSEMBLY-CIRCULARISED.fasta.mmi\n",
      "-rw-r----- 1 jovyan users  15M Sep 13  2021 SHASTA-STEP_CORRECTION_MEDAKA_STARTFIXED-CIRCULARISED.fasta\n",
      "-rw-r----- 1 jovyan users  32K Sep 13  2021 SHASTA-STEP_CORRECTION_MEDAKA_STARTFIXED-CIRCULARISED.fasta.fai\n",
      "-rw-r----- 1 jovyan users  49M Sep 13  2021 SHASTA-STEP_CORRECTION_MEDAKA_STARTFIXED-CIRCULARISED.fasta.mmi\n",
      "-rw-r----- 1 jovyan users  15M Sep 13  2021 SHASTA-STEP_POLISHING_RACON-CIRCULARISED.fasta\n",
      "-rw-r----- 1 jovyan users  38K Sep 13  2021 SHASTA-STEP_POLISHING_RACON-CIRCULARISED.fasta.fai\n",
      "-rw-r----- 1 jovyan users  49M Sep 13  2021 SHASTA-STEP_POLISHING_RACON-CIRCULARISED.fasta.mmi\n",
      "-rw-r----- 1 jovyan users  15M Sep 13  2021 SMARTDENOVO-STEP_ASSEMBLY-CIRCULARISED.fasta\n",
      "-rw-r----- 1 jovyan users 2.9K Sep 13  2021 SMARTDENOVO-STEP_ASSEMBLY-CIRCULARISED.fasta.fai\n",
      "-rw-r----- 1 jovyan users  50M Sep 13  2021 SMARTDENOVO-STEP_ASSEMBLY-CIRCULARISED.fasta.mmi\n",
      "-rw-r----- 1 jovyan users  15M Sep 13  2021 SMARTDENOVO-STEP_CORRECTION_MEDAKA_STARTFIXED-CIRCULARISED.fasta\n",
      "-rw-r----- 1 jovyan users 3.0K Sep 13  2021 SMARTDENOVO-STEP_CORRECTION_MEDAKA_STARTFIXED-CIRCULARISED.fasta.fai\n",
      "-rw-r----- 1 jovyan users  50M Sep 13  2021 SMARTDENOVO-STEP_CORRECTION_MEDAKA_STARTFIXED-CIRCULARISED.fasta.mmi\n",
      "-rw-r----- 1 jovyan users  15M Sep 13  2021 SMARTDENOVO-STEP_POLISHING_RACON-CIRCULARISED.fasta\n",
      "-rw-r----- 1 jovyan users 3.7K Sep 13  2021 SMARTDENOVO-STEP_POLISHING_RACON-CIRCULARISED.fasta.fai\n",
      "-rw-r----- 1 jovyan users  49M Sep 13  2021 SMARTDENOVO-STEP_POLISHING_RACON-CIRCULARISED.fasta.mmi\n"
     ]
    }
   ],
   "source": [
    "ls -lh ~/work/DATA/real_Hh/Hh-ASSEMBLIES"
   ]
  },
  {
   "cell_type": "markdown",
   "id": "d86ff5c7",
   "metadata": {},
   "source": [
    "### Compare Hh assemblies against the reference sequence using QUAST\n",
    "\n",
    "#### WARNING : This can take a while!! "
   ]
  },
  {
   "cell_type": "code",
   "execution_count": 4,
   "id": "7b1578df",
   "metadata": {
    "collapsed": true,
    "jupyter": {
     "outputs_hidden": true
    },
    "tags": []
   },
   "outputs": [
    {
     "name": "stdout",
     "output_type": "stream",
     "text": [
      "/opt/conda/envs/quast/bin/quast.py /home/jovyan/work/DATA/real_Hh/Hh-ASSEMBLIES/CANU-STEP_CORRECTION_MEDAKA_STARTFIXED-CIRCULARISED.fasta /home/jovyan/work/DATA/real_Hh/Hh-ASSEMBLIES/FLYE-STEP_CORRECTION_MEDAKA_STARTFIXED-CIRCULARISED.fasta /home/jovyan/work/DATA/real_Hh/Hh-ASSEMBLIES/MINIASM-STEP_CORRECTION_MEDAKA_STARTFIXED-CIRCULARISED.fasta /home/jovyan/work/DATA/real_Hh/Hh-ASSEMBLIES/RAVEN-STEP_CORRECTION_MEDAKA_STARTFIXED-CIRCULARISED.fasta /home/jovyan/work/DATA/real_Hh/Hh-ASSEMBLIES/SHASTA-STEP_CORRECTION_MEDAKA_STARTFIXED-CIRCULARISED.fasta /home/jovyan/work/DATA/real_Hh/Hh-ASSEMBLIES/SMARTDENOVO-STEP_CORRECTION_MEDAKA_STARTFIXED-CIRCULARISED.fasta -R /home/jovyan/work/DATA/real_Hh/REFH_M1C132.fasta -o QUAST_REF\n",
      "\n",
      "Version: 5.2.0\n",
      "\n",
      "System information:\n",
      "  OS: Linux-4.15.0-154-generic-x86_64-with-debian-bullseye-sid (linux_64)\n",
      "  Python version: 3.7.12\n",
      "  CPUs number: 8\n",
      "\n",
      "Started: 2022-11-09 15:09:46\n",
      "\n",
      "Logging to /home/jovyan/work/RESULTS/AGGREGATED_Hh/QUAST_REF/quast.log\n",
      "NOTICE: Maximum number of threads is set to 2 (use --threads option to set it manually)\n",
      "\n",
      "CWD: /home/jovyan/work/RESULTS/AGGREGATED_Hh\n",
      "Main parameters: \n",
      "  MODE: default, threads: 2, min contig length: 500, min alignment length: 65, min alignment IDY: 95.0, \\\n",
      "  ambiguity: one, min local misassembly length: 200, min extensive misassembly length: 1000\n",
      "\n",
      "Reference:\n",
      "  /home/jovyan/work/DATA/real_Hh/REFH_M1C132.fasta ==> REFH_M1C132\n",
      "\n",
      "Contigs:\n",
      "  Pre-processing...\n",
      "  1  /home/jovyan/work/DATA/real_Hh/Hh-ASSEMBLIES/CANU-STEP_CORRECTION_MEDAKA_STARTFIXED-CIRCULARISED.fasta ==> CANU-STEP_CORRECTION_MEDAKA_STARTFIXED-CIRCULARISED\n",
      "  2  /home/jovyan/work/DATA/real_Hh/Hh-ASSEMBLIES/FLYE-STEP_CORRECTION_MEDAKA_STARTFIXED-CIRCULARISED.fasta ==> FLYE-STEP_CORRECTION_MEDAKA_STARTFIXED-CIRCULARISED\n",
      "  3  /home/jovyan/work/DATA/real_Hh/Hh-ASSEMBLIES/MINIASM-STEP_CORRECTION_MEDAKA_STARTFIXED-CIRCULARISED.fasta ==> MINIASM-STEP_CORRECTION_MEDAKA_STARTFIXED-CIRCULARISED\n",
      "  4  /home/jovyan/work/DATA/real_Hh/Hh-ASSEMBLIES/RAVEN-STEP_CORRECTION_MEDAKA_STARTFIXED-CIRCULARISED.fasta ==> RAVEN-STEP_CORRECTION_MEDAKA_STARTFIXED-CIRCULARISED\n",
      "  5  /home/jovyan/work/DATA/real_Hh/Hh-ASSEMBLIES/SHASTA-STEP_CORRECTION_MEDAKA_STARTFIXED-CIRCULARISED.fasta ==> SHASTA-STEP_CORRECTION_MEDAKA_STARTFIXED-CIRCULARISED\n",
      "  6  /home/jovyan/work/DATA/real_Hh/Hh-ASSEMBLIES/SMARTDENOVO-STEP_CORRECTION_MEDAKA_STARTFIXED-CIRCULARISED.fasta ==> SMARTDENOVO-STEP_CORRECTION_MEDAKA_STARTFIXED-CIRCULARISED\n",
      "\n",
      "2022-11-09 15:09:48\n",
      "Running Basic statistics processor...\n",
      "  Reference genome:\n",
      "    REFH_M1C132.fasta, length = 2111568, num fragments = 4, GC % = 38.43\n",
      "  Contig files: \n",
      "    1  CANU-STEP_CORRECTION_MEDAKA_STARTFIXED-CIRCULARISED\n",
      "    2  FLYE-STEP_CORRECTION_MEDAKA_STARTFIXED-CIRCULARISED\n",
      "    3  MINIASM-STEP_CORRECTION_MEDAKA_STARTFIXED-CIRCULARISED\n",
      "    4  RAVEN-STEP_CORRECTION_MEDAKA_STARTFIXED-CIRCULARISED\n",
      "    5  SHASTA-STEP_CORRECTION_MEDAKA_STARTFIXED-CIRCULARISED\n",
      "    6  SMARTDENOVO-STEP_CORRECTION_MEDAKA_STARTFIXED-CIRCULARISED\n",
      "  Calculating N50 and L50...\n",
      "    1  CANU-STEP_CORRECTION_MEDAKA_STARTFIXED-CIRCULARISED, N50 = 2108530, L50 = 1, auN = 1696317.1, Total length = 2630776, GC % = 40.48, # N's per 100 kbp =  0.00\n",
      "    2  FLYE-STEP_CORRECTION_MEDAKA_STARTFIXED-CIRCULARISED, N50 = 2052025, L50 = 1, auN = 1938777.1, Total length = 2175295, GC % = 38.49, # N's per 100 kbp =  0.00\n",
      "    3  MINIASM-STEP_CORRECTION_MEDAKA_STARTFIXED-CIRCULARISED, N50 = 178910, L50 = 16, auN = 503564.5, Total length = 12266310, GC % = 52.55, # N's per 100 kbp =  0.00\n",
      "    4  RAVEN-STEP_CORRECTION_MEDAKA_STARTFIXED-CIRCULARISED, N50 = 363022, L50 = 7, auN = 668490.6, Total length = 11462095, GC % = 52.81, # N's per 100 kbp =  0.00\n",
      "    5  SHASTA-STEP_CORRECTION_MEDAKA_STARTFIXED-CIRCULARISED, N50 = 118179, L50 = 21, auN = 317167.1, Total length = 15224433, GC % = 50.43, # N's per 100 kbp =  0.00\n",
      "    6  SMARTDENOVO-STEP_CORRECTION_MEDAKA_STARTFIXED-CIRCULARISED, N50 = 433073, L50 = 11, auN = 523546.5, Total length = 14891483, GC % = 52.09, # N's per 100 kbp =  0.00\n",
      "  Drawing Nx plot...\n",
      "    saved to /home/jovyan/work/RESULTS/AGGREGATED_Hh/QUAST_REF/basic_stats/Nx_plot.pdf\n",
      "  Drawing NGx plot...\n",
      "    saved to /home/jovyan/work/RESULTS/AGGREGATED_Hh/QUAST_REF/basic_stats/NGx_plot.pdf\n",
      "  Drawing cumulative plot...\n",
      "    saved to /home/jovyan/work/RESULTS/AGGREGATED_Hh/QUAST_REF/basic_stats/cumulative_plot.pdf\n",
      "  Drawing GC content plot...\n",
      "    saved to /home/jovyan/work/RESULTS/AGGREGATED_Hh/QUAST_REF/basic_stats/GC_content_plot.pdf\n",
      "  Drawing CANU-STEP_CORRECTION_MEDAKA_STARTFIXED-CIRCULARISED GC content plot...\n",
      "    saved to /home/jovyan/work/RESULTS/AGGREGATED_Hh/QUAST_REF/basic_stats/CANU-STEP_CORRECTION_MEDAKA_STARTFIXED-CIRCULARISED_GC_content_plot.pdf\n",
      "  Drawing FLYE-STEP_CORRECTION_MEDAKA_STARTFIXED-CIRCULARISED GC content plot...\n",
      "    saved to /home/jovyan/work/RESULTS/AGGREGATED_Hh/QUAST_REF/basic_stats/FLYE-STEP_CORRECTION_MEDAKA_STARTFIXED-CIRCULARISED_GC_content_plot.pdf\n",
      "  Drawing MINIASM-STEP_CORRECTION_MEDAKA_STARTFIXED-CIRCULARISED GC content plot...\n",
      "    saved to /home/jovyan/work/RESULTS/AGGREGATED_Hh/QUAST_REF/basic_stats/MINIASM-STEP_CORRECTION_MEDAKA_STARTFIXED-CIRCULARISED_GC_content_plot.pdf\n",
      "  Drawing RAVEN-STEP_CORRECTION_MEDAKA_STARTFIXED-CIRCULARISED GC content plot...\n",
      "    saved to /home/jovyan/work/RESULTS/AGGREGATED_Hh/QUAST_REF/basic_stats/RAVEN-STEP_CORRECTION_MEDAKA_STARTFIXED-CIRCULARISED_GC_content_plot.pdf\n",
      "  Drawing SHASTA-STEP_CORRECTION_MEDAKA_STARTFIXED-CIRCULARISED GC content plot...\n",
      "    saved to /home/jovyan/work/RESULTS/AGGREGATED_Hh/QUAST_REF/basic_stats/SHASTA-STEP_CORRECTION_MEDAKA_STARTFIXED-CIRCULARISED_GC_content_plot.pdf\n",
      "  Drawing SMARTDENOVO-STEP_CORRECTION_MEDAKA_STARTFIXED-CIRCULARISED GC content plot...\n",
      "    saved to /home/jovyan/work/RESULTS/AGGREGATED_Hh/QUAST_REF/basic_stats/SMARTDENOVO-STEP_CORRECTION_MEDAKA_STARTFIXED-CIRCULARISED_GC_content_plot.pdf\n",
      "Done.\n",
      "\n",
      "2022-11-09 15:09:53\n",
      "Running Contig analyzer...\n",
      "  1  CANU-STEP_CORRECTION_MEDAKA_STARTFIXED-CIRCULARISED\n",
      "  2  FLYE-STEP_CORRECTION_MEDAKA_STARTFIXED-CIRCULARISED\n",
      "  1  Logging to files /home/jovyan/work/RESULTS/AGGREGATED_Hh/QUAST_REF/contigs_reports/contigs_report_CANU-STEP_CORRECTION_MEDAKA_STARTFIXED-CIRCULARISED.stdout and contigs_report_CANU-STEP_CORRECTION_MEDAKA_STARTFIXED-CIRCULARISED.stderr...\n",
      "  2  Logging to files /home/jovyan/work/RESULTS/AGGREGATED_Hh/QUAST_REF/contigs_reports/contigs_report_FLYE-STEP_CORRECTION_MEDAKA_STARTFIXED-CIRCULARISED.stdout and contigs_report_FLYE-STEP_CORRECTION_MEDAKA_STARTFIXED-CIRCULARISED.stderr...\n",
      "  1  Aligning contigs to the reference\n",
      "  2  Aligning contigs to the reference\n",
      "  2  Analysis is finished.\n",
      "  3  MINIASM-STEP_CORRECTION_MEDAKA_STARTFIXED-CIRCULARISED\n",
      "  3  Logging to files /home/jovyan/work/RESULTS/AGGREGATED_Hh/QUAST_REF/contigs_reports/contigs_report_MINIASM-STEP_CORRECTION_MEDAKA_STARTFIXED-CIRCULARISED.stdout and contigs_report_MINIASM-STEP_CORRECTION_MEDAKA_STARTFIXED-CIRCULARISED.stderr...\n",
      "  3  Aligning contigs to the reference\n",
      "  1  Analysis is finished.\n",
      "  4  RAVEN-STEP_CORRECTION_MEDAKA_STARTFIXED-CIRCULARISED\n",
      "  4  Logging to files /home/jovyan/work/RESULTS/AGGREGATED_Hh/QUAST_REF/contigs_reports/contigs_report_RAVEN-STEP_CORRECTION_MEDAKA_STARTFIXED-CIRCULARISED.stdout and contigs_report_RAVEN-STEP_CORRECTION_MEDAKA_STARTFIXED-CIRCULARISED.stderr...\n",
      "  4  Aligning contigs to the reference\n",
      "  4  Analysis is finished.\n",
      "  5  SHASTA-STEP_CORRECTION_MEDAKA_STARTFIXED-CIRCULARISED\n",
      "  5  Logging to files /home/jovyan/work/RESULTS/AGGREGATED_Hh/QUAST_REF/contigs_reports/contigs_report_SHASTA-STEP_CORRECTION_MEDAKA_STARTFIXED-CIRCULARISED.stdout and contigs_report_SHASTA-STEP_CORRECTION_MEDAKA_STARTFIXED-CIRCULARISED.stderr...\n",
      "  5  Aligning contigs to the reference\n",
      "  3  Analysis is finished.\n",
      "  6  SMARTDENOVO-STEP_CORRECTION_MEDAKA_STARTFIXED-CIRCULARISED\n",
      "  6  Logging to files /home/jovyan/work/RESULTS/AGGREGATED_Hh/QUAST_REF/contigs_reports/contigs_report_SMARTDENOVO-STEP_CORRECTION_MEDAKA_STARTFIXED-CIRCULARISED.stdout and contigs_report_SMARTDENOVO-STEP_CORRECTION_MEDAKA_STARTFIXED-CIRCULARISED.stderr...\n",
      "  6  Aligning contigs to the reference\n",
      "  6  Analysis is finished.\n",
      "  5  Analysis is finished.\n",
      "  Creating total report...\n",
      "    saved to /home/jovyan/work/RESULTS/AGGREGATED_Hh/QUAST_REF/contigs_reports/misassemblies_report.txt, misassemblies_report.tsv, and misassemblies_report.tex\n",
      "  Transposed version of total report...\n",
      "    saved to /home/jovyan/work/RESULTS/AGGREGATED_Hh/QUAST_REF/contigs_reports/transposed_report_misassemblies.txt, transposed_report_misassemblies.tsv, and transposed_report_misassemblies.tex\n",
      "  Creating total report...\n",
      "    saved to /home/jovyan/work/RESULTS/AGGREGATED_Hh/QUAST_REF/contigs_reports/unaligned_report.txt, unaligned_report.tsv, and unaligned_report.tex\n",
      "  Drawing misassemblies by types plot...\n",
      "    saved to /home/jovyan/work/RESULTS/AGGREGATED_Hh/QUAST_REF/contigs_reports/misassemblies_plot.pdf\n",
      "  Drawing misassemblies FRCurve plot...\n",
      "    saved to /home/jovyan/work/RESULTS/AGGREGATED_Hh/QUAST_REF/contigs_reports/misassemblies_frcurve_plot.pdf\n",
      "Done.\n",
      "\n",
      "2022-11-09 15:09:59\n",
      "Running NA-NGA calculation...\n",
      "  1  CANU-STEP_CORRECTION_MEDAKA_STARTFIXED-CIRCULARISED, Largest alignment = 1493562, NA50 = 1493562, NGA50 = 1493562, LA50 = 1, LGA50 = 1\n",
      "  2  FLYE-STEP_CORRECTION_MEDAKA_STARTFIXED-CIRCULARISED, Largest alignment = 2052025, NA50 = 2052025, NGA50 = 2052025, LA50 = 1, LGA50 = 1\n",
      "  3  MINIASM-STEP_CORRECTION_MEDAKA_STARTFIXED-CIRCULARISED, Largest alignment = 2052021, NA50 = None, NGA50 = 2052021, LA50 = None, LGA50 = 1\n",
      "  4  RAVEN-STEP_CORRECTION_MEDAKA_STARTFIXED-CIRCULARISED, Largest alignment = 2050634, NA50 = None, NGA50 = 2050634, LA50 = None, LGA50 = 1\n",
      "  5  SHASTA-STEP_CORRECTION_MEDAKA_STARTFIXED-CIRCULARISED, Largest alignment = 22350, NA50 = None, NGA50 = 7937, LA50 = None, LGA50 = 100\n",
      "  6  SMARTDENOVO-STEP_CORRECTION_MEDAKA_STARTFIXED-CIRCULARISED, Largest alignment = 580466, NA50 = None, NGA50 = 284071, LA50 = None, LGA50 = 3\n",
      "  Drawing cumulative plot...\n",
      "    saved to /home/jovyan/work/RESULTS/AGGREGATED_Hh/QUAST_REF/aligned_stats/cumulative_plot.pdf\n",
      "  Drawing NAx plot...\n",
      "    saved to /home/jovyan/work/RESULTS/AGGREGATED_Hh/QUAST_REF/aligned_stats/NAx_plot.pdf\n",
      "  Drawing NGAx plot...\n",
      "    saved to /home/jovyan/work/RESULTS/AGGREGATED_Hh/QUAST_REF/aligned_stats/NGAx_plot.pdf\n",
      "Done.\n",
      "\n",
      "2022-11-09 15:10:00\n",
      "Running Genome analyzer...\n",
      "  NOTICE: No file with genomic features were provided. Use the --features option if you want to specify it.\n",
      "\n",
      "  NOTICE: No file with operons were provided. Use the -O option if you want to specify it.\n",
      "  1  CANU-STEP_CORRECTION_MEDAKA_STARTFIXED-CIRCULARISED\n",
      "  2  FLYE-STEP_CORRECTION_MEDAKA_STARTFIXED-CIRCULARISED\n",
      "  2  Analysis is finished.\n",
      "  3  MINIASM-STEP_CORRECTION_MEDAKA_STARTFIXED-CIRCULARISED\n",
      "  1  Analysis is finished.\n",
      "  4  RAVEN-STEP_CORRECTION_MEDAKA_STARTFIXED-CIRCULARISED\n",
      "  4  Analysis is finished.\n",
      "  5  SHASTA-STEP_CORRECTION_MEDAKA_STARTFIXED-CIRCULARISED\n",
      "  3  Analysis is finished.\n",
      "  6  SMARTDENOVO-STEP_CORRECTION_MEDAKA_STARTFIXED-CIRCULARISED\n",
      "  6  Analysis is finished.\n",
      "  5  Analysis is finished.\n",
      "  Drawing Genome fraction, % histogram...\n",
      "    saved to /home/jovyan/work/RESULTS/AGGREGATED_Hh/QUAST_REF/genome_stats/genome_fraction_histogram.pdf\n",
      "Done.\n",
      "\n",
      "NOTICE: Genes are not predicted by default. Use --gene-finding or --glimmer option to enable it.\n",
      "\n",
      "2022-11-09 15:10:03\n",
      "Creating large visual summaries...\n",
      "This may take a while: press Ctrl-C to skip this step..\n",
      "  1 of 2: Creating PDF with all tables and plots...\n",
      "  2 of 2: Creating Icarus viewers...\n",
      "Done\n",
      "\n",
      "2022-11-09 15:10:06\n",
      "RESULTS:\n",
      "  Text versions of total report are saved to /home/jovyan/work/RESULTS/AGGREGATED_Hh/QUAST_REF/report.txt, report.tsv, and report.tex\n",
      "  Text versions of transposed total report are saved to /home/jovyan/work/RESULTS/AGGREGATED_Hh/QUAST_REF/transposed_report.txt, transposed_report.tsv, and transposed_report.tex\n",
      "  HTML version (interactive tables and plots) is saved to /home/jovyan/work/RESULTS/AGGREGATED_Hh/QUAST_REF/report.html\n",
      "  PDF version (tables and plots) is saved to /home/jovyan/work/RESULTS/AGGREGATED_Hh/QUAST_REF/report.pdf\n",
      "  Icarus (contig browser) is saved to /home/jovyan/work/RESULTS/AGGREGATED_Hh/QUAST_REF/icarus.html\n",
      "  Log is saved to /home/jovyan/work/RESULTS/AGGREGATED_Hh/QUAST_REF/quast.log\n",
      "\n",
      "Finished: 2022-11-09 15:10:06\n",
      "Elapsed time: 0:00:20.510602\n",
      "NOTICEs: 4; WARNINGs: 0; non-fatal ERRORs: 0\n",
      "\n",
      "Thank you for using QUAST!\n",
      "\n",
      "real\t0m20.959s\n",
      "user\t0m30.763s\n",
      "sys\t0m5.486s\n"
     ]
    }
   ],
   "source": [
    "mkdir ~/work/RESULTS/AGGREGATED_Hh/\n",
    "cd ~/work/RESULTS/AGGREGATED_Hh/\n",
    "time quast.py /home/jovyan/work/DATA/real_Hh/Hh-ASSEMBLIES/*MEDAKA_STARTFIXED-CIRCULARISED.fasta -R /home/jovyan/work/DATA/real_Hh/REFH_M1C132.fasta -o QUAST_REF"
   ]
  },
  {
   "cell_type": "markdown",
   "id": "c482f4ba",
   "metadata": {
    "tags": []
   },
   "source": [
    "#### Which of the assemblies are closest in size relative to the reference ?\n",
    "\n",
    "#### Does this have the largest N50 and fewest number of contigs?"
   ]
  },
  {
   "cell_type": "markdown",
   "id": "07ff361a",
   "metadata": {
    "tags": []
   },
   "source": [
    "#### What assembly does obtain the best contiguity metrics?\n"
   ]
  },
  {
   "cell_type": "markdown",
   "id": "30db29bd",
   "metadata": {
    "tags": []
   },
   "source": [
    "## <span style=\"color: #4CACBD;\"> 2. Assessing gene space using BUSCO (REAL DATA) </span>\n"
   ]
  },
  {
   "cell_type": "markdown",
   "id": "ae690225",
   "metadata": {},
   "source": [
    "Benchmarking Universal Single-Copy Orthologs ([BUSCO](https://busco.ezlab.org/busco_userguide.html)) helps to check if you have a good assembly, by searching the expected single-copy lineage-conserved orthologs in any newly-sequenced genome from an appropriate phylogenetic clade."
   ]
  },
  {
   "cell_type": "markdown",
   "id": "84bbbda5",
   "metadata": {},
   "source": [
    "Calculate the gene space for each assembly"
   ]
  },
  {
   "cell_type": "code",
   "execution_count": 5,
   "id": "ed5fd510",
   "metadata": {
    "tags": []
   },
   "outputs": [],
   "source": [
    "mkdir -p ~/work/RESULTS/AGGREGATED_Hh/BUSCO\n",
    "cd ~/work/RESULTS/AGGREGATED_Hh/BUSCO"
   ]
  },
  {
   "cell_type": "markdown",
   "id": "40200c0c",
   "metadata": {},
   "source": [
    "Lineage can be choose in busco database using --list-datasets parameter"
   ]
  },
  {
   "cell_type": "code",
   "execution_count": 6,
   "id": "4851997d",
   "metadata": {
    "tags": []
   },
   "outputs": [
    {
     "name": "stdout",
     "output_type": "stream",
     "text": [
      "bash: busco: command not found\n"
     ]
    },
    {
     "ename": "",
     "evalue": "127",
     "output_type": "error",
     "traceback": []
    }
   ],
   "source": [
    "# busco env\n",
    "busco --list-datasets"
   ]
  },
  {
   "cell_type": "code",
   "execution_count": null,
   "id": "f870bc44",
   "metadata": {
    "tags": []
   },
   "outputs": [],
   "source": [
    "ASSEMBLY=\"~/work/DATA/real_Hh/Hh-ASSEMBLIES/FLYE-STEP_CORRECTION_MEDAKA_STARTFIXED-CIRCULARISED.fasta\"\n",
    "LINEAGE=bacteria_odb10\n",
    "busco -i \"$ASSEMBLY\" -l \"$LINEAGE\" -c \"${CPUS:-4}\" -m genome -o BUSCO_RESULTS "
   ]
  },
  {
   "cell_type": "markdown",
   "id": "0b7b858a",
   "metadata": {
    "tags": []
   },
   "source": [
    "### What does the gene space look like for this assembly?\n",
    "\n",
    "#### Run BUSCO in all assemblies generated if you want... "
   ]
  },
  {
   "cell_type": "markdown",
   "id": "742dd48c",
   "metadata": {},
   "source": [
    "## <span style=\"color: #4CACBD;\"> 3. Read alignment statistics - remapping (CLONE) </span>"
   ]
  },
  {
   "cell_type": "markdown",
   "id": "5461cea9",
   "metadata": {},
   "source": [
    "Read congruency is an important measure in determining assembly accuracy. Clusters of read pairs that align incorrectly are strong indicators of mis-assembly.\n",
    "\n",
    "How well do the reads align back to the draft assemblies? Use minimap2 and samtools to assess the basic alignment statistics.\n",
    "\n",
    "Make a folder for your results.\n",
    "\n",
    "We will use CloneX_FLYE_RACONx2_MEDAKA.fasta assembly and ONT READS as well ILLUMINA READS."
   ]
  },
  {
   "cell_type": "code",
   "execution_count": 7,
   "id": "94d90ca1",
   "metadata": {},
   "outputs": [],
   "source": [
    "mkdir -p ~/work/RESULTS/REMAPPING\n",
    "cd ~/work/RESULTS/REMAPPING/"
   ]
  },
  {
   "cell_type": "code",
   "execution_count": 8,
   "id": "e4ff7f9c",
   "metadata": {},
   "outputs": [],
   "source": [
    "CLONE=\"Clone10\"\n",
    "ASSEMBLY=\"/home/jovyan/work/RESULTS/FLYE_RACON_MEDAKA/MEDAKA_CONSENSUS/consensus.fasta\"\n",
    "ONT=\"/home/jovyan/work/DATA/${CLONE}/ONT/${CLONE}.fastq.gz\"\n",
    "ILLUMINA_R1=\"/home/jovyan/work/DATA/${CLONE}/ILL/${CLONE}_R1.fastq.gz\"\n",
    "ILLUMINA_R2=\"/home/jovyan/work/DATA/${CLONE}/ILL/${CLONE}_R2.fastq.gz\""
   ]
  },
  {
   "cell_type": "code",
   "execution_count": 9,
   "id": "54bd54dd",
   "metadata": {},
   "outputs": [],
   "source": [
    "#symbolic link from last assembly in the current repertory ReMAPPING\n",
    "ln -s ${ASSEMBLY} ${CLONE}_FLYE_RACONx2_MEDAKA.fasta\n",
    "# overwrite ASSEMBLY variable\n",
    "ASSEMBLY=${CLONE}_FLYE_RACONx2_MEDAKA.fasta"
   ]
  },
  {
   "cell_type": "markdown",
   "id": "6a651496",
   "metadata": {},
   "source": [
    "## Mapping assemblies vs ONT reads"
   ]
  },
  {
   "cell_type": "code",
   "execution_count": null,
   "id": "dac7f01b",
   "metadata": {},
   "outputs": [],
   "source": [
    "minimap2 -ax map-ont -t 4 ${ASSEMBLY} ${ONT} | samtools sort -@ 1 -T \"${ASSEMBLY/.fasta/}\" -O BAM -o \"${ASSEMBLY/.fasta/_ONT_minimap2.bam}\" -\n",
    "samtools index \"${ASSEMBLY/.fasta/_ONT_minimap2.bam}\"\n",
    "samtools view -F 0x904 -c \"${ASSEMBLY/.fasta/_ONT_minimap2.bam}\""
   ]
  },
  {
   "cell_type": "markdown",
   "id": "5cae8f23",
   "metadata": {},
   "source": [
    "## Mapping assemblies vs ILLUMINA reads"
   ]
  },
  {
   "cell_type": "code",
   "execution_count": null,
   "id": "ed5b06a8",
   "metadata": {},
   "outputs": [],
   "source": [
    "#minimap2 -ax sr ref.fa read1.fq read2.fq > aln.sam\n",
    "minimap2 -ax sr -t 4 ${ASSEMBLY} ${ILLUMINA_R1} ${ILLUMINA_R2} | samtools sort -@ 1 -T \"${ASSEMBLY/.fasta/}\" -O BAM -o \"${ASSEMBLY/.fasta/_ILL_minimap2.bam}\" -\n",
    "samtools index \"${ASSEMBLY/.fasta/_ILL_minimap2.bam}\"\n",
    "samtools view -F 0x904 -c \"${ASSEMBLY/.fasta/_ILL_minimap2.bam}\""
   ]
  },
  {
   "cell_type": "markdown",
   "id": "06280206",
   "metadata": {},
   "source": [
    "### What is the percentage of aligned ONT and ILLUMINa reads in your clone assembly?"
   ]
  },
  {
   "cell_type": "markdown",
   "id": "5311c01b",
   "metadata": {},
   "source": [
    "## <span style=\"color: #4CACBD;\"> 4. Blobtools </span>\n",
    "\n",
    "During the sequence quality assessment stage we tried to discern whether contamination was present. Sometimes this is not feasible at the read level. By plotting Contig GC content vs Contig Read Coverage we can look for clusters of contigs that share similar coverage. The appearance of multiple clusters can indicate multiple organisms. Occasionally, contigs can also be taxonomically classified, providing further evidence for contaminants.\n",
    "\n",
    "First we need to download some files"
   ]
  },
  {
   "cell_type": "code",
   "execution_count": null,
   "id": "4d011647",
   "metadata": {},
   "outputs": [],
   "source": [
    "cd ~/work/DATA\n",
    "wget --no-check-certificat -rm -nH --cut-dirs=1 --reject=\"index.html*\" https://itrop.ird.fr/ont-training/blobtools.tar.gz\n",
    "tar zxvf blobtools.tar.gz\n",
    "wget --no-check-certificat -rm -nH --cut-dirs=1 --reject=\"index.html*\" https://itrop.ird.fr/ont-training/testBacteria.dmnd"
   ]
  },
  {
   "cell_type": "markdown",
   "id": "e93a8cf9",
   "metadata": {},
   "source": [
    "Run Blobtools on each assembly. Blobtools requires both a BAM file as input and blast output for the classification step.2."
   ]
  },
  {
   "cell_type": "code",
   "execution_count": null,
   "id": "4aa3cd18",
   "metadata": {},
   "outputs": [],
   "source": [
    "mkdir -p ~/work/RESULTS/BLOBTOOLS\n",
    "cd ~/work/RESULTS/BLOBTOOLS"
   ]
  },
  {
   "cell_type": "markdown",
   "id": "24abae55",
   "metadata": {},
   "source": [
    "### Blastx using diamond "
   ]
  },
  {
   "cell_type": "markdown",
   "id": "b1514305",
   "metadata": {},
   "source": [
    "Run diamond in blastx mode using assembled contigs vs a pre-formatted diamond bacteria database (protein)"
   ]
  },
  {
   "cell_type": "code",
   "execution_count": null,
   "id": "a01cc1b7",
   "metadata": {},
   "outputs": [],
   "source": [
    "#prepare assembly file\n",
    "ASSEMBLY=\"/home/jovyan/work/RESULTS/FLYE_RACON_MEDAKA/MEDAKA_CONSENSUS/consensus.fasta\"\n",
    "#symbolic link from last assembly in the current repertory BLOBTOOLs\n",
    "ln -s ${ASSEMBLY} ${CLONE}_FLYE_RACONx2_MEDAKA.fasta\n",
    "# overwrite ASSEMBLY variable\n",
    "ASSEMBLY=${CLONE}_FLYE_RACONx2_MEDAKA.fasta"
   ]
  },
  {
   "cell_type": "code",
   "execution_count": null,
   "id": "1a850f9f",
   "metadata": {
    "tags": []
   },
   "outputs": [],
   "source": [
    "time diamond blastx --query ${ASSEMBLY}  --db ~/work/DATA/testBacteria.dmnd  --outfmt 6 qseqid staxids bitscore qseqid sseqid pident length mismatch gapopen qstart qend sstart send evalue bitscore --sensitive  --max-target-seqs 1  --evalue 1e-25  --threads 4  --out diamond.csv"
   ]
  },
  {
   "cell_type": "code",
   "execution_count": null,
   "id": "949b3b65",
   "metadata": {},
   "outputs": [],
   "source": [
    "head diamond.csv"
   ]
  },
  {
   "cell_type": "markdown",
   "id": "bc24364e",
   "metadata": {},
   "source": [
    "### Run blobtools "
   ]
  },
  {
   "cell_type": "markdown",
   "id": "0b521dd5",
   "metadata": {},
   "source": [
    "Specifically to Blobtools: * nodes and names from ncbi taxdump database can be download from [here](https://github.com/DRL/blobtools#download-ncbi-taxdump-and-create-nodesdb).\n",
    "\n",
    "In this training nodes and names are available on the DATA directory"
   ]
  },
  {
   "cell_type": "code",
   "execution_count": null,
   "id": "f541ff14",
   "metadata": {},
   "outputs": [],
   "source": [
    "BAM=~/work/RESULTS/REMAPPING/${ASSEMBLY/.fasta/_ONT_minimap2.bam}\n",
    "DIAMONDX=~/work/RESULTS/BLOBTOOLS/diamond.csv\n",
    "BLOB_NODES=~/work/DATA/blobtools/nodes.dmp\n",
    "BLOB_NAMES=~/work/DATA/blobtools/names.dmp"
   ]
  },
  {
   "cell_type": "code",
   "execution_count": null,
   "id": "7edc3247",
   "metadata": {},
   "outputs": [],
   "source": [
    "blobtools create -i ${ASSEMBLY} -b ${BAM} -t ${DIAMONDX} -o quality --names ${BLOB_NAMES} --nodes ${BLOB_NODES} --db nodesDB.txt"
   ]
  },
  {
   "cell_type": "code",
   "execution_count": null,
   "id": "3571693e",
   "metadata": {
    "tags": []
   },
   "outputs": [],
   "source": [
    "blobtools view -i quality.blobDB.json --cov -o output;\n",
    "blobtools plot -i quality.blobDB.json;"
   ]
  },
  {
   "cell_type": "markdown",
   "id": "7b625824",
   "metadata": {},
   "source": [
    "#### Is there contamination in the assembly?\n",
    "\n",
    "#### Do any assemblies show strange clustering?\n",
    "\n",
    "#### Why might coverage vary across contigs within an assembly?"
   ]
  },
  {
   "cell_type": "markdown",
   "id": "1b4bb928",
   "metadata": {},
   "source": [
    "The Blobplots all indicate a single cluster. Some contigs show fairly high coverage in comparison to the rest of the genome which could be repetitive elements in the genome."
   ]
  },
  {
   "cell_type": "markdown",
   "id": "26be95ee",
   "metadata": {},
   "source": [
    "## <span style=\"color: #4CACBD;\"> 5. Comparative Alignment </span>\n",
    "\n",
    "Comparative alignment is a useful tool to see how assemblies compare to each other. This can be useful to compare assemblies to a reference, or to see if assemblies have large structural differences.\n",
    "\n"
   ]
  },
  {
   "cell_type": "markdown",
   "id": "83f1169a",
   "metadata": {},
   "source": [
    "Check assembled genome with dgenies : http://dgenies.toulouse.inra.fr/"
   ]
  },
  {
   "cell_type": "markdown",
   "id": "fd54b12c",
   "metadata": {},
   "source": [
    "Since you have a reference genome available, an alternative option to de novo assembly is to assemble using a reference genome - by mapping of the sequence reads\n",
    "\n",
    "Prepare data to download into dgenies : \n",
    "\n",
    " * Reference.fasta ` ~/work/DATA/CloneX/reference.fasta `\n",
    " \n",
    " * ONT assembly in CloneX (Flye+Raconx2+Medaka) ` ~/work/RESULTS/FLYE_RACON_MEDAKA/MEDAKA_CONSENSUS/consensus.fasta\" ` \n",
    " \n",
    " * ABYSS assembly generated with illumina reads  ` ~/work/DATA/DGENIES/Clone20-abyss.fasta ` \n",
    " "
   ]
  },
  {
   "cell_type": "markdown",
   "id": "cd5b63e8",
   "metadata": {},
   "source": [
    "ABYSS illumina assemblies are stocked on itrop server. Use wget to download it "
   ]
  },
  {
   "cell_type": "code",
   "execution_count": null,
   "id": "1ee793db",
   "metadata": {},
   "outputs": [],
   "source": [
    "cd ~/work/DATA/\n",
    "wget --no-check-certificat -rm -nH --cut-dirs=1 --reject=\"index.html*\" https://itrop.ird.fr/ont-training/DGENIES.tar.gz\n",
    "tar zxvf DGENIES.tar.gz"
   ]
  },
  {
   "cell_type": "markdown",
   "id": "31b60d8c",
   "metadata": {},
   "source": [
    "#### What is the mean difference between illumina and ONT assembly for Clone20?"
   ]
  }
 ],
 "metadata": {
  "kernelspec": {
   "display_name": "Bash",
   "language": "bash",
   "name": "bash"
  },
  "language_info": {
   "codemirror_mode": "shell",
   "file_extension": ".sh",
   "mimetype": "text/x-sh",
   "name": "bash"
  }
 },
 "nbformat": 4,
 "nbformat_minor": 5
}
