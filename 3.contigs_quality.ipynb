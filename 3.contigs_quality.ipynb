{
 "cells": [
  {
   "cell_type": "markdown",
   "id": "2f09a11c",
   "metadata": {},
   "source": [
    "# Formation South Green 2021  \n",
    "\n",
    "##  Initiation à l’analyse de données Minion\n",
    "\n",
    "### PART 3\n",
    "\n",
    "Created by J.Orjuela (DIADE-IRD), F. Sabot (DIADE-IRD) and G. Sarah (AGAP-CIRAD)\n",
    "\n",
    "Septembre 2021"
   ]
  },
  {
   "cell_type": "markdown",
   "id": "3d07c5cc",
   "metadata": {},
   "source": [
    "## 1. Perform a comparison of assemblies using QUAST"
   ]
  },
  {
   "cell_type": "markdown",
   "id": "93831a0f",
   "metadata": {},
   "source": [
    "The metrics of assemblies can be evaluated using a quality assessment tools such as [QUAST](http://quast.bioinf.spbau.ru/manual.html).\n",
    "\n",
    "We have assembled raw data using various assemblers and also and polished it. \n",
    "\n",
    "All the intermediate and results files are available here LINK\n",
    "\n",
    "You can found assemblies results files in the AGGREGATED repertory."
   ]
  },
  {
   "cell_type": "code",
   "execution_count": 1,
   "id": "04d7cfe2",
   "metadata": {},
   "outputs": [],
   "source": [
    "USER=\"jovyan\"\n",
    "cd /home/${USER}/SG-ONT-2021/\n",
    "## wget "
   ]
  },
  {
   "cell_type": "markdown",
   "id": "a0ff6d3b",
   "metadata": {},
   "source": [
    "Run QUAST on the assemblies you now have made in the quast directory and compare them."
   ]
  },
  {
   "cell_type": "code",
   "execution_count": null,
   "id": "83d3c7d7",
   "metadata": {},
   "outputs": [],
   "source": [
    "cd /home/${USER}/SG-ONT-2021/AGGREGATED"
   ]
  },
  {
   "cell_type": "code",
   "execution_count": null,
   "id": "36fcf4f3",
   "metadata": {},
   "outputs": [],
   "source": [
    "quast.py *.fasta -o QUAST"
   ]
  },
  {
   "cell_type": "markdown",
   "id": "7bacaea0",
   "metadata": {},
   "source": [
    "Go to the QUAST directory and check the file content.\n",
    "\n",
    "Open the report.html file in a web browser.\n",
    "\n",
    "* Looking at the output statistics, what are the main difference between the assemblies?\n",
    "\n",
    "* Look total sizes, number of contigs, N50 statistics.\n",
    "\n",
    "* For your favorite clone what is the best one ?"
   ]
  },
  {
   "cell_type": "markdown",
   "id": "17cd9fc8",
   "metadata": {},
   "source": [
    "### Comparison of the assemblies against the reference genome of closely organism"
   ]
  },
  {
   "cell_type": "markdown",
   "id": "3eb7ccc0",
   "metadata": {},
   "source": [
    "It's possible to compare assemblies against the reference genome of closely related organism. \n",
    "\n",
    "In our case we will use  the *reference.fasta* sequence using QUAST. \n",
    "\n",
    "This sequence can be download [itrop server](https://itrop.ird.fr/ont-training)"
   ]
  },
  {
   "cell_type": "code",
   "execution_count": null,
   "id": "a87923f5",
   "metadata": {},
   "outputs": [],
   "source": [
    "wget https://itrop.ird.fr/ont-training/DATA/reference.fasta"
   ]
  },
  {
   "cell_type": "markdown",
   "id": "8718a54b",
   "metadata": {},
   "source": [
    "Compare the output from your assemblies against the complete genome sequence using QUAST:"
   ]
  },
  {
   "cell_type": "code",
   "execution_count": null,
   "id": "eb7636a7",
   "metadata": {},
   "outputs": [],
   "source": [
    "quast.py *.fasta -R reference.fasta -o QUAST_REF"
   ]
  },
  {
   "cell_type": "markdown",
   "id": "82746530",
   "metadata": {},
   "source": [
    "* Which of the assemblies are closest in size relative to the reference ?\n",
    "\n",
    "* Does this have the largest N50 and fewest number of contigs?"
   ]
  },
  {
   "cell_type": "markdown",
   "id": "94ea6817",
   "metadata": {},
   "source": [
    "The ideal shape of the Nx graph would be vertical line if the bacteria is a single contig. As more contigs are present, the cumulative length graph shifts to the right slightly as contigs get shorter.\n",
    "\n",
    "The Nx graph shows that the X assembly is the making the longest and least contigs.\n",
    "\n",
    "The GC content graph does not indicate contamination.\n",
    "\n",
    "The X assembly has the best contiguity metrics."
   ]
  },
  {
   "cell_type": "markdown",
   "id": "75a66fb4",
   "metadata": {},
   "source": [
    "## 2. Assessing gene space using BUSCO "
   ]
  },
  {
   "cell_type": "markdown",
   "id": "97a02446",
   "metadata": {},
   "source": [
    "Benchmarking Universal Single-Copy Orthologs ([BUSCO](https://busco.ezlab.org/busco_userguide.html)) helps to check if you have a good assembly, by searching the expected single-copy lineage-conserved orthologs in any newly-sequenced genome from an appropriate phylogenetic clade."
   ]
  },
  {
   "cell_type": "markdown",
   "id": "a87ca5c3",
   "metadata": {},
   "source": [
    "Calculate the gene space look like for each assembly?"
   ]
  },
  {
   "cell_type": "code",
   "execution_count": null,
   "id": "2270154e",
   "metadata": {},
   "outputs": [],
   "source": [
    "mkdir -p BUSCO\n",
    "cd BUSCO\n",
    "ln -s ../*.fasta .\n",
    "# run the following two lines to setup the busco environment\n",
    "rsync -r /opt/miniconda3/pkgs/augustus-3.2.2-boost1.61_3/config/{species,model} .\n",
    "export AUGUSTUS_CONFIG_PATH=$PWD\n",
    "apply_BUSCO () {\n",
    "    ASSEMBLY=\"$1\" #The assembly is the first parameter to this function. The file must end in fasta\n",
    "    LINEAGE=/home/data/opt-byod/busco/lineages/bacteria_odb9\n",
    "    busco -i \"$ASSEMBLY\" -l \"$LINEAGE\" -c \"${CPUS:-4}\" -m genome -o \"${ASSEMBLY/.fasta/_busco}\"\n",
    "}"
   ]
  },
  {
   "cell_type": "code",
   "execution_count": null,
   "id": "8ab38a6b",
   "metadata": {},
   "outputs": [],
   "source": [
    "for FASTA in *.fasta; do\n",
    "    apply_BUSCO \"$FASTA\"\n",
    "done"
   ]
  },
  {
   "cell_type": "code",
   "execution_count": null,
   "id": "7d3fb576",
   "metadata": {},
   "outputs": [],
   "source": [
    "* What does the gene space look like for each assembly?\n",
    "\n",
    "* What assembly is the best one?"
   ]
  },
  {
   "cell_type": "markdown",
   "id": "0040a2cd",
   "metadata": {},
   "source": [
    "## 3. Read alignment statistics - remapping"
   ]
  },
  {
   "cell_type": "markdown",
   "id": "18838eed",
   "metadata": {},
   "source": [
    "Read congruency is an important measure in determining assembly accuracy. Clusters of read pairs that align incorrectly are strong indicators of mis-assembly.\n",
    "\n",
    "How well do the reads align back to the draft assemblies? Use minimap2 and samtools to assess the basic alignment statistics.\n",
    "\n",
    "Make a folder for your results."
   ]
  },
  {
   "cell_type": "code",
   "execution_count": null,
   "id": "bb27a4e3",
   "metadata": {},
   "outputs": [],
   "source": [
    "mkdir MINIMAP2\n",
    "cd MINIMAP2\n",
    "ln -s ../*.fasta . # link the fasta files in this directory"
   ]
  },
  {
   "cell_type": "markdown",
   "id": "e0a53566",
   "metadata": {},
   "source": [
    "Then copy this function into your terminal."
   ]
  },
  {
   "cell_type": "code",
   "execution_count": null,
   "id": "2ba27d79",
   "metadata": {},
   "outputs": [],
   "source": [
    "align_reads () {\n",
    "    ASSEMBLY=\"$1\" # The assembly is the first parameter to this function. Must end in .fasta\n",
    "    READS=\"$2\"    # The first read pair is the second parameter to this function\n",
    "    minimap2 index \"$ASSEMBLY\" # Index the assembly prior to alignment\n",
    "    minmap2 -ax map-ont -t 1 \"$ASSEMBLY\" \"$READS\" | samtools sort -@ 1 -T \"${ASSEMBLY/.fasta/}\" -O BAM -o \"${ASSEMBLY/.fasta/_bwa_alignment.bam}\" -\n",
    "    samtools index \"${ASSEMBLY/.fasta/_bwa_alignment.bam}\"\n",
    "    # minimap2 : Align reads to the assembly\n",
    "    # samtools sort : Sort the output by coordinate\n",
    "    #    -O BAM : save the output as a BAM file\n",
    "    #    -@ <int> : use <int> cores\n",
    "    #    -T <temp> : Write temporary files to <temp>.nnnn.bam\n",
    "    # samtools index : index the BAM file\n",
    "    samtools view -F 0x904 -c \"${ASSEMBLY/.fasta/_bwa_alignment.bam}\"\n",
    "}"
   ]
  },
  {
   "cell_type": "markdown",
   "id": "c9606279",
   "metadata": {},
   "source": [
    "Run the function above for all assemblies"
   ]
  },
  {
   "cell_type": "code",
   "execution_count": null,
   "id": "58e3f993",
   "metadata": {},
   "outputs": [],
   "source": [
    "for FASTA in *.fasta; do\n",
    "    align_reads \"$FASTA\" ../CloneXX.fastq.gz \n",
    "done\n",
    "# recuperer le nb du clon aussi de maniere automatique"
   ]
  },
  {
   "cell_type": "markdown",
   "id": "edbb579f",
   "metadata": {},
   "source": [
    "## 3. Blobtools\n",
    "\n",
    "During the sequence quality assessment stage we tried to discern whether contamination was present. Sometimes this is not feasible at the read level. By plotting Contig GC content vs Contig Read Coverage we can look for clusters of contigs that share similar coverage. The appearance of multiple clusters can indicate multiple organisms. Occasionally, contigs can also be taxonomically classified, providing further evidence for contaminants.\n",
    "\n",
    "Run Blobtools on each assembly. Blobtools requires both a BAM file as input and blast output for the classification step.2."
   ]
  },
  {
   "cell_type": "code",
   "execution_count": null,
   "id": "29ddf6a4",
   "metadata": {},
   "outputs": [],
   "source": []
  },
  {
   "cell_type": "code",
   "execution_count": 18,
   "id": "85d1b40a",
   "metadata": {},
   "outputs": [],
   "source": [
    "cd ..\n",
    "mkdir Blobtools\n",
    "cd Blobtools\n",
    "ln -s ../*.fasta .\n",
    "ln -s ../BWA/*.bam .\n",
    "ln -s ../Blast/*.tsv .\n",
    "apply_Blobtools () {\n",
    "    ASSEMBLY=\"$1\" # The assembly is the first parameter to this function. The file must end in .fasta\n",
    "    BAM=\"$2\" # The BAM file is the second parameter to this function\n",
    "    BLAST=\"$3\" # The BLAST file is the third parameter to this function\n",
    "    BLOB_DB=/opt/blobtools/data/nodesDB.txt\n",
    "    blobtools create -i \"$ASSEMBLY\" -b \"$BAM\" -t \"$BLAST\" -o \"${ASSEMBLY/.fasta/_blobtools}\" --db \"$BLOB_DB\"\n",
    "    blobtools blobplot -i \"${ASSEMBLY/.fasta/_blobtools}.blobDB.json\" -o \"${ASSEMBLY/.fasta/_blobtools}\"\n",
    "}"
   ]
  },
  {
   "cell_type": "code",
   "execution_count": null,
   "id": "8717098c",
   "metadata": {},
   "outputs": [],
   "source": [
    "for FASTA in *.fasta; do\n",
    "    apply_Blobtools \"$FASTA\" \"${FASTA/.fasta/_bwa_alignment.bam}\" \"${FASTA/.fasta/_blast_alignment.tsv}\"\n",
    "done"
   ]
  },
  {
   "cell_type": "markdown",
   "id": "b11eacd4",
   "metadata": {},
   "source": [
    "* Is there contamination in the assembly?\n",
    "\n",
    "* Do any assemblies show strange clustering?\n",
    "\n",
    "* Why might coverage vary across contigs within an assembly?"
   ]
  },
  {
   "cell_type": "markdown",
   "id": "b1a83cb0",
   "metadata": {},
   "source": [
    "The Blobplots all indicate a single cluster. Some contigs show fairly high coverage in comparison to the rest of the genome which could be repetitive elements in the genome."
   ]
  },
  {
   "cell_type": "markdown",
   "id": "9748efc4",
   "metadata": {},
   "source": [
    "## 4. Kraken Taxonomic Classification\n",
    "\n",
    "Occasionally classification might not be informative at the read level. By applying Kraken to the longer contigs, we can get a better idea of what is in the assembly as long as the classification database contains that information.\n",
    "\n",
    "Run Kraken on each assembly."
   ]
  },
  {
   "cell_type": "code",
   "execution_count": null,
   "id": "3eac0a67",
   "metadata": {},
   "outputs": [],
   "source": [
    "mkdir Kraken\n",
    "cd Kraken\n",
    "ln -s ../*.fasta .\n",
    "apply_Kraken () {\n",
    "    ASSEMBLY=\"$1\" # The assembly is the first parameter to this function. This file must end in .fasta\n",
    "    KRAKEN_DB=/home/data/byod/minikraken_20141208 # The location of the kraken database\n",
    "    echo \"Running Kraken: $ASSEMBLY\"\n",
    "    kraken --threads \"${CPUS:-4}\" --db \"$KRAKEN_DB\" --fasta-input \"$ASSEMBLY\" > \"${ASSEMBLY/.fasta/.kraken.tsv}\"\n",
    "    kraken-report --db \"$KRAKEN_DB\" \"${ASSEMBLY/.fasta/.kraken.tsv}\" > \"${ASSEMBLY/.fasta/.kraken.rpt}\"\n",
    "    ktImportTaxonomy <( cut -f2,3 \"${ASSEMBLY/.fasta/.kraken.tsv}\" ) -o \"${ASSEMBLY/.fasta/.krona.html}\"\n",
    "}"
   ]
  },
  {
   "cell_type": "code",
   "execution_count": null,
   "id": "82fab7e3",
   "metadata": {},
   "outputs": [],
   "source": [
    "for FASTA in *.fasta; do\n",
    "    apply_Kraken \"$FASTA\"\n",
    "done"
   ]
  },
  {
   "cell_type": "markdown",
   "id": "58e26b13",
   "metadata": {},
   "source": [
    "* What are you identified?"
   ]
  },
  {
   "cell_type": "markdown",
   "id": "5e8f88b3",
   "metadata": {},
   "source": [
    "Here we see Kraken classifying around half the contigs, in contrast to the reads where it struggled to find a match. There are a high number of identified species, which is in contrast to all other analysis that indicate a single organism. This indicates that the sample is more likley closely related to the identified organisms, also supported by the point that many contigs are unclassified as well. The real organism is not present in the database used with Kraken."
   ]
  },
  {
   "cell_type": "markdown",
   "id": "cd39a9b5",
   "metadata": {},
   "source": [
    "## 5. Visual inspection of an assembly with Bandage"
   ]
  },
  {
   "cell_type": "markdown",
   "id": "f7cce7b3",
   "metadata": {},
   "source": [
    "Bandage is a tool for visualizing assembly graphs with connections.\n",
    "\n",
    "We can zoom in specific areas\n",
    "of the graph and interact with it by moving nodes, adding labels, changing colors and extracting sequences (GNU)."
   ]
  },
  {
   "cell_type": "code",
   "execution_count": 2,
   "id": "36db328e",
   "metadata": {},
   "outputs": [
    {
     "name": "stdout",
     "output_type": "stream",
     "text": [
      "QStandardPaths: XDG_RUNTIME_DIR not set, defaulting to '/tmp/runtime-jovyan'\n",
      "\n",
      "  ____                  _                  \n",
      " |  _ \\                | |                 \n",
      " | |_) | __ _ _ __   __| | __ _  __ _  ___ \n",
      " |  _ < / _` | '_ \\ / _` |/ _` |/ _` |/ _ \\\n",
      " | |_) | (_| | | | | (_| | (_| | (_| |  __/\n",
      " |____/ \\__,_|_| |_|\\__,_|\\__,_|\\__, |\\___|\n",
      "                                 __/ |     \n",
      "                                |___/      \n",
      "Version: 0.8.1\n",
      "\n",
      "Usage:    Bandage <command> [options]\n",
      "          \n",
      "Commands: <blank>      Launch the Bandage GUI\n",
      "          load         Launch the Bandage GUI and load a graph file\n",
      "          info         Display information about a graph\n",
      "          image        Generate an image file of a graph\n",
      "          querypaths   Output graph paths for BLAST queries\n",
      "          reduce       Save a subgraph of a larger graph\n",
      "          \n",
      "Options:  --help       View this help message\n",
      "          --helpall    View all command line settings\n",
      "          --version    View Bandage version number\n",
      "          \n",
      "Online Bandage help: https://github.com/rrwick/Bandage/wiki\n",
      "          \n"
     ]
    }
   ],
   "source": [
    "Bandage -h"
   ]
  },
  {
   "cell_type": "code",
   "execution_count": 12,
   "id": "ee98cd65",
   "metadata": {},
   "outputs": [],
   "source": [
    "cd /home/${USER}/SG-ONT-2021/"
   ]
  },
  {
   "cell_type": "code",
   "execution_count": 13,
   "id": "a5def051",
   "metadata": {},
   "outputs": [
    {
     "name": "stdout",
     "output_type": "stream",
     "text": [
      "QStandardPaths: XDG_RUNTIME_DIR not set, defaulting to '/tmp/runtime-jovyan'\n",
      "Node count:                       3\n",
      "Edge count:                       0\n",
      "Smallest edge overlap (bp):       0\n",
      "Largest edge overlap (bp):        0\n",
      "Total length (bp):                1203789\n",
      "Total length no overlaps (bp):    1203789\n",
      "Dead ends:                        6\n",
      "Percentage dead ends:             100%\n",
      "Connected components:             3\n",
      "Largest component (bp):           1105336\n",
      "Total length orphaned nodes (bp): 1105336\n",
      "N50 (bp):                         1105336\n",
      "Shortest node (bp):               49172\n",
      "Lower quartile node (bp):         49227\n",
      "Median node (bp):                 49281\n",
      "Upper quartile node (bp):         577309\n",
      "Longest node (bp):                1105336\n",
      "Median depth:                     0.000181845\n",
      "Estimated sequence length (bp):   1203789\n"
     ]
    }
   ],
   "source": [
    "Bandage info RAVEN_Clone10/Clone10_raven.gfa\n"
   ]
  },
  {
   "cell_type": "markdown",
   "id": "0a522908",
   "metadata": {},
   "source": [
    "* What is the median depth of the assembly (similar to average coverage)?\n",
    "Note down this number, as it describes that a node with a similar depth as this represents a sequence that occurs once in your entire genome."
   ]
  },
  {
   "cell_type": "code",
   "execution_count": 14,
   "id": "9f8e278b",
   "metadata": {
    "scrolled": true
   },
   "outputs": [
    {
     "name": "stdout",
     "output_type": "stream",
     "text": [
      "QStandardPaths: XDG_RUNTIME_DIR not set, defaulting to '/tmp/runtime-jovyan'\n"
     ]
    }
   ],
   "source": [
    "Bandage image RAVEN_Clone10/Clone10_raven.gfa RAVEN_Clone10/Clone10_raven.png"
   ]
  },
  {
   "cell_type": "markdown",
   "id": "d25e9bf8",
   "metadata": {},
   "source": [
    "* What are we seeing on GFA files? \n",
    "\n",
    "FASTA force the assemblies to be broken into linear sections, and loose information about ambiguities. \n",
    "\n",
    "FASTG preserves linearity and keeps local complexity.\n",
    "\n",
    "Observe GFA may look chaotic at first sight, but it is representing the actual complexity of the assembly."
   ]
  },
  {
   "cell_type": "markdown",
   "id": "4aa79df6",
   "metadata": {},
   "source": [
    "## 6. Comparative Alignment\n",
    "\n",
    "Comparative alignment is a useful tool to see how assemblies compare to each other. This can be useful to compare assemblies to a reference, or to see if assemblies have large structural differences.\n",
    "\n"
   ]
  },
  {
   "cell_type": "markdown",
   "id": "ea0a9801",
   "metadata": {},
   "source": [
    "Verify assembled genome by dgenies : http://dgenies.toulouse.inra.fr/"
   ]
  },
  {
   "cell_type": "markdown",
   "id": "fc21a9ef",
   "metadata": {},
   "source": [
    "## 3. Mapping of the sequence reads against the reference\n"
   ]
  },
  {
   "cell_type": "markdown",
   "id": "c90d3b9f",
   "metadata": {},
   "source": [
    "Since you have a reference genome available, an alternative option to de novo assembly is to assemble using a reference genome - by mapping of the sequence reads"
   ]
  },
  {
   "cell_type": "code",
   "execution_count": null,
   "id": "67627de2",
   "metadata": {},
   "outputs": [],
   "source": [
    "# Build a new index of the reference\n",
    "\n",
    "\n",
    "\n",
    "# Align the reads from the sample (and produce sorted fastq output of mapped reads and unmapped reads)\n",
    "\n",
    "# Convert the SAM file to BAM in preparation for sorting\n",
    "\n",
    "# Sort the BAM file, in preparation for SNP calling\n",
    "\n",
    "# Index a bam file\n",
    "\n",
    "# Build a new index of the reference with samtools faidx\n",
    "\n",
    "# Call variants from the sorted BAM\n"
   ]
  }
 ],
 "metadata": {
  "kernelspec": {
   "display_name": "Bash",
   "language": "bash",
   "name": "bash"
  },
  "language_info": {
   "codemirror_mode": "shell",
   "file_extension": ".sh",
   "mimetype": "text/x-sh",
   "name": "bash"
  }
 },
 "nbformat": 4,
 "nbformat_minor": 5
}
