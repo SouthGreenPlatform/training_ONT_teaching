{
 "cells": [
  {
   "cell_type": "markdown",
   "id": "2f09a11c",
   "metadata": {},
   "source": [
    "# Formation South Green 2021  \n",
    "\n",
    "##  Initiation à l’analyse de données Minion\n",
    "\n",
    "### PART 3\n",
    "\n",
    "Created by J. Orjuela (DIADE-IRD), F. Sabot (DIADE-IRD) and G. Sarah (AGAP-INRAE)\n",
    "\n",
    "Septembre 2021"
   ]
  },
  {
   "cell_type": "markdown",
   "id": "3d07c5cc",
   "metadata": {
    "tags": []
   },
   "source": [
    "# 1. Perform a comparison of assemblies using QUAST"
   ]
  },
  {
   "cell_type": "markdown",
   "id": "93831a0f",
   "metadata": {},
   "source": [
    "The metrics of assemblies can be evaluated using a quality assessment tool such as [QUAST](http://quast.bioinf.spbau.ru/manual.html).\n",
    "\n",
    "In part 2, we have assembled raw data using various assemblers and also polished and corrected it. \n",
    "\n",
    "Aggregate all assemblies you have produced for your favorite clone in a new folder named \"AGGREGATED\".\n",
    "\n",
    "We're going to compare it with QUAST."
   ]
  },
  {
   "cell_type": "code",
   "execution_count": null,
   "id": "7c1d8478-a12c-46f9-bf0b-f5af405e21ee",
   "metadata": {},
   "outputs": [],
   "source": [
    "# active quast env\n",
    "conda activate quast"
   ]
  },
  {
   "cell_type": "code",
   "execution_count": null,
   "id": "04d7cfe2",
   "metadata": {},
   "outputs": [],
   "source": [
    "CLONE=Clone20\n",
    "cd ~/SG-ONT-2021/RESULTS\n",
    "mkdir -p ~/SG-ONT-2021/RESULTS/AGGREGATED\n",
    "cd ~/SG-ONT-2021/RESULTS/AGGREGATED\n",
    "ln -s ~/SG-ONT-2021/RESULTS/FLYE/assembly.fasta ${CLONE}_FLYE.fasta\n",
    "ln -s ~/SG-ONT-2021/RESULTS/FLYE_RACON/assembly.racon2.fasta ${CLONE}_FLYE_RACONx2.fasta\n",
    "ln -s ~/SG-ONT-2021/RESULTS/FLYE_RACON_MEDAKA/MEDAKA_CONSENSUS/consensus.fasta ${CLONE}_FLYE_RACONx2_MEDAKA.fasta\n",
    "ls -l ~/SG-ONT-2021/RESULTS/AGGREGATED"
   ]
  },
  {
   "cell_type": "markdown",
   "id": "06f4ab95-999b-4de2-b628-43427ccf4452",
   "metadata": {},
   "source": [
    "#### Do similar symbolic links to RAVEN results and check your folder"
   ]
  },
  {
   "cell_type": "markdown",
   "id": "a0ff6d3b",
   "metadata": {},
   "source": [
    "## 1.1  Run QUAST on CLONE assemblies and compare them"
   ]
  },
  {
   "cell_type": "code",
   "execution_count": null,
   "id": "36fcf4f3",
   "metadata": {
    "tags": []
   },
   "outputs": [],
   "source": [
    "cd ~/SG-ONT-2021/RESULTS/AGGREGATED/\n",
    "quast.py *.fasta -o QUAST"
   ]
  },
  {
   "cell_type": "markdown",
   "id": "7bacaea0",
   "metadata": {},
   "source": [
    "#### Go to the QUAST directory and check the file content.\n",
    "\n",
    "#### Looking at the output statistics, what are the main differences between the assemblies?\n",
    "\n",
    "#### Look total sizes, number of contigs, N50 statistics.\n",
    "\n",
    "#### For your favorite clone what is the best one ?"
   ]
  },
  {
   "cell_type": "markdown",
   "id": "17cd9fc8",
   "metadata": {},
   "source": [
    "## 1.2  Comparison of the assemblies against the reference genome of closely organism (REAL DATA !)"
   ]
  },
  {
   "cell_type": "markdown",
   "id": "3eb7ccc0",
   "metadata": {},
   "source": [
    "It's possible to compare assemblies against the reference genome of closely related organism. \n",
    "\n",
    "In our case we will use the real dataset Hh. \n",
    "\n",
    "Previously calculated assemblies for Hh can be found in DATA/real_Hh/Hh-ASSEMBLIES (used CulebrONT)"
   ]
  },
  {
   "cell_type": "code",
   "execution_count": null,
   "id": "e0bed810-54cb-470d-8258-e9b73b129003",
   "metadata": {
    "tags": []
   },
   "outputs": [],
   "source": [
    "ls -lh ~/SG-ONT-2021/DATA/real_Hh/Hh-ASSEMBLIES"
   ]
  },
  {
   "cell_type": "markdown",
   "id": "0a2e093c-5265-402a-aa11-f8a6265820fe",
   "metadata": {},
   "source": [
    "### Compare Hh assemblies against the reference sequence using QUAST\n",
    "\n",
    "#### WARNING : This can take a while!! "
   ]
  },
  {
   "cell_type": "code",
   "execution_count": null,
   "id": "eb7636a7",
   "metadata": {
    "tags": []
   },
   "outputs": [],
   "source": [
    "mkdir ~/SG-ONT-2021/RESULTS/AGGREGATED_Hh/\n",
    "cd ~/SG-ONT-2021/RESULTS/AGGREGATED_Hh/\n",
    "time quast.py /home/jovyan/SG-ONT-2021/DATA/real_Hh/Hh-ASSEMBLIES/*MEDAKA_STARTFIXED-CIRCULARISED.fasta -R /home/jovyan/SG-ONT-2021/DATA/real_Hh/REFH_M1C132.fasta -o QUAST_REF"
   ]
  },
  {
   "cell_type": "markdown",
   "id": "82746530",
   "metadata": {
    "tags": []
   },
   "source": [
    "#### Which of the assemblies are closest in size relative to the reference ?\n",
    "\n",
    "#### Does this have the largest N50 and fewest number of contigs?"
   ]
  },
  {
   "cell_type": "markdown",
   "id": "94ea6817",
   "metadata": {
    "tags": []
   },
   "source": [
    "#### What assembly does obtain the best contiguity metrics?\n"
   ]
  },
  {
   "cell_type": "markdown",
   "id": "39bebfd5-9fc9-449c-8cec-3742bb7e7b78",
   "metadata": {
    "tags": []
   },
   "source": [
    "# 2. Assessing gene space using BUSCO (REAL DATA)"
   ]
  },
  {
   "cell_type": "markdown",
   "id": "642c8821-2c75-4c6b-80fa-fd82d14daf7d",
   "metadata": {},
   "source": [
    "Benchmarking Universal Single-Copy Orthologs ([BUSCO](https://busco.ezlab.org/busco_userguide.html)) helps to check if you have a good assembly, by searching the expected single-copy lineage-conserved orthologs in any newly-sequenced genome from an appropriate phylogenetic clade."
   ]
  },
  {
   "cell_type": "markdown",
   "id": "f65f1f0c-e26b-45f4-8744-faa281f4fd88",
   "metadata": {},
   "source": [
    "Calculate the gene space for each assembly"
   ]
  },
  {
   "cell_type": "code",
   "execution_count": null,
   "id": "86411a20-47fe-49a8-9365-b9a7e6556946",
   "metadata": {
    "tags": []
   },
   "outputs": [],
   "source": [
    "mkdir -p ~/SG-ONT-2021/RESULTS/AGGREGATED_Hh/BUSCO\n",
    "cd ~/SG-ONT-2021/RESULTS/AGGREGATED_Hh/BUSCO"
   ]
  },
  {
   "cell_type": "markdown",
   "id": "3a92a1a3-95d5-4787-9564-a9b23eee0c0d",
   "metadata": {},
   "source": [
    "Lineage can be choose in busco database using --list-datasets parameter"
   ]
  },
  {
   "cell_type": "code",
   "execution_count": null,
   "id": "2f1a7b9b-359a-4681-91f3-7822442d09b3",
   "metadata": {
    "tags": []
   },
   "outputs": [],
   "source": [
    "# busco env\n",
    "conda activate busco\n",
    "busco --list-datasets"
   ]
  },
  {
   "cell_type": "code",
   "execution_count": null,
   "id": "235937d9-ddea-4414-8ff5-3600be099879",
   "metadata": {
    "tags": []
   },
   "outputs": [],
   "source": [
    "ASSEMBLY=\"~/SG-ONT-2021/DATA/real_Hh/Hh-ASSEMBLIES/FLYE-STEP_CORRECTION_MEDAKA_STARTFIXED-CIRCULARISED.fasta\"\n",
    "LINEAGE=bacteria_odb10\n",
    "busco -i \"$ASSEMBLY\" -l \"$LINEAGE\" -c \"${CPUS:-4}\" -m genome -o BUSCO_RESULTS "
   ]
  },
  {
   "cell_type": "code",
   "execution_count": null,
   "id": "bfd74d73-3109-4076-8c99-0b5cd0f557e4",
   "metadata": {},
   "outputs": [],
   "source": [
    "conda deactivate"
   ]
  },
  {
   "cell_type": "markdown",
   "id": "d54c21a5-046c-43e8-b537-b71788090ee3",
   "metadata": {
    "tags": []
   },
   "source": [
    "### What does the gene space look like for this assembly?\n",
    "\n",
    "#### Run BUSCO in all assemblies generated if you want... "
   ]
  },
  {
   "cell_type": "markdown",
   "id": "0040a2cd",
   "metadata": {},
   "source": [
    "# 3. Read alignment statistics - remapping (CLONE)"
   ]
  },
  {
   "cell_type": "markdown",
   "id": "18838eed",
   "metadata": {},
   "source": [
    "Read congruency is an important measure in determining assembly accuracy. Clusters of read pairs that align incorrectly are strong indicators of mis-assembly.\n",
    "\n",
    "How well do the reads align back to the draft assemblies? Use minimap2 and samtools to assess the basic alignment statistics.\n",
    "\n",
    "Make a folder for your results.\n",
    "\n",
    "We will use CloneX_FLYE_RACONx2_MEDAKA.fasta assembly and ONT READS as well ILLUMINA READS."
   ]
  },
  {
   "cell_type": "code",
   "execution_count": null,
   "id": "bb27a4e3",
   "metadata": {},
   "outputs": [],
   "source": [
    "mkdir -p ~/SG-ONT-2021/RESULTS/REMAPPING\n",
    "cd ~/SG-ONT-2021/RESULTS/REMAPPING/"
   ]
  },
  {
   "cell_type": "code",
   "execution_count": null,
   "id": "f69c52e2-08fa-4cc0-a41c-3c17a6f83dd0",
   "metadata": {},
   "outputs": [],
   "source": [
    "CLONE=\"Clone10\"\n",
    "ASSEMBLY=\"/home/jovyan/SG-ONT-2021/RESULTS/FLYE_RACON_MEDAKA/MEDAKA_CONSENSUS/consensus.fasta\"\n",
    "ONT=\"/home/jovyan/SG-ONT-2021/DATA/${CLONE}/ONT/${CLONE}.fastq.gz\"\n",
    "ILLUMINA_R1=\"/home/jovyan/SG-ONT-2021/DATA/${CLONE}/ILL/${CLONE}_R1.fastq.gz\"\n",
    "ILLUMINA_R2=\"/home/jovyan/SG-ONT-2021/DATA/${CLONE}/ILL/${CLONE}_R2.fastq.gz\""
   ]
  },
  {
   "cell_type": "code",
   "execution_count": null,
   "id": "2e876e9a-6f17-416f-9d91-5d2b720ddbcc",
   "metadata": {},
   "outputs": [],
   "source": [
    "#symbolic link from last assembly in the current repertory ReMAPPING\n",
    "ln -s ${ASSEMBLY} ${CLONE}_FLYE_RACONx2_MEDAKA.fasta\n",
    "# overwrite ASSEMBLY variable\n",
    "ASSEMBLY=${CLONE}_FLYE_RACONx2_MEDAKA.fasta"
   ]
  },
  {
   "cell_type": "markdown",
   "id": "d28cf813-ba11-4024-a8fb-253f98f83341",
   "metadata": {},
   "source": [
    "## Mapping assemblies vs ONT reads"
   ]
  },
  {
   "cell_type": "code",
   "execution_count": null,
   "id": "d22b81ef-7840-4805-b5e7-bf6e8c990d47",
   "metadata": {},
   "outputs": [],
   "source": [
    "minimap2 -ax map-ont -t 4 ${ASSEMBLY} ${ONT} | samtools sort -@ 1 -T \"${ASSEMBLY/.fasta/}\" -O BAM -o \"${ASSEMBLY/.fasta/_ONT_minimap2.bam}\" -\n",
    "samtools index \"${ASSEMBLY/.fasta/_ONT_minimap2.bam}\"\n",
    "samtools view -F 0x904 -c \"${ASSEMBLY/.fasta/_ONT_minimap2.bam}\""
   ]
  },
  {
   "cell_type": "markdown",
   "id": "38a8be97-41ee-4b60-b977-493650fee193",
   "metadata": {},
   "source": [
    "## Mapping assemblies vs ILLUMINA reads"
   ]
  },
  {
   "cell_type": "code",
   "execution_count": null,
   "id": "46631d22-896f-4cf9-8cb7-c2c03366ffe0",
   "metadata": {},
   "outputs": [],
   "source": [
    "#minimap2 -ax sr ref.fa read1.fq read2.fq > aln.sam\n",
    "minimap2 -ax sr -t 4 ${ASSEMBLY} ${ILLUMINA_R1} ${ILLUMINA_R2} | samtools sort -@ 1 -T \"${ASSEMBLY/.fasta/}\" -O BAM -o \"${ASSEMBLY/.fasta/_ILL_minimap2.bam}\" -\n",
    "samtools index \"${ASSEMBLY/.fasta/_ILL_minimap2.bam}\"\n",
    "samtools view -F 0x904 -c \"${ASSEMBLY/.fasta/_ILL_minimap2.bam}\""
   ]
  },
  {
   "cell_type": "markdown",
   "id": "7bd436e3-6d1e-4912-a275-5b5da34e61e1",
   "metadata": {},
   "source": [
    "### What is the percentage of aligned ONT and ILLUMINa reads in your clone assembly?"
   ]
  },
  {
   "cell_type": "markdown",
   "id": "edbb579f",
   "metadata": {},
   "source": [
    "# 4. Blobtools\n",
    "\n",
    "During the sequence quality assessment stage we tried to discern whether contamination was present. Sometimes this is not feasible at the read level. By plotting Contig GC content vs Contig Read Coverage we can look for clusters of contigs that share similar coverage. The appearance of multiple clusters can indicate multiple organisms. Occasionally, contigs can also be taxonomically classified, providing further evidence for contaminants.\n",
    "\n",
    "First we need to download some files"
   ]
  },
  {
   "cell_type": "code",
   "execution_count": null,
   "id": "762022cc-f5bb-40a4-98dd-5f33556f77c1",
   "metadata": {},
   "outputs": [],
   "source": [
    "cd ~/SG-ONT-2021/DATA\n",
    "wget --no-check-certificat -rm -nH --cut-dirs=1 --reject=\"index.html*\" https://itrop.ird.fr/ont-training/blobtools.tar.gz\n",
    "tar zxvf blobtools.tar.gz\n",
    "wget --no-check-certificat -rm -nH --cut-dirs=1 --reject=\"index.html*\" https://itrop.ird.fr/ont-training/testBacteria.dmnd"
   ]
  },
  {
   "cell_type": "markdown",
   "id": "19a086d6-97ab-4c54-8548-f3ef2d23c45b",
   "metadata": {},
   "source": [
    "Run Blobtools on each assembly. Blobtools requires both a BAM file as input and blast output for the classification step.2."
   ]
  },
  {
   "cell_type": "code",
   "execution_count": null,
   "id": "29ddf6a4",
   "metadata": {},
   "outputs": [],
   "source": [
    "mkdir -p ~/SG-ONT-2021/RESULTS/BLOBTOOLS\n",
    "cd ~/SG-ONT-2021/RESULTS/BLOBTOOLS"
   ]
  },
  {
   "cell_type": "markdown",
   "id": "f2f0853e-5e75-48da-919b-fb0f40952087",
   "metadata": {},
   "source": [
    "### Blastx using diamond "
   ]
  },
  {
   "cell_type": "markdown",
   "id": "37fb5794-c58f-4146-97e0-cd3254ea260a",
   "metadata": {},
   "source": [
    "Run diamond in blastx mode using assembled contigs vs a pre-formatted diamond bacteria database (protein)"
   ]
  },
  {
   "cell_type": "code",
   "execution_count": null,
   "id": "c74d8d08-f4fa-4d23-9dd4-1d897a013acb",
   "metadata": {},
   "outputs": [],
   "source": [
    "#prepare assembly file\n",
    "ASSEMBLY=\"/home/jovyan/SG-ONT-2021/RESULTS/FLYE_RACON_MEDAKA/MEDAKA_CONSENSUS/consensus.fasta\"\n",
    "#symbolic link from last assembly in the current repertory BLOBTOOLs\n",
    "ln -s ${ASSEMBLY} ${CLONE}_FLYE_RACONx2_MEDAKA.fasta\n",
    "# overwrite ASSEMBLY variable\n",
    "ASSEMBLY=${CLONE}_FLYE_RACONx2_MEDAKA.fasta"
   ]
  },
  {
   "cell_type": "code",
   "execution_count": null,
   "id": "1a0ff04d-c4e1-4645-a3d9-0c37f9103981",
   "metadata": {
    "tags": []
   },
   "outputs": [],
   "source": [
    "conda activate diamond\n",
    "time diamond blastx --query ${ASSEMBLY}  --db ~/SG-ONT-2021/DATA/testBacteria.dmnd  --outfmt 6 qseqid staxids bitscore qseqid sseqid pident length mismatch gapopen qstart qend sstart send evalue bitscore --sensitive  --max-target-seqs 1  --evalue 1e-25  --threads 4  --out diamond.csv\n",
    "conda deactivate"
   ]
  },
  {
   "cell_type": "code",
   "execution_count": null,
   "id": "e7732d07-27de-4988-80fd-372b25ce7efe",
   "metadata": {},
   "outputs": [],
   "source": [
    "head diamond.csv"
   ]
  },
  {
   "cell_type": "markdown",
   "id": "8679816f-a9be-4b6d-b2d9-1d80cce34601",
   "metadata": {},
   "source": [
    "### Run blobtools "
   ]
  },
  {
   "cell_type": "markdown",
   "id": "d816e730-a8d8-4eb9-afef-45eaaaa2e710",
   "metadata": {},
   "source": [
    "Specifically to Blobtools: * nodes and names from ncbi taxdump database can be download from [here](https://github.com/DRL/blobtools#download-ncbi-taxdump-and-create-nodesdb).\n",
    "\n",
    "In this training nodes and names are available on the DATA directory"
   ]
  },
  {
   "cell_type": "code",
   "execution_count": null,
   "id": "85d1b40a",
   "metadata": {},
   "outputs": [],
   "source": [
    "BAM=~/SG-ONT-2021/RESULTS/REMAPPING/${ASSEMBLY/.fasta/_ONT_minimap2.bam}\n",
    "DIAMONDX=~/SG-ONT-2021/RESULTS/BLOBTOOLS/diamond.csv\n",
    "BLOB_NODES=~/SG-ONT-2021/DATA/blobtools/nodes.dmp\n",
    "BLOB_NAMES=~/SG-ONT-2021/DATA/blobtools/names.dmp"
   ]
  },
  {
   "cell_type": "code",
   "execution_count": null,
   "id": "65eecaf2-eaa8-4bb8-a141-f2c348df2017",
   "metadata": {},
   "outputs": [],
   "source": [
    "conda activate blobtools\n",
    "blobtools create -i ${ASSEMBLY} -b ${BAM} -t ${DIAMONDX} -o quality --names ${BLOB_NAMES} --nodes ${BLOB_NODES} --db nodesDB.txt"
   ]
  },
  {
   "cell_type": "code",
   "execution_count": null,
   "id": "b87ca3fd-830d-4729-b14c-431725c12bd2",
   "metadata": {
    "tags": []
   },
   "outputs": [],
   "source": [
    "blobtools view -i quality.blobDB.json --cov -o output;\n",
    "blobtools plot -i quality.blobDB.json;"
   ]
  },
  {
   "cell_type": "code",
   "execution_count": null,
   "id": "6ad6d0a2-8540-4765-9635-7deaa51c468e",
   "metadata": {},
   "outputs": [],
   "source": [
    "conda deactivate"
   ]
  },
  {
   "cell_type": "markdown",
   "id": "b11eacd4",
   "metadata": {},
   "source": [
    "#### Is there contamination in the assembly?\n",
    "\n",
    "#### Do any assemblies show strange clustering?\n",
    "\n",
    "#### Why might coverage vary across contigs within an assembly?"
   ]
  },
  {
   "cell_type": "markdown",
   "id": "b1a83cb0",
   "metadata": {},
   "source": [
    "The Blobplots all indicate a single cluster. Some contigs show fairly high coverage in comparison to the rest of the genome which could be repetitive elements in the genome."
   ]
  },
  {
   "cell_type": "markdown",
   "id": "4aa79df6",
   "metadata": {},
   "source": [
    "# 5. Comparative Alignment\n",
    "\n",
    "Comparative alignment is a useful tool to see how assemblies compare to each other. This can be useful to compare assemblies to a reference, or to see if assemblies have large structural differences.\n",
    "\n"
   ]
  },
  {
   "cell_type": "markdown",
   "id": "ea0a9801",
   "metadata": {},
   "source": [
    "Check assembled genome with dgenies : http://dgenies.toulouse.inra.fr/"
   ]
  },
  {
   "cell_type": "markdown",
   "id": "c90d3b9f",
   "metadata": {},
   "source": [
    "Since you have a reference genome available, an alternative option to de novo assembly is to assemble using a reference genome - by mapping of the sequence reads\n",
    "\n",
    "Prepare data to download into dgenies : \n",
    "\n",
    " * Reference.fasta ` ~/SG-ONT-2021/DATA/CloneX/reference.fasta `\n",
    " \n",
    " * ONT assembly in CloneX (Flye+Raconx2+Medaka) ` ~/SG-ONT-2021/RESULTS/FLYE_RACON_MEDAKA/MEDAKA_CONSENSUS/consensus.fasta\" ` \n",
    " \n",
    " * ABYSS assembly generated with illumina reads  ` ~/SG-ONT-2021/DATA/DGENIES/Clone20-abyss.fasta ` \n",
    " "
   ]
  },
  {
   "cell_type": "markdown",
   "id": "68095a3b-0b91-4026-8fa2-69320f30e55d",
   "metadata": {},
   "source": [
    "#### What is the mean difference between illumina and ONT assembly for Clone20?"
   ]
  },
  {
   "cell_type": "code",
   "execution_count": null,
   "id": "f5507779-8a07-4697-910f-3da083a6d0e6",
   "metadata": {},
   "outputs": [],
   "source": []
  }
 ],
 "metadata": {
  "kernelspec": {
   "display_name": "Bash",
   "language": "bash",
   "name": "bash"
  },
  "language_info": {
   "codemirror_mode": "shell",
   "file_extension": ".sh",
   "mimetype": "text/x-sh",
   "name": "bash"
  }
 },
 "nbformat": 4,
 "nbformat_minor": 5
}
