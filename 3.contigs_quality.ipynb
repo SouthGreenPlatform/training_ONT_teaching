{
 "cells": [
  {
   "cell_type": "markdown",
   "id": "67552fbb",
   "metadata": {},
   "source": [
    "\n",
    "# <span style=\"color:#006E7F\">__Introduction to Oxford Nanopore Data Analysis__ <a class=\"anchor\"></span>  \n",
    "\n",
    "\n",
    "Created by J. Orjuela (DIADE-IRD), F. Sabot (DIADE-IRD) and G. Sarah (AGAP-INRAE) - Septembre 2021 Formation SouthGreen\n",
    "\n",
    "Adapted by J. Orjuela (DIADE-IRD), F. Sabot (DIADE-IRD) - Novembre 2022\n"
   ]
  },
  {
   "cell_type": "markdown",
   "id": "689c1b2d",
   "metadata": {
    "tags": []
   },
   "source": [
    "# <span style=\"color:#006E7F\">__TP3 - CONTIGS QUALITY__ <a class=\"anchor\" id=\"data\"></span>  \n",
    "    \n",
    "## <span style=\"color: #4CACBC;\"> 1. Perform a comparison of assemblies using QUAST</span>  \n"
   ]
  },
  {
   "cell_type": "markdown",
   "id": "a778bfc9",
   "metadata": {},
   "source": [
    "The metrics of assemblies can be evaluated using a quality assessment tool such as [QUAST](http://quast.bioinf.spbau.ru/manual.html).\n",
    "\n",
    "In part 2, we have assembled raw data using various assemblers and also polished and corrected it. \n",
    "\n",
    "Aggregate all assemblies you have produced for your favorite clone in a new folder named \"AGGREGATED\".\n",
    "\n",
    "We're going to compare it with QUAST."
   ]
  },
  {
   "cell_type": "code",
   "execution_count": 1,
   "id": "bfa9b4cd",
   "metadata": {},
   "outputs": [
    {
     "name": "stdout",
     "output_type": "stream",
     "text": [
      "ln: failed to create symbolic link 'Clone20_FLYE.fasta': File exists\n",
      "ln: failed to create symbolic link 'Clone20_FLYE_RACONx2.fasta': File exists\n",
      "ln: failed to create symbolic link 'Clone20_FLYE_RACONx2_MEDAKA.fasta': File exists\n",
      "total 4\n",
      "lrwxrwxrwx 1 jovyan users 45 Nov  9 15:08 \u001b[0m\u001b[01;36mClone20_FLYE.fasta\u001b[0m -> /home/jovyan/work/RESULTS/FLYE/assembly.fasta\n",
      "lrwxrwxrwx 1 jovyan users 58 Nov  9 15:08 \u001b[01;36mClone20_FLYE_RACONx2.fasta\u001b[0m -> /home/jovyan/work/RESULTS/FLYE_RACON/assembly.racon2.fasta\n",
      "lrwxrwxrwx 1 jovyan users 76 Nov  9 15:08 \u001b[01;36mClone20_FLYE_RACONx2_MEDAKA.fasta\u001b[0m -> /home/jovyan/work/RESULTS/FLYE_RACON_MEDAKA/MEDAKA_CONSENSUS/consensus.fasta\n"
     ]
    }
   ],
   "source": [
    "CLONE=Clone20\n",
    "cd ~/work/RESULTS\n",
    "mkdir -p ~/work/RESULTS/AGGREGATED\n",
    "cd ~/work/RESULTS/AGGREGATED\n",
    "ln -s ~/work/RESULTS/FLYE/assembly.fasta ${CLONE}_FLYE.fasta\n",
    "ln -s ~/work/RESULTS/FLYE_RACON/assembly.racon2.fasta ${CLONE}_FLYE_RACONx2.fasta\n",
    "ln -s ~/work/RESULTS/FLYE_RACON_MEDAKA/MEDAKA_CONSENSUS/consensus.fasta ${CLONE}_FLYE_RACONx2_MEDAKA.fasta\n",
    "ls -l ~/work/RESULTS/AGGREGATED"
   ]
  },
  {
   "cell_type": "markdown",
   "id": "4aaf45ff",
   "metadata": {},
   "source": [
    "#### Do similar symbolic links to RAVEN results and check your folder"
   ]
  },
  {
   "cell_type": "code",
   "execution_count": null,
   "id": "446782b0-66b8-4b1d-813f-54d2e22afdb1",
   "metadata": {},
   "outputs": [],
   "source": []
  },
  {
   "cell_type": "markdown",
   "id": "1a5ccbc0",
   "metadata": {},
   "source": [
    "### <span style=\"color: #4CACBD;\"> 1.1  Run QUAST on CLONE assemblies and compare them </span>"
   ]
  },
  {
   "cell_type": "code",
   "execution_count": 2,
   "id": "210bf799",
   "metadata": {
    "tags": []
   },
   "outputs": [
    {
     "name": "stdout",
     "output_type": "stream",
     "text": [
      "/opt/conda/envs/quast/bin/quast.py Clone20_FLYE.fasta Clone20_FLYE_RACONx2.fasta Clone20_FLYE_RACONx2_MEDAKA.fasta -o QUAST\n",
      "\n",
      "Version: 5.2.0\n",
      "\n",
      "System information:\n",
      "  OS: Linux-4.15.0-154-generic-x86_64-with-debian-bullseye-sid (linux_64)\n",
      "  Python version: 3.7.12\n",
      "  CPUs number: 8\n",
      "\n",
      "Started: 2022-11-10 13:44:48\n",
      "\n",
      "Logging to /home/jovyan/work/RESULTS/AGGREGATED/QUAST/quast.log\n",
      "NOTICE: Maximum number of threads is set to 2 (use --threads option to set it manually)\n",
      "\n",
      "CWD: /home/jovyan/work/RESULTS/AGGREGATED\n",
      "Main parameters: \n",
      "  MODE: default, threads: 2, min contig length: 500, min alignment length: 65, min alignment IDY: 95.0, \\\n",
      "  ambiguity: one, min local misassembly length: 200, min extensive misassembly length: 1000\n",
      "\n",
      "Contigs:\n",
      "  Pre-processing...\n",
      "  1  Clone20_FLYE.fasta ==> Clone20_FLYE\n",
      "  2  Clone20_FLYE_RACONx2.fasta ==> Clone20_FLYE_RACONx2\n",
      "  3  Clone20_FLYE_RACONx2_MEDAKA.fasta ==> Clone20_FLYE_RACONx2_MEDAKA\n",
      "\n",
      "2022-11-10 13:44:49\n",
      "Running Basic statistics processor...\n",
      "  Contig files: \n",
      "    1  Clone20_FLYE\n",
      "    2  Clone20_FLYE_RACONx2\n",
      "    3  Clone20_FLYE_RACONx2_MEDAKA\n",
      "  Calculating N50 and L50...\n",
      "    1  Clone20_FLYE, N50 = 1105461, L50 = 1, auN = 996002.1, Total length = 1232696, GC % = 45.99, # N's per 100 kbp =  0.00\n",
      "    2  Clone20_FLYE_RACONx2, N50 = 1099469, L50 = 1, auN = 991183.4, Total length = 1225227, GC % = 46.09, # N's per 100 kbp =  0.00\n",
      "    3  Clone20_FLYE_RACONx2_MEDAKA, N50 = 1105220, L50 = 1, auN = 996151.2, Total length = 1231922, GC % = 46.16, # N's per 100 kbp =  0.00\n",
      "  Drawing Nx plot...\n",
      "    saved to /home/jovyan/work/RESULTS/AGGREGATED/QUAST/basic_stats/Nx_plot.pdf\n",
      "  Drawing cumulative plot...\n",
      "    saved to /home/jovyan/work/RESULTS/AGGREGATED/QUAST/basic_stats/cumulative_plot.pdf\n",
      "  Drawing GC content plot...\n",
      "    saved to /home/jovyan/work/RESULTS/AGGREGATED/QUAST/basic_stats/GC_content_plot.pdf\n",
      "  Drawing Clone20_FLYE GC content plot...\n",
      "    saved to /home/jovyan/work/RESULTS/AGGREGATED/QUAST/basic_stats/Clone20_FLYE_GC_content_plot.pdf\n",
      "  Drawing Clone20_FLYE_RACONx2 GC content plot...\n",
      "    saved to /home/jovyan/work/RESULTS/AGGREGATED/QUAST/basic_stats/Clone20_FLYE_RACONx2_GC_content_plot.pdf\n",
      "  Drawing Clone20_FLYE_RACONx2_MEDAKA GC content plot...\n",
      "    saved to /home/jovyan/work/RESULTS/AGGREGATED/QUAST/basic_stats/Clone20_FLYE_RACONx2_MEDAKA_GC_content_plot.pdf\n",
      "Done.\n",
      "\n",
      "NOTICE: Genes are not predicted by default. Use --gene-finding or --glimmer option to enable it.\n",
      "\n",
      "2022-11-10 13:44:51\n",
      "Creating large visual summaries...\n",
      "This may take a while: press Ctrl-C to skip this step..\n",
      "  1 of 2: Creating PDF with all tables and plots...\n",
      "  2 of 2: Creating Icarus viewers...\n",
      "Done\n",
      "\n",
      "2022-11-10 13:44:52\n",
      "RESULTS:\n",
      "  Text versions of total report are saved to /home/jovyan/work/RESULTS/AGGREGATED/QUAST/report.txt, report.tsv, and report.tex\n",
      "  Text versions of transposed total report are saved to /home/jovyan/work/RESULTS/AGGREGATED/QUAST/transposed_report.txt, transposed_report.tsv, and transposed_report.tex\n",
      "  HTML version (interactive tables and plots) is saved to /home/jovyan/work/RESULTS/AGGREGATED/QUAST/report.html\n",
      "  PDF version (tables and plots) is saved to /home/jovyan/work/RESULTS/AGGREGATED/QUAST/report.pdf\n",
      "  Icarus (contig browser) is saved to /home/jovyan/work/RESULTS/AGGREGATED/QUAST/icarus.html\n",
      "  Log is saved to /home/jovyan/work/RESULTS/AGGREGATED/QUAST/quast.log\n",
      "\n",
      "Finished: 2022-11-10 13:44:52\n",
      "Elapsed time: 0:00:03.542385\n",
      "NOTICEs: 2; WARNINGs: 0; non-fatal ERRORs: 0\n",
      "\n",
      "Thank you for using QUAST!\n"
     ]
    }
   ],
   "source": [
    "cd ~/work/RESULTS/AGGREGATED/\n",
    "quast.py *.fasta -o QUAST"
   ]
  },
  {
   "cell_type": "markdown",
   "id": "f251f7c9",
   "metadata": {},
   "source": [
    "#### Go to the QUAST directory and check the file content.\n",
    "\n",
    "#### Looking at the output statistics, what are the main differences between the assemblies?\n",
    "\n",
    "#### Look total sizes, number of contigs, N50 statistics.\n",
    "\n",
    "#### For your favorite clone what is the best one ?"
   ]
  },
  {
   "cell_type": "markdown",
   "id": "e54cf5cb",
   "metadata": {},
   "source": [
    "### <span style=\"color: #4CACBD;\"> 1.2  Comparison of the assemblies against the reference genome of closely organism (REAL DATA !) </span>"
   ]
  },
  {
   "cell_type": "markdown",
   "id": "7f0309a7",
   "metadata": {},
   "source": [
    "It's possible to compare assemblies against the reference genome of closely related organism. \n",
    "\n",
    "In our case we will use the real dataset Hh. \n",
    "\n",
    "Previously calculated assemblies for Hh can be found in DATA/real_Hh/Hh-ASSEMBLIES (used CulebrONT)"
   ]
  },
  {
   "cell_type": "code",
   "execution_count": 3,
   "id": "c8e2a20d",
   "metadata": {
    "tags": []
   },
   "outputs": [
    {
     "name": "stdout",
     "output_type": "stream",
     "text": [
      "total 763M\n",
      "-rw-r----- 1 jovyan users 2.6M Sep 13  2021 CANU-STEP_ASSEMBLY-CIRCULARISED.fasta\n",
      "-rw-r----- 1 jovyan users 1.1K Sep 13  2021 CANU-STEP_ASSEMBLY-CIRCULARISED.fasta.fai\n",
      "-rw-r----- 1 jovyan users 8.7M Sep 13  2021 CANU-STEP_ASSEMBLY-CIRCULARISED.fasta.mmi\n",
      "-rw-r----- 1 jovyan users 2.6M Sep 13  2021 CANU-STEP_CORRECTION_MEDAKA_STARTFIXED-CIRCULARISED.fasta\n",
      "-rw-r----- 1 jovyan users 1.1K Sep 13  2021 CANU-STEP_CORRECTION_MEDAKA_STARTFIXED-CIRCULARISED.fasta.fai\n",
      "-rw-r----- 1 jovyan users 8.7M Sep 13  2021 CANU-STEP_CORRECTION_MEDAKA_STARTFIXED-CIRCULARISED.fasta.mmi\n",
      "-rw-r----- 1 jovyan users 2.6M Sep 13  2021 CANU-STEP_POLISHING_RACON-CIRCULARISED.fasta\n",
      "-rw-r----- 1 jovyan users 1.3K Sep 13  2021 CANU-STEP_POLISHING_RACON-CIRCULARISED.fasta.fai\n",
      "-rw-r----- 1 jovyan users 8.7M Sep 13  2021 CANU-STEP_POLISHING_RACON-CIRCULARISED.fasta.mmi\n",
      "-rw-r----- 1 jovyan users 2.2M Sep 13  2021 FLYE-STEP_ASSEMBLY-CIRCULARISED.fasta\n",
      "-rw-r----- 1 jovyan users  200 Sep 13  2021 FLYE-STEP_ASSEMBLY-CIRCULARISED.fasta.fai\n",
      "-rw-r----- 1 jovyan users 7.4M Sep 13  2021 FLYE-STEP_ASSEMBLY-CIRCULARISED.fasta.mmi\n",
      "-rw-r----- 1 jovyan users 2.2M Sep 13  2021 FLYE-STEP_CORRECTION_MEDAKA_STARTFIXED-CIRCULARISED.fasta\n",
      "-rw-r----- 1 jovyan users  313 Sep 13  2021 FLYE-STEP_CORRECTION_MEDAKA_STARTFIXED-CIRCULARISED.fasta.fai\n",
      "-rw-r----- 1 jovyan users 7.4M Sep 13  2021 FLYE-STEP_CORRECTION_MEDAKA_STARTFIXED-CIRCULARISED.fasta.mmi\n",
      "-rw-r----- 1 jovyan users 2.1M Sep 13  2021 FLYE-STEP_POLISHING_RACON-CIRCULARISED.fasta\n",
      "-rw-r----- 1 jovyan users  358 Sep 13  2021 FLYE-STEP_POLISHING_RACON-CIRCULARISED.fasta.fai\n",
      "-rw-r----- 1 jovyan users 7.4M Sep 13  2021 FLYE-STEP_POLISHING_RACON-CIRCULARISED.fasta.mmi\n",
      "-rw-r----- 1 jovyan users  12M Sep 13  2021 MINIASM-STEP_ASSEMBLY-CIRCULARISED.fasta\n",
      "-rw-r----- 1 jovyan users 3.0K Sep 13  2021 MINIASM-STEP_ASSEMBLY-CIRCULARISED.fasta.fai\n",
      "-rw-r----- 1 jovyan users  41M Sep 13  2021 MINIASM-STEP_ASSEMBLY-CIRCULARISED.fasta.mmi\n",
      "-rw-r----- 1 jovyan users  12M Sep 13  2021 MINIASM-STEP_CORRECTION_MEDAKA_STARTFIXED-CIRCULARISED.fasta\n",
      "-rw-r----- 1 jovyan users 3.0K Sep 13  2021 MINIASM-STEP_CORRECTION_MEDAKA_STARTFIXED-CIRCULARISED.fasta.fai\n",
      "-rw-r----- 1 jovyan users  41M Sep 13  2021 MINIASM-STEP_CORRECTION_MEDAKA_STARTFIXED-CIRCULARISED.fasta.mmi\n",
      "-rw-r----- 1 jovyan users  12M Sep 13  2021 MINIASM-STEP_POLISHING_RACON-CIRCULARISED.fasta\n",
      "-rw-r----- 1 jovyan users 3.0K Sep 13  2021 MINIASM-STEP_POLISHING_RACON-CIRCULARISED.fasta.fai\n",
      "-rw-r----- 1 jovyan users  41M Sep 13  2021 MINIASM-STEP_POLISHING_RACON-CIRCULARISED.fasta.mmi\n",
      "-rw-r----- 1 jovyan users  11M Sep 13  2021 RAVEN-STEP_ASSEMBLY-CIRCULARISED.fasta\n",
      "-rw-r----- 1 jovyan users 2.4K Sep 13  2021 RAVEN-STEP_ASSEMBLY-CIRCULARISED.fasta.fai\n",
      "-rw-r----- 1 jovyan users  38M Sep 13  2021 RAVEN-STEP_ASSEMBLY-CIRCULARISED.fasta.mmi\n",
      "-rw-r----- 1 jovyan users  12M Sep 13  2021 RAVEN-STEP_CORRECTION_MEDAKA_STARTFIXED-CIRCULARISED.fasta\n",
      "-rw-r----- 1 jovyan users 1.9K Sep 13  2021 RAVEN-STEP_CORRECTION_MEDAKA_STARTFIXED-CIRCULARISED.fasta.fai\n",
      "-rw-r----- 1 jovyan users  38M Sep 13  2021 RAVEN-STEP_CORRECTION_MEDAKA_STARTFIXED-CIRCULARISED.fasta.mmi\n",
      "-rw-r----- 1 jovyan users  11M Sep 13  2021 RAVEN-STEP_POLISHING_RACON-CIRCULARISED.fasta\n",
      "-rw-r----- 1 jovyan users 2.4K Sep 13  2021 RAVEN-STEP_POLISHING_RACON-CIRCULARISED.fasta.fai\n",
      "-rw-r----- 1 jovyan users  38M Sep 13  2021 RAVEN-STEP_POLISHING_RACON-CIRCULARISED.fasta.mmi\n",
      "-rw-r----- 1 jovyan users  20M Sep 13  2021 SHASTA-STEP_ASSEMBLY-CIRCULARISED.fasta\n",
      "-rw-r----- 1 jovyan users 171K Sep 13  2021 SHASTA-STEP_ASSEMBLY-CIRCULARISED.fasta.fai\n",
      "-rw-r----- 1 jovyan users  63M Sep 13  2021 SHASTA-STEP_ASSEMBLY-CIRCULARISED.fasta.mmi\n",
      "-rw-r----- 1 jovyan users  15M Sep 13  2021 SHASTA-STEP_CORRECTION_MEDAKA_STARTFIXED-CIRCULARISED.fasta\n",
      "-rw-r----- 1 jovyan users  32K Sep 13  2021 SHASTA-STEP_CORRECTION_MEDAKA_STARTFIXED-CIRCULARISED.fasta.fai\n",
      "-rw-r----- 1 jovyan users  49M Sep 13  2021 SHASTA-STEP_CORRECTION_MEDAKA_STARTFIXED-CIRCULARISED.fasta.mmi\n",
      "-rw-r----- 1 jovyan users  15M Sep 13  2021 SHASTA-STEP_POLISHING_RACON-CIRCULARISED.fasta\n",
      "-rw-r----- 1 jovyan users  38K Sep 13  2021 SHASTA-STEP_POLISHING_RACON-CIRCULARISED.fasta.fai\n",
      "-rw-r----- 1 jovyan users  49M Sep 13  2021 SHASTA-STEP_POLISHING_RACON-CIRCULARISED.fasta.mmi\n",
      "-rw-r----- 1 jovyan users  15M Sep 13  2021 SMARTDENOVO-STEP_ASSEMBLY-CIRCULARISED.fasta\n",
      "-rw-r----- 1 jovyan users 2.9K Sep 13  2021 SMARTDENOVO-STEP_ASSEMBLY-CIRCULARISED.fasta.fai\n",
      "-rw-r----- 1 jovyan users  50M Sep 13  2021 SMARTDENOVO-STEP_ASSEMBLY-CIRCULARISED.fasta.mmi\n",
      "-rw-r----- 1 jovyan users  15M Sep 13  2021 SMARTDENOVO-STEP_CORRECTION_MEDAKA_STARTFIXED-CIRCULARISED.fasta\n",
      "-rw-r----- 1 jovyan users 3.0K Sep 13  2021 SMARTDENOVO-STEP_CORRECTION_MEDAKA_STARTFIXED-CIRCULARISED.fasta.fai\n",
      "-rw-r----- 1 jovyan users  50M Sep 13  2021 SMARTDENOVO-STEP_CORRECTION_MEDAKA_STARTFIXED-CIRCULARISED.fasta.mmi\n",
      "-rw-r----- 1 jovyan users  15M Sep 13  2021 SMARTDENOVO-STEP_POLISHING_RACON-CIRCULARISED.fasta\n",
      "-rw-r----- 1 jovyan users 3.7K Sep 13  2021 SMARTDENOVO-STEP_POLISHING_RACON-CIRCULARISED.fasta.fai\n",
      "-rw-r----- 1 jovyan users  49M Sep 13  2021 SMARTDENOVO-STEP_POLISHING_RACON-CIRCULARISED.fasta.mmi\n"
     ]
    }
   ],
   "source": [
    "ls -lh ~/work/DATA/real_Hh/Hh-ASSEMBLIES"
   ]
  },
  {
   "cell_type": "markdown",
   "id": "d86ff5c7",
   "metadata": {},
   "source": [
    "### Compare Hh assemblies against the reference sequence using QUAST\n",
    "\n",
    "#### WARNING : This can take a while!! "
   ]
  },
  {
   "cell_type": "code",
   "execution_count": 4,
   "id": "7b1578df",
   "metadata": {
    "tags": []
   },
   "outputs": [
    {
     "name": "stdout",
     "output_type": "stream",
     "text": [
      "/opt/conda/envs/quast/bin/quast.py /home/jovyan/work/DATA/real_Hh/Hh-ASSEMBLIES/CANU-STEP_CORRECTION_MEDAKA_STARTFIXED-CIRCULARISED.fasta /home/jovyan/work/DATA/real_Hh/Hh-ASSEMBLIES/FLYE-STEP_CORRECTION_MEDAKA_STARTFIXED-CIRCULARISED.fasta /home/jovyan/work/DATA/real_Hh/Hh-ASSEMBLIES/MINIASM-STEP_CORRECTION_MEDAKA_STARTFIXED-CIRCULARISED.fasta /home/jovyan/work/DATA/real_Hh/Hh-ASSEMBLIES/RAVEN-STEP_CORRECTION_MEDAKA_STARTFIXED-CIRCULARISED.fasta /home/jovyan/work/DATA/real_Hh/Hh-ASSEMBLIES/SHASTA-STEP_CORRECTION_MEDAKA_STARTFIXED-CIRCULARISED.fasta /home/jovyan/work/DATA/real_Hh/Hh-ASSEMBLIES/SMARTDENOVO-STEP_CORRECTION_MEDAKA_STARTFIXED-CIRCULARISED.fasta -R /home/jovyan/work/DATA/real_Hh/REFH_M1C132.fasta -o QUAST_REF\n",
      "\n",
      "Version: 5.2.0\n",
      "\n",
      "System information:\n",
      "  OS: Linux-4.15.0-154-generic-x86_64-with-debian-bullseye-sid (linux_64)\n",
      "  Python version: 3.7.12\n",
      "  CPUs number: 8\n",
      "\n",
      "Started: 2022-11-09 15:09:46\n",
      "\n",
      "Logging to /home/jovyan/work/RESULTS/AGGREGATED_Hh/QUAST_REF/quast.log\n",
      "NOTICE: Maximum number of threads is set to 2 (use --threads option to set it manually)\n",
      "\n",
      "CWD: /home/jovyan/work/RESULTS/AGGREGATED_Hh\n",
      "Main parameters: \n",
      "  MODE: default, threads: 2, min contig length: 500, min alignment length: 65, min alignment IDY: 95.0, \\\n",
      "  ambiguity: one, min local misassembly length: 200, min extensive misassembly length: 1000\n",
      "\n",
      "Reference:\n",
      "  /home/jovyan/work/DATA/real_Hh/REFH_M1C132.fasta ==> REFH_M1C132\n",
      "\n",
      "Contigs:\n",
      "  Pre-processing...\n",
      "  1  /home/jovyan/work/DATA/real_Hh/Hh-ASSEMBLIES/CANU-STEP_CORRECTION_MEDAKA_STARTFIXED-CIRCULARISED.fasta ==> CANU-STEP_CORRECTION_MEDAKA_STARTFIXED-CIRCULARISED\n",
      "  2  /home/jovyan/work/DATA/real_Hh/Hh-ASSEMBLIES/FLYE-STEP_CORRECTION_MEDAKA_STARTFIXED-CIRCULARISED.fasta ==> FLYE-STEP_CORRECTION_MEDAKA_STARTFIXED-CIRCULARISED\n",
      "  3  /home/jovyan/work/DATA/real_Hh/Hh-ASSEMBLIES/MINIASM-STEP_CORRECTION_MEDAKA_STARTFIXED-CIRCULARISED.fasta ==> MINIASM-STEP_CORRECTION_MEDAKA_STARTFIXED-CIRCULARISED\n",
      "  4  /home/jovyan/work/DATA/real_Hh/Hh-ASSEMBLIES/RAVEN-STEP_CORRECTION_MEDAKA_STARTFIXED-CIRCULARISED.fasta ==> RAVEN-STEP_CORRECTION_MEDAKA_STARTFIXED-CIRCULARISED\n",
      "  5  /home/jovyan/work/DATA/real_Hh/Hh-ASSEMBLIES/SHASTA-STEP_CORRECTION_MEDAKA_STARTFIXED-CIRCULARISED.fasta ==> SHASTA-STEP_CORRECTION_MEDAKA_STARTFIXED-CIRCULARISED\n",
      "  6  /home/jovyan/work/DATA/real_Hh/Hh-ASSEMBLIES/SMARTDENOVO-STEP_CORRECTION_MEDAKA_STARTFIXED-CIRCULARISED.fasta ==> SMARTDENOVO-STEP_CORRECTION_MEDAKA_STARTFIXED-CIRCULARISED\n",
      "\n",
      "2022-11-09 15:09:48\n",
      "Running Basic statistics processor...\n",
      "  Reference genome:\n",
      "    REFH_M1C132.fasta, length = 2111568, num fragments = 4, GC % = 38.43\n",
      "  Contig files: \n",
      "    1  CANU-STEP_CORRECTION_MEDAKA_STARTFIXED-CIRCULARISED\n",
      "    2  FLYE-STEP_CORRECTION_MEDAKA_STARTFIXED-CIRCULARISED\n",
      "    3  MINIASM-STEP_CORRECTION_MEDAKA_STARTFIXED-CIRCULARISED\n",
      "    4  RAVEN-STEP_CORRECTION_MEDAKA_STARTFIXED-CIRCULARISED\n",
      "    5  SHASTA-STEP_CORRECTION_MEDAKA_STARTFIXED-CIRCULARISED\n",
      "    6  SMARTDENOVO-STEP_CORRECTION_MEDAKA_STARTFIXED-CIRCULARISED\n",
      "  Calculating N50 and L50...\n",
      "    1  CANU-STEP_CORRECTION_MEDAKA_STARTFIXED-CIRCULARISED, N50 = 2108530, L50 = 1, auN = 1696317.1, Total length = 2630776, GC % = 40.48, # N's per 100 kbp =  0.00\n",
      "    2  FLYE-STEP_CORRECTION_MEDAKA_STARTFIXED-CIRCULARISED, N50 = 2052025, L50 = 1, auN = 1938777.1, Total length = 2175295, GC % = 38.49, # N's per 100 kbp =  0.00\n",
      "    3  MINIASM-STEP_CORRECTION_MEDAKA_STARTFIXED-CIRCULARISED, N50 = 178910, L50 = 16, auN = 503564.5, Total length = 12266310, GC % = 52.55, # N's per 100 kbp =  0.00\n",
      "    4  RAVEN-STEP_CORRECTION_MEDAKA_STARTFIXED-CIRCULARISED, N50 = 363022, L50 = 7, auN = 668490.6, Total length = 11462095, GC % = 52.81, # N's per 100 kbp =  0.00\n",
      "    5  SHASTA-STEP_CORRECTION_MEDAKA_STARTFIXED-CIRCULARISED, N50 = 118179, L50 = 21, auN = 317167.1, Total length = 15224433, GC % = 50.43, # N's per 100 kbp =  0.00\n",
      "    6  SMARTDENOVO-STEP_CORRECTION_MEDAKA_STARTFIXED-CIRCULARISED, N50 = 433073, L50 = 11, auN = 523546.5, Total length = 14891483, GC % = 52.09, # N's per 100 kbp =  0.00\n",
      "  Drawing Nx plot...\n",
      "    saved to /home/jovyan/work/RESULTS/AGGREGATED_Hh/QUAST_REF/basic_stats/Nx_plot.pdf\n",
      "  Drawing NGx plot...\n",
      "    saved to /home/jovyan/work/RESULTS/AGGREGATED_Hh/QUAST_REF/basic_stats/NGx_plot.pdf\n",
      "  Drawing cumulative plot...\n",
      "    saved to /home/jovyan/work/RESULTS/AGGREGATED_Hh/QUAST_REF/basic_stats/cumulative_plot.pdf\n",
      "  Drawing GC content plot...\n",
      "    saved to /home/jovyan/work/RESULTS/AGGREGATED_Hh/QUAST_REF/basic_stats/GC_content_plot.pdf\n",
      "  Drawing CANU-STEP_CORRECTION_MEDAKA_STARTFIXED-CIRCULARISED GC content plot...\n",
      "    saved to /home/jovyan/work/RESULTS/AGGREGATED_Hh/QUAST_REF/basic_stats/CANU-STEP_CORRECTION_MEDAKA_STARTFIXED-CIRCULARISED_GC_content_plot.pdf\n",
      "  Drawing FLYE-STEP_CORRECTION_MEDAKA_STARTFIXED-CIRCULARISED GC content plot...\n",
      "    saved to /home/jovyan/work/RESULTS/AGGREGATED_Hh/QUAST_REF/basic_stats/FLYE-STEP_CORRECTION_MEDAKA_STARTFIXED-CIRCULARISED_GC_content_plot.pdf\n",
      "  Drawing MINIASM-STEP_CORRECTION_MEDAKA_STARTFIXED-CIRCULARISED GC content plot...\n",
      "    saved to /home/jovyan/work/RESULTS/AGGREGATED_Hh/QUAST_REF/basic_stats/MINIASM-STEP_CORRECTION_MEDAKA_STARTFIXED-CIRCULARISED_GC_content_plot.pdf\n",
      "  Drawing RAVEN-STEP_CORRECTION_MEDAKA_STARTFIXED-CIRCULARISED GC content plot...\n",
      "    saved to /home/jovyan/work/RESULTS/AGGREGATED_Hh/QUAST_REF/basic_stats/RAVEN-STEP_CORRECTION_MEDAKA_STARTFIXED-CIRCULARISED_GC_content_plot.pdf\n",
      "  Drawing SHASTA-STEP_CORRECTION_MEDAKA_STARTFIXED-CIRCULARISED GC content plot...\n",
      "    saved to /home/jovyan/work/RESULTS/AGGREGATED_Hh/QUAST_REF/basic_stats/SHASTA-STEP_CORRECTION_MEDAKA_STARTFIXED-CIRCULARISED_GC_content_plot.pdf\n",
      "  Drawing SMARTDENOVO-STEP_CORRECTION_MEDAKA_STARTFIXED-CIRCULARISED GC content plot...\n",
      "    saved to /home/jovyan/work/RESULTS/AGGREGATED_Hh/QUAST_REF/basic_stats/SMARTDENOVO-STEP_CORRECTION_MEDAKA_STARTFIXED-CIRCULARISED_GC_content_plot.pdf\n",
      "Done.\n",
      "\n",
      "2022-11-09 15:09:53\n",
      "Running Contig analyzer...\n",
      "  1  CANU-STEP_CORRECTION_MEDAKA_STARTFIXED-CIRCULARISED\n",
      "  2  FLYE-STEP_CORRECTION_MEDAKA_STARTFIXED-CIRCULARISED\n",
      "  1  Logging to files /home/jovyan/work/RESULTS/AGGREGATED_Hh/QUAST_REF/contigs_reports/contigs_report_CANU-STEP_CORRECTION_MEDAKA_STARTFIXED-CIRCULARISED.stdout and contigs_report_CANU-STEP_CORRECTION_MEDAKA_STARTFIXED-CIRCULARISED.stderr...\n",
      "  2  Logging to files /home/jovyan/work/RESULTS/AGGREGATED_Hh/QUAST_REF/contigs_reports/contigs_report_FLYE-STEP_CORRECTION_MEDAKA_STARTFIXED-CIRCULARISED.stdout and contigs_report_FLYE-STEP_CORRECTION_MEDAKA_STARTFIXED-CIRCULARISED.stderr...\n",
      "  1  Aligning contigs to the reference\n",
      "  2  Aligning contigs to the reference\n",
      "  2  Analysis is finished.\n",
      "  3  MINIASM-STEP_CORRECTION_MEDAKA_STARTFIXED-CIRCULARISED\n",
      "  3  Logging to files /home/jovyan/work/RESULTS/AGGREGATED_Hh/QUAST_REF/contigs_reports/contigs_report_MINIASM-STEP_CORRECTION_MEDAKA_STARTFIXED-CIRCULARISED.stdout and contigs_report_MINIASM-STEP_CORRECTION_MEDAKA_STARTFIXED-CIRCULARISED.stderr...\n",
      "  3  Aligning contigs to the reference\n",
      "  1  Analysis is finished.\n",
      "  4  RAVEN-STEP_CORRECTION_MEDAKA_STARTFIXED-CIRCULARISED\n",
      "  4  Logging to files /home/jovyan/work/RESULTS/AGGREGATED_Hh/QUAST_REF/contigs_reports/contigs_report_RAVEN-STEP_CORRECTION_MEDAKA_STARTFIXED-CIRCULARISED.stdout and contigs_report_RAVEN-STEP_CORRECTION_MEDAKA_STARTFIXED-CIRCULARISED.stderr...\n",
      "  4  Aligning contigs to the reference\n",
      "  4  Analysis is finished.\n",
      "  5  SHASTA-STEP_CORRECTION_MEDAKA_STARTFIXED-CIRCULARISED\n",
      "  5  Logging to files /home/jovyan/work/RESULTS/AGGREGATED_Hh/QUAST_REF/contigs_reports/contigs_report_SHASTA-STEP_CORRECTION_MEDAKA_STARTFIXED-CIRCULARISED.stdout and contigs_report_SHASTA-STEP_CORRECTION_MEDAKA_STARTFIXED-CIRCULARISED.stderr...\n",
      "  5  Aligning contigs to the reference\n",
      "  3  Analysis is finished.\n",
      "  6  SMARTDENOVO-STEP_CORRECTION_MEDAKA_STARTFIXED-CIRCULARISED\n",
      "  6  Logging to files /home/jovyan/work/RESULTS/AGGREGATED_Hh/QUAST_REF/contigs_reports/contigs_report_SMARTDENOVO-STEP_CORRECTION_MEDAKA_STARTFIXED-CIRCULARISED.stdout and contigs_report_SMARTDENOVO-STEP_CORRECTION_MEDAKA_STARTFIXED-CIRCULARISED.stderr...\n",
      "  6  Aligning contigs to the reference\n",
      "  6  Analysis is finished.\n",
      "  5  Analysis is finished.\n",
      "  Creating total report...\n",
      "    saved to /home/jovyan/work/RESULTS/AGGREGATED_Hh/QUAST_REF/contigs_reports/misassemblies_report.txt, misassemblies_report.tsv, and misassemblies_report.tex\n",
      "  Transposed version of total report...\n",
      "    saved to /home/jovyan/work/RESULTS/AGGREGATED_Hh/QUAST_REF/contigs_reports/transposed_report_misassemblies.txt, transposed_report_misassemblies.tsv, and transposed_report_misassemblies.tex\n",
      "  Creating total report...\n",
      "    saved to /home/jovyan/work/RESULTS/AGGREGATED_Hh/QUAST_REF/contigs_reports/unaligned_report.txt, unaligned_report.tsv, and unaligned_report.tex\n",
      "  Drawing misassemblies by types plot...\n",
      "    saved to /home/jovyan/work/RESULTS/AGGREGATED_Hh/QUAST_REF/contigs_reports/misassemblies_plot.pdf\n",
      "  Drawing misassemblies FRCurve plot...\n",
      "    saved to /home/jovyan/work/RESULTS/AGGREGATED_Hh/QUAST_REF/contigs_reports/misassemblies_frcurve_plot.pdf\n",
      "Done.\n",
      "\n",
      "2022-11-09 15:09:59\n",
      "Running NA-NGA calculation...\n",
      "  1  CANU-STEP_CORRECTION_MEDAKA_STARTFIXED-CIRCULARISED, Largest alignment = 1493562, NA50 = 1493562, NGA50 = 1493562, LA50 = 1, LGA50 = 1\n",
      "  2  FLYE-STEP_CORRECTION_MEDAKA_STARTFIXED-CIRCULARISED, Largest alignment = 2052025, NA50 = 2052025, NGA50 = 2052025, LA50 = 1, LGA50 = 1\n",
      "  3  MINIASM-STEP_CORRECTION_MEDAKA_STARTFIXED-CIRCULARISED, Largest alignment = 2052021, NA50 = None, NGA50 = 2052021, LA50 = None, LGA50 = 1\n",
      "  4  RAVEN-STEP_CORRECTION_MEDAKA_STARTFIXED-CIRCULARISED, Largest alignment = 2050634, NA50 = None, NGA50 = 2050634, LA50 = None, LGA50 = 1\n",
      "  5  SHASTA-STEP_CORRECTION_MEDAKA_STARTFIXED-CIRCULARISED, Largest alignment = 22350, NA50 = None, NGA50 = 7937, LA50 = None, LGA50 = 100\n",
      "  6  SMARTDENOVO-STEP_CORRECTION_MEDAKA_STARTFIXED-CIRCULARISED, Largest alignment = 580466, NA50 = None, NGA50 = 284071, LA50 = None, LGA50 = 3\n",
      "  Drawing cumulative plot...\n",
      "    saved to /home/jovyan/work/RESULTS/AGGREGATED_Hh/QUAST_REF/aligned_stats/cumulative_plot.pdf\n",
      "  Drawing NAx plot...\n",
      "    saved to /home/jovyan/work/RESULTS/AGGREGATED_Hh/QUAST_REF/aligned_stats/NAx_plot.pdf\n",
      "  Drawing NGAx plot...\n",
      "    saved to /home/jovyan/work/RESULTS/AGGREGATED_Hh/QUAST_REF/aligned_stats/NGAx_plot.pdf\n",
      "Done.\n",
      "\n",
      "2022-11-09 15:10:00\n",
      "Running Genome analyzer...\n",
      "  NOTICE: No file with genomic features were provided. Use the --features option if you want to specify it.\n",
      "\n",
      "  NOTICE: No file with operons were provided. Use the -O option if you want to specify it.\n",
      "  1  CANU-STEP_CORRECTION_MEDAKA_STARTFIXED-CIRCULARISED\n",
      "  2  FLYE-STEP_CORRECTION_MEDAKA_STARTFIXED-CIRCULARISED\n",
      "  2  Analysis is finished.\n",
      "  3  MINIASM-STEP_CORRECTION_MEDAKA_STARTFIXED-CIRCULARISED\n",
      "  1  Analysis is finished.\n",
      "  4  RAVEN-STEP_CORRECTION_MEDAKA_STARTFIXED-CIRCULARISED\n",
      "  4  Analysis is finished.\n",
      "  5  SHASTA-STEP_CORRECTION_MEDAKA_STARTFIXED-CIRCULARISED\n",
      "  3  Analysis is finished.\n",
      "  6  SMARTDENOVO-STEP_CORRECTION_MEDAKA_STARTFIXED-CIRCULARISED\n",
      "  6  Analysis is finished.\n",
      "  5  Analysis is finished.\n",
      "  Drawing Genome fraction, % histogram...\n",
      "    saved to /home/jovyan/work/RESULTS/AGGREGATED_Hh/QUAST_REF/genome_stats/genome_fraction_histogram.pdf\n",
      "Done.\n",
      "\n",
      "NOTICE: Genes are not predicted by default. Use --gene-finding or --glimmer option to enable it.\n",
      "\n",
      "2022-11-09 15:10:03\n",
      "Creating large visual summaries...\n",
      "This may take a while: press Ctrl-C to skip this step..\n",
      "  1 of 2: Creating PDF with all tables and plots...\n",
      "  2 of 2: Creating Icarus viewers...\n",
      "Done\n",
      "\n",
      "2022-11-09 15:10:06\n",
      "RESULTS:\n",
      "  Text versions of total report are saved to /home/jovyan/work/RESULTS/AGGREGATED_Hh/QUAST_REF/report.txt, report.tsv, and report.tex\n",
      "  Text versions of transposed total report are saved to /home/jovyan/work/RESULTS/AGGREGATED_Hh/QUAST_REF/transposed_report.txt, transposed_report.tsv, and transposed_report.tex\n",
      "  HTML version (interactive tables and plots) is saved to /home/jovyan/work/RESULTS/AGGREGATED_Hh/QUAST_REF/report.html\n",
      "  PDF version (tables and plots) is saved to /home/jovyan/work/RESULTS/AGGREGATED_Hh/QUAST_REF/report.pdf\n",
      "  Icarus (contig browser) is saved to /home/jovyan/work/RESULTS/AGGREGATED_Hh/QUAST_REF/icarus.html\n",
      "  Log is saved to /home/jovyan/work/RESULTS/AGGREGATED_Hh/QUAST_REF/quast.log\n",
      "\n",
      "Finished: 2022-11-09 15:10:06\n",
      "Elapsed time: 0:00:20.510602\n",
      "NOTICEs: 4; WARNINGs: 0; non-fatal ERRORs: 0\n",
      "\n",
      "Thank you for using QUAST!\n",
      "\n",
      "real\t0m20.959s\n",
      "user\t0m30.763s\n",
      "sys\t0m5.486s\n"
     ]
    }
   ],
   "source": [
    "mkdir ~/work/RESULTS/AGGREGATED_Hh/\n",
    "cd ~/work/RESULTS/AGGREGATED_Hh/\n",
    "time quast.py /home/jovyan/work/DATA/real_Hh/Hh-ASSEMBLIES/*MEDAKA_STARTFIXED-CIRCULARISED.fasta -R /home/jovyan/work/DATA/real_Hh/REFH_M1C132.fasta -o QUAST_REF"
   ]
  },
  {
   "cell_type": "markdown",
   "id": "c482f4ba",
   "metadata": {
    "tags": []
   },
   "source": [
    "#### Which of the assemblies are closest in size relative to the reference ?\n",
    "\n",
    "#### Does this have the largest N50 and fewest number of contigs?"
   ]
  },
  {
   "cell_type": "markdown",
   "id": "07ff361a",
   "metadata": {
    "tags": []
   },
   "source": [
    "#### What assembly does obtain the best contiguity metrics?\n"
   ]
  },
  {
   "cell_type": "markdown",
   "id": "30db29bd",
   "metadata": {
    "tags": []
   },
   "source": [
    "## <span style=\"color: #4CACBD;\"> 2. Assessing gene space using BUSCO (REAL DATA) </span>\n"
   ]
  },
  {
   "cell_type": "markdown",
   "id": "ae690225",
   "metadata": {},
   "source": [
    "Benchmarking Universal Single-Copy Orthologs ([BUSCO](https://busco.ezlab.org/busco_userguide.html)) helps to check if you have a good assembly, by searching the expected single-copy lineage-conserved orthologs in any newly-sequenced genome from an appropriate phylogenetic clade."
   ]
  },
  {
   "cell_type": "markdown",
   "id": "84bbbda5",
   "metadata": {},
   "source": [
    "Calculate the gene space for each assembly"
   ]
  },
  {
   "cell_type": "code",
   "execution_count": 3,
   "id": "ed5fd510",
   "metadata": {
    "tags": []
   },
   "outputs": [],
   "source": [
    "mkdir -p ~/work/RESULTS/AGGREGATED_Hh/BUSCO\n",
    "cd ~/work/RESULTS/AGGREGATED_Hh/BUSCO"
   ]
  },
  {
   "cell_type": "markdown",
   "id": "40200c0c",
   "metadata": {},
   "source": [
    "Lineage can be choose in busco database using --list-datasets parameter"
   ]
  },
  {
   "cell_type": "code",
   "execution_count": 5,
   "id": "4851997d",
   "metadata": {
    "tags": []
   },
   "outputs": [
    {
     "name": "stdout",
     "output_type": "stream",
     "text": [
      "(busco) "
     ]
    },
    {
     "ename": "",
     "evalue": "1",
     "output_type": "error",
     "traceback": []
    }
   ],
   "source": [
    "# busco env\n",
    "conda activate busco"
   ]
  },
  {
   "cell_type": "code",
   "execution_count": 6,
   "id": "7d69a0fd-5301-4237-95d1-bc670dbdbfc3",
   "metadata": {},
   "outputs": [
    {
     "name": "stdout",
     "output_type": "stream",
     "text": [
      "2022-11-10 14:16:16 INFO:\tDownloading information on latest versions of BUSCO data...\n",
      "2022-11-10 14:16:16 INFO:\tDownloading file 'https://busco-data.ezlab.org/v5/data/information/lineages_list.2021-12-14.txt.tar.gz'\n",
      "2022-11-10 14:16:17 INFO:\tDecompressing file '/home/jovyan/work/RESULTS/AGGREGATED_Hh/BUSCO/busco_downloads/information/lineages_list.2021-12-14.txt.tar.gz'\n",
      "\n",
      "################################################\n",
      "\n",
      "Datasets available to be used with BUSCO v4 and v5:\n",
      "\n",
      " bacteria_odb10\n",
      "     - acidobacteria_odb10\n",
      "     - actinobacteria_phylum_odb10\n",
      "         - actinobacteria_class_odb10\n",
      "             - corynebacteriales_odb10\n",
      "             - micrococcales_odb10\n",
      "             - propionibacteriales_odb10\n",
      "             - streptomycetales_odb10\n",
      "             - streptosporangiales_odb10\n",
      "         - coriobacteriia_odb10\n",
      "             - coriobacteriales_odb10\n",
      "     - aquificae_odb10\n",
      "     - bacteroidetes-chlorobi_group_odb10\n",
      "         - bacteroidetes_odb10\n",
      "             - bacteroidia_odb10\n",
      "                 - bacteroidales_odb10\n",
      "             - cytophagia_odb10\n",
      "                 - cytophagales_odb10\n",
      "             - flavobacteriia_odb10\n",
      "                 - flavobacteriales_odb10\n",
      "             - sphingobacteriia_odb10\n",
      "         - chlorobi_odb10\n",
      "     - chlamydiae_odb10\n",
      "     - chloroflexi_odb10\n",
      "     - cyanobacteria_odb10\n",
      "         - chroococcales_odb10\n",
      "         - nostocales_odb10\n",
      "         - oscillatoriales_odb10\n",
      "         - synechococcales_odb10\n",
      "     - firmicutes_odb10\n",
      "         - bacilli_odb10\n",
      "             - bacillales_odb10\n",
      "             - lactobacillales_odb10\n",
      "         - clostridia_odb10\n",
      "             - clostridiales_odb10\n",
      "             - thermoanaerobacterales_odb10\n",
      "         - selenomonadales_odb10\n",
      "         - tissierellia_odb10\n",
      "             - tissierellales_odb10\n",
      "     - fusobacteria_odb10\n",
      "         - fusobacteriales_odb10\n",
      "     - planctomycetes_odb10\n",
      "     - proteobacteria_odb10\n",
      "         - alphaproteobacteria_odb10\n",
      "             - rhizobiales_odb10\n",
      "                 - rhizobium-agrobacterium_group_odb10\n",
      "             - rhodobacterales_odb10\n",
      "             - rhodospirillales_odb10\n",
      "             - rickettsiales_odb10\n",
      "             - sphingomonadales_odb10\n",
      "         - betaproteobacteria_odb10\n",
      "             - burkholderiales_odb10\n",
      "             - neisseriales_odb10\n",
      "             - nitrosomonadales_odb10\n",
      "         - delta-epsilon-subdivisions_odb10\n",
      "             - deltaproteobacteria_odb10\n",
      "                 - desulfobacterales_odb10\n",
      "                 - desulfovibrionales_odb10\n",
      "                 - desulfuromonadales_odb10\n",
      "             - epsilonproteobacteria_odb10\n",
      "                 - campylobacterales_odb10\n",
      "         - gammaproteobacteria_odb10\n",
      "             - alteromonadales_odb10\n",
      "             - cellvibrionales_odb10\n",
      "             - chromatiales_odb10\n",
      "             - enterobacterales_odb10\n",
      "             - legionellales_odb10\n",
      "             - oceanospirillales_odb10\n",
      "             - pasteurellales_odb10\n",
      "             - pseudomonadales_odb10\n",
      "             - thiotrichales_odb10\n",
      "             - vibrionales_odb10\n",
      "             - xanthomonadales_odb10\n",
      "     - spirochaetes_odb10\n",
      "         - spirochaetia_odb10\n",
      "             - spirochaetales_odb10\n",
      "     - synergistetes_odb10\n",
      "     - tenericutes_odb10\n",
      "         - mollicutes_odb10\n",
      "             - entomoplasmatales_odb10\n",
      "             - mycoplasmatales_odb10\n",
      "     - thermotogae_odb10\n",
      "     - verrucomicrobia_odb10\n",
      " archaea_odb10\n",
      "     - thaumarchaeota_odb10\n",
      "     - thermoprotei_odb10\n",
      "         - thermoproteales_odb10\n",
      "         - sulfolobales_odb10\n",
      "         - desulfurococcales_odb10\n",
      "     - euryarchaeota_odb10\n",
      "         - thermoplasmata_odb10\n",
      "         - methanococcales_odb10\n",
      "         - methanobacteria_odb10\n",
      "         - methanomicrobia_odb10\n",
      "             - methanomicrobiales_odb10\n",
      "         - halobacteria_odb10\n",
      "             - halobacteriales_odb10\n",
      "             - natrialbales_odb10\n",
      "             - haloferacales_odb10\n",
      " eukaryota_odb10\n",
      "     - alveolata_odb10\n",
      "         - apicomplexa_odb10\n",
      "             - aconoidasida_odb10\n",
      "                 - plasmodium_odb10\n",
      "             - coccidia_odb10\n",
      "     - euglenozoa_odb10\n",
      "     - fungi_odb10\n",
      "         - ascomycota_odb10\n",
      "             - dothideomycetes_odb10\n",
      "                 - capnodiales_odb10\n",
      "                 - pleosporales_odb10\n",
      "             - eurotiomycetes_odb10\n",
      "                 - chaetothyriales_odb10\n",
      "                 - eurotiales_odb10\n",
      "                 - onygenales_odb10\n",
      "             - leotiomycetes_odb10\n",
      "                 - helotiales_odb10\n",
      "             - saccharomycetes_odb10\n",
      "             - sordariomycetes_odb10\n",
      "                 - glomerellales_odb10\n",
      "                 - hypocreales_odb10\n",
      "         - basidiomycota_odb10\n",
      "             - agaricomycetes_odb10\n",
      "                 - agaricales_odb10\n",
      "                 - boletales_odb10\n",
      "                 - polyporales_odb10\n",
      "             - tremellomycetes_odb10\n",
      "         - microsporidia_odb10\n",
      "         - mucoromycota_odb10\n",
      "             - mucorales_odb10\n",
      "     - metazoa_odb10\n",
      "         - arthropoda_odb10\n",
      "             - arachnida_odb10\n",
      "             - insecta_odb10\n",
      "                 - endopterygota_odb10\n",
      "                     - diptera_odb10\n",
      "                     - hymenoptera_odb10\n",
      "                     - lepidoptera_odb10\n",
      "                 - hemiptera_odb10\n",
      "         - mollusca_odb10\n",
      "         - nematoda_odb10\n",
      "         - vertebrata_odb10\n",
      "             - actinopterygii_odb10\n",
      "                 - cyprinodontiformes_odb10\n",
      "             - tetrapoda_odb10\n",
      "                 - mammalia_odb10\n",
      "                     - eutheria_odb10\n",
      "                         - euarchontoglires_odb10\n",
      "                             - glires_odb10\n",
      "                             - primates_odb10\n",
      "                         - laurasiatheria_odb10\n",
      "                             - carnivora_odb10\n",
      "                             - cetartiodactyla_odb10\n",
      "                 - sauropsida_odb10\n",
      "                     - aves_odb10\n",
      "                         - passeriformes_odb10\n",
      "     - stramenopiles_odb10\n",
      "     - viridiplantae_odb10\n",
      "         - chlorophyta_odb10\n",
      "         - embryophyta_odb10\n",
      "             - liliopsida_odb10\n",
      "                 - poales_odb10\n",
      "             - eudicots_odb10\n",
      "                 - brassicales_odb10\n",
      "                 - fabales_odb10\n",
      "                 - solanales_odb10\n",
      " viruses (no root dataset)\n",
      "     - alphaherpesvirinae_odb10\n",
      "     - baculoviridae_odb10\n",
      "     - rudiviridae_odb10\n",
      "     - betaherpesvirinae_odb10\n",
      "     - herpesviridae_odb10\n",
      "     - poxviridae_odb10\n",
      "     - tevenvirinae_odb10\n",
      "     - aviadenovirus_odb10\n",
      "     - enquatrovirus_odb10\n",
      "     - teseptimavirus_odb10\n",
      "     - bclasvirinae_odb10\n",
      "     - fromanvirus_odb10\n",
      "     - skunavirus_odb10\n",
      "     - betabaculovirus_odb10\n",
      "     - pahexavirus_odb10\n",
      "     - alphabaculovirus_odb10\n",
      "     - tunavirinae_odb10\n",
      "     - simplexvirus_odb10\n",
      "     - gammaherpesvirinae_odb10\n",
      "     - varicellovirus_odb10\n",
      "     - cheoctovirus_odb10\n",
      "     - guernseyvirinae_odb10\n",
      "     - tequatrovirus_odb10\n",
      "     - chordopoxvirinae_odb10\n",
      "     - peduovirus_odb10\n",
      "     - iridoviridae_odb10\n",
      "     - spounavirinae_odb10\n",
      "\n",
      "(busco) "
     ]
    },
    {
     "ename": "",
     "evalue": "1",
     "output_type": "error",
     "traceback": []
    }
   ],
   "source": [
    "busco --list-datasets"
   ]
  },
  {
   "cell_type": "code",
   "execution_count": 7,
   "id": "f870bc44",
   "metadata": {
    "tags": []
   },
   "outputs": [
    {
     "name": "stdout",
     "output_type": "stream",
     "text": [
      "(busco) (busco) 2022-11-10 14:16:23 INFO:\t***** Start a BUSCO v5.2.2 analysis, current time: 11/10/2022 14:16:23 *****\n",
      "2022-11-10 14:16:23 INFO:\tConfiguring BUSCO with local environment\n",
      "2022-11-10 14:16:23 INFO:\tMode is genome\n",
      "2022-11-10 14:16:23 INFO:\tDownloading information on latest versions of BUSCO data...\n",
      "2022-11-10 14:16:23 INFO:\tInput file is /home/jovyan/work/DATA/real_Hh/Hh-ASSEMBLIES/FLYE-STEP_CORRECTION_MEDAKA_STARTFIXED-CIRCULARISED.fasta\n",
      "2022-11-10 14:16:23 INFO:\tDownloading file 'https://busco-data.ezlab.org/v5/data/lineages/bacteria_odb10.2020-03-06.tar.gz'\n",
      "2022-11-10 14:16:24 INFO:\tDecompressing file '/home/jovyan/work/RESULTS/AGGREGATED_Hh/BUSCO/busco_downloads/lineages/bacteria_odb10.tar.gz'\n",
      "2022-11-10 14:16:25 INFO:\tRunning BUSCO using lineage dataset bacteria_odb10 (prokaryota, 2020-03-06)\n",
      "2022-11-10 14:16:25 INFO:\t***** Run Prodigal on input to predict and extract genes *****\n",
      "2022-11-10 14:16:25 INFO:\tRunning Prodigal with genetic code 11 in single mode\n",
      "2022-11-10 14:16:25 INFO:\tRunning 1 job(s) on prodigal, starting at 11/10/2022 14:16:25\n",
      "2022-11-10 14:16:28 INFO:\t[prodigal]\t1 of 1 task(s) completed\n",
      "2022-11-10 14:16:28 INFO:\tGenetic code 11 selected as optimal\n",
      "2022-11-10 14:16:28 INFO:\t***** Run HMMER on gene sequences *****\n",
      "2022-11-10 14:16:28 INFO:\tRunning 124 job(s) on hmmsearch, starting at 11/10/2022 14:16:28\n",
      "2022-11-10 14:16:29 INFO:\t[hmmsearch]\t13 of 124 task(s) completed\n",
      "2022-11-10 14:16:29 INFO:\t[hmmsearch]\t25 of 124 task(s) completed\n",
      "2022-11-10 14:16:29 INFO:\t[hmmsearch]\t38 of 124 task(s) completed\n",
      "2022-11-10 14:16:29 INFO:\t[hmmsearch]\t50 of 124 task(s) completed\n",
      "2022-11-10 14:16:29 INFO:\t[hmmsearch]\t63 of 124 task(s) completed\n",
      "2022-11-10 14:16:29 INFO:\t[hmmsearch]\t63 of 124 task(s) completed\n",
      "2022-11-10 14:16:29 INFO:\t[hmmsearch]\t75 of 124 task(s) completed\n",
      "2022-11-10 14:16:29 INFO:\t[hmmsearch]\t87 of 124 task(s) completed\n",
      "2022-11-10 14:16:30 INFO:\t[hmmsearch]\t100 of 124 task(s) completed\n",
      "2022-11-10 14:16:30 INFO:\t[hmmsearch]\t112 of 124 task(s) completed\n",
      "2022-11-10 14:16:30 INFO:\t[hmmsearch]\t124 of 124 task(s) completed\n",
      "2022-11-10 14:16:30 INFO:\tResults:\tC:95.2%[S:95.2%,D:0.0%],F:2.4%,M:2.4%,n:124\t   \n",
      "\n",
      "2022-11-10 14:16:30 INFO:\t\n",
      "\n",
      "\t--------------------------------------------------\n",
      "\t|Results from dataset bacteria_odb10              |\n",
      "\t--------------------------------------------------\n",
      "\t|C:95.2%[S:95.2%,D:0.0%],F:2.4%,M:2.4%,n:124      |\n",
      "\t|118\tComplete BUSCOs (C)                       |\n",
      "\t|118\tComplete and single-copy BUSCOs (S)       |\n",
      "\t|0\tComplete and duplicated BUSCOs (D)        |\n",
      "\t|3\tFragmented BUSCOs (F)                     |\n",
      "\t|3\tMissing BUSCOs (M)                        |\n",
      "\t|124\tTotal BUSCO groups searched               |\n",
      "\t--------------------------------------------------\n",
      "2022-11-10 14:16:30 INFO:\tBUSCO analysis done. Total running time: 8 seconds\n",
      "2022-11-10 14:16:30 INFO:\tResults written in /home/jovyan/work/RESULTS/AGGREGATED_Hh/BUSCO/BUSCO_RESULTS\n",
      "2022-11-10 14:16:30 INFO:\tFor assistance with interpreting the results, please consult the userguide: https://busco.ezlab.org/busco_userguide.html\n",
      "\n",
      "2022-11-10 14:16:30 INFO:\tVisit this page https://gitlab.com/ezlab/busco#how-to-cite-busco to see how to cite BUSCO\n",
      "(busco) "
     ]
    },
    {
     "ename": "",
     "evalue": "1",
     "output_type": "error",
     "traceback": []
    }
   ],
   "source": [
    "ASSEMBLY=\"~/work/DATA/real_Hh/Hh-ASSEMBLIES/FLYE-STEP_CORRECTION_MEDAKA_STARTFIXED-CIRCULARISED.fasta\"\n",
    "LINEAGE=bacteria_odb10\n",
    "busco -i \"$ASSEMBLY\" -l \"$LINEAGE\" -c \"${CPUS:-4}\" -m genome -o BUSCO_RESULTS "
   ]
  },
  {
   "cell_type": "markdown",
   "id": "0b7b858a",
   "metadata": {
    "tags": []
   },
   "source": [
    "### What does the gene space look like for this assembly?\n",
    "\n",
    "#### Run BUSCO in all assemblies generated if you want... "
   ]
  },
  {
   "cell_type": "code",
   "execution_count": 9,
   "id": "589b0770-9160-4c1d-bb7d-6a9523110b36",
   "metadata": {},
   "outputs": [
    {
     "name": "stdout",
     "output_type": "stream",
     "text": [
      "(busco) (base) "
     ]
    },
    {
     "ename": "",
     "evalue": "1",
     "output_type": "error",
     "traceback": []
    }
   ],
   "source": [
    "# deactivate busco env\n",
    "conda deactivate"
   ]
  },
  {
   "cell_type": "markdown",
   "id": "742dd48c",
   "metadata": {},
   "source": [
    "## <span style=\"color: #4CACBD;\"> 3. Read alignment statistics - remapping (CLONE) </span>"
   ]
  },
  {
   "cell_type": "markdown",
   "id": "5461cea9",
   "metadata": {},
   "source": [
    "Read congruency is an important measure in determining assembly accuracy. Clusters of read pairs that align incorrectly are strong indicators of mis-assembly.\n",
    "\n",
    "How well do the reads align back to the draft assemblies? Use minimap2 and samtools to assess the basic alignment statistics.\n",
    "\n",
    "Make a folder for your results.\n",
    "\n",
    "We will use CloneX_FLYE_RACONx2_MEDAKA.fasta assembly and ONT READS as well ILLUMINA READS."
   ]
  },
  {
   "cell_type": "code",
   "execution_count": 10,
   "id": "94d90ca1",
   "metadata": {},
   "outputs": [
    {
     "name": "stdout",
     "output_type": "stream",
     "text": [
      "(base) (base) "
     ]
    },
    {
     "ename": "",
     "evalue": "1",
     "output_type": "error",
     "traceback": []
    }
   ],
   "source": [
    "mkdir -p ~/work/RESULTS/REMAPPING\n",
    "cd ~/work/RESULTS/REMAPPING/"
   ]
  },
  {
   "cell_type": "code",
   "execution_count": 11,
   "id": "e4ff7f9c",
   "metadata": {},
   "outputs": [
    {
     "name": "stdout",
     "output_type": "stream",
     "text": [
      "(base) (base) (base) (base) (base) "
     ]
    },
    {
     "ename": "",
     "evalue": "1",
     "output_type": "error",
     "traceback": []
    }
   ],
   "source": [
    "CLONE=\"Clone10\"\n",
    "ASSEMBLY=\"/home/jovyan/work/RESULTS/FLYE_RACON_MEDAKA/MEDAKA_CONSENSUS/consensus.fasta\"\n",
    "ONT=\"/home/jovyan/work/DATA/${CLONE}/ONT/${CLONE}.fastq.gz\"\n",
    "ILLUMINA_R1=\"/home/jovyan/work/DATA/${CLONE}/ILL/${CLONE}_R1.fastq.gz\"\n",
    "ILLUMINA_R2=\"/home/jovyan/work/DATA/${CLONE}/ILL/${CLONE}_R2.fastq.gz\""
   ]
  },
  {
   "cell_type": "code",
   "execution_count": 13,
   "id": "2152e288-d138-4845-b901-2ecc3d529fb2",
   "metadata": {},
   "outputs": [
    {
     "name": "stdout",
     "output_type": "stream",
     "text": [
      "Clone10\n",
      "(base) Clone10_FLYE_RACONx2_MEDAKA.fasta\n",
      "(base) /home/jovyan/work/DATA/Clone10/ONT/Clone10.fastq.gz\n",
      "(base) /home/jovyan/work/DATA/Clone10/ILL/Clone10_R1.fastq.gz\n",
      "(base) /home/jovyan/work/DATA/Clone10/ILL/Clone10_R2.fastq.gz\n",
      "(base) "
     ]
    },
    {
     "ename": "",
     "evalue": "1",
     "output_type": "error",
     "traceback": []
    }
   ],
   "source": [
    "echo $CLONE\n",
    "echo $ASSEMBLY\n",
    "echo $ONT\n",
    "echo $ILLUMINA_R1\n",
    "echo $ILLUMINA_R2"
   ]
  },
  {
   "cell_type": "code",
   "execution_count": 12,
   "id": "54bd54dd",
   "metadata": {},
   "outputs": [
    {
     "name": "stdout",
     "output_type": "stream",
     "text": [
      "(base) ln: failed to create symbolic link 'Clone10_FLYE_RACONx2_MEDAKA.fasta': File exists\n",
      "(base) (base) (base) "
     ]
    },
    {
     "ename": "",
     "evalue": "1",
     "output_type": "error",
     "traceback": []
    }
   ],
   "source": [
    "#symbolic link from last assembly in the current repertory ReMAPPING\n",
    "ln -s ${ASSEMBLY} ${CLONE}_FLYE_RACONx2_MEDAKA.fasta\n",
    "# overwrite ASSEMBLY variable\n",
    "ASSEMBLY=${CLONE}_FLYE_RACONx2_MEDAKA.fasta"
   ]
  },
  {
   "cell_type": "markdown",
   "id": "6a651496",
   "metadata": {},
   "source": [
    "## Mapping assemblies vs ONT reads"
   ]
  },
  {
   "cell_type": "code",
   "execution_count": 14,
   "id": "dac7f01b",
   "metadata": {},
   "outputs": [
    {
     "name": "stdout",
     "output_type": "stream",
     "text": [
      "[M::mm_idx_gen::0.049*1.04] collected minimizers\n",
      "[M::mm_idx_gen::0.058*1.49] sorted minimizers\n",
      "[M::main::0.058*1.49] loaded/built the index for 4 target sequence(s)\n",
      "[M::mm_mapopt_update::0.063*1.45] mid_occ = 5\n",
      "[M::mm_idx_stat] kmer size: 15; skip: 10; is_hpc: 0; #seq: 4\n",
      "[M::mm_idx_stat::0.067*1.42] distinct minimizers: 226862 (98.71% are singletons); average occurrences: 1.017; average spacing: 5.340\n",
      "[M::worker_pipeline::15.878*3.41] mapped 11235 sequences\n",
      "[M::main] Version: 2.17-r941\n",
      "[M::main] CMD: minimap2 -ax map-ont -t 4 Clone10_FLYE_RACONx2_MEDAKA.fasta /home/jovyan/work/DATA/Clone10/ONT/Clone10.fastq.gz\n",
      "[M::main] Real time: 15.886 sec; CPU: 54.124 sec; Peak RSS: 0.404 GB\n",
      "(base) (base) 11235\n",
      "(base) "
     ]
    },
    {
     "ename": "",
     "evalue": "1",
     "output_type": "error",
     "traceback": []
    }
   ],
   "source": [
    "minimap2 -ax map-ont -t 4 ${ASSEMBLY} ${ONT} | samtools sort -@ 1 -T \"${ASSEMBLY/.fasta/}\" -O BAM -o \"${ASSEMBLY/.fasta/_ONT_minimap2.bam}\" -\n",
    "samtools index \"${ASSEMBLY/.fasta/_ONT_minimap2.bam}\"\n",
    "samtools view -F 0x904 -c \"${ASSEMBLY/.fasta/_ONT_minimap2.bam}\""
   ]
  },
  {
   "cell_type": "markdown",
   "id": "5cae8f23",
   "metadata": {},
   "source": [
    "## Mapping assemblies vs ILLUMINA reads"
   ]
  },
  {
   "cell_type": "code",
   "execution_count": 15,
   "id": "ed5b06a8",
   "metadata": {},
   "outputs": [
    {
     "name": "stdout",
     "output_type": "stream",
     "text": [
      "(base) [M::mm_idx_gen::0.048*1.04] collected minimizers\n",
      "[M::mm_idx_gen::0.060*1.59] sorted minimizers\n",
      "[M::main::0.060*1.59] loaded/built the index for 4 target sequence(s)\n",
      "[M::mm_mapopt_update::0.060*1.59] mid_occ = 1000\n",
      "[M::mm_idx_stat] kmer size: 21; skip: 11; is_hpc: 0; #seq: 4\n",
      "[M::mm_idx_stat::0.066*1.53] distinct minimizers: 204682 (99.53% are singletons); average occurrences: 1.006; average spacing: 5.982\n",
      "[M::worker_pipeline::3.241*3.06] mapped 295760 sequences\n",
      "[M::main] Version: 2.17-r941\n",
      "[M::main] CMD: minimap2 -ax sr -t 4 Clone10_FLYE_RACONx2_MEDAKA.fasta /home/jovyan/work/DATA/Clone10/ILL/Clone10_R1.fastq.gz /home/jovyan/work/DATA/Clone10/ILL/Clone10_R2.fastq.gz\n",
      "[M::main] Real time: 3.246 sec; CPU: 9.917 sec; Peak RSS: 0.178 GB\n",
      "(base) (base) 295737\n",
      "(base) "
     ]
    },
    {
     "ename": "",
     "evalue": "1",
     "output_type": "error",
     "traceback": []
    }
   ],
   "source": [
    "#minimap2 -ax sr ref.fa read1.fq read2.fq > aln.sam\n",
    "minimap2 -ax sr -t 4 ${ASSEMBLY} ${ILLUMINA_R1} ${ILLUMINA_R2} | samtools sort -@ 1 -T \"${ASSEMBLY/.fasta/}\" -O BAM -o \"${ASSEMBLY/.fasta/_ILL_minimap2.bam}\" -\n",
    "samtools index \"${ASSEMBLY/.fasta/_ILL_minimap2.bam}\"\n",
    "samtools view -F 0x904 -c \"${ASSEMBLY/.fasta/_ILL_minimap2.bam}\""
   ]
  },
  {
   "cell_type": "markdown",
   "id": "06280206",
   "metadata": {},
   "source": [
    "### What is the percentage of aligned ONT and ILLUMINa reads in your clone assembly?"
   ]
  },
  {
   "cell_type": "markdown",
   "id": "5311c01b",
   "metadata": {},
   "source": [
    "## <span style=\"color: #4CACBD;\"> 4. Blobtools </span>\n",
    "\n",
    "During the sequence quality assessment stage we tried to discern whether contamination was present. Sometimes this is not feasible at the read level. By plotting Contig GC content vs Contig Read Coverage we can look for clusters of contigs that share similar coverage. The appearance of multiple clusters can indicate multiple organisms. Occasionally, contigs can also be taxonomically classified, providing further evidence for contaminants.\n",
    "\n",
    "First we need to download some files"
   ]
  },
  {
   "cell_type": "code",
   "execution_count": 16,
   "id": "4d011647",
   "metadata": {},
   "outputs": [
    {
     "name": "stdout",
     "output_type": "stream",
     "text": [
      "(base) --2022-11-10 16:07:44--  https://itrop.ird.fr/ont-training/blobtools.tar.gz\n",
      "Resolving itrop.ird.fr (itrop.ird.fr)... 91.203.35.184\n",
      "Connecting to itrop.ird.fr (itrop.ird.fr)|91.203.35.184|:443... connected.\n",
      "HTTP request sent, awaiting response... 200 OK\n",
      "Length: 100114880 (95M) [application/x-gzip]\n",
      "Saving to: ‘blobtools.tar.gz’\n",
      "\n",
      "blobtools.tar.gz    100%[===================>]  95.48M  11.2MB/s    in 8.5s    \n",
      "\n",
      "2022-11-10 16:07:53 (11.2 MB/s) - ‘blobtools.tar.gz’ saved [100114880/100114880]\n",
      "\n",
      "FINISHED --2022-11-10 16:07:53--\n",
      "Total wall clock time: 8.6s\n",
      "Downloaded: 1 files, 95M in 8.5s (11.2 MB/s)\n",
      "(base) blobtools/\n",
      "blobtools/taxdump.tar.gz\n",
      "blobtools/names.dmp\n",
      "blobtools/nodes.dmp\n",
      "(base) --2022-11-10 16:07:55--  https://itrop.ird.fr/ont-training/testBacteria.dmnd\n",
      "Resolving itrop.ird.fr (itrop.ird.fr)... 91.203.35.184\n",
      "Connecting to itrop.ird.fr (itrop.ird.fr)|91.203.35.184|:443... connected.\n",
      "HTTP request sent, awaiting response... 200 OK\n",
      "Length: 214010272 (204M)\n",
      "Saving to: ‘testBacteria.dmnd’\n",
      "\n",
      "testBacteria.dmnd   100%[===================>] 204.10M  11.2MB/s    in 18s     \n",
      "\n",
      "2022-11-10 16:08:13 (11.2 MB/s) - ‘testBacteria.dmnd’ saved [214010272/214010272]\n",
      "\n",
      "FINISHED --2022-11-10 16:08:13--\n",
      "Total wall clock time: 18s\n",
      "Downloaded: 1 files, 204M in 18s (11.2 MB/s)\n",
      "(base) "
     ]
    },
    {
     "ename": "",
     "evalue": "1",
     "output_type": "error",
     "traceback": []
    }
   ],
   "source": [
    "cd ~/work/DATA\n",
    "wget --no-check-certificat -rm -nH --cut-dirs=1 --reject=\"index.html*\" https://itrop.ird.fr/ont-training/blobtools.tar.gz\n",
    "tar zxvf blobtools.tar.gz\n",
    "wget --no-check-certificat -rm -nH --cut-dirs=1 --reject=\"index.html*\" https://itrop.ird.fr/ont-training/testBacteria.dmnd"
   ]
  },
  {
   "cell_type": "markdown",
   "id": "e93a8cf9",
   "metadata": {},
   "source": [
    "Run Blobtools on each assembly. Blobtools requires both a BAM file as input and blast output for the classification step.2."
   ]
  },
  {
   "cell_type": "code",
   "execution_count": 23,
   "id": "4aa3cd18",
   "metadata": {},
   "outputs": [
    {
     "name": "stdout",
     "output_type": "stream",
     "text": [
      "(base) (base) "
     ]
    },
    {
     "ename": "",
     "evalue": "1",
     "output_type": "error",
     "traceback": []
    }
   ],
   "source": [
    "mkdir -p ~/work/RESULTS/BLOBTOOLS\n",
    "cd ~/work/RESULTS/BLOBTOOLS"
   ]
  },
  {
   "cell_type": "markdown",
   "id": "24abae55",
   "metadata": {},
   "source": [
    "### Blastx using diamond "
   ]
  },
  {
   "cell_type": "markdown",
   "id": "b1514305",
   "metadata": {},
   "source": [
    "Run diamond in blastx mode using assembled contigs vs a pre-formatted diamond bacteria database (protein)"
   ]
  },
  {
   "cell_type": "code",
   "execution_count": 24,
   "id": "a01cc1b7",
   "metadata": {},
   "outputs": [
    {
     "name": "stdout",
     "output_type": "stream",
     "text": [
      "(base) (base) (base) (base) (base) (base) "
     ]
    },
    {
     "ename": "",
     "evalue": "1",
     "output_type": "error",
     "traceback": []
    }
   ],
   "source": [
    "#prepare assembly file\n",
    "ASSEMBLY=\"/home/jovyan/work/RESULTS/FLYE_RACON_MEDAKA/MEDAKA_CONSENSUS/consensus.fasta\"\n",
    "#symbolic link from last assembly in the current repertory BLOBTOOLs\n",
    "ln -s ${ASSEMBLY} ${CLONE}_FLYE_RACONx2_MEDAKA.fasta\n",
    "# overwrite ASSEMBLY variable\n",
    "ASSEMBLY=${CLONE}_FLYE_RACONx2_MEDAKA.fasta"
   ]
  },
  {
   "cell_type": "code",
   "execution_count": 25,
   "id": "1a850f9f",
   "metadata": {
    "collapsed": true,
    "jupyter": {
     "outputs_hidden": true
    },
    "tags": []
   },
   "outputs": [
    {
     "name": "stdout",
     "output_type": "stream",
     "text": [
      "diamond v2.0.15.153 (C) Max Planck Society for the Advancement of Science\n",
      "Documentation, support and updates available at http://www.diamondsearch.org\n",
      "Please cite: http://dx.doi.org/10.1038/s41592-021-01101-x Nature Methods (2021)\n",
      "\n",
      "#CPU threads: 4\n",
      "Scoring parameters: (Matrix=BLOSUM62 Lambda=0.267 K=0.041 Penalties=11/1)\n",
      "Temporary directory: \n",
      "#Target sequences to report alignments for: 1\n",
      "Opening the database...  [0.093s]\n",
      "Database: /home/jovyan/work/DATA/testBacteria.dmnd (type: Diamond database, sequences: 271272, letters: 174523808)\n",
      "Block size = 2000000000\n",
      "Opening the input file...  [0s]\n",
      "Opening the output file...  [0s]\n",
      "Loading query sequences...  [0.022s]\n",
      "Masking queries...  [0.135s]\n",
      "Algorithm: Double-indexed\n",
      "Building query histograms...  [0.114s]\n",
      "Allocating buffers...  [0s]\n",
      "Loading reference sequences...  [0.424s]\n",
      "Masking reference...  [2.633s]\n",
      "Initializing temporary storage...  [0s]\n",
      "Building reference histograms...  [4.557s]\n",
      "Allocating buffers...  [0s]\n",
      "Processing query block 1, reference block 1/1, shape 1/16, index chunk 1/4.\n",
      "Building reference seed array...  [0.353s]\n",
      "Building query seed array...  [0.012s]\n",
      "Computing hash join...  [0.06s]\n",
      "Masking low complexity seeds...  [0.003s]\n",
      "Searching alignments...  [0.045s]\n",
      "Processing query block 1, reference block 1/1, shape 1/16, index chunk 2/4.\n",
      "Building reference seed array...  [0.397s]\n",
      "Building query seed array...  [0.014s]\n",
      "Computing hash join...  [0.054s]\n",
      "Masking low complexity seeds...  [0.003s]\n",
      "Searching alignments...  [0.038s]\n",
      "Processing query block 1, reference block 1/1, shape 1/16, index chunk 3/4.\n",
      "Building reference seed array...  [0.408s]\n",
      "Building query seed array...  [0.015s]\n",
      "Computing hash join...  [0.053s]\n",
      "Masking low complexity seeds...  [0.002s]\n",
      "Searching alignments...  [0.045s]\n",
      "Processing query block 1, reference block 1/1, shape 1/16, index chunk 4/4.\n",
      "Building reference seed array...  [0.338s]\n",
      "Building query seed array...  [0.015s]\n",
      "Computing hash join...  [0.05s]\n",
      "Masking low complexity seeds...  [0.002s]\n",
      "Searching alignments...  [0.04s]\n",
      "Processing query block 1, reference block 1/1, shape 2/16, index chunk 1/4.\n",
      "Building reference seed array...  [0.407s]\n",
      "Building query seed array...  [0.014s]\n",
      "Computing hash join...  [0.049s]\n",
      "Masking low complexity seeds...  [0.007s]\n",
      "Searching alignments...  [0.044s]\n",
      "Processing query block 1, reference block 1/1, shape 2/16, index chunk 2/4.\n",
      "Building reference seed array...  [0.406s]\n",
      "Building query seed array...  [0.017s]\n",
      "Computing hash join...  [0.053s]\n",
      "Masking low complexity seeds...  [0.003s]\n",
      "Searching alignments...  [0.046s]\n",
      "Processing query block 1, reference block 1/1, shape 2/16, index chunk 3/4.\n",
      "Building reference seed array...  [0.408s]\n",
      "Building query seed array...  [0.016s]\n",
      "Computing hash join...  [0.05s]\n",
      "Masking low complexity seeds...  [0.006s]\n",
      "Searching alignments...  [0.043s]\n",
      "Processing query block 1, reference block 1/1, shape 2/16, index chunk 4/4.\n",
      "Building reference seed array...  [0.352s]\n",
      "Building query seed array...  [0.012s]\n",
      "Computing hash join...  [0.052s]\n",
      "Masking low complexity seeds...  [0.004s]\n",
      "Searching alignments...  [0.045s]\n",
      "Processing query block 1, reference block 1/1, shape 3/16, index chunk 1/4.\n",
      "Building reference seed array...  [0.346s]\n",
      "Building query seed array...  [0.011s]\n",
      "Computing hash join...  [0.056s]\n",
      "Masking low complexity seeds...  [0.003s]\n",
      "Searching alignments...  [0.042s]\n",
      "Processing query block 1, reference block 1/1, shape 3/16, index chunk 2/4.\n",
      "Building reference seed array...  [0.395s]\n",
      "Building query seed array...  [0.016s]\n",
      "Computing hash join...  [0.055s]\n",
      "Masking low complexity seeds...  [0.002s]\n",
      "Searching alignments...  [0.034s]\n",
      "Processing query block 1, reference block 1/1, shape 3/16, index chunk 3/4.\n",
      "Building reference seed array...  [0.41s]\n",
      "Building query seed array...  [0.017s]\n",
      "Computing hash join...  [0.044s]\n",
      "Masking low complexity seeds...  [0.002s]\n",
      "Searching alignments...  [0.033s]\n",
      "Processing query block 1, reference block 1/1, shape 3/16, index chunk 4/4.\n",
      "Building reference seed array...  [0.336s]\n",
      "Building query seed array...  [0.016s]\n",
      "Computing hash join...  [0.046s]\n",
      "Masking low complexity seeds...  [0.002s]\n",
      "Searching alignments...  [0.034s]\n",
      "Processing query block 1, reference block 1/1, shape 4/16, index chunk 1/4.\n",
      "Building reference seed array...  [0.344s]\n",
      "Building query seed array...  [0.015s]\n",
      "Computing hash join...  [0.044s]\n",
      "Masking low complexity seeds...  [0.003s]\n",
      "Searching alignments...  [0.035s]\n",
      "Processing query block 1, reference block 1/1, shape 4/16, index chunk 2/4.\n",
      "Building reference seed array...  [0.359s]\n",
      "Building query seed array...  [0.014s]\n",
      "Computing hash join...  [0.043s]\n",
      "Masking low complexity seeds...  [0.002s]\n",
      "Searching alignments...  [0.032s]\n",
      "Processing query block 1, reference block 1/1, shape 4/16, index chunk 3/4.\n",
      "Building reference seed array...  [0.398s]\n",
      "Building query seed array...  [0.016s]\n",
      "Computing hash join...  [0.047s]\n",
      "Masking low complexity seeds...  [0.002s]\n",
      "Searching alignments...  [0.035s]\n",
      "Processing query block 1, reference block 1/1, shape 4/16, index chunk 4/4.\n",
      "Building reference seed array...  [0.376s]\n",
      "Building query seed array...  [0.013s]\n",
      "Computing hash join...  [0.053s]\n",
      "Masking low complexity seeds...  [0.002s]\n",
      "Searching alignments...  [0.046s]\n",
      "Processing query block 1, reference block 1/1, shape 5/16, index chunk 1/4.\n",
      "Building reference seed array...  [0.354s]\n",
      "Building query seed array...  [0.013s]\n",
      "Computing hash join...  [0.045s]\n",
      "Masking low complexity seeds...  [0.003s]\n",
      "Searching alignments...  [0.035s]\n",
      "Processing query block 1, reference block 1/1, shape 5/16, index chunk 2/4.\n",
      "Building reference seed array...  [0.441s]\n",
      "Building query seed array...  [0.016s]\n",
      "Computing hash join...  [0.066s]\n",
      "Masking low complexity seeds...  [0.006s]\n",
      "Searching alignments...  [0.052s]\n",
      "Processing query block 1, reference block 1/1, shape 5/16, index chunk 3/4.\n",
      "Building reference seed array...  [0.572s]\n",
      "Building query seed array...  [0.018s]\n",
      "Computing hash join...  [0.05s]\n",
      "Masking low complexity seeds...  [0.003s]\n",
      "Searching alignments...  [0.038s]\n",
      "Processing query block 1, reference block 1/1, shape 5/16, index chunk 4/4.\n",
      "Building reference seed array...  [0.533s]\n",
      "Building query seed array...  [0.014s]\n",
      "Computing hash join...  [0.054s]\n",
      "Masking low complexity seeds...  [0.003s]\n",
      "Searching alignments...  [0.038s]\n",
      "Processing query block 1, reference block 1/1, shape 6/16, index chunk 1/4.\n",
      "Building reference seed array...  [0.438s]\n",
      "Building query seed array...  [0.013s]\n",
      "Computing hash join...  [0.05s]\n",
      "Masking low complexity seeds...  [0.002s]\n",
      "Searching alignments...  [0.034s]\n",
      "Processing query block 1, reference block 1/1, shape 6/16, index chunk 2/4.\n",
      "Building reference seed array...  [0.398s]\n",
      "Building query seed array...  [0.015s]\n",
      "Computing hash join...  [0.044s]\n",
      "Masking low complexity seeds...  [0.002s]\n",
      "Searching alignments...  [0.036s]\n",
      "Processing query block 1, reference block 1/1, shape 6/16, index chunk 3/4.\n",
      "Building reference seed array...  [0.417s]\n",
      "Building query seed array...  [0.014s]\n",
      "Computing hash join...  [0.05s]\n",
      "Masking low complexity seeds...  [0.007s]\n",
      "Searching alignments...  [0.04s]\n",
      "Processing query block 1, reference block 1/1, shape 6/16, index chunk 4/4.\n",
      "Building reference seed array...  [0.33s]\n",
      "Building query seed array...  [0.013s]\n",
      "Computing hash join...  [0.045s]\n",
      "Masking low complexity seeds...  [0.002s]\n",
      "Searching alignments...  [0.035s]\n",
      "Processing query block 1, reference block 1/1, shape 7/16, index chunk 1/4.\n",
      "Building reference seed array...  [0.339s]\n",
      "Building query seed array...  [0.012s]\n",
      "Computing hash join...  [0.045s]\n",
      "Masking low complexity seeds...  [0.002s]\n",
      "Searching alignments...  [0.035s]\n",
      "Processing query block 1, reference block 1/1, shape 7/16, index chunk 2/4.\n",
      "Building reference seed array...  [0.376s]\n",
      "Building query seed array...  [0.013s]\n",
      "Computing hash join...  [0.045s]\n",
      "Masking low complexity seeds...  [0.002s]\n",
      "Searching alignments...  [0.036s]\n",
      "Processing query block 1, reference block 1/1, shape 7/16, index chunk 3/4.\n",
      "Building reference seed array...  [0.38s]\n",
      "Building query seed array...  [0.015s]\n",
      "Computing hash join...  [0.044s]\n",
      "Masking low complexity seeds...  [0.002s]\n",
      "Searching alignments...  [0.033s]\n",
      "Processing query block 1, reference block 1/1, shape 7/16, index chunk 4/4.\n",
      "Building reference seed array...  [0.341s]\n",
      "Building query seed array...  [0.012s]\n",
      "Computing hash join...  [0.044s]\n",
      "Masking low complexity seeds...  [0.002s]\n",
      "Searching alignments...  [0.041s]\n",
      "Processing query block 1, reference block 1/1, shape 8/16, index chunk 1/4.\n",
      "Building reference seed array...  [0.324s]\n",
      "Building query seed array...  [0.014s]\n",
      "Computing hash join...  [0.044s]\n",
      "Masking low complexity seeds...  [0.003s]\n",
      "Searching alignments...  [0.033s]\n",
      "Processing query block 1, reference block 1/1, shape 8/16, index chunk 2/4.\n",
      "Building reference seed array...  [0.423s]\n",
      "Building query seed array...  [0.015s]\n",
      "Computing hash join...  [0.046s]\n",
      "Masking low complexity seeds...  [0.003s]\n",
      "Searching alignments...  [0.041s]\n",
      "Processing query block 1, reference block 1/1, shape 8/16, index chunk 3/4.\n",
      "Building reference seed array...  [0.381s]\n",
      "Building query seed array...  [0.015s]\n",
      "Computing hash join...  [0.043s]\n",
      "Masking low complexity seeds...  [0.002s]\n",
      "Searching alignments...  [0.032s]\n",
      "Processing query block 1, reference block 1/1, shape 8/16, index chunk 4/4.\n",
      "Building reference seed array...  [0.342s]\n",
      "Building query seed array...  [0.014s]\n",
      "Computing hash join...  [0.047s]\n",
      "Masking low complexity seeds...  [0.003s]\n",
      "Searching alignments...  [0.034s]\n",
      "Processing query block 1, reference block 1/1, shape 9/16, index chunk 1/4.\n",
      "Building reference seed array...  [0.329s]\n",
      "Building query seed array...  [0.012s]\n",
      "Computing hash join...  [0.045s]\n",
      "Masking low complexity seeds...  [0.003s]\n",
      "Searching alignments...  [0.034s]\n",
      "Processing query block 1, reference block 1/1, shape 9/16, index chunk 2/4.\n",
      "Building reference seed array...  [0.376s]\n",
      "Building query seed array...  [0.013s]\n",
      "Computing hash join...  [0.045s]\n",
      "Masking low complexity seeds...  [0.003s]\n",
      "Searching alignments...  [0.033s]\n",
      "Processing query block 1, reference block 1/1, shape 9/16, index chunk 3/4.\n",
      "Building reference seed array...  [0.402s]\n",
      "Building query seed array...  [0.013s]\n",
      "Computing hash join...  [0.043s]\n",
      "Masking low complexity seeds...  [0.002s]\n",
      "Searching alignments...  [0.033s]\n",
      "Processing query block 1, reference block 1/1, shape 9/16, index chunk 4/4.\n",
      "Building reference seed array...  [0.346s]\n",
      "Building query seed array...  [0.01s]\n",
      "Computing hash join...  [0.046s]\n",
      "Masking low complexity seeds...  [0.003s]\n",
      "Searching alignments...  [0.034s]\n",
      "Processing query block 1, reference block 1/1, shape 10/16, index chunk 1/4.\n",
      "Building reference seed array...  [0.335s]\n",
      "Building query seed array...  [0.01s]\n",
      "Computing hash join...  [0.043s]\n",
      "Masking low complexity seeds...  [0.002s]\n",
      "Searching alignments...  [0.033s]\n",
      "Processing query block 1, reference block 1/1, shape 10/16, index chunk 2/4.\n",
      "Building reference seed array...  [0.373s]\n",
      "Building query seed array...  [0.014s]\n",
      "Computing hash join...  [0.042s]\n",
      "Masking low complexity seeds...  [0.002s]\n",
      "Searching alignments...  [0.032s]\n",
      "Processing query block 1, reference block 1/1, shape 10/16, index chunk 3/4.\n",
      "Building reference seed array...  [0.398s]\n",
      "Building query seed array...  [0.015s]\n",
      "Computing hash join...  [0.044s]\n",
      "Masking low complexity seeds...  [0.002s]\n",
      "Searching alignments...  [0.034s]\n",
      "Processing query block 1, reference block 1/1, shape 10/16, index chunk 4/4.\n",
      "Building reference seed array...  [0.326s]\n",
      "Building query seed array...  [0.013s]\n",
      "Computing hash join...  [0.044s]\n",
      "Masking low complexity seeds...  [0.003s]\n",
      "Searching alignments...  [0.034s]\n",
      "Processing query block 1, reference block 1/1, shape 11/16, index chunk 1/4.\n",
      "Building reference seed array...  [0.319s]\n",
      "Building query seed array...  [0.011s]\n",
      "Computing hash join...  [0.045s]\n",
      "Masking low complexity seeds...  [0.003s]\n",
      "Searching alignments...  [0.034s]\n",
      "Processing query block 1, reference block 1/1, shape 11/16, index chunk 2/4.\n",
      "Building reference seed array...  [0.407s]\n",
      "Building query seed array...  [0.014s]\n",
      "Computing hash join...  [0.044s]\n",
      "Masking low complexity seeds...  [0.003s]\n",
      "Searching alignments...  [0.048s]\n",
      "Processing query block 1, reference block 1/1, shape 11/16, index chunk 3/4.\n",
      "Building reference seed array...  [0.392s]\n",
      "Building query seed array...  [0.015s]\n",
      "Computing hash join...  [0.043s]\n",
      "Masking low complexity seeds...  [0.002s]\n",
      "Searching alignments...  [0.032s]\n",
      "Processing query block 1, reference block 1/1, shape 11/16, index chunk 4/4.\n",
      "Building reference seed array...  [0.336s]\n",
      "Building query seed array...  [0.013s]\n",
      "Computing hash join...  [0.043s]\n",
      "Masking low complexity seeds...  [0.003s]\n",
      "Searching alignments...  [0.033s]\n",
      "Processing query block 1, reference block 1/1, shape 12/16, index chunk 1/4.\n",
      "Building reference seed array...  [0.323s]\n",
      "Building query seed array...  [0.012s]\n",
      "Computing hash join...  [0.049s]\n",
      "Masking low complexity seeds...  [0.003s]\n",
      "Searching alignments...  [0.046s]\n",
      "Processing query block 1, reference block 1/1, shape 12/16, index chunk 2/4.\n",
      "Building reference seed array...  [0.408s]\n",
      "Building query seed array...  [0.015s]\n",
      "Computing hash join...  [0.06s]\n",
      "Masking low complexity seeds...  [0.003s]\n",
      "Searching alignments...  [0.043s]\n",
      "Processing query block 1, reference block 1/1, shape 12/16, index chunk 3/4.\n",
      "Building reference seed array...  [0.417s]\n",
      "Building query seed array...  [0.018s]\n",
      "Computing hash join...  [0.044s]\n",
      "Masking low complexity seeds...  [0.002s]\n",
      "Searching alignments...  [0.034s]\n",
      "Processing query block 1, reference block 1/1, shape 12/16, index chunk 4/4.\n",
      "Building reference seed array...  [0.335s]\n",
      "Building query seed array...  [0.012s]\n",
      "Computing hash join...  [0.043s]\n",
      "Masking low complexity seeds...  [0.002s]\n",
      "Searching alignments...  [0.033s]\n",
      "Processing query block 1, reference block 1/1, shape 13/16, index chunk 1/4.\n",
      "Building reference seed array...  [0.365s]\n",
      "Building query seed array...  [0.012s]\n",
      "Computing hash join...  [0.044s]\n",
      "Masking low complexity seeds...  [0.002s]\n",
      "Searching alignments...  [0.032s]\n",
      "Processing query block 1, reference block 1/1, shape 13/16, index chunk 2/4.\n",
      "Building reference seed array...  [0.374s]\n",
      "Building query seed array...  [0.014s]\n",
      "Computing hash join...  [0.044s]\n",
      "Masking low complexity seeds...  [0.002s]\n",
      "Searching alignments...  [0.032s]\n",
      "Processing query block 1, reference block 1/1, shape 13/16, index chunk 3/4.\n",
      "Building reference seed array...  [0.443s]\n",
      "Building query seed array...  [0.015s]\n",
      "Computing hash join...  [0.044s]\n",
      "Masking low complexity seeds...  [0.002s]\n",
      "Searching alignments...  [0.04s]\n",
      "Processing query block 1, reference block 1/1, shape 13/16, index chunk 4/4.\n",
      "Building reference seed array...  [0.375s]\n",
      "Building query seed array...  [0.014s]\n",
      "Computing hash join...  [0.049s]\n",
      "Masking low complexity seeds...  [0.003s]\n",
      "Searching alignments...  [0.044s]\n",
      "Processing query block 1, reference block 1/1, shape 14/16, index chunk 1/4.\n",
      "Building reference seed array...  [0.377s]\n",
      "Building query seed array...  [0.014s]\n",
      "Computing hash join...  [0.054s]\n",
      "Masking low complexity seeds...  [0.007s]\n",
      "Searching alignments...  [0.036s]\n",
      "Processing query block 1, reference block 1/1, shape 14/16, index chunk 2/4.\n",
      "Building reference seed array...  [0.385s]\n",
      "Building query seed array...  [0.013s]\n",
      "Computing hash join...  [0.045s]\n",
      "Masking low complexity seeds...  [0.003s]\n",
      "Searching alignments...  [0.054s]\n",
      "Processing query block 1, reference block 1/1, shape 14/16, index chunk 3/4.\n",
      "Building reference seed array...  [0.399s]\n",
      "Building query seed array...  [0.019s]\n",
      "Computing hash join...  [0.055s]\n",
      "Masking low complexity seeds...  [0.003s]\n",
      "Searching alignments...  [0.043s]\n",
      "Processing query block 1, reference block 1/1, shape 14/16, index chunk 4/4.\n",
      "Building reference seed array...  [0.403s]\n",
      "Building query seed array...  [0.012s]\n",
      "Computing hash join...  [0.045s]\n",
      "Masking low complexity seeds...  [0.003s]\n",
      "Searching alignments...  [0.04s]\n",
      "Processing query block 1, reference block 1/1, shape 15/16, index chunk 1/4.\n",
      "Building reference seed array...  [0.34s]\n",
      "Building query seed array...  [0.011s]\n",
      "Computing hash join...  [0.045s]\n",
      "Masking low complexity seeds...  [0.002s]\n",
      "Searching alignments...  [0.037s]\n",
      "Processing query block 1, reference block 1/1, shape 15/16, index chunk 2/4.\n",
      "Building reference seed array...  [0.387s]\n",
      "Building query seed array...  [0.015s]\n",
      "Computing hash join...  [0.043s]\n",
      "Masking low complexity seeds...  [0.002s]\n",
      "Searching alignments...  [0.033s]\n",
      "Processing query block 1, reference block 1/1, shape 15/16, index chunk 3/4.\n",
      "Building reference seed array...  [0.388s]\n",
      "Building query seed array...  [0.015s]\n",
      "Computing hash join...  [0.064s]\n",
      "Masking low complexity seeds...  [0.009s]\n",
      "Searching alignments...  [0.055s]\n",
      "Processing query block 1, reference block 1/1, shape 15/16, index chunk 4/4.\n",
      "Building reference seed array...  [0.407s]\n",
      "Building query seed array...  [0.011s]\n",
      "Computing hash join...  [0.045s]\n",
      "Masking low complexity seeds...  [0.003s]\n",
      "Searching alignments...  [0.033s]\n",
      "Processing query block 1, reference block 1/1, shape 16/16, index chunk 1/4.\n",
      "Building reference seed array...  [0.408s]\n",
      "Building query seed array...  [0.015s]\n",
      "Computing hash join...  [0.056s]\n",
      "Masking low complexity seeds...  [0.003s]\n",
      "Searching alignments...  [0.061s]\n",
      "Processing query block 1, reference block 1/1, shape 16/16, index chunk 2/4.\n",
      "Building reference seed array...  [0.429s]\n",
      "Building query seed array...  [0.013s]\n",
      "Computing hash join...  [0.047s]\n",
      "Masking low complexity seeds...  [0.003s]\n",
      "Searching alignments...  [0.045s]\n",
      "Processing query block 1, reference block 1/1, shape 16/16, index chunk 3/4.\n",
      "Building reference seed array...  [0.458s]\n",
      "Building query seed array...  [0.017s]\n",
      "Computing hash join...  [0.045s]\n",
      "Masking low complexity seeds...  [0.003s]\n",
      "Searching alignments...  [0.034s]\n",
      "Processing query block 1, reference block 1/1, shape 16/16, index chunk 4/4.\n",
      "Building reference seed array...  [0.348s]\n",
      "Building query seed array...  [0.014s]\n",
      "Computing hash join...  [0.049s]\n",
      "Masking low complexity seeds...  [0.003s]\n",
      "Searching alignments...  [0.047s]\n",
      "Deallocating buffers...  [0.009s]\n",
      "Clearing query masking...  [0s]\n",
      "Computing alignments...  [0.725s]\n",
      "Deallocating reference...  [0.008s]\n",
      "Loading reference sequences...  [0s]\n",
      "Deallocating buffers...  [0s]\n",
      "Deallocating queries...  [0s]\n",
      "Loading query sequences...  [0s]\n",
      "Closing the input file...  [0s]\n",
      "Closing the output file...  [0s]\n",
      "Cleaning up...  [0s]\n",
      "Total time = 40.121s\n",
      "Reported 2 pairwise alignments, 2 HSPs.\n",
      "2 queries aligned.\n",
      "\n",
      "real\t0m40.137s\n",
      "user\t2m30.986s\n",
      "sys\t0m0.571s\n",
      "(base) "
     ]
    },
    {
     "ename": "",
     "evalue": "1",
     "output_type": "error",
     "traceback": []
    }
   ],
   "source": [
    "time diamond blastx --query ${ASSEMBLY}  --db ~/work/DATA/testBacteria.dmnd  --outfmt 6 qseqid staxids bitscore qseqid sseqid pident length mismatch gapopen qstart qend sstart send evalue bitscore --sensitive  --max-target-seqs 1  --evalue 1e-25  --threads 4  --out diamond.csv"
   ]
  },
  {
   "cell_type": "code",
   "execution_count": 26,
   "id": "949b3b65",
   "metadata": {},
   "outputs": [
    {
     "name": "stdout",
     "output_type": "stream",
     "text": [
      "contig_2\t1176587\t166\tcontig_2\ttr|A0A1A9I345|A0A1A9I345_9BACT\t34.5\t316\t195\t7\t29686\t30612\t58\t368\t4.91e-42\t166\n",
      "contig_4\t445710\t655\tcontig_4\ttr|A0A161JJ15|A0A161JJ15_9GAMM\t55.4\t632\t261\t7\t4420\t2570\t2\t627\t3.19e-208\t655\n",
      "(base) "
     ]
    },
    {
     "ename": "",
     "evalue": "1",
     "output_type": "error",
     "traceback": []
    }
   ],
   "source": [
    "head diamond.csv"
   ]
  },
  {
   "cell_type": "code",
   "execution_count": 27,
   "id": "2cd972ba-2d3c-4575-a756-40a9aeeb9c1f",
   "metadata": {},
   "outputs": [
    {
     "name": "stdout",
     "output_type": "stream",
     "text": [
      "/home/jovyan/work/RESULTS/BLOBTOOLS\n",
      "(base) "
     ]
    },
    {
     "ename": "",
     "evalue": "1",
     "output_type": "error",
     "traceback": []
    }
   ],
   "source": [
    "pwd"
   ]
  },
  {
   "cell_type": "markdown",
   "id": "bc24364e",
   "metadata": {},
   "source": [
    "### Run blobtools "
   ]
  },
  {
   "cell_type": "markdown",
   "id": "0b521dd5",
   "metadata": {},
   "source": [
    "Specifically to Blobtools: * nodes and names from ncbi taxdump database can be download from [here](https://github.com/DRL/blobtools#download-ncbi-taxdump-and-create-nodesdb).\n",
    "\n",
    "In this training nodes and names are available on the DATA directory"
   ]
  },
  {
   "cell_type": "code",
   "execution_count": 28,
   "id": "f541ff14",
   "metadata": {},
   "outputs": [
    {
     "name": "stdout",
     "output_type": "stream",
     "text": [
      "(base) (base) (base) (base) "
     ]
    },
    {
     "ename": "",
     "evalue": "1",
     "output_type": "error",
     "traceback": []
    }
   ],
   "source": [
    "BAM=~/work/RESULTS/REMAPPING/${ASSEMBLY/.fasta/_ONT_minimap2.bam}\n",
    "DIAMONDX=~/work/RESULTS/BLOBTOOLS/diamond.csv\n",
    "BLOB_NODES=~/work/DATA/blobtools/nodes.dmp\n",
    "BLOB_NAMES=~/work/DATA/blobtools/names.dmp"
   ]
  },
  {
   "cell_type": "code",
   "execution_count": 29,
   "id": "7edc3247",
   "metadata": {},
   "outputs": [
    {
     "name": "stdout",
     "output_type": "stream",
     "text": [
      "[+] Parsing FASTA - Clone10_FLYE_RACONx2_MEDAKA.fasta\n",
      "[+] Store nodesDB in nodesDB.txt\n",
      "[%] : 100%|████████████████████████████████████████████████████████████████████████████████████████████████████████████████████████████████████████████████████████| 2.33M/2.33M [00:02<00:00, 846kit/s]\n",
      "[+] Parsing tax0 - /home/jovyan/work/RESULTS/BLOBTOOLS/diamond.csv\n",
      "[+] Computing taxonomy using taxrule(s) bestsum\n",
      "[%] : 100%|█████████████████████████████████████████████████████████████████████████████████████████████████████████████████████████████████████████████████████████| 4.00/4.00 [00:00<00:00, 29.1kit/s]\n",
      "[+] Parsing bam0 - /home/jovyan/work/RESULTS/REMAPPING/Clone10_FLYE_RACONx2_MEDAKA_ONT_minimap2.bam\n",
      "[+] -> 100.00 (4/4) of sequences have reads aligned to them.\n",
      "[+] -> 100.00 (11235/11235) of reads are mapped.\n",
      "[%] : 100%|██████████████████████████████████████████████████████████████████████████████████████████████████████████████████████████████████████████████████████████| 4.00/4.00 [00:01<00:00, 3.20it/s]\n",
      "[+] Generating data for view\n",
      "[%] : 100%|██████████████████████████████████████████████████████████████████████████████████████████████████████████████████████████████████████████████████████████| 4.00/4.00 [00:00<00:00, 138kit/s]\n",
      "[+] \tWriting quality.Clone10_FLYE_RACONx2_MEDAKA_ONT_minimap2.bam.cov\n",
      "[+] Generating BlobDB and writing to file quality.blobDB.json\n",
      "(base) "
     ]
    },
    {
     "ename": "",
     "evalue": "1",
     "output_type": "error",
     "traceback": []
    }
   ],
   "source": [
    "blobtools create -i ${ASSEMBLY} -b ${BAM} -t ${DIAMONDX} -o quality --names ${BLOB_NAMES} --nodes ${BLOB_NODES} --db nodesDB.txt"
   ]
  },
  {
   "cell_type": "code",
   "execution_count": 30,
   "id": "3571693e",
   "metadata": {
    "tags": []
   },
   "outputs": [
    {
     "name": "stdout",
     "output_type": "stream",
     "text": [
      "[+] Reading BlobDB quality.blobDB.json\n",
      "[+] \tLoading BlobDB into memory ...\n",
      "[+] \tDeserialising BlobDB (using 'json' module) (this may take a while, consider installing the 'ujson' module) ...\n",
      "[+] \tFinished in 0.00029659271240234375s\n",
      "[+] Preparing view(s) ...\n",
      "[+] Generating data for view\n",
      "[%] : 100%|█████████████████████████████████████████████████████████████████████████████████████████████████████████████████████████████████████████████████████████| 4.00/4.00 [00:00<00:00, 56.9kit/s]\n",
      "[+] \tWriting output.Clone10_FLYE_RACONx2_MEDAKA_ONT_minimap2.bam.cov\n",
      "[+] Generating data for view\n",
      "[%] : 100%|█████████████████████████████████████████████████████████████████████████████████████████████████████████████████████████████████████████████████████████| 4.00/4.00 [00:00<00:00, 42.4kit/s]\n",
      "[+] \tWriting output.quality.blobDB.table.txt\n",
      "[+] Writing output ...\n",
      "(base) [+] Reading BlobDB quality.blobDB.json\n",
      "[+] \tLoading BlobDB into memory ...\n",
      "[+] \tDeserialising BlobDB (using 'json' module) (this may take a while, consider installing the 'ujson' module) ...\n",
      "[+] \tFinished in 0.0002548694610595703s\n",
      "[+] Extracting data for plots ...\n",
      "[I]\tno-hit : sequences = 2, span = 1.13 MB, N50 = 1,105,220 nt\n",
      "[I]\tProteobacteria : sequences = 1, span = 0.05 MB, N50 = 49,654 nt\n",
      "[I]\tBacteroidetes : sequences = 1, span = 0.05 MB, N50 = 49,378 nt\n",
      "[+] Plotting quality.blobDB.json.bestsum.phylum.p8.span.100.blobplot.bam0.png\n",
      "/opt/conda/envs/blobtools/lib/python3.10/site-packages/blobtools/BtPlot.py:525: UserWarning: FixedFormatter should only be used together with FixedLocator\n",
      "  ax_main.set_yticklabels(['{:.0f}%'.format(x*100) for x in ax_main.get_yticks()])\n",
      "/opt/conda/envs/blobtools/lib/python3.10/site-packages/blobtools/BtPlot.py:534: UserWarning: FixedFormatter should only be used together with FixedLocator\n",
      "  ax_group.set_yticklabels(['{:.0f}%'.format(x*100) for x in ax_group.get_yticks()])\n",
      "[+] Plotting quality.blobDB.json.bestsum.phylum.p8.span.100.blobplot.read_cov.bam0.png\n",
      "[+] Writing quality.blobDB.json.bestsum.phylum.p8.span.100.blobplot.stats.txt\n",
      "(base) "
     ]
    },
    {
     "ename": "",
     "evalue": "1",
     "output_type": "error",
     "traceback": []
    }
   ],
   "source": [
    "blobtools view -i quality.blobDB.json --cov -o output;\n",
    "blobtools plot -i quality.blobDB.json;"
   ]
  },
  {
   "cell_type": "markdown",
   "id": "7b625824",
   "metadata": {},
   "source": [
    "#### Is there contamination in the assembly?\n",
    "\n",
    "#### Do any assemblies show strange clustering?\n",
    "\n",
    "#### Why might coverage vary across contigs within an assembly?"
   ]
  },
  {
   "cell_type": "markdown",
   "id": "1b4bb928",
   "metadata": {},
   "source": [
    "The Blobplots all indicate a single cluster. Some contigs show fairly high coverage in comparison to the rest of the genome which could be repetitive elements in the genome."
   ]
  },
  {
   "cell_type": "markdown",
   "id": "26be95ee",
   "metadata": {},
   "source": [
    "## <span style=\"color: #4CACBD;\"> 5. Comparative Alignment </span>\n",
    "\n",
    "Comparative alignment is a useful tool to see how assemblies compare to each other. This can be useful to compare assemblies to a reference, or to see if assemblies have large structural differences.\n",
    "\n"
   ]
  },
  {
   "cell_type": "markdown",
   "id": "83f1169a",
   "metadata": {},
   "source": [
    "Check assembled genome with dgenies : http://dgenies.toulouse.inra.fr/"
   ]
  },
  {
   "cell_type": "markdown",
   "id": "fd54b12c",
   "metadata": {},
   "source": [
    "Since you have a reference genome available, an alternative option to de novo assembly is to assemble using a reference genome - by mapping of the sequence reads\n",
    "\n",
    "Prepare data to download into dgenies : \n",
    "\n",
    " * Reference.fasta ` ~/work/DATA/CloneX/reference.fasta `\n",
    " \n",
    " * ONT assembly in CloneX (Flye+Raconx2+Medaka) ` ~/work/RESULTS/FLYE_RACON_MEDAKA/MEDAKA_CONSENSUS/consensus.fasta\" ` \n",
    " \n",
    " * ABYSS assembly generated with illumina reads  ` ~/work/DATA/DGENIES/Clone20-abyss.fasta ` \n",
    " "
   ]
  },
  {
   "cell_type": "markdown",
   "id": "cd5b63e8",
   "metadata": {},
   "source": [
    "ABYSS illumina assemblies are stocked on itrop server. Use wget to download it "
   ]
  },
  {
   "cell_type": "code",
   "execution_count": 31,
   "id": "1ee793db",
   "metadata": {},
   "outputs": [
    {
     "name": "stdout",
     "output_type": "stream",
     "text": [
      "(base) --2022-11-10 16:24:17--  https://itrop.ird.fr/ont-training/DGENIES.tar.gz\n",
      "Resolving itrop.ird.fr (itrop.ird.fr)... 91.203.35.184\n",
      "Connecting to itrop.ird.fr (itrop.ird.fr)|91.203.35.184|:443... connected.\n",
      "HTTP request sent, awaiting response... 200 OK\n",
      "Length: 6842343 (6.5M) [application/x-gzip]\n",
      "Saving to: ‘DGENIES.tar.gz’\n",
      "\n",
      "DGENIES.tar.gz      100%[===================>]   6.52M  10.3MB/s    in 0.6s    \n",
      "\n",
      "2022-11-10 16:24:18 (10.3 MB/s) - ‘DGENIES.tar.gz’ saved [6842343/6842343]\n",
      "\n",
      "FINISHED --2022-11-10 16:24:18--\n",
      "Total wall clock time: 0.7s\n",
      "Downloaded: 1 files, 6.5M in 0.6s (10.3 MB/s)\n",
      "(base) DGENIES/\n",
      "DGENIES/Clone20-abyss.fasta\n",
      "DGENIES/Clone2-abyss.fasta\n",
      "DGENIES/Clone3-abyss.fasta\n",
      "DGENIES/Clone4-abyss.fasta\n",
      "DGENIES/Clone5-abyss.fasta\n",
      "DGENIES/Clone6-abyss.fasta\n",
      "DGENIES/Clone7-abyss.fasta\n",
      "DGENIES/Clone8-abyss.fasta\n",
      "DGENIES/Clone9-abyss.fasta\n",
      "DGENIES/Clone10-abyss.fasta\n",
      "DGENIES/Clone11-abyss.fasta\n",
      "DGENIES/Clone12-abyss.fasta\n",
      "DGENIES/Clone13-abyss.fasta\n",
      "DGENIES/Clone14-abyss.fasta\n",
      "DGENIES/Clone15-abyss.fasta\n",
      "DGENIES/Clone16-abyss.fasta\n",
      "DGENIES/Clone17-abyss.fasta\n",
      "DGENIES/Clone18-abyss.fasta\n",
      "DGENIES/Clone19-abyss.fasta\n",
      "DGENIES/Clone1-abyss.fasta\n",
      "(base) "
     ]
    },
    {
     "ename": "",
     "evalue": "1",
     "output_type": "error",
     "traceback": []
    }
   ],
   "source": [
    "cd ~/work/DATA/\n",
    "wget --no-check-certificat -rm -nH --cut-dirs=1 --reject=\"index.html*\" https://itrop.ird.fr/ont-training/DGENIES.tar.gz\n",
    "tar zxvf DGENIES.tar.gz"
   ]
  },
  {
   "cell_type": "markdown",
   "id": "31b60d8c",
   "metadata": {},
   "source": [
    "#### What is the mean difference between illumina and ONT assembly for Clone20?"
   ]
  }
 ],
 "metadata": {
  "kernelspec": {
   "display_name": "Bash",
   "language": "bash",
   "name": "bash"
  },
  "language_info": {
   "codemirror_mode": "shell",
   "file_extension": ".sh",
   "mimetype": "text/x-sh",
   "name": "bash"
  }
 },
 "nbformat": 4,
 "nbformat_minor": 5
}
