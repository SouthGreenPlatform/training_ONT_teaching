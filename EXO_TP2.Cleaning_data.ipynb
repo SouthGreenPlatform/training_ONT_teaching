{
 "cells": [
  {
   "cell_type": "markdown",
   "id": "4b71e5e2-431b-45c0-8e64-f9093c8c16d4",
   "metadata": {},
   "source": [
    "# <span style=\"color:green\">Formation à Abidjan 2023</span> - Initiation à l’analyse de données Minion pour l'analyse de métagénome viraux\n",
    "\n",
    "Created by J. Orjuela (DIADE-IRD), D. Filloux (PHIM-CIRAD), A. Comte (PHIM-IRD) and E. Tibiri (WAVE-INERA)\n",
    "Septembre 2023\n",
    "\n",
    "***\n",
    "\n",
    "# <span style=\"color: #006E7F\">Table of contents</span>\n",
    "<a class=\"anchor\" id=\"home\"></a>\n",
    "   \n",
    "\n",
    "[TP2 - DATA CLEANING](#tp2) \n",
    "\n",
    "[1. Remove the host reads](#host)\n",
    "\n",
    "   * [1.1 downloading pineaple reference genome ](#pineapple)\n",
    "   * [1.2 Mapping the reads on the reference genome](#mappingpineapple)\n",
    "   * [1.3 Separate reads from pineapple and reads not from pineapple](#filterpineapple) \n",
    "\n",
    "[2. Remove other organisms reads](#clearother)\n",
    "   * [2.1 Remove fungi ](#fungi)\n",
    "   * [2.2 Remove bacteria](#bacteria)\n",
    "\n",
    "</span>\n",
    "\n",
    "***"
   ]
  },
  {
   "cell_type": "markdown",
   "id": "c605ea09-d7e1-4d71-918d-c06fa965aa56",
   "metadata": {},
   "source": [
    "# <span style=\"color:#006E7F\">__TP2 - DATA CLEANING__ <a class=\"anchor\" id=\"tp2\"></span>  \n"
   ]
  },
  {
   "cell_type": "markdown",
   "id": "f69805bc-25e3-4f9a-8532-52c6071f9a02",
   "metadata": {},
   "source": [
    "To save time and ressources, it's better to clean your data before launching heavy analysis.\n",
    "\n",
    "In our case, we are interrested in the viruses reads in the dataset only. Then, to alleviate the dataset, we can:\n",
    "- remove the host reads (pineapple reads)\n",
    "- remove the fungi reads\n",
    "- remove the bacteria reads\n",
    "- remove the human reads\n",
    "- ...\n",
    "\n",
    "To do so, we are going to map the reads on a reference genome or a given bank of genomes and remove the reads mapped on these genomes of the dataset."
   ]
  },
  {
   "cell_type": "markdown",
   "id": "cbcfa377-1822-4d9d-b9c9-5af1fcd209e7",
   "metadata": {},
   "source": [
    "## <span style=\"color: #4CACBC;\"> 1. Remove the host reads<a class=\"anchor\" id=\"host\"> </span>"
   ]
  },
  {
   "cell_type": "markdown",
   "id": "0e42bf28-6cdc-4bb0-b452-7b0556c7eac4",
   "metadata": {},
   "source": [
    "### <span style=\"color: #4CACBD;\"> 1.1 downloading pineaple reference genome  <a class=\"anchor\" id=\"pineapple\"></span>\n",
    "\n",
    "For cleaning the dataset, you need to download the reference genome of the host (pineapple).\n",
    "\n",
    "These data comme from [NCBI.](https://www.ncbi.nlm.nih.gov/data-hub/genome/GCF_001540865.1/)"
   ]
  },
  {
   "cell_type": "code",
   "execution_count": null,
   "id": "a9514112-a336-4c84-a8ef-b9c4bf8a8828",
   "metadata": {},
   "outputs": [],
   "source": [
    "cd ~/work/SG-ONT-2023/DATA\n",
    "\n",
    "# download reference genome of the pineapple\n",
    "wget --no-check-certificat -rm -nH --cut-dirs=1 --reject=\"index.html*\" https://itrop.ird.fr/ont-training-2023/GCA_001540865.1_Ananas_comosus_cultivar_F153.fasta"
   ]
  },
  {
   "cell_type": "markdown",
   "id": "88218c90-c6e2-478f-b319-280629bd7e70",
   "metadata": {},
   "source": [
    "### <span style=\"color: #4CACBD;\"> 1.2 Mapping the reads on the reference genome <a class=\"anchor\" id=\"mappingpineapple\"></span>"
   ]
  },
  {
   "cell_type": "markdown",
   "id": "ae4d4b4c-2c67-488b-ba7f-973218d44fcc",
   "metadata": {},
   "source": [
    "Minimap2 is a fast sequence mapping and alignment program that can find overlaps between long noisy reads, or map long reads or their assemblies to a reference genome optionally with detailed alignment"
   ]
  },
  {
   "cell_type": "code",
   "execution_count": null,
   "id": "61aff092-c674-4ce5-911e-c5bd2fb6e8a8",
   "metadata": {},
   "outputs": [],
   "source": [
    "minimap2 --help"
   ]
  },
  {
   "cell_type": "code",
   "execution_count": null,
   "id": "cfbb5b19-1641-4c85-a307-166bdcb99a65",
   "metadata": {},
   "outputs": [],
   "source": [
    "# create output directory\n",
    "mkdir -p ~/work/SG-ONT-2023/CLEANING\n",
    "cd ~/work/SG-ONT-2023/CLEANING\n",
    "\n",
    "# Mapping fastq files vs the \"Ananas_comosus_cultivar_F153.fasta\" and create a \"reads_vs_ananas.sam\" file \n",
    "minimap2 -ax map-ont ......"
   ]
  },
  {
   "cell_type": "markdown",
   "id": "0771e53e-87cd-4a51-97b5-6f1279a5e49d",
   "metadata": {},
   "source": [
    "Observe the quantity of mapped reads with samtools:"
   ]
  },
  {
   "cell_type": "code",
   "execution_count": null,
   "id": "eced75b7-2e65-4c07-9f04-77f6a574486e",
   "metadata": {},
   "outputs": [],
   "source": [
    "samtools flagstats reads_vs_ananas.sam"
   ]
  },
  {
   "cell_type": "markdown",
   "id": "40db77ed-c5bc-411c-adaf-a0986d55b22e",
   "metadata": {},
   "source": [
    "What is the percentage of reads mapping on the pineapple genome in this dataset?"
   ]
  },
  {
   "cell_type": "markdown",
   "id": "2e3cdf14-4775-40b8-9e29-2f0f2fec65d5",
   "metadata": {},
   "source": [
    "### <span style=\"color: #4CACBD;\"> Sam format </span>\n",
    "\n",
    "SAM stands for Sequence Alignment/Map format. It is a TAB-delimited text format consisting of a header section, which is optional, and an alignment section. If present, the header must be prior to the alignments.\n",
    "Header lines start with ‘@’, while alignment lines do not. Each alignment line has 11 mandatory fields for essential alignment information. The eleven fields are always present and in the order shown below:"
   ]
  },
  {
   "cell_type": "markdown",
   "id": "158b7a0d-1420-4697-bb3a-ebb1e41173ba",
   "metadata": {},
   "source": [
    "| Col | Field | Type | Regexp/Range | Brief description |\n",
    "| --- | --- | --- | --- | --- |\n",
    "| 1 | QNAME | String | [!-?A-~]{1,254} | Query template NAME |\n",
    "| 2 | FLAG | Int | [0, 216 − 1] | bitwise FLAG |\n",
    "| 3 | RNAME | String | \\*|[:rname:∧*=][:rname:]* | Reference sequence NAME11 |\n",
    "| 4 | POS | Int | [0, 231 − 1] | 1-based leftmost mapping POSition |\n",
    "| 5 | MAPQ | Int | [0, 28 − 1] | MAPping Quality |\n",
    "| 6 | CIGAR | String | \\*|([0-9]+[MIDNSHPX=])+ | CIGAR string |\n",
    "| 7 | RNEXT | String | \\*|=|[:rname:∧*=][:rname:]* | Reference name of the mate/next read |\n",
    "| 8 | PNEXT | Int | [0, 231 − 1] | Position of the mate/next read |\n",
    "| 9 | TLEN | Int | [−231 + 1, 231 − 1] | observed Template LENgth |\n",
    "| 10 | SEQ | String | \\*|[A-Za-z=.]+ | segment SEQuence |\n",
    "| 11 | QUAL | String | [!-~]+ | ASCII of Phred-scaled base QUALity+33 |"
   ]
  },
  {
   "cell_type": "markdown",
   "id": "eeac1933-6313-4183-80ac-9849764e2648",
   "metadata": {},
   "source": [
    "more information in : https://samtools.github.io/hts-specs/SAMv1.pdf"
   ]
  },
  {
   "cell_type": "markdown",
   "id": "e567221c-3623-4571-83c2-372df1f4a3bd",
   "metadata": {},
   "source": [
    "### Best practices are to convert sam to bam using `samtools` to save disk espace.\n",
    "\n",
    "`samtools view -b aln.sam > aln.bam`"
   ]
  },
  {
   "cell_type": "markdown",
   "id": "f44b3d65-7a6c-43bc-9080-2457a74a3afe",
   "metadata": {},
   "source": [
    "### <span style=\"color: #4CACBD;\"> 1.3 Separate reads from pineapple and reads not from pineapple <a class=\"anchor\" id=\"filterpineapple\"></span>"
   ]
  },
  {
   "cell_type": "markdown",
   "id": "eb133cb4-866e-4f1f-905d-8c0ff760ca66",
   "metadata": {},
   "source": [
    "Sam file can be filtered with samtools with the combination of **bitwise FLAGs**\n",
    "\n",
    "| Bit | Description |\n",
    "| --- | --- |\n",
    "| 1 0x1 | template having multiple segments in sequencing |\n",
    "| 2 0x2 | each segment properly aligned according to the aligner |\n",
    "| 4 0x4 | segment unmapped |\n",
    "| 8 0x8 | next segment in the template unmapped |\n",
    "| 16 0x10 | SEQ being reverse complemented |\n",
    "| 32 0x20 | SEQ of the next segment in the template being reverse complemented |\n",
    "| 64 0x40 | the first segment in the template |\n",
    "| 128 0x80 | the last segment in the template |\n",
    "| 256 0x100 | secondary alignment |\n",
    "| 512 0x200 | not passing filters, such as platform/vendor quality controls |\n",
    "| 1024 0x400 | PCR or optical duplicate |\n",
    "| 2048 0x800 | supplementary alignment |"
   ]
  },
  {
   "cell_type": "markdown",
   "id": "1842989c-7f80-443b-8c8b-f9fe4310f4d6",
   "metadata": {},
   "source": [
    "To separate mapped reads and umapped reads, we use samtools and the flag 4:"
   ]
  },
  {
   "cell_type": "code",
   "execution_count": null,
   "id": "8228a757-2da5-4732-be0b-9af922f03ad9",
   "metadata": {},
   "outputs": [],
   "source": [
    "# go to the cleaning repository\n",
    "\n",
    "cd ~/work/SG-ONT-2023/CLEANING"
   ]
  },
  {
   "cell_type": "code",
   "execution_count": null,
   "id": "bce0bc7d-22f4-411b-96e7-d36006a322e4",
   "metadata": {},
   "outputs": [],
   "source": [
    "# extract mapped reads (pineapple reads):\n",
    "\n",
    "samtools view -@ 4 -bh WHAT_FLAG? reads_vs_ananas.sam > reads_vs_ananas_mapped.sam\n",
    "\n",
    "# unmapped reads (all reads exept pineapple):\n",
    "\n",
    "samtools view -@ 4 -bh WHAT_FLAG? reads_vs_ananas.sam > reads_vs_ananas_unmapped.sam"
   ]
  },
  {
   "cell_type": "code",
   "execution_count": null,
   "id": "4ea3ae58-014e-4436-83e3-3822bba86b10",
   "metadata": {},
   "outputs": [],
   "source": [
    "# convert unmapped.sam file to fastq  using `samtools fastq`\n",
    "\n",
    "samtools fastq reads_vs_ananas_unmapped.sam > reads_vs_ananas_unmapped.fastq\n",
    "\n",
    "# convert mapped.sam file to fastq  using `samtools fastq`\n",
    "\n",
    "samtools fastq reads_vs_ananas_mapped.sam > reads_vs_ananas_mapped.fastq"
   ]
  },
  {
   "cell_type": "markdown",
   "id": "beda4a6e-666f-421a-8608-dfd16c0675dd",
   "metadata": {},
   "source": [
    "#### How many reads are on the dataset now filtered of the pineapple reads?"
   ]
  },
  {
   "cell_type": "code",
   "execution_count": null,
   "id": "434783da-aed1-452c-a62d-f2ef5f6e2403",
   "metadata": {},
   "outputs": [],
   "source": [
    "awk '{s++}END{print s/4}' reads_vs_ananas_unmapped.fastq"
   ]
  },
  {
   "cell_type": "markdown",
   "id": "d761ae93-d893-4a89-a164-2eae8addab8d",
   "metadata": {},
   "source": [
    "#### How many reads were filtered (How many pineapple reads)?"
   ]
  },
  {
   "cell_type": "code",
   "execution_count": null,
   "id": "d68c8c93-7f52-4111-b27b-a349664ea4e6",
   "metadata": {},
   "outputs": [],
   "source": [
    "awk '{s++}END{print s/4}' reads_vs_ananas_mapped.fastq"
   ]
  },
  {
   "cell_type": "markdown",
   "id": "aaecb38f-81ea-4f9c-9a27-eec74dff7d88",
   "metadata": {},
   "source": [
    "#### How many nucleic bases were mapped (using `seqtk`) ?"
   ]
  },
  {
   "cell_type": "markdown",
   "id": "86911f39-2f32-407f-b5f1-c7e60bc57e32",
   "metadata": {},
   "source": [
    "#### How many nucleic bases were mapped ?"
   ]
  },
  {
   "cell_type": "markdown",
   "id": "006ca827-bd38-4216-a562-ef38feddf72f",
   "metadata": {},
   "source": [
    "#### What is the mean size of pineapple reads?"
   ]
  },
  {
   "cell_type": "markdown",
   "id": "96076b35-8630-47cd-b693-80c0c2c6c630",
   "metadata": {},
   "source": [
    "#### What is the proportion of pineapple reads in oposition to the unmapped reads ?"
   ]
  },
  {
   "cell_type": "markdown",
   "id": "ed196c90-5031-4a9f-9451-045aeed39946",
   "metadata": {},
   "source": [
    "#### what is the mean size of reads that are not from pineapple genome?"
   ]
  },
  {
   "cell_type": "markdown",
   "id": "1f7e162b-a4f1-45e5-92de-35cb9d219844",
   "metadata": {},
   "source": [
    "#### What is the proportion of pineapple reads in oposition to the unmapped reads ?"
   ]
  },
  {
   "cell_type": "markdown",
   "id": "d42a8759-8e09-439f-8a5d-aa657e0ec96e",
   "metadata": {},
   "source": [
    "## <span style=\"color: #4CACBC;\"> 2. Remove other organisms reads <a class=\"anchor\" id=\"clearother\"></span>"
   ]
  },
  {
   "cell_type": "markdown",
   "id": "e6c9fcbc-ef2b-48dc-9c9e-51b291d4ee8f",
   "metadata": {},
   "source": [
    "Here some example of other organisms reads you can remove and how to remove them.\n",
    "This step demand a lot a ressources because of the size of the genomic banks.\n",
    "\n",
    "<span style=\"color:red\">**WARNING : Please do not run any of the steps below.**</span> \n"
   ]
  },
  {
   "cell_type": "markdown",
   "id": "1506fba6-102e-4c68-a750-a64657e8f2a2",
   "metadata": {},
   "source": [
    "### <span style=\"color: #4CACBC;\"> 2.1 Remove fungi <a class=\"anchor\" id=\"fungi\"></span>"
   ]
  },
  {
   "cell_type": "markdown",
   "id": "6833ae31-32ed-4490-9c4b-2f68b353fd6a",
   "metadata": {},
   "source": [
    "#### Download fungi genomic bank <span style=\"color:red\"> (Don't run it! ) </span>"
   ]
  },
  {
   "cell_type": "raw",
   "id": "ef296a70-300b-4b19-8251-0e253bf74efa",
   "metadata": {},
   "source": [
    "# take few hours to download\n",
    "wget -r --no-parent -A fungi.*.genomic.fna.gz ftp://ftp.ncbi.nlm.nih.gov/refseq/release/fungi/\n",
    "cat fungi.*.genomic.fna.gz > fungi.genomic.fna.gz"
   ]
  },
  {
   "cell_type": "markdown",
   "id": "249431fb-7b5f-4fc6-ba62-55cad20afe21",
   "metadata": {},
   "source": [
    "#### Mapping of reads on the fungi genomic bank + remove fungi reads"
   ]
  },
  {
   "cell_type": "code",
   "execution_count": null,
   "id": "424d8c75-d50b-4f3d-aa0b-5f508d705ba2",
   "metadata": {},
   "outputs": [],
   "source": [
    "minimap2 -ax map-ont --split-prefix=tmp fungi.genomic.fna.gz reads_vs_ananas_unmapped.fastq  > reads_vs_fungi.sam"
   ]
  },
  {
   "cell_type": "code",
   "execution_count": null,
   "id": "a679eef4-206d-47a3-bc76-32e7763b575d",
   "metadata": {},
   "outputs": [],
   "source": [
    "# extract mapped reads (fungi reads):\n",
    "\n",
    "samtools view -@ 4 -bh -F 4 reads_vs_fungi.sam > reads_vs_fungi_mapped.sam\n",
    "\n",
    "# unmapped reads (all reads exept fungi):\n",
    "\n",
    "samtools view -@ 4 -bh -f 4 reads_vs_fungi.sam > reads_vs_fungi_unmapped.sam"
   ]
  },
  {
   "cell_type": "code",
   "execution_count": null,
   "id": "0b6c8a1c-362d-413c-90fc-a4289ceac760",
   "metadata": {},
   "outputs": [],
   "source": [
    "# sam to fastq\n",
    "\n",
    "samtools fastq reads_vs_fungi_unmapped.sam > reads_vs_fungi_unmapped.fastq"
   ]
  },
  {
   "cell_type": "markdown",
   "id": "b8813223-73e0-41ed-b01f-d6a88f3eee91",
   "metadata": {},
   "source": [
    "### <span style=\"color: #4CACBC;\"> 2.2 Remove other organisms <a class=\"anchor\" id=\"bactoche\"></span>"
   ]
  },
  {
   "cell_type": "markdown",
   "id": "66a13ba0-7252-45ae-b9e9-9e5c0c1ac8b6",
   "metadata": {},
   "source": [
    "#### Similar protocol can be done on bacteriae genomic bank <span style=\"color:red\"> (Don't run it! ) </span> \n",
    "\n",
    "This is the genomic bank we used for bacteria"
   ]
  },
  {
   "cell_type": "raw",
   "id": "d08ca450-e316-4af7-b352-628b4ba0680b",
   "metadata": {},
   "source": [
    "# take several hours to download\n",
    "wget -r --no-parent -A bacteria.*.genomic.fna.gz ftp://ftp.ncbi.nlm.nih.gov/refseq/release/bacteria/\n",
    "cat bacteria.*.genomic.fna.gz > bacteria.genomic.fna.gz"
   ]
  }
 ],
 "metadata": {
  "kernelspec": {
   "display_name": "Bash",
   "language": "bash",
   "name": "bash"
  },
  "language_info": {
   "codemirror_mode": "shell",
   "file_extension": ".sh",
   "mimetype": "text/x-sh",
   "name": "bash"
  }
 },
 "nbformat": 4,
 "nbformat_minor": 5
}
