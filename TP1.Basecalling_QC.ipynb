{
 "cells": [
  {
   "cell_type": "markdown",
   "id": "aff6dddb",
   "metadata": {},
   "source": [
    "# <span style=\"color:green\">Formation au Burkina Faso 2022</span> - Initiation à l’analyse de données Minion pour l'analyse de métagénome viraux\n",
    "\n",
    "# __DAY 1 : How to map reads against a reference genome ?__ \n",
    "\n",
    "Created by J. Orjuela (DIADE-IRD), D. Filloux (PHIM-CIRAD) and A. Comte (PHIM-IRD) \n",
    "\n",
    "Septembre 2022\n",
    "\n",
    "***\n",
    "\n",
    "# <span style=\"color: #006E7F\">Table of contents</span>\n",
    "<a class=\"anchor\" id=\"home\"></a>\n",
    "   \n",
    "\n",
    "[TP1 - BASECALLING and QC](#data) \n",
    "\n",
    "[2. Basecalling](#guppy)\n",
    "\n",
    "   * [2.1 Basecalling with `guppy`](#guppy)\n",
    "    \n",
    "\n",
    "[3. Quality Control on Long Reads](#qc)\n",
    "   * [3.1 Quality Control of FASTQ with`Nanoplot`](#nanoplot)\n",
    "   * [3.2 Compare reads QC statistics with `NanoComp`](#nanocomp)\n",
    "\n",
    "\n",
    "[4. BONUS](#bonus)\n",
    "\n",
    "</span>\n",
    "\n",
    "***\n",
    "\n",
    "\n"
   ]
  },
  {
   "cell_type": "markdown",
   "id": "723395cb-5fa0-4201-9da9-c737a2046aee",
   "metadata": {},
   "source": [
    "### Our objectives in the following TP are : \n",
    "- explore the diversity of the metavirome of pineapple.\n",
    "- reconstruct the complete genome sequencing of a novel member of the genus Vitivirus in the family Betaflexiviridae (subfamily Trivirinae) infecting pineapple."
   ]
  },
  {
   "cell_type": "markdown",
   "id": "45ec529f",
   "metadata": {},
   "source": [
    "# <span style=\"color:#006E7F\">__TP1 - BASECALLING and QC__ <a class=\"anchor\" id=\"data\"></span>  \n",
    "    \n",
    "## <span style=\"color: #4CACBC;\"> 1. Creating the folder, downloading data and so on</span>  \n",
    "\n",
    "### <span style=\"color: #4CACBD;\">  Data</span>\n",
    "    "
   ]
  },
  {
   "cell_type": "markdown",
   "id": "62a3ac56",
   "metadata": {},
   "source": [
    "Before starting, please download special data created for this practical training. Data are available on the from I-Trop server."
   ]
  },
  {
   "cell_type": "markdown",
   "id": "9fb571d7",
   "metadata": {},
   "source": [
    "This data is the total RNAs extracted from pineapple leaf samples collected in Reunion Island. Nanopore sequencing was performed using a MinION portable device and the cDNA-PCR Barcoding kit.\n",
    "This original dataset contained more than 4M reads. We choose to sample it for this formation. "
   ]
  },
  {
   "cell_type": "code",
   "execution_count": null,
   "id": "181d5040-5642-4ecf-9b14-e210cdaaac69",
   "metadata": {},
   "outputs": [],
   "source": [
    "mkdir -p ~/work/SG-ONT-2022/DATA\n",
    "cd ~/work/SG-ONT-2022/DATA\n",
    "\n",
    "# download sample data already basecalled\n",
    "wget --no-check-certificat -rm -nH --cut-dirs=1 --reject=\"index.html*\" https://itrop.ird.fr/ont-training-2022/data.fastq"
   ]
  },
  {
   "cell_type": "markdown",
   "id": "1be14d7d",
   "metadata": {
    "tags": []
   },
   "source": [
    "## <span style=\"color: #4CACBC;\"> 2. Basecalling</span>  <a class=\"anchor\" id=\"guppy\"></span> \n",
    "\n",
    "When DNA molecules are sequenced, electrical signals are stocked on fast5 format files.\n",
    "\n",
    "These signals need to be converted on standard fastq files to post-analysis.\n",
    "\n",
    "Several training dataset models are usually used to convert fast5 to fastq. \n",
    "\n",
    "### <span style=\"color: #4CACBC;\"> 2.1 Basecalling with Guppy</span>\n"
   ]
  },
  {
   "cell_type": "markdown",
   "id": "22e07fab",
   "metadata": {},
   "source": [
    "Guppy is a data processing toolkit that contains the 'Oxford Nanopore Technologies' basecalling algorithms, and several bioinformatic post-processing features.\n",
    "\n",
    "Basecalling with guppy can be launch using guppy tool. \n",
    "\n",
    "Guppy takes fast5 raw read files and transform electrical signal in fastq files.\n",
    "\n",
    "We recommend to basecaller yours dataset using a GPU graphic card to obtain results quickly.\n",
    "\n",
    "Documentation about how to run Guppy on I-trop GPU can be found on https://bioinfo.ird.fr/index.php/tutorials-fr/gpu/\n"
   ]
  },
  {
   "cell_type": "code",
   "execution_count": null,
   "id": "313f0e1d-f714-464d-af9b-b33f32b1ef35",
   "metadata": {},
   "outputs": [],
   "source": [
    "#To see all the documentation of guppy:\n",
    "  guppy_basecaller --help"
   ]
  },
  {
   "cell_type": "markdown",
   "id": "158a23ca-33ba-4bc2-91cf-4e6f4036daf5",
   "metadata": {},
   "source": [
    "To run guppy you need to choose your configuration file accordingly to the flowcell and the kit you used for sequencing."
   ]
  },
  {
   "cell_type": "code",
   "execution_count": null,
   "id": "14d7d56a-478b-41ab-9e09-0f3eac72f6d8",
   "metadata": {
    "tags": []
   },
   "outputs": [],
   "source": [
    "#List supported flowcells and kits:\n",
    "  guppy_basecaller --print_workflows"
   ]
  },
  {
   "cell_type": "markdown",
   "id": "eb099b9e-7fc4-48e6-b749-df0b97b7dc17",
   "metadata": {},
   "source": [
    "3 types of config files:\n",
    "- sup : high accuracy, very slow\n",
    "- hac : medium accuracy, medium recources needes\n",
    "- fast : poor accuracy, very fast"
   ]
  },
  {
   "cell_type": "code",
   "execution_count": null,
   "id": "87ef08a9-b971-49c6-b0ed-7fb30974c1bd",
   "metadata": {},
   "outputs": [],
   "source": [
    "Guppy can also demultiplex and trim adaptaters or barcodes."
   ]
  },
  {
   "cell_type": "markdown",
   "id": "080b0405-2638-4fbd-ac44-283eb5b60c4a",
   "metadata": {},
   "source": [
    "#### Basecalling command line <span style=\"color:red\"> (Don't run it! ) </span>"
   ]
  },
  {
   "cell_type": "code",
   "execution_count": null,
   "id": "e94c0a79",
   "metadata": {},
   "outputs": [],
   "source": [
    "guppy_basecaller -c dna_r9.4.1_450bps_sup.cfg -i fast5/ -r -s output --num_callers 4 --gpu_runners_per_device 8 --min_qscore 6 --device cuda:2 --trim_adapters --detect_adapter --detect_mid_strand_adapter --pt_scaling --do_read_splitting"
   ]
  },
  {
   "cell_type": "markdown",
   "id": "456ef94a",
   "metadata": {},
   "source": [
    "## <span style=\"color: #4CACBC;\"> 3. Quality Control on Long Reads</span>  <a class=\"anchor\" id=\"qc\"></span> "
   ]
  },
  {
   "cell_type": "markdown",
   "id": "afce201e",
   "metadata": {},
   "source": [
    "Calculating data quantity"
   ]
  },
  {
   "cell_type": "code",
   "execution_count": null,
   "id": "926d9dc8-b5c8-4b8b-b8ca-002fc751276d",
   "metadata": {},
   "outputs": [],
   "source": [
    "cd ~/work/SG-ONT-2022/DATA\n",
    "pwd"
   ]
  },
  {
   "cell_type": "markdown",
   "id": "c38c37e8-f37a-4b33-86d9-2ab37fe1c4d3",
   "metadata": {},
   "source": [
    "Calculating how many reads are in the fastq file"
   ]
  },
  {
   "cell_type": "code",
   "execution_count": null,
   "id": "5b0b5acd-048a-477f-9323-015f7189bdda",
   "metadata": {},
   "outputs": [],
   "source": [
    "awk '{s++}END{print s/4}' data.fastq"
   ]
  },
  {
   "cell_type": "markdown",
   "id": "f311055b-f17b-40d9-8d94-ad80458a3282",
   "metadata": {},
   "source": [
    "Calculating how many bases were sequenced"
   ]
  },
  {
   "cell_type": "code",
   "execution_count": null,
   "id": "9c25a9ee",
   "metadata": {},
   "outputs": [],
   "source": [
    "seqtk seq -A data.fastq | grep -v \">\" | wc -m"
   ]
  },
  {
   "cell_type": "markdown",
   "id": "4e584d66-50b5-4a32-a611-e6f1419b35e5",
   "metadata": {},
   "source": [
    "What is the sequencing depth?"
   ]
  },
  {
   "cell_type": "markdown",
   "id": "ebf512dd",
   "metadata": {},
   "source": [
    "\n",
    "### <span style=\"color: #4CACBD;\"> 3.1 Quality Control of FASTQ with Nanoplot </span> <a class=\"anchor\" id=\"nanoplot\"></span> \n",
    "\n",
    "Control reads quality using Nanoplot. You can parameter this tool using --help."
   ]
  },
  {
   "cell_type": "code",
   "execution_count": null,
   "id": "126b58ef",
   "metadata": {
    "tags": []
   },
   "outputs": [],
   "source": [
    "NanoPlot --help"
   ]
  },
  {
   "cell_type": "markdown",
   "id": "df8bfdd5",
   "metadata": {},
   "source": [
    "Launch NanoPlot. You can launch NanoPlot using summaries or fastq files."
   ]
  },
  {
   "cell_type": "code",
   "execution_count": null,
   "id": "70c5bd7e-aad2-4115-abdc-198a8180b2ac",
   "metadata": {},
   "outputs": [],
   "source": [
    "# create a folder to save results\n",
    "mkdir -p ~/work/SG-ONT-2022/QC\n",
    "cd ~/work/SG-ONT-2022/QC"
   ]
  },
  {
   "cell_type": "code",
   "execution_count": null,
   "id": "5ac0782d-883b-4704-a71b-228b0664a74b",
   "metadata": {
    "tags": []
   },
   "outputs": [],
   "source": [
    "###### run nanoplot \n",
    "NanoPlot -t 1 --fastq  ../DATA/data.fastq --outdir NANOPLOT"
   ]
  },
  {
   "cell_type": "markdown",
   "id": "52d4b4c2-3993-4f77-b8b6-079786348502",
   "metadata": {},
   "source": [
    "Check stats on created NanoStats file."
   ]
  },
  {
   "cell_type": "code",
   "execution_count": null,
   "id": "2f34702f",
   "metadata": {},
   "outputs": [],
   "source": [
    "cat NANOPLOT/NanoStats.txt"
   ]
  },
  {
   "cell_type": "markdown",
   "id": "8a9507e3",
   "metadata": {},
   "source": [
    "* What do you think about data? \n",
    "\n",
    "* Estimate coverage.\n",
    "\n",
    "* What about reads quality qscore?"
   ]
  },
  {
   "cell_type": "markdown",
   "id": "781a184f-c6c0-4d02-80f6-c30ba9d82279",
   "metadata": {},
   "source": [
    "Observe NanoPlot-report.html.\n",
    "\n",
    "To open it on jupyter you need to click on \"trust HTML\".\n",
    "\n",
    "* what about this dataset?"
   ]
  },
  {
   "cell_type": "markdown",
   "id": "19638aba",
   "metadata": {},
   "source": [
    "### <span style=\"color: #4CACBD;\">3.2 Compare reads QC statistics with NanoComp (Summaries dataset) </span> <a class=\"anchor\" id=\"nanoplot\"></span> "
   ]
  },
  {
   "cell_type": "markdown",
   "id": "cf63dea7",
   "metadata": {},
   "source": [
    "Compare long reads sequencing datasets using **NanoComp**.\n",
    "\n",
    "NanoComp compiles quality information in a useful html report.\n",
    "\n",
    "You can launch NanoComp using summaries or fastq files."
   ]
  },
  {
   "cell_type": "code",
   "execution_count": null,
   "id": "c23cdac6",
   "metadata": {
    "tags": []
   },
   "outputs": [],
   "source": [
    "NanoComp --help"
   ]
  },
  {
   "cell_type": "code",
   "execution_count": null,
   "id": "44f735e0",
   "metadata": {},
   "outputs": [],
   "source": [
    "NanoComp --fastq ../DATA/data.fastq --outdir NANOCOMP"
   ]
  },
  {
   "cell_type": "markdown",
   "id": "192ec507",
   "metadata": {},
   "source": [
    "###  Others complemental tools: \n",
    "\n",
    "https://github.com/wdecoster/NanoPlot#companion-scripts\n",
    "\n",
    "* NanoComp: comparing multiple runs\n",
    "\n",
    "* NanoStat: statistic summary report of reads or alignments\n",
    "\n",
    "* NanoFilt: filtering and trimming of reads\n",
    "\n",
    "* NanoLyse: removing contaminant reads (e.g. lambda control DNA) from fastq\n",
    "\n",
    "* FiltLong : filtering long reads by quality https://github.com/rrwick/Filtlong\n"
   ]
  },
  {
   "cell_type": "markdown",
   "id": "08ee30c7-849f-467c-a0a0-b8f34d44ebe6",
   "metadata": {},
   "source": [
    "## <span style=\"color: #4CACBD;\">4. BONUS: relaunch QC tools on the original dataset </span> <a class=\"anchor\" id=\"bonus\"></span> "
   ]
  },
  {
   "cell_type": "markdown",
   "id": "44e8a662-585a-45ab-8f53-c3d221158aa4",
   "metadata": {},
   "source": [
    "As descripted in 1.1 The dataset used previously is a sample of the original dataset."
   ]
  },
  {
   "cell_type": "code",
   "execution_count": null,
   "id": "f3f37c74-0f25-423a-9dec-c21ebeefe4d7",
   "metadata": {},
   "outputs": [],
   "source": [
    "# download sequencing summary of the original data\n",
    "\n",
    "mkdir -p ~/work/SG-ONT-2022/DATA/real_summaries/\n",
    "cd ~/work/SG-ONT-2022/DATA/real_summaries/\n",
    "wget --no-check-certificat -rm -nH --cut-dirs=1 --reject=\"index.html*\" https://itrop.ird.fr/ont-training-2022/sequencing_summary.txt"
   ]
  },
  {
   "cell_type": "markdown",
   "id": "6aaf8492-8926-4517-b08f-74dc78faf697",
   "metadata": {},
   "source": [
    "Relaunch NanoComp and NanoPlot on this sequencing summary"
   ]
  },
  {
   "cell_type": "code",
   "execution_count": null,
   "id": "7f14ed28-62a1-4464-a18f-c4e2ca787a1a",
   "metadata": {},
   "outputs": [],
   "source": [
    "NanoComp --summary sequencing_summary.txt --outdir ~/work/SG-ONT-2022/QC/NANOCOMP_real\n",
    "NanoPlot --summary sequencing_summary.txt --outdir ~/work/SG-ONT-2022/QC/NANOPLOT_real"
   ]
  },
  {
   "cell_type": "markdown",
   "id": "83bbb711-c179-44ee-8ed4-136dbb9fd072",
   "metadata": {},
   "source": [
    "Compare the outputs with the sampled ones."
   ]
  }
 ],
 "metadata": {
  "kernelspec": {
   "display_name": "Bash",
   "language": "bash",
   "name": "bash"
  },
  "language_info": {
   "codemirror_mode": "shell",
   "file_extension": ".sh",
   "mimetype": "text/x-sh",
   "name": "bash"
  }
 },
 "nbformat": 4,
 "nbformat_minor": 5
}
