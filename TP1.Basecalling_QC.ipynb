{
 "cells": [
  {
   "cell_type": "markdown",
   "id": "aff6dddb",
   "metadata": {},
   "source": [
    "# Formation 2022  \n",
    "\n",
    "##  Initiation à l’analyse de données Minion pour l'analyse de métagénome viraux\n",
    "\n",
    "Created by J. Orjuela (DIADE-IRD), D. Filloux (PHIM-CIRAD) and A. Comte (PHIM-IRD) and from a formation by J. Orjuela (DIADE-IRD), F. Sabot (DIADE-IRD) and G. Sarah (AGAP-INRAE) given in Septembre 2021\n",
    "\n",
    "Septembre 2022\n"
   ]
  },
  {
   "cell_type": "markdown",
   "id": "723395cb-5fa0-4201-9da9-c737a2046aee",
   "metadata": {},
   "source": [
    "### Our objectives in the following TP are : \n",
    "- explore the diversity of the metavirome of pineapple.\n",
    "- reconstruct the complete genome sequencing of a novel member of the genus Vitivirus in the family Betaflexiviridae (subfamily Trivirinae) infecting pineapple."
   ]
  },
  {
   "cell_type": "markdown",
   "id": "309ccfc3-cfad-424d-8fc0-6e397d8d3264",
   "metadata": {},
   "source": [
    "# TP1 : BASECALLING and QC"
   ]
  },
  {
   "cell_type": "markdown",
   "id": "45ec529f",
   "metadata": {},
   "source": [
    "## 1. Creating the folder, downloading data and so on"
   ]
  },
  {
   "cell_type": "markdown",
   "id": "6d36a152",
   "metadata": {},
   "source": [
    "### 1.1 Data"
   ]
  },
  {
   "cell_type": "markdown",
   "id": "62a3ac56",
   "metadata": {},
   "source": [
    "Before starting, please download special data created for this practical training. Data are available on the from I-Trop server."
   ]
  },
  {
   "cell_type": "markdown",
   "id": "9fb571d7",
   "metadata": {},
   "source": [
    "This data is the total RNAs extracted from pineapple leaf samples collected in Reunion Island. Nanopore sequencing was performed using a MinION portable device and the cDNA-PCR Barcoding kit.\n",
    "This original dataset contained more than 4M reads. We choose to sample it for this formation. "
   ]
  },
  {
   "cell_type": "code",
   "execution_count": null,
   "id": "181d5040-5642-4ecf-9b14-e210cdaaac69",
   "metadata": {},
   "outputs": [],
   "source": [
    "mkdir -p ~/work/SG-ONT-2022/DATA\n",
    "cd ~/work/SG-ONT-2022/DATA\n",
    "\n",
    "# download sample data already basecalled\n",
    "wget --no-check-certificat -rm -nH --cut-dirs=1 --reject=\"index.html*\" https://itrop.ird.fr/ont-training-2022/data.fastq"
   ]
  },
  {
   "cell_type": "markdown",
   "id": "1be14d7d",
   "metadata": {
    "tags": []
   },
   "source": [
    "## 2. Basecalling \n",
    "\n",
    "When DNA molecules are sequenced, electrical signals are stocked on fast5 format files.\n",
    "\n",
    "These signals need to be converted on standard fastq files to post-analysis.\n",
    "\n",
    "Several training dataset models are usually used to convert fast5 to fastq. \n",
    "\n",
    "\n",
    "### 2.1 Basecalling with Guppy"
   ]
  },
  {
   "cell_type": "markdown",
   "id": "22e07fab",
   "metadata": {},
   "source": [
    "Guppy is a data processing toolkit that contains the 'Oxford Nanopore Technologies' basecalling algorithms, and several bioinformatic post-processing features.\n",
    "\n",
    "Basecalling with guppy can be launch using guppy tool. \n",
    "\n",
    "Guppy takes fast5 raw read files and transform electrical signal in fastq files.\n",
    "\n",
    "We recommend to basecaller yours dataset using a GPU graphic card to obtain results quickly.\n",
    "\n",
    "Documentation about how to run Guppy on I-trop GPU can be found on https://bioinfo.ird.fr/index.php/tutorials-fr/gpu/\n"
   ]
  },
  {
   "cell_type": "code",
   "execution_count": null,
   "id": "313f0e1d-f714-464d-af9b-b33f32b1ef35",
   "metadata": {},
   "outputs": [],
   "source": [
    "#To see all the documentation of guppy:\n",
    "  guppy_basecaller --help"
   ]
  },
  {
   "cell_type": "markdown",
   "id": "158a23ca-33ba-4bc2-91cf-4e6f4036daf5",
   "metadata": {},
   "source": [
    "To run guppy you need to choose your configuration file accordingly to the flowcell and the kit you used for sequencing."
   ]
  },
  {
   "cell_type": "code",
   "execution_count": null,
   "id": "14d7d56a-478b-41ab-9e09-0f3eac72f6d8",
   "metadata": {},
   "outputs": [],
   "source": [
    "#List supported flowcells and kits:\n",
    "  guppy_basecaller --print_workflows"
   ]
  },
  {
   "cell_type": "markdown",
   "id": "eb099b9e-7fc4-48e6-b749-df0b97b7dc17",
   "metadata": {},
   "source": [
    "3 types of config files:\n",
    "- sup : high accuracy, very slow\n",
    "- hac : medium accuracy, medium recources needes\n",
    "- fast : poor accuracy, very fast"
   ]
  },
  {
   "cell_type": "code",
   "execution_count": null,
   "id": "87ef08a9-b971-49c6-b0ed-7fb30974c1bd",
   "metadata": {},
   "outputs": [],
   "source": [
    "Guppy can also demultiplex and trim adaptaters or barcodes."
   ]
  },
  {
   "cell_type": "markdown",
   "id": "080b0405-2638-4fbd-ac44-283eb5b60c4a",
   "metadata": {},
   "source": [
    "#### Basecalling command line <span style=\"color:red\"> (Don't run it! ) </span>"
   ]
  },
  {
   "cell_type": "code",
   "execution_count": null,
   "id": "e94c0a79",
   "metadata": {},
   "outputs": [],
   "source": [
    "guppy_basecaller -c dna_r9.4.1_450bps_sup.cfg -i fast5/ -r -s output --num_callers 4 --gpu_runners_per_device 8 --min_qscore 6 --device cuda:2 --trim_adapters --detect_adapter --detect_mid_strand_adapter --pt_scaling --do_read_splitting"
   ]
  },
  {
   "cell_type": "markdown",
   "id": "456ef94a",
   "metadata": {},
   "source": [
    "## 3. Quality Control on Long Reads\n"
   ]
  },
  {
   "cell_type": "markdown",
   "id": "afce201e",
   "metadata": {},
   "source": [
    "Calculating data quantity"
   ]
  },
  {
   "cell_type": "code",
   "execution_count": 1,
   "id": "926d9dc8-b5c8-4b8b-b8ca-002fc751276d",
   "metadata": {},
   "outputs": [
    {
     "name": "stdout",
     "output_type": "stream",
     "text": [
      "/home/jovyan/work/SG-ONT-2022/DATA\n"
     ]
    }
   ],
   "source": [
    "cd ~/work/SG-ONT-2022/DATA\n",
    "pwd"
   ]
  },
  {
   "cell_type": "markdown",
   "id": "c38c37e8-f37a-4b33-86d9-2ab37fe1c4d3",
   "metadata": {},
   "source": [
    "Calculating how many reads are in the fastq file"
   ]
  },
  {
   "cell_type": "code",
   "execution_count": 2,
   "id": "5b0b5acd-048a-477f-9323-015f7189bdda",
   "metadata": {},
   "outputs": [
    {
     "name": "stdout",
     "output_type": "stream",
     "text": [
      "906090\n"
     ]
    }
   ],
   "source": [
    "awk '{s++}END{print s/4}' data.fastq"
   ]
  },
  {
   "cell_type": "markdown",
   "id": "f311055b-f17b-40d9-8d94-ad80458a3282",
   "metadata": {},
   "source": [
    "Calculating how many bases were sequenced"
   ]
  },
  {
   "cell_type": "code",
   "execution_count": 3,
   "id": "9c25a9ee",
   "metadata": {},
   "outputs": [
    {
     "name": "stdout",
     "output_type": "stream",
     "text": [
      "595284620\n"
     ]
    }
   ],
   "source": [
    "seqtk seq -A data.fastq | grep -v \">\" | wc -m"
   ]
  },
  {
   "cell_type": "markdown",
   "id": "4e584d66-50b5-4a32-a611-e6f1419b35e5",
   "metadata": {},
   "source": [
    "What is the sequencing depth?"
   ]
  },
  {
   "cell_type": "markdown",
   "id": "ebf512dd",
   "metadata": {},
   "source": [
    "### 3.1 Quality Control of FASTQ with Nanoplot\n",
    "\n",
    "Control reads quality using Nanoplot. You can parameter this tool using --help."
   ]
  },
  {
   "cell_type": "code",
   "execution_count": 4,
   "id": "126b58ef",
   "metadata": {
    "tags": []
   },
   "outputs": [
    {
     "name": "stdout",
     "output_type": "stream",
     "text": [
      "usage: NanoPlot [-h] [-v] [-t THREADS] [--verbose] [--store] [--raw] [--huge]\n",
      "                [-o OUTDIR] [--no_static] [-p PREFIX] [--tsv_stats]\n",
      "                [--info_in_report] [--maxlength N] [--minlength N]\n",
      "                [--drop_outliers] [--downsample N] [--loglength]\n",
      "                [--percentqual] [--alength] [--minqual N] [--runtime_until N]\n",
      "                [--readtype {1D,2D,1D2}] [--barcoded] [--no_supplementary]\n",
      "                [-c COLOR] [-cm COLORMAP]\n",
      "                [-f [{png,jpg,jpeg,webp,svg,pdf,eps,json} [{png,jpg,jpeg,webp,svg,pdf,eps,json} ...]]]\n",
      "                [--plots [{kde,hex,dot} [{kde,hex,dot} ...]]]\n",
      "                [--legacy [{kde,dot,hex} [{kde,dot,hex} ...]]] [--listcolors]\n",
      "                [--listcolormaps] [--no-N50] [--N50] [--title TITLE]\n",
      "                [--font_scale FONT_SCALE] [--dpi DPI] [--hide_stats]\n",
      "                (--fastq file [file ...] | --fasta file [file ...] | --fastq_rich file [file ...] | --fastq_minimal file [file ...] | --summary file [file ...] | --bam file [file ...] | --ubam file [file ...] | --cram file [file ...] | --pickle pickle | --feather file [file ...])\n",
      "\n",
      "CREATES VARIOUS PLOTS FOR LONG READ SEQUENCING DATA.\n",
      "\n",
      "General options:\n",
      "  -h, --help            show the help and exit\n",
      "  -v, --version         Print version and exit.\n",
      "  -t, --threads THREADS\n",
      "                        Set the allowed number of threads to be used by the script\n",
      "  --verbose             Write log messages also to terminal.\n",
      "  --store               Store the extracted data in a pickle file for future plotting.\n",
      "  --raw                 Store the extracted data in tab separated file.\n",
      "  --huge                Input data is one very large file.\n",
      "  -o, --outdir OUTDIR   Specify directory in which output has to be created.\n",
      "  --no_static           Do not make static (png) plots.\n",
      "  -p, --prefix PREFIX   Specify an optional prefix to be used for the output files.\n",
      "  --tsv_stats           Output the stats file as a properly formatted TSV.\n",
      "  --info_in_report      Add NanoPlot run info in the report.\n",
      "\n",
      "Options for filtering or transforming input prior to plotting:\n",
      "  --maxlength N         Hide reads longer than length specified.\n",
      "  --minlength N         Hide reads shorter than length specified.\n",
      "  --drop_outliers       Drop outlier reads with extreme long length.\n",
      "  --downsample N        Reduce dataset to N reads by random sampling.\n",
      "  --loglength           Additionally show logarithmic scaling of lengths in plots.\n",
      "  --percentqual         Use qualities as theoretical percent identities.\n",
      "  --alength             Use aligned read lengths rather than sequenced length (bam mode)\n",
      "  --minqual N           Drop reads with an average quality lower than specified.\n",
      "  --runtime_until N     Only take the N first hours of a run\n",
      "  --readtype {1D,2D,1D2}\n",
      "                        Which read type to extract information about from summary. Options are 1D, 2D,\n",
      "                        1D2\n",
      "  --barcoded            Use if you want to split the summary file by barcode\n",
      "  --no_supplementary    Use if you want to remove supplementary alignments\n",
      "\n",
      "Options for customizing the plots created:\n",
      "  -c, --color COLOR     Specify a valid matplotlib color for the plots\n",
      "  -cm, --colormap COLORMAP\n",
      "                        Specify a valid matplotlib colormap for the heatmap\n",
      "  -f, --format [{png,jpg,jpeg,webp,svg,pdf,eps,json} [{png,jpg,jpeg,webp,svg,pdf,eps,json} ...]]\n",
      "                        Specify the output format of the plots, which are in addition to the html files\n",
      "  --plots [{kde,hex,dot} [{kde,hex,dot} ...]]\n",
      "                        Specify which bivariate plots have to be made.\n",
      "  --legacy [{kde,dot,hex} [{kde,dot,hex} ...]]\n",
      "                        Specify which bivariate plots have to be made (legacy mode).\n",
      "  --listcolors          List the colors which are available for plotting and exit.\n",
      "  --listcolormaps       List the colors which are available for plotting and exit.\n",
      "  --no-N50              Hide the N50 mark in the read length histogram\n",
      "  --N50                 Show the N50 mark in the read length histogram\n",
      "  --title TITLE         Add a title to all plots, requires quoting if using spaces\n",
      "  --font_scale FONT_SCALE\n",
      "                        Scale the font of the plots by a factor\n",
      "  --dpi DPI             Set the dpi for saving images\n",
      "  --hide_stats          Not adding Pearson R stats in some bivariate plots\n",
      "\n",
      "Input data sources, one of these is required.:\n",
      "  --fastq file [file ...]\n",
      "                        Data is in one or more default fastq file(s).\n",
      "  --fasta file [file ...]\n",
      "                        Data is in one or more fasta file(s).\n",
      "  --fastq_rich file [file ...]\n",
      "                        Data is in one or more fastq file(s) generated by albacore, MinKNOW or guppy\n",
      "                        with additional information concerning channel and time.\n",
      "  --fastq_minimal file [file ...]\n",
      "                        Data is in one or more fastq file(s) generated by albacore, MinKNOW or guppy\n",
      "                        with additional information concerning channel and time. Is extracted swiftly\n",
      "                        without elaborate checks.\n",
      "  --summary file [file ...]\n",
      "                        Data is in one or more summary file(s) generated by albacore or guppy.\n",
      "  --bam file [file ...]\n",
      "                        Data is in one or more sorted bam file(s).\n",
      "  --ubam file [file ...]\n",
      "                        Data is in one or more unmapped bam file(s).\n",
      "  --cram file [file ...]\n",
      "                        Data is in one or more sorted cram file(s).\n",
      "  --pickle pickle       Data is a pickle file stored earlier.\n",
      "  --feather file [file ...]\n",
      "                        Data is in one or more feather file(s).\n",
      "\n",
      "EXAMPLES:\n",
      "    NanoPlot --summary sequencing_summary.txt --loglength -o summary-plots-log-transformed\n",
      "    NanoPlot -t 2 --fastq reads1.fastq.gz reads2.fastq.gz --maxlength 40000 --plots hex dot\n",
      "    NanoPlot --color yellow --bam alignment1.bam alignment2.bam alignment3.bam --downsample 10000\n",
      "    \n"
     ]
    }
   ],
   "source": [
    "NanoPlot --help"
   ]
  },
  {
   "cell_type": "markdown",
   "id": "df8bfdd5",
   "metadata": {},
   "source": [
    "Launch NanoPlot. You can launch NanoPlot using summaries or fastq files."
   ]
  },
  {
   "cell_type": "code",
   "execution_count": 5,
   "id": "70c5bd7e-aad2-4115-abdc-198a8180b2ac",
   "metadata": {},
   "outputs": [],
   "source": [
    "# create a folder to save results\n",
    "mkdir -p ~/work/SG-ONT-2022/QC\n",
    "cd ~/work/SG-ONT-2022/QC"
   ]
  },
  {
   "cell_type": "code",
   "execution_count": 6,
   "id": "5ac0782d-883b-4704-a71b-228b0664a74b",
   "metadata": {
    "tags": []
   },
   "outputs": [],
   "source": [
    "###### run nanoplot \n",
    "NanoPlot -t 1 --fastq  ../DATA/data.fastq --outdir NANOPLOT"
   ]
  },
  {
   "cell_type": "markdown",
   "id": "52d4b4c2-3993-4f77-b8b6-079786348502",
   "metadata": {},
   "source": [
    "Check stats on created NanoStats file."
   ]
  },
  {
   "cell_type": "code",
   "execution_count": 7,
   "id": "2f34702f",
   "metadata": {},
   "outputs": [
    {
     "name": "stdout",
     "output_type": "stream",
     "text": [
      "General summary:         \n",
      "Mean read length:                  656.0\n",
      "Mean read quality:                  11.2\n",
      "Median read length:                463.0\n",
      "Median read quality:                11.4\n",
      "Number of reads:               906,090.0\n",
      "Read length N50:                   823.0\n",
      "STDEV read length:                 488.3\n",
      "Total bases:               594,378,530.0\n",
      "Number, percentage and megabases of reads above quality cutoffs\n",
      ">Q5:\t906018 (100.0%) 594.4Mb\n",
      ">Q7:\t835966 (92.3%) 557.4Mb\n",
      ">Q10:\t624742 (68.9%) 452.8Mb\n",
      ">Q12:\t363812 (40.2%) 310.6Mb\n",
      ">Q15:\t48881 (5.4%) 57.8Mb\n",
      "Top 5 highest mean basecall quality scores and their read lengths\n",
      "1:\t90.0 (170)\n",
      "2:\t33.5 (168)\n",
      "3:\t30.5 (205)\n",
      "4:\t30.0 (439)\n",
      "5:\t28.1 (42)\n",
      "Top 5 longest reads and their mean basecall quality score\n",
      "1:\t28048 (6.5)\n",
      "2:\t9381 (8.9)\n",
      "3:\t8696 (9.0)\n",
      "4:\t7423 (10.1)\n",
      "5:\t6749 (8.6)\n"
     ]
    }
   ],
   "source": [
    "cat NANOPLOT/NanoStats.txt"
   ]
  },
  {
   "cell_type": "markdown",
   "id": "8a9507e3",
   "metadata": {},
   "source": [
    "* What do you think about data? \n",
    "\n",
    "* Estimate coverage.\n",
    "\n",
    "* What about reads quality qscore?"
   ]
  },
  {
   "cell_type": "markdown",
   "id": "781a184f-c6c0-4d02-80f6-c30ba9d82279",
   "metadata": {},
   "source": [
    "Observe NanoPlot-report.html.\n",
    "\n",
    "To open it on jupyter you need to click on \"trust HTML\".\n",
    "\n",
    "* what about this dataset?"
   ]
  },
  {
   "cell_type": "markdown",
   "id": "19638aba",
   "metadata": {},
   "source": [
    "### 3.2 Compare reads QC statistics with NanoComp (Summaries dataset)"
   ]
  },
  {
   "cell_type": "markdown",
   "id": "cf63dea7",
   "metadata": {},
   "source": [
    "Compare long reads sequencing datasets using **NanoComp**.\n",
    "\n",
    "NanoComp compiles quality information in a useful html report.\n",
    "\n",
    "You can launch NanoComp using summaries or fastq files."
   ]
  },
  {
   "cell_type": "code",
   "execution_count": null,
   "id": "c23cdac6",
   "metadata": {
    "tags": []
   },
   "outputs": [],
   "source": [
    "NanoComp --help"
   ]
  },
  {
   "cell_type": "code",
   "execution_count": null,
   "id": "44f735e0",
   "metadata": {},
   "outputs": [],
   "source": [
    "NanoComp --fastq ../DATA/data.fastq --outdir NANOCOMP"
   ]
  },
  {
   "cell_type": "markdown",
   "id": "192ec507",
   "metadata": {},
   "source": [
    "###  Others complemental tools: \n",
    "\n",
    "https://github.com/wdecoster/NanoPlot#companion-scripts\n",
    "\n",
    "* NanoComp: comparing multiple runs\n",
    "\n",
    "* NanoStat: statistic summary report of reads or alignments\n",
    "\n",
    "* NanoFilt: filtering and trimming of reads\n",
    "\n",
    "* NanoLyse: removing contaminant reads (e.g. lambda control DNA) from fastq\n",
    "\n",
    "* FiltLong : filtering long reads by quality https://github.com/rrwick/Filtlong\n"
   ]
  },
  {
   "cell_type": "markdown",
   "id": "08ee30c7-849f-467c-a0a0-b8f34d44ebe6",
   "metadata": {},
   "source": [
    "## 4. BONUS: relaunch QC tools on the original dataset"
   ]
  },
  {
   "cell_type": "markdown",
   "id": "44e8a662-585a-45ab-8f53-c3d221158aa4",
   "metadata": {},
   "source": [
    "As descripted in 1.1 The dataset used previously is a sample of the original dataset."
   ]
  },
  {
   "cell_type": "code",
   "execution_count": null,
   "id": "f3f37c74-0f25-423a-9dec-c21ebeefe4d7",
   "metadata": {},
   "outputs": [],
   "source": [
    "# download sequencing summary of the original data\n",
    "\n",
    "mkdir -p ~/SG-ONT-2022/DATA/real_summaries/\n",
    "cd ~/SG-ONT-2022/DATA/real_summaries/\n",
    "wget --no-check-certificat -rm -nH --cut-dirs=1 --reject=\"index.html*\" https://itrop.ird.fr/ont-training-2022/sequencing_summary.txt"
   ]
  },
  {
   "cell_type": "markdown",
   "id": "6aaf8492-8926-4517-b08f-74dc78faf697",
   "metadata": {},
   "source": [
    "Relaunch NanoComp and NanoPlot on this sequencing summary"
   ]
  },
  {
   "cell_type": "code",
   "execution_count": null,
   "id": "7f14ed28-62a1-4464-a18f-c4e2ca787a1a",
   "metadata": {},
   "outputs": [],
   "source": [
    "NanoComp --summary sequencing_summary.txt --outdir NANOCOMP_real\n",
    "NanoPlot --summary sequencing_summary.txt --outdir NANOPLOT_real"
   ]
  },
  {
   "cell_type": "markdown",
   "id": "83bbb711-c179-44ee-8ed4-136dbb9fd072",
   "metadata": {},
   "source": [
    "Compare the outputs with the sampled ones."
   ]
  }
 ],
 "metadata": {
  "kernelspec": {
   "display_name": "Bash",
   "language": "bash",
   "name": "bash"
  },
  "language_info": {
   "codemirror_mode": "shell",
   "file_extension": ".sh",
   "mimetype": "text/x-sh",
   "name": "bash"
  }
 },
 "nbformat": 4,
 "nbformat_minor": 5
}
