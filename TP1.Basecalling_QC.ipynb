{
 "cells": [
  {
   "cell_type": "markdown",
   "id": "aff6dddb",
   "metadata": {},
   "source": [
    "# Formation 2022  \n",
    "\n",
    "##  Initiation à l’analyse de données Minion pour l'analyse de métagénome viraux\n",
    "\n",
    "### PART 1\n",
    "\n",
    "Created by J. Orjuela (DIADE-IRD), A. Comte (PHIM-IRD) and D. Filloux (PHIM-CIRAD) from a formation by J. Orjuela (DIADE-IRD), F. Sabot (DIADE-IRD) and G. Sarah (AGAP-INRAE) given in Septembre 2021\n",
    "\n",
    "Septembre 2022"
   ]
  },
  {
   "cell_type": "markdown",
   "id": "45ec529f",
   "metadata": {},
   "source": [
    "## 1. Creating the folder, downloading data and so on"
   ]
  },
  {
   "cell_type": "markdown",
   "id": "6d36a152",
   "metadata": {},
   "source": [
    "### 1.1 Data"
   ]
  },
  {
   "cell_type": "markdown",
   "id": "62a3ac56",
   "metadata": {},
   "source": [
    "Before starting, please download special data created for this practical training. Data are available on the from I-Trop server."
   ]
  },
  {
   "cell_type": "markdown",
   "id": "9fb571d7",
   "metadata": {},
   "source": [
    "This data are pineapple metagenome.... (description++)"
   ]
  },
  {
   "cell_type": "code",
   "execution_count": null,
   "id": "181d5040-5642-4ecf-9b14-e210cdaaac69",
   "metadata": {},
   "outputs": [],
   "source": [
    "cd ~\n",
    "mkdir -p SG-ONT-2022/DATA\n",
    "cd SG-ONT-2022/DATA\n",
    "\n",
    "# download data already basecalled\n",
    "wget --no-check-certificat -rm -nH --cut-dirs=1 --reject=\"index.html*\" https://itrop.ird.fr/ont-training-2022/data.fastq\n",
    "wget --no-check-certificat -rm -nH --cut-dirs=1 --reject=\"index.html*\" https://itrop.ird.fr/ont-training-2022/sequencing_summary.txt"
   ]
  },
  {
   "cell_type": "markdown",
   "id": "2d1b105f",
   "metadata": {},
   "source": [
    "### 1.2 Reference Genome\n",
    "\n",
    "For cleaning the dataset, you need to download the reference genome of the host (pineapple).\n",
    "\n",
    "These data comme from [NCBI.](https://www.ncbi.nlm.nih.gov/data-hub/genome/GCF_001540865.1/)\n"
   ]
  },
  {
   "cell_type": "code",
   "execution_count": null,
   "id": "f3148e05",
   "metadata": {},
   "outputs": [],
   "source": [
    "cd ~/SG-ONT-2022/DATA\n",
    "\n",
    "# download reference genome of the pineapple\n",
    "wget --no-check-certificat -rm -nH --cut-dirs=1 --reject=\"index.html*\" https://itrop.ird.fr/ont-training-2022/GCA_001540865.1_Ananas_comosus_cultivar_F153.fasta"
   ]
  },
  {
   "cell_type": "markdown",
   "id": "1be14d7d",
   "metadata": {
    "tags": []
   },
   "source": [
    "## 2. Basecalling \n",
    "\n",
    "When DNA molecules are sequenced, electrical signals are stocked on fast5 format files.\n",
    "\n",
    "These signals need to be converted on standard fastq files to post-analysis.\n",
    "\n",
    "Several training dataset models are usually used to convert fast5 to fastq. \n",
    "\n",
    "\n",
    "### 2.1 Basecalling with Guppy"
   ]
  },
  {
   "cell_type": "markdown",
   "id": "22e07fab",
   "metadata": {},
   "source": [
    "Guppy is a data processing toolkit that contains the 'Oxford Nanopore Technologies' basecalling algorithms, and several bioinformatic post-processing features.\n",
    "\n",
    "Basecalling with guppy can be launch using guppy tool. \n",
    "\n",
    "Guppy takes fast5 raw read files and transform electrical signal in fastq files.\n",
    "\n",
    "We recommend to basecaller yours dataset using a GPU graphic card to obtain results quickly.\n",
    "\n",
    "Documentation about how to run Guppy on I-trop GPU can be found on https://bioinfo.ird.fr/index.php/tutorials-fr/gpu/\n"
   ]
  },
  {
   "cell_type": "code",
   "execution_count": null,
   "id": "313f0e1d-f714-464d-af9b-b33f32b1ef35",
   "metadata": {},
   "outputs": [],
   "source": [
    "#To see all the documentation of guppy:\n",
    "  guppy_basecaller --help"
   ]
  },
  {
   "cell_type": "markdown",
   "id": "158a23ca-33ba-4bc2-91cf-4e6f4036daf5",
   "metadata": {},
   "source": [
    "To run guppy you need to choose your configuration file accordingly to the flowcell and the kityou used for sequencing."
   ]
  },
  {
   "cell_type": "code",
   "execution_count": null,
   "id": "14d7d56a-478b-41ab-9e09-0f3eac72f6d8",
   "metadata": {},
   "outputs": [],
   "source": [
    "#List supported flowcells and kits:\n",
    "  guppy_basecaller --print_workflows"
   ]
  },
  {
   "cell_type": "markdown",
   "id": "eb099b9e-7fc4-48e6-b749-df0b97b7dc17",
   "metadata": {},
   "source": [
    "3 types of config files:\n",
    "- sup : high accuracy, very slow\n",
    "- hac : medium accuracy, medium recources needes\n",
    "- fast : poor accuracy, very fast"
   ]
  },
  {
   "cell_type": "markdown",
   "id": "080b0405-2638-4fbd-ac44-283eb5b60c4a",
   "metadata": {},
   "source": [
    "#### Basecalling command line <span style=\"color:red\"> (Don't run it! ) </span>"
   ]
  },
  {
   "cell_type": "code",
   "execution_count": null,
   "id": "e94c0a79",
   "metadata": {},
   "outputs": [],
   "source": [
    "guppy_basecaller -c dna_r9.4.1_450bps_sup.cfg -i fast5/ -r -s output --num_callers 4 --gpu_runners_per_device 8 --min_qscore 6 --device cuda:2 --trim_adapters --detect_adapter --detect_mid_strand_adapter --pt_scaling --do_read_splitting"
   ]
  },
  {
   "cell_type": "markdown",
   "id": "456ef94a",
   "metadata": {},
   "source": [
    "## 3. Quality Control on Long Reads\n"
   ]
  },
  {
   "cell_type": "markdown",
   "id": "afce201e",
   "metadata": {},
   "source": [
    "Calculating data quantity"
   ]
  },
  {
   "cell_type": "code",
   "execution_count": null,
   "id": "926d9dc8-b5c8-4b8b-b8ca-002fc751276d",
   "metadata": {},
   "outputs": [],
   "source": [
    "cd ~/SG-ONT-2022/DATA\n",
    "pwd"
   ]
  },
  {
   "cell_type": "markdown",
   "id": "c38c37e8-f37a-4b33-86d9-2ab37fe1c4d3",
   "metadata": {},
   "source": [
    "Calculating how many reads are in the fastq file"
   ]
  },
  {
   "cell_type": "code",
   "execution_count": null,
   "id": "5b0b5acd-048a-477f-9323-015f7189bdda",
   "metadata": {},
   "outputs": [],
   "source": [
    "awk '{s++}END{print s/4}' data.fastq"
   ]
  },
  {
   "cell_type": "markdown",
   "id": "f311055b-f17b-40d9-8d94-ad80458a3282",
   "metadata": {},
   "source": [
    "Calculating how many bases were sequenced"
   ]
  },
  {
   "cell_type": "code",
   "execution_count": null,
   "id": "9c25a9ee",
   "metadata": {},
   "outputs": [],
   "source": [
    "seqtk seq -A data.fastq | grep -v \">\" |wc -m"
   ]
  },
  {
   "cell_type": "markdown",
   "id": "4e584d66-50b5-4a32-a611-e6f1419b35e5",
   "metadata": {},
   "source": [
    "What is the sequencing depth?"
   ]
  },
  {
   "cell_type": "markdown",
   "id": "ebf512dd",
   "metadata": {},
   "source": [
    "### 3.1 Quality Control of FASTQ with Nanoplot\n",
    "\n",
    "Control reads quality using Nanoplot. You can parameter this tool using --help."
   ]
  },
  {
   "cell_type": "code",
   "execution_count": null,
   "id": "126b58ef",
   "metadata": {
    "tags": []
   },
   "outputs": [],
   "source": [
    "NanoPlot --help"
   ]
  },
  {
   "cell_type": "markdown",
   "id": "df8bfdd5",
   "metadata": {},
   "source": [
    "Launch NanoPlot. You can launch NanoPlot using summaries or fastq files."
   ]
  },
  {
   "cell_type": "code",
   "execution_count": null,
   "id": "70c5bd7e-aad2-4115-abdc-198a8180b2ac",
   "metadata": {},
   "outputs": [],
   "source": [
    "# create a folder to save results\n",
    "mkdir -p ~/SG-ONT-2022/RESULTS\n",
    "cd ~/SG-ONT-2022/RESULTS"
   ]
  },
  {
   "cell_type": "markdown",
   "id": "e1630460-c475-48cd-a859-a060c83e7bf0",
   "metadata": {
    "tags": []
   },
   "source": [
    "###### run nanoplot \n",
    "NanoPlot -t 1 --summary sequencing_summary.txt --outdir NANOPLOT"
   ]
  },
  {
   "cell_type": "markdown",
   "id": "52d4b4c2-3993-4f77-b8b6-079786348502",
   "metadata": {},
   "source": [
    "Check stats on created NanoStats file."
   ]
  },
  {
   "cell_type": "code",
   "execution_count": null,
   "id": "2f34702f",
   "metadata": {},
   "outputs": [],
   "source": [
    "cat NANOPLOT/NanoStats.txt"
   ]
  },
  {
   "cell_type": "markdown",
   "id": "8a9507e3",
   "metadata": {},
   "source": [
    "* What do you think about data? \n",
    "\n",
    "* Estimate coverage.\n",
    "\n",
    "* What about reads quality qscore?"
   ]
  },
  {
   "cell_type": "markdown",
   "id": "1258e568-39ff-4f63-b2ec-f7baf1f76eba",
   "metadata": {},
   "source": [
    "### 3.2 Quality Control of FASTQ with Nanoplot (Hh real data --fastq )"
   ]
  },
  {
   "cell_type": "markdown",
   "id": "d9e0fbc5-847b-4f90-99da-79fff9e9e05c",
   "metadata": {},
   "source": [
    "Check quality using NanoPlot over Hh real data fastq. This can take a while."
   ]
  },
  {
   "cell_type": "code",
   "execution_count": null,
   "id": "60aa698d-3a7b-48b3-a6c7-14ea65523f0d",
   "metadata": {},
   "outputs": [],
   "source": [
    "cd ~/SG-ONT-2022/RESULTS/\n",
    "pwd"
   ]
  },
  {
   "cell_type": "markdown",
   "id": "6d294d92-26f5-49c4-8bb3-d7c768f5d9bd",
   "metadata": {},
   "source": [
    "**The following Nanoplot will run for a few minutes**"
   ]
  },
  {
   "cell_type": "code",
   "execution_count": null,
   "id": "4c303953-6ec2-44ad-9139-9b769304eb6a",
   "metadata": {},
   "outputs": [],
   "source": [
    "time NanoPlot -t 1 --fastq ../DATA/real_Hh/H_M1C132_1.fastq.gz --outdir NANOPLOT_Hh"
   ]
  },
  {
   "cell_type": "markdown",
   "id": "781a184f-c6c0-4d02-80f6-c30ba9d82279",
   "metadata": {},
   "source": [
    "Observe report.html.\n",
    "\n",
    "* what about this dataset?"
   ]
  },
  {
   "cell_type": "markdown",
   "id": "19638aba",
   "metadata": {},
   "source": [
    "### 3.3 Compare reads QC statistics with NanoComp (Summaries dataset)"
   ]
  },
  {
   "cell_type": "markdown",
   "id": "cf63dea7",
   "metadata": {},
   "source": [
    "Compare long reads sequencing datasets using **NanoComp**.\n",
    "\n",
    "NanoComp compiles quality information in a useful html report.\n",
    "\n",
    "You can launch NanoComp using summaries or fastq files."
   ]
  },
  {
   "cell_type": "code",
   "execution_count": null,
   "id": "c23cdac6",
   "metadata": {
    "tags": []
   },
   "outputs": [],
   "source": [
    "NanoComp --help"
   ]
  },
  {
   "cell_type": "markdown",
   "id": "741db910",
   "metadata": {},
   "source": [
    "\n",
    "For the moment, we used only a Clone and simulated data. \n",
    "\n",
    "Please download a \"summaries\" obtained in paspalum real data. \n",
    "\n",
    "Download available 'Real_PSummaries' to compare them. \n"
   ]
  },
  {
   "cell_type": "code",
   "execution_count": null,
   "id": "96c6fa06-d6fc-4635-abfb-c00e945a0629",
   "metadata": {},
   "outputs": [],
   "source": [
    "cd ~/SG-ONT-2021/DATA\n",
    "wget --no-check-certificat -rm -nH --cut-dirs=1 --reject=\"index.html*\" https://itrop.ird.fr/ont-training/real_summaries.tar.gz"
   ]
  },
  {
   "cell_type": "code",
   "execution_count": null,
   "id": "0883c0d7-8edd-43cc-95cb-ad793e7513b1",
   "metadata": {},
   "outputs": [],
   "source": [
    "#decompress \n",
    "tar -zxvf real_summaries.tar.gz"
   ]
  },
  {
   "cell_type": "code",
   "execution_count": null,
   "id": "397a5f12-ff2a-4cd2-a738-b9e4d8a0eb56",
   "metadata": {},
   "outputs": [],
   "source": [
    "cd ~/SG-ONT-2021/DATA/real_summaries/\n",
    "ls -lh  *txt"
   ]
  },
  {
   "cell_type": "markdown",
   "id": "d34d1a48-2444-411c-bf64-7e88befa034b",
   "metadata": {},
   "source": [
    "Compare this 3 summaries files with NanoComp"
   ]
  },
  {
   "cell_type": "code",
   "execution_count": null,
   "id": "44f735e0",
   "metadata": {},
   "outputs": [],
   "source": [
    "time NanoComp --summary OLD_summary.txt FF_summary.txt BON_summary.txt --outdir ~/SG-ONT-2021/RESULTS/NANOCOMP-realsummaries"
   ]
  },
  {
   "cell_type": "code",
   "execution_count": null,
   "id": "a5cdeeea-fc37-46fa-beba-b64769fb50b5",
   "metadata": {},
   "outputs": [],
   "source": [
    "conda deactivate"
   ]
  },
  {
   "cell_type": "markdown",
   "id": "192ec507",
   "metadata": {},
   "source": [
    "###  Others complemental tools: \n",
    "\n",
    "https://github.com/wdecoster/NanoPlot#companion-scripts\n",
    "\n",
    "* NanoComp: comparing multiple runs\n",
    "\n",
    "* NanoStat: statistic summary report of reads or alignments\n",
    "\n",
    "* NanoFilt: filtering and trimming of reads\n",
    "\n",
    "* NanoLyse: removing contaminant reads (e.g. lambda control DNA) from fastq\n",
    "\n",
    "FiltLong : filtering long reads by quality https://github.com/rrwick/Filtlong\n"
   ]
  }
 ],
 "metadata": {
  "kernelspec": {
   "display_name": "Bash",
   "language": "bash",
   "name": "bash"
  },
  "language_info": {
   "codemirror_mode": "shell",
   "file_extension": ".sh",
   "mimetype": "text/x-sh",
   "name": "bash"
  }
 },
 "nbformat": 4,
 "nbformat_minor": 5
}
