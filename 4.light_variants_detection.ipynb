{
 "cells": [
  {
   "cell_type": "markdown",
   "id": "2f09a11c",
   "metadata": {},
   "source": [
    "\n",
    "# <span style=\"color:#006E7F\">__Introduction to Oxford Nanopore Data Analysis__ <a class=\"anchor\"></span>  \n",
    "\n",
    "\n",
    "Created by J. Orjuela (DIADE-IRD), F. Sabot (DIADE-IRD) and G. Sarah (AGAP-INRAE) - Septembre 2021 Formation SouthGreen\n",
    "\n",
    "Adapted by J. Orjuela (DIADE-IRD), F. Sabot (DIADE-IRD) - Novembre 2022"
   ]
  },
  {
   "cell_type": "markdown",
   "id": "3d07c5cc",
   "metadata": {
    "tags": []
   },
   "source": [
    "# <span style=\"color:#006E7F\">__TP4 - VARIANTS DETECTION__ <a class=\"anchor\" id=\"data\"></span>  \n",
    "    \n",
    "# <span style=\"color: #4CACBC;\"> Structural variation with Sniffles</span>  \n",
    "\n",
    "Sniffles is a structural variation caller using third generation sequencing (PacBio or Oxford Nanopore). It detects all types of SVs (10bp+) using evidence from split-read alignments, high-mismatch regions, and coverage analysis.\n",
    "\n",
    "https://github.com/fritzsedlazeck/Sniffles\n",
    "\n",
    "In the following exercices, we will :\n",
    "* map the long reads of the `4222`, `B8` and `G11` samples against the reference genome `GCA_002220235.1_ASM222023v1_genomic`\n",
    "* call SV and create a ?snf file for each sample\n",
    "* merge calling using the snf files into a single .vcf \n",
    "\n",
    "------"
   ]
  },
  {
   "cell_type": "markdown",
   "id": "9e172e4a-4c5b-4c84-bdfe-1c13c2d586bd",
   "metadata": {
    "tags": []
   },
   "source": [
    "# <span style=\"color: #4CACBC;\">1. Mapping and SV detection for all algae samples</span>  \n"
   ]
  },
  {
   "cell_type": "markdown",
   "id": "8261032c-dcc2-4fdb-bc6c-380c228f3abb",
   "metadata": {},
   "source": [
    "#### __Mapping Long Reads against the reference genome__\n",
    "\n",
    "* Go into the`RESULTS` directory and create the directory `SNIFFLES`\n",
    "* Perform the mapping with `minimaps2` https://github.com/lh3/minimap2\n",
    "* Sort the bam file with `samtools sort` and index the bam file created\n",
    "\n",
    "```\n",
    "minimap2 -ax map-ont -t 8 --MD -R '@RG\\tID:SAMPLE_ID\\tSM:SAMPLE_ID'  REF_FILE FASTQ_FILE > SAM_FILE\n",
    "```"
   ]
  },
  {
   "cell_type": "markdown",
   "id": "fe05097b-ca12-479a-8daa-1ca0c01507ed",
   "metadata": {
    "tags": []
   },
   "source": [
    "#### __Preparing data before mapping__\n",
    "\n",
    "List the `DATA` directory and check long reads from A8, 5417 and G11 samples."
   ]
  },
  {
   "cell_type": "code",
   "execution_count": null,
   "id": "9f81243a-b1d1-4f68-9fe3-ceec47a9c13f",
   "metadata": {
    "tags": []
   },
   "outputs": [],
   "source": [
    "ls -l ~/work/DATA/"
   ]
  },
  {
   "cell_type": "markdown",
   "id": "5bfb5d49-611b-4c00-9e3b-8d52c024182a",
   "metadata": {},
   "source": [
    "Don'f forget, we have already download genomic reference GCA_002220235.1_ASM222023v1 in notebook 2, check annotation file (gtf or gff) in `REF` directory"
   ]
  },
  {
   "cell_type": "code",
   "execution_count": null,
   "id": "13474807-c0f2-4d71-ac85-aae834302073",
   "metadata": {},
   "outputs": [],
   "source": [
    "# create SNIFFLES folder\n",
    "mkdir -p ~/work/RESULTS/SNIFFLES/\n",
    "cd  ~/work/RESULTS/SNIFFLES/\n",
    "\n",
    "# symbolic links of reference \n",
    "ln -s /home/jovyan/work/DATA/REF/GCA_002220235.1_ASM222023v1_genomic.fna .\n"
   ]
  },
  {
   "cell_type": "code",
   "execution_count": null,
   "id": "e8800be2-1812-43b9-9e43-77aaadbbed3a",
   "metadata": {},
   "outputs": [],
   "source": [
    "ls ~/work/RESULTS/SNIFFLES/"
   ]
  },
  {
   "cell_type": "code",
   "execution_count": null,
   "id": "7767a876-7e73-4f3b-adcb-3d90226cce8d",
   "metadata": {},
   "outputs": [],
   "source": []
  },
  {
   "cell_type": "markdown",
   "id": "25b04776-4eba-45ad-8e19-a75827465cf0",
   "metadata": {},
   "source": [
    "\n",
    "### Obtain calls for each samples\n",
    "\n",
    "Call SV candidates and create an associated .snf file for each sample:\n",
    "\n",
    "`sniffles --input sample1.bam --snf sample1.snf`\n"
   ]
  },
  {
   "cell_type": "code",
   "execution_count": null,
   "id": "ea080741-d309-483d-824b-7ccd75b6ac64",
   "metadata": {
    "tags": []
   },
   "outputs": [],
   "source": [
    "for i in {\"4222_RB2\",\"B8_RB11\",\"G11_RB6_2022\"}\n",
    "    do\n",
    "      cd  ~/work/RESULTS/SNIFFLES/\n",
    "      echo \"============ sample : $i==============\";\n",
    "      NAMESAMPLE=\"${i}\"\n",
    "      REF=\"GCA_002220235.1_ASM222023v1_genomic.fna\"\n",
    "      ONT=\"/home/jovyan/work/DATA/${NAMESAMPLE}.fastq.gz\" \n",
    "      ## Mapping using minimap2 : Mapping ONT reads (clone) vs a reference using minimap2 \n",
    "      minimap2 -t 8 -ax map-ont --MD  -R '@RG\\tID:${CLONE}\\tSM:${CLONE}' ${REF} ${ONT} > ${NAMESAMPLE}.bam\n",
    "      ## Sort BAM\n",
    "      samtools sort -@8 -o ${NAMESAMPLE}_SORTED.bam ${NAMESAMPLE}.bam\n",
    "      #index bam\n",
    "      samtools index -@8 ${NAMESAMPLE}_SORTED.bam\n",
    "      # Obtain calls for a samples\n",
    "      sniffles -t 8 -i ${NAMESAMPLE}_SORTED.bam --snf ${NAMESAMPLE}.snf --allow-overwrite   > ${NAMESAMPLE}_SV.log\n",
    "    done\n",
    "\n",
    "# -s/--min_support\tMinimum number of reads that support a SV to be reported. Default: 10\n",
    "# -l/--min_length\tMinimum length of SV to be reported. Default: 30bp\n",
    "# -q/--minmapping_qual\tMinimum mapping quality of alignment to be taken into account. Default: 20\n",
    "# -r/--min_seq_size\tDiscard read if non of its segment is larger then this. Default: 2kb"
   ]
  },
  {
   "cell_type": "markdown",
   "id": "8fb4bc4d-1841-4aa7-906b-b6ad3548e03d",
   "metadata": {},
   "source": [
    "### Count the number of variations, \n",
    "\n",
    "How much SV were found for each sample ? \n",
    "\n",
    "check log files !"
   ]
  },
  {
   "cell_type": "markdown",
   "id": "2eb9c407-7623-4f4d-a301-bdf34359ae58",
   "metadata": {
    "tags": []
   },
   "source": [
    "# <span style=\"color: #4CACBC;\"> 2. Merge all the vcf files across all samples</span>  "
   ]
  },
  {
   "cell_type": "markdown",
   "id": "17708c16-00af-4257-a61e-313bacef1e3c",
   "metadata": {},
   "source": [
    "Combined calling using multiple .snf files into a single .vcf: \n",
    "\n",
    "`sniffles --input sample1.snf sample2.snf ... sampleN.snf --vcf multisample.vcf`"
   ]
  },
  {
   "cell_type": "code",
   "execution_count": null,
   "id": "6d8cade3-886d-4da4-a01b-4e4aee608b32",
   "metadata": {},
   "outputs": [],
   "source": [
    "sniffles --input 4222_RB2.snf B8_RB11.snf G11_RB6_2022.snf --vcf multisample.vcf --allow-overwrite"
   ]
  },
  {
   "cell_type": "markdown",
   "id": "2c885731-9eea-4e20-8e41-643f766637b0",
   "metadata": {
    "tags": []
   },
   "source": [
    "# Have a look on the VCF file"
   ]
  },
  {
   "cell_type": "code",
   "execution_count": null,
   "id": "b1deb0bb-3b0d-44b3-9428-d9a78632b30d",
   "metadata": {},
   "outputs": [],
   "source": [
    "head -n 100 multisample.vcf | tail -n 5"
   ]
  },
  {
   "cell_type": "markdown",
   "id": "d5bc5de2-94a3-4c10-9b27-a51b27a34c02",
   "metadata": {},
   "source": [
    "# Count the number of SVs `bftools stats`\n"
   ]
  },
  {
   "cell_type": "code",
   "execution_count": null,
   "id": "d5248b43-6a9d-4d92-8baa-4134026a07b5",
   "metadata": {},
   "outputs": [],
   "source": [
    "bcftools stats multisample.vcf | head -n30"
   ]
  },
  {
   "cell_type": "markdown",
   "id": "18c01557-5b86-4718-8c45-534d5de5ce77",
   "metadata": {},
   "source": [
    "# Crossing informations between SV and the reference annotation - `bedtools intersect` or `intersectBed`\n",
    "    \n",
    "    https://bedtools.readthedocs.io/en/latest/content/tools/intersect.html"
   ]
  },
  {
   "cell_type": "markdown",
   "id": "a7927532-76f9-4a7e-9401-e13734be5210",
   "metadata": {},
   "source": [
    "* Count how many SVs detected by SNIFFLES are inside genes from the annotation?\n",
    "* Extract all SV inside genes  "
   ]
  },
  {
   "cell_type": "code",
   "execution_count": null,
   "id": "1c1afc16-837f-482c-b8dd-6db9833a4052",
   "metadata": {},
   "outputs": [],
   "source": [
    "mkdir -p ~/work/RESULTS/SNIFFLES/\n",
    "cd  ~/work/RESULTS/SNIFFLES/"
   ]
  },
  {
   "cell_type": "markdown",
   "id": "8f6ef441-9f90-4df8-b46c-9bcbf5bf4750",
   "metadata": {},
   "source": [
    "## SV inside genes"
   ]
  },
  {
   "cell_type": "code",
   "execution_count": null,
   "id": "af5d66a9-f68b-40d5-b09a-da30663e306d",
   "metadata": {},
   "outputs": [],
   "source": [
    "grep '\\sgene\\s' /home/jovyan/work/DATA/REF/GCA_002220235.1_ASM222023v1_genomic.gff > /home/jovyan/work/DATA/REF/GCA_002220235.1_ASM222023v1_onlygenes.gff"
   ]
  },
  {
   "cell_type": "code",
   "execution_count": null,
   "id": "6aee9f83-aa11-4b04-84b8-6348a0f5fb4c",
   "metadata": {},
   "outputs": [],
   "source": [
    "bedtools intersect  -a /home/jovyan/work/DATA/REF/GCA_002220235.1_ASM222023v1_onlygenes.gff -b multisample.vcf  -c > intersect_ref_vs_multisample.bed"
   ]
  },
  {
   "cell_type": "code",
   "execution_count": null,
   "id": "b0515ee8-4762-4990-9a09-f53147dfb5d9",
   "metadata": {},
   "outputs": [],
   "source": [
    "head intersect_ref_vs_multisample.bed"
   ]
  },
  {
   "cell_type": "markdown",
   "id": "b3a8f4c6-e0fa-4ab6-8f20-3fbc0636e218",
   "metadata": {},
   "source": [
    "### count SV number within \"genes\""
   ]
  },
  {
   "cell_type": "code",
   "execution_count": null,
   "id": "89a9d2db-0495-4c53-a308-d74558921fbd",
   "metadata": {},
   "outputs": [],
   "source": [
    "wc -l intersect_ref_vs_multisample.bed"
   ]
  },
  {
   "cell_type": "markdown",
   "id": "2029f70e-dcda-44d8-b0ac-51f313afba0e",
   "metadata": {},
   "source": [
    "### count SV number within each \"contig\""
   ]
  },
  {
   "cell_type": "code",
   "execution_count": null,
   "id": "693a3a05-15d3-4c14-aeb5-d065bbec76b2",
   "metadata": {},
   "outputs": [],
   "source": [
    "cut -f1 intersect_ref_vs_multisample.bed | sort |  uniq -c"
   ]
  },
  {
   "cell_type": "markdown",
   "id": "15bff316-3770-4d10-8a7c-a4ee2982f43f",
   "metadata": {},
   "source": [
    "## extract all information about SV and gene intersection"
   ]
  },
  {
   "cell_type": "code",
   "execution_count": null,
   "id": "bca8f15a-9cb8-4783-a33f-e6143c241ed6",
   "metadata": {},
   "outputs": [],
   "source": [
    "bedtools intersect -a /home/jovyan/work/DATA/REF/GCA_002220235.1_ASM222023v1_onlygenes.gff -b multisample.vcf -wo >  intersect_ref_vs_multisample.full.bed"
   ]
  },
  {
   "cell_type": "code",
   "execution_count": null,
   "id": "3062bc43-6b3a-4f38-89da-87836b1887da",
   "metadata": {},
   "outputs": [],
   "source": [
    "tail -n5 intersect_ref_vs_multisample.full.bed"
   ]
  },
  {
   "cell_type": "code",
   "execution_count": null,
   "id": "42831351-422f-41cd-9dfb-73cc50b6f4aa",
   "metadata": {},
   "outputs": [],
   "source": []
  }
 ],
 "metadata": {
  "kernelspec": {
   "display_name": "Bash",
   "language": "bash",
   "name": "bash"
  },
  "language_info": {
   "codemirror_mode": "shell",
   "file_extension": ".sh",
   "mimetype": "text/x-sh",
   "name": "bash"
  }
 },
 "nbformat": 4,
 "nbformat_minor": 5
}
