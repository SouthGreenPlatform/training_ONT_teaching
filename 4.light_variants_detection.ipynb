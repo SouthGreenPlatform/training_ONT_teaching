{
 "cells": [
  {
   "cell_type": "markdown",
   "id": "2f09a11c",
   "metadata": {},
   "source": [
    "\n",
    "# <span style=\"color:#006E7F\">__Introduction to Oxford Nanopore Data Analysis__ <a class=\"anchor\"></span>  \n",
    "\n",
    "\n",
    "Created by J. Orjuela (DIADE-IRD), F. Sabot (DIADE-IRD) and G. Sarah (AGAP-INRAE) - Septembre 2021 Formation SouthGreen\n",
    "\n",
    "Adapted by J. Orjuela (DIADE-IRD), F. Sabot (DIADE-IRD) - Novembre 2022\n",
    "\n",
    "Adapted by J. Orjuela (DIADE- IRD) sept 2025"
   ]
  },
  {
   "cell_type": "markdown",
   "id": "3d07c5cc",
   "metadata": {
    "tags": []
   },
   "source": [
    "# <span style=\"color:#006E7F\">__TP4 - VARIANTS DETECTION__ <a class=\"anchor\" id=\"data\"></span>  \n",
    "    \n",
    "# <span style=\"color: #4CACBC;\"> Structural variation with Sniffles</span>  \n",
    "\n",
    "Sniffles is a structural variation caller using third generation sequencing (PacBio or Oxford Nanopore).\n",
    "\n",
    "It detects all types of SVs (10bp+) using evidence from split-read alignments, high-mismatch regions, and coverage analysis.\n",
    "    \n",
    "Check the sniffles website https://github.com/fritzsedlazeck/Sniffles/ an its wiki for more details."
   ]
  },
  {
   "cell_type": "markdown",
   "id": "f8c89ab9-5da9-4c48-9a20-083bbc3f4760",
   "metadata": {},
   "source": [
    "## Prepare data"
   ]
  },
  {
   "cell_type": "code",
   "execution_count": null,
   "id": "2fc6083c-2583-4dea-9d9b-52bc6338390b",
   "metadata": {},
   "outputs": [],
   "source": [
    "PTW=\"/path/to/work\""
   ]
  },
  {
   "cell_type": "code",
   "execution_count": null,
   "id": "b761ec9b-645c-4687-8bb7-c6c35bab808a",
   "metadata": {
    "tags": []
   },
   "outputs": [],
   "source": [
    "# download  all clones fastq.gz\n",
    "cd $PTW/DATA\n",
    "# download your compressed CloneX \n",
    "wget --no-check-certificat -rm -nH --cut-dirs=1 --reject=\"index.html*\" https://itrop.ird.fr/ont-training/all_clones_short.tar.gz"
   ]
  },
  {
   "cell_type": "code",
   "execution_count": null,
   "id": "9f81243a-b1d1-4f68-9fe3-ceec47a9c13f",
   "metadata": {
    "tags": []
   },
   "outputs": [],
   "source": [
    "#decompress it\n",
    "cd $PTW/DATA\n",
    "tar zxvf all_clones_short.tar.gz"
   ]
  },
  {
   "cell_type": "code",
   "execution_count": null,
   "id": "13474807-c0f2-4d71-ac85-aae834302073",
   "metadata": {},
   "outputs": [],
   "source": [
    "# create SNIFFLES folder\n",
    "mkdir -p $PTW/RESULTS/SNIFFLES/\n",
    "cd  $PTW/RESULTS/SNIFFLES/\n",
    "\n",
    "# declare your Clone\n",
    "CLONE=\"Clone10\"\n",
    "\n",
    "# symbolic links of reference \n",
    "ln -s $PTW/DATA/${CLONE}/reference.fasta .\n",
    "REF=\"reference.fasta\""
   ]
  },
  {
   "cell_type": "code",
   "execution_count": null,
   "id": "e8800be2-1812-43b9-9e43-77aaadbbed3a",
   "metadata": {},
   "outputs": [],
   "source": [
    "ls ~/work/DATA/all_clones_short/"
   ]
  },
  {
   "cell_type": "markdown",
   "id": "9e172e4a-4c5b-4c84-bdfe-1c13c2d586bd",
   "metadata": {
    "tags": []
   },
   "source": [
    "# <span style=\"color: #4CACBC;\">1. Mapping and SV detection for all CLONES</span>  \n"
   ]
  },
  {
   "cell_type": "markdown",
   "id": "25b04776-4eba-45ad-8e19-a75827465cf0",
   "metadata": {},
   "source": [
    "\n",
    "### Obtain calls for each samples\n",
    "\n",
    "Call SV candidates and create an associated .snf file for each sample:\n",
    "\n",
    "`sniffles --input sample1.bam --snf sample1.snf`\n"
   ]
  },
  {
   "cell_type": "code",
   "execution_count": null,
   "id": "ea080741-d309-483d-824b-7ccd75b6ac64",
   "metadata": {
    "tags": []
   },
   "outputs": [],
   "source": [
    "for i in {2,6,10,15,18}\n",
    "    do\n",
    "      cd  $PTW/RESULTS/SNIFFLES/\n",
    "      echo \"\\n\\n============ Clone$i==============\\n\";\n",
    "      CLONE=\"Clone${i}\" # this is the first parametter of this fonction\n",
    "      REF=\"reference.fasta\"\n",
    "      ONT=\"$PTW/DATA/all_clones_short/${CLONE}.fastq.gz\"\n",
    "      ## Mapping using minimap2 : Mapping ONT reads (clone) vs a reference using minimap2 \n",
    "      minimap2 -t 8 -ax map-ont --MD  -R '@RG\\tID:${CLONE}\\tSM:${CLONE}' ? ? > ${CLONE}.bam\n",
    "      ## Sort BAM\n",
    "      samtools sort -@4 -o ${CLONE}_SORTED.bam ${CLONE}.bam\n",
    "      #index bam\n",
    "      samtools index -@4 ${CLONE}_SORTED.bam\n",
    "      # Obtain calls for a samples\n",
    "      sniffles -t 4 -i ${CLONE}_SORTED.bam --snf ${CLONE}.snf --allow-overwrite   > ${CLONE}_SV.log\n",
    "    done\n",
    "\n",
    "# -s/--min_support\tMinimum number of reads that support a SV to be reported. Default: 10\n",
    "# -l/--min_length\tMinimum length of SV to be reported. Default: 30bp\n",
    "# -q/--minmapping_qual\tMinimum mapping quality of alignment to be taken into account. Default: 20\n",
    "# -r/--min_seq_size\tDiscard read if non of its segment is larger then this. Default: 2kb"
   ]
  },
  {
   "cell_type": "markdown",
   "id": "8fb4bc4d-1841-4aa7-906b-b6ad3548e03d",
   "metadata": {},
   "source": [
    "### Count the number of variations, \n",
    "\n",
    "How much SV were found for each Clone ? \n",
    "\n",
    "check log files !"
   ]
  },
  {
   "cell_type": "markdown",
   "id": "5e9304af-5cba-47b6-a5e8-3d52ed09499c",
   "metadata": {},
   "source": [
    "### Create a variable containing the snf files names"
   ]
  },
  {
   "cell_type": "code",
   "execution_count": null,
   "id": "367a047d-cef9-487e-b496-be2a76554131",
   "metadata": {},
   "outputs": [],
   "source": [
    "SNFS=\"\"\n",
    "for i in {2,6,10,15,18}; do SNFS=\"$SNFS Clone${i}.snf\"; done\n",
    "echo $SNFS"
   ]
  },
  {
   "cell_type": "markdown",
   "id": "2eb9c407-7623-4f4d-a301-bdf34359ae58",
   "metadata": {
    "tags": []
   },
   "source": [
    "# <span style=\"color: #4CACBC;\"> 2. Merge all the vcf files across all samples</span>  "
   ]
  },
  {
   "cell_type": "markdown",
   "id": "17708c16-00af-4257-a61e-313bacef1e3c",
   "metadata": {},
   "source": [
    "Combined calling using multiple .snf files into a single .vcf: \n",
    "\n",
    "`sniffles --input sample1.snf sample2.snf ... sampleN.snf --vcf multisample.vcf`"
   ]
  },
  {
   "cell_type": "code",
   "execution_count": null,
   "id": "6d8cade3-886d-4da4-a01b-4e4aee608b32",
   "metadata": {},
   "outputs": [],
   "source": []
  },
  {
   "cell_type": "markdown",
   "id": "2c885731-9eea-4e20-8e41-643f766637b0",
   "metadata": {
    "tags": []
   },
   "source": [
    "# Have a look on the VCF file"
   ]
  },
  {
   "cell_type": "code",
   "execution_count": null,
   "id": "b1deb0bb-3b0d-44b3-9428-d9a78632b30d",
   "metadata": {},
   "outputs": [],
   "source": []
  },
  {
   "cell_type": "code",
   "execution_count": null,
   "id": "ffc62089-9c60-4161-8a1e-f26e7ecaea00",
   "metadata": {},
   "outputs": [],
   "source": []
  }
 ],
 "metadata": {
  "kernelspec": {
   "display_name": "Bash",
   "language": "bash",
   "name": "bash"
  },
  "language_info": {
   "codemirror_mode": "shell",
   "file_extension": ".sh",
   "mimetype": "text/x-sh",
   "name": "bash"
  }
 },
 "nbformat": 4,
 "nbformat_minor": 5
}
