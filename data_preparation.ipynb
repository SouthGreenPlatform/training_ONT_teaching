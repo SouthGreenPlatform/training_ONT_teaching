{
 "cells": [
  {
   "cell_type": "markdown",
   "metadata": {},
   "source": [
    "### 1. telechargement de données"
   ]
  },
  {
   "cell_type": "markdown",
   "metadata": {},
   "source": [
    "### Base Calling:\n",
    "\n",
    "Sur le node26: /scratch/ananas"
   ]
  },
  {
   "cell_type": "raw",
   "metadata": {},
   "source": [
    "module load bioinfo/guppy-gpu/6.1.2\n",
    "\n",
    "scp -r /data3/projects/TOGGLe/ananas/fast5/ .\n",
    "\n",
    "guppy_basecaller -c dna_r9.4.1_450bps_sup.cfg -i fast5/ -r -s output --num_callers 4 --gpu_runners_per_device 8 --min_qscore 6 --device cuda:2 --trim_adapters --detect_adapter --detect_mid_strand_adapter --pt_scaling --do_read_splitting\n"
   ]
  },
  {
   "cell_type": "markdown",
   "metadata": {},
   "source": [
    "### 2. nettoyage desdonnées"
   ]
  },
  {
   "cell_type": "markdown",
   "metadata": {},
   "source": [
    "### mapping sur genome ananas:\n",
    "\n",
    "sur le node30: /scratch/ananas"
   ]
  },
  {
   "cell_type": "raw",
   "metadata": {},
   "source": [
    "module load bioinfo/minimap2/2.24\n",
    "minimap2 -ax map-ont banque/Genome_ananas/GCA_001540865.1_Ananas_comosus_cultivar_F153.fasta allpass.fastq > readsONananas.sam\n",
    "\n",
    "module load bioinfo/samtools/1.10\n",
    "samtools flagstats readsONananas.sam \n",
    "7807466 + 0 in total (QC-passed reads + QC-failed reads)\n",
    "658799 + 0 secondary\n",
    "2220536 + 0 supplementary\n",
    "0 + 0 duplicates\n",
    "6659722 + 0 mapped (85.30% : N/A)\n",
    "0 + 0 paired in sequencing\n",
    "0 + 0 read1\n",
    "0 + 0 read2\n",
    "0 + 0 properly paired (N/A : N/A)\n",
    "0 + 0 with itself and mate mapped\n",
    "0 + 0 singletons (N/A : N/A)\n",
    "0 + 0 with mate mapped to a different chr\n",
    "0 + 0 with mate mapped to a different chr (mapQ>=5)"
   ]
  },
  {
   "cell_type": "markdown",
   "metadata": {
    "tags": []
   },
   "source": [
    "transformation des bam en reads"
   ]
  },
  {
   "cell_type": "code",
   "execution_count": null,
   "metadata": {},
   "outputs": [],
   "source": [
    "# reads de l'ananas exclusivement\n",
    "samtools view -@ 4 -bh -F 4 readsONananas.sam > readsONananas_mapped.sam\n",
    "- 3780387 reads\n",
    "\n",
    "# reads sans ananas\n",
    "samtools view -@ 4 -bh -f 4 readsONananas.sam > readsONananas_unmapped.sam\n",
    "- 1147744 reads"
   ]
  },
  {
   "cell_type": "code",
   "execution_count": null,
   "metadata": {},
   "outputs": [],
   "source": [
    "#on garde quelques reads ananas pour remettre dans le jeu de données plus tard:\n",
    "\n",
    "module load bioinfo/seqtk/1.3-r106\n",
    "seqtk sample -s100 readsONananas_mapped.fastq 500000 > sub_readsananas.fastq"
   ]
  },
  {
   "cell_type": "markdown",
   "metadata": {},
   "source": [
    "### mapping sur bdd fungi:"
   ]
  },
  {
   "cell_type": "code",
   "execution_count": null,
   "metadata": {},
   "outputs": [],
   "source": [
    "#récupération de la banque fungi\n",
    "wget -r --no-parent -A *genomic.fna.gz ftp://ftp.ncbi.nlm.nih.gov/refseq/release/fungi/\n",
    "cat *genomic.fna.gz > fungi.genomic.fna.gz"
   ]
  },
  {
   "cell_type": "code",
   "execution_count": null,
   "metadata": {},
   "outputs": [],
   "source": [
    "#mapping des reads qui n'ont pas mappé sur l'ananas sur la banque fungi\n",
    "minimap2 -ax map-ont --split-prefix=tmp banque/fungi.genomic.fna readsONananas_unmapped.fastq  > readsONananasunmapped_ON_fungi.sam"
   ]
  },
  {
   "cell_type": "code",
   "execution_count": null,
   "metadata": {},
   "outputs": [],
   "source": [
    "[comte@node30 ananas]$ samtools flagstat readsONananasunmapped_ON_fungi.sam \n",
    "2139434 + 0 in total (QC-passed reads + QC-failed reads)\n",
    "976378 + 0 secondary\n",
    "15312 + 0 supplementary\n",
    "0 + 0 duplicates\n",
    "1733344 + 0 mapped (81.02% : N/A)\n",
    "0 + 0 paired in sequencing\n",
    "0 + 0 read1\n",
    "0 + 0 read2\n",
    "0 + 0 properly paired (N/A : N/A)\n",
    "0 + 0 with itself and mate mapped\n",
    "0 + 0 singletons (N/A : N/A)\n",
    "0 + 0 with mate mapped to a different chr\n",
    "0 + 0 with mate mapped to a different chr (mapQ>=5)"
   ]
  },
  {
   "cell_type": "code",
   "execution_count": null,
   "metadata": {},
   "outputs": [],
   "source": [
    "# séparation des reads mappés et unmappés\n",
    "\n",
    "# reads fungi\n",
    "samtools view -@ 4 -bh -F 4 readsONananasunmapped_ON_fungi.sam > readsONananasunmapped_ON_fungi_mapped.sam \n",
    "\n",
    "# reads sans ananas et sans fungi\n",
    "samtools view -@ 4 -bh -f 4 readsONananasunmapped_ON_fungi.sam > readsONananasunmapped_ON_fungi_unmapped.sam "
   ]
  },
  {
   "cell_type": "code",
   "execution_count": null,
   "metadata": {},
   "outputs": [],
   "source": [
    "# extraction des reads des deux bam\n",
    "\n",
    "samtools fastq readsONananasunmapped_ON_fungi_unmapped.sam > readsONananasunmapped_ON_fungi_unmapped.fastq\n",
    "samtools fastq readsONananasunmapped_ON_fungi_mapped.sam > readsONananasunmapped_ON_fungi_mapped.fastq"
   ]
  },
  {
   "cell_type": "code",
   "execution_count": null,
   "metadata": {},
   "outputs": [],
   "source": [
    "# calcul du nombre de reads sans ananas et sans fungi\n",
    "\n",
    "awk '{s++}END{print s/4}' readsONananasunmapped_ON_fungi_unmapped.fastq\n",
    "406090\n"
   ]
  },
  {
   "cell_type": "markdown",
   "metadata": {},
   "source": [
    "### mapping sur bactérie ? "
   ]
  },
  {
   "cell_type": "code",
   "execution_count": null,
   "metadata": {},
   "outputs": [],
   "source": [
    "# on peut faire la même chose sur les bactéries (mapping + garder que les unmappé sur les bactéries)\n",
    "# Dans ce cas là, la bdd est ici:\n",
    "\n",
    "wget -r --no-parent -A *genomic.fna.gz https://ftp.ncbi.nlm.nih.gov/refseq/release/bacteria/\n",
    "\n",
    "# Cette base est si grosse que nous avons choisi de ne pas le faire."
   ]
  },
  {
   "cell_type": "markdown",
   "metadata": {},
   "source": [
    "### ajout reads ananas"
   ]
  },
  {
   "cell_type": "code",
   "execution_count": null,
   "metadata": {},
   "outputs": [],
   "source": [
    "# Echantillonnage de 500 000 reads d'ananas\n",
    "\n",
    "module load bioinfo/seqtk/1.3-r106\n",
    "seqtk sample -s100 readsONananas_mapped.fastq 500000 > sub_readsananas.fastq"
   ]
  },
  {
   "cell_type": "code",
   "execution_count": null,
   "metadata": {},
   "outputs": [],
   "source": [
    "# fusion de ces reads ananas avec les reads sans ananas/fungi\n",
    "\n",
    "cat readsONananasunmapped_ON_fungi_unmapped.fastq sub_readsananas.fastq > test1.fastq\n",
    "\n",
    "awk '{s++}END{print s/4}' test1.fastq \n",
    "906090\n"
   ]
  },
  {
   "cell_type": "code",
   "execution_count": null,
   "metadata": {},
   "outputs": [],
   "source": []
  }
 ],
 "metadata": {
  "kernelspec": {
   "display_name": "Bash",
   "language": "bash",
   "name": "bash"
  },
  "language_info": {
   "codemirror_mode": "shell",
   "file_extension": ".sh",
   "mimetype": "text/x-sh",
   "name": "bash"
  }
 },
 "nbformat": 4,
 "nbformat_minor": 4
}
