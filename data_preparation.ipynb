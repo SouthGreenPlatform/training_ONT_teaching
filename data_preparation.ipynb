{
 "cells": [
  {
   "cell_type": "markdown",
   "metadata": {},
   "source": [
    "### 1. telechargement de données"
   ]
  },
  {
   "cell_type": "markdown",
   "metadata": {},
   "source": [
    "### Base Calling:\n",
    "\n",
    "Sur le node26: /scratch/ananas"
   ]
  },
  {
   "cell_type": "raw",
   "metadata": {},
   "source": [
    "module load bioinfo/guppy-gpu/6.1.2\n",
    "\n",
    "scp -r /data3/projects/TOGGLe/ananas/fast5/ .\n",
    "\n",
    "guppy_basecaller -c dna_r9.4.1_450bps_sup.cfg -i fast5/ -r -s output --num_callers 4 --gpu_runners_per_device 8 --min_qscore 6 --device cuda:2 --trim_adapters --detect_adapter --detect_mid_strand_adapter --pt_scaling --do_read_splitting\n"
   ]
  },
  {
   "cell_type": "markdown",
   "metadata": {},
   "source": [
    "### mapping sur genome ananas"
   ]
  },
  {
   "cell_type": "raw",
   "metadata": {},
   "source": [
    "module load bioinfo/minimap2/2.24\n",
    "minimap2 -ax map-ont banque/Genome_ananas/GCA_001540865.1_Ananas_comosus_cultivar_F153.fasta allpass.fastq > readsONananas.sam\n",
    "\n",
    "module load bioinfo/samtools/1.10\n",
    "samtools flagstats readsONananas.sam \n",
    "7807466 + 0 in total (QC-passed reads + QC-failed reads)\n",
    "658799 + 0 secondary\n",
    "2220536 + 0 supplementary\n",
    "0 + 0 duplicates\n",
    "6659722 + 0 mapped (85.30% : N/A)\n",
    "0 + 0 paired in sequencing\n",
    "0 + 0 read1\n",
    "0 + 0 read2\n",
    "0 + 0 properly paired (N/A : N/A)\n",
    "0 + 0 with itself and mate mapped\n",
    "0 + 0 singletons (N/A : N/A)\n",
    "0 + 0 with mate mapped to a different chr\n",
    "0 + 0 with mate mapped to a different chr (mapQ>=5)\n"
   ]
  },
  {
   "cell_type": "code",
   "execution_count": null,
   "metadata": {},
   "outputs": [],
   "source": []
  }
 ],
 "metadata": {
  "kernelspec": {
   "display_name": "Bash",
   "language": "bash",
   "name": "bash"
  },
  "language_info": {
   "codemirror_mode": "shell",
   "file_extension": ".sh",
   "mimetype": "text/x-sh",
   "name": "bash"
  }
 },
 "nbformat": 4,
 "nbformat_minor": 4
}
