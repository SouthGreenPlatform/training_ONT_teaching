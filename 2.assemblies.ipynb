{
 "cells": [
  {
   "cell_type": "markdown",
   "id": "66d4eeac",
   "metadata": {},
   "source": [
    "# Formation South Green 2021  \n",
    "\n",
    "##  Initiation à l’analyse de données Minion\n",
    "\n",
    "### PART 2\n",
    "\n",
    "Created by J. Orjuela (DIADE-IRD), F. Sabot (DIADE-IRD) and G. Sarah (AGAP-INRAE)\n",
    "\n",
    "Septembre 2021\n"
   ]
  },
  {
   "cell_type": "markdown",
   "id": "52dd03b0",
   "metadata": {
    "tags": []
   },
   "source": [
    "# 1. Assemblies\n",
    "\n",
    "More contiguous genome assemblies can be generated using long sequencing read but assembly is not a quiet pace. Eukaryotic genomes assembly is a complex task (large genome sizes, high rates of repeated sequences, high heterozygosity levels and even polyploidy). While prokaryotic genomes may appear less challenging, specific features such as circular DNA molecules, must be taken into consideration to achieve high quality assembly.\n",
    "\n",
    "* For assembly, ONT recommend sequencing a human genome to a minimum depth of 30x of 25–35 kb reads.\n",
    "However, sequencing to a depth of 60x is advisable to obtain the best assembly metrics. We also recommend basecalling in high accuracy mode. Greatest contig N50 is usually obtained with Shasta and Flye. Polishing/Correction is also recommended (Racon and Medaka). https://nanoporetech.com/sites/default/files/s3/literature/human-genome-assembly-workflow.pdf\n",
    "\n",
    "\n",
    "* Long reads simplify genome assembly, with the ability to span repeat-rich sequences (characteristic of  antimicrobial resistance genes) and structural variants. Nanopore sequencing also shows a lack of\n",
    "bias in GC-rich regions, in contrast to other sequencing platforms. To perform microbial genome assembly, we suggest using the third-party de novo assembly tool Flye. We also recommend one round of polishing with Medaka. https://nanoporetech.com/sites/default/files/s3/literature/microbial-genome-assembly-workflow.pdf "
   ]
  },
  {
   "cell_type": "markdown",
   "id": "0a74882e",
   "metadata": {},
   "source": [
    "Flye  https://github.com/fenderglass/Flye \n",
    "\n",
    "Canu  https://canu.readthedocs.io/en/latest/quick-start.html\n",
    "\n",
    "Miniasm  https://github.com/lh3/miniasm + Minipolish version https://github.com/rrwick/Minipolish\n",
    "\n",
    "Shasta  https://github.com/chanzuckerberg/shasta\n",
    "\n",
    "Smartdenovo  https://github.com/ruanjue/smartdenovo\n",
    "\n",
    "Raven  https://github.com/lbcb-sci/raven"
   ]
  },
  {
   "cell_type": "markdown",
   "id": "c83a6eac",
   "metadata": {},
   "source": [
    "### 1.1 Assembly using Flye"
   ]
  },
  {
   "cell_type": "markdown",
   "id": "2415c263",
   "metadata": {},
   "source": [
    "We are going to assembly some Clones by using Flye https://github.com/fenderglass/Flye\n",
    "\n",
    "Flye generates the concatenation of multiple disjoint genomic segments called disjointigs to build a repeat graph. Reads are mapped to this repeat graph to resolve conflicts (unbridged repeats) and output contigs."
   ]
  },
  {
   "cell_type": "code",
   "execution_count": 23,
   "id": "af681d7a",
   "metadata": {},
   "outputs": [
    {
     "name": "stdout",
     "output_type": "stream",
     "text": [
      "(medaka) (medaka) (medaka) (medaka) /home/jovyan/SG-ONT-2021/RESULTS\n",
      "(medaka) "
     ]
    },
    {
     "ename": "",
     "evalue": "1",
     "output_type": "error",
     "traceback": []
    }
   ],
   "source": [
    "# declare your clone number\n",
    "CLONE=\"Clone10\"\n",
    "# create a repertory for save flye assembly results\n",
    "cd ~/SG-ONT-2021/RESULTS/\n",
    "pwd"
   ]
  },
  {
   "cell_type": "code",
   "execution_count": 3,
   "id": "b7f1b857",
   "metadata": {
    "tags": []
   },
   "outputs": [
    {
     "name": "stdout",
     "output_type": "stream",
     "text": [
      "(base) (flye) [2021-09-24 14:10:39] INFO: Starting Flye 2.9-b1768\n",
      "[2021-09-24 14:10:39] INFO: >>>STAGE: configure\n",
      "[2021-09-24 14:10:39] INFO: Configuring run\n",
      "[2021-09-24 14:10:44] INFO: Total read length: 166436048\n",
      "[2021-09-24 14:10:44] INFO: Input genome size: 1000000\n",
      "[2021-09-24 14:10:44] INFO: Estimated coverage: 166\n",
      "[2021-09-24 14:10:44] INFO: Reads N50/N90: 22325 / 7615\n",
      "[2021-09-24 14:10:44] INFO: Minimum overlap set to 8000\n",
      "[2021-09-24 14:10:44] INFO: >>>STAGE: assembly\n",
      "[2021-09-24 14:10:44] INFO: Assembling disjointigs\n",
      "[2021-09-24 14:10:44] INFO: Reading sequences\n",
      "[2021-09-24 14:10:52] INFO: Counting k-mers:\n",
      "0% 10% 20% 30% 40% 50% 60% 70% 80% 90% 100% \n",
      "[2021-09-24 14:12:03] INFO: Filling index table (1/2)\n",
      "0% 10% 20% 30% 40% 50% 60% 70% 80% 90% 100% \n",
      "[2021-09-24 14:12:25] INFO: Filling index table (2/2)\n",
      "0% 10% 20% 30% 40% 50% 60% 70% 80% 90% 100% \n",
      "[2021-09-24 14:13:31] INFO: Extending reads\n",
      "[2021-09-24 14:16:19] INFO: Overlap-based coverage: 122\n",
      "[2021-09-24 14:16:19] INFO: Median overlap divergence: 0.0948839\n",
      "0% 80% 90% 100% \n",
      "[2021-09-24 14:17:04] INFO: Assembled 4 disjointigs\n",
      "[2021-09-24 14:17:04] INFO: Generating sequence\n",
      "0% 10% 20% 30% 40% 50% 60% 70% 80% 90% 100% \n",
      "[2021-09-24 14:17:05] INFO: Filtering contained disjointigs\n",
      "0% 20% 50% 70% 100% \n",
      "[2021-09-24 14:17:06] INFO: Contained seqs: 0\n",
      "[2021-09-24 14:17:06] INFO: >>>STAGE: consensus\n",
      "[2021-09-24 14:17:06] INFO: Running Minimap2\n",
      "[2021-09-24 14:17:30] INFO: Computing consensus\n",
      "[2021-09-24 14:20:13] INFO: Alignment error rate: 0.133089\n",
      "[2021-09-24 14:20:13] INFO: >>>STAGE: repeat\n",
      "[2021-09-24 14:20:13] INFO: Building and resolving repeat graph\n",
      "[2021-09-24 14:20:13] INFO: Parsing disjointigs\n",
      "[2021-09-24 14:20:13] INFO: Building repeat graph\n",
      "0% 20% 50% 70% 100% \n",
      "[2021-09-24 14:20:15] INFO: Median overlap divergence: 0.139096\n",
      "[2021-09-24 14:20:15] INFO: Parsing reads\n",
      "[2021-09-24 14:20:18] INFO: Aligning reads to the graph\n",
      "0% 10% 20% 30% 40% 50% 60% 70% 80% 90% 100% \n",
      "[2021-09-24 14:20:40] INFO: Aligned read sequence: 148479222 / 148793179 (0.99789)\n",
      "[2021-09-24 14:20:40] INFO: Median overlap divergence: 0.0554134\n",
      "[2021-09-24 14:20:40] INFO: Mean edge coverage: 119\n",
      "[2021-09-24 14:20:40] INFO: Simplifying the graph\n",
      "[2021-09-24 14:20:40] INFO: >>>STAGE: contigger\n",
      "[2021-09-24 14:20:40] INFO: Generating contigs\n",
      "[2021-09-24 14:20:40] INFO: Reading sequences\n",
      "[2021-09-24 14:20:44] INFO: Generated 4 contigs\n",
      "[2021-09-24 14:20:44] INFO: Added 0 scaffold connections\n",
      "[2021-09-24 14:20:44] INFO: >>>STAGE: polishing\n",
      "[2021-09-24 14:20:44] INFO: Polishing genome (1/1)\n",
      "[2021-09-24 14:20:44] INFO: Running minimap2\n",
      "[2021-09-24 14:21:06] INFO: Separating alignment into bubbles\n",
      "[2021-09-24 14:24:12] INFO: Alignment error rate: 0.087896\n",
      "[2021-09-24 14:24:12] INFO: Correcting bubbles\n",
      "0% 10% 20% 30% 40% 50% 60% 70% 80% 90% 100% \n",
      "[2021-09-24 14:25:00] INFO: >>>STAGE: finalize\n",
      "[2021-09-24 14:25:00] INFO: Assembly statistics:\n",
      "\n",
      "\tTotal length:\t1232689\n",
      "\tFragments:\t4\n",
      "\tFragments N50:\t1105458\n",
      "\tLargest frg:\t1105458\n",
      "\tScaffolds:\t0\n",
      "\tMean coverage:\t134\n",
      "\n",
      "[2021-09-24 14:25:00] INFO: Final assembly: /home/jovyan/SG-ONT-2021/RESULTS/FLYE/assembly.fasta\n",
      "\n",
      "real\t14m21.412s\n",
      "user\t26m31.394s\n",
      "sys\t0m21.558s\n",
      "(flye) (base) "
     ]
    },
    {
     "ename": "",
     "evalue": "1",
     "output_type": "error",
     "traceback": []
    }
   ],
   "source": [
    "# Run flye\n",
    "conda activate flye\n",
    "time flye --nano-raw ../DATA/${CLONE}/ONT/${CLONE}.fastq.gz --genome-size 1000000 --out-dir FLYE --threads 4\n",
    "conda deactivate"
   ]
  },
  {
   "cell_type": "markdown",
   "id": "ef2484db",
   "metadata": {},
   "source": [
    "### 1.2 Assembly using Raven"
   ]
  },
  {
   "cell_type": "code",
   "execution_count": 5,
   "id": "3c3622a4",
   "metadata": {},
   "outputs": [
    {
     "name": "stdout",
     "output_type": "stream",
     "text": [
      "(base) (base) (base) /home/jovyan/SG-ONT-2021/RESULTS/RAVEN\n",
      "(base) "
     ]
    },
    {
     "ename": "",
     "evalue": "1",
     "output_type": "error",
     "traceback": []
    }
   ],
   "source": [
    "# create a repertory for save raven assembly results\n",
    "mkdir ~/SG-ONT-2021/RESULTS/RAVEN\n",
    "cd ~/SG-ONT-2021/RESULTS/RAVEN\n",
    "pwd"
   ]
  },
  {
   "cell_type": "code",
   "execution_count": 6,
   "id": "3213e0a0",
   "metadata": {},
   "outputs": [
    {
     "name": "stdout",
     "output_type": "stream",
     "text": [
      "(base) (raven) [raven::] loaded 11235 sequences 4.058354s\n",
      "[raven::Graph::Construct] minimized 0 - 11235 / 11235 2.603075s\n",
      "[raven::Graph::Construct] mapped sequences 10.619918s\n",
      "[raven::Graph::Construct] annotated piles 0.100557s\n",
      "[raven::Graph::Construct] removed contained sequences 0.033064s\n",
      "[raven::Graph::Construct] removed chimeric sequences 0.006844s\n",
      "[raven::Graph::Construct] reached checkpoint 0.083452s\n",
      "[raven::Graph::Construct] minimized 0 - 214 / 214 0.860748s\n",
      "[raven::Graph::Construct] mapped valid sequences 0.670266s\n",
      "[raven::Graph::Construct] updated overlaps 0.000650s\n",
      "[raven::Graph::Construct] removed false overlaps 0.009036s\n",
      "[raven::Graph::Construct] stored 428 nodes 0.061790s\n",
      "[raven::Graph::Construct] stored 3100 edges 0.001142s\n",
      "[raven::Graph::Construct] reached checkpoint 0.182901s\n",
      "[raven::Graph::Construct] 15.233442s\n",
      "[raven::Graph::Assemble] removed transitive edges 0.002987s\n",
      "[raven::Graph::Assemble] reached checkpoint 0.107995s\n",
      "[raven::Graph::Assemble] removed tips and bubbles 0.067584s\n",
      "[raven::Graph::Assemble] reached checkpoint 0.153168s\n",
      "[raven::Graph::Assemble] removed long edges 0.082280s\n",
      "[raven::Graph::Assemble] reached checkpoint 0.083298s\n",
      "[raven::Graph::Assemble] 0.516348s\n",
      "[raven::] 20.070479s\n",
      "\n",
      "real\t0m20.118s\n",
      "user\t1m1.725s\n",
      "sys\t0m1.352s\n",
      "(raven) (base) "
     ]
    },
    {
     "ename": "",
     "evalue": "1",
     "output_type": "error",
     "traceback": []
    }
   ],
   "source": [
    "# Run raven\n",
    "conda activate raven\n",
    "time raven -p 0 --graphical-fragment-assembly ${CLONE}_raven.gfa -t 4 ../../DATA/${CLONE}/ONT/${CLONE}.fastq.gz > ${CLONE}_raven.fasta\n",
    "conda deactivate"
   ]
  },
  {
   "cell_type": "markdown",
   "id": "102de26b",
   "metadata": {},
   "source": [
    "* How many contigs were obtained by Flye and Raven ? Please fill in results in the shared [file](https://lite.framacalc.org/9pd3-ont_sg_2021)\n",
    "* Calculate first statistics about assemblies: N50 and lenght contig mean."
   ]
  },
  {
   "cell_type": "code",
   "execution_count": 7,
   "id": "25c0c563-e85f-4431-a035-8a40def45d4e",
   "metadata": {},
   "outputs": [
    {
     "name": "stdout",
     "output_type": "stream",
     "text": [
      "\u001b[35m\u001b[K/home/jovyan/SG-ONT-2021/RESULTS/FLYE/assembly.fasta\u001b[m\u001b[K\u001b[36m\u001b[K:\u001b[m\u001b[K4\n",
      "\u001b[35m\u001b[K/home/jovyan/SG-ONT-2021/RESULTS/RAVEN/Clone10_raven.fasta\u001b[m\u001b[K\u001b[36m\u001b[K:\u001b[m\u001b[K3\n",
      "(base) "
     ]
    },
    {
     "ename": "",
     "evalue": "1",
     "output_type": "error",
     "traceback": []
    }
   ],
   "source": [
    "grep -c ^'>' ~/SG-ONT-2021/RESULTS/*/*.fasta"
   ]
  },
  {
   "cell_type": "markdown",
   "id": "52d0546b",
   "metadata": {},
   "source": [
    "# 2. Polishing assemblies with Racon\n",
    "\n",
    "Racon corrects raw contigs generated by rapid assembly methods with original ONT reads.\n",
    "\n",
    "From 2 to 4 racon rounds are usually used by the community. \n",
    "\n",
    "Polish contigs assembled by Flye using two rounds of racon !."
   ]
  },
  {
   "cell_type": "code",
   "execution_count": 14,
   "id": "6c61ba46",
   "metadata": {
    "tags": []
   },
   "outputs": [
    {
     "name": "stdout",
     "output_type": "stream",
     "text": [
      "(racon) [racon::] error: missing input file(s)!\n",
      "usage: racon [options ...] <sequences> <overlaps> <target sequences>\n",
      "\n",
      "    #default output is stdout\n",
      "    <sequences>\n",
      "        input file in FASTA/FASTQ format (can be compressed with gzip)\n",
      "        containing sequences used for correction\n",
      "    <overlaps>\n",
      "        input file in MHAP/PAF/SAM format (can be compressed with gzip)\n",
      "        containing overlaps between sequences and target sequences\n",
      "    <target sequences>\n",
      "        input file in FASTA/FASTQ format (can be compressed with gzip)\n",
      "        containing sequences which will be corrected\n",
      "\n",
      "    options:\n",
      "        -u, --include-unpolished\n",
      "            output unpolished target sequences\n",
      "        -f, --fragment-correction\n",
      "            perform fragment correction instead of contig polishing\n",
      "            (overlaps file should contain dual/self overlaps!)\n",
      "        -w, --window-length <int>\n",
      "            default: 500\n",
      "            size of window on which POA is performed\n",
      "        -q, --quality-threshold <float>\n",
      "            default: 10.0\n",
      "            threshold for average base quality of windows used in POA\n",
      "        -e, --error-threshold <float>\n",
      "            default: 0.3\n",
      "            maximum allowed error rate used for filtering overlaps\n",
      "        --no-trimming\n",
      "            disables consensus trimming at window ends\n",
      "        -m, --match <int>\n",
      "            default: 3\n",
      "            score for matching bases\n",
      "        -x, --mismatch <int>\n",
      "            default: -5\n",
      "            score for mismatching bases\n",
      "        -g, --gap <int>\n",
      "            default: -4\n",
      "            gap penalty (must be negative)\n",
      "        -t, --threads <int>\n",
      "            default: 1\n",
      "            number of threads\n",
      "        --version\n",
      "            prints the version number\n",
      "        -h, --help\n",
      "            prints the usage\n",
      "(racon) "
     ]
    },
    {
     "ename": "",
     "evalue": "1",
     "output_type": "error",
     "traceback": []
    }
   ],
   "source": [
    "conda activate racon\n",
    "racon"
   ]
  },
  {
   "cell_type": "markdown",
   "id": "ae79d00b-57be-4e57-8d4c-137f448a4afb",
   "metadata": {},
   "source": [
    "## Racon first round"
   ]
  },
  {
   "cell_type": "code",
   "execution_count": 9,
   "id": "7697cc22-1790-45e2-8680-ae1aebfb7cf9",
   "metadata": {},
   "outputs": [
    {
     "name": "stdout",
     "output_type": "stream",
     "text": [
      "(racon) (racon) (racon) [M::mm_idx_gen::0.090*1.04] collected minimizers\n",
      "[M::mm_idx_gen::0.114*1.62] sorted minimizers\n",
      "[M::main::0.114*1.62] loaded/built the index for 4 target sequence(s)\n",
      "[M::mm_mapopt_update::0.119*1.59] mid_occ = 5\n",
      "[M::mm_idx_stat] kmer size: 15; skip: 10; is_hpc: 0; #seq: 4\n",
      "[M::mm_idx_stat::0.123*1.57] distinct minimizers: 226983 (98.75% are singletons); average occurrences: 1.016; average spacing: 5.344\n",
      "[M::worker_pipeline::6.620*2.49] mapped 11235 sequences\n",
      "[M::main] Version: 2.17-r941\n",
      "[M::main] CMD: minimap2 -t 4 ../FLYE/assembly.fasta ../../DATA/Clone10/ONT/Clone10.fastq.gz\n",
      "[M::main] Real time: 6.630 sec; CPU: 16.522 sec; Peak RSS: 0.179 GB\n",
      "\n",
      "real\t0m6.659s\n",
      "user\t0m16.298s\n",
      "sys\t0m0.239s\n",
      "(racon) [racon::Polisher::initialize] loaded target sequences 0.013830 s\n",
      "[racon::Polisher::initialize] loaded sequences 4.280443 s\n",
      "[racon::Polisher::initialize] loaded overlaps 0.020306 s\n",
      "[racon::Polisher::initialize] aligning overlaps [====================] 35.727142 s\n",
      "[racon::Polisher::initialize] transformed data into windows 0.373741 s\n",
      "[racon::Polisher::polish] generating consensus [====================] 73.381401 s\n",
      "[racon::Polisher::] total = 113.825926 s\n",
      "\n",
      "real\t1m53.894s\n",
      "user\t7m17.304s\n",
      "sys\t0m3.997s\n",
      "(racon) "
     ]
    },
    {
     "ename": "",
     "evalue": "1",
     "output_type": "error",
     "traceback": []
    }
   ],
   "source": [
    "\n",
    "mkdir -p ~/SG-ONT-2021/RESULTS/FLYE_RACON\n",
    "cd ~/SG-ONT-2021/RESULTS/FLYE_RACON\n",
    "time minimap2 -t 4 ../FLYE/assembly.fasta ../../DATA/${CLONE}/ONT/${CLONE}.fastq.gz 1> assembly.minimap4racon1.paf\n",
    "time racon -t 4 ../../DATA/${CLONE}/ONT/${CLONE}.fastq.gz assembly.minimap4racon1.paf ../FLYE/assembly.fasta > assembly.racon1.fasta"
   ]
  },
  {
   "cell_type": "markdown",
   "id": "4b75b00d-4a7c-41e3-9472-69e3eef402df",
   "metadata": {},
   "source": [
    "## Racon second round"
   ]
  },
  {
   "cell_type": "code",
   "execution_count": 15,
   "id": "3c9fa57c-a4a3-4be5-a3c2-bf99524917a3",
   "metadata": {},
   "outputs": [
    {
     "name": "stdout",
     "output_type": "stream",
     "text": [
      "(racon) (racon) [M::mm_idx_gen::0.094*1.04] collected minimizers\n",
      "[M::mm_idx_gen::0.122*1.66] sorted minimizers\n",
      "[M::main::0.122*1.66] loaded/built the index for 4 target sequence(s)\n",
      "[M::mm_mapopt_update::0.129*1.62] mid_occ = 5\n",
      "[M::mm_idx_stat] kmer size: 15; skip: 10; is_hpc: 0; #seq: 4\n",
      "[M::mm_idx_stat::0.135*1.60] distinct minimizers: 225895 (98.72% are singletons); average occurrences: 1.017; average spacing: 5.337\n",
      "[M::worker_pipeline::6.919*2.44] mapped 11235 sequences\n",
      "[M::main] Version: 2.17-r941\n",
      "[M::main] CMD: minimap2 -t 4 assembly.racon1.fasta ../../DATA/Clone10/ONT/Clone10.fastq.gz\n",
      "[M::main] Real time: 6.930 sec; CPU: 16.874 sec; Peak RSS: 0.180 GB\n",
      "\n",
      "real\t0m6.950s\n",
      "user\t0m16.579s\n",
      "sys\t0m0.313s\n",
      "(racon) [racon::Polisher::initialize] loaded target sequences 0.013035 s\n",
      "[racon::Polisher::initialize] loaded sequences 3.822300 s\n",
      "[racon::Polisher::initialize] loaded overlaps 0.020336 s\n",
      "[racon::Polisher::initialize] aligning overlaps [====================] 36.110539 s\n",
      "[racon::Polisher::initialize] transformed data into windows 0.259667 s\n",
      "[racon::Polisher::polish] generating consensus [====================] 72.708179 s\n",
      "[racon::Polisher::] total = 112.953587 s\n",
      "\n",
      "real\t1m53.016s\n",
      "user\t7m15.659s\n",
      "sys\t0m3.765s\n",
      "(racon) (base) "
     ]
    },
    {
     "ename": "",
     "evalue": "1",
     "output_type": "error",
     "traceback": []
    }
   ],
   "source": [
    "# second round\n",
    "cd ~/SG-ONT-2021/RESULTS/FLYE_RACON\n",
    "time minimap2 -t 4 assembly.racon1.fasta ../../DATA/${CLONE}/ONT/${CLONE}.fastq.gz 1> assembly.minimap4racon2.paf\n",
    "time racon -t 4 ../../DATA/${CLONE}/ONT/${CLONE}.fastq.gz assembly.minimap4racon2.paf assembly.racon1.fasta > assembly.racon2.fasta\n",
    "conda deactivate"
   ]
  },
  {
   "cell_type": "markdown",
   "id": "1442f938",
   "metadata": {},
   "source": [
    "# 3. Assemblies correction with Medaka\n",
    "\n",
    "Correction can improve the consensus sequence for a draft genome assembly.\n",
    "\n",
    "Medaka uses fast5 files to correct contigs using trained models. These models are freely available.\n",
    "\n",
    "Medaka allows you to train a model by using fast5 from your favorite species. You can use it directly to obtain a consensus from you favorite organism."
   ]
  },
  {
   "cell_type": "markdown",
   "id": "9a722473",
   "metadata": {},
   "source": [
    "## 1.3 Correct assemblies with Medaka"
   ]
  },
  {
   "cell_type": "markdown",
   "id": "47d0d113-88c5-4d7a-aaec-add0a9942be3",
   "metadata": {},
   "source": [
    "### 1.3.1 Before to correct assemblies, index them"
   ]
  },
  {
   "cell_type": "code",
   "execution_count": 16,
   "id": "0e9d88fb-7e5a-40b5-9c8a-46e333e36c1a",
   "metadata": {},
   "outputs": [
    {
     "name": "stdout",
     "output_type": "stream",
     "text": [
      "(medaka) (medaka) "
     ]
    },
    {
     "ename": "",
     "evalue": "1",
     "output_type": "error",
     "traceback": []
    }
   ],
   "source": [
    "conda activate medaka\n",
    "cd ~/SG-ONT-2021/RESULTS/FLYE_RACON"
   ]
  },
  {
   "cell_type": "code",
   "execution_count": 17,
   "id": "365b9ab7",
   "metadata": {},
   "outputs": [
    {
     "name": "stdout",
     "output_type": "stream",
     "text": [
      "\n",
      "real\t0m0.018s\n",
      "user\t0m0.015s\n",
      "sys\t0m0.001s\n",
      "(medaka) [M::mm_idx_gen::0.072*1.04] collected minimizers\n",
      "[M::mm_idx_gen::0.107*1.65] sorted minimizers\n",
      "[M::main::0.141*1.49] loaded/built the index for 4 target sequence(s)\n",
      "[M::mm_idx_stat] kmer size: 15; skip: 10; is_hpc: 0; #seq: 4\n",
      "[M::mm_idx_stat::0.149*1.46] distinct minimizers: 225773 (98.72% are singletons); average occurrences: 1.017; average spacing: 5.337; total length: 1225245\n",
      "[M::main] Version: 2.22-r1101\n",
      "[M::main] CMD: minimap2 -d assembly.racon2.fasta.mmi assembly.racon2.fasta\n",
      "[M::main] Real time: 0.159 sec; CPU: 0.226 sec; Peak RSS: 0.017 GB\n",
      "\n",
      "real\t0m0.163s\n",
      "user\t0m0.152s\n",
      "sys\t0m0.077s\n",
      "(medaka) "
     ]
    },
    {
     "ename": "",
     "evalue": "1",
     "output_type": "error",
     "traceback": []
    }
   ],
   "source": [
    "time samtools faidx assembly.racon2.fasta \n",
    "time minimap2 -d assembly.racon2.fasta.mmi assembly.racon2.fasta"
   ]
  },
  {
   "cell_type": "code",
   "execution_count": 18,
   "id": "05f29acb-cb81-4d89-acf0-ab921b68cd17",
   "metadata": {},
   "outputs": [
    {
     "name": "stdout",
     "output_type": "stream",
     "text": [
      "(medaka) (medaka) (medaka) "
     ]
    },
    {
     "ename": "",
     "evalue": "1",
     "output_type": "error",
     "traceback": []
    }
   ],
   "source": [
    "#create a medaka repertory\n",
    "mkdir -p ~/SG-ONT-2021/RESULTS/FLYE_RACON_MEDAKA\n",
    "cd ~/SG-ONT-2021/RESULTS/FLYE_RACON_MEDAKA"
   ]
  },
  {
   "cell_type": "markdown",
   "id": "a00888ca-57a0-43cf-b27a-bee4bd7d1790",
   "metadata": {},
   "source": [
    "### 1.3.2 Medaka_consensus"
   ]
  },
  {
   "cell_type": "markdown",
   "id": "567f51a4-cd6e-4aa0-bff8-cb22655eaa87",
   "metadata": {},
   "source": [
    "Medaka is a tool to create a consensus sequence from nanopore sequencing data. \n",
    "\n",
    "This task is performed by using neural networks applied to a pileup of individual sequencing reads against a draft assembly.\n",
    "\n",
    "It outperforms graph-based methods operating on basecalled data, and can be competitive with state-of-the-art signal-based methods whilst being much faster.\n",
    "\n",
    "As input medaka accepts reads in either a .fasta or a .fastq file. It requires a draft assembly as a .fasta.\n",
    "\n",
    "### Check the usage of medaka_consensus"
   ]
  },
  {
   "cell_type": "code",
   "execution_count": 19,
   "id": "1f60ed62",
   "metadata": {},
   "outputs": [
    {
     "name": "stdout",
     "output_type": "stream",
     "text": [
      "\n",
      "medaka 1.2.2\n",
      "------------\n",
      "\n",
      "Assembly polishing via neural networks. The input assembly should be\n",
      "preprocessed with racon.\n",
      "\n",
      "medaka_consensus [-h] -i <fastx>\n",
      "\n",
      "    -h  show this help text.\n",
      "    -i  fastx input basecalls (required).\n",
      "    -d  fasta input assembly (required).\n",
      "    -o  output folder (default: medaka).\n",
      "    -g  don't fill gaps in consensus with draft sequence.\n",
      "    -m  medaka model, (default: r941_min_high_g360).\n",
      "        Available: r103_min_high_g345, r103_min_high_g360, r103_prom_high_g360, r103_prom_snp_g3210, r103_prom_variant_g3210, r10_min_high_g303, r10_min_high_g340, r941_min_fast_g303, r941_min_high_g303, r941_min_high_g330, r941_min_high_g340_rle, r941_min_high_g344, r941_min_high_g351, r941_min_high_g360, r941_prom_fast_g303, r941_prom_high_g303, r941_prom_high_g330, r941_prom_high_g344, r941_prom_high_g360, r941_prom_high_g4011, r941_prom_snp_g303, r941_prom_snp_g322, r941_prom_snp_g360, r941_prom_variant_g303, r941_prom_variant_g322, r941_prom_variant_g360.\n",
      "        Alternatively a .hdf file from 'medaka train'.\n",
      "    -f  Force overwrite of outputs (default will reuse existing outputs).\n",
      "    -t  number of threads with which to create features (default: 1).\n",
      "    -b  batchsize, controls memory use (default: 100).\n",
      "\n",
      "-i must be specified.\n",
      "(medaka) "
     ]
    },
    {
     "ename": "",
     "evalue": "1",
     "output_type": "error",
     "traceback": []
    }
   ],
   "source": [
    "medaka_consensus"
   ]
  },
  {
   "cell_type": "markdown",
   "id": "367fd07a-b72c-4ba9-a7b9-238de896f719",
   "metadata": {},
   "source": [
    "### Check the medaka model to use\n",
    "\n",
    "Medaka models are named to indicate i) the pore type, ii) the sequencing device (MinION or PromethION), iii) the basecaller variant, and  iv) the basecaller version\n",
    "\n",
    "{pore}_{device}_{caller variant}_{caller version}\n",
    "\n",
    "examples: \n",
    "\n",
    "r941_min_fast_g303 : MiniON R9.4.1 flowcells using the fast Guppy basecaller version 3.0.3. \n"
   ]
  },
  {
   "cell_type": "code",
   "execution_count": 20,
   "id": "96add958-3df4-4da4-84c3-0314a6206161",
   "metadata": {},
   "outputs": [
    {
     "name": "stdout",
     "output_type": "stream",
     "text": [
      "Available: r103_min_high_g345, r103_min_high_g360, r103_prom_high_g360, r103_prom_snp_g3210, r103_prom_variant_g3210, r10_min_high_g303, r10_min_high_g340, r941_min_fast_g303, r941_min_high_g303, r941_min_high_g330, r941_min_high_g340_rle, r941_min_high_g344, r941_min_high_g351, r941_min_high_g360, r941_prom_fast_g303, r941_prom_high_g303, r941_prom_high_g330, r941_prom_high_g344, r941_prom_high_g360, r941_prom_high_g4011, r941_prom_snp_g303, r941_prom_snp_g322, r941_prom_snp_g360, r941_prom_variant_g303, r941_prom_variant_g322, r941_prom_variant_g360\n",
      "Default consensus:  r941_min_high_g360\n",
      "Default snp:  r941_prom_snp_g360\n",
      "Default variant:  r941_prom_variant_g360\n",
      "(medaka) "
     ]
    },
    {
     "ename": "",
     "evalue": "1",
     "output_type": "error",
     "traceback": []
    }
   ],
   "source": [
    "medaka tools list_models"
   ]
  },
  {
   "cell_type": "markdown",
   "id": "3dfae363-f28d-4a80-a576-46cfd9f48f05",
   "metadata": {},
   "source": [
    "### Check the medaka model to use"
   ]
  },
  {
   "cell_type": "code",
   "execution_count": 24,
   "id": "25ab52e3-e16b-4170-a2eb-70ffadd58748",
   "metadata": {},
   "outputs": [
    {
     "name": "stdout",
     "output_type": "stream",
     "text": [
      "(medaka) (medaka) (medaka) "
     ]
    },
    {
     "ename": "",
     "evalue": "1",
     "output_type": "error",
     "traceback": []
    }
   ],
   "source": [
    "# go to medaka repertory results\n",
    "cd ~/SG-ONT-2021/RESULTS/FLYE_RACON_MEDAKA\n",
    "#rm -rf ~/SG-ONT-2021/RESULTS/FLYE_RACON_MEDAKA/MEDAKA_CONSENSUS"
   ]
  },
  {
   "cell_type": "markdown",
   "id": "0546bdf1-033b-4454-b54b-006ffa81e77e",
   "metadata": {},
   "source": [
    "### Medaka in FLYE + RACON\n",
    "\n",
    "We run medaka on the FLYE + polished with racon assembly."
   ]
  },
  {
   "cell_type": "code",
   "execution_count": 28,
   "id": "334f4446-251e-4317-9773-416d8e7569b9",
   "metadata": {},
   "outputs": [
    {
     "name": "stdout",
     "output_type": "stream",
     "text": [
      "(medaka) Checking program versions\n",
      "This is medaka 1.2.2\n",
      "Program    Version    Required   Pass     \n",
      "bcftools   1.11       1.9        True     \n",
      "bgzip      1.11       1.9        True     \n",
      "minimap2   2.22       2.11       True     \n",
      "samtools   1.11       1.9        True     \n",
      "tabix      1.11       1.9        True     \n",
      "Aligning basecalls to draft\n",
      "Removing previous index file /home/jovyan/SG-ONT-2021/RESULTS/FLYE_RACON/assembly.racon2.fasta.mmi\n",
      "Removing previous index file /home/jovyan/SG-ONT-2021/RESULTS/FLYE_RACON/assembly.racon2.fasta.fai\n",
      "Constructing minimap index.\n",
      "[M::mm_idx_gen::0.083*1.02] collected minimizers\n",
      "[M::mm_idx_gen::0.120*1.60] sorted minimizers\n",
      "[M::main::0.151*1.47] loaded/built the index for 4 target sequence(s)\n",
      "[M::mm_idx_stat] kmer size: 15; skip: 10; is_hpc: 0; #seq: 4\n",
      "[M::mm_idx_stat::0.159*1.44] distinct minimizers: 225773 (98.72% are singletons); average occurrences: 1.017; average spacing: 5.337; total length: 1225245\n",
      "[M::main] Version: 2.22-r1101\n",
      "[M::main] CMD: minimap2 -I 16G -x map-ont --MD -d /home/jovyan/SG-ONT-2021/RESULTS/FLYE_RACON/assembly.racon2.fasta.mmi /home/jovyan/SG-ONT-2021/RESULTS/FLYE_RACON/assembly.racon2.fasta\n",
      "[M::main] Real time: 0.166 sec; CPU: 0.234 sec; Peak RSS: 0.016 GB\n",
      "[M::main::0.025*1.08] loaded/built the index for 4 target sequence(s)\n",
      "[M::mm_mapopt_update::0.031*1.05] mid_occ = 10\n",
      "[M::mm_idx_stat] kmer size: 15; skip: 10; is_hpc: 0; #seq: 4\n",
      "[M::mm_idx_stat::0.038*1.01] distinct minimizers: 225773 (98.72% are singletons); average occurrences: 1.017; average spacing: 5.337; total length: 1225245\n",
      "[M::worker_pipeline::20.895*3.18] mapped 11235 sequences\n",
      "[M::main] Version: 2.22-r1101\n",
      "[M::main] CMD: minimap2 -x map-ont --MD -t 4 -a -A 2 -B 4 -O 4,24 -E 2,1 /home/jovyan/SG-ONT-2021/RESULTS/FLYE_RACON/assembly.racon2.fasta.mmi /home/jovyan/SG-ONT-2021/DATA/Clone10/ONT/Clone10.fastq.gz\n",
      "[M::main] Real time: 20.905 sec; CPU: 66.530 sec; Peak RSS: 0.403 GB\n",
      "[bam_sort_core] merging from 0 files and 4 in-memory blocks...\n",
      "Running medaka consensus\n",
      "[16:11:07 - Predict] Reducing threads to 2, anymore is a waste.\n",
      "[16:11:07 - Predict] It looks like you are running medaka without a GPU and attempted to set a high number of threads. We have scaled this down to an optimal number. If you wish to improve performance please see https://nanoporetech.github.io/medaka/installation.html#improving-parallelism.\n",
      "[16:11:07 - Predict] Setting tensorflow inter/intra-op threads to 2/1.\n",
      "[16:11:07 - Predict] Processing region(s): contig_1:0-1099516 contig_2:0-49074 contig_3:0-27293 contig_4:0-49362\n",
      "[16:11:07 - Predict] Using model: /opt/conda/envs/medaka/lib/python3.6/site-packages/medaka/data/r941_min_high_g360_model.hdf5.\n",
      "[16:11:07 - Predict] Processing 5 long region(s) with batching.\n",
      "[16:11:07 - ModelStore] filepath /opt/conda/envs/medaka/lib/python3.6/site-packages/medaka/data/r941_min_high_g360_model.hdf5\n",
      "[16:11:08 - DLoader] Initializing data loader\n",
      "[16:11:08 - Sampler] Initializing sampler for consensus of region contig_1:0-1000000.\n",
      "[16:11:08 - Sampler] Initializing sampler for consensus of region contig_1:999000-1099516.\n",
      "[16:11:08 - PWorker] Running inference for 1.2M draft bases.\n",
      "[16:11:08 - Sampler] Initializing sampler for consensus of region contig_2:0-49074.\n",
      "[16:11:08 - Sampler] Initializing sampler for consensus of region contig_3:0-27293.\n",
      "[16:11:09 - Feature] Processed contig_3:0.0-27292.0 (median depth 143.0)\n",
      "[16:11:09 - Sampler] Took 1.16s to make features.\n",
      "[16:11:09 - Sampler] Initializing sampler for consensus of region contig_4:0-49362.\n",
      "[16:11:09 - Feature] Processed contig_2:0.0-49073.0 (median depth 152.0)\n",
      "[16:11:09 - Sampler] Took 1.39s to make features.\n",
      "[16:11:10 - Feature] Processed contig_4:0.0-49361.0 (median depth 152.0)\n",
      "[16:11:10 - Sampler] Took 0.85s to make features.\n",
      "[16:11:10 - Feature] Processed contig_1:999000.0-1099515.0 (median depth 136.0)\n",
      "[16:11:10 - Sampler] Took 2.09s to make features.\n",
      "[16:11:11 - Feature] Processed contig_1:0.0-999999.2 (median depth 137.0)\n",
      "[16:11:11 - Sampler] Took 3.26s to make features.\n",
      "[16:11:35 - PWorker] Batches in cache: 3.\n",
      "[16:11:35 - PWorker] 39.1% Done (0.5/1.2 Mbases) in 27.1s\n",
      "[16:11:55 - PWorker] Batches in cache: 2.\n",
      "[16:11:55 - PWorker] 76.4% Done (0.9/1.2 Mbases) in 46.9s\n",
      "[16:12:11 - PWorker] Batches in cache: 1.\n",
      "[16:12:11 - PWorker] 100.0% Done (1.2/1.2 Mbases) in 63.6s\n",
      "[16:12:12 - PWorker] All done, 0 remainder regions.\n",
      "[16:12:12 - Predict] Finished processing all regions.\n",
      "Polished assembly written to MEDAKA_CONSENSUS/consensus.fasta, have a nice day.\n",
      "\n",
      "real\t1m53.578s\n",
      "user\t4m0.477s\n",
      "sys\t0m20.687s\n",
      "(medaka) "
     ]
    },
    {
     "ename": "",
     "evalue": "1",
     "output_type": "error",
     "traceback": []
    }
   ],
   "source": [
    "# medaka_consensus -i ${BASECALLS} -d ${DRAFT} -o ${OUTDIR} -t ${NPROC} -m r941_min_high_g360\n",
    "time medaka_consensus -i ~/SG-ONT-2021/DATA/${CLONE}/ONT/${CLONE}.fastq.gz -d ~/SG-ONT-2021/RESULTS/FLYE_RACON/assembly.racon2.fasta -o MEDAKA_CONSENSUS -t 4 -m r941_min_high_g360"
   ]
  },
  {
   "cell_type": "markdown",
   "id": "25b94f42-938d-4643-9574-1bbd3d32d3ec",
   "metadata": {},
   "source": [
    "\n",
    "## Improve parallelism for scaling to large datasets\n",
    "\n",
    "The medaka_consensus program is good for simple datasets but may not be optimal for running large datasets.\n",
    "\n",
    "Check complemental documentation [here](https://nanoporetech.github.io/medaka/installation.html#improving-parallelism)\n",
    "\n",
    "Three steps are needed to scale :\n",
    "\n",
    "```\n",
    "# align reads to assembly\n",
    "mini_align -i basecalls.fasta -r assembly.fasta -P -m \\\n",
    "    -p calls_to_draft.bam -t <threads>\n",
    "\n",
    "# run lots of jobs like this, change model as appropriate\n",
    "mkdir results\n",
    "medaka consensus calls_to_draft.bam results/contigs1-4.hdf \\\n",
    "    --model r941_min_fast_g303 --batch 200 --threads 8 \\\n",
    "    --region contig1 contig2 contig3 contig4\n",
    "...\n",
    "\n",
    "# wait for jobs, then collate results\n",
    "medaka stitch results/*.hdf polished.assembly.fasta\n",
    "```\n",
    "**Note : medaka_consensus is not medaka consensus !**"
   ]
  },
  {
   "cell_type": "markdown",
   "id": "85e725cd-c638-4e7b-88da-c728be8731c3",
   "metadata": {},
   "source": [
    "### Conclusion"
   ]
  },
  {
   "cell_type": "markdown",
   "id": "597631ba-0408-4182-b6de-b96098d62332",
   "metadata": {},
   "source": [
    "1. Here, we have obtained a pseudomolecule of a clone by using Flye.\n",
    "\n",
    "2. We have polished it twice with racon.\n",
    "\n",
    "3. We have corrected it with medaka models.\n",
    "\n",
    "You can do similar pipeline using the RAVEN assembler with your favorite Clone.\n",
    "\n",
    "We will compare the results in next practical \"Quality Assemblies\". "
   ]
  },
  {
   "cell_type": "code",
   "execution_count": null,
   "id": "4d1dbde0-bb77-49fa-b3d2-34756f198ff3",
   "metadata": {},
   "outputs": [],
   "source": []
  }
 ],
 "metadata": {
  "kernelspec": {
   "display_name": "Bash",
   "language": "bash",
   "name": "bash"
  },
  "language_info": {
   "codemirror_mode": "shell",
   "file_extension": ".sh",
   "mimetype": "text/x-sh",
   "name": "bash"
  }
 },
 "nbformat": 4,
 "nbformat_minor": 5
}
