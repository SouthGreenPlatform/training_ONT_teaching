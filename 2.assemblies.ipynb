{
 "cells": [
  {
   "cell_type": "markdown",
   "id": "66d4eeac",
   "metadata": {},
   "source": [
    "# Formation South Green 2021  \n",
    "\n",
    "##  Initiation à l’analyse de données Minion\n",
    "\n",
    "### PART 2\n",
    "\n",
    "Created by J.Orjuela (DIADE-IRD), F. Sabot (DIADE-IRD) and G. Sarah (AGAP-CIRAD)\n",
    "\n",
    "Septembre 2021\n"
   ]
  },
  {
   "cell_type": "markdown",
   "id": "52dd03b0",
   "metadata": {
    "jp-MarkdownHeadingCollapsed": true,
    "tags": []
   },
   "source": [
    "# 1. Assemblies\n",
    "\n",
    "More contiguous genome assemblies can be generated using long sequencing read but assembly is not a quite pace. Eukaryotic genomes assembly is a complex task (large genome sizes, high rates of repeated sequences, high heterozygosity levels and even polyploidy), and while prokaryotic genomes may appear less challenging, specific features such as circular DNA molecules, must be taken into consideration to achieve high quality assembly.\n",
    "\n",
    "* For assembly, ONT recommend sequencing a human genome to a minimum depth of 30x of 25–35 kb reads.\n",
    "However, sequencing to a depth of 60x is advisable to obtain the best assembly metrics. We also recommend basecalling in high accuracy mode. Greatest contig N50 is usually obtained with Shasta and Flye. Polishing/Correction is also recomendated (Racon and Medaka). https://nanoporetech.com/sites/default/files/s3/literature/human-genome-assembly-workflow.pdf\n",
    "\n",
    "\n",
    "* Long reads simplify genome assembly, with the ability to span repeat-rich sequences (characteristic of  antimicrobial resistance genes) and structural variants. Nanopore sequencing also shows a lack of\n",
    "bias in GC-rich regions, in contrast to other sequencing platforms. To perform microbial genome assembly, we suggest using the third-party de novo assembly tool Flye. We also recommend one round of polishing with Medaka. https://nanoporetech.com/sites/default/files/s3/literature/microbial-genome-assembly-workflow.pdf "
   ]
  },
  {
   "cell_type": "markdown",
   "id": "0a74882e",
   "metadata": {},
   "source": [
    "Flye  https://github.com/fenderglass/Flye \n",
    "\n",
    "Canu  https://canu.readthedocs.io/en/latest/quick-start.html\n",
    "\n",
    "Miniasm  https://github.com/lh3/miniasm + Minipolish version https://github.com/rrwick/Minipolish\n",
    "\n",
    "Shasta  https://github.com/chanzuckerberg/shasta\n",
    "\n",
    "Smartdenovo  https://github.com/ruanjue/smartdenovo\n",
    "\n",
    "Raven  https://github.com/lbcb-sci/raven"
   ]
  },
  {
   "cell_type": "markdown",
   "id": "c83a6eac",
   "metadata": {},
   "source": [
    "### 1.1 Assembly using Flye"
   ]
  },
  {
   "cell_type": "markdown",
   "id": "2415c263",
   "metadata": {},
   "source": [
    "We are going to assembly some Clones by using Flye https://github.com/fenderglass/Flye\n",
    "\n",
    "Flye generates the concatenation of multiple disjoint genomic segments called disjointigs to build a repeat graph. Reads are mapped to this repeat graph to resolve conflicts (unbridged repeats) and output contigs."
   ]
  },
  {
   "cell_type": "code",
   "execution_count": 2,
   "id": "af681d7a",
   "metadata": {},
   "outputs": [
    {
     "name": "stdout",
     "output_type": "stream",
     "text": [
      "/home/jovyan/SG-ONT-2021\n"
     ]
    }
   ],
   "source": [
    "# declare your clone number\n",
    "CLONE=\"Clone20\"\n",
    "# create a repertory for save flye assembly results\n",
    "cd ~/SG-ONT-2021/RESULTS/\n",
    "pwd"
   ]
  },
  {
   "cell_type": "code",
   "execution_count": 3,
   "id": "b7f1b857",
   "metadata": {
    "tags": []
   },
   "outputs": [
    {
     "name": "stdout",
     "output_type": "stream",
     "text": [
      "(flye) [2021-09-14 21:46:04] INFO: Starting Flye 2.9-b1768\n",
      "[2021-09-14 21:46:04] INFO: >>>STAGE: configure\n",
      "[2021-09-14 21:46:04] INFO: Configuring run\n",
      "[2021-09-14 21:46:08] INFO: Total read length: 160316874\n",
      "[2021-09-14 21:46:08] INFO: Input genome size: 1000000\n",
      "[2021-09-14 21:46:08] INFO: Estimated coverage: 160\n",
      "[2021-09-14 21:46:08] INFO: Reads N50/N90: 22312 / 7619\n",
      "[2021-09-14 21:46:08] INFO: Minimum overlap set to 8000\n",
      "[2021-09-14 21:46:08] INFO: >>>STAGE: assembly\n",
      "[2021-09-14 21:46:08] INFO: Assembling disjointigs\n",
      "[2021-09-14 21:46:08] INFO: Reading sequences\n",
      "[2021-09-14 21:46:21] INFO: Counting k-mers:\n",
      "0% 10% 20% 30% 40% 50% 60% 70% 80% 90% 100% \n",
      "[2021-09-14 21:47:29] INFO: Filling index table (1/2)\n",
      "0% 10% 20% 30% 40% 50% 60% 70% 80% 90% 100% \n",
      "[2021-09-14 21:47:54] INFO: Filling index table (2/2)\n",
      "0% 10% 20% 30% 40% 50% 60% 70% 80% 90% 100% \n",
      "[2021-09-14 21:49:05] INFO: Extending reads\n",
      "[2021-09-14 21:52:03] INFO: Overlap-based coverage: 123\n",
      "[2021-09-14 21:52:03] INFO: Median overlap divergence: 0.0948826\n",
      "0% 90% 100% \n",
      "[2021-09-14 21:52:54] INFO: Assembled 3 disjointigs\n",
      "[2021-09-14 21:52:54] INFO: Generating sequence\n",
      "0% 10% 20% 30% 40% 50% 60% 70% 80% 90% 100% \n",
      "[2021-09-14 21:52:55] INFO: Filtering contained disjointigs\n",
      "0% 30% 60% 100% \n",
      "[2021-09-14 21:52:56] INFO: Contained seqs: 0\n",
      "[2021-09-14 21:52:56] INFO: >>>STAGE: consensus\n",
      "[2021-09-14 21:52:56] INFO: Running Minimap2\n",
      "[2021-09-14 21:53:20] INFO: Computing consensus\n",
      "[2021-09-14 21:56:07] INFO: Alignment error rate: 0.133817\n",
      "[2021-09-14 21:56:07] INFO: >>>STAGE: repeat\n",
      "[2021-09-14 21:56:07] INFO: Building and resolving repeat graph\n",
      "[2021-09-14 21:56:07] INFO: Parsing disjointigs\n",
      "[2021-09-14 21:56:08] INFO: Building repeat graph\n",
      "0% 30% 60% 100% \n",
      "[2021-09-14 21:56:10] INFO: Median overlap divergence: 0.173828\n",
      "[2021-09-14 21:56:10] INFO: Parsing reads\n",
      "[2021-09-14 21:56:14] INFO: Aligning reads to the graph\n",
      "0% 10% 20% 30% 40% 50% 60% 70% 80% 90% 100% \n",
      "[2021-09-14 21:56:37] INFO: Aligned read sequence: 143028041 / 143321876 (0.99795)\n",
      "[2021-09-14 21:56:37] INFO: Median overlap divergence: 0.0552365\n",
      "[2021-09-14 21:56:37] INFO: Mean edge coverage: 120\n",
      "[2021-09-14 21:56:37] INFO: Simplifying the graph\n",
      "[2021-09-14 21:56:37] INFO: >>>STAGE: contigger\n",
      "[2021-09-14 21:56:37] INFO: Generating contigs\n",
      "[2021-09-14 21:56:37] INFO: Reading sequences\n",
      "[2021-09-14 21:56:40] INFO: Generated 3 contigs\n",
      "[2021-09-14 21:56:40] INFO: Added 0 scaffold connections\n",
      "[2021-09-14 21:56:40] INFO: >>>STAGE: polishing\n",
      "[2021-09-14 21:56:40] INFO: Polishing genome (1/1)\n",
      "[2021-09-14 21:56:40] INFO: Running minimap2\n",
      "[2021-09-14 21:57:01] INFO: Separating alignment into bubbles\n",
      "[2021-09-14 22:00:28] INFO: Alignment error rate: 0.087407\n",
      "[2021-09-14 22:00:28] INFO: Correcting bubbles\n",
      "0% 10% 20% 30% 40% 50% 60% 70% 80% 90% 100% \n",
      "[2021-09-14 22:01:13] INFO: >>>STAGE: finalize\n",
      "[2021-09-14 22:01:13] INFO: Assembly statistics:\n",
      "\n",
      "\tTotal length:\t1185033\n",
      "\tFragments:\t3\n",
      "\tFragments N50:\t1085435\n",
      "\tLargest frg:\t1085435\n",
      "\tScaffolds:\t0\n",
      "\tMean coverage:\t135\n",
      "\n",
      "[2021-09-14 22:01:13] INFO: Final assembly: /home/jovyan/SG-ONT-2021/FLYE/assembly.fasta\n",
      "\n",
      "real\t15m8.857s\n",
      "user\t27m57.196s\n",
      "sys\t0m25.476s\n",
      "(flye) (base) "
     ]
    },
    {
     "ename": "",
     "evalue": "1",
     "output_type": "error",
     "traceback": []
    }
   ],
   "source": [
    "# Run flye\n",
    "conda activate flye\n",
    "time flye --nano-raw DATA/${CLONE}/ONT/${CLONE}.fastq.gz --genome-size 1000000 --out-dir FLYE --threads 4\n",
    "conda deactivate"
   ]
  },
  {
   "cell_type": "markdown",
   "id": "ef2484db",
   "metadata": {},
   "source": [
    "### 1.2 Assembly using Raven"
   ]
  },
  {
   "cell_type": "code",
   "execution_count": 8,
   "id": "3c3622a4",
   "metadata": {},
   "outputs": [
    {
     "name": "stdout",
     "output_type": "stream",
     "text": [
      "(base) (base) (base) /home/jovyan/SG-ONT-2021/RESULTS/RAVEN\n",
      "(base) "
     ]
    },
    {
     "ename": "",
     "evalue": "1",
     "output_type": "error",
     "traceback": []
    }
   ],
   "source": [
    "# create a repertory for save raven assembly results\n",
    "mkdir ~/SG-ONT-2021/RESULTS/RAVEN\n",
    "cd ~/SG-ONT-2021/RESULTS/RAVEN\n",
    "pwd"
   ]
  },
  {
   "cell_type": "code",
   "execution_count": 9,
   "id": "3213e0a0",
   "metadata": {},
   "outputs": [
    {
     "name": "stdout",
     "output_type": "stream",
     "text": [
      "(base) (raven) [raven::] loaded 10804 sequences 3.536120s\n",
      "[raven::Graph::Construct] minimized 0 - 10804 / 10804 3.162863s\n",
      "[raven::Graph::Construct] mapped sequences 12.824156s\n",
      "[raven::Graph::Construct] annotated piles 0.084350s\n",
      "[raven::Graph::Construct] removed contained sequences 0.021729s\n",
      "[raven::Graph::Construct] removed chimeric sequences 0.013587s\n",
      "[raven::Graph::Construct] reached checkpoint 0.103159s\n",
      "[raven::Graph::Construct] minimized 0 - 198 / 198 0.894041s\n",
      "[raven::Graph::Construct] mapped valid sequences 0.720659s\n",
      "[raven::Graph::Construct] updated overlaps 0.000669s\n",
      "[raven::Graph::Construct] removed false overlaps 0.009050s\n",
      "[raven::Graph::Construct] stored 396 nodes 0.082866s\n",
      "[raven::Graph::Construct] stored 2708 edges 0.001006s\n",
      "[raven::Graph::Construct] reached checkpoint 0.179135s\n",
      "[raven::Graph::Construct] 18.097270s\n",
      "[raven::Graph::Assemble] removed transitive edges 0.003050s\n",
      "[raven::Graph::Assemble] reached checkpoint 0.083759s\n",
      "[raven::Graph::Assemble] removed tips and bubbles 0.058990s\n",
      "[raven::Graph::Assemble] reached checkpoint 0.156131s\n",
      "[raven::Graph::Assemble] removed long edges 0.318988s\n",
      "[raven::Graph::Assemble] reached checkpoint 0.079258s\n",
      "[raven::Graph::Assemble] 0.729152s\n",
      "[raven::] 22.682927s\n",
      "\n",
      "real\t0m22.831s\n",
      "user\t1m9.562s\n",
      "sys\t0m1.982s\n",
      "(raven) (base) "
     ]
    },
    {
     "ename": "",
     "evalue": "1",
     "output_type": "error",
     "traceback": []
    }
   ],
   "source": [
    "# Run raven\n",
    "conda activate raven\n",
    "time raven -p 0 --graphical-fragment-assembly ${CLONE}_raven.gfa -t 4 ../../DATA/${CLONE}/ONT/${CLONE}.fastq.gz > ${CLONE}_raven.fasta\n",
    "conda deactivate"
   ]
  },
  {
   "cell_type": "markdown",
   "id": "102de26b",
   "metadata": {},
   "source": [
    "* How many contigs were obtained by Flye and Raven ? Please fill in results in the shared [file](https://lite.framacalc.org/9pd3-ont_sg_2021)\n",
    "* Calculate first statistics about assemblies: N50 and lenght contig mean."
   ]
  },
  {
   "cell_type": "code",
   "execution_count": 10,
   "id": "25c0c563-e85f-4431-a035-8a40def45d4e",
   "metadata": {},
   "outputs": [
    {
     "name": "stdout",
     "output_type": "stream",
     "text": [
      "\u001b[35m\u001b[K/home/jovyan/SG-ONT-2021/RESULTS/FLYE/assembly.fasta\u001b[m\u001b[K\u001b[36m\u001b[K:\u001b[m\u001b[K\u001b[01;31m\u001b[K>\u001b[m\u001b[Kcontig_1\n",
      "\u001b[35m\u001b[K/home/jovyan/SG-ONT-2021/RESULTS/FLYE/assembly.fasta\u001b[m\u001b[K\u001b[36m\u001b[K:\u001b[m\u001b[K\u001b[01;31m\u001b[K>\u001b[m\u001b[Kcontig_2\n",
      "\u001b[35m\u001b[K/home/jovyan/SG-ONT-2021/RESULTS/FLYE/assembly.fasta\u001b[m\u001b[K\u001b[36m\u001b[K:\u001b[m\u001b[K\u001b[01;31m\u001b[K>\u001b[m\u001b[Kcontig_3\n",
      "\u001b[35m\u001b[K/home/jovyan/SG-ONT-2021/RESULTS/RAVEN/Clone20_raven.fasta\u001b[m\u001b[K\u001b[36m\u001b[K:\u001b[m\u001b[K\u001b[01;31m\u001b[K>\u001b[m\u001b[KUtg398 LN:i:728202 RC:i:120 XO:i:0\n",
      "\u001b[35m\u001b[K/home/jovyan/SG-ONT-2021/RESULTS/RAVEN/Clone20_raven.fasta\u001b[m\u001b[K\u001b[36m\u001b[K:\u001b[m\u001b[K\u001b[01;31m\u001b[K>\u001b[m\u001b[KUtg400 LN:i:390114 RC:i:64 XO:i:0\n",
      "\u001b[35m\u001b[K/home/jovyan/SG-ONT-2021/RESULTS/RAVEN/Clone20_raven.fasta\u001b[m\u001b[K\u001b[36m\u001b[K:\u001b[m\u001b[K\u001b[01;31m\u001b[K>\u001b[m\u001b[KUtg402 LN:i:49172 RC:i:6 XO:i:0\n",
      "\u001b[35m\u001b[K/home/jovyan/SG-ONT-2021/RESULTS/RAVEN/Clone20_raven.fasta\u001b[m\u001b[K\u001b[36m\u001b[K:\u001b[m\u001b[K\u001b[01;31m\u001b[K>\u001b[m\u001b[KUtg404 LN:i:49281 RC:i:7 XO:i:0\n",
      "(base) "
     ]
    },
    {
     "ename": "",
     "evalue": "1",
     "output_type": "error",
     "traceback": []
    }
   ],
   "source": [
    "grep ^'>' ~/SG-ONT-2021/RESULTS/*/*.fasta"
   ]
  },
  {
   "cell_type": "markdown",
   "id": "52d0546b",
   "metadata": {},
   "source": [
    "# 2. Polishing assemblies with Racon\n",
    "\n",
    "Racon corrects raw contigs generated by rapid assembly methods with original ONT reads.\n",
    "\n",
    "From 2 to 4 racon rounds are usually used by the community. \n",
    "\n",
    "Polish contigs assembled by Flye using two rounds of racon !."
   ]
  },
  {
   "cell_type": "code",
   "execution_count": 16,
   "id": "0d6870db-b658-46de-8d71-d7e456f8fbc0",
   "metadata": {},
   "outputs": [
    {
     "name": "stdout",
     "output_type": "stream",
     "text": [
      "(medaka) "
     ]
    },
    {
     "ename": "",
     "evalue": "1",
     "output_type": "error",
     "traceback": []
    }
   ],
   "source": [
    "CLONE=Clone20"
   ]
  },
  {
   "cell_type": "code",
   "execution_count": 11,
   "id": "6c61ba46",
   "metadata": {
    "collapsed": true,
    "jupyter": {
     "outputs_hidden": true
    },
    "tags": []
   },
   "outputs": [
    {
     "name": "stdout",
     "output_type": "stream",
     "text": [
      "(racon) [racon::] error: missing input file(s)!\n",
      "usage: racon [options ...] <sequences> <overlaps> <target sequences>\n",
      "\n",
      "    #default output is stdout\n",
      "    <sequences>\n",
      "        input file in FASTA/FASTQ format (can be compressed with gzip)\n",
      "        containing sequences used for correction\n",
      "    <overlaps>\n",
      "        input file in MHAP/PAF/SAM format (can be compressed with gzip)\n",
      "        containing overlaps between sequences and target sequences\n",
      "    <target sequences>\n",
      "        input file in FASTA/FASTQ format (can be compressed with gzip)\n",
      "        containing sequences which will be corrected\n",
      "\n",
      "    options:\n",
      "        -u, --include-unpolished\n",
      "            output unpolished target sequences\n",
      "        -f, --fragment-correction\n",
      "            perform fragment correction instead of contig polishing\n",
      "            (overlaps file should contain dual/self overlaps!)\n",
      "        -w, --window-length <int>\n",
      "            default: 500\n",
      "            size of window on which POA is performed\n",
      "        -q, --quality-threshold <float>\n",
      "            default: 10.0\n",
      "            threshold for average base quality of windows used in POA\n",
      "        -e, --error-threshold <float>\n",
      "            default: 0.3\n",
      "            maximum allowed error rate used for filtering overlaps\n",
      "        --no-trimming\n",
      "            disables consensus trimming at window ends\n",
      "        -m, --match <int>\n",
      "            default: 3\n",
      "            score for matching bases\n",
      "        -x, --mismatch <int>\n",
      "            default: -5\n",
      "            score for mismatching bases\n",
      "        -g, --gap <int>\n",
      "            default: -4\n",
      "            gap penalty (must be negative)\n",
      "        -t, --threads <int>\n",
      "            default: 1\n",
      "            number of threads\n",
      "        --version\n",
      "            prints the version number\n",
      "        -h, --help\n",
      "            prints the usage\n",
      "(racon) "
     ]
    },
    {
     "ename": "",
     "evalue": "1",
     "output_type": "error",
     "traceback": []
    }
   ],
   "source": [
    "conda activate racon\n",
    "racon"
   ]
  },
  {
   "cell_type": "markdown",
   "id": "ae79d00b-57be-4e57-8d4c-137f448a4afb",
   "metadata": {},
   "source": [
    "## Racon first round"
   ]
  },
  {
   "cell_type": "code",
   "execution_count": 12,
   "id": "7697cc22-1790-45e2-8680-ae1aebfb7cf9",
   "metadata": {},
   "outputs": [
    {
     "name": "stdout",
     "output_type": "stream",
     "text": [
      "(racon) (racon) (racon) (racon) [M::mm_idx_gen::0.121*0.82] collected minimizers\n",
      "[M::mm_idx_gen::0.167*0.87] sorted minimizers\n",
      "[M::main::0.167*0.87] loaded/built the index for 3 target sequence(s)\n",
      "[M::mm_mapopt_update::0.175*0.87] mid_occ = 6\n",
      "[M::mm_idx_stat] kmer size: 15; skip: 10; is_hpc: 0; #seq: 3\n",
      "[M::mm_idx_stat::0.180*0.87] distinct minimizers: 214643 (97.74% are singletons); average occurrences: 1.031; average spacing: 5.355\n",
      "[M::worker_pipeline::15.767*1.00] mapped 10804 sequences\n",
      "[M::main] Version: 2.17-r941\n",
      "[M::main] CMD: minimap2 -t 1 ../FLYE/assembly.fasta ../../DATA/Clone20/ONT/Clone20.fastq.gz\n",
      "[M::main] Real time: 15.775 sec; CPU: 15.744 sec; Peak RSS: 0.171 GB\n",
      "\n",
      "real\t0m15.957s\n",
      "user\t0m15.412s\n",
      "sys\t0m0.352s\n",
      "(racon) [racon::Polisher::initialize] loaded target sequences 0.019625 s\n",
      "[racon::Polisher::initialize] loaded sequences 3.955057 s\n",
      "[racon::Polisher::initialize] loaded overlaps 0.019120 s\n",
      "[racon::Polisher::initialize] aligning overlaps [====================] 125.001303 s\n",
      "[racon::Polisher::initialize] transformed data into windows 0.357862 s\n",
      "[racon::Polisher::polish] generating consensus [====================] 256.143627 s\n",
      "[racon::Polisher::] total = 385.530308 s\n",
      "\n",
      "real\t6m25.583s\n",
      "user\t6m22.554s\n",
      "sys\t0m3.791s\n",
      "(racon) "
     ]
    },
    {
     "ename": "",
     "evalue": "1",
     "output_type": "error",
     "traceback": []
    }
   ],
   "source": [
    "\n",
    "mkdir -p ~/SG-ONT-2021/RESULTS/FLYE_RACON\n",
    "cd ~/SG-ONT-2021/RESULTS/FLYE_RACON\n",
    "time minimap2 -t 4 ../FLYE/assembly.fasta ../../DATA/${CLONE}/ONT/${CLONE}.fastq.gz 1> assembly.minimap4racon1.paf\n",
    "time racon -t 4 ../../DATA/${CLONE}/ONT/${CLONE}.fastq.gz assembly.minimap4racon1.paf ../FLYE/assembly.fasta > assembly.racon1.fasta"
   ]
  },
  {
   "cell_type": "markdown",
   "id": "4b75b00d-4a7c-41e3-9472-69e3eef402df",
   "metadata": {},
   "source": [
    "## Racon second round"
   ]
  },
  {
   "cell_type": "code",
   "execution_count": 13,
   "id": "3c9fa57c-a4a3-4be5-a3c2-bf99524917a3",
   "metadata": {},
   "outputs": [
    {
     "name": "stdout",
     "output_type": "stream",
     "text": [
      "(racon) [M::mm_idx_gen::0.093*1.03] collected minimizers\n",
      "[M::mm_idx_gen::0.139*1.02] sorted minimizers\n",
      "[M::main::0.139*1.02] loaded/built the index for 3 target sequence(s)\n",
      "[M::mm_mapopt_update::0.147*1.02] mid_occ = 6\n",
      "[M::mm_idx_stat] kmer size: 15; skip: 10; is_hpc: 0; #seq: 3\n",
      "[M::mm_idx_stat::0.152*1.01] distinct minimizers: 213223 (97.67% are singletons); average occurrences: 1.032; average spacing: 5.357\n",
      "[M::worker_pipeline::15.971*1.00] mapped 10804 sequences\n",
      "[M::main] Version: 2.17-r941\n",
      "[M::main] CMD: minimap2 -t 1 assembly.racon1.fasta ../../DATA/Clone20/ONT/Clone20.fastq.gz\n",
      "[M::main] Real time: 15.979 sec; CPU: 15.967 sec; Peak RSS: 0.170 GB\n",
      "\n",
      "real\t0m16.005s\n",
      "user\t0m15.568s\n",
      "sys\t0m0.421s\n",
      "(racon) [racon::Polisher::initialize] loaded target sequences 0.016481 s\n",
      "[racon::Polisher::initialize] loaded sequences 3.885330 s\n",
      "[racon::Polisher::initialize] loaded overlaps 0.018785 s\n",
      "[racon::Polisher::initialize] aligning overlaps [====================] 131.590772 s\n",
      "[racon::Polisher::initialize] transformed data into windows 0.363071 s\n",
      "[racon::Polisher::polish] generating consensus [====================] 262.873231 s\n",
      "[racon::Polisher::] total = 398.797129 s\n",
      "\n",
      "real\t6m38.868s\n",
      "user\t6m35.496s\n",
      "sys\t0m4.159s\n",
      "(racon) (base) "
     ]
    },
    {
     "ename": "",
     "evalue": "1",
     "output_type": "error",
     "traceback": []
    }
   ],
   "source": [
    "# second round\n",
    "cd ~/SG-ONT-2021/RESULTS/FLYE_RACON\n",
    "time minimap2 -t 4 assembly.racon1.fasta ../../DATA/${CLONE}/ONT/${CLONE}.fastq.gz 1> assembly.minimap4racon2.paf\n",
    "time racon -t 4 ../../DATA/${CLONE}/ONT/${CLONE}.fastq.gz assembly.minimap4racon2.paf assembly.racon1.fasta > assembly.racon2.fasta\n",
    "conda deactivate"
   ]
  },
  {
   "cell_type": "markdown",
   "id": "1442f938",
   "metadata": {},
   "source": [
    "# 3. Assemblies correction with Medaka\n",
    "\n",
    "Correction can improve the consensus sequence for a draft genome assembly.\n",
    "\n",
    "Medaka uses fast5 files to correct contigs using trained models. These models are free available.\n",
    "\n",
    "Medaka allows you train a model from using fast5 of your favorite specie. You can use it directly to obtain a consensus from you favorite organism."
   ]
  },
  {
   "cell_type": "markdown",
   "id": "9a722473",
   "metadata": {},
   "source": [
    "## 1.3 Correct assemblies with Medaka"
   ]
  },
  {
   "cell_type": "markdown",
   "id": "47d0d113-88c5-4d7a-aaec-add0a9942be3",
   "metadata": {},
   "source": [
    "### 1.3.1 Before to correct assemblies, index them"
   ]
  },
  {
   "cell_type": "code",
   "execution_count": 42,
   "id": "0e9d88fb-7e5a-40b5-9c8a-46e333e36c1a",
   "metadata": {},
   "outputs": [
    {
     "name": "stdout",
     "output_type": "stream",
     "text": [
      "(medaka) (medaka) "
     ]
    },
    {
     "ename": "",
     "evalue": "1",
     "output_type": "error",
     "traceback": []
    }
   ],
   "source": [
    "conda activate medaka\n",
    "cd ~/SG-ONT-2021/RESULTS/FLYE_RACON"
   ]
  },
  {
   "cell_type": "code",
   "execution_count": 8,
   "id": "365b9ab7",
   "metadata": {},
   "outputs": [
    {
     "name": "stdout",
     "output_type": "stream",
     "text": [
      "(medaka) \n",
      "real\t0m0.021s\n",
      "user\t0m0.008s\n",
      "sys\t0m0.009s\n",
      "(medaka) [M::mm_idx_gen::0.093*1.04] collected minimizers\n",
      "[M::mm_idx_gen::0.140*1.66] sorted minimizers\n",
      "[M::main::0.181*1.49] loaded/built the index for 3 target sequence(s)\n",
      "[M::mm_idx_stat] kmer size: 15; skip: 10; is_hpc: 0; #seq: 3\n",
      "[M::mm_idx_stat::0.193*1.42] distinct minimizers: 213101 (97.66% are singletons); average occurrences: 1.032; average spacing: 5.358; total length: 1178330\n",
      "[M::main] Version: 2.22-r1101\n",
      "[M::main] CMD: minimap2 -d assembly.racon2.fasta.mmi assembly.racon2.fasta\n",
      "[M::main] Real time: 0.204 sec; CPU: 0.281 sec; Peak RSS: 0.015 GB\n",
      "\n",
      "real\t0m0.209s\n",
      "user\t0m0.210s\n",
      "sys\t0m0.074s\n",
      "(medaka) "
     ]
    },
    {
     "ename": "",
     "evalue": "1",
     "output_type": "error",
     "traceback": []
    }
   ],
   "source": [
    "time samtools faidx assembly.racon2.fasta \n",
    "time minimap2 -d assembly.racon2.fasta.mmi assembly.racon2.fasta"
   ]
  },
  {
   "cell_type": "code",
   "execution_count": 9,
   "id": "05f29acb-cb81-4d89-acf0-ab921b68cd17",
   "metadata": {},
   "outputs": [
    {
     "name": "stdout",
     "output_type": "stream",
     "text": [
      "(medaka) (medaka) (medaka) "
     ]
    },
    {
     "ename": "",
     "evalue": "1",
     "output_type": "error",
     "traceback": []
    }
   ],
   "source": [
    "#create a medaka repertory\n",
    "mkdir -p ~/SG-ONT-2021/RESULTS/FLYE_RACON_MEDAKA\n",
    "cd ~/SG-ONT-2021/RESULTS/FLYE_RACON_MEDAKA"
   ]
  },
  {
   "cell_type": "markdown",
   "id": "a00888ca-57a0-43cf-b27a-bee4bd7d1790",
   "metadata": {},
   "source": [
    "### 1.3.2 Medaka_consensus"
   ]
  },
  {
   "cell_type": "markdown",
   "id": "567f51a4-cd6e-4aa0-bff8-cb22655eaa87",
   "metadata": {},
   "source": [
    "Medaka is a tool to create a consensus sequence of nanopore sequencing data. \n",
    "\n",
    "This task is performed using neural networks applied a pileup of individual sequencing reads against a draft assembly.\n",
    "\n",
    "It outperforms graph-based methods operating on basecalled data, and can be competitive with state-of-the-art signal-based methods whilst being much faster.\n",
    "\n",
    "As input medaka accepts reads in either a .fasta or a .fastq file. It requires a draft assembly as a .fasta.\n",
    "\n",
    "### Check the usage of medaka_consensus"
   ]
  },
  {
   "cell_type": "code",
   "execution_count": 43,
   "id": "1f60ed62",
   "metadata": {},
   "outputs": [
    {
     "name": "stdout",
     "output_type": "stream",
     "text": [
      "\n",
      "medaka 1.2.2\n",
      "------------\n",
      "\n",
      "Assembly polishing via neural networks. The input assembly should be\n",
      "preprocessed with racon.\n",
      "\n",
      "medaka_consensus [-h] -i <fastx>\n",
      "\n",
      "    -h  show this help text.\n",
      "    -i  fastx input basecalls (required).\n",
      "    -d  fasta input assembly (required).\n",
      "    -o  output folder (default: medaka).\n",
      "    -g  don't fill gaps in consensus with draft sequence.\n",
      "    -m  medaka model, (default: r941_min_high_g360).\n",
      "        Available: r103_min_high_g345, r103_min_high_g360, r103_prom_high_g360, r103_prom_snp_g3210, r103_prom_variant_g3210, r10_min_high_g303, r10_min_high_g340, r941_min_fast_g303, r941_min_high_g303, r941_min_high_g330, r941_min_high_g340_rle, r941_min_high_g344, r941_min_high_g351, r941_min_high_g360, r941_prom_fast_g303, r941_prom_high_g303, r941_prom_high_g330, r941_prom_high_g344, r941_prom_high_g360, r941_prom_high_g4011, r941_prom_snp_g303, r941_prom_snp_g322, r941_prom_snp_g360, r941_prom_variant_g303, r941_prom_variant_g322, r941_prom_variant_g360.\n",
      "        Alternatively a .hdf file from 'medaka train'.\n",
      "    -f  Force overwrite of outputs (default will reuse existing outputs).\n",
      "    -t  number of threads with which to create features (default: 1).\n",
      "    -b  batchsize, controls memory use (default: 100).\n",
      "\n",
      "-i must be specified.\n",
      "(medaka) "
     ]
    },
    {
     "ename": "",
     "evalue": "1",
     "output_type": "error",
     "traceback": []
    }
   ],
   "source": [
    "medaka_consensus"
   ]
  },
  {
   "cell_type": "markdown",
   "id": "367fd07a-b72c-4ba9-a7b9-238de896f719",
   "metadata": {},
   "source": [
    "### Check the medaka model to use\n",
    "\n",
    "Medaka models are named to indicate i) the pore type, ii) the sequencing device (MinION or PromethION), iii) the basecaller variant, and  iv) the basecaller version\n",
    "\n",
    "{pore}_{device}_{caller variant}_{caller version}\n",
    "\n",
    "examples: \n",
    "\n",
    "r941_min_fast_g303 : MiniON R9.4.1 flowcells using the fast Guppy basecaller version 3.0.3. \n"
   ]
  },
  {
   "cell_type": "code",
   "execution_count": 44,
   "id": "96add958-3df4-4da4-84c3-0314a6206161",
   "metadata": {},
   "outputs": [
    {
     "name": "stdout",
     "output_type": "stream",
     "text": [
      "Available: r103_min_high_g345, r103_min_high_g360, r103_prom_high_g360, r103_prom_snp_g3210, r103_prom_variant_g3210, r10_min_high_g303, r10_min_high_g340, r941_min_fast_g303, r941_min_high_g303, r941_min_high_g330, r941_min_high_g340_rle, r941_min_high_g344, r941_min_high_g351, r941_min_high_g360, r941_prom_fast_g303, r941_prom_high_g303, r941_prom_high_g330, r941_prom_high_g344, r941_prom_high_g360, r941_prom_high_g4011, r941_prom_snp_g303, r941_prom_snp_g322, r941_prom_snp_g360, r941_prom_variant_g303, r941_prom_variant_g322, r941_prom_variant_g360\n",
      "Default consensus:  r941_min_high_g360\n",
      "Default snp:  r941_prom_snp_g360\n",
      "Default variant:  r941_prom_variant_g360\n",
      "(medaka) "
     ]
    },
    {
     "ename": "",
     "evalue": "1",
     "output_type": "error",
     "traceback": []
    }
   ],
   "source": [
    "medaka tools list_models"
   ]
  },
  {
   "cell_type": "markdown",
   "id": "3dfae363-f28d-4a80-a576-46cfd9f48f05",
   "metadata": {},
   "source": [
    "### Check the medaka model to use"
   ]
  },
  {
   "cell_type": "code",
   "execution_count": 46,
   "id": "25ab52e3-e16b-4170-a2eb-70ffadd58748",
   "metadata": {},
   "outputs": [
    {
     "name": "stdout",
     "output_type": "stream",
     "text": [
      "(medaka) (medaka) (medaka) "
     ]
    },
    {
     "ename": "",
     "evalue": "1",
     "output_type": "error",
     "traceback": []
    }
   ],
   "source": [
    "# go to medaka repertory results\n",
    "cd ~/SG-ONT-2021/RESULTS/FLYE_RACON_MEDAKA\n",
    "#rm -rf ~/SG-ONT-2021/RESULTS/FLYE_RACON_MEDAKA/MEDAKA_CONSENSUS"
   ]
  },
  {
   "cell_type": "markdown",
   "id": "0546bdf1-033b-4454-b54b-006ffa81e77e",
   "metadata": {},
   "source": [
    "### Medaka in FLYE + RACON\n",
    "\n",
    "We run medaka on the FLYE + polished with racon assembly."
   ]
  },
  {
   "cell_type": "code",
   "execution_count": 41,
   "id": "334f4446-251e-4317-9773-416d8e7569b9",
   "metadata": {},
   "outputs": [
    {
     "name": "stdout",
     "output_type": "stream",
     "text": [
      "(medaka) Checking program versions\n",
      "This is medaka 1.2.2\n",
      "Program    Version    Required   Pass     \n",
      "bcftools   1.11       1.9        True     \n",
      "bgzip      1.11       1.9        True     \n",
      "minimap2   2.22       2.11       True     \n",
      "samtools   1.11       1.9        True     \n",
      "tabix      1.11       1.9        True     \n",
      "Aligning basecalls to draft\n",
      "Removing previous index file /home/jovyan/SG-ONT-2021/RESULTS/FLYE_RACON/assembly.racon2.fasta.mmi\n",
      "Removing previous index file /home/jovyan/SG-ONT-2021/RESULTS/FLYE_RACON/assembly.racon2.fasta.fai\n",
      "Constructing minimap index.\n",
      "[M::mm_idx_gen::0.102*1.01] collected minimizers\n",
      "[M::mm_idx_gen::0.142*1.45] sorted minimizers\n",
      "[M::main::0.160*1.40] loaded/built the index for 3 target sequence(s)\n",
      "[M::mm_idx_stat] kmer size: 15; skip: 10; is_hpc: 0; #seq: 3\n",
      "[M::mm_idx_stat::0.164*1.39] distinct minimizers: 213101 (97.66% are singletons); average occurrences: 1.032; average spacing: 5.358; total length: 1178330\n",
      "[M::main] Version: 2.22-r1101\n",
      "[M::main] CMD: minimap2 -I 16G -x map-ont --MD -d /home/jovyan/SG-ONT-2021/RESULTS/FLYE_RACON/assembly.racon2.fasta.mmi /home/jovyan/SG-ONT-2021/RESULTS/FLYE_RACON/assembly.racon2.fasta\n",
      "[M::main] Real time: 0.169 sec; CPU: 0.233 sec; Peak RSS: 0.014 GB\n",
      "[M::main::0.018*1.06] loaded/built the index for 3 target sequence(s)\n",
      "[M::mm_mapopt_update::0.021*1.05] mid_occ = 10\n",
      "[M::mm_idx_stat] kmer size: 15; skip: 10; is_hpc: 0; #seq: 3\n",
      "[M::mm_idx_stat::0.024*1.05] distinct minimizers: 213101 (97.66% are singletons); average occurrences: 1.032; average spacing: 5.358; total length: 1178330\n",
      "[M::worker_pipeline::23.041*2.93] mapped 10804 sequences\n",
      "[M::main] Version: 2.22-r1101\n",
      "[M::main] CMD: minimap2 -x map-ont --MD -t 4 -a -A 2 -B 4 -O 4,24 -E 2,1 /home/jovyan/SG-ONT-2021/RESULTS/FLYE_RACON/assembly.racon2.fasta.mmi /home/jovyan/SG-ONT-2021/DATA/Clone20/ONT/Clone20.fastq.gz\n",
      "[M::main] Real time: 23.046 sec; CPU: 67.572 sec; Peak RSS: 0.403 GB\n",
      "[bam_sort_core] merging from 0 files and 4 in-memory blocks...\n",
      "Running medaka consensus\n",
      "[09:14:41 - Predict] Reducing threads to 2, anymore is a waste.\n",
      "[09:14:41 - Predict] It looks like you are running medaka without a GPU and attempted to set a high number of threads. We have scaled this down to an optimal number. If you wish to improve performance please see https://nanoporetech.github.io/medaka/installation.html#improving-parallelism.\n",
      "[09:14:41 - Predict] Setting tensorflow inter/intra-op threads to 2/1.\n",
      "[09:14:41 - Predict] Processing region(s): contig_1:0-1079833 contig_2:0-49100 contig_3:0-49397\n",
      "[09:14:41 - Predict] Using model: /opt/conda/envs/medaka/lib/python3.6/site-packages/medaka/data/r941_min_high_g360_model.hdf5.\n",
      "[09:14:41 - Predict] Processing 4 long region(s) with batching.\n",
      "[09:14:41 - ModelStore] filepath /opt/conda/envs/medaka/lib/python3.6/site-packages/medaka/data/r941_min_high_g360_model.hdf5\n",
      "[09:14:42 - DLoader] Initializing data loader\n",
      "[09:14:42 - Sampler] Initializing sampler for consensus of region contig_1:0-1000000.\n",
      "[09:14:42 - Sampler] Initializing sampler for consensus of region contig_1:999000-1079833.\n",
      "[09:14:42 - PWorker] Running inference for 1.2M draft bases.\n",
      "[09:14:42 - Sampler] Initializing sampler for consensus of region contig_2:0-49100.\n",
      "[09:14:42 - Sampler] Initializing sampler for consensus of region contig_3:0-49397.\n",
      "[09:14:45 - Feature] Processed contig_3:0.0-49396.0 (median depth 152.0)\n",
      "[09:14:45 - Sampler] Took 2.44s to make features.\n",
      "[09:14:45 - Feature] Processed contig_2:0.0-49099.0 (median depth 152.0)\n",
      "[09:14:45 - Sampler] Took 2.47s to make features.\n",
      "[09:14:46 - Feature] Processed contig_1:999000.0-1079832.0 (median depth 129.0)\n",
      "[09:14:46 - Sampler] Took 3.24s to make features.\n",
      "[09:14:48 - Feature] Processed contig_1:0.0-999999.3 (median depth 138.0)\n",
      "[09:14:48 - Sampler] Took 5.64s to make features.\n",
      "[09:15:14 - PWorker] Batches in cache: 3.\n",
      "[09:15:14 - PWorker] 40.3% Done (0.5/1.2 Mbases) in 32.0s\n",
      "[09:15:34 - PWorker] Batches in cache: 2.\n",
      "[09:15:34 - PWorker] 79.2% Done (0.9/1.2 Mbases) in 51.3s\n",
      "[09:15:48 - PWorker] Batches in cache: 1.\n",
      "[09:15:48 - PWorker] 100.0% Done (1.2/1.2 Mbases) in 65.7s\n",
      "[09:15:49 - PWorker] All done, 0 remainder regions.\n",
      "[09:15:49 - Predict] Finished processing all regions.\n",
      "Polished assembly written to MEDAKA_CONSENSUS/consensus.fasta, have a nice day.\n",
      "\n",
      "real\t2m0.341s\n",
      "user\t4m1.482s\n",
      "sys\t0m23.657s\n",
      "(medaka) "
     ]
    },
    {
     "ename": "",
     "evalue": "1",
     "output_type": "error",
     "traceback": []
    }
   ],
   "source": [
    "# medaka_consensus -i ${BASECALLS} -d ${DRAFT} -o ${OUTDIR} -t ${NPROC} -m r941_min_high_g360\n",
    "time medaka_consensus -i /home/jovyan/SG-ONT-2021/DATA/Clone20/ONT/Clone20.fastq.gz -d ~/SG-ONT-2021/RESULTS/FLYE_RACON/assembly.racon2.fasta -o MEDAKA_CONSENSUS -t 4 -m r941_min_high_g360"
   ]
  },
  {
   "cell_type": "markdown",
   "id": "25b94f42-938d-4643-9574-1bbd3d32d3ec",
   "metadata": {},
   "source": [
    "\n",
    "## Improve parallelisme to large datasets at scale\n",
    "\n",
    "The medaka_consensus program is good for simple datasets but perhaps not optimal for running large datasets at scale. \n",
    "\n",
    "Check complemental documentation [here](https://nanoporetech.github.io/medaka/installation.html#improving-parallelism)\n",
    "\n",
    "Three steps are need to performed at scale :\n",
    "\n",
    "```\n",
    "# align reads to assembly\n",
    "mini_align -i basecalls.fasta -r assembly.fasta -P -m \\\n",
    "    -p calls_to_draft.bam -t <threads>\n",
    "\n",
    "# run lots of jobs like this, change model as appropriate\n",
    "mkdir results\n",
    "medaka consensus calls_to_draft.bam results/contigs1-4.hdf \\\n",
    "    --model r941_min_fast_g303 --batch 200 --threads 8 \\\n",
    "    --region contig1 contig2 contig3 contig4\n",
    "...\n",
    "\n",
    "# wait for jobs, then collate results\n",
    "medaka stitch results/*.hdf polished.assembly.fasta\n",
    "```\n",
    "Note : medaka_consensus is not medaka consensus !"
   ]
  },
  {
   "cell_type": "markdown",
   "id": "85e725cd-c638-4e7b-88da-c728be8731c3",
   "metadata": {},
   "source": [
    "### Conclusion"
   ]
  },
  {
   "cell_type": "markdown",
   "id": "597631ba-0408-4182-b6de-b96098d62332",
   "metadata": {},
   "source": [
    "Here, we have obtained an pseudomolecule of a clone by using Flye, we have polished it twice with racon and corrected it with medaka models.\n",
    "\n",
    "You can do similar pipeline using the RAVEN assembler with your favorite Clone.\n",
    "\n",
    "We will to compare results in next practical \"Quality Assemblies\". "
   ]
  },
  {
   "cell_type": "code",
   "execution_count": null,
   "id": "4d1dbde0-bb77-49fa-b3d2-34756f198ff3",
   "metadata": {},
   "outputs": [],
   "source": []
  }
 ],
 "metadata": {
  "kernelspec": {
   "display_name": "Bash",
   "language": "bash",
   "name": "bash"
  },
  "language_info": {
   "codemirror_mode": "shell",
   "file_extension": ".sh",
   "mimetype": "text/x-sh",
   "name": "bash"
  }
 },
 "nbformat": 4,
 "nbformat_minor": 5
}
