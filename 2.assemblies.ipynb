{
 "cells": [
  {
   "cell_type": "markdown",
   "id": "66d4eeac",
   "metadata": {},
   "source": [
    "# Formation South Green 2021  \n",
    "\n",
    "##  Initiation à l’analyse de données Minion\n",
    "\n",
    "### PART 2\n",
    "\n",
    "Created by J.Orjuela (DIADE-IRD), F. Sabot (DIADE-IRD) and G. Sarah (AGAP-CIRAD)\n",
    "\n",
    "Septembre 2021\n"
   ]
  },
  {
   "cell_type": "markdown",
   "id": "52dd03b0",
   "metadata": {},
   "source": [
    "## 1. Assemblies\n",
    "\n",
    "More contiguous genome assemblies can be generated using long sequencing read but assembly is not a quite pace. Eukaryotic genomes assembly is a complex task (large genome sizes, high rates of repeated sequences, high heterozygosity levels and even polyploidy), and while prokaryotic genomes may appear less challenging, specific features such as circular DNA molecules, must be taken into consideration to achieve high quality assembly.\n",
    "\n",
    "* For assembly, ONT recommend sequencing a human genome to a minimum depth of 30x of 25–35 kb reads.\n",
    "However, sequencing to a depth of 60x is advisable to obtain the best assembly metrics. We also recommend basecalling in high accuracy mode. Greatest contig N50 is usually obtained with Shasta and Flye. Polishing/Correction is also recomendated (Racon and Medaka). https://nanoporetech.com/sites/default/files/s3/literature/human-genome-assembly-workflow.pdf\n",
    "\n",
    "\n",
    "* Long reads simplify genome assembly, with the ability to span repeat-rich sequences (characteristic of  antimicrobial resistance genes) and structural variants. Nanopore sequencing also shows a lack of\n",
    "bias in GC-rich regions, in contrast to other sequencing platforms. To perform microbial genome assembly, we suggest using the third-party de novo assembly tool Flye. We also recommend one round of polishing with Medaka. https://nanoporetech.com/sites/default/files/s3/literature/microbial-genome-assembly-workflow.pdf "
   ]
  },
  {
   "cell_type": "markdown",
   "id": "0a74882e",
   "metadata": {},
   "source": [
    "Flye  https://github.com/fenderglass/Flye \n",
    "\n",
    "Canu  https://canu.readthedocs.io/en/latest/quick-start.html\n",
    "\n",
    "Miniasm  https://github.com/lh3/miniasm + Minipolish version https://github.com/rrwick/Minipolish\n",
    "\n",
    "Shasta  https://github.com/chanzuckerberg/shasta\n",
    "\n",
    "Smartdenovo  https://github.com/ruanjue/smartdenovo\n",
    "\n",
    "Raven  https://github.com/lbcb-sci/raven"
   ]
  },
  {
   "cell_type": "markdown",
   "id": "c83a6eac",
   "metadata": {},
   "source": [
    "### 1.1 Assembly using Flye"
   ]
  },
  {
   "cell_type": "markdown",
   "id": "2415c263",
   "metadata": {},
   "source": [
    "We are going to assembly some Clones by using Flye https://github.com/fenderglass/Flye\n",
    "\n",
    "Flye generates the concatenation of multiple disjoint genomic segments called disjointigs to build a repeat graph. Reads are mapped to this repeat graph to resolve conflicts (unbridged repeats) and output contigs."
   ]
  },
  {
   "cell_type": "code",
   "execution_count": 2,
   "id": "af681d7a",
   "metadata": {},
   "outputs": [
    {
     "name": "stdout",
     "output_type": "stream",
     "text": [
      "mkdir: cannot create directory ‘SG-ONT-2021/FLYE_{CLONE}’: File exists\n",
      "/home/jovyan/SG-ONT-2021\n"
     ]
    }
   ],
   "source": [
    "# declare your clone number\n",
    "CLONE=\"Clone20\"\n",
    "# create a repertory for save flye assembly results\n",
    "cd SG-ONT-2021/\n",
    "pwd"
   ]
  },
  {
   "cell_type": "code",
   "execution_count": 4,
   "id": "b7f1b857",
   "metadata": {
    "collapsed": true,
    "jupyter": {
     "outputs_hidden": true
    },
    "tags": []
   },
   "outputs": [
    {
     "name": "stdout",
     "output_type": "stream",
     "text": [
      "(flye) [2021-09-13 11:38:33] INFO: Starting Flye 2.9-b1768\n",
      "[2021-09-13 11:38:33] INFO: >>>STAGE: configure\n",
      "[2021-09-13 11:38:33] INFO: Configuring run\n",
      "[2021-09-13 11:38:35] INFO: Total read length: 160316874\n",
      "[2021-09-13 11:38:35] INFO: Input genome size: 1000000\n",
      "[2021-09-13 11:38:35] INFO: Estimated coverage: 160\n",
      "[2021-09-13 11:38:35] INFO: Reads N50/N90: 22312 / 7619\n",
      "[2021-09-13 11:38:35] INFO: Minimum overlap set to 8000\n",
      "[2021-09-13 11:38:35] INFO: >>>STAGE: assembly\n",
      "[2021-09-13 11:38:35] INFO: Assembling disjointigs\n",
      "[2021-09-13 11:38:35] INFO: Reading sequences\n",
      "[2021-09-13 11:38:40] INFO: Counting k-mers:\n",
      "0% 10% 20% 30% 40% 50% 60% 70% 80% 90% 100% \n",
      "[2021-09-13 11:39:53] INFO: Filling index table (1/2)\n",
      "0% 10% 20% 30% 40% 50% 60% 70% 80% 90% 100% \n",
      "[2021-09-13 11:41:08] INFO: Filling index table (2/2)\n",
      "0% 10% 20% 30% 40% 50% 60% 70% 80% 90% 100% \n",
      "[2021-09-13 11:44:43] INFO: Extending reads\n",
      "[2021-09-13 11:47:09] INFO: Overlap-based coverage: 123\n",
      "[2021-09-13 11:47:09] INFO: Median overlap divergence: 0.0948826\n",
      "0% 90% 100% \n",
      "[2021-09-13 11:48:12] INFO: Assembled 3 disjointigs\n",
      "[2021-09-13 11:48:12] INFO: Generating sequence\n",
      "0% 10% 20% 30% 40% 50% 60% 70% 80% 90% 100% \n",
      "[2021-09-13 11:48:13] INFO: Filtering contained disjointigs\n",
      "0% 30% 60% 100% \n",
      "[2021-09-13 11:48:14] INFO: Contained seqs: 0\n",
      "[2021-09-13 11:48:14] INFO: >>>STAGE: consensus\n",
      "[2021-09-13 11:48:14] INFO: Running Minimap2\n",
      "[2021-09-13 11:48:57] INFO: Computing consensus\n",
      "[2021-09-13 11:52:28] INFO: Alignment error rate: 0.133684\n",
      "[2021-09-13 11:52:28] INFO: >>>STAGE: repeat\n",
      "[2021-09-13 11:52:28] INFO: Building and resolving repeat graph\n",
      "[2021-09-13 11:52:28] INFO: Parsing disjointigs\n",
      "[2021-09-13 11:52:28] INFO: Building repeat graph\n",
      "0% 30% 60% 100% \n",
      "[2021-09-13 11:52:30] INFO: Median overlap divergence: 0.173828\n",
      "[2021-09-13 11:52:30] INFO: Parsing reads\n",
      "[2021-09-13 11:52:33] INFO: Aligning reads to the graph\n",
      "0% 10% 20% 30% 40% 50% 60% 70% 80% 90% 100% \n",
      "[2021-09-13 11:53:56] INFO: Aligned read sequence: 143027884 / 143321876 (0.997949)\n",
      "[2021-09-13 11:53:56] INFO: Median overlap divergence: 0.0552285\n",
      "[2021-09-13 11:53:56] INFO: Mean edge coverage: 120\n",
      "[2021-09-13 11:53:56] INFO: Simplifying the graph\n",
      "[2021-09-13 11:53:56] INFO: >>>STAGE: contigger\n",
      "[2021-09-13 11:53:56] INFO: Generating contigs\n",
      "[2021-09-13 11:53:56] INFO: Reading sequences\n",
      "[2021-09-13 11:53:58] INFO: Generated 3 contigs\n",
      "[2021-09-13 11:53:58] INFO: Added 0 scaffold connections\n",
      "[2021-09-13 11:53:58] INFO: >>>STAGE: polishing\n",
      "[2021-09-13 11:53:58] INFO: Polishing genome (1/1)\n",
      "[2021-09-13 11:53:58] INFO: Running minimap2\n",
      "[2021-09-13 11:54:38] INFO: Separating alignment into bubbles\n",
      "[2021-09-13 11:59:04] INFO: Alignment error rate: 0.087389\n",
      "[2021-09-13 11:59:04] INFO: Correcting bubbles\n",
      "0% 10% 20% 30% 40% 50% 60% 70% 80% 90% 100% \n",
      "[2021-09-13 12:01:08] INFO: >>>STAGE: finalize\n",
      "[2021-09-13 12:01:08] INFO: Assembly statistics:\n",
      "\n",
      "\tTotal length:\t1185029\n",
      "\tFragments:\t3\n",
      "\tFragments N50:\t1085437\n",
      "\tLargest frg:\t1085437\n",
      "\tScaffolds:\t0\n",
      "\tMean coverage:\t135\n",
      "\n",
      "[2021-09-13 12:01:08] INFO: Final assembly: /home/jovyan/SG-ONT-2021/FLYE_Clone20/assembly.fasta\n",
      "\n",
      "real\t22m35.309s\n",
      "user\t22m36.395s\n",
      "sys\t0m10.752s\n",
      "(flye) (base) "
     ]
    },
    {
     "ename": "",
     "evalue": "1",
     "output_type": "error",
     "traceback": []
    }
   ],
   "source": [
    "# Run flye\n",
    "conda activate flye\n",
    "time flye --nano-raw ${CLONE}/ONT/${CLONE}.fastq.gz --genome-size 1000000 --out-dir FLYE_${CLONE} --threads 1\n",
    "conda deactivate"
   ]
  },
  {
   "cell_type": "markdown",
   "id": "ef2484db",
   "metadata": {},
   "source": [
    "### 1.2 Assembly using Raven"
   ]
  },
  {
   "cell_type": "code",
   "execution_count": 5,
   "id": "3c3622a4",
   "metadata": {},
   "outputs": [
    {
     "name": "stdout",
     "output_type": "stream",
     "text": [
      "(base) (base) (base) (base) /home/jovyan/SG-ONT-2021/RAVEN_Clone20\n",
      "(base) "
     ]
    },
    {
     "ename": "",
     "evalue": "1",
     "output_type": "error",
     "traceback": []
    }
   ],
   "source": [
    "# create a repertory for save raven assembly results\n",
    "cd ~\n",
    "mkdir SG-ONT-2021/RAVEN_${CLONE}\n",
    "cd SG-ONT-2021/RAVEN_${CLONE}/\n",
    "pwd"
   ]
  },
  {
   "cell_type": "code",
   "execution_count": 8,
   "id": "3213e0a0",
   "metadata": {
    "collapsed": true,
    "jupyter": {
     "outputs_hidden": true
    },
    "tags": []
   },
   "outputs": [
    {
     "name": "stdout",
     "output_type": "stream",
     "text": [
      "(base) (raven) [raven::] loaded 10804 sequences 2.277739s\n",
      "[raven::Graph::Construct] minimized 0 - 10804 / 10804 5.696066s\n",
      "[raven::Graph::Construct] mapped sequences 38.848369s\n",
      "[raven::Graph::Construct] annotated piles 0.184517s\n",
      "[raven::Graph::Construct] removed contained sequences 0.012326s\n",
      "[raven::Graph::Construct] removed chimeric sequences 0.005178s\n",
      "[raven::Graph::Construct] reached checkpoint 0.053215s\n",
      "[raven::Graph::Construct] minimized 0 - 198 / 198 0.584044s\n",
      "[raven::Graph::Construct] mapped valid sequences 1.802019s\n",
      "[raven::Graph::Construct] updated overlaps 0.000215s\n",
      "[raven::Graph::Construct] removed false overlaps 0.028264s\n",
      "[raven::Graph::Construct] stored 396 nodes 0.061857s\n",
      "[raven::Graph::Construct] stored 2708 edges 0.000568s\n",
      "[raven::Graph::Construct] reached checkpoint 0.078309s\n",
      "[raven::Graph::Construct] 47.354947s\n",
      "[raven::Graph::Assemble] removed transitive edges 0.002202s\n",
      "[raven::Graph::Assemble] reached checkpoint 0.078312s\n",
      "[raven::Graph::Assemble] removed tips and bubbles 0.036607s\n",
      "[raven::Graph::Assemble] reached checkpoint 0.056456s\n",
      "[raven::Graph::Assemble] removed long edges 0.075707s\n",
      "[raven::Graph::Assemble] reached checkpoint 0.050935s\n",
      "[raven::Graph::Assemble] 0.316341s\n",
      "[raven::] 50.127230s\n",
      "\n",
      "real\t0m50.165s\n",
      "user\t0m51.343s\n",
      "sys\t0m0.589s\n",
      "(raven) (base) "
     ]
    },
    {
     "ename": "",
     "evalue": "1",
     "output_type": "error",
     "traceback": []
    }
   ],
   "source": [
    "# Run raven\n",
    "conda activate raven\n",
    "time raven -p 0 --graphical-fragment-assembly ${CLONE}_raven.gfa -t 1 ../Clone20/ONT/${CLONE}.fastq.gz > ${CLONE}_raven.fasta\n",
    "conda deactivate"
   ]
  },
  {
   "cell_type": "markdown",
   "id": "102de26b",
   "metadata": {},
   "source": [
    "* How many contigs were obtained by Flye and Raven ? Please fill in results in the shared [file](https://lite.framacalc.org/9pd3-ont_sg_2021)\n",
    "* Calculate first statistics about assemblies: N50 and lenght contig mean."
   ]
  },
  {
   "cell_type": "code",
   "execution_count": 14,
   "id": "25c0c563-e85f-4431-a035-8a40def45d4e",
   "metadata": {},
   "outputs": [
    {
     "name": "stdout",
     "output_type": "stream",
     "text": [
      "\u001b[35m\u001b[K/home/jovyan/SG-ONT-2021/FLYE_Clone20/assembly.fasta\u001b[m\u001b[K\u001b[36m\u001b[K:\u001b[m\u001b[K\u001b[01;31m\u001b[K>\u001b[m\u001b[Kcontig_1\n",
      "\u001b[35m\u001b[K/home/jovyan/SG-ONT-2021/FLYE_Clone20/assembly.fasta\u001b[m\u001b[K\u001b[36m\u001b[K:\u001b[m\u001b[K\u001b[01;31m\u001b[K>\u001b[m\u001b[Kcontig_2\n",
      "\u001b[35m\u001b[K/home/jovyan/SG-ONT-2021/FLYE_Clone20/assembly.fasta\u001b[m\u001b[K\u001b[36m\u001b[K:\u001b[m\u001b[K\u001b[01;31m\u001b[K>\u001b[m\u001b[Kcontig_3\n",
      "\u001b[35m\u001b[K/home/jovyan/SG-ONT-2021/RAVEN_Clone20/Clone20_raven.fasta\u001b[m\u001b[K\u001b[36m\u001b[K:\u001b[m\u001b[K\u001b[01;31m\u001b[K>\u001b[m\u001b[KUtg398 LN:i:728202 RC:i:120 XO:i:0\n",
      "\u001b[35m\u001b[K/home/jovyan/SG-ONT-2021/RAVEN_Clone20/Clone20_raven.fasta\u001b[m\u001b[K\u001b[36m\u001b[K:\u001b[m\u001b[K\u001b[01;31m\u001b[K>\u001b[m\u001b[KUtg400 LN:i:390114 RC:i:64 XO:i:0\n",
      "\u001b[35m\u001b[K/home/jovyan/SG-ONT-2021/RAVEN_Clone20/Clone20_raven.fasta\u001b[m\u001b[K\u001b[36m\u001b[K:\u001b[m\u001b[K\u001b[01;31m\u001b[K>\u001b[m\u001b[KUtg402 LN:i:49172 RC:i:6 XO:i:0\n",
      "\u001b[35m\u001b[K/home/jovyan/SG-ONT-2021/RAVEN_Clone20/Clone20_raven.fasta\u001b[m\u001b[K\u001b[36m\u001b[K:\u001b[m\u001b[K\u001b[01;31m\u001b[K>\u001b[m\u001b[KUtg404 LN:i:49281 RC:i:7 XO:i:0\n",
      "(base) "
     ]
    },
    {
     "ename": "",
     "evalue": "1",
     "output_type": "error",
     "traceback": []
    }
   ],
   "source": [
    "grep ^'>' /home/jovyan/SG-ONT-2021/*_Clone20/*.fasta"
   ]
  },
  {
   "cell_type": "markdown",
   "id": "52d0546b",
   "metadata": {},
   "source": [
    "# 2. Polishing assemblies with Racon\n",
    "\n",
    "Racon corrects raw contigs generated by rapid assembly methods with original ONT reads.\n",
    "\n",
    "From 2 to 4 racon rounds are usually used by the community. \n",
    "\n",
    "Polish contigs assembled by Flye using two rounds of racon !."
   ]
  },
  {
   "cell_type": "code",
   "execution_count": 15,
   "id": "6c61ba46",
   "metadata": {
    "collapsed": true,
    "jupyter": {
     "outputs_hidden": true
    },
    "tags": []
   },
   "outputs": [
    {
     "name": "stdout",
     "output_type": "stream",
     "text": [
      "(racon) [racon::] error: missing input file(s)!\n",
      "usage: racon [options ...] <sequences> <overlaps> <target sequences>\n",
      "\n",
      "    #default output is stdout\n",
      "    <sequences>\n",
      "        input file in FASTA/FASTQ format (can be compressed with gzip)\n",
      "        containing sequences used for correction\n",
      "    <overlaps>\n",
      "        input file in MHAP/PAF/SAM format (can be compressed with gzip)\n",
      "        containing overlaps between sequences and target sequences\n",
      "    <target sequences>\n",
      "        input file in FASTA/FASTQ format (can be compressed with gzip)\n",
      "        containing sequences which will be corrected\n",
      "\n",
      "    options:\n",
      "        -u, --include-unpolished\n",
      "            output unpolished target sequences\n",
      "        -f, --fragment-correction\n",
      "            perform fragment correction instead of contig polishing\n",
      "            (overlaps file should contain dual/self overlaps!)\n",
      "        -w, --window-length <int>\n",
      "            default: 500\n",
      "            size of window on which POA is performed\n",
      "        -q, --quality-threshold <float>\n",
      "            default: 10.0\n",
      "            threshold for average base quality of windows used in POA\n",
      "        -e, --error-threshold <float>\n",
      "            default: 0.3\n",
      "            maximum allowed error rate used for filtering overlaps\n",
      "        --no-trimming\n",
      "            disables consensus trimming at window ends\n",
      "        -m, --match <int>\n",
      "            default: 3\n",
      "            score for matching bases\n",
      "        -x, --mismatch <int>\n",
      "            default: -5\n",
      "            score for mismatching bases\n",
      "        -g, --gap <int>\n",
      "            default: -4\n",
      "            gap penalty (must be negative)\n",
      "        -t, --threads <int>\n",
      "            default: 1\n",
      "            number of threads\n",
      "        --version\n",
      "            prints the version number\n",
      "        -h, --help\n",
      "            prints the usage\n",
      "(racon) "
     ]
    },
    {
     "ename": "",
     "evalue": "1",
     "output_type": "error",
     "traceback": []
    }
   ],
   "source": [
    "conda activate racon\n",
    "racon"
   ]
  },
  {
   "cell_type": "code",
   "execution_count": 27,
   "id": "7697cc22-1790-45e2-8680-ae1aebfb7cf9",
   "metadata": {},
   "outputs": [
    {
     "name": "stdout",
     "output_type": "stream",
     "text": [
      "(racon) mkdir: cannot create directory ‘FLYE_RACON’: File exists\n",
      "(racon) (racon) (racon) [M::mm_idx_gen::0.068*1.05] collected minimizers\n",
      "[M::mm_idx_gen::0.091*1.04] sorted minimizers\n",
      "[M::main::0.091*1.04] loaded/built the index for 3 target sequence(s)\n",
      "[M::mm_mapopt_update::0.095*1.04] mid_occ = 6\n",
      "[M::mm_idx_stat] kmer size: 15; skip: 10; is_hpc: 0; #seq: 3\n",
      "[M::mm_idx_stat::0.099*1.03] distinct minimizers: 214643 (97.74% are singletons); average occurrences: 1.031; average spacing: 5.355\n",
      "[M::worker_pipeline::11.037*1.00] mapped 10804 sequences\n",
      "[M::main] Version: 2.17-r941\n",
      "[M::main] CMD: minimap2 -t 1 ../FLYE_Clone20/assembly.fasta ../Clone20/ONT/Clone20.fastq.gz\n",
      "[M::main] Real time: 11.040 sec; CPU: 11.043 sec; Peak RSS: 0.169 GB\n",
      "(racon) [racon::Polisher::initialize] loaded target sequences 0.034435 s\n",
      "[racon::Polisher::initialize] loaded sequences 3.942506 s\n",
      "[racon::Polisher::initialize] loaded overlaps 0.019576 s\n",
      "[racon::Polisher::initialize] aligning overlaps [====================] 96.976124 s\n",
      "[racon::Polisher::initialize] transformed data into windows 0.235540 s\n",
      "[racon::Polisher::polish] generating consensus [====================] 194.815885 s\n",
      "[racon::Polisher::] total = 296.033753 s\n",
      "\n",
      "real\t4m56.091s\n",
      "user\t4m54.503s\n",
      "sys\t0m1.950s\n",
      "(racon) "
     ]
    },
    {
     "ename": "",
     "evalue": "1",
     "output_type": "error",
     "traceback": []
    }
   ],
   "source": [
    "cd ~/SG-ONT-2021\n",
    "mkdir FLYE_RACON;\n",
    "cd FLYE_RACON\n",
    "# first round\n",
    "time minimap2 -t 1 ../FLYE_${CLONE}/assembly.fasta ../${CLONE}/ONT/${CLONE}.fastq.gz 1> assembly.minimap4racon1.paf\n",
    "time racon -t 1 ../${CLONE}/ONT/${CLONE}.fastq.gz assembly.minimap4racon1.paf ../FLYE_${CLONE}/assembly.fasta > assembly.racon1.fasta"
   ]
  },
  {
   "cell_type": "code",
   "execution_count": 28,
   "id": "3c9fa57c-a4a3-4be5-a3c2-bf99524917a3",
   "metadata": {},
   "outputs": [
    {
     "name": "stdout",
     "output_type": "stream",
     "text": [
      "(racon) [M::mm_idx_gen::0.070*1.04] collected minimizers\n",
      "[M::mm_idx_gen::0.091*1.03] sorted minimizers\n",
      "[M::main::0.091*1.03] loaded/built the index for 3 target sequence(s)\n",
      "[M::mm_mapopt_update::0.095*1.03] mid_occ = 6\n",
      "[M::mm_idx_stat] kmer size: 15; skip: 10; is_hpc: 0; #seq: 3\n",
      "[M::mm_idx_stat::0.098*1.03] distinct minimizers: 213242 (97.66% are singletons); average occurrences: 1.032; average spacing: 5.356\n",
      "[M::worker_pipeline::11.492*1.00] mapped 10804 sequences\n",
      "[M::main] Version: 2.17-r941\n",
      "[M::main] CMD: minimap2 -t 1 assembly.racon1.fasta ../Clone20/ONT/Clone20.fastq.gz\n",
      "[M::main] Real time: 11.496 sec; CPU: 11.497 sec; Peak RSS: 0.169 GB\n",
      "\n",
      "real\t0m11.512s\n",
      "user\t0m11.382s\n",
      "sys\t0m0.129s\n",
      "(racon) [racon::Polisher::initialize] loaded target sequences 0.032920 s\n",
      "[racon::Polisher::initialize] loaded sequences 3.983171 s\n",
      "[racon::Polisher::initialize] loaded overlaps 0.018999 s\n",
      "[racon::Polisher::initialize] aligning overlaps [====================] 96.407545 s\n",
      "[racon::Polisher::initialize] transformed data into windows 0.192002 s\n",
      "[racon::Polisher::polish] generating consensus [====================] 204.981479 s\n",
      "[racon::Polisher::] total = 305.624231 s\n",
      "\n",
      "real\t5m5.680s\n",
      "user\t5m3.965s\n",
      "sys\t0m2.098s\n",
      "(racon) (base) "
     ]
    },
    {
     "ename": "",
     "evalue": "1",
     "output_type": "error",
     "traceback": []
    }
   ],
   "source": [
    "# second round\n",
    "time minimap2 -t 1 assembly.racon1.fasta ../${CLONE}/ONT/${CLONE}.fastq.gz 1> assembly.minimap4racon2.paf\n",
    "time racon -t 1 ../${CLONE}/ONT/${CLONE}.fastq.gz assembly.minimap4racon2.paf assembly.racon1.fasta > assembly.racon2.fasta\n",
    "conda deactivate"
   ]
  },
  {
   "cell_type": "markdown",
   "id": "1442f938",
   "metadata": {},
   "source": [
    "# 3. Assemblies correction with Medaka\n",
    "\n",
    "Correction can improve the consensus sequence for a draft genome assembly.\n",
    "\n",
    "Medaka uses fast5 files to correct contigs using trained models. These models are free available.\n",
    "\n",
    "Medaka allows you train a model from using fast5 of your favorite specie. You can use it directly to obtain a consensus from you favorite organism."
   ]
  },
  {
   "cell_type": "markdown",
   "id": "9a722473",
   "metadata": {},
   "source": [
    "### 1.3 Correct assemblies with Medaka"
   ]
  },
  {
   "cell_type": "markdown",
   "id": "47d0d113-88c5-4d7a-aaec-add0a9942be3",
   "metadata": {},
   "source": [
    "* Before to correct assemblies, index them"
   ]
  },
  {
   "cell_type": "code",
   "execution_count": 30,
   "id": "365b9ab7",
   "metadata": {},
   "outputs": [
    {
     "name": "stdout",
     "output_type": "stream",
     "text": [
      "(medaka) [M::mm_idx_gen::0.061*1.03] collected minimizers\n",
      "[M::mm_idx_gen::0.071*1.32] sorted minimizers\n",
      "[M::main::0.087*1.26] loaded/built the index for 3 target sequence(s)\n",
      "[M::mm_idx_stat] kmer size: 15; skip: 10; is_hpc: 0; #seq: 3\n",
      "[M::mm_idx_stat::0.091*1.25] distinct minimizers: 213144 (97.66% are singletons); average occurrences: 1.032; average spacing: 5.357; total length: 1178347\n",
      "[M::main] Version: 2.22-r1101\n",
      "[M::main] CMD: minimap2 -d assembly.racon2.fasta.mmi assembly.racon2.fasta\n",
      "[M::main] Real time: 0.100 sec; CPU: 0.122 sec; Peak RSS: 0.015 GB\n",
      "(medaka) "
     ]
    },
    {
     "ename": "",
     "evalue": "1",
     "output_type": "error",
     "traceback": []
    }
   ],
   "source": [
    "conda activate medaka\n",
    "samtools faidx assembly.racon2.fasta \n",
    "minimap2 -d assembly.racon2.fasta.mmi assembly.racon2.fasta"
   ]
  },
  {
   "cell_type": "code",
   "execution_count": 32,
   "id": "05f29acb-cb81-4d89-acf0-ab921b68cd17",
   "metadata": {},
   "outputs": [
    {
     "name": "stdout",
     "output_type": "stream",
     "text": [
      "(medaka) (medaka) (medaka) (medaka) "
     ]
    },
    {
     "ename": "",
     "evalue": "1",
     "output_type": "error",
     "traceback": []
    }
   ],
   "source": [
    "#create a medaka repertory\n",
    "cd ~/SG-ONT-2021\n",
    "mkdir FLYE_RACON_MEDAKA;\n",
    "cd FLYE_RACON_MEDAKA\n",
    "pwd"
   ]
  },
  {
   "cell_type": "markdown",
   "id": "25b94f42-938d-4643-9574-1bbd3d32d3ec",
   "metadata": {},
   "source": [
    "* Convert fastq reads in fasta format"
   ]
  },
  {
   "cell_type": "code",
   "execution_count": 35,
   "id": "bb1d6c65-4c26-4ed6-aa26-e9865fd9207d",
   "metadata": {},
   "outputs": [
    {
     "name": "stdout",
     "output_type": "stream",
     "text": [
      "\n",
      "real\t0m2.060s\n",
      "user\t0m1.883s\n",
      "sys\t0m0.136s\n",
      "(medaka) "
     ]
    },
    {
     "ename": "",
     "evalue": "1",
     "output_type": "error",
     "traceback": []
    }
   ],
   "source": [
    "time seqtk seq -A ../${CLONE}/ONT/${CLONE}.fastq.gz 1> ${CLONE}.fasta"
   ]
  },
  {
   "cell_type": "markdown",
   "id": "ee94e8eb-eca8-4d33-93ca-39b38800a7bd",
   "metadata": {},
   "source": [
    "* run mini-align"
   ]
  },
  {
   "cell_type": "code",
   "execution_count": 37,
   "id": "8d789522-e27b-44ae-b505-8385857c617e",
   "metadata": {},
   "outputs": [
    {
     "name": "stdout",
     "output_type": "stream",
     "text": [
      "Found minimap files.\n",
      "[M::main::0.029*1.04] loaded/built the index for 3 target sequence(s)\n",
      "[M::mm_mapopt_update::0.033*1.03] mid_occ = 10\n",
      "[M::mm_idx_stat] kmer size: 15; skip: 10; is_hpc: 0; #seq: 3\n",
      "[M::mm_idx_stat::0.037*1.03] distinct minimizers: 213144 (97.66% are singletons); average occurrences: 1.032; average spacing: 5.357; total length: 1178347\n",
      "[M::worker_pipeline::52.874*0.92] mapped 10804 sequences\n",
      "[M::main] Version: 2.22-r1101\n",
      "[M::main] CMD: minimap2 -x map-ont --MD -t 1 -a -A 2 -B 4 -O 4,24 -E 2,1 ../FLYE_RACON/assembly.racon2.fasta.mmi ../Clone20/ONT/Clone20.fastq.gz\n",
      "[M::main] Real time: 52.879 sec; CPU: 48.846 sec; Peak RSS: 0.382 GB\n",
      "(medaka) "
     ]
    },
    {
     "ename": "",
     "evalue": "1",
     "output_type": "error",
     "traceback": []
    }
   ],
   "source": [
    "time mini_align -t 1 -m -r ../FLYE_RACON/assembly.racon2.fasta -i ../Clone20/ONT/Clone20.fastq.gz -p calls2draft"
   ]
  },
  {
   "cell_type": "markdown",
   "id": "a00888ca-57a0-43cf-b27a-bee4bd7d1790",
   "metadata": {},
   "source": [
    "* run medaka consensus"
   ]
  },
  {
   "cell_type": "code",
   "execution_count": 31,
   "id": "1f60ed62",
   "metadata": {},
   "outputs": [
    {
     "name": "stdout",
     "output_type": "stream",
     "text": [
      "usage: medaka [-h] [--version]\n",
      "              {compress_bam,features,train,consensus,smolecule,consensus_from_features,fastrle,stitch,variant,snp,tools}\n",
      "              ...\n",
      "medaka: error: the following arguments are required: command\n",
      "(medaka) "
     ]
    },
    {
     "ename": "",
     "evalue": "1",
     "output_type": "error",
     "traceback": []
    }
   ],
   "source": [
    "medaka"
   ]
  },
  {
   "cell_type": "code",
   "execution_count": 42,
   "id": "334f4446-251e-4317-9773-416d8e7569b9",
   "metadata": {},
   "outputs": [
    {
     "name": "stdout",
     "output_type": "stream",
     "text": [
      "(medaka) Checking program versions\n",
      "This is medaka 1.2.2\n",
      "Program    Version    Required   Pass     \n",
      "bcftools   1.11       1.9        True     \n",
      "bgzip      1.11       1.9        True     \n",
      "minimap2   2.22       2.11       True     \n",
      "samtools   1.11       1.9        True     \n",
      "tabix      1.11       1.9        True     \n",
      "Warning: Output MEDAKA_CONSENSUS already exists, may use old results.\n",
      "Aligning basecalls to draft\n",
      "Removing previous index file /home/jovyan/SG-ONT-2021/FLYE_RACON/assembly.racon2.fasta.mmi\n",
      "Removing previous index file /home/jovyan/SG-ONT-2021/FLYE_RACON/assembly.racon2.fasta.fai\n",
      "Constructing minimap index.\n",
      "[M::mm_idx_gen::0.051*1.03] collected minimizers\n",
      "[M::mm_idx_gen::0.064*1.41] sorted minimizers\n",
      "[M::main::0.080*1.33] loaded/built the index for 3 target sequence(s)\n",
      "[M::mm_idx_stat] kmer size: 15; skip: 10; is_hpc: 0; #seq: 3\n",
      "[M::mm_idx_stat::0.083*1.31] distinct minimizers: 213144 (97.66% are singletons); average occurrences: 1.032; average spacing: 5.357; total length: 1178347\n",
      "[M::main] Version: 2.22-r1101\n",
      "[M::main] CMD: minimap2 -I 16G -x map-ont --MD -d /home/jovyan/SG-ONT-2021/FLYE_RACON/assembly.racon2.fasta.mmi /home/jovyan/SG-ONT-2021/FLYE_RACON/assembly.racon2.fasta\n",
      "[M::main] Real time: 0.090 sec; CPU: 0.116 sec; Peak RSS: 0.015 GB\n",
      "[M::main::0.027*1.05] loaded/built the index for 3 target sequence(s)\n",
      "[M::mm_mapopt_update::0.031*1.04] mid_occ = 10\n",
      "[M::mm_idx_stat] kmer size: 15; skip: 10; is_hpc: 0; #seq: 3\n",
      "[M::mm_idx_stat::0.034*1.04] distinct minimizers: 213144 (97.66% are singletons); average occurrences: 1.032; average spacing: 5.357; total length: 1178347\n",
      "[WARNING]\u001b[1;31m failed to parse the FASTA/FASTQ record next to 'PG'. Continue anyway.\u001b[0m\n",
      "[M::worker_pipeline::0.083*1.02] mapped 6 sequences\n",
      "[WARNING]\u001b[1;31m failed to parse the first FASTA/FASTQ record. Continue anyway.\u001b[0m\n",
      "[M::main] Version: 2.22-r1101\n",
      "[M::main] CMD: minimap2 -x map-ont --MD -t 1 -a -A 2 -B 4 -O 4,24 -E 2,1 /home/jovyan/SG-ONT-2021/FLYE_RACON/assembly.racon2.fasta.mmi /home/jovyan/SG-ONT-2021/FLYE_RACON_MEDAKA/calls2draft.bam\n",
      "[M::main] Real time: 0.337 sec; CPU: 0.339 sec; Peak RSS: 0.040 GB\n",
      "Running medaka consensus\n",
      "[13:40:32 - Predict] Setting tensorflow inter/intra-op threads to 1/1.\n",
      "[13:40:32 - Predict] Processing region(s): contig_1:0-1079843 contig_2:0-49404 contig_3:0-49100\n",
      "[13:40:32 - Predict] Using model: /home/jovyan/.medaka/data/r941_min_high_g303_model.hdf5.\n",
      "[13:40:32 - Predict] Processing 4 long region(s) with batching.\n",
      "[13:40:32 - ModelStore] filepath /home/jovyan/.medaka/data/r941_min_high_g303_model.hdf5\n",
      "[13:40:32 - ModelStore] ModelStore exception <class 'NotImplementedError'>\n",
      "Traceback (most recent call last):\n",
      "  File \"/opt/conda/envs/medaka/bin/medaka\", line 11, in <module>\n",
      "    sys.exit(main())\n",
      "  File \"/opt/conda/envs/medaka/lib/python3.8/site-packages/medaka/medaka.py\", line 684, in main\n",
      "    args.func(args)\n",
      "  File \"/opt/conda/envs/medaka/lib/python3.8/site-packages/medaka/prediction.py\", line 157, in predict\n",
      "    model = model_store.load_model(time_steps=args.chunk_len)\n",
      "  File \"/opt/conda/envs/medaka/lib/python3.8/site-packages/medaka/datastore.py\", line 77, in load_model\n",
      "    model = model_partial_function(time_steps=time_steps)\n",
      "  File \"/opt/conda/envs/medaka/lib/python3.8/site-packages/medaka/models.py\", line 146, in build_model\n",
      "    model.add(Bidirectional(gru, input_shape=input_shape))\n",
      "  File \"/opt/conda/envs/medaka/lib/python3.8/site-packages/tensorflow/python/training/tracking/base.py\", line 517, in _method_wrapper\n",
      "    result = method(self, *args, **kwargs)\n",
      "  File \"/opt/conda/envs/medaka/lib/python3.8/site-packages/tensorflow/python/keras/engine/sequential.py\", line 208, in add\n",
      "    layer(x)\n",
      "  File \"/opt/conda/envs/medaka/lib/python3.8/site-packages/tensorflow/python/keras/layers/wrappers.py\", line 539, in __call__\n",
      "    return super(Bidirectional, self).__call__(inputs, **kwargs)\n",
      "  File \"/opt/conda/envs/medaka/lib/python3.8/site-packages/tensorflow/python/keras/engine/base_layer.py\", line 951, in __call__\n",
      "    return self._functional_construction_call(inputs, args, kwargs,\n",
      "  File \"/opt/conda/envs/medaka/lib/python3.8/site-packages/tensorflow/python/keras/engine/base_layer.py\", line 1090, in _functional_construction_call\n",
      "    outputs = self._keras_tensor_symbolic_call(\n",
      "  File \"/opt/conda/envs/medaka/lib/python3.8/site-packages/tensorflow/python/keras/engine/base_layer.py\", line 822, in _keras_tensor_symbolic_call\n",
      "    return self._infer_output_signature(inputs, args, kwargs, input_masks)\n",
      "  File \"/opt/conda/envs/medaka/lib/python3.8/site-packages/tensorflow/python/keras/engine/base_layer.py\", line 863, in _infer_output_signature\n",
      "    outputs = call_fn(inputs, *args, **kwargs)\n",
      "  File \"/opt/conda/envs/medaka/lib/python3.8/site-packages/tensorflow/python/keras/layers/wrappers.py\", line 652, in call\n",
      "    y = self.forward_layer(forward_inputs,\n",
      "  File \"/opt/conda/envs/medaka/lib/python3.8/site-packages/tensorflow/python/keras/layers/recurrent.py\", line 660, in __call__\n",
      "    return super(RNN, self).__call__(inputs, **kwargs)\n",
      "  File \"/opt/conda/envs/medaka/lib/python3.8/site-packages/tensorflow/python/keras/engine/base_layer.py\", line 1012, in __call__\n",
      "    outputs = call_fn(inputs, *args, **kwargs)\n",
      "  File \"/opt/conda/envs/medaka/lib/python3.8/site-packages/tensorflow/python/keras/layers/recurrent_v2.py\", line 439, in call\n",
      "    inputs, initial_state, _ = self._process_inputs(inputs, initial_state, None)\n",
      "  File \"/opt/conda/envs/medaka/lib/python3.8/site-packages/tensorflow/python/keras/layers/recurrent.py\", line 859, in _process_inputs\n",
      "    initial_state = self.get_initial_state(inputs)\n",
      "  File \"/opt/conda/envs/medaka/lib/python3.8/site-packages/tensorflow/python/keras/layers/recurrent.py\", line 642, in get_initial_state\n",
      "    init_state = get_initial_state_fn(\n",
      "  File \"/opt/conda/envs/medaka/lib/python3.8/site-packages/tensorflow/python/keras/layers/recurrent.py\", line 1948, in get_initial_state\n",
      "    return _generate_zero_filled_state_for_cell(self, inputs, batch_size, dtype)\n",
      "  File \"/opt/conda/envs/medaka/lib/python3.8/site-packages/tensorflow/python/keras/layers/recurrent.py\", line 2987, in _generate_zero_filled_state_for_cell\n",
      "    return _generate_zero_filled_state(batch_size, cell.state_size, dtype)\n",
      "  File \"/opt/conda/envs/medaka/lib/python3.8/site-packages/tensorflow/python/keras/layers/recurrent.py\", line 3005, in _generate_zero_filled_state\n",
      "    return create_zeros(state_size)\n",
      "  File \"/opt/conda/envs/medaka/lib/python3.8/site-packages/tensorflow/python/keras/layers/recurrent.py\", line 3000, in create_zeros\n",
      "    return array_ops.zeros(init_state_size, dtype=dtype)\n",
      "  File \"/opt/conda/envs/medaka/lib/python3.8/site-packages/tensorflow/python/util/dispatch.py\", line 201, in wrapper\n",
      "    return target(*args, **kwargs)\n",
      "  File \"/opt/conda/envs/medaka/lib/python3.8/site-packages/tensorflow/python/ops/array_ops.py\", line 2819, in wrapped\n",
      "    tensor = fun(*args, **kwargs)\n",
      "  File \"/opt/conda/envs/medaka/lib/python3.8/site-packages/tensorflow/python/ops/array_ops.py\", line 2868, in zeros\n",
      "    output = _constant_if_small(zero, shape, dtype, name)\n",
      "  File \"/opt/conda/envs/medaka/lib/python3.8/site-packages/tensorflow/python/ops/array_ops.py\", line 2804, in _constant_if_small\n",
      "    if np.prod(shape) < 1000:\n",
      "  File \"<__array_function__ internals>\", line 5, in prod\n",
      "  File \"/opt/conda/envs/medaka/lib/python3.8/site-packages/numpy/core/fromnumeric.py\", line 3051, in prod\n",
      "    return _wrapreduction(a, np.multiply, 'prod', axis, dtype, out,\n",
      "  File \"/opt/conda/envs/medaka/lib/python3.8/site-packages/numpy/core/fromnumeric.py\", line 86, in _wrapreduction\n",
      "    return ufunc.reduce(obj, axis, dtype, out, **passkwargs)\n",
      "  File \"/opt/conda/envs/medaka/lib/python3.8/site-packages/tensorflow/python/framework/ops.py\", line 852, in __array__\n",
      "    raise NotImplementedError(\n",
      "NotImplementedError: Cannot convert a symbolic Tensor (bidirectional/forward_gru1/strided_slice:0) to a numpy array. This error may indicate that you're trying to pass a Tensor to a NumPy call, which is not supported\n",
      "Failed to run medaka consensus.\n",
      "\n",
      "real\t0m9.065s\n",
      "user\t0m8.973s\n",
      "sys\t0m1.830s\n",
      "(medaka) "
     ]
    },
    {
     "ename": "",
     "evalue": "1",
     "output_type": "error",
     "traceback": []
    }
   ],
   "source": [
    "# medaka_consensus -i ${BASECALLS} -d ${DRAFT} -o ${OUTDIR} -t ${NPROC} -m r941_min_high_g303\n",
    "time medaka_consensus -i calls2draft.bam -d ../FLYE_RACON/assembly.racon2.fasta -o MEDAKA_CONSENSUS -t 1 -m r941_min_high_g303"
   ]
  },
  {
   "cell_type": "code",
   "execution_count": null,
   "id": "813103c0-4b61-4b7d-9947-cf32b2f842f4",
   "metadata": {},
   "outputs": [],
   "source": [
    "\n"
   ]
  },
  {
   "cell_type": "markdown",
   "id": "367fd07a-b72c-4ba9-a7b9-238de896f719",
   "metadata": {},
   "source": [
    "Medaka models are named to indicate \n",
    "\n",
    "i) the pore type, \n",
    "ii) the sequencing device (MinION or PromethION),\n",
    "iii) the basecaller variant, and\n",
    "iv) the basecaller version\n",
    "\n",
    "{pore}_{device}_{caller variant}_{caller version}\n",
    "\n",
    "examples: \n",
    "\n",
    "**r941_min_fast_g303** : MiniON R9.4.1 flowcells using the fast Guppy basecaller version 3.0.3. "
   ]
  },
  {
   "cell_type": "code",
   "execution_count": null,
   "id": "6476b482-e41f-4ff1-bbd6-f6b54f2af2fa",
   "metadata": {},
   "outputs": [],
   "source": [
    "medaka stitch --threads 1 HDFS/*.medaka-segment.hdf assembly.racon2.fasta consensus.fasta"
   ]
  }
 ],
 "metadata": {
  "kernelspec": {
   "display_name": "Bash",
   "language": "bash",
   "name": "bash"
  },
  "language_info": {
   "codemirror_mode": "shell",
   "file_extension": ".sh",
   "mimetype": "text/x-sh",
   "name": "bash"
  }
 },
 "nbformat": 4,
 "nbformat_minor": 5
}
