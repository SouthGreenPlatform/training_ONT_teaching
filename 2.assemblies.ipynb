{
 "cells": [
  {
   "cell_type": "markdown",
   "id": "66d4eeac",
   "metadata": {},
   "source": [
    "# Formation South Green 2021  \n",
    "\n",
    "##  Initiation à l’analyse de données Minion\n",
    "\n",
    "### PART 2\n",
    "\n",
    "Created by J. Orjuela (DIADE-IRD), F. Sabot (DIADE-IRD) and G. Sarah (AGAP-INRAE)\n",
    "\n",
    "Septembre 2021\n"
   ]
  },
  {
   "cell_type": "markdown",
   "id": "52dd03b0",
   "metadata": {
    "tags": []
   },
   "source": [
    "# 1. Assemblies\n",
    "\n",
    "More contiguous genome assemblies can be generated using long sequencing read but assembly is not a quiet pace. Eukaryotic genomes assembly is a complex task (large genome sizes, high rates of repeated sequences, high heterozygosity levels and even polyploidy). While prokaryotic genomes may appear less challenging, specific features such as circular DNA molecules, must be taken into consideration to achieve high quality assembly.\n",
    "\n",
    "* For assembly, ONT recommend sequencing a human genome to a minimum depth of 30x of 25–35 kb reads.\n",
    "However, sequencing to a depth of 60x is advisable to obtain the best assembly metrics. We also recommend basecalling in high accuracy mode. Greatest contig N50 is usually obtained with Shasta and Flye. Polishing/Correction is also recommended (Racon and Medaka). https://nanoporetech.com/sites/default/files/s3/literature/human-genome-assembly-workflow.pdf\n",
    "\n",
    "\n",
    "* Long reads simplify genome assembly, with the ability to span repeat-rich sequences (characteristic of  antimicrobial resistance genes) and structural variants. Nanopore sequencing also shows a lack of\n",
    "bias in GC-rich regions, in contrast to other sequencing platforms. To perform microbial genome assembly, we suggest using the third-party de novo assembly tool Flye. We also recommend one round of polishing with Medaka. https://nanoporetech.com/sites/default/files/s3/literature/microbial-genome-assembly-workflow.pdf "
   ]
  },
  {
   "cell_type": "markdown",
   "id": "0a74882e",
   "metadata": {},
   "source": [
    "Flye  https://github.com/fenderglass/Flye \n",
    "\n",
    "Canu  https://canu.readthedocs.io/en/latest/quick-start.html\n",
    "\n",
    "Miniasm  https://github.com/lh3/miniasm + Minipolish version https://github.com/rrwick/Minipolish\n",
    "\n",
    "Shasta  https://github.com/chanzuckerberg/shasta\n",
    "\n",
    "Smartdenovo  https://github.com/ruanjue/smartdenovo\n",
    "\n",
    "Raven  https://github.com/lbcb-sci/raven"
   ]
  },
  {
   "cell_type": "markdown",
   "id": "c83a6eac",
   "metadata": {},
   "source": [
    "### 1.1 Assembly using Flye"
   ]
  },
  {
   "cell_type": "markdown",
   "id": "2415c263",
   "metadata": {},
   "source": [
    "We are going to assembly some Clones by using Flye https://github.com/fenderglass/Flye\n",
    "\n",
    "Flye generates the concatenation of multiple disjoint genomic segments called disjointigs to build a repeat graph. Reads are mapped to this repeat graph to resolve conflicts (unbridged repeats) and output contigs."
   ]
  },
  {
   "cell_type": "code",
   "execution_count": null,
   "id": "af681d7a",
   "metadata": {},
   "outputs": [],
   "source": [
    "# declare your clone number\n",
    "CLONE=\"Clone10\"\n",
    "# create a repertory for save flye assembly results\n",
    "cd ~/SG-ONT-2021/RESULTS/\n",
    "pwd"
   ]
  },
  {
   "cell_type": "code",
   "execution_count": null,
   "id": "b7f1b857",
   "metadata": {
    "tags": []
   },
   "outputs": [],
   "source": [
    "# Run flye\n",
    "conda activate flye\n",
    "time flye --nano-raw ../DATA/${CLONE}/ONT/${CLONE}.fastq.gz --genome-size 1000000 --out-dir FLYE --threads 4\n",
    "conda deactivate"
   ]
  },
  {
   "cell_type": "markdown",
   "id": "ef2484db",
   "metadata": {},
   "source": [
    "### 1.2 Assembly using Raven"
   ]
  },
  {
   "cell_type": "code",
   "execution_count": null,
   "id": "3c3622a4",
   "metadata": {},
   "outputs": [],
   "source": [
    "# create a repertory for save raven assembly results\n",
    "mkdir ~/SG-ONT-2021/RESULTS/RAVEN\n",
    "cd ~/SG-ONT-2021/RESULTS/RAVEN\n",
    "pwd"
   ]
  },
  {
   "cell_type": "code",
   "execution_count": null,
   "id": "3213e0a0",
   "metadata": {},
   "outputs": [],
   "source": [
    "# Run raven\n",
    "conda activate raven\n",
    "time raven -p 0 --graphical-fragment-assembly ${CLONE}_raven.gfa -t 4 ../../DATA/${CLONE}/ONT/${CLONE}.fastq.gz > ${CLONE}_raven.fasta\n",
    "conda deactivate"
   ]
  },
  {
   "cell_type": "markdown",
   "id": "102de26b",
   "metadata": {},
   "source": [
    "* How many contigs were obtained by Flye and Raven ? Please fill in results in the shared [file](https://lite.framacalc.org/9pd3-ont_sg_2021)\n",
    "* Calculate first statistics about assemblies: N50 and lenght contig mean."
   ]
  },
  {
   "cell_type": "code",
   "execution_count": null,
   "id": "25c0c563-e85f-4431-a035-8a40def45d4e",
   "metadata": {},
   "outputs": [],
   "source": [
    "grep -c ^'>' ~/SG-ONT-2021/RESULTS/*/*.fasta"
   ]
  },
  {
   "cell_type": "markdown",
   "id": "52d0546b",
   "metadata": {},
   "source": [
    "# 2. Polishing assemblies with Racon\n",
    "\n",
    "Racon corrects raw contigs generated by rapid assembly methods with original ONT reads.\n",
    "\n",
    "From 2 to 4 racon rounds are usually used by the community. \n",
    "\n",
    "Polish contigs assembled by Flye using two rounds of racon !."
   ]
  },
  {
   "cell_type": "code",
   "execution_count": null,
   "id": "6c61ba46",
   "metadata": {
    "tags": []
   },
   "outputs": [],
   "source": [
    "conda activate racon\n",
    "racon"
   ]
  },
  {
   "cell_type": "markdown",
   "id": "ae79d00b-57be-4e57-8d4c-137f448a4afb",
   "metadata": {},
   "source": [
    "## Racon first round"
   ]
  },
  {
   "cell_type": "code",
   "execution_count": null,
   "id": "7697cc22-1790-45e2-8680-ae1aebfb7cf9",
   "metadata": {},
   "outputs": [],
   "source": [
    "\n",
    "mkdir -p ~/SG-ONT-2021/RESULTS/FLYE_RACON\n",
    "cd ~/SG-ONT-2021/RESULTS/FLYE_RACON\n",
    "time minimap2 -t 4 ../FLYE/assembly.fasta ../../DATA/${CLONE}/ONT/${CLONE}.fastq.gz 1> assembly.minimap4racon1.paf\n",
    "time racon -t 4 ../../DATA/${CLONE}/ONT/${CLONE}.fastq.gz assembly.minimap4racon1.paf ../FLYE/assembly.fasta > assembly.racon1.fasta"
   ]
  },
  {
   "cell_type": "markdown",
   "id": "4b75b00d-4a7c-41e3-9472-69e3eef402df",
   "metadata": {},
   "source": [
    "## Racon second round"
   ]
  },
  {
   "cell_type": "code",
   "execution_count": null,
   "id": "3c9fa57c-a4a3-4be5-a3c2-bf99524917a3",
   "metadata": {},
   "outputs": [],
   "source": [
    "# second round\n",
    "cd ~/SG-ONT-2021/RESULTS/FLYE_RACON\n",
    "time minimap2 -t 4 assembly.racon1.fasta ../../DATA/${CLONE}/ONT/${CLONE}.fastq.gz 1> assembly.minimap4racon2.paf\n",
    "time racon -t 4 ../../DATA/${CLONE}/ONT/${CLONE}.fastq.gz assembly.minimap4racon2.paf assembly.racon1.fasta > assembly.racon2.fasta\n",
    "conda deactivate"
   ]
  },
  {
   "cell_type": "markdown",
   "id": "1442f938",
   "metadata": {},
   "source": [
    "# 3. Assemblies correction with Medaka\n",
    "\n",
    "Correction can improve the consensus sequence for a draft genome assembly.\n",
    "\n",
    "Medaka uses fast5 files to correct contigs using trained models. These models are freely available.\n",
    "\n",
    "Medaka allows you to train a model by using fast5 from your favorite species. You can use it directly to obtain a consensus from you favorite organism."
   ]
  },
  {
   "cell_type": "markdown",
   "id": "9a722473",
   "metadata": {},
   "source": [
    "## 1.3 Correct assemblies with Medaka"
   ]
  },
  {
   "cell_type": "markdown",
   "id": "47d0d113-88c5-4d7a-aaec-add0a9942be3",
   "metadata": {},
   "source": [
    "### 1.3.1 Before to correct assemblies, index them"
   ]
  },
  {
   "cell_type": "code",
   "execution_count": null,
   "id": "0e9d88fb-7e5a-40b5-9c8a-46e333e36c1a",
   "metadata": {},
   "outputs": [],
   "source": [
    "conda activate medaka\n",
    "cd ~/SG-ONT-2021/RESULTS/FLYE_RACON"
   ]
  },
  {
   "cell_type": "code",
   "execution_count": null,
   "id": "365b9ab7",
   "metadata": {},
   "outputs": [],
   "source": [
    "time samtools faidx assembly.racon2.fasta \n",
    "time minimap2 -d assembly.racon2.fasta.mmi assembly.racon2.fasta"
   ]
  },
  {
   "cell_type": "code",
   "execution_count": null,
   "id": "05f29acb-cb81-4d89-acf0-ab921b68cd17",
   "metadata": {},
   "outputs": [],
   "source": [
    "#create a medaka repertory\n",
    "mkdir -p ~/SG-ONT-2021/RESULTS/FLYE_RACON_MEDAKA\n",
    "cd ~/SG-ONT-2021/RESULTS/FLYE_RACON_MEDAKA"
   ]
  },
  {
   "cell_type": "markdown",
   "id": "a00888ca-57a0-43cf-b27a-bee4bd7d1790",
   "metadata": {},
   "source": [
    "### 1.3.2 Medaka_consensus"
   ]
  },
  {
   "cell_type": "markdown",
   "id": "567f51a4-cd6e-4aa0-bff8-cb22655eaa87",
   "metadata": {},
   "source": [
    "Medaka is a tool to create a consensus sequence from nanopore sequencing data. \n",
    "\n",
    "This task is performed by using neural networks applied to a pileup of individual sequencing reads against a draft assembly.\n",
    "\n",
    "It outperforms graph-based methods operating on basecalled data, and can be competitive with state-of-the-art signal-based methods whilst being much faster.\n",
    "\n",
    "As input medaka accepts reads in either a .fasta or a .fastq file. It requires a draft assembly as a .fasta.\n",
    "\n",
    "### Check the usage of medaka_consensus"
   ]
  },
  {
   "cell_type": "code",
   "execution_count": null,
   "id": "1f60ed62",
   "metadata": {},
   "outputs": [],
   "source": [
    "medaka_consensus"
   ]
  },
  {
   "cell_type": "markdown",
   "id": "367fd07a-b72c-4ba9-a7b9-238de896f719",
   "metadata": {},
   "source": [
    "### Check the medaka model to use\n",
    "\n",
    "Medaka models are named to indicate i) the pore type, ii) the sequencing device (MinION or PromethION), iii) the basecaller variant, and  iv) the basecaller version\n",
    "\n",
    "{pore}_{device}_{caller variant}_{caller version}\n",
    "\n",
    "examples: \n",
    "\n",
    "r941_min_fast_g303 : MiniON R9.4.1 flowcells using the fast Guppy basecaller version 3.0.3. \n"
   ]
  },
  {
   "cell_type": "code",
   "execution_count": null,
   "id": "96add958-3df4-4da4-84c3-0314a6206161",
   "metadata": {},
   "outputs": [],
   "source": [
    "medaka tools list_models"
   ]
  },
  {
   "cell_type": "markdown",
   "id": "3dfae363-f28d-4a80-a576-46cfd9f48f05",
   "metadata": {},
   "source": [
    "### Check the medaka model to use"
   ]
  },
  {
   "cell_type": "code",
   "execution_count": null,
   "id": "25ab52e3-e16b-4170-a2eb-70ffadd58748",
   "metadata": {},
   "outputs": [],
   "source": [
    "# go to medaka repertory results\n",
    "cd ~/SG-ONT-2021/RESULTS/FLYE_RACON_MEDAKA\n",
    "#rm -rf ~/SG-ONT-2021/RESULTS/FLYE_RACON_MEDAKA/MEDAKA_CONSENSUS"
   ]
  },
  {
   "cell_type": "markdown",
   "id": "0546bdf1-033b-4454-b54b-006ffa81e77e",
   "metadata": {},
   "source": [
    "### Medaka in FLYE + RACON\n",
    "\n",
    "We run medaka on the FLYE + polished with racon assembly."
   ]
  },
  {
   "cell_type": "code",
   "execution_count": null,
   "id": "334f4446-251e-4317-9773-416d8e7569b9",
   "metadata": {},
   "outputs": [],
   "source": [
    "# medaka_consensus -i ${BASECALLS} -d ${DRAFT} -o ${OUTDIR} -t ${NPROC} -m r941_min_high_g360\n",
    "time medaka_consensus -i ~/SG-ONT-2021/DATA/${CLONE}/ONT/${CLONE}.fastq.gz -d ~/SG-ONT-2021/RESULTS/FLYE_RACON/assembly.racon2.fasta -o MEDAKA_CONSENSUS -t 4 -m r941_min_high_g360"
   ]
  },
  {
   "cell_type": "markdown",
   "id": "25b94f42-938d-4643-9574-1bbd3d32d3ec",
   "metadata": {},
   "source": [
    "\n",
    "## Improve parallelism for scaling up to large datasets\n",
    "\n",
    "The medaka_consensus program is good for simple datasets but may not be optimal for running large datasets.\n",
    "\n",
    "Check complemental documentation [here](https://nanoporetech.github.io/medaka/installation.html#improving-parallelism)\n",
    "\n",
    "Three steps are needed to scale up:\n",
    "\n",
    "```\n",
    "# align reads to assembly\n",
    "mini_align -i basecalls.fasta -r assembly.fasta -P -m \\\n",
    "    -p calls_to_draft.bam -t <threads>\n",
    "\n",
    "# run lots of jobs like this, change model as appropriate\n",
    "mkdir results\n",
    "medaka consensus calls_to_draft.bam results/contigs1-4.hdf \\\n",
    "    --model r941_min_fast_g303 --batch 200 --threads 8 \\\n",
    "    --region contig1 contig2 contig3 contig4\n",
    "...\n",
    "\n",
    "# wait for jobs, then collate results\n",
    "medaka stitch results/*.hdf polished.assembly.fasta\n",
    "```\n",
    "**Note : medaka_consensus is not medaka consensus !**"
   ]
  },
  {
   "cell_type": "markdown",
   "id": "85e725cd-c638-4e7b-88da-c728be8731c3",
   "metadata": {},
   "source": [
    "### Conclusion"
   ]
  },
  {
   "cell_type": "markdown",
   "id": "597631ba-0408-4182-b6de-b96098d62332",
   "metadata": {},
   "source": [
    "1. Here, we have obtained a pseudomolecule of a clone by using Flye.\n",
    "\n",
    "2. We have polished it twice with racon.\n",
    "\n",
    "3. We have corrected it with medaka models.\n",
    "\n",
    "You can do similar pipeline using the RAVEN assembler with your favorite Clone.\n",
    "\n",
    "We will compare the results in next practical \"Quality Assemblies\". "
   ]
  },
  {
   "cell_type": "code",
   "execution_count": null,
   "id": "4d1dbde0-bb77-49fa-b3d2-34756f198ff3",
   "metadata": {},
   "outputs": [],
   "source": []
  }
 ],
 "metadata": {
  "kernelspec": {
   "display_name": "Bash",
   "language": "bash",
   "name": "bash"
  },
  "language_info": {
   "codemirror_mode": "shell",
   "file_extension": ".sh",
   "mimetype": "text/x-sh",
   "name": "bash"
  }
 },
 "nbformat": 4,
 "nbformat_minor": 5
}
