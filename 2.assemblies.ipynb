{
 "cells": [
  {
   "cell_type": "markdown",
   "metadata": {},
   "source": [
    "# Formation South Green 2021  \n",
    "\n",
    "##  Initiation à l’analyse de données Minion\n",
    "\n",
    "### PART 2\n",
    "\n",
    "Created by J.Orjuela (DIADE-IRD), F. Sabot (DIADE-IRD) and G. Sarah (AGAP-CIRAD)\n",
    "\n",
    "Septembre 2021\n"
   ]
  },
  {
   "cell_type": "markdown",
   "metadata": {},
   "source": []
  },
  {
   "cell_type": "markdown",
   "metadata": {},
   "source": [
    "## 1. Assemblies\n",
    "\n",
    "More contiguous genome assemblies can be generated using long sequencing read but assembly is not a quite pace. Eukaryotic genomes assembly is a complex task (large genome sizes, high rates of repeated sequences, high heterozygosity levels and even polyploidy), and while prokaryotic genomes may appear less challenging, specific features such as circular DNA molecules, must be taken into consideration to achieve high quality assembly.\n",
    "\n",
    "* For assembly, ONT recommend sequencing a human genome to a minimum depth of 30x of 25–35 kb reads.\n",
    "However, sequencing to a depth of 60x is advisable to obtain the best assembly metrics. We also recommend basecalling in high accuracy mode. Greatest contig N50 is usually obtained with Shasta and Flye. Polishing/Correction is also recomendated (Racon and Medaka). https://nanoporetech.com/sites/default/files/s3/literature/human-genome-assembly-workflow.pdf\n",
    "\n",
    "\n",
    "* Long reads simplify genome assembly, with the ability to span repeat-rich sequences (characteristic of  antimicrobial resistance genes) and structural variants. Nanopore sequencing also shows a lack of\n",
    "bias in GC-rich regions, in contrast to other sequencing platforms. To perform microbial genome assembly, we suggest using the third-party de novo assembly tool Flye. We also recommend one round of polishing with Medaka. https://nanoporetech.com/sites/default/files/s3/literature/microbial-genome-assembly-workflow.pdf "
   ]
  },
  {
   "cell_type": "markdown",
   "metadata": {},
   "source": [
    "Flye  https://github.com/fenderglass/Flye \n",
    "\n",
    "Canu  https://canu.readthedocs.io/en/latest/quick-start.html\n",
    "\n",
    "Miniasm  https://github.com/lh3/miniasm + Minipolish version https://github.com/rrwick/Minipolish\n",
    "\n",
    "Shasta  https://github.com/chanzuckerberg/shasta\n",
    "\n",
    "Smartdenovo  https://github.com/ruanjue/smartdenovo\n",
    "\n",
    "Raven  https://github.com/lbcb-sci/raven"
   ]
  },
  {
   "cell_type": "markdown",
   "metadata": {},
   "source": [
    "### 1.1 Assembly using Flye"
   ]
  },
  {
   "cell_type": "markdown",
   "metadata": {},
   "source": [
    "We are going to assembly some Clones by using Flye https://github.com/fenderglass/Flye\n",
    "\n",
    "Flye generates the concatenation of multiple disjoint genomic segments called disjointigs to build a repeat graph. Reads are mapped to this repeat graph to resolve conflicts (unbridged repeats) and output contigs."
   ]
  },
  {
   "cell_type": "code",
   "execution_count": 5,
   "metadata": {},
   "outputs": [],
   "source": [
    "# go to training folder\n",
    "USER=\"jovyan\"\n",
    "cd /home/${USER}/SG-ONT-2021/"
   ]
  },
  {
   "cell_type": "code",
   "execution_count": null,
   "metadata": {},
   "outputs": [],
   "source": [
    "mkdir -p /home/${USER}/SG-ONT-2021/\n",
    "cd /home/${USER}/SG-ONT-2021/\n",
    "time flye --nano-raw DATA/fastq_pass/Clone10.fastq --genome-size 1000000 --out-dir FLYE_Clone10 --threads 1"
   ]
  },
  {
   "cell_type": "markdown",
   "metadata": {},
   "source": [
    "### 1.2 Assembly using Raven"
   ]
  },
  {
   "cell_type": "code",
   "execution_count": 11,
   "metadata": {},
   "outputs": [
    {
     "name": "stdout",
     "output_type": "stream",
     "text": [
      "/home/jovyan/SG-ONT-2021/RAVEN_Clone10\n"
     ]
    }
   ],
   "source": [
    "# create a repertory for save raven assembly results\n",
    "mkdir -p /home/${USER}/SG-ONT-2021/RAVEN_Clone10\n",
    "cd /home/${USER}/SG-ONT-2021/RAVEN_Clone10/\n",
    "pwd"
   ]
  },
  {
   "cell_type": "code",
   "execution_count": 13,
   "metadata": {},
   "outputs": [
    {
     "name": "stdout",
     "output_type": "stream",
     "text": [
      "[raven::] loaded 11235 sequences 1.127538s\n",
      "[raven::Graph::Construct] minimized 0 - 11235 / 11235 10.125334s\n",
      "[raven::Graph::Construct] mapped sequences 53.893087s\n",
      "[raven::Graph::Construct] annotated piles 0.389326s\n",
      "[raven::Graph::Construct] removed contained sequences 0.019384s\n",
      "[raven::Graph::Construct] removed chimeric sequences 0.011502s\n",
      "[raven::Graph::Construct] reached checkpoint 0.117997s\n",
      "[raven::Graph::Construct] minimized 0 - 214 / 214 1.254464s\n",
      "[raven::Graph::Construct] mapped valid sequences 2.020366s\n",
      "[raven::Graph::Construct] updated overlaps 0.000533s\n",
      "[raven::Graph::Construct] removed false overlaps 0.027343s\n",
      "[raven::Graph::Construct] stored 428 nodes 0.076212s\n",
      "[raven::Graph::Construct] stored 3100 edges 0.003386s\n",
      "[raven::Graph::Construct] reached checkpoint 0.141672s\n",
      "[raven::Graph::Construct] 68.080606s\n",
      "[raven::Graph::Assemble] removed transitive edges 0.003158s\n",
      "[raven::Graph::Assemble] reached checkpoint 0.074192s\n",
      "[raven::Graph::Assemble] removed tips and bubbles 0.047092s\n",
      "[raven::Graph::Assemble] reached checkpoint 0.114726s\n",
      "[raven::Graph::Assemble] removed long edges 0.256706s\n",
      "[raven::Graph::Assemble] reached checkpoint 0.058038s\n",
      "[raven::Graph::Assemble] 0.575876s\n",
      "[raven::] 70.047524s\n",
      "\n",
      "real\t1m10.096s\n",
      "user\t1m7.205s\n",
      "sys\t0m2.025s\n"
     ]
    }
   ],
   "source": [
    "#launch raven\n",
    "time raven -p 0 --graphical-fragment-assembly Clone10_raven.gfa -t 1 ../DATA/fastq_pass/Clone10.fastq > Clone10_raven.fasta"
   ]
  },
  {
   "cell_type": "markdown",
   "metadata": {},
   "source": [
    "* How many contigs were obtained by Flye and Raven ? Please fill in results in the shared file.\n",
    "* Calculate first statistics about assemblies: N50 and lenght contig mean."
   ]
  },
  {
   "cell_type": "code",
   "execution_count": null,
   "metadata": {},
   "outputs": [],
   "source": []
  },
  {
   "cell_type": "markdown",
   "metadata": {},
   "source": [
    "# 2. Polishing assemblies with Racon\n",
    "\n",
    "Racon corrects raw contigs generated by rapid assembly methods with original ONT reads.\n",
    "\n",
    "From 2 to 4 racon rounds are usually used by the community. \n",
    "\n",
    "Polish contigs assembled by Flye."
   ]
  },
  {
   "cell_type": "code",
   "execution_count": 12,
   "metadata": {},
   "outputs": [
    {
     "name": "stdout",
     "output_type": "stream",
     "text": [
      "[racon::] error: missing input file(s)!\n",
      "usage: racon [options ...] <sequences> <overlaps> <target sequences>\n",
      "\n",
      "    #default output is stdout\n",
      "    <sequences>\n",
      "        input file in FASTA/FASTQ format (can be compressed with gzip)\n",
      "        containing sequences used for correction\n",
      "    <overlaps>\n",
      "        input file in MHAP/PAF/SAM format (can be compressed with gzip)\n",
      "        containing overlaps between sequences and target sequences\n",
      "    <target sequences>\n",
      "        input file in FASTA/FASTQ format (can be compressed with gzip)\n",
      "        containing sequences which will be corrected\n",
      "\n",
      "    options:\n",
      "        -u, --include-unpolished\n",
      "            output unpolished target sequences\n",
      "        -f, --fragment-correction\n",
      "            perform fragment correction instead of contig polishing\n",
      "            (overlaps file should contain dual/self overlaps!)\n",
      "        -w, --window-length <int>\n",
      "            default: 500\n",
      "            size of window on which POA is performed\n",
      "        -q, --quality-threshold <float>\n",
      "            default: 10.0\n",
      "            threshold for average base quality of windows used in POA\n",
      "        -e, --error-threshold <float>\n",
      "            default: 0.3\n",
      "            maximum allowed error rate used for filtering overlaps\n",
      "        --no-trimming\n",
      "            disables consensus trimming at window ends\n",
      "        -m, --match <int>\n",
      "            default: 3\n",
      "            score for matching bases\n",
      "        -x, --mismatch <int>\n",
      "            default: -5\n",
      "            score for mismatching bases\n",
      "        -g, --gap <int>\n",
      "            default: -4\n",
      "            gap penalty (must be negative)\n",
      "        -t, --threads <int>\n",
      "            default: 1\n",
      "            number of threads\n",
      "        --version\n",
      "            prints the version number\n",
      "        -h, --help\n",
      "            prints the usage\n"
     ]
    },
    {
     "ename": "",
     "evalue": "1",
     "output_type": "error",
     "traceback": []
    }
   ],
   "source": [
    "racon"
   ]
  },
  {
   "cell_type": "markdown",
   "metadata": {},
   "source": [
    "# 3. Assemblies correction with Medaka\n",
    "\n",
    "Correction can improve the consensus sequence for a draft genome assembly.\n",
    "\n",
    "Medaka uses fast5 files to correct contigs using trained models. These models are free available.\n",
    "\n",
    "Medaka allows you train a model from using fast5 of your favorite specie. You can use it directly to obtain a consensus from you favorite organism."
   ]
  },
  {
   "cell_type": "code",
   "execution_count": 11,
   "metadata": {},
   "outputs": [
    {
     "name": "stdout",
     "output_type": "stream",
     "text": [
      "bash: medaka: command not found\n"
     ]
    },
    {
     "ename": "",
     "evalue": "127",
     "output_type": "error",
     "traceback": []
    }
   ],
   "source": [
    "medaka"
   ]
  },
  {
   "cell_type": "markdown",
   "metadata": {},
   "source": [
    "### 1.3 Correct assemblies with Medaka"
   ]
  },
  {
   "cell_type": "code",
   "execution_count": null,
   "metadata": {},
   "outputs": [],
   "source": []
  }
 ],
 "metadata": {
  "kernelspec": {
   "display_name": "Bash",
   "language": "bash",
   "name": "bash"
  },
  "language_info": {
   "codemirror_mode": "shell",
   "file_extension": ".sh",
   "mimetype": "text/x-sh",
   "name": "bash"
  }
 },
 "nbformat": 4,
 "nbformat_minor": 5
}
