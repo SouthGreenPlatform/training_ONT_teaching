{
 "cells": [
  {
   "cell_type": "markdown",
   "id": "66d4eeac",
   "metadata": {},
   "source": [
    "# Formation South Green 2021  \n",
    "\n",
    "##  Initiation à l’analyse de données Minion\n",
    "\n",
    "### PART 2\n",
    "\n",
    "Created by J.Orjuela (DIADE-IRD), F. Sabot (DIADE-IRD) and G. Sarah (AGAP-CIRAD)\n",
    "\n",
    "Septembre 2021\n"
   ]
  },
  {
   "cell_type": "markdown",
   "id": "52dd03b0",
   "metadata": {},
   "source": [
    "## 1. Assemblies\n",
    "\n",
    "More contiguous genome assemblies can be generated using long sequencing read but assembly is not a quite pace. Eukaryotic genomes assembly is a complex task (large genome sizes, high rates of repeated sequences, high heterozygosity levels and even polyploidy), and while prokaryotic genomes may appear less challenging, specific features such as circular DNA molecules, must be taken into consideration to achieve high quality assembly.\n",
    "\n",
    "* For assembly, ONT recommend sequencing a human genome to a minimum depth of 30x of 25–35 kb reads.\n",
    "However, sequencing to a depth of 60x is advisable to obtain the best assembly metrics. We also recommend basecalling in high accuracy mode. Greatest contig N50 is usually obtained with Shasta and Flye. Polishing/Correction is also recomendated (Racon and Medaka). https://nanoporetech.com/sites/default/files/s3/literature/human-genome-assembly-workflow.pdf\n",
    "\n",
    "\n",
    "* Long reads simplify genome assembly, with the ability to span repeat-rich sequences (characteristic of  antimicrobial resistance genes) and structural variants. Nanopore sequencing also shows a lack of\n",
    "bias in GC-rich regions, in contrast to other sequencing platforms. To perform microbial genome assembly, we suggest using the third-party de novo assembly tool Flye. We also recommend one round of polishing with Medaka. https://nanoporetech.com/sites/default/files/s3/literature/microbial-genome-assembly-workflow.pdf "
   ]
  },
  {
   "cell_type": "markdown",
   "id": "0a74882e",
   "metadata": {},
   "source": [
    "Flye  https://github.com/fenderglass/Flye \n",
    "\n",
    "Canu  https://canu.readthedocs.io/en/latest/quick-start.html\n",
    "\n",
    "Miniasm  https://github.com/lh3/miniasm + Minipolish version https://github.com/rrwick/Minipolish\n",
    "\n",
    "Shasta  https://github.com/chanzuckerberg/shasta\n",
    "\n",
    "Smartdenovo  https://github.com/ruanjue/smartdenovo\n",
    "\n",
    "Raven  https://github.com/lbcb-sci/raven"
   ]
  },
  {
   "cell_type": "markdown",
   "id": "c83a6eac",
   "metadata": {},
   "source": [
    "### 1.1 Assembly using Flye"
   ]
  },
  {
   "cell_type": "markdown",
   "id": "2415c263",
   "metadata": {},
   "source": [
    "We are going to assembly some Clones by using Flye https://github.com/fenderglass/Flye\n",
    "\n",
    "Flye generates the concatenation of multiple disjoint genomic segments called disjointigs to build a repeat graph. Reads are mapped to this repeat graph to resolve conflicts (unbridged repeats) and output contigs."
   ]
  },
  {
   "cell_type": "code",
   "execution_count": 2,
   "id": "af681d7a",
   "metadata": {},
   "outputs": [
    {
     "name": "stdout",
     "output_type": "stream",
     "text": [
      "/home/jovyan/SG-ONT-2021\n"
     ]
    }
   ],
   "source": [
    "# declare your clone number\n",
    "CLONE=\"Clone20\"\n",
    "# create a repertory for save flye assembly results\n",
    "cd ~/SG-ONT-2021/RESULTS/\n",
    "pwd"
   ]
  },
  {
   "cell_type": "code",
   "execution_count": 3,
   "id": "b7f1b857",
   "metadata": {
    "tags": []
   },
   "outputs": [
    {
     "name": "stdout",
     "output_type": "stream",
     "text": [
      "(flye) [2021-09-14 21:46:04] INFO: Starting Flye 2.9-b1768\n",
      "[2021-09-14 21:46:04] INFO: >>>STAGE: configure\n",
      "[2021-09-14 21:46:04] INFO: Configuring run\n",
      "[2021-09-14 21:46:08] INFO: Total read length: 160316874\n",
      "[2021-09-14 21:46:08] INFO: Input genome size: 1000000\n",
      "[2021-09-14 21:46:08] INFO: Estimated coverage: 160\n",
      "[2021-09-14 21:46:08] INFO: Reads N50/N90: 22312 / 7619\n",
      "[2021-09-14 21:46:08] INFO: Minimum overlap set to 8000\n",
      "[2021-09-14 21:46:08] INFO: >>>STAGE: assembly\n",
      "[2021-09-14 21:46:08] INFO: Assembling disjointigs\n",
      "[2021-09-14 21:46:08] INFO: Reading sequences\n",
      "[2021-09-14 21:46:21] INFO: Counting k-mers:\n",
      "0% 10% 20% 30% 40% 50% 60% 70% 80% 90% 100% \n",
      "[2021-09-14 21:47:29] INFO: Filling index table (1/2)\n",
      "0% 10% 20% 30% 40% 50% 60% 70% 80% 90% 100% \n",
      "[2021-09-14 21:47:54] INFO: Filling index table (2/2)\n",
      "0% 10% 20% 30% 40% 50% 60% 70% 80% 90% 100% \n",
      "[2021-09-14 21:49:05] INFO: Extending reads\n",
      "[2021-09-14 21:52:03] INFO: Overlap-based coverage: 123\n",
      "[2021-09-14 21:52:03] INFO: Median overlap divergence: 0.0948826\n",
      "0% 90% 100% \n",
      "[2021-09-14 21:52:54] INFO: Assembled 3 disjointigs\n",
      "[2021-09-14 21:52:54] INFO: Generating sequence\n",
      "0% 10% 20% 30% 40% 50% 60% 70% 80% 90% 100% \n",
      "[2021-09-14 21:52:55] INFO: Filtering contained disjointigs\n",
      "0% 30% 60% 100% \n",
      "[2021-09-14 21:52:56] INFO: Contained seqs: 0\n",
      "[2021-09-14 21:52:56] INFO: >>>STAGE: consensus\n",
      "[2021-09-14 21:52:56] INFO: Running Minimap2\n",
      "[2021-09-14 21:53:20] INFO: Computing consensus\n",
      "[2021-09-14 21:56:07] INFO: Alignment error rate: 0.133817\n",
      "[2021-09-14 21:56:07] INFO: >>>STAGE: repeat\n",
      "[2021-09-14 21:56:07] INFO: Building and resolving repeat graph\n",
      "[2021-09-14 21:56:07] INFO: Parsing disjointigs\n",
      "[2021-09-14 21:56:08] INFO: Building repeat graph\n",
      "0% 30% 60% 100% \n",
      "[2021-09-14 21:56:10] INFO: Median overlap divergence: 0.173828\n",
      "[2021-09-14 21:56:10] INFO: Parsing reads\n",
      "[2021-09-14 21:56:14] INFO: Aligning reads to the graph\n",
      "0% 10% 20% 30% 40% 50% 60% 70% 80% 90% 100% \n",
      "[2021-09-14 21:56:37] INFO: Aligned read sequence: 143028041 / 143321876 (0.99795)\n",
      "[2021-09-14 21:56:37] INFO: Median overlap divergence: 0.0552365\n",
      "[2021-09-14 21:56:37] INFO: Mean edge coverage: 120\n",
      "[2021-09-14 21:56:37] INFO: Simplifying the graph\n",
      "[2021-09-14 21:56:37] INFO: >>>STAGE: contigger\n",
      "[2021-09-14 21:56:37] INFO: Generating contigs\n",
      "[2021-09-14 21:56:37] INFO: Reading sequences\n",
      "[2021-09-14 21:56:40] INFO: Generated 3 contigs\n",
      "[2021-09-14 21:56:40] INFO: Added 0 scaffold connections\n",
      "[2021-09-14 21:56:40] INFO: >>>STAGE: polishing\n",
      "[2021-09-14 21:56:40] INFO: Polishing genome (1/1)\n",
      "[2021-09-14 21:56:40] INFO: Running minimap2\n",
      "[2021-09-14 21:57:01] INFO: Separating alignment into bubbles\n",
      "[2021-09-14 22:00:28] INFO: Alignment error rate: 0.087407\n",
      "[2021-09-14 22:00:28] INFO: Correcting bubbles\n",
      "0% 10% 20% 30% 40% 50% 60% 70% 80% 90% 100% \n",
      "[2021-09-14 22:01:13] INFO: >>>STAGE: finalize\n",
      "[2021-09-14 22:01:13] INFO: Assembly statistics:\n",
      "\n",
      "\tTotal length:\t1185033\n",
      "\tFragments:\t3\n",
      "\tFragments N50:\t1085435\n",
      "\tLargest frg:\t1085435\n",
      "\tScaffolds:\t0\n",
      "\tMean coverage:\t135\n",
      "\n",
      "[2021-09-14 22:01:13] INFO: Final assembly: /home/jovyan/SG-ONT-2021/FLYE/assembly.fasta\n",
      "\n",
      "real\t15m8.857s\n",
      "user\t27m57.196s\n",
      "sys\t0m25.476s\n",
      "(flye) (base) "
     ]
    },
    {
     "ename": "",
     "evalue": "1",
     "output_type": "error",
     "traceback": []
    }
   ],
   "source": [
    "# Run flye\n",
    "conda activate flye\n",
    "time flye --nano-raw DATA/${CLONE}/ONT/${CLONE}.fastq.gz --genome-size 1000000 --out-dir FLYE --threads 4\n",
    "conda deactivate"
   ]
  },
  {
   "cell_type": "markdown",
   "id": "ef2484db",
   "metadata": {},
   "source": [
    "### 1.2 Assembly using Raven"
   ]
  },
  {
   "cell_type": "code",
   "execution_count": 8,
   "id": "3c3622a4",
   "metadata": {},
   "outputs": [
    {
     "name": "stdout",
     "output_type": "stream",
     "text": [
      "(base) (base) (base) /home/jovyan/SG-ONT-2021/RESULTS/RAVEN\n",
      "(base) "
     ]
    },
    {
     "ename": "",
     "evalue": "1",
     "output_type": "error",
     "traceback": []
    }
   ],
   "source": [
    "# create a repertory for save raven assembly results\n",
    "mkdir ~/SG-ONT-2021/RESULTS/RAVEN\n",
    "cd ~/SG-ONT-2021/RESULTS/RAVEN\n",
    "pwd"
   ]
  },
  {
   "cell_type": "code",
   "execution_count": 9,
   "id": "3213e0a0",
   "metadata": {},
   "outputs": [
    {
     "name": "stdout",
     "output_type": "stream",
     "text": [
      "(base) (raven) [raven::] loaded 10804 sequences 3.536120s\n",
      "[raven::Graph::Construct] minimized 0 - 10804 / 10804 3.162863s\n",
      "[raven::Graph::Construct] mapped sequences 12.824156s\n",
      "[raven::Graph::Construct] annotated piles 0.084350s\n",
      "[raven::Graph::Construct] removed contained sequences 0.021729s\n",
      "[raven::Graph::Construct] removed chimeric sequences 0.013587s\n",
      "[raven::Graph::Construct] reached checkpoint 0.103159s\n",
      "[raven::Graph::Construct] minimized 0 - 198 / 198 0.894041s\n",
      "[raven::Graph::Construct] mapped valid sequences 0.720659s\n",
      "[raven::Graph::Construct] updated overlaps 0.000669s\n",
      "[raven::Graph::Construct] removed false overlaps 0.009050s\n",
      "[raven::Graph::Construct] stored 396 nodes 0.082866s\n",
      "[raven::Graph::Construct] stored 2708 edges 0.001006s\n",
      "[raven::Graph::Construct] reached checkpoint 0.179135s\n",
      "[raven::Graph::Construct] 18.097270s\n",
      "[raven::Graph::Assemble] removed transitive edges 0.003050s\n",
      "[raven::Graph::Assemble] reached checkpoint 0.083759s\n",
      "[raven::Graph::Assemble] removed tips and bubbles 0.058990s\n",
      "[raven::Graph::Assemble] reached checkpoint 0.156131s\n",
      "[raven::Graph::Assemble] removed long edges 0.318988s\n",
      "[raven::Graph::Assemble] reached checkpoint 0.079258s\n",
      "[raven::Graph::Assemble] 0.729152s\n",
      "[raven::] 22.682927s\n",
      "\n",
      "real\t0m22.831s\n",
      "user\t1m9.562s\n",
      "sys\t0m1.982s\n",
      "(raven) (base) "
     ]
    },
    {
     "ename": "",
     "evalue": "1",
     "output_type": "error",
     "traceback": []
    }
   ],
   "source": [
    "# Run raven\n",
    "conda activate raven\n",
    "time raven -p 0 --graphical-fragment-assembly ${CLONE}_raven.gfa -t 4 ../../DATA/${CLONE}/ONT/${CLONE}.fastq.gz > ${CLONE}_raven.fasta\n",
    "conda deactivate"
   ]
  },
  {
   "cell_type": "markdown",
   "id": "102de26b",
   "metadata": {},
   "source": [
    "* How many contigs were obtained by Flye and Raven ? Please fill in results in the shared [file](https://lite.framacalc.org/9pd3-ont_sg_2021)\n",
    "* Calculate first statistics about assemblies: N50 and lenght contig mean."
   ]
  },
  {
   "cell_type": "code",
   "execution_count": 10,
   "id": "25c0c563-e85f-4431-a035-8a40def45d4e",
   "metadata": {},
   "outputs": [
    {
     "name": "stdout",
     "output_type": "stream",
     "text": [
      "\u001b[35m\u001b[K/home/jovyan/SG-ONT-2021/RESULTS/FLYE/assembly.fasta\u001b[m\u001b[K\u001b[36m\u001b[K:\u001b[m\u001b[K\u001b[01;31m\u001b[K>\u001b[m\u001b[Kcontig_1\n",
      "\u001b[35m\u001b[K/home/jovyan/SG-ONT-2021/RESULTS/FLYE/assembly.fasta\u001b[m\u001b[K\u001b[36m\u001b[K:\u001b[m\u001b[K\u001b[01;31m\u001b[K>\u001b[m\u001b[Kcontig_2\n",
      "\u001b[35m\u001b[K/home/jovyan/SG-ONT-2021/RESULTS/FLYE/assembly.fasta\u001b[m\u001b[K\u001b[36m\u001b[K:\u001b[m\u001b[K\u001b[01;31m\u001b[K>\u001b[m\u001b[Kcontig_3\n",
      "\u001b[35m\u001b[K/home/jovyan/SG-ONT-2021/RESULTS/RAVEN/Clone20_raven.fasta\u001b[m\u001b[K\u001b[36m\u001b[K:\u001b[m\u001b[K\u001b[01;31m\u001b[K>\u001b[m\u001b[KUtg398 LN:i:728202 RC:i:120 XO:i:0\n",
      "\u001b[35m\u001b[K/home/jovyan/SG-ONT-2021/RESULTS/RAVEN/Clone20_raven.fasta\u001b[m\u001b[K\u001b[36m\u001b[K:\u001b[m\u001b[K\u001b[01;31m\u001b[K>\u001b[m\u001b[KUtg400 LN:i:390114 RC:i:64 XO:i:0\n",
      "\u001b[35m\u001b[K/home/jovyan/SG-ONT-2021/RESULTS/RAVEN/Clone20_raven.fasta\u001b[m\u001b[K\u001b[36m\u001b[K:\u001b[m\u001b[K\u001b[01;31m\u001b[K>\u001b[m\u001b[KUtg402 LN:i:49172 RC:i:6 XO:i:0\n",
      "\u001b[35m\u001b[K/home/jovyan/SG-ONT-2021/RESULTS/RAVEN/Clone20_raven.fasta\u001b[m\u001b[K\u001b[36m\u001b[K:\u001b[m\u001b[K\u001b[01;31m\u001b[K>\u001b[m\u001b[KUtg404 LN:i:49281 RC:i:7 XO:i:0\n",
      "(base) "
     ]
    },
    {
     "ename": "",
     "evalue": "1",
     "output_type": "error",
     "traceback": []
    }
   ],
   "source": [
    "grep ^'>' ~/SG-ONT-2021/RESULTS/*/*.fasta"
   ]
  },
  {
   "cell_type": "markdown",
   "id": "52d0546b",
   "metadata": {},
   "source": [
    "# 2. Polishing assemblies with Racon\n",
    "\n",
    "Racon corrects raw contigs generated by rapid assembly methods with original ONT reads.\n",
    "\n",
    "From 2 to 4 racon rounds are usually used by the community. \n",
    "\n",
    "Polish contigs assembled by Flye using two rounds of racon !."
   ]
  },
  {
   "cell_type": "code",
   "execution_count": 11,
   "id": "6c61ba46",
   "metadata": {
    "collapsed": true,
    "jupyter": {
     "outputs_hidden": true
    },
    "tags": []
   },
   "outputs": [
    {
     "name": "stdout",
     "output_type": "stream",
     "text": [
      "(racon) [racon::] error: missing input file(s)!\n",
      "usage: racon [options ...] <sequences> <overlaps> <target sequences>\n",
      "\n",
      "    #default output is stdout\n",
      "    <sequences>\n",
      "        input file in FASTA/FASTQ format (can be compressed with gzip)\n",
      "        containing sequences used for correction\n",
      "    <overlaps>\n",
      "        input file in MHAP/PAF/SAM format (can be compressed with gzip)\n",
      "        containing overlaps between sequences and target sequences\n",
      "    <target sequences>\n",
      "        input file in FASTA/FASTQ format (can be compressed with gzip)\n",
      "        containing sequences which will be corrected\n",
      "\n",
      "    options:\n",
      "        -u, --include-unpolished\n",
      "            output unpolished target sequences\n",
      "        -f, --fragment-correction\n",
      "            perform fragment correction instead of contig polishing\n",
      "            (overlaps file should contain dual/self overlaps!)\n",
      "        -w, --window-length <int>\n",
      "            default: 500\n",
      "            size of window on which POA is performed\n",
      "        -q, --quality-threshold <float>\n",
      "            default: 10.0\n",
      "            threshold for average base quality of windows used in POA\n",
      "        -e, --error-threshold <float>\n",
      "            default: 0.3\n",
      "            maximum allowed error rate used for filtering overlaps\n",
      "        --no-trimming\n",
      "            disables consensus trimming at window ends\n",
      "        -m, --match <int>\n",
      "            default: 3\n",
      "            score for matching bases\n",
      "        -x, --mismatch <int>\n",
      "            default: -5\n",
      "            score for mismatching bases\n",
      "        -g, --gap <int>\n",
      "            default: -4\n",
      "            gap penalty (must be negative)\n",
      "        -t, --threads <int>\n",
      "            default: 1\n",
      "            number of threads\n",
      "        --version\n",
      "            prints the version number\n",
      "        -h, --help\n",
      "            prints the usage\n",
      "(racon) "
     ]
    },
    {
     "ename": "",
     "evalue": "1",
     "output_type": "error",
     "traceback": []
    }
   ],
   "source": [
    "conda activate racon\n",
    "racon"
   ]
  },
  {
   "cell_type": "code",
   "execution_count": 12,
   "id": "7697cc22-1790-45e2-8680-ae1aebfb7cf9",
   "metadata": {},
   "outputs": [
    {
     "name": "stdout",
     "output_type": "stream",
     "text": [
      "(racon) (racon) (racon) (racon) [M::mm_idx_gen::0.121*0.82] collected minimizers\n",
      "[M::mm_idx_gen::0.167*0.87] sorted minimizers\n",
      "[M::main::0.167*0.87] loaded/built the index for 3 target sequence(s)\n",
      "[M::mm_mapopt_update::0.175*0.87] mid_occ = 6\n",
      "[M::mm_idx_stat] kmer size: 15; skip: 10; is_hpc: 0; #seq: 3\n",
      "[M::mm_idx_stat::0.180*0.87] distinct minimizers: 214643 (97.74% are singletons); average occurrences: 1.031; average spacing: 5.355\n",
      "[M::worker_pipeline::15.767*1.00] mapped 10804 sequences\n",
      "[M::main] Version: 2.17-r941\n",
      "[M::main] CMD: minimap2 -t 1 ../FLYE/assembly.fasta ../../DATA/Clone20/ONT/Clone20.fastq.gz\n",
      "[M::main] Real time: 15.775 sec; CPU: 15.744 sec; Peak RSS: 0.171 GB\n",
      "\n",
      "real\t0m15.957s\n",
      "user\t0m15.412s\n",
      "sys\t0m0.352s\n",
      "(racon) [racon::Polisher::initialize] loaded target sequences 0.019625 s\n",
      "[racon::Polisher::initialize] loaded sequences 3.955057 s\n",
      "[racon::Polisher::initialize] loaded overlaps 0.019120 s\n",
      "[racon::Polisher::initialize] aligning overlaps [====================] 125.001303 s\n",
      "[racon::Polisher::initialize] transformed data into windows 0.357862 s\n",
      "[racon::Polisher::polish] generating consensus [====================] 256.143627 s\n",
      "[racon::Polisher::] total = 385.530308 s\n",
      "\n",
      "real\t6m25.583s\n",
      "user\t6m22.554s\n",
      "sys\t0m3.791s\n",
      "(racon) "
     ]
    },
    {
     "ename": "",
     "evalue": "1",
     "output_type": "error",
     "traceback": []
    }
   ],
   "source": [
    "cd ~/SG-ONT-2021/RESULTS/\n",
    "mkdir FLYE_RACON;\n",
    "cd FLYE_RACO../../DATA round\n",
    "time minimap2 -t 4 ../FLYE/assembly.fasta ../../DATA/${CLONE}/ONT/${CLONE}.fastq.gz 1> assembly.minimap4racon1.paf\n",
    "time racon -t 4 ../../DATA/${CLONE}/ONT/${CLONE}.fastq.gz assembly.minimap4racon1.paf ../FLYE/assembly.fasta > assembly.racon1.fasta"
   ]
  },
  {
   "cell_type": "code",
   "execution_count": 13,
   "id": "3c9fa57c-a4a3-4be5-a3c2-bf99524917a3",
   "metadata": {},
   "outputs": [
    {
     "name": "stdout",
     "output_type": "stream",
     "text": [
      "(racon) [M::mm_idx_gen::0.093*1.03] collected minimizers\n",
      "[M::mm_idx_gen::0.139*1.02] sorted minimizers\n",
      "[M::main::0.139*1.02] loaded/built the index for 3 target sequence(s)\n",
      "[M::mm_mapopt_update::0.147*1.02] mid_occ = 6\n",
      "[M::mm_idx_stat] kmer size: 15; skip: 10; is_hpc: 0; #seq: 3\n",
      "[M::mm_idx_stat::0.152*1.01] distinct minimizers: 213223 (97.67% are singletons); average occurrences: 1.032; average spacing: 5.357\n",
      "[M::worker_pipeline::15.971*1.00] mapped 10804 sequences\n",
      "[M::main] Version: 2.17-r941\n",
      "[M::main] CMD: minimap2 -t 1 assembly.racon1.fasta ../../DATA/Clone20/ONT/Clone20.fastq.gz\n",
      "[M::main] Real time: 15.979 sec; CPU: 15.967 sec; Peak RSS: 0.170 GB\n",
      "\n",
      "real\t0m16.005s\n",
      "user\t0m15.568s\n",
      "sys\t0m0.421s\n",
      "(racon) [racon::Polisher::initialize] loaded target sequences 0.016481 s\n",
      "[racon::Polisher::initialize] loaded sequences 3.885330 s\n",
      "[racon::Polisher::initialize] loaded overlaps 0.018785 s\n",
      "[racon::Polisher::initialize] aligning overlaps [====================] 131.590772 s\n",
      "[racon::Polisher::initialize] transformed data into windows 0.363071 s\n",
      "[racon::Polisher::polish] generating consensus [====================] 262.873231 s\n",
      "[racon::Polisher::] total = 398.797129 s\n",
      "\n",
      "real\t6m38.868s\n",
      "user\t6m35.496s\n",
      "sys\t0m4.159s\n",
      "(racon) (base) "
     ]
    },
    {
     "ename": "",
     "evalue": "1",
     "output_type": "error",
     "traceback": []
    }
   ],
   "source": [
    "# second round\n",
    "tim/homeinimap2 -t 4 assembly.racon1.fasta ../../DATA/${CLONE}/ONT/${CLONE}.fastq.gz 1> assembly.minimap4racon2.paf\n",
    "time racon -t 4 ../../DATA/${CLONE}/ONT/${CLONE}.fastq.gz assembly.minimap4racon2.paf assembly.racon1.fasta > assembly.racon2.fasta\n",
    "conda deactivate"
   ]
  },
  {
   "cell_type": "markdown",
   "id": "1442f938",
   "metadata": {},
   "source": [
    "# 3. Assemblies correction with Medaka\n",
    "\n",
    "Correction can improve the consensus sequence for a draft genome assembly.\n",
    "\n",
    "Medaka uses fast5 files to correct contigs using trained models. These models are free available.\n",
    "\n",
    "Medaka allows you train a model from using fast5 of your favorite specie. You can use it directly to obtain a consensus from you favorite organism."
   ]
  },
  {
   "cell_type": "markdown",
   "id": "9a722473",
   "metadata": {},
   "source": [
    "### 1.3 Correct assemblies with Medaka"
   ]
  },
  {
   "cell_type": "markdown",
   "id": "47d0d113-88c5-4d7a-aaec-add0a9942be3",
   "metadata": {},
   "source": [
    "* Before to correct assemblies, index them"
   ]
  },
  {
   "cell_type": "code",
   "execution_count": 14,
   "id": "365b9ab7",
   "metadata": {},
   "outputs": [
    {
     "name": "stdout",
     "output_type": "stream",
     "text": [
      "(medaka) \n",
      "real\t0m0.211s\n",
      "user\t0m0.012s\n",
      "sys\t0m0.012s\n",
      "(medaka) [M::mm_idx_gen::0.085*1.05] collected minimizers\n",
      "[M::mm_idx_gen::0.135*1.57] sorted minimizers\n",
      "[M::main::0.163*1.47] loaded/built the index for 3 target sequence(s)\n",
      "[M::mm_idx_stat] kmer size: 15; skip: 10; is_hpc: 0; #seq: 3\n",
      "[M::mm_idx_stat::0.168*1.46] distinct minimizers: 213101 (97.66% are singletons); average occurrences: 1.032; average spacing: 5.358; total length: 1178330\n",
      "[M::main] Version: 2.22-r1101\n",
      "[M::main] CMD: minimap2 -d assembly.racon2.fasta.mmi assembly.racon2.fasta\n",
      "[M::main] Real time: 0.174 sec; CPU: 0.250 sec; Peak RSS: 0.015 GB\n",
      "\n",
      "real\t0m0.198s\n",
      "user\t0m0.150s\n",
      "sys\t0m0.102s\n",
      "(medaka) "
     ]
    },
    {
     "ename": "",
     "evalue": "1",
     "output_type": "error",
     "traceback": []
    }
   ],
   "source": [
    "conda activate medaka\n",
    "time samtools faidx assembly.racon2.fasta \n",
    "time minimap2 -d assembly.racon2.fasta.mmi assembly.racon2.fasta"
   ]
  },
  {
   "cell_type": "code",
   "execution_count": 15,
   "id": "05f29acb-cb81-4d89-acf0-ab921b68cd17",
   "metadata": {},
   "outputs": [
    {
     "name": "stdout",
     "output_type": "stream",
     "text": [
      "(medaka) (medaka) (medaka) "
     ]
    },
    {
     "ename": "",
     "evalue": "1",
     "output_type": "error",
     "traceback": []
    }
   ],
   "source": [
    "#create a medaka repertory\n",
    "mkdir -p ~/SG-ONT-2021/RESULTS/FLYE_RACON_MEDAKA\n",
    "cd ~/SG-ONT-2021/RESULTS/FLYE_RACON_MEDAKA"
   ]
  },
  {
   "cell_type": "markdown",
   "id": "25b94f42-938d-4643-9574-1bbd3d32d3ec",
   "metadata": {},
   "source": [
    "* Convert fastq reads in fasta format"
   ]
  },
  {
   "cell_type": "code",
   "execution_count": 16,
   "id": "bb1d6c65-4c26-4ed6-aa26-e9865fd9207d",
   "metadata": {},
   "outputs": [
    {
     "name": "stdout",
     "output_type": "stream",
     "text": [
      "\n",
      "real\t0m2.709s\n",
      "user\t0m2.495s\n",
      "sys\t0m0.213s\n",
      "(medaka) "
     ]
    },
    {
     "ename": "",
     "evalue": "1",
     "output_type": "error",
     "traceback": []
    }
   ],
   "source": [
    "time seqtk seq -A  ../../DATA/${CLONE}/ONT/${CLONE}.fastq.gz 1> ${CLONE}.fasta"
   ]
  },
  {
   "cell_type": "markdown",
   "id": "ee94e8eb-eca8-4d33-93ca-39b38800a7bd",
   "metadata": {},
   "source": [
    "* run mini-align"
   ]
  },
  {
   "cell_type": "code",
   "execution_count": 17,
   "id": "8d789522-e27b-44ae-b505-8385857c617e",
   "metadata": {},
   "outputs": [
    {
     "name": "stdout",
     "output_type": "stream",
     "text": [
      "Found minimap files.\n",
      "[M::main::0.054*1.05] loaded/built the index for 3 target sequence(s)\n",
      "[M::mm_mapopt_update::0.064*1.03] mid_occ = 10\n",
      "[M::mm_idx_stat] kmer size: 15; skip: 10; is_hpc: 0; #seq: 3\n",
      "[M::mm_idx_stat::0.071*1.01] distinct minimizers: 213101 (97.66% are singletons); average occurrences: 1.032; average spacing: 5.358; total length: 1178330\n",
      "[M::worker_pipeline::76.412*0.92] mapped 10804 sequences\n",
      "[M::main] Version: 2.22-r1101\n",
      "[M::main] CMD: minimap2 -x map-ont --MD -t 1 -a -A 2 -B 4 -O 4,24 -E 2,1 ../FLYE_RACON/assembly.racon2.fasta.mmi ../../DATA/Clone20/ONT/Clone20.fastq.gz\n",
      "[M::main] Real time: 76.427 sec; CPU: 70.426 sec; Peak RSS: 0.392 GB\n",
      "\n",
      "real\t1m47.993s\n",
      "user\t1m52.387s\n",
      "sys\t0m2.608s\n",
      "(medaka) "
     ]
    },
    {
     "ename": "",
     "evalue": "1",
     "output_type": "error",
     "traceback": []
    }
   ],
   "source": [
    "time mini_align -t 4 -m -r ../FLYE_RACON/assembly.racon2.fasta -i ../../DATA/${CLONE}/ONT/${CLONE}.fastq.gz -p calls2draft"
   ]
  },
  {
   "cell_type": "markdown",
   "id": "a00888ca-57a0-43cf-b27a-bee4bd7d1790",
   "metadata": {},
   "source": [
    "* run medaka consensus"
   ]
  },
  {
   "cell_type": "code",
   "execution_count": 31,
   "id": "1f60ed62",
   "metadata": {},
   "outputs": [
    {
     "name": "stdout",
     "output_type": "stream",
     "text": [
      "usage: medaka [-h] [--version]\n",
      "              {compress_bam,features,train,consensus,smolecule,consensus_from_features,fastrle,stitch,variant,snp,tools}\n",
      "              ...\n",
      "medaka: error: the following arguments are required: command\n",
      "(medaka) "
     ]
    },
    {
     "ename": "",
     "evalue": "1",
     "output_type": "error",
     "traceback": []
    }
   ],
   "source": [
    "medaka"
   ]
  },
  {
   "cell_type": "markdown",
   "id": "367fd07a-b72c-4ba9-a7b9-238de896f719",
   "metadata": {},
   "source": [
    "Medaka models are named to indicate \n",
    "\n",
    "i) the pore type, \n",
    "ii) the sequencing device (MinION or PromethION),\n",
    "iii) the basecaller variant, and\n",
    "iv) the basecaller version\n",
    "\n",
    "{pore}_{device}_{caller variant}_{caller version}\n",
    "\n",
    "examples: \n",
    "\n",
    "**r941_min_fast_g303** : MiniON R9.4.1 flowcells using the fast Guppy basecaller version 3.0.3. "
   ]
  },
  {
   "cell_type": "code",
   "execution_count": 18,
   "id": "334f4446-251e-4317-9773-416d8e7569b9",
   "metadata": {},
   "outputs": [
    {
     "name": "stdout",
     "output_type": "stream",
     "text": [
      "(medaka) Checking program versions\n",
      "This is medaka 1.2.2\n",
      "Program    Version    Required   Pass     \n",
      "bcftools   1.11       1.9        True     \n",
      "bgzip      1.11       1.9        True     \n",
      "minimap2   2.22       2.11       True     \n",
      "samtools   1.11       1.9        True     \n",
      "tabix      1.11       1.9        True     \n",
      "Aligning basecalls to draft\n",
      "Removing previous index file /home/jovyan/SG-ONT-2021/RESULTS/FLYE_RACON/assembly.racon2.fasta.mmi\n",
      "Removing previous index file /home/jovyan/SG-ONT-2021/RESULTS/FLYE_RACON/assembly.racon2.fasta.fai\n",
      "Constructing minimap index.\n",
      "[M::mm_idx_gen::0.083*1.02] collected minimizers\n",
      "[M::mm_idx_gen::0.112*1.49] sorted minimizers\n",
      "[M::main::0.125*1.43] loaded/built the index for 3 target sequence(s)\n",
      "[M::mm_idx_stat] kmer size: 15; skip: 10; is_hpc: 0; #seq: 3\n",
      "[M::mm_idx_stat::0.129*1.42] distinct minimizers: 213101 (97.66% are singletons); average occurrences: 1.032; average spacing: 5.358; total length: 1178330\n",
      "[M::main] Version: 2.22-r1101\n",
      "[M::main] CMD: minimap2 -I 16G -x map-ont --MD -d /home/jovyan/SG-ONT-2021/RESULTS/FLYE_RACON/assembly.racon2.fasta.mmi /home/jovyan/SG-ONT-2021/RESULTS/FLYE_RACON/assembly.racon2.fasta\n",
      "[M::main] Real time: 0.133 sec; CPU: 0.187 sec; Peak RSS: 0.015 GB\n",
      "[M::main::0.029*0.87] loaded/built the index for 3 target sequence(s)\n",
      "[M::mm_mapopt_update::0.036*0.83] mid_occ = 10\n",
      "[M::mm_idx_stat] kmer size: 15; skip: 10; is_hpc: 0; #seq: 3\n",
      "[M::mm_idx_stat::0.040*0.85] distinct minimizers: 213101 (97.66% are singletons); average occurrences: 1.032; average spacing: 5.358; total length: 1178330\n",
      "[WARNING]\u001b[1;31m failed to parse the FASTA/FASTQ record next to 'PG'. Continue anyway.\u001b[0m\n",
      "[M::worker_pipeline::0.134*0.96] mapped 6 sequences\n",
      "[WARNING]\u001b[1;31m failed to parse the first FASTA/FASTQ record. Continue anyway.\u001b[0m\n",
      "[WARNING]\u001b[1;31m failed to parse the first FASTA/FASTQ record. Continue anyway.\u001b[0m\n",
      "[M::main] Version: 2.22-r1101\n",
      "[M::main] CMD: minimap2 -x map-ont --MD -t 4 -a -A 2 -B 4 -O 4,24 -E 2,1 /home/jovyan/SG-ONT-2021/RESULTS/FLYE_RACON/assembly.racon2.fasta.mmi /home/jovyan/SG-ONT-2021/RESULTS/FLYE_RACON_MEDAKA/calls2draft.bam\n",
      "[M::main] Real time: 0.631 sec; CPU: 0.626 sec; Peak RSS: 0.041 GB\n",
      "Running medaka consensus\n",
      "[22:34:30 - Predict] Reducing threads to 2, anymore is a waste.\n",
      "[22:34:30 - Predict] It looks like you are running medaka without a GPU and attempted to set a high number of threads. We have scaled this down to an optimal number. If you wish to improve performance please see https://nanoporetech.github.io/medaka/installation.html#improving-parallelism.\n",
      "[22:34:30 - Predict] Setting tensorflow inter/intra-op threads to 2/1.\n",
      "[22:34:30 - Predict] Processing region(s): contig_1:0-1079833 contig_2:0-49100 contig_3:0-49397\n",
      "[22:34:30 - Predict] Using model: /home/jovyan/.medaka/data/r941_min_high_g303_model.hdf5.\n",
      "[22:34:30 - Predict] Processing 4 long region(s) with batching.\n",
      "[22:34:30 - ModelStore] filepath /home/jovyan/.medaka/data/r941_min_high_g303_model.hdf5\n",
      "[22:34:32 - DLoader] Initializing data loader\n",
      "[22:34:32 - Sampler] Initializing sampler for consensus of region contig_1:0-1000000.\n",
      "[22:34:32 - PWorker] Running inference for 1.2M draft bases.\n",
      "[22:34:32 - Sampler] Initializing sampler for consensus of region contig_1:999000-1079833.\n",
      "[22:34:32 - Sampler] Initializing sampler for consensus of region contig_2:0-49100.\n",
      "[22:34:32 - Sampler] Initializing sampler for consensus of region contig_3:0-49397.\n",
      "[22:34:32 - Sampler] Took 0.04s to make features.\n",
      "[22:34:32 - Sampler] Took 0.04s to make features.\n",
      "[22:34:32 - Sampler] Took 0.05s to make features.\n",
      "[22:34:32 - Sampler] Took 0.20s to make features.\n",
      "[22:34:32 - PWorker] All done, 0 remainder regions.\n",
      "[22:34:32 - Predict] Finished processing all regions.\n",
      "Polished assembly written to MEDAKA_CONSENSUS/consensus.fasta, have a nice day.\n",
      "\n",
      "real\t0m31.556s\n",
      "user\t0m18.846s\n",
      "sys\t0m5.462s\n",
      "(medaka) "
     ]
    },
    {
     "ename": "",
     "evalue": "1",
     "output_type": "error",
     "traceback": []
    }
   ],
   "source": [
    "# medaka_consensus -i ${BASECALLS} -d ${DRAFT} -o ${OUTDIR} -t ${NPROC} -m r941_min_high_g303\n",
    "time medaka_consensus -i calls2draft.bam -d ../FLYE_RACON/assembly.racon2.fasta -o MEDAKA_CONSENSUS -t 4 -m r941_min_high_g303"
   ]
  }
 ],
 "metadata": {
  "kernelspec": {
   "display_name": "Bash",
   "language": "bash",
   "name": "bash"
  },
  "language_info": {
   "codemirror_mode": "shell",
   "file_extension": ".sh",
   "mimetype": "text/x-sh",
   "name": "bash"
  }
 },
 "nbformat": 4,
 "nbformat_minor": 5
}
