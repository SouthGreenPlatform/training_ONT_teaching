{
 "cells": [
  {
   "cell_type": "markdown",
   "id": "66d4eeac",
   "metadata": {},
   "source": [
    "# <span style=\"color:#006E7F\">__Introduction to Oxford Nanopore Data Analysis__ <a class=\"anchor\"></span>  \n",
    "\n",
    "\n",
    "Created by J. Orjuela (DIADE-IRD), F. Sabot (DIADE-IRD) and G. Sarah (AGAP-INRAE) - Septembre 2021 Formation SouthGreen\n",
    "\n",
    "Adapted by J. Orjuela (DIADE-IRD), F. Sabot (DIADE-IRD) - Novembre 2022\n"
   ]
  },
  {
   "cell_type": "markdown",
   "id": "52dd03b0",
   "metadata": {
    "tags": []
   },
   "source": [
    "# <span style=\"color:#006E7F\">__TP2 - Assembly and correction__ <a class=\"anchor\" id=\"data\"></span>  \n",
    "    \n",
    "## <span style=\"color: #4CACBC;\"> 1. Assemblies </span>  \n",
    "\n",
    "More contiguous genome assemblies can be generated using long sequencing read but assembly is not a quiet pace. Eukaryotic genomes assembly is a complex task (large genome sizes, high rates of repeated sequences, high heterozygosity levels and even polyploidy). While prokaryotic genomes may appear less challenging, specific features such as circular DNA molecules, must be taken into consideration to achieve high quality assembly.\n",
    "\n",
    "* For assembly, ONT recommend sequencing a human genome to a minimum depth of 30x of 25–35 kb reads.\n",
    "However, sequencing to a depth of 60x is advisable to obtain the best assembly metrics. We also recommend basecalling in high accuracy mode. Greatest contig N50 is usually obtained with Shasta and Flye. Polishing/Correction is also recommended (Racon and Medaka). https://nanoporetech.com/sites/default/files/s3/literature/human-genome-assembly-workflow.pdf\n",
    "\n",
    "\n",
    "* Long reads simplify genome assembly, with the ability to span repeat-rich sequences (characteristic of  antimicrobial resistance genes) and structural variants. Nanopore sequencing also shows a lack of\n",
    "bias in GC-rich regions, in contrast to other sequencing platforms. To perform microbial genome assembly, we suggest using the third-party de novo assembly tool Flye. We also recommend one round of polishing with Medaka. https://nanoporetech.com/sites/default/files/s3/literature/microbial-genome-assembly-workflow.pdf "
   ]
  },
  {
   "cell_type": "markdown",
   "id": "0a74882e",
   "metadata": {},
   "source": [
    "Flye  https://github.com/fenderglass/Flye \n",
    "\n",
    "Canu  https://canu.readthedocs.io/en/latest/quick-start.html\n",
    "\n",
    "Miniasm  https://github.com/lh3/miniasm + Minipolish version https://github.com/rrwick/Minipolish\n",
    "\n",
    "Shasta  https://github.com/chanzuckerberg/shasta\n",
    "\n",
    "Smartdenovo  https://github.com/ruanjue/smartdenovo\n",
    "\n",
    "Raven  https://github.com/lbcb-sci/raven"
   ]
  },
  {
   "cell_type": "markdown",
   "id": "c83a6eac",
   "metadata": {},
   "source": [
    "### <span style=\"color: #4CACBD;\"> 1.1 Assembly using Flye </span>"
   ]
  },
  {
   "cell_type": "markdown",
   "id": "2415c263",
   "metadata": {},
   "source": [
    "We are going to assembly some Clones by using Flye https://github.com/fenderglass/Flye\n",
    "\n",
    "Flye generates the concatenation of multiple disjoint genomic segments called disjointigs to build a repeat graph. Reads are mapped to this repeat graph to resolve conflicts (unbridged repeats) and output contigs."
   ]
  },
  {
   "cell_type": "code",
   "execution_count": 1,
   "id": "af681d7a",
   "metadata": {},
   "outputs": [
    {
     "name": "stdout",
     "output_type": "stream",
     "text": [
      "/home/jovyan/work/RESULTS\n"
     ]
    }
   ],
   "source": [
    "# declare your clone number\n",
    "CLONE=\"Clone10\"\n",
    "# create a repertory for save flye assembly results\n",
    "cd ~/work/RESULTS/\n",
    "pwd"
   ]
  },
  {
   "cell_type": "code",
   "execution_count": 2,
   "id": "b7f1b857",
   "metadata": {
    "tags": []
   },
   "outputs": [
    {
     "name": "stdout",
     "output_type": "stream",
     "text": [
      "[2022-11-09 13:36:53] INFO: Starting Flye 2.9.1-b1780\n",
      "[2022-11-09 13:36:53] INFO: >>>STAGE: configure\n",
      "[2022-11-09 13:36:53] INFO: Configuring run\n",
      "[2022-11-09 13:36:56] INFO: Total read length: 166436048\n",
      "[2022-11-09 13:36:56] INFO: Input genome size: 1000000\n",
      "[2022-11-09 13:36:56] INFO: Estimated coverage: 166\n",
      "[2022-11-09 13:36:56] INFO: Reads N50/N90: 22325 / 7615\n",
      "[2022-11-09 13:36:56] INFO: Minimum overlap set to 8000\n",
      "[2022-11-09 13:36:56] INFO: >>>STAGE: assembly\n",
      "[2022-11-09 13:36:56] INFO: Assembling disjointigs\n",
      "[2022-11-09 13:36:56] INFO: Reading sequences\n",
      "[2022-11-09 13:37:01] INFO: Counting k-mers:\n",
      "0% 10% 20% 30% 40% 50% 60% 70% 80% 90% 100% \n",
      "[2022-11-09 13:38:00] INFO: Filling index table (1/2)\n",
      "0% 10% 20% 30% 40% 50% 60% 70% 80% 90% 100% \n",
      "[2022-11-09 13:38:25] INFO: Filling index table (2/2)\n",
      "0% 10% 20% 30% 40% 50% 60% 70% 80% 90% 100% \n",
      "[2022-11-09 13:39:53] INFO: Extending reads\n",
      "[2022-11-09 13:42:02] INFO: Overlap-based coverage: 122\n",
      "[2022-11-09 13:42:02] INFO: Median overlap divergence: 0.0948839\n",
      "0% 80% 90% 100% \n",
      "[2022-11-09 13:43:02] INFO: Assembled 4 disjointigs\n",
      "[2022-11-09 13:43:02] INFO: Generating sequence\n",
      "0% 10% 20% 30% 40% 50% 60% 70% 80% 90% 100% \n",
      "[2022-11-09 13:43:03] INFO: Filtering contained disjointigs\n",
      "0% 20% 50% 70% 100% \n",
      "[2022-11-09 13:43:04] INFO: Contained seqs: 0\n",
      "[2022-11-09 13:43:04] INFO: >>>STAGE: consensus\n",
      "[2022-11-09 13:43:04] INFO: Running Minimap2\n",
      "[2022-11-09 13:43:30] INFO: Computing consensus\n",
      "[2022-11-09 13:45:05] INFO: Alignment error rate: 0.133022\n",
      "[2022-11-09 13:45:05] INFO: >>>STAGE: repeat\n",
      "[2022-11-09 13:45:05] INFO: Building and resolving repeat graph\n",
      "[2022-11-09 13:45:05] INFO: Parsing disjointigs\n",
      "[2022-11-09 13:45:05] INFO: Building repeat graph\n",
      "0% 20% 50% 70% 100% \n",
      "[2022-11-09 13:45:07] INFO: Median overlap divergence: 0.139391\n",
      "[2022-11-09 13:45:07] INFO: Parsing reads\n",
      "[2022-11-09 13:45:09] INFO: Aligning reads to the graph\n",
      "0% 10% 20% 30% 40% 50% 60% 70% 80% 90% 100% \n",
      "[2022-11-09 13:45:34] INFO: Aligned read sequence: 148479312 / 148793179 (0.997891)\n",
      "[2022-11-09 13:45:34] INFO: Median overlap divergence: 0.0553969\n",
      "[2022-11-09 13:45:34] INFO: Mean edge coverage: 119\n",
      "[2022-11-09 13:45:34] INFO: Simplifying the graph\n",
      "[2022-11-09 13:45:34] INFO: >>>STAGE: contigger\n",
      "[2022-11-09 13:45:34] INFO: Generating contigs\n",
      "[2022-11-09 13:45:34] INFO: Reading sequences\n",
      "[2022-11-09 13:45:36] INFO: Generated 4 contigs\n",
      "[2022-11-09 13:45:36] INFO: Added 0 scaffold connections\n",
      "[2022-11-09 13:45:36] INFO: >>>STAGE: polishing\n",
      "[2022-11-09 13:45:36] INFO: Polishing genome (1/1)\n",
      "[2022-11-09 13:45:36] INFO: Running minimap2\n",
      "[2022-11-09 13:45:57] INFO: Separating alignment into bubbles\n",
      "[2022-11-09 13:47:50] INFO: Alignment error rate: 0.087877\n",
      "[2022-11-09 13:47:50] INFO: Correcting bubbles\n",
      "0% 10% 20% 30% 40% 50% 60% 70% 80% 90% 100% \n",
      "[2022-11-09 13:48:41] INFO: >>>STAGE: finalize\n",
      "[2022-11-09 13:48:41] INFO: Assembly statistics:\n",
      "\n",
      "\tTotal length:\t1232696\n",
      "\tFragments:\t4\n",
      "\tFragments N50:\t1105461\n",
      "\tLargest frg:\t1105461\n",
      "\tScaffolds:\t0\n",
      "\tMean coverage:\t137\n",
      "\n",
      "[2022-11-09 13:48:41] INFO: Final assembly: /home/jovyan/work/RESULTS/FLYE/assembly.fasta\n",
      "\n",
      "real\t11m47.615s\n",
      "user\t26m58.137s\n",
      "sys\t0m16.257s\n"
     ]
    }
   ],
   "source": [
    "# Run flye\n",
    "time flye --nano-raw ../DATA/${CLONE}/ONT/${CLONE}.fastq.gz --genome-size 1000000 --out-dir FLYE --threads 4"
   ]
  },
  {
   "cell_type": "markdown",
   "id": "ef2484db",
   "metadata": {},
   "source": [
    "### <span style=\"color: #4CACBD;\"> 1.2 Assembly using Raven </span>"
   ]
  },
  {
   "cell_type": "code",
   "execution_count": 3,
   "id": "3c3622a4",
   "metadata": {},
   "outputs": [
    {
     "name": "stdout",
     "output_type": "stream",
     "text": [
      "/home/jovyan/work/RESULTS/RAVEN\n"
     ]
    }
   ],
   "source": [
    "# create a repertory for save raven assembly results\n",
    "mkdir ~/work/RESULTS/RAVEN\n",
    "cd ~/work/RESULTS/RAVEN\n",
    "pwd"
   ]
  },
  {
   "cell_type": "code",
   "execution_count": 4,
   "id": "3213e0a0",
   "metadata": {},
   "outputs": [
    {
     "name": "stdout",
     "output_type": "stream",
     "text": [
      "[raven::] loaded 11235 sequences 2.466825s\n",
      "[raven::Graph::Construct] minimized 0 - 11235 / 11235 4.062874s\n",
      "[raven::Graph::Construct] mapped sequences 8.123777s\n",
      "[raven::Graph::Construct] annotated piles 0.079130s\n",
      "[raven::Graph::Construct] removed contained sequences 0.030713s\n",
      "[raven::Graph::Construct] removed chimeric sequences 0.002846s\n",
      "[raven::Graph::Construct] reached checkpoint 0.047079s\n",
      "[raven::Graph::Construct] minimized 0 - 214 / 214 0.440931s\n",
      "[raven::Graph::Construct] mapped valid sequences 0.531934s\n",
      "[raven::Graph::Construct] updated overlaps 0.000331s\n",
      "[raven::Graph::Construct] removed false overlaps 0.010451s\n",
      "[raven::Graph::Construct] stored 428 nodes 0.061572s\n",
      "[raven::Graph::Construct] stored 3100 edges 0.000000s\n",
      "[raven::Graph::Construct] reached checkpoint 0.076549s\n",
      "[raven::Graph::Construct] 13.484354s\n",
      "[raven::Graph::Assemble] removed transitive edges 0.002083s\n",
      "[raven::Graph::Assemble] reached checkpoint 0.068241s\n",
      "[raven::Graph::Assemble] removed tips and bubbles 0.035455s\n",
      "[raven::Graph::Assemble] reached checkpoint 0.068057s\n",
      "[raven::Graph::Assemble] removed long edges 0.031089s\n",
      "[raven::Graph::Assemble] reached checkpoint 0.063324s\n",
      "[raven::Graph::Assemble] 0.280444s\n",
      "[raven::] 16.375166s\n",
      "\n",
      "real\t0m16.424s\n",
      "user\t0m54.954s\n",
      "sys\t0m0.691s\n"
     ]
    }
   ],
   "source": [
    "# Run raven\n",
    "time raven -p 0 --graphical-fragment-assembly ${CLONE}_raven.gfa -t 4 ../../DATA/${CLONE}/ONT/${CLONE}.fastq.gz > ${CLONE}_raven.fasta"
   ]
  },
  {
   "cell_type": "markdown",
   "id": "102de26b",
   "metadata": {},
   "source": [
    "* How many contigs were obtained by Flye and Raven ? Please fill in results in the shared [file](https://lite.framacalc.org/9pd3-ont_sg_2021)\n",
    "* Calculate first statistics about assemblies: N50 and lenght contig mean."
   ]
  },
  {
   "cell_type": "code",
   "execution_count": 5,
   "id": "25c0c563-e85f-4431-a035-8a40def45d4e",
   "metadata": {},
   "outputs": [
    {
     "name": "stdout",
     "output_type": "stream",
     "text": [
      "\u001b[35m\u001b[K/home/jovyan/work/RESULTS/FLYE/assembly.fasta\u001b[m\u001b[K\u001b[36m\u001b[K:\u001b[m\u001b[K4\n",
      "\u001b[35m\u001b[K/home/jovyan/work/RESULTS/RAVEN/Clone10_raven.fasta\u001b[m\u001b[K\u001b[36m\u001b[K:\u001b[m\u001b[K3\n"
     ]
    }
   ],
   "source": [
    "grep -c ^'>' ~/work/RESULTS/*/*.fasta"
   ]
  },
  {
   "cell_type": "markdown",
   "id": "52d0546b",
   "metadata": {},
   "source": [
    "## <span style=\"color: #4CACBC;\"> 2. Polishing assemblies with Racon </span>  \n",
    "\n",
    "Racon corrects raw contigs generated by rapid assembly methods with original ONT reads.\n",
    "\n",
    "From 2 to 4 racon rounds are usually used by the community. \n",
    "\n",
    "Polish contigs assembled by Flye using two rounds of racon !."
   ]
  },
  {
   "cell_type": "code",
   "execution_count": 6,
   "id": "6c61ba46",
   "metadata": {
    "collapsed": true,
    "jupyter": {
     "outputs_hidden": true
    },
    "tags": []
   },
   "outputs": [
    {
     "name": "stdout",
     "output_type": "stream",
     "text": [
      "[racon::] error: missing input file(s)!\n",
      "usage: racon [options ...] <sequences> <overlaps> <target sequences>\n",
      "\n",
      "    #default output is stdout\n",
      "    <sequences>\n",
      "        input file in FASTA/FASTQ format (can be compressed with gzip)\n",
      "        containing sequences used for correction\n",
      "    <overlaps>\n",
      "        input file in MHAP/PAF/SAM format (can be compressed with gzip)\n",
      "        containing overlaps between sequences and target sequences\n",
      "    <target sequences>\n",
      "        input file in FASTA/FASTQ format (can be compressed with gzip)\n",
      "        containing sequences which will be corrected\n",
      "\n",
      "    options:\n",
      "        -u, --include-unpolished\n",
      "            output unpolished target sequences\n",
      "        -f, --fragment-correction\n",
      "            perform fragment correction instead of contig polishing\n",
      "            (overlaps file should contain dual/self overlaps!)\n",
      "        -w, --window-length <int>\n",
      "            default: 500\n",
      "            size of window on which POA is performed\n",
      "        -q, --quality-threshold <float>\n",
      "            default: 10.0\n",
      "            threshold for average base quality of windows used in POA\n",
      "        -e, --error-threshold <float>\n",
      "            default: 0.3\n",
      "            maximum allowed error rate used for filtering overlaps\n",
      "        --no-trimming\n",
      "            disables consensus trimming at window ends\n",
      "        -m, --match <int>\n",
      "            default: 3\n",
      "            score for matching bases\n",
      "        -x, --mismatch <int>\n",
      "            default: -5\n",
      "            score for mismatching bases\n",
      "        -g, --gap <int>\n",
      "            default: -4\n",
      "            gap penalty (must be negative)\n",
      "        -t, --threads <int>\n",
      "            default: 1\n",
      "            number of threads\n",
      "        --version\n",
      "            prints the version number\n",
      "        -h, --help\n",
      "            prints the usage\n"
     ]
    },
    {
     "ename": "",
     "evalue": "1",
     "output_type": "error",
     "traceback": []
    }
   ],
   "source": [
    "racon"
   ]
  },
  {
   "cell_type": "markdown",
   "id": "ae79d00b-57be-4e57-8d4c-137f448a4afb",
   "metadata": {},
   "source": [
    "## Racon first round"
   ]
  },
  {
   "cell_type": "code",
   "execution_count": 7,
   "id": "7697cc22-1790-45e2-8680-ae1aebfb7cf9",
   "metadata": {},
   "outputs": [
    {
     "name": "stdout",
     "output_type": "stream",
     "text": [
      "[M::mm_idx_gen::0.067*1.06] collected minimizers\n",
      "[M::mm_idx_gen::0.080*1.65] sorted minimizers\n",
      "[M::main::0.080*1.65] loaded/built the index for 4 target sequence(s)\n",
      "[M::mm_mapopt_update::0.085*1.62] mid_occ = 5\n",
      "[M::mm_idx_stat] kmer size: 15; skip: 10; is_hpc: 0; #seq: 4\n",
      "[M::mm_idx_stat::0.089*1.59] distinct minimizers: 226987 (98.75% are singletons); average occurrences: 1.016; average spacing: 5.343\n",
      "[M::worker_pipeline::5.068*3.68] mapped 11235 sequences\n",
      "[M::main] Version: 2.17-r941\n",
      "[M::main] CMD: minimap2 -t 6 ../FLYE/assembly.fasta ../../DATA/Clone10/ONT/Clone10.fastq.gz\n",
      "[M::main] Real time: 5.072 sec; CPU: 18.667 sec; Peak RSS: 0.180 GB\n",
      "\n",
      "real\t0m5.085s\n",
      "user\t0m18.559s\n",
      "sys\t0m0.116s\n",
      "[racon::Polisher::initialize] loaded target sequences 0.009216 s\n",
      "[racon::Polisher::initialize] loaded sequences 2.476519 s\n",
      "[racon::Polisher::initialize] loaded overlaps 0.013746 s\n",
      "[racon::Polisher::initialize] aligning overlaps [====================] 45.103970 s\n",
      "[racon::Polisher::initialize] transformed data into windows 0.232758 s\n",
      "[racon::Polisher::polish] generating consensus [====================] 84.984706 s\n",
      "[racon::Polisher::] total = 132.830566 s\n",
      "\n",
      "real\t2m12.875s\n",
      "user\t12m56.286s\n",
      "sys\t0m4.685s\n"
     ]
    }
   ],
   "source": [
    "mkdir -p ~/work/RESULTS/FLYE_RACON\n",
    "cd ~/work/RESULTS/FLYE_RACON\n",
    "time minimap2 -t 6 ../FLYE/assembly.fasta ../../DATA/${CLONE}/ONT/${CLONE}.fastq.gz 1> assembly.minimap4racon1.paf\n",
    "time racon -t 6 ../../DATA/${CLONE}/ONT/${CLONE}.fastq.gz assembly.minimap4racon1.paf ../FLYE/assembly.fasta > assembly.racon1.fasta"
   ]
  },
  {
   "cell_type": "markdown",
   "id": "4b75b00d-4a7c-41e3-9472-69e3eef402df",
   "metadata": {},
   "source": [
    "## Racon second round"
   ]
  },
  {
   "cell_type": "code",
   "execution_count": 8,
   "id": "3c9fa57c-a4a3-4be5-a3c2-bf99524917a3",
   "metadata": {},
   "outputs": [
    {
     "name": "stdout",
     "output_type": "stream",
     "text": [
      "[M::mm_idx_gen::0.071*1.05] collected minimizers\n",
      "[M::mm_idx_gen::0.088*1.59] sorted minimizers\n",
      "[M::main::0.088*1.59] loaded/built the index for 4 target sequence(s)\n",
      "[M::mm_mapopt_update::0.099*1.53] mid_occ = 5\n",
      "[M::mm_idx_stat] kmer size: 15; skip: 10; is_hpc: 0; #seq: 4\n",
      "[M::mm_idx_stat::0.106*1.49] distinct minimizers: 225838 (98.72% are singletons); average occurrences: 1.017; average spacing: 5.338\n",
      "[M::worker_pipeline::5.405*2.66] mapped 11235 sequences\n",
      "[M::main] Version: 2.17-r941\n",
      "[M::main] CMD: minimap2 -t 4 assembly.racon1.fasta ../../DATA/Clone10/ONT/Clone10.fastq.gz\n",
      "[M::main] Real time: 5.410 sec; CPU: 14.363 sec; Peak RSS: 0.176 GB\n",
      "\n",
      "real\t0m5.426s\n",
      "user\t0m14.240s\n",
      "sys\t0m0.136s\n",
      "[racon::Polisher::initialize] loaded target sequences 0.009998 s\n",
      "[racon::Polisher::initialize] loaded sequences 2.735626 s\n",
      "[racon::Polisher::initialize] loaded overlaps 0.015789 s\n",
      "[racon::Polisher::initialize] aligning overlaps [====================] 50.164515 s\n",
      "[racon::Polisher::initialize] transformed data into windows 0.220627 s\n",
      "[racon::Polisher::polish] generating consensus [====================] 99.838209 s\n",
      "[racon::Polisher::] total = 152.995375 s\n",
      "\n",
      "real\t2m33.038s\n",
      "user\t9m58.573s\n",
      "sys\t0m4.132s\n"
     ]
    }
   ],
   "source": [
    "# second round\n",
    "cd ~/work/RESULTS/FLYE_RACON\n",
    "time minimap2 -t 4 assembly.racon1.fasta ../../DATA/${CLONE}/ONT/${CLONE}.fastq.gz 1> assembly.minimap4racon2.paf\n",
    "time racon -t 4 ../../DATA/${CLONE}/ONT/${CLONE}.fastq.gz assembly.minimap4racon2.paf assembly.racon1.fasta > assembly.racon2.fasta"
   ]
  },
  {
   "cell_type": "markdown",
   "id": "1442f938",
   "metadata": {},
   "source": [
    "## <span style=\"color: #4CACBC;\"> 3. Assemblies correction with Medaka </span>  \n",
    "\n",
    "Correction can improve the consensus sequence for a draft genome assembly.\n",
    "\n",
    "Medaka uses fast5 files to correct contigs using trained models. These models are freely available.\n",
    "\n",
    "Medaka allows you to train a model by using fast5 from your favorite species. You can use it directly to obtain a consensus from you favorite organism."
   ]
  },
  {
   "cell_type": "markdown",
   "id": "9a722473",
   "metadata": {},
   "source": [
    "### <span style=\"color: #4CACBC;\"> 1.3 Correct assemblies with Medaka </span>  \n",
    "\n",
    "### <span style=\"color: #4CACBC;\"> 1.3.1 Before to correct assemblies, index them </span>  "
   ]
  },
  {
   "cell_type": "code",
   "execution_count": 3,
   "id": "0e9d88fb-7e5a-40b5-9c8a-46e333e36c1a",
   "metadata": {},
   "outputs": [
    {
     "name": "stdout",
     "output_type": "stream",
     "text": [
      "/home/jovyan/work/RESULTS/FLYE_RACON\n"
     ]
    }
   ],
   "source": [
    "cd ~/work/RESULTS/FLYE_RACON\n",
    "pwd"
   ]
  },
  {
   "cell_type": "code",
   "execution_count": 4,
   "id": "365b9ab7",
   "metadata": {},
   "outputs": [
    {
     "name": "stdout",
     "output_type": "stream",
     "text": [
      "\n",
      "real\t0m0.063s\n",
      "user\t0m0.006s\n",
      "sys\t0m0.018s\n",
      "[M::mm_idx_gen::0.049*1.07] collected minimizers\n",
      "[M::mm_idx_gen::0.063*1.48] sorted minimizers\n",
      "[M::main::0.083*1.37] loaded/built the index for 4 target sequence(s)\n",
      "[M::mm_idx_stat] kmer size: 15; skip: 10; is_hpc: 0; #seq: 4\n",
      "[M::mm_idx_stat::0.089*1.34] distinct minimizers: 225782 (98.72% are singletons); average occurrences: 1.017; average spacing: 5.337\n",
      "[M::main] Version: 2.17-r941\n",
      "[M::main] CMD: minimap2 -d assembly.racon2.fasta.mmi assembly.racon2.fasta\n",
      "[M::main] Real time: 0.097 sec; CPU: 0.127 sec; Peak RSS: 0.015 GB\n",
      "\n",
      "real\t0m0.102s\n",
      "user\t0m0.106s\n",
      "sys\t0m0.022s\n"
     ]
    }
   ],
   "source": [
    "time samtools faidx assembly.racon2.fasta \n",
    "time minimap2 -d assembly.racon2.fasta.mmi assembly.racon2.fasta"
   ]
  },
  {
   "cell_type": "code",
   "execution_count": 2,
   "id": "05f29acb-cb81-4d89-acf0-ab921b68cd17",
   "metadata": {},
   "outputs": [
    {
     "name": "stdout",
     "output_type": "stream",
     "text": [
      "/home/jovyan/work/RESULTS/FLYE_RACON_MEDAKA\n"
     ]
    }
   ],
   "source": [
    "#create a medaka repertory\n",
    "mkdir -p ~/work/RESULTS/FLYE_RACON_MEDAKA\n",
    "cd ~/work/RESULTS/FLYE_RACON_MEDAKA\n",
    "pwd"
   ]
  },
  {
   "cell_type": "markdown",
   "id": "a00888ca-57a0-43cf-b27a-bee4bd7d1790",
   "metadata": {},
   "source": [
    "### <span style=\"color: #4CACBC;\"> 1.3.2 Medaka_consensus </span>  \n"
   ]
  },
  {
   "cell_type": "markdown",
   "id": "567f51a4-cd6e-4aa0-bff8-cb22655eaa87",
   "metadata": {},
   "source": [
    "Medaka is a tool to create a consensus sequence from nanopore sequencing data. \n",
    "\n",
    "This task is performed by using neural networks applied to a pileup of individual sequencing reads against a draft assembly.\n",
    "\n",
    "It outperforms graph-based methods operating on basecalled data, and can be competitive with state-of-the-art signal-based methods whilst being much faster.\n",
    "\n",
    "As input medaka accepts reads in either a .fasta or a .fastq file. It requires a draft assembly as a .fasta.\n",
    "\n",
    "### Check the usage of medaka_consensus"
   ]
  },
  {
   "cell_type": "code",
   "execution_count": 3,
   "id": "1f60ed62",
   "metadata": {},
   "outputs": [
    {
     "name": "stdout",
     "output_type": "stream",
     "text": [
      "\n",
      "medaka 1.7.2\n",
      "------------\n",
      "\n",
      "Assembly polishing via neural networks. Medaka is optimized\n",
      "to work with the Flye assembler.\n",
      "\n",
      "medaka_consensus [-h] -i <fastx> -d <fasta>\n",
      "\n",
      "    -h  show this help text.\n",
      "    -i  fastx input basecalls (required).\n",
      "    -d  fasta input assembly (required).\n",
      "    -o  output folder (default: medaka).\n",
      "    -g  don't fill gaps in consensus with draft sequence.\n",
      "    -r  use gap-filling character instead of draft sequence (default: None)\n",
      "    -m  medaka model, (default: r941_min_hac_g507).\n",
      "        Choices: r103_fast_g507 r103_hac_g507 r103_min_high_g345 r103_min_high_g360 r103_prom_high_g360 r103_sup_g507 r1041_e82_260bps_fast_g632 r1041_e82_260bps_hac_g632 r1041_e82_260bps_sup_g632 r1041_e82_400bps_fast_g615 r1041_e82_400bps_fast_g632 r1041_e82_400bps_hac_g615 r1041_e82_400bps_hac_g632 r1041_e82_400bps_sup_g615 r104_e81_fast_g5015 r104_e81_hac_g5015 r104_e81_sup_g5015 r104_e81_sup_g610 r10_min_high_g303 r10_min_high_g340 r941_e81_fast_g514 r941_e81_hac_g514 r941_e81_sup_g514 r941_min_fast_g303 r941_min_fast_g507 r941_min_hac_g507 r941_min_high_g303 r941_min_high_g330 r941_min_high_g340_rle r941_min_high_g344 r941_min_high_g351 r941_min_high_g360 r941_min_sup_g507 r941_prom_fast_g303 r941_prom_fast_g507 r941_prom_hac_g507 r941_prom_high_g303 r941_prom_high_g330 r941_prom_high_g344 r941_prom_high_g360 r941_prom_high_g4011 r941_prom_sup_g507 r941_sup_plant_g610\n",
      "        Alternatively a .tar.gz/.hdf file from 'medaka train'.\n",
      "    -f  Force overwrite of outputs (default will reuse existing outputs).\n",
      "    -x  Force recreation of alignment index.\n",
      "    -t  number of threads with which to create features (default: 1).\n",
      "    -b  batchsize, controls memory use (default: 100).\n",
      "\n",
      "-i must be specified.\n"
     ]
    },
    {
     "ename": "",
     "evalue": "1",
     "output_type": "error",
     "traceback": []
    }
   ],
   "source": [
    "medaka_consensus"
   ]
  },
  {
   "cell_type": "markdown",
   "id": "367fd07a-b72c-4ba9-a7b9-238de896f719",
   "metadata": {},
   "source": [
    "### Check the medaka model to use\n",
    "\n",
    "Medaka models are named to indicate i) the pore type, ii) the sequencing device (MinION or PromethION), iii) the basecaller variant, and  iv) the basecaller version\n",
    "\n",
    "{pore}_{device}_{caller variant}_{caller version}\n",
    "\n",
    "examples: \n",
    "\n",
    "r941_min_fast_g303 : MiniON R9.4.1 flowcells using the fast Guppy basecaller version 3.0.3. \n"
   ]
  },
  {
   "cell_type": "code",
   "execution_count": 4,
   "id": "96add958-3df4-4da4-84c3-0314a6206161",
   "metadata": {},
   "outputs": [
    {
     "name": "stdout",
     "output_type": "stream",
     "text": [
      "Available: r103_fast_g507, r103_fast_snp_g507, r103_fast_variant_g507, r103_hac_g507, r103_hac_snp_g507, r103_hac_variant_g507, r103_min_high_g345, r103_min_high_g360, r103_prom_high_g360, r103_prom_snp_g3210, r103_prom_variant_g3210, r103_sup_g507, r103_sup_snp_g507, r103_sup_variant_g507, r1041_e82_260bps_fast_g632, r1041_e82_260bps_fast_variant_g632, r1041_e82_260bps_hac_g632, r1041_e82_260bps_hac_variant_g632, r1041_e82_260bps_sup_g632, r1041_e82_260bps_sup_variant_g632, r1041_e82_400bps_fast_g615, r1041_e82_400bps_fast_g632, r1041_e82_400bps_fast_variant_g615, r1041_e82_400bps_fast_variant_g632, r1041_e82_400bps_hac_g615, r1041_e82_400bps_hac_g632, r1041_e82_400bps_hac_variant_g615, r1041_e82_400bps_hac_variant_g632, r1041_e82_400bps_sup_g615, r1041_e82_400bps_sup_variant_g615, r104_e81_fast_g5015, r104_e81_fast_variant_g5015, r104_e81_hac_g5015, r104_e81_hac_variant_g5015, r104_e81_sup_g5015, r104_e81_sup_g610, r104_e81_sup_variant_g610, r10_min_high_g303, r10_min_high_g340, r941_e81_fast_g514, r941_e81_fast_variant_g514, r941_e81_hac_g514, r941_e81_hac_variant_g514, r941_e81_sup_g514, r941_e81_sup_variant_g514, r941_min_fast_g303, r941_min_fast_g507, r941_min_fast_snp_g507, r941_min_fast_variant_g507, r941_min_hac_g507, r941_min_hac_snp_g507, r941_min_hac_variant_g507, r941_min_high_g303, r941_min_high_g330, r941_min_high_g340_rle, r941_min_high_g344, r941_min_high_g351, r941_min_high_g360, r941_min_sup_g507, r941_min_sup_snp_g507, r941_min_sup_variant_g507, r941_prom_fast_g303, r941_prom_fast_g507, r941_prom_fast_snp_g507, r941_prom_fast_variant_g507, r941_prom_hac_g507, r941_prom_hac_snp_g507, r941_prom_hac_variant_g507, r941_prom_high_g303, r941_prom_high_g330, r941_prom_high_g344, r941_prom_high_g360, r941_prom_high_g4011, r941_prom_snp_g303, r941_prom_snp_g322, r941_prom_snp_g360, r941_prom_sup_g507, r941_prom_sup_snp_g507, r941_prom_sup_variant_g507, r941_prom_variant_g303, r941_prom_variant_g322, r941_prom_variant_g360, r941_sup_plant_g610, r941_sup_plant_variant_g610\n",
      "Default consensus:  r941_min_hac_g507\n",
      "Default variant:  r941_min_hac_variant_g507\n"
     ]
    }
   ],
   "source": [
    "medaka tools list_models"
   ]
  },
  {
   "cell_type": "markdown",
   "id": "0546bdf1-033b-4454-b54b-006ffa81e77e",
   "metadata": {
    "tags": []
   },
   "source": [
    "### Medaka in FLYE + RACON\n",
    "\n",
    "We run medaka on the FLYE + polished with racon assembly."
   ]
  },
  {
   "cell_type": "code",
   "execution_count": 5,
   "id": "25ab52e3-e16b-4170-a2eb-70ffadd58748",
   "metadata": {},
   "outputs": [],
   "source": [
    "# go to medaka repertory results\n",
    "cd ~/work/RESULTS/FLYE_RACON_MEDAKA"
   ]
  },
  {
   "cell_type": "code",
   "execution_count": null,
   "id": "c63b89ef-6b04-437a-b0ec-0b9bd42ca724",
   "metadata": {},
   "outputs": [],
   "source": [
    "# activate medaka conda environement\n",
    "conda activate medaka"
   ]
  },
  {
   "cell_type": "code",
   "execution_count": 6,
   "id": "334f4446-251e-4317-9773-416d8e7569b9",
   "metadata": {},
   "outputs": [
    {
     "name": "stdout",
     "output_type": "stream",
     "text": [
      "Checking program versions\n",
      "This is medaka 1.7.2\n",
      "Program    Version    Required   Pass     \n",
      "bcftools   1.10.2     1.11       False    \n",
      "bgzip      1.10.2-3   1.11       False    \n",
      "minimap2   2.17       2.11       True     \n",
      "samtools   1.10       1.11       False    \n",
      "tabix      1.10.2-3   1.11       False    \n",
      "\n",
      "real\t0m6.217s\n",
      "user\t0m5.755s\n",
      "sys\t0m2.678s\n"
     ]
    },
    {
     "ename": "",
     "evalue": "1",
     "output_type": "error",
     "traceback": []
    }
   ],
   "source": [
    "# medaka_consensus -i ${BASECALLS} -d ${DRAFT} -o ${OUTDIR} -t ${NPROC} -m r941_min_high_g360\n",
    "time medaka_consensus -i ~/work/DATA/${CLONE}/ONT/${CLONE}.fastq.gz -d ~/work/RESULTS/FLYE_RACON/assembly.racon2.fasta -o MEDAKA_CONSENSUS -t 4 -m r941_min_high_g360"
   ]
  },
  {
   "cell_type": "code",
   "execution_count": null,
   "id": "8913b729-84ec-49bb-86fb-40bbadc87ac3",
   "metadata": {},
   "outputs": [],
   "source": [
    "conda deactivate"
   ]
  },
  {
   "cell_type": "markdown",
   "id": "85e725cd-c638-4e7b-88da-c728be8731c3",
   "metadata": {},
   "source": [
    "### <span style=\"color: #4CACBC;\"> Conclusion </span>  \n"
   ]
  },
  {
   "cell_type": "markdown",
   "id": "597631ba-0408-4182-b6de-b96098d62332",
   "metadata": {},
   "source": [
    "1. Here, we have obtained a pseudomolecule of a clone by using Flye.\n",
    "\n",
    "2. We have polished it twice with racon.\n",
    "\n",
    "3. We have corrected it with medaka models.\n",
    "\n",
    "You can do similar pipeline using the RAVEN assembler with your favorite Clone.\n",
    "\n",
    "We will compare the results in next practical \"Quality Assemblies\". "
   ]
  }
 ],
 "metadata": {
  "kernelspec": {
   "display_name": "Bash",
   "language": "bash",
   "name": "bash"
  },
  "language_info": {
   "codemirror_mode": "shell",
   "file_extension": ".sh",
   "mimetype": "text/x-sh",
   "name": "bash"
  }
 },
 "nbformat": 4,
 "nbformat_minor": 5
}
