{
 "cells": [
  {
   "cell_type": "markdown",
   "id": "a491076c",
   "metadata": {},
   "source": [
    "# Formation South Green 2021  \n",
    "\n",
    "##  Initiation à l’analyse de données Minion\n",
    "\n",
    "### PART 2\n",
    "\n",
    "Created by J.Orjuela (DIADE-IRD), F. Sabot (DIADE-IRD) and G. Sarah (AGAP-CIRAD)\n",
    "\n",
    "Septembre 2021\n",
    "\n",
    "## 1. Assemblies\n",
    "\n",
    "More contiguous genome assemblies can be generated using long sequencing read but assembly is not a quite pace. Eukaryotic genomes assembly is a complex task (large genome sizes, high rates of repeated sequences, high heterozygosity levels and even polyploidy), and while prokaryotic genomes may appear less challenging, specific features such as circular DNA molecules, must be taken into consideration to achieve high quality assembly."
   ]
  },
  {
   "cell_type": "markdown",
   "id": "640c8c9b",
   "metadata": {},
   "source": [
    "* For assembly, ONT recommend sequencing a human genome to a minimum depth of 30x of 25–35 kb reads.\n",
    "However, sequencing to a depth of 60x is advisable to obtain the best assembly metrics. We also recommend basecalling in high accuracy mode. Greatest contig N50 is usually obtained with Shasta and Flye. Polishing/Correction is also recomendated (Racon and Medaka). https://nanoporetech.com/sites/default/files/s3/literature/human-genome-assembly-workflow.pdf\n",
    "\n",
    "\n",
    "* Long reads simplify genome assembly, with the ability to span repeat-rich sequences (characteristic of  antimicrobial resistance genes) and structural variants. Nanopore sequencing also shows a lack of\n",
    "bias in GC-rich regions, in contrast to other sequencing platforms. To perform microbial genome assembly, we suggest using the third-party de novo assembly tool Flye. We also recommend one round of polishing with Medaka. https://nanoporetech.com/sites/default/files/s3/literature/microbial-genome-assembly-workflow.pdf "
   ]
  },
  {
   "cell_type": "markdown",
   "id": "551e3abe",
   "metadata": {},
   "source": [
    "Flye  https://github.com/fenderglass/Flye \n",
    "\n",
    "Canu  https://canu.readthedocs.io/en/latest/quick-start.html\n",
    "\n",
    "Miniasm  https://github.com/lh3/miniasm + Minipolish version https://github.com/rrwick/Minipolish\n",
    "\n",
    "Shasta  https://github.com/chanzuckerberg/shasta\n",
    "\n",
    "Smartdenovo  https://github.com/ruanjue/smartdenovo\n",
    "\n",
    "Raven version  https://github.com/lbcb-sci/raven"
   ]
  },
  {
   "cell_type": "markdown",
   "id": "93d961af",
   "metadata": {},
   "source": [
    "### 1.1 Assembly using Flye"
   ]
  },
  {
   "cell_type": "markdown",
   "id": "b4e5cd35",
   "metadata": {},
   "source": [
    "We are going to assembly Clone1 to Clone20 by using Flye https://github.com/fenderglass/Flye\n",
    "\n",
    "Flye generates the concatenation of multiple disjoint genomic segments called disjointigs to build a repeat graph. Reads are mapped to this repeat graph to resolve conflicts (unbridged repeats) and output contigs."
   ]
  },
  {
   "cell_type": "code",
   "execution_count": 7,
   "id": "d562d1f2",
   "metadata": {},
   "outputs": [],
   "source": [
    "# go to training folder\n",
    "cd /home/jovyan/SG-ONT-2021/"
   ]
  },
  {
   "cell_type": "code",
   "execution_count": 10,
   "id": "4e42f3ab",
   "metadata": {},
   "outputs": [
    {
     "name": "stdout",
     "output_type": "stream",
     "text": [
      "[2021-08-25 12:15:02] INFO: Starting Flye 2.8.3-b1695\n",
      "[2021-08-25 12:15:02] INFO: >>>STAGE: configure\n",
      "[2021-08-25 12:15:02] INFO: Configuring run\n",
      "[2021-08-25 12:15:05] INFO: Total read length: 160316874\n",
      "[2021-08-25 12:15:05] INFO: Input genome size: 1000000\n",
      "[2021-08-25 12:15:05] INFO: Estimated coverage: 160\n",
      "[2021-08-25 12:15:05] INFO: Reads N50/N90: 22312 / 7619\n",
      "[2021-08-25 12:15:05] INFO: Minimum overlap set to 5000\n",
      "[2021-08-25 12:15:05] INFO: >>>STAGE: assembly\n",
      "[2021-08-25 12:15:05] INFO: Assembling disjointigs\n",
      "[2021-08-25 12:15:05] INFO: Reading sequences\n",
      "[2021-08-25 12:15:06] ERROR: Caught unhandled exception: std::bad_alloc\n",
      "[2021-08-25 12:15:06] ERROR: \tflye-modules(+0x3ab73) [0x563d9c373b73]\n",
      "[2021-08-25 12:15:06] ERROR: \t/opt/conda/bin/../lib/libstdc++.so.6(+0xacf69) [0x7fa3e813bf69]\n",
      "[2021-08-25 12:15:06] ERROR: \t/opt/conda/bin/../lib/libstdc++.so.6(+0xacfab) [0x7fa3e813bfab]\n",
      "[2021-08-25 12:15:06] ERROR: \t/opt/conda/bin/../lib/libstdc++.so.6(__cxa_rethrow+0) [0x7fa3e813c194]\n",
      "[2021-08-25 12:15:06] ERROR: \t/opt/conda/bin/../lib/libstdc++.so.6(_Znwm+0x52) [0x7fa3e813c56a]\n",
      "[2021-08-25 12:15:06] ERROR: \tflye-modules(+0x6b354) [0x563d9c3a4354]\n",
      "[2021-08-25 12:15:06] ERROR: \tflye-modules(+0x37f78) [0x563d9c370f78]\n",
      "[2021-08-25 12:15:06] ERROR: \tflye-modules(+0x179d2) [0x563d9c3509d2]\n",
      "[2021-08-25 12:15:06] ERROR: \t/lib/x86_64-linux-gnu/libc.so.6(__libc_start_main+0xf3) [0x7fa3e7d2d0b3]\n",
      "[2021-08-25 12:15:06] ERROR: \tflye-modules(+0x17b79) [0x563d9c350b79]\n",
      "[2021-08-25 12:15:06] ERROR: Command '['flye-modules', 'assemble', '--reads', 'DATA/fastq_pass/Clone20.fastq', '--out-asm', '/home/jovyan/SG-ONT-2021/FLYE_Clone20/00-assembly/draft_assembly.fasta', '--config', '/opt/conda/lib/python3.9/site-packages/flye/config/bin_cfg/asm_raw_reads.cfg', '--log', '/home/jovyan/SG-ONT-2021/FLYE_Clone20/flye.log', '--threads', '1', '--genome-size', '1000000', '--min-ovlp', '5000']' died with <Signals.SIGABRT: 6>.\n",
      "[2021-08-25 12:15:06] ERROR: Pipeline aborted\n",
      "\n",
      "real\t0m4.509s\n",
      "user\t0m2.246s\n",
      "sys\t0m0.713s\n"
     ]
    },
    {
     "ename": "",
     "evalue": "1",
     "output_type": "error",
     "traceback": []
    }
   ],
   "source": [
    "time flye --nano-raw DATA/fastq_pass/Clone20.fastq --genome-size 1000000 --out-dir FLYE_Clone20 --threads 1"
   ]
  },
  {
   "cell_type": "markdown",
   "id": "01e04f7e",
   "metadata": {},
   "source": [
    "### 1.2 Polishing assemblies with Racon\n",
    "\n",
    "Racon corrects raw contigs generated by rapid assembly methods with original ONT reads.\n",
    "\n",
    "From 2 to 4 racon rounds are usually used by the community. \n",
    "\n",
    "Polish contigs assembled by Flye."
   ]
  },
  {
   "cell_type": "code",
   "execution_count": 12,
   "id": "7f725876",
   "metadata": {},
   "outputs": [
    {
     "name": "stdout",
     "output_type": "stream",
     "text": [
      "[racon::] error: missing input file(s)!\n",
      "usage: racon [options ...] <sequences> <overlaps> <target sequences>\n",
      "\n",
      "    #default output is stdout\n",
      "    <sequences>\n",
      "        input file in FASTA/FASTQ format (can be compressed with gzip)\n",
      "        containing sequences used for correction\n",
      "    <overlaps>\n",
      "        input file in MHAP/PAF/SAM format (can be compressed with gzip)\n",
      "        containing overlaps between sequences and target sequences\n",
      "    <target sequences>\n",
      "        input file in FASTA/FASTQ format (can be compressed with gzip)\n",
      "        containing sequences which will be corrected\n",
      "\n",
      "    options:\n",
      "        -u, --include-unpolished\n",
      "            output unpolished target sequences\n",
      "        -f, --fragment-correction\n",
      "            perform fragment correction instead of contig polishing\n",
      "            (overlaps file should contain dual/self overlaps!)\n",
      "        -w, --window-length <int>\n",
      "            default: 500\n",
      "            size of window on which POA is performed\n",
      "        -q, --quality-threshold <float>\n",
      "            default: 10.0\n",
      "            threshold for average base quality of windows used in POA\n",
      "        -e, --error-threshold <float>\n",
      "            default: 0.3\n",
      "            maximum allowed error rate used for filtering overlaps\n",
      "        --no-trimming\n",
      "            disables consensus trimming at window ends\n",
      "        -m, --match <int>\n",
      "            default: 3\n",
      "            score for matching bases\n",
      "        -x, --mismatch <int>\n",
      "            default: -5\n",
      "            score for mismatching bases\n",
      "        -g, --gap <int>\n",
      "            default: -4\n",
      "            gap penalty (must be negative)\n",
      "        -t, --threads <int>\n",
      "            default: 1\n",
      "            number of threads\n",
      "        --version\n",
      "            prints the version number\n",
      "        -h, --help\n",
      "            prints the usage\n"
     ]
    },
    {
     "ename": "",
     "evalue": "1",
     "output_type": "error",
     "traceback": []
    }
   ],
   "source": [
    "racon"
   ]
  },
  {
   "cell_type": "markdown",
   "id": "d5753567",
   "metadata": {},
   "source": [
    "### 1.3 Correct assemblies with Medaka\n",
    "\n",
    "Correction can improve the consensus sequence for a draft genome assembly.\n",
    "\n",
    "Medaka uses fast5 files to correct contigs and also available trained models.\n",
    "\n",
    "Medaka also allows train a model and use it directly to obtain a consensus from you favorite organism.\n"
   ]
  },
  {
   "cell_type": "code",
   "execution_count": 11,
   "id": "376dffee",
   "metadata": {},
   "outputs": [
    {
     "name": "stdout",
     "output_type": "stream",
     "text": [
      "bash: medaka: command not found\n"
     ]
    },
    {
     "ename": "",
     "evalue": "127",
     "output_type": "error",
     "traceback": []
    }
   ],
   "source": [
    "medaka"
   ]
  },
  {
   "cell_type": "markdown",
   "id": "f3b71e62",
   "metadata": {},
   "source": [
    "### 1.3 Correct assemblies with Medaka"
   ]
  },
  {
   "cell_type": "code",
   "execution_count": null,
   "id": "8264a48c",
   "metadata": {},
   "outputs": [],
   "source": []
  }
 ],
 "metadata": {
  "kernelspec": {
   "display_name": "Bash",
   "language": "bash",
   "name": "bash"
  },
  "language_info": {
   "codemirror_mode": "shell",
   "file_extension": ".sh",
   "mimetype": "text/x-sh",
   "name": "bash"
  }
 },
 "nbformat": 4,
 "nbformat_minor": 5
}
