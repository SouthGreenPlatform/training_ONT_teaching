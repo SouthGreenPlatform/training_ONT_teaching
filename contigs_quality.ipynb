{
 "cells": [
  {
   "cell_type": "markdown",
   "id": "2f09a11c",
   "metadata": {},
   "source": [
    "# Formation South Green 2021  \n",
    "\n",
    "##  Initiation à l’analyse de données Minion\n",
    "\n",
    "### PART 3\n",
    "\n",
    "Created by J.Orjuela (DIADE-IRD), F. Sabot (DIADE-IRD) and G. Sarah (AGAP-CIRAD)\n",
    "\n",
    "Septembre 2021"
   ]
  },
  {
   "cell_type": "markdown",
   "id": "3d07c5cc",
   "metadata": {},
   "source": [
    "### 1. Perform a comparison of assemblies using Quast"
   ]
  },
  {
   "cell_type": "markdown",
   "id": "93831a0f",
   "metadata": {},
   "source": [
    "The metrics of assemblies can be evaluated using a quality assessment tools such as [QUAST](http://quast.bioinf.spbau.ru/manual.html).\n",
    "\n",
    "We have assembled raw data using various assemblers and also and polished it. You can found X files in the AGGREGATED repertory LINK."
   ]
  },
  {
   "cell_type": "code",
   "execution_count": 1,
   "id": "04d7cfe2",
   "metadata": {},
   "outputs": [],
   "source": [
    "USER=\"jovyan\"\n",
    "cd /home/${USER}/SG-ONT-2021/\n",
    "## wget "
   ]
  },
  {
   "cell_type": "markdown",
   "id": "a0ff6d3b",
   "metadata": {},
   "source": [
    "Run QUAST on the assemblies you now have made in the quast directory and compare them."
   ]
  },
  {
   "cell_type": "code",
   "execution_count": null,
   "id": "83d3c7d7",
   "metadata": {},
   "outputs": [],
   "source": [
    "cd /home/${USER}/SG-ONT-2021/AGGREGATED"
   ]
  },
  {
   "cell_type": "code",
   "execution_count": null,
   "id": "36fcf4f3",
   "metadata": {},
   "outputs": [],
   "source": [
    "quast.py *.fasta -o QUAST"
   ]
  },
  {
   "cell_type": "markdown",
   "id": "7bacaea0",
   "metadata": {},
   "source": [
    "Go to the QUAST directory and check the file content.\n",
    "\n",
    "Open the report.html file in a web browser.\n",
    "\n",
    "* Looking at the output statistics, what are the main difference between the assemblies?\n",
    "\n",
    "* Look total sizes, number of contigs, N50 statistics.\n",
    "\n",
    "* For your favorite clone what is the best one ?"
   ]
  },
  {
   "cell_type": "markdown",
   "id": "17cd9fc8",
   "metadata": {},
   "source": [
    "### Comparison of the assemblies against the reference genome of closely organism"
   ]
  },
  {
   "cell_type": "markdown",
   "id": "3eb7ccc0",
   "metadata": {},
   "source": [
    "It's possible to compare assemblies against the reference genome of closely related organism. \n",
    "\n",
    "In our case we will use  the *reference.fasta* sequence using QUAST. \n",
    "\n",
    "This sequence can be download from the https://itrop.ird.fr/ont-training server"
   ]
  },
  {
   "cell_type": "code",
   "execution_count": null,
   "id": "a87923f5",
   "metadata": {},
   "outputs": [],
   "source": [
    "wget https://itrop.ird.fr/ont-training/DATA/reference.fasta"
   ]
  },
  {
   "cell_type": "markdown",
   "id": "8718a54b",
   "metadata": {},
   "source": [
    "Compare the output from your assemblies against the complete genome sequence using QUAST:"
   ]
  },
  {
   "cell_type": "code",
   "execution_count": null,
   "id": "eb7636a7",
   "metadata": {},
   "outputs": [],
   "source": [
    "quast.py *.fasta -R reference.fasta -o QUAST_REF"
   ]
  }
 ],
 "metadata": {
  "kernelspec": {
   "display_name": "Bash",
   "language": "bash",
   "name": "bash"
  },
  "language_info": {
   "codemirror_mode": "shell",
   "file_extension": ".sh",
   "mimetype": "text/x-sh",
   "name": "bash"
  }
 },
 "nbformat": 4,
 "nbformat_minor": 5
}
