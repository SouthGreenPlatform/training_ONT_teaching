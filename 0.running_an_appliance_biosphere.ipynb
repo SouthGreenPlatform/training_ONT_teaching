{
 "cells": [
  {
   "cell_type": "markdown",
   "id": "e641af01",
   "metadata": {},
   "source": [
    "# Formation South Green 2022\n",
    "\n",
    "##  Initiation à l’analyse de données Minion pour l'étude du métagénome viraux\n",
    "\n",
    "### Start an appliance on IFB biosphère\n",
    "\n",
    "1/ First, as you should have an active account on biosphere, go to the menu **Sign-in** in the top-right corner of the main page of the [Biopshere portal](https://biosphere.france-bioinformatique.fr/cloudweb/login/), and follow the guidelines.\n",
    "\n",
    "2/ Make sure that you correctly configure your SSH parameters:\n",
    "\n",
    "1. Open your account parameters page from the user menu in the top-right corner of the\n",
    "Biopshere portal\n",
    "\n",
    "2. Click the Edit button\n",
    "\n",
    "3. Paste your SSH PubKey (public key) in the related field. You can paste several PubKey but  be careful that each PubKey is on one line only \n",
    "\n",
    "More details: https://ifb-elixirfr.github.io/biosphere/\n",
    "\n",
    "3/ Then, go to the **RAINBio** catalogue to select the bioinformatics cloud appliances, useful for your analysis, **virus_ONT**.\n",
    "\n",
    "4/ On the appliance webpage select run, then click on **“Advanced configuration and start”** to customize the deployment of the appliance. Finally, select the cloud “ifb-core-cloud” with the right “Cloud Flavor” for the practical course and click “Start now!”.\n",
    "\n",
    "5/ Once the deployment of your VM is done successfully, you can get all info from the **myVM** tab of the biosphere portal. Especially, the column Access will show you how to connect to your VM.\n",
    "\n",
    "You can also use the IP adress to connect to your machine as such\n",
    "\n",
    "$ ssh root@IP_adress"
   ]
  },
  {
   "cell_type": "code",
   "execution_count": null,
   "id": "7c61210e",
   "metadata": {},
   "outputs": [],
   "source": []
  }
 ],
 "metadata": {
  "kernelspec": {
   "display_name": "Bash",
   "language": "bash",
   "name": "bash"
  },
  "language_info": {
   "codemirror_mode": "shell",
   "file_extension": ".sh",
   "mimetype": "text/x-sh",
   "name": "bash"
  }
 },
 "nbformat": 4,
 "nbformat_minor": 5
}
