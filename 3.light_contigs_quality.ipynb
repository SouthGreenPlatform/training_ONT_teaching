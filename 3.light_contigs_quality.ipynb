{
 "cells": [
  {
   "cell_type": "markdown",
   "id": "67552fbb",
   "metadata": {},
   "source": [
    "\n",
    "# <span style=\"color:#006E7F\">__Introduction to Oxford Nanopore Data Analysis__ <a class=\"anchor\"></span>  \n",
    "\n",
    "\n",
    "Created by J. Orjuela (DIADE-IRD), F. Sabot (DIADE-IRD) and G. Sarah (AGAP-INRAE) - Septembre 2021 Formation SouthGreen\n",
    "\n",
    "Adapted by J. Orjuela (DIADE-IRD), F. Sabot (DIADE-IRD) - Novembre 2022\n"
   ]
  },
  {
   "cell_type": "markdown",
   "id": "689c1b2d",
   "metadata": {
    "tags": []
   },
   "source": [
    "# <span style=\"color:#006E7F\">__TP3 - CONTIGS QUALITY__ <a class=\"anchor\" id=\"data\"></span>  \n",
    "    \n",
    "# <span style=\"color: #4CACBC;\"> 1. Perform a comparison of assemblies using QUAST</span>  \n"
   ]
  },
  {
   "cell_type": "markdown",
   "id": "a778bfc9",
   "metadata": {},
   "source": [
    "The metrics of assemblies can be evaluated using a quality assessment tool such as [QUAST](http://quast.bioinf.spbau.ru/manual.html).\n",
    "\n",
    "In part 2, we have assembled raw data using various assemblers and also polished and corrected it. \n",
    "\n",
    "Aggregate all assemblies you have produced for your favorite clone in a new folder named \"AGGREGATED\".\n",
    "\n",
    "We're going to compare it with QUAST."
   ]
  },
  {
   "cell_type": "code",
   "execution_count": null,
   "id": "bfa9b4cd",
   "metadata": {},
   "outputs": [],
   "source": [
    "cd ~/work/RESULTS\n",
    "mkdir -p ~/work/RESULTS/AGGREGATED\n",
    "cd ~/work/RESULTS/AGGREGATED\n",
    "ln -s ~/work/RESULTS/FLYE/assembly.fasta Hh_FLYE.fasta\n",
    "ln -s ~/work/RESULTS/FLYE_RACON/assembly.racon2.fasta Hh_FLYE_RACONx2.fasta\n",
    "ls -l ~/work/RESULTS/AGGREGATED"
   ]
  },
  {
   "cell_type": "markdown",
   "id": "1a5ccbc0",
   "metadata": {},
   "source": [
    "### <span style=\"color: #4CACBD;\"> 1.1  Run QUAST on CLONE assemblies and compare them </span>"
   ]
  },
  {
   "cell_type": "code",
   "execution_count": null,
   "id": "210bf799",
   "metadata": {
    "tags": []
   },
   "outputs": [],
   "source": [
    "cd ~/work/RESULTS/AGGREGATED/\n",
    "quast.py *.fasta -o QUAST"
   ]
  },
  {
   "cell_type": "markdown",
   "id": "f251f7c9",
   "metadata": {},
   "source": [
    "#### Go to the QUAST directory and check the file content.\n",
    "\n",
    "#### Looking at the output statistics, what are the main differences between the assemblies?\n",
    "\n",
    "#### Look total sizes, number of contigs, N50 statistics.\n",
    "\n",
    "#### For your favorite clone what is the best one ?"
   ]
  },
  {
   "cell_type": "markdown",
   "id": "e54cf5cb",
   "metadata": {},
   "source": [
    "## <span style=\"color: #4CACBD;\"> 1.2  Comparison of the assemblies against the reference genome of closely organism (SEVERAL ASSEMBLIES!) </span>"
   ]
  },
  {
   "cell_type": "markdown",
   "id": "7f0309a7",
   "metadata": {},
   "source": [
    "It's possible to compare assemblies against the reference genome of closely related organism. \n",
    "\n",
    "In our case we will use the real dataset Hh. \n",
    "\n",
    "Previously calculated assemblies for Hh can be found in DATA/real_Hh/Hh-ASSEMBLIES (used CulebrONT)"
   ]
  },
  {
   "cell_type": "code",
   "execution_count": null,
   "id": "c8e2a20d",
   "metadata": {
    "tags": []
   },
   "outputs": [],
   "source": [
    "ls -lh ~/work/DATA/real_Hh/Hh-ASSEMBLIES"
   ]
  },
  {
   "cell_type": "markdown",
   "id": "d86ff5c7",
   "metadata": {},
   "source": [
    "### Compare Hh assemblies against the reference sequence using QUAST\n",
    "\n",
    "#### WARNING : This can take a while!! "
   ]
  },
  {
   "cell_type": "code",
   "execution_count": null,
   "id": "7b1578df",
   "metadata": {
    "tags": []
   },
   "outputs": [],
   "source": [
    "mkdir ~/work/RESULTS/AGGREGATED_Hh/\n",
    "cd ~/work/RESULTS/AGGREGATED_Hh/\n",
    "time quast.py /home/jovyan/work/DATA/real_Hh/Hh-ASSEMBLIES/*MEDAKA_STARTFIXED-CIRCULARISED.fasta -R /home/jovyan/work/DATA/real_Hh/REFH_M1C132.fasta -o QUAST_REF"
   ]
  },
  {
   "cell_type": "markdown",
   "id": "c482f4ba",
   "metadata": {
    "tags": []
   },
   "source": [
    "#### Which of the assemblies are closest in size relative to the reference ?\n",
    "\n",
    "#### Does this have the largest N50 and fewest number of contigs?"
   ]
  },
  {
   "cell_type": "markdown",
   "id": "07ff361a",
   "metadata": {
    "tags": []
   },
   "source": [
    "#### What assembly does obtain the best contiguity metrics?\n"
   ]
  },
  {
   "cell_type": "markdown",
   "id": "30db29bd",
   "metadata": {
    "tags": []
   },
   "source": [
    "## <span style=\"color: #4CACBD;\"> 2. Assessing gene space using BUSCO (REAL DATA) </span>\n"
   ]
  },
  {
   "cell_type": "markdown",
   "id": "ae690225",
   "metadata": {},
   "source": [
    "Benchmarking Universal Single-Copy Orthologs ([BUSCO](https://busco.ezlab.org/busco_userguide.html)) helps to check if you have a good assembly, by searching the expected single-copy lineage-conserved orthologs in any newly-sequenced genome from an appropriate phylogenetic clade."
   ]
  },
  {
   "cell_type": "markdown",
   "id": "84bbbda5",
   "metadata": {},
   "source": [
    "Calculate the gene space for each assembly"
   ]
  },
  {
   "cell_type": "code",
   "execution_count": null,
   "id": "ed5fd510",
   "metadata": {
    "tags": []
   },
   "outputs": [],
   "source": [
    "mkdir -p ~/work/RESULTS/AGGREGATED_Hh/BUSCO\n",
    "cd ~/work/RESULTS/AGGREGATED_Hh/BUSCO"
   ]
  },
  {
   "cell_type": "markdown",
   "id": "40200c0c",
   "metadata": {},
   "source": [
    "Lineage can be choose in busco database using --list-datasets parameter"
   ]
  },
  {
   "cell_type": "code",
   "execution_count": null,
   "id": "4851997d",
   "metadata": {
    "tags": []
   },
   "outputs": [],
   "source": [
    "# busco env\n",
    "conda activate busco"
   ]
  },
  {
   "cell_type": "code",
   "execution_count": null,
   "id": "7d69a0fd-5301-4237-95d1-bc670dbdbfc3",
   "metadata": {},
   "outputs": [],
   "source": [
    "busco --list-datasets"
   ]
  },
  {
   "cell_type": "code",
   "execution_count": null,
   "id": "f870bc44",
   "metadata": {
    "tags": []
   },
   "outputs": [],
   "source": [
    "ASSEMBLY=\"~/work/DATA/real_Hh/Hh-ASSEMBLIES/FLYE-STEP_CORRECTION_MEDAKA_STARTFIXED-CIRCULARISED.fasta\"\n",
    "LINEAGE=bacteria_odb10\n",
    "busco -i \"$ASSEMBLY\" -l \"$LINEAGE\" -c \"${CPUS:-8}\" -m genome -o BUSCO_RESULTS \n",
    "# deactivate busco env\n",
    "conda deactivate"
   ]
  },
  {
   "cell_type": "markdown",
   "id": "0b7b858a",
   "metadata": {
    "tags": []
   },
   "source": [
    "### What does the gene space look like for this assembly?"
   ]
  },
  {
   "cell_type": "code",
   "execution_count": null,
   "id": "589b0770-9160-4c1d-bb7d-6a9523110b36",
   "metadata": {},
   "outputs": [],
   "source": []
  }
 ],
 "metadata": {
  "kernelspec": {
   "display_name": "Bash",
   "language": "bash",
   "name": "bash"
  },
  "language_info": {
   "codemirror_mode": "shell",
   "file_extension": ".sh",
   "mimetype": "text/x-sh",
   "name": "bash"
  }
 },
 "nbformat": 4,
 "nbformat_minor": 5
}
