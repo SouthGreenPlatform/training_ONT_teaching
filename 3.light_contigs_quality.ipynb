{
 "cells": [
  {
   "cell_type": "markdown",
   "id": "67552fbb",
   "metadata": {},
   "source": [
    "\n",
    "# <span style=\"color:#006E7F\">__Introduction to Oxford Nanopore Data Analysis__ <a class=\"anchor\"></span>  \n",
    "\n",
    "\n",
    "Created by J. Orjuela (DIADE-IRD), F. Sabot (DIADE-IRD) and G. Sarah (AGAP-INRAE) - Septembre 2021 Formation SouthGreen\n",
    "\n",
    "Adapted by J. Orjuela (DIADE-IRD), F. Sabot (DIADE-IRD) - Novembre 2022\n",
    "    \n",
    "Adapted by J. Orjuela (DIADE-IRD) - mai 2023\n"
   ]
  },
  {
   "cell_type": "markdown",
   "id": "689c1b2d",
   "metadata": {
    "tags": []
   },
   "source": [
    "# <span style=\"color:#006E7F\">__TP3 - CONTIGS QUALITY__ <a class=\"anchor\" id=\"data\"></span>  \n",
    "    \n",
    "# <span style=\"color: #4CACBC;\"> 1. Perform a comparison of assemblies using QUAST</span>  \n"
   ]
  },
  {
   "cell_type": "markdown",
   "id": "a778bfc9",
   "metadata": {},
   "source": [
    "The metrics of assemblies can be evaluated using a quality assessment tool such as [QUAST](http://quast.bioinf.spbau.ru/manual.html).\n",
    "\n",
    "In part 2, we have assembled raw data using various assemblers and also polished and corrected it. \n",
    "\n",
    "Aggregate all assemblies you have produced for your sample in a new folder named \"AGGREGATED\".\n",
    "\n",
    "We're going to compare it with QUAST."
   ]
  },
  {
   "cell_type": "code",
   "execution_count": null,
   "id": "e448eb4f-2e13-4ada-969a-08772c33dcdc",
   "metadata": {},
   "outputs": [],
   "source": [
    "mkdir -p ~/work/RESULTS/AGGREGATED\n",
    "cd ~/work/RESULTS/AGGREGATED"
   ]
  },
  {
   "cell_type": "markdown",
   "id": "fe6ac271-8998-45f7-b9b5-9ad9d6316a9b",
   "metadata": {},
   "source": [
    "### Order assemblies obtained in the samples "
   ]
  },
  {
   "cell_type": "markdown",
   "id": "eb3f3d31-7cb4-4968-bb13-46d685040d34",
   "metadata": {},
   "source": [
    "#### sample 4222"
   ]
  },
  {
   "cell_type": "code",
   "execution_count": null,
   "id": "2ab80ab6-6f8d-4d8e-849c-22952c64521c",
   "metadata": {},
   "outputs": [],
   "source": [
    "ln -s ~/work/RESULTS/4222_FLYE/assembly.fasta 4222_FLYE.fasta\n",
    "ln -s ~/work/RESULTS/4222_FLYE_MEDAKA/MEDAKA_CONSENSUS/consensus.fasta 4222_FLYE_MEDAKA.fasta\n",
    "ln -s ~/work/RESULTS/4222_RAVEN/assembly.fasta 4222_RAVEN.fasta\n",
    "ln -s ~/work/RESULTS/4222_RAVEN_MEDAKA/MEDAKA_CONSENSUS/consensus.fasta 4222_RAVEN_MEDAKA.fasta"
   ]
  },
  {
   "cell_type": "markdown",
   "id": "3c3a0ae8-4607-4d47-997a-110964d21109",
   "metadata": {},
   "source": [
    "#### sample B8"
   ]
  },
  {
   "cell_type": "code",
   "execution_count": null,
   "id": "76d945f6-7aac-4523-93f6-0587f409c7f5",
   "metadata": {},
   "outputs": [],
   "source": [
    "ln -s ~/work/RESULTS/B8_FLYE/assembly.fasta B8_FLYE.fasta\n",
    "ln -s ~/work/RESULTS/B8_FLYE_MEDAKA/MEDAKA_CONSENSUS/consensus.fasta B8_FLYE_MEDAKA.fasta\n",
    "ln -s ~/work/RESULTS/B8_RAVEN/assembly.fasta B8_RAVEN.fasta\n",
    "ln -s ~/work/RESULTS/B8_RAVEN_MEDAKA/MEDAKA_CONSENSUS/consensus.fasta B8_RAVEN_MEDAKA.fasta"
   ]
  },
  {
   "cell_type": "markdown",
   "id": "68d9b023-7941-4196-a4ca-598685cf3702",
   "metadata": {},
   "source": [
    "#### sample G11"
   ]
  },
  {
   "cell_type": "code",
   "execution_count": null,
   "id": "f253b4f7-6d62-49e5-afaf-b23329bb5592",
   "metadata": {},
   "outputs": [],
   "source": [
    "ln -s ~/work/RESULTS/G11_FLYE/assembly.fasta G11_FLYE.fasta\n",
    "ln -s ~/work/RESULTS/G11_FLYE_MEDAKA/MEDAKA_CONSENSUS/consensus.fasta G11_FLYE_MEDAKA.fasta\n",
    "ln -s ~/work/RESULTS/G11_RAVEN/assembly.fasta G11_RAVEN.fasta\n",
    "ln -s ~/work/RESULTS/G11_RAVEN_MEDAKA/MEDAKA_CONSENSUS/consensus.fasta G11_RAVEN_MEDAKA.fasta"
   ]
  },
  {
   "cell_type": "markdown",
   "id": "23b3e1ad-5a00-4ef4-a1ec-af4b64e5cb6f",
   "metadata": {},
   "source": [
    "#### check symbolic links"
   ]
  },
  {
   "cell_type": "code",
   "execution_count": null,
   "id": "14784ede-a468-49c9-9d07-4c56104401fd",
   "metadata": {},
   "outputs": [],
   "source": [
    "ls -l ~/work/RESULTS/AGGREGATED"
   ]
  },
  {
   "cell_type": "markdown",
   "id": "1a5ccbc0",
   "metadata": {},
   "source": [
    "### <span style=\"color: #4CACBD;\"> 1.1  Run QUAST on CLONE assemblies and compare them </span>"
   ]
  },
  {
   "cell_type": "code",
   "execution_count": null,
   "id": "210bf799",
   "metadata": {
    "tags": []
   },
   "outputs": [],
   "source": [
    "cd ~/work/RESULTS/AGGREGATED/\n",
    "time quast.py *.fasta -o QUAST"
   ]
  },
  {
   "cell_type": "markdown",
   "id": "f251f7c9",
   "metadata": {},
   "source": [
    "#### Go to the QUAST directory and check the file content.\n",
    "\n",
    "#### Looking at the output statistics, what are the main differences between the assemblies?\n",
    "\n",
    "#### Look total sizes, number of contigs, N50 statistics.\n",
    "\n",
    "#### For each sample what is the best one ?"
   ]
  },
  {
   "cell_type": "markdown",
   "id": "e54cf5cb",
   "metadata": {},
   "source": [
    "### <span style=\"color: #4CACBD;\"> 1.2  Comparison of the assemblies against the reference genome of closely organism </span>"
   ]
  },
  {
   "cell_type": "markdown",
   "id": "7f0309a7",
   "metadata": {},
   "source": [
    "It's possible to compare assemblies against the reference genome of closely related organism. \n",
    "\n",
    "Use corrected assemblies and compare it with the reference genome"
   ]
  },
  {
   "cell_type": "markdown",
   "id": "d86ff5c7",
   "metadata": {},
   "source": [
    "### Compare best algae assemblies against the reference sequence using QUAST"
   ]
  },
  {
   "cell_type": "code",
   "execution_count": null,
   "id": "7b1578df",
   "metadata": {
    "tags": []
   },
   "outputs": [],
   "source": [
    "cd ~/work/RESULTS/AGGREGATED/\n",
    "time quast.py *MEDAKA*.fasta -R /home/jovyan/work/DATA/REF/GCA_002220235.1_ASM222023v1_genomic.fna -o QUAST_REF -t 8"
   ]
  },
  {
   "cell_type": "markdown",
   "id": "c482f4ba",
   "metadata": {
    "tags": []
   },
   "source": [
    "#### Which of the assemblies are closest in size relative to the reference ?\n",
    "\n",
    "#### Does this have the largest N50 and fewest number of contigs?"
   ]
  },
  {
   "cell_type": "markdown",
   "id": "07ff361a",
   "metadata": {
    "tags": []
   },
   "source": [
    "#### What assembly does obtain the best contiguity metrics?\n"
   ]
  },
  {
   "cell_type": "markdown",
   "id": "30db29bd",
   "metadata": {
    "tags": []
   },
   "source": [
    "## <span style=\"color: #4CACBD;\"> 2. Assessing gene space using BUSCO </span>\n"
   ]
  },
  {
   "cell_type": "markdown",
   "id": "ae690225",
   "metadata": {},
   "source": [
    "Benchmarking Universal Single-Copy Orthologs ([BUSCO](https://busco.ezlab.org/busco_userguide.html)) helps to check if you have a good assembly, by searching the expected single-copy lineage-conserved orthologs in any newly-sequenced genome from an appropriate phylogenetic clade."
   ]
  },
  {
   "cell_type": "markdown",
   "id": "84bbbda5",
   "metadata": {},
   "source": [
    "Calculate the gene space for each assembly"
   ]
  },
  {
   "cell_type": "code",
   "execution_count": null,
   "id": "ed5fd510",
   "metadata": {
    "tags": []
   },
   "outputs": [],
   "source": [
    "mkdir -p ~/work/RESULTS/AGGREGATED/BUSCO\n",
    "cd ~/work/RESULTS/AGGREGATED/BUSCO"
   ]
  },
  {
   "cell_type": "markdown",
   "id": "40200c0c",
   "metadata": {},
   "source": [
    "Lineage can be choose in busco database using --list-datasets parameter"
   ]
  },
  {
   "cell_type": "code",
   "execution_count": null,
   "id": "4851997d",
   "metadata": {
    "tags": []
   },
   "outputs": [],
   "source": [
    "# busco env\n",
    "conda activate busco"
   ]
  },
  {
   "cell_type": "code",
   "execution_count": null,
   "id": "7d69a0fd-5301-4237-95d1-bc670dbdbfc3",
   "metadata": {},
   "outputs": [],
   "source": [
    "busco --list-datasets"
   ]
  },
  {
   "cell_type": "code",
   "execution_count": null,
   "id": "f870bc44",
   "metadata": {
    "tags": []
   },
   "outputs": [],
   "source": [
    "ASSEMBLY=\"~/work/DATA/real_Hh/Hh-ASSEMBLIES/FLYE-STEP_CORRECTION_MEDAKA_STARTFIXED-CIRCULARISED.fasta\"\n",
    "LINEAGE=bacteria_odb10\n",
    "busco -i \"$ASSEMBLY\" -l \"$LINEAGE\" -c \"${CPUS:-8}\" -m genome -o BUSCO_RESULTS \n",
    "# deactivate busco env\n",
    "conda deactivate"
   ]
  },
  {
   "cell_type": "markdown",
   "id": "0b7b858a",
   "metadata": {
    "tags": []
   },
   "source": [
    "### What does the gene space look like for this assembly?"
   ]
  },
  {
   "cell_type": "code",
   "execution_count": null,
   "id": "589b0770-9160-4c1d-bb7d-6a9523110b36",
   "metadata": {},
   "outputs": [],
   "source": []
  }
 ],
 "metadata": {
  "kernelspec": {
   "display_name": "Bash",
   "language": "bash",
   "name": "bash"
  },
  "language_info": {
   "codemirror_mode": "shell",
   "file_extension": ".sh",
   "mimetype": "text/x-sh",
   "name": "bash"
  }
 },
 "nbformat": 4,
 "nbformat_minor": 5
}
